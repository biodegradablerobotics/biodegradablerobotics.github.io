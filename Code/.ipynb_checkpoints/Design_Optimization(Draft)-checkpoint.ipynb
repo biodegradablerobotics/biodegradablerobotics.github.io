{
 "cells": [
  {
   "cell_type": "markdown",
   "metadata": {},
   "source": [
    "1. Performance Measurement\n",
    "    a. Explain, in words, how your team will evaluate the success of your robot’s design. This could be by measuring the forces produced by your design, the speed at which it walks, its thrust:weight ratio, the height it can jump, etc. Explain, in words, how you will measure performance in simulation. How will you measure performance in experiments?\n",
    "    \n",
    "    To meas\n",
    "\n",
    "    b. Are experimental vs. simulation metrics similar or vastly different? If different, how will you equate  with ?\n",
    "\n",
    "    c. Do you have more than one performance metric you must use as for design goals? If so, either identify the most important one or explain how you will balance two competing criteria.\n",
    "\n",
    "    For example, if you need a robot to jump high AND far, which is more important, or how do you establish a relationship between these two possibly competing goals?\n",
    "\n",
    "    d. Explain, in math, the measurable performance metric(s) by which your team can estimate performance.\n",
    "\n",
    "    e. Write, in code, a function that will evaluate the performance of your current system (as simulated in System Dynamics II)."
   ]
  },
  {
   "cell_type": "code",
   "execution_count": null,
   "metadata": {},
   "outputs": [],
   "source": []
  }
 ],
 "metadata": {
  "kernelspec": {
   "display_name": "Python 3",
   "language": "python",
   "name": "python3"
  },
  "language_info": {
   "codemirror_mode": {
    "name": "ipython",
    "version": 3
   },
   "file_extension": ".py",
   "mimetype": "text/x-python",
   "name": "python",
   "nbconvert_exporter": "python",
   "pygments_lexer": "ipython3",
   "version": "3.7.9"
  }
 },
 "nbformat": 4,
 "nbformat_minor": 4
}

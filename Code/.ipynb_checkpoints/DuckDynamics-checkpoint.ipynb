{
 "cells": [
  {
   "cell_type": "markdown",
   "id": "social-lawyer",
   "metadata": {
    "id": "suspected-amateur"
   },
   "source": [
    "# Mallard Duck Wing Dynamics\n",
    "\n",
    "Team 3"
   ]
  },
  {
   "cell_type": "code",
   "execution_count": 1,
   "id": "related-newfoundland",
   "metadata": {
    "colab": {
     "base_uri": "https://localhost:8080/"
    },
    "id": "pi7Co6-jBLqJ",
    "outputId": "3e0b02e5-7b83-4a8a-fb4e-f100a21e47fb"
   },
   "outputs": [],
   "source": [
    "#pip install pynamics"
   ]
  },
  {
   "cell_type": "code",
   "execution_count": 2,
   "id": "sought-hacker",
   "metadata": {
    "id": "frequent-douglas"
   },
   "outputs": [],
   "source": [
    "%matplotlib inline\n",
    "import scipy.optimize\n",
    "import pynamics\n",
    "from pynamics.frame import Frame\n",
    "from pynamics.variable_types import Differentiable,Constant\n",
    "from pynamics.system import System\n",
    "from pynamics.body import Body\n",
    "from pynamics.dyadic import Dyadic\n",
    "from pynamics.output import Output,PointsOutput\n",
    "from pynamics.particle import Particle\n",
    "import pynamics.integration\n",
    "import numpy\n",
    "import sympy\n",
    "import matplotlib.pyplot as plt\n",
    "from matplotlib.patches import Arc\n",
    "plt.ion()\n",
    "from math import pi, sin, cos, tan, asin, acos, atan, degrees, radians, pi"
   ]
  },
  {
   "cell_type": "code",
   "execution_count": 3,
   "id": "loving-basics",
   "metadata": {},
   "outputs": [],
   "source": [
    "def prettyplot(x,y): # Function plots mechanism and generates labels\n",
    "    # Create Figure\n",
    "    Fig1 = plt.figure(figsize=[15,15])\n",
    "    ax = Fig1.add_axes([0.0, 0.0, 1.0, 1.0], aspect='equal')\n",
    "    \n",
    "    # plot links and joints\n",
    "    plt.plot(x[0:3],y[0:3],color='tab:blue')\n",
    "    plt.plot(x[2:5],y[2:5],color='tab:green')\n",
    "    plt.plot(x[4:],y[4:],color='k')\n",
    "    plt.scatter(x,y,color='k')\n",
    "    plt.axis('equal')\n",
    "    plt.xlim([-0.1,0.5])\n",
    "    \n",
    "    # label joints\n",
    "    for i in range(0, len(x)-1):\n",
    "        plt.text(x[i]-0.004, y[i]-0.004, \"p\"+str(i), verticalalignment='top', horizontalalignment='right', fontsize=14)\n",
    "    \n",
    "    # plot COMs\n",
    "    comx = [(x[0]+x[1])/2, (x[1]+x[2])/2, (x[4]+x[3])/2, (x[3]+x[2])/2, (x[4]+x[0])/2]\n",
    "    comy = [(y[0]+y[1])/2, (y[1]+y[2])/2, (y[4]+y[3])/2, (y[3]+y[2])/2, (y[4]+y[0])/2]\n",
    "    plt.scatter(comx,comy,color='k')\n",
    "    \n",
    "    # label COMs\n",
    "    linknames = ['A', 'B', 'C', 'D', 'E']\n",
    "    for i in range(0, len(comx)):\n",
    "        plt.text(comx[i]+0.004, comy[i], linknames[i], verticalalignment='bottom', horizontalalignment='left', weight='bold', fontsize=16)\n",
    "    \n",
    "    # label properties\n",
    "    propertynames = ['La', 'Lb', 'Lc', 'Ld', 'Le']\n",
    "    for i in range(0, len(comx)):\n",
    "        plt.text(comx[i]+0.016, comy[i], propertynames[i], verticalalignment='bottom', horizontalalignment='left', fontsize=14)\n",
    "    \n",
    "    \n",
    "    # plot frame axes\n",
    "    alen = 0.04    \n",
    "    plt.arrow(0, 0, alen, 0,head_width=0.008,width=0.0004,color='r')\n",
    "    plt.arrow(0, 0, 0, alen,head_width=0.008,width=0.0004,color='r')\n",
    "    vx = []\n",
    "    vy = []\n",
    "    for i in range(1, len(x)-2):\n",
    "        if i <= 2: \n",
    "            vecx = numpy.array([x[i]-x[i-1], y[i]-y[i-1]])\n",
    "            vecx = vecx/(vecx.dot(vecx)**0.5)\n",
    "            vecy = numpy.cross([0,0,1], vecx)[0:2]\n",
    "            plt.arrow(x[i], y[i], alen*vecx[0], alen*vecx[1],head_width=0.008,width=0.0004,color='b')\n",
    "            plt.arrow(x[i], y[i], alen*vecy[0], alen*vecy[1],head_width=0.008,width=0.0004,color='b')\n",
    "            vx.append(vecx)\n",
    "            vy.append(vecy)\n",
    "        if i >= 2:\n",
    "            vecx = numpy.array([x[i]-x[i+1], y[i]-y[i+1]])\n",
    "            vecx = vecx/(vecx.dot(vecx)**0.5)\n",
    "            vecy = numpy.cross([0,0,1], vecx)[0:2]\n",
    "            plt.arrow(x[i], y[i], alen*vecx[0], alen*vecx[1],head_width=0.008,width=0.0004,color='g')\n",
    "            plt.arrow(x[i], y[i], alen*vecy[0], alen*vecy[1],head_width=0.008,width=0.0004,color='g')\n",
    "            vx.append(vecx)\n",
    "            vy.append(vecy)\n",
    "\n",
    "    # label frames\n",
    "    lablen = 0.06\n",
    "\n",
    "    plt.text(x[0]+0.06, y[0], 'Nx', verticalalignment='center', horizontalalignment='center', color='r', fontsize=14)\n",
    "    plt.text(x[0], y[0]+0.06, 'Ny', verticalalignment='center', horizontalalignment='center', color='r', fontsize=14)\n",
    "    \n",
    "    plt.text(x[1]+lablen*vx[0][0], y[1]+lablen*vx[0][1], 'Ax', verticalalignment='center', horizontalalignment='center', color='b', fontsize=14)\n",
    "    plt.text(x[1]+lablen*vy[0][0], y[1]+lablen*vy[0][1], 'Ay', verticalalignment='center', horizontalalignment='center', color='b', fontsize=14)\n",
    "\n",
    "    plt.text(x[2]+lablen*vx[1][0], y[2]+lablen*vx[1][1], 'Bx', verticalalignment='center', horizontalalignment='center', color='b', fontsize=14)\n",
    "    plt.text(x[2]+lablen*vy[1][0], y[2]+lablen*vy[1][1], 'By', verticalalignment='center', horizontalalignment='center', color='b', fontsize=14)\n",
    "\n",
    "    plt.text(x[3]+lablen*vx[3][0], y[3]+lablen*vx[3][1], 'Cx', verticalalignment='center', horizontalalignment='center', color='g', fontsize=14)\n",
    "    plt.text(x[3]+lablen*vy[3][0], y[3]+lablen*vy[3][1], 'Cy', verticalalignment='center', horizontalalignment='center', color='g', fontsize=14)\n",
    "\n",
    "    plt.text(x[2]+lablen*vx[2][0], y[2]+lablen*vx[2][1], 'Dx', verticalalignment='center', horizontalalignment='center', color='g', fontsize=14)\n",
    "    plt.text(x[2]+lablen*vy[2][0], y[2]+lablen*vy[2][1], 'Dy', verticalalignment='center', horizontalalignment='center', color='g', fontsize=14)\n",
    "\n",
    "    # plot angles\n",
    "    Aang1 = 0\n",
    "    Aang2 = degrees(atan(vx[0][1]/vx[0][0]))\n",
    "    ax.add_patch(Arc((0, 0), 0.04, 0.04, theta1=min(Aang1, Aang2), theta2=max(Aang1, Aang2), edgecolor='k', linewidth=0.0006, label='q1'))\n",
    "\n",
    "    Bang1 = degrees(atan(vx[0][1]/vx[0][0]))\n",
    "    Bang2 = degrees(atan(vx[1][1]/vx[1][0]))\n",
    "    ax.add_patch(Arc((x[1], y[1]), 0.04, 0.04, theta1=min(Bang1, Bang2), theta2=max(Bang1, Bang2), edgecolor='k', linewidth=0.0006))\n",
    "\n",
    "    plt.plot([0,0.04],[0.04,0.04],color='k',linewidth=1)\n",
    "    Cang1 = 0\n",
    "    Cang2 = degrees(atan(vx[3][1]/vx[3][0]))\n",
    "    ax.add_patch(Arc((x[4], y[4]), 0.04, 0.04, theta1=min(Cang1, Cang2), theta2=max(Cang1, Cang2), edgecolor='k', linewidth=0.0006))\n",
    "\n",
    "    Dang1 = degrees(atan(vx[3][1]/vx[3][0]))\n",
    "    Dang2 = degrees(atan(vx[2][1]/vx[2][0]))\n",
    "    ax.add_patch(Arc((x[3], y[3]), 0.04, 0.04, theta1=min(Dang1, Dang2), theta2=max(Dang1, Dang2), edgecolor='k', linewidth=0.0006))\n",
    "\n",
    "    # label angles\n",
    "    plt.text(x[0]+0.032*cos(radians((Aang1+Aang2)/2)), y[0]+0.032*sin(radians((Aang1+Aang2)/2)), 'qA', verticalalignment='center', horizontalalignment='center', fontsize=14)\n",
    "    plt.text(x[1]+0.032*cos(radians((Bang1+Bang2)/2)), y[1]+0.032*sin(radians((Bang1+Bang2)/2)), 'qB', verticalalignment='center', horizontalalignment='center', fontsize=14)\n",
    "    plt.text(x[4]+0.032*cos(radians((Cang1+Cang2)/2)), y[4]+0.032*sin(radians((Cang1+Cang2)/2)), 'qC', verticalalignment='center', horizontalalignment='center', fontsize=14)\n",
    "    plt.text(x[3]+0.032*cos(radians((Dang1+Dang2)/2)), y[3]+0.032*sin(radians((Dang1+Dang2)/2)), 'qD', verticalalignment='center', horizontalalignment='center', fontsize=14)"
   ]
  },
  {
   "cell_type": "markdown",
   "id": "preceding-flavor",
   "metadata": {},
   "source": [
    "1. Scale: Ensure your system is using SI units. You should be specifying lengths in meters (so millimeters should be scaled down to the .001 range), forces in Newtons, and radians (not degrees), and masses in kg. You may make educated guesses about mass for now."
   ]
  },
  {
   "cell_type": "markdown",
   "id": "bottom-stream",
   "metadata": {},
   "source": [
    "All units are in SI"
   ]
  },
  {
   "cell_type": "markdown",
   "id": "corrected-beast",
   "metadata": {},
   "source": [
    "2. Define Inertias: Add a center of mass and a particle or rigid body to each rotational frame. You may use particles for now if you are not sure of the inertial properties of your bodies, but you should plan on finding these values soon for any “payloads” or parts of your system that carry extra loads (other than the weight of paper)."
   ]
  },
  {
   "cell_type": "code",
   "execution_count": 4,
   "id": "fitting-welding",
   "metadata": {},
   "outputs": [],
   "source": [
    "# Create a pynamics system\n",
    "system = System()\n",
    "pynamics.set_system(__name__,system)"
   ]
  },
  {
   "cell_type": "code",
   "execution_count": 5,
   "id": "placed-bahamas",
   "metadata": {},
   "outputs": [],
   "source": [
    "# Declare constants\n",
    "lA_num = 0.2\n",
    "lB_num = 0.2\n",
    "lC_num = 0.22\n",
    "lD_num = 0.2\n",
    "lE_num = 0.04\n",
    "\n",
    "lA = Constant(lA_num,'lA',system)\n",
    "lB = Constant(lB_num,'lB',system)\n",
    "lC = Constant(lC_num,'lC',system)\n",
    "lD = Constant(lD_num,'lD',system)\n",
    "lE = Constant(lE_num,'lE',system)"
   ]
  },
  {
   "cell_type": "code",
   "execution_count": 6,
   "id": "middle-internship",
   "metadata": {},
   "outputs": [],
   "source": [
    "# Dynamics Parameters\n",
    "mA = Constant(1,'mA',system)\n",
    "mB = Constant(1,'mB',system)\n",
    "mC = Constant(1,'mC',system)\n",
    "mD = Constant(1,'mD',system)\n",
    "\n",
    "preload1 = Constant(0*pi/180,'preload1',system)\n",
    "preload2 = Constant(0*pi/180,'preload2',system)\n",
    "preload3 = Constant(0*pi/180,'preload3',system)\n",
    "preload4 = Constant(0*pi/180,'preload4',system)\n",
    "\n",
    "Ixx_A = Constant(1,'Ixx_A',system)\n",
    "Iyy_A = Constant(1,'Iyy_A',system)\n",
    "Izz_A = Constant(1,'Izz_A',system)\n",
    "Ixx_B = Constant(1,'Ixx_B',system)\n",
    "Iyy_B = Constant(1,'Iyy_B',system)\n",
    "Izz_B = Constant(1,'Izz_B',system)\n",
    "Ixx_C = Constant(1,'Ixx_C',system)\n",
    "Iyy_C = Constant(1,'Iyy_C',system)\n",
    "Izz_C = Constant(1,'Izz_C',system)\n",
    "Ixx_D = Constant(1,'Ixx_D',system)\n",
    "Iyy_D = Constant(1,'Iyy_D',system)\n",
    "Izz_D = Constant(1,'Izz_D',system)"
   ]
  },
  {
   "cell_type": "markdown",
   "id": "muslim-newport",
   "metadata": {},
   "source": [
    "6. Tuning: Now adjust the damper value  to something nonzero, that over 10s shows that the system is settling."
   ]
  },
  {
   "cell_type": "code",
   "execution_count": 7,
   "id": "detailed-administration",
   "metadata": {},
   "outputs": [],
   "source": [
    "g = Constant(9.81,'g',system)\n",
    "b = Constant(1e1,'b',system)\n",
    "k = Constant(1e1,'k',system)"
   ]
  },
  {
   "cell_type": "code",
   "execution_count": 8,
   "id": "oriented-genre",
   "metadata": {},
   "outputs": [],
   "source": [
    "# Integration Tolerance\n",
    "tol = 1e-12"
   ]
  },
  {
   "cell_type": "code",
   "execution_count": 9,
   "id": "awful-implementation",
   "metadata": {},
   "outputs": [],
   "source": [
    "# Time\n",
    "tinitial = 0\n",
    "tfinal = 10\n",
    "fps = 30\n",
    "tstep = 1/fps\n",
    "t = numpy.r_[tinitial:tfinal:tstep]"
   ]
  },
  {
   "cell_type": "code",
   "execution_count": 10,
   "id": "corrected-pound",
   "metadata": {},
   "outputs": [],
   "source": [
    "# Create differentiable state variables\n",
    "qA,qA_d,qA_dd = Differentiable('qA',system)\n",
    "qB,qB_d,qB_dd = Differentiable('qB',system)\n",
    "qC,qC_d,qC_dd = Differentiable('qC',system)\n",
    "qD,qD_d,qD_dd = Differentiable('qD',system)"
   ]
  },
  {
   "cell_type": "code",
   "execution_count": 11,
   "id": "adaptive-provision",
   "metadata": {},
   "outputs": [],
   "source": [
    "# initial values\n",
    "# qC = 11.97 creates fully extended, horizontal wing\n",
    "initialvalues = {}\n",
    "initialvalues[qA]=0*pi/180\n",
    "initialvalues[qA_d]=0*pi/180\n",
    "initialvalues[qB]=0*pi/180\n",
    "initialvalues[qB_d]=0*pi/180\n",
    "\n",
    "initialvalues[qC]=11.97*pi/180\n",
    "initialvalues[qC_d]=0*pi/180\n",
    "initialvalues[qD]=0*pi/180\n",
    "initialvalues[qD_d]=0*pi/180"
   ]
  },
  {
   "cell_type": "code",
   "execution_count": 12,
   "id": "bigger-performance",
   "metadata": {},
   "outputs": [],
   "source": [
    "# Retrieve state variables in the order they are stored in the system\n",
    "# Create a list of initial values ini0 in the order of the system’s state variables\n",
    "statevariables = system.get_state_variables()\n",
    "ini = [initialvalues[item] for item in statevariables]"
   ]
  },
  {
   "cell_type": "code",
   "execution_count": 13,
   "id": "employed-annotation",
   "metadata": {},
   "outputs": [],
   "source": [
    "# Create frames\n",
    "N = Frame('N')\n",
    "A = Frame('A')\n",
    "B = Frame('B')\n",
    "C = Frame('C')\n",
    "D = Frame('D')"
   ]
  },
  {
   "cell_type": "code",
   "execution_count": 14,
   "id": "studied-import",
   "metadata": {},
   "outputs": [],
   "source": [
    "# Declare N as the Newtonian (fixed) frame\n",
    "system.set_newtonian(N)"
   ]
  },
  {
   "cell_type": "code",
   "execution_count": 15,
   "id": "threatened-going",
   "metadata": {},
   "outputs": [],
   "source": [
    "# Rotate other frames about their local Z axes.\n",
    "# Not global q\n",
    "A.rotate_fixed_axis_directed(N,[0,0,1],qA,system)\n",
    "B.rotate_fixed_axis_directed(A,[0,0,1],qB,system)\n",
    "C.rotate_fixed_axis_directed(N,[0,0,1],qC,system)\n",
    "D.rotate_fixed_axis_directed(C,[0,0,1],qD,system)"
   ]
  },
  {
   "cell_type": "code",
   "execution_count": 16,
   "id": "remarkable-equilibrium",
   "metadata": {},
   "outputs": [],
   "source": [
    "# Define rigid body kinematics\n",
    "# position vectors\n",
    "p0 = 0*N.x #Normal\n",
    "p1 = p0 + lA*A.x #Link A\n",
    "p2A = p1 + lB*B.x #Link B - OUTPUT\n",
    "p4 = p0 + lE*N.y #Link E\n",
    "p3 = p4 + lC*C.x #Link C\n",
    "p2C = p3 + lD*D.x #Link D - OUTPUT"
   ]
  },
  {
   "cell_type": "code",
   "execution_count": 17,
   "id": "tender-moses",
   "metadata": {},
   "outputs": [],
   "source": [
    "# CoM vectors\n",
    "pAcom=p0 + lA/2*A.x #Link A\n",
    "pBcom=p1 + lB/2*B.x #Link B\n",
    "pCcom=p4 + lC/2*C.x #Link C\n",
    "pDcom=p3 + lD/2*D.x #Link D"
   ]
  },
  {
   "cell_type": "code",
   "execution_count": 18,
   "id": "african-algorithm",
   "metadata": {},
   "outputs": [],
   "source": [
    "# Angular Velocity\n",
    "wNA = N.getw_(A)\n",
    "wAB = A.getw_(B)\n",
    "wNC = N.getw_(C)\n",
    "wCD = C.getw_(D)"
   ]
  },
  {
   "cell_type": "code",
   "execution_count": 19,
   "id": "creative-champagne",
   "metadata": {},
   "outputs": [],
   "source": [
    "IA = Dyadic.build(A,Ixx_A,Iyy_A,Izz_A)\n",
    "IB = Dyadic.build(B,Ixx_B,Iyy_B,Izz_B)\n",
    "IC = Dyadic.build(C,Ixx_C,Iyy_C,Izz_C)\n",
    "ID = Dyadic.build(D,Ixx_D,Iyy_D,Izz_D)\n",
    "\n",
    "BodyA = Body('BodyA',A,pAcom,mA,IA,system)\n",
    "BodyB = Body('BodyB',B,pBcom,mB,IB,system)\n",
    "BodyC = Body('BodyC',C,pCcom,mC,IC,system)\n",
    "BodyD = Body('BodyD',D,pDcom,mD,ID,system)\n",
    "#BodyC = Particle(pCcm,mC,'ParticleC',system)"
   ]
  },
  {
   "cell_type": "markdown",
   "id": "characteristic-stanley",
   "metadata": {},
   "source": [
    "3. Add Forces: Add the acceleration due to gravity. Add rotational springs in the joints (using k=0 is ok for now) and a damper to at least one rotational joint. You do not need to add external motor/spring forces but you should start planning to collect that data."
   ]
  },
  {
   "cell_type": "code",
   "execution_count": 20,
   "id": "natural-conservative",
   "metadata": {},
   "outputs": [
    {
     "data": {
      "text/plain": [
       "<pynamics.force.Force at 0x1b863250610>"
      ]
     },
     "execution_count": 20,
     "metadata": {},
     "output_type": "execute_result"
    }
   ],
   "source": [
    "# Forces\n",
    "system.addforce(-b*wNA,wNA)\n",
    "system.addforce(-b*wAB,wAB)\n",
    "system.addforce(-b*wNC,wNC)\n",
    "system.addforce(-b*wCD,wCD)"
   ]
  },
  {
   "cell_type": "markdown",
   "id": "consistent-blade",
   "metadata": {},
   "source": [
    "7. (Optional): Adjust joint stiffness values so that your system looks more realistic."
   ]
  },
  {
   "cell_type": "code",
   "execution_count": 21,
   "id": "relevant-martin",
   "metadata": {},
   "outputs": [
    {
     "data": {
      "text/plain": [
       "(<pynamics.force.Force at 0x1b863254d30>,\n",
       " <pynamics.spring.Spring at 0x1b863258b80>)"
      ]
     },
     "execution_count": 21,
     "metadata": {},
     "output_type": "execute_result"
    }
   ],
   "source": [
    "# Spring Forces\n",
    "# Not global q\n",
    "system.add_spring_force1(k,(qA-preload1)*N.z,wNA) \n",
    "system.add_spring_force1(k,(qB-preload2)*A.z,wAB)\n",
    "system.add_spring_force1(k,(qC-preload3)*N.z,wNC)\n",
    "system.add_spring_force1(k,(qD-preload4)*C.z,wCD)"
   ]
  },
  {
   "cell_type": "code",
   "execution_count": 22,
   "id": "center-thailand",
   "metadata": {},
   "outputs": [],
   "source": [
    "# Gravity\n",
    "system.addforcegravity(-g*N.y)"
   ]
  },
  {
   "cell_type": "markdown",
   "id": "wanted-preservation",
   "metadata": {},
   "source": [
    "4. Constraints: Keep mechanism constraints in, but follow the pendulum example of double-differentiating all constraint equations.\n",
    "If you defined your mechanism as unattached to the Newtonian frame, add enough constraints so that it is fully attached to ground (for now). you will be eventually removing these constraints."
   ]
  },
  {
   "cell_type": "code",
   "execution_count": 23,
   "id": "periodic-kazakhstan",
   "metadata": {},
   "outputs": [],
   "source": [
    "# Constraints\n",
    "eq_vector = p2A-p2C\n",
    "eq = []\n",
    "eq.append((eq_vector).dot(N.x))\n",
    "eq.append((eq_vector).dot(N.y))\n",
    "eq_d=[(system.derivative(item)) for item in eq]\n",
    "eq_dd=[(system.derivative(item)) for item in eq_d]"
   ]
  },
  {
   "cell_type": "markdown",
   "id": "revolutionary-sector",
   "metadata": {},
   "source": [
    "5. Solution: Add the code from the bottom of the pendulum example for solving for f=ma, integrating, plotting, and animating. Run the code to see your results. It should look similar to the pendulum example with constraints added, as in like a rag-doll or floppy"
   ]
  },
  {
   "cell_type": "code",
   "execution_count": 24,
   "id": "functioning-washington",
   "metadata": {},
   "outputs": [
    {
     "name": "stderr",
     "output_type": "stream",
     "text": [
      "2021-02-27 20:42:19,576 - pynamics.system - INFO - getting dynamic equations\n"
     ]
    }
   ],
   "source": [
    "# F=ma\n",
    "f,ma = system.getdynamics()"
   ]
  },
  {
   "cell_type": "code",
   "execution_count": 25,
   "id": "mediterranean-fundamental",
   "metadata": {},
   "outputs": [
    {
     "name": "stderr",
     "output_type": "stream",
     "text": [
      "2021-02-27 20:42:19,750 - pynamics.system - INFO - solving a = f/m and creating function\n",
      "2021-02-27 20:42:19,752 - pynamics.system - INFO - substituting constrained in Ma-f.\n",
      "2021-02-27 20:42:19,903 - pynamics.system - INFO - done solving a = f/m and creating function\n",
      "2021-02-27 20:42:19,904 - pynamics.system - INFO - calculating function for lambdas\n"
     ]
    }
   ],
   "source": [
    "# Acceleration\n",
    "func1,lambda1 = system.state_space_post_invert(f,ma,eq_dd,return_lambda = True)"
   ]
  },
  {
   "cell_type": "code",
   "execution_count": 26,
   "id": "vietnamese-newfoundland",
   "metadata": {},
   "outputs": [
    {
     "name": "stderr",
     "output_type": "stream",
     "text": [
      "2021-02-27 20:42:19,921 - pynamics.integration - INFO - beginning integration\n",
      "2021-02-27 20:42:19,921 - pynamics.system - INFO - integration at time 0000.00\n",
      "2021-02-27 20:42:20,245 - pynamics.system - INFO - integration at time 0009.72\n",
      "2021-02-27 20:42:20,251 - pynamics.integration - INFO - finished integration\n"
     ]
    }
   ],
   "source": [
    "# Integrate\n",
    "states=pynamics.integration.integrate(func1,ini,t,rtol=tol,atol=tol, args=({'constants':system.constant_values},))"
   ]
  },
  {
   "cell_type": "code",
   "execution_count": 27,
   "id": "elementary-water",
   "metadata": {},
   "outputs": [
    {
     "data": {
      "text/plain": [
       "<matplotlib.legend.Legend at 0x1b8632aeb50>"
      ]
     },
     "execution_count": 27,
     "metadata": {},
     "output_type": "execute_result"
    },
    {
     "data": {
      "image/png": "[encoded data removed]",
      "text/plain": [
       "<Figure size 432x288 with 1 Axes>"
      ]
     },
     "metadata": {
      "needs_background": "light"
     },
     "output_type": "display_data"
    }
   ],
   "source": [
    "# Outputs\n",
    "plt.figure()\n",
    "artists = plt.plot(t,states[:,:3])\n",
    "plt.legend(artists,['qA','qB','qC','qD'])"
   ]
  },
  {
   "cell_type": "code",
   "execution_count": 28,
   "id": "partial-mississippi",
   "metadata": {},
   "outputs": [
    {
     "name": "stderr",
     "output_type": "stream",
     "text": [
      "2021-02-27 20:42:20,413 - pynamics.output - INFO - calculating outputs\n",
      "2021-02-27 20:42:20,421 - pynamics.output - INFO - done calculating outputs\n"
     ]
    },
    {
     "data": {
      "image/png": "[encoded data removed]",
      "text/plain": [
       "<Figure size 432x288 with 1 Axes>"
      ]
     },
     "metadata": {
      "needs_background": "light"
     },
     "output_type": "display_data"
    }
   ],
   "source": [
    "# Energy\n",
    "KE = system.get_KE()\n",
    "PE = system.getPEGravity(p0) - system.getPESprings()\n",
    "energy_output = Output([KE-PE],system)\n",
    "energy_output.calc(states)\n",
    "energy_output.plot_time()"
   ]
  },
  {
   "cell_type": "code",
   "execution_count": 29,
   "id": "cordless-hollywood",
   "metadata": {},
   "outputs": [
    {
     "name": "stderr",
     "output_type": "stream",
     "text": [
      "2021-02-27 20:42:20,521 - pynamics.output - INFO - calculating outputs\n",
      "2021-02-27 20:42:20,529 - pynamics.output - INFO - done calculating outputs\n"
     ]
    },
    {
     "data": {
      "image/png": "[encoded data removed]",
      "text/plain": [
       "<Figure size 432x288 with 1 Axes>"
      ]
     },
     "metadata": {
      "needs_background": "light"
     },
     "output_type": "display_data"
    }
   ],
   "source": [
    "# Motion\n",
    "points = [p0,p1,p2A,p3,p4]\n",
    "points_output = PointsOutput(points,system)\n",
    "y = points_output.calc(states)\n",
    "points_output.plot_time(20)"
   ]
  },
  {
   "cell_type": "code",
   "execution_count": 30,
   "id": "molecular-replica",
   "metadata": {},
   "outputs": [
    {
     "data": {
      "image/png": "[encoded data removed]",
      "text/plain": [
       "<Figure size 432x288 with 1 Axes>"
      ]
     },
     "metadata": {
      "needs_background": "light"
     },
     "output_type": "display_data"
    }
   ],
   "source": [
    "# Motion Animation\n",
    "points_output.animate(fps = fps,movie_name = 'render.mp4',lw=2,marker='o',color=(1,0,0,1),linestyle='-')"
   ]
  },
  {
   "cell_type": "code",
   "execution_count": 31,
   "id": "critical-butterfly",
   "metadata": {},
   "outputs": [
    {
     "data": {
      "text/html": [
       "<video width=\"432\" height=\"288\" controls autoplay loop>\n",
       "  <source type=\"video/mp4\" src=\"data:video/mp4;base64,AAAAIGZ0eXBNNFYgAAACAE00ViBpc29taXNvMmF2YzEAAAAIZnJlZQAAr5ltZGF0AAACrgYF//+q\n",
       "3EXpvebZSLeWLNgg2SPu73gyNjQgLSBjb3JlIDE2MSByMzAzMyAwZDc1NGVjIC0gSC4yNjQvTVBF\n",
       "Ry00IEFWQyBjb2RlYyAtIENvcHlsZWZ0IDIwMDMtMjAyMCAtIGh0dHA6Ly93d3cudmlkZW9sYW4u\n",
       "b3JnL3gyNjQuaHRtbCAtIG9wdGlvbnM6IGNhYmFjPTEgcmVmPTMgZGVibG9jaz0xOjA6MCBhbmFs\n",
       "eXNlPTB4MzoweDExMyBtZT1oZXggc3VibWU9NyBwc3k9MSBwc3lfcmQ9MS4wMDowLjAwIG1peGVk\n",
       "X3JlZj0xIG1lX3JhbmdlPTE2IGNocm9tYV9tZT0xIHRyZWxsaXM9MSA4eDhkY3Q9MSBjcW09MCBk\n",
       "ZWFkem9uZT0yMSwxMSBmYXN0X3Bza2lwPTEgY2hyb21hX3FwX29mZnNldD0tMiB0aHJlYWRzPTkg\n",
       "bG9va2FoZWFkX3RocmVhZHM9MSBzbGljZWRfdGhyZWFkcz0wIG5yPTAgZGVjaW1hdGU9MSBpbnRl\n",
       "cmxhY2VkPTAgYmx1cmF5X2NvbXBhdD0wIGNvbnN0cmFpbmVkX2ludHJhPTAgYmZyYW1lcz0zIGJf\n",
       "cHlyYW1pZD0yIGJfYWRhcHQ9MSBiX2JpYXM9MCBkaXJlY3Q9MSB3ZWlnaHRiPTEgb3Blbl9nb3A9\n",
       "MCB3ZWlnaHRwPTIga2V5aW50PTI1MCBrZXlpbnRfbWluPTI1IHNjZW5lY3V0PTQwIGludHJhX3Jl\n",
       "ZnJlc2g9MCByY19sb29rYWhlYWQ9NDAgcmM9Y3JmIG1idHJlZT0xIGNyZj0yMy4wIHFjb21wPTAu\n",
       "NjAgcXBtaW49MCBxcG1heD02OSBxcHN0ZXA9NCBpcF9yYXRpbz0xLjQwIGFxPTE6MS4wMACAAAAS\n",
       "YGWIhAA3//728P4FNjuY0JcRzeidMx+/Fbi6NDe9zgAAAwAAN9zmRP7KkwbmwAAC4AAJ4RFZbT4R\n",
       "kT/AA2pC5SnB5ammPyUZ4IP+FnwIrZlm0Pmb+SNxfB7rLvrZDsnN4NQJUwjRpC5SwGmquzD2TFi0\n",
       "/14O/OjJMPl32MMZOyDDWvdWkFCNL0q2W73XDESB0iDs0bhBaLrUZY7702FfPXjH3FbcUFL9GeWE\n",
       "x6wC7vcANNZTT/ddaWCfttmoqpfh7gYS4s8GjRPfHvNDbtbD16nSeQetPHOXHJhDsUiIoOT/8k8+\n",
       "amnvChUlRxY0zeuyBm0cBxx3LzfZVRk0DnIoWR+f3XAEjrw0Z/Cc/YvBEYQ5hvJc7Z3M96ZGVeLG\n",
       "YdS1DAAeXnEF22vT9Ylb/lNzRBmphqu/T8aPqnTlAutDAdmaTSOVFsCZtaJBL5oBU/zXYR5VTCed\n",
       "6pO167VIcFM7CcJYaiOISMhEA9HWbOwk3CIb8MVIyOZebYyxwzOF5RStD1guqd+B4eYcOgNDSmS0\n",
       "Z8Goa+2PMtbBqz1pqXSvvhuoGyEOYCbshnzO3CosgPKHJtx3lEJFxSDaggMJh7/BtCsinOE99ZLr\n",
       "Ya0IBInbfZIY5LTCz5PtXHwfKaI3s38y8hGqV1wcrZw6frW+LuR9kielTN5FtwQHA7gIa1aYZNF2\n",
       "g5xuDopf3UUr8c46iNe5DCvy9Le62Zb17oejwXy2eLL5hO6JBt1868pPRQytmRu86HUIr5OB9MYm\n",
       "cheHjJZVsOW0MhrK5nIZHUwS9T70ex7pk/dfFkLgaj9X7h2LowWYQgsj5ZqMogFe9dX5FOqHi29f\n",
       "eQtBVKEeb6wkiIfndRA4A6pEmIb14ZwVxNgPPO0NxJNPwwOuQ7MOHzjLo6kYoIPBhjcF4BsD7huY\n",
       "AjyGqfj5G1eWDJxZNobkp2fycN/wymDW/QEet4IBP5qz7RE/zSiz9r/IYfb69qqo52UfNaksUbQh\n",
       "ADxIaHt03cdKRlCljzoIW2pxg3jyezwZMsXesZQTjqqm8dhU44DNDjr7fd8d3U5zuP2yx2A5IwwU\n",
       "wNHgB1IrF0KSNw6OvKmIhJPAFBrIcRI47Bxm+TVjFM7W07eo7FbFNHqnAF7mEvNCOwGSmatGexpv\n",
       "/5lTzXXkPOnMwPsTiTWvlSOrsRZVfx7PuMNBMfMMawkeNQXqvhn+adPhLKoPlVHf29b7tv8z6vbD\n",
       "MnacyIIIh9UYS6LtZjXkpbxDt+4QryU+njI8tKz/iicBX7/CzH0MhELKGn48lf+9aFOe/fHB/6wB\n",
       "beAMKOTe6hwnqogz4g7L9Q0uRcvtpSCSd/hPryay0rCuaM0XlRz0v66fffmZiRmrklDT/Pmci2Ht\n",
       "7plomSdFTQOGKayOchUcOHm9smyDq/o10aDzFyOVY2kA3YwIyNWicX/qDeOX0LOAJfPAJ9P4uPuG\n",
       "Z8VmgWhzxAXA8fuahXMUW2n8lMvW8FuNLjo559IorYWdrR8Nz8Hx0rDyxpkZ2g6qiN3o2Mw3Wb7s\n",
       "A2GOJTSS7qXSrmZkspuFng2yRo7VOZkwVq+vCnSspV/MN+I+lcz8cZzOwndSeshUrHmG/DXMmqy5\n",
       "a69gVPwKjMTEpdb/IWlRBn9Kku4XAjpbmzN/NDJGU9U3Re0fKbe5rb3O/ajNYNRFDROZ0DqMkH74\n",
       "ymwSd5yerZfr1mWrvnCpF4F2Ue1KjVycKbzASyWz0byEcXn8kquM88CQUTCpBUh9DfuJlcD0X0NW\n",
       "FnD5beiMAvkGD+ZOjot32y7Xn7nv4gYwINbbNJlTeadSksXHM81TxR3uWRXbBm7vR6SEARvtnw8m\n",
       "NVzmIYxxM7rh/xvrAjjZXdbd6dAMz1Rkwh+4bhPA7Abs8IBaBPLdTplAinUyy0TLkKGVXRyLLKz+\n",
       "klprZ4DY1KWPS9WS/+Vfo7k6tbfb8BBxm4FwIrLHD4WDBdQxu3lgqScMSqcHA9t/m3q49rswFKlQ\n",
       "eukreb54j5V9J//YLcwlhm2XIJevL0vCO1O3rUhazQuFw9SVRYqmsFnMFcVEyT8DUHDqyN9uvEFG\n",
       "qK95fQBHaTDPAS0g9YS1NL84EXBu/tfrUo4Pqb0ULNHNRJ/J2zPtwRN7ud8gMmB18XPoaXjKxYEs\n",
       "3jsq/tXFaCMM0W1QCiFTwY2PGeHYzFPN5HHcixR/6C6YSgr8SM3p2ybS1yyAcQUH5IKaoyP94+j5\n",
       "+pGRy73FsvVFrJsOJoGO9vQNwFFXChEOVdC9BPayYwlVIomw8875eL+FaGjz/H0/mAdyehulpiQu\n",
       "Ph88RVVo/mE2JGGxcTQFH3Sncbw9IOrzZ8oFRplkD4tncYosl3CJdGMFbyjL5L/B4T5jbC5aYb3f\n",
       "wAIWiq/3U89jgPgtYMONDqLO6l1xXn4wxn70xogSvHekaMyv4GDQU1ma78X/RcFGqQYuYGZd3wiG\n",
       "UThmFr5Yn0l9PM+Q8660lfXbTwQiS5qX4u64TpHThdkHXN59m4PfxIjWFLu63Bb8O3FGUdBtiYWU\n",
       "a02sSpbwXPZwACmPdEl93WG48loSM638JFDWLNKtJNQ3EdE1/3ZCvM/OTL93uAiGz4hHI/qve8+9\n",
       "5qn4xc4rWte3cuZ/wmQxJKq7omnqwnBDBP2RzrdNl/6NY/HzmT5SCLQNXLZ7Ie7WEJ7YMMiA5cSP\n",
       "+UuqKqP6TR8MhlDdc7CbcRLn2pKkOnH+az7QPVytX4PBongCDPulsxfReG/j+gqUvKubaWspqvqW\n",
       "3sPw4XxRE0STOtoWizvvotGOTeeOyMFuPfdtnvJK44pta4RgAfgJV08RvDfxXq/lHT8Z3ZIphwR7\n",
       "y0TSCQwZJwJFF5xBO//PV1/MdmVqg9VTJ2Ei0Ek91ZoikgzpBvys4ZgWxiaUGDfkcSYuWk6GGVPL\n",
       "YazAulli7jTCEjjPrpYySCs+FzVvh4BW7Bto5AQdBEYVM6QBvQzGWA40HJI9aAV6kr/vyoXTDjhh\n",
       "mi0sKkno2TAq2jvpr1bbW7PNzNFlvp+yuEG0wri9z6R1Cs5yhv2sT17S7S8LMdiIzq4hZ6l9EzkX\n",
       "cHgB57D/gI2C/d+MovL6BDqkxsRkaGdcX9EQkCIcPzB9G6dGPTgBwCHp5s/KTvGgYTL5Jzm7AhCm\n",
       "unlbWmMOKsegIPjNfGi/pCffkbpIzxBOW/s8uT9NscKsRfzdJqA2kGJOXMnP+8173v7LjoxIgpOl\n",
       "qQEVCbq5Lzt2FuNKAlTkm/5veC/ERMlO5gYjFsBYf0F/tfOVnbYtGcESrG21bMqbjH/KYpD8fVKE\n",
       "qvOj/ieqPq50tKws7e/SiUdBZhqOmo+EnA8u5Y+wbkFnoaCNnBVxC4CsWGUPAPf0pmwkFJj9SrRe\n",
       "P40ayIwbhbNWILWQokxoZtRQ2dtUO7N0a4Hs9SQ7HUmYcFLVmKEXhi9jsR7p18qbyRJ9Us2zfze9\n",
       "3xqpapgj5sdBUy+PUuC2yjsiHyy+v0S+koYUfMjSsGxxpGLyt9Btb2gnoBu6npqnZ7vSelahJlhz\n",
       "Zlm0c3JAj3MxRDPmsAMGA81a/93lLoub3C/8mwhb/uAz1/Bz6Nx2z3iIpvEf4nfekBMMpHwSqjuo\n",
       "f5uDWQ8dBI5+Ggpy+77ka5pySxP85fhGNqIX1zS+ViRc34tani5uMilB+M5zMTrBJpyJupXTLpK1\n",
       "UCNcTFYE69G6lUbB68EpHAggGM/6s7yiKIF7vBsMRJmNtWTBlCelsI0sLNjREv7CmUPS1bT3yYxD\n",
       "cE0BIObe8gZmJNG8E0n9PEjCnhjy1euPyaLUCNs/OM2ttXgD0IKdu0N+0gqL/EyYhrlfyHmnACnm\n",
       "Yw5j/mrPMpHHv/ImDWcSDhZm+WX0HbC3lOChSBGaTjrPZ8F66H1UUX4imghOEpU1t5v06AcgLa7r\n",
       "H7G4Cjf7OAITXi8Og0Xy7ao+93XX/cHp9FJiLd1T/Ik6V4tpcM0euelSdo90VqAY8Nbjma+09+aE\n",
       "9ucUlO6bxI5tbWex5eyNptaqtqrmYvXpdWJ2jgjYGRAxX4sGSNZfBXoWn219SnCju5ABNagRMfTa\n",
       "lvyGDWnvprCgNwZoCNJcUD+gVC+BeiAZyy+8+/YaRwGLEAypGIrirT5owvQV3oPhf9RtB30Lu0lP\n",
       "ZydAqDlvynGGJFij1qX4i9zMBCrb44BP8BVvF+3sNUqGcXfCDWvwLMc0UKc083q2uD4BEII2rHce\n",
       "CYQWDrBWTEcGuxH7W+un7DTAHIVe2CjpIqq635XZpgyD56DfOGQ8ZxHw9FtMpcq0HNX3lOqryUdT\n",
       "JkS5ZIyj3xHtJt/lXmoO4VFh8YbE3Q/DSp3BEE9Uykc129CPbNR4nLA4TtPBEdUhPBc8V0wTQF7K\n",
       "AdbvgE/D9ORipvGyW8qaS+d4Nkhpuwk9BDLvpO9PcAACgVFVutysZycH4NL+t5O+i0wv/YOyGIK/\n",
       "Sh5q6FZl4slWL7As0R4vW67M4cVqA27Rg9D+uHa4MxHQ3L0A8rlhn8gjSJbM8QZJ/Hmhnbr7n/mU\n",
       "f/L8tN2+0wktzih1m6nEWlTe6uw2lK39RIaXlFb3J48epnGeUOKLAnf7u2wwYiZ0S37D74n/YEuH\n",
       "uniiOmOluMZn5NwScF6b6DjkgLesc1bGmyS9vAyd5JNQ8zB5fFJzLsTGajYVVFWTtRSnuSLN8D0H\n",
       "koRwGxNfn6hbULHVmgaKfGFGuD1dZgs0SZ/nIiAQCDhUfm/8ODjw8iektmGQFKwpI0aTXsziMJ3W\n",
       "8CJwaIRJ+yq4deorPrxNR9oVO6BL3Og1xIl46P+cCY1p63Q6dhPZqUyJtFPPukffYNlVEVBnbweV\n",
       "Jauyptiw7vu3tvBVCmNdQbnUoHnUxJJsc0kJ9xlSfgqTJe9+GW2+Je/Zbjz/zggUjLmV0Q5Tp6JV\n",
       "kOgdR2ZRmc2xFLKCHP+g0kqrq6iZbLs4OVLMq40DJbmoRKo/f1qNdfO+0YhsZI/4g7g5FOZFAEaK\n",
       "76KSEdatH0yqYyWFgRDwHmpz6h+5UQg8GZ+s2SAh/3c1n5hW72moTqsjHVt2hLyHLduMmkV1ysDr\n",
       "b5j5c2g4Il2ysMP78ikN/SuUmEta33HfF4RE7gFdeuonDJB8gO0vRMdiD/zkW78702GYHCtqr4O9\n",
       "U3xTrjEjLPzZkSbBIruwsCCB8Av0ApNuZLglR7lWjr+03H6Mw8YjTPmXyX7994ykRp2BwMLpwHKU\n",
       "MruMhsCsH7HeAmotvJcghutwsHjD+DjNB1vKG0aHteNyRvdT5Gm1xrlfCA22/VDnTSiDZAphjo+O\n",
       "1UEFeySVX5/UOM9z0fZnZRCEp5E7mTmX1UxCnY+0SlX1a2V+mmOK4S07JbtZT0ny1VFIXPbIi7fd\n",
       "VV0HFknCiYaBWV/MwsiYdomkOsu610W3db5HfTXggZ9WivJlh1dAhgRkxRaE5Sgyh2aEPRkhqChk\n",
       "yz3I5ZZCMILdbRUh4HFMqZ/HkrqEkbq4Az2KJGBMh5I28upqweQH3R8L/IE4EB1Jvd3Fvus3OLQc\n",
       "pcEXRj/56EF//wkNjNe/UNJhf5iGzpzHP8sirEZeoh8qIqVwZbfyXcTKKl84IVsVWeviycjzMdqc\n",
       "Jzw+GHb1hWbDM5r/N+8NdG/2yOvqN+ki3p7iylA82d0o83Tqawwjnqtw9r7RIIQ2OwIlOxi9Vfbc\n",
       "0whG3Afw4tWsuOsh6EtXqKs+Usw/KH5+AxrskMiuVUxnSc4gFSwpZ17f1wMTYTvtBtBF+TP9zhCx\n",
       "UV5tMxJB397UFoU9mWm2o+4pwHPrp+oE5n5MMn6KO42+oxwP9QVDt7VQPT0ITfZySOPBf+H3j8ZB\n",
       "ZAN61wrrBXKU9WVyZQAC7baG29cAIUr7AAc26N9Eug0byhQvO4JQ2yPcjqD0nRXRNsR9bpddfbxs\n",
       "SeifcNwLUFBFw/8oRezAxrm25ASUB9sYR/BtkUQv5mK/E7bXncTxgrcHj8xRuOybFIGwdZ+KuKzC\n",
       "yy65qfkPbgtC0vtDzUei0sdhlpwlvf1kYqXbzPNzxfTicz9O+ng/FI+L/vEGVZEJ1h5gopH0fzYa\n",
       "H6NJNZlXAmjYIe0Xzf1OABSZeS1HtV45Cx1z0CKXEo5jTGoRoyoaPYOg1cKByEsyNCa1aMiotIak\n",
       "OuIjbGHb4LxMBAlI5G3XoW5rga6hfBbGbyFv+2BLoqwcZI6OTfzDo4Z+eGU0uj2nESRS7of4c2He\n",
       "uxv2NfMn+Iu0/mRKYLOs8iTB4rEPr6KkRQf8BNcIFnaKx10N1G6m5VHILpIPOaOP3LJvwyOdZdRJ\n",
       "1/hXuZEh5IqE75yT/Z1dlOsCxwcdutMoCBYQAAAR8QAAAhJBmiRsQ3/+p4QALZv77ghOwEsKiOdc\n",
       "XI+qeP8kurHe+fkd5EIDltf5ZwzsjWfkMJx8zQX36Mzt05F6H81TsskOdMGNWmGXyZWKmOIohak5\n",
       "8Bics9Mr+FL28jg9Hr+xs7CzDpGFENawO+Jtzjp8BRDJRtqLIyEgt9KJqRk/LgcRVugZ28m6uXbX\n",
       "tE2daRQPWQMrNG/nMukSjO0ntwNXxnJGCuveYLD6fApn2WhILu7o8pM65gn/R11eSmN6aW/dwqx5\n",
       "ewLO0mJNWNbTNq7XLJuMQWNs17CZ7CcoUca4QMksFSc8Fvt2IMymNphyAuGWvRTq3orjuLQWuG/2\n",
       "NBobvBdGmSBp7r9BfI7OrT1/Lz/xuZNbjUHxLBxljhygCMJwI6ZmnF/bfZupyH0UH2ND9WiUCpgm\n",
       "jPNF8dmTEWQyoz+wYpysmEMJUyTZLSJRvOZAHcDROtmqFhvZHgotRvFxajNBWa8SCCx2Mg9OJlh8\n",
       "wlPLwPaR/v/jUkoHdb2+aZ2DZpaR651klN/aK2QziV/oi0/FQnp0yv9IPtD8b6qJGgmDvSTKEDFU\n",
       "+cZjTol8wj7ywMVaqc5+rBA/iibpe5J8pguAYkCqBLKqeEWa2BUbI8i7n3LXppsq3GOUurGoo7VL\n",
       "9aLB5GfmEmCliE6Izqn6nNxB8b11pLA1KzdrbtySP/W5YSLMXjFupV/DHf2VojvUrpyBqQAAAJJB\n",
       "nkJ4hX8ALzngWSmNupNO/EAJ2X6k8a2T4JwKMKD2hFoO721vqEE3dDsJWYi7pobOx/ut6Ttail4v\n",
       "DYyzNAgDN9RzAkxOffqJevJM4jr2hNOMzrVrflOhjxc81TL69eGBEkb8DVoymUSPlEcKCuG9yVri\n",
       "BI1D7LTS6yv6ODRjitXxr5ryGMiJQst7kUFRzCg+YQAAAEcBnmF0Qn8APCTwn6IST0MeAzJqwTVm\n",
       "Xp8HL9zT73xlDCzULfdsAmqmmi1heu8dRyj0GLIEnVjjhEHjHFsLR5bS/EvYG5DekAAAAFIBnmNq\n",
       "Qn8APCTwn3c0Oeg4mbxwj8puzjl29Kq5hNHHVIrDuToJHV/Fq+GiwNZ97R83tUau3fW7vx+lRewK\n",
       "nA8SCP8PrNDAAkuhxAp6VMIuiEXBAAAB7kGaaEmoQWiZTAhv//6nhAArIAc0WBfklwAc2OXvhsST\n",
       "X7WUQ+rfzftqV8/clYcm5rMPnmnytj5YFhVXuRN8jQneu9L5h3CxmMaPhAFlbRVmnLdLyP+IDAoG\n",
       "XUKQaFdKNkk/Nveu70UcHuCGAFb3qjKu5fKZ7HWGIu8dTG/ImxlO9WXqSyf9Z0NuV5ocaBMa59uc\n",
       "ap0WMHp8KZwYWxOa3JAtWVWUQc4tXRRU3e97+WMQB0lWfdM9I3jTpq61cyMzbUBJB14vp2OM44CV\n",
       "jHEnSWDKx49XmNK4EUFkSlA/zHzcd99i/ptEENLUGa1JXbAHoalBCMBp4jfmVLooBG8CV4FxyhY2\n",
       "RYTtWYLozv2unzam1T/IRIBfn7A2R3c4eywrgUfkoOHCq7N43vA2HOgWofsQei5TvTkB/K5kbeZE\n",
       "b5F38qybaBKEMLAaA2FY89Wl5agAeIxo8qjmRpjZZMiLwy9Woq+jNkEI7z8M9PXzLcMKTO0zwXbu\n",
       "xImstdos0E34pckmKquOGt6X0Uch81fTRY9WjyyNriDGg9VpIqwuhXHqDz3VORj0G1Be8IPiT0K3\n",
       "WU+h5XA67CGGZGnMwC82AsX62oPyaz9Q2x9wYo5BxC2pMvgHlwyQxCDGkpY3G2YKG6OHutzeSyLH\n",
       "oUU9BjRdAAAAe0GehkURLCv/AC854Fla0YxOc5qACdmmL6Zi0rObuVriJVN1u5Jhxx+asBfOEzXH\n",
       "xqKAxFyOrvXi6DuutIzPjdjw0ZanOh4NvRA/Os5GhPVSL3MtbzGXC1zY8dASx15g7NyPScQ3q+jQ\n",
       "B9JKe6M3ElO9gLfSfwUTQQDFgQAAAEYBnqV0Qn8ALXFwxV82goKA6bU927617SwioWglDb0d79MP\n",
       "AOhjy7z8761tcFixZhR2AW46yXpryWMab8L+YiGx4oPEQnN7AAAARQGep2pCfwA8JPAIss66+h0H\n",
       "TOhroPX3pVHbBNEPVhr1zDq6smoSH/Z1w0ruNQNq0vFtSs25HViBmVQz9u0AGz5JRpAk4AAAAfRB\n",
       "mqxJqEFsmUwIb//+p4QAKfievqIADsz1Rq490lLsjbAW4rA6dsYdDbuRlw0VUxjNlwOpn4ZaDJ9p\n",
       "EqEXiZTWWoXpX40nZ4dpf9gdq9ZvLD/7A+B3zDvXPwBgTQjrwSINGQ/rsVL0ija1gOo2GrTezZ1O\n",
       "rx/qR4XB2RLXDesJrRIQ1LbAI77lMDHYkMOD+4fN7Xp+8EDlrrrW7kgrdftMYMbx/3qBnQtGeyHF\n",
       "cdY4irwPnzznuDWQ9N5g7yJiqHfLbJAm6FS2PDSOk8qGDNWjFq6Wo0vbJJw5tRbJ2PB66k1fEWc1\n",
       "RpXd7wNtVMnUBn1f+IHPldpuBdD0mnKHYUnO8sm7hK0xgkBcZow/4aP1wiDcx9lbvtQwiuAiEKd6\n",
       "u760ltCAfiX9dfP52jytyFAWoSW727T/OAQrnxTMJAYMGn+Z5TtdlX0FBRX62ctxjpD3yZDcdBa3\n",
       "0HySnthrNl8B/sovjZE3g0aWxcUmgtHEOvcyyp3OWeL3J57a1J9HCCPZEpL0O0hz91OUfExqbIDD\n",
       "hMfhGWmvYMkxEM+x5QDZIYHLGTuV1QIKrhhHzP7miQIPNUxnIgBxbRRtBFyXPc25zjV7PRsAYzwv\n",
       "g3nx+cl61cJf5fSEbja7FPR05j0bBEn05IW1OSh4Br5h/j9Vr4jnxQu7egAAAJhBnspFFSwr/wAv\n",
       "OeBNHTABdAzzrIaX8wg7zRXCf6h2xXHUsF4wY6CmyosIl1QrepsUmZ/6g5hEo9RS1F4FHDAgMA/z\n",
       "T2zNSG0VYNbhVqGnFyUHMoSfwp6A0DgisR6oD7dVDyartmVPbytnRrXN0KEm4/3N42b4OqLVVMXu\n",
       "VaNRIOYHN136rMtQcgWFVYNCIMdAAA4RFkIZswAAAE8Bnul0Qn8ALEjUdOaC2brevUKvqNScWQzk\n",
       "DfwcOi2AcFzm7v9+mAcG+0NC5vK681e5JdslYWMmcXhJn6EaXCq8zTjeiyLpjoYIIoJmR9nAAAAA\n",
       "UwGe62pCfwAsTOO1fXPx+h3kNNDCouerFB9B+Zgvji8AIU7iSLvxNILhB3VwyRdTri409qilWRpb\n",
       "88IHIqBEHiLm3LzOpYJ9QnIhXpa/1VtUXzi4AAABu0Ga8EmoQWyZTAhv//6nhAAp+JtaEHpRlJUd\n",
       "kYLgzY++P9qFfPqy5IBzgZsZ31HGrCBq/dUrDJmeFehESXVHZUSS5qdNEw6dvJnXFFefxGKd0bE5\n",
       "E4h7Q1vSVFQo53npEi9pnQ+LpY09F/DH+bWInhzn+aGr1Dn48WDjS62lPMw450dKsSUyCIOWoCCM\n",
       "JSEl6L5vsE17mQbheqd94d9Y8Ty1SO7q9iAv6k2CAn0AgwQecg75OFuAAA9/+4owvfJqGcsFYtjL\n",
       "F8SyUHzRgecZTDxsg7lZJZ0ZTFuxdX5fUMpS949+zmZAmCUfAN3z1+6c+YJRUt52roBBW2w8cOpF\n",
       "6YAeFrCsLR2OIZFamPXfKlq/Q1/kbYwVmFcgIzMvkiL6PnqfteOUS3+48GhVWp3hF+cuytzAGBpD\n",
       "fHLrbuhIhWzIXt9lx0znaxf4pokEJkFf7bEKZxBMGPdh+446GR9hyJ/JM3pzP3B8E1p1btO7fFVD\n",
       "NsxUkTtImClNn1GU4blqmPNQTgkZXPxt32+PLIji3W/Lmo5NLuRo9ved7tdMYYmS4PIBR7FIle5U\n",
       "Dv/vXdzmSVClr9wpgRqxwQIPAAAAj0GfDkUVLCv/AC854EvGnFujxmagoxmnaEe7yNEsj5sAIwMY\n",
       "5lwQnVnscdfgsnhQ9VLVKwTQ0hjrpickU8CH3hyECveodkYPE1W7yEimQX3xcqP+o5/HEngBxkNL\n",
       "wqQY0AS4gBg288WfX/pg6WP9jscoN6eH/0x116fDkqfhO0/LfOw5XtDA9BSqt9ygADqhAAAARQGf\n",
       "LXRCfwAsSNVjxEe8NlJySJ26w/vhilFT4ARBwM9I1mTywQb594UBlQP1wazHX7FVnlP0iM/8qJ34\n",
       "8ITSCqICeNBnwQAAAEcBny9qQn8AGYHWv7P4TamQOp7+JbuEZyAEQIkdJCFRyBc7Fz9rzGDOJKok\n",
       "UqWs/MqMfNICp+hUcduAwC7uoCwrK/6qQEJDPgAAAZBBmzRJqEFsmUwIb//+p4QAGltRBrpY4PuR\n",
       "b0rA+19UrAojva8M7qSYjVmYmrCnEFK1eLEYA2HqjJSBajdL6hv7fwmqn1uu2TJJafZj5RWp2oQl\n",
       "alAwYmrtcWmb+E+zZn9iBB+mO8dEm0MoTd1cRU8/haWCA3IEUwiP1JAfArhJ0E4bfGWTeI6tO/Xw\n",
       "yMbFKhC1jRcRdtuQultpd9tH6pN6Kv5j8YQCMWUwOZPMe3pkatWAE2cVW8Ff0THldaPM8HLyK3oY\n",
       "r5tDJi12ihfTjwgIGnimlmOdnnwlN1kEPtKKCZ9mYbxWNL5L6uEvijp6ZgYe8C05KBavYn+eC3nz\n",
       "ZhTwP1Z1TrElTM3XP0YuvTxO7PGRJRh5a3HOJDkolh/C2z2Wt9XAnxZqdjn52UMQCwvEw1cXLph8\n",
       "vv09Vdanl8LdQmK6+UdGOsaDtCsbcYMFE6glu36EZXbqgwYo+7h/MSTEAoUXNEEvN17a7h8LxjAl\n",
       "Y3Z13NlJBaG15dmm3URcgxeOnh0tD1vLmR/jzImE9DXsAAAAb0GfUkUVLCv/AC/WGj93WY5HLDmF\n",
       "IRBMOhOO8uf0UoAWL+cUSGYpF2RleRRyX/wxJphmSQADa4CwE5Xfe93iFsQa3FOmiSMma6+pw7Ez\n",
       "HwPOrrFVBtmN0lekeFSE1rjg84WFirrYchND7YzNfjgFDQAAAEwBn3F0Qn8AGb9JV0xve/pbSRY9\n",
       "Gh7DtAA2Vx0xred3E5+hZObFGOSszokLLtB1kiihhx3WsJxctXxxpyhcMkRHqjaJdZBFqkYAAHVA\n",
       "AAAAPwGfc2pCfwAX5lhdyOvrGxqswAhF/LqT+Fy4bH+0Kc3f8R+AWjQvR6TY3JlTiDf3wW8vAYrL\n",
       "7SsF/25lWZQDFgAAAYJBm3hJqEFsmUwIb//+p4QALDittF6fXZxVAp3WrgwZ5XGeawACurVKVvH+\n",
       "+T/nns6AIfDnrpuHb2idhq+FaIjqhxuhVGDA/pqccOsIfUZtrWspc8yp06Z/aCbVwVr5HlXNKj3R\n",
       "fT+48jIL2bc3z9p0U2HXtP2LEKtmVMM4eCMBsR9m47EHcpyRwTzKfsh9qeEyWcieM7nbMTJfS2J4\n",
       "dCMAgiHywK8QXG+VxjFSo++r7K+I71lv3QJw1L6+NuYnvn6zluzoFUxCYkeRt0bDxqe9Q9ASx35D\n",
       "gs+qpCWEVkxBOsDYb5KfnEAlxfE1dhbGT5q+E2aofDkkY8xPuAhSiuA+H1sG45Lqn6KHZDstY9md\n",
       "HLBWGW/UFpOicQWcFk0q/8oysbCzKK4kATtgAABPJQiXy/Ez1Vdm/8dHdRz+dSmDMM4KAAmd21s6\n",
       "+1l2wz+0+0/SOQf8a10pIJUgg0P8z+hqXGB+8qpjAnEDxj6QvO4ylPv9t1NoI1zrZBbJmTfcD6IV\n",
       "sQAAAKtBn5ZFFSwr/wAv1hotEcePBHrpTTqkj8gBbw5tpUC+TLM5wBMAO/pmy8e0fxLW2GhieMdV\n",
       "tBcG8Jptdc30jRpBWBkJNf+DqSndfqNPRKqUfyq7NjxF7+LfwBXkz1D3gDCQTdopVkn6Z+L5m1iL\n",
       "RMptvTNhHh4Hbh5N2Rm1Ogcubo8/GrAA5W6rfNVFS8JhcWMCXrGKllyKClQdfx8SaCgc8VA+0lMl\n",
       "TX0ARcAAAAA3AZ+1dEJ/ABkkGvCW0rrPvtCuhiPu1OF0stT46W6pTo1XuwI394p4J3/v4xUKsvop\n",
       "Uv3yIneRHwAAAEgBn7dqQn8AGRcwJyyAQax7ieQhmswAIfKiFfkt4enMGXWvnktpFlS3EltI/Y6/\n",
       "gwicJKq/sgZc3wp2EjzBTbgA5ewSRJr6BG0AAAHIQZu8SahBbJlMCG///qeEACtfH7Qf9fOtx1SY\n",
       "ly0Fw2/IBgvGfeUxsKDRAfN8/zfOLXUC0tEvBKVSJ/k4/94/l7OWB5lMMJAlAbuFK9YTS6MyizPj\n",
       "mDiOfUJd5U6cCDmOWksWdjm+4QTmM2lse4r1mRH/tUt+k6+oM4+HGJUAkyoK/HxmdOBnwVQn06HT\n",
       "nf5lhxJYhMZzDtIuwKRJyp877FO1mNPG3uoTjrtYPczWtKHiM3P4Vum8EKgUqGfpOSqCyik7MfXW\n",
       "PBJYS8lKZjxVDo4xIX/H5+7J380oJlnaQfuGY3xa6kpwLxWfJaF6v/7r+c5DNrlCq/nwRnEm/fAU\n",
       "IDVyDqTXGXc1CbWr33RgTkc7P1L3gTqz0LDHAj3lk2m+njdrf+ir2+0YrKYRVypMqmciYLFrOgcA\n",
       "ow/wH0c0OEimsf4K5e+aJf76SS6DeCHRO20/9sRNXZ7WFqeOwm8C+gkDnHeQDEsbmTTUA1x1LldX\n",
       "yluUtpF3Ry0BVLlmM1cqtWCsjgiXycISY3yyT1K8hvY8Pg+F+hv+1a41isUiw0cbuFQoKWW0pAum\n",
       "wbHH8fwBLw5R4NxLqOcYtcj0PRjhnmRGupNbglDAAAAAbEGf2kUVLCv/AC/WGiijx0mu8gLAy1Mt\n",
       "OjWoLlKsW/Q17HUWUqZLCm2UwLb9LylFrPm7P1Ods4MD3u7+rTLlaBzsC+E/dxErSnLH2+SmbtKU\n",
       "ACuPjAIXxior1HyHHLUL7lfxg0YM7wlieSQHTQAAAEIBn/l0Qn8AF93XC0VxW8RNzNgA+3umHnal\n",
       "zvI7GeaQutdbaRjbBgbFK3+N+z10UQVoB5XhdDxr6e1RUyWXQBBoLaAAAABDAZ/7akJ/ABfe9aul\n",
       "4uexWcbAB9vcw8ULuFAb/VqYFX2WUpt1JHUjLQk9moNJ/rLMaTqnvUjTJxK7IITKHby1soAPSQAA\n",
       "AZFBm+BJqEFsmUwIb//+p4QAFqxQLh+agI9B+Sogq8CwAZXmqzyBKV6uQFHEjqAKasVrgSrc8vsp\n",
       "ujZUsVon6BK/8/oSIQLh3U/5v1uyXMcsHJbKtcwzqYUjoNUKRo+q+E+CDWnB5u64UEkeqZ6xqG6k\n",
       "mNgpcY9ryC+nvhEd+nOvJB/WLixhUp/A9eWkZ1Rk3XH6zaaT321Ren81jx45TEIm/jHuMkiA+pxv\n",
       "8B39Xt11RW9Rh7qaUtrFoeO+O/rs7y8AltyHCfMUHE7bXyoItEDvkIXtB8h1NmDUqJRjOJuWLlZr\n",
       "vNbxtf87U7LIBY7kSSHkwdD1lcDQOTjKimv/o9P5HFdlb67iRBeJcgInn6iNgp6z2bRj7zna7FWW\n",
       "nRIOdf8odvpH/R/Zjl6FbxHnO0qm6Bc7SMbH3C/ULtNyeTd0xC5B1JazVUMloSdR2CD4QSVA5tA7\n",
       "bj8+L/AGAYmyZmVZEGoVV2u9zq1SfusLLQAvipD8LiqrQCgQnRVj2RdJSyJGRK8e9GSYoigFN0JA\n",
       "R/8jUwAAAJhBnh5FFSwr/wAv1hoot+rVFFtv8FOXHRApNjd8VL37H9PDs3mEX5ZzSSeBg2FFvZHq\n",
       "Ah7KX9K+jfQcn8S0Wgn5fdcDppNvUpnVWz2RAftSocymWladZINQixVMRLEMvRIevwCupDNxS144\n",
       "ghZbbvNMI+kkKxceTjLKtdB3+1dmFm2nP9E/64eIW3Xou7ZV5YEluaL7omAM+AAAAEwBnj10Qn8A\n",
       "F93Rp0VxevIPJVbwHQAQCZNawNWksmAYPu85iTtgtGVzSKjthiBcDpc03CZBIcLin99863WAw2LX\n",
       "Sv9bwhSR2TRkoAOmAAAAVAGeP2pCfwAXSorkfDa3D8+BABCL2KmuLndC7JGaBrrscf/xXGyEJmus\n",
       "+ItMFZ98P/J27GxloO13eonY0McvNQnxCtNW1gjtzC/KPbiF4jhsivQ+YQAAAVBBmiRJqEFsmUwI\n",
       "b//+p4QAKj8ftEaSNnjmI7mpA/gRYPBTXGwUeQgDgbORe06QEgxxGD97Qac6MDDhAjwlLEJwMwP5\n",
       "ymQm7ICOMoZwkG/Y+7OGNVEL9Kvcoyfqvs5S/uco7sKAsLY+VCHm8wYEVnki8UkbdDptq6KoyMDu\n",
       "O0klSSu9K0jSoJ81oKJROltNxi40+1pGGmoqZbcZW4Y2ur2au1IWk+OYzTEf0Jps271tzxI7RyxU\n",
       "Xo/2MXsH0kHUm8VzYArAB5jqTKa9sG3OdMdI5yDPKvE9ZU5N3hhIGNQgWDAU4o8sb7TVsL84FGXN\n",
       "APY4quubPxY4kxQi1veadE2eqW7nidV0NQ/XlaLGcuQp9tPTjj6uORRAldLUmUdkMPxEZ1V5cNIM\n",
       "Ys3BjCv+SApDh+C256U7B2xh3dCNan2eG9oJR7iwQwSIma+ieTna64AAAACrQZ5CRRUsK/8AL9Ya\n",
       "NiM+468QwFUcCOAIBiaGl5N+d6gQYMqljhMtAIHsS9fLoxgh/04FxeSuoov8m5aGQHmVv9ojzaOR\n",
       "3nTpyaqTFFioGk21OMx/o1Jk4MPfl32F187HSnB1kPy8btzCibaZf+BO1O57ajQ2FEgwTJ1NwB7W\n",
       "/93XcveSrW0vdTs1YC5jkKJQjP4kFKpRuRzL+Nn475xj1+nWcaBaJA+sygJPAAAAPwGeYXRCfwAX\n",
       "Q0O/cyiBiaIAIdfY3K3C66oaoBjp1S+ZNx1i05rNfHLpKMCe8r68bcG8ZQFoRoFGiCNr4KkNWAAA\n",
       "AFQBnmNqQn8AF+EyGakaCOtgBCL5uHC6SHGEXFtOJzDUcuViZnUXjzJELS816K2icAsv13CnwTVQ\n",
       "8oVO11kZwymVHpYQnfygBMwLKgSqdUTeZuUqA2cAAAFMQZpoSahBbJlMCG///qeEABY/78A7e3We\n",
       "1LjmPCMqkszURo5X7OqGz/iCQaSJH8D6GSAFlY9RSSiRimLsm8W6nOI/sG1fnJ8nsNw5vYpal8C6\n",
       "XkK+77oRzmtFR7eajulyrxJ6sTOBTbveq59QDR7PmwH957w3o1XnatLvu3CG2Dy9vtpvY3LCFT2D\n",
       "ii1ZCGS5Lccfr3/ESeb4UW7JLXha8M18sy587N3AEik5RIHzm8xiBt+JL0yPDrKvDAuxgAPirVuz\n",
       "uuUsieJ52KftWij06EO39K7R73puOiTHNdeTDQjOu9cSuiQyaIr21Rbrm7SWME067qxIposnZtR0\n",
       "JSE11IQlZrntif7YrudxGbB+DLqHNeezt6mt+CjBHteqc9fgU/iaJHrSSSQgVOx7q8hbIKCW6cxO\n",
       "ly7Cprcqe48outCCLzn2DsI7Wjs0VDEAAACHQZ6GRRUsK/8AL9YaMdCewIG9Sauf0ACtjXaOOuq1\n",
       "TfdI4kMgdRIIp3p0Xo/3SnStNp0iH51KgFi5krJkk1TqtS8H2OT8jKK42sCxZorWMD7i263XAbBa\n",
       "2NjfMvefgjp9Zo3czX6B/FwNmbNv7OBUpkXcQ6AiT+mQsPnZ1nwkwRKUXThffIG9AAAAVQGepXRC\n",
       "fwAWs0gIdLnOQATrJeR7J2swXodtbs8CfNiOjnBBWjJunn8XpuR3QlhHRAshCiHT2Ieooet5CSKf\n",
       "qBOadvxMD+j37xiwLJfdmXaVzqVuDFkAAABqAZ6nakJ/ABknm6UpWr1gFoAPQzE8w+4Xb8t0HYfP\n",
       "Ffh5GCGmbI+m3tWYwpiiBsOpVQFBm4ZXKxa6Eq1KQBXSGKdbUN+Xh6FpmRjDqeRo9Az2DpH7sbTD\n",
       "QIDn8F1oy2VorU9Mz8dT4gCDgAAAAZ9BmqxJqEFsmUwIb//+p4QAFZDtiQowuSVV3oxJ2gtfxZet\n",
       "1pnu6yIZwJ6Kqg83bPXIb6vXvJ13VTEz0u0gCOkJLcedlKAwYaKLFT0jJD34a1Ij96OGus/sb1+j\n",
       "+g4yH44gPd4FwxNkSSsLO6Lffjy7UkAdE1nbKS3t2HRf7jBeo+bSAnHGylw+2LlFYW9ry5PyP69r\n",
       "u2S3tMgP82LhACSlqQQWNzVbL+Xg2AqW1xrztNP1BGMzcxQ9z5I5HYUmVZsqfXMn7yG07E/Mgm6Q\n",
       "/1pVGYTxMlyIuZI8YgO3ILsouy+HYAOIrxLRsvpYomICbAvF6t+33J98Xp7FCkWf+9Oi7s8TcE3D\n",
       "x2bwL0FYUbNcilkgozoBRAA5mkqRCexOTb69+8OhHWfcnhxAOBOFTO0D7VVa+O1ynV+agHqIj1tl\n",
       "v/I7lbiF9/zKGYlQVwv/eQID9hROILEHOffku3oUMASAVyXFG2cw0KjYGNEiCmkyt1OMYtqfosut\n",
       "36rv3dUrAmYtj/BVX/eO5osZfVmRy8V68nutFUlcufsO0pRjJIWkAAAA00GeykUVLCv/AC/WGjH3\n",
       "TxMjjgAB/WDaHk4mTg24HuBoQ4wAIqODVStWxtXHExyIiZNP0V2sBvUI2jvCX/d6z026YNoqFhzw\n",
       "3naV9V4Ei3fOMglKHMjncJh2fU21l4OJ1bIGoajaRfrZvAVgWTknmE4qw0ySw5HhJ6Ib6cZtffM+\n",
       "EGKJzYZJ+qMTtv+88DKPIg4Na3AQmrTy4+zOlaF1i6A7umwO46OV3EfuoIZFKO7oQ0Ciu43M8Rmr\n",
       "wgTQjpEBv1Lf8y7WNP/+stOkJ3+AUAnYDKkAAABIAZ7pdEJ/ABkfREz0QAEsSYjpW+MCI3M2A2bk\n",
       "l0pOTetHNurPU1BXrpe9EGJ6Il9I5IPDhvJ/ql367Pbgmn1LOIXpcwCG3A24AAAAVwGe62pCfwAZ\n",
       "J5j/fgAGuo9VbJ5IFuGOIbAuxFk24FXkX3Oqy1PTA7PzYk1DTa1oO4tGNK0Cbj+452EX2I8PghHv\n",
       "JQm3fpG3tvqvZ4c5LEeFK6O7qOMMqAAAAa5BmvBJqEFsmUwIb//+p4QAFR94UcvzwJ1a3GFhQ5js\n",
       "wXBGHaepwQLtUaGM5XjZLIqdHC6ddaq/oiS7BRaH5YgJ6NBQA018sqKL2NrnZc2mOiKx/yfMeMSm\n",
       "PxrQL9VWcuSai0Tlgz337jbxaZ7NkZ3DB5rSf/X3xhsJh2XKpiijbaUsGtsU5eTMAs7Uwe9tmsNf\n",
       "fF6N4972kGYY/ClmJjrhfD2o8sSOtLJXozWCe4g+0HUWbVzHsoG/Xt8ccBiKwVcTw6Vgo0mMZzAp\n",
       "f6AuT0IGXFSmn8qSPsY4hPD6ZEjnveQMoiF3ftKkMcs4TwBPjWn7y0HnP10PhQd3uG57V916Jh6o\n",
       "NDqDkuuaK9ZJp4oz+MrYGB+U/+fWdDoqQwpX02kohG8DQu/VzipUjMcEXafY09AKq32XMAE55p2j\n",
       "qED0LUERfNQh1YNK25F7RzdTkD/9XB8TujUljvJ4FpxKt/FZ1ewuIhUkvDUXMLnnBHKaoMlBnQJ/\n",
       "4v7m7U1rJLzNFSWcYI7tmHAkZeTSdf0pyNaxgZY/FrXajnXfhRrYTTmtWncCrFlxcut/9kal2C4h\n",
       "AAAAoEGfDkUVLCv/AC/WGjH3SRXADjoRRCZ2uzvBtT0IoWadGgInI7MGAEY+8uM1+CMsQx/dR+mQ\n",
       "wR5yt+MkZq/J3aLALZfSXWacaTmA5jjbvR/MB/LxPqBtBc74EmGIfcVA9tV1iSd7cGIrbjMVMruf\n",
       "c8AkR5j8SLdSfP8ZdOsYNfzsUOoiQmdJzSo7V4M7+pEXKbsKTC0dIncYPFBmceNo8IEAAABCAZ8t\n",
       "dEJ/ABkfRQQgGy7xdBKxKZQ9tM+opeWsXCb1rMH5FXYFJSOosL7AJWwLKtzsWA0Iaod5/JAY7EVW\n",
       "cPsUAEfBAAAAPgGfL2pCfwAZJ5c33kigYT6dHZ4nSKOy8Q5qE9Vf46n5TeFScePGKtQI6WxduT5t\n",
       "yr2qEbmQ50jv+DezgAd0AAABikGbMkmoQWyZTBRMN//+p4QADTAlZn4anD746Ssssp5AARFum7Hk\n",
       "71sgJHdEWrpgKTGIZ1WtRCvKvweN4N7QyXsjAhNiYBIymcFsoSAP8VWqOD9hgjo9zr7/UHyJpb/c\n",
       "YZbzOkvxEQ79dAO1TO22l3kM2SCdIJoratWRz84o0IkayYK3QMZvA+jbdtE819hmjivhFYO22R98\n",
       "dqrvMMmc+sZUcYiJjr/lWKyVOrVcnW3nyrsG6yCXW7YUsIJ3TWZQSMW0sw78A//XqJ3gBQL9Gkd/\n",
       "RL+ND8Y+BTB56F/GssvSRFnUjEJJwq5zUagHxIZYsdBDBm8PMrMV0s5syZyMMg8yywRM+s/KDvsF\n",
       "7zRn/3MRjfajxzu8g0BgS1hzhOkyPkl99HE+R2p8RDtX6BEucBbiIwnCvDTcGKVVWLlurLbnXBB8\n",
       "OgAVNXdQ7OfGAyv3fRN7TzmpaLTZo/qa/WL0D9ya+zqA1Mn59XxT3oTn6zJ8aNk7pdwFPU/HUYdX\n",
       "FDEy8a6bS2a/Dk0A7oAAAABTAZ9RakJ/ADzXvaP6s3sGbFGpRhjvr+RIBfK7DgBLXwbdvuNJrFuG\n",
       "1eLsq48VqF1OR5CWkp7AuP9FM6rYgW4ZV355O4tkiZbw99rGpCkinLQDpcUAAAHVQZtWSeEKUmUw\n",
       "Ib/+p4QAFa5l2sdFuLhf5NperGvO6wOnX4UJTKJHsWaQjuBpPM4jvhACDkfgVuxzyMCZ5pxuRvit\n",
       "a+r4ohAtZLROFNpOZCnY8p1rSNsWX+LvtingqthtErl8spTEaMdqY5AfK7WBVs/8E4fK1j3T4XKu\n",
       "EcUkSKxYaMR7vxJCbTFMly+N5C/fwXn8adrDUu0/a6PQDFQobN6t+dpnJM6nB3+/ithpMSWX1c9X\n",
       "1Xj9DxweAZiAiUoqjoX1QkelYXBy/nye6EoEGc+5toCWin5O1wWvhm5o9iRF6QJoMJcYFbVfCdPa\n",
       "+LIlVS9BuKoZPo6sA4vVTWxPP9y9H5c/GNFtX29kMLusafx5UAIC2pN6JeuOuhMSt7+vNNcB7xbL\n",
       "HyB0bQMfOsXRf+yP/w9mdcEpO+C0oyzS33TBGWN8g2TO7xMHhMYEbTHMn65uavAsmd1HHCnnMjri\n",
       "No+l8wGfekc4tKQtppEEIDL0VEJ6Ooyi1qBQlUPftNjgG6AArlR4wSmv5LnhYGFwdK8fYY00DqTJ\n",
       "wjQo9dkWXAcecygp+5j6Z0TgHomXaokUBo0PsduFasNxEdjNhNIJXbtIQjQLjKM5Xv1Hk1tY2pWw\n",
       "MwwVUAAAAIpBn3RFNEwr/wAv0mIx47PiGRxPMS2ORDZz9I27I+JMQAF1FCa87kycBaDjoqeqPqOg\n",
       "MxWYFHwJsZKTyRxPh1yJHObvNfZiwlQoTB3i3zBA1IjtTAF7w2AZJe4/B4t07dZEmdvS5A70bfwq\n",
       "YyMsBvHzWCkkNcqmKwXSBYxXl0nyH058xoWYR/VwJGAAAABRAZ+TdEJ/ABkfROYI/XI6bMUVKDLv\n",
       "Zx8QBAAZwoi8BwkX4x066v8MBeXyBAn4nI09HqEaKqWhGmGan5kZlGkvVp1LwL1rle3iMbaBglZK\n",
       "QCNhAAAAUQGflWpCfwAZJ5j+iubdEKjc7g7zJdj8AEIpwVccBHDZ2GlzPZiLQkuVk6TSMgKViUAU\n",
       "mU9kAId+y8ej2AasZRuPh6gjj3gWcsB2VN7IN36FgAAAAXNBm5pJqEFomUwIb//+p4QADXv+8rIB\n",
       "5agEXxqGBsQsc/Ozh/r40pdrSx3CtADc9TiGDzqfLVbYBg1o0+ud83GdMqCplYVmRYHYSjtaKC85\n",
       "4QnQs6oREht0a6OC5z+Wbu5q0z/oD5jU1BaEmW96TFic8WKtCulV4FaiMM8pmKCjWtscmipvFJpp\n",
       "/BAm/Sd+LkHoe5+eJPOmlb25I9yLonFHvEFN9pO9f6zTT/aZBkVo6dRBDxnVU+n38UqebN1lh66l\n",
       "+gaRb9PWFDxySGWd9+RLz3qzTXBv/UyNzm+h8RXg1UkLBhkP+dm9lrJm2Q9D42Nb1VChPWLIvVf8\n",
       "CHRdH5TwClIYXFHKPJIpIsjyESSZT6BBkaHL2fLm35lj6iFkeTpg9Zh7sSJh/0FxtX9mNV7RhXkH\n",
       "IBM6canzLJySMYtAMoPRx7qIjnBC3IJUJ7mT3r59omQPpYe0qM4JFIJAexW2iF4yaxAundMywACK\n",
       "vBDxDkoFBQAAALBBn7hFESwr/wAv1hox90m+ZK917Yd+G/6i4iRPgthP3Kjx4eWrxSEgBNLE+D3z\n",
       "vpCv6G0ZtuVJx+Cn0d5rU4vJ7m0HF1lfBgoa7SjeQAhrxuMFlIQbyDXCwuslWjBqXmVHe68n+KbY\n",
       "0Uo1zdGv1Aj2BnSXOJun47EGvD5gTLd8DngWtn+i/9M0YGkpjg5ykULs8XJAsXBauCh4xRLrZBBB\n",
       "2TeVnw/MeRg6KoFjSLbRoQAAAFIBn9d0Qn8AGR9EXp81lrscnJFQpb85NaEboAP96DBwT+lp1X1n\n",
       "4WfDVVL46seQ0MV7ANVhqeEpzoA0uB9bZDPmNU6RtA6pMFHT6+Ehj0TE8BRQAAAAPwGf2WpCfwAZ\n",
       "J5hSr4VNaR5R9dqIwVWaaCmrZpA3XrXTuSIAJnTBcIkBp4tdls7oF322yo3N/zgNPiCjTuVnzQAA\n",
       "AXRBm95JqEFsmUwIb//+p4QADSunR1+5BQiEiygeb75910kuj49OY7pqLXs/vL1BB5V+X86xbmXH\n",
       "GpJCN07uAaxKYUvk6xbgjuw+7qnyuA8ckAK3hykGnkptHLl/DksbH1FU6eQagyW86RwXa5l5MRqw\n",
       "YuTe+5a0BkIYVzKh7jlCBE+jb/DSwKwx7fBYOxxMTc654NzEPUisA0dyQwBhE9I+irVwIy1Dmsya\n",
       "Vb2x+0gCqbC/2aUAMNlybMUVR/EH921zeX+4pR3UvuCbf1xEJIg7eWinI56k/ynjXo+/F9+3AXzD\n",
       "D22YPwNwSSnd76Iu9ab2kjCw3ibfKrfQSLzcKQ+b+lgpPslvt/3/emFVLoFGwn4G4OurjElXduUP\n",
       "Akn1hLwtacUeTpxpaHkQWpmEoqLCINb031TuP8S5UuUFLncCEjGjHJOjYjRP2V4Ov4AOL2jXabYu\n",
       "CbnEdgxkO+JvLErX5s9/2BCfNgN+CHKwvS4YsovvgZUAAACWQZ/8RRUsK/8AL9YaMfdGTjySYUVZ\n",
       "cyqNXNwFa9nHdnJnKGmvkIVwxeM/933ACUHMommOc2tQAt7KHLWt+3szaJwMEF+YCtRCbw8n1qa7\n",
       "Z45vw5iFyvx20ST2MRpB6bNVRWhTaaN9IbuZj5mnrpySdnAbcV4ZNL1hQeZDqnhiTNHtOTEwMeQM\n",
       "GNLrIzeZR9xePzDtKCK3AAAAWgGeG3RCfwAZH0TmaQaMof5dDe+gQ2T3UgAlAp5XG5K9fHwgHCPU\n",
       "dGPQHBbUb2shosnbrbHsTsETJmtJ/0obpXzi44wjxe7AFQ5ncuZEMtITo/E+VS7Vppgb0QAAAEkB\n",
       "nh1qQn8AGSeY/oqoZJ2nB4aF7/M73kSlbTUsAdN6EAFORscJP5rBH0pth4RKiyXrevHOZ2Q5bTf8\n",
       "k3hr7q4j+eOpK2QzCWJGAAABX0GaAkmoQWyZTAhv//6nhAANLfY0qL7bGH10AWaQS6lL1ZvttfBb\n",
       "lp0FZ1gpnjJ3PIiirhQAk8XMoQmTKqt4PL9xb9+034XldK349oKix1TzI2rQDIu8XIqUrN5yQMTC\n",
       "sT3X6mT3NLaZmlj/7dXXHqLxNx4vA5diXevuAvtxua5GeMiws3+8EV8ArFdwg2ujIGRChf8dL//L\n",
       "LNVqVPgcyPpxgZZ9E2Wg3ckLCq5Twz8fqxlS/TiW+c4NvEyoifTfS95906UoGAton8zmIO3PBUVt\n",
       "7vzFlyzu4OUDAPw64xejE2fT3j8Aay4liCAsH82SQT87g64JX28Jw/KZZXlpfoul5NoHOnDsC56W\n",
       "VdsadwqzCG1Dd6y+8WNoBltoAbLpc47eHh/Eu0a84ep+eiFdn9CJ/kwp3hK4B0+5TGCQSROHrisV\n",
       "sk11vqqLq6VQ1KLxBEtck1xy/MpbnGeHQ2xLwAAAAIJBniBFFSwr/wAv1hox90m+a6qac+sOVjRy\n",
       "qZaYMfPJEihg7Sh0HsAB4k7TroSXIeXs9Voi2cljTuXm//yiUg96PxncQiK+Cb4f8CayGHAYBdC4\n",
       "4nzjeb2NBB5ZHlJK7OKIQdNhGjjCjA2F3M9FWPZlPGRDjNYAOS8B9cQYNmS+3IuBAAAAWgGeX3RC\n",
       "fwAZH0TmXsT7v7aOjIJY7zCO3oANP0BBmKWMn/CPL5iTMZ4qynS2aUgRSZ3QWLFiPokcRlDh3P68\n",
       "LfPztr0SrcokiSFKXnxKBbh4fpcZ1IJwl/8doAAAAD8BnkFqQn8AGSeY/oqoY+935/xhq+5jYASI\n",
       "72AKNtxMvzIVkrhzMzeFWgEVAt7RTuMiwNI58GO5ciWZ3LzYo48AAAFoQZpGSahBbJlMCG///qeE\n",
       "AAzbpb7bduBZUTIzQBDoGia/E0KJbMHCJ8MYld9n5ZTXeb0jePUD1VJhC3TrvovycbaqxLjlosg+\n",
       "YjMd21M/HcTy4CUYWYuqV89BhJ/Eg1ABRp768pjVL7QpQ39VblF+0ro2DwG5d6BnWlA6YGkJcy1B\n",
       "oS1+yDVH/WDhxC5Ta0yJXgr1F9G/kgntfzwGoid0lBtVOg3Jy3naHo001wKpXQsmC6/HOJgcZxgi\n",
       "TotR0vTnKYcizm3IexRPFqh3rcpqkh7EyC/0YcTy2wgixqUPzJbywv/3UnJEaT+MZvOxyVFf4w4t\n",
       "6kCQ76TMURalhRFs4EwPv/1KvNBaSGYzfkucPUwr4D0+2CD/Dky0UN2xunZrTVOo7Od+UucqcJBt\n",
       "/BtmHkddKd/rV+aiFuuP+TZ/mjTMxrmCyDgpAIkW0V+WsnjZZNANDIg0YB6uL6SG8HCbQWp/Jrtk\n",
       "tgY8AAAAikGeZEUVLCv/AC/WGjH3Sb5oVHlR6UcjmnptbyskwgfeT15cUV3a54ALp/ofSThGfqiz\n",
       "rYdtSbTf2QFA/0xm7qYXviR0LhvHpNoKHz2MvZp1zqOxu6g2vkGs4mSZtVldFHvBQTdh5rlcm6n9\n",
       "0oJqHurDN70P4zrPh3DTGoW0YW7eFm/InDQklaAb0QAAAFIBnoN0Qn8AGR9E5mkGmIuHdzKxL99y\n",
       "ApzdAAdz5XDpgua6b8ULL5g4gIs+TzglD3BebG2DpOWnEVVZe+WB/hl/qi13Xn7fc8UtmM7qzAUA\n",
       "TgUVAAAAPwGehWpCfwAZJ5j+i7uOlMIDEYldAI1Hq1dRABKEL20tFpQiITNobIF7qriZSWeASZPD\n",
       "uepHvfM9ofKYfvdGjQAAAVdBmopJqEFsmUwIb//+p4QADN32aFW6UVkM4dBwFXdxYpgYO9JI1pMA\n",
       "As0ppx8Q07BoEh/ofqomiHiKKSjn7C4NI/6wMaXiX8rXycz9iqOaCkN6ksVGSnxdQGXOe13sTJF/\n",
       "Y9u2CmMPAs6hCefa0/UgnvqPGAyO2+1tnI3E0MZyjCWU0DhFO0SbVeXlkeF7ssVV6gQaRdYZQGrP\n",
       "SjY2j9r287fynQV04w6WdpODNVs8lrrLaZ6dUy6qvrxHX6xIyDVqf3PVHZ78StggFmlycF9ZWajh\n",
       "5qhIonyl4XNwKGDjjkKsFUfIhlaOEuzuq0bvGLDL1VzPV+0a69ZjkYydba+nTF+IpdIuwSqyuQqx\n",
       "YXh3ZmKFUKJFdbRtyXBxpLQyI44s+14VMGhuWbuspOwxXRD6VxSxPU10f0saSyI5R03YJ/Nq1GLp\n",
       "AvKBR3q8nu0xEpOsbDWvyIHpAAAAe0GeqEUVLCv/AC/WGjH3Sb8zsXpACV/b9qt3GrjzBZn2ezXg\n",
       "FFOwAdz9vlWuhnbRAAGSSDjB61nMD86jG8TvWss+IqLvND2xzmLcYeqNQ+jwenMlZlzf8QFcp5ev\n",
       "7Fp51In0wP9a1oB4J+58U3JxYFiXdKDVNQR8tHgFbAAAADcBnsd0Qn8AGR9E5r/yqveCmKBvWOR4\n",
       "RFYomLMDBewuWUY/IPmgPDsTE1pY+Pt/uLYt9HiXEou4AAAAVgGeyWpCfwAZJ5j+jPi2ox0MYRyr\n",
       "KMppgARgq0Db9DOH2ApLt7Q5QTruHkJ/mTbLeWDNRZ0kjEH2vOUM2J5ZNvmTBJ8VkQA19kPaqNj4\n",
       "HaCPncSUIBUxAAABVkGazkmoQWyZTAhv//6nhAANj/NZCFoG1/fDQBp7LtLlomyEka8sCGls4nly\n",
       "LyUc/yefilCs1121L/Vg6+TidK6rYMUtBLBw9Z0GE3vGACrQCWg4QioNrbT7DYlI+qAMCFXpCObq\n",
       "/YMfx8fy1jxRp+O08R/dFpQ0Nghipa+iigH+n4VXiVQO9NanHNmMoOpuok3ygwiRWs28HJ5PaZa6\n",
       "KQEj2qJvVVQfbM2jdO4P8AFMNbnnSOqXzkL6XeJC2siFNDpe6GzL/vnvDdVmfZvRKSLHP2ja1UZH\n",
       "wWmDAL5LdjXXH2UaxPAhx4kzEffCWdjG7pw1b4GDthcF1qbMsxuoutWbts1zUwKg7/D14CDr5DX9\n",
       "L7qaISk9TM+bgU9trtfRJv+rkNd/4KxjvVSLQM40DalpaGPh53iYATnPlJxnLCdvXGVKslj6X7Z9\n",
       "C+BuYfuvvhMQdr+EzAAAAKZBnuxFFSwr/wAv1hox90m+ZRLL4u4Q/omFlbp7XfAALkviXWSfHv4K\n",
       "gjJSjiUk9R0BePqJvtayzvXBk3kcbCskWNPbsBmsT93Q7BgFy8Mev4kqVXmsDS02ZF+312U9yfcs\n",
       "cteJs5LT44QOAhAnYKWr7Y6FNCyIOOtkDUjP5xZZF3XqXI3hTgbCqjM9aNQH1UCfZtag/m2DB6MV\n",
       "WNqBHs4ZVzKVYwMWAAAAMAGfC3RCfwAZH0TmaKsSEIV5Fc2Hye6X1rX25ylynTKOh3WZDBbqwaF5\n",
       "mU210uDjgQAAAEIBnw1qQn8AGSeY/ozpOof45We8CqACHZfHX+BbrsJCqCDrvqBEci2OV5elZ4EC\n",
       "wDd/aog0Fs+Da4hrD8HG4tWAgW0AAAFNQZsSSahBbJlMCG///qeEAAyf9H0EdboxzAHgMLM7IdaK\n",
       "aDSw1sIWxoJQGHb3M3bs+EmWm7zIE9/BK0VqhvT08nSibZMqfPpLQlsZunbldie8Nw6b7pHixb/u\n",
       "REIdaaWkYfW/JVavpUVOVyhw/tL+Vf2NjA/JYV/pBb7io446JwTjUMscODtd1TOnZXm/t9/UA9ms\n",
       "jYOQ6Qk//snTSBI8BPrq1pDX5CD/fAwUvFhplpZ9qEXpK5eGrXtN2rbP4CoMDl2W9QUxasB5g/3B\n",
       "EyLsfhSDHdCV/9qOqMbQvAdplJagNHg3bBN709ISSolzs7myf07hIq04kJg6h+NjZwjFs/JuWFnY\n",
       "qnDoiZwbzB/x36tgTIufZD+ziHLrAvzUerK2lfHpfZ2QcE1FRASkh9/o7uXESAsa5BcT+0O1zi6Q\n",
       "/cJYJCJeEnbVjjgFfgLvAAAAxUGfMEUVLCv/AC/WGjH3Sb5hI4qZvBYK00ItTDT6u1kBbjNDKB1v\n",
       "YU8vlaNz6hMogfKrS7Sp/qhZcbceBTlQdZ7z3bT/VKT7TA7ErzhMX6AFNnsPDFG/V6mpiXTUsdi6\n",
       "rShO8GU7Km0kbD/OnyZXQJy0KS3WjvgDam4QoyaPt138raSJRBhREXHGr2spSpYWuH48k4IVpTP0\n",
       "BjKWGJAe++PRhpwA0mm4r9KrkdqohtnG/7l5FXeTdQJ/JGEC3pIR1Evg1AGLAAAAQgGfT3RCfwAZ\n",
       "H0TmaiGrVHSnMAA/Pek8oi1TEWwkm1Hn9if3KmXScdDE9/eAIG4LarxYmYh7C4WI2TuiaICYquMV\n",
       "MAAAADEBn1FqQn8AGSeY/oBhDTjaimvbjWIweON3H1AbmBugvqtpcv34cvf8b/hrk52XkA45AAAB\n",
       "QEGbVkmoQWyZTAhv//6nhAAMT/R9AqDlggtRa9y1h/s53QyjOv1JzZmOChNKDv2oH8y/TVVfox4c\n",
       "vuuLrNhmA99TOYUFCnPNizNiLMkpBtKb4CcHNLneayW9ps9oiI6E0bdSog3KwNwAqFER7wWnM47v\n",
       "+qlumTpw8mIj59GzXmG60DeYDouYUMuFKES5BjvQn2akmkX65rxC0EucPIRBYT+llqj2YIDTc1Jz\n",
       "gO0SRa9nf5Nn+t3L5CLTwWrQspDuXyiLKOfhHvCzYWpC5GWEs3UBWScwoliD9/0NLQWCqMCKtW8i\n",
       "Qern0OWGDV9nsuTq1rxe6iwsgp+Dqr2BjJlAQDIgtCikc9V5Tjo3LMkqdvqlUpGs9DDoB5rYheLs\n",
       "NK9ma5AO+OMa5S6jAkbPduDgAjypmHN4t6HRGJPRHdtbIgbMAAAAhUGfdEUVLCv/AC/WGjH3Sb48\n",
       "Xk621jsdnIKSSuaABWxrtSmsrBLnXrIUHjDOD9BmhTDks6TyL6mbK7hd6j7EjDOLJLAY03KVgww7\n",
       "S1wY2cvGm2ckJcgwxOaHVI9czWBIkBKl4Hov/0bczHCjqxFhqcU8mhQ+q6Bfnlsk75VQ+8lNhKMA\n",
       "ArYAAABAAZ+TdEJ/ABkfROZcqfH0ICL0YM8v8AFh81racpUEUCCiNmRf70tl0M66KBMZkn/BdWiX\n",
       "kosLdtzH690c9UAD0wAAACwBn5VqQn8AGSeY/orom2BnJIqnEnaQPuLXiIBVxQu8xdUohc0qX33x\n",
       "/egG1AAAAXhBm5pJqEFsmUwIb//+p4QAC/+812Xz7EigplEvfN4b0h8GMVPrExAA5gLhJuQ9IZ6m\n",
       "1y0STWBVe50e+Os9t+owmfRna6tQKfRTU6vLu+5wV1tlzfUBin1qIBLBqrEaGJJ7VTj4SXriLi1+\n",
       "RpAIIEcSAU9Liw6aQgNInv0tS8T1rlkACJJAdet8Ny1WCyS3XL9LEU09ki7l8l/gPdRhhScS6YaL\n",
       "2S9hV3DGKqmucTuK0CXbYNnE7Dt70Jo8MU28b6J+/1cjV8yI7gfImKfQ+ImLc+CcnYc8aDRCmkbK\n",
       "zTZENlgRjgZ8SfoMRykF+CfCnyexhjTR7o19vVF6tciQSpHWSnl3HHxd0HMh5A34Uj4ilMH73noJ\n",
       "2hsscmsEKpLMmNfGyf88wP5ernOc929hOibrBnxhiM87lo7KG8BVs7VJ+2ktobwDuzS7x7cYBMa2\n",
       "+0hmnoOEOp1TXemDgr9kBN5dQKN6DgplU3iZVwD1RdNuUC/DTmOhGwRdAAAAgUGfuEUVLCv/AC/W\n",
       "GjH3Sb5wllu2IKETMGbZXTyX1NwrycpTpLqpIYqH/UhjZ+mvJbFRUcDS5XAUZKhVkwlkkiTDa0nU\n",
       "oGvggJnko9rG5kRhUsorOVsmtJCdEKyjcqSIu02AvuCMx+FD/wFFyUojyrmJ76LJb0XT05iTzEFc\n",
       "4+wTcQAAAE4Bn9d0Qn8AGR9E5mg+T89pLDOEAKul/qVDuIGMcp9/5BKU7fjuPfOygl0uXoatlNZW\n",
       "oyQLY2McNQ0mEOq3RkRp2C2nMrtEvGVIq/TgFlAAAAAqAZ/ZakJ/ABknmP6RCipMoFHKqONGh28Z\n",
       "BHZM8rVP6v4ptobL2rMVXAZVAAABXUGb3kmoQWyZTAhv//6nhAAK1/R9AQfsmIOkl5lbISkp5i8A\n",
       "x7zQkTGfbJje+ZHrXi3gkwUZ//HiJLwcee3gs9TmweUrpnMCI2ZRiRMWMaNJDAVtyHtvpAkZTNH3\n",
       "XrsdGIh9aL0DHVoBsCf2+4Tg3TMUw1k42AAzO6uCIZWLzob35+qKuIZsVKPOjMWaJBXkNrc2kKOv\n",
       "xWyn3V7Vz0BjjrRQ5o9HicU5GC241NexLGCJG3Cub9wW82uwPcbRx2cuONq47XhfR5F4R1FUvL88\n",
       "A3bGwrbeYNf5auuLaBpuiYGVfLA9fRSroAKT7OhBBSRsQnrZ4DpwAn7QR2Dr2AywnGe0WXeLedMH\n",
       "FLyeuQTyhWGBQEVMDHVvGpfJ5FQl4mNnbZLK/vP7xGYgNU7/4qqyeGRNPig5rF3R6vSBRti5r3Uv\n",
       "dk8vpvwv3iEjQH0+Clm8Ve6cjRcrw2pr2LUyBoQAAAB9QZ/8RRUsK/8AL9YaMfdJvnACA1GDs3+g\n",
       "+Vsrpsclw52lOhGRmq0W+hFSe406KnCHElXhC2gXVaWLOJ8hAGksFQJR3DmPSGxaNy4yleN0SB7D\n",
       "oKugtrh+u7WouvFpdlZtXSs6qcdP2R3ZduuKBtUswBHM1smFB62W3FAAGVEAAAAsAZ4bdEJ/ABkf\n",
       "ROZwHuK9XQLtjndMk5HbBHFxrwPMb0GFwRIogOz1w/5QOmEAAAAuAZ4dakJ/ABknmP6Q7q9RkhN2\n",
       "k8oloe2xTiBEEOb6I+VTQKLcKXbrRcpxMj8D5gAAAP5Bmh9JqEFsmUwIb//+p4QAC1goY9RpOAQ5\n",
       "LW6MO7aXsnxG/bhh3DAh2UT/p8S0PhY4ztiOEj2FvMhVCDCG73y/9CsFAFXMkAoQ4J1szUKo4iu/\n",
       "HCxzQRRE+5QwMJw+M/GBJeqKO151V2z6GDiiNyT3m16ppGl2wHaKrBWhPBTFmjP7AhClGw+LmiPk\n",
       "eY/IUo6xs+7PWhnGkW3j2YchbrDtYmiWNdZydTxEpHiyDN0zqzc/VwVEKqGjfaPDGQBuw2EvL64m\n",
       "t5MUoeLg009UYvVQWikUVqzme16UpnJ3XJzoM+tzLmzxCa4bTvXMYXwxUPshT9QN1pX9bIzUIIDU\n",
       "gAAAAZRBmiNJ4QpSZTAhv/6nhAANj6jKsHxqPVVtfS0Gxujocf2g1fEuMrYIX5IEUX2pqQdgMjrV\n",
       "ZVaAc2cxKxAVuPC+DT7Ja7mCEAqvcJd9x8WJmBNZ3+xYUnYH49A9X+1UMfRp4w7xtO1RqrSQuHGY\n",
       "xdM3UPDfU/bnWiVKxOoiKG/zV/heAIY8bP+ZbBVRND+A3A8pVrawuSrpYey72X0DUqyLABhm/ZXd\n",
       "kD+a4L5qTEskl4D31wdebkov3VfU1mHcW5BynYHZJj2AZTfHlDpDgtaPcXLgK4Twco4m2fK3A/BW\n",
       "QJh8Dn0eBRl8t+YAslBZLGWwTIey1moMeFLBX9xkH797m78EQDqdCczNRAJqz0dKI3TXzuK5De/h\n",
       "GDN9M3hErinSHA26qH67b+M4eKZqS6qZkICvqxDkyYYWPBSXG+7uwUaE4AAsrzE/bSbJQoJXf4Um\n",
       "xCSvi1XIDa8DaI5dbrt52USb1ZVwuSfND59E1CbzhLkPzfsmDJCvJaSh7TWaethwn9murdSA78yU\n",
       "otwA5bXGH3z7iwAAAG5BnkFFNEwr/wAv0mIx47YiddQwbBCcSZTKKeqKp3A7Y/HW2E7z2YAPeB2z\n",
       "YuOYUY/iDR63MV2nveDYGRaRPHwjlFLr4OB87tgxpVnOVsCElb7WXJicKvdO0zpM3wfE+OxCp0/5\n",
       "sqRCeQqK27BNwAAAADMBnmB0Qn8AGR9E5m5BXLpNtPRWzWtEqc7gfZYGGlw6sRqPF/p0lmjZZKWh\n",
       "r/h/RP/3ODkAAAA0AZ5iakJ/ABknmP6J7jMUy5LsX7i3ToMTjr+bt1aHP2e8r9cqHGrHy8KEI5px\n",
       "AAeaa6ApIAAAAWpBmmdJqEFomUwIb//+p4QACo/3Db01Y445CkXmoFE4q4GM5V8D2Z7OR411AL98\n",
       "pJh3iqi3lhstOZ3hMbFbbUn3avD/gVCcFUhpeo6lxA65/EY5fZyj3/SUxwBQAlzinBRAY5iTLQm3\n",
       "HIuwMV2EL9/AbiN1tEvo8coMnNKu7Gpa8a3uems3URR35byNBlH4dhi8tSV0p4KWOTcrSu1Jzq1M\n",
       "6mWmZ+S7BJTHgPUX96dIBFoPGHGmpNBl1E0DNtMQ8pPCCzOcEZ0mgVNa8bbCetq6NN8jWPoyOXEJ\n",
       "1CZyDDBM63xS5sZ0MNHrEL5ZtbLZNZkXPZrMNxrLQOST6EPepyRJsbtVHFVqF9WGzCMIBu9cFVdW\n",
       "Ob0V3qD+gMSKsDtr/wpzZQ5RKSua2OCVFJkNawaEH3fytYObawYR3qvV9TNHbPZvc/iLEaMKJfqv\n",
       "pIhOPLGEmz7tWOGFCy2HoYXPU2VnkmPAnWFPhoCDVwAAAGZBnoVFESwr/wAv1hox90m+cLsPhlCf\n",
       "OCroJlKz5fOuw65ABaQ62jlKvP9XT9thw4dB50f5rIlcv+bTMOaaigc3fuiksGc5x6hm2MY8Z/yG\n",
       "ipS9y2piMwmPjzfbNNkUYj/KnRrKAb8AAAAqAZ6kdEJ/ABkfROZnCfdf3Uz+Cix65kjbHk9CpuIV\n",
       "E/EukZ3mLJXsLgXtAAAAKQGepmpCfwAZJ5j+iu1L3dzzUWlUvqKJMG9qDNqyjoItZjvtNSfor4Hd\n",
       "AAABe0Gaq0moQWyZTAhv//6nhAAMn7Klf0FetzlxAJsDUjUpndtVJ78AHpHP07IoqnNQL386mmcz\n",
       "78E1R/NAPr3+77/moh2FAOFY96MNPewQVoJ1B59sOf8Du5DyiytvRsPN3kNUHuMySyzZ8YNmbZ94\n",
       "P6gl2/MTfoeAA/EvsexGr/r6TY4Dm5lrSVtFTK87w9N1lZi9Dk1kblACoaOLGcsdZDIBh9rXHn2S\n",
       "qTEwRiGYX5KwuFqc6LQU9rAUEi3azAVoIN6NEQmd1x4GUJON3YGWf7qB9FGgdRm5rbsHyCas0Spp\n",
       "cbt9rBtUV80O7pSXUlwpx5BoWxqbxR/y66JkCV7vZ/MMAJa2O0bNTXI8VtfuMwrqq7PqhKz6Y2kh\n",
       "wJpGtA6vs5Z7nETuBBu37dj/dVA+4oKIKdled5uLy05KAr5sV+JoC/xKqPZS6pHJnR57qBUQP1Z8\n",
       "i2GcRiBPK4sQ7VefesrXhfEAIcJDC3W8dAXC9BefdifbJ7zRxbApBlQAAABQQZ7JRRUsK/8AL9Ya\n",
       "MfdJvnB336e0I2cKGT7MxMwfer1EttQEn4zvOcRE3vGDXbYVItQAbVh9D6JiBpEV9Ejlx1PaMbwA\n",
       "L0EWmeG6pmJbR3QAAAAmAZ7odEJ/ABkfROZpCGb5vALQtV5uaziH26T3AQUARYI9izveDjkAAAAq\n",
       "AZ7qakJ/ABknmP6RCngK+f/AdflIX8r1sVv+GeUy2pNM6/njM40WWRcQAAABc0Ga70moQWyZTAhv\n",
       "//6nhAAMT7Km9rwilkL7ueu7C+L1B+B2UXdRsXACpzGKwVv/5ESPMAV4QCqQOYUh0AtRDjeUi/9o\n",
       "lLKBeWksKnDg2HuKVP8CTZDoyg7mTqnIAWvxL55GHVva5fsK12wDfM0qci+V1hm7XaCzgwFv8w97\n",
       "3vBZdcuji3hsnHP8orhTxWK7TF4q6yQaMG05MK3fUAawP1XP6Fz2mqj/DcPwoEpuHjqCDzOz8zLq\n",
       "NK6fLJQuBXSlm/S3XAkEEBY9vZOJvBmB8JsSpdnLd+amnUt1HxAzMCs2jjI2Z6/yZDmR6YrlvDgZ\n",
       "IWJRvZLzD7KzxQjrnfQhIacqMxO6GdTD3A+CP5YMpG/5mD0mlFocilQHLIvQeOW6qvnaRrKDw7E0\n",
       "TrNpwPhOkoKeNJP7gph1F4ec5lF2IvlL9LHl+METu0WniQbjZbRG4/JbFN9C3JAqzoR07filYNGF\n",
       "p+M0b0/0cDDdINCJxVLuECggAAAAb0GfDUUVLCv/AC/WGjH3Sb5wd9y9QsCoWBsRumt+P4Vx3p+W\n",
       "XndwUP5AAre89qZaOj+yCirQ0gxtFttSTVmwZ4NqrpfiH0NGT4qZEqAE9y0tf6PlZr3Qh1v3WzdZ\n",
       "f6C253nko+tNjhgjieSmhKgJuQAAAC8Bnyx0Qn8AGR9E5m//9HtOX8SiCZVsqsVfQ09b8++JMW7B\n",
       "zLrh+umZExo4lMwKmQAAACgBny5qQn8AGSeY/pEKd/wWYgSvOOm0eoedpOHQz/pvRS00bHbcOA5p\n",
       "AAABcUGbM0moQWyZTAhv//6nhAAG5knJAHyQSnsgU3snQyas5JiH5LGFhb+kFwNTFE84G9SJce1c\n",
       "jn0TujIUp+Ce53OeFgVBYHbmMvXXAqHcmBWpfUMrYk0NMqrnIge5f2/5I4ZyTZbVXJUjqvn01HfB\n",
       "0oY2D4Z0Vk8Tl6Uhvukbvjb6ymf01hpsoWEFI6cEnedhNAJcBUNmjbPanAENWJy6jI2ehesMQ1l2\n",
       "Xn1w7XXw8SXViOeG4OLK0iC3H4Noig2aY65+uaUfuq7SFlZxVGRVsut81fr/Yz+tdR7mr7D5hRX7\n",
       "L917FVi9gyKriWp7F/8lliY+sDHdFbB+/ChY3jZtL2bfxYRlNPikl1mAxAeCVSWRu5V93SkC6vwi\n",
       "ETycEvJydes7vRpO4DVnaTaVz8kRoKwTmjZZbGaTztKHX05y/QoyMXBkXG896xVsGZ0MDL9BaflT\n",
       "4YGK9yTdn/RMLlSEE2nwzHatUWXcxdyht/luzuEVsAAAAF9Bn1FFFSwr/wAv1hox90m+cHfcj1jM\n",
       "098hpOqAipM1qZ6Dv1TMGlK/jAB3fl+xvOhPRs9rLoD394ROhU9R9GZYnucyKkmRijghun/CHbDk\n",
       "m/YrREuzJP7lI6GmngAekAAAACgBn3B0Qn8AGR9E5m//9EAfkLS/EASZmk1rD7TBfDTXusBbGLrL\n",
       "cQ7pAAAAJwGfcmpCfwAZJ5j+kQp34FXf/ffH/kDUsLKByW4wge2oXZUrhdgLuAAAASFBm3dJqEFs\n",
       "mUwIb//+p4QADO+yovcht6j4yn02Uc4u8Hwi8AA2O4k+kVC56fTGAgF1PMzxTGxMVwf6tIjqEn2n\n",
       "XwYA/HHEG4sthljEw1o/N4XupCIcjrRZkzo68mNqEm2xx+XDP7srAK27hPEqmw1Oqcr+4hLEvcVv\n",
       "PUCzh7oxaunEtmJX2QJhQJ22nyny2cEQSIV7K/kLIliH3lMiHffih3ODUPPIZvB8HKMekMj6khQr\n",
       "wpCoNl89/hW9u1PCy+v1qesQFJpvgNnqr656VkdQx/s9kTh+/9gdjb9hgGmFoIQQ/pmwTJ7R2CVy\n",
       "Z+Q/zSuT5QVO/uhEFjXYyoSS4HrYepgPPIq4UwBbDmg5CVJLfqTz2zVPNFH/Mq8KGCUAxqlBAAAA\n",
       "SUGflUUVLCv/AC/WGjH3Sb5wd+IqkSMhy2OBPHzfStvd/pZmIORn5hdzfe3sriOM9vjO7tkVJV1Q\n",
       "tBwwE7ouGduDr6i02BoAwIEAAAAcAZ+0dEJ/ABkfROZv//Q/VaMBeRrWiLIva7AGhAAAAB4Bn7Zq\n",
       "Qn8AGSeY/pEKXYUv0Q8I2QVvLdg77bcSAZ8AAAFOQZu7SahBbJlMCG///qeEAAbmSGUAFCDTAC3x\n",
       "rxe83UcBR5b7h/kQa1BLs4eXxdiE8ag0aC5VF77fiC7VlIqJ3okXTjnFJKuiewCM21iH32jaEev5\n",
       "Z5j0rsx5c90vhKOBFeKxa0MnY9Js4zbbqqfDNhhxXqigU/e2oXr4cVDWVQZmGsmS+YNIvrGHNDXQ\n",
       "BAuYBAzyRgE1pvV423pSMCYWSCR2UjgTsekxVtAM0ld67lTGREylCmV8rHcAI+YeVr8SFCyaWxIS\n",
       "0kdcy3gKSi1Px4JlyNzi4wfzP2/e+X2bXpE0IQHLAMdjif0d5m68FSgEXMD1mzNYZxwcJXJEbqKF\n",
       "YaSVFsCdOb2z5orHid1g/Gb8HEwgBb15k9erTqXQecHJ6xyP0lVg1Tb/wEC1y9ljtqPiO8H+ss2l\n",
       "ks3gEljsA9cxx2XR2RxwA9XephDpgQAAAEdBn9lFFSwr/wAv1hox90m+cHXcftoctiADIV/ITSX8\n",
       "HqY9yooATO/gNm6PmS7iyHCCMKPQYkISO5h/K6ht8dPM66LTK/kGVAAAACQBn/h0Qn8AGR9E5m//\n",
       "2EWmEpE9QbcKMSbWakJo2Em/eEYAakEAAAAnAZ/6akJ/ABknmP6RCRr6BlqHEMRwITda4RfaBAy7\n",
       "nJMx1/g0Ve0EAAABX0Gb/0moQWyZTAhv//6nhAANfahW0TxFkfGoIIE8vGg94vSbF3t5UWiEIzxh\n",
       "4egAupU5RwJ6SJoKonFufh1Xub+JvEN7bmSWc2dHD8eSgpttaS2BphrfwQql/iRJ7Guj8+skcS+/\n",
       "awoB3cInwe6ZVvVTyXgznmHooE5583QZtZtCfFXhkMdyC6yiKBWDMJ7dUIxoL7qv8ks06Jp8XgVV\n",
       "sj3wcSFC7U+SzBTeehQfTm9sBVW4XQZjWr09tfGBpN3dRSgwDqbh5o1Dw6DAOE4bmN7wn/ud3Wkp\n",
       "3z2H4qbmnO9MEzyOaYsG4gTmF3UCF80oCFABA/Yz3Blaq7WDMagZsSiXjNJsGKVkjJZHYt/6qApG\n",
       "mjVPuqPy3a6ypx+MagZuKZttL4Md3ykSjQPNUE2OkEFsB82f76HPQfRBEYj31hc2+It8AzVSkrRC\n",
       "XYSPjTYx3BsAKi5+OMIB/PPAFfMXcQAAAEdBnh1FFSwr/wAv1hox90m+b/wJwHEpjzV3Q7y+PRQb\n",
       "1BGrY9Ns2E6UdEj2fzKggh20lhkPU4rfu/GKH+RUfSQr8Y8w4lexCwAAACEBnjx0Qn8AGR9E5m/9\n",
       "8Po0OMsSPqyVuFwOt/eHqkSAJmAAAAAgAZ4+akJ/ABknmP6PiDnYlgUjPgnwJ8Je5hzW/UJAHzAA\n",
       "AAFjQZojSahBbJlMCG///qeEAAbmSckAgacIPMmLqvA8nsEqYZSG7Z3vpoS+eJvJCGZq1P+ugD4b\n",
       "rdtWqOCs1WaQw9JpcRjwKjrONz2ZV07FUV/m+u+LKc9d0pNMzmDIJ1YYrH8UN+QLJDMb/D8j5Qmj\n",
       "GRPtcDxT8uh3cq57Tnl5cYHURgDf3bVT/JkMp9GdpIKrdOtmOBYyYfpr7Qyj0d0nnYQATZ+/5aZv\n",
       "Lomzeu9SsqzOFCcVk/LL8GInGXbBUoQwQz5m2omXZYVIVmkklAkWZWR2z5fPry146B/2/N9dE+Yf\n",
       "bstnfx8HWWAB2ZQQeNX1En6VyZHcTVGuDU91iijB8zu/ePxXT6hvbUv1/CSx9yglOSlmNy6oxruC\n",
       "r5tC9kH38Sw4qRpfVrY55DeDbUvR7apDYvybFnu1N4qRT0EOPmoaZjz/Ex8hNKwA1U9XPMkcTXIR\n",
       "ISf3hyhAloNWxtAPIlWZUQAAAEdBnkFFFSwr/wAv1hox90m+bAMu8+0UnVR6zZxF8ugYQvGv0NFf\n",
       "PwUQFUHFWMh2k/2kfPRNF7ZCVAFO/o/72vpYNVPZUPQZkAAAACABnmB0Qn8AGR9E5m5AAlNqRN3t\n",
       "j4FA1WrZXMqSGDBDwQAAACEBnmJqQn8AGSeY/o+IOdiWBSM+CjgkUMrqpSsQEAVAA3oAAAFqQZpn\n",
       "SahBbJlMCG///qeEAAbBvMXSDIxKVh4+rdlnPYiAN42pQwF1OcGurBUlx+ITaFCozR3XRYwPIrRs\n",
       "gLmd/j6ZgIa68GSWpWLsb4V+f0y3K5ge9cC6qlqjMTL/ovGaKx8EaUNGiEMgPf+t+92zZCWqy5+y\n",
       "e02b7UDlTrP5C6/lYw/Pf/aeMNjY21wiQKhZB0a2Zq02di6vGsD99L8aFAs+V4PQ7pKpJhX3Ffts\n",
       "81EYqCvmci/BxPnIFooOxqa4j79ctKEDlYVCBC0ZhpN4LCkdecUgQZHRKo/a6vU5koZDeepWm21t\n",
       "uzFMTi04yOzwRKX/j+enDLYGUxb3IWaLrRExRIkZYL+gLW8aLvAFYgjaEcef6m+60RBR/8UJWF5Y\n",
       "ptybAW6r11XObZTT65vrfeQC6C9auh7n56ngdWGs02RC6rLqG9HHQramQ8PNRp3pJtokJHr6kkFw\n",
       "wlQYQhpPJl0KGLi09g0eAxcAAABKQZ6FRRUsK/8AL9YaMfdJvnB1odvtDwpsBqpTyOM7Bda05Elw\n",
       "mVsZnEcoAlLB8cWglUQmn8tvlymVk2s8YPmD63BkXN+ZPWSEW0EAAAAfAZ6kdEJ/ABkfROZuQAJT\n",
       "akTd7Y+BQNcN25DXAI6BBwAAACYBnqZqQn8AGSeY/o+IOd3VZ/N1bj60Lk+cPqZSdk1r6F91sCSY\n",
       "0QAAAShBmqtJqEFsmUwIb//+p4QABsa9wSxaeIQ/UAXnoufnqeUU9clhNKFy2mGJP5vcBT8H1QDS\n",
       "BTv7V6qkZugoVpG3Jpau1dOp3Itnejw92s5SA0WouPxo6HCiDUAqQlhAv8DIZ+2evV96BDSD2s35\n",
       "cd4mPfy1cGHhXvfWTLnndQpd5uJJD59Lxbhn/QCNQUzxqMkbdPVxBykVkPmyr860oMhior0C9Afm\n",
       "FDfnG/jFKSQjVzmuZCMWt8okdA+v1DYU7nKUErr3ofn1o3sPxwtnFg3XwTDAMEM/QnXBzjJyYYm8\n",
       "cDtbcZvvAT7UfnnML4l+63uQB2UtSQFZZJ8Ghc6oe2puwHjrQvsExxDphQjvVKne6csCc/H8wnXO\n",
       "r7Ooq4OCwJSA3TVvnagxYAAAAD1BnslFFSwr/wAv1hox90m+cHWh2/MCRcT52++MzctQiO5NdbH7\n",
       "HeMEiO8LqBwVKKP+pchjZOWkOCjWgBvQAAAAHwGe6HRCfwAZH0TmbkACYBmhp/EWneFBxN9YDRmN\n",
       "JtUAAAAgAZ7qakJ/ABknmP6PiDnd1WfzdW4+ssvqHqemAejaKSAAAAEyQZrvSahBbJlMCG///qeE\n",
       "AAbmSh1AIKJ+DBtdpXKwUsKRuDD5tof1ALHfetyUFQEti2wbycDHgTDiqDfHZx3ee+ooL5O2Hr4l\n",
       "4hDYOt5la33V6YPqHqfXuzZXkW+Xzab7iZvBUx5D6DyJ59nEbG6aKqMIxueN/c9ZBNfL/iBmzmiy\n",
       "3/8aCcJLRtZ6bW8UO5l0uLSU+5gsl8Sf1pX2OeucSUJtHPUmXZcS9rQruhGeLVa5ZD5mh1l0sGbT\n",
       "Y6I7p+f6pP6eYu8oOV0x+qQcTXfHIHbgTuZT5e5AUvB53KFjDUtYTuXBBnx3qHzbYX8aAQNNTFVh\n",
       "VyjL7jrEzB8MyVstssEO+m27WJAZi0Y06uOU0UWwYA03SljaR4aBHEMUzKDRiE94dGmrLksjrYPo\n",
       "JXkyawTcAAAANkGfDUUVLCv/AC/WGjH3Sb5wdaHb8wJFxPnblvI9NE+DZhx1c7ExIKqoFQwRVMCZ\n",
       "YaQBetAVMQAAACIBnyx0Qn8AGR9E5m5AAmAZoafxKCn33OxxPdBD+bAsNgQdAAAAHwGfLmpCfwAZ\n",
       "J5j+kQka+ipPVQE6jjMNUgcEgC75JN0AAAFEQZszSahBbJlMCG///qeEAAa/rQTXzc7QIsf8GHpK\n",
       "Xel1F+XShngEWkW5BJoiRmvuTaRzP+YEIKxLmclHXMX4i4UzItnWsT+r4FxBwNZeGc5GRoKzfGPo\n",
       "2ij3NyiqyC8LueuF422wbNwnbNpDpNohw/MuVQLg2z/KYQkvp+dJ5+/oNmowNwKxF4fn/zm2v/Oa\n",
       "yM4l4iKgoNIC9EW0vdEhAFk1d5+8YcwkXSRsgeNHSvdINx0zWQPvFIssqCgBqBXIT2qymjHhbYlM\n",
       "a8eOlWPSJUAk5Zeun7sJyjDKQTx/wbQ4yGlMFwsX/sw9la7gHeMJ8ZEY6cHOH0ZFz/b8PrwQZ33c\n",
       "xqGMtXbvIBdMrJY9NJH0DeiV8d7ufi1d2qTI+7ztALVa2t0m4343CE7hZqnYuDBRZpnoIYEOZtbv\n",
       "lrzOSipqChdwAAAAN0GfUUUVLCv/AC/WGjH3Sb5wdaHb8wJFxPneQHAIXd3eZSfOB80USwdEQ4/p\n",
       "47YoBl05UGVPAbUAAAAhAZ9wdEJ/ABkfROZv/fD6ilD2mPo4zE1vTIuQuBMpsV1RAAAAIQGfcmpC\n",
       "fwAZJ5j+kQka+ipPVQE6jjMNUdOjkhNXP5DfgAAAASBBm3dJqEFsmUwIb//+p4QABr3j5g0SYADZ\n",
       "CmyO0f/A/k3SQH45Jex9SsB8JUtu5sjTMSL0ED2DtzcmAdVkIycX7frgqErBY3yY9Qhhwkf78STD\n",
       "Iva2DN1HfRAVKjx4LBL1M/GOG4WUBGu43ttO9XVC2vuvuqQqR/XzQxgQSUERfETo+/9vFfqmYExB\n",
       "tvzbKUKt6P2ropRFbsr74xFXA4mGiC/LsH7yjTX4PYy1AspSBMK59JA9dVFMrf0Q2In3b4ME+M4/\n",
       "2b8/vFz36oZLBCOGolS2EDCZZD6r8Y7KDjL5vq5BzC1kfcwbQQ5Fh3xwYHA6P3KFH4TxoiOnJBg+\n",
       "M7sF+YLLWa936VBww34GYDGfZmepkAaxS/x4P/x4FQWL/m4AAAAzQZ+VRRUsK/8AL9YaMfdJvnB1\n",
       "odvzAkXE+dwNDLTG8Su1bpTtw2NFDGbYW7xsqlo0gAqZAAAAIgGftHRCfwAZH0Tmb/3w+opQ9pj6\n",
       "OMxNblkM0cjBNkBx67gAAAAgAZ+2akJ/ABknmP6RCRr6Kk9VATqOMw1R06PCipJwSpkAAAEYQZu7\n",
       "SahBbJlMCG///qeEAAa+xDrNIb8TngZ+wI9fDVhzPGLW/RfEiFo6jjNi6gBuBWXD2qTxuotiNll9\n",
       "6jPgUq0ccPsdZFqF5GAClzcCXhYrDbwIKFaMfNm0v8P7gjrUTPKzsmzCD8C/17Jj8+i4QrAxAggr\n",
       "208GerTS0wcEscuIdYGUM0TahF2xSoB3AL06ezQyQnYY+FN17Bu+NatAZEUfY8wzLmKxMVRc8ihM\n",
       "Qnn1IZ++18Nk/QyTI8+UrZhi/dhJ23sNkZhYJvAXUr5zBkO79kqQeItkdZvmbz5pxBMy3LpXSbm4\n",
       "E9Lwroyre928laJbeZtREWS0LlVs8RD1FJe3mJZLwF/3Z/7KB57jIcOnNGf57g5JOwAAADpBn9lF\n",
       "FSwr/wAv1hox90m+cHWh2/MCRcT52vdn2xyAFvDmglosJ6R7Axf/Z4lMAw/LAAlYeleKEAyoAAAA\n",
       "KQGf+HRCfwAZH0Tmb/3w+opQ9pj6OIa/HlLmqFopoWHCcmMmgIOhSiLhAAAAJwGf+mpCfwAZJ5j+\n",
       "kQka+ipPVQE6souN8fJ102jUugYmSqFZEuuYMAAAASRBm/9JqEFsmUwIb//+p4QABuZIIQBOhiGA\n",
       "CgJLWsdQ+wvW32h6tIOLgoERA009Fb1KeBbTrtLqs61pvOHyAnm35uSWFgZEpMZik6eaTehGon3U\n",
       "Fb9IODmKv8aXrAOlUVVO3Ot605fzqRZCWey0wV9cyBeKmNSyRiFmVRdcTX4mGbgo7LTj213WNu79\n",
       "I6iUrIiGi30k4f2RIndekNSD3+CV7j2+zV+jJdnOkQwhoWcoNnTW6Mn4KIy5njwpX4wCcBUgaES4\n",
       "Q1wDi5wqW8I69ltIuRUFd0sHe0SbvOzB3lmnZmRMX23t2BuBiFIMgQFXjyeajsiWltB8EHIjV5wA\n",
       "gX47XN3LT+Qac+xq4CsVx/BE9wVp+UZ3xDc7jCq5pBGvLmCSoPmBAAAALUGeHUUVLCv/AC/WGjH3\n",
       "Sb5wdaHb8wJFxPnWsB49hOZGmGKs6AxVWHFEmNATsQAAAB0Bnjx0Qn8AGR9E5m/98PqKUPaY+jjL\n",
       "1l2I7cKJOAAAACYBnj5qQn8AGSeY/pEJGvoqT1UBO1jzMRuwe53K8xlGNJIUIFOgYAAAAPJBmiNJ\n",
       "qEFsmUwIb//+p4QABsBVf2td4Nh61oHy8ICGQ3GCexxrx+kUUN1XrdfUAKuF4V9PqW6LidPAnRE6\n",
       "45LYpvOkrdtWjCnDGQxEhnALvlaSk3y8IZDp7mQkSUXtpOIMc+LSxEFU6BrVqsgs3X0OaJAqZy1v\n",
       "WsJJetnsqH7+IVWN/9U/zPrbjdmDbfb1DP8GpwLoC5mWS8Bjy2mQSC4KMNmPUxePkN6ju5mLym3C\n",
       "6sYcHvGOXiLgrjP/zGwAYtq+OUG5K4yHi+k7LfrOepDnA2V/Mg8HE7mh2YBwOaE7SGs1MyiodYes\n",
       "OIOfJrb45sIcEQAAACdBnkFFFSwr/wAv1hox90m+cHWh2/MCRcT51p4dPzgsP8FqFQYAdcAAAAAj\n",
       "AZ5gdEJ/ABkfROZv/fD6ilD2mPo41x8mU7Q7T3I6kiRFvicAAAAeAZ5iakJ/ABknmP6RCRr6Kk9V\n",
       "ATqOMvJEKteYeZ/gAAABFkGaZ0moQWyZTAhv//6nhAAGvfL5faUyGqgGFG9IKgrqxP2J9jIAHTq2\n",
       "FJyv9rz6D4H9mPsYOBRQ/bCKK8xB1aPwqWwdpe9sfOhnsLZY5/WKrjPtJAc/nO9tqUiOPPm8qkLB\n",
       "T/KTOIEOVsCPjL2RVfAU8fljYRpJTJoDFD2I/7ikyp6xvAUD/6gg1iMqscYPPNBfN7XJ6jOs9I+l\n",
       "EJGimIiWj1vfsbjM9llsruAFUWDHj5tNlzG0t2R0C1jekeB8HgUc/5xaZ+T9B2vq7YLJfh3doDAG\n",
       "/8kF/aUvVez6+8oPK/b4UgwWqOVu0MJ0njOzJ/PrsxTo6PRwBlQRwADXsG0y9CQmXXAmfvKlq8pj\n",
       "mEqkyqgXYjfhAAAAJkGehUUVLCv/AC/WGjH3Sb5wdaHb8wJFxPnWngl1nhw9BXM4BQEPAAAAHQGe\n",
       "pHRCfwAZH0Tmb/3w+opQ9pj6OMvWHoUpNTjhAAAAHgGepmpCfwAZJ5j+kQka+ipPVQE6pD5rks6G\n",
       "gqwhbQAAARFBmqtJqEFsmUwIb//+p4QABr3pAv7+O+zUAflWtk1uD8qGOAD0dhDpXB9Lw3USOj/o\n",
       "dcgg++EMrjQ0yhwOHvWyiRI74tOUJMGl0KS9auVk7VcgsNIFBZyw/qFP8TtZvCbf1iX43gI0dU7m\n",
       "R1JCwrX1Y4YGJaaUFuxiejX1UxP1s18t/+7P62aYB2zmpdQgpp3WXt2u8sg4kyjX2FSoj9aUBIxI\n",
       "f5K29X2WShNrF/ePLcW+e0LZsmZTIWJ+xcNY8lfmdTHZc6pPeh7hdImENJrVshuRNmi5xioAfK/v\n",
       "KrSPOUThVfed9GKjI052MiAVd4CN6NkstaYhy4BGV9KDKqFHW7hWZDhN1LJ0y2ab3uyBToQAAAAn\n",
       "QZ7JRRUsK/8AL9YaMfdJvnB1odvzAkXE+dbEzyJg3EZecPQUYBDwAAAAHwGe6HRCfwAZH0Tmb/3w\n",
       "+opQ9pj6ONYiIjXTT//PAr8AAAAfAZ7qakJ/ABknmP6RCRr6Kk9VATqj8Iu+8g36bvCCLgAAAQxB\n",
       "mu9JqEFsmUwIb//+p4QABuZKHUAhM2rJBGq8Tf6+gstgToobNt3Hi6N2JM1NdjWcxh4AdD205Pco\n",
       "2DFG1TuCPXy93ntG+Y/UU+dmw93958XLq3OVsSour3A5a8sdqH1cTsGHIQ6MBSdrl5BhM7E+y49n\n",
       "UkWRXH3poWUcDscgN5sb/bSk7c9qeJ+FH/gXUH+E6f3A/ztixSxk4TT38Ejm6cgpYJLeihN5Nf5k\n",
       "zaMN+K1NPHPwd6YEWBka7gvWDh/lLoEavgBVCd6r68qUkeziBFoEyfBbiJrl3mZTujqnLfJS2UIh\n",
       "qk8IKIapXyI0xIzGJq7LSfJYzXNk4USPpptHaauxvsLnyaxqwJOAAAAAK0GfDUUVLCv/AC/WGjH3\n",
       "Sb5wdaHb8wJFxPna94OsiB5OV0nyTmAqdYKQgSsAAAAeAZ8sdEJ/ABkfROZv/fD6ilD2mPo/0ej8\n",
       "GYADtgYtAAAAIQGfLmpCfwAZJ5j+kQka+ipPVQE60GLSGp4ZglKDbgA67wAAAR9BmzNJqEFsmUwI\n",
       "b//+p4QABr7I0pAJAo8zhdZIFtKzKeFtemynKp0ru+n61MGSBwrGRKEk00W48MiD/YFZ3B/T1DtM\n",
       "a929FAsZmNIdsJi9hmdVDGm/dtNRGuZ26v9ttUejkYreGIA3ZfvEEDBeMQqnusJc577fONXCIuvd\n",
       "jl541CzqHZ+86He5wfSE8wTgzWnCFPl/9Syy6d6nzGrUmF5R8AaxTkv37wnJ3F8WWLngUu/EmLNw\n",
       "O2Gh+r8Y+iRzn7tmAfzHbZPgJrOqR9Q6WBdFGNGDW+r13jBCURNhuef+aQunHeFAp6fmWkvGSQS6\n",
       "Hj57GluLP37frChqQzbxKU/yoXrc3Yal7RuP/dETG5lYVGYfLeh8b9T29Yl75fYb/AAAACxBn1FF\n",
       "FSwr/wAv1hox90m+cHWh2/MCRcT51p4eMX3C+PKPHFI5k3xjZf4P8AAAACEBn3B0Qn8AGR9E5m/9\n",
       "8PqKUPaY+jjXGTc+gdSczvsSCFkAAAAhAZ9yakJ/ABknmP6RCRr6Kk9VATqONad1ajFXmPDBnQUk\n",
       "AAAA10Gbd0moQWyZTAhv//6nhAAGlfLvoAT7/w1UAe6JkN7mdrRF/H4vCnTqp38Dg7J7QSn6+nUp\n",
       "u8WVOViKkraU/fGC75kkYqQf3xtRfdrSkaZK9dxGxI0xSHLOa72lUyxaIfxgCheRKSQuW/lUjDt8\n",
       "rav9tWYxwiaqPE6fpXGPvGJlNQBpgCVwWkJMqGkl5SkYFvTA2RD7BvDjpwaVdYJsCIJzCjkT5grN\n",
       "nY985N46sYCTAKVAdTB798B8RRQRivMNwXkZpBz7r1vurrV+7P3MdCtOKYpjoELAAAAAK0GflUUV\n",
       "LCv/AC/WGjH3Sb5wdaHb68lbnis030HpilxflOxM5hALSxvkgqcAAAAjAZ+0dEJ/ABkfROZv/fD6\n",
       "ilD2mPp1LK7oLJZXpgTNTx+xwd0AAAAjAZ+2akJ/ABknmP6RCRr6BlqHEsiIHlmY/xjv/cDJ1AnA\n",
       "EPEAAAC8QZu7SahBbJlMCG///qeEAAxPsqMVY/G/0p2quYiBPDqIhEJCN7SK4YA2f6CgpyubXYM1\n",
       "KpLj2Ef9jQ2mXoj711sz9UUPaj5J4kwNA9XLUaXNYqDBk095UvkH1hhWylW9iBcPJf0ekcx3/nXI\n",
       "Ff6nKdzZwcxCB7gAnetBMWa4GhklGPBiQo3rW2ANfI9pbnnNZvw5S5juOLjdyk2gBigYNU56UXix\n",
       "HUh8EWNpHOdLtJs2R3QZ6SHAjrHgaTkAAAApQZ/ZRRUsK/8AL9YaMfdJvnB1odvtDwpsBqm+hH02\n",
       "BL9Mb+kgIo8bgeEAAAAiAZ/4dEJ/ABkfROZv/fD6NDjLEj6slSq4X4uu1lhc9YANWQAAACABn/pq\n",
       "Qn8AGSeY/pEJGvoqT1UBOo41p3VqMVeY4VQCdgAAANtBm/9JqEFsmUwIb//+p4QABpXy8FSyy7Wb\n",
       "UouoBmSu/4AE036AYzsDqRtf2bNJGWE8Gg5Q9mUgOdbLRMUwuQAcLEUqcSv15BxLmcWwAqlZ2q+C\n",
       "3T0yoF92tJniTpjwA09EOvnDNhf2W0EPd4EilmIY1Kiwp78KjrJB/PwUIGmVMTcIyjff9dG0Gwew\n",
       "KMdlj87DSlcBOHE6pPy75lZE5rjK7kZhUJZsMJvPMFyv6StS1IO0zIDYoX65133aCNTQ43kf2SAn\n",
       "zsm8u0P07Lykw26df3V2a4lkBHhppIEAAAAoQZ4dRRUsK/8AL9YaMfdJvnB1odvzAkXE+daeHgba\n",
       "ItS5LhCrEPA7oQAAACMBnjx0Qn8AGR9E5m/98PqKUPaY+wY8KA26yIgCrKT+O5UIGAAAACEBnj5q\n",
       "Qn8AGSeY/pEJGvoqT1UBOo41p3ZkNK8ifB2AMCAAAAC0QZojSahBbJlMCG///qeEAAbAVX9xnOUR\n",
       "Yc4v/0RbZvBCz7Bo12cAVoT2sKvyVr3f/qJ66tp0uQ8L9tOoxp+Gm6SFXlVw8Iet81/bMh+ue9h8\n",
       "Lel5lEox6F8sQ+GeyRSAfsRA+3E5b39ZZtDVYZxoCr6ZbRmbvdWjMv6hIa522vzSz3M5gx/GSdjg\n",
       "Dvglab1W7vtMPDhBn7uHel0JhlzDzr6uQLcc5UmMCHbScoZPXn+uQ/2pAAAAK0GeQUUVLCv/AC/W\n",
       "GjH3Sb5wdaHb8wJFxPnWuL0PYFlRXnt7SPdAaueqDFgAAAAhAZ5gdEJ/ABkfROZv/fD6ilD2mPo4\n",
       "16sET67rYhJYuCDhAAAAIQGeYmpCfwAZJ5j+kQka+ipPVQE6jjXL2lJZDVSs+OgGLAAAANBBmmdJ\n",
       "qEFsmUwIb//+p4QABuZJyQCDYSiLwaEMIiKWYgDxQyW5/oVPGayQroPbunB4bQ9UB2gdY6VeEr6m\n",
       "E0iHZGMFZk72gi95vYp/1CHm5RKFtsTANrxIU8FBa7VLuQxU5pyBptWN68GZcpSPOf7wHzCCvn6s\n",
       "Y8a/H38FLuxdrt2q8BxoYVnIxBc9GOO8izG0h32BKeUNTaYoSAYKKPhESyeJrGDGryOHfyyUEi1O\n",
       "ucHdDQ7Lld9uXPRDNAJVoywZ1VS5yBQa7TStzfMh9i7hAAAALEGehUUVLCv/AC/WGjH3Sb5wdaHb\n",
       "8wJFxPnWuL0PYFlRZlpfFVLiz97CjgypAAAAJQGepHRCfwAZH0Tmb/3w+opQ9pj7Fj8pN2PBbEz9\n",
       "9Y4ChbUuLiEAAAAiAZ6makJ/ABknmP6RCRr6Kk9VATqONcvJmfD0BzNfVgBFwQAAALZBmqtJqEFs\n",
       "mUwIb//+p4QABr3y8FS1wqgD9P/mVo/gJzXdH3xfuVk0VT20DUZCPC7Qwn10FFN+Cvhq7WONqage\n",
       "RpPyy+OvbacJKesaNYyFaUFsCDU3e8SZ1RHioYGpnABKBg4YazChn4bkAwxBr/oVrwwcBapJgG7X\n",
       "0CGt1Ky1qvJyuSSDPe09KViFL9p9wIJ0CAtXkBh6eP60WT9luHqxfHekzS1iSax/wTh2a+WWMPo+\n",
       "E8zzKAAAAChBnslFFSwr/wAv1hox90m+cHWh2/MCRcT51p4fKrcEBZbrng/yngk4AAAAIwGe6HRC\n",
       "fwAZH0Tmb/3w+opQ9pj7Fj8pOTDYpkaJbVNIAJOBAAAAIAGe6mpCfwAZJ5j+kQka+ipPVQE6jjXL\n",
       "yZnw9ABBQG9AAAAA30Ga70moQWyZTAhv//6nhAAGlfLwU5Pgpr6wAJoWZqCu+YK1/ySgpnGR9ZXx\n",
       "vnL7clW7Ts6F0a9+rwPBmuIT3alfbV9/SWDqRgBRanna9mdotOYZqvGKlL2DDCREq5FD3qyD03Vd\n",
       "neyV85KM2ZwI2Lq68AiWkLTFuUZzfwieVELhUucDGDdap9ODZdYG5Ds36xibjAA/oupQVrJCtBYZ\n",
       "PhHIBVkwt9z/a4qSha5xuCd7c7hFA9f2ci2bxnTOBd3iedNT+/joCC9gVu7PBqY6BbSAC/LbKh83\n",
       "yMEw8VY9p4QAAAAqQZ8NRRUsK/8AL9YaMfdJvnB1odvzAkXE+daeIkpRRkSfGUB5VipJyAcdAAAA\n",
       "IQGfLHRCfwAZH0Tmb/3w+opQ9pj7Fj8pOUOz0qTngvoGpQAAAB8Bny5qQn8AGSeY/pEJGvoqT1UB\n",
       "Oo41y8mZ8J8FmAelAAAA1kGbM0moQWyZTAhv//6nhAAGvfNLspOUAgXcQKDDPGlbgJlsKP5it1bj\n",
       "ZuPQpDJcOhLRpgUUpwRrjd3wYxXDP9y9atWkFqIvH7Fj3rF6QFKhhCiks2/ZZeQZ9Ykg5nwfZBk3\n",
       "VLpr/9yJxF+Lp3JDo+dKG9fdA85P80taXsFnOZ/FgwUcHktBebakmIrzCGvB3bacAwXzGWnPzLjF\n",
       "Re5sgjzOkytjSCdD6d3pWPpFYkwPd3SJcQY5NbV7qLr2cPQY6nICED3aAqNoSm8XBCpfHmpsRAP3\n",
       "h6wAAAAsQZ9RRRUsK/8AL9YaMfdJvnB1odvzAkXE+ef78ziCspoHFy8uLk+YWKUAakAAAAAhAZ9w\n",
       "dEJ/ABkfROZv/fD6ilD2mPsP8oBuJNPc8MJk2AKTAAAAIAGfcmpCfwAZJ5j+kQka+ipPVQE6jjXK\n",
       "xPgU68OLEBZQAAAArkGbd0moQWyZTAhv//6nhAAGlfLwU5RRwIqFLMAASgQkMDxdwcPk0vHJBa1R\n",
       "gDcyLdbMj3ZogcuRWA54TcrMsnZFIqwh9YtSmZmXF6Vg5iZYsaDOId1RYK6jGJWNUjx6A6CqOm3m\n",
       "6+ufUA0F0Qj4QNXLAYe6bI4rtq5xCHmqcp84LsC8hQfBn9CzcOMB2xzhLgAsnRKbxF/R52fTBIt+\n",
       "ZzwC92o8Grs+FiXooNGRxwAAAClBn5VFFSwr/wAv1hox90m+cHWh2/MCRcT51p4fKwhKoFlJMKCo\n",
       "kAA6YQAAACMBn7R0Qn8AGR9E5m/98PqKUPaY9za0wcABq8yQVWCkuOoCVgAAACIBn7ZqQn8AGSeY\n",
       "/pEJGvoqT1UBOjPPHPzhgk2dmqqhNQKTAAAAokGbu0moQWyZTAhv//6nhAAGRfLwU4P03+D4a3qx\n",
       "BWcaSANb3i2oUmG5KPbiC9hQLG5o3VXuw7LTQfucL/qk+P6R2SgLeYCpoOvTOaPWUsJVr8FQuiXt\n",
       "pUzNVFT/tsY9s1vu0tbs5BxW8qVz8yYEn1i86xN7yylHQaZ2yKvSznhSebDm0nS+iVy6DEX+4wXF\n",
       "mgYtcCbJxQg+QmgXKeIwR1hRxwAAACtBn9lFFSwr/wAv1hox90m+cHWh2/MCRcT51p4fKvhUONq5\n",
       "nYQBIlhK+D5gAAAAIQGf+HRCfwAZH0Tmb/3w+opQ9pj6ONhkLMUtkjuRWWA3oQAAACIBn/pqQn8A\n",
       "GSeY/pEJGvoqT1UBOo41yrSeeeVC4F5DwOmAAAAApkGb/0moQWyZTAhv//6nhAAGlfJKQCQAMuCj\n",
       "0J5UfPKOtR8+o0wsVRF/6izW1NJth+jN/Jfi1uV47SXve2QzBO5Y9c9yv8htO/YrxsdvLk9cXflR\n",
       "Zf9kQjKU9oyu7zXvas2l3MysdMQiuJYzdeEPTHfCzSmnP12CzpSr1VhO/hHboQ2sTV1olKbLyQUt\n",
       "cXotfIRYmvyfShhoP1AnwpRpDHvOJMXMS8EAAAAtQZ4dRRUsK/8AL9YaMfdJvnB1odvzAkXE+efr\n",
       "iHNgzO92F3lRoTIKZnEoALKBAAAAIQGePHRCfwAZH0Tmb/3w+opQ9pj6dSy1tXshdIzsB2gN6AAA\n",
       "ACEBnj5qQn8AGSeY/pEJGvoqT1UBOo41y58masRdZQL2BVQAAACXQZojSahBbJlMCG///qeEAAa9\n",
       "8kpAJUHWUaOARr60n9LD0T8qMxTg6Rn/TgcDO8QiCTZgxD5WuLcD4H2pOmn6v7/Efw9eVUuK9089\n",
       "3xSH4IIfmv4cRvAH1JjbhddaPk+RdQvL2Hr8iZSxIsaeMUOK48XW+B1YB1hA+67dN1E1Q3dGdE1t\n",
       "2MVUYfVjv7sqSihrqZHXvOPU/wAAACpBnkFFFSwr/wAv1hox90m+cHWh2/MCRcT51p4fKbQ1Y3iD\n",
       "FTQv85ztgyoAAAAkAZ5gdEJ/ABkfROZv/fD6ilD2mPsGPCmyOGmqQMjYYtOyoDAhAAAAIAGeYmpC\n",
       "fwAZJ5j+kQka+ipPVQE6jjXLnewb0/qIgBCwAAAAmkGaZ0moQWyZTAhv//6nhAAGlWf3AAlEnen2\n",
       "5wevhhIl7FIBZkW6XjCOgAR2Zahr4bsxGUUNRLrgGTOZj3wyr9UInf7F+YuaxYfZCDRniCq5T9je\n",
       "DXvYPT1+aXYM2uoUUNwJ+GF5xm99RRQ/0NjIYj4GlcCntHRIWUGKjcYXV9BtsL/PKu3gE8BkMpZ/\n",
       "VibUOEIYlxse5PCcAkcAAAArQZ6FRRUsK/8AL9YaMfdJvnB1odvzAkXE+efriHTu1/iOm01SiCfW\n",
       "eW0FtQAAACQBnqR0Qn8AGR9E5m/98PqKUPaY+jjYaf6puTRpVvudxooAUEEAAAAeAZ6makJ/ABkn\n",
       "mP6RCRr6Kk9VATqONYTJnXkJgAwZAAAAnkGaq0moQWyZTAhv//6nhAAG5kodQCEg1MCk0uNBv/v4\n",
       "F6hd/EydbH1AEq0noAAkVFXzYqbOfabqZo9BmhZsH3stnsNM8kv/AVV6m1GkMhgWaT1nGvIx7Hjj\n",
       "BCMzKkRCdm4Bj3LMWkD7aMWnabqBswptO0VIUXhY6FNHvOaHkuJWPAegxf8+nHuqPaiJ8OVnHDox\n",
       "pn2Ra4KU3+vLnvS8AAAAKkGeyUUVLCv/AC/WGjH3Sb5wdaHb8wJFxPnWnh4G2iHbMm3doQp3BbMH\n",
       "LAAAACMBnuh0Qn8AGR9E5m/98PqKUPaY+jjXG1SaOJTstrQ53dB3QQAAAB8BnupqQn8AGSeY/pEJ\n",
       "GvoqT1UBOjPPDSGH2eAhIDFgAAAAbEGa70moQWyZTAhv//6nhAAGlfNLsnynqDx6DhqbZ0gvlABu\n",
       "O2gUhBuH3L99xz7LHeWVHfJ415CI3g0v+rfP5OCWVOSTUv6A7zyWe5E9LGYZKz0AHYnXfp22A1QZ\n",
       "mxO09yOxCothZn20zEvEfAAAAClBnw1FFSwr/wAv1hox90m+cHWh2/MCRcT58WUIQhNmlFagj5CS\n",
       "XIDegQAAACABnyx0Qn8AGR9E5m/98PqKUPaY+xY/F5ESUTEeFsgLaQAAAB8Bny5qQn8AGSeY/pEJ\n",
       "GvoqT1UBOo40ARnscdMRUBqRAAAAdkGbM0moQWyZTAhv//6nhAAGbfNLsnvLOdfQQYKMxWkFAJol\n",
       "762kdbQobCb3dfpRL5edZ69KmwFHlsIdA9FEBhl2hh+cOIFFtQ3s97UlltO1aB1n+8Z99+TWq4ES\n",
       "7zs7ErU5Pzrp8ebxBDXnSO19uMDUAiIc3AgAAAApQZ9RRRUsK/8AL9YaMfdJvnB1odvzAkXE+dbP\n",
       "IlaL3DnJUJ9K7hoALKAAAAAeAZ9wdEJ/ABkfROZv/fD6ilD2mPp1LDDIS7QvYEfBAAAAIAGfcmpC\n",
       "fwAZJ5j+kQka+ipPVQE6j/LRP7JEj4j6rATcAAAAhUGbd0moQWyZTAhv//6nhAAGRfNL22/RPA1A\n",
       "IE7ARxfBoc7MztSaiApZ0E19//2nhhYJQr9dqzjlTmNvWDxdz80ijo8c3e/PVPIt4PCzIKqEuyzN\n",
       "B6aLn5YWsBRglxPcjwodSfA6Pltb37JjJvnToA3+teeOGB2zAiN1OuGGFUyLAPiEB3QAAAAoQZ+V\n",
       "RRUsK/8AL9YaMfdJvnB1odvzAkXE+da4vPkotAtJtgWEW4DGgQAAACEBn7R0Qn8AGR9E5m/98PqK\n",
       "UPaY+xZPyWOQ++yFwsMAMWAAAAAeAZ+2akJ/ABknmP6RCRr6Kk9VATqP8sgZImkEaAYtAAAAHEGb\n",
       "uUmoQWyZTBRMK//+OEAAWGbUDPWAtUPtm4UAAAAlAZ/YakJ/ADzXvaP7MHXge5RDY0d94KVa42S1\n",
       "b7OEzdwjoygH+AAAFwFliIIABD/+94G/MstfIrrJcfnnfSyszzzkPHJdia640AAAAwAM3Yie4PCt\n",
       "dD0V4AAgIABMRwqiSvw809wANqgLDAKmFLISBMlrw88ogUmHRze95EqD8McQVpRJz3rJ5xayT53H\n",
       "TzpbQgGy5Pwnz2CM6p4ShOhi+S4x+yl3g8FxOixuUJMvuRaLjHPrS5JGb2f/yPv/u3trbgARQgLj\n",
       "yBZJQpHtXLwsQbY8H9FOO9ZDPSpr6+QidjDpAS+YPzC+orodsD3uB5xi6C7sjxeelRbPsD5CEt3L\n",
       "5Ch7QTuuBhVzwlKg/v2xRgOIqUCMyJ+sQqcSD4UtcIwyw7oGmlnxzQcVp3nQQpdtoxlH6Ph8SycX\n",
       "h+IOpJ+l2PMR60PdPXGECrhPATGL5U71QoAXAbLsyAiHeRbBFJoJIEVr386lYaiAmAnCri0rMH55\n",
       "GVNlWrMLJ+kESJDPrc99EPesXbPE0AdRfEpG8BPK7/+7SRr77fdxWLCFu9I/8wuchN4dSWp6htCt\n",
       "aVxTPd1VWcIW/VORHdpYiMUDTo7VRBUF2H5LK0KsYIOxQC4N0oRuJUUCSOk7yeKiYjT3bCf8H7nG\n",
       "rC19o5IpCEp1lcYSRIvkoO7V1PIIfF2Nx/J8XAlQeidyqU8H8+p3wzHSEnQaQtpRHkP6H7gQjRkk\n",
       "Osybqv8cY7+KWNV6/NW63yH1Ihi7JFoC6raFgqBqwBjnlGZ3Z2P01Ry/cIktw78ig8iX33qTMf00\n",
       "+/yIdp0lt2YNpn9REKXB5bJeViMzV695MLBzQirWHqNrYyt/Lboag+M+SyY63c0KcHJWwe7UJNlK\n",
       "6fKextnHEe87t3+ITpPTxvtYvrILhL0Ssy8xdO54pSWZiuUiyfttLUchtlMcW8ASc4ArKXRwWfvm\n",
       "gsrOloiOV1p7yIuc5K/ouNGHVP/HyhLqI3pZnz1VtqEeTpRUUqUlWav7gvR1MTSDUY9j2aGCi7eP\n",
       "iSWaPxVgPALcg8uxWmLzJ+pIY5d8KJSKu8DTca2FgDn1WrEe68a97LY8V5tTgUEzqhz90YUsgUiV\n",
       "p27hxVB+NIG3JLa3rdsOkqPWsvwBNsZzGcPxHWWy0k9UY6NkJ5XDLl0RIJ7DoCVLNmeiPIhgBAgH\n",
       "RsEI9YZpC3hDuqV/yhwIHd/f5WfP0/HZJiNQ5Y5hZq9yqVd8YiU2L5ztAbd/J3E0vrszbDjpTvw+\n",
       "VSdjLqnHMEdiPD6+QuQDmadOlZrNgKhsKxh5Zuj485eM/ZdPUb0+Azm8rVAgq7ZwK4sIMBVWZ96C\n",
       "xbwRteSAWpzccAh5o5b2kyrg1L+TrbYiQC42nh5oL4F+U7ZHsJY8ttf4N+1T3LJLxS1KDzC68Ev8\n",
       "W+QzFrDVCA59rptGYlzeeZ1RFtbwmAOmTWZLaKTaAnc3sRf1YwpshXJCXH3w20udH9FfEb+q8JQL\n",
       "vwGTgQ6iW8pMp1T0Ej5QypbFhreiHxnHFasqjVMj81ToE3KaMbIdgzo14lbjovT0Uvu3zU/VGQV4\n",
       "JvSJPTcpb2rhzj0Ei5PMmMtCVlJmddpFXZzksK31hNmjcTUHW6E3IFwj5jHDhX0AazbQydUo6Blu\n",
       "FHfdEOWpI7luWwEaS0AhCGoW4IKydPlBGSVZNyoZ1uajX8SiX6FrbipPIlnZJt/V2MWFIW8NDtLs\n",
       "RR/Wce6D+Y2NYQCqbeSwF9g4yLCd0acEulaxyeDbs7ObZExU07aXbggGHWpqGub3ynCHDFcnJLqZ\n",
       "fZ5A+pJZq45iUKnfm1/Y9SoYm0q4v6DHPTjxlwHMm0sG53PvjB2YrY2eZXqe7LrPonR7xBqdTwXz\n",
       "VXF6YugdlpHJ6yPR7Oel27OxLhmt7AadqvJCCvV247VHNQO0E0O5oEj6KORyzvK9oAp3cC57w35m\n",
       "LDt2A1O3nA7ldXFxX3gGiLm2UC3ezTjevbv6a9SfcHTrP5mLewp5g1nz8JWXy5zXw4xCiY9t4zh1\n",
       "+Ip7lWDjNZbm1bOAcfUhTCDFdZSeKg2/ZGmpoyZp4Wh3Nq6FbvW5Z7me3iXAmheqNESqz0pGbr66\n",
       "O72g2J2XkQZ+Kkk/Y2Ij28wEXq95jTfWcbsYiIaM/+DnkTfS6zoPXUZa4x+ibYnWem/BsyZp5rfj\n",
       "foZ0MjCHvVz3OoPTpBHZ3wHx7uB7xQgT6OOnDGlyQba1cfcTDh3/Q7n7Gj04+GnvXHfeE3HuCoJL\n",
       "USDF7x+NuqZywDqDjyzj18yvq1eUs1MQ+btVdiW7xawuuqmzKmrKmZ+CdFh0RfnQU2sEDIConqAD\n",
       "mteYHFgytmASgYGUYb9USsKlBdN5IssSFCRE4794c47pyTz7z+uer2yaXVNpMb8DgEg+2yqckxBd\n",
       "z1pAzBYFA39UQnqI5hEjQf/i8n9E7R31v9klHvFlx2WlgTzktMv/UMI/L9Wj7KHVBINBPQkYl2D7\n",
       "WRpOmILOALXCFw4Rtl9T7Z3y285l8PFoA5VrhOtX4VhxrnRsj/LAV6kB5PTnOOXR9fAl4iIHAxmf\n",
       "ldjKsMnD1yCn91silOSm2ZHhbmN8GBxGyTzJDw0rEI/koP8dG3s25J808NfQ2Rtf7lPRt14QhGYn\n",
       "TDAzQU0ziGo6mmU7PtamiSS5l3Op3Cf0/l7rW09e3ITZArmcx80MAjF+4zumgLlPotE6XsPU+DQ3\n",
       "Js06C1jgI+vVeBixtU3u7eygLjzrzJiMnK3fZH0b5StgTDr4ZJ6bCQ066PllIoxBVnVVUWvjDGaF\n",
       "x6pY9uNi3a26cmLbMKsVAFBd4M8NUiYo92U20bkzOhfqbfx5ngdq9r5ZGLCQGXwsGJdXzJ/DDFhu\n",
       "3gRDQmIIpZ1KZBouc+T+5iYtzvnVQz6y8NULiQxBPwQunS0nx5UNfgYuwkkyLtTSVpcjNqxi7Qvr\n",
       "PBzA2jnn1eNJx174Bp+ZIh/Vxg/gOeBQci2Xk4Ga73YuNBcREzaVp1B/esjXarfP2I+1jbZApGOt\n",
       "hOcCdkgv5bpUf3hqrbQhT2TUp26VTrqLG1AB/5P36JXH1MiXCar9WirStznHzeMlofu0ivOqpc4e\n",
       "ELX1XrUPq6ozebkuMlFLuAq2P+uq2JAkCkgcsQ1wEWhE/KqYMyeywouIiNFn37Y2GFvfBfLWc53P\n",
       "WBlivrbIpRtjBZLA0TnXUxkEOa2YiSJeyQ7boW/J/FdtLs/I4MwaCJ9DTVV/bna/hjQNTLyKD8af\n",
       "FHL0XFf47y99tPEjVWjpE07A0CtDLzTLfYj98PNTWluC2S9Ck4hlcQI/feSz2O7nJYKunsnw8xFp\n",
       "0UYKLUBvSlbG77z5dCYbtPPFGPy8H8PosfxQsnzQmGJTS3zMdJ/2pU0t2FKf1Yub4tvSxLUM8Ul/\n",
       "ZIs7C++GDoFyApDqA+30zkmPv5NpNkSF+conimpuHEcAA90Y7fjdQ9eIUX9VLkJ9YagWByDuXpW3\n",
       "GLoUu519Q2xAF+QSK1x3faq7eSHbkLGdiIyyei+JpgNtQklqjTD9eY2ujf4c6n+oE1eenshAn6Dk\n",
       "R5SgX7whNXk3F6/vvXTUxC5wD5XMHzsHLHuU5Yw3ntfamQ6DSl/wdgUWwJ9Ng4LTnOvK8GSB9fMI\n",
       "r/QF4S8AF5Cqkve9Um4p8I8b00Q4L9szhHXCJBLCPkYlJ2H3dRK74Qki7kgFUKwGBOoTjhT536Bt\n",
       "dTHKgVYaJT9II4P/3xJ79eXFqrnbV5hTwsM9LoIAgUuLlDJ6a6FaiT76dwXgcpVEEzFdV4R++yOS\n",
       "R/IFLNRSgKgX3ObPX0+/nv2h/Xrg5S5lZYci2dR8cdMMAxZ0TDWeJ7EGbGnj9sO5pC70syBtfRJa\n",
       "ddj+EGchytApEAliyxCBa2t2WvxTUwY6HqnEpFWcqKEMAhvkh4Tvnfwp6KYXPlsnWukmuEfwElUw\n",
       "Fr0gz3tDidCvwgILXItU3JQoUPJKT+ATNM0a6e4YnwUh6ltqOy/dyhdj7OGdpSwK1rDQiZyH7sTN\n",
       "/V0l6kksSg7QFUI8gGx8PhUPkaIn+dRc2gFrhk+3DiYuqdNR66zdJV5+5/vVeT4igwioK7WtVWqh\n",
       "ZvPyyf1m4F52nqjIT3wlS5RzR3rASmVt/5rBxJjzIBfwNyCZde/99BMKorwn9WmJNveWHa55FWL7\n",
       "i9rTvdq4tiPIAB7YTPfcOiWnNBm0+iEctDlh880GIFQy90BCy7kiWyBqSgjogj7jXzM01MhpfL2p\n",
       "Q3EJynzScNx0UnYi6sXoorH91Xt5mCkq/63fVBNjPYzvycyfiX3D+wA3CzlLUIv1jXouvIH3tq30\n",
       "+aKQxMwpK46zzsuofeG4fKhLXDkictvh5VPFPuRB8nOgc9zpUwyv7Rp0GcVZt5lf/4Y+ibhbWDm1\n",
       "AtNS4qy71Vji24DIuafEzL3NEbx0EwHREsYut/VNbhpdl2viyK7g4Dznf6sM7apf4YAjTmImaap4\n",
       "SpxTQkNRuNJxkQ/N6G1B88WNEr/S8CcJtcbMpmed2hcgUnrM7WuvyfzjItOuds5tHdSJ5BzAyfVx\n",
       "Kiinlw8HBbvlj958xHDdOyEKsWmrBdmTndT8mZcD4rTTgAF9zBA9d9iQNBM9LYqbgDWO+HgevBnr\n",
       "2qEhbBw+Q1NFry4r5qK/9kHwXQB4CTRcLInCXK1hLzLVHN8WH28VsPoe8fWWfv880eOQnxDASfoP\n",
       "Yf2nioCVKJg6pIC/TAqqfy1f6zAlqHCTMj4Sy5/BB0J8zC53xlBO7+tA21THY8p4f3Pyp+bl8GZQ\n",
       "ydjElNJk32tUdzxkwsICXv+Mq7Ugl7lZpz8nof/nSjCiHc4/Y5M3zsbluBNPGQgyMCQ7SOE7G5zo\n",
       "++XM+0t2pCP22GeUe0DpQn8EKfHU2NFXQsruDkdLI/3pWMrsSrm7C7Jo4waDztSTXjWDLfSiIy0X\n",
       "wcyP4ArWi+aQs+qJzClgwC+xY+xSPIlIHU1w8t7LyWkcUDa6e/YC1aA4KCyLfjqLceVSK2kaE/4d\n",
       "9yS/ypCMau0pmMNmnGtvsw+n970FmjPxQjIczkTWLXR2CtBBzRfFvyrmO/5YZMAts0B9fXMnGOfE\n",
       "kLfbqOR/4BPT5m+7NOz+yV7L0lpOhEC98iY6NIXqje/TPgXJQ0wcgZgbKGCzmB6Hqvlj+3FJkE6r\n",
       "Mbs0OPK5UneMOSbxFe9Stu5CZjVAdu0ff6Z+V0//0jo4rrDnlqSTqSMzvNPeq7cnkZTkwkzy6sWZ\n",
       "fS/ep1gfo6VQDCYNh9Ka5WQ1auagNFQi4AMSd4gQzYxp4shTHmzfSesKql0uIwh7SKFx1KAe3a0R\n",
       "TQ872gbye9qkykpM1+MmeB8o5B6fXV/czqHryFrsMZhwCsWDWoaacEXdP1gwVseefDKCqCiM2OHI\n",
       "n2ICqC0emFB0KzzuGOr1uc5bwAHT6hPdox+v5aOagaWz7mEc6RKEQtNIIqS7jG8qLXdHKS4jXZzk\n",
       "TO4ipZmxRBqTUqKjfEopQad96R35u+92LnwY19yl/sOxAsTSQK2VZMjuT8vJIQO3GCSe1xFNFkbO\n",
       "69oFY+inGvrIDyu7hJ9gcus+CXbcDuv0mTINxULOLNxoH/Su9JZYbB5XSdNrul4Qx7jax2CwGATI\n",
       "PUTMSH9BQiPhouGCkwAaVWQPbVRpAkCFUBX4BLw0khcDI0jOV0F55AaNCeb6xTrnw116tpDAZ+dS\n",
       "14mrTrf5nPhIsna9LF9fRA3oulsifXQ/XJRMo9FJyyzpNbngj2oKp2KxUqNzUX84E+hm2A0H+j5o\n",
       "5BBrCuxeJKMh9NGZmXPDzB5CychpGhYAryujGIOhYPUdvURE7L7lREXaeT7O+BT6KH+9dUCYMXox\n",
       "hGoVyF80HZA8/faPTjCadYkGfWIIdtdYH5nI0dd89uO29Hvtoh/Hd8pRLcj7flpHq2Q/AreC5ZxZ\n",
       "XjRJ5JZr2duLXbyGCCDqhaq0GMu+GKhqdd1kzByq7Pu9yBECHcPh8Z6tHmDDQRfZf2DR0nba4bXA\n",
       "pRsgGpHfy7vFdwnHzNQzuBnKdqu5gGEYpyqVlOlteuQYVLFdcmHIN//5EtWQaFYjxRTgv/vYQxnz\n",
       "CwF7mejT64aGj/zCc0LZExgkVMLWuSiYQrgLhTX1ay0f5BwQbnAsOAdywK7SBQSuHjFUBLG87jzG\n",
       "mgdeJ4Sf4KeKXV6X9rWa6drAUVmqMSR9LWdSeP7/X8hF6jFmUL35vLrqT0WnTkP7juMapFgxbguF\n",
       "oNacYZqiWlE4nK32rKfH/Gn4pYHIXcL+Jzt2SFYfkZ5owRPVzs/VXXPyz8lbKtWzk/GU0EPeEfQk\n",
       "SXkvHKxQ6dCmKrzZWlCYIhiec1XWpLl9x1l9qmpheiIoHOHwModrLOSb/MkQBLjbHM/cTzVc2bn2\n",
       "DuU3MROX+iGnHyoOS7px4lIaDHLpMbBdeL5bYe3/VnCds7qsdmBjelj/XUw3GTHtNBrtFp4ofFzv\n",
       "KBvgQYV4aiDmTtug5iivQR7SadDz7n0kfmk2+f+LEAncONYKIXPc6WURvC3EfYKrPvrKbzLT8sfQ\n",
       "IZEMlbYJx4819dtttpFS8nYJBU6FIJMfXO1GX2MAnXzGDwlJ7k0BBgFbTxqzFR3s1gZl1y8R+MMi\n",
       "mzf6Z9TiRAKc0aeicRCaWfnhRRzxcYFgAvfsTkEquK3xE9iIzfKVpHt0gYfqCHT2dYVRLUYKmkL1\n",
       "0EvyXAEvt2vWnNThmX/NeOYKpKpKosuXFSQJ0iZMA9kOEvj/eJjw0IV6f9fzrX3mu4PffoZR9hFO\n",
       "Tx6GuDAu7858NVBum+arNnDONrD9hsWVj4pi7wrLOyuXJNoh/Hd8pRKmzZRziq9yLF8Gg9+xENeA\n",
       "Q/la+msmAE13E1iLV07Hx5aJY7XO79Kekd//mLQ4+JtUmkDnC3lUbQvP4p00Xv3eKGow0CbTAnhk\n",
       "wR/P9X6ZdZXAYwmarjWgHOsxjCJAJDWx0tgb0pOOaWd41kM0El4mgFcOxdeSQK6iRbRFb/8y2W5X\n",
       "ywiwiMY6kXrZbHh4Vxo4hek+xSXjfDCZ/U25eM+cfhm6KBVbyCwlwJjJrD5kmtRDakIFOPXWKP4K\n",
       "wKXW98ENMHZoQmDS2yeUxv09x5LIVMn/z2kMcW9NU+NgU6iruEtgO+UlfRgrx0P33YuuEjCZTDgA\n",
       "HOV1dreuHp3SXVXE/R6epdUfcpx4CNy0fZFhCJ6tvtmHvrFFFGO4TfO+01PJth2654HfRtXl6lcZ\n",
       "4oPPSebmHMNEooi5TFlqGlS3oNw2WSf2RqvoECxrxPsVgWw81lpj2dzwUZvZ+RqrRwNI/io3pxps\n",
       "ZbY+gUg6j/rFGfNoRtSS1725QwxVoKkA2+rr7aaz7bROSpAav/zYBj/rRbzOrk4CXJwOtvTlQGSz\n",
       "/mJb4Zp+T/D8oSfSuYS3MFJjBECGEfpa8K67lhrIf/xFA3zDR5a4f5tL1KRumwo9Cg9k5To01pco\n",
       "HPbkHXKsxah+z9UulBIKU+vWdNopPtW1zRIjoZlJs12WmAHH2NiSGN9wsdW7Zox7CrQ/qMrkB66o\n",
       "h4lRwYQFKSKm8h5E5/f4/vDgj+vO/15vGC/QaUDYazjk3mUKyPTCtdmDdn1R/XHaVbWPf8ZPFG4V\n",
       "gjW9N6nDLoyaLABKmP8LhUZuMfcbcJkMIVjMhaOrHLoiN7AAB2+AAHoJZv0QjlQCkvE3iJ0oTZfw\n",
       "N1F7YK7/SDi/L9RnZQuUAq/ZrWR6B7/btP0saqkW6wh5EsXTiQ+qitsJ5DmxGMJ6/x/9qj8/wnUr\n",
       "cz+hHBZ4iivvPxXY61Q/4X5Fmi1n46rYhFGXSky9M3rKIByQtdktniaFz+lX2TkqHSqdS+rqplyr\n",
       "wjgWy7xGmMbVLPHLbpPdkOt+xoMDkRgIVL9vjFPIi+lBcxoom7bKKuy2eGGgkEjCDObtSMdPQqpo\n",
       "4m8O1EmNFGqolciVYGhHpqyZt5YgeFOTwgADDH7icIEAAACWQZokbEN//qeEABz3IGgAbgld/CVz\n",
       "BQ3Pj9RptD5NkfX1JTM58qT8OGgIaKGDP1uzVWXDOHjuLjcXZYc/TCGH+yxeb3yFrzXJCQO7um0+\n",
       "YI7pBKHm96oJSHO8uIFueYOIK9G6LkhamLG69raU6qif1EXmZjNO4SzmosFjyMNvvOZVjuKs1s8Z\n",
       "1uSpqz21QR9a6KRzsAtIAAAAIEGeQniFfwAvOd+YahGHFPUmXbdoUZTtrAWaKl/yrVsxAAAAEwGe\n",
       "YXRCfwAeXbQPcitM6KtZy90AAAARAZ5jakJ/ADzPGVT8ek66CrgAAABLQZpoSahBaJlMCG///qeE\n",
       "AA7nsqLcGjG+CTlAIEbr6GNlwBGBOMRhZcmoXQXskNTVtlSobfmWGN9Ywvv3mgYZoC6i1rypK7CR\n",
       "4thQAAAAG0GehkURLCv/AC/WGaBJmpchOQbuWbI4vqB8wQAAABQBnqV0Qn8APLsyAqTbLR9rhbNj\n",
       "UgAAABQBnqdqQn8APM8ZmKkWqnOZbET3eQAAAEZBmqxJqEFsmUwIb//+p4QABm3zS6ln1w3aBDtt\n",
       "3iPxQBre8YbsQyL2oNgPfmr7tW3Id9aausQ6vN2O4+FPODqlPhuJe2fMAAAAHUGeykUVLCv/AC/W\n",
       "GaBhIw5L727YJkAjiAlKMJuBAAAAEwGe6XRCfwA8uzICpNss+Z3WzIEAAAAVAZ7rakJ/ADzPGZip\n",
       "GvJasOIdhVuBAAAAOUGa8EmoQWyZTAhv//6nhAAGlfNIsUrsLxfirYNu198dh3Gu6CH4czXLlg2s\n",
       "KATQWB4WbyvA+j5vzQAAABxBnw5FFSwr/wAv1hmgYSKtN/Ni7OUq7Z9w/RHpAAAAEwGfLXRCfwA8\n",
       "uzICpNss+Z3WzIAAAAAUAZ8vakJ/ADzPGZipDutdDUiRjHkAAABOQZs0SahBbJlMCG///qeEAAZF\n",
       "8vBTk+iPMCy79+9pAJlC90dLihaZTureCGI9cM0LifRnfZXcSYWs9+9iJiPFOLZvgTEMvF2NB9rI\n",
       "sGkvAAAAG0GfUkUVLCv/AC/WGaAlk0T7e/bIQfGZI4iBswAAABQBn3F0Qn8APLsyAqTbLT1WSBQG\n",
       "pQAAABMBn3NqQn8APM8ZmKkO6zrQuOqhAAAANEGbeEmoQWyZTAhv//6nhAAFqzNEvvlEZKiOMyop\n",
       "D9O/3i+E/8b8ABvz8BJHC/uEKiJOSmEAAAAdQZ+WRRUsK/8AL9YZoGEj6kH1LrxgvD3rfwnUlXcA\n",
       "AAATAZ+1dEJ/ADy7MgKk2yz5ndbMgAAAABMBn7dqQn8APM8ZmKkO6zrQuOqhAAAAOEGbvEmoQWyZ\n",
       "TAhv//6nhAAFhzLv2t+zQAU78eegTXUpsHiuXRB4QooYHFvS85SHsNHNIymqbMgEAAAAHkGf2kUV\n",
       "LCv/AC/WGaBhKffPaC9k6StK7bq1ht3hswAAABQBn/l0Qn8APLsyAqTbLQ41/PNjUwAAABMBn/tq\n",
       "Qn8APM8ZmKkO6zrQuOqgAAAAK0Gb4EmoQWyZTAhv//6nhAAGbfNLsnvLPNrFjqRF6kOag1HwzrDi\n",
       "yRKVtUEAAAAeQZ4eRRUsK/8AL9YZoGEj6kXwgMVEyYr/oLRzXVVRAAAAEwGePXRCfwA8uzICpNss\n",
       "+Z3WzIAAAAATAZ4/akJ/ADzPGZipDus60LjqoQAAACtBmiRJqEFsmUwIb//+p4QABkXzSkfKqudR\n",
       "q9JnxqpHIROfSw3wSXB0pgfpAAAAHkGeQkUVLCv/AC/WGaBhI+pF8Lb0Qx49ax8oUS2SMQAAABMB\n",
       "nmF0Qn8APLsyAqTbLPmd1syBAAAAEwGeY2pCfwA8zxmYqQ7rOtC46qAAAAAkQZpoSahBbJlMCG//\n",
       "/qeEAAXPM0SKHK8It2iZADcBHs8uzjjgAAAAHEGehkUVLCv/AC/WGaBhI+pF8Lb0KGJOjaxPqYEA\n",
       "AAATAZ6ldEJ/ADy7MgKk2yz5ndbMgAAAABMBnqdqQn8APM8ZmKkO6zrQuOqhAAAAJUGarEmoQWyZ\n",
       "TAhn//6eEAAaVnEV53TxSq5wgNwZ74UQxcKI3ZgAAAAdQZ7KRRUsK/8AL9YZoGEj6kXwf/1XK9WV\n",
       "yWk9MaEAAAATAZ7pdEJ/ADy7MgKk2yz5ndbMgQAAABMBnutqQn8APM8ZmKkO6zrQuOqhAAAAGUGa\n",
       "8EmoQWyZTAhX//44QABT5tQM9YBwDaEAAAAhQZ8ORRUsK/8AL9YZoGEqtZtIrrem4iqu/g9p5QgQ\n",
       "fzMaAAAAEwGfLXRCfwA8uzICpNss+Z3WzIAAAAATAZ8vakJ/ADzPGZipDus60LjqoQAAABhBmzFJ\n",
       "qEFsmUwIT//98QAAFziKprVz44AAABFGbW9vdgAAAGxtdmhkAAAAAAAAAAAAAAAAAAAD6AAAJxAA\n",
       "AQAAAQAAAAAAAAAAAAAAAAEAAAAAAAAAAAAAAAAAAAABAAAAAAAAAAAAAAAAAABAAAAAAAAAAAAA\n",
       "AAAAAAAAAAAAAAAAAAAAAAAAAAAAAgAAEHB0cmFrAAAAXHRraGQAAAADAAAAAAAAAAAAAAABAAAA\n",
       "AAAAJxAAAAAAAAAAAAAAAAAAAAAAAAEAAAAAAAAAAAAAAAAAAAABAAAAAAAAAAAAAAAAAABAAAAA\n",
       "AbAAAAEgAAAAAAAkZWR0cwAAABxlbHN0AAAAAAAAAAEAACcQAAAEAAABAAAAAA/obWRpYQAAACBt\n",
       "ZGhkAAAAAAAAAAAAAAAAAAA8AAACWABVxAAAAAAALWhkbHIAAAAAAAAAAHZpZGUAAAAAAAAAAAAA\n",
       "AABWaWRlb0hhbmRsZXIAAAAPk21pbmYAAAAUdm1oZAAAAAEAAAAAAAAAAAAAACRkaW5mAAAAHGRy\n",
       "ZWYAAAAAAAAAAQAAAAx1cmwgAAAAAQAAD1NzdGJsAAAAt3N0c2QAAAAAAAAAAQAAAKdhdmMxAAAA\n",
       "AAAAAAEAAAAAAAAAAAAAAAAAAAAAAbABIABIAAAASAAAAAAAAAABAAAAAAAAAAAAAAAAAAAAAAAA\n",
       "AAAAAAAAAAAAAAAAAAAAGP//AAAANWF2Y0MBZAAV/+EAGGdkABWs2UGwloQAAAMABAAAAwDwPFi2\n",
       "WAEABmjr48siwP34+AAAAAAcdXVpZGtoQPJfJE/FujmlG88DI/MAAAAAAAAAGHN0dHMAAAAAAAAA\n",
       "AQAAASwAAAIAAAAAGHN0c3MAAAAAAAAAAgAAAAEAAAD7AAAJcGN0dHMAAAAAAAABLAAAAAEAAAQA\n",
       "AAAAAQAACgAAAAABAAAEAAAAAAEAAAAAAAAAAQAAAgAAAAABAAAKAAAAAAEAAAQAAAAAAQAAAAAA\n",
       "AAABAAACAAAAAAEAAAoAAAAAAQAABAAAAAABAAAAAAAAAAEAAAIAAAAAAQAACgAAAAABAAAEAAAA\n",
       "AAEAAAAAAAAAAQAAAgAAAAABAAAKAAAAAAEAAAQAAAAAAQAAAAAAAAABAAACAAAAAAEAAAoAAAAA\n",
       "AQAABAAAAAABAAAAAAAAAAEAAAIAAAAAAQAACgAAAAABAAAEAAAAAAEAAAAAAAAAAQAAAgAAAAAB\n",
       "AAAKAAAAAAEAAAQAAAAAAQAAAAAAAAABAAACAAAAAAEAAAoAAAAAAQAABAAAAAABAAAAAAAAAAEA\n",
       "AAIAAAAAAQAACgAAAAABAAAEAAAAAAEAAAAAAAAAAQAAAgAAAAABAAAKAAAAAAEAAAQAAAAAAQAA\n",
       "AAAAAAABAAACAAAAAAEAAAoAAAAAAQAABAAAAAABAAAAAAAAAAEAAAIAAAAAAQAABgAAAAABAAAC\n",
       "AAAAAAEAAAoAAAAAAQAABAAAAAABAAAAAAAAAAEAAAIAAAAAAQAACgAAAAABAAAEAAAAAAEAAAAA\n",
       "AAAAAQAAAgAAAAABAAAKAAAAAAEAAAQAAAAAAQAAAAAAAAABAAACAAAAAAEAAAoAAAAAAQAABAAA\n",
       "AAABAAAAAAAAAAEAAAIAAAAAAQAACgAAAAABAAAEAAAAAAEAAAAAAAAAAQAAAgAAAAABAAAKAAAA\n",
       "AAEAAAQAAAAAAQAAAAAAAAABAAACAAAAAAEAAAoAAAAAAQAABAAAAAABAAAAAAAAAAEAAAIAAAAA\n",
       "AQAACgAAAAABAAAEAAAAAAEAAAAAAAAAAQAAAgAAAAABAAAKAAAAAAEAAAQAAAAAAQAAAAAAAAAB\n",
       "AAACAAAAAAEAAAoAAAAAAQAABAAAAAABAAAAAAAAAAEAAAIAAAAAAQAACgAAAAABAAAEAAAAAAEA\n",
       "AAAAAAAAAQAAAgAAAAABAAAEAAAAAAEAAAoAAAAAAQAABAAAAAABAAAAAAAAAAEAAAIAAAAAAQAA\n",
       "CgAAAAABAAAEAAAAAAEAAAAAAAAAAQAAAgAAAAABAAAKAAAAAAEAAAQAAAAAAQAAAAAAAAABAAAC\n",
       "AAAAAAEAAAoAAAAAAQAABAAAAAABAAAAAAAAAAEAAAIAAAAAAQAACgAAAAABAAAEAAAAAAEAAAAA\n",
       "AAAAAQAAAgAAAAABAAAKAAAAAAEAAAQAAAAAAQAAAAAAAAABAAACAAAAAAEAAAoAAAAAAQAABAAA\n",
       "AAABAAAAAAAAAAEAAAIAAAAAAQAACgAAAAABAAAEAAAAAAEAAAAAAAAAAQAAAgAAAAABAAAKAAAA\n",
       "AAEAAAQAAAAAAQAAAAAAAAABAAACAAAAAAEAAAoAAAAAAQAABAAAAAABAAAAAAAAAAEAAAIAAAAA\n",
       "AQAACgAAAAABAAAEAAAAAAEAAAAAAAAAAQAAAgAAAAABAAAKAAAAAAEAAAQAAAAAAQAAAAAAAAAB\n",
       "AAACAAAAAAEAAAoAAAAAAQAABAAAAAABAAAAAAAAAAEAAAIAAAAAAQAACgAAAAABAAAEAAAAAAEA\n",
       "AAAAAAAAAQAAAgAAAAABAAAKAAAAAAEAAAQAAAAAAQAAAAAAAAABAAACAAAAAAEAAAoAAAAAAQAA\n",
       "BAAAAAABAAAAAAAAAAEAAAIAAAAAAQAACgAAAAABAAAEAAAAAAEAAAAAAAAAAQAAAgAAAAABAAAK\n",
       "AAAAAAEAAAQAAAAAAQAAAAAAAAABAAACAAAAAAEAAAoAAAAAAQAABAAAAAABAAAAAAAAAAEAAAIA\n",
       "AAAAAQAACgAAAAABAAAEAAAAAAEAAAAAAAAAAQAAAgAAAAABAAAKAAAAAAEAAAQAAAAAAQAAAAAA\n",
       "AAABAAACAAAAAAEAAAoAAAAAAQAABAAAAAABAAAAAAAAAAEAAAIAAAAAAQAACgAAAAABAAAEAAAA\n",
       "AAEAAAAAAAAAAQAAAgAAAAABAAAKAAAAAAEAAAQAAAAAAQAAAAAAAAABAAACAAAAAAEAAAoAAAAA\n",
       "AQAABAAAAAABAAAAAAAAAAEAAAIAAAAAAQAACgAAAAABAAAEAAAAAAEAAAAAAAAAAQAAAgAAAAAB\n",
       "AAAKAAAAAAEAAAQAAAAAAQAAAAAAAAABAAACAAAAAAEAAAoAAAAAAQAABAAAAAABAAAAAAAAAAEA\n",
       "AAIAAAAAAQAACgAAAAABAAAEAAAAAAEAAAAAAAAAAQAAAgAAAAABAAAKAAAAAAEAAAQAAAAAAQAA\n",
       "AAAAAAABAAACAAAAAAEAAAoAAAAAAQAABAAAAAABAAAAAAAAAAEAAAIAAAAAAQAACgAAAAABAAAE\n",
       "AAAAAAEAAAAAAAAAAQAAAgAAAAABAAAKAAAAAAEAAAQAAAAAAQAAAAAAAAABAAACAAAAAAEAAAoA\n",
       "AAAAAQAABAAAAAABAAAAAAAAAAEAAAIAAAAAAQAACgAAAAABAAAEAAAAAAEAAAAAAAAAAQAAAgAA\n",
       "AAABAAAKAAAAAAEAAAQAAAAAAQAAAAAAAAABAAACAAAAAAEAAAoAAAAAAQAABAAAAAABAAAAAAAA\n",
       "AAEAAAIAAAAAAQAACgAAAAABAAAEAAAAAAEAAAAAAAAAAQAAAgAAAAABAAAGAAAAAAEAAAIAAAAA\n",
       "AQAABAAAAAABAAAKAAAAAAEAAAQAAAAAAQAAAAAAAAABAAACAAAAAAEAAAoAAAAAAQAABAAAAAAB\n",
       "AAAAAAAAAAEAAAIAAAAAAQAACgAAAAABAAAEAAAAAAEAAAAAAAAAAQAAAgAAAAABAAAKAAAAAAEA\n",
       "AAQAAAAAAQAAAAAAAAABAAACAAAAAAEAAAoAAAAAAQAABAAAAAABAAAAAAAAAAEAAAIAAAAAAQAA\n",
       "CgAAAAABAAAEAAAAAAEAAAAAAAAAAQAAAgAAAAABAAAKAAAAAAEAAAQAAAAAAQAAAAAAAAABAAAC\n",
       "AAAAAAEAAAoAAAAAAQAABAAAAAABAAAAAAAAAAEAAAIAAAAAAQAACgAAAAABAAAEAAAAAAEAAAAA\n",
       "AAAAAQAAAgAAAAABAAAKAAAAAAEAAAQAAAAAAQAAAAAAAAABAAACAAAAAAEAAAoAAAAAAQAABAAA\n",
       "AAABAAAAAAAAAAEAAAIAAAAAAQAACgAAAAABAAAEAAAAAAEAAAAAAAAAAQAAAgAAAAABAAAEAAAA\n",
       "ABxzdHNjAAAAAAAAAAEAAAABAAABLAAAAAEAAATEc3RzegAAAAAAAAAAAAABLAAAFRYAAAIWAAAA\n",
       "lgAAAEsAAABWAAAB8gAAAH8AAABKAAAASQAAAfgAAACcAAAAUwAAAFcAAAG/AAAAkwAAAEkAAABL\n",
       "AAABlAAAAHMAAABQAAAAQwAAAYYAAACvAAAAOwAAAEwAAAHMAAAAcAAAAEYAAABHAAABlQAAAJwA\n",
       "AABQAAAAWAAAAVQAAACvAAAAQwAAAFgAAAFQAAAAiwAAAFkAAABuAAABowAAANcAAABMAAAAWwAA\n",
       "AbIAAACkAAAARgAAAEIAAAGOAAAAVwAAAdkAAACOAAAAVQAAAFUAAAF3AAAAtAAAAFYAAABDAAAB\n",
       "eAAAAJoAAABeAAAATQAAAWMAAACGAAAAXgAAAEMAAAFsAAAAjgAAAFYAAABDAAABWwAAAH8AAAA7\n",
       "AAAAWgAAAVoAAACqAAAANAAAAEYAAAFRAAAAyQAAAEYAAAA1AAABRAAAAIkAAABEAAAAMAAAAXwA\n",
       "AACFAAAAUgAAAC4AAAFhAAAAgQAAADAAAAAyAAABAgAAAZgAAAByAAAANwAAADgAAAFuAAAAagAA\n",
       "AC4AAAAtAAABfwAAAFQAAAAqAAAALgAAAXcAAABzAAAAMwAAACwAAAF1AAAAYwAAACwAAAArAAAB\n",
       "JQAAAE0AAAAgAAAAIgAAAVIAAABLAAAAKAAAACsAAAFjAAAASwAAACUAAAAkAAABZwAAAEsAAAAk\n",
       "AAAAJQAAAW4AAABOAAAAIwAAACoAAAEsAAAAQQAAACMAAAAkAAABNgAAADoAAAAmAAAAIwAAAUgA\n",
       "AAA7AAAAJQAAACUAAAEkAAAANwAAACYAAAAkAAABHAAAAD4AAAAtAAAAKwAAASgAAAAxAAAAIQAA\n",
       "ACoAAAD2AAAAKwAAACcAAAAiAAABGgAAACoAAAAhAAAAIgAAARUAAAArAAAAIwAAACMAAAEQAAAA\n",
       "LwAAACIAAAAlAAABIwAAADAAAAAlAAAAJQAAANsAAAAvAAAAJwAAACcAAADAAAAALQAAACYAAAAk\n",
       "AAAA3wAAACwAAAAnAAAAJQAAALgAAAAvAAAAJQAAACUAAADUAAAAMAAAACkAAAAmAAAAugAAACwA\n",
       "AAAnAAAAJAAAAOMAAAAuAAAAJQAAACMAAADaAAAAMAAAACUAAAAkAAAAsgAAAC0AAAAnAAAAJgAA\n",
       "AKYAAAAvAAAAJQAAACYAAACqAAAAMQAAACUAAAAlAAAAmwAAAC4AAAAoAAAAJAAAAJ4AAAAvAAAA\n",
       "KAAAACIAAACiAAAALgAAACcAAAAjAAAAcAAAAC0AAAAkAAAAIwAAAHoAAAAtAAAAIgAAACQAAACJ\n",
       "AAAALAAAACUAAAAiAAAAIAAAACkAABcFAAAAmgAAACQAAAAXAAAAFQAAAE8AAAAfAAAAGAAAABgA\n",
       "AABKAAAAIQAAABcAAAAZAAAAPQAAACAAAAAXAAAAGAAAAFIAAAAfAAAAGAAAABcAAAA4AAAAIQAA\n",
       "ABcAAAAXAAAAPAAAACIAAAAYAAAAFwAAAC8AAAAiAAAAFwAAABcAAAAvAAAAIgAAABcAAAAXAAAA\n",
       "KAAAACAAAAAXAAAAFwAAACkAAAAhAAAAFwAAABcAAAAdAAAAJQAAABcAAAAXAAAAHAAAABRzdGNv\n",
       "AAAAAAAAAAEAAAAwAAAAYnVkdGEAAABabWV0YQAAAAAAAAAhaGRscgAAAAAAAAAAbWRpcmFwcGwA\n",
       "AAAAAAAAAAAAAAAtaWxzdAAAACWpdG9vAAAAHWRhdGEAAAABAAAAAExhdmY1OC42NS4xMDE=\n",
       "\">\n",
       "  Your browser does not support the video tag.\n",
       "</video>"
      ],
      "text/plain": [
       "<IPython.core.display.HTML object>"
      ]
     },
     "execution_count": 31,
     "metadata": {},
     "output_type": "execute_result"
    }
   ],
   "source": [
    "from matplotlib import animation, rc\n",
    "from IPython.display import HTML\n",
    "HTML(points_output.anim.to_html5_video())"
   ]
  },
  {
   "cell_type": "code",
   "execution_count": 32,
   "id": "plastic-honolulu",
   "metadata": {},
   "outputs": [],
   "source": [
    "###"
   ]
  },
  {
   "cell_type": "raw",
   "id": "historic-vacation",
   "metadata": {},
   "source": [
    "# Declare a list of points that will be used for plotting\n",
    "points = [p0, p1, p2A, p3, p4]"
   ]
  },
  {
   "cell_type": "raw",
   "id": "accomplished-bridal",
   "metadata": {},
   "source": [
    "# Turn constraint equations into a vector\n",
    "eq_d_sym = sympy.Matrix(eq_d)"
   ]
  },
  {
   "cell_type": "raw",
   "id": "preceding-personal",
   "metadata": {},
   "source": [
    "# Turn qi and qd into sympy vectors\n",
    "qi_sym = sympy.Matrix([qA_d, qC_d])\n",
    "qd_sym = sympy.Matrix([qB_d, qD_d])"
   ]
  },
  {
   "cell_type": "raw",
   "id": "included-sustainability",
   "metadata": {},
   "source": [
    "# Take partial derivative of constraints with respect to independent and dependent variables\n",
    "AA = eq_d_sym.jacobian(qi_sym)\n",
    "BB = eq_d_sym.jacobian(qd_sym)"
   ]
  },
  {
   "cell_type": "raw",
   "id": "collaborative-banks",
   "metadata": {},
   "source": [
    "# Solve for internal input/output Jacobian\n",
    "Jin = -BB.inv()*AA\n",
    "Jin.simplify()\n",
    "Jin"
   ]
  },
  {
   "cell_type": "raw",
   "id": "national-brooklyn",
   "metadata": {},
   "source": [
    "# Solving for the dependent variables \n",
    "qd2_sym = Jin*qi_sym\n",
    "qd2_sym"
   ]
  },
  {
   "cell_type": "raw",
   "id": "fiscal-engineer",
   "metadata": {},
   "source": [
    "# Substitution dictionary to replace all occurrances of qB_d and qD_d\n",
    "subs_sym = dict([(ii,jj) for ii,jj in zip(qd_sym,qd2_sym)])\n",
    "subs_sym"
   ]
  },
  {
   "cell_type": "raw",
   "id": "seven-pressing",
   "metadata": {},
   "source": [
    "# End effector position\n",
    "pend = p2A\n",
    "pend"
   ]
  },
  {
   "cell_type": "raw",
   "id": "expanded-elite",
   "metadata": {},
   "source": [
    "# End effector velocity\n",
    "vend = pend.time_derivative()\n",
    "vend = vend.subs(subs_sym)\n",
    "vend"
   ]
  },
  {
   "cell_type": "raw",
   "id": "serious-registrar",
   "metadata": {},
   "source": [
    "# Turn end effector velocity equations into a vector\n",
    "vend_sym = sympy.Matrix([vend.dot(N.x), vend.dot(N.y)])"
   ]
  },
  {
   "cell_type": "raw",
   "id": "korean-essex",
   "metadata": {},
   "source": [
    "# JACOBIAN\n",
    "# Take partial derivative of end effector velocities with respect to independent variables\n",
    "J = vend_sym.jacobian(qi_sym)\n",
    "J.simplify()\n",
    "J"
   ]
  },
  {
   "cell_type": "raw",
   "id": "union-worst",
   "metadata": {},
   "source": [
    "# Identify independent and dependent variables\n",
    "qi = [qA, qC]\n",
    "qd = [qB, qD]"
   ]
  },
  {
   "cell_type": "raw",
   "id": "agricultural-literacy",
   "metadata": {},
   "source": [
    "# Create a copy of symbolic constants dictionary and add the initial value of qi to it\n",
    "constants = system.constant_values.copy()\n",
    "defined = dict([(item,initialvalues[item]) for item in qi])\n",
    "constants.update(defined)"
   ]
  },
  {
   "cell_type": "raw",
   "id": "brave-sunrise",
   "metadata": {},
   "source": [
    "# Substitute constants in equation\n",
    "eq = [item.subs(constants) for item in eq]"
   ]
  },
  {
   "cell_type": "raw",
   "id": "apparent-jenny",
   "metadata": {},
   "source": [
    "# Convert to numpy array\n",
    "# Sum the error\n",
    "error = (numpy.array(eq)**2).sum()"
   ]
  },
  {
   "cell_type": "raw",
   "id": "invalid-snapshot",
   "metadata": {},
   "source": [
    "# Convert to a function that scipy can use.\n",
    "# Sympy has a “labmdify” function that evaluates an expression, but scipy needs a slightly different format.\n",
    "f = sympy.lambdify(qd,error)\n",
    "\n",
    "def function(args):\n",
    "    return f(*args)"
   ]
  },
  {
   "cell_type": "raw",
   "id": "productive-korea",
   "metadata": {},
   "source": [
    "# Take the derivative of the equations to linearize with regard to the velocity variables\n",
    "guess = [initialvalues[item] for item in qd]\n",
    "result = scipy.optimize.minimize(function,guess)\n",
    "if result.fun>1e-3:\n",
    "    raise(Exception(\"out of tolerance\"))\n",
    "ini = []\n",
    "for item in system.get_state_variables():\n",
    "    if item in qd:\n",
    "        ini.append(result.x[qd.index(item)])\n",
    "    else:\n",
    "        ini.append(initialvalues[item])\n",
    "points = PointsOutput(points, constant_values=system.constant_values)\n",
    "points.calc(numpy.array([ini0,ini]))\n",
    "#points.plot_time()"
   ]
  },
  {
   "cell_type": "raw",
   "id": "touched-criminal",
   "metadata": {},
   "source": [
    "# Valid initial condition\n",
    "x = numpy.array([points.y[1][0][0], points.y[1][1][0], points.y[1][2][0], points.y[1][3][0], points.y[1][4][0],0])\n",
    "y = numpy.array([points.y[1][0][1], points.y[1][1][1], points.y[1][2][1], points.y[1][3][1], points.y[1][4][1],0])\n",
    "prettyplot(x,y)"
   ]
  },
  {
   "cell_type": "raw",
   "id": "danish-court",
   "metadata": {},
   "source": [
    "# End effector force\n",
    "Fend_num = numpy.array([0, -2*0.5*9.81]).reshape([2,1])\n",
    "Fend_num"
   ]
  },
  {
   "cell_type": "raw",
   "id": "excited-bahrain",
   "metadata": {},
   "source": [
    "# End effector velocity\n",
    "vend_num = numpy.array([0, -2*45*pi/180*0.4*2]).reshape([2,1])\n",
    "vend_num"
   ]
  },
  {
   "cell_type": "raw",
   "id": "buried-corps",
   "metadata": {
    "id": "neutral-comedy"
   },
   "source": [
    "# Input force symbolic\n",
    "Fin = sympy.Matrix(J.transpose()*Fend_num)\n",
    "Fin"
   ]
  },
  {
   "cell_type": "raw",
   "id": "conditional-saturn",
   "metadata": {},
   "source": [
    "# Input force numeric\n",
    "Fin_num = Fin.subs([(qA, ini[0]),(qB, ini[1]),(qC, ini[2]),(qD, ini[3]),(lA, lA_num),(lB, lB_num),(lC, lC_num),(lD, lD_num)])\n",
    "Fin_num"
   ]
  },
  {
   "cell_type": "raw",
   "id": "coordinated-empire",
   "metadata": {},
   "source": [
    "# Input velocity symbolic\n",
    "vin = sympy.Matrix(J.inv()*vend_num)\n",
    "vin"
   ]
  },
  {
   "cell_type": "raw",
   "id": "nervous-christopher",
   "metadata": {},
   "source": [
    "# Input velocity numeric\n",
    "vin_num = vin.subs([(qA, ini[0]),(qB, ini[1]),(qC, ini[2]),(qD, ini[3]),(lA, lA_num),(lB, lB_num),(lC, lC_num),(lD, lD_num)])\n",
    "vin_num"
   ]
  },
  {
   "cell_type": "raw",
   "id": "differential-culture",
   "metadata": {
    "id": "nervous-thunder"
   },
   "source": [
    "# Input power symbolic\n",
    "Pin = sympy.Matrix([[Fin[0]*vin[0]],[Fin[1]*vin[1]]])\n",
    "Pin"
   ]
  },
  {
   "cell_type": "raw",
   "id": "linear-cocktail",
   "metadata": {},
   "source": [
    "# Input power numeric\n",
    "Pin_num = Pin.subs([(qA, ini[0]),(qB, ini[1]),(qC, ini[2]),(qD, ini[3]),(lA, lA_num),(lB, lB_num),(lC, lC_num),(lD, lD_num)])\n",
    "Pin_num"
   ]
  },
  {
   "cell_type": "markdown",
   "id": "impressive-mounting",
   "metadata": {},
   "source": [
    "# References"
   ]
  },
  {
   "cell_type": "markdown",
   "id": "still-moldova",
   "metadata": {},
   "source": [
    "[1] “Mallard Identification, All About Birds, Cornell Lab of Ornithology,” , All About Birds, Cornell Lab of Ornithology. [Online]. Available: https://www.allaboutbirds.org/guide/Mallard/id. [Accessed: 20-Feb-2021].\n",
    "\n",
    "[2] W. W. Cochran, M. S. Bowlin, and M. Wikelski, “Wingbeat frequency and flap-pause ratio during natural migratory flight in thrushes,” OUP Academic, 02-Jun-2008. [Online]. Available: https://academic.oup.com/icb/article/48/1/134/627446. [Accessed: 20-Feb-2021]. \n",
    "\n",
    "[3] KATHLEEN  D. EARLS, “KINEMATICS AND MECHANICS OF GROUND TAKE-OFF IN THE STARLING STURNIS VULGARIS AND THE QUAIL COTURNIX COTURNIX,” Dec. 1999.\n",
    "\n",
    "[4] “BEGINNERS FPV DRONE GUIDE,” Custom Quads. [Online]. Available: https://customquads.com.au/pages/fpv-beginners-start-here#:~:text=To%20build%20a%20standard%20FPV,800%20grams%20with%20a%20battery. [Accessed: 20-Feb-2021].\n"
   ]
  }
 ],
 "metadata": {
  "colab": {
   "collapsed_sections": [],
   "name": "Copy of Wing Kinematics.ipynb",
   "provenance": []
  },
  "kernelspec": {
   "display_name": "Python 3",
   "language": "python",
   "name": "python3"
  },
  "language_info": {
   "codemirror_mode": {
    "name": "ipython",
    "version": 3
   },
   "file_extension": ".py",
   "mimetype": "text/x-python",
   "name": "python",
   "nbconvert_exporter": "python",
   "pygments_lexer": "ipython3",
   "version": "3.8.5"
  }
 },
 "nbformat": 4,
 "nbformat_minor": 5
}

{
 "cells": [
  {
   "cell_type": "markdown",
   "id": "juvenile-level",
   "metadata": {},
   "source": [
    "1A. Explain, in words, how your team will evaluate the success of your robot’s design. This could be by measuring the forces produced by your design, the speed at which it walks, its thrust:weight ratio, the height it can jump, etc. Explain, in words, how you will measure performance in simulation. How will you measure performance in experiments?"
   ]
  },
  {
   "cell_type": "markdown",
   "id": "utility-killer",
   "metadata": {},
   "source": [
    "The wing’s main objective is to produce positive thrust over the course of a full upstroke and downstroke. However, since we will not be able to isolate the aerodynamic forces from inertial forces and measure the thrust of our prototype, we will mount the wing to a cart, and measure the displacement of the wing after a full cycle. The primary dependent variable is the timing and flapping frequency of the wing. The time that the motor reverses its torque directly affects the aerodynamics of the wing and how much the wing is able to extend and tuck during the downstroke and upstroke. To compare different gait timings, we will divide the displacement by the cycle period and compare the average velocity of each case. The case with the highest average velocity will be our optimal design."
   ]
  },
  {
   "cell_type": "markdown",
   "id": "prime-shoulder",
   "metadata": {},
   "source": [
    "1B. Are experimental vs. simulation metrics similar or vastly different? If different, how will you equate A with B?"
   ]
  },
  {
   "cell_type": "markdown",
   "id": "experienced-exchange",
   "metadata": {},
   "source": [
    "By designing our hardware experiment in a measurable way and designing our simulation to emulate the hardware design, our experiment and simulation results should be very similar. In both cases, we will be able to directly control the gait timings and directly measure the displacement of the wing base."
   ]
  },
  {
   "cell_type": "markdown",
   "id": "entire-county",
   "metadata": {},
   "source": [
    "1C. Do you have more than one performance metric you must use as for design goals? If so, either identify the most important one or explain how you will balance two competing criteria. For example, if you need a robot to jump high AND far, which is more important, or how do you establish a relationship between these two possibly competing goals?"
   ]
  },
  {
   "cell_type": "markdown",
   "id": "adequate-dynamics",
   "metadata": {},
   "source": [
    "The wing is one component of a much larger bird robot. The robot as a whole will have more performance metrics, but our scope is reduced to consider only the design of the wing, and the wing’s primary performance metric is the thrust output. The thrust output is most easily measured using a cart mount and recording the average velocity. There are no competing performance metrics."
   ]
  },
  {
   "cell_type": "raw",
   "id": "living-armstrong",
   "metadata": {},
   "source": [
    "1D. Explain, in math, the measurable performance metric(s) by which your team can estimate performance."
   ]
  },
  {
   "cell_type": "raw",
   "id": "numerous-blood",
   "metadata": {},
   "source": [
    "As stated above, the wing will be mounted to a cart that allows the wing to roll freely as it applies thrust along the direction of travel. The wing will flap through a full gait cycle. Multiple trials with varying periods of upstroke and downstroke will be performed. For each trial, the displacement after the cart has come to rest will be measured. Dividing this displacement by the total time elapsed gives the average velocity of the trail. A greater average velocity is achieved by a greater acceleration, and a greater acceleration is achieved by a greater force, therefore the trial with the most positive average velocity will be the most optimal thrust-producing case."
   ]
  },
  {
   "cell_type": "markdown",
   "id": "widespread-trace",
   "metadata": {},
   "source": [
    "1E. Write, in code, a function that will evaluate the performance of your current system (as simulated in System Dynamics II)."
   ]
  },
  {
   "cell_type": "markdown",
   "id": "meaningful-nurse",
   "metadata": {},
   "source": [
    "Code Below."
   ]
  },
  {
   "cell_type": "markdown",
   "id": "proud-syndication",
   "metadata": {},
   "source": [
    "2A. Brainstorm and describe your team’s design constraints. Constraints are aspects of your design that are “bounded” by some physical limit (eg, the size of robot you can cut on a given laser cutter, the range of motion of a typical foldable hinge joint)."
   ]
  },
  {
   "cell_type": "markdown",
   "id": "compatible-terrace",
   "metadata": {},
   "source": [
    "The independent variable of our experiment is the gait timings. This affects the flapping speed and flapping range of motion. The biggest constraint to the range of motion is the singularities that cause the geometry to invert. The wing must maintain a double concave 2-bar mechanism shape to achieve the tuck and extend motion through its stroke."
   ]
  },
  {
   "cell_type": "markdown",
   "id": "convinced-chess",
   "metadata": {},
   "source": [
    "2B. Explain, in words, how you will track violation of design constraints. For example, let’s say your optimization routine suggests a design that cannot be made in a single sheet of paper. Will you"
   ]
  },
  {
   "cell_type": "markdown",
   "id": "marine-adelaide",
   "metadata": {},
   "source": [
    "The primary violation of our design constraints is a motor command that compromises the geometry of the wing. For example, if one of the strokes is too long, the motor can rotate around too far and invert the wing. Our code will not run through an optimizer. Instead, trials will be run manually, and violations of the constraints will be detected manually by inspection for each trial.\n",
    "\n"
   ]
  },
  {
   "cell_type": "markdown",
   "id": "invalid-steal",
   "metadata": {},
   "source": [
    "## Setup"
   ]
  },
  {
   "cell_type": "code",
   "execution_count": 1,
   "id": "angry-haven",
   "metadata": {
    "colab": {
     "base_uri": "https://localhost:8080/"
    },
    "id": "pi7Co6-jBLqJ",
    "outputId": "3e0b02e5-7b83-4a8a-fb4e-f100a21e47fb"
   },
   "outputs": [],
   "source": [
    "#pip install pynamics"
   ]
  },
  {
   "cell_type": "code",
   "execution_count": 2,
   "id": "applied-importance",
   "metadata": {
    "id": "frequent-douglas"
   },
   "outputs": [],
   "source": [
    "%matplotlib inline\n",
    "import scipy.optimize\n",
    "import pynamics\n",
    "from pynamics.frame import Frame\n",
    "from pynamics.variable_types import Differentiable,Constant\n",
    "from pynamics.system import System\n",
    "from pynamics.body import Body\n",
    "from pynamics.dyadic import Dyadic\n",
    "from pynamics.output import Output,PointsOutput\n",
    "from pynamics.particle import Particle\n",
    "import pynamics.integration\n",
    "import numpy\n",
    "import sympy\n",
    "import matplotlib.pyplot as plt\n",
    "from matplotlib.patches import Arc\n",
    "plt.ion()\n",
    "from math import pi, sin, cos, tan, asin, acos, atan, degrees, radians, pi, sqrt"
   ]
  },
  {
   "cell_type": "markdown",
   "id": "viral-small",
   "metadata": {},
   "source": [
    "## System"
   ]
  },
  {
   "cell_type": "code",
   "execution_count": 3,
   "id": "departmental-hundred",
   "metadata": {},
   "outputs": [],
   "source": [
    "# Create a pynamics system\n",
    "system = System()\n",
    "pynamics.set_system(__name__,system)"
   ]
  },
  {
   "cell_type": "code",
   "execution_count": 4,
   "id": "physical-speaker",
   "metadata": {},
   "outputs": [],
   "source": [
    "# Length variables (numerical)\n",
    "lAa_num = 0.05\n",
    "lAb_num = 0.1\n",
    "lBa_num = 0.05\n",
    "lBb_num = 0.1\n",
    "lC_num = 0.165\n",
    "lD_num = 0.165\n",
    "lE_num = 0.045\n",
    "\n",
    "# Lengths\n",
    "lAa = Constant(lAa_num,'lAa',system)\n",
    "lAb = Constant(lAb_num,'lAb',system)\n",
    "lBa = Constant(lBa_num,'lBa',system)\n",
    "lBb = Constant(lBb_num,'lBb',system)\n",
    "lC = Constant(lC_num,'lC',system)\n",
    "lD = Constant(lD_num,'lD',system)\n",
    "lE = Constant(lE_num,'lE',system)"
   ]
  },
  {
   "cell_type": "code",
   "execution_count": 5,
   "id": "historic-brown",
   "metadata": {},
   "outputs": [],
   "source": [
    "# Masses\n",
    "# r = 149kg/m3\n",
    "mAa = Constant(0.00447,'mAa',system) # 0.00447000 \n",
    "mAb = Constant(0.00894,'mAb',system) # 0.00894000 \n",
    "mBa = Constant(0.00626,'mBa',system) # 0.00625800\n",
    "mBb = Constant(0.00894,'mBb',system) # 0.00894000 \n",
    "mC = Constant(0.0148,'mC',system) # 0.01475100\n",
    "mD = Constant(0.0148,'mD',system) # 0.01475100\n",
    "\n",
    "mE = Constant(0.2,'mE',system)\n",
    "\n",
    "# Joint preloads\n",
    "preload0 = Constant(-120*pi/180,'preload0',system)\n",
    "preloadA = Constant(0*pi/180,'preloadA',system)\n",
    "preload1 = Constant(0*pi/180,'preload1',system)\n",
    "preloadB = Constant(0*pi/180,'preloadB',system)\n",
    "preload4 = Constant(-90*pi/180,'preload4',system)\n",
    "preload3 = Constant(-45*pi/180,'preload3',system)\n",
    "\n",
    "# Inertia\n",
    "Ixx_Aa = Constant(0.0000336,'Ixx_Aa',system) # 0.00003355\n",
    "Iyy_Aa = Constant(0.0000373,'Iyy_Aa',system) # 0.00003725\n",
    "Izz_Aa = Constant(0.0000038,'Izz_Aa',system) # 0.00000375\n",
    "Ixx_Ab = Constant(0.0000671,'Ixx_Ab',system) # 0.00006710\n",
    "Iyy_Ab = Constant(0.0000969,'Iyy_Ab',system) # 0.00009685\n",
    "Izz_Ab = Constant(0.0000299,'Izz_Ab',system) # 0.00002985\n",
    "\n",
    "Ixx_Ba = Constant(0.0000441,'Ixx_Ba',system) # 0.00004405\n",
    "Iyy_Ba = Constant(0.0000484,'Iyy_Ba',system) # 0.00004840\n",
    "Izz_Ba = Constant(0.0000045,'Izz_Ba',system) # 0.00000453\n",
    "Ixx_Bb = Constant(0.0000671,'Ixx_Bb',system) # 0.00006710\n",
    "Iyy_Bb = Constant(0.0000969,'Iyy_Bb',system) # 0.00009685\n",
    "Izz_Bb = Constant(0.0000299,'Izz_Bb',system) # 0.00002985\n",
    "\n",
    "Ixx_C = Constant(0.0001107,'Ixx_C',system) # 0.00011071\n",
    "Iyy_C = Constant(0.0002445,'Iyy_C',system) # 0.00024450\n",
    "Izz_C = Constant(0.000134,'Izz_C',system) # 0.00013394\n",
    "\n",
    "Ixx_D = Constant(0.0001107,'Ixx_D',system) # 0.00011071\n",
    "Iyy_D = Constant(0.0002445,'Iyy_D',system) # 0.00024450\n",
    "Izz_D = Constant(0.0001339,'Izz_D',system) # 0.00013394"
   ]
  },
  {
   "cell_type": "code",
   "execution_count": 6,
   "id": "superb-repeat",
   "metadata": {},
   "outputs": [],
   "source": [
    "# Create differentiable state variables\n",
    "qx,qx_d,qx_dd = Differentiable('qx',system)\n",
    "\n",
    "qAa,qAa_d,qAa_dd = Differentiable('qAa',system)\n",
    "qAb,qAb_d,qAb_dd = Differentiable('qAb',system)\n",
    "\n",
    "qBa,qBa_d,qBa_dd = Differentiable('qBa',system)\n",
    "qBb,qBb_d,qBb_dd = Differentiable('qBb',system)\n",
    "\n",
    "qC,qC_d,qC_dd = Differentiable('qC',system)\n",
    "\n",
    "qD,qD_d,qD_dd = Differentiable('qD',system)"
   ]
  },
  {
   "cell_type": "code",
   "execution_count": 7,
   "id": "reduced-german",
   "metadata": {},
   "outputs": [],
   "source": [
    "# initial values\n",
    "# qC = 11.97 creates fully extended, horizontal wing\n",
    "initialvalues = {}\n",
    "initialvalues[qx]=0\n",
    "initialvalues[qx_d]=0\n",
    "\n",
    "initialvalues[qAa]=-45*pi/180\n",
    "initialvalues[qAa_d]=0*pi/180\n",
    "initialvalues[qAb]=0*pi/180\n",
    "initialvalues[qAb_d]=0*pi/180\n",
    "\n",
    "initialvalues[qBa]=0*pi/180\n",
    "initialvalues[qBa_d]=0*pi/180\n",
    "initialvalues[qBb]=0*pi/180\n",
    "initialvalues[qBb_d]=0*pi/180\n",
    "\n",
    "#initialvalues[qC]=14.65*pi/180\n",
    "initialvalues[qC]=(-16.69)*pi/180\n",
    "initialvalues[qC_d]=0*pi/180\n",
    "\n",
    "initialvalues[qD]=-70.16*pi/180\n",
    "initialvalues[qD_d]=0*pi/180"
   ]
  },
  {
   "cell_type": "code",
   "execution_count": 8,
   "id": "virtual-nickel",
   "metadata": {},
   "outputs": [],
   "source": [
    "# Retrieve state variables in the order they are stored in the system\n",
    "# Create a list of initial values ini0 in the order of the system’s state variables\n",
    "statevariables = system.get_state_variables()\n",
    "ini0 = [initialvalues[item] for item in statevariables]"
   ]
  },
  {
   "cell_type": "code",
   "execution_count": 9,
   "id": "academic-prairie",
   "metadata": {},
   "outputs": [],
   "source": [
    "# Create frames\n",
    "N = Frame('N')\n",
    "Aa = Frame('Aa')\n",
    "Ab = Frame('Ab')\n",
    "\n",
    "Ba = Frame('Ba')\n",
    "Bb = Frame('Bb')\n",
    "\n",
    "C = Frame('C')\n",
    "D = Frame('D')"
   ]
  },
  {
   "cell_type": "code",
   "execution_count": 10,
   "id": "radical-findings",
   "metadata": {},
   "outputs": [],
   "source": [
    "# Declare N as the Newtonian (fixed) frame\n",
    "system.set_newtonian(N)"
   ]
  },
  {
   "cell_type": "code",
   "execution_count": 11,
   "id": "duplicate-investing",
   "metadata": {},
   "outputs": [],
   "source": [
    "# Rotate other frames about their local Z axes.\n",
    "# Not global q\n",
    "Aa.rotate_fixed_axis_directed(N,[0,0,1],qAa,system)\n",
    "Ab.rotate_fixed_axis_directed(Aa,[0,0,1],qAb,system)\n",
    "\n",
    "Ba.rotate_fixed_axis_directed(Ab,[0,0,1],qBa,system)\n",
    "Bb.rotate_fixed_axis_directed(Ba,[0,0,1],qBb,system)\n",
    "\n",
    "C.rotate_fixed_axis_directed(N,[0,0,1],qC,system)\n",
    "D.rotate_fixed_axis_directed(C,[0,0,1],qD,system)"
   ]
  },
  {
   "cell_type": "code",
   "execution_count": 12,
   "id": "unavailable-geology",
   "metadata": {},
   "outputs": [],
   "source": [
    "# Define rigid body kinematics\n",
    "# position vectors\n",
    "p0 = qx*N.x #Normal\n",
    "pA = p0 + lAa*Aa.x #Normal\n",
    "p1 = pA + lAb*Ab.x #Link A\n",
    "pB = p1 + lBa*Ba.x #Link A\n",
    "p2A = pB + lBb*Bb.x #Link B - OUTPUT\n",
    "p4 = p0 + lE*N.x #Link E\n",
    "p3 = p4 + lC*C.x #Link C\n",
    "p2C = p3 + lD*D.x #Link D - OUTPUT"
   ]
  },
  {
   "cell_type": "code",
   "execution_count": 13,
   "id": "external-diagnosis",
   "metadata": {},
   "outputs": [],
   "source": [
    "# CoM vectors\n",
    "pAacom=p0 + lAa/2*Aa.x #Link Aa\n",
    "pAbcom=pA + lAb/2*Ab.x #Link Ab\n",
    "\n",
    "pBacom=p1 + 0.0207*Ba.x + 0.00314*Ba.y #Link Ba # 0.02071429x 0.00314286y\n",
    "pBbcom=pB + lBb*Bb.x #Link Bb\n",
    "\n",
    "pCcom=p4 + lC/2*C.x #Link Ca\n",
    "pDcom=p3 + lD/2*D.x #Link Da\n",
    "\n",
    "pEcom = p0 + lE/2*N.x #Link E"
   ]
  },
  {
   "cell_type": "code",
   "execution_count": 14,
   "id": "intended-april",
   "metadata": {},
   "outputs": [],
   "source": [
    "# Angular Velocity\n",
    "wNAa = N.getw_(Aa)\n",
    "wAaAb = Aa.getw_(Ab)\n",
    "\n",
    "wAbBa = Ab.getw_(Ba)\n",
    "wBaBb = Ba.getw_(Bb)\n",
    "\n",
    "wNC = N.getw_(C)\n",
    "wCD = C.getw_(D)"
   ]
  },
  {
   "cell_type": "code",
   "execution_count": 15,
   "id": "instrumental-spouse",
   "metadata": {},
   "outputs": [],
   "source": [
    "# Build inertia tensors\n",
    "IAa = Dyadic.build(Aa,Ixx_Aa,Iyy_Aa,Izz_Aa)\n",
    "IAb = Dyadic.build(Ab,Ixx_Ab,Iyy_Ab,Izz_Ab)\n",
    "\n",
    "IBa = Dyadic.build(Ba,Ixx_Ba,Iyy_Ba,Izz_Ba)\n",
    "IBb = Dyadic.build(Bb,Ixx_Bb,Iyy_Bb,Izz_Bb)\n",
    "\n",
    "IC = Dyadic.build(C,Ixx_C,Iyy_C,Izz_C)\n",
    "ID = Dyadic.build(D,Ixx_D,Iyy_D,Izz_D)\n",
    "\n",
    "BodyAa = Body('BodyAa',Aa,pAacom,mAa,IAa,system)\n",
    "BodyAb = Body('BodyAb',Ab,pAbcom,mAb,IAb,system)\n",
    "\n",
    "BodyBa = Body('BodyBa',Ba,pBacom,mBa,IBa,system)\n",
    "BodyBb = Body('BodyBb',Bb,pBbcom,mBb,IBb,system)\n",
    "\n",
    "BodyC = Body('BodyC',C,pCcom,mC,IC,system)\n",
    "BodyD = Body('BodyD',D,pDcom,mD,ID,system)\n",
    "ParticleE = Particle(pEcom,mC,'ParticleE',system)"
   ]
  },
  {
   "cell_type": "markdown",
   "id": "flush-moderator",
   "metadata": {},
   "source": [
    "## Forces"
   ]
  },
  {
   "cell_type": "code",
   "execution_count": 16,
   "id": "younger-ground",
   "metadata": {},
   "outputs": [
    {
     "data": {
      "text/plain": [
       "<pynamics.force.Force at 0x19aaecbbaf0>"
      ]
     },
     "execution_count": 16,
     "metadata": {},
     "output_type": "execute_result"
    }
   ],
   "source": [
    "# Motor Torque\n",
    "t_switch = 0.5\n",
    "T1 = -0.9\n",
    "T2 = 0.9\n",
    "dT = T2-T1\n",
    "\n",
    "cond = system.t-t_switch\n",
    "cond_s = (cond+abs(cond))\n",
    "on = cond_s/(2*cond+1e-4)\n",
    "system.addforce((dT*on+T1)*N.z,wNAa)"
   ]
  },
  {
   "cell_type": "code",
   "execution_count": 17,
   "id": "lyric-motivation",
   "metadata": {},
   "outputs": [],
   "source": [
    "# Spring Forces\n",
    "kbase = Constant(0.2,'kbase',system) #2.24\n",
    "kjoint = Constant(0.2,'kjoint',system) #2.24\n",
    "kbend = Constant(6,'kbend',system) #6\n",
    "klim = Constant(3,'klim',system) #3\n",
    "\n",
    "dK = kbase-klim"
   ]
  },
  {
   "cell_type": "code",
   "execution_count": 18,
   "id": "thorough-football",
   "metadata": {},
   "outputs": [
    {
     "data": {
      "text/plain": [
       "(<pynamics.force.Force at 0x19aaece3d90>,\n",
       " <pynamics.spring.Spring at 0x19aaecba670>)"
      ]
     },
     "execution_count": 18,
     "metadata": {},
     "output_type": "execute_result"
    }
   ],
   "source": [
    "system.add_spring_force1(kbase,(qAa-preload0)*N.z,wNAa) # qA\n",
    "system.add_spring_force1(kbend,(qAb-preloadA)*Aa.z,wAaAb)  # virtual A\n",
    "\n",
    "system.add_spring_force1(dK*on+klim,(qBa-preload1)*Ab.z,wAbBa) # Limiter\n",
    "#system.add_spring_force1(kbase,(qBa-preload1)*Ab.z,wAbBa) # Limiter Torque off\n",
    "\n",
    "system.add_spring_force1(kbend,(qBb-preloadB)*Ba.z,wBaBb) # virtual B\n",
    "\n",
    "system.add_spring_force1(kbase,(qC-preload4)*N.z,wNC) # qC\n",
    "system.add_spring_force1(kjoint,(qD-preload3)*C.z,wCD) # qD"
   ]
  },
  {
   "cell_type": "code",
   "execution_count": 19,
   "id": "pursuant-electric",
   "metadata": {},
   "outputs": [],
   "source": [
    "# Damping\n",
    "bbase = Constant(0.05,'bbase',system) #1.78\n",
    "bjoint = Constant(0.05,'bjoint',system) #1.78"
   ]
  },
  {
   "cell_type": "code",
   "execution_count": 20,
   "id": "buried-democracy",
   "metadata": {},
   "outputs": [
    {
     "data": {
      "text/plain": [
       "<pynamics.force.Force at 0x19aaecee2e0>"
      ]
     },
     "execution_count": 20,
     "metadata": {},
     "output_type": "execute_result"
    }
   ],
   "source": [
    "system.addforce(-bbase*wNAa,wNAa) # qA\n",
    "system.addforce(-bjoint*wAbBa,wAbBa) # qB\n",
    "system.addforce(-bbase*wNC,wNC) # qC\n",
    "system.addforce(-bjoint*wCD,wCD) # qD"
   ]
  },
  {
   "cell_type": "code",
   "execution_count": 21,
   "id": "interpreted-colon",
   "metadata": {},
   "outputs": [],
   "source": [
    "# Aerodynamic Forces\n",
    "rho = Constant(1.225,'rho',system) # air density\n",
    "w = Constant(0.15,'w',system) # width or chord length"
   ]
  },
  {
   "cell_type": "code",
   "execution_count": 22,
   "id": "motivated-bread",
   "metadata": {},
   "outputs": [],
   "source": [
    "tolv = 1e-6"
   ]
  },
  {
   "cell_type": "code",
   "execution_count": 23,
   "id": "stone-queens",
   "metadata": {},
   "outputs": [],
   "source": [
    "# velocity of com\n",
    "vAacom= pAacom.time_derivative(N,system)\n",
    "vAacom2= vAacom.dot(vAacom) + tolv\n",
    "vAbcom= pAbcom.time_derivative(N,system)\n",
    "vAbcom2= vAbcom.dot(vAbcom) + tolv\n",
    "\n",
    "vBacom= pBacom.time_derivative(N,system)\n",
    "vBacom2= vBacom.dot(vBacom) + tolv\n",
    "vBbcom= pBbcom.time_derivative(N,system)\n",
    "vBbcom2= vBbcom.dot(vBbcom) + tolv\n",
    "\n",
    "vCcom= pCcom.time_derivative(N,system)\n",
    "vCcom2= vCcom.dot(vCcom) + tolv\n",
    "vDcom= pDcom.time_derivative(N,system)\n",
    "vDcom2= vDcom.dot(vDcom) + tolv"
   ]
  },
  {
   "cell_type": "raw",
   "id": "mobile-million",
   "metadata": {},
   "source": [
    "vend = p2A.time_derivative(N,system)\n",
    "vendx = vend.dot(N.x)\n",
    "vendy = vAend.dot(N.y)"
   ]
  },
  {
   "cell_type": "markdown",
   "id": "liquid-techno",
   "metadata": {},
   "source": [
    "aero_Aa = rho*abs(vAacom)*w*lAa*vAacom\n",
    "aero_Aa1 = -aero_Aa\n",
    "aero_Aa2 = 0*aero_Aa\n",
    "daero_Aa = aero_Aa2-aero_Aa1\n",
    "system.addforce((daero_Aa*on+aero_Aa1),vAacom)\n",
    "\n",
    "aero_Ab = rho*abs(vAbcom)*w*lAb*vAbcom\n",
    "aero_Ab1 = -aero_Ab\n",
    "aero_Ab2 = 0*aero_Ab\n",
    "daero_Ab = aero_Ab2-aero_Ab1\n",
    "system.addforce((daero_Ab*on+aero_Ab1),vAbcom)\n",
    "\n",
    "aero_Ba = rho*abs(vBacom)*w*lBa*vBacom\n",
    "aero_Ba1 = -aero_Ba\n",
    "aero_Ba2 = 0*aero_Ba\n",
    "daero_Ba = aero_Ba2-aero_Ba1\n",
    "system.addforce((daero_Ba*on+aero_Ba1),vBacom)\n",
    "\n",
    "aero_Bb = rho*abs(vBbcom)*w*lBb*vBbcom\n",
    "aero_Bb1 = -aero_Bb\n",
    "aero_Bb2 = 0*aero_Bb\n",
    "daero_Bb = aero_Bb2-aero_Bb1\n",
    "system.addforce((daero_Bb*on+aero_Bb1),vBbcom)\n",
    "\n",
    "aero_C = rho*abs(vCcom)*w*lC*vCcom\n",
    "aero_C1 = 0*aero_C\n",
    "aero_C2 = -aero_C\n",
    "daero_C = aero_C2-aero_C1\n",
    "system.addforce((daero_C*on+aero_C1),vCcom)\n",
    "\n",
    "aero_D = rho*abs(vDcom)*w*lD*vDcom\n",
    "aero_D1 = 0*aero_D\n",
    "aero_D2 = -aero_D\n",
    "daero_D = aero_D2-aero_D1\n",
    "system.addforce((daero_D*on+aero_D1),vDcom)"
   ]
  },
  {
   "cell_type": "code",
   "execution_count": 24,
   "id": "liberal-square",
   "metadata": {},
   "outputs": [
    {
     "data": {
      "text/plain": [
       "<pynamics.force.Force at 0x19aaecad100>"
      ]
     },
     "execution_count": 24,
     "metadata": {},
     "output_type": "execute_result"
    }
   ],
   "source": [
    "nvAacom = 1/(vAacom2**.5)*vAacom\n",
    "aero_Aa = rho*vAacom2*w*lAa*nvAacom\n",
    "aero_Aa1 = -aero_Aa\n",
    "aero_Aa2 = 0*aero_Aa\n",
    "daero_Aa = aero_Aa2-aero_Aa1\n",
    "system.addforce((daero_Aa*on+aero_Aa1),vAacom)\n",
    "\n",
    "nvAbcom = 1/(vAbcom2**.5)*vAbcom\n",
    "aero_Ab = rho*vAbcom2*w*lAb*nvAbcom\n",
    "aero_Ab1 = -aero_Ab\n",
    "aero_Ab2 = 0*aero_Ab\n",
    "daero_Ab = aero_Ab2-aero_Ab1\n",
    "system.addforce((daero_Ab*on+aero_Ab1),vAbcom)\n",
    "\n",
    "nvBacom = 1/(vBacom2**.5)*vBacom\n",
    "aero_Ba = rho*vBacom2*w*lBa*nvBacom\n",
    "aero_Ba1 = -aero_Ba\n",
    "aero_Ba2 = 0*aero_Ba\n",
    "daero_Ba = aero_Ba2-aero_Ba1\n",
    "system.addforce((daero_Ba*on+aero_Ba1),vBacom)\n",
    "\n",
    "nvBbcom = 1/(vBbcom2**.5)*vBbcom\n",
    "aero_Bb = rho*vBbcom2*w*lBb*nvBbcom\n",
    "aero_Bb1 = -aero_Bb\n",
    "aero_Bb2 = 0*aero_Bb\n",
    "daero_Bb = aero_Bb2-aero_Bb1\n",
    "system.addforce((daero_Bb*on+aero_Bb1),vBbcom)\n",
    "\n",
    "nvCcom = 1/(vCcom2**.5)*vCcom\n",
    "aero_C = rho*vCcom2*w*lC*nvCcom\n",
    "aero_C1 = 0*aero_C\n",
    "aero_C2 = -aero_C\n",
    "daero_C = aero_C2-aero_C1\n",
    "system.addforce((daero_C*on+aero_C1),vCcom)\n",
    "\n",
    "nvDcom = 1/(vDcom2**.5)*vDcom\n",
    "aero_D = rho*vBbcom2*w*lD*nvDcom\n",
    "aero_D1 = 0*aero_D\n",
    "aero_D2 = -aero_D\n",
    "daero_D = aero_D2-aero_D1\n",
    "system.addforce((daero_D*on+aero_D1),vDcom)"
   ]
  },
  {
   "cell_type": "raw",
   "id": "artistic-magnitude",
   "metadata": {},
   "source": [
    "# Gravity\n",
    "g = Constant(9.81,'g',system)\n",
    "system.addforcegravity(-g*N.y)"
   ]
  },
  {
   "cell_type": "markdown",
   "id": "intended-technical",
   "metadata": {},
   "source": [
    "## Constraints"
   ]
  },
  {
   "cell_type": "code",
   "execution_count": 25,
   "id": "incorporate-stack",
   "metadata": {},
   "outputs": [],
   "source": [
    "# ptipup = 0.547*N.x+0.547*N.y"
   ]
  },
  {
   "cell_type": "code",
   "execution_count": 26,
   "id": "vocational-airline",
   "metadata": {},
   "outputs": [],
   "source": [
    "# Constraints\n",
    "eq_vector = p2A-p2C\n",
    "eq = []\n",
    "eq.append((eq_vector).dot(N.x))\n",
    "eq.append((eq_vector).dot(N.y))\n",
    "eq_d=[(system.derivative(item)) for item in eq]\n",
    "eq_dd=[(system.derivative(item)) for item in eq_d]\n",
    "\n",
    "eq2_vector = Ab.x-Ba.x\n",
    "eq2 = []\n",
    "eq2.append((eq2_vector).dot(N.x))\n",
    "eq2.append((eq2_vector).dot(N.y))\n",
    "eq2_d=[(system.derivative(item)) for item in eq2]\n",
    "eq2_dd=[(system.derivative(item)) for item in eq2_d]"
   ]
  },
  {
   "cell_type": "markdown",
   "id": "smoking-exhibition",
   "metadata": {},
   "source": [
    "## Solve for valid initial condition"
   ]
  },
  {
   "cell_type": "code",
   "execution_count": 27,
   "id": "acceptable-change",
   "metadata": {},
   "outputs": [],
   "source": [
    "# Declare a list of points that will be used for plotting\n",
    "points = [p0, pA, p1, pB, p2A, p3, p4]"
   ]
  },
  {
   "cell_type": "code",
   "execution_count": 28,
   "id": "seventh-appearance",
   "metadata": {},
   "outputs": [],
   "source": [
    "# Identify independent and dependent variables\n",
    "qi = [qAa, qC]\n",
    "qd = [qx, qAb, qBa, qBb, qD]"
   ]
  },
  {
   "cell_type": "code",
   "execution_count": 29,
   "id": "electronic-burton",
   "metadata": {},
   "outputs": [],
   "source": [
    "# Create a copy of symbolic constants dictionary and add the initial value of qi to it\n",
    "constants = system.constant_values.copy()\n",
    "defined = dict([(item,initialvalues[item]) for item in qi])\n",
    "constants.update(defined)"
   ]
  },
  {
   "cell_type": "code",
   "execution_count": 30,
   "id": "featured-awareness",
   "metadata": {},
   "outputs": [],
   "source": [
    "# Substitute constants in equation\n",
    "eq = [item.subs(constants) for item in eq]\n",
    "eq2 = [item.subs(constants) for item in eq2]"
   ]
  },
  {
   "cell_type": "code",
   "execution_count": 31,
   "id": "imperial-mineral",
   "metadata": {},
   "outputs": [],
   "source": [
    "# Convert to numpy array\n",
    "# Sum the error\n",
    "error = (numpy.array(eq)**2).sum() + (numpy.array(eq2)**2).sum()"
   ]
  },
  {
   "cell_type": "code",
   "execution_count": 32,
   "id": "consecutive-briefs",
   "metadata": {},
   "outputs": [],
   "source": [
    "# Convert to a function that scipy can use.\n",
    "# Sympy has a “labmdify” function that evaluates an expression, but scipy needs a slightly different format.\n",
    "f = sympy.lambdify(qd,error)\n",
    "\n",
    "def function(args):\n",
    "    return f(*args)"
   ]
  },
  {
   "cell_type": "code",
   "execution_count": 33,
   "id": "rising-restriction",
   "metadata": {},
   "outputs": [
    {
     "name": "stderr",
     "output_type": "stream",
     "text": [
      "2021-04-25 21:26:04,171 - pynamics.output - INFO - calculating outputs\n",
      "2021-04-25 21:26:04,173 - pynamics.output - INFO - done calculating outputs\n"
     ]
    },
    {
     "data": {
      "text/plain": [
       "array([[[ 0.        ,  0.        ],\n",
       "        [ 0.03535534, -0.03535534],\n",
       "        [ 0.10606602, -0.10606602],\n",
       "        [ 0.14142136, -0.14142136],\n",
       "        [ 0.21213203, -0.21213203],\n",
       "        [ 0.20304898, -0.0473869 ],\n",
       "        [ 0.045     ,  0.        ]],\n",
       "\n",
       "       [[ 0.        ,  0.        ],\n",
       "        [ 0.03535534, -0.03535534],\n",
       "        [ 0.10606602, -0.10606602],\n",
       "        [ 0.14142136, -0.14142136],\n",
       "        [ 0.21213203, -0.21213203],\n",
       "        [ 0.20304898, -0.0473869 ],\n",
       "        [ 0.045     ,  0.        ]]])"
      ]
     },
     "execution_count": 33,
     "metadata": {},
     "output_type": "execute_result"
    }
   ],
   "source": [
    "# Take the derivative of the equations to linearize with regard to the velocity variables\n",
    "guess = [initialvalues[item] for item in qd]\n",
    "result = scipy.optimize.minimize(function,guess)\n",
    "if result.fun>1e-3:\n",
    "    raise(Exception(\"out of tolerance\"))\n",
    "ini = []\n",
    "for item in system.get_state_variables():\n",
    "    if item in qd:\n",
    "        ini.append(result.x[qd.index(item)])\n",
    "    else:\n",
    "        ini.append(initialvalues[item])\n",
    "points = PointsOutput(points, constant_values=system.constant_values)\n",
    "points.calc(numpy.array([ini0,ini]))\n",
    "#points.plot_time()"
   ]
  },
  {
   "cell_type": "code",
   "execution_count": 34,
   "id": "streaming-intake",
   "metadata": {},
   "outputs": [
    {
     "data": {
      "text/plain": [
       "<pynamics.output_points.PointsOutput at 0x19aaed293a0>"
      ]
     },
     "execution_count": 34,
     "metadata": {},
     "output_type": "execute_result"
    }
   ],
   "source": [
    "points"
   ]
  },
  {
   "cell_type": "code",
   "execution_count": 35,
   "id": "intermediate-duration",
   "metadata": {},
   "outputs": [
    {
     "data": {
      "text/plain": [
       "2.9572202005199067e-10"
      ]
     },
     "execution_count": 35,
     "metadata": {},
     "output_type": "execute_result"
    }
   ],
   "source": [
    "result.fun"
   ]
  },
  {
   "cell_type": "code",
   "execution_count": 36,
   "id": "genuine-malawi",
   "metadata": {},
   "outputs": [],
   "source": [
    "# Valid initial condition\n",
    "x = numpy.array([points.y[1][0][0], points.y[1][1][0], points.y[1][2][0], points.y[1][3][0], points.y[1][4][0], points.y[1][5][0], points.y[1][6][0], 0])\n",
    "y = numpy.array([points.y[1][0][1], points.y[1][1][1], points.y[1][2][1], points.y[1][3][1], points.y[1][4][1], points.y[1][5][1], points.y[1][6][1], 0])\n",
    "# prettyplot(x,y)"
   ]
  },
  {
   "cell_type": "markdown",
   "id": "occasional-crossing",
   "metadata": {},
   "source": [
    "## Solution"
   ]
  },
  {
   "cell_type": "code",
   "execution_count": 37,
   "id": "multiple-chase",
   "metadata": {},
   "outputs": [
    {
     "name": "stderr",
     "output_type": "stream",
     "text": [
      "2021-04-25 21:26:04,234 - pynamics.system - INFO - getting dynamic equations\n"
     ]
    }
   ],
   "source": [
    "# F=ma\n",
    "f,ma = system.getdynamics()"
   ]
  },
  {
   "cell_type": "code",
   "execution_count": 38,
   "id": "textile-nylon",
   "metadata": {},
   "outputs": [
    {
     "name": "stderr",
     "output_type": "stream",
     "text": [
      "2021-04-25 21:26:04,875 - pynamics.system - INFO - solving a = f/m and creating function\n",
      "2021-04-25 21:26:04,888 - pynamics.system - INFO - substituting constrained in Ma-f.\n",
      "2021-04-25 21:26:42,842 - pynamics.system - INFO - done solving a = f/m and creating function\n",
      "2021-04-25 21:26:42,842 - pynamics.system - INFO - calculating function for lambdas\n"
     ]
    }
   ],
   "source": [
    "# Acceleration\n",
    "func1,lambda1 = system.state_space_post_invert(f,ma,eq_dd,return_lambda = True)"
   ]
  },
  {
   "cell_type": "code",
   "execution_count": 39,
   "id": "radio-brief",
   "metadata": {},
   "outputs": [],
   "source": [
    "# Integration Tolerance\n",
    "tol = 1e-4"
   ]
  },
  {
   "cell_type": "code",
   "execution_count": 40,
   "id": "reduced-turning",
   "metadata": {},
   "outputs": [],
   "source": [
    "# Time\n",
    "tinitial = 0\n",
    "tfinal = 0.9\n",
    "#tfinal = 4 # torque off\n",
    "fps = 30\n",
    "tstep = 1/fps\n",
    "t = numpy.r_[tinitial:tfinal:tstep]"
   ]
  },
  {
   "cell_type": "code",
   "execution_count": 41,
   "id": "grateful-surrey",
   "metadata": {},
   "outputs": [
    {
     "name": "stderr",
     "output_type": "stream",
     "text": [
      "2021-04-25 21:26:42,890 - pynamics.integration - INFO - beginning integration\n",
      "2021-04-25 21:26:42,890 - pynamics.system - INFO - integration at time 0000.00\n",
      "2021-04-25 21:27:38,703 - pynamics.system - INFO - integration at time 0000.50\n",
      "2021-04-25 21:28:35,177 - pynamics.system - INFO - integration at time 0000.74\n",
      "2021-04-25 21:28:38,624 - pynamics.integration - INFO - finished integration\n"
     ]
    }
   ],
   "source": [
    "# Integrate\n",
    "states=pynamics.integration.integrate(func1,ini,t,rtol=tol,atol=tol, args=({'constants':system.constant_values},))"
   ]
  },
  {
   "cell_type": "code",
   "execution_count": 42,
   "id": "happy-throw",
   "metadata": {},
   "outputs": [
    {
     "data": {
      "text/plain": [
       "<matplotlib.legend.Legend at 0x19aaef085b0>"
      ]
     },
     "execution_count": 42,
     "metadata": {},
     "output_type": "execute_result"
    },
    {
     "data": {
      "image/png": "[encoded data removed]",
      "text/plain": [
       "<Figure size 432x288 with 1 Axes>"
      ]
     },
     "metadata": {
      "needs_background": "light"
     },
     "output_type": "display_data"
    }
   ],
   "source": [
    "# Outputs\n",
    "plt.figure()\n",
    "artists = plt.plot(t,states[:,:1])\n",
    "plt.legend(artists,['cart position'])"
   ]
  },
  {
   "cell_type": "code",
   "execution_count": 43,
   "id": "injured-cheat",
   "metadata": {},
   "outputs": [
    {
     "data": {
      "text/plain": [
       "[qx, qAa, qAb, qBa, qBb, qC, qD, qx_d, qAa_d, qAb_d, qBa_d, qBb_d, qC_d, qD_d]"
      ]
     },
     "execution_count": 43,
     "metadata": {},
     "output_type": "execute_result"
    }
   ],
   "source": [
    "system.get_state_variables()"
   ]
  },
  {
   "cell_type": "raw",
   "id": "exact-speaker",
   "metadata": {},
   "source": [
    "# Energy\n",
    "KE = system.get_KE()\n",
    "PE = system.getPEGravity(p0) - system.getPESprings()\n",
    "energy_output = Output([KE-PE],system)\n",
    "energy_output.calc(states)\n",
    "energy_output.plot_time()"
   ]
  },
  {
   "cell_type": "code",
   "execution_count": 44,
   "id": "front-arthur",
   "metadata": {},
   "outputs": [
    {
     "name": "stderr",
     "output_type": "stream",
     "text": [
      "2021-04-25 21:28:38,788 - pynamics.output - INFO - calculating outputs\n",
      "2021-04-25 21:28:38,792 - pynamics.output - INFO - done calculating outputs\n"
     ]
    },
    {
     "data": {
      "image/png": "[encoded data removed]",
      "text/plain": [
       "<Figure size 432x288 with 1 Axes>"
      ]
     },
     "metadata": {
      "needs_background": "light"
     },
     "output_type": "display_data"
    }
   ],
   "source": [
    "# Motion\n",
    "points = [p0,pA,p1,pB,p2A,p3,p4]\n",
    "points_output = PointsOutput(points,system)\n",
    "y = points_output.calc(states)\n",
    "points_output.plot_time(20)"
   ]
  },
  {
   "cell_type": "code",
   "execution_count": 45,
   "id": "generic-broadway",
   "metadata": {},
   "outputs": [
    {
     "data": {
      "image/png": "[encoded data removed]",
      "text/plain": [
       "<Figure size 432x288 with 1 Axes>"
      ]
     },
     "metadata": {
      "needs_background": "light"
     },
     "output_type": "display_data"
    }
   ],
   "source": [
    "# Motion Animation\n",
    "points_output.animate(fps = fps,movie_name = 'render.mp4',lw=2,marker='o',color=(1,0,0,1),linestyle='-')"
   ]
  },
  {
   "cell_type": "code",
   "execution_count": 46,
   "id": "virtual-initial",
   "metadata": {},
   "outputs": [
    {
     "data": {
      "text/html": [
       "<video width=\"432\" height=\"288\" controls autoplay loop>\n",
       "  <source type=\"video/mp4\" src=\"data:video/mp4;base64,AAAAIGZ0eXBNNFYgAAACAE00ViBpc29taXNvMmF2YzEAAAAIZnJlZQAAdOxtZGF0AAACrgYF//+q\n",
       "3EXpvebZSLeWLNgg2SPu73gyNjQgLSBjb3JlIDE2MSByMzAzMyAwZDc1NGVjIC0gSC4yNjQvTVBF\n",
       "Ry00IEFWQyBjb2RlYyAtIENvcHlsZWZ0IDIwMDMtMjAyMCAtIGh0dHA6Ly93d3cudmlkZW9sYW4u\n",
       "b3JnL3gyNjQuaHRtbCAtIG9wdGlvbnM6IGNhYmFjPTEgcmVmPTMgZGVibG9jaz0xOjA6MCBhbmFs\n",
       "eXNlPTB4MzoweDExMyBtZT1oZXggc3VibWU9NyBwc3k9MSBwc3lfcmQ9MS4wMDowLjAwIG1peGVk\n",
       "X3JlZj0xIG1lX3JhbmdlPTE2IGNocm9tYV9tZT0xIHRyZWxsaXM9MSA4eDhkY3Q9MSBjcW09MCBk\n",
       "ZWFkem9uZT0yMSwxMSBmYXN0X3Bza2lwPTEgY2hyb21hX3FwX29mZnNldD0tMiB0aHJlYWRzPTkg\n",
       "bG9va2FoZWFkX3RocmVhZHM9MSBzbGljZWRfdGhyZWFkcz0wIG5yPTAgZGVjaW1hdGU9MSBpbnRl\n",
       "cmxhY2VkPTAgYmx1cmF5X2NvbXBhdD0wIGNvbnN0cmFpbmVkX2ludHJhPTAgYmZyYW1lcz0zIGJf\n",
       "cHlyYW1pZD0yIGJfYWRhcHQ9MSBiX2JpYXM9MCBkaXJlY3Q9MSB3ZWlnaHRiPTEgb3Blbl9nb3A9\n",
       "MCB3ZWlnaHRwPTIga2V5aW50PTI1MCBrZXlpbnRfbWluPTI1IHNjZW5lY3V0PTQwIGludHJhX3Jl\n",
       "ZnJlc2g9MCByY19sb29rYWhlYWQ9NDAgcmM9Y3JmIG1idHJlZT0xIGNyZj0yMy4wIHFjb21wPTAu\n",
       "NjAgcXBtaW49MCBxcG1heD02OSBxcHN0ZXA9NCBpcF9yYXRpbz0xLjQwIGFxPTE6MS4wMACAAAAP\n",
       "PGWIhAAz//727L4FNf2f0JcRLMXaSnA+KqSAgHc0wAAAAwAAeB0oXw3/go3fwAUTm+pnACCn0Jdp\n",
       "Q4rrcB0fOAQALzb6i//3jSzna00o32i3EJWjvyaXbKCnK+CPUyUM6gkYAACl30ksmkIA0RTEiU5a\n",
       "2cgze5aCKHkgsQMfS7VM/fnpJvZjH7eeI/dYEUPq/D9u8ghsyt0YObHn5q4YJ0Fd8dAXlylei0FY\n",
       "2Ev0wA+I15e7fuqsfFln07U5byOjgQHKH9a6ocoi0F3GvxP99L/tysibJ7pSTqmvLADpPfw24FvX\n",
       "mA5Xq5i8qHZzUCldJ/nc55RJBGCtYEJ/MwWJXBqqT2xPk3wpdt7KpM/m3VO6kXP9PKnXzt6a4gVp\n",
       "FTxfTRViFk+z81y+Ih2XJSFf6zYAfIZSGwIc5/ejKK1FfApsJTSPhY3qCTCjvGqJSl+0FSfeoutB\n",
       "fDt1aIg7rEd+8Um3iTzpYUVyGg8dguek6lyVnUnNjRzIHfmxOHvj4EdIAYJIpE7r6CtlpcL0Rs0r\n",
       "kJD6hGRqsqm6HJw9YS4wVrTiJzaopKtSJigxjnF0CzzqMFvvw3HAIcVguTbWFfSVa39yZO1xsUBt\n",
       "U6FxF9xbWbPctJgX9LGYYBrLwHAH8jIfumKme/XLkRjZojbU32prVe5Gep8HZrRTc0gQ/qyp+Kon\n",
       "ICYz+AlkhU+Xww0zr0v0TeyErRfx+IUJ/JYGBYBDRTMdVVsE+fD5mbJZbxCgXQbFfpx25uCzMHCN\n",
       "YLvdyE87yOpdC40VfHm/bkcMRF0nLOIqvesatNwd5lFDNeOZqb+Nm5xEtn3bUzLssrabR8ZIewCa\n",
       "jmFhIFFC2+XoseqOINvcvGdv3Wuxi/W/eFcrQ2SZkHfclnEhT8KlatR8W3I3N7FkW+scMK/xlz4G\n",
       "sWLT5zXZCpwqGWVx6NmY+whc8eXTCJ1PUh5HRkqNLKj4OsX2LcbfVrBKUAHbci1gCQsrlzfmwwMu\n",
       "UYL2EG5Kc5R3em9rTH4xoE/0j+D/eRl3YwPR5YJ8GpfSPc01ykLMk+ssCuCifZ9t9V2eJMzqsnv1\n",
       "UVlpMbdUmWU8n32Jx+tZqVKqZbALEeA3IQgD1lfLUvwc6Uwxr0a76S1UH1kL0TYFSsQ+sdjfUC3x\n",
       "fFZh9D43U57HKkdfnD/j6LgnCZWuFE1vezwn6iX+N9v4LMf2E5REFPlB1gAnTLz6Rgrr4DxjFQmP\n",
       "MGTDkyOZXrFUgFLpwB1HEa0Xtw1ntNUAb8e+ZVow8K3zaEXZ+KOvQzl9G5i2dU0k2YpQpngI2sXK\n",
       "EabXTEOZA/eUghyl6IHwJpq6xkLMORR4KYjkzGqbUNZKsZLl33jB/WsHzP3mnSWBbw32mr6ekcpX\n",
       "ojjpl9OyIuKuhDMMiwdwJcKYRmqUXPTnZ5QpQ9ohedPg8g4d/veJhtY0dsWmrOebNPmKaOKz7CyB\n",
       "ktrwdjQI9ayrGILVyqnxI0LsakqPoL5h4ECJhf74VbqpUXu2LZMMBfp8AAm/1lZov3B96jmJeUmD\n",
       "uqFRpNuXhsaAIROljoktwl96iLjlr4isT9pT/uqsYcMWjYSK9LB/iOWP1rhC94gpdW51RBzFo9Pv\n",
       "PmIrAgA19m/VHFYRaz2OV+aPiFID08/I49Jyh/5pB60mRV9I2isTvswCYcuiTcG/8mMbzBe1PULF\n",
       "Zb0UBmQI1flQ+HweHmLLiR4IwSpsJnCmG8Ew2bnspnXehE339w/IL9Tl1CSVAaJ2ncNawOp4MFZo\n",
       "mdzRKsSyh5aFrjAYQ2iYn81z5f0MIA4uBIsdjj94vurk+MymvbhYREIb3/gDink9AqdUG8OlMZA1\n",
       "5dr6OpeiTRfiyWYuwRqRN6mtSoZEuAmJZkQyRPUBlBIJt+yhh9ZR9uKvxHXHCY3iYXIJXLlMCj4S\n",
       "NYiSHesZkUNBs629OGldw5CHwfNbuY+4QNK7ivbvO9395k9XM580zKpkadAUxLCQxr5BBxj9AV8s\n",
       "q78w0+QdnC8E+Cy2zjmIsCzVuT/y2w5lHTourORpA8QFo6qhbUFt8i2AfawqtYpx3Q4XB/kobdDP\n",
       "ouRxRDaKyJ+aobqQLiQabOVi/GHKGQeg+oqaMyWTociuvrKhfGLt63c/yFo6AmgzEvFLuzUxyTZi\n",
       "HFtC3nA4dQXt6o7l3LII3mP9FcMcTAFoimPyj0t53oWzf57WJkhK7f2n5qogBMGMkIhgK/rH7s7t\n",
       "9OLcL42cxe3dXimhW74QDGEjvi7VgJmWryyWkhQI/fVaPvdHKppsn9wZDMzYUASOLmrjs62F4tw9\n",
       "c7CjAxmfPDeQfOL9XBbWZkyhAm81lxjvyNw9E/bLgNShxfRTyMoVaYSZKQOaz8OdY7N6ecJdsRg4\n",
       "183RGixjXeYtVfJjk0IyRoxmqPtdjw8JNb1ljS6T/OT79tYFqMjhRLlf6nLkmIXheNtz9P4be8Ta\n",
       "+DOOmCL1l01ZubuhEggT5AFai07bfUF5hnh7zq9EOzvgYdveBUoSYu5eQ1DntighUYMIUfkojOKc\n",
       "3AE0sT/blLJy32BHWPfD3w3pKpH3rwptB+CtYDC/nItnXyz3qmg3QlKs066SW/Fv+74okOHx6dgM\n",
       "wGjJmaLQJXW0eYn4CFjvFJd/dlLjeKB2L9P+JlkzJN29khnAHrIUhGrOX3kPMQnf6wN/QPfeH81L\n",
       "olP3Hu3Uz1glz4EUOggVzncFVOkEDxbMGoYBRYG3q0LBnpHoV8jInQLEquKf9B1GifJeRUu72ms7\n",
       "Ivc9iIXItnUmJ0SioDDaAweKkKyLF8vSwMkyXvwmYlBy6Zk4eQDzB5ITww3PQcMAon4l9O4SXopV\n",
       "lYwoStEavdN6cv54A9eAOaPglcqlGOLxcc1FODjJJtY8nLxoVfye2trMCGcNh+scYsP6flB4x7Qt\n",
       "sC+oZADekZ86TTBeak7Wv4ePzuX46uRjlsC5BNCGcdEtozokJH78gMMNk/3wdd+X1w3R1U4CWax/\n",
       "CNnVr9qt+BzJhWjiPm5P8hkIUqmZWIcMyDA7Ky5BRGf7rkuUfWydr8kiQtyKu+AF8Un6KCeK3RxB\n",
       "gqgwMWaRyFlGQjWG3Jc8kokACJPWhpdXXjN8TJmsVBReX2TRd9ERKDir/0BIe0mS6YkIbrVMt5pJ\n",
       "goAJ1J4QC+5hRnbQ1pA69pJ6XnXshAQF8zP5gOyFkDsXPJKJAP7lU8x+K7e8h2lfsq4QwPv2yScn\n",
       "jTBZkZFGatcDRMvd6wM7esofPjpG764n2L3rLrR0rhWNU5tRR3oVCaosDRAJ/Po7O8F6hhniZEd6\n",
       "5BnsyNDczVFa9mBRemjyqaCrdPR+LT3uraSjwhC2AF0LdJVN60T7jiesrzPmbgBa+1vm9ZaOgXq0\n",
       "EY4zhZ+lKz/OrPJiR9fC8VqT3K40T8LMUQyJ/CfAEn489opSuLZQHtxkAIY8NoNSbu5ONGchJdR8\n",
       "CXSj6ksDcwt3kE8XDkMangJPr1UHzp9C0mBsdy/gUpmps7Ep8CrePcNW9QhUFuIinKTtCYsQBsxo\n",
       "BScaRU6ehm4k5hZCO571M9ogPr31AmK5E0KSOyllg9vBO4bISnmAqGSB9BFupKbuV4YFaAj0XHsm\n",
       "Sc0KqjkRbZDZkvEagRfi+fYi1LoYLzBW+wtIGuLKgjzhZn9DRrDYFTCvED8K9++y1K4birIfQhKk\n",
       "jpXNp4N81k0lg5jQtg3V9bFQGcCtCEX5/7OS/I/vsTeyQTFc5fnp2NCit1hZsxBomei+msLpahC2\n",
       "yGdaliw9q4+bQe/NyLr1c2fRvQFrE4msVLyYxBbsRzuw2M70MLFYDgU4qSsNsMEvyky0C7RoD1uw\n",
       "AG17f/eMKZrCWoHiHsxAQGs4R8fjd9vAAnpObFHtnGdiMSIp+kQ041dKH3usjB4eEjuoHYix5deC\n",
       "xEnK/vIJik43+LlsBujJVCUp284UkP2Z4ZtMELi+QvzVQtESzWl+e94nP3R7fl67cZSC/BRk/AnS\n",
       "KE5n5OAMD1QbvBwzD9fQW3MCarUINpUZ3pPCimULIqpBPYtM4JfjFIC09iVcsn04dJLaTYMvO5DZ\n",
       "L6HlYfzV9Va985Ln74f0VjufNpL8Ej9n7D+7AoM8iiqwblkbxydQzXjQs4S3TgHBe53i3fRi7N7q\n",
       "kbi/P1tXY4lrmSB1xmIU88vh80/XqXSPwsTiYrtIfLXhsloJLWh1l9T/nolCEgDoRN5FmdBQtnRH\n",
       "S55uSXOqoYTraNCtODtvp24Vptmyg2IrZRv+11H7MHXS0ANzMitgyiTVYApeOik/sYHO84CY2ts8\n",
       "WwNTu6hKFwGpxN3fnoT/SOJ9sj9nQ+qlaQ9+ulm2/OFgX56fqQ/L+p3AvrTAnR9Qy8/JpzH44pUk\n",
       "8OITH78fb9Zz1vb+wnfph/XZwdPVryCZ0lKGouL3qcD6l2xqdYlfsU8tcDbh1MypUp255RyAwyuC\n",
       "P3gzk05FYCnOkXIGqugts4qscyhZhrg02PoXUut02BRxbFD1ubENBnQEVRoAEmpWBiO/Ifi+ZQft\n",
       "UL1w/pebkmojoliCSdyDR3IrBUw/cC+DjBc/Kr4WezWrXYU1Ub+yrowXDuAR/TfjlfTSBJfcLxUu\n",
       "2NKnT/67/RQEKFb8pF8uhUsD5XkPHx8ucNbMESocGwcoxeNOksk85vQjfPqAr/emSlyL5rSUWCSl\n",
       "hueGjejGu3h3+2+K0jIGr58oU20albWS7VnrUltdnqZx5n0iVbs6nmo7/SlN7xex0U92/vWpred9\n",
       "R9NjSVOxP1chr9ZYWl+EAmiOqgVlu0CKEHou8drHiYXqUd3Jc2gforZnm8aY/74ZC3KZwOd3hA0W\n",
       "uM089P1IPaFF85mfPctvNc4feKQDOxZcNG5YM4zKH1KZrnK9wTgB90M0EcqdI1fV/NkKypX/ebvO\n",
       "qiVrW5EV4sRvdD683wufBeaq/tk6Z6F2BCqV6px7GG/9QEfHSCWqnPwKDgNFb4UdFeEbPX9Ph+z/\n",
       "TnxH17RsCVwxOO/dzTM6zFSbEmNB5YA2pLqDYpvFxvummw1KiTqLwLuJI1qyzP7GZF7Y3taf6uyQ\n",
       "+bZA5sC2m0n5EHZz1Z3F0JeLtbhwQxHnl1pCwzJckX/9ybq9W7WCjsv8I0bkGmaEwkY/20aFeaXo\n",
       "l2mLETZnNGKmg8ppTOVqRXtbjemzp9XgwaF9h8G3fLQb1hemEnl8X4QPzDnuGKFxaLB+gzwC5krq\n",
       "gdSRWRKWD8KRJ5z4WKGehnRFX1Usf4+5FQAABqlBmiFsQz/+nhA+NjudLX8a+dOdDPpEAkc++qJV\n",
       "f+hkKi7IBZc7v4LykEy+y//inNMLpMBo1BrkEAe8s+zls7222Hu8sVtzxgph3LF6KMN1snjjyjZu\n",
       "TijhHGnp6HJBVASjLZlvpyya3TOrPsUpwM0XV+sn7TnAEIOIIh/iKhjutbH2+ywTn3YNS5RxZ3qg\n",
       "3CgATiea0zVXOwxXPRhzp2x0US/8F3gwl1MEsX/EDRNM8ItB1OcZwvCjjn2aiTudwDFtWOdYgeuf\n",
       "bHB5HpstxZ/q1/qLsDh+lDgWKi1W6tb70xQ+JT9EyACyDWloQw/rcvSK6uLKjQ8TeK7h/dCI51Rb\n",
       "zrlN6AZlJ1KIGZGyc5uYNhgdJ/W+DgZhZwh9VAxUsP92TaH77y0AnOfgVbL/6qZUZtqjvvuxndeW\n",
       "kVKToBgqn+1BN4+ryCFGiF5ucZy7d2rZuZ9cvDWw7v0usZpp+5f9clW/kGP/gz/IrkZwfZlNjLPS\n",
       "xHwHfMv8/128XcfEBz0BN75VDB0GhSpBzqJxy0wV+Wb9MXdwhh0IeXwnWFZmtvBJTOqtiwSKqtr4\n",
       "iALwSLcQQMxfmLBfr9lZm/r9CChd/lpF9CRrC1MDYtD1P8G/5hqZFMK2456FSOHgV3G+KC+7drtr\n",
       "ZfrFDkIEcpcP5NKVenPUcJ8pph5RPunX4b0hADtkNMe1R+sq0MzRr5vpL6oniyTVktZS1thR5Yu3\n",
       "lT6CkHhH5fbIbkCjxVUqDMNgATXJvQKyvXGE6kyjHfenDoYmSrlBKBnateBE8RU1B5OLFhsZCRv7\n",
       "uM0kmHUkACGifOXd48TqnlpEJGt71cpEBmEzwFZ8/UcExr41zkQWoNAls98cG28Q779wvQ62Y+Pe\n",
       "NEEe0oi+3MI7FD6gDXdugg0rmkEQcXmEDfidDKCCRkbHWjc7bTNYFviyyfo0xTqsluVnck06j8nI\n",
       "2Q9zh3stwXI9Q7vnAwYMgSKClf9nmg8oHbDkRjdj/kCuvMraeKmxJY+dEN5Oqxm/Lk9Iz1JSCusq\n",
       "zYG5KYSksaz3wz2tu7wTNsQ1ZiLciNgL8V5/RCzFkfoEdEmPZlhEKqcguIX6CNUivAe5cGpZKg5e\n",
       "zGuAW7nFB8bVhYv1UmyFZKE2GqVyQ5u2lYeF2T1srcljx1xcwDi9dJKBpEMNKxe7yxmfutNzG2Sh\n",
       "qgbrBwj3O9Z6u3uO0G+yi9wZw1KDlUcXNMT/WhNL9qUm2wszN+QtySCGws8NV6ZL5Q/XkTF5Wbhc\n",
       "rtT4BWJQiS/SV3VrC9Cv0aXTgBEKqcRNyio5kKJ0ccLw6+56R9nftAYLacn60PCLw6Nec0CNdMvQ\n",
       "c8mS9s2iqCIiplGmawfGfnVzjOHlOcpa0Ruth38fPRQP5I3hQO/STgJeuACzbIFgHouJQhD8xVr+\n",
       "MiR+ZzUXtQSFPnGjh42/cCSINi03Y7lRkyQXZgW+VkQVZaMCcHIYyTYHjK1R0OO7M0JbUwA7dS+T\n",
       "fMoCZ3DvkX6VJD6uOAlaa7pgeSLBQwEz6p6ExPu1SQ56Osp5c2Q9xLPngICMiZhgZkXmKmN8Uj8n\n",
       "lOZNCiNYahXzEZ43ZCLcwnf6bR08+FAoyAL/spYtZFIVn+TUISPmpnjNzSYsqT3BypajLQ5cJDRO\n",
       "Z/kod1jXuK7Y6Cn420lHVLvNp1EpHkLTiJiitIdjk4ej/HatB4uek4qUBo7z8bBII3TgJaEVlImC\n",
       "2jQwvSeyM6XaxnsV4lKr3RHs48gPKwKE95ZCkLhJD3SOLCixFdFwHxsuSxW22oTuEFDeOMNrbQsv\n",
       "lHJALhLq+YHirUweR46wzzvL7z4hg6rqH1zGw1t7XnIdJ6i0wBaPc0890Lo+XkETj4B/kh0sBRLw\n",
       "A+NWlKar3qx69GgkI8Wt6cUg+As+Xbcx54KbARm242UpVf7Xvqt219NMYXQzRymUBy/tNODFicEs\n",
       "SKkDKP///j8rAngn/2LhWZfqkNqFDQFSuGeQJpUgIyPnaVVf8i+BPyCibJ8kfHsvu/srQvo8WnHW\n",
       "KMzygrJMsHeC8nHpgwXgt+Dk2GP9juFtBusZt4Ac2xfshZozzLKQmKxE51oVSBn1lvjCtvm3nJyN\n",
       "e6sM9Iqxie2JQ+NVHwfYciEc2C4w99m5aDvaeka/ZMKnjTzz1NQrQOVCqBnVYWsUvk8uALD3c57s\n",
       "K031lbfOmI+BJ96TxjORewuBICxiYy7yrhJlJ8emmVs1D2qK4IWYbHlZ4fSyaDeK8gOeb+/ULJAi\n",
       "QzucpUagmsonnIHq9Y0+1PlcKpn3ap1VAAAFpUGaQzwhkymEM//+nhA12LEwaHKvJlV7wAJpPULr\n",
       "LTF/zVhmmhKm2zdLxIqxFxhHUbkOs33kitb0aqRnOnjP6VCgLWPRLGq3Ir0wSdLUrDrrAiJSb00/\n",
       "iFCoTyugBAH3QRPhT5pFJfDg7u6UNXxxF9wKo+8RE2LON5v98n3rq+1nmNxviZPdXxaGfWZZp0Qo\n",
       "j4ya/8ebHkn5OukfJ53Mso0KRXo+4+DflRfztbpojnhYzj5AzXa7RAXHF89CsgSxWLqgy1zc2Gc0\n",
       "7qgXT8xq5/fL30Img8MOFuCnA20a+0GCWsxm1ZLsVH0pwHSIC0q4+dI8LYlz3Ede96qymUr1oCkt\n",
       "mvbQ9SOZL82rY1DjpbosxUff/zbFVaAr96L2GIxLDIdmlcA6qJ5VgPmzLV4YXtd6tSRgcRmGu96G\n",
       "rpYHOxbQ6hwFcL40juo+rp7fk01/hlEy1VcDXMcxuEMHT53Zr+zZItzjYLz4LwSPZss8KZ0bWLDB\n",
       "k4lCRgwCMnKRBIPsAgXIakzfeuuZeAKKd35xy+N8luAudi8GG1706xrXPoz3H+Ui1zJgM7uafyWt\n",
       "3dzzl369P+RQ5pnQ0X2rzzjJbY58CrInFHmmg2T06/sdet7t/Z4E3rLNIC/t+MMK0HnZGkV6tneT\n",
       "Z650He8L1flTr0IFwEtQz6OH3S4DbFguD2o4rWh5R6Nnbc6fLjKtHmaWlheSxgRuprfoAMvGlq3V\n",
       "UWqdW3bMeVVNgEDBG1/yPgv0W0EZa/3sPmWteRpx4LBXW76Ep3rSy5QLgzbm4R53fCB9Q/OkQUTd\n",
       "2nMwH44yOwMrBU9g4TB+qj4nfyNBwOIff43Vt1pUex1A5P7TWEABwMwck/aMR64Fjp2RmJ6pgRNw\n",
       "1jaqxEQib5BqBfasXOimNxsacLcN0fwy8khZHv+73ec7l1bw+hdDpJ6ajK5GqYwMS0fi10GOQSrZ\n",
       "9S6zJFkpz8aoek5NFRr+g2BEj6rxutecPPK50lVgSkLeXnv0Oo5yvEPyR6ShoUcMx5P6Dk0EOssk\n",
       "xSJoPS5Zwa2Z8xDYtMnBv4w1OTgEFX8hcNk4Cm3hX27lBgLM8oPoFCTQptfC11YggNMQ9j3zFJEl\n",
       "a7K4LPu4Eib+8ssqhIuj8MYKudcIGdAL2Lnto8dTcm9IHSvBZYcEM44HkPABnGzQ2eaEq043nP8b\n",
       "M7mJbOCyzQQuVHZj1UsFJsDbpgCBHtYtRYlUJCUPvmWwMsASj8cN+PapaU+KGPmPOZPv20dnY2/g\n",
       "MtjlpOAyWC4m1K5LA+c8/8PntJcQGduJQSRccjqz0rYqBSDmGNswVws4l4H4eq82DlF4EsbnRHDa\n",
       "mS34h79hfzY32zfjzjYJmtoYiGfY5GnLmZiOsYsUFCToQAm59qz3gaU2TYB6f2thRmloYcgsZEuy\n",
       "5Gz49iGQZdOWWuo9Jh5Q5iERvFVRhi9rlPjtBowPEMBnChR4HPZHHQjCB2S//7l1Clr1oBHfxuIA\n",
       "LY4LbCFDYcfPupwbGjeuOiCEV4QyVrp/+fk4FQm+yZmowwuv1Dvv/EmnR6DVkkFO3Chxj9do9/F/\n",
       "hkOyfJFcXV2I4KKCvSnRCquNtZ3riffQdfqvLhnwdvRhuZRD0H9l+YdviQAWAaSNagl+KK+H1/YF\n",
       "iywt0TVAl4luHlHVYzwVoXBa0/VmvxcrgPnj/xlbi+AbG2/4Ed7jVQXqNmJGQCgawe7qJan0QgP7\n",
       "sjXZIvWRMOkv+1135DQRkCsfbAc3OrCLZ2XlFWbP/ASTh+ETOMgubqqOCsI7BUN2XLRJMnSnFMgn\n",
       "3tnmGCvtrOnAfaKQ76fG6xRXDpffwJYymyn1+Ud1f32FcnwCwcVZ/xTHLix5zOhlQeFx4ICwCmrv\n",
       "VZyfhO/RGr/+oImDvhuRf+k0/eCuNXxO0s7BNwaSml1gV4V5Buoqzb1OaicRiJMRAAAFkQGeYmpC\n",
       "fwObnbbG/OwO9fbz4Ug1hnqDO0AgAiDNOq/IZFABK9BkNzf/OO9OmQ4fGd+hrUIbEArYjZ60Kb3Q\n",
       "L9mcz5bntpaXy8QmSInSmbT5qBiMDjo8Y1U/szk8US2pTwOVhc84rwDrTgoK5i6y330oWARHzgwA\n",
       "wRFPnz12cEZJyrMwFSqfZWakYkWtVS6zfmbg6lQkzFmgVh5+1A51dsE4uO1jujip/AdEm8Qhr2yz\n",
       "ui7yGVRbDwM+WE+wVcnxQVV2j4zUMtAgmpmkVpXWr5V5UgPnvGUD0U1cnl6PpwdgZJwAroxJiABA\n",
       "1/7vlcaQ8vzNX0LH3quM2LJ5232pcBU/22f1QtuZAABjKyUh0iVr+9ye7A2RJ3I0GC1kitBLsfGP\n",
       "Ya2YxcnYKPP8LOm7XXIbFSZKeMiQSIEvfpDqzo9C25ehE3nj6O3nPQ3YpmzRAVrcHimUzgUzGbB8\n",
       "kk8H7KpYcyavmvO1WERKz9Hqzct/vVQwsmLvSZXgKdr9Cp+4CJ0ssBr+P1QVB5sT8/W75O5l3WV/\n",
       "e2W7lp4sUJqsF9eWN0tF5TKNqSOi3iBcQY7axqBjU9CoxlRhFIIGtmnQ2H7NRNJV93KQpA4A/Nid\n",
       "UHjPWEHbXwBQQd7pZdosFeYwCMtQboDvNeGdqsPIiGRgOSItlN4hRRa4TPzuI+EbaXRGBhMcJL+6\n",
       "BPR027mwNTRZCTxpnYS6Jmbqom3444KCbAHPMVDsZYdumJwM91mCu15klvoAxaFMggeqSVz4XPFl\n",
       "ACgoshqXbiHDXp3dX08ucFp0d7WO2hmAmZ5MBGLATftxcOYD6q3RbOwIGwdy2qcffNkYQb7E2HLi\n",
       "yPkeH7+plVfeLSewdL5Xj0EXeyulsm47m5+qhqLsPRzjt8CK4qaZ9rGSwbxuaL1S4a94kwCikaun\n",
       "zz7zPcQuIZJVwX/xI0cvHF06hOOqzmxw72BicV5KPuuA8JwZPOmLDe8ewkDjW0W91CTwd3gdzR1+\n",
       "N/7ORdFKTMLsvLT+hbVRWxElBJjSNFSiTgKVVFpjLYcc0iB3ebNcW6WLcE8qoBLAasoaQkauGQCB\n",
       "Pf/13ue9r+yl6+GeIeFTFDXcZN9fZZyJACIA8u0imkCW0QBUQWQJ5oqzCxVxfFn6QDCJHkYnH+yj\n",
       "iLi+nrdebZl9lwOxgX7YjY7hAzdfh13rKcyGC//DccV9gQHVYfCYUosPoX/ebduTBfaCTC9S/5Fn\n",
       "+pVM3ih8MKyuC8nbiVtyk2zasJv0WwCbO1PQJqAmsiRJMgm+Nue0hXAQTAQRO2uxJwvuHGMlzMky\n",
       "1Fb9LOARf0UMEKF4BCkBl61P8D/AiqIvapq466UNvXt2Ad7gCGGBWp8/KpCS4DYSV9RIjnWqh37y\n",
       "8k9HXvRokO/OcW4WdXZ6CDraJr3lWwm3upAHuEeOoR/el69I79nB/yth3NhRvh99M1AkUWkUI8EQ\n",
       "1b3Tli0f+ccM+NMr8HLdRIUfxikLrrQUk7dW3UuPjG6iONSYlSDXRQGiLPXpC0iFjpVhwVz/lsGI\n",
       "mTQ6BTJ3AKUfElT9cph7bAp7EjxRIyW42JBBlL9zWoOXLRjNYPEeKyql0jrSrizEWnFB5rWC48PN\n",
       "AxNCTKRjwwBd/z/DhQcypjgNtQszEwF9RS3fbL32GSvjYG3JqdwpolNUW43qkaym8UZ8nGE8kArQ\n",
       "bxt4BYyv7CO+8ybtlvl0a6Sb66IirtNP612XsI7H2AzHf/tuCVr8T4EiFpa/FRO6Xi/94J5gzqQu\n",
       "k2nuaw0+tUoO5Dl0bdcT4402EsYeCTReiHMT6+HiMlQWiOnUBgGXqC3RY+auUTVjKwObBQYjay1n\n",
       "/jkcbLQ+bW62ggIROc3EZX/1P5CjfktMYUrhjz/FTWZPWRNQH780wMgMwsOR2Sk/UpcqeAAABPVB\n",
       "mmRJ4Q8mUwIZ//6eEAWj4O6ccFHMtGW7j2gALn5uItl4SD6gZ1Y/ng/ly5+J2C8UfW872YLBYs2G\n",
       "WBbKrx2WaOLVrt4ibn4h0YlFdH4C4YUJ0+lQkAnJeuO9cODwpZM06MsHuhLiqffCX7lXeTGk8ZxF\n",
       "1lowVmr2GwGeiqVkJNLui834iZZFntCy1ydMk2YDGCRgHO8i9ePZ2bwgVZFxoiPJu7ZaafUFn/bZ\n",
       "qsNhOGkb0IM0LUN9/xiA7/cic9zBmr06kpu7H33th6a5s1qda+cqhykmC1A1wIPxuw+fn8eUQYq3\n",
       "lKzn1KvuXIdHZya0AEIl7mJ4hnBu/X2BLfB33af7p1+u6QK2Q0ubfxjrbjjGbJ24dS8kJYkF21QK\n",
       "Pyl/nT8jijyI++a9IANNyse3sA/FKkyGuN6aQlReZaPBcW2xfvyCQG10r6a1nmqyKXOTQPOrkQyh\n",
       "Smw/yFs3aHKm1nmenHRPPB2MfhCg78q/EgAn9uuWh1NNAb+boYCHzB4tQj+dypAK4QFJq3Qja0Sl\n",
       "wkY6+6a3E5p2nRRP3NOyNP4z6+Ktz5dC5xB/5alipQE5wvDPvDF+VYQIwNVt+9cIwepSn1KMk5S9\n",
       "nHnp0Xt/UtvAfU6QnoHTBB06L6R48yzMnfZnPXVzmyE24Jwpe2Ylz/Ux8Kjb8WEhyeKS+EHu0QaI\n",
       "WeNFBh+2zBfRurpbDSsxVBob9tZ6+L3gTbhlb+CFP8pCZdTQbSuk05BEzwnFxBbobc0TVlbWl2mq\n",
       "b9xKjsb3BYMVwcFkpCOiXR4+N3WUzN5gCfYP11FyIaWvl7BY4F594RIlL2FPJS67gL9Y5krlx1ie\n",
       "VC7FzFF5LH+qv2BbjGtUoWvUqQ4fWoNVAAYDZdCGINEf3fNuP5Gnabgn2WW/hf+NmRDX4x3l3NfV\n",
       "xfb0uAWaYcPbyW+TbqcRoWfesThgKR3wN6AUv2y5OoCDUCbIDyKtqHEpGQ1TRGrYSKOmZa78Z2lo\n",
       "STWt8d/tH6NrSS1Qg7d/JsnDaFAGddKmkwPgx3g6yTAmP3D73z61skqFfwu4PXgp+b9KzBv/b0+H\n",
       "Tb2xBD4XEmPwXi9VFrw/5p1nef3XWsWlTPHB5UiWkDjEUq/wOjz0W2u72qg3f3PCafFiL3RIkgWx\n",
       "S2fyI08pURZRn4h/uu3nc7SV84AWqMJcndy5HWxiZH/sld1zZND5URu0BGx+BBkJFb5eP1zk8nAr\n",
       "tNOM/kS7Ehv5ua9YMxGWFYOn3ewvGhy9Ip3uBw24HIPE8k4TefN/+YkH1IgPdfK5bqsFEcLjlg0y\n",
       "Z3G5f1TUqFVwnucRKvCR36DQ+cXIMqHPCOEzV4UaVyTPYHUR1t6tOTOsPaGBvbCY8smsRntAD938\n",
       "6FAANaRgGp47mWcI5rBDfH8+k9g1rRr2bOIxZJ0cWOrEJfC1rvf1nR00nt2HRaNlQVvqVzUmCVpM\n",
       "xcUeVt5gxLDZA8TfwMEa1OIuerTd+SG9+OiRfFgTplEJmZ4QfgUkPG5PqOGl69BmT3aoSHr/ZBAL\n",
       "8wuoeNcGUwC3pL+76U6uN6z820xaSQr/cg3nrC+uG+98XJF+f+hie4+I6Bkdhcvzo3xPH75AaX3n\n",
       "JkgBwVLdP8o+0efXo+QAv4OQYBPeyvXkh/qXTTI8gOQ5IltCyhFVFf//8MUFagarX39k0lJnb/17\n",
       "H2nNEWME7c5iU6H0ICEAAAddQZqGSeEPJlMFETwz//6eEBx8WJg1q/H3zjf/C7l64ASpU5MH8IIn\n",
       "bOP3nyYixaPwWvwL3f8lePWW3V32s0NVSvl++M7Jh2iLpONc6cCqR15BNTUbBvrjTHpmaWPUgXjQ\n",
       "ZAyXF7p/9V7SQE0VG+ChGBXRQyOUTeCmdi+18dIzKQ6dv5t7WajODUYza+atXlRsoI/uyktdSZcr\n",
       "oZfPuj2MPtxFr5XdhltOzwn2ukaMfGpBu8IMeQc7iCMiqTJ66MYGtxw/Ohujqjkm35zl5IG7Xg+W\n",
       "pFXLJcCVv5j1qYBzGPLLpni/9SuuYmTvyYpiiVG1roVhbxYkpi3pBzwdF5rPltk6PvhtWfKHgiy9\n",
       "hrKMDD42ap2oMkJtuecfJ0M8oDFlPL7M/OD453BkFGoRNjnbAkKWMsIEDrIaZD8o9IaMZlNJKfC6\n",
       "bp5KXSWnIPaxLCp8GD5M1/AAn1kwCNdk9RPA+r8Jj2oseXbm2Wwb+dBZ+6CIPYuxG3eRxaRSIrT8\n",
       "Ejpgv8c6ihUcnymOW1JcAGQAVTOxPB742iSUxpMpfReUuQEpoybMDLo/nhFxMDPTT5hE9cuzFHhh\n",
       "l38LqrvuQ86oh7+EJh3N/DuUA9ymuCEVz50Pr8yAW2LstBWgHXV2AGZtoWr6rheVzu9GOM6Jq4ON\n",
       "Wx1wxqIW0JpcHFZDQ32Y7K/XzDFceCI422EhAY8suJQQnFVYpqqc/Rs5ds3nnQQh+G4RJM9EPdKt\n",
       "BJPRS5dZE69B0ftJ++V7/CaPtvXCdLsPET8zZdlrVZKO+NPsQ42ZIQTe6Cl/SPCbFT59OZabl63Q\n",
       "0jwmbxIgtP63HfaAI9/B1R4pQrlx8dMlglilrG3qlCTVqlmr0uXU3wunBqtEjrrJ1n0/cvO6H0KU\n",
       "u2ZQlU7TR+oZY278DgBMDBGx5r5fHrM/zFut4ZxjzK5mSnPi1U/Bm8kRBgfwy+nrN3eiyBHJl7mv\n",
       "/80l6paebMWoRZkyuIQ9hDRRn2qB9r21Z8Glptf6L4sqRMQq22k+aQZxkVaoeqKvSJn/ciko89en\n",
       "7LDhgDZ5JLbdJo0kd8ogTyFYaQbsb2O++avEmVM4aj5R2sZOKkxe9oi2F4Kn4gpWTrgseWkeWu9k\n",
       "GbK8QmqGL2ZvQE/nTtyOat88jcumFgi/zyuwFMDETqGHMzhK3Fqw1dUFu04VjrKR6Ls7kEQuhi/d\n",
       "DT8uggZLBlHYY+6w03kIOuQPyMipKHgLISEPT8StIHFO7JwnR0+ereNdXmi9L67dTTo8Q//gFHw5\n",
       "DvbkNHAi3ty3CLbtMlYHh2982rdCFg9nFJBeCExlVFNWQeRpoTMqotNvV54wBQkwBqcqN6eyGa5M\n",
       "Rp91T9Fh5L74k1mukBzNIk5BRMlfr5Yic9HS6iDJidJbcVJpxcBy0AHJ4zc6q3Mfm3vGK9Vcv8uQ\n",
       "N0HXZuRhX8LOcoCPAK8PB6HdVPy0p/NTTo2HQiPrOhb6FxUkISHhamyGVx1kEGNGzPsHFXWHBrUW\n",
       "TNStX1+uF2SaujMXdpKdd/wyEkJYHgWy6oFAP7O9/odV2m5c1jsWslPMUTQJ74dNuKYTpFJiZARi\n",
       "KIH7TgrdOya11n6/uT1tCkgGSkxzMtJ4yq8+rcdhk0yFbQ7iZ4WEBOuFivmknqP2HcAs5p8RnRML\n",
       "D9S9vo+tL5odI5jeqrmA+MoateYSljAjY4NTkxS83muyRRzi+oheyrWIGuMge/7hWSj8pAgllll6\n",
       "zBqTmMhUPN3TA5howjy0bRx7lhD2JKlwDxIhCB40L3Vm8BV+SEvjGC3zQe3RriR6jHtyTQTP4IKV\n",
       "PZXWqcGIMTXkKsbRzwdm2N4kjWUtyHNjpA/ubVTV+uQhkrY2vXqhjU1dRMpVQkT4T2Swdgm5mxub\n",
       "5dqcE/Y1R+14u91Pk+GHrQTHVOQYyAKxPop+tHOXHgHiFGihwNPeJdYRVORXJHPT8qafN6v8t2fY\n",
       "eaoQCTEwjuBNKg1f3g8/NbeWzaOElhQz6cF6zD96xecc/8tqNyshQBnrBMxHuxj+77eEBqhkPrFf\n",
       "RKoSIpzCbSC8LBcJx2EPSiefj1BfdCrt9gIccSKhPKNtfp/5isis0LSE/MTQn2dV333PSRfeHyAp\n",
       "yryE7YDyK4onf4922SBSwyBKZO81cOUsEkXYS9VWHCPgIL/FKE3Wel2Wrq8VzzzxlC4VDrPzOyuM\n",
       "rr8K4Zwp/eivv2pmgbXerGDUJ08aWf4hQL7LA7Px/Jo1r8fTzTPDa/BEuMhMGFCz7qWhDinNqBok\n",
       "zAgYHq5YKgVXqWo+cr2D50e5Qlpc4oLqI00FBd2m+x1zvUUu5FWOkieqV/WFIiTUPWSqZ7kmI1Kc\n",
       "z6mLM6UdDiCWnOdsnIjA7uupMkTbUlEXeRC4Yb02GVhsUZ/B+QKEo52EF69tsNjHt5Zxv9+Ci2pq\n",
       "x771ckudXJovtlfx+2jwKfH5BmA2KecGLK/RvM/QaX33MPx9ODCfbow4qdHz1jBnw+az5HRzOTds\n",
       "NQp5fkWnv/9LZVnT81fFwCZ13vCW2wAAA8MBnqVqQn8C5SvRfmgFgW4nTEs2yWWwn6psABsKcn7p\n",
       "+vHXafGyt+OvDRvYWs1F1ugvw6TjkeOyGkpcaW4Dj19ej5J73NxMQVO9UeGlbMeAl1Roo+PplHoW\n",
       "EFs5616gig2e2D0XLRCpxIYWNvwUMhT1IBGEBwuD/wRaKa1hgCfXK13HXloKR3YgJth2cKiDEEaX\n",
       "j3U+XNeM6Uvkw0MLyk2MIc8goOChbQIqKx4Ar+xz8+h04xBmLlD54qKf9heMmXoKwFlwdbIvJW03\n",
       "prqudYlrQEox02ir6EEgEzNfawmaJ+w2dQzFzpUNVKTI41I6yCAUjwkbMZHh/o8YbGRkwC704taA\n",
       "WL61ENcJN6q76AT5+1jJKEM9LDhiHJXNZYCVpulp7oPRRXQ3whqAzKo/DPMdNf8DOOUJ1GdDzvQT\n",
       "hr1ZWWRcD3h+HNfZkQMFQtiaF3k5ExZ//zd5pSu5Sa5LpTYYjSB5lf2ioFE/n4o39R2ITo+sl/xe\n",
       "2EBBtq9Sy2KdiCZ/GwQF1NkusDaMz5HP30nE2IFlRKbERYfXR25WjPSTXrUWb4ozs4yW4mdn+sAU\n",
       "gAzAmaLF1I7eI2kJ+JuOB1Y2+tceale/FhxnlYAI4F7zDqfoEPs7vfAYSC05heyjAt0/WhmYO9O/\n",
       "TEssy4v2FXhg41y+RJRo/7ZP4H1S/fL/EbAGuIk4ttugclhpV9u3TXh8ub3fqcodP97bHAEx0zvU\n",
       "kItYGL8ub2LS29PAg8FgcVrb7W3YL7CEEjPww0z69xOFLoMUfvWEy0hvCpY+zIMW1hqf0veOHoBJ\n",
       "Nts7FWRd/ayKgh235jNxxutrqocsnOzJGPcDxtGjj5PC0dSPk/W094oEhKp2YXnsdh6kO00h1ggO\n",
       "wVDjL6Uo9mGfZb3cJaSOs7xUASq0OZ7Ja8hSPWyiKpJBKpjPQDnOwlxwlrFw3cFUgOAzc5HGRvMR\n",
       "UditzZsssn2DDzVvrHTHT6FKOL+tsyOSnooY1m6duL+9QYOGAxiebvcMO/bYGsJJ2/VAqT9js5dp\n",
       "tBK0KONBJRwLfN0HvH479TomixofoJA1ws0QrAx06sSeV+t6QkjY2jOapA2d08fB6/9Vi5x0lVCN\n",
       "+/hDO9k4NY5+nTR3lfue0PhJ+JbiRW3aptcVx3oSVNbtwjvzE0GyNh6rlAKi2Z3LgVXFwGV6TQPv\n",
       "epbQRMzGuXAiy8P4Q4H5EsoJ+bchI+kQZazAgHfLgO25G/2IA5sEHcPpzQ8UTu7CmDPuA8Uxpz7R\n",
       "EH03kPqm5Xu+eMQErg6iyqZwroEAAAQdQZqnSeEPJlMCGf/+nhAUvd+7A0ctR3UFb2IG4ftgA9n5\n",
       "W/JmdnlE/VJZI1yJQrC9k7ZwRx7LCs//NMCAlCh4lVbfZkhJMorTjDDhCxpItAUMT+/UHQ0Ec5BV\n",
       "85f28u4OuaeT+tLKB/prNvdZIvV0CRT+ekXWOujppnJ6tROFbhF6pZk181FKnSpYVH72EROuW3La\n",
       "Q8fr8VNF1fsr8YvMdKNpPsP4ZkUfYyUDa/FLF4zUzud/G0kQOy46yNmrp5fGGdevLjTJUUQLN+zL\n",
       "QMmmL+JrxfyBS8O03ihNN13fb3FVTFgRPm+aDO+uDNJbUNj/5NnKDdra+iJkY7RfAQC0pV77hAVl\n",
       "aCHw7asQtmenQmJMppJdsIxYGOcIr0GjUMxdoMdrNDoDnWC7RaNDEMSQENlBzqerLXvg/5gZ1YbX\n",
       "f2AZfrFHijLakpEnWEUcKbxlwdv66jDlqX1o1+6fB1TlxxjqEDnyc/cmvlMuAY1OW+s6WiwgHMhs\n",
       "yFI/5wzSX17HwH0OUahA4f4WlvQHy+h9aV7H2uf73VRfjXu8bpXFlxdYVvoZlIBwd6BOc3K0pXFm\n",
       "Nx6kvHDPG8yk9l3F1mmWbsY1FK5NvQKGU+Ku9ZHvAqW+AwH+LQ8V4p0CKQAG6KNjM40XnTPxFQtP\n",
       "qwEOqoAz/+yH36PV1hz3HgfSp+vOOny5Mi4ZCPbNVnGc6cFcGaZhpEMFtatII9SsgxsoSI3eFwrY\n",
       "cXgC48HQFYgCuqgHv93m47eFMdGNFLT94HKDztUrTzdGRTNLcCRi2gRKvdUF9V8G7NjEKsuY2fKp\n",
       "nwLLsK1Hc+OQLlfFTZwYyLwAWRpsi99SvXIxvsd8fwvugDT1uZ7eu/RHEgGuB7KfslwyhonGX9W2\n",
       "XTIWZbvbV2yUrhccPzNWstLkLNf0cA4AFN2PbSub8s5p4WX3rvqKC9ZAYxIFstruQ9k8wA7l62HM\n",
       "1Q2oMARxGsN2NP+uMvjKuK7+djNupCqYTcEGM+4egHkuoM8oMZ/GNnI3RTCGG0oYO5LGGFvzpeCd\n",
       "wZQXK2EtlUGeKFSEJfv9zJfBPOPSXjX3XbdkLDRJkNb/y280Bt8jobpvlc/CuwJnSJn/wQqHElLw\n",
       "2JKGsaBZk+qGfHHrMj4CsZ+y3Qd+XAMqFQp9symz4eVmv/uhl+t3eIhi6S8ThGXJhNl9IBvsmHU6\n",
       "8RUHXzHp5UUl7kldYDehn/2x51G6qDh+8jBCT/Bc9/xBDtFMVx2YzCVGvSdDSuInQdAveRweaKCR\n",
       "cqRDbB0Kk4NfOQihlS/TL1Wca6a0ipdqANhbJxvt2OKehxSjNNNUr3T42KGforpNBm4TsudYI4JG\n",
       "bICtmfI/trOeUol2j9wKJ8c0Ao06WTVxNYdB9HdrOaPRnlTui+XXVWY63w6Qe3q713MRAAAD4UGa\n",
       "yEnhDyZTAhn//p4QBWvXGpiYYSM4AS1bnapF1tZ2ja65brTmAf09I7T9kdLGVK28fqwV517wt9Y6\n",
       "9XrRoqIkWaEZakVpNcqAljEg2BEV6PFBohiGOviO2GaimHqBZNhFMjbj6y3dXea9+w2atGMBCTQa\n",
       "BYe9jiZL/ucijpblxE16IfaoOb0NFC1gAHejdWenQKileJFsnTfDUrF4jAzChTkojg2DJqlnzQt/\n",
       "ChkOjPnubBvUChsa9WVDVCHPfwphggRS7axbKyZJKRNik4IyOwg/qZs1qIbW+ETMnkjvpgXyQvVx\n",
       "xI0o2IZZNaPxKGgrflymndq570gMc270zaZAr9mvPhcic37JKxq7DyO2vBo/zCa6dbrejJKFBjy2\n",
       "iVffAhs3saIcabysDCjisa3IufYpuwOraisOiQM0YF7dlUS9x8liuXNzv9VJBuZSnckpuzWLGCb3\n",
       "wpgnqYs0f5FKMVcaI7ApOapsHHPMSt5DhWmFYcdqhSxg4yBu1GvjJKvAtTjLjyYkSpUMNdzsikcH\n",
       "waFJ1kIZhkHGmQEDTevlIPrkJLWJJT0oV43N7zk45jXJVrbYIpNTJjXkCQkJaRjqiDRyeHMHOkA9\n",
       "TD+1I4vgNkUVrvG27DyhJbMhgTI6j6dEZv0lW/ApUp39v3+JJmsCP7MYF1s0gkGbLj/tY6bGMaAy\n",
       "2kX8msDdtN+9nAOFVAGbyPAW+w2a+cWKfqds1vAGEfHj9fjiux2qBcyzju5fXjE7yFfWxvYxKMUR\n",
       "DdmifpQViAigbgFODF2gWUqjLCeONfNxZ9nMFi+A+qqZ93pOiX/Z1vwWrW01btMAWF+Ej6DljnGz\n",
       "2mx0hBm3b0W1Rd5sJq4pQGinu7KTbeW7YRpyaA+FRlxlkTTAxXrVG3Qyzv4fckX4zC9uARoyHZki\n",
       "EDMrOoAhsrby1JC+tcB9oL/gDtP754/wB3tU1ZjfQvxBJ5AQEEK6g2fbiZBORHw8rAlk0ABn2VAJ\n",
       "BAQCGWLNxnVovr1UiJAnGSbSNukYFoBIjhqVtDnSsqcFKA79TYmWQ8PKnK2jSDcGGNoc2ynLHloz\n",
       "JTjFD1vVNNN0WWXGLpeexjaiT94E6JznvUhMtbPSEHOauatSkBUCkL74pCvZBrPpGjQ5+8s5XVxz\n",
       "DkqDMvK0npGCJ/7qj2SEjMxdruhKoHhu1gu0G6lKe05S2qG5T+ZACqzRDZnFAZqpTXFSnpJdZXs9\n",
       "qudVTzjAAD9JZnyD3iGUPr5HIw9HGkEdSZkOuY2YCXq6LDyripRPSZ34IOS/x7iDPebdtC28vapU\n",
       "bmAdi6Hg8twWijZbzwxifrABeqSTKAAABGpBmupJ4Q8mUwURPDP//p4QBZfXGpe/xYRYASyYHLwB\n",
       "deZeEPRhnQon0YyAFkrhQYxZreKO0mP27sJ7xKPIuC3t38MJZsEiGVAkJc0tsScMoOwfw0XLJ0+p\n",
       "ciBl6SiM4qMe6YwNTDz4lmRwjvheOGZHw8c2RKrDJkLI6+siTyq6MlvPiavj4JFD8kw/uWHyBFkw\n",
       "2/oSzYqIF8zixWlZCvFvwVyj7vOIqhngWTvXz1WVGXcddjh1SHTTUEp+pzVt6BFvyDQ/bHvVEaNi\n",
       "YVXDYIcb9v1bvyNEKod2tUKOhb6t4hlSAqVvH5ItRQJ1X4021y6peCHNMwtvpBZo2KrpG1KyjKMm\n",
       "Swu1AmZYQIJT7CmQvkkvS3uucSyzFXlz5ucz5EKg5+EAAaA4KEbzemzr+iyHpbqB8feNmJ4bN23q\n",
       "5O/aj6gAjVmaz8Y4FRu59jAnU3XmCej08tGaIUeRXQyFzHBC0Knv5CMpzRDzb4BiI+ivE8s2jV4/\n",
       "OqT02amWRLEnV565VFzhznimzyFj2vGCktNvL2m9ds+jXkaS+EWPI3h7u/rUjkAqrqg/H8ZYAgU5\n",
       "oIIeBsa5wNPkwYmuAYweBC8q99esKN2Z47vIfAJGJ+bqntg5elQulRCUxYjpqFZ53FOGQZfVeskA\n",
       "DJhbeeqmR93vK7LPRkGyRPe2JHFiH+zUZWzCXlNuaMhapIviZ2m0tZ+9CrXCJ+Hyi04dNDjV7CeG\n",
       "pB2OrcAOIP5b+mYLHD+x7PSBtNC/nKKIcMFolOyOyNpC0Ho1GkqsQuMauqKDwPJiwyd4Pt4+rfBL\n",
       "LP04PnaSE/9+a2jK9LKTc2plQKSJGyvW3FsFuPS2d7QkkCfJ8J9v2z3+0Di9i+WWA2DjwCtbUenA\n",
       "bBJWxaTEM54r1zlkYRvpnT9amu5XiKuPlhsq0HKjdvmbK4P7BwUJ43KKefSuhKeUsBMcULR3Oc1v\n",
       "uym/rvyfo8sRQAkIpwU9bKTmEALbtisB1dUo5P1k8XMLA4/qNXdHcgOWn8zYpH3+AodXRfsq8Bnh\n",
       "4wRco0g68FxpP2pQA/f9iMTtWyBRhnAt9a/RYlb1gL34Z4XQUTKo0s3xN6uYrkRdUMebvYmwejH/\n",
       "Hodfe4peEt6+JBYgNBrUNguxrfAImwiIbSW1xEDX8YrFnDZzaddQTTfs4r2sP1jQ+bqYB+tl/XCV\n",
       "f+BdayfztkDQWV9bEcl/xJblpDaLvubxRJvgrfq9ZOqqKX5YnE+u6VHJSWP81ztW4Dml1rOvJmkI\n",
       "05L5+ehTGiMOOdIlZX7Re4vwYZFU5J+lNoxfpatQLA37kgCaG1OZslgv3TPOcCdyldp+s4ZCEsyk\n",
       "o7RdyUjiNGPTZ/hwcpf8X1J3PNS9jKsyXLJj8ZftBUTUhylzzeXj2hcf2oP5sRO+BHeHA6FSbkAi\n",
       "RTjO+RwO+CkM7EqoHhpwkuWxPEfM99WAYNcVckW+N7XzY2VVA4PB7Q3QmLeKD9luKWVQaaFD3ue6\n",
       "KxJeFHq8JoAF+OiJU/VbUwAAATcBnwlqQn8Crk8asHtC9s39L+EdvrT1KO3JL/A5ovQLywk7Ubk0\n",
       "EjBTDPkwWRImabie44GgD3Z8HqWwHmiXLCEfjjNt/nM0fSEGWjwk/xFX3APeLF73d7aSyTyBYLoC\n",
       "dZRalovRXNDbTsALoAOAAAc7U1EpudpwVoQMXn6idytB0pNyzaK77Z4++FlwvalCu08DNjQ34aeV\n",
       "Q9XN2Lo3s+Cwv9MC5P8q+KTvo5TElprjVzA3+8wbt133e3yC0joR8n8f6oFWBuS/ka10h++kXqrm\n",
       "7Vbku4077NuD9AIpvKE3mY38bD/JsmI/2RHFo6MRQ+Qj40RzWTjJpvHFbnDdqGzff5yfLiBbxSbM\n",
       "DOzL+LBoIdCYe+9XxZ1zPwzd/lUpYEA1GgKKSgRwePTkdUnvwEu+pM0ZXC9SQQAAA8VBmwxJ4Q8m\n",
       "UwU8M//+nhARLo1dc848ysjf4KEZACdaFc7W7fsyGy5GTraYyfqTKp6y3QPFaGzA5ghDiRvQZM2n\n",
       "xyV+x+paZzuveOg40UKv0QKzOvxHqfN5DOdx20Fd65ki+Y+ia8BUzkUI6TH/mU6B4UkbzIy/KJZ5\n",
       "O/ZqxfdGiAdmt5XlZqFwIWbLei9ozM86wy/3v6DhfVVtl03M9Vpo9rhXOLvxIsssZyEbY1DhRNNm\n",
       "MbkXYbXCvtx29VqRbyB+oxJqlA5h7OUqSI1Yo/nO4enevnOncgXPBQT4/e1IFC6oG2r41Y88Yerc\n",
       "57l0kaYzCwPaNtONaFpMjnHcc8mMatztlaUue1HNADl9twPr+M51tzjuYPVpb6LybADSxko4rDmg\n",
       "lXIwnkrGhdcToDMQgn0Rhg/DiubzHhYgYaaMBYP1UjICzSKU+SHB7Wp3tWH0QkfWYSOGE/IvM2QC\n",
       "ourcLjN55FAHcIAzqa/ajv8x3tH0VA1exjKrRjnHhocq7Yo5WavpZX5CCKTA0AVU5e0mjPcZ1wKH\n",
       "rhRXNpa0Fm7/xyH8XdPf9h8P5Pilwv7lD2BOd1svpC633GMoz0qpMCKs2XwGkcMy8JcfNemtboJe\n",
       "KpglLu0RRymIcv9WnN7HtlkXg+Tiw4rFlgYxv7OBjy8NACJVKjf0rFpYcb2b1TiATOyXc5BbIeEr\n",
       "cI7fiRUFhwGcSykd0DGDSNMSSoHEIum+Jb8ja0vcSulV65KroPxBw+0v8+UOxSbugEvQ4K2oTZGS\n",
       "93Hn+DR9fQTbbYlHLOpNB6NY3o8gZ2szxtdkW+kyMNmDg3p2EKZ4aktaFyRfDNXb0BsPMXIgQUS7\n",
       "n4AIznHsp0wN2LPR3fsBME0E0/04o3eB4yU5SU3Ed9MgTUBi6crC01EF6aYVC5DBPD8QQbBo1A0u\n",
       "KU8IPxuxVZ4zIu6ePh7w6l2Dclj60uFMyvdP9eIRaAkAuHCSIqWBRCwntpWm0FjOpqh/cjumtWKa\n",
       "badaL1JTZKZU3PvLZZlpBmubIpR+ws4/Ly6QGlFtdqi8WMYQPyFYGuSApymOHHicmByTQJkocEFB\n",
       "v7i9mngoU+6kou2sqGrT/X87j/FwbJ0q1kA52Eoh1udc81p/EreGG64G4ediFoooBivLUN1+wtKX\n",
       "F4M46moSGfD2kPvZEA8WH/qSYpx3/LHoA9um3aY2W9Pc/6R2SNxH+k58CMcz3PQEqoA5Nn2odZXH\n",
       "q3uQG2IHFxGmt8d5tUCKwbUj/jjk0/YdM1bzmV4BnGh1TYnWKDzXG9oaHT8ToAAAASwBnytqQn8C\n",
       "uBb5DqD96ayXpEAJ28r+w5ijKhquMVjb0JoLepi/ocpjXaOMDJ3o0mKLiKs+shudr+vOkWSeONez\n",
       "lYalerqGymu1KHfGdMWMgP4xyWy7cBBtv2J4EAbrQ6hF6ZWAQ0yN3j+Q80I7vQJvKgARC303N3Fn\n",
       "0UkmMuqCxcRA44nrw/BNtg16a8RiwB6VO+I/gNTNVIUVSKYELCdSGZsxpfBUJ/B60xivuJslb3cV\n",
       "hkCJ9eOJ4fgPkKdmvz9ocMxf7/0GR1QywbTk6IHFYoR3YBM5oqFVN6IUH2IygBLXGpQyPh5EK9el\n",
       "UIcqSZZlIpcG2zRQ091IdhQrOVURxTbyf39IJs+YuOA77O+MdpYLHStUtKkiaqKaKoqITjX49Wpb\n",
       "gw4vlw8JmLAAAAI9QZstSeEPJlMCG//+p4QFL3hPxTtAALrXfqSVwwN6hFKevZbtU9D62/5beYc7\n",
       "ba0qUhuAbf/Z6+gAPtAN6CWbuM8GznZaStKf9/VVlCEsNFudl1kBPMNNf+jd5lQ8HOVrMmlR15OH\n",
       "kcqBM/w05LZWzfdB06K5v5+exfgPwQo5Y5WYvaAx7DAT8Vh4yoxHkdR4LlQT+hp/1pkUlQMoBz7G\n",
       "z1/jUVSBc+JNJa+5n3vPqJohGQQYsXOVpagUVNa34jr8m7hmagEEWibWV+pfFmKZGJduDhVZrpu3\n",
       "PevRQH+ApGpP0zO9Zq/GoI8NEvZufti78c6lteyrgvDdNm6oCbIzV1Qsg3O3zpG8PyOppYLBNyqt\n",
       "Zur/pEXohKFSgoAbQNXxewetyDXFy7OXdFrFz/ZmSGdDssn97dWEXBlFvx/WfwOFY3yCJNLB7tS4\n",
       "Pa+r1EkpN0sa9bD5De1C91q1tLMjIzWfbXxyJrzkaCVsD/WuxHAQqaZ8gsoQZRuCDMCVV6RvWHNA\n",
       "QvSLT+S+PqORzYLHnNEQZNNJ6e8ZLZ9LPIsK7qYbrbSlcV2XS5fHvdrsi6BIUM3Arv+S6DV5vvyF\n",
       "yGKcZxzmpkv/13pQZDqSOlFmLLv4MKnMcH41sOiSl5YNlgfWSmMvZ1LFe6RTcPQq4D8IC3/DiKdH\n",
       "AMujrOFNhSpHZrQRyGxLV+o8wQOSCfx0dGZlDwWKqoEEOhLoi7F/tfs9ahy5FyxAvmsqY5oXod2F\n",
       "ELKtJcPHpaaRX/5gAJaBAAACNEGbUEnhDyZTAhn//p4QNdixMGzmva3U27vvGJJBFq6AAOtGalm9\n",
       "QWpXbrjCHg7u1TgWnIk8hC9+sD+wJY9K7zPRjl77GWHKrK0iAFla5vIbcdA7Q/gtsTLqNwz+933X\n",
       "NikyFz3cymj15fY8H214y1+8usVRYOE9cH4OHnPy2pTaO4lzcUyMtm9S1Gp4RSmuQx4NbehCYxpS\n",
       "aCYDVIMTB4KZYczbimxAcWKEge++yA+yqWX1lhD5L/L4r0jGCz23kynaGPrN5+/GF8sxUNLoQNiC\n",
       "ebp2oNpkMR+vOoII41fNwS96rkHCuI4kaqVjX8OYksTdnpc9afbtcnCXfbF84V6az77ZobaZYf0s\n",
       "eC6lK1V4FBqLipIimc9/WZVV7h3QoTQWwNUuqd2zA++obHbvM63st0u617zO+x0aLU4EB90AK/u6\n",
       "XHdd7TCegdDmUNwOTkQThBLxkTWPKU2rSDqEYZv2gfuHvo+wiAtPgwDcCa2cSNtKDHkJcXotMUhT\n",
       "FKNTjIgSs8Pxu8cYjq9J5HITnq6blPkhHXpO8phFlNJynPzvsRs8v9R+AHppo75UpKbr1bjvqKOD\n",
       "7OscfQzLGRsrVahuT3vj5Z/RdWS0r48Kq6rJmY3x7rKrWSDPasXxGf8R7sBHFhWR9E5fgML43O/q\n",
       "Tsh7hM9afrvn5lyYO4+O4Os+6MYV0qMJjBBv5JsIRl5pOPX/9pHtwetTusiisenDb52RmDFI79C2\n",
       "E3BWI9FRS+a17PSaMQAAAe9Bn25FETwr/wLNon2xMXiZZS7uh0Bw0zfKuWfkoAIRnzoTqVOZvJHL\n",
       "SFcStNqaIwVI69YgZQlrkFeEy0z0ywvnpzYTxSds16AgZucO+FJt83CFbr2JzSIEtdVOqvXSyoAL\n",
       "2V82UTxJPE9Wmym0ylJHSHUmGW9MPDWGfWtxCyTDncpdd7cbMu1fkLJelCZ1l8WMNjYHOVYV6loC\n",
       "FdeYWoJDkKz/l/REB7+lpiTd8Rc8u6oFcr+FPIPkEycuagHSqqwYYO5a91YiSEc8QLthcy0HacT+\n",
       "nWmb6mqOHRwP0iwPTX7oXdXjUFXRBf768MWEzoiJgD6dllY/GR5VVR8pwGyyyL8e7LxCKnVet6bH\n",
       "wFtRKN0BfI2TS9hmRDsWUBZTINgTLZ7Ol3B/HbUN8JtbWjIjhZhnf8B2g4pKFhBm3iCb0gF9Ndhh\n",
       "xme3KF4bohEY3GPWFj8+yAyC3SRrgUx6uW0UXxwckWyQK+UYkdLTEiNFDJOe3enrCD3CDZyVIwcF\n",
       "pyE79x18oz7E7As2oFfYCVXDDPdp1rj8Vtj9KnnX/IZsPbzJYTg4ZYU2bGl4JQWnJM6LI09gyVem\n",
       "uTJEh6CMfZmT/55a7bGn1DP6lFWG8NALbnrHXamgpAJCYgs7OaWqNkusXEYWpwOisrJRjWmsFZEA\n",
       "AAFnAZ+PakJ/ArjrYXWa5Ih70A3UbTbRhHAANlQlNAPMXl9w0yAJRpSTyV4EPjg9qoGFqyc2M51r\n",
       "gcWv/vIDv4F3nHS5frWpT8mUK3pP5ZR00l9toojN+OPMXT0BhNl7i1b/KPxmbrR/TPdtyB9pcapG\n",
       "G3hYRdH8Cm8yVs+ECCzfLy16ZsJl5Q/saZpPNy06DyzoS8oY2qDaZCYxR+Ge51Xb7KgzGXHz1Au8\n",
       "w/mBqn6OYIkPSFYYCcHOAcpAgKzVYpJRxT9PqA8v2NgCTHrZe1QITaB6YVrl65WmOLLpyg1tFXRM\n",
       "0+Cl0faBNd9p/UqQOKQIes+e78ocNXS2fHSz1scPR+oG/sBUmiePpL5A36ip6xuQZuvpReisjwQI\n",
       "FSs7dsh4Orup0ZdkftZ2nHQX2TTtoXdnM1nwarEE23Wh2k2krYGy8fyac92RiXMVY9kb5oX9KfUQ\n",
       "aRnOCCmm8w7PvxSSan+BvJ4jXtAAAAX5QZuSSahBaJlMFPDP/p4QD77HgVwF9vffsFAAaBz6zXT1\n",
       "1UI408fJYQxwJA+ROEMGg7zUzJA6epFIFOKRiavXs9wrhLXeCN1xN/Tv4+L04LUmlgzRdgoea3I/\n",
       "bkjNECt2c9FWinn7sNFbeiciYf/XwmnexL8AhSVP+SqrO9Nwh3fzIbLynTMUucJMeD53a1h73CLc\n",
       "6wFzXsg1BlAH/8rFYxiTONjD45NzNPpBPhBUkjM6qwgzeat7FNEhGm9CPrvKxJHrgeFb/z1eFWA/\n",
       "opBhWIs613x/7IpHjeLdPcQq2DcROJ0HQz4O4fRrYp91wnDPia0QIdvCjj0GW6JgDLw7GNv7tYhd\n",
       "DGsGryc2I0NHqNoh8LcIcXKfl6rr5PHwKv4ao/RfR19Fc3s6TybJQD+C3nls5WMmsUv8BleMqc+G\n",
       "vdyM+Cde7JxggS3do/80YzVGpBxn9r/gkZvyBlIpM3NgIB42fE6nngxHgT2Jgc5eC+u9EgNWbCE3\n",
       "DzmIfNZt3q8cOYLVeGLrd94K0oKt0IXoaVpn2XWXgMQAuKQ5rYgeG4hDYbq5TjdjVaPwIZGEdZzv\n",
       "PJmfYbmw9xwd/Hltqi04/bROn5F05CHRwwSocXRLaMeCTPGoNjswrPQLlnzYXRgUawroJ4jnzqcc\n",
       "cjcaqwua2nUZPKN3N5JPtYh2K/PQ90I0/KPd0ahik5R4fiM1na1DumINQS5lrkPaMCTvtyliY5wH\n",
       "fOPRseVIiLO5ccVVyGVowA0rGU+6MGg0cnb2mF678DQVYWHdEDAE+zkPKLrQPjvNbycL46CqLcBv\n",
       "QHWBZsaEpeq1Lrej17zRlaNZOmHpRB1hUVAL1qccTJ7ngTaHrRmHNgD3e8+npKkrxae1BjiqJPAk\n",
       "A4qTyiLtBDNtrYCNXVEeqsmBkYFBMzAchMkj91e3NjnV1Xp5Zhn4tMnkjkY0Qhpfg7b8SHUPRmzu\n",
       "kc241dMmqH8WfFSof7iCiD52Cye/Wtwif2u/upQhR80Pf674xOASjCPGKGWMFXNgKmsh7NG8+0dS\n",
       "2hxU3cpENrs1WXeWp8nKg3QIHj5dsQGhnlWobCribE6FlgbYpNa83pmzAqnHFRELRbB0C8pmz7HZ\n",
       "OHFaEW06eXDx8C4CQAdE9QLyBHUzAFLmL16VBdYXoPPM2UkjMRSwIeqbAuyovueflPuYH4GhFiPS\n",
       "FDLOqjrgdPZICSJXeyLK5EPYHvEXHC3luLfEDsiiGalbMZxe0ZLjKnXiObhjvMhIva0kVQ4bEDJX\n",
       "JAdmMU6pSQWoYEU28GaeHKgqe+2F16DZCDZBK7oLqf2c1lt8MIjTkAncPh3C1GWWSIbIK5w9PvPc\n",
       "/fdZ4Z9V1xZWZ4APxmvKIxSp5fjVTkQkHu1y7ao53xAnNrcz4dVm4V6U0xXWFGfidjUg6Vfm0lWY\n",
       "y9XnTfPc8ZfM7R/TlRjXjTcx1FB3y3/WVMXBdoRhe3GWOWWS89zXUTeB3uT0CI3wBgklYUCUuZ7T\n",
       "jbsYHz3NIETq04P4EmENNVTchZPvKyUwKCNULmoJdFWuN05kWm0+SQ4Aw2/NlvSY7o/sIIDEPYKC\n",
       "WxM0I47ReRWvXt57nqOuDTJeY9HeczNrEzZZzh3v8UQjq/OQ6PX7K+x1bVB0TCQ4zLaxtIyxKSre\n",
       "gvaXv4imQZNRKlz5za0fd1ZTOAPCksMWlJ7PW/oCEZLDvYj2Y5rMj8KEG6TMdXNMAidMWyR/0Y3x\n",
       "5S/MmARoT7cVc0sRzAbfDhS7x136zNdWRqFzx659uuPa/Wd4dGP4TcdziG6tvMJVr204sBrXSJvF\n",
       "jaEJcFqbW/k43DJnVBY2GOMBsemNZPK07XVJFEnSH9iLMicHa6oz99L5MGIbmMNlWG9GULpHxCQl\n",
       "WcN8KGiiM1Ud69sTtbyNvEjVt3vL5+DnGi13WvqdRTSi7KB4lEudthlq2dSJ/opsDza1zGE9j5dB\n",
       "DJRGcdTJSEpgP7/hmgYsDAVEv5MVwqkDCHg22Q1CocA/rYFOvTO/aXAteJaaMFUIpah7HoPqlj7m\n",
       "Mt9dksMtUAXtq7q/8A8AAANsAZ+xakJ/ArgBmHUI7fBu1UIu2td1R1SSAEHVZ25zw9gLt4K/gwas\n",
       "7XkebocYlqTyiSnk+3Q9OzbK/qak3W0jzBecVI4SA6ETqfo/uf+QsE8VhcGWV1d5+R1dGsNWu88E\n",
       "IVW1LyfHFYFykyVOaRT6TdF6g9pG+Qu2vcWlcZMO2i8N+SMTTRJMLmXhdfy6TG9vRKkQbOrx0tsu\n",
       "O6Vy81cbd7VQClfStuNdexUSqEynH3XD/XQXUUb7jtpnFU9yau5FL3BEzYOuQ1zX+6auDoO8PQmC\n",
       "KZW6dqTFYCCtY3Ado+SJ2HOpLT3xysdIqQhkXJz9a5t57gGNy+wm8LQ+Dqz1UhZ7Bc+kA+3euh6B\n",
       "hY1gNe6xKdCZIq9ha6BlSbrU1G7LplNWp1ekP3z41UVsaozIyDBmcQN2et0MTcfixSS+LQ1E5Ed0\n",
       "sXgFO9ypQJrkbadvEbix+iRkWkwgGheO2Z3UfzX2Xz6rR6kVQ0+oFHf6TClMeeSCNORZPEU7VWFz\n",
       "dEoLx4mCep3081I0d/Z2hKZG3Y2yLGhfI+B8VtTuqNOZK90RHHWuJEDwhRAyZHjuUyvBSj07sZ+u\n",
       "feBfKUYgoijiiXplLj8NEG1FVzWv+CbXmZjlfk5d0DwHq3qxmVJlWwCXsaO3XemZThWmmq6OBj7u\n",
       "HEqivOx8kYB3HzC7nnM2Y4EC8Uybo9Q0aF42EQBBTgRqE3+jNNLs/jMHnkuaBjw+mGh78MMCQ/SG\n",
       "4dLLremgzmtweVm/kubQHOjEeKgyMQD3GTiPEIjN/VqbEkEEcohSRQS/tWd2Hf9bXLg2Gv+9c4RS\n",
       "gUUkIOIY7R7X4s+koM0nyzn4ggmLj6OSBm7ot1aDir30YmtIskMdbnIZrdKZXuRoGHlxB13lhdvz\n",
       "1hXa7ViEY9XZGo7FwTzwW5rg8NIHg3x1ewL80d3MS0djpxz77QlH9vsljJN5WlJrl0zt3lrVq7e0\n",
       "72bGSsLIVWXxSDpt8sI/pRaMelJK7pYTR4AVP8fRY5hdiDGRcgV3WZto0p/DQUi6mp+L3E1dzqFc\n",
       "szauL0BB6fX5An0VK8R6HV/88wdnUh8oNBMdcKZ3MPqD5/WbVIwwZ3TCiyPIt1w4iheyU6LKhpa/\n",
       "N/EthAfjl61cyrxHPhwihNC+EP3cfrbI/bv/6yUbRoyehPM/mkxxAAAFsUGbtUnhClJlMCF//oyw\n",
       "FR3NB+H8WVBn9wSABSX36JLI/JGq0wQTIRxuKNYrz8gzLI/O7a7+Q04/y68+Vw3HjExoXaq70vUD\n",
       "Zt4OcwCjcv1Q9ZfZSdrOVw+rc5RpuXUgH3pda3vQCpNyVVEmvkCBy706zxE87DlimH3PyBja+9xc\n",
       "VJdc7et4oSKsRMPXL+xNXgYnCXZUXz9Nsn4W4B8jCVpnqHAzLPirEvAC1gdaJtn/FPwJbs5LReMk\n",
       "pVr5KhM9tg2ZWFGdDPaI4Nd/1Akopwsl6bgH8PWZD6dcrJS6j1xVlkPLGWEa9BHCmSoicxs9ob3x\n",
       "1lfay36c2LVdVinq/c8GBP+CYo5hODsu4D1GusZKB8BILUYdubATWxuyHw8CTXPsFyX78vD1MXST\n",
       "kqptvOnAEJkViiOsentdF3J7G2PCcEhPMzIjwfQ4PBIWmHwOroojf7emGbpqKTTUDT3YKaKHVimG\n",
       "tLf6pCEMrgC+TcE6oUK9Wixak3HiJ7acZoZt+eV3B0JXf5KYcSr5/iLnldA7KSki8zjI68u27NO0\n",
       "wJQ03TGTffLKuH0Q3hlWHV1XEQ3yx38PZ3ngsNitRG7QR8suX/kkJSxMZq6h1XmTtasy30KNkXLk\n",
       "2P+EAicYNFuiiUKnAoGYf/0d7uHHL//telaRTMezmY0FkRZCXQgOyxOysMPznDL37LXw74fYkxQ5\n",
       "4xbvPXl9WGZ+cSLKrl92KOUCaMIREALt7x/CzRJ3FMFXoxrajzheXRkHK7/L7LtRub2BxrpCR5fi\n",
       "zmInL1J4EGbv8Ja2AR1B/CwXXwPCc9IAZJlrCQ5fpKT76SGKeWhTsXFoyaEKFsC6RqbrIZr92hA6\n",
       "3SrlNNFkdXjdTxOUq9NEpCWFA0xSgxFgOMTqwOnNKQlcYI6MxIrv98/ocGdj2yynTJ6yEmvkX93i\n",
       "pyIjkHsRVZOBc0s1QagRZnVCKDNCUn5e3t9Jvc11/SRqWJ7n3+xgX2AjCvbOj6GrTI9CpfJEmxZo\n",
       "TX0rV1ES02TEPY4JmHggngcrI6KMTXWp9a3t05YzrmIe17cFHWS2zCVKl5mdIhz1DeUnhP4Srup3\n",
       "wF6hmE39NvyoJ6fPikNNYJhbyHK4bvjjjSBVpNjvmvf+3Z+cPWKhpHHxCF+IPUkb/MSTBQ25bAen\n",
       "9xZqrqSX/H3enyR9Dd8cjQM+23zKurCOuwEBxYxDl1iR86m6xg1SLQeKilq6XHIWpHHeFrRD5Zvw\n",
       "LtfAbg0d3LEuxLmCoI4LsL2W6zkljIFCR0rts9nTPVYEMHF9lICfGm3ziW+ZZKq2yPMsSuiDytaa\n",
       "RTzFiyXkr4i7axFQugb1x/KLEkXl6VqqAMqx4cNPlYaM9QtI1ky8uhHb6ItKegl6oM29wyuUG1rG\n",
       "rJnda5+HeOlXFuAiPEPTHVU6K1SmfNzHtDEO6WTy/txkkWgJJa5NPg37CA1H6yDqL0QkaRBbYUwV\n",
       "PHChN7MFxBCW5xMJpYCAB9hyhfdf0l2p9K3bMOfQdJnZB8gpaNsJZQ+DdJmHryGa7FSMCSyn0SVu\n",
       "ZwYIAkpTkReUrpbvJL2eJLgrPi6K1e/OHwLDRUET5ctd4owMtT6b1CfpRgQ2NoJbMWJSyQ4Ajjux\n",
       "FL16RAezq8qIq4WLrnmattiEBGieXjSf0U2iquYhxBnvNb2XCQ1j3h/hfs5OVOtRRLOPj1tb2ZG2\n",
       "7pyQa8z/7UKowBgGuDBaUWdAA0kWB400c/aIl7LVKYbexhfKU20IA/leRox3/xeeoB7i7XslUo/c\n",
       "YkRi8V1mz0NVjLqLMLgvji0paGTVMa6/J0Ph2KMjOrmsYjb0+B7mcKd1qNFmcaYonbtaz9XIwBe0\n",
       "dJMT4lQo99umiwVZUE3iQmOlc0aDkVZI2/rCNiR1bOvE+SKG6StELG8QOZca5EQ4sQkmhX4T73Rc\n",
       "7QEgWRhYQQ07hkW5enKKw6NeAAADvkGf00U0TCv/AgrWNZhVJe1FyvNCyRtBoAIg2/oHQ7tMraVi\n",
       "1AEL/8PGrhwvH1AdkQHHnHPmy2GG8VlItAUZXNdDwooi+YyKQ0lLW15qDuau9q6HqcBrFOaWhV4W\n",
       "AEwzG5K3152ReIZlRZeD0FiXbXFGl+snoVHOb/R0yXB8NMj5AEAI4/n5ct6ACAc8CdQLXoP7Yim6\n",
       "MYPBDad0yhPzZdgWlj10ggY0IgpZZGCJ4w3kcX5GQlPRc5z+Yc5LRYl3L6YDBh10a8sUyxk1IsHH\n",
       "sgx9edhz2WQlZmTD4jaRstxjCNsxX6HquEawzjbqXxO8hRLrBmWIY06tca/HcrT+bKD02AkDjJDt\n",
       "bjOXeEW2jCgRnJ8KYOgFEh21QlhsyI4G3anb3XGfcmeTkC1C2r4FMribXdiZr48PU5gdosCe/c3v\n",
       "lhumQ2ANIPX1xckPFdTpi8Cqw5rjPXa5HLplLY4i/Pghk+KnLoVSr+N0BIZXgFlJTAI34Y7aWqKp\n",
       "odYUpMnwvZ5HM4BuHGJBlF9qHs5UtmIGCXI0fTBYs1bKZespnfXalCfgEtLAYCUxfH7bJdzt0cRZ\n",
       "nWij6l7+a+bWbgrvncWAyziYGEkKSS6l1nt2oGVc5y1Yt/dcNUCphKNdc2v4gsHlpoIdoNASLMwH\n",
       "6FGjaQeKgfHXDLKeD9bovDKlXGj0ZtNZ4zLxatsgN/QhN06cBiK9dE2j8uzJX03HtcSGpfT54Kqr\n",
       "swF7NkpBVTqWztylqY0z+wCOy+OwlTEVCV7q2XnxRUtcUbmChSUfrBI7TRg/DeHWpwxZvO7csFft\n",
       "ZbWcaXcCIEBv8XozmbSc/XsiZNAWkfcVyvavMIki4GkS3fNBlT97rIG5kvXEL03GCV4MYRrJUqAl\n",
       "ZvPJI4z9pXdQySvfLVpnIUvyFLopyXftYrTQBZo3HtTUC3v+O4l/3ptqSEzR5erkVBLSeo1x8Xvv\n",
       "LkCqf8BIfp/cMr9BLknacZLyab1JNPrgJNi89Zi0vAT1dIMvpe067BK0gnHjTebLYXKy7KZrUWXx\n",
       "rvNHGUQ0uSryr4REUTIDKcehg92gMj7w9ineDf7v0YfT9dbxipO5mv2O0oBVfgc9OfU4vYNNqVpb\n",
       "J+ATVgyF3RHTsBuOnUPIZ14/QwiM7m8/+MEctnklBY91auHlA9J60jgLRvfgc16O9HHC1zLm1gdn\n",
       "kpWFAo00LHBAkgJ7ZcifENXIjpDww8b2fDY95GlSDXGV3xCsJeDI0piZlOHkn6fOIkN2KJrxPrlj\n",
       "VQ3BiME3j1TaOYAAAAKKAZ/0akJ/AuY+glAtDsqdFLmQG/PBmaAAQ5WLAueGtW+6u2pSeQXh87Cm\n",
       "tP80wrAo2cZ9ER53d6pphdbforL3bLOmPwPyfPeyWsTv1lUA+/RsrvVvKsTXlMFC1J5i/b0+gNH8\n",
       "59zlX/k2FVOhngNxub2/8RvAqCyrGx/Nluq+OSj+0AQ/MBUTi1qz0Oh+PJwlwR5QeFtyCs1QDe+u\n",
       "Huep6onGOG1djMcs6on6e0u0wJktlMKsSyPybu7rd5SX8I2OIFPNJKP3yUz11WFQCp+2oKwupyyo\n",
       "4TvNipZ5iVDa8uC42Wskui/aSyEFGhpP6r113gRa0owJWv90MV/nNGHpnhOUOTzyD6e7h2HoECS+\n",
       "+PjwOzhDx9aG5Ed6Us5ZgEGmRdtfRnTkShV2AeLc4ty8mwhnZT25R+gGtSpOzapPSRWkAu+Qv3RE\n",
       "KkXyx1GQKnPJo7rrakxRRIE3Wz27vCAYWzAWEAapVWRYyn7Zarefpcyl4912UWyiu97e8goVuwLU\n",
       "EkHk8MKy8PQGNvrdMFsRQ+HO+pwxzVqSyWNah4RwPdQSsH8MRTytjuWLcEAXcVSNhVXWv5FcEvUs\n",
       "aOEynOCyriChtg0tCyfyvXM6qBMdOEy22uSUA9427XeAoMDNsr5gBvXBeOTepOH5396Dtowqt7fK\n",
       "iFdocn/xrW8XrCvotcN67PPP4jX/wtjQexWYXltvmC36jpNyjHt6om6LExXTUeZRfulQUeQoWOiI\n",
       "R3ach4QspNY/7flTscu0nXf1K4uBQFyqYqj0UQB0l8gyzDJgXxretHZpPZ6Yb+p6+xIkDc8A6dmk\n",
       "6Ta2KVZNVS1jiBaRsadFTsHBI8DE8rCwaqkjmnYYxUh732T9J6UAAAPTQZv2SahBaJlMCF///oyw\n",
       "BY8Pk1ruTIeXACDuKA1ps2zkNce5PMf51VHXCbXni4Vgn0NpEN7wlQfNK19pPULWh0NFzHprq5ms\n",
       "EZ2JyzQk5dcN4nsCEb/RNQFcxcNYIS9sTRf0ufsg634b4dFr17rcn0+HksWCGrnFuhrLqFiaFn7J\n",
       "L62hH/M2bUY1jZtJGUg9hAWwhXVV77Dvz7lEMm4akXiLV6k5/6nNsDz8n/Zrj5sG01xGdbiobzif\n",
       "DNvw1qiWWDe+gI6WK3ZCf6nVgDe0BE/2xlDRm/sF5SRnRH7jO4Kf6LfCUcq56vcdoW6CHdCnEfW7\n",
       "SvWMuLipCUMDjCFqRHUj/k6QRlvaoHUJ6E4DVsWyI24AmSFv6X1OEZXV8akgCx0chlftQGb5X4Tr\n",
       "Uyj9o8XOosARftPvR3EDX1EfCcO7kZqzp5yO6htIKGfQHrK6PLcSSH3fs6GpHUjx78uLejv4rd1C\n",
       "FWgLb9wk5StrzOtMneMGwmacyr8tOz8BZcfiwtZ+A4DZKs1tse+FIlERRFxFB95IloPq3jFH4vdX\n",
       "S91POILeTnstmE/g1FrR/GqgVdVvIzKBKGrBfB0/E/7VsI9b3sjU2G1gozRbaez8WlCiLFrt8Eh5\n",
       "y9m6W82DlNFrgvC9V0iDqgdqRiYdiPj0XTwEx2G/xgwn3k9e9coxGA9q++pl2NClAe50QuGiANSR\n",
       "BYd64Hn99/YUeWearHbr4UcFwRMeGyqbOSHF0MCwe2HP1OTQDE3ZqcdsVkuGqCla4OGsnSpm8kJw\n",
       "pYxBR+771fwcryGBo6DPlSxXlFnnekqoeKyqfI3BeFc9RV18ycksXDUR1EdYAa0gdrIu2JcO/5ei\n",
       "DemoYG13OovC+8piAIOdGjOoIlHjt+I/QOw+oRNy1yXFNwIhSbTqZEPT1eeEqQo+uEGvt8x6Qy7Y\n",
       "+tW8kz6Y3iGNzIjB52JTk2NuKktgf/dEU4HuwQXEQ1an933cA95FXsI8sQYQQUMc27UYwPOfKXB0\n",
       "Bc67q41V5xAuXOB27hqoTVV5F62CI899/IBuTT8Gcl1yLvAtGqaNYmjWcyoaFIo1CVUP1CAuejxR\n",
       "EgWOg34LSIxuR76cF7FZmJCRxXpmCU97PbndBNA+ICYzA+pPhnznrArPdUuFd52368Yij9WSfFZK\n",
       "3vO/6j/kQXKqk+ih7FV73WTRFNHVuOnhhJYKfdDUj8rZ3KeweHA9ykKSPKsXRpwEqjX6Cd4ZRxkz\n",
       "yWJ29mPQT+CXTjDWqsWpOnAi+gQPpUvxsz4HQLKSSnk3J1lakZSvMQHJDBkJSfRF/PJ9QAAAA5VB\n",
       "mhdJ4QpSZTAhf/6MsBzcTrdU4pkEFupYRF0gBIkWkoq5jWtjXPKy1Y62Cu2/z3vq8JnTKlRDJN4i\n",
       "CEHUBOTx++oE4uDVvx5btjLT9c/TjpKcg+0MBkVakxT8lVZP+1iZacq1z4OPm3Zaq0qvE4+EwJLQ\n",
       "o8Adfx7CrkhQ5s10LhY4gT+JaQLK4Cp6KUUVwDoX/IerDgExI8+6GreAForyYQDctqpM08mSiozk\n",
       "5lakCVq1rTDm1QTmCCaqm5gDKU2rhkvsvFpqyVxKS5mZnKa9cUfF8GQNMeBW7ITuNJRr7POYek5W\n",
       "A13UwLfSpbs4j/QCFMlocIfZk5WzVJEnTLoNJnGFK24v/UmSIH2LQQOtD8WniW+LqPa9F98P8No8\n",
       "yS6Jdy2A9GMnpq3suFAYExsf3Sb7nGxNMqAaH4u+comVgVic858qN/+FamlwMoASXAFwdIVb+t08\n",
       "oOvErBAEfk1MZtrhgaHTnCykUUDesSovGxn2nCHZyOoK8DKPNgxY5ueuiDuY6xtLIleT6+pS5idY\n",
       "Y4/M/bEoyOD/SW59OBZzkUyrD0E9K+tWlh+D1rPAkoBx1bmt3T91b/olZbAaG1CZgTBfHY0gmbbL\n",
       "ruSCmqKz0Ycx+zJAfcdsW6Xb1TQj2e/2+RICF7ZKv6HKWCCYI4w/BQnmE6DXkt3hENa9UcEgssOc\n",
       "S1YLvQWiJYVpk5HRkXXUS3Xlh5emwic5q2/7Yl04OkqAclxVRWXF6A5BdfNqqI/k0NGHryup8rjC\n",
       "0+IIyeu4RbU3qtiLrxsnzhyMgmOdFYfKu7zQ7VMIrXmqgeYsOlBSEKqJl9LH7Ecg4iQHOizgSE8u\n",
       "Zy9Alr3vhCP0kwZXSYkMQyOdeeNh3vxkPtmp10kP+9TNO8KVqwsq1v9yqaoDIyMURpXkiroPBHDg\n",
       "Jm9SXCATESqf20LY8XLIFkOZwUL/n82FHaM0hEbNyOr2mNDlpTDn/fRadNBVzIlBDYjVKE8snVvY\n",
       "Nfbr7XddlowmDUXWYg2U+pfansya1c43T7Eg5m57gPSbBS4YoPMFwyPTh5ckQ3DIu2wiEZbzXQBd\n",
       "Prcqdm+5sKQlLYilOditIGjW7CWuDbxziYrA3GVrToAyhMhd3BhMz4Ljv9q3lx6+XBH9ZSenKeCJ\n",
       "vO8CtgA2frAQIw/xD8CeKJFpBZiRWze6FiOBen7pY/+tGPPxMtNZAofuZ445FQhBOTenGE+YHSSh\n",
       "IrXggQAAA59BmjhJ4Q6JlMCF//6MsAXe9cGIKkuJ+boAQj2e8j/FftLuBDA93P6gWtVT6A1iF2Ap\n",
       "xU6pEJXoJz0SswcdWVgZ4nzqF//1XXvr+uMrq66tmHAairpEwDr3PhgcJYDvBAhZ2C1RYYUigjWc\n",
       "OEmo0PLwu0Lla/LYWCxL/rEBGxLCGPrmTE8sFkTF+A2g064dJj8Ka2zaTG4F+26obU2vgChnmmHY\n",
       "chwAeOpPP2bccv6+nG+gfb7ltJGQGbXdZPFMy/tGBMuso7yKQsdKnQqamDIkoqFh1x8xkWolkdxo\n",
       "r1UKQNRDQEtP4cWOrQFasNOYBzwWxMdj4LuZdJdEDPDkEfWPUprP+ZlegUtnoa+ojTwiuTnWXT8J\n",
       "7i5NdkSRHc2kyGZtzvgNjklFv2rpiYedVu0dAPBGD8IKxLxzWWb+YB76VR/qRKtW5eoQn2y19xNO\n",
       "fm8LHPLFn46uN4Vb+/ZYDDlXdhDYfm5JDuNwCuj+hRfOEZSUnf1iAaQbDAKAzjAVQqEGeenkRtHV\n",
       "UQZ9rGx6u6AgYldCH/94Cl5uxq2pWl2EJBXM2OD9t1d2hUsRyvpUX+2LehhDkdcf93IJ68RHyOgW\n",
       "5EfLsbjbdIuNeBQqGsEXyztS5Wyg9PjejQ2p8wm+78pMeTrsuV4nQcsnbaMunZnTvbVoQVZNmau2\n",
       "d477+3T6Xalllv6JSkzd9iUo8IuLIYGSrWebyDvMbw6imH4ubm0xtjb29XGIbdoZNH9Xbb4X2o0V\n",
       "3A8WE9Jeu1yrd91TxhbbsMKd+TQqMrytB9Euj9dVJqJnhBoQQ6QiYQ90m3hLhx7tq57+Isi7xWrk\n",
       "lJ26CxVlOcN/orx9eyIhiAYfkCyWvtsdO9MwtDISMSP6jh5Xt9AYdsw+PS10AzJqBhlLzALD50ti\n",
       "7/alhA+/7OtihHA48l5I2I+u6xgb2GgndYA5adH+QGkYDSvufudemiMvufghTjAn/LwtoatxRBXE\n",
       "gZnCMCKWvIYSsbw7pn7HOajJXeo38cg8si2f1iDT63+a9V4mgUCrMEYmC7QK8B66+qmPLY70mlYu\n",
       "G8Rt9aWVB5QfP2xMMBHV7cPw6/Hcxd9r1thdHF9B0LWujDfv5pr5pbaQ2oIESX2qX4jbFQNNs/k8\n",
       "Z3KFwH4FnBZq4hMKE4klCzZ8oPgpkdDdCclvFxcC7ciToUoMk26CSo6D+TeZWrN15JJZ4ppPJasL\n",
       "JlRf95AcOhXHlxUiQF2sikFsirmgQ6EAAALzQZpZSeEPJlMCFf/+OEBx7i7eg32uSYuNlHdyADaW\n",
       "2X9sjTGI6DgmAPKBZvGzfxrQZ/+tcVlUdbCs1N0dBhjs4QdKdrWK9rs/kiG/DsNvqOUiWXy8QG3l\n",
       "kvZt2FOyTaTikON0ejFEVb2+ovd2qrNSgH8On6EFg5Oli+6tktJJ5V6A7dLQNDSPF9+vRKccfuHX\n",
       "vJb2lolK6kgPpvCXF7MWyLPOCp86PApfD8qoC5eUFMKEz1I3b+q8pZ/aSq0+LUIHOuNtlvsadey7\n",
       "4NyGbtpMp+F4uNGcfHC3rXlcotwPgF0CYBzQj7rJSFMAnXCHu/WJpF76oCE6EcqIShabHp8A3CNa\n",
       "xbRXRVPRR9duo8DteLWgemtJ4k2IbwcfUB7Y7uykLu/+Cx2THdjRlQWiBGZcG0L0B2UXfph5qp/x\n",
       "4ru8yiUCc5vGj9/L6C9iZtV2kM+gw4pCWsztZazcJGGGPW9C2FGJ89JY486BPkFdYduJAJr4XOY/\n",
       "XHmQqANtJxHtIb84u19CliqJwbTInPDqX7QFYGcQ4dYkG4vr6QMnn398pHpEoGy0mws7GUMchfIP\n",
       "9WFGTj7TJ38gH3KvSMzsjaB9y3STP5Ly1EYstmOEO63glChvJEXfVEdOLwheMYVuHJ9N+hPHGSxE\n",
       "DRY5ZuILkfpcjQMm9WdAax+3jMel9Mk9w+4rweTh4xqnVac67XphjAg+niLXd1i2WppULaRWlFko\n",
       "XRQRf+DB6lTnpofj7xZ3756rkiF6B15+FblYDQnyycxWTE47HNHgHwc8IEj4jdILLwogw+URn+Ld\n",
       "NdzVLjH/HGet8IO+DXadhGCAAvsiXgaAnNYNtrSum+vnc7FB6jp91hjQ1BXx/K2aXo10vgj2TRno\n",
       "4YuQeAro8OvQmFr61fC+TZ1thBtlMhR79vyw9h3S4lyUJwIIYAf+VjUw5cP4iVqoubC2QNUaXpiS\n",
       "TOhUs9yd7+npu4M8cnwHrbgzRL+XRueoycCJrknKb+M10mt2NONbOxAAAALnQZp6SeEPJlMCE//9\n",
       "8QFB03UklI19xlgLQqACHMUdLXY9ZulW/rUyVaiigeLFbLtRdQuAmJmdyEZzWAPX8kVZS1wzMYSc\n",
       "V0y2ySFt/PZGvB1QflQ17ZRIt/6/aT81PrtUyyS6VJQkSYGoqkc9XbfKp7GeQgH8mqOmk3VCahxR\n",
       "7Eo/Hv5YEkF6gfUvTQjdilUuXoyWiNpLoSpoWrnRL/jCPZvqp4pXR4omQLffJviBNc3wlWQQcl2o\n",
       "iL+/x/tOmc+qaHws13E4ntj5lhoNOCc8B0YfogNsXyvMp5oofVc1W5ALTifWZq+2nfnPohlLQyyu\n",
       "a2ikxxhsVhe0FHEYCBUpQwj7VqQQwtI0X4S3MSXVpKTll044a4exXjhjgWbjW7R69Mhw3SahPsJF\n",
       "spolPNydRtzCfhirWlMI85dPu+XmHb4fOWyfQNA7LZj/c2SXsE6X/tLFyJm6X9yhpUgnNjlFdf0L\n",
       "VyMQUyqfcd0S+3jz868JkIveboKPpKC0E/+doBcLEiE2QJrTce3ab26uhtQI13+t/N4uQqxu2aUv\n",
       "fg6Z9o7oe76xxqd9Q5AUIoOxTGK0sW31pTo/52LMIDcm7w6fRl2SMhN4FvgZf1ARA9x0LfWeP1x9\n",
       "MtRxdEjlBW9ENNVtFlje8tYGCUzkRoixn56uesaKuhh0diMYSNYoqJ/79TgSid9icRX8duvXVtkq\n",
       "7GxwvD6D4b0/rLRSb1WyQhRCP1Q9U/xV+xZ7VBcXR0pWjsL/e0aaD2wizyCGudVwqYqD3gpUT578\n",
       "ibYeuLFr1ZhVd4DFjCmltpaLiNzFs49fHxajC4Uw/gcWPRImyEWHbW1ep1+7pFfdEpVpMVwN72nQ\n",
       "AhfDHuseApXAA+GNYfKhOC3rfpp0NFBF1C5IPGMdY444zOU5Kuf5zKRrt8hi7s8ZSmzz53qz3UXm\n",
       "pWaZlwO0Pu4Qbx0QLHpCOX6pZx+8vpwYvVbthdYdYLsPHaWmwI/lHUJIgPgbHdkAAAQ2bW9vdgAA\n",
       "AGxtdmhkAAAAAAAAAAAAAAAAAAAD6AAAA4QAAQAAAQAAAAAAAAAAAAAAAAEAAAAAAAAAAAAAAAAA\n",
       "AAABAAAAAAAAAAAAAAAAAABAAAAAAAAAAAAAAAAAAAAAAAAAAAAAAAAAAAAAAAAAAgAAA2B0cmFr\n",
       "AAAAXHRraGQAAAADAAAAAAAAAAAAAAABAAAAAAAAA4QAAAAAAAAAAAAAAAAAAAAAAAEAAAAAAAAA\n",
       "AAAAAAAAAAABAAAAAAAAAAAAAAAAAABAAAAAAbAAAAEgAAAAAAAkZWR0cwAAABxlbHN0AAAAAAAA\n",
       "AAEAAAOEAAAEAAABAAAAAALYbWRpYQAAACBtZGhkAAAAAAAAAAAAAAAAAAA8AAAANgBVxAAAAAAA\n",
       "LWhkbHIAAAAAAAAAAHZpZGUAAAAAAAAAAAAAAABWaWRlb0hhbmRsZXIAAAACg21pbmYAAAAUdm1o\n",
       "ZAAAAAEAAAAAAAAAAAAAACRkaW5mAAAAHGRyZWYAAAAAAAAAAQAAAAx1cmwgAAAAAQAAAkNzdGJs\n",
       "AAAAt3N0c2QAAAAAAAAAAQAAAKdhdmMxAAAAAAAAAAEAAAAAAAAAAAAAAAAAAAAAAbABIABIAAAA\n",
       "SAAAAAAAAAABAAAAAAAAAAAAAAAAAAAAAAAAAAAAAAAAAAAAAAAAAAAAGP//AAAANWF2Y0MBZAAV\n",
       "/+EAGGdkABWs2UGwloQAAAMABAAAAwDwPFi2WAEABmjr48siwP34+AAAAAAcdXVpZGtoQPJfJE/F\n",
       "ujmlG88DI/MAAAAAAAAAGHN0dHMAAAAAAAAAAQAAABsAAAIAAAAAFHN0c3MAAAAAAAAAAQAAAAEA\n",
       "AACoY3R0cwAAAAAAAAATAAAAAgAABAAAAAABAAAGAAAAAAEAAAIAAAAAAQAABAAAAAABAAAGAAAA\n",
       "AAEAAAIAAAAAAgAABAAAAAABAAAGAAAAAAEAAAIAAAAAAQAABgAAAAABAAACAAAAAAEAAAQAAAAA\n",
       "AQAACAAAAAACAAACAAAAAAEAAAYAAAAAAQAAAgAAAAABAAAIAAAAAAIAAAIAAAAABQAABAAAAAAc\n",
       "c3RzYwAAAAAAAAABAAAAAQAAABsAAAABAAAAgHN0c3oAAAAAAAAAAAAAABsAABHyAAAGrQAABakA\n",
       "AAWVAAAE+QAAB2EAAAPHAAAEIQAAA+UAAARuAAABOwAAA8kAAAEwAAACQQAAAjgAAAHzAAABawAA\n",
       "Bf0AAANwAAAFtQAAA8IAAAKOAAAD1wAAA5kAAAOjAAAC9wAAAusAAAAUc3RjbwAAAAAAAAABAAAA\n",
       "MAAAAGJ1ZHRhAAAAWm1ldGEAAAAAAAAAIWhkbHIAAAAAAAAAAG1kaXJhcHBsAAAAAAAAAAAAAAAA\n",
       "LWlsc3QAAAAlqXRvbwAAAB1kYXRhAAAAAQAAAABMYXZmNTguNjUuMTAx\n",
       "\">\n",
       "  Your browser does not support the video tag.\n",
       "</video>"
      ],
      "text/plain": [
       "<IPython.core.display.HTML object>"
      ]
     },
     "execution_count": 46,
     "metadata": {},
     "output_type": "execute_result"
    }
   ],
   "source": [
    "from matplotlib import animation, rc\n",
    "from IPython.display import HTML\n",
    "HTML(points_output.anim.to_html5_video())"
   ]
  },
  {
   "cell_type": "code",
   "execution_count": null,
   "id": "adverse-cache",
   "metadata": {},
   "outputs": [],
   "source": []
  }
 ],
 "metadata": {
  "colab": {
   "collapsed_sections": [],
   "name": "Copy of Wing Kinematics.ipynb",
   "provenance": []
  },
  "kernelspec": {
   "display_name": "Python 3",
   "language": "python",
   "name": "python3"
  },
  "language_info": {
   "codemirror_mode": {
    "name": "ipython",
    "version": 3
   },
   "file_extension": ".py",
   "mimetype": "text/x-python",
   "name": "python",
   "nbconvert_exporter": "python",
   "pygments_lexer": "ipython3",
   "version": "3.8.5"
  }
 },
 "nbformat": 4,
 "nbformat_minor": 5
}

{
 "cells": [
  {
   "cell_type": "markdown",
   "id": "headed-rental",
   "metadata": {
    "id": "suspected-amateur"
   },
   "source": [
    "# Upstroke\n",
    "\n",
    "Team 3"
   ]
  },
  {
   "cell_type": "markdown",
   "id": "vertical-conflict",
   "metadata": {},
   "source": [
    "## Setup"
   ]
  },
  {
   "cell_type": "code",
   "execution_count": 1,
   "id": "purple-article",
   "metadata": {
    "colab": {
     "base_uri": "https://localhost:8080/"
    },
    "id": "pi7Co6-jBLqJ",
    "outputId": "3e0b02e5-7b83-4a8a-fb4e-f100a21e47fb"
   },
   "outputs": [],
   "source": [
    "#pip install pynamics"
   ]
  },
  {
   "cell_type": "code",
   "execution_count": 2,
   "id": "challenging-carroll",
   "metadata": {
    "id": "frequent-douglas"
   },
   "outputs": [],
   "source": [
    "%matplotlib inline\n",
    "import scipy.optimize\n",
    "import pynamics\n",
    "from pynamics.frame import Frame\n",
    "from pynamics.variable_types import Differentiable,Constant\n",
    "from pynamics.system import System\n",
    "from pynamics.body import Body\n",
    "from pynamics.dyadic import Dyadic\n",
    "from pynamics.output import Output,PointsOutput\n",
    "from pynamics.particle import Particle\n",
    "import pynamics.integration\n",
    "import numpy\n",
    "import sympy\n",
    "import matplotlib.pyplot as plt\n",
    "from matplotlib.patches import Arc\n",
    "plt.ion()\n",
    "from math import pi, sin, cos, tan, asin, acos, atan, degrees, radians, pi"
   ]
  },
  {
   "cell_type": "code",
   "execution_count": 3,
   "id": "removed-violation",
   "metadata": {},
   "outputs": [],
   "source": [
    "def prettyplot(x,y): # Function plots mechanism and generates labels\n",
    "    # Create Figure\n",
    "    Fig1 = plt.figure(figsize=[15,10])\n",
    "    ax = Fig1.add_axes([0.0, 0.0, 1.0, 1.0], aspect='equal')\n",
    "    #ax.patch.set_alpha(0.0)\n",
    "    \n",
    "    # plot links and joints\n",
    "    plt.plot(x[0:3],y[0:3],color='tab:blue')\n",
    "    plt.plot(x[2:5],y[2:5],color='tab:green')\n",
    "    plt.plot(x[4:],y[4:],color='k')\n",
    "    plt.scatter(x,y,color='k')\n",
    "    plt.axis('equal')\n",
    "    plt.xlim([-0.1,0.5])\n",
    "    \n",
    "    # label joints\n",
    "    for i in range(0, len(x)-1):\n",
    "        plt.text(x[i]-0.004, y[i]-0.004, \"p\"+str(i), verticalalignment='top', horizontalalignment='right', fontsize=14)\n",
    "    \n",
    "    # plot COMs\n",
    "    comx = [(x[0]+x[1])/2, (x[1]+x[2])/2, (x[4]+x[3])/2, (x[3]+x[2])/2, (x[4]+x[0])/2]\n",
    "    comy = [(y[0]+y[1])/2, (y[1]+y[2])/2, (y[4]+y[3])/2, (y[3]+y[2])/2, (y[4]+y[0])/2]\n",
    "    plt.scatter(comx,comy,color='k')\n",
    "    \n",
    "    # label COMs\n",
    "    linknames = ['A', 'B', 'C', 'D', 'E']\n",
    "    for i in range(0, len(comx)):\n",
    "        plt.text(comx[i]+0.004, comy[i], linknames[i], verticalalignment='bottom', horizontalalignment='left', weight='bold', fontsize=16)\n",
    "    \n",
    "    # label properties\n",
    "    propertynames = ['La', 'Lb', 'Lc', 'Ld', 'Le']\n",
    "    for i in range(0, len(comx)):\n",
    "        plt.text(comx[i]+0.016, comy[i], propertynames[i], verticalalignment='bottom', horizontalalignment='left', fontsize=14)\n",
    "    \n",
    "    \n",
    "    # plot frame axes\n",
    "    alen = 0.04    \n",
    "    plt.arrow(0, 0, alen, 0,head_width=0.008,width=0.0004,color='r')\n",
    "    plt.arrow(0, 0, 0, alen,head_width=0.008,width=0.0004,color='r')\n",
    "    vx = []\n",
    "    vy = []\n",
    "    for i in range(1, len(x)-2):\n",
    "        if i <= 2: \n",
    "            vecx = numpy.array([x[i]-x[i-1], y[i]-y[i-1]])\n",
    "            vecx = vecx/(vecx.dot(vecx)**0.5)\n",
    "            vecy = numpy.cross([0,0,1], vecx)[0:2]\n",
    "            plt.arrow(x[i], y[i], alen*vecx[0], alen*vecx[1],head_width=0.008,width=0.0004,color='b')\n",
    "            plt.arrow(x[i], y[i], alen*vecy[0], alen*vecy[1],head_width=0.008,width=0.0004,color='b')\n",
    "            vx.append(vecx)\n",
    "            vy.append(vecy)\n",
    "        if i >= 2:\n",
    "            vecx = numpy.array([x[i]-x[i+1], y[i]-y[i+1]])\n",
    "            vecx = vecx/(vecx.dot(vecx)**0.5)\n",
    "            vecy = numpy.cross([0,0,1], vecx)[0:2]\n",
    "            plt.arrow(x[i], y[i], alen*vecx[0], alen*vecx[1],head_width=0.008,width=0.0004,color='g')\n",
    "            plt.arrow(x[i], y[i], alen*vecy[0], alen*vecy[1],head_width=0.008,width=0.0004,color='g')\n",
    "            vx.append(vecx)\n",
    "            vy.append(vecy)\n",
    "\n",
    "    # label frames\n",
    "    lablen = 0.06\n",
    "\n",
    "    plt.text(x[0]+0.06, y[0], 'Nx', verticalalignment='center', horizontalalignment='center', color='r', fontsize=14)\n",
    "    plt.text(x[0], y[0]+0.06, 'Ny', verticalalignment='center', horizontalalignment='center', color='r', fontsize=14)\n",
    "    \n",
    "    plt.text(x[1]+lablen*vx[0][0], y[1]+lablen*vx[0][1], 'Ax', verticalalignment='center', horizontalalignment='center', color='b', fontsize=14)\n",
    "    plt.text(x[1]+lablen*vy[0][0], y[1]+lablen*vy[0][1], 'Ay', verticalalignment='center', horizontalalignment='center', color='b', fontsize=14)\n",
    "\n",
    "    plt.text(x[2]+lablen*vx[1][0], y[2]+lablen*vx[1][1], 'Bx', verticalalignment='center', horizontalalignment='center', color='b', fontsize=14)\n",
    "    plt.text(x[2]+lablen*vy[1][0], y[2]+lablen*vy[1][1], 'By', verticalalignment='center', horizontalalignment='center', color='b', fontsize=14)\n",
    "\n",
    "    plt.text(x[3]+lablen*vx[3][0], y[3]+lablen*vx[3][1], 'Cx', verticalalignment='center', horizontalalignment='center', color='g', fontsize=14)\n",
    "    plt.text(x[3]+lablen*vy[3][0], y[3]+lablen*vy[3][1], 'Cy', verticalalignment='center', horizontalalignment='center', color='g', fontsize=14)\n",
    "\n",
    "    plt.text(x[2]+lablen*vx[2][0], y[2]+lablen*vx[2][1], 'Dx', verticalalignment='center', horizontalalignment='center', color='g', fontsize=14)\n",
    "    plt.text(x[2]+lablen*vy[2][0], y[2]+lablen*vy[2][1], 'Dy', verticalalignment='center', horizontalalignment='center', color='g', fontsize=14)\n",
    "\n",
    "    # plot angles\n",
    "    Aang1 = 0\n",
    "    Aang2 = degrees(atan(vx[0][1]/vx[0][0]))\n",
    "    ax.add_patch(Arc((0, 0), 0.04, 0.04, theta1=min(Aang1, Aang2), theta2=max(Aang1, Aang2), edgecolor='k', linewidth=0.0006))\n",
    "\n",
    "    Bang1 = degrees(atan(vx[0][1]/vx[0][0]))\n",
    "    Bang2 = degrees(atan(vx[1][1]/vx[1][0]))\n",
    "    ax.add_patch(Arc((x[1], y[1]), 0.04, 0.04, theta1=min(Bang1, Bang2), theta2=max(Bang1, Bang2), edgecolor='k', linewidth=0.0006))\n",
    "\n",
    "    plt.plot([0,0.04],[0.04,0.04],color='k',linewidth=1)\n",
    "    Cang1 = 0\n",
    "    Cang2 = degrees(atan(vx[3][1]/vx[3][0]))\n",
    "    ax.add_patch(Arc((x[4], y[4]), 0.04, 0.04, theta1=min(Cang1, Cang2), theta2=max(Cang1, Cang2), edgecolor='k', linewidth=0.0006))\n",
    "\n",
    "    Dang1 = degrees(atan(vx[3][1]/vx[3][0]))\n",
    "    Dang2 = degrees(atan(vx[2][1]/vx[2][0]))\n",
    "    ax.add_patch(Arc((x[3], y[3]), 0.04, 0.04, theta1=min(Dang1, Dang2), theta2=max(Dang1, Dang2), edgecolor='k', linewidth=0.0006))\n",
    "\n",
    "    # label angles\n",
    "    plt.text(x[0]+0.032*cos(radians((Aang1+Aang2)/2)), y[0]+0.032*sin(radians((Aang1+Aang2)/2)), 'qA', verticalalignment='center', horizontalalignment='center', fontsize=14)\n",
    "    plt.text(x[1]+0.032*cos(radians((Bang1+Bang2)/2)), y[1]+0.032*sin(radians((Bang1+Bang2)/2)), 'qB', verticalalignment='center', horizontalalignment='center', fontsize=14)\n",
    "    plt.text(x[4]+0.032*cos(radians((Cang1+Cang2)/2)), y[4]+0.032*sin(radians((Cang1+Cang2)/2)), 'qC', verticalalignment='center', horizontalalignment='center', fontsize=14)\n",
    "    plt.text(x[3]+0.032*cos(radians((Dang1+Dang2)/2)), y[3]+0.032*sin(radians((Dang1+Dang2)/2)), 'qD', verticalalignment='center', horizontalalignment='center', fontsize=14)\n",
    "    \n",
    "    # Label inputs and outputs\n",
    "    plt.text(x[0]-0.004, y[0]-0.004, \"Motor A\", verticalalignment='bottom', horizontalalignment='right', fontsize=14, weight='bold')\n",
    "    plt.text(x[4]-0.004, y[4]-0.004, \"Motor C\", verticalalignment='bottom', horizontalalignment='right', fontsize=14, weight='bold')\n",
    "    plt.text(x[2]+0.004, y[2]+0.004, \"End Effector (x,y)\", verticalalignment='bottom', horizontalalignment='left', fontsize=14, weight='bold')"
   ]
  },
  {
   "cell_type": "markdown",
   "id": "banner-bicycle",
   "metadata": {},
   "source": [
    "## Procedure"
   ]
  },
  {
   "cell_type": "code",
   "execution_count": null,
   "id": "chief-suspect",
   "metadata": {},
   "outputs": [],
   "source": []
  },
  {
   "cell_type": "code",
   "execution_count": 4,
   "id": "ambient-mayor",
   "metadata": {},
   "outputs": [],
   "source": [
    "# Create a pynamics system\n",
    "system = System()\n",
    "pynamics.set_system(__name__,system)"
   ]
  },
  {
   "cell_type": "code",
   "execution_count": 5,
   "id": "adjacent-black",
   "metadata": {},
   "outputs": [],
   "source": [
    "# Length variables (numerical)\n",
    "lAa_num = 0.05\n",
    "lAb_num = 0.1\n",
    "lBa_num = 0.05\n",
    "lBb_num = 0.1\n",
    "lCa_num = 0.055\n",
    "lCb_num = 0.11\n",
    "lDa_num = 0.055\n",
    "lDb_num = 0.11\n",
    "lE_num = 0.045\n",
    "\n",
    "# Lengths\n",
    "lAa = Constant(lAa_num,'lAa',system)\n",
    "lAb = Constant(lAb_num,'lAb',system)\n",
    "lBa = Constant(lBa_num,'lBa',system)\n",
    "lBb = Constant(lBb_num,'lBb',system)\n",
    "lCa = Constant(lCa_num,'lCa',system)\n",
    "lCb = Constant(lCb_num,'lCb',system)\n",
    "lDa = Constant(lDa_num,'lDa',system)\n",
    "lDb = Constant(lDb_num,'lDb',system)\n",
    "lE = Constant(lE_num,'lE',system)"
   ]
  },
  {
   "cell_type": "code",
   "execution_count": 6,
   "id": "attractive-ordinary",
   "metadata": {},
   "outputs": [],
   "source": [
    "# Masses\n",
    "mAa = Constant(0.027,'mAa',system)\n",
    "mAb = Constant(0.027,'mAb',system)\n",
    "mBa = Constant(0.027,'mBa',system)\n",
    "mBb = Constant(0.027,'mBb',system)\n",
    "mCa = Constant(0.027,'mCa',system)\n",
    "mCb = Constant(0.027,'mCb',system)\n",
    "mDa = Constant(0.027,'mDa',system)\n",
    "mDb = Constant(0.027,'mDb',system)\n",
    "\n",
    "# Joint preloads\n",
    "preload0 = Constant(0*pi/180,'preload0',system)\n",
    "preloadA = Constant(0*pi/180,'preloadA',system)\n",
    "preload1 = Constant(0*pi/180,'preload1',system)\n",
    "preloadB = Constant(0*pi/180,'preloadB',system)\n",
    "preload4 = Constant(0*pi/180,'preload4',system)\n",
    "preloadC = Constant(0*pi/180,'preloadC',system)\n",
    "preload3 = Constant(0*pi/180,'preload3',system)\n",
    "preloadD = Constant(0*pi/180,'preloadD',system)\n",
    "\n",
    "# Inertia\n",
    "Ixx_Aa = Constant(0.000202,'Ixx_A',system) #0.00020264\n",
    "Iyy_Aa = Constant(0.000405,'Iyy_A',system) #(0.00040500\n",
    "Izz_Aa = Constant(0.000202,'Izz_A',system) #0.00020264\n",
    "Ixx_Ab = Constant(0.000202,'Ixx_A',system) #0.00020264\n",
    "Iyy_Ab = Constant(0.000405,'Iyy_A',system) #(0.00040500\n",
    "Izz_Ab = Constant(0.000202,'Izz_A',system) #0.00020264\n",
    "\n",
    "Ixx_Ba = Constant(0.000223,'Ixx_B',system) #0.00022378\n",
    "Iyy_Ba = Constant(0.000427,'Iyy_B',system) #0.00042744\n",
    "Izz_Ba = Constant(0.000204,'Izz_B',system) #0.00020422\n",
    "Ixx_Bb = Constant(0.000223,'Ixx_B',system) #0.00022378\n",
    "Iyy_Bb = Constant(0.000427,'Iyy_B',system) #0.00042744\n",
    "Izz_Bb = Constant(0.000204,'Izz_B',system) #0.00020422\n",
    "\n",
    "Ixx_Ca = Constant(0.000222,'Ixx_C',system) #0.00022291\n",
    "Iyy_Ca = Constant(0.000492,'Iyy_C',system) #0.00049228\n",
    "Izz_Ca = Constant(0.000269,'Izz_C',system) #0.00026969\n",
    "Ixx_Cb = Constant(0.000222,'Ixx_C',system) #0.00022291\n",
    "Iyy_Cb = Constant(0.000492,'Iyy_C',system) #0.00049228\n",
    "Izz_Cb = Constant(0.000269,'Izz_C',system) #0.00026969\n",
    "\n",
    "Ixx_Da = Constant(0.000222,'Ixx_D',system) #0.00022291\n",
    "Iyy_Da = Constant(0.000492,'Iyy_D',system) #0.00049228\n",
    "Izz_Da = Constant(0.000269,'Izz_D',system) #0.00026969\n",
    "Ixx_Db = Constant(0.000222,'Ixx_D',system) #0.00022291\n",
    "Iyy_Db = Constant(0.000492,'Iyy_D',system) #0.00049228\n",
    "Izz_Db = Constant(0.000269,'Izz_D',system) #0.00026969"
   ]
  },
  {
   "cell_type": "code",
   "execution_count": 7,
   "id": "asian-wheel",
   "metadata": {},
   "outputs": [],
   "source": [
    "# Create differentiable state variables\n",
    "qAa,qAa_d,qAa_dd = Differentiable('qAa',system)\n",
    "qAb,qAb_d,qAb_dd = Differentiable('qAb',system)\n",
    "\n",
    "qBa,qBa_d,qBa_dd = Differentiable('qBa',system)\n",
    "qBb,qBb_d,qBb_dd = Differentiable('qBb',system)\n",
    "\n",
    "qCa,qCa_d,qCa_dd = Differentiable('qCa',system)\n",
    "qCb,qCb_d,qCb_dd = Differentiable('qCb',system)\n",
    "\n",
    "qDa,qDa_d,qDa_dd = Differentiable('qDa',system)\n",
    "qDb,qDb_d,qDb_dd = Differentiable('qDb',system)"
   ]
  },
  {
   "cell_type": "code",
   "execution_count": 8,
   "id": "lightweight-louisiana",
   "metadata": {},
   "outputs": [],
   "source": [
    "# initial values\n",
    "# qC = 11.97 creates fully extended, horizontal wing\n",
    "initialvalues = {}\n",
    "initialvalues[qAa]=-30*pi/180\n",
    "initialvalues[qAa_d]=0*pi/180\n",
    "initialvalues[qAb]=-30*pi/180\n",
    "initialvalues[qAb_d]=0*pi/180\n",
    "\n",
    "initialvalues[qBa]=0*pi/180\n",
    "initialvalues[qBa_d]=0*pi/180\n",
    "initialvalues[qBb]=0*pi/180\n",
    "initialvalues[qBb_d]=0*pi/180\n",
    "\n",
    "#initialvalues[qC]=14.65*pi/180\n",
    "initialvalues[qCa]=-26.75*pi/180\n",
    "initialvalues[qCa_d]=0*pi/180\n",
    "initialvalues[qCb]=-0*pi/180\n",
    "initialvalues[qCb_d]=0*pi/180\n",
    "\n",
    "initialvalues[qDa]=-20.28*pi/180\n",
    "initialvalues[qDa_d]=0*pi/180\n",
    "initialvalues[qDb]=-0*pi/180\n",
    "initialvalues[qDb_d]=0*pi/180"
   ]
  },
  {
   "cell_type": "code",
   "execution_count": 9,
   "id": "typical-anthropology",
   "metadata": {},
   "outputs": [],
   "source": [
    "# Retrieve state variables in the order they are stored in the system\n",
    "# Create a list of initial values ini0 in the order of the system’s state variables\n",
    "statevariables = system.get_state_variables()\n",
    "ini0 = [initialvalues[item] for item in statevariables]"
   ]
  },
  {
   "cell_type": "code",
   "execution_count": 10,
   "id": "aware-release",
   "metadata": {},
   "outputs": [],
   "source": [
    "# Create frames\n",
    "N = Frame('N')\n",
    "Aa = Frame('Aa')\n",
    "Ab = Frame('Ab')\n",
    "\n",
    "Ba = Frame('Ba')\n",
    "Bb = Frame('Bb')\n",
    "\n",
    "Ca = Frame('Ca')\n",
    "Cb = Frame('Cb')\n",
    "\n",
    "Da = Frame('Da')\n",
    "Db = Frame('Db')"
   ]
  },
  {
   "cell_type": "code",
   "execution_count": 11,
   "id": "amino-ending",
   "metadata": {},
   "outputs": [],
   "source": [
    "# Declare N as the Newtonian (fixed) frame\n",
    "system.set_newtonian(N)"
   ]
  },
  {
   "cell_type": "code",
   "execution_count": null,
   "id": "flexible-footage",
   "metadata": {},
   "outputs": [],
   "source": []
  },
  {
   "cell_type": "code",
   "execution_count": null,
   "id": "juvenile-bishop",
   "metadata": {},
   "outputs": [],
   "source": []
  },
  {
   "cell_type": "code",
   "execution_count": null,
   "id": "further-mountain",
   "metadata": {},
   "outputs": [],
   "source": []
  },
  {
   "cell_type": "code",
   "execution_count": 12,
   "id": "thirty-vegetarian",
   "metadata": {},
   "outputs": [],
   "source": [
    "# Rotate other frames about their local Z axes.\n",
    "# Not global q\n",
    "Aa.rotate_fixed_axis_directed(N,[0,0,1],qAa,system)\n",
    "Ab.rotate_fixed_axis_directed(Aa,[0,0,1],qAb,system)\n",
    "\n",
    "Ba.rotate_fixed_axis_directed(Ab,[0,0,1],qBa,system)\n",
    "Bb.rotate_fixed_axis_directed(Ba,[0,0,1],qBb,system)\n",
    "\n",
    "Ca.rotate_fixed_axis_directed(Bb,[0,0,1],qCa,system)\n",
    "Cb.rotate_fixed_axis_directed(Ca,[0,0,1],qCb,system)\n",
    "\n",
    "Da.rotate_fixed_axis_directed(Cb,[0,0,1],qDa,system)\n",
    "Db.rotate_fixed_axis_directed(Da,[0,0,1],qDb,system)"
   ]
  },
  {
   "cell_type": "code",
   "execution_count": 13,
   "id": "partial-inspection",
   "metadata": {},
   "outputs": [],
   "source": [
    "# Define rigid body kinematics\n",
    "# position vectors\n",
    "p0 = 0*N.x #Normal\n",
    "pA = p0 + lAa*Aa.x #Normal\n",
    "p1 = pA + lAb*Ab.x #Link A\n",
    "pB = p1 + lBa*Ba.x #Link A\n",
    "p2A = pB + lBb*Bb.x #Link B - OUTPUT\n",
    "p4 = p0 + lE*N.y #Link E\n",
    "pC = p4 + lCa*Ca.x #Link E\n",
    "p3 = pC + lCb*Cb.x #Link C\n",
    "pD = p3 + lDa*Da.x #Link C\n",
    "p2C = pD + lDb*Db.x #Link D - OUTPUT"
   ]
  },
  {
   "cell_type": "code",
   "execution_count": 14,
   "id": "accepted-cleaner",
   "metadata": {},
   "outputs": [],
   "source": [
    "# CoM vectors\n",
    "pAacom=p0 + lAa/2*Aa.x #Link Aa\n",
    "pAbcom=pA + lAb/2*Ab.x #Link Ab\n",
    "\n",
    "pBacom=p1 + 0.02*Ba.x #Link Ba\n",
    "pBbcom=pB + lBb*Bb.x #Link Bb\n",
    "\n",
    "pCacom=p4 + lCa/2*Ca.x #Link Ca\n",
    "pCbcom=pC + lCb/2*Cb.x #Link Cb\n",
    "\n",
    "pDacom=p3 + lDa/2*Da.x #Link Da\n",
    "pDbcom=pD + lDb/2*Db.x #Link Db"
   ]
  },
  {
   "cell_type": "code",
   "execution_count": 15,
   "id": "hispanic-ecology",
   "metadata": {},
   "outputs": [],
   "source": [
    "# Angular Velocity\n",
    "wNAa = N.getw_(Aa)\n",
    "wAaAb = Aa.getw_(Ab)\n",
    "\n",
    "wAbBa = Ab.getw_(Ba)\n",
    "wBaBb = Ba.getw_(Bb)\n",
    "\n",
    "wNCa = N.getw_(Ca)\n",
    "wCaCb = Ca.getw_(Cb)\n",
    "\n",
    "wCbDa = Cb.getw_(Da)\n",
    "wDaDb = Da.getw_(Db)"
   ]
  },
  {
   "cell_type": "code",
   "execution_count": 16,
   "id": "attached-biodiversity",
   "metadata": {},
   "outputs": [],
   "source": [
    "# Build inertia tensors\n",
    "IAa = Dyadic.build(Aa,Ixx_Aa,Iyy_Aa,Izz_Aa)\n",
    "IAb = Dyadic.build(Ab,Ixx_Ab,Iyy_Ab,Izz_Ab)\n",
    "\n",
    "IBa = Dyadic.build(Ba,Ixx_Ba,Iyy_Ba,Izz_Ba)\n",
    "IBb = Dyadic.build(Bb,Ixx_Bb,Iyy_Bb,Izz_Bb)\n",
    "\n",
    "ICa = Dyadic.build(Ca,Ixx_Ca,Iyy_Ca,Izz_Ca)\n",
    "ICb = Dyadic.build(Cb,Ixx_Cb,Iyy_Cb,Izz_Cb)\n",
    "\n",
    "IDa = Dyadic.build(Da,Ixx_Da,Iyy_Da,Izz_Da)\n",
    "IDb = Dyadic.build(Db,Ixx_Db,Iyy_Db,Izz_Db)\n",
    "\n",
    "BodyAa = Body('BodyAa',Aa,pAacom,mAa,IAa,system)\n",
    "BodyAb = Body('BodyAb',Ab,pAbcom,mAb,IAb,system)\n",
    "\n",
    "BodyBa = Body('BodyBa',Ba,pBacom,mBa,IBa,system)\n",
    "BodyBb = Body('BodyBb',Bb,pBbcom,mBb,IBb,system)\n",
    "\n",
    "BodyCa = Body('BodyCa',Ca,pCacom,mCa,ICa,system)\n",
    "BodyCb = Body('BodyCb',Cb,pCbcom,mCb,ICb,system)\n",
    "\n",
    "BodyDa = Body('BodyDa',Da,pDacom,mDa,IDa,system)\n",
    "BodyDb = Body('BodyDb',Db,pDbcom,mDb,IDb,system)\n",
    "#BodyC = Particle(pCcm,mC,'ParticleC',system)"
   ]
  },
  {
   "cell_type": "markdown",
   "id": "continent-georgia",
   "metadata": {},
   "source": [
    "## Forces"
   ]
  },
  {
   "cell_type": "code",
   "execution_count": 17,
   "id": "introductory-modem",
   "metadata": {},
   "outputs": [],
   "source": [
    "b = Constant(1e0,'b',system)"
   ]
  },
  {
   "cell_type": "code",
   "execution_count": 18,
   "id": "limited-bidder",
   "metadata": {},
   "outputs": [
    {
     "data": {
      "text/plain": [
       "<pynamics.force.Force at 0x18072ae7160>"
      ]
     },
     "execution_count": 18,
     "metadata": {},
     "output_type": "execute_result"
    }
   ],
   "source": [
    "# Forces\n",
    "system.addforce(-b*wNAa,wNAa)\n",
    "system.addforce(-b*wAbBa,wAbBa)\n",
    "system.addforce(-b*wNCa,wNCa)\n",
    "system.addforce(-b*wCbDa,wCbDa)"
   ]
  },
  {
   "cell_type": "code",
   "execution_count": 19,
   "id": "serial-invention",
   "metadata": {},
   "outputs": [],
   "source": [
    "k = Constant(1e-3,'k',system)\n",
    "k15 = Constant(1e1,'k15',system)\n",
    "k165 = Constant(1e1,'k165',system)\n",
    "klim = Constant(1e1,'klim',system)"
   ]
  },
  {
   "cell_type": "code",
   "execution_count": 20,
   "id": "particular-ridge",
   "metadata": {},
   "outputs": [
    {
     "data": {
      "text/plain": [
       "(<pynamics.force.Force at 0x18072ca72b0>,\n",
       " <pynamics.spring.Spring at 0x18072ca73d0>)"
      ]
     },
     "execution_count": 20,
     "metadata": {},
     "output_type": "execute_result"
    }
   ],
   "source": [
    "# Spring Forces\n",
    "# Not global q\n",
    "system.add_spring_force1(k,(qAa-preload0)*N.z,wNAa)\n",
    "system.add_spring_force1(k15,(qAb-preloadA)*Aa.z,wAaAb) \n",
    "\n",
    "system.add_spring_force1(k,(qBa-preload1)*Ab.z,wAbBa)\n",
    "system.add_spring_force1(k15,(qBb-preloadB)*Ba.z,wBaBb)\n",
    "\n",
    "system.add_spring_force1(k,(qCa-preload4)*N.z,wNCa)\n",
    "system.add_spring_force1(k165,(qCb-preloadC)*Ca.z,wCaCb)\n",
    "\n",
    "system.add_spring_force1(k,(qDa-preload3)*Cb.z,wCbDa)\n",
    "system.add_spring_force1(k165,(qDb-preloadD)*Da.z,wDaDb)"
   ]
  },
  {
   "cell_type": "code",
   "execution_count": 21,
   "id": "streaming-stanford",
   "metadata": {},
   "outputs": [],
   "source": [
    "# motor torque\n",
    "T =  Constant(1,'T',system)"
   ]
  },
  {
   "cell_type": "code",
   "execution_count": 22,
   "id": "sized-spokesman",
   "metadata": {},
   "outputs": [
    {
     "data": {
      "text/plain": [
       "<pynamics.force.Force at 0x18072ae7220>"
      ]
     },
     "execution_count": 22,
     "metadata": {},
     "output_type": "execute_result"
    }
   ],
   "source": [
    "system.addforce(T*N.z,wNAa)"
   ]
  },
  {
   "cell_type": "code",
   "execution_count": 23,
   "id": "posted-executive",
   "metadata": {},
   "outputs": [],
   "source": [
    "# Add air resistance as a joint damper as a function of the angular velocities"
   ]
  },
  {
   "cell_type": "code",
   "execution_count": null,
   "id": "false-assessment",
   "metadata": {},
   "outputs": [],
   "source": []
  },
  {
   "cell_type": "code",
   "execution_count": null,
   "id": "under-partition",
   "metadata": {},
   "outputs": [],
   "source": []
  },
  {
   "cell_type": "code",
   "execution_count": null,
   "id": "roman-syndicate",
   "metadata": {},
   "outputs": [],
   "source": []
  },
  {
   "cell_type": "code",
   "execution_count": 24,
   "id": "chubby-bailey",
   "metadata": {},
   "outputs": [],
   "source": [
    "# gravity\n",
    "g = Constant(9.81,'g',system)"
   ]
  },
  {
   "cell_type": "code",
   "execution_count": 25,
   "id": "lined-lying",
   "metadata": {},
   "outputs": [],
   "source": [
    "# Gravity\n",
    "system.addforcegravity(-g*N.y)"
   ]
  },
  {
   "cell_type": "markdown",
   "id": "demographic-liechtenstein",
   "metadata": {},
   "source": [
    "## Constraints"
   ]
  },
  {
   "cell_type": "code",
   "execution_count": 26,
   "id": "legendary-parker",
   "metadata": {},
   "outputs": [],
   "source": [
    "# Constraints\n",
    "eq_vector = p2A-p2C\n",
    "eq = []\n",
    "eq.append((eq_vector).dot(N.x))\n",
    "eq.append((eq_vector).dot(N.y))\n",
    "eq_d=[(system.derivative(item)) for item in eq]\n",
    "eq_dd=[(system.derivative(item)) for item in eq_d]\n",
    "\n",
    "eq2_vector = Ab.x-Ba.x\n",
    "eq2 = []\n",
    "eq2.append((eq2_vector).dot(N.x))\n",
    "eq2.append((eq2_vector).dot(N.y))\n",
    "eq2_d=[(system.derivative(item)) for item in eq2]\n",
    "eq2_dd=[(system.derivative(item)) for item in eq2_d]"
   ]
  },
  {
   "cell_type": "markdown",
   "id": "suburban-geography",
   "metadata": {},
   "source": [
    "## Solve for valid initial condition"
   ]
  },
  {
   "cell_type": "code",
   "execution_count": 27,
   "id": "equipped-reservation",
   "metadata": {},
   "outputs": [],
   "source": [
    "# Declare a list of points that will be used for plotting\n",
    "points = [p0, pA, p1, pB, p2A, pD, p3, pC, p4]"
   ]
  },
  {
   "cell_type": "code",
   "execution_count": 28,
   "id": "eastern-hygiene",
   "metadata": {},
   "outputs": [],
   "source": [
    "# Identify independent and dependent variables\n",
    "qi = [qAa, qCa]\n",
    "qd = [qAb, qBa, qBb, qCb, qDa, qDb]"
   ]
  },
  {
   "cell_type": "code",
   "execution_count": 29,
   "id": "wooden-weapon",
   "metadata": {},
   "outputs": [],
   "source": [
    "# Create a copy of symbolic constants dictionary and add the initial value of qi to it\n",
    "constants = system.constant_values.copy()\n",
    "defined = dict([(item,initialvalues[item]) for item in qi])\n",
    "constants.update(defined)"
   ]
  },
  {
   "cell_type": "code",
   "execution_count": 30,
   "id": "corresponding-castle",
   "metadata": {},
   "outputs": [],
   "source": [
    "# Substitute constants in equation\n",
    "eq = [item.subs(constants) for item in eq]\n",
    "eq2 = [item.subs(constants) for item in eq2]"
   ]
  },
  {
   "cell_type": "code",
   "execution_count": 31,
   "id": "occasional-worcester",
   "metadata": {},
   "outputs": [],
   "source": [
    "# Convert to numpy array\n",
    "# Sum the error\n",
    "error = (numpy.array(eq)**2).sum() + (numpy.array(eq2)**2).sum()"
   ]
  },
  {
   "cell_type": "code",
   "execution_count": 32,
   "id": "prescription-comparative",
   "metadata": {},
   "outputs": [],
   "source": [
    "# Convert to a function that scipy can use.\n",
    "# Sympy has a “labmdify” function that evaluates an expression, but scipy needs a slightly different format.\n",
    "f = sympy.lambdify(qd,error)\n",
    "\n",
    "def function(args):\n",
    "    return f(*args)"
   ]
  },
  {
   "cell_type": "code",
   "execution_count": 33,
   "id": "continent-glossary",
   "metadata": {},
   "outputs": [
    {
     "name": "stderr",
     "output_type": "stream",
     "text": [
      "2021-03-17 14:40:34,938 - pynamics.output - INFO - calculating outputs\n",
      "2021-03-17 14:40:34,941 - pynamics.output - INFO - done calculating outputs\n"
     ]
    },
    {
     "data": {
      "text/plain": [
       "array([[[ 0.        ,  0.        ],\n",
       "        [ 0.04330127, -0.025     ],\n",
       "        [ 0.09330127, -0.11160254],\n",
       "        [ 0.11830127, -0.15490381],\n",
       "        [ 0.16830127, -0.24150635],\n",
       "        [-0.00675367, -0.17232296],\n",
       "        [ 0.00935431, -0.11973463],\n",
       "        [ 0.0031181 , -0.00991154],\n",
       "        [ 0.        ,  0.045     ]],\n",
       "\n",
       "       [[ 0.        ,  0.        ],\n",
       "        [ 0.04330127, -0.025     ],\n",
       "        [ 0.10312439, -0.10513236],\n",
       "        [ 0.13303596, -0.14519853],\n",
       "        [ 0.21490676, -0.20261954],\n",
       "        [ 0.13872281, -0.12328064],\n",
       "        [ 0.1056369 , -0.07934521],\n",
       "        [ 0.02599508, -0.00346912],\n",
       "        [ 0.        ,  0.045     ]]])"
      ]
     },
     "execution_count": 33,
     "metadata": {},
     "output_type": "execute_result"
    }
   ],
   "source": [
    "# Take the derivative of the equations to linearize with regard to the velocity variables\n",
    "guess = [initialvalues[item] for item in qd]\n",
    "result = scipy.optimize.minimize(function,guess)\n",
    "if result.fun>1e-3:\n",
    "    raise(Exception(\"out of tolerance\"))\n",
    "ini = []\n",
    "for item in system.get_state_variables():\n",
    "    if item in qd:\n",
    "        ini.append(result.x[qd.index(item)])\n",
    "    else:\n",
    "        ini.append(initialvalues[item])\n",
    "points = PointsOutput(points, constant_values=system.constant_values)\n",
    "points.calc(numpy.array([ini0,ini]))\n",
    "#points.plot_time()"
   ]
  },
  {
   "cell_type": "code",
   "execution_count": 34,
   "id": "automatic-pressure",
   "metadata": {},
   "outputs": [],
   "source": [
    "# Valid initial condition\n",
    "x = numpy.array([points.y[1][0][0], points.y[1][1][0], points.y[1][2][0], points.y[1][3][0], points.y[1][4][0], points.y[1][5][0], points.y[1][6][0], points.y[1][7][0], points.y[1][8][0], 0])\n",
    "y = numpy.array([points.y[1][0][1], points.y[1][1][1], points.y[1][2][1], points.y[1][3][1], points.y[1][4][1], points.y[1][5][1], points.y[1][6][1], points.y[1][7][1], points.y[1][8][1], 0])\n",
    "# prettyplot(x,y)"
   ]
  },
  {
   "cell_type": "markdown",
   "id": "christian-ocean",
   "metadata": {},
   "source": [
    "## Solution"
   ]
  },
  {
   "cell_type": "code",
   "execution_count": 35,
   "id": "touched-grammar",
   "metadata": {},
   "outputs": [
    {
     "name": "stderr",
     "output_type": "stream",
     "text": [
      "2021-03-17 14:40:34,969 - pynamics.system - INFO - getting dynamic equations\n"
     ]
    }
   ],
   "source": [
    "# F=ma\n",
    "f,ma = system.getdynamics()"
   ]
  },
  {
   "cell_type": "code",
   "execution_count": 36,
   "id": "noble-tumor",
   "metadata": {},
   "outputs": [
    {
     "name": "stderr",
     "output_type": "stream",
     "text": [
      "2021-03-17 14:40:36,322 - pynamics.system - INFO - solving a = f/m and creating function\n",
      "2021-03-17 14:40:36,336 - pynamics.system - INFO - substituting constrained in Ma-f.\n",
      "2021-03-17 14:41:00,003 - pynamics.system - INFO - done solving a = f/m and creating function\n",
      "2021-03-17 14:41:00,003 - pynamics.system - INFO - calculating function for lambdas\n"
     ]
    }
   ],
   "source": [
    "# Acceleration\n",
    "func1,lambda1 = system.state_space_post_invert(f,ma,eq_dd,return_lambda = True)"
   ]
  },
  {
   "cell_type": "code",
   "execution_count": 37,
   "id": "academic-yugoslavia",
   "metadata": {},
   "outputs": [],
   "source": [
    "# Integration Tolerance\n",
    "tol = 1e-12"
   ]
  },
  {
   "cell_type": "code",
   "execution_count": 38,
   "id": "innocent-point",
   "metadata": {},
   "outputs": [],
   "source": [
    "# Time\n",
    "tinitial = 0\n",
    "tfinal = 6\n",
    "fps = 30\n",
    "tstep = 1/fps\n",
    "t = numpy.r_[tinitial:tfinal:tstep]"
   ]
  },
  {
   "cell_type": "code",
   "execution_count": 39,
   "id": "cordless-growth",
   "metadata": {},
   "outputs": [
    {
     "name": "stderr",
     "output_type": "stream",
     "text": [
      "2021-03-17 14:41:00,051 - pynamics.integration - INFO - beginning integration\n",
      "2021-03-17 14:41:00,052 - pynamics.system - INFO - integration at time 0000.00\n",
      "2021-03-17 14:41:41,578 - pynamics.system - INFO - integration at time 0000.01\n",
      "C:\\Anaconda3\\lib\\site-packages\\scipy\\integrate\\odepack.py:247: ODEintWarning: Excess work done on this call (perhaps wrong Dfun type). Run with full_output = 1 to get quantitative information.\n",
      "  warnings.warn(warning_msg, ODEintWarning)\n",
      "2021-03-17 14:41:48,872 - pynamics.integration - INFO - finished integration\n"
     ]
    }
   ],
   "source": [
    "# Integrate\n",
    "states=pynamics.integration.integrate(func1,ini,t,rtol=tol,atol=tol, args=({'constants':system.constant_values},))"
   ]
  },
  {
   "cell_type": "code",
   "execution_count": 40,
   "id": "local-purple",
   "metadata": {},
   "outputs": [
    {
     "data": {
      "text/plain": [
       "<matplotlib.legend.Legend at 0x18073f978b0>"
      ]
     },
     "execution_count": 40,
     "metadata": {},
     "output_type": "execute_result"
    },
    {
     "data": {
      "image/png": "[encoded data removed]",
      "text/plain": [
       "<Figure size 432x288 with 1 Axes>"
      ]
     },
     "metadata": {
      "needs_background": "light"
     },
     "output_type": "display_data"
    }
   ],
   "source": [
    "# Outputs\n",
    "plt.figure()\n",
    "artists = plt.plot(t,states[:,:4])\n",
    "plt.legend(artists,['qAa','qAb','qBa','qBb','qCa','qCb','qDa','qDb'])"
   ]
  },
  {
   "cell_type": "raw",
   "id": "boring-dealer",
   "metadata": {},
   "source": [
    "# Energy\n",
    "KE = system.get_KE()\n",
    "PE = system.getPEGravity(p0) - system.getPESprings()\n",
    "energy_output = Output([KE-PE],system)\n",
    "energy_output.calc(states)\n",
    "energy_output.plot_time()"
   ]
  },
  {
   "cell_type": "code",
   "execution_count": 41,
   "id": "timely-western",
   "metadata": {},
   "outputs": [
    {
     "name": "stderr",
     "output_type": "stream",
     "text": [
      "2021-03-17 14:41:49,125 - pynamics.output - INFO - calculating outputs\n",
      "2021-03-17 14:41:49,219 - pynamics.output - INFO - done calculating outputs\n"
     ]
    },
    {
     "data": {
      "image/png": "[encoded data removed]",
      "text/plain": [
       "<Figure size 432x288 with 1 Axes>"
      ]
     },
     "metadata": {
      "needs_background": "light"
     },
     "output_type": "display_data"
    }
   ],
   "source": [
    "# Motion\n",
    "points = [p0,pA,p1,pB,p2A,pD,p3,pC,p4]\n",
    "points_output = PointsOutput(points,system)\n",
    "y = points_output.calc(states)\n",
    "points_output.plot_time(20)"
   ]
  },
  {
   "cell_type": "code",
   "execution_count": 42,
   "id": "broken-payroll",
   "metadata": {},
   "outputs": [
    {
     "data": {
      "image/png": "[encoded data removed]",
      "text/plain": [
       "<Figure size 432x288 with 1 Axes>"
      ]
     },
     "metadata": {
      "needs_background": "light"
     },
     "output_type": "display_data"
    }
   ],
   "source": [
    "# Motion Animation\n",
    "points_output.animate(fps = fps,movie_name = 'render.mp4',lw=2,marker='o',color=(1,0,0,1),linestyle='-')"
   ]
  },
  {
   "cell_type": "code",
   "execution_count": 43,
   "id": "greater-recommendation",
   "metadata": {},
   "outputs": [
    {
     "data": {
      "text/html": [
       "<video width=\"432\" height=\"288\" controls autoplay loop>\n",
       "  <source type=\"video/mp4\" src=\"data:video/mp4;base64,AAAAIGZ0eXBNNFYgAAACAE00ViBpc29taXNvMmF2YzEAAAAIZnJlZQAAL/JtZGF0AAACrgYF//+q\n",
       "3EXpvebZSLeWLNgg2SPu73gyNjQgLSBjb3JlIDE2MSByMzAzMyAwZDc1NGVjIC0gSC4yNjQvTVBF\n",
       "Ry00IEFWQyBjb2RlYyAtIENvcHlsZWZ0IDIwMDMtMjAyMCAtIGh0dHA6Ly93d3cudmlkZW9sYW4u\n",
       "b3JnL3gyNjQuaHRtbCAtIG9wdGlvbnM6IGNhYmFjPTEgcmVmPTMgZGVibG9jaz0xOjA6MCBhbmFs\n",
       "eXNlPTB4MzoweDExMyBtZT1oZXggc3VibWU9NyBwc3k9MSBwc3lfcmQ9MS4wMDowLjAwIG1peGVk\n",
       "X3JlZj0xIG1lX3JhbmdlPTE2IGNocm9tYV9tZT0xIHRyZWxsaXM9MSA4eDhkY3Q9MSBjcW09MCBk\n",
       "ZWFkem9uZT0yMSwxMSBmYXN0X3Bza2lwPTEgY2hyb21hX3FwX29mZnNldD0tMiB0aHJlYWRzPTkg\n",
       "bG9va2FoZWFkX3RocmVhZHM9MSBzbGljZWRfdGhyZWFkcz0wIG5yPTAgZGVjaW1hdGU9MSBpbnRl\n",
       "cmxhY2VkPTAgYmx1cmF5X2NvbXBhdD0wIGNvbnN0cmFpbmVkX2ludHJhPTAgYmZyYW1lcz0zIGJf\n",
       "cHlyYW1pZD0yIGJfYWRhcHQ9MSBiX2JpYXM9MCBkaXJlY3Q9MSB3ZWlnaHRiPTEgb3Blbl9nb3A9\n",
       "MCB3ZWlnaHRwPTIga2V5aW50PTI1MCBrZXlpbnRfbWluPTI1IHNjZW5lY3V0PTQwIGludHJhX3Jl\n",
       "ZnJlc2g9MCByY19sb29rYWhlYWQ9NDAgcmM9Y3JmIG1idHJlZT0xIGNyZj0yMy4wIHFjb21wPTAu\n",
       "NjAgcXBtaW49MCBxcG1heD02OSBxcHN0ZXA9NCBpcF9yYXRpbz0xLjQwIGFxPTE6MS4wMACAAAAQ\n",
       "vmWIhAA3//728P4FNjuY0JcRzeidMx+/Fbi6NDe9zgAAAwAAN9zmRP7KkwbmwAAC4jCTf3jHLQAA\n",
       "r47aO2dgbcrNYw+g6vyvjhPA434H/3/tjWYVkKy0umLmz8whlt2ljbEZwc7JiED2ZUYYGd98L7jX\n",
       "jEVTeVx1PjemC3XP3e4gp7MaaQtCZMNP/U+NT+OMSDva/siGqshrn86etKlvmLZKHg+L9JECfmj5\n",
       "cuSMfQW5U6CV/l9KDFuWqlwOGxKM/9zlLdX3BDgy2r9A9GacpzDigBfow3T7hjtHlHu6Og8skgYC\n",
       "+X8VZEwNeO4bA5EmtriJyIXpzC9c+mPbla9dbJclokABR+4X6BCEQwz8+wC2A4EThrl4S7ihoXu9\n",
       "RoeJZQkh1vl7aPvi1BzFOFgwCJel+pYXRCPie4vQi3HrTCN7MNpG4/cyb25TbZ0UEEDV9v0DN1ib\n",
       "MHbe0S30fBjx0g5rJT+4J6zIKjKbuW9zNGYu+nCfgOt+JvoCG8ki3DbNw6Z/d1Eb0YZQl3+qMZ3c\n",
       "1ZLpUfiqaizCVXKMNC4bjojcm9V5wYm4fIVi6sRAJIZ1sJ4NiszmWzW78r3sek9S969ovp/BsStW\n",
       "4WJjy1yOmAySwtTfbljp/WTJ6LeYeVN1UssBPw42Fa+JOCy9GHdYg2D8EAMc3txvCBn23Arb/opo\n",
       "nFxryISiEVt1Vq224qWHNAjGdSJYmVlWoDv8bu6IFmQEQNUK8hoWXbWp3ilYp6SX/l9Rs1IbEhit\n",
       "eF/f48mtK1oTEdE3RBXFMhaQPPC5lb6GAsxdZRKRtDaI/MXExfLCkTUXJL1c8b8lJNVI7Rx7UUBl\n",
       "xs/vbxEWeAoTuF04WFXRziPWwELQNc82sHQEDJjol6C8qAoZXEOa/g3E+1/mgb3gm8YzTNl5yfa6\n",
       "usbgX9B7kpuePffHzhtn25m6Etx5rNJh9gnvT6E3tkiAHoRr+MdSi+DljgC0pmxsGWiAfRQS6iD5\n",
       "gE5VUvF6wUsPcoGbNT9fw9Y0omVsIongEIHsTRKPbAFg5ZNwTbZxLJXbYUE2YnCpHpP2yIvjfCeI\n",
       "mZqWnP7ia8HneNNZgqmG4tW5JkNcAXXI/JAzAlWmRDm8t2Gxr5XIfym7Tq5vkVfyJAH/qQ5fABSC\n",
       "CW40pkTy7TV1yKEsmkP3ii7Z0uE25jh4I8SNIXJtsid48D19vwNFQGWUEJmJHay3e0CCHwUsyuEe\n",
       "LSvNzYofhPnZzwzabl19Q/W5kt0wimXb/hfnetgBaCwA/cHHeZM0vT1JKjiq4WG/EY4PH90GDuxi\n",
       "XsoZytmFsicA8+cMTper51Aj2rwhqrdSShjI9vXGzglJPAYZUEOGqP4bhkmiJ5EgvQ/AjUGWu8/X\n",
       "n+C4s9wE87OMYg41s8Ios5Vq0hAvwkayvfi/Z48WGfJblTqf3NLoionBq8yATDl6Hz/bZhEx2g9J\n",
       "NB+TCFn3lAqsKo9RD9PlrSDudjfgeIMMss6Ri2ilzk575AP78tu0NklH6iYopH/2sPf3Z87jRvnR\n",
       "7bhjYwPLp+CJi4CxIuAvlXiRzAgn0niNz9zjsuvI+ADHaRfVgz19JXVZaccc6EJGe860/b5P+qe1\n",
       "vfPVnGs65i4blHzzdsvk+U39BTCBDyCjNEWDzazjbJrAWG/JrlOUV7Isl/U1eGCZ1dVhyOqbbXho\n",
       "SxH0mdjnHLd7HY0ZubkkNzhKeZVjdPgLK6oMFouE9Nd6189b4nIAmE7JZdS1M3GjrxnZuNg4aOn9\n",
       "sUYxyhLgMDpy5+5/MgF4jm5XsLFr24svnUleT0Zkxo7fMyAHcs24BQHNGvA1dwqf5FoE6/WD7wGp\n",
       "ZlYponZwlVPuA8xSmJM31m8s12yMGXZtu7AWOYrpT5O1a97wIqGt6KS5aapK+7+iL267Aht/qR3W\n",
       "Ce9H1TPh+jhOYYXyZV1nQiWxDqhPm+n18vo8datGJroCDJTith4Wremtx1Dbtde9SH3gJaWvUvxt\n",
       "ShV2JQu4yJN8bpftlDb378UrUuphiUF3UPPXsKFGS2JmorvJKWTLp5q5B/aBSc7kRm9EqRA1Mqup\n",
       "lpJBCbIFJhFcW0pu9czEkZQoR+IJLl9hQrYzejdOBT6dpBKATvO+s+01ggUgypaAzU8H6P/SgJTY\n",
       "DzGxeMzT7lDPP/wMtEWH7vVxzWfJZ6RyKSTlioibHMIf3NRkFLCdToaCmH2fMTszu3musvJT8jWj\n",
       "GKqrENpxEE4UwJaSjAMLUgKsCztWe1zAopGjBFygjQdZZpg4uWZECj8C0wvQ+8G5u/wMf01gAc1e\n",
       "oAefwOo2DBnOMCs942N4erAsSE2B05/ebBrXpg3pLW6BL4IHTnV3lVoP/7GNoIDMMjTNJ4OwLvmg\n",
       "bmCnni594tcV504FguRqpKjae8oefchuYtyEsMYYNlDMjT152gMDTzZ9Je2INpkQA3ahrHP30uxh\n",
       "+5u7ATVytb53HM+2SRQaajrPCZW02EFv6PlNPLzrk2wKq+0755FNz4SZnHJ6VeghDkFcX/58DlZB\n",
       "CrKBy+2koYwjrqkZ9cJiwICg49z9r6RxxT9bDMe+UW1fmnSRR6xIY5HwZy0zZPS+1NbXg4tsx0ZK\n",
       "PPHGrY+0H/TBB+ac7p4JLhEAjk4ZcHnDHzF7Z12qvyP9YBHR82ZvAq33GDWCVPPDJ5guzmaIc/5z\n",
       "YITCgTyNmhJ1Kwg+9tVNFVWIvUQ3DKuj4CLMiOtASVBTjI5q4KQ6B0qRBiUDtNN4Y6DgJB7rmULz\n",
       "EhxYxEMHr/oejm9Q5UScJ8yn+MG94IoClf8jLxB/88F8hWWLM7fgmPJbRP5TEimdrh60L0z649nw\n",
       "uOEa0t2OF+OdXwiHiMWS9k9xO4AczwYKyxYh2TmexhKTpmbQoWueksMTxtX1XjRd061aQgX2nfhA\n",
       "U1X3sGWH25J9TGLOTNHyBAka4D5tgjAnWIV5Xyd0P2xs6NTmMPYM5xv+aAD8lOqfAVsYcZtU+b2i\n",
       "anf/cD0myG46RI48OODEJe9RvHKK2uU1fME5hxN5KGC8qc/1kmg0Do1OjEg6d2EacqMJZ0Y0dSVG\n",
       "iaYEtmSGejFRoxLeQ2lIrO7PhS3DG8+kQVsyHE4cIt+fS4tDPWzUUtTZYdZgxwrcyIT2ATkiLI4Q\n",
       "EyRcc1oA1C6Xn3nAicuUlW0QEv+lOQVbvEQzWvL+NLipQOi+eQqkHO3rzXu/Zzje8ldylnp/wVQF\n",
       "a0X90TWJq+mOFyF5Rxu2h2/aJ84IXkbGJYh5EljCBvuoP352uAzAJGu60B38yE/EiXOt/EjsXar1\n",
       "MFs9LLA8JySimI4Bmow3MOZ70NKjYdytFcVVfZDcztG2s7K4nR0UguMKIFm8k6GYMS8SYpoJL/i6\n",
       "O58Y21KQTDMhAXhGKy76bU6vJl4AIYlBPm0Q5NzGT3DYVkWJl4n4IprgZHBYvOx+wMVR48DCUNta\n",
       "QJ1AtOAZRBiKoANW8IZgLQCboUeiSWfl/AUyXL3sUJihovZzJpP4GtGGmQSoUuKpy3mzeMQdo9iU\n",
       "TkMKix4LjT+4jy4HCdLO/UuR5/M5yT5qTIySK0G3IgrV3rXteHQeM3yL1XB49QBYZWiMfHB0OMGN\n",
       "KFeZwR3qEbrKVqjC94N0VMHfy8GCMUTQmIeUlTk5Ep59zueLOR2efGWo22MVGQoowEpyuMsnojBp\n",
       "vmICrdwsW4kvtscAPojv7tFy4aSWW7Z5VBFdlB6bIGhLVbKyFZowoqOyz+vLqiqKSL6LVMFKq+iK\n",
       "5qbYQEkn+p7UwoVXHgQHzfJcJHe+wO+eh6ZBPDrc7tBBDH8SfY7LnyKsXtnwz2P+wgm9cyspfLkU\n",
       "RyIlsbiADskyp09J42JMJiXQUufrIczG3EmUzIo0KoO1QZfsQmh6JvlpPHXlXHMaM5m7dRXocZBw\n",
       "seKLMbCr5zPsdJ+WAZYUoPJUuCAJWF+Bt6OP2fvRBxF1TVqq3YVgyrwa6SHnPCJlbbg5QxbsiqWf\n",
       "E5ZVF/g6TFjMcBRTwtWGtOqi/wh6jubdMyNuZ+HuNcZZrDVkq8AMw493V/MX9p3IT0EmSRc6N00s\n",
       "L8ysFmHHQDXWNXdS28vh9S+BP9+RJUATSqxzjpzHLzrV30jsJYpAQVNLEKxHfEzVlwlNEsiAFLT6\n",
       "ehCMTIHPQ+CTFvEwY/4J00hU9KV7x8UJBwLIJcbGkn/2OHkftmITOavg6RjmrXOEMg3Unekmthzi\n",
       "1wId+YHqGJwQb6LZXIqYpa+nHN1lTAUvfwpluOEVjrAYSAp7KNfmdV1QxV/mP6DyNd+0MfLF4rh6\n",
       "LYEDyr6QbsR/yFSKDEb22t8u0kznak46MQtEONpBoGT/CIpF+GffQUxb8vk8MMJR4o0PlCYoIDcW\n",
       "3UiiD6moOIIu/4igSLDcEEab8oienNHfRjiHy2VVSYkTMSutcC74JFOh7IAY0iRTclT0Lor5s7Zq\n",
       "0tC2r1guGJQ18wd7QT3tiqidc3GSZM9rIcFc4o9xT01UGCv6LOVdTYg+TZ3khkzUXafsuezgLD2B\n",
       "A9PJlGPWNtZV5gusKcyoYbxbGk9HHcK2FsxAHgH5+nCuQedXdwASdJ0rqN1rPd04voI566C87BlO\n",
       "Snmkh3fxKulmgkEbvZttGBdPfmH+f/sv/fhKLCBcGFx8xudK0Da/bwMmcT+YHy3RIjcAx34aQDFe\n",
       "81uoavu+7r0Zd4glxzmjkIxPBrhK9TqPb40fAA+hhLFgGQ5uPyK0TfbUXcyYTNf9J2ZkfCUKxH2R\n",
       "Snvvug3cpNMdswmm00VNGn10yJ4xnXqOyZQwx5fybo1VjzZyNy1NNklRDVyBeJDv6sCuY0BJlOdC\n",
       "PFMi9UfbjSTIaF++xRRs6Ayd0PXGBvJjdzYBGBYrDDR0bvzkfkJ5dNNBNIL7miN7DPFwv5UqSPgn\n",
       "7iZYfG+JDksVQDko9fJxxA3k5FinD2sQ0puGowKt02sAj+6FU8JLODTvpnHoycBG+yEnueekzM5U\n",
       "9WC3gGQKBGcTIsIZuRuUi5nLPj2CLEKALkSqL+zCJM9mhURQ45vN6IDtCIuTFGErnkIS28/QE7sT\n",
       "9CZwnTIYsu44c5LpJogBbMCcr8AgBxriw91sVx5OUC7vtglG4D0yzNOHT/UMrFBjegN7+lv9CYvL\n",
       "85oLuOaFHXQBr/clEZLDBoSMT3qJVC9G2Tz4AEhhk3SZcOOsalPwp3s5iQpqaVTnXbOj5iw3LqC/\n",
       "/JVunlJHyUnvf6A/6SUkHAA4tXEzTzrKvM+iArs6ZCbOYPAMJWmYxUZrakjQbLZygIOMUlt3sz43\n",
       "AVzcQlTu2gH1Be0h+iB6dda/Zj6fEzBV/jFqrcMKJ+fxEjs6RaQp4aohYZhy74R4W4rKM8XJP8Zz\n",
       "0ZFBJiL4PYRYvoKJbnZhdB6g/n5SsTNdJT76VUJjgGf/e6G+s0dPc8mUY9PLFzmD0Dv5NdrWZan4\n",
       "q36ZU0lgwBcmRGpERUxHOFHUNZER9vCnPAqNQl8eQlAu6uCg2gocDmvpl+SpbYSm54lYdidxpr7q\n",
       "Ormk6UMDAJBeCBFqPK1SbWtP0TGvS6MdHpBR+h5orx9rtuRktxxY8AlbGhA7B5pAOrHFfw+RdYBO\n",
       "XLJtGhU0mEIVbB7uOMZ5JCxffTdjNPtFOkgmLfViFl4T+H6RB18/dgn5A42JcIxRhW37ADIFJzrn\n",
       "RIsMFvA73WBtIXEPUdnUOFyyT+DQgv/jMNX+Pv4ggqHydrzE18fqHr0On1TOJ8Py2hhKebgZtD8L\n",
       "ArHTG7AADueXwYEfAAAFOEGaI2xDf/6nhAHbGmgv4AndzS6kvqY8R3L1smqf5tv/qYu7rdXAcASP\n",
       "2cCGoSPnB5+vmVveNDkn9As0/jYWHWyWPKQ8ypeR88wP+DK6UvV1Gxp2NSVWV6Yso5PevKKH6LU2\n",
       "q6N4c/somx8b4O0Ycn1Tw2Q13SGz+Z87puCXe1Ww8a6QHBkPZ+82yLjUL37ICTDID3kYe5twMgva\n",
       "30s0fzKoA44E46lIjVfYVhRuslFdzPEEu8iEO+ojFYcbG0wF5EHGmebUvWwZNikL/N8IKGQEAAGJ\n",
       "d6OmwAE84T5yjozurN96C/gN2sGnT7cmQTFozAnwveMGq4Bht8WEqWW4X/dLldBo+4cg5ad3zP/5\n",
       "Gztev2GVbaS1iMEafilOuedwJ7eDVv3DuoqVZ5YQDGbid6fkp13c2LkcdrR2B8brsx624I3iM9PX\n",
       "/jXCKOfK81juEKrmPBCjFDTV6QvWGKmvr9f+DaFixDgMkYxXyTDalYe6mR/5ui4lNYrC2d3+lA7B\n",
       "MHur5+06y3+cqzqKA2EjgEp2u6uI35HaHbakEbEk2gca1KE/SP4966c48QHHxXDVLY13UfaTszhR\n",
       "r7WJXmweAJp1JZMhsj04LW8CMgB+635P7tXSUrze1AADFyJ/T/J8V9rb/KmD2wtGMh3p2N6LdDWF\n",
       "IuzNHzNbT5pPG3NeLoml1TskxX1yWa88ICp5xHXKySIXnUgDWZqHnp47vYS4lf7mf1eRlyv75lkm\n",
       "bgsfT/vtAmDxmFIfUPUlpcx1k9guRX/a/YnRNZkyjXdJhMwtIOhtK0o8N2Qdtqz3OaWPtWNCWXiu\n",
       "Yq12eZKcLFhlkGviWG9cHpUkybudhRcMq03wQbIRjx/z6kjjb9/xruVrIy/Dgi9z82fYNjgJTAGH\n",
       "xAE4u7SvbLWI3ufmHKoJ+sG36tOya3JK/HWsL9hDYR9hUj5hJYtbLEJjW6Uk+nYuomy/cIzdOWGM\n",
       "eJ2gbycUC1dhbyGJbQHIqBCTCUerJsJ1k/Dxtphsq4cWa9CFypDKYJLhMrs/LWYT63bT/Xp0YRnW\n",
       "nhotB0o4vnqPQ2+IA/j2LKrtyIeYbOUUKmQavPonz4e7XR4bQHc8J8shCjEjeCn7MbD+QtmoVpL5\n",
       "7+BtAdOn8HNvwhCqpVZFrDuEhUde+N9XJZ60J9KmmI1zbEW9SfRvB251tJJvU+fOMj8nYramPQ0Y\n",
       "ZvvUBOluG4dL4Xipmeu6N/1veUVeZvv5JPDT7Zij4HBzXviCl5zzNGPkJDdySncyanwV4dwd78yc\n",
       "0ut3Ghup8JCZY6A/GFHXC8IxUgbjo9EQy8dPr0lIWSw/NvO1wXArG69T3wBjt4vXDoTDAihUE1NT\n",
       "dPkesHyZIRu8RveEVdo5zQtv7kLsmUehFt6UYhuLzhGmWDom1nSUs5bXVEwL0B3u8zubzMzwxs1R\n",
       "Uln3PQ8zBWaMtE5ILwk30g5dnokDPn7QO6eqE1gwefzTZw0JzB8BDr/tLxe04G04dRph/Fw+VXVJ\n",
       "lvGHTbCJifo/MEQIPdfrMhmk0hPJZQGus9fmmEglBlcpyBGUfDw5M9RAW+t74G7cmPdu+X1Yylx3\n",
       "8/27P5Jq946djx48+CI7UShg4D2KPQdS+FBjmRbQne8JNl0Phq475kjYK7XqukRpg/MXx+aK+WwB\n",
       "MqyZn5Aat26Nx/RUwgMzFQSxoZVGEIxX8T1flI86HVXu3zNQm25y4cPaGH2B881/CD99ZZ0OkVLa\n",
       "/G0AnHH/Pmza+4/VE7PwnSg+XwHILSWhIrdY5wNkgAv66Vhs6uC35ngAAANtQZ5BeIV/AVh2g2Xk\n",
       "AHOGlui3zjCI2OwmMPA4N2ET78BEwtnpRdVpSmF7OPlh6z/NXWCi/D87OZONcPN6PhZ1G3PAo43Q\n",
       "RT1F1mjbQIMJ5QlPZWyMMbfaRrPdglx9KCIAAAUP8p3mOFlLW07a3nZSQtnDGQd7nOiCAji3MQgp\n",
       "sPCOCUHqne1+6+mCrTZpEHnXujQ2LhXlLNYzaY16oZkdsjZK5N+55ob+QXXwB0f1v19wg5kkX4oH\n",
       "Al+jQJ4gtZdsF3vah/6yG+SH8CVfzw1Q3B+K0OGj915R+0vBKiJ5wJcEVcGnCtxNlYjmJUTfgLto\n",
       "eiMN/I6Ek0j4FAvukEQX84k2eLDH4sAYThKdDrj+gxr2MlVWjHTFHyuBM2ohdHB+6b685fInMNQa\n",
       "keL/IRe51rXAHf0+l0ZZ7ronMgqR31kArvQ3QcTS6JzJs2Q7gJWSFRX3RIqceBb3o0dkQm6dkiJV\n",
       "IqR22P+CWG1YWMzq8ovWYZwPJHTknGZePkRdMtwCwF9mTOfcFiMv9xTS7a9/RMakJq+HSL0K0ctS\n",
       "ilBDF6QRGO6S6WRYQYdamFaES64uszCHvV1xA5inJ13wNkRntHNOcBvi+w6daLUhQ759iy5Lx1KO\n",
       "WI51rl5EFSnmhDH06fwtU/a8jMVjB4CLCgHBfRvi4G49u8uYGW7UWnRn6qw/CoYplOafWadFj1yK\n",
       "ZlCoixqX4tKFFr2Kh6gmJf5ZR42cRqeDMigUiiALb8KinF/bfx+nxHfK6A/JoxqqxxJC0CTOSdsX\n",
       "9mJ5uqPUt94vjSN6I/W5Ww7TH0jD0yCUI+Apfv6l5DOBJY0RRJ2P30NRfvPZQKxRh9YavC32CtRA\n",
       "cxakczySOepYzURR7VP6qNCBsxz5LTrZ/tXdVAsRQHHj4mzT3Anir6zRbb7rIwwf0AFHTN3kiD7N\n",
       "rha/G5f9YGpGHoawdq82AWMfgzrFxGm3+qt+nUB7Pa1gZzhrTXFaMzq/0e6tlNq4qc/hoObIDXuE\n",
       "h5ItPFyOTM43JQp1xS0qXXKy7CQtXRDsChgPCnL1bobv7kHKfRG18MQFvn9VU/99O+anN88lZvQL\n",
       "QEKfm2zyqVuG0okzuUcUMuA4QfzSszQz6H/JRYlElSJSsHCOv6PAtOui2kLiOMIHaz+m6A8J3rPU\n",
       "y9fdTfNQUAJAMQAAAEUBnmJqQn8CuBNXqG+Ag30G0HsKFZLR+oFSh4AAAjGInmPA/+VVETdWqNgC\n",
       "qXe4kyeXl3Mg9zMrxsnsZayr6FExJSVSGZAAAABSQZpnSahBaJlMCG///qeEAaDiC6QCYnf5X57x\n",
       "xr0eEfrP3vlfFd39FXevG/htkXL28GXM5/tMPzcrivHKmll8yhA8tLbCBfCnG+lRL0nGEvkIgQAA\n",
       "ACtBnoVFESwr/wD4Ae66n5dLU/+Qat2k0LpKoxNe9ivYdcpL0n2tHQzciF9xAAAAHwGepHRCfwFG\n",
       "RpUfhmGYUDYBL3t5SQqvyOEsC/xC/tEAAAAaAZ6makJ/ADOPMf1S+u5BmxGjWagTQDh8cYUAAAAl\n",
       "QZqrSahBbJlMCG///qeEADN2obTKkxCvA8k9lHhYA4eF4A5ywAAAACBBnslFFSwr/wAn3J6u53/m\n",
       "ts7o6pTGASVinXVQmwT/BgAAABkBnuh0Qn8AM36JzRnH3IGt+mxBHU2gd/xdAAAAFwGe6mpCfwAz\n",
       "jzH9UvruQZsRo0/QVDo+AAAAFEGa70moQWyZTAhv//6nhAAAAwHdAAAAHUGfDUUVLCv/ACfcnq7n\n",
       "f+a2zujqlMYA1xzEl7HXAAAAFwGfLHRCfwAzfonNGcfcga36bCniUOtJAAAAFwGfLmpCfwAzjzH9\n",
       "UvruQZsRo0/QVDo/AAAAFEGbM0moQWyZTAhv//6nhAAAAwHdAAAAHUGfUUUVLCv/ACfcnq7nf+a2\n",
       "zujqlMYA1xzEl7HXAAAAFwGfcHRCfwAzfonNGcfcga36bCniUOtJAAAAFwGfcmpCfwAzjzH9Uvru\n",
       "QZsRo0/QVDo+AAAAFEGbd0moQWyZTAhv//6nhAAAAwHdAAAAHUGflUUVLCv/ACfcnq7nf+a2zujq\n",
       "lMYA1xzEl7HXAAAAFwGftHRCfwAzfonNGcfcga36bCniUOtIAAAAFwGftmpCfwAzjzH9UvruQZsR\n",
       "o0/QVDo/AAAAFEGbu0moQWyZTAhv//6nhAAAAwHdAAAAHUGf2UUVLCv/ACfcnq7nf+a2zujqlMYA\n",
       "1xzEl7HXAAAAFwGf+HRCfwAzfonNGcfcga36bCniUOtJAAAAFwGf+mpCfwAzjzH9UvruQZsRo0/Q\n",
       "VDo+AAAAFEGb/0moQWyZTAhv//6nhAAAAwHdAAAAHUGeHUUVLCv/ACfcnq7nf+a2zujqlMYA1xzE\n",
       "l7HXAAAAFwGePHRCfwAzfonNGcfcga36bCniUOtIAAAAFwGePmpCfwAzjzH9UvruQZsRo0/QVDo+\n",
       "AAAAFEGaI0moQWyZTAhv//6nhAAAAwHdAAAAHUGeQUUVLCv/ACfcnq7nf+a2zujqlMYA1xzEl7HX\n",
       "AAAAFwGeYHRCfwAzfonNGcfcga36bCniUOtJAAAAFwGeYmpCfwAzjzH9UvruQZsRo0/QVDo+AAAA\n",
       "FEGaZ0moQWyZTAhv//6nhAAAAwHdAAAAHUGehUUVLCv/ACfcnq7nf+a2zujqlMYA1xzEl7HXAAAA\n",
       "FwGepHRCfwAzfonNGcfcga36bCniUOtJAAAAFwGepmpCfwAzjzH9UvruQZsRo0/QVDo/AAAAFEGa\n",
       "q0moQWyZTAhv//6nhAAAAwHdAAAAHUGeyUUVLCv/ACfcnq7nf+a2zujqlMYA1xzEl7HXAAAAFwGe\n",
       "6HRCfwAzfonNGcfcga36bCniUOtJAAAAFwGe6mpCfwAzjzH9UvruQZsRo0/QVDo+AAAAFEGa70mo\n",
       "QWyZTAhv//6nhAAAAwHdAAAAHUGfDUUVLCv/ACfcnq7nf+a2zujqlMYA1xzEl7HXAAAAFwGfLHRC\n",
       "fwAzfonNGcfcga36bCniUOtJAAAAFwGfLmpCfwAzjzH9UvruQZsRo0/QVDo/AAAAFEGbM0moQWyZ\n",
       "TAhv//6nhAAAAwHdAAAAHUGfUUUVLCv/ACfcnq7nf+a2zujqlMYA1xzEl7HXAAAAFwGfcHRCfwAz\n",
       "fonNGcfcga36bCniUOtJAAAAFwGfcmpCfwAzjzH9UvruQZsRo0/QVDo+AAAAFEGbd0moQWyZTAhv\n",
       "//6nhAAAAwHdAAAAHUGflUUVLCv/ACfcnq7nf+a2zujqlMYA1xzEl7HXAAAAFwGftHRCfwAzfonN\n",
       "Gcfcga36bCniUOtIAAAAFwGftmpCfwAzjzH9UvruQZsRo0/QVDo/AAAAFEGbu0moQWyZTAhv//6n\n",
       "hAAAAwHdAAAAHUGf2UUVLCv/ACfcnq7nf+a2zujqlMYA1xzEl7HXAAAAFwGf+HRCfwAzfonNGcfc\n",
       "ga36bCniUOtJAAAAFwGf+mpCfwAzjzH9UvruQZsRo0/QVDo+AAAAFEGb/0moQWyZTAhv//6nhAAA\n",
       "AwHdAAAAHUGeHUUVLCv/ACfcnq7nf+a2zujqlMYA1xzEl7HXAAAAFwGePHRCfwAzfonNGcfcga36\n",
       "bCniUOtIAAAAFwGePmpCfwAzjzH9UvruQZsRo0/QVDo+AAAAFEGaI0moQWyZTAhv//6nhAAAAwHd\n",
       "AAAAHUGeQUUVLCv/ACfcnq7nf+a2zujqlMYA1xzEl7HXAAAAFwGeYHRCfwAzfonNGcfcga36bCni\n",
       "UOtJAAAAFwGeYmpCfwAzjzH9UvruQZsRo0/QVDo+AAAAFEGaZ0moQWyZTAhv//6nhAAAAwHdAAAA\n",
       "HUGehUUVLCv/ACfcnq7nf+a2zujqlMYA1xzEl7HXAAAAFwGepHRCfwAzfonNGcfcga36bCniUOtJ\n",
       "AAAAFwGepmpCfwAzjzH9UvruQZsRo0/QVDo/AAAAFEGaq0moQWyZTAhv//6nhAAAAwHdAAAAHUGe\n",
       "yUUVLCv/ACfcnq7nf+a2zujqlMYA1xzEl7HXAAAAFwGe6HRCfwAzfonNGcfcga36bCniUOtJAAAA\n",
       "FwGe6mpCfwAzjzH9UvruQZsRo0/QVDo+AAAAFEGa70moQWyZTAhv//6nhAAAAwHdAAAAHUGfDUUV\n",
       "LCv/ACfcnq7nf+a2zujqlMYA1xzEl7HXAAAAFwGfLHRCfwAzfonNGcfcga36bCniUOtJAAAAFwGf\n",
       "LmpCfwAzjzH9UvruQZsRo0/QVDo/AAAAFEGbM0moQWyZTAhv//6nhAAAAwHdAAAAHUGfUUUVLCv/\n",
       "ACfcnq7nf+a2zujqlMYA1xzEl7HXAAAAFwGfcHRCfwAzfonNGcfcga36bCniUOtJAAAAFwGfcmpC\n",
       "fwAzjzH9UvruQZsRo0/QVDo+AAAAFEGbd0moQWyZTAhv//6nhAAAAwHdAAAAHUGflUUVLCv/ACfc\n",
       "nq7nf+a2zujqlMYA1xzEl7HXAAAAFwGftHRCfwAzfonNGcfcga36bCniUOtIAAAAFwGftmpCfwAz\n",
       "jzH9UvruQZsRo0/QVDo/AAAAFEGbu0moQWyZTAhv//6nhAAAAwHdAAAAHUGf2UUVLCv/ACfcnq7n\n",
       "f+a2zujqlMYA1xzEl7HXAAAAFwGf+HRCfwAzfonNGcfcga36bCniUOtJAAAAFwGf+mpCfwAzjzH9\n",
       "UvruQZsRo0/QVDo+AAAAFEGb/0moQWyZTAhv//6nhAAAAwHdAAAAHUGeHUUVLCv/ACfcnq7nf+a2\n",
       "zujqlMYA1xzEl7HXAAAAFwGePHRCfwAzfonNGcfcga36bCniUOtIAAAAFwGePmpCfwAzjzH9Uvru\n",
       "QZsRo0/QVDo+AAAAFEGaI0moQWyZTAhv//6nhAAAAwHdAAAAHUGeQUUVLCv/ACfcnq7nf+a2zujq\n",
       "lMYA1xzEl7HXAAAAFwGeYHRCfwAzfonNGcfcga36bCniUOtJAAAAFwGeYmpCfwAzjzH9UvruQZsR\n",
       "o0/QVDo+AAAAFEGaZ0moQWyZTAhv//6nhAAAAwHdAAAAHUGehUUVLCv/ACfcnq7nf+a2zujqlMYA\n",
       "1xzEl7HXAAAAFwGepHRCfwAzfonNGcfcga36bCniUOtJAAAAFwGepmpCfwAzjzH9UvruQZsRo0/Q\n",
       "VDo/AAAAFEGaq0moQWyZTAhv//6nhAAAAwHdAAAAHUGeyUUVLCv/ACfcnq7nf+a2zujqlMYA1xzE\n",
       "l7HXAAAAFwGe6HRCfwAzfonNGcfcga36bCniUOtJAAAAFwGe6mpCfwAzjzH9UvruQZsRo0/QVDo+\n",
       "AAAAFEGa70moQWyZTAhv//6nhAAAAwHdAAAAHUGfDUUVLCv/ACfcnq7nf+a2zujqlMYA1xzEl7HX\n",
       "AAAAFwGfLHRCfwAzfonNGcfcga36bCniUOtJAAAAFwGfLmpCfwAzjzH9UvruQZsRo0/QVDo/AAAA\n",
       "FEGbM0moQWyZTAhv//6nhAAAAwHdAAAAHUGfUUUVLCv/ACfcnq7nf+a2zujqlMYA1xzEl7HXAAAA\n",
       "FwGfcHRCfwAzfonNGcfcga36bCniUOtJAAAAFwGfcmpCfwAzjzH9UvruQZsRo0/QVDo+AAAAFEGb\n",
       "d0moQWyZTAhv//6nhAAAAwHdAAAAHUGflUUVLCv/ACfcnq7nf+a2zujqlMYA1xzEl7HXAAAAFwGf\n",
       "tHRCfwAzfonNGcfcga36bCniUOtIAAAAFwGftmpCfwAzjzH9UvruQZsRo0/QVDo/AAAAFEGbu0mo\n",
       "QWyZTAhv//6nhAAAAwHdAAAAHUGf2UUVLCv/ACfcnq7nf+a2zujqlMYA1xzEl7HXAAAAFwGf+HRC\n",
       "fwAzfonNGcfcga36bCniUOtJAAAAFwGf+mpCfwAzjzH9UvruQZsRo0/QVDo+AAAAFEGb/0moQWyZ\n",
       "TAhv//6nhAAAAwHdAAAAHUGeHUUVLCv/ACfcnq7nf+a2zujqlMYA1xzEl7HXAAAAFwGePHRCfwAz\n",
       "fonNGcfcga36bCniUOtIAAAAFwGePmpCfwAzjzH9UvruQZsRo0/QVDo+AAAAFEGaI0moQWyZTAhv\n",
       "//6nhAAAAwHdAAAAHUGeQUUVLCv/ACfcnq7nf+a2zujqlMYA1xzEl7HXAAAAFwGeYHRCfwAzfonN\n",
       "Gcfcga36bCniUOtJAAAAFwGeYmpCfwAzjzH9UvruQZsRo0/QVDo+AAAAFEGaZ0moQWyZTAhv//6n\n",
       "hAAAAwHdAAAAHUGehUUVLCv/ACfcnq7nf+a2zujqlMYA1xzEl7HXAAAAFwGepHRCfwAzfonNGcfc\n",
       "ga36bCniUOtJAAAAFwGepmpCfwAzjzH9UvruQZsRo0/QVDo/AAAAFEGaq0moQWyZTAhv//6nhAAA\n",
       "AwHdAAAAHUGeyUUVLCv/ACfcnq7nf+a2zujqlMYA1xzEl7HXAAAAFwGe6HRCfwAzfonNGcfcga36\n",
       "bCniUOtJAAAAFwGe6mpCfwAzjzH9UvruQZsRo0/QVDo+AAAAFEGa70moQWyZTAhv//6nhAAAAwHd\n",
       "AAAAHUGfDUUVLCv/ACfcnq7nf+a2zujqlMYA1xzEl7HXAAAAFwGfLHRCfwAzfonNGcfcga36bCni\n",
       "UOtJAAAAFwGfLmpCfwAzjzH9UvruQZsRo0/QVDo/AAAAFEGbM0moQWyZTAhv//6nhAAAAwHdAAAA\n",
       "HUGfUUUVLCv/ACfcnq7nf+a2zujqlMYA1xzEl7HXAAAAFwGfcHRCfwAzfonNGcfcga36bCniUOtJ\n",
       "AAAAFwGfcmpCfwAzjzH9UvruQZsRo0/QVDo+AAAAFEGbd0moQWyZTAhv//6nhAAAAwHdAAAAHUGf\n",
       "lUUVLCv/ACfcnq7nf+a2zujqlMYA1xzEl7HXAAAAFwGftHRCfwAzfonNGcfcga36bCniUOtIAAAA\n",
       "FwGftmpCfwAzjzH9UvruQZsRo0/QVDo/AAAAFEGbu0moQWyZTAhv//6nhAAAAwHdAAAAHUGf2UUV\n",
       "LCv/ACfcnq7nf+a2zujqlMYA1xzEl7HXAAAAFwGf+HRCfwAzfonNGcfcga36bCniUOtJAAAAFwGf\n",
       "+mpCfwAzjzH9UvruQZsRo0/QVDo+AAAAFEGb/0moQWyZTAhv//6nhAAAAwHdAAAAHUGeHUUVLCv/\n",
       "ACfcnq7nf+a2zujqlMYA1xzEl7HXAAAAFwGePHRCfwAzfonNGcfcga36bCniUOtIAAAAFwGePmpC\n",
       "fwAzjzH9UvruQZsRo0/QVDo+AAAAFEGaI0moQWyZTAhv//6nhAAAAwHdAAAAHUGeQUUVLCv/ACfc\n",
       "nq7nf+a2zujqlMYA1xzEl7HXAAAAFwGeYHRCfwAzfonNGcfcga36bCniUOtJAAAAFwGeYmpCfwAz\n",
       "jzH9UvruQZsRo0/QVDo+AAAAFEGaZ0moQWyZTAhv//6nhAAAAwHdAAAAHUGehUUVLCv/ACfcnq7n\n",
       "f+a2zujqlMYA1xzEl7HXAAAAFwGepHRCfwAzfonNGcfcga36bCniUOtJAAAAFwGepmpCfwAzjzH9\n",
       "UvruQZsRo0/QVDo/AAAAFEGaq0moQWyZTAhv//6nhAAAAwHdAAAAHUGeyUUVLCv/ACfcnq7nf+a2\n",
       "zujqlMYA1xzEl7HXAAAAFwGe6HRCfwAzfonNGcfcga36bCniUOtJAAAAFwGe6mpCfwAzjzH9Uvru\n",
       "QZsRo0/QVDo+AAAAE0Ga70moQWyZTAhn//6eEAAAB0wAAAAdQZ8NRRUsK/8AJ9yerud/5rbO6OqU\n",
       "xgDXHMSXsdcAAAAXAZ8sdEJ/ADN+ic0Zx9yBrfpsKeJQ60kAAAAXAZ8uakJ/ADOPMf1S+u5BmxGj\n",
       "T9BUOj8AAAAUQZszSahBbJlMCE///fEAAAMARcAAAAAdQZ9RRRUsK/8AJ9yerud/5rbO6OqUxgDX\n",
       "HMSXsdcAAAAXAZ9wdEJ/ADN+ic0Zx9yBrfpsKeJQ60kAAAAXAZ9yakJ/ADOPMf1S+u5BmxGjT9BU\n",
       "Oj4AAAuabW9vdgAAAGxtdmhkAAAAAAAAAAAAAAAAAAAD6AAAF3AAAQAAAQAAAAAAAAAAAAAAAAEA\n",
       "AAAAAAAAAAAAAAAAAAABAAAAAAAAAAAAAAAAAABAAAAAAAAAAAAAAAAAAAAAAAAAAAAAAAAAAAAA\n",
       "AAAAAgAACsR0cmFrAAAAXHRraGQAAAADAAAAAAAAAAAAAAABAAAAAAAAF3AAAAAAAAAAAAAAAAAA\n",
       "AAAAAAEAAAAAAAAAAAAAAAAAAAABAAAAAAAAAAAAAAAAAABAAAAAAbAAAAEgAAAAAAAkZWR0cwAA\n",
       "ABxlbHN0AAAAAAAAAAEAABdwAAAEAAABAAAAAAo8bWRpYQAAACBtZGhkAAAAAAAAAAAAAAAAAAA8\n",
       "AAABaABVxAAAAAAALWhkbHIAAAAAAAAAAHZpZGUAAAAAAAAAAAAAAABWaWRlb0hhbmRsZXIAAAAJ\n",
       "521pbmYAAAAUdm1oZAAAAAEAAAAAAAAAAAAAACRkaW5mAAAAHGRyZWYAAAAAAAAAAQAAAAx1cmwg\n",
       "AAAAAQAACadzdGJsAAAAt3N0c2QAAAAAAAAAAQAAAKdhdmMxAAAAAAAAAAEAAAAAAAAAAAAAAAAA\n",
       "AAAAAbABIABIAAAASAAAAAAAAAABAAAAAAAAAAAAAAAAAAAAAAAAAAAAAAAAAAAAAAAAAAAAGP//\n",
       "AAAANWF2Y0MBZAAV/+EAGGdkABWs2UGwloQAAAMABAAAAwDwPFi2WAEABmjr48siwP34+AAAAAAc\n",
       "dXVpZGtoQPJfJE/FujmlG88DI/MAAAAAAAAAGHN0dHMAAAAAAAAAAQAAALQAAAIAAAAAFHN0c3MA\n",
       "AAAAAAAAAQAAAAEAAAWoY3R0cwAAAAAAAACzAAAAAQAABAAAAAABAAAIAAAAAAIAAAIAAAAAAQAA\n",
       "CgAAAAABAAAEAAAAAAEAAAAAAAAAAQAAAgAAAAABAAAKAAAAAAEAAAQAAAAAAQAAAAAAAAABAAAC\n",
       "AAAAAAEAAAoAAAAAAQAABAAAAAABAAAAAAAAAAEAAAIAAAAAAQAACgAAAAABAAAEAAAAAAEAAAAA\n",
       "AAAAAQAAAgAAAAABAAAKAAAAAAEAAAQAAAAAAQAAAAAAAAABAAACAAAAAAEAAAoAAAAAAQAABAAA\n",
       "AAABAAAAAAAAAAEAAAIAAAAAAQAACgAAAAABAAAEAAAAAAEAAAAAAAAAAQAAAgAAAAABAAAKAAAA\n",
       "AAEAAAQAAAAAAQAAAAAAAAABAAACAAAAAAEAAAoAAAAAAQAABAAAAAABAAAAAAAAAAEAAAIAAAAA\n",
       "AQAACgAAAAABAAAEAAAAAAEAAAAAAAAAAQAAAgAAAAABAAAKAAAAAAEAAAQAAAAAAQAAAAAAAAAB\n",
       "AAACAAAAAAEAAAoAAAAAAQAABAAAAAABAAAAAAAAAAEAAAIAAAAAAQAACgAAAAABAAAEAAAAAAEA\n",
       "AAAAAAAAAQAAAgAAAAABAAAKAAAAAAEAAAQAAAAAAQAAAAAAAAABAAACAAAAAAEAAAoAAAAAAQAA\n",
       "BAAAAAABAAAAAAAAAAEAAAIAAAAAAQAACgAAAAABAAAEAAAAAAEAAAAAAAAAAQAAAgAAAAABAAAK\n",
       "AAAAAAEAAAQAAAAAAQAAAAAAAAABAAACAAAAAAEAAAoAAAAAAQAABAAAAAABAAAAAAAAAAEAAAIA\n",
       "AAAAAQAACgAAAAABAAAEAAAAAAEAAAAAAAAAAQAAAgAAAAABAAAKAAAAAAEAAAQAAAAAAQAAAAAA\n",
       "AAABAAACAAAAAAEAAAoAAAAAAQAABAAAAAABAAAAAAAAAAEAAAIAAAAAAQAACgAAAAABAAAEAAAA\n",
       "AAEAAAAAAAAAAQAAAgAAAAABAAAKAAAAAAEAAAQAAAAAAQAAAAAAAAABAAACAAAAAAEAAAoAAAAA\n",
       "AQAABAAAAAABAAAAAAAAAAEAAAIAAAAAAQAACgAAAAABAAAEAAAAAAEAAAAAAAAAAQAAAgAAAAAB\n",
       "AAAKAAAAAAEAAAQAAAAAAQAAAAAAAAABAAACAAAAAAEAAAoAAAAAAQAABAAAAAABAAAAAAAAAAEA\n",
       "AAIAAAAAAQAACgAAAAABAAAEAAAAAAEAAAAAAAAAAQAAAgAAAAABAAAKAAAAAAEAAAQAAAAAAQAA\n",
       "AAAAAAABAAACAAAAAAEAAAoAAAAAAQAABAAAAAABAAAAAAAAAAEAAAIAAAAAAQAACgAAAAABAAAE\n",
       "AAAAAAEAAAAAAAAAAQAAAgAAAAABAAAKAAAAAAEAAAQAAAAAAQAAAAAAAAABAAACAAAAAAEAAAoA\n",
       "AAAAAQAABAAAAAABAAAAAAAAAAEAAAIAAAAAAQAACgAAAAABAAAEAAAAAAEAAAAAAAAAAQAAAgAA\n",
       "AAABAAAKAAAAAAEAAAQAAAAAAQAAAAAAAAABAAACAAAAAAEAAAoAAAAAAQAABAAAAAABAAAAAAAA\n",
       "AAEAAAIAAAAAAQAACgAAAAABAAAEAAAAAAEAAAAAAAAAAQAAAgAAAAABAAAKAAAAAAEAAAQAAAAA\n",
       "AQAAAAAAAAABAAACAAAAAAEAAAoAAAAAAQAABAAAAAABAAAAAAAAAAEAAAIAAAAAAQAACgAAAAAB\n",
       "AAAEAAAAAAEAAAAAAAAAAQAAAgAAAAABAAAKAAAAAAEAAAQAAAAAAQAAAAAAAAABAAACAAAAAAEA\n",
       "AAoAAAAAAQAABAAAAAABAAAAAAAAAAEAAAIAAAAAAQAACgAAAAABAAAEAAAAAAEAAAAAAAAAAQAA\n",
       "AgAAAAABAAAKAAAAAAEAAAQAAAAAAQAAAAAAAAABAAACAAAAABxzdHNjAAAAAAAAAAEAAAABAAAA\n",
       "tAAAAAEAAALkc3RzegAAAAAAAAAAAAAAtAAAE3QAAAU8AAADcQAAAEkAAABWAAAALwAAACMAAAAe\n",
       "AAAAKQAAACQAAAAdAAAAGwAAABgAAAAhAAAAGwAAABsAAAAYAAAAIQAAABsAAAAbAAAAGAAAACEA\n",
       "AAAbAAAAGwAAABgAAAAhAAAAGwAAABsAAAAYAAAAIQAAABsAAAAbAAAAGAAAACEAAAAbAAAAGwAA\n",
       "ABgAAAAhAAAAGwAAABsAAAAYAAAAIQAAABsAAAAbAAAAGAAAACEAAAAbAAAAGwAAABgAAAAhAAAA\n",
       "GwAAABsAAAAYAAAAIQAAABsAAAAbAAAAGAAAACEAAAAbAAAAGwAAABgAAAAhAAAAGwAAABsAAAAY\n",
       "AAAAIQAAABsAAAAbAAAAGAAAACEAAAAbAAAAGwAAABgAAAAhAAAAGwAAABsAAAAYAAAAIQAAABsA\n",
       "AAAbAAAAGAAAACEAAAAbAAAAGwAAABgAAAAhAAAAGwAAABsAAAAYAAAAIQAAABsAAAAbAAAAGAAA\n",
       "ACEAAAAbAAAAGwAAABgAAAAhAAAAGwAAABsAAAAYAAAAIQAAABsAAAAbAAAAGAAAACEAAAAbAAAA\n",
       "GwAAABgAAAAhAAAAGwAAABsAAAAYAAAAIQAAABsAAAAbAAAAGAAAACEAAAAbAAAAGwAAABgAAAAh\n",
       "AAAAGwAAABsAAAAYAAAAIQAAABsAAAAbAAAAGAAAACEAAAAbAAAAGwAAABgAAAAhAAAAGwAAABsA\n",
       "AAAYAAAAIQAAABsAAAAbAAAAGAAAACEAAAAbAAAAGwAAABgAAAAhAAAAGwAAABsAAAAYAAAAIQAA\n",
       "ABsAAAAbAAAAGAAAACEAAAAbAAAAGwAAABgAAAAhAAAAGwAAABsAAAAYAAAAIQAAABsAAAAbAAAA\n",
       "GAAAACEAAAAbAAAAGwAAABgAAAAhAAAAGwAAABsAAAAXAAAAIQAAABsAAAAbAAAAGAAAACEAAAAb\n",
       "AAAAGwAAABRzdGNvAAAAAAAAAAEAAAAwAAAAYnVkdGEAAABabWV0YQAAAAAAAAAhaGRscgAAAAAA\n",
       "AAAAbWRpcmFwcGwAAAAAAAAAAAAAAAAtaWxzdAAAACWpdG9vAAAAHWRhdGEAAAABAAAAAExhdmY1\n",
       "OC42NS4xMDE=\n",
       "\">\n",
       "  Your browser does not support the video tag.\n",
       "</video>"
      ],
      "text/plain": [
       "<IPython.core.display.HTML object>"
      ]
     },
     "execution_count": 43,
     "metadata": {},
     "output_type": "execute_result"
    }
   ],
   "source": [
    "from matplotlib import animation, rc\n",
    "from IPython.display import HTML\n",
    "HTML(points_output.anim.to_html5_video())"
   ]
  },
  {
   "cell_type": "code",
   "execution_count": null,
   "id": "noticed-isolation",
   "metadata": {},
   "outputs": [],
   "source": []
  }
 ],
 "metadata": {
  "colab": {
   "collapsed_sections": [],
   "name": "Copy of Wing Kinematics.ipynb",
   "provenance": []
  },
  "kernelspec": {
   "display_name": "Python 3",
   "language": "python",
   "name": "python3"
  },
  "language_info": {
   "codemirror_mode": {
    "name": "ipython",
    "version": 3
   },
   "file_extension": ".py",
   "mimetype": "text/x-python",
   "name": "python",
   "nbconvert_exporter": "python",
   "pygments_lexer": "ipython3",
   "version": "3.8.5"
  }
 },
 "nbformat": 4,
 "nbformat_minor": 5
}

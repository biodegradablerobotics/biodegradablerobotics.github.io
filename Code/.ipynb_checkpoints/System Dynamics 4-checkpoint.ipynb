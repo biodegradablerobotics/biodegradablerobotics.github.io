{
 "cells": [
  {
   "cell_type": "markdown",
   "id": "saved-respect",
   "metadata": {},
   "source": [
    "## Setup"
   ]
  },
  {
   "cell_type": "code",
   "execution_count": 1,
   "id": "closing-entry",
   "metadata": {
    "colab": {
     "base_uri": "https://localhost:8080/"
    },
    "id": "pi7Co6-jBLqJ",
    "outputId": "3e0b02e5-7b83-4a8a-fb4e-f100a21e47fb"
   },
   "outputs": [],
   "source": [
    "#pip install pynamics"
   ]
  },
  {
   "cell_type": "code",
   "execution_count": 2,
   "id": "exclusive-innocent",
   "metadata": {
    "id": "frequent-douglas"
   },
   "outputs": [],
   "source": [
    "%matplotlib inline\n",
    "import scipy.optimize\n",
    "import pynamics\n",
    "from pynamics.frame import Frame\n",
    "from pynamics.variable_types import Differentiable,Constant\n",
    "from pynamics.system import System\n",
    "from pynamics.body import Body\n",
    "from pynamics.dyadic import Dyadic\n",
    "from pynamics.output import Output,PointsOutput\n",
    "from pynamics.particle import Particle\n",
    "import pynamics.integration\n",
    "import numpy\n",
    "import sympy\n",
    "import matplotlib.pyplot as plt\n",
    "from matplotlib.patches import Arc\n",
    "plt.ion()\n",
    "from math import pi, sin, cos, tan, asin, acos, atan, degrees, radians, pi, sqrt"
   ]
  },
  {
   "cell_type": "markdown",
   "id": "animal-raise",
   "metadata": {},
   "source": [
    "## System"
   ]
  },
  {
   "cell_type": "code",
   "execution_count": 3,
   "id": "supposed-empty",
   "metadata": {},
   "outputs": [],
   "source": [
    "# Create a pynamics system\n",
    "system = System()\n",
    "pynamics.set_system(__name__,system)"
   ]
  },
  {
   "cell_type": "code",
   "execution_count": 4,
   "id": "comparable-smile",
   "metadata": {},
   "outputs": [],
   "source": [
    "# Length variables (numerical)\n",
    "lAa_num = 0.05\n",
    "lAb_num = 0.1\n",
    "lBa_num = 0.05\n",
    "lBb_num = 0.1\n",
    "lC_num = 0.165\n",
    "lD_num = 0.165\n",
    "lE_num = 0.045\n",
    "\n",
    "# Lengths\n",
    "lAa = Constant(lAa_num,'lAa',system)\n",
    "lAb = Constant(lAb_num,'lAb',system)\n",
    "lBa = Constant(lBa_num,'lBa',system)\n",
    "lBb = Constant(lBb_num,'lBb',system)\n",
    "lC = Constant(lC_num,'lC',system)\n",
    "lD = Constant(lD_num,'lD',system)\n",
    "lE = Constant(lE_num,'lE',system)"
   ]
  },
  {
   "cell_type": "code",
   "execution_count": 5,
   "id": "secret-guidance",
   "metadata": {},
   "outputs": [],
   "source": [
    "# Masses\n",
    "# r = 149kg/m3\n",
    "mAa = Constant(0.00447,'mAa',system) # 0.00447000 \n",
    "mAb = Constant(0.00894,'mAb',system) # 0.00894000 \n",
    "mBa = Constant(0.00626,'mBa',system) # 0.00625800\n",
    "mBb = Constant(0.00894,'mBb',system) # 0.00894000 \n",
    "mC = Constant(0.0148,'mC',system) # 0.01475100\n",
    "mD = Constant(0.0148,'mD',system) # 0.01475100\n",
    "\n",
    "# Joint preloads\n",
    "preloadN = Constant(-90*pi/180,'preloadN',system)\n",
    "preload0 = Constant(0*pi/180,'preload0',system)\n",
    "preloadA = Constant(0*pi/180,'preloadA',system)\n",
    "preload1 = Constant(0*pi/180,'preload1',system)\n",
    "preloadB = Constant(0*pi/180,'preloadB',system)\n",
    "preload4 = Constant(0*pi/180,'preload4',system)\n",
    "preload3 = Constant(0*pi/180,'preload3',system)\n",
    "\n",
    "# Inertia\n",
    "Ixx_Aa = Constant(0.0000336,'Ixx_Aa',system) # 0.00003355\n",
    "Iyy_Aa = Constant(0.0000373,'Iyy_Aa',system) # 0.00003725\n",
    "Izz_Aa = Constant(0.0000038,'Izz_Aa',system) # 0.00000375\n",
    "Ixx_Ab = Constant(0.0000671,'Ixx_Ab',system) # 0.00006710\n",
    "Iyy_Ab = Constant(0.0000969,'Iyy_Ab',system) # 0.00009685\n",
    "Izz_Ab = Constant(0.0000299,'Izz_Ab',system) # 0.00002985\n",
    "\n",
    "Ixx_Ba = Constant(0.0000441,'Ixx_Ba',system) # 0.00004405\n",
    "Iyy_Ba = Constant(0.0000484,'Iyy_Ba',system) # 0.00004840\n",
    "Izz_Ba = Constant(0.0000045,'Izz_Ba',system) # 0.00000453\n",
    "Ixx_Bb = Constant(0.0000671,'Ixx_Bb',system) # 0.00006710\n",
    "Iyy_Bb = Constant(0.0000969,'Iyy_Bb',system) # 0.00009685\n",
    "Izz_Bb = Constant(0.0000299,'Izz_Bb',system) # 0.00002985\n",
    "\n",
    "Ixx_C = Constant(0.0001107,'Ixx_C',system) # 0.00011071\n",
    "Iyy_C = Constant(0.0002445,'Iyy_C',system) # 0.00024450\n",
    "Izz_C = Constant(0.000134,'Izz_C',system) # 0.00013394\n",
    "\n",
    "Ixx_D = Constant(0.0001107,'Ixx_D',system) # 0.00011071\n",
    "Iyy_D = Constant(0.0002445,'Iyy_D',system) # 0.00024450\n",
    "Izz_D = Constant(0.0001339,'Izz_D',system) # 0.00013394"
   ]
  },
  {
   "cell_type": "code",
   "execution_count": 6,
   "id": "colonial-wilson",
   "metadata": {},
   "outputs": [],
   "source": [
    "# Create differentiable state variables\n",
    "qx,qx_d,qx_dd = Differentiable('qx',system)\n",
    "qN,qN_d,qN_dd = Differentiable('qN',system)\n",
    "\n",
    "qAa,qAa_d,qAa_dd = Differentiable('qAa',system)\n",
    "qAb,qAb_d,qAb_dd = Differentiable('qAb',system)\n",
    "\n",
    "qBa,qBa_d,qBa_dd = Differentiable('qBa',system)\n",
    "qBb,qBb_d,qBb_dd = Differentiable('qBb',system)\n",
    "\n",
    "qC,qC_d,qC_dd = Differentiable('qC',system)\n",
    "\n",
    "qD,qD_d,qD_dd = Differentiable('qD',system)"
   ]
  },
  {
   "cell_type": "code",
   "execution_count": 7,
   "id": "attempted-mechanics",
   "metadata": {},
   "outputs": [],
   "source": [
    "# initial values\n",
    "# qC = 11.97 creates fully extended, horizontal wing\n",
    "initialvalues = {}\n",
    "initialvalues[qx]=0\n",
    "initialvalues[qx_d]=0\n",
    "initialvalues[qN]=-90*pi/180\n",
    "initialvalues[qN_d]=0*pi/180\n",
    "\n",
    "initialvalues[qAa]=45*pi/180\n",
    "initialvalues[qAa_d]=0*pi/180\n",
    "initialvalues[qAb]=0*pi/180\n",
    "initialvalues[qAb_d]=0*pi/180\n",
    "\n",
    "initialvalues[qBa]=0*pi/180\n",
    "initialvalues[qBa_d]=0*pi/180\n",
    "initialvalues[qBb]=0*pi/180\n",
    "initialvalues[qBb_d]=0*pi/180\n",
    "\n",
    "#initialvalues[qC]=14.65*pi/180\n",
    "initialvalues[qC]=(90-16.69)*pi/180\n",
    "initialvalues[qC_d]=0*pi/180\n",
    "\n",
    "initialvalues[qD]=-70.16*pi/180\n",
    "initialvalues[qD_d]=0*pi/180"
   ]
  },
  {
   "cell_type": "code",
   "execution_count": 8,
   "id": "extraordinary-leave",
   "metadata": {},
   "outputs": [],
   "source": [
    "# Retrieve state variables in the order they are stored in the system\n",
    "# Create a list of initial values ini0 in the order of the system’s state variables\n",
    "statevariables = system.get_state_variables()\n",
    "ini0 = [initialvalues[item] for item in statevariables]"
   ]
  },
  {
   "cell_type": "code",
   "execution_count": 9,
   "id": "thousand-assurance",
   "metadata": {},
   "outputs": [],
   "source": [
    "# Create frames\n",
    "N0 = Frame('N0')\n",
    "N = Frame('N')\n",
    "Aa = Frame('Aa')\n",
    "Ab = Frame('Ab')\n",
    "\n",
    "Ba = Frame('Ba')\n",
    "Bb = Frame('Bb')\n",
    "\n",
    "C = Frame('C')\n",
    "D = Frame('D')"
   ]
  },
  {
   "cell_type": "code",
   "execution_count": 10,
   "id": "documented-subject",
   "metadata": {},
   "outputs": [],
   "source": [
    "# Declare N as the Newtonian (fixed) frame\n",
    "system.set_newtonian(N0)"
   ]
  },
  {
   "cell_type": "code",
   "execution_count": 11,
   "id": "first-equilibrium",
   "metadata": {},
   "outputs": [],
   "source": [
    "# Rotate other frames about their local Z axes.\n",
    "# Not global q\n",
    "N.rotate_fixed_axis_directed(N0,[0,0,1],qN,system)\n",
    "Aa.rotate_fixed_axis_directed(N,[0,0,1],qAa,system)\n",
    "Ab.rotate_fixed_axis_directed(Aa,[0,0,1],qAb,system)\n",
    "\n",
    "Ba.rotate_fixed_axis_directed(Ab,[0,0,1],qBa,system)\n",
    "Bb.rotate_fixed_axis_directed(Ba,[0,0,1],qBb,system)\n",
    "\n",
    "C.rotate_fixed_axis_directed(Bb,[0,0,1],qC,system)\n",
    "D.rotate_fixed_axis_directed(C,[0,0,1],qD,system)"
   ]
  },
  {
   "cell_type": "code",
   "execution_count": 12,
   "id": "accomplished-madrid",
   "metadata": {},
   "outputs": [],
   "source": [
    "# Define rigid body kinematics\n",
    "# position vectors\n",
    "p0 = qx*N0.x #Normal\n",
    "pA = p0 + lAa*Aa.x #Normal\n",
    "p1 = pA + lAb*Ab.x #Link A\n",
    "pB = p1 + lBa*Ba.x #Link A\n",
    "p2A = pB + lBb*Bb.x #Link B - OUTPUT\n",
    "p4 = p0 + lE*N.y #Link E\n",
    "p3 = p4 + lC*C.x #Link C\n",
    "p2C = p3 + lD*D.x #Link D - OUTPUT"
   ]
  },
  {
   "cell_type": "code",
   "execution_count": 13,
   "id": "single-anniversary",
   "metadata": {},
   "outputs": [],
   "source": [
    "# CoM vectors\n",
    "pAacom=p0 + lAa/2*Aa.x #Link Aa\n",
    "pAbcom=pA + lAb/2*Ab.x #Link Ab\n",
    "\n",
    "pBacom=p1 + 0.0207*Ba.x + 0.00314*Ba.y #Link Ba # 0.02071429x 0.00314286y\n",
    "pBbcom=pB + lBb*Bb.x #Link Bb\n",
    "\n",
    "pCcom=p4 + lC/2*C.x #Link Ca\n",
    "pDcom=p3 + lD/2*D.x #Link Da"
   ]
  },
  {
   "cell_type": "code",
   "execution_count": 14,
   "id": "specified-gibraltar",
   "metadata": {},
   "outputs": [],
   "source": [
    "# Angular Velocity\n",
    "wN0N = N0.getw_(N)\n",
    "wNAa = N.getw_(Aa)\n",
    "wAaAb = Aa.getw_(Ab)\n",
    "\n",
    "wAbBa = Ab.getw_(Ba)\n",
    "wBaBb = Ba.getw_(Bb)\n",
    "\n",
    "wNC = N.getw_(C)\n",
    "wCD = C.getw_(D)"
   ]
  },
  {
   "cell_type": "code",
   "execution_count": 15,
   "id": "imposed-advocate",
   "metadata": {},
   "outputs": [],
   "source": [
    "# Build inertia tensors\n",
    "IAa = Dyadic.build(Aa,Ixx_Aa,Iyy_Aa,Izz_Aa)\n",
    "IAb = Dyadic.build(Ab,Ixx_Ab,Iyy_Ab,Izz_Ab)\n",
    "\n",
    "IBa = Dyadic.build(Ba,Ixx_Ba,Iyy_Ba,Izz_Ba)\n",
    "IBb = Dyadic.build(Bb,Ixx_Bb,Iyy_Bb,Izz_Bb)\n",
    "\n",
    "IC = Dyadic.build(C,Ixx_C,Iyy_C,Izz_C)\n",
    "ID = Dyadic.build(D,Ixx_D,Iyy_D,Izz_D)\n",
    "\n",
    "BodyAa = Body('BodyAa',Aa,pAacom,mAa,IAa,system)\n",
    "BodyAb = Body('BodyAb',Ab,pAbcom,mAb,IAb,system)\n",
    "\n",
    "BodyBa = Body('BodyBa',Ba,pBacom,mBa,IBa,system)\n",
    "BodyBb = Body('BodyBb',Bb,pBbcom,mBb,IBb,system)\n",
    "\n",
    "BodyC = Body('BodyC',C,pCcom,mC,IC,system)\n",
    "BodyD = Body('BodyD',D,pDcom,mD,ID,system)\n",
    "#BodyC = Particle(pCcm,mC,'ParticleC',system)"
   ]
  },
  {
   "cell_type": "markdown",
   "id": "nonprofit-polish",
   "metadata": {},
   "source": [
    "## Forces"
   ]
  },
  {
   "cell_type": "code",
   "execution_count": 16,
   "id": "transparent-romania",
   "metadata": {},
   "outputs": [
    {
     "data": {
      "text/plain": [
       "<pynamics.force.Force at 0x29ff0ce7130>"
      ]
     },
     "execution_count": 16,
     "metadata": {},
     "output_type": "execute_result"
    }
   ],
   "source": [
    "# Motor Torque\n",
    "t_switch = 0.3\n",
    "T1 = -0.1\n",
    "T2 = 0.2\n",
    "dT = T2-T1\n",
    "\n",
    "cond = system.t-t_switch\n",
    "cond_s = (cond+abs(cond))\n",
    "on = cond_s/(2*cond+1e-4)\n",
    "system.addforce((dT*on+T1)*N.z,wNAa)"
   ]
  },
  {
   "cell_type": "code",
   "execution_count": 17,
   "id": "danish-redhead",
   "metadata": {},
   "outputs": [],
   "source": [
    "# Spring Forces\n",
    "kbase = Constant(1e-4,'kbase',system)\n",
    "kjoint = Constant(1e-3,'kjoint',system)\n",
    "kbend = Constant(6,'kbend',system)\n",
    "klim = Constant(3,'klim',system)\n",
    "\n",
    "dK = kbase-klim"
   ]
  },
  {
   "cell_type": "code",
   "execution_count": 18,
   "id": "bizarre-accent",
   "metadata": {},
   "outputs": [
    {
     "data": {
      "text/plain": [
       "(<pynamics.force.Force at 0x29ff0cfbee0>,\n",
       " <pynamics.spring.Spring at 0x29ff0cfbe20>)"
      ]
     },
     "execution_count": 18,
     "metadata": {},
     "output_type": "execute_result"
    }
   ],
   "source": [
    "system.add_spring_force1(1000000,(qN-preloadN)*N0.z,wN0N) # qA\n",
    "system.add_spring_force1(kbase,(qAa-preload0)*N.z,wNAa) # qA\n",
    "system.add_spring_force1(kbend,(qAb-preloadA)*Aa.z,wAaAb)  # virtual A\n",
    "\n",
    "system.add_spring_force1(dK*on+klim,(qBa-preload1)*Ab.z,wAbBa) # Limiter\n",
    "#system.add_spring_force1(kbase,(qBa-preload1)*Ab.z,wAbBa) # Limiter Torque off\n",
    "\n",
    "system.add_spring_force1(kbend,(qBb-preloadB)*Ba.z,wBaBb) # virtual B\n",
    "\n",
    "system.add_spring_force1(kbase,(qC-preload4)*N.z,wNC) # qC\n",
    "system.add_spring_force1(kjoint,(qD-preload3)*C.z,wCD) # qD"
   ]
  },
  {
   "cell_type": "code",
   "execution_count": 19,
   "id": "negative-circumstances",
   "metadata": {},
   "outputs": [],
   "source": [
    "# Damping\n",
    "bbase = Constant(1e-2,'bbase',system)\n",
    "bjoint = Constant(1e-2,'bjoint',system)"
   ]
  },
  {
   "cell_type": "code",
   "execution_count": 20,
   "id": "stock-synthetic",
   "metadata": {},
   "outputs": [
    {
     "data": {
      "text/plain": [
       "<pynamics.force.Force at 0x29ff0adddc0>"
      ]
     },
     "execution_count": 20,
     "metadata": {},
     "output_type": "execute_result"
    }
   ],
   "source": [
    "system.addforce(-bbase*wNAa,wNAa) # qA\n",
    "system.addforce(-bjoint*wAbBa,wAbBa) # qB\n",
    "system.addforce(-bbase*wNC,wNC) # qC\n",
    "system.addforce(-bjoint*wCD,wCD) # qD"
   ]
  },
  {
   "cell_type": "code",
   "execution_count": 21,
   "id": "blind-emerald",
   "metadata": {},
   "outputs": [],
   "source": [
    "# Aerodynamic Forces\n",
    "rho = Constant(1.225,'rho',system) # air density\n",
    "w = Constant(0.15,'w',system) # width or chord length"
   ]
  },
  {
   "cell_type": "code",
   "execution_count": 22,
   "id": "color-express",
   "metadata": {},
   "outputs": [],
   "source": [
    "vAacom= pAacom.time_derivative(N0,system)\n",
    "vAacom2= pAacom.dot(vAacom)\n",
    "vAbcom= pAbcom.time_derivative(N0,system)\n",
    "vAbcom2= pAbcom.dot(vAbcom)\n",
    "\n",
    "vBacom= pBacom.time_derivative(N0,system)\n",
    "vBacom2= pBacom.dot(vBacom)\n",
    "vBbcom= pBbcom.time_derivative(N0,system)\n",
    "vBbcom2= pBbcom.dot(vBbcom)\n",
    "\n",
    "vCcom= pCcom.time_derivative(N0,system)\n",
    "vCcom2= pCcom.dot(vCcom)\n",
    "vDcom= pDcom.time_derivative(N0,system)\n",
    "vDcom2= pDcom.dot(vDcom)"
   ]
  },
  {
   "cell_type": "code",
   "execution_count": 23,
   "id": "indirect-migration",
   "metadata": {},
   "outputs": [],
   "source": [
    "vAadx = vAacom.dot(Aa.x)\n",
    "vAbdx = vAbcom.dot(Ab.x)\n",
    "vBadx = vBacom.dot(Ba.x)\n",
    "vBbdx = vBbcom.dot(Bb.x)\n",
    "vCdx = vCcom.dot(C.x)\n",
    "vDdx = vDcom.dot(D.x)\n",
    "\n",
    "vAady = vAacom.dot(-Aa.y)\n",
    "vAbdy = vAbcom.dot(-Ab.y)\n",
    "vBady = vBacom.dot(-Ba.y)\n",
    "vBbdy = vBbcom.dot(-Bb.y)\n",
    "vCdy = vCcom.dot(-C.y)\n",
    "vDdy = vDcom.dot(-D.y)"
   ]
  },
  {
   "cell_type": "code",
   "execution_count": 24,
   "id": "silver-atlas",
   "metadata": {},
   "outputs": [],
   "source": [
    "tolv = 1e-10"
   ]
  },
  {
   "cell_type": "code",
   "execution_count": 25,
   "id": "freelance-walnut",
   "metadata": {},
   "outputs": [],
   "source": [
    "aoa_Aa = sympy.atan2(vAady+tolv,vAadx)\n",
    "aoa_Ab = sympy.atan2(vAbdy+tolv,vAbdx)\n",
    "aoa_Ba = sympy.atan2(vBady+tolv,vBadx)\n",
    "aoa_Bb = sympy.atan2(vBbdy+tolv,vBbdx)\n",
    "aoa_C = sympy.atan2(vCdy+tolv,vCdx)\n",
    "aoa_D = sympy.atan2(vDdy+tolv,vDdx)"
   ]
  },
  {
   "cell_type": "raw",
   "id": "naked-sending",
   "metadata": {},
   "source": [
    "aero_Aa = rho*vAacom2*sympy.sin(aoa_Aa)*w*lAa*Aa.y\n",
    "system.addforce(aero_Aa,vAacom)\n",
    "\n",
    "aero_Ab = rho*vAbcom2*sympy.sin(aoa_Ab)*w*lAb*Ab.y\n",
    "system.addforce(aero_Ab,vAbcom)\n",
    "\n",
    "aero_Ba = rho*vBacom2*sympy.sin(aoa_Ba)*w*lBa*Ba.y\n",
    "system.addforce(aero_Ba,vBacom)\n",
    "\n",
    "aero_Bb = rho*vBbcom2*sympy.sin(aoa_Bb)*w*lBb*Bb.y\n",
    "system.addforce(aero_Bb,vBbcom)\n",
    "\n",
    "aero_C = rho*vCcom2*sympy.sin(aoa_C)*w*lC*C.y\n",
    "system.addforce(aero_C,vCcom)\n",
    "\n",
    "aero_D = rho*vDcom2*sympy.sin(aoa_D)*w*lD*D.y\n",
    "system.addforce(aero_D,vDcom)"
   ]
  },
  {
   "cell_type": "raw",
   "id": "filled-vehicle",
   "metadata": {},
   "source": [
    "# Gravity\n",
    "g = Constant(9.81,'g',system)\n",
    "system.addforcegravity(-g*N.y)"
   ]
  },
  {
   "cell_type": "markdown",
   "id": "amino-fleet",
   "metadata": {},
   "source": [
    "## Constraints"
   ]
  },
  {
   "cell_type": "code",
   "execution_count": 26,
   "id": "minus-region",
   "metadata": {},
   "outputs": [],
   "source": [
    "# ptipup = 0.547*N.x+0.547*N.y"
   ]
  },
  {
   "cell_type": "code",
   "execution_count": 27,
   "id": "relative-roads",
   "metadata": {},
   "outputs": [],
   "source": [
    "# Constraints\n",
    "eq_vector = p2A-p2C\n",
    "eq = []\n",
    "eq.append((eq_vector).dot(N.x))\n",
    "eq.append((eq_vector).dot(N.y))\n",
    "eq_d=[(system.derivative(item)) for item in eq]\n",
    "eq_dd=[(system.derivative(item)) for item in eq_d]\n",
    "\n",
    "eq2_vector = Ab.x-Ba.x\n",
    "eq2 = []\n",
    "eq2.append((eq2_vector).dot(N.x))\n",
    "eq2.append((eq2_vector).dot(N.y))\n",
    "eq2_d=[(system.derivative(item)) for item in eq2]\n",
    "eq2_dd=[(system.derivative(item)) for item in eq2_d]\n",
    "\n",
    "eq3_vector = N.z-N0.x\n",
    "eq3 = []\n",
    "eq3.append((eq3_vector).dot(N0.x))\n",
    "eq3.append((eq3_vector).dot(N0.y))\n",
    "eq3_d=[(system.derivative(item)) for item in eq3]\n",
    "eq3_dd=[(system.derivative(item)) for item in eq3_d]"
   ]
  },
  {
   "cell_type": "markdown",
   "id": "flying-aspect",
   "metadata": {},
   "source": [
    "## Solve for valid initial condition"
   ]
  },
  {
   "cell_type": "code",
   "execution_count": 28,
   "id": "driven-china",
   "metadata": {},
   "outputs": [],
   "source": [
    "# Declare a list of points that will be used for plotting\n",
    "points = [p0, pA, p1, pB, p2A, p3, p4]"
   ]
  },
  {
   "cell_type": "code",
   "execution_count": 29,
   "id": "cardiovascular-priority",
   "metadata": {},
   "outputs": [],
   "source": [
    "# Identify independent and dependent variables\n",
    "qi = [qAa, qC]\n",
    "qd = [qx, qN, qAb, qBa, qBb, qD]"
   ]
  },
  {
   "cell_type": "code",
   "execution_count": 30,
   "id": "accredited-aerospace",
   "metadata": {},
   "outputs": [],
   "source": [
    "# Create a copy of symbolic constants dictionary and add the initial value of qi to it\n",
    "constants = system.constant_values.copy()\n",
    "defined = dict([(item,initialvalues[item]) for item in qi])\n",
    "constants.update(defined)"
   ]
  },
  {
   "cell_type": "code",
   "execution_count": 31,
   "id": "meaning-blank",
   "metadata": {},
   "outputs": [],
   "source": [
    "# Substitute constants in equation\n",
    "eq = [item.subs(constants) for item in eq]\n",
    "eq2 = [item.subs(constants) for item in eq2]\n",
    "eq3 = [item.subs(constants) for item in eq3]"
   ]
  },
  {
   "cell_type": "code",
   "execution_count": 32,
   "id": "effective-grain",
   "metadata": {},
   "outputs": [],
   "source": [
    "# Convert to numpy array\n",
    "# Sum the error\n",
    "#error = (numpy.array(eq)**2).sum() + (numpy.array(eq2)**2).sum() + (numpy.array(eq3)**2).sum()\n",
    "error = (numpy.array(eq)**2).sum() + (numpy.array(eq3)**2).sum()"
   ]
  },
  {
   "cell_type": "code",
   "execution_count": 33,
   "id": "brutal-rings",
   "metadata": {},
   "outputs": [],
   "source": [
    "# Convert to a function that scipy can use.\n",
    "# Sympy has a “labmdify” function that evaluates an expression, but scipy needs a slightly different format.\n",
    "f = sympy.lambdify(qd,error)\n",
    "\n",
    "def function(args):\n",
    "    return f(*args)"
   ]
  },
  {
   "cell_type": "code",
   "execution_count": 34,
   "id": "distant-tradition",
   "metadata": {},
   "outputs": [
    {
     "name": "stderr",
     "output_type": "stream",
     "text": [
      "2021-04-11 15:13:17,979 - pynamics.output - INFO - calculating outputs\n",
      "2021-04-11 15:13:17,981 - pynamics.output - INFO - done calculating outputs\n"
     ]
    },
    {
     "data": {
      "text/plain": [
       "array([[[ 0.00000000e+00,  0.00000000e+00],\n",
       "        [ 3.53553391e-02, -3.53553391e-02],\n",
       "        [ 1.06066017e-01, -1.06066017e-01],\n",
       "        [ 1.41421356e-01, -1.41421356e-01],\n",
       "        [ 2.12132034e-01, -2.12132034e-01],\n",
       "        [ 1.90265108e-01,  7.82499092e-02],\n",
       "        [ 4.50000000e-02,  2.75545530e-18]],\n",
       "\n",
       "       [[ 0.00000000e+00,  0.00000000e+00],\n",
       "        [ 3.53553391e-02, -3.53553391e-02],\n",
       "        [ 1.06124042e-01, -1.06007944e-01],\n",
       "        [ 1.20165410e-01, -1.53995859e-01],\n",
       "        [ 7.95451964e-02, -2.45374184e-01],\n",
       "        [ 1.70173854e-01, -1.07501192e-01],\n",
       "        [ 4.50000000e-02,  2.75545530e-18]]])"
      ]
     },
     "execution_count": 34,
     "metadata": {},
     "output_type": "execute_result"
    }
   ],
   "source": [
    "# Take the derivative of the equations to linearize with regard to the velocity variables\n",
    "guess = [initialvalues[item] for item in qd]\n",
    "result = scipy.optimize.minimize(function,guess)\n",
    "#if result.fun>1e-3:\n",
    "#    raise(Exception(\"out of tolerance\"))\n",
    "ini = []\n",
    "for item in system.get_state_variables():\n",
    "    if item in qd:\n",
    "        ini.append(result.x[qd.index(item)])\n",
    "    else:\n",
    "        ini.append(initialvalues[item])\n",
    "points = PointsOutput(points, constant_values=system.constant_values)\n",
    "points.calc(numpy.array([ini0,ini]))\n",
    "#points.plot_time()"
   ]
  },
  {
   "cell_type": "code",
   "execution_count": 35,
   "id": "french-change",
   "metadata": {},
   "outputs": [
    {
     "data": {
      "text/plain": [
       "1.000000000145318"
      ]
     },
     "execution_count": 35,
     "metadata": {},
     "output_type": "execute_result"
    }
   ],
   "source": [
    "result.fun"
   ]
  },
  {
   "cell_type": "code",
   "execution_count": 36,
   "id": "swedish-teaching",
   "metadata": {},
   "outputs": [],
   "source": [
    "# Valid initial condition\n",
    "x = numpy.array([points.y[1][0][0], points.y[1][1][0], points.y[1][2][0], points.y[1][3][0], points.y[1][4][0], points.y[1][5][0], points.y[1][6][0], 0])\n",
    "y = numpy.array([points.y[1][0][1], points.y[1][1][1], points.y[1][2][1], points.y[1][3][1], points.y[1][4][1], points.y[1][5][1], points.y[1][6][1], 0])\n",
    "# prettyplot(x,y)"
   ]
  },
  {
   "cell_type": "markdown",
   "id": "coordinate-barbados",
   "metadata": {},
   "source": [
    "## Solution"
   ]
  },
  {
   "cell_type": "code",
   "execution_count": 37,
   "id": "clinical-chester",
   "metadata": {},
   "outputs": [
    {
     "name": "stderr",
     "output_type": "stream",
     "text": [
      "2021-04-11 15:13:18,064 - pynamics.system - INFO - getting dynamic equations\n"
     ]
    }
   ],
   "source": [
    "# F=ma\n",
    "f,ma = system.getdynamics()"
   ]
  },
  {
   "cell_type": "code",
   "execution_count": 38,
   "id": "chronic-token",
   "metadata": {},
   "outputs": [
    {
     "name": "stderr",
     "output_type": "stream",
     "text": [
      "2021-04-11 15:13:19,034 - pynamics.system - INFO - solving a = f/m and creating function\n",
      "2021-04-11 15:13:19,041 - pynamics.system - INFO - substituting constrained in Ma-f.\n",
      "2021-04-11 15:13:27,035 - pynamics.system - INFO - done solving a = f/m and creating function\n",
      "2021-04-11 15:13:27,036 - pynamics.system - INFO - calculating function for lambdas\n"
     ]
    }
   ],
   "source": [
    "# Acceleration\n",
    "func1,lambda1 = system.state_space_post_invert(f,ma,eq_dd,return_lambda = True)"
   ]
  },
  {
   "cell_type": "code",
   "execution_count": 39,
   "id": "tribal-league",
   "metadata": {},
   "outputs": [],
   "source": [
    "# Integration Tolerance\n",
    "tol = 1e-3"
   ]
  },
  {
   "cell_type": "code",
   "execution_count": 40,
   "id": "eligible-bikini",
   "metadata": {},
   "outputs": [],
   "source": [
    "# Time\n",
    "tinitial = 0\n",
    "tfinal = 1\n",
    "#tfinal = 4 # torque off\n",
    "fps = 30\n",
    "tstep = 1/fps\n",
    "t = numpy.r_[tinitial:tfinal:tstep]"
   ]
  },
  {
   "cell_type": "code",
   "execution_count": 41,
   "id": "scientific-backup",
   "metadata": {},
   "outputs": [
    {
     "name": "stderr",
     "output_type": "stream",
     "text": [
      "2021-04-11 15:13:27,086 - pynamics.integration - INFO - beginning integration\n",
      "2021-04-11 15:13:27,086 - pynamics.system - INFO - integration at time 0000.00\n",
      "2021-04-11 15:13:42,621 - pynamics.system - INFO - integration at time 0000.00\n",
      "C:\\Anaconda3\\lib\\site-packages\\scipy\\integrate\\odepack.py:247: ODEintWarning: Excess work done on this call (perhaps wrong Dfun type). Run with full_output = 1 to get quantitative information.\n",
      "  warnings.warn(warning_msg, ODEintWarning)\n",
      "2021-04-11 15:13:51,162 - pynamics.integration - INFO - finished integration\n"
     ]
    }
   ],
   "source": [
    "# Integrate\n",
    "states=pynamics.integration.integrate(func1,ini,t,rtol=tol,atol=tol, args=({'constants':system.constant_values},))"
   ]
  },
  {
   "cell_type": "code",
   "execution_count": 42,
   "id": "rocky-spectacular",
   "metadata": {},
   "outputs": [
    {
     "data": {
      "text/plain": [
       "<matplotlib.legend.Legend at 0x29ff269ee50>"
      ]
     },
     "execution_count": 42,
     "metadata": {},
     "output_type": "execute_result"
    },
    {
     "data": {
      "image/png": "[encoded data removed]",
      "text/plain": [
       "<Figure size 432x288 with 1 Axes>"
      ]
     },
     "metadata": {
      "needs_background": "light"
     },
     "output_type": "display_data"
    }
   ],
   "source": [
    "# Outputs\n",
    "plt.figure()\n",
    "artists = plt.plot(t,states[:,:4])\n",
    "plt.legend(artists,['qAa','qAb','qBa','qBb','qC','qD'])"
   ]
  },
  {
   "cell_type": "raw",
   "id": "included-chance",
   "metadata": {},
   "source": [
    "# Energy\n",
    "KE = system.get_KE()\n",
    "PE = system.getPEGravity(p0) - system.getPESprings()\n",
    "energy_output = Output([KE-PE],system)\n",
    "energy_output.calc(states)\n",
    "energy_output.plot_time()"
   ]
  },
  {
   "cell_type": "code",
   "execution_count": 43,
   "id": "herbal-component",
   "metadata": {},
   "outputs": [
    {
     "name": "stderr",
     "output_type": "stream",
     "text": [
      "2021-04-11 15:13:51,351 - pynamics.output - INFO - calculating outputs\n",
      "2021-04-11 15:13:51,359 - pynamics.output - INFO - done calculating outputs\n"
     ]
    },
    {
     "data": {
      "image/png": "[encoded data removed]",
      "text/plain": [
       "<Figure size 432x288 with 1 Axes>"
      ]
     },
     "metadata": {
      "needs_background": "light"
     },
     "output_type": "display_data"
    }
   ],
   "source": [
    "# Motion\n",
    "points = [p0,pA,p1,pB,p2A,p3,p4]\n",
    "points_output = PointsOutput(points,system)\n",
    "y = points_output.calc(states)\n",
    "points_output.plot_time(20)"
   ]
  },
  {
   "cell_type": "code",
   "execution_count": 44,
   "id": "literary-festival",
   "metadata": {},
   "outputs": [
    {
     "data": {
      "image/png": "[encoded data removed]",
      "text/plain": [
       "<Figure size 432x288 with 1 Axes>"
      ]
     },
     "metadata": {
      "needs_background": "light"
     },
     "output_type": "display_data"
    }
   ],
   "source": [
    "# Motion Animation\n",
    "points_output.animate(fps = fps,movie_name = 'render.mp4',lw=2,marker='o',color=(1,0,0,1),linestyle='-')"
   ]
  },
  {
   "cell_type": "code",
   "execution_count": 45,
   "id": "ceramic-arkansas",
   "metadata": {},
   "outputs": [
    {
     "data": {
      "text/html": [
       "<video width=\"432\" height=\"288\" controls autoplay loop>\n",
       "  <source type=\"video/mp4\" src=\"data:video/mp4;base64,AAAAIGZ0eXBNNFYgAAACAE00ViBpc29taXNvMmF2YzEAAAAIZnJlZQAAHX9tZGF0AAACrgYF//+q\n",
       "3EXpvebZSLeWLNgg2SPu73gyNjQgLSBjb3JlIDE2MSByMzAzMyAwZDc1NGVjIC0gSC4yNjQvTVBF\n",
       "Ry00IEFWQyBjb2RlYyAtIENvcHlsZWZ0IDIwMDMtMjAyMCAtIGh0dHA6Ly93d3cudmlkZW9sYW4u\n",
       "b3JnL3gyNjQuaHRtbCAtIG9wdGlvbnM6IGNhYmFjPTEgcmVmPTMgZGVibG9jaz0xOjA6MCBhbmFs\n",
       "eXNlPTB4MzoweDExMyBtZT1oZXggc3VibWU9NyBwc3k9MSBwc3lfcmQ9MS4wMDowLjAwIG1peGVk\n",
       "X3JlZj0xIG1lX3JhbmdlPTE2IGNocm9tYV9tZT0xIHRyZWxsaXM9MSA4eDhkY3Q9MSBjcW09MCBk\n",
       "ZWFkem9uZT0yMSwxMSBmYXN0X3Bza2lwPTEgY2hyb21hX3FwX29mZnNldD0tMiB0aHJlYWRzPTkg\n",
       "bG9va2FoZWFkX3RocmVhZHM9MSBzbGljZWRfdGhyZWFkcz0wIG5yPTAgZGVjaW1hdGU9MSBpbnRl\n",
       "cmxhY2VkPTAgYmx1cmF5X2NvbXBhdD0wIGNvbnN0cmFpbmVkX2ludHJhPTAgYmZyYW1lcz0zIGJf\n",
       "cHlyYW1pZD0yIGJfYWRhcHQ9MSBiX2JpYXM9MCBkaXJlY3Q9MSB3ZWlnaHRiPTEgb3Blbl9nb3A9\n",
       "MCB3ZWlnaHRwPTIga2V5aW50PTI1MCBrZXlpbnRfbWluPTI1IHNjZW5lY3V0PTQwIGludHJhX3Jl\n",
       "ZnJlc2g9MCByY19sb29rYWhlYWQ9NDAgcmM9Y3JmIG1idHJlZT0xIGNyZj0yMy4wIHFjb21wPTAu\n",
       "NjAgcXBtaW49MCBxcG1heD02OSBxcHN0ZXA9NCBpcF9yYXRpbz0xLjQwIGFxPTE6MS4wMACAAAAQ\n",
       "sGWIhAA3//728P4FNjuY0JcRzeidMx+/Fbi6NDe9zgAAAwAAN9zmRP7OnQdv81dgAAjy+V8Jo/+g\n",
       "CH59EVkkDDyv39xTaJHCXNQDHbePOwGfnpF2gU32neoS1b3/+u21qEWZPScjuNPXhaYyulMFTscX\n",
       "WamNGLCzaqPnQTFTuskBAD5KpYqAdI8B0ydYpfANwrJyd1g7bogRh2t62pys7k4Y1qQrp4ptKxlN\n",
       "53zN6NVqDGI7dGk7YzK3rRAmw0G35oREdKZ4XcuC6w1CFbbgFzRR9Ulv+xr3Qf43Tjydrn0ALa9t\n",
       "az8aYMDRposZRw/cOYLSf6LagGok9X8FQu5agoUsQRzTxGcAboMatOt6RfI+bgwCf0gu9rACqwad\n",
       "ZYakUrni2ZWM3GCKiaNPMQADcHJ7IjuL4XguGjISNp9MUkIgArLtsmxYSwoje8IeEGg+Xy/OS+hh\n",
       "d3aJUQ9GbuLv/y0tCGiqd/tYksVYTJ8XnHgDbD+no8PlIY2+0DFNynzikdnaff42Bs7gfE51q7Rf\n",
       "2VWOUGO5KBuZhmvZaNj7reSZOLh0+O7OIfmCm+5UyTrENl/54wntHwhhTClyUD5rveA7rLKJCLRo\n",
       "3Qvr69M/9mQpKp5dw6nOrJ8/2E3UYzwzE318FZBazA4bll0pO0zQaUokc0apdL8a3eunJ6CSqhwk\n",
       "7iPgcksx096AGrLp6ym9noz/Vs8pv6WRtxmZKrFd5oDkPOUumTMkN6jbHqTpkCrURSsDficqEQhU\n",
       "bqMAyrb6vrMCsBkhlvPwChiB/O6ysEEIkdSNzVv2Ck4t6N6OIH6GI+DZTZCoK1CogfR4b5oWx3/4\n",
       "wptyQqsFwMz1sfoh+Dj7mGBymaU+zSB+Ha1WT/3AqZXeXzSqukInoCAc/OEUfFuM9HrAiYpJdVZV\n",
       "ymXNjbQL3R+bUMZRiZPJ0UxmCDuWH7pTBYgP9nPb2YwAaGL8qGe2gos97HBbC9l8zskHWKIT3Ba6\n",
       "XkS0u4K/z+4ZG1Gcw1RT8xzPitH27JcsSjv7gj9hrkQ71NuFbodL2sGqrkw8rKvwl7WslDb7oOpN\n",
       "f2AR+FqWPLDVUJfKBxxIAmQTpOJ42jTMWf+smggyCZIwYDmn+dBPWJgVIGUqKy1Xe9YNNeEbGNX4\n",
       "SNvwikupI17OleUWkByxdV38qbSWTVhb3G77yyO3Vvdh62BQxq+W2+dlQdH7+pNSUhE4XbmrwQUg\n",
       "Z15IBgy6lOuhK6Ai+83vnWUqFzz1GHShOp8bVqqQZUokakCThyypu+2JnUYkKncafy1MT/48xJlm\n",
       "UuQauAx0kBcdb8CPdSG3XNyUGkbfi3x3vCkiIpIZzPtiHaR/JDIzG+/WGWm6nGS65fpBxDh07yDw\n",
       "gfDmSQWRk8kR2xTMW5p69zq0AZPGspq935RVDcK703jTivSd/5XglB7vOPL8x3m7mCe4F8TLq+0+\n",
       "2cWdCTuxS3iYJsImw9zO576jvaIQ1xd7BvzLIoWdNGc6UshmVRcJvBPSD2sA6aX5xT9NDqP3Xwvw\n",
       "F9l7hkH6CZHgjmCKKF55LHBRA6jTy/yKHHnExxfnz15i9IFvLAM0AtcilXiJbcqiWQZfvFsplj35\n",
       "+VHIh7iyAvSJ/oHHFmXkQsjHTJijSSpktDruw308olgndpknOuOwCj4o3tSQ6qygHj6zBBPJ73ef\n",
       "/fNBHE3+9EZCmsg6mD96KS1Gz/gU4qPVyt8Ceo7a6WDe5T0qY4CtFBoRFcSKjoqDHt/PmM2+AXhx\n",
       "kILgmwnlWMQUxiUnO2eswNHhu/KizNML46lpl2L9TQbJpVOPWkndRS352og1TS5zolj4HDxJh3D3\n",
       "F6M7C0F63s+MfF4Za1enmKzd1LbmifRqd6y6KWv6r2pqW9lgIBpLKoBu5uVApRKdZ1IKUI/Fyml7\n",
       "tQWQbsSbzBRyDN+EHHsiN4Bq9EWx7mubxyBT0+tmWDGLyH7eoqOgonAYDRumVJc5xrMRALR+r9Xg\n",
       "+VwbV0tiG9Xx+OnF6X5hYYhrMaFSruqrpXsuEN071CtNEqOZXRn4FRv3t2M+1XjDzo5B8PJ6twsf\n",
       "ErolGOrn5LMJv3CpsFCrSpczdAM1IHx3pmiGTxfkHUU8qc9qEY+X+iIvuCHnjYgZb45bQ2SMYYZt\n",
       "2zDxDP7VyoOh3bF72AlqKkm/Xcfb2EVzC37JxPcBOA2sHUUmO0QzKu912wV9erPtQ6klKcoDcHug\n",
       "THQnxS74f+/np43ZL7bqnUppSo3r6hlAL/PLqcE5Ln6WlxBFZ3oK+/LHZRnN37nb00gJdB9zJasU\n",
       "98HWC4u3Gg41eKA3CXvCVNQagDHWDb6All/0UrVY7oc66PToyOBN71xPiPMggyas6aneTWhp8OqT\n",
       "ZzeJrspfCN1LSoP0NWT5sxNgmdT62lnRaM4EG3bWvnUHHoNv3MIstyhpqUDEAYJ24HM1bcIDNoiS\n",
       "HHVcN3LSN5mZ+F69e+nEBxsCqSdN19j6l74S99/tPUtZVMp3nyH5O5n4xamAxsq5dk2gW7f5IKep\n",
       "l9CfULnj11TU1dMKLBf/K780u4I+rJdTLm/rLpHga90toqKwUcA822i/pR9tqERJiFxtzgAsR8Ls\n",
       "xjYibAILUE0YlTSJyMQm+jLmHkdK2xkzhHPj0jnwAZtjuS1dpN+cRQBJDDg8HpiL9IVtGo3exFto\n",
       "Dr+bcbKhFFig7OGnUOQpy2+9hB2xbOHE4LE1SUbrNS9WCo3j8pSiGHpNo87pFJXpsPEcJ7JSrXtg\n",
       "ADBUr062SZ4mBJ+KKEqb0XIVSIdw+KrX98FMLRsI75t0c3nP4tH6VBIKMUqM+ASKjuPWNIWvb8M1\n",
       "smK1JV1hraEqu8rZKp+yYFlpsyOpt4lR2Gz7VY0cFVbnMMJxX5yHFiDxuQW12MfE40iDjPDEJ699\n",
       "y9jHcaytpWgdQ3tf2VVQErRNFb61pq1RtTVA9L7AwO+PYYws1+P9odaBbd8XmRs3LmN5cRSOd6x/\n",
       "L2BaPTnwDIoQpXuY8VCqydYK4oxaDojDKG/8aQDCKXNLh8BBvFY/3BgMdeFfhYZoDu/qo3FBADmP\n",
       "I5PQD+4Z4mk9d6LomUzUh6i919ipwwqJQKhh94FTx1hKREoeyBAbXMMDHD+hqfWs+ktYMGEg9rjI\n",
       "ZoO5LueZhg3nIycpEWyAf+k4LbLeEo1ZYVzZb/gdG8yISWYYgWXnviriKQaWIq6FIK55FFNeVsBT\n",
       "OrjMrRKAF8uTPptou4U0jaV6VbxdTcstrgRjrZsXkv1unEoLgZXj5K/Rok/Sl1uhscIRTJB4frdk\n",
       "xc3BBs5YhHn2nGnefN9JIZFd0/4csc2t//wBKYPJtlp6DRXV6+wlBa/dqygkACmz6ohGTc+8o4Dv\n",
       "RJGQMPXGnlI8DWppFgyqSAbmpX/h3ld0oekAiwo8Zy+xkZHQ6hR1j1ty43R8H/HQ9e+KumgOKUiX\n",
       "y6XS1FM4zjf+XYV8Gr7Ty2PYF9WIaW0Jj/f5rMxyCQsE3aL9f/7Kr23nzrqQLASjd36SARTLxmtl\n",
       "twESwm9zmSKxeeOlsIT2NRdIMI9i+EQeOTg2NGZbEUVrQPH5sr2m9rbjaFcvEUs8tbvKgSFcqmj6\n",
       "bkZtiWO4q/8KTFevyo/YkOc6rAHHjOwRBEJKAgZj3saQzmVjlbfTaXIGnBK8UUhheYibMd9gxl2j\n",
       "j0S03D3WUp7Dcsk5GvOitpA7r2cH9YfJAnOmK1wX+SwGAhopFfC0b6d/uxIr0I0+mz3FsCRjDT7E\n",
       "eZHvHqO4SATnPS5YQS/U8FWGCa/eO5ZDrJ7oyC7TzeCn5FzPYkGw0u2v1a5elwyWkLoj26LwyzC2\n",
       "GnQFF5T/atG8F5wLqS/QDuowbPvNNCwzhoVibKj8yIDVH+zrXG2rX3dfNtWjjOiw6cQfrzmyXFf7\n",
       "iJKNTycjydKlSk4HDJAKrkLN7VCjS8gTwIWM7aR6v+1RmQ8zaRKSwmb2EHh8ipeRErZyqMB/B4DF\n",
       "cn0POb9A6t497nm+rJOoK5kPfpbFX0IcCGeLBV94r1SE6ICT8ItAYL5RsEhSdD//aM1zgGHdp+Oh\n",
       "UgRBAXMB02GbCXbtNsG7nSg8ssEkyRkoguoh3421eVKt/OeB//4smfp89i3UpBz0ylABmHw8jwb4\n",
       "7EZSa6iAENvhy98tANnQXhmhhOhGKo29RssPL5cr+8gmKRXQHlCwG6MlTXkqGZG/377M8MalH4a5\n",
       "H+MQeh4plbGaUADmpz90jDMWq30U/ZP44qP2IgkAR9sLNR+QbvBXHVl35+gsh+7vR5SXqPAguzBx\n",
       "LVGlBdJJRhfT6WfQ3bXzkrmSFYjaQbd7uS+pFs8+QXQf07RTCG/UM+SbFQF8j+sHklVIORUVNjxY\n",
       "QUcPciqVBhIPIWtDkU1ByiBalfan6GjVAxLb8BQz42NlOMwC0HjzTFcT/tWAER+/SWdYQ2x/+79G\n",
       "6qzRzzL8d3109YSf1+Oo6oiCQ8d4VfUXMcCCxXsgg5RE6fL1FSUSM6j4p2s9x44NKS0lyfO8FSi0\n",
       "tn/nUa+l4B8F3zapQQ6koy89eYrtnqtz586cUnC0FNHWShUlcLot+OSBEgNkSZUeY5fvNybEt/lF\n",
       "j+tlrFQYE93m8mkRqTRN6NwVj1fr/2CWY8EQidbId904vhcZ/MnPrD/yx9+DYk0AHN8gB+wIrl04\n",
       "L0k/zPyYnNbw2RvMOxzipZiQ5Ax7rFMr0lVCNoWfRZSuVZjxCy2jet+6NdQDl1pImht5LGIEhAMn\n",
       "eMwpcvBdyzmCa5LRQFu5ETg7ZwzKPNOy1DkCHap8E0WtOJs/WztDAsdoxPRcXLvwI0rB/fvxYzd4\n",
       "Z/scOj6IYag+oEyG1FWxEg2Unhg8VYokvaGPli7WFrw8TDVNnGGRUFz+6FU8JLCdv5FYG24SDTfo\n",
       "RjF8f6dG3Sr2Op6FomxwZph6tsHe0HW4xzOVyyenhSjBhlVWerEYyCsT947ebf8LDqY8NYAWgbZO\n",
       "lhPsLK2u0WDi05OmQxZdx0pDBZPWq+mOwLdAhB4PNMhlc51Ps0Zy9Q1xKJ+sjxCg/b5fNYvBUpsU\n",
       "jv/F5JUH/HIOtzDhSDKj+wSraPblkdyXPDUWn6P3EK1q1hxjfaR1uz24cscb/F1f1nt5wNp5xbuO\n",
       "+/9hAzLKr7bGa2XMCTuJ2yZKj9rGy28vJoSUWAkICyXKRNQza0dIETijWHxyfcJtCz7I5uS+Nm9V\n",
       "J4IlCr686A72z7hLS+2YgFAlEuZE6lFD48v1ls1L3jVhh5hVRe1ZnvnNayyNM4pLY55SrWGeP8Eo\n",
       "TpsVuYDvV66rRR7xsPpznu2Fy6qUD/DsbWnAwoxFjUnM85x5Gpnjuj3y6nNoDUrAZ5lo4zCXNzef\n",
       "iSt4NO9QriUxo5ifs1ntLahxnjso/ymKi3TAMIHHglI1pwZsX7Y9UKva9s/3TH+r97UZ2HSTChbY\n",
       "jv+jLUkX6UCtg74ptRE3kFYsP2uFu+4o1NG9c/yaTxKXOrBwy00b6UjDaIjmvdK/myyMbEB93vOk\n",
       "5Bm5zf+398WTByPLBHMZfI4S/X0H90Qyw6sY410zSUwzALoRQe9Yj5bWz1AXprsgm8n/UmN8l7PN\n",
       "6f6Ww7s2PPxO2KRUIY1O+huH7irNB5p7LAbdPuA4axS2CsV+WwYu7Y6LIVfb6QLT16zT9UphFrSR\n",
       "EiBWBe0ObCOxPBlEqzH7udjPsPK3RO6Fbv8+iJ4SIHO0/zGwSvsa7EgAAAXOirEjXzCMqDejgQAA\n",
       "BQhBmiRsQ3/+p4QBwcghAE8GECcFIYFLjtGzRuHv2ZLhBcQe7STjN+rXtpAt31kVcnDn78hg2jRT\n",
       "KFeLleRkW9UkS69lLSVy1/SiSJHZK+knOdL+lGunm0dBdTynGdWi0syr190UfCRagR7pTlWA7e+r\n",
       "gYo81vfe3pf+ed7EcQ1zO/b2lyP7B/Fa/lKir/cbHagvkTzSSMocd1aUCQseSCQu14bWUp7xv+/1\n",
       "CPqucU3YmI2PLNW67oVimMQKsSFkd+1GpHZKqW/bRNRhAE1lyaAknU6edC835aVyOx1XaprX4+wh\n",
       "UZ6yuhaIrMXbaYfuhU8fGsDiLoREBtWUlgdoYGEE2yg5A/JV0hM8bNM8iWnkwXx16nKKXVU5700V\n",
       "5UED4U1cpStN1KXLGv+oAnRU+16mBydZBUb3gCfq1fZ74dG1HErlRdNl7o0IcA8GnQu17mSCYRqY\n",
       "XAFApVBLiUKvIliR+OIPknW/bP7agnVU2dgkXDFR47JbxqdV/WCoP3+BcymM8vqltrEAgxKZr52F\n",
       "JB3FXQCYGX4EKe9XuO3B0N4ANsufyAc2MOzkiEJ28+BFhgWApjzcrfWnnhPgs/H4u7kS5FaQguvz\n",
       "xKOqR/7JODIScrhXXjCaMywZ5GfFjHDqp7uE0Z1emIKbnWEumrfpqvf+ItUZUfZq2CalLpFSiPxi\n",
       "M4CziskDocM+ceUgG3yzECIkx54pI0+NUlu6G+qYDCwRLqsHoVZlUpDuSvGyCAcyhKS3+vsCvHdL\n",
       "Dwm/QvDjmrwOmrInvgUa00tgugx1J4KxjzZZiaYuTT0Qd/j1mxPyOauP01rM3CwsYEk+Rw5KQth0\n",
       "j9yNqOfg8rXNQrB4n+YSV1glglP9DhaGcZGyK9LNiNqzGyHRVfjFBw6oWgUAHGSGd5Vr152+gzZp\n",
       "JktyTOrP9UwlkBahqRZRqRrTyUoe4StInktU0VacvlljxiQ25G+E34sdcipFNHpyjbJbbiptFiCq\n",
       "AMlKrYtbmtmoqKbPN6PgsLEUnk6r9i3KmPuw5hYGBZCiKqvaE9eBYWkGF6DLUHHhtnGG/I/9aWaR\n",
       "bzij5XWOiJFCXTAzK06tAODuBWYenndB+9oR+GEvpMY5QaLEGXK78zH0JjXPHNrP0Uj/pJZPK37Z\n",
       "hKsp/TZ/WSVlMJLEetKRZQWfR6xHRJv+jGcD01VNjWki/LLqrXQHtiIjOSgsEsetanNawcPOnNi+\n",
       "BID+frJLe7xew3CrRsXOO4fsSgHEn1/KSAAAQw5bP8+cCXA4reBfi3x+RSUgT/gWoJmWlVlDQOu0\n",
       "4ba38QsVFhp8yAmYloKIwYHWj7FdwjYi9fp2nRNnSOEtrfgQ8RPHUCHz69vaIDtkgbtYiOt48MV+\n",
       "0Sz/EK05a+yG13kFs7EgjYhleM15dk+NcBhLV6TJmP1WqaAt9Yi8/JQXxYpXUa66OqB0Ehmjym3F\n",
       "3rgzFkkRfDKD+bVi74phKPe5Vp0oywH0c/zBARHsgXkIh4vcDaIzYdwn/fHk78rOvkQyfKTwmqGM\n",
       "/VpkWbLLz52y5PybV+CrOstOcIi4OXgT4Js/AaTVwzpIwAK2fMBVptJZg8TmFv7neucfm6R2hwK4\n",
       "caPcsjnZb5zTCeocNXkZ6zKhMAAqLBEDGzAwkP6rTSO5O07ZfKD5cFZUufmutnwoVqaWQNdRe1ki\n",
       "jHJu3KWiCFZXJvAOhFg3fqa+kzJ2uqKP5AZ7oV+CuPnEBVrAAAAAU0GeQniFfwLvJsAkoWeTMQl3\n",
       "zNG3K4Xd6lhv6IiEtEoXyko4RiIurQIWmhASWhM8ZkgfuzMajGHaz66QX/cwJIEMv7gQUKMX2P6G\n",
       "0LfEf14VoAi5AAABUgGeYXRCfwGul+FsJwGIKNEgqcsAdxtUHTIAJR+jwQrweE+zGv1mCQCAnaT+\n",
       "55OCwpicYJ90jVj8wltg5cDuqElbOjCMtJ63fb50Rif/TNjJ4qEohsP1yIOvU03gbv/GBJpBd69K\n",
       "U0AhYjZToWTZvL8wDq8BFf6abs+/qkzQ1Z7WFto6JX47sHxSFJTzx+IcDu950jjyFRa5dU32aik2\n",
       "ZbOK4Ckg3Bc/+4Qz7HtmhjVlX8BdovC7m8tmDZgovXCLLKZSXCSTVMc5B8U4jln2aJvLUzo1IWZU\n",
       "ll4bY9fcQ8nRgasZnZDlE6zN03SuBPpeA6hGt154eRfCG0q69bhMgMkQjC8qToA2ZL2VZypac4Je\n",
       "BFqzGwnnCTaD4q6mLEup5zgAfcwySHPbb2oLR+nO4ev/PuR8YxbJ2WyaqCJpVf6SqQkKydyAAAAG\n",
       "nBUtUsXpjYr4AAAAJAGeY2pCfwLO8dwi0O0XxJ1qMtRjIX8hY3AvEpGsyiwqh/DtgQAAAGZBmmhJ\n",
       "qEFomUwIb//+p4QSLSi/CRVu0BoAXs3Q4XXQgBUnlROcQonlBZAnKcp/9OPKDLF5TJVk10mstE6i\n",
       "T6lfqWdLFJY3CMnIrtaBBGkhxoTZkxv1+Blczoh0MQXnNFjKViy/OPEAAAAuQZ6GRREsK/8C7arT\n",
       "kRgx+CuRIlVS5ijnNmKrotnW6XADfCZqAG1TiUw6ZxnDQQAAACMBnqV0Qn8CzbONj7N7FjRM3uEx\n",
       "1JtNZ0Clz16Z61Wl7KVMwQAAABsBnqdqQn8CzvGZN0hKP7OIxgDcQMgi287ul5AAAAA3QZqsSahB\n",
       "bJlMCG///qeEBx8jXbd+u6qvnTTnjl3O6CwbZHsv7gfbxAFYoc8QYeY+5wxD8Tn7gAAAACJBnspF\n",
       "FSwr/wIyQtgeYUCPxFthqIebqgI62vPTAQyLWA25AAAAGgGe6XRCfwLNsyYBMH75MehPiUcGQVP6\n",
       "yOnTAAAAFgGe62pCfwCxXA0joAj1sjmTlhyusjgAAAAhQZrwSahBbJlMCG///qeEAAAMjaZnS1D4\n",
       "AcYTC6Z/yVzpAAAAHEGfDkUVLCv/AIcGaUl0MSFXHtdr4AtUfV8epVsAAAAWAZ8tdEJ/ALEjM32X\n",
       "WPVFAUAZF7FtsQAAABMBny9qQn8AsVwNI6AIrtPlu8HAAAAAFEGbNEmoQWyZTAhv//6nhAAAAwHd\n",
       "AAAAGUGfUkUVLCv/AIcGaUl0MSFXHtdqxkKFRD0AAAATAZ9xdEJ/ALEjM32XWK5+thYXgAAAABMB\n",
       "n3NqQn8AsVwNI6AIrtPlu8HAAAAAE0GbeEmoQWyZTAhn//6eEAAAB00AAAAZQZ+WRRUsK/8AhwZp\n",
       "SXQxIVce12rGQoVEPAAAABMBn7V0Qn8AsSMzfZdYrn62FheBAAAAEwGft2pCfwCxXA0joAiu0+W7\n",
       "wcEAAAATQZu8SahBbJlMCFf//jhAAAAccAAAABlBn9pFFSwr/wCHBmlJdDEhVx7XasZChUQ9AAAA\n",
       "EwGf+XRCfwCxIzN9l1iufrYWF4AAAAATAZ/7akJ/ALFcDSOgCK7T5bvBwQAAABRBm/1JqEFsmUwI\n",
       "T//98QAAAwBFwQAABJptb292AAAAbG12aGQAAAAAAAAAAAAAAAAAAAPoAAAD6AABAAABAAAAAAAA\n",
       "AAAAAAAAAQAAAAAAAAAAAAAAAAAAAAEAAAAAAAAAAAAAAAAAAEAAAAAAAAAAAAAAAAAAAAAAAAAA\n",
       "AAAAAAAAAAAAAAACAAADxHRyYWsAAABcdGtoZAAAAAMAAAAAAAAAAAAAAAEAAAAAAAAD6AAAAAAA\n",
       "AAAAAAAAAAAAAAAAAQAAAAAAAAAAAAAAAAAAAAEAAAAAAAAAAAAAAAAAAEAAAAABsAAAASAAAAAA\n",
       "ACRlZHRzAAAAHGVsc3QAAAAAAAAAAQAAA+gAAAQAAAEAAAAAAzxtZGlhAAAAIG1kaGQAAAAAAAAA\n",
       "AAAAAAAAADwAAAA8AFXEAAAAAAAtaGRscgAAAAAAAAAAdmlkZQAAAAAAAAAAAAAAAFZpZGVvSGFu\n",
       "ZGxlcgAAAALnbWluZgAAABR2bWhkAAAAAQAAAAAAAAAAAAAAJGRpbmYAAAAcZHJlZgAAAAAAAAAB\n",
       "AAAADHVybCAAAAABAAACp3N0YmwAAAC3c3RzZAAAAAAAAAABAAAAp2F2YzEAAAAAAAAAAQAAAAAA\n",
       "AAAAAAAAAAAAAAABsAEgAEgAAABIAAAAAAAAAAEAAAAAAAAAAAAAAAAAAAAAAAAAAAAAAAAAAAAA\n",
       "AAAAAAAY//8AAAA1YXZjQwFkABX/4QAYZ2QAFazZQbCWhAAAAwAEAAADAPA8WLZYAQAGaOvjyyLA\n",
       "/fj4AAAAABx1dWlka2hA8l8kT8W6OaUbzwMj8wAAAAAAAAAYc3R0cwAAAAAAAAABAAAAHgAAAgAA\n",
       "AAAUc3RzcwAAAAAAAAABAAAAAQAAAQBjdHRzAAAAAAAAAB4AAAABAAAEAAAAAAEAAAoAAAAAAQAA\n",
       "BAAAAAABAAAAAAAAAAEAAAIAAAAAAQAACgAAAAABAAAEAAAAAAEAAAAAAAAAAQAAAgAAAAABAAAK\n",
       "AAAAAAEAAAQAAAAAAQAAAAAAAAABAAACAAAAAAEAAAoAAAAAAQAABAAAAAABAAAAAAAAAAEAAAIA\n",
       "AAAAAQAACgAAAAABAAAEAAAAAAEAAAAAAAAAAQAAAgAAAAABAAAKAAAAAAEAAAQAAAAAAQAAAAAA\n",
       "AAABAAACAAAAAAEAAAoAAAAAAQAABAAAAAABAAAAAAAAAAEAAAIAAAAAAQAABAAAAAAcc3RzYwAA\n",
       "AAAAAAABAAAAAQAAAB4AAAABAAAAjHN0c3oAAAAAAAAAAAAAAB4AABNmAAAFDAAAAFcAAAFWAAAA\n",
       "KAAAAGoAAAAyAAAAJwAAAB8AAAA7AAAAJgAAAB4AAAAaAAAAJQAAACAAAAAaAAAAFwAAABgAAAAd\n",
       "AAAAFwAAABcAAAAXAAAAHQAAABcAAAAXAAAAFwAAAB0AAAAXAAAAFwAAABgAAAAUc3RjbwAAAAAA\n",
       "AAABAAAAMAAAAGJ1ZHRhAAAAWm1ldGEAAAAAAAAAIWhkbHIAAAAAAAAAAG1kaXJhcHBsAAAAAAAA\n",
       "AAAAAAAALWlsc3QAAAAlqXRvbwAAAB1kYXRhAAAAAQAAAABMYXZmNTguNjUuMTAx\n",
       "\">\n",
       "  Your browser does not support the video tag.\n",
       "</video>"
      ],
      "text/plain": [
       "<IPython.core.display.HTML object>"
      ]
     },
     "execution_count": 45,
     "metadata": {},
     "output_type": "execute_result"
    }
   ],
   "source": [
    "from matplotlib import animation, rc\n",
    "from IPython.display import HTML\n",
    "HTML(points_output.anim.to_html5_video())"
   ]
  },
  {
   "cell_type": "code",
   "execution_count": null,
   "id": "instructional-contest",
   "metadata": {},
   "outputs": [],
   "source": []
  }
 ],
 "metadata": {
  "colab": {
   "collapsed_sections": [],
   "name": "Copy of Wing Kinematics.ipynb",
   "provenance": []
  },
  "kernelspec": {
   "display_name": "Python 3",
   "language": "python",
   "name": "python3"
  },
  "language_info": {
   "codemirror_mode": {
    "name": "ipython",
    "version": 3
   },
   "file_extension": ".py",
   "mimetype": "text/x-python",
   "name": "python",
   "nbconvert_exporter": "python",
   "pygments_lexer": "ipython3",
   "version": "3.8.5"
  }
 },
 "nbformat": 4,
 "nbformat_minor": 5
}

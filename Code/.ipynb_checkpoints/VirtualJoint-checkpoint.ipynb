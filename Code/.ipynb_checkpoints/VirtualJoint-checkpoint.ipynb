{
 "cells": [
  {
   "cell_type": "code",
   "execution_count": 1,
   "id": "structured-departure",
   "metadata": {},
   "outputs": [],
   "source": [
    "import sympy"
   ]
  },
  {
   "cell_type": "code",
   "execution_count": 2,
   "id": "essential-token",
   "metadata": {},
   "outputs": [],
   "source": [
    "q = sympy.Symbol('q')\n",
    "d = sympy.Symbol('d')\n",
    "L = sympy.Symbol('L')\n",
    "P = sympy.Symbol('P')\n",
    "h = sympy.Symbol('h')\n",
    "b = sympy.Symbol('b')\n",
    "x = sympy.Symbol('x')\n",
    "E = sympy.Symbol('E')"
   ]
  },
  {
   "cell_type": "code",
   "execution_count": 3,
   "id": "compliant-lincoln",
   "metadata": {},
   "outputs": [],
   "source": [
    "subs = {}\n",
    "#subs[k]=1000\n",
    "subs[P]=1\n",
    "subs[x]=.5\n",
    "subs[b]=.15\n",
    "subs[h]=.004"
   ]
  },
  {
   "cell_type": "code",
   "execution_count": 4,
   "id": "consecutive-stand",
   "metadata": {},
   "outputs": [],
   "source": [
    "# LINKS A and B\n",
    "#subs[L]=.15\n",
    "# LINKS C and D\n",
    "#subs[L]=.165\n",
    "# AB ANGLE LIMITER\n",
    "subs[L]=.3"
   ]
  },
  {
   "cell_type": "code",
   "execution_count": 5,
   "id": "unlimited-level",
   "metadata": {},
   "outputs": [],
   "source": [
    "# FROM HARDWARE TESTING\n",
    "subs[E]=844.45e6"
   ]
  },
  {
   "cell_type": "markdown",
   "id": "working-harvest",
   "metadata": {},
   "source": [
    "# Approximating a cantilever with a single revolute joint"
   ]
  },
  {
   "cell_type": "markdown",
   "id": "scenic-mustang",
   "metadata": {},
   "source": [
    "Cross sectional moment of inertia for a rectangle"
   ]
  },
  {
   "cell_type": "code",
   "execution_count": 6,
   "id": "coupled-pottery",
   "metadata": {},
   "outputs": [],
   "source": [
    "I = b*h**3/12"
   ]
  },
  {
   "cell_type": "code",
   "execution_count": 7,
   "id": "extra-struggle",
   "metadata": {},
   "outputs": [
    {
     "data": {
      "text/latex": [
       "$\\displaystyle 0.0133222807744686$"
      ],
      "text/plain": [
       "0.0133222807744686"
      ]
     },
     "execution_count": 7,
     "metadata": {},
     "output_type": "execute_result"
    }
   ],
   "source": [
    "d1 = P*L**3/3/E/I\n",
    "d1.subs(subs)"
   ]
  },
  {
   "cell_type": "code",
   "execution_count": 8,
   "id": "intensive-narrow",
   "metadata": {},
   "outputs": [],
   "source": [
    "q1 = P*L**2/2/E/I"
   ]
  },
  {
   "cell_type": "code",
   "execution_count": 9,
   "id": "joined-backup",
   "metadata": {},
   "outputs": [
    {
     "data": {
      "text/latex": [
       "$\\displaystyle 0.0666114038723429$"
      ],
      "text/plain": [
       "0.0666114038723429"
      ]
     },
     "execution_count": 9,
     "metadata": {},
     "output_type": "execute_result"
    }
   ],
   "source": [
    "q1.subs(subs)"
   ]
  },
  {
   "cell_type": "markdown",
   "id": "literary-screen",
   "metadata": {},
   "source": [
    "# 2-Link Approximation: Matching Displacement"
   ]
  },
  {
   "cell_type": "code",
   "execution_count": 10,
   "id": "finite-stretch",
   "metadata": {},
   "outputs": [
    {
     "data": {
      "text/latex": [
       "$\\displaystyle 1.68667463715925$"
      ],
      "text/plain": [
       "1.68667463715925"
      ]
     },
     "execution_count": 10,
     "metadata": {},
     "output_type": "execute_result"
    }
   ],
   "source": [
    "k1 = P*L*(1-x)/(sympy.asin(P*L**2/(3*E*I*(1-x))))\n",
    "k1.subs(subs)"
   ]
  },
  {
   "cell_type": "markdown",
   "id": "operating-classic",
   "metadata": {},
   "source": [
    "The displacement matches"
   ]
  },
  {
   "cell_type": "code",
   "execution_count": 11,
   "id": "appointed-emergency",
   "metadata": {},
   "outputs": [
    {
     "data": {
      "text/latex": [
       "$\\displaystyle 0.0133222807744686$"
      ],
      "text/plain": [
       "0.0133222807744686"
      ]
     },
     "execution_count": 11,
     "metadata": {},
     "output_type": "execute_result"
    }
   ],
   "source": [
    "d2 = L*(1-x)*sympy.sin(P*L*(1-x)/k1)\n",
    "d2.subs(subs)"
   ]
  },
  {
   "cell_type": "markdown",
   "id": "metric-monitoring",
   "metadata": {},
   "source": [
    "But the orientation does not"
   ]
  },
  {
   "cell_type": "code",
   "execution_count": 12,
   "id": "imported-vinyl",
   "metadata": {},
   "outputs": [],
   "source": [
    "q2 = P*L*(1-x)/k1"
   ]
  },
  {
   "cell_type": "code",
   "execution_count": 13,
   "id": "addressed-double",
   "metadata": {},
   "outputs": [
    {
     "data": {
      "text/latex": [
       "$\\displaystyle 0.0889323860662511$"
      ],
      "text/plain": [
       "0.0889323860662511"
      ]
     },
     "execution_count": 13,
     "metadata": {},
     "output_type": "execute_result"
    }
   ],
   "source": [
    "q2.subs(subs)"
   ]
  },
  {
   "cell_type": "markdown",
   "id": "lesbian-technician",
   "metadata": {},
   "source": [
    "# Matching Theta"
   ]
  },
  {
   "cell_type": "code",
   "execution_count": 14,
   "id": "herbal-cache",
   "metadata": {},
   "outputs": [],
   "source": [
    "k2 = 2*E*I*(1-x)/(L)"
   ]
  },
  {
   "cell_type": "markdown",
   "id": "facial-helena",
   "metadata": {},
   "source": [
    "Now orientation matches"
   ]
  },
  {
   "cell_type": "code",
   "execution_count": 15,
   "id": "fixed-remark",
   "metadata": {},
   "outputs": [],
   "source": [
    "q3 = P*L*(1-x)/k2"
   ]
  },
  {
   "cell_type": "code",
   "execution_count": 16,
   "id": "opponent-chile",
   "metadata": {},
   "outputs": [
    {
     "data": {
      "text/latex": [
       "$\\displaystyle 0.0666114038723429$"
      ],
      "text/plain": [
       "0.0666114038723429"
      ]
     },
     "execution_count": 16,
     "metadata": {},
     "output_type": "execute_result"
    }
   ],
   "source": [
    "q3.subs(subs)"
   ]
  },
  {
   "cell_type": "markdown",
   "id": "vanilla-football",
   "metadata": {},
   "source": [
    "But displacement does not"
   ]
  },
  {
   "cell_type": "code",
   "execution_count": 17,
   "id": "empty-insured",
   "metadata": {},
   "outputs": [],
   "source": [
    "d3 = L*(1-x)*sympy.sin(P*L*(1-x)/k2)"
   ]
  },
  {
   "cell_type": "code",
   "execution_count": 18,
   "id": "cloudy-relations",
   "metadata": {},
   "outputs": [
    {
     "data": {
      "text/latex": [
       "$\\displaystyle 0.0133222807744686$"
      ],
      "text/plain": [
       "0.0133222807744686"
      ]
     },
     "execution_count": 18,
     "metadata": {},
     "output_type": "execute_result"
    }
   ],
   "source": [
    "d1.subs(subs)"
   ]
  },
  {
   "cell_type": "code",
   "execution_count": 19,
   "id": "binary-walnut",
   "metadata": {},
   "outputs": [
    {
     "data": {
      "text/latex": [
       "$\\displaystyle 0.00998432321821591$"
      ],
      "text/plain": [
       "0.00998432321821591"
      ]
     },
     "execution_count": 19,
     "metadata": {},
     "output_type": "execute_result"
    }
   ],
   "source": [
    "d3.subs(subs)"
   ]
  },
  {
   "cell_type": "markdown",
   "id": "inclusive-premises",
   "metadata": {},
   "source": [
    "# Matching Both"
   ]
  },
  {
   "cell_type": "code",
   "execution_count": 20,
   "id": "acquired-mortgage",
   "metadata": {},
   "outputs": [],
   "source": [
    "del subs[x]"
   ]
  },
  {
   "cell_type": "code",
   "execution_count": 21,
   "id": "brief-conversion",
   "metadata": {},
   "outputs": [
    {
     "data": {
      "text/latex": [
       "$\\displaystyle \\left[\\begin{matrix}0\\\\0.0666114038723429 - \\operatorname{asin}{\\left(\\frac{0.044407602581562}{1 - x} \\right)}\\end{matrix}\\right]$"
      ],
      "text/plain": [
       "Matrix([\n",
       "[                                                   0],\n",
       "[0.0666114038723429 - asin(0.044407602581562/(1 - x))]])"
      ]
     },
     "execution_count": 21,
     "metadata": {},
     "output_type": "execute_result"
    }
   ],
   "source": [
    "error = []\n",
    "error.append(d1-d2)\n",
    "error.append(q1-q2)\n",
    "error= sympy.Matrix(error)\n",
    "error = error.subs(subs)\n",
    "error"
   ]
  },
  {
   "cell_type": "code",
   "execution_count": 22,
   "id": "outer-sport",
   "metadata": {},
   "outputs": [],
   "source": [
    "import scipy.optimize"
   ]
  },
  {
   "cell_type": "code",
   "execution_count": 23,
   "id": "defensive-turkish",
   "metadata": {},
   "outputs": [],
   "source": [
    "f = sympy.lambdify((x),error)"
   ]
  },
  {
   "cell_type": "code",
   "execution_count": 24,
   "id": "authorized-davis",
   "metadata": {},
   "outputs": [],
   "source": [
    "def f2(args):\n",
    "    a = f(*args)\n",
    "    b = (a**2).sum()\n",
    "    return b"
   ]
  },
  {
   "cell_type": "code",
   "execution_count": 25,
   "id": "chubby-architecture",
   "metadata": {},
   "outputs": [
    {
     "data": {
      "text/plain": [
       "      fun: 2.247344038984892e-09\n",
       " hess_inv: array([[64.87248289]])\n",
       "      jac: array([9.49405297e-06])\n",
       "  message: 'Optimization terminated successfully.'\n",
       "     nfev: 12\n",
       "      nit: 3\n",
       "     njev: 6\n",
       "   status: 0\n",
       "  success: True\n",
       "        x: array([0.33331384])"
      ]
     },
     "execution_count": 25,
     "metadata": {},
     "output_type": "execute_result"
    }
   ],
   "source": [
    "sol = scipy.optimize.minimize(f2,[.25])\n",
    "sol"
   ]
  },
  {
   "cell_type": "markdown",
   "id": "difficult-cabin",
   "metadata": {},
   "source": [
    "Now add x back to the list of substitutions"
   ]
  },
  {
   "cell_type": "code",
   "execution_count": 26,
   "id": "gorgeous-india",
   "metadata": {},
   "outputs": [],
   "source": [
    "subs[x]=sol.x[0]"
   ]
  },
  {
   "cell_type": "markdown",
   "id": "sufficient-charity",
   "metadata": {},
   "source": [
    "So a virtual joint at x correctly approximates displacement and orientation."
   ]
  },
  {
   "cell_type": "code",
   "execution_count": 27,
   "id": "weird-knowing",
   "metadata": {},
   "outputs": [
    {
     "data": {
      "text/latex": [
       "$\\displaystyle 0.0133222807744686$"
      ],
      "text/plain": [
       "0.0133222807744686"
      ]
     },
     "execution_count": 27,
     "metadata": {},
     "output_type": "execute_result"
    }
   ],
   "source": [
    "d2.subs(subs)"
   ]
  },
  {
   "cell_type": "code",
   "execution_count": 28,
   "id": "nutritional-effects",
   "metadata": {},
   "outputs": [
    {
     "data": {
      "text/latex": [
       "$\\displaystyle 0.0666588100326913$"
      ],
      "text/plain": [
       "0.0666588100326913"
      ]
     },
     "execution_count": 28,
     "metadata": {},
     "output_type": "execute_result"
    }
   ],
   "source": [
    "q2.subs(subs)"
   ]
  },
  {
   "cell_type": "markdown",
   "id": "large-depth",
   "metadata": {},
   "source": [
    "# Results"
   ]
  },
  {
   "cell_type": "code",
   "execution_count": 29,
   "id": "handmade-manner",
   "metadata": {},
   "outputs": [
    {
     "data": {
      "text/latex": [
       "$\\displaystyle 0.333313835278206$"
      ],
      "text/plain": [
       "0.333313835278206"
      ]
     },
     "execution_count": 29,
     "metadata": {},
     "output_type": "execute_result"
    }
   ],
   "source": [
    "x.subs(subs)"
   ]
  },
  {
   "cell_type": "code",
   "execution_count": 30,
   "id": "engaging-large",
   "metadata": {},
   "outputs": [
    {
     "data": {
      "text/latex": [
       "$\\displaystyle 3.00044134178888$"
      ],
      "text/plain": [
       "3.00044134178888"
      ]
     },
     "execution_count": 30,
     "metadata": {},
     "output_type": "execute_result"
    }
   ],
   "source": [
    "k1.subs(subs)"
   ]
  },
  {
   "cell_type": "code",
   "execution_count": 31,
   "id": "catholic-freedom",
   "metadata": {},
   "outputs": [
    {
     "data": {
      "text/latex": [
       "$\\displaystyle 3.0025767029297$"
      ],
      "text/plain": [
       "3.00257670292970"
      ]
     },
     "execution_count": 31,
     "metadata": {},
     "output_type": "execute_result"
    }
   ],
   "source": [
    "k2.subs(subs)"
   ]
  },
  {
   "cell_type": "markdown",
   "id": "unlikely-scout",
   "metadata": {},
   "source": [
    "AB: L1 = 0.5 \n",
    "    \n",
    "    L2 = 0.1\n",
    "    \n",
    "    K = 6\n",
    "\n",
    "CD: L1 = 0.55 \n",
    "    \n",
    "    L2 = 0.11\n",
    "    \n",
    "    K = 5.5\n",
    "    \n",
    "Angle Limiter (x=0.5): k = 3"
   ]
  }
 ],
 "metadata": {
  "kernelspec": {
   "display_name": "Python 3",
   "language": "python",
   "name": "python3"
  },
  "language_info": {
   "codemirror_mode": {
    "name": "ipython",
    "version": 3
   },
   "file_extension": ".py",
   "mimetype": "text/x-python",
   "name": "python",
   "nbconvert_exporter": "python",
   "pygments_lexer": "ipython3",
   "version": "3.8.5"
  }
 },
 "nbformat": 4,
 "nbformat_minor": 5
}

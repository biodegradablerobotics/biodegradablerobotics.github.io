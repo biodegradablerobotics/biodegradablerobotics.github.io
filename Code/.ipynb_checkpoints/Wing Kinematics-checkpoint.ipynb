{
 "cells": [
  {
   "cell_type": "markdown",
   "id": "suspected-amateur",
   "metadata": {},
   "source": [
    "## Wing Kinematics"
   ]
  },
  {
   "cell_type": "markdown",
   "id": "powered-overhead",
   "metadata": {},
   "source": [
    "1. Create a figure (either in python, in a vector-based drawing program like inkscape or illustrator, or as a solidworks rendering) of your system kinematics. Annotate the image to include:\n",
    "\n",
    "    - Names for each rotational reference frame. You will need one for each rigid body (that moves independently), as well as one for the Newtonian reference frame (N). Use the convention of a capital letter (A,B,C,…)\n",
    "    - Labeled joint locations\n",
    "    - A set of orthonormal basis vectors for each fram. It is best practice to align one of the basis vectors with each rigid link.\n",
    "    - variable names for each state variable \n",
    "    - geometric constants such as link lengths\n",
    "\n",
    "    Save this figure for reuse later. You will need to add mass and inertial information as well as system stiffness information, so make sure you do your work in a way that permits reusing and modifying the figure."
   ]
  },
  {
   "cell_type": "code",
   "execution_count": 1,
   "id": "frequent-douglas",
   "metadata": {},
   "outputs": [],
   "source": [
    "%matplotlib inline\n",
    "import scipy.optimize\n",
    "import pynamics\n",
    "from pynamics.frame import Frame\n",
    "from pynamics.variable_types import Differentiable,Constant\n",
    "from pynamics.system import System\n",
    "from pynamics.body import Body\n",
    "from pynamics.dyadic import Dyadic\n",
    "from pynamics.output import Output,PointsOutput\n",
    "from pynamics.particle import Particle\n",
    "import pynamics.integration\n",
    "import numpy\n",
    "import matplotlib.pyplot as plt\n",
    "plt.ion()\n",
    "from math import pi"
   ]
  },
  {
   "cell_type": "code",
   "execution_count": 2,
   "id": "russian-encyclopedia",
   "metadata": {},
   "outputs": [],
   "source": [
    "system = System()\n",
    "pynamics.set_system(__name__,system)"
   ]
  },
  {
   "cell_type": "code",
   "execution_count": 3,
   "id": "conditional-fields",
   "metadata": {},
   "outputs": [
    {
     "data": {
      "image/png": "[encoded data removed]",
      "text/plain": [
       "<Figure size 432x288 with 1 Axes>"
      ]
     },
     "metadata": {
      "needs_background": "light"
     },
     "output_type": "display_data"
    }
   ],
   "source": [
    "x = [0, 49.26, 98.52, 48.38, 0, 0]\n",
    "y = [0, 8.57, 0, 22.61, 10, 0]\n",
    "plt.plot(x,y)\n",
    "plt.axis('equal')\n",
    "for i in range(0, len(x)-1):\n",
    "    plt.text(x[i], y[i], \"p\"+str(i))\n",
    "\n",
    "alen = 10    \n",
    "plt.arrow(0, 0, alen, 0,head_width=2,width=0.1,color='r')\n",
    "plt.arrow(0, 0, 0, alen,head_width=2,width=0.1,color='r')\n",
    "vx = []\n",
    "vy = []\n",
    "for i in range(1, len(x)-1):\n",
    "    vecx = numpy.array([x[i]-x[i-1], y[i]-y[i-1]])\n",
    "    vecx = vecx/(vecx.dot(vecx)**0.5)\n",
    "    vecy = numpy.cross([0,0,1], vecx)[0:2]\n",
    "    plt.arrow(x[i], y[i], alen*vecx[0], alen*vecx[1],head_width=2,width=0.1,color='r')\n",
    "    plt.arrow(x[i], y[i], alen*vecy[0], alen*vecy[1],head_width=2,width=0.1,color='r')\n",
    "    vx.append(vecx)\n",
    "    vy.append(vecy)"
   ]
  },
  {
   "cell_type": "markdown",
   "id": "under-india",
   "metadata": {},
   "source": [
    "2. Make the device in paper or cardboard. You need an up-to-date model if it has changed from your individual assignments. The paper model should dimensionally match your code."
   ]
  },
  {
   "attachments": {},
   "cell_type": "markdown",
   "id": "gentle-denmark",
   "metadata": {},
   "source": [
    "![](paper%20wing%20reduce.jpeg)"
   ]
  },
  {
   "cell_type": "markdown",
   "id": "frozen-chair",
   "metadata": {},
   "source": [
    "3. Using a pynamics-based script, develop a kinematic model for your device. Following the triple pendulum example,\n",
    "\n",
    "    1. Import packages\n",
    "\n",
    "    2. Define variables and constants (you may want to add, remove, or rename variables to match your figure)\n",
    "    \n",
    "    3. Declare frames (you may need to add frames or rename them)\n",
    "\n",
    "    4. Define frame rotations (you may want to switch the axis about which frames rotate)\n",
    "\n",
    "    5. Compose kinematics (this depends entirely on the geometry of your system)\n",
    "\n",
    "    6. Take time-derivatives of position vectors\n",
    "\n",
    "    7. Assemble into a Jacobian that maps input velocities to output velocities."
   ]
  },
  {
   "cell_type": "code",
   "execution_count": 4,
   "id": "metric-savage",
   "metadata": {},
   "outputs": [],
   "source": [
    "lA = Constant(1,'lA',system)\n",
    "lB = Constant(1,'lB',system)\n",
    "lC = Constant(1,'lC',system)\n",
    "lD = Constant(1,'lD',system)\n",
    "lE = Constant(1,'lE',system)\n",
    "\n",
    "mA = Constant(1,'mA',system)\n",
    "mB = Constant(1,'mB',system)\n",
    "mC = Constant(1,'mC',system)\n",
    "mD = Constant(1,'mD',system)\n",
    "mE = Constant(1,'mE',system)\n",
    "\n",
    "\n",
    "g = Constant(9.81,'g',system)\n",
    "# b = Constant(1e1,'b',system)\n",
    "# k = Constant(1e1,'k',system)\n",
    "\n",
    "# preload1 = Constant(0*pi/180,'preload1',system)\n",
    "# preload2 = Constant(0*pi/180,'preload2',system)\n",
    "# preload3 = Constant(0*pi/180,'preload3',system)\n",
    "\n",
    "Ixx_A = Constant(1,'Ixx_A',system)\n",
    "Iyy_A = Constant(1,'Iyy_A',system)\n",
    "Izz_A = Constant(1,'Izz_A',system)\n",
    "Ixx_B = Constant(1,'Ixx_B',system)\n",
    "Iyy_B = Constant(1,'Iyy_B',system)\n",
    "Izz_B = Constant(1,'Izz_B',system)\n",
    "Ixx_C = Constant(1,'Ixx_C',system)\n",
    "Iyy_C = Constant(1,'Iyy_C',system)\n",
    "Izz_C = Constant(1,'Izz_C',system)\n",
    "Ixx_D = Constant(1,'Ixx_D',system)\n",
    "Iyy_D = Constant(1,'Iyy_D',system)\n",
    "Izz_D = Constant(1,'Izz_D',system)\n",
    "Ixx_E = Constant(1,'Ixx_E',system)\n",
    "Iyy_E = Constant(1,'Iyy_E',system)\n",
    "Izz_E = Constant(1,'Izz_E',system)"
   ]
  },
  {
   "cell_type": "code",
   "execution_count": 5,
   "id": "accredited-kidney",
   "metadata": {},
   "outputs": [],
   "source": [
    "tol = 1e-12"
   ]
  },
  {
   "cell_type": "code",
   "execution_count": 6,
   "id": "vocational-beast",
   "metadata": {},
   "outputs": [],
   "source": [
    "tinitial = 0\n",
    "tfinal = 10\n",
    "fps = 30\n",
    "tstep = 1/fps\n",
    "t = numpy.r_[tinitial:tfinal:tstep]"
   ]
  },
  {
   "cell_type": "code",
   "execution_count": 7,
   "id": "contained-massage",
   "metadata": {},
   "outputs": [],
   "source": [
    "qA,qA_d,qA_dd = Differentiable('qA',system)\n",
    "qB,qB_d,qB_dd = Differentiable('qB',system)\n",
    "qC,qC_d,qC_dd = Differentiable('qC',system)\n",
    "qD,qD_d,qD_dd = Differentiable('qD',system)\n",
    "qE,qE_d,qE_dd = Differentiable('qE',system)"
   ]
  },
  {
   "cell_type": "code",
   "execution_count": 8,
   "id": "above-label",
   "metadata": {},
   "outputs": [],
   "source": [
    "initialvalues = {}\n",
    "initialvalues[qA]=0*pi/180\n",
    "initialvalues[qA_d]=0*pi/180\n",
    "initialvalues[qB]=0*pi/180\n",
    "initialvalues[qB_d]=0*pi/180\n",
    "initialvalues[qC]=0*pi/180\n",
    "initialvalues[qC_d]=0*pi/180\n",
    "initialvalues[qD]=0*pi/180\n",
    "initialvalues[qD_d]=0*pi/180\n",
    "initialvalues[qE]=0*pi/180\n",
    "initialvalues[qE_d]=0*pi/180"
   ]
  },
  {
   "cell_type": "code",
   "execution_count": 9,
   "id": "proof-shift",
   "metadata": {},
   "outputs": [],
   "source": [
    "statevariables = system.get_state_variables()\n",
    "ini = [initialvalues[item] for item in statevariables]"
   ]
  },
  {
   "cell_type": "code",
   "execution_count": 10,
   "id": "beginning-middle",
   "metadata": {},
   "outputs": [],
   "source": [
    "N = Frame('N')\n",
    "A = Frame('A')\n",
    "B = Frame('B')\n",
    "C = Frame('C')\n",
    "D = Frame('D')\n",
    "E = Frame('E')"
   ]
  },
  {
   "cell_type": "code",
   "execution_count": 11,
   "id": "under-equality",
   "metadata": {},
   "outputs": [],
   "source": [
    "system.set_newtonian(N)"
   ]
  },
  {
   "cell_type": "code",
   "execution_count": 12,
   "id": "industrial-receiver",
   "metadata": {},
   "outputs": [],
   "source": [
    "#if not global_q:\n",
    "A.rotate_fixed_axis_directed(N,[0,0,1],qA,system)\n",
    "B.rotate_fixed_axis_directed(A,[0,0,1],qB,system)\n",
    "C.rotate_fixed_axis_directed(B,[0,0,1],qC,system)\n",
    "D.rotate_fixed_axis_directed(C,[0,0,1],qD,system)\n",
    "E.rotate_fixed_axis_directed(D,[0,0,1],qE,system)\n",
    "#else:\n",
    "    #A.rotate_fixed_axis_directed(N,[0,0,1],qA,system)\n",
    "    #B.rotate_fixed_axis_directed(N,[0,0,1],qB,system)\n",
    "    #C.rotate_fixed_axis_directed(N,[0,0,1],qC,system)\n",
    "    #D.rotate_fixed_axis_directed(N,[0,0,1],qD,system)\n",
    "    #E.rotate_fixed_axis_directed(N,[0,0,1],qE,system)"
   ]
  },
  {
   "cell_type": "code",
   "execution_count": null,
   "id": "seeing-regulation",
   "metadata": {},
   "outputs": [],
   "source": []
  },
  {
   "cell_type": "code",
   "execution_count": null,
   "id": "interesting-salvation",
   "metadata": {},
   "outputs": [],
   "source": []
  },
  {
   "cell_type": "code",
   "execution_count": null,
   "id": "sacred-rhythm",
   "metadata": {},
   "outputs": [],
   "source": []
  },
  {
   "cell_type": "code",
   "execution_count": null,
   "id": "second-habitat",
   "metadata": {},
   "outputs": [],
   "source": []
  },
  {
   "cell_type": "code",
   "execution_count": null,
   "id": "emerging-confusion",
   "metadata": {},
   "outputs": [],
   "source": []
  },
  {
   "cell_type": "code",
   "execution_count": null,
   "id": "induced-scientist",
   "metadata": {},
   "outputs": [],
   "source": []
  },
  {
   "cell_type": "code",
   "execution_count": null,
   "id": "living-breed",
   "metadata": {},
   "outputs": [],
   "source": []
  },
  {
   "cell_type": "code",
   "execution_count": null,
   "id": "retained-missile",
   "metadata": {},
   "outputs": [],
   "source": []
  },
  {
   "cell_type": "markdown",
   "id": "declared-wisdom",
   "metadata": {},
   "source": [
    "4. Select or Solve for a valid initial condition that represents the system in the middle of a typical gait, when it is both moving and when forces are being applied to it (or to the world by it)\n",
    "\n",
    "    Despite the fact that you will be using a symbolic representation, you still need to solve for a valid initial condition if your device is a “parallel mechanism.” This may be done using a nonlinear solver such as scipy.optimize.minimize"
   ]
  },
  {
   "cell_type": "code",
   "execution_count": 13,
   "id": "closing-determination",
   "metadata": {},
   "outputs": [],
   "source": [
    "dL1 = 50\n",
    "dL2 = 50\n",
    "dL3 = 55\n",
    "dL4 = 50\n",
    "dL5 = 10\n",
    "dp0 = 0,0\n",
    "\n",
    "dex = 90\n",
    "dey = 0"
   ]
  },
  {
   "cell_type": "code",
   "execution_count": 14,
   "id": "thrown-plenty",
   "metadata": {},
   "outputs": [],
   "source": [
    "def obj_fun(variables):\n",
    "\n",
    "    x0,y0,x1,y1,x2,y2,x3,y3,x4,y4 = variables\n",
    "    p0 = numpy.array([x0,y0])\n",
    "    p1 = numpy.array([x1,y1])\n",
    "    p2 = numpy.array([x2,y2])\n",
    "    p3 = numpy.array([x3,y3])\n",
    "    p4 = numpy.array([x4,y4])\n",
    "    \n",
    "    v0 = p0 - dp0\n",
    "    v1 = p1 - p0\n",
    "    v2 = p2 - p1\n",
    "    v3 = p3 - p2\n",
    "    v4 = p4 - p3\n",
    "    v5 = p0 - p4\n",
    "    \n",
    "    L0 = (v0.dot(v0))**.5\n",
    "    L1 = (v1.dot(v1))**.5\n",
    "    L2 = (v2.dot(v2))**.5\n",
    "    L3 = (v3.dot(v3))**.5\n",
    "    L4 = (v4.dot(v4))**.5\n",
    "    L5 = (v5.dot(v5))**.5\n",
    "    \n",
    "    error = []\n",
    "    error.append(L1-dL1)\n",
    "    error.append(L2-dL2)\n",
    "    error.append(L3-dL3)\n",
    "    error.append(L4-dL4)\n",
    "    error.append(L5-dL5)\n",
    "    error.append(L0)\n",
    "    error.append(x4)\n",
    "    \n",
    "    # end effector\n",
    "    error.append(x2-dex)\n",
    "    error.append(y2-dey)\n",
    "   \n",
    "    error = numpy.array(error)\n",
    "    error = (error.dot(error))**.5\n",
    "    return error"
   ]
  },
  {
   "cell_type": "code",
   "execution_count": 15,
   "id": "senior-biology",
   "metadata": {},
   "outputs": [
    {
     "name": "stdout",
     "output_type": "stream",
     "text": [
      "5.535714777585825e-08\n"
     ]
    }
   ],
   "source": [
    "ini = [0, 0, 50, 8, 100, 0, 50, 22, 0, 10]\n",
    "result = scipy.optimize.minimize(obj_fun,ini)\n",
    "print(result.fun)"
   ]
  },
  {
   "cell_type": "markdown",
   "id": "amazing-bicycle",
   "metadata": {},
   "source": [
    "5. Plot the system in this position."
   ]
  },
  {
   "cell_type": "code",
   "execution_count": 16,
   "id": "smaller-alarm",
   "metadata": {},
   "outputs": [
    {
     "data": {
      "image/png": "[encoded data removed]",
      "text/plain": [
       "<Figure size 432x288 with 1 Axes>"
      ]
     },
     "metadata": {
      "needs_background": "light"
     },
     "output_type": "display_data"
    }
   ],
   "source": [
    "# plot\n",
    "p = result.x.reshape((5,2))\n",
    "plot_lines = numpy.concatenate((p,p[0:1]),0)\n",
    "plt.plot(*(plot_lines.T))\n",
    "plt.axis('equal')\n",
    "for ii,item in enumerate(p):\n",
    "    plt.text(item[0],item[1],'p'+str(ii))"
   ]
  },
  {
   "cell_type": "markdown",
   "id": "compliant-abortion",
   "metadata": {},
   "source": [
    "6. From your biomechanics-based specifications, define one or more force vector estimates (one for each end effector) that the system should be expected to experience. Consider including, based on your research\n",
    "\n",
    "    1. the force of gravity exerted by the mass of a “payload” or the main body of the robot.\n",
    "\n",
    "    2. the acceleration the system experiences during a typical gait\n",
    "    \n",
    "    3. ground reaction forces measured from biomechanics studies."
   ]
  },
  {
   "cell_type": "code",
   "execution_count": null,
   "id": "advance-telephone",
   "metadata": {},
   "outputs": [],
   "source": []
  },
  {
   "cell_type": "markdown",
   "id": "controlled-subsection",
   "metadata": {},
   "source": [
    "7. Calculate the force or torque required at the input to satisfy the end-effector force requirements"
   ]
  },
  {
   "cell_type": "code",
   "execution_count": null,
   "id": "neutral-comedy",
   "metadata": {},
   "outputs": [],
   "source": []
  },
  {
   "cell_type": "markdown",
   "id": "explicit-graham",
   "metadata": {},
   "source": [
    "8. Estimate the velocity of the end-effector in this configuration. Using the Jacobian, calculate the speed required by the input(s) to achieve that output motion.\n",
    "\n",
    "    This may not be directly solvable based on your device kinematics; an iterative guess-and-check approach is ok."
   ]
  },
  {
   "cell_type": "code",
   "execution_count": null,
   "id": "relevant-dutch",
   "metadata": {},
   "outputs": [],
   "source": []
  },
  {
   "cell_type": "markdown",
   "id": "nuclear-outside",
   "metadata": {},
   "source": [
    "9. Finally, using the two estimates about force and speed at the input, compute the required power in this configuration."
   ]
  },
  {
   "cell_type": "code",
   "execution_count": null,
   "id": "nervous-thunder",
   "metadata": {},
   "outputs": [],
   "source": []
  }
 ],
 "metadata": {
  "kernelspec": {
   "display_name": "Python 3",
   "language": "python",
   "name": "python3"
  },
  "language_info": {
   "codemirror_mode": {
    "name": "ipython",
    "version": 3
   },
   "file_extension": ".py",
   "mimetype": "text/x-python",
   "name": "python",
   "nbconvert_exporter": "python",
   "pygments_lexer": "ipython3",
   "version": "3.8.5"
  }
 },
 "nbformat": 4,
 "nbformat_minor": 5
}

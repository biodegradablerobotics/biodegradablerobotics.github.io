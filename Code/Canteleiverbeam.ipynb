{
 "metadata": {
  "language_info": {
   "codemirror_mode": {
    "name": "ipython",
    "version": 3
   },
   "file_extension": ".py",
   "mimetype": "text/x-python",
   "name": "python",
   "nbconvert_exporter": "python",
   "pygments_lexer": "ipython3",
   "version": "3.7.9-final"
  },
  "orig_nbformat": 2,
  "kernelspec": {
   "name": "python3",
   "display_name": "Python 3.7.9 64-bit (conda)",
   "metadata": {
    "interpreter": {
     "hash": "b99447d488b1c073654792fcb2239d3c93431050345545ef55263db31d234f6f"
    }
   }
  }
 },
 "nbformat": 4,
 "nbformat_minor": 2,
 "cells": [
  {
   "cell_type": "code",
   "execution_count": 1,
   "metadata": {},
   "outputs": [],
   "source": [
    "import sympy"
   ]
  },
  {
   "cell_type": "code",
   "execution_count": 5,
   "metadata": {},
   "outputs": [],
   "source": [
    "q = sympy.Symbol('q')\n",
    "d = sympy.Symbol('d')\n",
    "L = sympy.Symbol('L')\n",
    "P = sympy.Symbol('P')\n",
    "h = sympy.Symbol('h')\n",
    "b = sympy.Symbol('b')\n",
    "E = sympy.Symbol('E')\n",
    "x = sympy.Symbol('x')"
   ]
  },
  {
   "cell_type": "code",
   "execution_count": 6,
   "metadata": {},
   "outputs": [],
   "source": [
    "subs = {}\n",
    "\n",
    "subs[P]=9.81*45/1000\n",
    "subs[L]=100/1000\n",
    "subs[b]=100/1000\n",
    "subs[h]=4/1000\n",
    "#subs[E]=1e7\n",
    "subs[d]=15.5/1000\n"
   ]
  },
  {
   "cell_type": "code",
   "execution_count": 8,
   "metadata": {},
   "outputs": [
    {
     "output_type": "execute_result",
     "data": {
      "text/plain": [
       "17800403.2258065"
      ],
      "text/latex": "$\\displaystyle 17800403.2258065$"
     },
     "metadata": {},
     "execution_count": 8
    }
   ],
   "source": [
    "I = b*h**3/12\n",
    "E = (P*L**3)/(3*d*I)\n",
    "E.subs(subs)"
   ]
  },
  {
   "cell_type": "code",
   "execution_count": null,
   "metadata": {},
   "outputs": [],
   "source": []
  }
 ]
}
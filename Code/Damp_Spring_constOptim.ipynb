{
 "cells": [
  {
   "cell_type": "markdown",
   "metadata": {
    "id": "suspected-amateur"
   },
   "source": [
    "# Damping and Spring constant identification using Tracker\n",
    "\n",
    "Team 3"
   ]
  },
  {
   "cell_type": "markdown",
   "metadata": {},
   "source": [
    "## Setup"
   ]
  },
  {
   "cell_type": "code",
   "execution_count": 1,
   "metadata": {
    "colab": {
     "base_uri": "https://localhost:8080/"
    },
    "id": "pi7Co6-jBLqJ",
    "outputId": "3e0b02e5-7b83-4a8a-fb4e-f100a21e47fb"
   },
   "outputs": [
    {
     "output_type": "stream",
     "name": "stdout",
     "text": [
      "Requirement already satisfied: pynamics in c:\\users\\geomu\\anaconda3\\lib\\site-packages (0.0.7)\nRequirement already satisfied: sympy in c:\\users\\geomu\\anaconda3\\lib\\site-packages (from pynamics) (1.7.1)\nRequirement already satisfied: numpy in c:\\users\\geomu\\anaconda3\\lib\\site-packages (from pynamics) (1.19.5)\nRequirement already satisfied: matplotlib in c:\\users\\geomu\\anaconda3\\lib\\site-packages (from pynamics) (3.3.2)\nRequirement already satisfied: scipy in c:\\users\\geomu\\anaconda3\\lib\\site-packages (from pynamics) (1.6.0)\nRequirement already satisfied: python-dateutil>=2.1 in c:\\users\\geomu\\anaconda3\\lib\\site-packages (from matplotlib->pynamics) (2.8.1)\nRequirement already satisfied: cycler>=0.10 in c:\\users\\geomu\\anaconda3\\lib\\site-packages (from matplotlib->pynamics) (0.10.0)\nRequirement already satisfied: pyparsing!=2.0.4,!=2.1.2,!=2.1.6,>=2.0.3 in c:\\users\\geomu\\anaconda3\\lib\\site-packages (from matplotlib->pynamics) (2.4.7)\nRequirement already satisfied: certifi>=2020.06.20 in c:\\users\\geomu\\anaconda3\\lib\\site-packages (from matplotlib->pynamics) (2020.12.5)\nRequirement already satisfied: pillow>=6.2.0 in c:\\users\\geomu\\anaconda3\\lib\\site-packages (from matplotlib->pynamics) (8.1.0)\nRequirement already satisfied: kiwisolver>=1.0.1 in c:\\users\\geomu\\anaconda3\\lib\\site-packages (from matplotlib->pynamics) (1.3.0)\nRequirement already satisfied: six in c:\\users\\geomu\\anaconda3\\lib\\site-packages (from cycler>=0.10->matplotlib->pynamics) (1.15.0)\nRequirement already satisfied: mpmath>=0.19 in c:\\users\\geomu\\anaconda3\\lib\\site-packages (from sympy->pynamics) (1.1.0)\nNote: you may need to restart the kernel to use updated packages.\n"
     ]
    }
   ],
   "source": [
    "pip install pynamics"
   ]
  },
  {
   "cell_type": "code",
   "execution_count": 2,
   "metadata": {
    "id": "frequent-douglas"
   },
   "outputs": [],
   "source": [
    "%matplotlib inline\n",
    "import scipy.optimize\n",
    "import pynamics\n",
    "from pynamics.frame import Frame\n",
    "from pynamics.variable_types import Differentiable,Constant\n",
    "from pynamics.system import System\n",
    "from pynamics.body import Body\n",
    "from pynamics.dyadic import Dyadic\n",
    "from pynamics.output import Output,PointsOutput\n",
    "from pynamics.particle import Particle\n",
    "import pynamics.integration\n",
    "import numpy\n",
    "import sympy\n",
    "import matplotlib.pyplot as plt\n",
    "from matplotlib.patches import Arc\n",
    "plt.ion()\n",
    "from math import pi, sin, cos, tan, asin, acos, atan, degrees, radians, pi"
   ]
  },
  {
   "cell_type": "markdown",
   "metadata": {},
   "source": [
    "## Procedure"
   ]
  },
  {
   "cell_type": "code",
   "execution_count": 4,
   "metadata": {},
   "outputs": [],
   "source": [
    "import logging\n",
    "import pynamics.integration\n",
    "import pynamics.system\n",
    "import numpy.random\n",
    "import scipy.interpolate\n",
    "import scipy.optimize\n",
    "import pandas as pd\n",
    "import cma"
   ]
  },
  {
   "cell_type": "code",
   "execution_count": 5,
   "metadata": {},
   "outputs": [],
   "source": [
    "# Create a pynamics system\n",
    "system = System()\n",
    "pynamics.set_system(__name__,system)"
   ]
  },
  {
   "cell_type": "code",
   "execution_count": 6,
   "metadata": {},
   "outputs": [],
   "source": [
    "# Length variables (numerical)\n",
    "lA_num = 0.15\n",
    "lB_num = 0.15\n",
    "lC_num = 0.165\n",
    "lD_num = 0.165\n",
    "lE_num = 0.045\n",
    "\n",
    "# Lengths\n",
    "lA = Constant(lA_num,'lA',system)\n",
    "lB = Constant(lB_num,'lB',system)\n",
    "lC = Constant(lC_num,'lC',system)\n",
    "lD = Constant(lD_num,'lD',system)\n",
    "lE = Constant(lE_num,'lE',system)"
   ]
  },
  {
   "cell_type": "code",
   "execution_count": 7,
   "metadata": {},
   "outputs": [],
   "source": [
    "# Masses\n",
    "mA = Constant(0.027,'mA',system)\n",
    "mB = Constant(0.0306,'mB',system)\n",
    "mC = Constant(0.0297,'mC',system)\n",
    "mD = Constant(0.0297,'mD',system)\n",
    "\n",
    "# Joint preloads\n",
    "preload1 = Constant(0*pi/180,'preload1',system)\n",
    "preload2 = Constant(0*pi/180,'preload2',system)\n",
    "preload3 = Constant(0*pi/180,'preload3',system)\n",
    "preload4 = Constant(0*pi/180,'preload4',system)\n",
    "\n",
    "# Inertia\n",
    "Ixx_A = Constant(0.000202,'Ixx_A',system) #0.00020264\n",
    "Iyy_A = Constant(0.000405,'Iyy_A',system) #(0.00040500\n",
    "Izz_A = Constant(0.000202,'Izz_A',system) #0.00020264\n",
    "Ixx_B = Constant(0.000223,'Ixx_B',system) #0.00022378\n",
    "Iyy_B = Constant(0.000427,'Iyy_B',system) #0.00042744\n",
    "Izz_B = Constant(0.000204,'Izz_B',system) #0.00020422\n",
    "Ixx_C = Constant(0.000222,'Ixx_C',system) #0.00022291\n",
    "Iyy_C = Constant(0.000492,'Iyy_C',system) #0.00049228\n",
    "Izz_C = Constant(0.000269,'Izz_C',system) #0.00026969\n",
    "Ixx_D = Constant(0.000222,'Ixx_D',system) #0.00022291\n",
    "Iyy_D = Constant(0.000492,'Iyy_D',system) #0.00049228\n",
    "Izz_D = Constant(0.000269,'Izz_D',system) #0.00026969"
   ]
  },
  {
   "cell_type": "code",
   "execution_count": 8,
   "metadata": {},
   "outputs": [],
   "source": [
    "tol = 1e-12\n",
    "\n",
    "tinitial = 0\n",
    "tfinal = 10\n",
    "fps = 30\n",
    "tstep = 1/fps\n",
    "t = numpy.r_[tinitial:tfinal:tstep]"
   ]
  },
  {
   "cell_type": "code",
   "execution_count": 9,
   "metadata": {},
   "outputs": [],
   "source": [
    "# Create differentiable state variables\n",
    "qA,qA_d,qA_dd = Differentiable('qA',system)\n",
    "qB,qB_d,qB_dd = Differentiable('qB',system)\n",
    "qC,qC_d,qC_dd = Differentiable('qC',system)\n",
    "qD,qD_d,qD_dd = Differentiable('qD',system)"
   ]
  },
  {
   "cell_type": "code",
   "execution_count": 10,
   "metadata": {},
   "outputs": [],
   "source": [
    "# initial values\n",
    "# qC = 11.97 creates fully extended, horizontal wing\n",
    "initialvalues = {}\n",
    "initialvalues[qA]=45*pi/180\n",
    "initialvalues[qA_d]=0*pi/180\n",
    "initialvalues[qB]=0*pi/180\n",
    "initialvalues[qB_d]=0*pi/180\n",
    "\n",
    "#initialvalues[qC]=14.65*pi/180\n",
    "initialvalues[qC]=(-90)*pi/180\n",
    "initialvalues[qC_d]=0*pi/180\n",
    "initialvalues[qD]=-15*pi/180\n",
    "initialvalues[qD_d]=0*pi/180"
   ]
  },
  {
   "cell_type": "code",
   "execution_count": 11,
   "metadata": {},
   "outputs": [],
   "source": [
    "# Retrieve state variables in the order they are stored in the system\n",
    "# Create a list of initial values ini0 in the order of the system’s state variables\n",
    "statevariables = system.get_state_variables()\n",
    "ini = [initialvalues[item] for item in statevariables]"
   ]
  },
  {
   "cell_type": "code",
   "execution_count": 12,
   "metadata": {},
   "outputs": [],
   "source": [
    "# Create frames\n",
    "N = Frame('N')\n",
    "A = Frame('A')\n",
    "B = Frame('B')\n",
    "C = Frame('C')\n",
    "D = Frame('D')"
   ]
  },
  {
   "cell_type": "code",
   "execution_count": 13,
   "metadata": {},
   "outputs": [],
   "source": [
    "# Declare N as the Newtonian (fixed) frame\n",
    "system.set_newtonian(N)"
   ]
  },
  {
   "cell_type": "code",
   "execution_count": 14,
   "metadata": {},
   "outputs": [],
   "source": [
    "# Rotate other frames about their local Z axes.\n",
    "# Not global q\n",
    "A.rotate_fixed_axis_directed(N,[0,0,1],qA,system)\n",
    "B.rotate_fixed_axis_directed(A,[0,0,1],qB,system)\n",
    "C.rotate_fixed_axis_directed(N,[0,0,1],qC,system)\n",
    "D.rotate_fixed_axis_directed(C,[0,0,1],qD,system)"
   ]
  },
  {
   "cell_type": "code",
   "execution_count": 15,
   "metadata": {},
   "outputs": [],
   "source": [
    "# Define rigid body kinematics\n",
    "# position vectors\n",
    "p0 = 0*N.y #Normal\n",
    "p1 = p0 + lA*-A.y #Link A\n",
    "p2A = p1 + lB*-B.y #Link B - OUTPUT\n",
    "p4 = p0 + lE*-N.x #Link E\n",
    "p3 = p4 + lC*-C.y #Link C\n",
    "p2C = p3 + lD*-D.y #Link D - OUTPUT"
   ]
  },
  {
   "cell_type": "code",
   "execution_count": 16,
   "metadata": {},
   "outputs": [],
   "source": [
    "# CoM vectors\n",
    "pAcom=p0 + lA/2*A.x #Link A\n",
    "pBcom=p1 + 0.06735294*B.x #Link B\n",
    "pCcom=p4 + lC/2*C.x #Link C\n",
    "pDcom=p3 + lD/2*D.x #Link D"
   ]
  },
  {
   "cell_type": "code",
   "execution_count": 17,
   "metadata": {},
   "outputs": [],
   "source": [
    "# Angular Velocity\n",
    "wNA = N.getw_(A)\n",
    "wAB = A.getw_(B)\n",
    "wNC = N.getw_(C)\n",
    "wCD = C.getw_(D)"
   ]
  },
  {
   "cell_type": "code",
   "execution_count": 18,
   "metadata": {},
   "outputs": [],
   "source": [
    "# Build inertia tensors\n",
    "IA = Dyadic.build(A,Ixx_A,Iyy_A,Izz_A)\n",
    "IB = Dyadic.build(B,Ixx_B,Iyy_B,Izz_B)\n",
    "IC = Dyadic.build(C,Ixx_C,Iyy_C,Izz_C)\n",
    "ID = Dyadic.build(D,Ixx_D,Iyy_D,Izz_D)\n",
    "\n",
    "BodyA = Body('BodyA',A,pAcom,mA,IA,system)\n",
    "BodyB = Body('BodyB',B,pBcom,mB,IB,system)\n",
    "BodyC = Body('BodyC',C,pCcom,mC,IC,system)\n",
    "BodyD = Body('BodyD',D,pDcom,mD,ID,system)\n",
    "#BodyC = Particle(pCcm,mC,'ParticleC',system)"
   ]
  },
  {
   "cell_type": "markdown",
   "metadata": {},
   "source": [
    "## Forces"
   ]
  },
  {
   "cell_type": "code",
   "execution_count": 19,
   "metadata": {},
   "outputs": [],
   "source": [
    "b1 = Constant(1e1,'b1',system)\n",
    "b2 = Constant(1e1,'b2',system)\n",
    "b3 = Constant(1e1,'b3',system)\n",
    "b4 = Constant(1e1,'b4',system)"
   ]
  },
  {
   "cell_type": "code",
   "execution_count": 20,
   "metadata": {},
   "outputs": [
    {
     "output_type": "execute_result",
     "data": {
      "text/plain": [
       "<pynamics.force.Force at 0x263b1fbb5c8>"
      ]
     },
     "metadata": {},
     "execution_count": 20
    }
   ],
   "source": [
    "# Forces\n",
    "system.addforce(-b1*wNA,wNA)\n",
    "system.addforce(-b2*wAB,wAB)\n",
    "system.addforce(-b3*wNC,wNC)\n",
    "system.addforce(-b4*wCD,wCD)"
   ]
  },
  {
   "cell_type": "code",
   "execution_count": 24,
   "metadata": {},
   "outputs": [],
   "source": [
    "k1 = Constant(1e1,'k1',system)\n",
    "k2 = Constant(1e1,'k2',system)\n",
    "k3 = Constant(1e1,'k3',system)\n",
    "k4 = Constant(1e1,'k4',system)"
   ]
  },
  {
   "cell_type": "code",
   "execution_count": 25,
   "metadata": {},
   "outputs": [
    {
     "output_type": "execute_result",
     "data": {
      "text/plain": [
       "(<pynamics.force.Force at 0x263b1f81848>,\n",
       " <pynamics.spring.Spring at 0x263b1de90c8>)"
      ]
     },
     "metadata": {},
     "execution_count": 25
    }
   ],
   "source": [
    "# Spring Forces\n",
    "# Not global q\n",
    "system.add_spring_force1(k1,(qA-preload1)*N.z,wNA) \n",
    "system.add_spring_force1(k2,(qB-preload2)*A.z,wAB)\n",
    "system.add_spring_force1(k3,(qC-preload3)*N.z,wNC)\n",
    "system.add_spring_force1(k4,(qD-preload4)*C.z,wCD)"
   ]
  },
  {
   "cell_type": "code",
   "execution_count": 26,
   "metadata": {},
   "outputs": [],
   "source": [
    "# gravity\n",
    "g = Constant(9.81,'g',system)"
   ]
  },
  {
   "cell_type": "code",
   "execution_count": 27,
   "metadata": {},
   "outputs": [],
   "source": [
    "# Gravity\n",
    "system.addforcegravity(-g*N.y)"
   ]
  },
  {
   "cell_type": "markdown",
   "metadata": {},
   "source": [
    "## Constraints"
   ]
  },
  {
   "cell_type": "code",
   "execution_count": 28,
   "metadata": {},
   "outputs": [],
   "source": [
    "# Constraints\n",
    "eq_vector = p2A-p2C\n",
    "eq = []\n",
    "eq.append((eq_vector).dot(N.x))\n",
    "eq.append((eq_vector).dot(N.y))\n",
    "eq_d=[(system.derivative(item)) for item in eq]\n",
    "eq_dd=[(system.derivative(item)) for item in eq_d]\n",
    "\n",
    "#eq2_vector = A.x-B.x\n",
    "#eq2 = []\n",
    "#eq2.append((eq2_vector).dot(N.x))\n",
    "#eq2.append((eq2_vector).dot(N.y))\n",
    "#eq2_d=[(system.derivative(item)) for item in eq2]\n",
    "#eq2_dd=[(system.derivative(item)) for item in eq2_d]"
   ]
  },
  {
   "cell_type": "code",
   "execution_count": 29,
   "metadata": {},
   "outputs": [
    {
     "output_type": "stream",
     "name": "stderr",
     "text": [
      "2021-03-19 16:37:38,647 - pynamics.system - INFO - getting dynamic equations\n"
     ]
    }
   ],
   "source": [
    "f,ma=system.getdynamics()"
   ]
  },
  {
   "cell_type": "markdown",
   "metadata": {},
   "source": [
    "## Modifications"
   ]
  },
  {
   "cell_type": "code",
   "execution_count": 30,
   "metadata": {},
   "outputs": [],
   "source": [
    "unknown_constants = [b1,b2,b3,b4,k1,k2,k3,k4]"
   ]
  },
  {
   "cell_type": "code",
   "execution_count": 31,
   "metadata": {},
   "outputs": [
    {
     "output_type": "execute_result",
     "data": {
      "text/plain": [
       "{Ixx_A: 0.000202, Ixx_B: 0.000223, Ixx_C: 0.000222, Ixx_D: 0.000222, Iyy_A: 0.\n",
       "000405, Iyy_B: 0.000427, Iyy_C: 0.000492, Iyy_D: 0.000492, Izz_A: 0.000202, Iz\n",
       "z_B: 0.000204, Izz_C: 0.000269, Izz_D: 0.000269, g: 9.81, lA: 0.15, lB: 0.15, \n",
       "lC: 0.165, lD: 0.165, lE: 0.045, mA: 0.027, mB: 0.0306, mC: 0.0297, mD: 0.0297\n",
       ", preload₁: 0.0, preload₂: 0.0, preload₃: 0.0, preload₄: 0.0}"
      ]
     },
     "metadata": {},
     "execution_count": 31
    }
   ],
   "source": [
    "known_constants = list(set(system.constant_values.keys())-set(unknown_constants))\n",
    "known_constants = dict([(key,system.constant_values[key]) for key in known_constants])\n",
    "known_constants"
   ]
  },
  {
   "cell_type": "code",
   "execution_count": 32,
   "metadata": {},
   "outputs": [
    {
     "output_type": "stream",
     "name": "stderr",
     "text": [
      "2021-03-19 16:37:56,630 - pynamics.system - INFO - solving a = f/m and creating function\n",
      "2021-03-19 16:37:58,108 - pynamics.system - INFO - substituting constrained in Ma-f.\n",
      "2021-03-19 16:37:58,536 - pynamics.system - INFO - done solving a = f/m and creating function\n",
      "2021-03-19 16:37:58,538 - pynamics.system - INFO - calculating function for lambdas\n"
     ]
    }
   ],
   "source": [
    "func1,lambda1 = system.state_space_post_invert(f,ma,eq_dd,return_lambda = True,constants = known_constants)"
   ]
  },
  {
   "cell_type": "code",
   "execution_count": 33,
   "metadata": {},
   "outputs": [],
   "source": [
    "def run_sim(args):\n",
    "    constants = dict([(key,value) for key,value in zip(unknown_constants,args)])\n",
    "    states=pynamics.integration.integrate(func1,ini,t,rtol=tol,atol=tol,hmin=tol, args=({'constants':constants},))\n",
    "    return states"
   ]
  },
  {
   "cell_type": "code",
   "execution_count": 34,
   "metadata": {},
   "outputs": [],
   "source": [
    "points = [p2A,p1,p3]"
   ]
  },
  {
   "cell_type": "code",
   "execution_count": 35,
   "metadata": {},
   "outputs": [],
   "source": [
    "points_output=PointsOutput(points,system)"
   ]
  },
  {
   "cell_type": "markdown",
   "metadata": {},
   "source": [
    "## Loading Data"
   ]
  },
  {
   "cell_type": "code",
   "execution_count": 36,
   "metadata": {},
   "outputs": [],
   "source": [
    "\n",
    "df=pd.read_csv(r'E:\\OneDrive - Arizona State University\\Spring 2021\\EGR 557 Foldable Robotics\\TrackerVideos\\WingTipfinal.txt', sep=',')\n",
    "df1=pd.read_csv(r'E:\\OneDrive - Arizona State University\\Spring 2021\\EGR 557 Foldable Robotics\\TrackerVideos\\BottomJointfinal.txt', sep=',')\n",
    "df2=pd.read_csv(r'E:\\OneDrive - Arizona State University\\Spring 2021\\EGR 557 Foldable Robotics\\TrackerVideos\\TopJointfinal.txt', sep=',')\n",
    "x = df.x.to_numpy()\n",
    "y = df.y.to_numpy()\n",
    "t = df.t.to_numpy()\n",
    "x2 = df1.x.to_numpy()\n",
    "y2 = df1.y.to_numpy()\n",
    "t2 = df1.t.to_numpy()\n",
    "x3 = df2.x.to_numpy()\n",
    "y3 = df2.y.to_numpy()\n",
    "t3 = df2.t.to_numpy()\n",
    "xy = numpy.array([x,y,x2,y2,x3,y3]).T"
   ]
  },
  {
   "cell_type": "code",
   "execution_count": 37,
   "metadata": {},
   "outputs": [
    {
     "output_type": "execute_result",
     "data": {
      "text/plain": [
       "(3336, 6)"
      ]
     },
     "metadata": {},
     "execution_count": 37
    }
   ],
   "source": [
    "fy = scipy.interpolate.interp1d(t,xy.T,fill_value='extrapolate')\n",
    "fyt = fy(t).T\n",
    "fyt.shape"
   ]
  },
  {
   "cell_type": "code",
   "execution_count": 38,
   "metadata": {},
   "outputs": [
    {
     "output_type": "execute_result",
     "data": {
      "text/plain": [
       "[<matplotlib.lines.Line2D at 0x263b302c408>,\n",
       " <matplotlib.lines.Line2D at 0x263b2ded7c8>,\n",
       " <matplotlib.lines.Line2D at 0x263b3b57d88>,\n",
       " <matplotlib.lines.Line2D at 0x263b301d7c8>,\n",
       " <matplotlib.lines.Line2D at 0x263b301d108>,\n",
       " <matplotlib.lines.Line2D at 0x263b301d5c8>]"
      ]
     },
     "metadata": {},
     "execution_count": 38
    },
    {
     "output_type": "display_data",
     "data": {
      "text/plain": "<Figure size 432x288 with 1 Axes>",
      "image/svg+xml": "<?xml version=\"1.0\" encoding=\"utf-8\" standalone=\"no\"?>\r\n<!DOCTYPE svg PUBLIC \"-//W3C//DTD SVG 1.1//EN\"\r\n  \"http://www.w3.org/Graphics/SVG/1.1/DTD/svg11.dtd\">\r\n<!-- Created with matplotlib (https://matplotlib.org/) -->\r\n<svg height=\"248.518125pt\" version=\"1.1\" viewBox=\"0 0 380.482813 248.518125\" width=\"380.482813pt\" xmlns=\"http://www.w3.org/2000/svg\" xmlns:xlink=\"http://www.w3.org/1999/xlink\">\r\n <metadata>\r\n  <rdf:RDF xmlns:cc=\"http://creativecommons.org/ns#\" xmlns:dc=\"http://purl.org/dc/elements/1.1/\" xmlns:rdf=\"http://www.w3.org/1999/02/22-rdf-syntax-ns#\">\r\n   <cc:Work>\r\n    <dc:type rdf:resource=\"http://purl.org/dc/dcmitype/StillImage\"/>\r\n    <dc:date>2021-03-19T16:38:10.404244</dc:date>\r\n    <dc:format>image/svg+xml</dc:format>\r\n    <dc:creator>\r\n     <cc:Agent>\r\n      <dc:title>Matplotlib v3.3.2, https://matplotlib.org/</dc:title>\r\n     </cc:Agent>\r\n    </dc:creator>\r\n   </cc:Work>\r\n  </rdf:RDF>\r\n </metadata>\r\n <defs>\r\n  <style type=\"text/css\">*{stroke-linecap:butt;stroke-linejoin:round;}</style>\r\n </defs>\r\n <g id=\"figure_1\">\r\n  <g id=\"patch_1\">\r\n   <path d=\"M -0 248.518125 \r\nL 380.482813 248.518125 \r\nL 380.482813 0 \r\nL -0 0 \r\nz\r\n\" style=\"fill:none;\"/>\r\n  </g>\r\n  <g id=\"axes_1\">\r\n   <g id=\"patch_2\">\r\n    <path d=\"M 38.482813 224.64 \r\nL 373.282813 224.64 \r\nL 373.282813 7.2 \r\nL 38.482813 7.2 \r\nz\r\n\" style=\"fill:#ffffff;\"/>\r\n   </g>\r\n   <g id=\"matplotlib.axis_1\">\r\n    <g id=\"xtick_1\">\r\n     <g id=\"line2d_1\">\r\n      <defs>\r\n       <path d=\"M 0 0 \r\nL 0 3.5 \r\n\" id=\"mf24c66cf26\" style=\"stroke:#000000;stroke-width:0.8;\"/>\r\n      </defs>\r\n      <g>\r\n       <use style=\"stroke:#000000;stroke-width:0.8;\" x=\"53.700994\" xlink:href=\"#mf24c66cf26\" y=\"224.64\"/>\r\n      </g>\r\n     </g>\r\n     <g id=\"text_1\">\r\n      <!-- 0 -->\r\n      <g transform=\"translate(50.519744 239.238437)scale(0.1 -0.1)\">\r\n       <defs>\r\n        <path d=\"M 31.78125 66.40625 \r\nQ 24.171875 66.40625 20.328125 58.90625 \r\nQ 16.5 51.421875 16.5 36.375 \r\nQ 16.5 21.390625 20.328125 13.890625 \r\nQ 24.171875 6.390625 31.78125 6.390625 \r\nQ 39.453125 6.390625 43.28125 13.890625 \r\nQ 47.125 21.390625 47.125 36.375 \r\nQ 47.125 51.421875 43.28125 58.90625 \r\nQ 39.453125 66.40625 31.78125 66.40625 \r\nz\r\nM 31.78125 74.21875 \r\nQ 44.046875 74.21875 50.515625 64.515625 \r\nQ 56.984375 54.828125 56.984375 36.375 \r\nQ 56.984375 17.96875 50.515625 8.265625 \r\nQ 44.046875 -1.421875 31.78125 -1.421875 \r\nQ 19.53125 -1.421875 13.0625 8.265625 \r\nQ 6.59375 17.96875 6.59375 36.375 \r\nQ 6.59375 54.828125 13.0625 64.515625 \r\nQ 19.53125 74.21875 31.78125 74.21875 \r\nz\r\n\" id=\"DejaVuSans-48\"/>\r\n       </defs>\r\n       <use xlink:href=\"#DejaVuSans-48\"/>\r\n      </g>\r\n     </g>\r\n    </g>\r\n    <g id=\"xtick_2\">\r\n     <g id=\"line2d_2\">\r\n      <g>\r\n       <use style=\"stroke:#000000;stroke-width:0.8;\" x=\"97.507455\" xlink:href=\"#mf24c66cf26\" y=\"224.64\"/>\r\n      </g>\r\n     </g>\r\n     <g id=\"text_2\">\r\n      <!-- 2 -->\r\n      <g transform=\"translate(94.326205 239.238437)scale(0.1 -0.1)\">\r\n       <defs>\r\n        <path d=\"M 19.1875 8.296875 \r\nL 53.609375 8.296875 \r\nL 53.609375 0 \r\nL 7.328125 0 \r\nL 7.328125 8.296875 \r\nQ 12.9375 14.109375 22.625 23.890625 \r\nQ 32.328125 33.6875 34.8125 36.53125 \r\nQ 39.546875 41.84375 41.421875 45.53125 \r\nQ 43.3125 49.21875 43.3125 52.78125 \r\nQ 43.3125 58.59375 39.234375 62.25 \r\nQ 35.15625 65.921875 28.609375 65.921875 \r\nQ 23.96875 65.921875 18.8125 64.3125 \r\nQ 13.671875 62.703125 7.8125 59.421875 \r\nL 7.8125 69.390625 \r\nQ 13.765625 71.78125 18.9375 73 \r\nQ 24.125 74.21875 28.421875 74.21875 \r\nQ 39.75 74.21875 46.484375 68.546875 \r\nQ 53.21875 62.890625 53.21875 53.421875 \r\nQ 53.21875 48.921875 51.53125 44.890625 \r\nQ 49.859375 40.875 45.40625 35.40625 \r\nQ 44.1875 33.984375 37.640625 27.21875 \r\nQ 31.109375 20.453125 19.1875 8.296875 \r\nz\r\n\" id=\"DejaVuSans-50\"/>\r\n       </defs>\r\n       <use xlink:href=\"#DejaVuSans-50\"/>\r\n      </g>\r\n     </g>\r\n    </g>\r\n    <g id=\"xtick_3\">\r\n     <g id=\"line2d_3\">\r\n      <g>\r\n       <use style=\"stroke:#000000;stroke-width:0.8;\" x=\"141.313915\" xlink:href=\"#mf24c66cf26\" y=\"224.64\"/>\r\n      </g>\r\n     </g>\r\n     <g id=\"text_3\">\r\n      <!-- 4 -->\r\n      <g transform=\"translate(138.132665 239.238437)scale(0.1 -0.1)\">\r\n       <defs>\r\n        <path d=\"M 37.796875 64.3125 \r\nL 12.890625 25.390625 \r\nL 37.796875 25.390625 \r\nz\r\nM 35.203125 72.90625 \r\nL 47.609375 72.90625 \r\nL 47.609375 25.390625 \r\nL 58.015625 25.390625 \r\nL 58.015625 17.1875 \r\nL 47.609375 17.1875 \r\nL 47.609375 0 \r\nL 37.796875 0 \r\nL 37.796875 17.1875 \r\nL 4.890625 17.1875 \r\nL 4.890625 26.703125 \r\nz\r\n\" id=\"DejaVuSans-52\"/>\r\n       </defs>\r\n       <use xlink:href=\"#DejaVuSans-52\"/>\r\n      </g>\r\n     </g>\r\n    </g>\r\n    <g id=\"xtick_4\">\r\n     <g id=\"line2d_4\">\r\n      <g>\r\n       <use style=\"stroke:#000000;stroke-width:0.8;\" x=\"185.120376\" xlink:href=\"#mf24c66cf26\" y=\"224.64\"/>\r\n      </g>\r\n     </g>\r\n     <g id=\"text_4\">\r\n      <!-- 6 -->\r\n      <g transform=\"translate(181.939126 239.238437)scale(0.1 -0.1)\">\r\n       <defs>\r\n        <path d=\"M 33.015625 40.375 \r\nQ 26.375 40.375 22.484375 35.828125 \r\nQ 18.609375 31.296875 18.609375 23.390625 \r\nQ 18.609375 15.53125 22.484375 10.953125 \r\nQ 26.375 6.390625 33.015625 6.390625 \r\nQ 39.65625 6.390625 43.53125 10.953125 \r\nQ 47.40625 15.53125 47.40625 23.390625 \r\nQ 47.40625 31.296875 43.53125 35.828125 \r\nQ 39.65625 40.375 33.015625 40.375 \r\nz\r\nM 52.59375 71.296875 \r\nL 52.59375 62.3125 \r\nQ 48.875 64.0625 45.09375 64.984375 \r\nQ 41.3125 65.921875 37.59375 65.921875 \r\nQ 27.828125 65.921875 22.671875 59.328125 \r\nQ 17.53125 52.734375 16.796875 39.40625 \r\nQ 19.671875 43.65625 24.015625 45.921875 \r\nQ 28.375 48.1875 33.59375 48.1875 \r\nQ 44.578125 48.1875 50.953125 41.515625 \r\nQ 57.328125 34.859375 57.328125 23.390625 \r\nQ 57.328125 12.15625 50.6875 5.359375 \r\nQ 44.046875 -1.421875 33.015625 -1.421875 \r\nQ 20.359375 -1.421875 13.671875 8.265625 \r\nQ 6.984375 17.96875 6.984375 36.375 \r\nQ 6.984375 53.65625 15.1875 63.9375 \r\nQ 23.390625 74.21875 37.203125 74.21875 \r\nQ 40.921875 74.21875 44.703125 73.484375 \r\nQ 48.484375 72.75 52.59375 71.296875 \r\nz\r\n\" id=\"DejaVuSans-54\"/>\r\n       </defs>\r\n       <use xlink:href=\"#DejaVuSans-54\"/>\r\n      </g>\r\n     </g>\r\n    </g>\r\n    <g id=\"xtick_5\">\r\n     <g id=\"line2d_5\">\r\n      <g>\r\n       <use style=\"stroke:#000000;stroke-width:0.8;\" x=\"228.926836\" xlink:href=\"#mf24c66cf26\" y=\"224.64\"/>\r\n      </g>\r\n     </g>\r\n     <g id=\"text_5\">\r\n      <!-- 8 -->\r\n      <g transform=\"translate(225.745586 239.238437)scale(0.1 -0.1)\">\r\n       <defs>\r\n        <path d=\"M 31.78125 34.625 \r\nQ 24.75 34.625 20.71875 30.859375 \r\nQ 16.703125 27.09375 16.703125 20.515625 \r\nQ 16.703125 13.921875 20.71875 10.15625 \r\nQ 24.75 6.390625 31.78125 6.390625 \r\nQ 38.8125 6.390625 42.859375 10.171875 \r\nQ 46.921875 13.96875 46.921875 20.515625 \r\nQ 46.921875 27.09375 42.890625 30.859375 \r\nQ 38.875 34.625 31.78125 34.625 \r\nz\r\nM 21.921875 38.8125 \r\nQ 15.578125 40.375 12.03125 44.71875 \r\nQ 8.5 49.078125 8.5 55.328125 \r\nQ 8.5 64.0625 14.71875 69.140625 \r\nQ 20.953125 74.21875 31.78125 74.21875 \r\nQ 42.671875 74.21875 48.875 69.140625 \r\nQ 55.078125 64.0625 55.078125 55.328125 \r\nQ 55.078125 49.078125 51.53125 44.71875 \r\nQ 48 40.375 41.703125 38.8125 \r\nQ 48.828125 37.15625 52.796875 32.3125 \r\nQ 56.78125 27.484375 56.78125 20.515625 \r\nQ 56.78125 9.90625 50.3125 4.234375 \r\nQ 43.84375 -1.421875 31.78125 -1.421875 \r\nQ 19.734375 -1.421875 13.25 4.234375 \r\nQ 6.78125 9.90625 6.78125 20.515625 \r\nQ 6.78125 27.484375 10.78125 32.3125 \r\nQ 14.796875 37.15625 21.921875 38.8125 \r\nz\r\nM 18.3125 54.390625 \r\nQ 18.3125 48.734375 21.84375 45.5625 \r\nQ 25.390625 42.390625 31.78125 42.390625 \r\nQ 38.140625 42.390625 41.71875 45.5625 \r\nQ 45.3125 48.734375 45.3125 54.390625 \r\nQ 45.3125 60.0625 41.71875 63.234375 \r\nQ 38.140625 66.40625 31.78125 66.40625 \r\nQ 25.390625 66.40625 21.84375 63.234375 \r\nQ 18.3125 60.0625 18.3125 54.390625 \r\nz\r\n\" id=\"DejaVuSans-56\"/>\r\n       </defs>\r\n       <use xlink:href=\"#DejaVuSans-56\"/>\r\n      </g>\r\n     </g>\r\n    </g>\r\n    <g id=\"xtick_6\">\r\n     <g id=\"line2d_6\">\r\n      <g>\r\n       <use style=\"stroke:#000000;stroke-width:0.8;\" x=\"272.733296\" xlink:href=\"#mf24c66cf26\" y=\"224.64\"/>\r\n      </g>\r\n     </g>\r\n     <g id=\"text_6\">\r\n      <!-- 10 -->\r\n      <g transform=\"translate(266.370796 239.238437)scale(0.1 -0.1)\">\r\n       <defs>\r\n        <path d=\"M 12.40625 8.296875 \r\nL 28.515625 8.296875 \r\nL 28.515625 63.921875 \r\nL 10.984375 60.40625 \r\nL 10.984375 69.390625 \r\nL 28.421875 72.90625 \r\nL 38.28125 72.90625 \r\nL 38.28125 8.296875 \r\nL 54.390625 8.296875 \r\nL 54.390625 0 \r\nL 12.40625 0 \r\nz\r\n\" id=\"DejaVuSans-49\"/>\r\n       </defs>\r\n       <use xlink:href=\"#DejaVuSans-49\"/>\r\n       <use x=\"63.623047\" xlink:href=\"#DejaVuSans-48\"/>\r\n      </g>\r\n     </g>\r\n    </g>\r\n    <g id=\"xtick_7\">\r\n     <g id=\"line2d_7\">\r\n      <g>\r\n       <use style=\"stroke:#000000;stroke-width:0.8;\" x=\"316.539757\" xlink:href=\"#mf24c66cf26\" y=\"224.64\"/>\r\n      </g>\r\n     </g>\r\n     <g id=\"text_7\">\r\n      <!-- 12 -->\r\n      <g transform=\"translate(310.177257 239.238437)scale(0.1 -0.1)\">\r\n       <use xlink:href=\"#DejaVuSans-49\"/>\r\n       <use x=\"63.623047\" xlink:href=\"#DejaVuSans-50\"/>\r\n      </g>\r\n     </g>\r\n    </g>\r\n    <g id=\"xtick_8\">\r\n     <g id=\"line2d_8\">\r\n      <g>\r\n       <use style=\"stroke:#000000;stroke-width:0.8;\" x=\"360.346217\" xlink:href=\"#mf24c66cf26\" y=\"224.64\"/>\r\n      </g>\r\n     </g>\r\n     <g id=\"text_8\">\r\n      <!-- 14 -->\r\n      <g transform=\"translate(353.983717 239.238437)scale(0.1 -0.1)\">\r\n       <use xlink:href=\"#DejaVuSans-49\"/>\r\n       <use x=\"63.623047\" xlink:href=\"#DejaVuSans-52\"/>\r\n      </g>\r\n     </g>\r\n    </g>\r\n   </g>\r\n   <g id=\"matplotlib.axis_2\">\r\n    <g id=\"ytick_1\">\r\n     <g id=\"line2d_9\">\r\n      <defs>\r\n       <path d=\"M 0 0 \r\nL -3.5 0 \r\n\" id=\"mdcddc91dd6\" style=\"stroke:#000000;stroke-width:0.8;\"/>\r\n      </defs>\r\n      <g>\r\n       <use style=\"stroke:#000000;stroke-width:0.8;\" x=\"38.482813\" xlink:href=\"#mdcddc91dd6\" y=\"214.929171\"/>\r\n      </g>\r\n     </g>\r\n     <g id=\"text_9\">\r\n      <!-- −0.3 -->\r\n      <g transform=\"translate(7.2 218.728389)scale(0.1 -0.1)\">\r\n       <defs>\r\n        <path d=\"M 10.59375 35.5 \r\nL 73.1875 35.5 \r\nL 73.1875 27.203125 \r\nL 10.59375 27.203125 \r\nz\r\n\" id=\"DejaVuSans-8722\"/>\r\n        <path d=\"M 10.6875 12.40625 \r\nL 21 12.40625 \r\nL 21 0 \r\nL 10.6875 0 \r\nz\r\n\" id=\"DejaVuSans-46\"/>\r\n        <path d=\"M 40.578125 39.3125 \r\nQ 47.65625 37.796875 51.625 33 \r\nQ 55.609375 28.21875 55.609375 21.1875 \r\nQ 55.609375 10.40625 48.1875 4.484375 \r\nQ 40.765625 -1.421875 27.09375 -1.421875 \r\nQ 22.515625 -1.421875 17.65625 -0.515625 \r\nQ 12.796875 0.390625 7.625 2.203125 \r\nL 7.625 11.71875 \r\nQ 11.71875 9.328125 16.59375 8.109375 \r\nQ 21.484375 6.890625 26.8125 6.890625 \r\nQ 36.078125 6.890625 40.9375 10.546875 \r\nQ 45.796875 14.203125 45.796875 21.1875 \r\nQ 45.796875 27.640625 41.28125 31.265625 \r\nQ 36.765625 34.90625 28.71875 34.90625 \r\nL 20.21875 34.90625 \r\nL 20.21875 43.015625 \r\nL 29.109375 43.015625 \r\nQ 36.375 43.015625 40.234375 45.921875 \r\nQ 44.09375 48.828125 44.09375 54.296875 \r\nQ 44.09375 59.90625 40.109375 62.90625 \r\nQ 36.140625 65.921875 28.71875 65.921875 \r\nQ 24.65625 65.921875 20.015625 65.03125 \r\nQ 15.375 64.15625 9.8125 62.3125 \r\nL 9.8125 71.09375 \r\nQ 15.4375 72.65625 20.34375 73.4375 \r\nQ 25.25 74.21875 29.59375 74.21875 \r\nQ 40.828125 74.21875 47.359375 69.109375 \r\nQ 53.90625 64.015625 53.90625 55.328125 \r\nQ 53.90625 49.265625 50.4375 45.09375 \r\nQ 46.96875 40.921875 40.578125 39.3125 \r\nz\r\n\" id=\"DejaVuSans-51\"/>\r\n       </defs>\r\n       <use xlink:href=\"#DejaVuSans-8722\"/>\r\n       <use x=\"83.789062\" xlink:href=\"#DejaVuSans-48\"/>\r\n       <use x=\"147.412109\" xlink:href=\"#DejaVuSans-46\"/>\r\n       <use x=\"179.199219\" xlink:href=\"#DejaVuSans-51\"/>\r\n      </g>\r\n     </g>\r\n    </g>\r\n    <g id=\"ytick_2\">\r\n     <g id=\"line2d_10\">\r\n      <g>\r\n       <use style=\"stroke:#000000;stroke-width:0.8;\" x=\"38.482813\" xlink:href=\"#mdcddc91dd6\" y=\"179.015024\"/>\r\n      </g>\r\n     </g>\r\n     <g id=\"text_10\">\r\n      <!-- −0.2 -->\r\n      <g transform=\"translate(7.2 182.814243)scale(0.1 -0.1)\">\r\n       <use xlink:href=\"#DejaVuSans-8722\"/>\r\n       <use x=\"83.789062\" xlink:href=\"#DejaVuSans-48\"/>\r\n       <use x=\"147.412109\" xlink:href=\"#DejaVuSans-46\"/>\r\n       <use x=\"179.199219\" xlink:href=\"#DejaVuSans-50\"/>\r\n      </g>\r\n     </g>\r\n    </g>\r\n    <g id=\"ytick_3\">\r\n     <g id=\"line2d_11\">\r\n      <g>\r\n       <use style=\"stroke:#000000;stroke-width:0.8;\" x=\"38.482813\" xlink:href=\"#mdcddc91dd6\" y=\"143.100877\"/>\r\n      </g>\r\n     </g>\r\n     <g id=\"text_11\">\r\n      <!-- −0.1 -->\r\n      <g transform=\"translate(7.2 146.900096)scale(0.1 -0.1)\">\r\n       <use xlink:href=\"#DejaVuSans-8722\"/>\r\n       <use x=\"83.789062\" xlink:href=\"#DejaVuSans-48\"/>\r\n       <use x=\"147.412109\" xlink:href=\"#DejaVuSans-46\"/>\r\n       <use x=\"179.199219\" xlink:href=\"#DejaVuSans-49\"/>\r\n      </g>\r\n     </g>\r\n    </g>\r\n    <g id=\"ytick_4\">\r\n     <g id=\"line2d_12\">\r\n      <g>\r\n       <use style=\"stroke:#000000;stroke-width:0.8;\" x=\"38.482813\" xlink:href=\"#mdcddc91dd6\" y=\"107.18673\"/>\r\n      </g>\r\n     </g>\r\n     <g id=\"text_12\">\r\n      <!-- 0.0 -->\r\n      <g transform=\"translate(15.579688 110.985949)scale(0.1 -0.1)\">\r\n       <use xlink:href=\"#DejaVuSans-48\"/>\r\n       <use x=\"63.623047\" xlink:href=\"#DejaVuSans-46\"/>\r\n       <use x=\"95.410156\" xlink:href=\"#DejaVuSans-48\"/>\r\n      </g>\r\n     </g>\r\n    </g>\r\n    <g id=\"ytick_5\">\r\n     <g id=\"line2d_13\">\r\n      <g>\r\n       <use style=\"stroke:#000000;stroke-width:0.8;\" x=\"38.482813\" xlink:href=\"#mdcddc91dd6\" y=\"71.272583\"/>\r\n      </g>\r\n     </g>\r\n     <g id=\"text_13\">\r\n      <!-- 0.1 -->\r\n      <g transform=\"translate(15.579688 75.071802)scale(0.1 -0.1)\">\r\n       <use xlink:href=\"#DejaVuSans-48\"/>\r\n       <use x=\"63.623047\" xlink:href=\"#DejaVuSans-46\"/>\r\n       <use x=\"95.410156\" xlink:href=\"#DejaVuSans-49\"/>\r\n      </g>\r\n     </g>\r\n    </g>\r\n    <g id=\"ytick_6\">\r\n     <g id=\"line2d_14\">\r\n      <g>\r\n       <use style=\"stroke:#000000;stroke-width:0.8;\" x=\"38.482813\" xlink:href=\"#mdcddc91dd6\" y=\"35.358437\"/>\r\n      </g>\r\n     </g>\r\n     <g id=\"text_14\">\r\n      <!-- 0.2 -->\r\n      <g transform=\"translate(15.579688 39.157655)scale(0.1 -0.1)\">\r\n       <use xlink:href=\"#DejaVuSans-48\"/>\r\n       <use x=\"63.623047\" xlink:href=\"#DejaVuSans-46\"/>\r\n       <use x=\"95.410156\" xlink:href=\"#DejaVuSans-50\"/>\r\n      </g>\r\n     </g>\r\n    </g>\r\n   </g>\r\n   <g id=\"line2d_15\">\r\n    <path clip-path=\"url(#p0f9dc28367)\" d=\"M 53.700994 193.019295 \r\nL 55.70879 193.011072 \r\nL 57.625323 193.020649 \r\nL 60.728281 193.012662 \r\nL 63.283658 192.887595 \r\nL 63.648711 192.322505 \r\nL 63.922502 191.288887 \r\nL 64.287556 188.971236 \r\nL 64.652609 185.327357 \r\nL 65.20019 176.744058 \r\nL 65.930298 158.929316 \r\nL 68.211884 87.994031 \r\nL 69.307046 55.544815 \r\nL 70.037154 39.429928 \r\nL 70.675998 29.803951 \r\nL 71.953686 19.518486 \r\nL 72.410003 17.819056 \r\nL 72.866321 17.110581 \r\nL 73.140111 17.118093 \r\nL 73.322638 17.376513 \r\nL 73.596428 18.05418 \r\nL 74.052746 19.987596 \r\nL 74.326536 21.532869 \r\nL 75.786751 33.557897 \r\nL 76.060542 38.469404 \r\nL 76.608123 46.811892 \r\nL 77.429494 62.057585 \r\nL 79.619817 104.717711 \r\nL 80.349924 116.039576 \r\nL 81.353822 128.499963 \r\nL 81.445086 128.535024 \r\nL 81.992667 132.353358 \r\nL 82.631511 135.365659 \r\nL 82.905301 135.855926 \r\nL 82.996565 135.85574 \r\nL 83.270355 135.346508 \r\nL 83.361619 135.212651 \r\nL 83.726672 133.825045 \r\nL 84.000463 131.71541 \r\nL 84.091726 131.677794 \r\nL 84.821834 125.959436 \r\nL 84.913097 124.961457 \r\nL 85.186888 120.647303 \r\nL 85.825732 113.545327 \r\nL 86.738367 100.850298 \r\nL 88.92869 69.485458 \r\nL 89.841324 59.115917 \r\nL 90.753959 51.291574 \r\nL 91.392803 47.698414 \r\nL 91.757857 46.209026 \r\nL 92.305438 44.982161 \r\nL 92.396701 44.979025 \r\nL 92.579228 44.859931 \r\nL 92.853018 44.975995 \r\nL 93.400599 45.842157 \r\nL 93.765653 47.081625 \r\nL 94.404497 50.033736 \r\nL 95.499659 58.231405 \r\nL 97.233664 75.806474 \r\nL 98.69388 92.481791 \r\nL 99.423987 99.845882 \r\nL 100.427885 107.542751 \r\nL 100.884203 110.05715 \r\nL 101.523047 112.340104 \r\nL 101.888101 113.077587 \r\nL 102.070628 113.211811 \r\nL 102.435682 113.192288 \r\nL 102.800735 112.571803 \r\nL 103.43958 110.551876 \r\nL 103.895897 108.293689 \r\nL 104.626005 103.615624 \r\nL 106.451274 87.913946 \r\nL 108.45907 70.08318 \r\nL 109.645495 62.478659 \r\nL 110.193076 59.993147 \r\nL 110.649393 58.499008 \r\nL 111.10571 57.508557 \r\nL 111.470764 57.139522 \r\nL 111.927081 57.131593 \r\nL 112.748452 58.50916 \r\nL 113.296033 60.240589 \r\nL 114.026141 63.598297 \r\nL 115.030039 69.693465 \r\nL 116.581518 81.049872 \r\nL 117.859206 90.306449 \r\nL 118.863104 96.318688 \r\nL 119.867002 100.361293 \r\nL 120.505846 101.857465 \r\nL 120.688373 101.999105 \r\nL 120.962164 102.242218 \r\nL 121.418481 102.119809 \r\nL 122.057325 101.114772 \r\nL 122.787433 98.855929 \r\nL 123.700068 94.714601 \r\nL 125.160283 86.080623 \r\nL 127.98945 69.794653 \r\nL 128.537031 67.577421 \r\nL 129.723456 64.589447 \r\nL 129.814719 64.584803 \r\nL 130.179773 64.219922 \r\nL 130.3623 64.221205 \r\nL 130.544827 64.095217 \r\nL 130.727354 64.220216 \r\nL 130.818617 64.222504 \r\nL 131.731252 65.591059 \r\nL 132.278833 67.32797 \r\nL 133.373994 71.569498 \r\nL 135.746844 83.769366 \r\nL 136.750742 88.712478 \r\nL 137.75464 92.70356 \r\nL 138.393484 94.563574 \r\nL 139.032329 95.71892 \r\nL 139.488646 96.139968 \r\nL 139.762436 96.211121 \r\nL 140.036227 96.183508 \r\nL 140.675071 95.573006 \r\nL 141.040125 94.947599 \r\nL 142.22655 91.543618 \r\nL 143.504238 86.266105 \r\nL 144.508136 81.649346 \r\nL 145.968352 75.297496 \r\nL 147.51983 70.532689 \r\nL 148.158675 69.375899 \r\nL 148.797519 68.877271 \r\nL 149.436363 68.914883 \r\nL 149.710153 69.056031 \r\nL 150.531525 70.182918 \r\nL 151.809213 73.552845 \r\nL 155.824805 88.546169 \r\nL 156.646176 90.610681 \r\nL 157.285021 91.713259 \r\nL 157.832601 92.298283 \r\nL 158.745236 92.413706 \r\nL 159.566607 91.530847 \r\nL 160.114188 90.533963 \r\nL 161.118086 87.912739 \r\nL 163.85599 78.55116 \r\nL 165.681259 73.560992 \r\nL 166.593893 72.173483 \r\nL 167.050211 71.793641 \r\nL 167.597791 71.674738 \r\nL 168.054109 71.748538 \r\nL 168.419163 72.057903 \r\nL 169.14927 72.994587 \r\nL 170.153168 75.087097 \r\nL 170.974539 77.291317 \r\nL 172.617282 82.286338 \r\nL 173.073599 83.712142 \r\nL 173.529916 85.033974 \r\nL 173.986234 86.260857 \r\nL 175.355185 89.0602 \r\nL 176.450347 90.000854 \r\nL 177.089191 90.051408 \r\nL 177.454245 89.91468 \r\nL 178.64067 88.45962 \r\nL 179.096987 87.553814 \r\nL 181.104783 82.298915 \r\nL 182.747526 77.901217 \r\nL 183.66016 75.819359 \r\nL 184.390268 74.656275 \r\nL 185.211639 73.785382 \r\nL 186.306801 73.624495 \r\nL 187.128172 74.157706 \r\nL 188.040806 75.374376 \r\nL 189.774812 79.07534 \r\nL 192.056398 84.676494 \r\nL 192.421452 85.409787 \r\nL 192.87777 86.295604 \r\nL 194.064195 87.900944 \r\nL 194.794302 88.243356 \r\nL 195.7982 88.058633 \r\nL 196.163254 87.787464 \r\nL 196.893362 87.060684 \r\nL 198.079787 85.052948 \r\nL 198.536104 84.06049 \r\nL 198.901158 83.278494 \r\nL 200.178846 80.32901 \r\nL 200.908954 78.771297 \r\nL 201.456535 77.701896 \r\nL 202.91675 75.593954 \r\nL 203.646858 75.088564 \r\nL 204.103175 75.018516 \r\nL 204.376965 75.030533 \r\nL 205.107073 75.224096 \r\nL 205.654654 75.678752 \r\nL 206.749815 77.102778 \r\nL 208.392558 80.184876 \r\nL 209.852773 83.217953 \r\nL 210.217827 83.820175 \r\nL 210.674144 84.695536 \r\nL 211.951833 86.347094 \r\nL 212.40815 86.751495 \r\nL 212.955731 87.050613 \r\nL 213.959629 87.019568 \r\nL 214.781 86.5208 \r\nL 215.967425 85.039374 \r\nL 217.062586 83.165744 \r\nL 217.610167 82.117232 \r\nL 218.887855 79.662017 \r\nL 219.435436 78.760944 \r\nL 219.891754 78.04296 \r\nL 220.621861 77.05434 \r\nL 220.804388 76.891026 \r\nL 221.625759 76.262369 \r\nL 221.808286 76.189335 \r\nL 222.17334 76.086228 \r\nL 222.994711 76.05024 \r\nL 223.177238 76.166221 \r\nL 223.359765 76.210823 \r\nL 223.724819 76.437156 \r\nL 223.998609 76.644923 \r\nL 224.363663 76.986397 \r\nL 224.728717 77.383719 \r\nL 225.093771 77.924889 \r\nL 226.006405 79.312079 \r\nL 226.645249 80.414624 \r\nL 227.740411 82.325046 \r\nL 228.287992 83.26196 \r\nL 229.018099 84.319124 \r\nL 230.021997 85.529078 \r\nL 230.295788 85.705101 \r\nL 230.660842 85.951664 \r\nL 230.843369 86.026584 \r\nL 231.390949 86.18476 \r\nL 232.212321 86.125644 \r\nL 232.668638 85.936775 \r\nL 234.03759 84.632117 \r\nL 235.589069 82.329206 \r\nL 238.144445 78.428911 \r\nL 238.78329 77.691563 \r\nL 239.787188 76.947984 \r\nL 239.878451 76.978529 \r\nL 240.152241 76.79894 \r\nL 241.42993 76.829465 \r\nL 241.70372 76.97094 \r\nL 242.798882 77.794422 \r\nL 243.528989 78.609546 \r\nL 244.350361 79.813265 \r\nL 244.989205 80.705611 \r\nL 246.905737 83.430842 \r\nL 247.818372 84.453134 \r\nL 248.457216 84.943769 \r\nL 248.82227 85.178955 \r\nL 249.278587 85.327331 \r\nL 249.734905 85.43436 \r\nL 250.556276 85.309471 \r\nL 251.012593 85.140931 \r\nL 251.377647 84.902042 \r\nL 252.016491 84.312795 \r\nL 252.564072 83.737764 \r\nL 254.663131 80.804694 \r\nL 256.397137 78.62436 \r\nL 257.766089 77.541881 \r\nL 258.861251 77.293693 \r\nL 259.682622 77.374348 \r\nL 260.869047 78.066498 \r\nL 264.154531 82.047679 \r\nL 264.884639 82.924365 \r\nL 265.158429 83.181657 \r\nL 265.9798 84.000779 \r\nL 267.348752 84.737412 \r\nL 267.622543 84.75985 \r\nL 268.170123 84.807682 \r\nL 268.626441 84.699461 \r\nL 268.991495 84.599247 \r\nL 269.904129 84.096624 \r\nL 270.269183 83.684564 \r\nL 270.816764 83.297126 \r\nL 270.999291 83.053139 \r\nL 271.181818 82.895057 \r\nL 271.364345 82.658922 \r\nL 272.82456 80.922626 \r\nL 273.828458 79.718622 \r\nL 274.010985 79.579853 \r\nL 274.558566 79.040027 \r\nL 274.923619 78.752034 \r\nL 275.19741 78.542699 \r\nL 276.383835 77.93314 \r\nL 277.022679 77.933494 \r\nL 278.11784 78.114567 \r\nL 278.939212 78.586174 \r\nL 280.399427 79.929204 \r\nL 280.764481 80.350789 \r\nL 281.038271 80.599912 \r\nL 282.042169 81.820023 \r\nL 282.224696 81.982065 \r\nL 283.046067 82.911426 \r\nL 284.871337 84.251657 \r\nL 285.510181 84.496571 \r\nL 287.244186 84.348227 \r\nL 287.426713 84.231385 \r\nL 287.60924 84.143833 \r\nL 288.704402 83.342294 \r\nL 292.35494 79.622721 \r\nL 292.62873 79.404176 \r\nL 293.267575 78.888719 \r\nL 294.545263 78.356833 \r\nL 295.184107 78.339154 \r\nL 296.005478 78.40858 \r\nL 296.553059 78.644189 \r\nL 297.739484 79.461441 \r\nL 298.104538 79.753794 \r\nL 299.74728 81.327213 \r\nL 300.294861 81.954848 \r\nL 300.477388 82.101808 \r\nL 301.298759 82.870722 \r\nL 301.84634 83.342228 \r\nL 302.12013 83.485795 \r\nL 302.393921 83.707953 \r\nL 304.036663 84.120902 \r\nL 305.405615 83.943995 \r\nL 306.226986 83.483697 \r\nL 306.683303 83.157505 \r\nL 307.413411 82.59173 \r\nL 307.960992 82.078579 \r\nL 310.698895 79.658069 \r\nL 312.159111 78.965809 \r\nL 313.801853 78.873168 \r\nL 314.714488 79.170124 \r\nL 315.992176 79.978656 \r\nL 316.448493 80.398121 \r\nL 316.539757 80.404123 \r\nL 316.722284 80.623987 \r\nL 316.904811 80.715961 \r\nL 317.269864 81.093588 \r\nL 317.452391 81.221534 \r\nL 317.817445 81.603973 \r\nL 317.999972 81.710271 \r\nL 319.368924 82.843719 \r\nL 319.642715 83.008721 \r\nL 320.190295 83.390505 \r\nL 320.281559 83.378848 \r\nL 320.464086 83.517558 \r\nL 320.555349 83.496196 \r\nL 320.737876 83.614869 \r\nL 320.920403 83.660655 \r\nL 321.194193 83.736608 \r\nL 321.833038 83.918747 \r\nL 322.015564 83.866361 \r\nL 322.198091 83.944626 \r\nL 322.289355 83.856643 \r\nL 322.471882 83.974743 \r\nL 322.654409 83.932345 \r\nL 322.745672 83.9797 \r\nL 322.928199 83.861853 \r\nL 323.110726 83.83685 \r\nL 323.201989 83.759235 \r\nL 323.293253 83.832519 \r\nL 323.47578 83.665886 \r\nL 323.658307 83.669422 \r\nL 324.023361 83.472684 \r\nL 324.205887 83.467236 \r\nL 324.388414 83.340193 \r\nL 324.479678 83.321428 \r\nL 324.662205 83.176894 \r\nL 326.213684 81.998524 \r\nL 326.487474 81.740766 \r\nL 326.761264 81.555779 \r\nL 327.491372 80.931058 \r\nL 328.860324 79.943245 \r\nL 330.411803 79.310792 \r\nL 330.86812 79.261699 \r\nL 331.324437 79.222443 \r\nL 332.419599 79.362131 \r\nL 333.606024 79.876987 \r\nL 334.244868 80.326838 \r\nL 334.792449 80.702795 \r\nL 335.705083 81.459772 \r\nL 337.347826 82.706586 \r\nL 338.899304 83.508561 \r\nL 339.173095 83.5637 \r\nL 339.538149 83.651504 \r\nL 339.903202 83.628347 \r\nL 340.724574 83.603837 \r\nL 341.728472 83.416164 \r\nL 342.276052 83.142966 \r\nL 343.371214 82.530887 \r\nL 344.557639 81.696435 \r\nL 344.831429 81.494923 \r\nL 346.474172 80.365227 \r\nL 348.573231 79.543221 \r\nL 350.581027 79.758332 \r\nL 352.953877 80.98775 \r\nL 353.592721 81.476291 \r\nL 353.866512 81.675292 \r\nL 354.505356 82.110207 \r\nL 355.1442 82.523474 \r\nL 355.783044 82.911376 \r\nL 356.056835 83.000504 \r\nL 356.513152 83.230917 \r\nL 357.608313 83.487465 \r\nL 358.064631 83.487962 \r\nL 358.064631 83.487962 \r\n\" style=\"fill:none;stroke:#1f77b4;stroke-linecap:square;stroke-width:1.5;\"/>\r\n   </g>\r\n   <g id=\"line2d_16\">\r\n    <path clip-path=\"url(#p0f9dc28367)\" d=\"M 53.700994 161.732657 \r\nL 56.256371 161.731074 \r\nL 62.55355 161.879656 \r\nL 62.918604 162.087336 \r\nL 63.283658 162.680599 \r\nL 63.648711 163.978591 \r\nL 63.922502 165.85766 \r\nL 64.287556 169.868485 \r\nL 64.835136 178.678447 \r\nL 66.112825 201.287545 \r\nL 66.751669 208.878738 \r\nL 67.29925 212.493823 \r\nL 67.57304 213.352105 \r\nL 67.755567 213.425116 \r\nL 67.938094 213.24236 \r\nL 68.303148 211.653778 \r\nL 68.759465 208.098091 \r\nL 69.124519 204.041772 \r\nL 71.041052 179.866526 \r\nL 71.953686 171.930359 \r\nL 72.410003 169.838055 \r\nL 72.683794 169.309765 \r\nL 72.866321 169.129118 \r\nL 73.048848 169.066757 \r\nL 73.413902 169.852872 \r\nL 73.778955 171.343053 \r\nL 74.235273 174.120795 \r\nL 74.874117 179.552774 \r\nL 75.786751 187.962955 \r\nL 75.878015 186.518703 \r\nL 76.516859 193.85521 \r\nL 77.612021 204.54599 \r\nL 78.159601 208.227671 \r\nL 78.615919 210.134017 \r\nL 78.798446 210.576814 \r\nL 78.980973 211.141032 \r\nL 79.43729 211.673468 \r\nL 79.619817 211.573073 \r\nL 79.71108 211.700551 \r\nL 79.984871 211.341397 \r\nL 80.167397 211.573838 \r\nL 80.714978 210.412862 \r\nL 80.988769 210.000022 \r\nL 81.171296 209.731199 \r\nL 81.262559 211.329402 \r\nL 81.353822 210.981969 \r\nL 81.536349 208.845095 \r\nL 81.718876 208.677532 \r\nL 82.08393 207.851719 \r\nL 82.266457 208.767294 \r\nL 82.448984 208.41126 \r\nL 82.631511 208.40243 \r\nL 82.722774 208.55156 \r\nL 82.814038 208.429397 \r\nL 82.996565 208.916872 \r\nL 83.087828 208.561053 \r\nL 83.361619 209.049387 \r\nL 83.452882 209.007743 \r\nL 83.726672 209.492426 \r\nL 83.817936 208.578904 \r\nL 83.909199 208.719924 \r\nL 84.000463 208.671222 \r\nL 84.18299 210.048279 \r\nL 84.821834 211.916157 \r\nL 84.913097 211.754821 \r\nL 85.004361 208.592451 \r\nL 85.095624 208.64492 \r\nL 85.278151 208.95899 \r\nL 85.369415 209.199261 \r\nL 85.460678 210.16556 \r\nL 85.551942 210.044055 \r\nL 86.008259 210.912506 \r\nL 86.190786 210.840311 \r\nL 86.282049 214.36001 \r\nL 86.464576 210.579587 \r\nL 86.55584 210.773998 \r\nL 86.920893 210.026504 \r\nL 87.012157 210.120032 \r\nL 87.10342 209.835795 \r\nL 87.194684 210.83795 \r\nL 87.285947 209.820409 \r\nL 87.377211 210.495796 \r\nL 87.468474 209.418652 \r\nL 87.559738 209.537213 \r\nL 87.742265 209.097591 \r\nL 87.924792 208.379198 \r\nL 88.016055 208.604787 \r\nL 88.198582 207.441619 \r\nL 88.289845 207.463234 \r\nL 88.746163 205.502042 \r\nL 88.837426 205.821405 \r\nL 89.20248 203.988846 \r\nL 89.293743 203.801 \r\nL 89.47627 202.47571 \r\nL 89.750061 201.896241 \r\nL 89.932588 200.147216 \r\nL 90.023851 200.228801 \r\nL 90.206378 199.460004 \r\nL 90.662695 197.55348 \r\nL 90.936486 196.305734 \r\nL 91.119013 195.78176 \r\nL 91.392803 194.883855 \r\nL 91.484066 194.894701 \r\nL 91.57533 194.716552 \r\nL 91.757857 194.147736 \r\nL 92.396701 193.164519 \r\nL 92.670491 193.213403 \r\nL 92.761755 193.248622 \r\nL 92.944282 193.138583 \r\nL 93.126809 193.591935 \r\nL 93.218072 193.487213 \r\nL 93.583126 194.360949 \r\nL 93.674389 194.367757 \r\nL 94.313234 196.295012 \r\nL 94.495761 197.161742 \r\nL 94.769551 197.9982 \r\nL 95.773449 202.493478 \r\nL 95.955976 205.780252 \r\nL 96.047239 206.034268 \r\nL 96.32103 207.575394 \r\nL 96.959874 210.132732 \r\nL 97.051137 210.1487 \r\nL 97.963772 212.49837 \r\nL 98.420089 213.648559 \r\nL 98.511353 213.43512 \r\nL 98.602616 213.99735 \r\nL 98.69388 213.642131 \r\nL 98.876407 214.305323 \r\nL 99.058934 214.371735 \r\nL 99.150197 214.408949 \r\nL 99.24146 214.573704 \r\nL 99.332724 214.406891 \r\nL 99.423987 214.486745 \r\nL 99.515251 214.310789 \r\nL 99.606514 214.687131 \r\nL 99.789041 214.528407 \r\nL 99.971568 214.589425 \r\nL 100.245359 214.124656 \r\nL 100.336622 214.236854 \r\nL 100.427885 214.034008 \r\nL 100.519149 214.275129 \r\nL 100.701676 214.078625 \r\nL 100.792939 214.248055 \r\nL 100.975466 213.84041 \r\nL 101.157993 214.222973 \r\nL 101.431783 213.694958 \r\nL 101.61431 213.679098 \r\nL 101.796837 213.886845 \r\nL 101.888101 213.89775 \r\nL 101.979364 214.029832 \r\nL 102.161891 213.775146 \r\nL 102.253155 213.754284 \r\nL 102.435682 214.092899 \r\nL 102.618208 213.874703 \r\nL 102.709472 214.008524 \r\nL 102.891999 213.801418 \r\nL 102.983262 214.089332 \r\nL 103.074526 213.838814 \r\nL 103.165789 213.911709 \r\nL 103.257053 214.187304 \r\nL 103.348316 214.072055 \r\nL 103.530843 214.220481 \r\nL 103.622107 213.993163 \r\nL 103.71337 214.337361 \r\nL 103.895897 214.055559 \r\nL 104.169687 214.756364 \r\nL 104.352214 214.473204 \r\nL 104.443478 214.460481 \r\nL 104.626005 214.728383 \r\nL 104.717268 214.4779 \r\nL 104.808531 214.569406 \r\nL 104.899795 214.387185 \r\nL 104.991058 214.663353 \r\nL 105.082322 214.623425 \r\nL 105.356112 214.433489 \r\nL 105.447376 214.121064 \r\nL 105.629903 214.415619 \r\nL 105.721166 213.940673 \r\nL 105.81243 214.26212 \r\nL 105.903693 214.00742 \r\nL 105.994956 213.407245 \r\nL 106.08622 213.729964 \r\nL 106.36001 213.115129 \r\nL 106.451274 213.368529 \r\nL 106.542537 213.077882 \r\nL 106.633801 213.315165 \r\nL 106.816328 212.549975 \r\nL 106.998854 212.502096 \r\nL 107.272645 211.861012 \r\nL 107.728962 210.661092 \r\nL 107.820226 210.852804 \r\nL 107.911489 210.695592 \r\nL 108.185279 209.762309 \r\nL 108.276543 209.706245 \r\nL 108.641597 208.439186 \r\nL 108.73286 208.635331 \r\nL 108.915387 207.990309 \r\nL 109.006651 207.860692 \r\nL 109.189178 207.021365 \r\nL 109.280441 207.172663 \r\nL 109.645495 206.097714 \r\nL 109.736758 206.216102 \r\nL 109.828022 206.07568 \r\nL 110.193076 205.063157 \r\nL 110.375602 205.095517 \r\nL 110.558129 204.397402 \r\nL 110.649393 204.470087 \r\nL 110.740656 204.227635 \r\nL 110.83192 204.331519 \r\nL 110.923183 203.990255 \r\nL 111.014447 204.174062 \r\nL 111.379501 203.603757 \r\nL 111.470764 203.755089 \r\nL 111.744554 203.498841 \r\nL 111.835818 203.546059 \r\nL 111.927081 203.764286 \r\nL 112.109608 203.369613 \r\nL 112.292135 203.926282 \r\nL 112.383399 204.080525 \r\nL 112.565926 203.587039 \r\nL 112.657189 203.525963 \r\nL 112.839716 204.133298 \r\nL 113.022243 204.745658 \r\nL 113.113506 204.5809 \r\nL 113.296033 205.166937 \r\nL 113.569824 205.676569 \r\nL 113.661087 206.009594 \r\nL 113.75235 205.823651 \r\nL 113.843614 205.898989 \r\nL 114.026141 206.516435 \r\nL 114.117404 206.50521 \r\nL 114.299931 207.36294 \r\nL 114.391195 207.050103 \r\nL 115.395093 210.014532 \r\nL 115.486356 209.922253 \r\nL 116.216464 211.608755 \r\nL 116.764045 212.571322 \r\nL 116.855308 212.295249 \r\nL 116.946572 212.380196 \r\nL 117.037835 212.931558 \r\nL 117.129098 212.897969 \r\nL 117.220362 212.958289 \r\nL 117.402889 213.372967 \r\nL 117.767943 213.637658 \r\nL 118.041733 214.057715 \r\nL 118.132997 213.92455 \r\nL 118.22426 214.132938 \r\nL 118.315523 213.975398 \r\nL 118.406787 214.231584 \r\nL 118.49805 213.95493 \r\nL 118.589314 214.000952 \r\nL 118.771841 213.996885 \r\nL 118.863104 214.383083 \r\nL 118.954368 213.990835 \r\nL 119.045631 214.324607 \r\nL 119.228158 214.009833 \r\nL 119.319421 213.806184 \r\nL 119.410685 214.418161 \r\nL 119.501948 213.982845 \r\nL 119.593212 214.056312 \r\nL 119.684475 214.460631 \r\nL 119.775739 214.119516 \r\nL 119.867002 214.179651 \r\nL 120.049529 214.198881 \r\nL 120.232056 214.670792 \r\nL 120.32332 214.39959 \r\nL 120.505846 214.644859 \r\nL 120.59711 214.15903 \r\nL 120.688373 214.242727 \r\nL 120.779637 214.394178 \r\nL 120.8709 214.143479 \r\nL 121.053427 214.537341 \r\nL 121.327218 214.646844 \r\nL 121.418481 214.308624 \r\nL 121.509744 214.339097 \r\nL 121.601008 214.124104 \r\nL 121.692271 214.17356 \r\nL 121.783535 214.105629 \r\nL 121.874798 214.416868 \r\nL 121.966062 214.1069 \r\nL 122.057325 214.222449 \r\nL 122.239852 214.086186 \r\nL 122.513643 214.216677 \r\nL 122.696169 214.475642 \r\nL 122.878696 214.003227 \r\nL 123.061223 214.611764 \r\nL 123.152487 214.073752 \r\nL 123.335014 214.508415 \r\nL 123.426277 214.2212 \r\nL 123.517541 214.42627 \r\nL 123.973858 213.551666 \r\nL 124.247648 214.013635 \r\nL 124.338912 213.193365 \r\nL 124.703966 213.82915 \r\nL 124.795229 213.752999 \r\nL 124.977756 212.918193 \r\nL 125.069019 213.41552 \r\nL 125.160283 212.688768 \r\nL 125.251546 213.246928 \r\nL 125.34281 213.130227 \r\nL 125.434073 212.409237 \r\nL 125.525337 212.590101 \r\nL 126.072917 211.74166 \r\nL 126.164181 211.722289 \r\nL 126.711762 210.875079 \r\nL 126.894289 210.828136 \r\nL 127.168079 210.261514 \r\nL 127.441869 209.891379 \r\nL 127.533133 209.824845 \r\nL 127.71566 209.042125 \r\nL 127.806923 209.213648 \r\nL 127.898187 209.296148 \r\nL 127.98945 208.774488 \r\nL 128.080714 209.027944 \r\nL 128.171977 208.715086 \r\nL 128.26324 208.824099 \r\nL 128.354504 208.217433 \r\nL 128.445767 208.487219 \r\nL 128.628294 208.02489 \r\nL 128.719558 207.948785 \r\nL 128.810821 207.690985 \r\nL 128.902085 207.870147 \r\nL 128.993348 207.416754 \r\nL 129.084612 207.806364 \r\nL 129.358402 207.390977 \r\nL 129.449665 207.47443 \r\nL 129.632192 207.245915 \r\nL 129.723456 207.288384 \r\nL 129.905983 206.764468 \r\nL 129.997246 206.812068 \r\nL 130.08851 207.10324 \r\nL 130.271037 206.626135 \r\nL 130.3623 206.642046 \r\nL 130.544827 207.058589 \r\nL 130.63609 206.619375 \r\nL 130.818617 207.096975 \r\nL 131.001144 206.660595 \r\nL 131.183671 207.041671 \r\nL 131.366198 207.116085 \r\nL 131.457462 206.823243 \r\nL 131.548725 207.26745 \r\nL 131.639988 207.012637 \r\nL 131.822515 207.423093 \r\nL 131.913779 206.678538 \r\nL 132.005042 206.744656 \r\nL 132.46136 207.218739 \r\nL 135.838108 211.390096 \r\nL 136.659479 212.036546 \r\nL 136.842006 212.103489 \r\nL 137.207059 212.30204 \r\nL 137.48085 212.425746 \r\nL 137.845904 212.505874 \r\nL 138.393484 212.648037 \r\nL 138.849802 212.652178 \r\nL 140.218754 212.67048 \r\nL 140.948861 212.627911 \r\nL 141.952759 212.5284 \r\nL 142.774131 212.175644 \r\nL 144.508136 210.95522 \r\nL 147.337303 208.109832 \r\nL 148.523728 207.487169 \r\nL 150.075207 207.657732 \r\nL 151.99174 209.087174 \r\nL 152.448057 209.51219 \r\nL 154.36459 211.191795 \r\nL 154.912171 211.527352 \r\nL 155.459751 211.848862 \r\nL 157.102494 212.260592 \r\nL 159.566607 212.289608 \r\nL 161.209349 211.851379 \r\nL 163.125882 210.737453 \r\nL 163.673463 210.307943 \r\nL 164.40357 209.796067 \r\nL 164.677361 209.584649 \r\nL 164.951151 209.39788 \r\nL 165.772522 208.861302 \r\nL 165.955049 208.767982 \r\nL 166.411366 208.545234 \r\nL 167.141474 208.355593 \r\nL 168.327899 208.36671 \r\nL 170.335695 209.383905 \r\nL 171.613384 210.219154 \r\nL 172.069701 210.587079 \r\nL 172.526018 210.828834 \r\nL 172.891072 211.067496 \r\nL 173.073599 211.069173 \r\nL 173.256126 211.206825 \r\nL 173.62118 211.335318 \r\nL 173.803707 211.504959 \r\nL 173.986234 211.548717 \r\nL 174.351287 211.716008 \r\nL 174.625078 211.768164 \r\nL 175.081395 211.87416 \r\nL 176.085293 211.899487 \r\nL 178.275616 211.845674 \r\nL 180.192149 211.275672 \r\nL 180.73973 210.967989 \r\nL 182.291208 210.0635 \r\nL 183.933951 209.176682 \r\nL 186.124274 208.761394 \r\nL 187.310699 208.888015 \r\nL 189.318495 209.785704 \r\nL 189.592285 209.949085 \r\nL 189.866075 210.085739 \r\nL 190.048602 210.199134 \r\nL 190.231129 210.312615 \r\nL 191.600081 210.944905 \r\nL 192.147662 211.131634 \r\nL 192.421452 211.257888 \r\nL 193.516614 211.452368 \r\nL 194.976829 211.447102 \r\nL 195.889464 211.430062 \r\nL 197.167152 211.327047 \r\nL 197.805996 211.146392 \r\nL 198.901158 210.88687 \r\nL 199.174948 210.753781 \r\nL 199.448739 210.605887 \r\nL 199.722529 210.502284 \r\nL 202.734223 209.169291 \r\nL 204.833283 209.058411 \r\nL 206.658552 209.549121 \r\nL 207.66245 209.940593 \r\nL 207.93624 210.076948 \r\nL 208.118767 210.099444 \r\nL 208.483821 210.312031 \r\nL 209.578983 210.683859 \r\nL 209.852773 210.774129 \r\nL 210.765408 211.105555 \r\nL 211.130461 211.182465 \r\nL 211.678042 211.279275 \r\nL 213.868365 211.302139 \r\nL 216.241215 211.068619 \r\nL 216.515006 210.929328 \r\nL 217.15385 210.716123 \r\nL 219.344173 209.872511 \r\nL 219.5267 209.823771 \r\nL 219.709227 209.757521 \r\nL 219.983017 209.705037 \r\nL 220.348071 209.512494 \r\nL 222.355867 209.328784 \r\nL 224.363663 209.529371 \r\nL 224.81998 209.64357 \r\nL 224.911244 209.641082 \r\nL 225.093771 209.748062 \r\nL 225.641351 209.91695 \r\nL 226.188932 210.153174 \r\nL 226.736513 210.330363 \r\nL 227.649148 210.645042 \r\nL 228.105465 210.764411 \r\nL 228.744309 210.929315 \r\nL 230.387051 211.27819 \r\nL 230.934632 211.253192 \r\nL 231.93853 211.266092 \r\nL 234.950224 210.9249 \r\nL 235.224015 210.782918 \r\nL 236.045386 210.575689 \r\nL 236.319176 210.485499 \r\nL 237.505601 210.163608 \r\nL 237.779392 210.039654 \r\nL 238.235709 209.918361 \r\nL 239.05708 209.750552 \r\nL 239.33087 209.634814 \r\nL 240.608559 209.605185 \r\nL 242.433828 209.655562 \r\nL 242.616355 209.755658 \r\nL 243.072672 209.810203 \r\nL 243.528989 209.95869 \r\nL 243.711516 209.980628 \r\nL 243.985307 210.09828 \r\nL 244.350361 210.138127 \r\nL 244.715414 210.257073 \r\nL 244.989205 210.304318 \r\nL 245.628049 210.52948 \r\nL 245.901839 210.538819 \r\nL 246.17563 210.655091 \r\nL 247.909636 210.966567 \r\nL 248.913534 210.996603 \r\nL 252.655335 210.75789 \r\nL 253.202916 210.537841 \r\nL 254.024287 210.342769 \r\nL 255.484503 210.031414 \r\nL 255.849556 209.929896 \r\nL 256.123347 209.816123 \r\nL 257.766089 209.615767 \r\nL 259.317568 209.629006 \r\nL 260.595256 209.657267 \r\nL 260.777783 209.693012 \r\nL 261.142837 209.776172 \r\nL 261.781681 209.941852 \r\nL 262.055472 209.959756 \r\nL 263.241897 210.249232 \r\nL 263.789477 210.371024 \r\nL 264.884639 210.570036 \r\nL 265.249693 210.600604 \r\nL 265.614747 210.71235 \r\nL 266.071064 210.710975 \r\nL 266.618645 210.747221 \r\nL 267.074962 210.694665 \r\nL 267.348752 210.739123 \r\nL 267.713806 210.730313 \r\nL 270.7255 210.466941 \r\nL 271.729398 210.25859 \r\nL 271.911925 210.252837 \r\nL 272.094452 210.240007 \r\nL 272.185716 210.252447 \r\nL 272.368243 210.142745 \r\nL 275.562464 209.532161 \r\nL 276.566362 209.523666 \r\nL 279.578056 209.717771 \r\nL 280.034373 209.86509 \r\nL 280.399427 209.887127 \r\nL 281.494588 210.132421 \r\nL 285.327654 210.62312 \r\nL 286.149025 210.596805 \r\nL 289.525773 210.475283 \r\nL 290.164617 210.293488 \r\nL 290.438407 210.260711 \r\nL 290.985988 210.195674 \r\nL 291.259779 210.21605 \r\nL 291.533569 210.116106 \r\nL 291.898623 210.073415 \r\nL 293.906419 209.795627 \r\nL 296.096742 209.801765 \r\nL 296.735586 209.841592 \r\nL 297.739484 209.895323 \r\nL 298.013275 209.967328 \r\nL 298.652119 210.017264 \r\nL 298.925909 210.111479 \r\nL 303.762873 210.589392 \r\nL 306.59204 210.550756 \r\nL 306.86583 210.427918 \r\nL 309.147417 210.097762 \r\nL 309.421207 210.090807 \r\nL 309.786261 210.071716 \r\nL 311.61153 209.807934 \r\nL 315.444595 209.861843 \r\nL 315.900913 209.964468 \r\nL 316.35723 210.004976 \r\nL 316.63102 210.115822 \r\nL 317.634918 210.209823 \r\nL 317.908709 210.267425 \r\nL 318.73008 210.338987 \r\nL 321.467984 210.591653 \r\nL 322.198091 210.575641 \r\nL 322.836936 210.59813 \r\nL 323.384516 210.572022 \r\nL 323.840833 210.566113 \r\nL 324.205887 210.550059 \r\nL 325.118522 210.530782 \r\nL 325.757366 210.500873 \r\nL 327.035055 210.318243 \r\nL 327.765162 210.26892 \r\nL 328.22148 210.217191 \r\nL 331.233174 210.068771 \r\nL 335.157502 210.165151 \r\nL 336.252664 210.276268 \r\nL 339.994466 210.443387 \r\nL 344.740166 210.315632 \r\nL 345.10522 210.239013 \r\nL 345.744064 210.177212 \r\nL 346.017854 210.103499 \r\nL 352.77135 210.261695 \r\nL 353.136404 210.286071 \r\nL 353.683985 210.317896 \r\nL 353.866512 210.303029 \r\nL 357.973367 210.439822 \r\nL 358.064631 210.43864 \r\nL 358.064631 210.43864 \r\n\" style=\"fill:none;stroke:#ff7f0e;stroke-linecap:square;stroke-width:1.5;\"/>\r\n   </g>\r\n   <g id=\"line2d_17\">\r\n    <path clip-path=\"url(#p0f9dc28367)\" d=\"M 53.700994 141.56737 \r\nL 62.918604 141.631789 \r\nL 63.192394 141.729067 \r\nL 63.648711 141.635521 \r\nL 63.922502 141.311326 \r\nL 64.470083 140.181491 \r\nL 65.20019 137.792983 \r\nL 65.656507 135.284171 \r\nL 66.112825 131.318121 \r\nL 66.660406 124.282876 \r\nL 67.390513 110.598123 \r\nL 68.303148 93.183056 \r\nL 69.124519 81.318566 \r\nL 70.037154 71.904197 \r\nL 70.949788 64.888399 \r\nL 71.497369 61.846276 \r\nL 72.136213 59.610762 \r\nL 72.59253 58.816063 \r\nL 72.866321 58.619423 \r\nL 73.322638 58.769277 \r\nL 73.687692 59.318803 \r\nL 74.144009 60.506881 \r\nL 74.782853 63.166812 \r\nL 75.421698 67.152064 \r\nL 76.243069 73.742619 \r\nL 80.532451 112.769944 \r\nL 81.080032 115.984722 \r\nL 81.627613 118.112565 \r\nL 82.175194 119.29521 \r\nL 82.540247 119.723525 \r\nL 82.814038 119.938884 \r\nL 83.179092 119.982774 \r\nL 83.544145 119.814161 \r\nL 83.909199 119.266399 \r\nL 84.548044 117.421105 \r\nL 85.369415 113.04175 \r\nL 86.282049 106.692982 \r\nL 88.198582 92.76374 \r\nL 89.293743 85.042861 \r\nL 90.115115 80.264541 \r\nL 90.845222 77.126098 \r\nL 91.57533 75.086527 \r\nL 92.031647 74.377681 \r\nL 92.853018 74.142382 \r\nL 93.309336 74.526371 \r\nL 94.039443 75.937457 \r\nL 95.043341 79.259326 \r\nL 96.229766 85.036572 \r\nL 99.880305 104.462713 \r\nL 100.701676 107.333808 \r\nL 101.34052 108.709473 \r\nL 101.796837 109.232135 \r\nL 102.435682 109.315942 \r\nL 103.165789 108.58538 \r\nL 103.622107 107.698619 \r\nL 104.443478 105.356631 \r\nL 105.356112 101.805993 \r\nL 106.816328 95.073385 \r\nL 108.276543 88.621238 \r\nL 109.736758 83.661806 \r\nL 110.375602 82.203517 \r\nL 111.014447 81.323161 \r\nL 111.470764 81.061749 \r\nL 112.109608 81.149426 \r\nL 112.565926 81.531714 \r\nL 113.296033 82.682791 \r\nL 114.117404 84.669746 \r\nL 114.847512 86.916822 \r\nL 115.395093 88.845533 \r\nL 118.041733 98.52772 \r\nL 119.319421 101.984367 \r\nL 119.958266 103.090068 \r\nL 120.59711 103.763152 \r\nL 120.962164 103.882468 \r\nL 121.418481 103.896389 \r\nL 121.783535 103.672888 \r\nL 122.696169 102.541342 \r\nL 124.338912 98.532903 \r\nL 124.886492 96.805619 \r\nL 127.898187 87.817483 \r\nL 129.449665 85.227338 \r\nL 130.3623 84.770164 \r\nL 130.909881 84.820306 \r\nL 132.005042 85.89261 \r\nL 133.00894 87.644193 \r\nL 133.647785 89.063879 \r\nL 134.286629 90.765408 \r\nL 136.933269 97.706024 \r\nL 137.75464 99.307131 \r\nL 138.758538 100.648572 \r\nL 139.8537 101.179061 \r\nL 140.401281 101.049243 \r\nL 140.675071 100.903762 \r\nL 141.678969 99.769937 \r\nL 142.682867 97.977638 \r\nL 146.698459 89.130453 \r\nL 147.884884 87.61648 \r\nL 148.797519 87.102951 \r\nL 149.071309 87.103768 \r\nL 149.89268 87.297613 \r\nL 150.805315 88.100966 \r\nL 152.174267 90.15739 \r\nL 154.182063 94.131168 \r\nL 154.455853 94.691805 \r\nL 156.007332 97.342512 \r\nL 156.372386 97.812957 \r\nL 157.832601 98.944499 \r\nL 158.197655 99.023577 \r\nL 158.927763 98.931414 \r\nL 159.65787 98.505808 \r\nL 161.026822 96.881452 \r\nL 162.760828 93.989464 \r\nL 163.217145 93.127304 \r\nL 164.038516 91.790725 \r\nL 164.494834 91.00425 \r\nL 165.772522 89.377053 \r\nL 167.141474 88.494039 \r\nL 167.871582 88.487204 \r\nL 168.327899 88.605519 \r\nL 168.601689 88.742787 \r\nL 169.240534 89.172504 \r\nL 169.788114 89.763873 \r\nL 170.244432 90.351738 \r\nL 171.887174 92.783771 \r\nL 172.708545 94.101894 \r\nL 174.351287 96.414729 \r\nL 175.081395 97.1847 \r\nL 175.263922 97.242765 \r\nL 175.537712 97.459377 \r\nL 175.99403 97.7461 \r\nL 176.997928 97.774296 \r\nL 177.728035 97.6209 \r\nL 178.093089 97.397051 \r\nL 178.458143 97.134721 \r\nL 180.283412 95.012298 \r\nL 183.112579 91.153063 \r\nL 183.842687 90.378847 \r\nL 184.572795 89.817109 \r\nL 185.485429 89.405919 \r\nL 186.580591 89.391636 \r\nL 188.314597 90.461392 \r\nL 188.770914 90.922891 \r\nL 189.135968 91.343223 \r\nL 189.866075 92.225366 \r\nL 191.508818 94.337331 \r\nL 192.87777 95.76281 \r\nL 193.334087 96.118461 \r\nL 193.607877 96.269211 \r\nL 193.972931 96.4995 \r\nL 195.433146 96.749808 \r\nL 196.071991 96.628254 \r\nL 196.254518 96.504045 \r\nL 196.619571 96.370109 \r\nL 198.353577 94.882494 \r\nL 199.722529 93.320163 \r\nL 200.452637 92.503765 \r\nL 201.182744 91.693696 \r\nL 203.008014 90.288503 \r\nL 203.646858 90.070145 \r\nL 205.472127 90.284371 \r\nL 206.110971 90.586876 \r\nL 206.384762 90.756508 \r\nL 209.396456 93.691175 \r\nL 209.76151 94.092225 \r\nL 209.944036 94.24187 \r\nL 210.400354 94.652908 \r\nL 211.860569 95.740098 \r\nL 212.225623 95.836253 \r\nL 212.499413 96.005856 \r\nL 213.046994 96.087048 \r\nL 213.412048 96.113014 \r\nL 214.415946 96.094135 \r\nL 214.689736 95.948632 \r\nL 214.963527 95.855088 \r\nL 215.784898 95.355055 \r\nL 216.149952 95.092977 \r\nL 217.975221 93.385386 \r\nL 218.431538 92.934998 \r\nL 220.621861 91.1601 \r\nL 221.260705 90.849406 \r\nL 221.443232 90.79509 \r\nL 221.717023 90.73131 \r\nL 222.994711 90.61876 \r\nL 223.542292 90.717228 \r\nL 224.728717 91.159687 \r\nL 226.371459 92.485638 \r\nL 226.553986 92.60778 \r\nL 226.91904 92.976227 \r\nL 227.284094 93.256915 \r\nL 227.922938 93.825219 \r\nL 230.113261 95.260296 \r\nL 230.295788 95.364399 \r\nL 230.752105 95.495469 \r\nL 232.394847 95.612214 \r\nL 232.851165 95.462592 \r\nL 233.033692 95.418918 \r\nL 234.493907 94.617732 \r\nL 234.767697 94.443699 \r\nL 238.235709 91.735176 \r\nL 239.787188 91.101083 \r\nL 241.247403 91.105582 \r\nL 242.068774 91.247216 \r\nL 242.798882 91.59288 \r\nL 243.163936 91.757027 \r\nL 243.80278 92.139943 \r\nL 244.806678 92.870028 \r\nL 245.262995 93.24233 \r\nL 245.445522 93.37994 \r\nL 245.628049 93.490905 \r\nL 245.810576 93.647714 \r\nL 247.818372 94.90321 \r\nL 248.183426 95.039364 \r\nL 248.731007 95.254888 \r\nL 249.187324 95.360922 \r\nL 249.643641 95.384037 \r\nL 250.92133 95.316237 \r\nL 251.19512 95.238379 \r\nL 251.925228 94.94511 \r\nL 253.111653 94.248781 \r\nL 254.115551 93.604939 \r\nL 254.754395 93.142922 \r\nL 255.575766 92.625157 \r\nL 256.397137 92.116159 \r\nL 257.127245 91.797784 \r\nL 257.492299 91.684422 \r\nL 258.769987 91.477639 \r\nL 260.138939 91.627218 \r\nL 260.96031 91.902628 \r\nL 262.146735 92.508025 \r\nL 262.876843 92.980325 \r\nL 263.33316 93.265343 \r\nL 263.880741 93.630039 \r\nL 265.067166 94.384446 \r\nL 265.9798 94.791419 \r\nL 266.344854 94.972043 \r\nL 267.348752 95.156902 \r\nL 268.808968 95.129807 \r\nL 270.908027 94.282623 \r\nL 271.090554 94.226997 \r\nL 271.181818 94.217452 \r\nL 271.364345 94.09211 \r\nL 271.455608 94.099438 \r\nL 271.729398 93.880791 \r\nL 272.094452 93.732223 \r\nL 272.368243 93.51234 \r\nL 272.733296 93.34131 \r\nL 273.007087 93.135135 \r\nL 274.376039 92.372847 \r\nL 274.558566 92.254166 \r\nL 275.014883 92.103416 \r\nL 275.288673 91.98474 \r\nL 276.110044 91.741044 \r\nL 278.482894 91.864164 \r\nL 279.030475 92.006491 \r\nL 279.395529 92.155452 \r\nL 281.129535 93.006887 \r\nL 281.677115 93.366639 \r\nL 282.042169 93.566108 \r\nL 282.772277 93.967465 \r\nL 284.415019 94.690376 \r\nL 284.780073 94.759128 \r\nL 285.692708 94.896276 \r\nL 287.33545 94.812699 \r\nL 287.883031 94.638597 \r\nL 288.521875 94.432527 \r\nL 289.069456 94.157285 \r\nL 289.799563 93.839665 \r\nL 290.438407 93.492385 \r\nL 290.803461 93.272499 \r\nL 291.624832 92.847861 \r\nL 292.537467 92.374117 \r\nL 293.085048 92.191613 \r\nL 293.632629 91.992088 \r\nL 294.088946 91.885405 \r\nL 295.184107 91.865373 \r\nL 296.461796 91.96557 \r\nL 298.652119 92.769473 \r\nL 299.017173 92.972855 \r\nL 299.656017 93.285002 \r\nL 300.568651 93.73483 \r\nL 301.298759 94.048028 \r\nL 302.393921 94.485848 \r\nL 303.124028 94.563925 \r\nL 303.580346 94.576977 \r\nL 304.036663 94.634178 \r\nL 305.588142 94.549443 \r\nL 307.778465 93.765015 \r\nL 309.23868 93.073244 \r\nL 312.067847 92.107353 \r\nL 313.345536 92.115442 \r\nL 315.079541 92.26445 \r\nL 315.444595 92.384855 \r\nL 315.809649 92.510862 \r\nL 317.087338 93.010463 \r\nL 317.178601 93.009365 \r\nL 317.361128 93.128738 \r\nL 317.726182 93.262724 \r\nL 317.908709 93.426508 \r\nL 318.091236 93.450959 \r\nL 318.73008 93.754196 \r\nL 318.912607 93.773263 \r\nL 319.095134 93.885868 \r\nL 319.368924 93.993629 \r\nL 320.007768 94.144376 \r\nL 320.281559 94.258058 \r\nL 321.37672 94.507448 \r\nL 323.658307 94.379578 \r\nL 323.840833 94.366866 \r\nL 324.023361 94.290338 \r\nL 330.046749 92.247024 \r\nL 331.689491 92.251227 \r\nL 332.967179 92.286696 \r\nL 333.332233 92.393049 \r\nL 333.606024 92.462863 \r\nL 339.264358 94.253738 \r\nL 341.637208 94.221942 \r\nL 342.184789 94.100372 \r\nL 342.549843 94.041431 \r\nL 343.553741 93.734182 \r\nL 344.740166 93.304476 \r\nL 345.287746 93.1206 \r\nL 345.6528 92.976564 \r\nL 346.017854 92.848855 \r\nL 347.021752 92.541994 \r\nL 347.478069 92.438905 \r\nL 347.75186 92.398849 \r\nL 348.208177 92.355848 \r\nL 350.946081 92.426034 \r\nL 351.584925 92.589696 \r\nL 352.680087 92.88445 \r\nL 355.052937 93.669065 \r\nL 355.41799 93.759858 \r\nL 356.148098 93.977717 \r\nL 358.064631 94.158718 \r\nL 358.064631 94.158718 \r\n\" style=\"fill:none;stroke:#2ca02c;stroke-linecap:square;stroke-width:1.5;\"/>\r\n   </g>\r\n   <g id=\"line2d_18\">\r\n    <path clip-path=\"url(#p0f9dc28367)\" d=\"M 53.700994 145.390387 \r\nL 63.283658 145.270323 \r\nL 63.648711 145.311733 \r\nL 64.105029 145.884353 \r\nL 64.470083 146.682399 \r\nL 65.382717 149.524899 \r\nL 65.930298 152.114736 \r\nL 67.390513 160.033301 \r\nL 67.664304 160.476375 \r\nL 67.938094 160.292952 \r\nL 68.303148 159.387558 \r\nL 68.759465 157.572666 \r\nL 69.763363 152.039697 \r\nL 71.862423 139.322216 \r\nL 72.31874 137.703155 \r\nL 72.683794 137.010271 \r\nL 72.957584 136.797666 \r\nL 73.140111 136.788862 \r\nL 73.596428 137.523973 \r\nL 74.052746 138.996383 \r\nL 74.4178 140.63857 \r\nL 75.786751 148.547143 \r\nL 76.699386 153.651886 \r\nL 77.703284 157.296298 \r\nL 78.433392 158.907172 \r\nL 79.163499 159.763249 \r\nL 79.984871 159.556527 \r\nL 80.349924 159.244985 \r\nL 81.445086 157.925636 \r\nL 82.631511 157.360567 \r\nL 83.726672 157.381772 \r\nL 85.186888 158.697241 \r\nL 85.916995 159.465178 \r\nL 86.282049 159.659478 \r\nL 86.920893 159.755897 \r\nL 87.377211 159.582652 \r\nL 88.198582 158.72557 \r\nL 89.111216 157.047539 \r\nL 90.845222 153.032896 \r\nL 91.57533 151.973595 \r\nL 91.940384 151.63397 \r\nL 92.305438 151.44139 \r\nL 93.035545 151.457711 \r\nL 93.765653 152.065362 \r\nL 94.860814 153.819804 \r\nL 95.864712 155.8786 \r\nL 97.142401 158.01686 \r\nL 98.146299 159.093251 \r\nL 98.602616 159.395988 \r\nL 99.515251 159.520179 \r\nL 101.34052 159.345778 \r\nL 101.705574 159.321411 \r\nL 102.253155 159.314206 \r\nL 103.98716 159.457557 \r\nL 104.443478 159.516571 \r\nL 104.808531 159.530388 \r\nL 105.264849 159.507628 \r\nL 106.177483 159.295854 \r\nL 107.090118 158.744598 \r\nL 110.466866 155.281811 \r\nL 110.923183 155.014221 \r\nL 112.292135 154.910033 \r\nL 113.47856 155.689416 \r\nL 114.117404 156.237875 \r\nL 114.573722 156.735326 \r\nL 114.756249 156.937432 \r\nL 116.672781 158.642211 \r\nL 117.037835 158.841047 \r\nL 117.585416 159.091486 \r\nL 118.132997 159.180742 \r\nL 119.775739 159.389182 \r\nL 121.509744 159.42891 \r\nL 123.335014 159.346777 \r\nL 124.156385 159.276826 \r\nL 124.612702 159.132743 \r\nL 125.799127 158.628203 \r\nL 126.164181 158.36163 \r\nL 126.529235 158.165201 \r\nL 126.985552 157.852514 \r\nL 127.350606 157.588849 \r\nL 127.533133 157.50442 \r\nL 127.98945 157.190214 \r\nL 128.080714 157.197673 \r\nL 128.354504 156.974747 \r\nL 129.175875 156.513518 \r\nL 130.453564 156.240958 \r\nL 130.909881 156.256597 \r\nL 132.552623 156.808293 \r\nL 134.925473 158.26578 \r\nL 135.655581 158.632639 \r\nL 136.568215 158.965017 \r\nL 137.663377 159.178091 \r\nL 139.579909 159.228418 \r\nL 143.321711 158.984357 \r\nL 144.964454 158.383956 \r\nL 147.976148 157.200971 \r\nL 148.797519 157.072893 \r\nL 149.61889 157.074798 \r\nL 150.805315 157.314969 \r\nL 151.99174 157.769509 \r\nL 152.174267 157.897825 \r\nL 152.539321 158.053026 \r\nL 153.360692 158.407095 \r\nL 154.090799 158.689025 \r\nL 154.547117 158.794279 \r\nL 155.185961 158.956724 \r\nL 157.467547 159.163965 \r\nL 158.836499 159.151702 \r\nL 160.661768 159.096921 \r\nL 161.118086 159.060942 \r\nL 161.391876 159.05064 \r\nL 163.947253 158.411885 \r\nL 164.221043 158.317246 \r\nL 164.951151 158.109016 \r\nL 165.224941 157.987098 \r\nL 166.046313 157.839848 \r\nL 166.320103 157.729123 \r\nL 168.419163 157.738044 \r\nL 169.788114 157.920546 \r\nL 170.061905 158.0096 \r\nL 173.438653 158.934857 \r\nL 173.529916 158.922157 \r\nL 173.712443 158.992981 \r\nL 173.803707 158.950514 \r\nL 174.077497 159.054881 \r\nL 174.533814 159.122386 \r\nL 174.898868 159.113139 \r\nL 176.906664 159.116569 \r\nL 179.644568 159.037742 \r\nL 185.576693 158.109658 \r\nL 188.497124 158.380342 \r\nL 189.866075 158.65067 \r\nL 190.231129 158.75991 \r\nL 190.413656 158.734435 \r\nL 190.596183 158.850367 \r\nL 191.235027 158.987736 \r\nL 191.600081 159.031962 \r\nL 192.330189 159.109208 \r\nL 192.695243 159.184698 \r\nL 193.699141 159.225755 \r\nL 194.520512 159.212273 \r\nL 198.901158 159.03659 \r\nL 203.008014 158.372758 \r\nL 203.646858 158.385525 \r\nL 206.841079 158.449334 \r\nL 207.114869 158.562068 \r\nL 208.118767 158.749898 \r\nL 208.848875 158.806177 \r\nL 209.122665 158.873512 \r\nL 209.578983 158.966366 \r\nL 209.944036 159.020119 \r\nL 211.221725 159.093538 \r\nL 211.860569 159.074829 \r\nL 214.507209 159.056474 \r\nL 215.876161 159.047212 \r\nL 216.971323 158.895294 \r\nL 222.44713 158.39918 \r\nL 224.089873 158.421746 \r\nL 225.002507 158.449081 \r\nL 225.185034 158.568927 \r\nL 225.823878 158.574044 \r\nL 226.645249 158.627646 \r\nL 226.827776 158.644418 \r\nL 227.101567 158.736699 \r\nL 227.649148 158.785834 \r\nL 228.014201 158.773646 \r\nL 230.752105 158.934704 \r\nL 235.132751 158.86403 \r\nL 235.589069 158.857058 \r\nL 236.136649 158.837065 \r\nL 236.68423 158.793038 \r\nL 236.95802 158.838943 \r\nL 238.326972 158.688545 \r\nL 238.600763 158.591555 \r\nL 240.334768 158.543076 \r\nL 247.179528 158.668659 \r\nL 247.818372 158.673606 \r\nL 249.734905 158.672942 \r\nL 256.032083 158.564956 \r\nL 256.305874 158.473232 \r\nL 259.682622 158.439615 \r\nL 260.503993 158.44851 \r\nL 272.915823 158.393108 \r\nL 273.919721 158.333917 \r\nL 285.692708 158.413264 \r\nL 286.422815 158.403671 \r\nL 289.343246 158.373998 \r\nL 297.830748 158.350262 \r\nL 298.378328 158.356054 \r\nL 300.568651 158.385732 \r\nL 306.318249 158.385038 \r\nL 307.230884 158.364232 \r\nL 308.326045 158.342283 \r\nL 313.436799 158.325927 \r\nL 325.574839 158.367766 \r\nL 326.761264 158.357921 \r\nL 329.042851 158.330496 \r\nL 343.371214 158.371528 \r\nL 344.922693 158.349704 \r\nL 346.839225 158.335727 \r\nL 352.132506 158.357876 \r\nL 353.410194 158.365966 \r\nL 354.414092 158.382976 \r\nL 356.239362 158.384469 \r\nL 358.064631 158.383211 \r\nL 358.064631 158.383211 \r\n\" style=\"fill:none;stroke:#d62728;stroke-linecap:square;stroke-width:1.5;\"/>\r\n   </g>\r\n   <g id=\"line2d_19\">\r\n    <path clip-path=\"url(#p0f9dc28367)\" d=\"M 53.700994 178.772203 \r\nL 63.922502 178.657871 \r\nL 64.287556 178.113422 \r\nL 64.652609 177.145765 \r\nL 64.9264 175.997715 \r\nL 65.382717 172.772516 \r\nL 65.930298 166.591342 \r\nL 66.660406 155.291435 \r\nL 67.57304 137.009158 \r\nL 70.128417 83.822709 \r\nL 70.858525 74.838063 \r\nL 71.497369 69.790669 \r\nL 72.136213 66.836161 \r\nL 72.59253 65.851193 \r\nL 72.866321 65.669222 \r\nL 73.140111 65.692937 \r\nL 73.413902 66.049684 \r\nL 73.596428 66.395697 \r\nL 73.961482 67.534735 \r\nL 74.4178 69.557886 \r\nL 74.96538 73.105421 \r\nL 75.604225 78.86152 \r\nL 76.334332 87.372423 \r\nL 77.246967 100.242891 \r\nL 79.43729 132.548426 \r\nL 80.167397 140.527908 \r\nL 81.080032 148.110704 \r\nL 81.718876 151.691823 \r\nL 82.266457 153.525671 \r\nL 82.631511 154.159885 \r\nL 82.814038 154.33455 \r\nL 83.087828 154.292519 \r\nL 83.361619 153.95633 \r\nL 83.817936 152.880832 \r\nL 84.274253 151.244737 \r\nL 84.913097 147.876592 \r\nL 85.916995 140.463484 \r\nL 86.738367 132.644201 \r\nL 90.206378 98.114172 \r\nL 91.027749 93.170415 \r\nL 91.666593 90.586084 \r\nL 92.305438 89.322015 \r\nL 92.579228 89.108206 \r\nL 93.035545 89.373102 \r\nL 93.309336 89.771067 \r\nL 93.94818 91.609158 \r\nL 94.587024 94.510191 \r\nL 95.408395 99.503902 \r\nL 96.32103 106.348249 \r\nL 98.420089 123.821844 \r\nL 99.697778 132.604629 \r\nL 100.610412 136.998557 \r\nL 101.157993 138.705881 \r\nL 101.705574 139.795742 \r\nL 102.161891 140.077179 \r\nL 102.435682 140.073605 \r\nL 102.983262 139.456098 \r\nL 103.622107 137.806469 \r\nL 104.169687 135.806644 \r\nL 104.717268 133.335227 \r\nL 105.903693 126.526477 \r\nL 109.097914 106.492443 \r\nL 110.193076 102.133916 \r\nL 110.740656 100.763064 \r\nL 111.379501 99.903252 \r\nL 111.744554 99.854448 \r\nL 112.018345 99.914044 \r\nL 112.565926 100.505883 \r\nL 113.47856 102.790723 \r\nL 114.391195 106.339409 \r\nL 115.395093 111.339323 \r\nL 117.585416 123.139571 \r\nL 118.49805 127.307643 \r\nL 119.410685 130.36282 \r\nL 120.32332 132.23982 \r\nL 120.779637 132.623464 \r\nL 121.144691 132.726995 \r\nL 121.509744 132.591616 \r\nL 122.239852 131.702361 \r\nL 122.96996 130.060714 \r\nL 123.608804 128.028989 \r\nL 125.434073 120.440839 \r\nL 126.529235 115.440372 \r\nL 127.806923 110.28385 \r\nL 128.537031 107.989471 \r\nL 129.905983 105.487718 \r\nL 130.3623 105.241788 \r\nL 130.818617 105.262564 \r\nL 131.548725 106.001445 \r\nL 132.096306 107.021549 \r\nL 133.00894 109.427255 \r\nL 133.647785 111.510045 \r\nL 135.929371 120.313675 \r\nL 137.937167 126.451003 \r\nL 138.576011 127.561814 \r\nL 139.214856 128.267794 \r\nL 139.762436 128.441056 \r\nL 140.401281 128.274919 \r\nL 141.131388 127.41768 \r\nL 141.770232 126.250917 \r\nL 143.047921 122.829553 \r\nL 145.968352 113.385786 \r\nL 147.337303 110.11546 \r\nL 147.884884 109.255771 \r\nL 148.432465 108.679135 \r\nL 148.888782 108.491742 \r\nL 149.162573 108.485734 \r\nL 149.710153 108.663456 \r\nL 150.622788 109.660618 \r\nL 151.261632 110.813523 \r\nL 151.809213 112.03972 \r\nL 153.451955 116.569844 \r\nL 154.912171 120.705724 \r\nL 155.824805 122.884595 \r\nL 156.372386 123.956274 \r\nL 157.102494 124.990743 \r\nL 157.650074 125.498355 \r\nL 158.745236 125.627206 \r\nL 159.11029 125.485373 \r\nL 160.387978 123.890807 \r\nL 161.026822 122.650066 \r\nL 161.75693 120.966732 \r\nL 164.768624 113.505728 \r\nL 165.498732 112.140626 \r\nL 166.046313 111.384459 \r\nL 166.867684 110.559707 \r\nL 167.506528 110.387573 \r\nL 168.054109 110.433269 \r\nL 168.784216 110.92983 \r\nL 169.514324 111.886578 \r\nL 171.157066 114.954906 \r\nL 173.803707 120.833403 \r\nL 175.172659 122.957271 \r\nL 175.263922 122.998748 \r\nL 175.537712 123.319142 \r\nL 176.26782 123.754711 \r\nL 177.271718 123.816484 \r\nL 177.545508 123.683732 \r\nL 178.275616 123.102997 \r\nL 179.370778 121.704327 \r\nL 183.933951 113.26213 \r\nL 185.029112 112.17282 \r\nL 186.306801 111.908606 \r\nL 186.671854 112.037002 \r\nL 187.584489 112.715209 \r\nL 187.858279 113.033664 \r\nL 188.67965 114.16622 \r\nL 190.322393 116.952576 \r\nL 192.238925 120.23941 \r\nL 193.699141 121.875988 \r\nL 194.246721 122.302884 \r\nL 194.976829 122.488453 \r\nL 195.980727 122.317852 \r\nL 196.893362 121.60312 \r\nL 197.805996 120.565008 \r\nL 198.901158 118.972297 \r\nL 199.540002 117.895915 \r\nL 201.912852 114.302988 \r\nL 203.373067 113.016648 \r\nL 204.194439 112.873798 \r\nL 205.198337 113.068806 \r\nL 206.658552 114.285687 \r\nL 211.039198 120.369335 \r\nL 212.316886 121.374629 \r\nL 212.955731 121.634194 \r\nL 213.959629 121.582381 \r\nL 214.415946 121.441204 \r\nL 214.872263 121.158446 \r\nL 215.693634 120.476402 \r\nL 216.423742 119.625182 \r\nL 216.880059 119.074439 \r\nL 220.07428 114.808922 \r\nL 220.530598 114.424904 \r\nL 220.895652 114.113229 \r\nL 221.534496 113.777372 \r\nL 222.812184 113.553968 \r\nL 223.359765 113.691267 \r\nL 223.816082 113.916113 \r\nL 224.181136 114.088893 \r\nL 226.280196 116.298622 \r\nL 228.196728 118.81487 \r\nL 229.200626 119.855342 \r\nL 229.930734 120.46857 \r\nL 230.387051 120.744785 \r\nL 230.752105 120.89801 \r\nL 231.117159 120.983447 \r\nL 231.66474 121.085591 \r\nL 232.942428 120.812963 \r\nL 233.581272 120.356662 \r\nL 233.946326 120.081124 \r\nL 238.418236 115.214124 \r\nL 238.965816 114.805033 \r\nL 239.239607 114.643843 \r\nL 239.513397 114.535341 \r\nL 240.243505 114.283007 \r\nL 241.521193 114.346787 \r\nL 242.981409 115.167279 \r\nL 245.080468 117.301205 \r\nL 245.719312 118.027672 \r\nL 246.266893 118.57554 \r\nL 246.814474 119.098726 \r\nL 247.544582 119.738617 \r\nL 248.365953 120.306469 \r\nL 249.552378 120.6077 \r\nL 250.556276 120.5324 \r\nL 251.286383 120.244162 \r\nL 252.107755 119.72124 \r\nL 253.84176 118.182044 \r\nL 254.754395 117.235203 \r\nL 255.028185 116.9336 \r\nL 255.66703 116.346468 \r\nL 257.674826 114.953494 \r\nL 258.58746 114.733008 \r\nL 259.043778 114.78535 \r\nL 259.682622 114.825796 \r\nL 260.777783 115.277863 \r\nL 261.234101 115.559336 \r\nL 261.507891 115.784051 \r\nL 261.781681 115.982045 \r\nL 262.420526 116.537541 \r\nL 262.785579 116.898923 \r\nL 263.60695 117.660897 \r\nL 264.245795 118.304901 \r\nL 264.428322 118.434942 \r\nL 264.702112 118.682369 \r\nL 265.249693 119.086979 \r\nL 265.70601 119.423922 \r\nL 267.713806 120.191182 \r\nL 268.900231 120.140966 \r\nL 269.447812 119.90639 \r\nL 269.630339 119.917285 \r\nL 270.17792 119.545622 \r\nL 271.181818 118.833428 \r\nL 272.276979 117.880751 \r\nL 272.550769 117.661424 \r\nL 273.280877 117.016633 \r\nL 273.372141 117.01737 \r\nL 273.645931 116.781645 \r\nL 274.284775 116.268926 \r\nL 275.19741 115.707109 \r\nL 276.566362 115.286942 \r\nL 277.478996 115.3002 \r\nL 278.209104 115.413999 \r\nL 278.939212 115.682886 \r\nL 279.304265 115.892976 \r\nL 279.851846 116.224793 \r\nL 283.502385 119.04367 \r\nL 285.418917 119.854702 \r\nL 286.240288 119.835152 \r\nL 287.33545 119.678904 \r\nL 288.704402 119.031069 \r\nL 289.525773 118.461854 \r\nL 289.799563 118.28441 \r\nL 290.712198 117.562097 \r\nL 291.442306 117.042897 \r\nL 291.989886 116.572462 \r\nL 292.537467 116.254623 \r\nL 293.267575 115.814546 \r\nL 293.815155 115.649675 \r\nL 294.088946 115.544376 \r\nL 294.72779 115.419083 \r\nL 296.279269 115.55176 \r\nL 296.735586 115.71127 \r\nL 297.10064 115.884998 \r\nL 298.287065 116.570613 \r\nL 298.834646 116.95159 \r\nL 299.656017 117.548761 \r\nL 300.021071 117.802428 \r\nL 300.477388 118.170053 \r\nL 301.57255 118.848035 \r\nL 301.937603 119.041958 \r\nL 303.580346 119.480756 \r\nL 303.945399 119.462805 \r\nL 305.131824 119.395893 \r\nL 305.953196 119.110592 \r\nL 307.230884 118.424206 \r\nL 307.504674 118.286775 \r\nL 308.143519 117.820785 \r\nL 308.599836 117.542129 \r\nL 309.23868 117.063672 \r\nL 309.421207 116.949218 \r\nL 310.151315 116.533639 \r\nL 310.516369 116.300693 \r\nL 312.615428 115.615854 \r\nL 313.163009 115.665855 \r\nL 314.623224 115.806058 \r\nL 315.170805 116.04843 \r\nL 315.809649 116.341239 \r\nL 316.813547 116.911265 \r\nL 320.190295 118.835843 \r\nL 320.464086 118.906323 \r\nL 321.924301 119.195701 \r\nL 324.023361 118.942104 \r\nL 324.479678 118.812824 \r\nL 324.662205 118.67186 \r\nL 324.844732 118.571762 \r\nL 325.118522 118.462858 \r\nL 328.22148 116.622868 \r\nL 328.49527 116.518013 \r\nL 329.864222 115.932522 \r\nL 332.145808 115.815164 \r\nL 333.24097 116.061781 \r\nL 333.971077 116.326083 \r\nL 334.244868 116.48104 \r\nL 335.522556 117.165873 \r\nL 336.070137 117.440968 \r\nL 337.256562 118.066858 \r\nL 338.990568 118.691346 \r\nL 341.728472 118.57137 \r\nL 342.367316 118.38892 \r\nL 343.188687 118.055821 \r\nL 343.553741 117.86727 \r\nL 344.557639 117.306418 \r\nL 345.10522 117.012373 \r\nL 345.470273 116.811883 \r\nL 345.744064 116.685111 \r\nL 346.474172 116.41174 \r\nL 346.839225 116.214527 \r\nL 348.116914 115.804643 \r\nL 349.394602 115.795378 \r\nL 350.581027 115.909811 \r\nL 352.132506 116.348023 \r\nL 352.77135 116.65952 \r\nL 353.136404 116.851311 \r\nL 353.775248 117.18117 \r\nL 354.140302 117.356652 \r\nL 354.505356 117.540325 \r\nL 354.961673 117.730072 \r\nL 355.41799 117.96024 \r\nL 355.600517 118.016494 \r\nL 356.421888 118.31132 \r\nL 358.064631 118.45766 \r\nL 358.064631 118.45766 \r\n\" style=\"fill:none;stroke:#9467bd;stroke-linecap:square;stroke-width:1.5;\"/>\r\n   </g>\r\n   <g id=\"line2d_20\">\r\n    <path clip-path=\"url(#p0f9dc28367)\" d=\"M 53.700994 107.456993 \r\nL 62.55355 107.560813 \r\nL 63.009867 107.828564 \r\nL 63.374921 108.471372 \r\nL 63.648711 109.357356 \r\nL 64.013765 111.692688 \r\nL 64.470083 117.003335 \r\nL 65.108927 127.787467 \r\nL 66.751669 156.769282 \r\nL 67.390513 164.196933 \r\nL 67.938094 168.160031 \r\nL 68.303148 169.399681 \r\nL 68.485675 169.619348 \r\nL 68.759465 169.408603 \r\nL 68.941992 168.983236 \r\nL 69.307046 167.215056 \r\nL 69.763363 163.987466 \r\nL 71.953686 146.910388 \r\nL 72.501267 145.046196 \r\nL 72.775057 144.659336 \r\nL 73.048848 144.558801 \r\nL 73.322638 144.915318 \r\nL 73.596428 145.527081 \r\nL 74.144009 147.825152 \r\nL 75.147907 154.283536 \r\nL 77.155703 166.972489 \r\nL 77.520757 168.224035 \r\nL 78.068338 169.045054 \r\nL 78.342128 169.066583 \r\nL 79.072236 167.709461 \r\nL 79.528553 166.214005 \r\nL 81.901403 156.528919 \r\nL 82.448984 155.397592 \r\nL 82.814038 155.083002 \r\nL 83.179092 155.163019 \r\nL 83.817936 156.083094 \r\nL 84.274253 157.266859 \r\nL 86.647103 166.048766 \r\nL 87.10342 167.349689 \r\nL 87.651001 168.383774 \r\nL 88.198582 168.850514 \r\nL 88.746163 168.804648 \r\nL 89.019953 168.579414 \r\nL 89.47627 167.896053 \r\nL 91.484066 164.201161 \r\nL 92.122911 163.47561 \r\nL 92.579228 163.275105 \r\nL 93.400599 163.588907 \r\nL 94.952078 166.032438 \r\nL 95.499659 167.026363 \r\nL 96.686084 168.615895 \r\nL 97.233664 168.779637 \r\nL 97.689982 168.76438 \r\nL 98.328826 168.277769 \r\nL 98.876407 167.606163 \r\nL 101.523047 163.793183 \r\nL 101.888101 163.58146 \r\nL 102.618208 163.624026 \r\nL 103.622107 164.527655 \r\nL 103.895897 164.864098 \r\nL 105.538639 167.30972 \r\nL 106.633801 168.481781 \r\nL 106.998854 168.697367 \r\nL 107.637699 168.83703 \r\nL 108.824124 168.398086 \r\nL 109.828022 167.707049 \r\nL 110.284339 167.396324 \r\nL 110.466866 167.315467 \r\nL 111.470764 166.975348 \r\nL 112.109608 166.99677 \r\nL 112.930979 167.266442 \r\nL 114.117404 167.918512 \r\nL 114.482458 168.220336 \r\nL 114.664985 168.321931 \r\nL 115.668883 168.644377 \r\nL 116.581518 168.638002 \r\nL 117.402889 168.242311 \r\nL 119.593212 166.574679 \r\nL 119.775739 166.502849 \r\nL 119.958266 166.360325 \r\nL 120.140793 166.267027 \r\nL 120.8709 166.124467 \r\nL 122.057325 166.357738 \r\nL 122.787433 166.736745 \r\nL 123.24375 167.058385 \r\nL 124.430175 167.951545 \r\nL 125.890391 168.642828 \r\nL 127.624396 168.670953 \r\nL 128.171977 168.492133 \r\nL 128.445767 168.39003 \r\nL 130.3623 168.12171 \r\nL 132.643887 168.39803 \r\nL 133.556521 168.631808 \r\nL 134.195365 168.635018 \r\nL 135.199263 168.651899 \r\nL 136.020635 168.451755 \r\nL 136.385688 168.273901 \r\nL 139.032329 167.273852 \r\nL 140.310017 167.300569 \r\nL 140.857598 167.308739 \r\nL 141.131388 167.403944 \r\nL 141.313915 167.466621 \r\nL 142.317813 167.886101 \r\nL 143.047921 168.178888 \r\nL 143.595502 168.340109 \r\nL 143.869292 168.444099 \r\nL 144.5994 168.630966 \r\nL 147.154777 168.414269 \r\nL 147.611094 168.39897 \r\nL 150.896578 168.422131 \r\nL 151.261632 168.47171 \r\nL 151.900476 168.472119 \r\nL 152.26553 168.501113 \r\nL 153.543219 168.582561 \r\nL 154.090799 168.513976 \r\nL 155.368488 168.241993 \r\nL 155.642278 168.099813 \r\nL 156.007332 168.078151 \r\nL 156.281122 168.010441 \r\nL 156.919967 167.802484 \r\nL 157.923865 167.828529 \r\nL 159.749134 167.855524 \r\nL 163.217145 168.547456 \r\nL 163.399672 168.557837 \r\nL 164.038516 168.562292 \r\nL 164.859888 168.523995 \r\nL 165.316205 168.482693 \r\nL 170.426959 168.506241 \r\nL 171.24833 168.55243 \r\nL 172.799809 168.536664 \r\nL 172.982335 168.483368 \r\nL 173.164862 168.463781 \r\nL 173.712443 168.340401 \r\nL 174.260024 168.257683 \r\nL 174.716341 168.143691 \r\nL 175.081395 168.135507 \r\nL 175.811503 168.022108 \r\nL 179.370778 168.263772 \r\nL 179.918358 168.409677 \r\nL 182.656262 168.578253 \r\nL 189.774812 168.562401 \r\nL 190.961237 168.512072 \r\nL 191.600081 168.511545 \r\nL 191.873872 168.453351 \r\nL 192.603979 168.330654 \r\nL 192.786506 168.302059 \r\nL 193.15156 168.341568 \r\nL 198.079787 168.56369 \r\nL 198.901158 168.648845 \r\nL 199.083685 168.623329 \r\nL 199.357475 168.65468 \r\nL 200.635164 168.726172 \r\nL 202.825487 168.632796 \r\nL 204.833283 168.622244 \r\nL 207.844977 168.702916 \r\nL 208.848875 168.641681 \r\nL 209.487719 168.633768 \r\nL 210.30909 168.610279 \r\nL 210.582881 168.566993 \r\nL 224.728717 168.507292 \r\nL 225.093771 168.544474 \r\nL 226.280196 168.575154 \r\nL 226.462723 168.549496 \r\nL 228.014201 168.647703 \r\nL 228.379255 168.548178 \r\nL 229.018099 168.523694 \r\nL 229.383153 168.534027 \r\nL 230.113261 168.569945 \r\nL 230.843369 168.585656 \r\nL 233.033692 168.594359 \r\nL 235.041488 168.5698 \r\nL 235.497805 168.653059 \r\nL 237.231811 168.607706 \r\nL 239.239607 168.541841 \r\nL 257.857353 168.549011 \r\nL 261.416627 168.569941 \r\nL 265.523483 168.65755 \r\nL 267.074962 168.690825 \r\nL 275.014883 168.57943 \r\nL 276.931416 168.562467 \r\nL 283.319858 168.651276 \r\nL 287.33545 168.685182 \r\nL 299.017173 168.601603 \r\nL 304.310453 168.680709 \r\nL 308.873626 168.628533 \r\nL 309.694997 168.60387 \r\nL 310.425105 168.603896 \r\nL 311.794057 168.57772 \r\nL 325.027259 168.666467 \r\nL 327.035055 168.629431 \r\nL 331.963281 168.57509 \r\nL 332.784653 168.580056 \r\nL 336.708981 168.623311 \r\nL 338.351723 168.628997 \r\nL 339.446885 168.663531 \r\nL 352.315033 168.592568 \r\nL 354.961673 168.627572 \r\nL 356.421888 168.641676 \r\nL 358.064631 168.651003 \r\nL 358.064631 168.651003 \r\n\" style=\"fill:none;stroke:#8c564b;stroke-linecap:square;stroke-width:1.5;\"/>\r\n   </g>\r\n   <g id=\"patch_3\">\r\n    <path d=\"M 38.482813 224.64 \r\nL 38.482813 7.2 \r\n\" style=\"fill:none;stroke:#000000;stroke-linecap:square;stroke-linejoin:miter;stroke-width:0.8;\"/>\r\n   </g>\r\n   <g id=\"patch_4\">\r\n    <path d=\"M 373.282813 224.64 \r\nL 373.282813 7.2 \r\n\" style=\"fill:none;stroke:#000000;stroke-linecap:square;stroke-linejoin:miter;stroke-width:0.8;\"/>\r\n   </g>\r\n   <g id=\"patch_5\">\r\n    <path d=\"M 38.482813 224.64 \r\nL 373.282813 224.64 \r\n\" style=\"fill:none;stroke:#000000;stroke-linecap:square;stroke-linejoin:miter;stroke-width:0.8;\"/>\r\n   </g>\r\n   <g id=\"patch_6\">\r\n    <path d=\"M 38.482813 7.2 \r\nL 373.282813 7.2 \r\n\" style=\"fill:none;stroke:#000000;stroke-linecap:square;stroke-linejoin:miter;stroke-width:0.8;\"/>\r\n   </g>\r\n  </g>\r\n </g>\r\n <defs>\r\n  <clipPath id=\"p0f9dc28367\">\r\n   <rect height=\"217.44\" width=\"334.8\" x=\"38.482813\" y=\"7.2\"/>\r\n  </clipPath>\r\n </defs>\r\n</svg>\r\n",
      "image/png": "[encoded data removed]"
     },
     "metadata": {
      "needs_background": "light"
     }
    }
   ],
   "source": [
    "plt.figure()\n",
    "plt.plot(t,fyt)"
   ]
  },
  {
   "cell_type": "code",
   "execution_count": 40,
   "metadata": {},
   "outputs": [],
   "source": [
    "def calc_error(args):\n",
    "    states_guess = run_sim(args)\n",
    "    y_guess = points_output.calc(states_guess)\n",
    "    y_guess = y_guess.reshape((3336,-1))\n",
    "    error = fyt - y_guess\n",
    "    error **=2\n",
    "    error = error.sum()\n",
    "    return error    "
   ]
  },
  {
   "cell_type": "code",
   "execution_count": 41,
   "metadata": {},
   "outputs": [],
   "source": [
    "pynamics.system.logger.setLevel(logging.ERROR)"
   ]
  },
  {
   "cell_type": "code",
   "execution_count": 42,
   "metadata": {},
   "outputs": [],
   "source": [
    "k_guess = [1e1,1e1,1e1,1e1,1e1,1e1,1e1,1e1]"
   ]
  },
  {
   "cell_type": "code",
   "execution_count": 54,
   "metadata": {},
   "outputs": [
    {
     "output_type": "stream",
     "name": "stderr",
     "text": [
      "2021-03-18 11:17:18,006 - pynamics.integration - INFO - beginning integration\n",
      "(4_w,8)-aCMA-ES (mu_w=2.6,w_1=52%) in dimension 4 (seed=142807, Thu Mar 18 11:17:18 2021)\n",
      "Iterat Nfevals  function value    axis ratio maxstd  minstd\n",
      "2021-03-18 11:33:17,051 - pynamics.integration - INFO - finished integration\n",
      "2021-03-18 11:33:17,054 - pynamics.output - INFO - calculating outputs\n",
      "2021-03-18 11:33:17,200 - pynamics.output - INFO - done calculating outputs\n",
      "2021-03-18 11:33:18,915 - pynamics.integration - INFO - beginning integration\n",
      "2021-03-18 11:50:12,442 - pynamics.integration - INFO - finished integration\n",
      "2021-03-18 11:50:12,445 - pynamics.output - INFO - calculating outputs\n",
      "2021-03-18 11:50:12,630 - pynamics.output - INFO - done calculating outputs\n",
      "2021-03-18 11:50:12,633 - pynamics.integration - INFO - beginning integration\n",
      "2021-03-18 12:11:54,361 - pynamics.integration - INFO - finished integration\n",
      "2021-03-18 12:11:54,366 - pynamics.output - INFO - calculating outputs\n",
      "2021-03-18 12:11:54,590 - pynamics.output - INFO - done calculating outputs\n",
      "2021-03-18 12:11:54,594 - pynamics.integration - INFO - beginning integration\n",
      "2021-03-18 12:35:08,475 - pynamics.integration - INFO - finished integration\n",
      "2021-03-18 12:35:08,478 - pynamics.output - INFO - calculating outputs\n",
      "2021-03-18 12:35:08,634 - pynamics.output - INFO - done calculating outputs\n",
      "2021-03-18 12:35:08,637 - pynamics.integration - INFO - beginning integration\n",
      "2021-03-18 12:59:04,017 - pynamics.integration - INFO - finished integration\n",
      "2021-03-18 12:59:04,021 - pynamics.output - INFO - calculating outputs\n",
      "2021-03-18 12:59:04,214 - pynamics.output - INFO - done calculating outputs\n",
      "2021-03-18 12:59:04,216 - pynamics.integration - INFO - beginning integration\n",
      "2021-03-18 13:19:23,019 - pynamics.integration - INFO - finished integration\n",
      "2021-03-18 13:19:23,043 - pynamics.output - INFO - calculating outputs\n",
      "2021-03-18 13:19:23,195 - pynamics.output - INFO - done calculating outputs\n",
      "2021-03-18 13:19:23,197 - pynamics.integration - INFO - beginning integration\n",
      "2021-03-18 13:32:51,118 - pynamics.integration - INFO - finished integration\n",
      "2021-03-18 13:32:51,120 - pynamics.output - INFO - calculating outputs\n",
      "2021-03-18 13:32:51,279 - pynamics.output - INFO - done calculating outputs\n",
      "2021-03-18 13:32:51,281 - pynamics.integration - INFO - beginning integration\n",
      "2021-03-18 13:48:45,548 - pynamics.integration - INFO - finished integration\n",
      "2021-03-18 13:48:45,550 - pynamics.output - INFO - calculating outputs\n",
      "2021-03-18 13:48:45,716 - pynamics.output - INFO - done calculating outputs\n",
      "    1      8 3.32657091510595e+02 1.0e+00 5.40e-01 4.53e-01\n",
      "2021-03-18 13:48:46,128 - pynamics.integration - INFO - beginning integration\n",
      "2021-03-18 14:02:46,278 - pynamics.integration - INFO - finished integration\n",
      "2021-03-18 14:02:46,279 - pynamics.output - INFO - calculating outputs\n",
      "2021-03-18 14:02:46,424 - pynamics.output - INFO - done calculating outputs\n",
      "2021-03-18 14:02:46,425 - pynamics.integration - INFO - beginning integration\n",
      "2021-03-18 14:54:08,233 - pynamics.integration - INFO - finished integration\n",
      "2021-03-18 14:54:08,235 - pynamics.output - INFO - calculating outputs\n",
      "2021-03-18 14:54:08,398 - pynamics.output - INFO - done calculating outputs\n",
      "2021-03-18 14:54:08,400 - pynamics.integration - INFO - beginning integration\n",
      "2021-03-18 15:15:11,652 - pynamics.integration - INFO - finished integration\n",
      "2021-03-18 15:15:11,655 - pynamics.output - INFO - calculating outputs\n",
      "2021-03-18 15:15:11,824 - pynamics.output - INFO - done calculating outputs\n",
      "2021-03-18 15:15:11,826 - pynamics.integration - INFO - beginning integration\n",
      "2021-03-18 15:38:36,155 - pynamics.integration - INFO - finished integration\n",
      "2021-03-18 15:38:36,158 - pynamics.output - INFO - calculating outputs\n",
      "2021-03-18 15:38:36,364 - pynamics.output - INFO - done calculating outputs\n",
      "2021-03-18 15:38:36,366 - pynamics.integration - INFO - beginning integration\n",
      "2021-03-18 16:03:30,524 - pynamics.integration - INFO - finished integration\n",
      "2021-03-18 16:03:30,527 - pynamics.output - INFO - calculating outputs\n",
      "2021-03-18 16:03:30,715 - pynamics.output - INFO - done calculating outputs\n",
      "2021-03-18 16:03:30,717 - pynamics.integration - INFO - beginning integration\n",
      "2021-03-18 16:22:13,422 - pynamics.integration - INFO - finished integration\n",
      "2021-03-18 16:22:13,425 - pynamics.output - INFO - calculating outputs\n",
      "2021-03-18 16:22:13,597 - pynamics.output - INFO - done calculating outputs\n",
      "2021-03-18 16:22:13,600 - pynamics.integration - INFO - beginning integration\n",
      "2021-03-18 16:42:03,398 - pynamics.integration - INFO - finished integration\n",
      "2021-03-18 16:42:03,400 - pynamics.output - INFO - calculating outputs\n",
      "2021-03-18 16:42:03,563 - pynamics.output - INFO - done calculating outputs\n",
      "2021-03-18 16:42:03,565 - pynamics.integration - INFO - beginning integration\n",
      "2021-03-18 17:01:05,241 - pynamics.integration - INFO - finished integration\n",
      "2021-03-18 17:01:05,244 - pynamics.output - INFO - calculating outputs\n",
      "2021-03-18 17:01:05,405 - pynamics.output - INFO - done calculating outputs\n",
      "    2     16 3.32595825046863e+02 1.4e+00 6.00e-01 4.90e-01\n",
      "2021-03-18 17:01:05,551 - pynamics.integration - INFO - beginning integration\n",
      "2021-03-18 17:16:46,647 - pynamics.integration - INFO - finished integration\n",
      "2021-03-18 17:16:46,649 - pynamics.output - INFO - calculating outputs\n",
      "2021-03-18 17:16:46,834 - pynamics.output - INFO - done calculating outputs\n",
      "2021-03-18 17:16:46,837 - pynamics.integration - INFO - beginning integration\n",
      "2021-03-18 17:34:51,254 - pynamics.integration - INFO - finished integration\n",
      "2021-03-18 17:34:51,256 - pynamics.output - INFO - calculating outputs\n",
      "2021-03-18 17:34:51,403 - pynamics.output - INFO - done calculating outputs\n",
      "2021-03-18 17:34:51,405 - pynamics.integration - INFO - beginning integration\n",
      "2021-03-18 17:57:22,045 - pynamics.integration - INFO - finished integration\n",
      "2021-03-18 17:57:22,048 - pynamics.output - INFO - calculating outputs\n",
      "2021-03-18 17:57:22,224 - pynamics.output - INFO - done calculating outputs\n",
      "2021-03-18 17:57:22,226 - pynamics.integration - INFO - beginning integration\n",
      "2021-03-18 18:18:23,139 - pynamics.integration - INFO - finished integration\n",
      "2021-03-18 18:18:23,142 - pynamics.output - INFO - calculating outputs\n",
      "2021-03-18 18:18:23,300 - pynamics.output - INFO - done calculating outputs\n",
      "2021-03-18 18:18:23,302 - pynamics.integration - INFO - beginning integration\n",
      "2021-03-18 18:41:30,336 - pynamics.integration - INFO - finished integration\n",
      "2021-03-18 18:41:30,338 - pynamics.output - INFO - calculating outputs\n",
      "2021-03-18 18:41:30,574 - pynamics.output - INFO - done calculating outputs\n",
      "2021-03-18 18:41:30,805 - pynamics.integration - INFO - beginning integration\n",
      "2021-03-18 18:57:54,548 - pynamics.integration - INFO - finished integration\n",
      "2021-03-18 18:57:54,550 - pynamics.output - INFO - calculating outputs\n",
      "2021-03-18 18:57:54,726 - pynamics.output - INFO - done calculating outputs\n",
      "2021-03-18 18:57:54,728 - pynamics.integration - INFO - beginning integration\n",
      "2021-03-18 19:13:09,446 - pynamics.integration - INFO - finished integration\n",
      "2021-03-18 19:13:09,448 - pynamics.output - INFO - calculating outputs\n",
      "2021-03-18 19:13:09,660 - pynamics.output - INFO - done calculating outputs\n",
      "2021-03-18 19:13:09,662 - pynamics.integration - INFO - beginning integration\n",
      "2021-03-18 19:29:54,460 - pynamics.integration - INFO - finished integration\n",
      "2021-03-18 19:29:54,463 - pynamics.output - INFO - calculating outputs\n",
      "2021-03-18 19:29:54,649 - pynamics.output - INFO - done calculating outputs\n",
      "    3     24 3.32595123593104e+02 1.7e+00 7.05e-01 4.69e-01\n",
      "2021-03-18 19:29:54,799 - pynamics.integration - INFO - beginning integration\n",
      "2021-03-18 19:41:51,482 - pynamics.integration - INFO - finished integration\n",
      "2021-03-18 19:41:51,484 - pynamics.output - INFO - calculating outputs\n",
      "2021-03-18 19:41:51,673 - pynamics.output - INFO - done calculating outputs\n",
      "2021-03-18 19:41:51,676 - pynamics.integration - INFO - beginning integration\n",
      "2021-03-18 20:08:23,266 - pynamics.integration - INFO - finished integration\n",
      "2021-03-18 20:08:23,269 - pynamics.output - INFO - calculating outputs\n",
      "2021-03-18 20:08:23,448 - pynamics.output - INFO - done calculating outputs\n",
      "2021-03-18 20:08:23,450 - pynamics.integration - INFO - beginning integration\n",
      "2021-03-18 20:25:43,235 - pynamics.integration - INFO - finished integration\n",
      "2021-03-18 20:25:43,237 - pynamics.output - INFO - calculating outputs\n",
      "2021-03-18 20:25:43,510 - pynamics.output - INFO - done calculating outputs\n",
      "2021-03-18 20:25:43,516 - pynamics.integration - INFO - beginning integration\n",
      "2021-03-18 20:47:05,726 - pynamics.integration - INFO - finished integration\n",
      "2021-03-18 20:47:05,728 - pynamics.output - INFO - calculating outputs\n",
      "2021-03-18 20:47:06,006 - pynamics.output - INFO - done calculating outputs\n",
      "2021-03-18 20:47:06,008 - pynamics.integration - INFO - beginning integration\n",
      "2021-03-18 21:09:14,251 - pynamics.integration - INFO - finished integration\n",
      "2021-03-18 21:09:14,253 - pynamics.output - INFO - calculating outputs\n",
      "2021-03-18 21:09:14,634 - pynamics.output - INFO - done calculating outputs\n",
      "2021-03-18 21:09:14,636 - pynamics.integration - INFO - beginning integration\n",
      "2021-03-18 21:35:39,543 - pynamics.integration - INFO - finished integration\n",
      "2021-03-18 21:35:39,546 - pynamics.output - INFO - calculating outputs\n",
      "2021-03-18 21:35:39,895 - pynamics.output - INFO - done calculating outputs\n",
      "2021-03-18 21:35:39,897 - pynamics.integration - INFO - beginning integration\n",
      "2021-03-18 22:00:39,194 - pynamics.integration - INFO - finished integration\n",
      "2021-03-18 22:00:39,198 - pynamics.output - INFO - calculating outputs\n",
      "2021-03-18 22:00:39,426 - pynamics.output - INFO - done calculating outputs\n",
      "2021-03-18 22:00:39,429 - pynamics.integration - INFO - beginning integration\n",
      "2021-03-18 22:24:20,464 - pynamics.integration - INFO - finished integration\n",
      "2021-03-18 22:24:20,465 - pynamics.output - INFO - calculating outputs\n",
      "2021-03-18 22:24:20,646 - pynamics.output - INFO - done calculating outputs\n",
      "    4     32 3.32598094681152e+02 1.9e+00 5.86e-01 4.41e-01\n",
      "2021-03-18 22:24:20,905 - pynamics.integration - INFO - beginning integration\n",
      "2021-03-18 22:32:39,125 - pynamics.integration - INFO - finished integration\n",
      "2021-03-18 22:32:39,130 - pynamics.output - INFO - calculating outputs\n",
      "2021-03-18 22:32:39,420 - pynamics.output - INFO - done calculating outputs\n",
      "2021-03-18 22:32:39,423 - pynamics.integration - INFO - beginning integration\n",
      "2021-03-18 22:50:59,020 - pynamics.integration - INFO - finished integration\n",
      "2021-03-18 22:50:59,024 - pynamics.output - INFO - calculating outputs\n",
      "2021-03-18 22:50:59,536 - pynamics.output - INFO - done calculating outputs\n",
      "2021-03-18 22:50:59,543 - pynamics.integration - INFO - beginning integration\n",
      "2021-03-18 23:08:29,852 - pynamics.integration - INFO - finished integration\n",
      "2021-03-18 23:08:29,858 - pynamics.output - INFO - calculating outputs\n",
      "2021-03-18 23:08:30,067 - pynamics.output - INFO - done calculating outputs\n",
      "2021-03-18 23:08:30,070 - pynamics.integration - INFO - beginning integration\n",
      "2021-03-18 23:36:17,249 - pynamics.integration - INFO - finished integration\n",
      "2021-03-18 23:36:17,251 - pynamics.output - INFO - calculating outputs\n",
      "2021-03-18 23:36:17,560 - pynamics.output - INFO - done calculating outputs\n",
      "2021-03-18 23:36:17,562 - pynamics.integration - INFO - beginning integration\n",
      "2021-03-19 00:15:18,070 - pynamics.integration - INFO - finished integration\n",
      "2021-03-19 00:15:18,153 - pynamics.output - INFO - calculating outputs\n",
      "2021-03-19 00:15:18,892 - pynamics.output - INFO - done calculating outputs\n",
      "2021-03-19 00:15:18,899 - pynamics.integration - INFO - beginning integration\n",
      "2021-03-19 00:38:22,378 - pynamics.integration - INFO - finished integration\n",
      "2021-03-19 00:38:22,380 - pynamics.output - INFO - calculating outputs\n",
      "2021-03-19 00:38:22,642 - pynamics.output - INFO - done calculating outputs\n",
      "2021-03-19 00:38:22,644 - pynamics.integration - INFO - beginning integration\n",
      "2021-03-19 00:59:16,736 - pynamics.integration - INFO - finished integration\n",
      "2021-03-19 00:59:16,738 - pynamics.output - INFO - calculating outputs\n",
      "2021-03-19 00:59:16,928 - pynamics.output - INFO - done calculating outputs\n",
      "2021-03-19 00:59:16,930 - pynamics.integration - INFO - beginning integration\n",
      "2021-03-19 04:16:16,470 - pynamics.integration - INFO - finished integration\n",
      "2021-03-19 04:16:16,472 - pynamics.output - INFO - calculating outputs\n",
      "2021-03-19 04:16:17,733 - pynamics.output - INFO - done calculating outputs\n",
      "    5     40 3.32595121775789e+02 1.8e+00 6.44e-01 4.33e-01\n",
      "2021-03-19 04:16:18,044 - pynamics.integration - INFO - beginning integration\n",
      "2021-03-19 09:12:06,869 - pynamics.integration - INFO - finished integration\n",
      "2021-03-19 09:12:06,870 - pynamics.output - INFO - calculating outputs\n",
      "2021-03-19 09:12:06,983 - pynamics.output - INFO - done calculating outputs\n",
      "2021-03-19 09:12:06,984 - pynamics.integration - INFO - beginning integration\n",
      "2021-03-19 09:20:12,518 - pynamics.integration - INFO - finished integration\n",
      "2021-03-19 09:20:12,520 - pynamics.output - INFO - calculating outputs\n",
      "2021-03-19 09:20:12,691 - pynamics.output - INFO - done calculating outputs\n",
      "2021-03-19 09:20:12,693 - pynamics.integration - INFO - beginning integration\n",
      "2021-03-19 14:41:57,378 - pynamics.integration - INFO - finished integration\n",
      "2021-03-19 14:41:57,381 - pynamics.output - INFO - calculating outputs\n",
      "2021-03-19 14:41:57,542 - pynamics.output - INFO - done calculating outputs\n",
      "2021-03-19 14:41:57,543 - pynamics.integration - INFO - beginning integration\n",
      "2021-03-19 15:08:53,208 - pynamics.integration - INFO - finished integration\n",
      "2021-03-19 15:08:53,210 - pynamics.output - INFO - calculating outputs\n",
      "2021-03-19 15:08:53,426 - pynamics.output - INFO - done calculating outputs\n",
      "2021-03-19 15:08:53,428 - pynamics.integration - INFO - beginning integration\n"
     ]
    },
    {
     "output_type": "error",
     "ename": "KeyboardInterrupt",
     "evalue": "",
     "traceback": [
      "\u001b[1;31m---------------------------------------------------------------------------\u001b[0m",
      "\u001b[1;31mKeyboardInterrupt\u001b[0m                         Traceback (most recent call last)",
      "\u001b[1;32m<ipython-input-54-07e8c1cfb65f>\u001b[0m in \u001b[0;36m<module>\u001b[1;34m\u001b[0m\n\u001b[0;32m     10\u001b[0m     \u001b[1;32mwhile\u001b[0m \u001b[1;32mnot\u001b[0m \u001b[0mes\u001b[0m\u001b[1;33m.\u001b[0m\u001b[0mstop\u001b[0m\u001b[1;33m(\u001b[0m\u001b[1;33m)\u001b[0m\u001b[1;33m:\u001b[0m\u001b[1;33m\u001b[0m\u001b[1;33m\u001b[0m\u001b[0m\n\u001b[0;32m     11\u001b[0m           \u001b[0mX\u001b[0m \u001b[1;33m=\u001b[0m \u001b[0mes\u001b[0m\u001b[1;33m.\u001b[0m\u001b[0mask\u001b[0m\u001b[1;33m(\u001b[0m\u001b[1;33m)\u001b[0m\u001b[1;33m\u001b[0m\u001b[1;33m\u001b[0m\u001b[0m\n\u001b[1;32m---> 12\u001b[1;33m           \u001b[0mes\u001b[0m\u001b[1;33m.\u001b[0m\u001b[0mtell\u001b[0m\u001b[1;33m(\u001b[0m\u001b[0mX\u001b[0m\u001b[1;33m,\u001b[0m \u001b[1;33m[\u001b[0m\u001b[0mcalc_error\u001b[0m\u001b[1;33m(\u001b[0m\u001b[0mx\u001b[0m\u001b[1;33m)\u001b[0m \u001b[1;32mfor\u001b[0m \u001b[0mx\u001b[0m \u001b[1;32min\u001b[0m \u001b[0mX\u001b[0m\u001b[1;33m]\u001b[0m\u001b[1;33m)\u001b[0m\u001b[1;33m\u001b[0m\u001b[1;33m\u001b[0m\u001b[0m\n\u001b[0m\u001b[0;32m     13\u001b[0m           \u001b[0mes\u001b[0m\u001b[1;33m.\u001b[0m\u001b[0mlogger\u001b[0m\u001b[1;33m.\u001b[0m\u001b[0madd\u001b[0m\u001b[1;33m(\u001b[0m\u001b[1;33m)\u001b[0m\u001b[1;33m\u001b[0m\u001b[1;33m\u001b[0m\u001b[0m\n\u001b[0;32m     14\u001b[0m           \u001b[0mes\u001b[0m\u001b[1;33m.\u001b[0m\u001b[0mlogger\u001b[0m\u001b[1;33m.\u001b[0m\u001b[0mdisp\u001b[0m\u001b[1;33m(\u001b[0m\u001b[1;33m[\u001b[0m\u001b[1;33m-\u001b[0m\u001b[1;36m1\u001b[0m\u001b[1;33m]\u001b[0m\u001b[1;33m)\u001b[0m\u001b[1;33m\u001b[0m\u001b[1;33m\u001b[0m\u001b[0m\n",
      "\u001b[1;32m<ipython-input-54-07e8c1cfb65f>\u001b[0m in \u001b[0;36m<listcomp>\u001b[1;34m(.0)\u001b[0m\n\u001b[0;32m     10\u001b[0m     \u001b[1;32mwhile\u001b[0m \u001b[1;32mnot\u001b[0m \u001b[0mes\u001b[0m\u001b[1;33m.\u001b[0m\u001b[0mstop\u001b[0m\u001b[1;33m(\u001b[0m\u001b[1;33m)\u001b[0m\u001b[1;33m:\u001b[0m\u001b[1;33m\u001b[0m\u001b[1;33m\u001b[0m\u001b[0m\n\u001b[0;32m     11\u001b[0m           \u001b[0mX\u001b[0m \u001b[1;33m=\u001b[0m \u001b[0mes\u001b[0m\u001b[1;33m.\u001b[0m\u001b[0mask\u001b[0m\u001b[1;33m(\u001b[0m\u001b[1;33m)\u001b[0m\u001b[1;33m\u001b[0m\u001b[1;33m\u001b[0m\u001b[0m\n\u001b[1;32m---> 12\u001b[1;33m           \u001b[0mes\u001b[0m\u001b[1;33m.\u001b[0m\u001b[0mtell\u001b[0m\u001b[1;33m(\u001b[0m\u001b[0mX\u001b[0m\u001b[1;33m,\u001b[0m \u001b[1;33m[\u001b[0m\u001b[0mcalc_error\u001b[0m\u001b[1;33m(\u001b[0m\u001b[0mx\u001b[0m\u001b[1;33m)\u001b[0m \u001b[1;32mfor\u001b[0m \u001b[0mx\u001b[0m \u001b[1;32min\u001b[0m \u001b[0mX\u001b[0m\u001b[1;33m]\u001b[0m\u001b[1;33m)\u001b[0m\u001b[1;33m\u001b[0m\u001b[1;33m\u001b[0m\u001b[0m\n\u001b[0m\u001b[0;32m     13\u001b[0m           \u001b[0mes\u001b[0m\u001b[1;33m.\u001b[0m\u001b[0mlogger\u001b[0m\u001b[1;33m.\u001b[0m\u001b[0madd\u001b[0m\u001b[1;33m(\u001b[0m\u001b[1;33m)\u001b[0m\u001b[1;33m\u001b[0m\u001b[1;33m\u001b[0m\u001b[0m\n\u001b[0;32m     14\u001b[0m           \u001b[0mes\u001b[0m\u001b[1;33m.\u001b[0m\u001b[0mlogger\u001b[0m\u001b[1;33m.\u001b[0m\u001b[0mdisp\u001b[0m\u001b[1;33m(\u001b[0m\u001b[1;33m[\u001b[0m\u001b[1;33m-\u001b[0m\u001b[1;36m1\u001b[0m\u001b[1;33m]\u001b[0m\u001b[1;33m)\u001b[0m\u001b[1;33m\u001b[0m\u001b[1;33m\u001b[0m\u001b[0m\n",
      "\u001b[1;32m<ipython-input-51-5da23722c625>\u001b[0m in \u001b[0;36mcalc_error\u001b[1;34m(args)\u001b[0m\n\u001b[0;32m      1\u001b[0m \u001b[1;32mdef\u001b[0m \u001b[0mcalc_error\u001b[0m\u001b[1;33m(\u001b[0m\u001b[0margs\u001b[0m\u001b[1;33m)\u001b[0m\u001b[1;33m:\u001b[0m\u001b[1;33m\u001b[0m\u001b[1;33m\u001b[0m\u001b[0m\n\u001b[1;32m----> 2\u001b[1;33m     \u001b[0mstates_guess\u001b[0m \u001b[1;33m=\u001b[0m \u001b[0mrun_sim\u001b[0m\u001b[1;33m(\u001b[0m\u001b[0margs\u001b[0m\u001b[1;33m)\u001b[0m\u001b[1;33m\u001b[0m\u001b[1;33m\u001b[0m\u001b[0m\n\u001b[0m\u001b[0;32m      3\u001b[0m     \u001b[0my_guess\u001b[0m \u001b[1;33m=\u001b[0m \u001b[0mpoints_output\u001b[0m\u001b[1;33m.\u001b[0m\u001b[0mcalc\u001b[0m\u001b[1;33m(\u001b[0m\u001b[0mstates_guess\u001b[0m\u001b[1;33m)\u001b[0m\u001b[1;33m\u001b[0m\u001b[1;33m\u001b[0m\u001b[0m\n\u001b[0;32m      4\u001b[0m     \u001b[0my_guess\u001b[0m \u001b[1;33m=\u001b[0m \u001b[0my_guess\u001b[0m\u001b[1;33m.\u001b[0m\u001b[0mreshape\u001b[0m\u001b[1;33m(\u001b[0m\u001b[1;33m(\u001b[0m\u001b[1;36m3336\u001b[0m\u001b[1;33m,\u001b[0m\u001b[1;33m-\u001b[0m\u001b[1;36m1\u001b[0m\u001b[1;33m)\u001b[0m\u001b[1;33m)\u001b[0m\u001b[1;33m\u001b[0m\u001b[1;33m\u001b[0m\u001b[0m\n\u001b[0;32m      5\u001b[0m     \u001b[0merror\u001b[0m \u001b[1;33m=\u001b[0m \u001b[0mfyt\u001b[0m \u001b[1;33m-\u001b[0m \u001b[0my_guess\u001b[0m\u001b[1;33m\u001b[0m\u001b[1;33m\u001b[0m\u001b[0m\n",
      "\u001b[1;32m<ipython-input-29-032c825727b3>\u001b[0m in \u001b[0;36mrun_sim\u001b[1;34m(args)\u001b[0m\n\u001b[0;32m      1\u001b[0m \u001b[1;32mdef\u001b[0m \u001b[0mrun_sim\u001b[0m\u001b[1;33m(\u001b[0m\u001b[0margs\u001b[0m\u001b[1;33m)\u001b[0m\u001b[1;33m:\u001b[0m\u001b[1;33m\u001b[0m\u001b[1;33m\u001b[0m\u001b[0m\n\u001b[0;32m      2\u001b[0m     \u001b[0mconstants\u001b[0m \u001b[1;33m=\u001b[0m \u001b[0mdict\u001b[0m\u001b[1;33m(\u001b[0m\u001b[1;33m[\u001b[0m\u001b[1;33m(\u001b[0m\u001b[0mkey\u001b[0m\u001b[1;33m,\u001b[0m\u001b[0mvalue\u001b[0m\u001b[1;33m)\u001b[0m \u001b[1;32mfor\u001b[0m \u001b[0mkey\u001b[0m\u001b[1;33m,\u001b[0m\u001b[0mvalue\u001b[0m \u001b[1;32min\u001b[0m \u001b[0mzip\u001b[0m\u001b[1;33m(\u001b[0m\u001b[0munknown_constants\u001b[0m\u001b[1;33m,\u001b[0m\u001b[0margs\u001b[0m\u001b[1;33m)\u001b[0m\u001b[1;33m]\u001b[0m\u001b[1;33m)\u001b[0m\u001b[1;33m\u001b[0m\u001b[1;33m\u001b[0m\u001b[0m\n\u001b[1;32m----> 3\u001b[1;33m     \u001b[0mstates\u001b[0m\u001b[1;33m=\u001b[0m\u001b[0mpynamics\u001b[0m\u001b[1;33m.\u001b[0m\u001b[0mintegration\u001b[0m\u001b[1;33m.\u001b[0m\u001b[0mintegrate\u001b[0m\u001b[1;33m(\u001b[0m\u001b[0mfunc1\u001b[0m\u001b[1;33m,\u001b[0m\u001b[0mini\u001b[0m\u001b[1;33m,\u001b[0m\u001b[0mt\u001b[0m\u001b[1;33m,\u001b[0m\u001b[0mrtol\u001b[0m\u001b[1;33m=\u001b[0m\u001b[0mtol\u001b[0m\u001b[1;33m,\u001b[0m\u001b[0matol\u001b[0m\u001b[1;33m=\u001b[0m\u001b[0mtol\u001b[0m\u001b[1;33m,\u001b[0m\u001b[0mhmin\u001b[0m\u001b[1;33m=\u001b[0m\u001b[0mtol\u001b[0m\u001b[1;33m,\u001b[0m \u001b[0margs\u001b[0m\u001b[1;33m=\u001b[0m\u001b[1;33m(\u001b[0m\u001b[1;33m{\u001b[0m\u001b[1;34m'constants'\u001b[0m\u001b[1;33m:\u001b[0m\u001b[0mconstants\u001b[0m\u001b[1;33m}\u001b[0m\u001b[1;33m,\u001b[0m\u001b[1;33m)\u001b[0m\u001b[1;33m)\u001b[0m\u001b[1;33m\u001b[0m\u001b[1;33m\u001b[0m\u001b[0m\n\u001b[0m\u001b[0;32m      4\u001b[0m     \u001b[1;32mreturn\u001b[0m \u001b[0mstates\u001b[0m\u001b[1;33m\u001b[0m\u001b[1;33m\u001b[0m\u001b[0m\n",
      "\u001b[1;32mC:\\Users\\geomu\\anaconda3\\lib\\site-packages\\pynamics\\integration.py\u001b[0m in \u001b[0;36mintegrate\u001b[1;34m(*args, **kwargs)\u001b[0m\n\u001b[0;32m      6\u001b[0m \u001b[1;32mdef\u001b[0m \u001b[0mintegrate\u001b[0m\u001b[1;33m(\u001b[0m\u001b[1;33m*\u001b[0m\u001b[0margs\u001b[0m\u001b[1;33m,\u001b[0m\u001b[1;33m**\u001b[0m\u001b[0mkwargs\u001b[0m\u001b[1;33m)\u001b[0m\u001b[1;33m:\u001b[0m\u001b[1;33m\u001b[0m\u001b[1;33m\u001b[0m\u001b[0m\n\u001b[0;32m      7\u001b[0m     \u001b[1;32mif\u001b[0m \u001b[0mpynamics\u001b[0m\u001b[1;33m.\u001b[0m\u001b[0mintegrator\u001b[0m\u001b[1;33m==\u001b[0m\u001b[1;36m0\u001b[0m\u001b[1;33m:\u001b[0m\u001b[1;33m\u001b[0m\u001b[1;33m\u001b[0m\u001b[0m\n\u001b[1;32m----> 8\u001b[1;33m         \u001b[1;32mreturn\u001b[0m \u001b[0mintegrate_odeint\u001b[0m\u001b[1;33m(\u001b[0m\u001b[1;33m*\u001b[0m\u001b[0margs\u001b[0m\u001b[1;33m,\u001b[0m\u001b[1;33m**\u001b[0m\u001b[0mkwargs\u001b[0m\u001b[1;33m)\u001b[0m\u001b[1;33m\u001b[0m\u001b[1;33m\u001b[0m\u001b[0m\n\u001b[0m\u001b[0;32m      9\u001b[0m     \u001b[1;32melif\u001b[0m \u001b[0mpynamics\u001b[0m\u001b[1;33m.\u001b[0m\u001b[0mintegrator\u001b[0m\u001b[1;33m==\u001b[0m\u001b[1;36m1\u001b[0m\u001b[1;33m:\u001b[0m\u001b[1;33m\u001b[0m\u001b[1;33m\u001b[0m\u001b[0m\n\u001b[0;32m     10\u001b[0m         \u001b[0mnewargs\u001b[0m \u001b[1;33m=\u001b[0m \u001b[0margs\u001b[0m\u001b[1;33m[\u001b[0m\u001b[1;36m0\u001b[0m\u001b[1;33m]\u001b[0m\u001b[1;33m,\u001b[0m\u001b[0margs\u001b[0m\u001b[1;33m[\u001b[0m\u001b[1;36m2\u001b[0m\u001b[1;33m]\u001b[0m\u001b[1;33m[\u001b[0m\u001b[1;36m0\u001b[0m\u001b[1;33m]\u001b[0m\u001b[1;33m,\u001b[0m\u001b[0margs\u001b[0m\u001b[1;33m[\u001b[0m\u001b[1;36m1\u001b[0m\u001b[1;33m]\u001b[0m\u001b[1;33m,\u001b[0m\u001b[0margs\u001b[0m\u001b[1;33m[\u001b[0m\u001b[1;36m2\u001b[0m\u001b[1;33m]\u001b[0m\u001b[1;33m[\u001b[0m\u001b[1;33m-\u001b[0m\u001b[1;36m1\u001b[0m\u001b[1;33m]\u001b[0m\u001b[1;33m\u001b[0m\u001b[1;33m\u001b[0m\u001b[0m\n",
      "\u001b[1;32mC:\\Users\\geomu\\anaconda3\\lib\\site-packages\\pynamics\\integration.py\u001b[0m in \u001b[0;36mintegrate_odeint\u001b[1;34m(*arguments, **keyword_arguments)\u001b[0m\n\u001b[0;32m     17\u001b[0m \u001b[1;33m\u001b[0m\u001b[0m\n\u001b[0;32m     18\u001b[0m     \u001b[0mlogger\u001b[0m\u001b[1;33m.\u001b[0m\u001b[0minfo\u001b[0m\u001b[1;33m(\u001b[0m\u001b[1;34m'beginning integration'\u001b[0m\u001b[1;33m)\u001b[0m\u001b[1;33m\u001b[0m\u001b[1;33m\u001b[0m\u001b[0m\n\u001b[1;32m---> 19\u001b[1;33m     \u001b[0mresult\u001b[0m \u001b[1;33m=\u001b[0m \u001b[0mscipy\u001b[0m\u001b[1;33m.\u001b[0m\u001b[0mintegrate\u001b[0m\u001b[1;33m.\u001b[0m\u001b[0modeint\u001b[0m\u001b[1;33m(\u001b[0m\u001b[1;33m*\u001b[0m\u001b[0marguments\u001b[0m\u001b[1;33m,\u001b[0m\u001b[1;33m**\u001b[0m\u001b[0mkeyword_arguments\u001b[0m\u001b[1;33m)\u001b[0m\u001b[1;33m\u001b[0m\u001b[1;33m\u001b[0m\u001b[0m\n\u001b[0m\u001b[0;32m     20\u001b[0m     \u001b[0mlogger\u001b[0m\u001b[1;33m.\u001b[0m\u001b[0minfo\u001b[0m\u001b[1;33m(\u001b[0m\u001b[1;34m'finished integration'\u001b[0m\u001b[1;33m)\u001b[0m\u001b[1;33m\u001b[0m\u001b[1;33m\u001b[0m\u001b[0m\n\u001b[0;32m     21\u001b[0m     \u001b[1;32mreturn\u001b[0m \u001b[0mresult\u001b[0m\u001b[1;33m\u001b[0m\u001b[1;33m\u001b[0m\u001b[0m\n",
      "\u001b[1;32mC:\\Users\\geomu\\anaconda3\\lib\\site-packages\\scipy\\integrate\\odepack.py\u001b[0m in \u001b[0;36modeint\u001b[1;34m(func, y0, t, args, Dfun, col_deriv, full_output, ml, mu, rtol, atol, tcrit, h0, hmax, hmin, ixpr, mxstep, mxhnil, mxordn, mxords, printmessg, tfirst)\u001b[0m\n\u001b[0;32m    242\u001b[0m                              \u001b[0mfull_output\u001b[0m\u001b[1;33m,\u001b[0m \u001b[0mrtol\u001b[0m\u001b[1;33m,\u001b[0m \u001b[0matol\u001b[0m\u001b[1;33m,\u001b[0m \u001b[0mtcrit\u001b[0m\u001b[1;33m,\u001b[0m \u001b[0mh0\u001b[0m\u001b[1;33m,\u001b[0m \u001b[0mhmax\u001b[0m\u001b[1;33m,\u001b[0m \u001b[0mhmin\u001b[0m\u001b[1;33m,\u001b[0m\u001b[1;33m\u001b[0m\u001b[1;33m\u001b[0m\u001b[0m\n\u001b[0;32m    243\u001b[0m                              \u001b[0mixpr\u001b[0m\u001b[1;33m,\u001b[0m \u001b[0mmxstep\u001b[0m\u001b[1;33m,\u001b[0m \u001b[0mmxhnil\u001b[0m\u001b[1;33m,\u001b[0m \u001b[0mmxordn\u001b[0m\u001b[1;33m,\u001b[0m \u001b[0mmxords\u001b[0m\u001b[1;33m,\u001b[0m\u001b[1;33m\u001b[0m\u001b[1;33m\u001b[0m\u001b[0m\n\u001b[1;32m--> 244\u001b[1;33m                              int(bool(tfirst)))\n\u001b[0m\u001b[0;32m    245\u001b[0m     \u001b[1;32mif\u001b[0m \u001b[0moutput\u001b[0m\u001b[1;33m[\u001b[0m\u001b[1;33m-\u001b[0m\u001b[1;36m1\u001b[0m\u001b[1;33m]\u001b[0m \u001b[1;33m<\u001b[0m \u001b[1;36m0\u001b[0m\u001b[1;33m:\u001b[0m\u001b[1;33m\u001b[0m\u001b[1;33m\u001b[0m\u001b[0m\n\u001b[0;32m    246\u001b[0m         \u001b[0mwarning_msg\u001b[0m \u001b[1;33m=\u001b[0m \u001b[0m_msgs\u001b[0m\u001b[1;33m[\u001b[0m\u001b[0moutput\u001b[0m\u001b[1;33m[\u001b[0m\u001b[1;33m-\u001b[0m\u001b[1;36m1\u001b[0m\u001b[1;33m]\u001b[0m\u001b[1;33m]\u001b[0m \u001b[1;33m+\u001b[0m \u001b[1;34m\" Run with full_output = 1 to get quantitative information.\"\u001b[0m\u001b[1;33m\u001b[0m\u001b[1;33m\u001b[0m\u001b[0m\n",
      "\u001b[1;32mC:\\Users\\geomu\\anaconda3\\lib\\site-packages\\pynamics\\system.py\u001b[0m in \u001b[0;36mfunc\u001b[1;34m(arg0, arg1, *args)\u001b[0m\n\u001b[0;32m    416\u001b[0m \u001b[1;33m\u001b[0m\u001b[0m\n\u001b[0;32m    417\u001b[0m             \u001b[0mx1\u001b[0m \u001b[1;33m=\u001b[0m \u001b[0mnumpy\u001b[0m\u001b[1;33m.\u001b[0m\u001b[0marray\u001b[0m\u001b[1;33m(\u001b[0m\u001b[0mf_position_derivatives\u001b[0m\u001b[1;33m(\u001b[0m\u001b[1;33m*\u001b[0m\u001b[0mstate_i_full\u001b[0m\u001b[1;33m)\u001b[0m\u001b[1;33m,\u001b[0m\u001b[0mdtype\u001b[0m\u001b[1;33m=\u001b[0m\u001b[0mfloat\u001b[0m\u001b[1;33m)\u001b[0m\u001b[1;33m.\u001b[0m\u001b[0mflatten\u001b[0m\u001b[1;33m(\u001b[0m\u001b[1;33m)\u001b[0m\u001b[1;33m\u001b[0m\u001b[1;33m\u001b[0m\u001b[0m\n\u001b[1;32m--> 418\u001b[1;33m             \u001b[0mx2\u001b[0m \u001b[1;33m=\u001b[0m \u001b[0mnumpy\u001b[0m\u001b[1;33m.\u001b[0m\u001b[0marray\u001b[0m\u001b[1;33m(\u001b[0m\u001b[0mscipy\u001b[0m\u001b[1;33m.\u001b[0m\u001b[0mlinalg\u001b[0m\u001b[1;33m.\u001b[0m\u001b[0msolve\u001b[0m\u001b[1;33m(\u001b[0m\u001b[0mAi\u001b[0m\u001b[1;33m,\u001b[0m\u001b[0mbi\u001b[0m\u001b[1;33m)\u001b[0m\u001b[1;33m)\u001b[0m\u001b[1;33m.\u001b[0m\u001b[0mflatten\u001b[0m\u001b[1;33m(\u001b[0m\u001b[1;33m)\u001b[0m\u001b[1;33m\u001b[0m\u001b[1;33m\u001b[0m\u001b[0m\n\u001b[0m\u001b[0;32m    419\u001b[0m             \u001b[0mx3\u001b[0m \u001b[1;33m=\u001b[0m \u001b[0mnumpy\u001b[0m\u001b[1;33m.\u001b[0m\u001b[0mr_\u001b[0m\u001b[1;33m[\u001b[0m\u001b[0mx1\u001b[0m\u001b[1;33m,\u001b[0m\u001b[0mx2\u001b[0m\u001b[1;33m[\u001b[0m\u001b[1;33m:\u001b[0m\u001b[0mm\u001b[0m\u001b[1;33m]\u001b[0m\u001b[1;33m]\u001b[0m\u001b[1;33m\u001b[0m\u001b[1;33m\u001b[0m\u001b[0m\n\u001b[0;32m    420\u001b[0m             \u001b[0mx4\u001b[0m \u001b[1;33m=\u001b[0m \u001b[0mx3\u001b[0m\u001b[1;33m.\u001b[0m\u001b[0mflatten\u001b[0m\u001b[1;33m(\u001b[0m\u001b[1;33m)\u001b[0m\u001b[1;33m.\u001b[0m\u001b[0mtolist\u001b[0m\u001b[1;33m(\u001b[0m\u001b[1;33m)\u001b[0m\u001b[1;33m\u001b[0m\u001b[1;33m\u001b[0m\u001b[0m\n",
      "\u001b[1;32mC:\\Users\\geomu\\anaconda3\\lib\\site-packages\\scipy\\linalg\\basic.py\u001b[0m in \u001b[0;36msolve\u001b[1;34m(a, b, sym_pos, lower, overwrite_a, overwrite_b, debug, check_finite, assume_a, transposed)\u001b[0m\n\u001b[0;32m    216\u001b[0m                         trans=trans, overwrite_b=overwrite_b)\n\u001b[0;32m    217\u001b[0m         \u001b[0m_solve_check\u001b[0m\u001b[1;33m(\u001b[0m\u001b[0mn\u001b[0m\u001b[1;33m,\u001b[0m \u001b[0minfo\u001b[0m\u001b[1;33m)\u001b[0m\u001b[1;33m\u001b[0m\u001b[1;33m\u001b[0m\u001b[0m\n\u001b[1;32m--> 218\u001b[1;33m         \u001b[0mrcond\u001b[0m\u001b[1;33m,\u001b[0m \u001b[0minfo\u001b[0m \u001b[1;33m=\u001b[0m \u001b[0mgecon\u001b[0m\u001b[1;33m(\u001b[0m\u001b[0mlu\u001b[0m\u001b[1;33m,\u001b[0m \u001b[0manorm\u001b[0m\u001b[1;33m,\u001b[0m \u001b[0mnorm\u001b[0m\u001b[1;33m=\u001b[0m\u001b[0mnorm\u001b[0m\u001b[1;33m)\u001b[0m\u001b[1;33m\u001b[0m\u001b[1;33m\u001b[0m\u001b[0m\n\u001b[0m\u001b[0;32m    219\u001b[0m     \u001b[1;31m# Hermitian case 'hesv'\u001b[0m\u001b[1;33m\u001b[0m\u001b[1;33m\u001b[0m\u001b[1;33m\u001b[0m\u001b[0m\n\u001b[0;32m    220\u001b[0m     \u001b[1;32melif\u001b[0m \u001b[0massume_a\u001b[0m \u001b[1;33m==\u001b[0m \u001b[1;34m'her'\u001b[0m\u001b[1;33m:\u001b[0m\u001b[1;33m\u001b[0m\u001b[1;33m\u001b[0m\u001b[0m\n",
      "\u001b[1;31mKeyboardInterrupt\u001b[0m: "
     ]
    }
   ],
   "source": [
    "#method = None\n",
    "method = 'CMA'\n",
    "#method = 'BFGS'\n",
    "\n",
    "if method is None:\n",
    "    result = k_guess\n",
    "elif method == 'CMA':\n",
    "    es = cma.CMAEvolutionStrategy(k_guess, 0.5)\n",
    "    es.logger.disp_header()\n",
    "    while not es.stop():\n",
    "          X = es.ask()\n",
    "          es.tell(X, [calc_error(x) for x in X])\n",
    "          es.logger.add()\n",
    "          es.logger.disp([-1])\n",
    "    result = es.best.x\n",
    "else:\n",
    "    sol = scipy.optimize.minimize(calc_error,k_guess,method = method)\n",
    "    print(sol.fun)\n",
    "    result = sol.x"
   ]
  },
  {
   "cell_type": "code",
   "execution_count": 50,
   "metadata": {},
   "outputs": [
    {
     "output_type": "error",
     "ename": "NameError",
     "evalue": "name 'y_guess' is not defined",
     "traceback": [
      "\u001b[1;31m---------------------------------------------------------------------------\u001b[0m",
      "\u001b[1;31mNameError\u001b[0m                                 Traceback (most recent call last)",
      "\u001b[1;32m<ipython-input-50-557c97553b35>\u001b[0m in \u001b[0;36m<module>\u001b[1;34m\u001b[0m\n\u001b[1;32m----> 1\u001b[1;33m \u001b[0my_guess\u001b[0m\u001b[1;33m\u001b[0m\u001b[1;33m\u001b[0m\u001b[0m\n\u001b[0m",
      "\u001b[1;31mNameError\u001b[0m: name 'y_guess' is not defined"
     ]
    }
   ],
   "source": [
    "y_guess"
   ]
  },
  {
   "cell_type": "code",
   "execution_count": null,
   "metadata": {},
   "outputs": [],
   "source": []
  },
  {
   "cell_type": "code",
   "execution_count": null,
   "metadata": {},
   "outputs": [],
   "source": []
  },
  {
   "cell_type": "code",
   "execution_count": null,
   "metadata": {},
   "outputs": [],
   "source": []
  }
 ],
 "metadata": {
  "colab": {
   "collapsed_sections": [],
   "name": "Copy of Wing Kinematics.ipynb",
   "provenance": []
  },
  "kernelspec": {
   "display_name": "Python 3",
   "language": "python",
   "name": "python3"
  },
  "language_info": {
   "codemirror_mode": {
    "name": "ipython",
    "version": 3
   },
   "file_extension": ".py",
   "mimetype": "text/x-python",
   "name": "python",
   "nbconvert_exporter": "python",
   "pygments_lexer": "ipython3",
   "version": "3.7.9-final"
  }
 },
 "nbformat": 4,
 "nbformat_minor": 5
}
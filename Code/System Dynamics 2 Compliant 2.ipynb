{
 "cells": [
  {
   "cell_type": "markdown",
   "id": "outdoor-eating",
   "metadata": {},
   "source": [
    "## Setup"
   ]
  },
  {
   "cell_type": "code",
   "execution_count": 1,
   "id": "final-street",
   "metadata": {
    "colab": {
     "base_uri": "https://localhost:8080/"
    },
    "id": "pi7Co6-jBLqJ",
    "outputId": "3e0b02e5-7b83-4a8a-fb4e-f100a21e47fb"
   },
   "outputs": [],
   "source": [
    "#pip install pynamics"
   ]
  },
  {
   "cell_type": "code",
   "execution_count": 2,
   "id": "grateful-palestine",
   "metadata": {
    "id": "frequent-douglas"
   },
   "outputs": [],
   "source": [
    "%matplotlib inline\n",
    "import scipy.optimize\n",
    "import pynamics\n",
    "from pynamics.frame import Frame\n",
    "from pynamics.variable_types import Differentiable,Constant\n",
    "from pynamics.system import System\n",
    "from pynamics.body import Body\n",
    "from pynamics.dyadic import Dyadic\n",
    "from pynamics.output import Output,PointsOutput\n",
    "from pynamics.particle import Particle\n",
    "import pynamics.integration\n",
    "import numpy\n",
    "import sympy\n",
    "import matplotlib.pyplot as plt\n",
    "from matplotlib.patches import Arc\n",
    "plt.ion()\n",
    "from math import pi, sin, cos, tan, asin, acos, atan, degrees, radians, pi, sqrt"
   ]
  },
  {
   "cell_type": "code",
   "execution_count": 3,
   "id": "marine-singles",
   "metadata": {},
   "outputs": [],
   "source": [
    "def prettyplot(x,y): # Function plots mechanism and generates labels\n",
    "    # Create Figure\n",
    "    Fig1 = plt.figure(figsize=[15,10])\n",
    "    ax = Fig1.add_axes([0.0, 0.0, 1.0, 1.0], aspect='equal')\n",
    "    #ax.patch.set_alpha(0.0)\n",
    "    \n",
    "    # plot links and joints\n",
    "    plt.plot(x[0:3],y[0:3],color='tab:blue')\n",
    "    plt.plot(x[2:5],y[2:5],color='tab:green')\n",
    "    plt.plot(x[4:],y[4:],color='k')\n",
    "    plt.scatter(x,y,color='k')\n",
    "    plt.axis('equal')\n",
    "    plt.xlim([-0.1,0.5])\n",
    "    \n",
    "    # label joints\n",
    "    for i in range(0, len(x)-1):\n",
    "        plt.text(x[i]-0.004, y[i]-0.004, \"p\"+str(i), verticalalignment='top', horizontalalignment='right', fontsize=14)\n",
    "    \n",
    "    # plot COMs\n",
    "    comx = [(x[0]+x[1])/2, (x[1]+x[2])/2, (x[4]+x[3])/2, (x[3]+x[2])/2, (x[4]+x[0])/2]\n",
    "    comy = [(y[0]+y[1])/2, (y[1]+y[2])/2, (y[4]+y[3])/2, (y[3]+y[2])/2, (y[4]+y[0])/2]\n",
    "    plt.scatter(comx,comy,color='k')\n",
    "    \n",
    "    # label COMs\n",
    "    linknames = ['A', 'B', 'C', 'D', 'E']\n",
    "    for i in range(0, len(comx)):\n",
    "        plt.text(comx[i]+0.004, comy[i], linknames[i], verticalalignment='bottom', horizontalalignment='left', weight='bold', fontsize=16)\n",
    "    \n",
    "    # label properties\n",
    "    propertynames = ['La', 'Lb', 'Lc', 'Ld', 'Le']\n",
    "    for i in range(0, len(comx)):\n",
    "        plt.text(comx[i]+0.016, comy[i], propertynames[i], verticalalignment='bottom', horizontalalignment='left', fontsize=14)\n",
    "    \n",
    "    \n",
    "    # plot frame axes\n",
    "    alen = 0.04    \n",
    "    plt.arrow(0, 0, alen, 0,head_width=0.008,width=0.0004,color='r')\n",
    "    plt.arrow(0, 0, 0, alen,head_width=0.008,width=0.0004,color='r')\n",
    "    vx = []\n",
    "    vy = []\n",
    "    for i in range(1, len(x)-2):\n",
    "        if i <= 2: \n",
    "            vecx = numpy.array([x[i]-x[i-1], y[i]-y[i-1]])\n",
    "            vecx = vecx/(vecx.dot(vecx)**0.5)\n",
    "            vecy = numpy.cross([0,0,1], vecx)[0:2]\n",
    "            plt.arrow(x[i], y[i], alen*vecx[0], alen*vecx[1],head_width=0.008,width=0.0004,color='b')\n",
    "            plt.arrow(x[i], y[i], alen*vecy[0], alen*vecy[1],head_width=0.008,width=0.0004,color='b')\n",
    "            vx.append(vecx)\n",
    "            vy.append(vecy)\n",
    "        if i >= 2:\n",
    "            vecx = numpy.array([x[i]-x[i+1], y[i]-y[i+1]])\n",
    "            vecx = vecx/(vecx.dot(vecx)**0.5)\n",
    "            vecy = numpy.cross([0,0,1], vecx)[0:2]\n",
    "            plt.arrow(x[i], y[i], alen*vecx[0], alen*vecx[1],head_width=0.008,width=0.0004,color='g')\n",
    "            plt.arrow(x[i], y[i], alen*vecy[0], alen*vecy[1],head_width=0.008,width=0.0004,color='g')\n",
    "            vx.append(vecx)\n",
    "            vy.append(vecy)\n",
    "\n",
    "    # label frames\n",
    "    lablen = 0.06\n",
    "\n",
    "    plt.text(x[0]+0.06, y[0], 'Nx', verticalalignment='center', horizontalalignment='center', color='r', fontsize=14)\n",
    "    plt.text(x[0], y[0]+0.06, 'Ny', verticalalignment='center', horizontalalignment='center', color='r', fontsize=14)\n",
    "    \n",
    "    plt.text(x[1]+lablen*vx[0][0], y[1]+lablen*vx[0][1], 'Ax', verticalalignment='center', horizontalalignment='center', color='b', fontsize=14)\n",
    "    plt.text(x[1]+lablen*vy[0][0], y[1]+lablen*vy[0][1], 'Ay', verticalalignment='center', horizontalalignment='center', color='b', fontsize=14)\n",
    "\n",
    "    plt.text(x[2]+lablen*vx[1][0], y[2]+lablen*vx[1][1], 'Bx', verticalalignment='center', horizontalalignment='center', color='b', fontsize=14)\n",
    "    plt.text(x[2]+lablen*vy[1][0], y[2]+lablen*vy[1][1], 'By', verticalalignment='center', horizontalalignment='center', color='b', fontsize=14)\n",
    "\n",
    "    plt.text(x[3]+lablen*vx[3][0], y[3]+lablen*vx[3][1], 'Cx', verticalalignment='center', horizontalalignment='center', color='g', fontsize=14)\n",
    "    plt.text(x[3]+lablen*vy[3][0], y[3]+lablen*vy[3][1], 'Cy', verticalalignment='center', horizontalalignment='center', color='g', fontsize=14)\n",
    "\n",
    "    plt.text(x[2]+lablen*vx[2][0], y[2]+lablen*vx[2][1], 'Dx', verticalalignment='center', horizontalalignment='center', color='g', fontsize=14)\n",
    "    plt.text(x[2]+lablen*vy[2][0], y[2]+lablen*vy[2][1], 'Dy', verticalalignment='center', horizontalalignment='center', color='g', fontsize=14)\n",
    "\n",
    "    # plot angles\n",
    "    Aang1 = 0\n",
    "    Aang2 = degrees(atan(vx[0][1]/vx[0][0]))\n",
    "    ax.add_patch(Arc((0, 0), 0.04, 0.04, theta1=min(Aang1, Aang2), theta2=max(Aang1, Aang2), edgecolor='k', linewidth=0.0006))\n",
    "\n",
    "    Bang1 = degrees(atan(vx[0][1]/vx[0][0]))\n",
    "    Bang2 = degrees(atan(vx[1][1]/vx[1][0]))\n",
    "    ax.add_patch(Arc((x[1], y[1]), 0.04, 0.04, theta1=min(Bang1, Bang2), theta2=max(Bang1, Bang2), edgecolor='k', linewidth=0.0006))\n",
    "\n",
    "    plt.plot([0,0.04],[0.04,0.04],color='k',linewidth=1)\n",
    "    Cang1 = 0\n",
    "    Cang2 = degrees(atan(vx[3][1]/vx[3][0]))\n",
    "    ax.add_patch(Arc((x[4], y[4]), 0.04, 0.04, theta1=min(Cang1, Cang2), theta2=max(Cang1, Cang2), edgecolor='k', linewidth=0.0006))\n",
    "\n",
    "    Dang1 = degrees(atan(vx[3][1]/vx[3][0]))\n",
    "    Dang2 = degrees(atan(vx[2][1]/vx[2][0]))\n",
    "    ax.add_patch(Arc((x[3], y[3]), 0.04, 0.04, theta1=min(Dang1, Dang2), theta2=max(Dang1, Dang2), edgecolor='k', linewidth=0.0006))\n",
    "\n",
    "    # label angles\n",
    "    plt.text(x[0]+0.032*cos(radians((Aang1+Aang2)/2)), y[0]+0.032*sin(radians((Aang1+Aang2)/2)), 'qA', verticalalignment='center', horizontalalignment='center', fontsize=14)\n",
    "    plt.text(x[1]+0.032*cos(radians((Bang1+Bang2)/2)), y[1]+0.032*sin(radians((Bang1+Bang2)/2)), 'qB', verticalalignment='center', horizontalalignment='center', fontsize=14)\n",
    "    plt.text(x[4]+0.032*cos(radians((Cang1+Cang2)/2)), y[4]+0.032*sin(radians((Cang1+Cang2)/2)), 'qC', verticalalignment='center', horizontalalignment='center', fontsize=14)\n",
    "    plt.text(x[3]+0.032*cos(radians((Dang1+Dang2)/2)), y[3]+0.032*sin(radians((Dang1+Dang2)/2)), 'qD', verticalalignment='center', horizontalalignment='center', fontsize=14)\n",
    "    \n",
    "    # Label inputs and outputs\n",
    "    plt.text(x[0]-0.004, y[0]-0.004, \"Motor A\", verticalalignment='bottom', horizontalalignment='right', fontsize=14, weight='bold')\n",
    "    plt.text(x[4]-0.004, y[4]-0.004, \"Motor C\", verticalalignment='bottom', horizontalalignment='right', fontsize=14, weight='bold')\n",
    "    plt.text(x[2]+0.004, y[2]+0.004, \"End Effector (x,y)\", verticalalignment='bottom', horizontalalignment='left', fontsize=14, weight='bold')"
   ]
  },
  {
   "cell_type": "markdown",
   "id": "final-tension",
   "metadata": {},
   "source": [
    "## Procedure"
   ]
  },
  {
   "cell_type": "code",
   "execution_count": null,
   "id": "straight-george",
   "metadata": {},
   "outputs": [],
   "source": []
  },
  {
   "cell_type": "code",
   "execution_count": 4,
   "id": "typical-battlefield",
   "metadata": {},
   "outputs": [],
   "source": [
    "# Create a pynamics system\n",
    "system = System()\n",
    "pynamics.set_system(__name__,system)"
   ]
  },
  {
   "cell_type": "code",
   "execution_count": 5,
   "id": "hourly-conditioning",
   "metadata": {},
   "outputs": [],
   "source": [
    "# Length variables (numerical)\n",
    "lAa_num = 0.05\n",
    "lAb_num = 0.1\n",
    "lBa_num = 0.05\n",
    "lBb_num = 0.1\n",
    "lC_num = 0.165\n",
    "lD_num = 0.165\n",
    "lE_num = 0.045\n",
    "\n",
    "# Lengths\n",
    "lAa = Constant(lAa_num,'lAa',system)\n",
    "lAb = Constant(lAb_num,'lAb',system)\n",
    "lBa = Constant(lBa_num,'lBa',system)\n",
    "lBb = Constant(lBb_num,'lBb',system)\n",
    "lC = Constant(lC_num,'lC',system)\n",
    "lD = Constant(lD_num,'lD',system)\n",
    "lE = Constant(lE_num,'lE',system)"
   ]
  },
  {
   "cell_type": "code",
   "execution_count": 6,
   "id": "packed-marijuana",
   "metadata": {},
   "outputs": [],
   "source": [
    "# Masses\n",
    "mAa = Constant(0.027,'mAa',system)\n",
    "mAb = Constant(0.027,'mAb',system)\n",
    "mBa = Constant(0.027,'mBa',system)\n",
    "mBb = Constant(0.027,'mBb',system)\n",
    "mC = Constant(0.027,'mC',system)\n",
    "mD = Constant(0.027,'mD',system)\n",
    "\n",
    "# Joint preloads\n",
    "preload0 = Constant(0*pi/180,'preload0',system)\n",
    "preloadA = Constant(0*pi/180,'preloadA',system)\n",
    "preload1 = Constant(0*pi/180,'preload1',system)\n",
    "preloadB = Constant(0*pi/180,'preloadB',system)\n",
    "preload4 = Constant(0*pi/180,'preload4',system)\n",
    "preload3 = Constant(-15*pi/180,'preload3',system)\n",
    "\n",
    "# Inertia\n",
    "Ixx_Aa = Constant(0.000202,'Ixx_Aa',system) #0.00020264\n",
    "Iyy_Aa = Constant(0.000405,'Iyy_Aa',system) #(0.00040500\n",
    "Izz_Aa = Constant(0.000202,'Izz_Aa',system) #0.00020264\n",
    "Ixx_Ab = Constant(0.000202,'Ixx_Ab',system) #0.00020264\n",
    "Iyy_Ab = Constant(0.000405,'Iyy_Ab',system) #(0.00040500\n",
    "Izz_Ab = Constant(0.000202,'Izz_Ab',system) #0.00020264\n",
    "\n",
    "Ixx_Ba = Constant(0.000223,'Ixx_Ba',system) #0.00022378\n",
    "Iyy_Ba = Constant(0.000427,'Iyy_Ba',system) #0.00042744\n",
    "Izz_Ba = Constant(0.000204,'Izz_Ba',system) #0.00020422\n",
    "Ixx_Bb = Constant(0.000223,'Ixx_Bb',system) #0.00022378\n",
    "Iyy_Bb = Constant(0.000427,'Iyy_Bb',system) #0.00042744\n",
    "Izz_Bb = Constant(0.000204,'Izz_Bb',system) #0.00020422\n",
    "\n",
    "Ixx_C = Constant(0.000222,'Ixx_C',system) #0.00022291\n",
    "Iyy_C = Constant(0.000492,'Iyy_C',system) #0.00049228\n",
    "Izz_C = Constant(0.000269,'Izz_C',system) #0.00026969\n",
    "\n",
    "Ixx_D = Constant(0.000222,'Ixx_D',system) #0.00022291\n",
    "Iyy_D = Constant(0.000492,'Iyy_D',system) #0.00049228\n",
    "Izz_D = Constant(0.000269,'Izz_D',system) #0.00026969"
   ]
  },
  {
   "cell_type": "code",
   "execution_count": 7,
   "id": "industrial-guest",
   "metadata": {},
   "outputs": [],
   "source": [
    "# Create differentiable state variables\n",
    "qAa,qAa_d,qAa_dd = Differentiable('qAa',system)\n",
    "qAb,qAb_d,qAb_dd = Differentiable('qAb',system)\n",
    "\n",
    "qBa,qBa_d,qBa_dd = Differentiable('qBa',system)\n",
    "qBb,qBb_d,qBb_dd = Differentiable('qBb',system)\n",
    "\n",
    "qC,qC_d,qC_dd = Differentiable('qC',system)\n",
    "\n",
    "qD,qD_d,qD_dd = Differentiable('qD',system)"
   ]
  },
  {
   "cell_type": "code",
   "execution_count": 8,
   "id": "inner-reform",
   "metadata": {},
   "outputs": [],
   "source": [
    "# initial values\n",
    "# qC = 11.97 creates fully extended, horizontal wing\n",
    "initialvalues = {}\n",
    "initialvalues[qAa]=45*pi/180\n",
    "initialvalues[qAa_d]=0*pi/180\n",
    "initialvalues[qAb]=0*pi/180\n",
    "initialvalues[qAb_d]=0*pi/180\n",
    "\n",
    "initialvalues[qBa]=0*pi/180\n",
    "initialvalues[qBa_d]=0*pi/180\n",
    "initialvalues[qBb]=0*pi/180\n",
    "initialvalues[qBb_d]=0*pi/180\n",
    "\n",
    "#initialvalues[qC]=14.65*pi/180\n",
    "initialvalues[qC]=(90-16.69)*pi/180\n",
    "initialvalues[qC_d]=0*pi/180\n",
    "\n",
    "initialvalues[qD]=-70.16*pi/180\n",
    "initialvalues[qD_d]=0*pi/180"
   ]
  },
  {
   "cell_type": "code",
   "execution_count": 9,
   "id": "processed-wiring",
   "metadata": {},
   "outputs": [],
   "source": [
    "# Retrieve state variables in the order they are stored in the system\n",
    "# Create a list of initial values ini0 in the order of the system’s state variables\n",
    "statevariables = system.get_state_variables()\n",
    "ini0 = [initialvalues[item] for item in statevariables]"
   ]
  },
  {
   "cell_type": "code",
   "execution_count": 10,
   "id": "manufactured-vegetation",
   "metadata": {},
   "outputs": [],
   "source": [
    "# Create frames\n",
    "N = Frame('N')\n",
    "Aa = Frame('Aa')\n",
    "Ab = Frame('Ab')\n",
    "\n",
    "Ba = Frame('Ba')\n",
    "Bb = Frame('Bb')\n",
    "\n",
    "C = Frame('C')\n",
    "D = Frame('D')"
   ]
  },
  {
   "cell_type": "code",
   "execution_count": 11,
   "id": "labeled-replacement",
   "metadata": {},
   "outputs": [],
   "source": [
    "# Declare N as the Newtonian (fixed) frame\n",
    "system.set_newtonian(N)"
   ]
  },
  {
   "cell_type": "code",
   "execution_count": null,
   "id": "civilian-commander",
   "metadata": {},
   "outputs": [],
   "source": []
  },
  {
   "cell_type": "code",
   "execution_count": null,
   "id": "forty-michael",
   "metadata": {},
   "outputs": [],
   "source": []
  },
  {
   "cell_type": "code",
   "execution_count": null,
   "id": "rational-limit",
   "metadata": {},
   "outputs": [],
   "source": []
  },
  {
   "cell_type": "code",
   "execution_count": 12,
   "id": "separated-prototype",
   "metadata": {},
   "outputs": [],
   "source": [
    "# Rotate other frames about their local Z axes.\n",
    "# Not global q\n",
    "Aa.rotate_fixed_axis_directed(N,[0,0,1],qAa,system)\n",
    "Ab.rotate_fixed_axis_directed(Aa,[0,0,1],qAb,system)\n",
    "\n",
    "Ba.rotate_fixed_axis_directed(Ab,[0,0,1],qBa,system)\n",
    "Bb.rotate_fixed_axis_directed(Ba,[0,0,1],qBb,system)\n",
    "\n",
    "C.rotate_fixed_axis_directed(Bb,[0,0,1],qC,system)\n",
    "D.rotate_fixed_axis_directed(C,[0,0,1],qD,system)"
   ]
  },
  {
   "cell_type": "code",
   "execution_count": 13,
   "id": "perceived-archives",
   "metadata": {},
   "outputs": [],
   "source": [
    "# Define rigid body kinematics\n",
    "# position vectors\n",
    "p0 = 0*N.x #Normal\n",
    "pA = p0 + lAa*Aa.x #Normal\n",
    "p1 = pA + lAb*Ab.x #Link A\n",
    "pB = p1 + lBa*Ba.x #Link A\n",
    "p2A = pB + lBb*Bb.x #Link B - OUTPUT\n",
    "p4 = p0 + lE*N.y #Link E\n",
    "p3 = p4 + lC*C.x #Link C\n",
    "p2C = p3 + lD*D.x #Link D - OUTPUT"
   ]
  },
  {
   "cell_type": "code",
   "execution_count": 14,
   "id": "sought-input",
   "metadata": {},
   "outputs": [],
   "source": [
    "# CoM vectors\n",
    "pAacom=p0 + lAa/2*Aa.x #Link Aa\n",
    "pAbcom=pA + lAb/2*Ab.x #Link Ab\n",
    "\n",
    "pBacom=p1 + 0.02*Ba.x #Link Ba\n",
    "pBbcom=pB + lBb*Bb.x #Link Bb\n",
    "\n",
    "pCcom=p4 + lC/2*C.x #Link Ca\n",
    "pDcom=p3 + lD/2*D.x #Link Da"
   ]
  },
  {
   "cell_type": "code",
   "execution_count": 15,
   "id": "abroad-anaheim",
   "metadata": {},
   "outputs": [],
   "source": [
    "# Angular Velocity\n",
    "wNAa = N.getw_(Aa)\n",
    "wAaAb = Aa.getw_(Ab)\n",
    "\n",
    "wAbBa = Ab.getw_(Ba)\n",
    "wBaBb = Ba.getw_(Bb)\n",
    "\n",
    "wNC = N.getw_(C)\n",
    "wCD = C.getw_(D)"
   ]
  },
  {
   "cell_type": "code",
   "execution_count": 16,
   "id": "equal-tooth",
   "metadata": {},
   "outputs": [],
   "source": [
    "# Build inertia tensors\n",
    "IAa = Dyadic.build(Aa,Ixx_Aa,Iyy_Aa,Izz_Aa)\n",
    "IAb = Dyadic.build(Ab,Ixx_Ab,Iyy_Ab,Izz_Ab)\n",
    "\n",
    "IBa = Dyadic.build(Ba,Ixx_Ba,Iyy_Ba,Izz_Ba)\n",
    "IBb = Dyadic.build(Bb,Ixx_Bb,Iyy_Bb,Izz_Bb)\n",
    "\n",
    "IC = Dyadic.build(C,Ixx_C,Iyy_C,Izz_C)\n",
    "ID = Dyadic.build(D,Ixx_D,Iyy_D,Izz_D)\n",
    "\n",
    "BodyAa = Body('BodyAa',Aa,pAacom,mAa,IAa,system)\n",
    "BodyAb = Body('BodyAb',Ab,pAbcom,mAb,IAb,system)\n",
    "\n",
    "BodyBa = Body('BodyBa',Ba,pBacom,mBa,IBa,system)\n",
    "BodyBb = Body('BodyBb',Bb,pBbcom,mBb,IBb,system)\n",
    "\n",
    "BodyC = Body('BodyC',C,pCcom,mC,IC,system)\n",
    "BodyD = Body('BodyD',D,pDcom,mD,ID,system)\n",
    "#BodyC = Particle(pCcm,mC,'ParticleC',system)"
   ]
  },
  {
   "cell_type": "markdown",
   "id": "gross-surfing",
   "metadata": {},
   "source": [
    "## Forces"
   ]
  },
  {
   "cell_type": "code",
   "execution_count": 17,
   "id": "married-chess",
   "metadata": {},
   "outputs": [
    {
     "data": {
      "text/plain": [
       "<pynamics.force.Force at 0x258df4da9d0>"
      ]
     },
     "execution_count": 17,
     "metadata": {},
     "output_type": "execute_result"
    }
   ],
   "source": [
    "# Torque starts at 1 then subtracts 1.1 at t = 2\n",
    "t_switch = 0.4\n",
    "T1 = -0.2\n",
    "T2 = 0.4\n",
    "dT = T2-T1\n",
    "\n",
    "cond = system.t-t_switch\n",
    "cond_s = (cond+abs(cond))\n",
    "on = cond_s/(2*cond+1e-4)\n",
    "system.addforce((dT*on+T1)*N.z,wNAa)"
   ]
  },
  {
   "cell_type": "code",
   "execution_count": 18,
   "id": "threatened-laugh",
   "metadata": {},
   "outputs": [],
   "source": [
    "kbase = Constant(1e-5,'kbase',system)\n",
    "kjoint = Constant(1e-4,'kjoint',system)\n",
    "kbend = Constant(6,'kbend',system)\n",
    "klim = Constant(3,'klim',system)\n",
    "\n",
    "dK = kbase-klim"
   ]
  },
  {
   "cell_type": "code",
   "execution_count": 19,
   "id": "revised-maryland",
   "metadata": {},
   "outputs": [
    {
     "data": {
      "text/plain": [
       "(<pynamics.force.Force at 0x258df4ea4c0>,\n",
       " <pynamics.spring.Spring at 0x258df4ea430>)"
      ]
     },
     "execution_count": 19,
     "metadata": {},
     "output_type": "execute_result"
    }
   ],
   "source": [
    "# Spring Forces\n",
    "# Not global q\n",
    "system.add_spring_force1(kbase,(qAa-preload0)*N.z,wNAa)\n",
    "system.add_spring_force1(kbend,(qAb-preloadA)*Aa.z,wAaAb) \n",
    "\n",
    "system.add_spring_force1(dK*on+klim,(qBa-preload1)*Ab.z,wAbBa) # Limiter\n",
    "system.add_spring_force1(kbend,(qBb-preloadB)*Ba.z,wBaBb)\n",
    "\n",
    "system.add_spring_force1(kjoint,(qC-preload4)*N.z,wNC)\n",
    "system.add_spring_force1(kjoint,(qD-preload3)*C.z,wCD)"
   ]
  },
  {
   "cell_type": "code",
   "execution_count": 20,
   "id": "meaningful-range",
   "metadata": {},
   "outputs": [],
   "source": [
    "b = Constant(1e-2,'b',system)"
   ]
  },
  {
   "cell_type": "code",
   "execution_count": 21,
   "id": "cordless-maine",
   "metadata": {},
   "outputs": [
    {
     "data": {
      "text/plain": [
       "<pynamics.force.Force at 0x258df4ea8b0>"
      ]
     },
     "execution_count": 21,
     "metadata": {},
     "output_type": "execute_result"
    }
   ],
   "source": [
    "# Forces\n",
    "system.addforce(-b*wNAa,wNAa)\n",
    "system.addforce(-b*wAbBa,wAbBa)\n",
    "system.addforce(-b*wNC,wNC)\n",
    "system.addforce(-b*wCD,wCD)"
   ]
  },
  {
   "cell_type": "code",
   "execution_count": 22,
   "id": "under-invention",
   "metadata": {},
   "outputs": [],
   "source": [
    "# Switch klim = 3 down and kjoint on way up"
   ]
  },
  {
   "cell_type": "code",
   "execution_count": null,
   "id": "laden-behalf",
   "metadata": {},
   "outputs": [],
   "source": []
  },
  {
   "cell_type": "code",
   "execution_count": null,
   "id": "regional-depth",
   "metadata": {},
   "outputs": [],
   "source": []
  },
  {
   "cell_type": "code",
   "execution_count": 23,
   "id": "considered-patrick",
   "metadata": {},
   "outputs": [],
   "source": [
    "# Add air resistance as a joint damper as a function of the angular velocities"
   ]
  },
  {
   "cell_type": "code",
   "execution_count": 24,
   "id": "similar-painting",
   "metadata": {},
   "outputs": [],
   "source": [
    "# From other code. The velocity of com will just be \n",
    "#vNA = pNA.time_derivative()\n",
    "#vC1 = pC1.time_derivative()\n",
    "#vC2 = pC2.time_derivative()\n",
    "#vm1 = pm1.time_derivative()"
   ]
  },
  {
   "cell_type": "code",
   "execution_count": null,
   "id": "located-trigger",
   "metadata": {},
   "outputs": [],
   "source": []
  },
  {
   "cell_type": "code",
   "execution_count": null,
   "id": "standard-harrison",
   "metadata": {},
   "outputs": [],
   "source": []
  },
  {
   "cell_type": "code",
   "execution_count": 25,
   "id": "attended-prefix",
   "metadata": {},
   "outputs": [],
   "source": [
    "# gravity\n",
    "g = Constant(9.81,'g',system)"
   ]
  },
  {
   "cell_type": "code",
   "execution_count": 26,
   "id": "hybrid-letter",
   "metadata": {},
   "outputs": [],
   "source": [
    "# Gravity\n",
    "system.addforcegravity(-g*N.y)"
   ]
  },
  {
   "cell_type": "markdown",
   "id": "subjective-hampshire",
   "metadata": {},
   "source": [
    "## Constraints"
   ]
  },
  {
   "cell_type": "code",
   "execution_count": 27,
   "id": "surprising-characterization",
   "metadata": {},
   "outputs": [],
   "source": [
    "ptipup = 0.547*N.x+0.547*N.y"
   ]
  },
  {
   "cell_type": "code",
   "execution_count": 28,
   "id": "extreme-particle",
   "metadata": {},
   "outputs": [],
   "source": [
    "# Constraints\n",
    "eq_vector = p2A-p2C\n",
    "eq = []\n",
    "eq.append((eq_vector).dot(N.x))\n",
    "eq.append((eq_vector).dot(N.y))\n",
    "eq_d=[(system.derivative(item)) for item in eq]\n",
    "eq_dd=[(system.derivative(item)) for item in eq_d]\n",
    "\n",
    "eq2_vector = Ab.x-Ba.x\n",
    "eq2 = []\n",
    "eq2.append((eq2_vector).dot(N.x))\n",
    "eq2.append((eq2_vector).dot(N.y))\n",
    "eq2_d=[(system.derivative(item)) for item in eq2]\n",
    "eq2_dd=[(system.derivative(item)) for item in eq2_d]"
   ]
  },
  {
   "cell_type": "markdown",
   "id": "patent-lafayette",
   "metadata": {},
   "source": [
    "## Solve for valid initial condition"
   ]
  },
  {
   "cell_type": "code",
   "execution_count": 29,
   "id": "spread-electricity",
   "metadata": {},
   "outputs": [],
   "source": [
    "# Declare a list of points that will be used for plotting\n",
    "points = [p0, pA, p1, pB, p2A, p3, p4]"
   ]
  },
  {
   "cell_type": "code",
   "execution_count": 30,
   "id": "provincial-appreciation",
   "metadata": {},
   "outputs": [],
   "source": [
    "# Identify independent and dependent variables\n",
    "qi = [qAa, qC]\n",
    "qd = [qAb, qBa, qBb, qD]"
   ]
  },
  {
   "cell_type": "code",
   "execution_count": 31,
   "id": "unauthorized-jackson",
   "metadata": {},
   "outputs": [],
   "source": [
    "# Create a copy of symbolic constants dictionary and add the initial value of qi to it\n",
    "constants = system.constant_values.copy()\n",
    "defined = dict([(item,initialvalues[item]) for item in qi])\n",
    "constants.update(defined)"
   ]
  },
  {
   "cell_type": "code",
   "execution_count": 32,
   "id": "talented-moses",
   "metadata": {},
   "outputs": [],
   "source": [
    "# Substitute constants in equation\n",
    "eq = [item.subs(constants) for item in eq]\n",
    "eq2 = [item.subs(constants) for item in eq2]"
   ]
  },
  {
   "cell_type": "code",
   "execution_count": 33,
   "id": "tested-information",
   "metadata": {},
   "outputs": [],
   "source": [
    "# Convert to numpy array\n",
    "# Sum the error\n",
    "error = (numpy.array(eq)**2).sum() + (numpy.array(eq2)**2).sum()"
   ]
  },
  {
   "cell_type": "code",
   "execution_count": 34,
   "id": "compact-portsmouth",
   "metadata": {},
   "outputs": [],
   "source": [
    "# Convert to a function that scipy can use.\n",
    "# Sympy has a “labmdify” function that evaluates an expression, but scipy needs a slightly different format.\n",
    "f = sympy.lambdify(qd,error)\n",
    "\n",
    "def function(args):\n",
    "    return f(*args)"
   ]
  },
  {
   "cell_type": "code",
   "execution_count": 35,
   "id": "accepted-cotton",
   "metadata": {},
   "outputs": [
    {
     "name": "stderr",
     "output_type": "stream",
     "text": [
      "2021-03-19 17:09:04,222 - pynamics.output - INFO - calculating outputs\n",
      "2021-03-19 17:09:04,223 - pynamics.output - INFO - done calculating outputs\n"
     ]
    },
    {
     "data": {
      "text/plain": [
       "array([[[ 0.        ,  0.        ],\n",
       "        [ 0.03535534,  0.03535534],\n",
       "        [ 0.10606602,  0.10606602],\n",
       "        [ 0.14142136,  0.14142136],\n",
       "        [ 0.21213203,  0.21213203],\n",
       "        [-0.07824991,  0.19026511],\n",
       "        [ 0.        ,  0.045     ]],\n",
       "\n",
       "       [[ 0.        ,  0.        ],\n",
       "        [ 0.03535534,  0.03535534],\n",
       "        [ 0.10369392,  0.10836109],\n",
       "        [ 0.13786317,  0.14486399],\n",
       "        [ 0.23496063,  0.12094575],\n",
       "        [ 0.08381403,  0.18712744],\n",
       "        [ 0.        ,  0.045     ]]])"
      ]
     },
     "execution_count": 35,
     "metadata": {},
     "output_type": "execute_result"
    }
   ],
   "source": [
    "# Take the derivative of the equations to linearize with regard to the velocity variables\n",
    "guess = [initialvalues[item] for item in qd]\n",
    "result = scipy.optimize.minimize(function,guess)\n",
    "if result.fun>1e-3:\n",
    "    raise(Exception(\"out of tolerance\"))\n",
    "ini = []\n",
    "for item in system.get_state_variables():\n",
    "    if item in qd:\n",
    "        ini.append(result.x[qd.index(item)])\n",
    "    else:\n",
    "        ini.append(initialvalues[item])\n",
    "points = PointsOutput(points, constant_values=system.constant_values)\n",
    "points.calc(numpy.array([ini0,ini]))\n",
    "#points.plot_time()"
   ]
  },
  {
   "cell_type": "code",
   "execution_count": 36,
   "id": "innovative-player",
   "metadata": {},
   "outputs": [
    {
     "data": {
      "text/plain": [
       "2.0881017314179564e-12"
      ]
     },
     "execution_count": 36,
     "metadata": {},
     "output_type": "execute_result"
    }
   ],
   "source": [
    "result.fun"
   ]
  },
  {
   "cell_type": "code",
   "execution_count": 37,
   "id": "flying-dragon",
   "metadata": {},
   "outputs": [],
   "source": [
    "# Valid initial condition\n",
    "x = numpy.array([points.y[1][0][0], points.y[1][1][0], points.y[1][2][0], points.y[1][3][0], points.y[1][4][0], points.y[1][5][0], points.y[1][6][0], 0])\n",
    "y = numpy.array([points.y[1][0][1], points.y[1][1][1], points.y[1][2][1], points.y[1][3][1], points.y[1][4][1], points.y[1][5][1], points.y[1][6][1], 0])\n",
    "# prettyplot(x,y)"
   ]
  },
  {
   "cell_type": "markdown",
   "id": "running-relevance",
   "metadata": {},
   "source": [
    "## Solution"
   ]
  },
  {
   "cell_type": "code",
   "execution_count": 38,
   "id": "sorted-sunglasses",
   "metadata": {},
   "outputs": [
    {
     "name": "stderr",
     "output_type": "stream",
     "text": [
      "2021-03-19 17:09:04,264 - pynamics.system - INFO - getting dynamic equations\n"
     ]
    }
   ],
   "source": [
    "# F=ma\n",
    "f,ma = system.getdynamics()"
   ]
  },
  {
   "cell_type": "code",
   "execution_count": 39,
   "id": "selected-space",
   "metadata": {},
   "outputs": [
    {
     "name": "stderr",
     "output_type": "stream",
     "text": [
      "2021-03-19 17:09:04,930 - pynamics.system - INFO - solving a = f/m and creating function\n",
      "2021-03-19 17:09:04,938 - pynamics.system - INFO - substituting constrained in Ma-f.\n",
      "2021-03-19 17:09:09,244 - pynamics.system - INFO - done solving a = f/m and creating function\n",
      "2021-03-19 17:09:09,244 - pynamics.system - INFO - calculating function for lambdas\n"
     ]
    }
   ],
   "source": [
    "# Acceleration\n",
    "func1,lambda1 = system.state_space_post_invert(f,ma,eq_dd,return_lambda = True)"
   ]
  },
  {
   "cell_type": "code",
   "execution_count": 40,
   "id": "fallen-norwegian",
   "metadata": {},
   "outputs": [],
   "source": [
    "# Integration Tolerance\n",
    "tol = 1e-9"
   ]
  },
  {
   "cell_type": "code",
   "execution_count": 41,
   "id": "great-radius",
   "metadata": {},
   "outputs": [],
   "source": [
    "# Time\n",
    "tinitial = 0\n",
    "tfinal = 1\n",
    "fps = 30\n",
    "tstep = 1/fps\n",
    "t = numpy.r_[tinitial:tfinal:tstep]"
   ]
  },
  {
   "cell_type": "code",
   "execution_count": 42,
   "id": "adaptive-armstrong",
   "metadata": {},
   "outputs": [
    {
     "name": "stderr",
     "output_type": "stream",
     "text": [
      "2021-03-19 17:09:09,296 - pynamics.integration - INFO - beginning integration\n",
      "2021-03-19 17:09:09,297 - pynamics.system - INFO - integration at time 0000.00\n",
      "2021-03-19 17:09:19,101 - pynamics.system - INFO - integration at time 0000.10\n",
      "2021-03-19 17:09:28,948 - pynamics.system - INFO - integration at time 0000.25\n",
      "2021-03-19 17:09:39,024 - pynamics.system - INFO - integration at time 0000.40\n",
      "2021-03-19 17:09:49,036 - pynamics.system - INFO - integration at time 0000.57\n",
      "2021-03-19 17:09:58,894 - pynamics.system - INFO - integration at time 0000.76\n",
      "2021-03-19 17:10:08,695 - pynamics.system - INFO - integration at time 0000.96\n",
      "2021-03-19 17:10:09,031 - pynamics.integration - INFO - finished integration\n"
     ]
    }
   ],
   "source": [
    "# Integrate\n",
    "states=pynamics.integration.integrate(func1,ini,t,rtol=tol,atol=tol, args=({'constants':system.constant_values},))"
   ]
  },
  {
   "cell_type": "code",
   "execution_count": 43,
   "id": "cultural-convenience",
   "metadata": {},
   "outputs": [
    {
     "data": {
      "text/plain": [
       "<matplotlib.legend.Legend at 0x258e07467c0>"
      ]
     },
     "execution_count": 43,
     "metadata": {},
     "output_type": "execute_result"
    },
    {
     "data": {
      "image/png": "[encoded data removed]",
      "text/plain": [
       "<Figure size 432x288 with 1 Axes>"
      ]
     },
     "metadata": {
      "needs_background": "light"
     },
     "output_type": "display_data"
    }
   ],
   "source": [
    "# Outputs\n",
    "plt.figure()\n",
    "artists = plt.plot(t,states[:,:4])\n",
    "plt.legend(artists,['qAa','qAb','qBa','qBb','qC','qD'])"
   ]
  },
  {
   "cell_type": "raw",
   "id": "collect-reliance",
   "metadata": {},
   "source": [
    "# Energy\n",
    "KE = system.get_KE()\n",
    "PE = system.getPEGravity(p0) - system.getPESprings()\n",
    "energy_output = Output([KE-PE],system)\n",
    "energy_output.calc(states)\n",
    "energy_output.plot_time()"
   ]
  },
  {
   "cell_type": "code",
   "execution_count": 44,
   "id": "documentary-dynamics",
   "metadata": {},
   "outputs": [
    {
     "name": "stderr",
     "output_type": "stream",
     "text": [
      "2021-03-19 17:10:09,214 - pynamics.output - INFO - calculating outputs\n",
      "2021-03-19 17:10:09,219 - pynamics.output - INFO - done calculating outputs\n"
     ]
    },
    {
     "data": {
      "image/png": "[encoded data removed]",
      "text/plain": [
       "<Figure size 432x288 with 1 Axes>"
      ]
     },
     "metadata": {
      "needs_background": "light"
     },
     "output_type": "display_data"
    }
   ],
   "source": [
    "# Motion\n",
    "points = [p0,pA,p1,pB,p2A,p3,p4]\n",
    "points_output = PointsOutput(points,system)\n",
    "y = points_output.calc(states)\n",
    "points_output.plot_time(20)"
   ]
  },
  {
   "cell_type": "code",
   "execution_count": 45,
   "id": "theoretical-monroe",
   "metadata": {},
   "outputs": [
    {
     "data": {
      "image/png": "[encoded data removed]",
      "text/plain": [
       "<Figure size 432x288 with 1 Axes>"
      ]
     },
     "metadata": {
      "needs_background": "light"
     },
     "output_type": "display_data"
    }
   ],
   "source": [
    "# Motion Animation\n",
    "points_output.animate(fps = fps,movie_name = 'render.mp4',lw=2,marker='o',color=(1,0,0,1),linestyle='-')"
   ]
  },
  {
   "cell_type": "code",
   "execution_count": 46,
   "id": "musical-archive",
   "metadata": {},
   "outputs": [
    {
     "data": {
      "text/html": [
       "<video width=\"432\" height=\"288\" controls autoplay loop>\n",
       "  <source type=\"video/mp4\" src=\"data:video/mp4;base64,AAAAIGZ0eXBNNFYgAAACAE00ViBpc29taXNvMmF2YzEAAAAIZnJlZQAAVsNtZGF0AAACrgYF//+q\n",
       "3EXpvebZSLeWLNgg2SPu73gyNjQgLSBjb3JlIDE2MSByMzAzMyAwZDc1NGVjIC0gSC4yNjQvTVBF\n",
       "Ry00IEFWQyBjb2RlYyAtIENvcHlsZWZ0IDIwMDMtMjAyMCAtIGh0dHA6Ly93d3cudmlkZW9sYW4u\n",
       "b3JnL3gyNjQuaHRtbCAtIG9wdGlvbnM6IGNhYmFjPTEgcmVmPTMgZGVibG9jaz0xOjA6MCBhbmFs\n",
       "eXNlPTB4MzoweDExMyBtZT1oZXggc3VibWU9NyBwc3k9MSBwc3lfcmQ9MS4wMDowLjAwIG1peGVk\n",
       "X3JlZj0xIG1lX3JhbmdlPTE2IGNocm9tYV9tZT0xIHRyZWxsaXM9MSA4eDhkY3Q9MSBjcW09MCBk\n",
       "ZWFkem9uZT0yMSwxMSBmYXN0X3Bza2lwPTEgY2hyb21hX3FwX29mZnNldD0tMiB0aHJlYWRzPTkg\n",
       "bG9va2FoZWFkX3RocmVhZHM9MSBzbGljZWRfdGhyZWFkcz0wIG5yPTAgZGVjaW1hdGU9MSBpbnRl\n",
       "cmxhY2VkPTAgYmx1cmF5X2NvbXBhdD0wIGNvbnN0cmFpbmVkX2ludHJhPTAgYmZyYW1lcz0zIGJf\n",
       "cHlyYW1pZD0yIGJfYWRhcHQ9MSBiX2JpYXM9MCBkaXJlY3Q9MSB3ZWlnaHRiPTEgb3Blbl9nb3A9\n",
       "MCB3ZWlnaHRwPTIga2V5aW50PTI1MCBrZXlpbnRfbWluPTI1IHNjZW5lY3V0PTQwIGludHJhX3Jl\n",
       "ZnJlc2g9MCByY19sb29rYWhlYWQ9NDAgcmM9Y3JmIG1idHJlZT0xIGNyZj0yMy4wIHFjb21wPTAu\n",
       "NjAgcXBtaW49MCBxcG1heD02OSBxcHN0ZXA9NCBpcF9yYXRpbz0xLjQwIGFxPTE6MS4wMACAAAAN\n",
       "IWWIhAAz//727L4FNf2f0JcRLMXaSnA+KqSAgHc0wAAAAwAAeB0oXug4SqvQwAAbdkR5KkcLZgzA\n",
       "FQUQl+yqaJThkkVSMdf86FfABE68k425xofYm5el1Srsx7h/hmOu57C17oFh0auRGNo/vgx65pYQ\n",
       "joi0XeqOHfQSpgVN9wpvZxFxy+FfD8rTmH00yzbIoPI/46GZSbmiYkiH9zYVFRXJehyW2AQML8z7\n",
       "u3yUUwI9vhjkdfAUQ7xhYvtoC9asGcN5H4CuiHXhn5XW34HHzXolq8eS8eyHGO5EeFxK7zgp+QTz\n",
       "omC/O2SSw9molZbAk4qF/DwL8bIwfFrKYln/WAh5jsl3NMHWK6o8i+igJsZkxYXxExxly6mOsn/E\n",
       "g/GSPeGYVtycSZiKSEKDyNSwQo2J9/1miIzARL6O4CHIqM+w3ohDeK/JLtctnwi1svhHQc+kf9AT\n",
       "eNGKOJZbAE2jTCsxJ93crCdiVMs4tuX8HvjxmMOscUElL1BlwPw4pA8zHzOzb0hZGsHCPHl0Mgwn\n",
       "jg3YqumEO0+FHZ9wZ76nTVavTCCPSlY7Si+uT0XKEIyJVEijQb2nFzwemr8+ipcUe0geoQ73P2hI\n",
       "9UAMgItz2aS/JA7OoR9ipV2s/vsYBJPQfZQjGf0+fgbeZeWBnQmGeE+cB3a7ihsYPHrAAG8AxYCh\n",
       "DeXY+ekODoitcBbVioTBJPspc5OqeaPn1txW/i6fLvG2KMJZo//gb7Yd/4DbtlbqIBG3dunxTxnv\n",
       "Kqien8LBvijgiAFBk/JfjAGgXzrUggAUbaQakIR2SpH4vtqSm9td7xIMzMMQx5Ib3SPmk8HaHDvL\n",
       "T1BlHcRhUbcKFqkXRrbtagGBKQNLJ+WW1K/3zOAlYirJjEggIfA0jTKcSwKXtbDXAA0pWOr9soS5\n",
       "cSGGDMxuCbHTI81lHfCJREjpV22IOdcvJxoBof7Yk+8OD49jAgMt58gPd3kECuAqc9fa5VIilf1f\n",
       "11gDb59r7Nr2FrrsTvaUPReZEp9mo+24SkD64havpTlknBiJUwTMYTjA+ZmjwOFdynrYpqt2LseW\n",
       "EuaNxIZpnEvhjztrSv3/vzZ7ElEZSz8Yqwc9FDR/d2I5wYfiJKhHO63r5+iZ290YKyD5XBnguT4Y\n",
       "u236rLqs8E9oFIM6n+sUA2sAfeVoW5cg/64rCdJl5yRVOAXmLWroq+U5Em6VoME/oboLaeL9vO0Z\n",
       "cgSsk5PFxPa7/O6W28a9DMCsht9J0MZGJjwrIv+DBOMmtSFTpt+gFXJxkVEW7z45zxKNEqrBeBLX\n",
       "Eu90tsDs09HlfH+t1mXLnz53qjNVQyxHumNCrcqiIZO0ISp8uM5c8pTdzi6iaaKTZ9dApk/lBeas\n",
       "MCuMsagxxyaGHNUmwaaK7js7liTgHddJgbFCnBPr/wQzT4xg4Mzesqyt8zxQHvkgd81fWflKSIgv\n",
       "+LRtPZmW+f9ynof7PyRLTe5c+QLBiui/Y76y7Y71xl6vfj6hyuoTeUnRT0nW0ymHT7tTo0rN5z/h\n",
       "UzTOF7pxKWu37ix0MPl7oFeaJEHxvv5UQJvyju6kj3hA5MRo6lJgKLYOhiLnf+q+X/8X9sWGsfRV\n",
       "a19fo1oYnFoDE9GF/2TM539A5bW4gbbsNp+x11NEo7uQjPRWoyMkuU8jug2VlkOFFnhdH6nZpkyH\n",
       "Lnq+NreM2EtwpVmP7pb5tKvXxFCDzfiVD3tfyx5gpyWOFpBX6fcr7fCuR4ydnAxNS7JchvLM6PpZ\n",
       "3gu4o75m+CAnI2KIsclfI6E883VDjZ/M4tMZ1NfXS6hgjWf6cfY6eK9kMf8XxOXWUfyXguek8DJX\n",
       "kS/u8EOsKxqM++u9VG2545falngQyakvAZqKmP2qKc+kvSTMK0dziV57B+O6ZUoOfxWmxt1oWwC0\n",
       "PZ6a5wKscrEjxg6nvIcaJW4GaQUe5QkZJm6mqh5TISvmaJv4op/PQ6cYwl8DqRxDr813JsxqY6sL\n",
       "UeghTtBcabc4oAgj74J+HHhlWlhZA0rjc3alnEZOTgvgiNyOPXw/LYV0CQgQAY7cA8tEetxCLWsM\n",
       "FFSD0XHX6fCD6x8nl0b4U7N5iVuCabC+YwA3NByVcj7IAlEL1t9x1PCzdysydOvXT4Qz+9A+CIjd\n",
       "WsOQ4MZm5hgOxTmNeYN3/ib7J4Sz9Vc2N0smSB/pj7SbyKfysdIcQpBxDr0G/bpK9NkcJa4okuFg\n",
       "iyPhKIaegh4+U3+OcDwOnzLBc5E4Qhww3tJYXUWXyYWYFV9QxDg6NOjsBnloTXawiOdtbYYhR+ds\n",
       "/wM1A09kvYX2f/DYAS9vOQ4VOrrz0aiYYxdMk+VQBNW/eUP3BhoFYw0ez1SbPW+u0aBWUXAMJlDo\n",
       "7rq6U6wVy2bi/os7gZXadMf6y5RPS8V6tIs12+kifnX3Kg5AJmQXOj4YXnDTRyYw8X6ifD4bJ7c9\n",
       "IvObTeBxQLMnsEGK9GLqRZTLgoESPKuGALrAy3qYr5VuiZJVTUWKnWM4gvMBQbK5oezbVr3snxvY\n",
       "NZgc5uRemrSDOK0574+vLyKUw9IP0lzbGQIMsNgpDaB2I1GCoW1w1jO4NfRBBmlm+kDkaLnzS4A8\n",
       "3Nrc/X43RIOkVAuJyWXKXiWBmKBJCbuCPwrsJQQKHYp/Jj+5GqBt73zCr0kuJvJ/PfEcm/oeHGKk\n",
       "wDtLTsXMaZXOTz6d75A61ZMqoAoSCOCTHiZGvgJIE49oPHuIiIzwgHj58J0Iptflm0IcZbFATILJ\n",
       "ToYHQMakh2C00uK+VG21PPj3VuRLatQValpVjEV41zsmFYHWgelEWapTfLy4OHE5O+2jNlrKbk4S\n",
       "8xvLvDCnIjK8/eYGgHktue2i0bFEmv16p8l+B+gVgIKS7GOF2fRMai5d2Z9kTAQrlHmGUVHw4eUE\n",
       "UQriROdCAN3JG/4v/9CtUPKYnuGKo7zudnId1dQpYPpNnAzje53T/N4Uw4OnAMOMpQCgo6LhMgC8\n",
       "4JpxLUA3SX8Wxxp8v9Mlza2Uo5XQ/Vwepy6giG64yj4kYtfrblirQ/fdKSkwRda3xvexNwcZOo3g\n",
       "nU8YxTXoFrsismONIsb7z4KT1M3yKCj0LvQCfaTFvY9uki1Ir6nDnBX7YzJEHK+hc1Cqurfy/9lq\n",
       "N31d6v7tuxJIdu/JtrWe4kUNWRh1WV/9k2lHBrQGWTSm5IWjThq8QZbkK0/q5YWrQvsMBR6KNCFO\n",
       "Lndaz+TO+2rNsE6Ba2w/HqnLL6zzoAS54Y2MrP4vcR+1QRwu4EPnIqaRbtbFJSjEf/yRDkAoXS7T\n",
       "bYB6EMqRZwXP9WBK47BRR7/hPh2HmkXzCDTAIyspeL/KxElYPTPpYCjmgaYMRYhVStRWwxwJ5jut\n",
       "3322XTwn7fPVhDvl3LlahTMPB0xWrpj77IodQvl/VQJGjQNGPW2mle13cOtbnYRgCSoSvB/sjPCO\n",
       "QCbdZ1pPJ2hHLTP+O5DKzIlc1a1G42s6GNeyK9j+Jeguzl4eG8cxX2Q7Zf503iLfoMXGKyp26VZz\n",
       "InCI3UI0NFReTmJ8M8mPtrBb1jBtcv/P+9oBfN9yhiAxPBOFmLkD5eIkYGj6HZjxH2JpGk8JjpED\n",
       "aQTHyovtsmbl8f5AP+a/Fo5Sdk6yvp4s6bb2z/9uw84oPsAs7sVOtscxHHodB1p2fJMnkHXhT4Rd\n",
       "QbKb2DoXTQt/DnBA1mLkLfu9dsXrO2ZszuBOGGDBfiXHVsPbeZttZ67X85WLNnFxrEbm4aQ4cv9A\n",
       "HMjD+QR0GpHpHeeJVk64iJs/bFXR4BzZQJC846da50u3hUHA8neDLUhM+jFKGYtxm77ERCLiAMQ3\n",
       "tGhWqSX9QqhHlN44OqBL6UdY/ur/ePsnR8GZQtNkA+GOLeuwZQtng3sHomRb+cTLHzG4L0kW35Ct\n",
       "pZXPCFVcrOIxe7KcxwcHPS0IDNvJH1iQ+vAGOwm/hFO9H7q5uTXyDIw0x/99P130aViAA0/pIfat\n",
       "KhSAUOiRq6xJR+yDGgwCBv+xJsQe6u8L8/dSJlxwunAAaY14rSyVLxngLY/tOuleRDRkpvUiiA+M\n",
       "qZBL4adIulPc1IfDcmPKAE2hIK5x5T438a1NeLIfbv4Fb1VTGtUqhlxEApj6zpGdaCarLWcZ0rrt\n",
       "Xpz9oef8D3kViRZMo7etDecrNXTkwB/J/HsGeSyXEMyK7wDoBWNzbrhdR+RdTIwbhvY40i+j00mA\n",
       "cRq1fhF0g/6BWQm0Mzn9qWxCY4X1do+Gyo0F7x5kQqg2r8jBX3AnxMwoyWbeEiUbHBVOVA2Dezjr\n",
       "UkjuLcS9JE/9yJj/GehMBumRlVFr4QJv/WrfhIwU7Cb/LgA0HV3majOkPxbY8wSqyTxiW6vphXQB\n",
       "pUF//kuoQU1q2b5YZheKT4+kQ8myX904tr/ZEum+0vEvmNn5r/0oXbrgmdLiPdsbwgpV8rp0a4/g\n",
       "F3OGfRj7NEOIZPjvBCIgc3j1ha12T2Z5uo1jIZzAZdXJGanf9MOgqCkD/SNd+MxvHAEAZ8Bv6GEA\n",
       "AAToQZohbEN//qeEAY5XPSANxy3AmAMhhyAxhIMV9f6TBSjudTTjdqvZhbe5dW6mUxg1aIt/Z8Aa\n",
       "GiLqcjxA2MAcbavnkQ88s61luEPZ8L4eclH10kpHTO2h/4UvkZvriyAF0X7AcdvH4j64pq0s5aFF\n",
       "JwXERPIxgfD0GKkDVnV60bTGv4iDbaXlau/ylxo+8o62mseCO8L3Kj9aOhDpjErg5x46x+Zj6kTp\n",
       "bj9DzBZ0yXvdDApX0a9fVdBJaeK7HbeAsatzSnkJZAZS5Kgj9Ghk1MyR4kY69CTlQi9uHgUPVCm6\n",
       "75mm+gs68tiKcvczbPT79bm0FdwLzT2fVOkjE8ZwrHj28zqEur4tuG15xbRl+OGFmWoAor1IW+H6\n",
       "wYjPn51Fk3Jr9MuHXnBWneAvKbBVg/SwHDzasCLVIg6kQMdlG76pX8TSSNFoMGvuOkW/A3TX9qVA\n",
       "+sCe8dGX9Da8YK1hE+iki217xUnEX6NRRt8tFTL/p2ieOT6VxTIrzOU1/ROf08Hn989GvM/buRwG\n",
       "45MSmdJH172CBdKGlg1A8TnB0EMxUY1EScRS9L0JWOhkQj6/jbYZIqiUNkimyedp7JNFAvVIr9Wo\n",
       "ugpn2efZOjBoenpbj1IuhSH7GkukgUvoZyKcsO2hGcy44t99ui2P++cLizg8OZ3N3k+gnEIRI5rK\n",
       "kgmU3hxtB893jkxl19xiAoArWhEPTaSaODGgA13cThklGmmLXeLnZNFA77kgeootrnXOHBI18BV2\n",
       "vtv/GXwR01shNjjpSvUWzGJqK7l8czokCZ13uwKF7KaaI2BIxC4ABAAKmONVOpBG+7vNPHGeLS6f\n",
       "lYtny4oPlwzAXTedFhYE/CqCsUXq8efLJMBLW5GJ1SiNnjxlyBX+QAmiBlrI4VhLsYp+HcXSotLD\n",
       "zNqXQatJxosHc38lGVUofCnlavFD8jdhFLSbkNx6YZml5s1I5dRKNHt07fgFTg1XIcCdwSFfjsw7\n",
       "k5HwTdjWjn4HVGC4zHBXGroWh5W93Bs6Cx1tDO7hEvTocQC9u+g9nsRNCnL8maYc6OT5gZ+rtDKm\n",
       "8aRC9UoGNtTJtIJCYaumBf4BJBJ1KnQik7Q4AWmNHxjBD7rviivYu9D8W7AvMhJnOEwedBgE/5/b\n",
       "fIjBJYNnlGFAqQwxud3wCCh9a7ReMDA7de5sGinNO1SZCXys3Wh//DLZim8IT6bhIPb4n4PRTmfu\n",
       "cj1X3xJby1oq4tVM8397hmCp1Yd/dJ3U5vjgxn4i2CJdq2woaQmVt4eER3kiQs3usmgKW57KxTZ0\n",
       "sbKV20Kf4ie8b2O2tgN/NU9dyN5hEagXJKWo/iuaMKXbPaDG09mWmAlr6QfoBB+svMxjgNh/7a30\n",
       "+mhGpYNzws1Zl+eygd/y45lKs/7XObbCFhSw29SrtqMbYfwTjQxIHAV8SmlGlkFNiOO//4ci7UaS\n",
       "9bRWlHE7k4aS98UKWAZhRZcojEkJDHjEUxUkYdjHkf5Q0tGJG1LV6HYRm2lymGqqC4c8IQrhL2wF\n",
       "blVkY4ljX64H0fOkJJfTJUd/4Tv/exZmhOv0gzFZayoEA8UdgQb7jAcuVH+W+J2MiKqBsTVZYZ3N\n",
       "P2f6+NtrFDxefDKYPISXZvVlghfK3YugMMl9My57sFQwJm63vhPgFU8GCpOkXZANpQYus0S/Z9h7\n",
       "QFxhNdAAAAO7QZpEPCGTKYQz//6eEAWj4O6ct0aflHCVyOX4zvUGKMNRl/kLS0KGgAuusPtFsSDi\n",
       "dqyqUjX7IFyQ4oDoc90AkVHyYc+Z5G8YkK080x7bzLzUuvwIBl49apRWmj7tkm6D6NH7rneC7VIt\n",
       "zVObEXZ10GACMDbr41jQHznkGqz/OhMj5EJ5Nkyos6F3PwCAyyGP3Hk7Z/E+UnNvrwkDeaQSdoX+\n",
       "PEyzy4V2pmCkS1BlUp7JnsvEfozYBphB9jwaz/I7q+agfVQ8ohaXrRSjVZ3769DvK3k2GYg+ApDS\n",
       "AofPQ6Edm4LK1i/ru3b5xGCyTamBiLC19F5tKPbVoqLNSIAhElujAALXbciNDJYkp3IerrvZ3ho5\n",
       "mnLtUGrJ8Bd6Ycu7B+OrNs+kSo6v/6jAqTucXLRJbBkihHtY1yvdCweuomPyKhsuYJjenLDt+yKa\n",
       "78gKAuJpOuxN4IaknuuxC7nQYuUSiWG56mvP86MjG59U92O3Ko+W4CxuxZhISOEZaSdVZmkAAHLO\n",
       "kL37FHFBqHqxSEeeUn9P61hLRLZDPr3LZa7+aASaKuzLZ7wQkhVPrKq/SiIl4vZUSqpBWQF2QnKY\n",
       "H6ZMzCiKpLGMlWZu6hOHQpE/0DviYOh/6RUcrwBVeYB5TmL3YBfah1n8udQ5WNeVoKNQDchUcBys\n",
       "8pNSXpqJm1VkOljN+m7zltJzJAuq+jyEkAEEpoj4EQGpKPgZguTVYyad31v+C3VE71UUTVqWzvnR\n",
       "emRrpJh8s1AXZ2/uvvEQsfiDABk4R+OGVcduXJoioLWh3nZAfsUx24Q+IBjgyQumVMQ6QuDA0+Iz\n",
       "rloaGfK3VgPuOaTFo7RuhG15PsNPICgsh/Il7ds3qAuPMNxatdEbKMybODN+1nXolAZfZqBjwpWN\n",
       "1YEGXio5oCZedRswRBQ7fpQLsjgFIU2QiJS61t7oUZbVXfuHW6USrAc2ienAcFL90Od1pFHboNNK\n",
       "zJLVszoR1rIyDLTtkLhN5SO9eMT1eGSUjwLlv7PDu971PwNXebtOmb1oD+mqpgqeWb2g+qVDQu4S\n",
       "DSwm1ir8Ac6QRjJ9+zjyJ7FibxI23h70cYL4AKkXy1kSZjWiuE7QO87oTy7nqJAE3zVwtpqdRLbR\n",
       "KefOv/qMvSPFC5uTtlRHtTGf/BbRHQpAIrpR8lmKUyUwrCVLWjZqSslE4DuxuginxHlhYeh9gfnB\n",
       "LnJLP+WnF8uNtj8Yj5NptgP+P5+bwmRC/M8g1RyY6sXwYpDYe/jDFDTwMwyTkanLYjYzfwAAAmhB\n",
       "nmJqU8K/ASaQnrHwT/oJBC+HkyflDJCJNxBHQAOQEFelCWQRgzq/WkMdCJ5z2sc1446HUqMSnUpD\n",
       "qclP1Yw3g4pkOb7NVIV36C9fSO25CvSF0UwUL/f3KXC/ko55W9SI7a1g98xxPHakPgTsR+oeMR93\n",
       "NAcfcQt1qe2p7ahMW6I8D/L8Ns+fnwYrGeaEsFSBX0ffv2w+7lKFXJEkP7OLPvUL2rNty4nKGkfm\n",
       "FIDIlwvhycD1F9AsaTptBTwHSgbtQss1Kr6crqwTgz6tAUL3J+65yHj0MJGH8+nbByCcTTlsfcXB\n",
       "9giCSaUI8/PWbRWmRcM622BgEmFEoiJqlKGgqWz7sSa7cQvBqWYrRJ3LppGdOqW4TxLmqC1FvF1d\n",
       "7GkEN2qycvpyUMc/FA2aATJ9gtuMovNz01EYAjfbXgQ4CKMJKg/kP5EqI7/qtrMD8wLJ88ipqicU\n",
       "JAJtCM4ncWzpZSXuu8pBpi1Xi8eaeCl8Fu/J3V6jmwcncOk2GkyaqpRzbmTrUjzdYldusojc9qRH\n",
       "eQslyu+BfJJWhsqK6W9e2+a1qq3VLtHqMqpoiRWIuIek50caJAy+SfS8MEtxZbVD1xArdN2bnO9J\n",
       "078NbzWwp/KD6mj8n4cec28WsSVfLxI8UWjbOD+UsfmFP/gAcFMxfuvw1YC9u+2fE2Yy9BkCPCMW\n",
       "mITLRFI0NyuwBw2cFcGZrTjQaTxZyLxWqsEIiB2LeLjC/ct36ZXpjYfvY4RuUjDd8MmEl+jWH8+h\n",
       "5FYkXct5d3sG7J2Ng+5kb5/Hn6v+6CI3N0gVzT23mAhiEU4VPmK44060+pNQAAAC2QGeg2pCfwC/\n",
       "Bxtz8hXbImkF+uAD9yG/m93Mv2wNv3hRsxSc2RbEJboVmvPuLoL3STOJQ5Y1A9mMOSLCegU9/d/o\n",
       "qBFulvo78Yyt3wclXIUqZUUYtzmx1/21NObYSBro8BOIzbdWTQ2VufXD+WPmpafl8bP0n276MgW7\n",
       "v5QnSkBZkCwZXi9fByu6/a4UaSg6fI3c9B+WcnBo+RcCiA4L1YtnwYoyZ1f6m1WOrV1etqVnHqh9\n",
       "xwxQziQd7JTNRdpZEV/06vUCL8Qxs39kiYXUjms8aWUPFTkKGHlwbGSnIIRVqwH4qTRIvHz/3ibD\n",
       "nG845VOeGSKV472ANmY/P8KgCCRlkdpa3ruXKprowE22RhM0bUciJgMdypc2AUU/nGd6do7m5WuB\n",
       "vMgrTRia2DO8F4ziqgGks4xJd4CAtp6KOGwdlDAahArvkqRhvLyEfd+yDiZh1i+VtaLtImpDnoRT\n",
       "HBG6gqGRLLsqfzLliJncT15FNgRQKnc88YK3TMSZ0YJVKFHxYhi87eiqFQdEcjXRDq5DfAa3jKHH\n",
       "uty/e6NYJQVB4ZfwpNVYg2ieOfgZ/5cDVABBoYhWf5z3xD831GTGW20Oc6xpNWdMw5he5olcHGbH\n",
       "SNpT5N+ATZ31oOGnx3iG4lVAor57DJ0fyelc0yKsw8bVE07NIAtNclH9vTziaVzhRPTvhi5cxdvU\n",
       "qAtFYG0kOJ5S2u1YuFQnt512oHHE20N1yJgHgYd7XYVfV1iup+ivhTGID4oVdRh0FaV/2KnfT5fB\n",
       "IESCN4RX6OtHgdyVlPJzhPaF4R4ee8CakcLorM2cCT0lEL0JYj3DO4k4A1TrF+fZ6eOBn+4m1Pr7\n",
       "BKd3JuzPHfG4i7gjGAqJG7FNBE0x8aVhsUvZWe2Z15i7lGExe+K+o5HSgDDX7S7hPTDUe2X50Bhv\n",
       "mopS61YAxhQNwbkGvymzbraZspdtkfWVCa8mephTQbsUaUgiQQAAAyJBmoVJqEFomUwIb//+p4QA\n",
       "Vr3hLeCu845nFJ4bsQDBNQcBZH2veXusCdWpFkZnABUnttrtU2v+7loOtTEAnFNeqANxr01YEAWk\n",
       "RnnlQ0G+vPZUNK0/1Mz0JpJPwrz29Fr0Sf+6eBkLAXa+CUEmLilXseUg0a3rKfzHr5tQgawNNNOe\n",
       "cHA95hWFvFAU6lE54xUC9pfcW53EbbJg/dMWMZpluHR9nNH7iRPSgqC4aOk2lg7qdJuEd4voQyXS\n",
       "BbMeiEWVHpMobrnoo+7XeJ7eFtc2lAo+ce9aaSZOHht3orFYrH0/GM0zf3P5pgU50zvASKmKD/2t\n",
       "oNsV8gkLqMX6bfU0qwjjWWobNq7gtTd0BaAoL8vOPWRyXkMOqAYhsCY6pkA0wdYSftSRddDkGuyu\n",
       "tmJhwsuKyLX1QV427XTXfF/fXtJxQQ2YwBFVGlGP9PuYbxpwsBL04KaJShvmEwJ1/hG324YNOHTf\n",
       "eZtkH0AMJZNa7yfmYBVucPKZHTAnc/swd9GbxZWjw2P9a5rgAaGFTkQYp0pI7nrTXVs2d9YzhaBF\n",
       "SZzrobP6wm5Kmp3G6It4vRKjM4FQQffETeHqxc+LmydpGsCiAJ1T6djlSZ0hmXg/kG1QTR3DIL+L\n",
       "zdAgJQH0C8Vw+22OD9O1spNRLX7V9MxDsoIVJ8JLyYLGDxQXciTu2fIZDpZ0oceaMsWpay3nA1Gv\n",
       "/70e7wiHidrODxoXi3xDqyo6Ap4mB7ZolgqsAFcJIagER/BTtFH8qcRR4Dsb4QyziZYa5sgAqMrK\n",
       "yJF3jQdm5FV3v/vDGTtpd8G4JeVXjV+Fc2MflZ0P7CILmQ2wJgsE7iyWQsPtP5sIpdhwmwkhie6e\n",
       "wQn5vNJBHDoAzCr3vdUjcgWEd/9WHvNmboyyUvvD22uNklHZM7fuH+TX6fGtJu+gWtuQDvfku9Dn\n",
       "yV2NtVEcQUTF5Jz8evc7aS3c89J9jKMXs3gswuFIqAIfxg0WQPyntwZ45wuehr79hfV4Uqf1//SF\n",
       "P8I3/f91PXfEP8VVfEiaaNvV4PFRO0IAWV/sWQNrTs///q6wfTpgSeOh41VtAAAD2kGap0nhClJl\n",
       "MFESw3/+p4QAKj7wojt3SFmtg9p0oCIMr0DeABoQBBCPLIKejhkcVCaol5Uzjhmwx9MJhKSX9b3P\n",
       "d4Q7fnLBSfwSdUmySdaFTw9YEE7iRpr5X54ZH+VsQO9Z9d+K/bm4Qi+ViRWonR0mwKabxrpmBm72\n",
       "sIraRlt55MrOvS/TAzsKoDh6Mocr6wrzCwvzB1dBdA3OVB2YMLKaU1Nr0VS8PzMFpli+F5+fs4ov\n",
       "Vdt434n00gtxnkcO/+Fkikp6JM/tcAx37aXhRLNTeFuylDlC6L2+AVyzOrXPMtUC2R93zLdTPMJe\n",
       "kaislRS6LgyeM2if/VtceU95ayJ0nbb9ouLSaAOqtnxgjZWHZ6knrCdfbTo4t2EP1MfdPaFwC18o\n",
       "4eJYvvx7xmRMoFyl4UaGCstbD7g0f1cnwec6+HiJVaGrvc301fVC1GzXXH3ovYWO03F8fxhxPxKp\n",
       "czyKGa6I/18UGuZDG7a3p0iBaFA7ws90+FcceLh2qfS33lvD/lJeKEjIwdKL1UbOlRGJYcgIHlFM\n",
       "iHtFat0INWB/KoDIQpLZT/QVhWaS/4QKjGEHhzYdYkkVlyZOypouURlU/MbM6kovC4qKp8rRLq31\n",
       "EqoZRAWUN02nBL9IxjQ0j6YoZXRWAtss5w1MzFksFrIV40DpEqaHL9B6pdLY5QMnPklx8/IG4NzL\n",
       "hCryox3EJAkYt1s1B/HZnEU94Jev5bkt5AbXqEu7dTa+oWQHVbg55nWdWKlCd7BzTs0H8DyyTE1T\n",
       "LH1Mzzg1+SyqJMjVHAIwcM/Hke6vpD62Ged52zjUNIWUzYOhukvMf16Nn+rAuwYvxN8ZWJG8AmZ9\n",
       "NTr4P3xvTHgQZScOvBHituDeoqjHh2d2OR+mjpB1DbQLlMhA0JHfVg439hDL71XCJYe7Y+Ionm48\n",
       "jvSNdmTqor5Rmocsopn9J2q7R30ufsBjYNepxfNmiwOqRtwKj8w037VyFTeH6yADRKtn/+l5jrMg\n",
       "87bEZh3fsmxx0+bqM1qEl+jWXa40N8RsrHonjJop+pDPq/WACZaotz5EZtgoGldBVzLgkQaK7GWi\n",
       "nORisEQkd8Lx+1ULJNbVE3wCjSyYgrGbSQtlDzUCgt+qQLjU0mbDM8QO8VqvfXwNBzYfxY6WhItY\n",
       "OtEoHn74LEPOcVE5BIeEJ9GuM3NUADQCAZrxiibI8sG+shkwOsJ1VSatDQ+Xj7izy6KJnguendEo\n",
       "8GMrIgiCKf4xY+dYFz1fjSd4ZGxw81D6Y///9SWqo7T1qGmfE5DW0ZyjhRl060c18nqP6Tfg/yjA\n",
       "TBNcn4Ia7u1BAAACcAGexmpCfwAYgTINCwMa/WSzL2i3AA1ENt82/Q8oJH2Sf7ZjgWsvHzJhhC5G\n",
       "RCPegVOI6qrJHGqU5qV2nmK4lR0zatVZvMBQqQSSeZQfrd5Rjt8ziq/qRPoPn3CJ2EZ+2OK4/9pD\n",
       "QB1oQpPGWgGGeI45ZNGW0x8kcOWGrnM+ofsPD0+gErNTGgVEby3z2CGQdqyagSOVPexgpr9MIQ9F\n",
       "O0h8oJZZ6dJUudggPAiEN/9Fhy780WwAZxrwvlmD3dNuTw5rsdUV38hHCKfQXk6drKKtXgCNHEYp\n",
       "v7/iCxsRYIQO2CY/c6vpffsWz0Xt5QjBz4QF1ChV2QYtwyFEcMl2Z0TiX14DuLLu7llFfL7l4DfD\n",
       "wPlTQyt54QQd4IwiXzflp/wIX9CCR2ZegWzGMHH12lgIbvkuPGU0HrWQ3VjW0KP5zbQAaHUmzoP9\n",
       "l2XjoPeh3DSZFt/rDWPzc6GAXWwBmAEr3DOWwHj879+qVuJdPeYlFGC8kXarotx3b8WpXkKN6f0r\n",
       "rEkcZxXDS1L+z7rppCanLeVtkZMkFckyVCyTv3a6xIDzNmBFG98i5FSZ2mvhK5teH+rRPMokewtO\n",
       "MJzbBLBMZh0yreNjh/5DcV7uOcU0QFB0kHNQRbYf9ECXAbd8NK3x06zW//NGzrvXv3U9FsounGd+\n",
       "dFVZjPQJfARXwMThk2jQR1ib6LRuPGB1rI7+fivIYc0/nyi+wMdbfrR0zuiPf6VPDSIn0lxGxZOB\n",
       "gItqKGS4lz/ZNMj/CV5Q0pFaLpp3VKJuXf+PvPImYcv0lKRYcwUFNaoEnOEljaWjVn36THTl+bFt\n",
       "gVK2BAUCJSo8xQAAA/5BmstJ4Q6JlMCGf/6eEAAuofnBsM5wAt499XJksifMEAus7qyhdBUEPKWa\n",
       "vzz873aknq1m8YBEN55q+Weh/FCO0EkL1OdBLNYJruXJj8VGqtCZIqT6A+QdyPnNVhug0eIU9r3l\n",
       "FlRYpGIjOaLw4Fl7QCofAjlbJrjD5DI0XqAIWk+py+N/VDoKbQKnHxofOkSLUyfooh6P3QLdM/+d\n",
       "+rU6ToFLYf5XXp+ZrRms5EfAskC6f0XyuXCTDFCNIs3VztnqjVpv4SGjp1z2/id0U/EQl4Qe///A\n",
       "9p+0R04EuJvspODFDbuWIJCpJ3k2AP4isA0JiBcWZBo0kfkQgEMeQ4DM8EDsZYJMw2C7wtfwRMPG\n",
       "m9g1cxnpkEb31YZFDDgKnOSt9Lb9SKBhVLULYfgmvuumtuZrZqPcSpt5gFTrfz9VEcC+dC2WyHlo\n",
       "KcGe1Eoh2OIKV5znSf/c7p3jXga91a7u8uC5br5W1C9S59rQgNNuHnvkl5VmxjdlmDCIKviP58Ss\n",
       "p5BowMveCUmTUJFB1RXm1JtXiVo9Xta5OsxOLD1uCr+UDxjElsg9w8g6NYOC7G60lOQYiSsQ0Mfo\n",
       "fsE/ovHDSTgFjcnnQRF6CAr25HY4v6uWpKj82uiUsP2eLSilcBtDNVjUaHD0XxtU3Onn2vfAsZ7P\n",
       "kBEtdhnWdkEdhAt4j98Ymb90z02z8cK7BRMRWedJibTYoxQejprSXvPKj8x/r5rcUMB4hABMLzuE\n",
       "ByV+xnebmxVmOIwL35/Y4aWt5yJC4RnjJhv0Yc7xKTsScjsZk4d8R8UcX0w7fAU77s2FaKPaP7RN\n",
       "Xz+W5dvAXwHv1Ou+YAD/2e88LQeaTD0pvLtVyL6/8T3lKWvUmcCKopS5tAtD1YYYE7FOAyuKeFL8\n",
       "wRokDhVNDYz4OV3csHSe9D1BWBx/sYa1Ev6oiERRgWmLOMHw3arVC87tvUXviP43tGfNyhyi6ObA\n",
       "17+AZ/CNow/AysYSAMtxO3guaw3dhgSocmPHRwSvzw7IFsLmvnw14J43kJBJGbKRVhcL8WTqXhFK\n",
       "alXHsQ55k1MPzd7ov1PqaW6v+YoVWmpKtRdgJfU0SjT7ZKXvjOvq0SLt6b2rb8whFvl/Opvw4hd+\n",
       "OE8jeHTUPxUDtpkcP4ejmKuij9JZiHs4vt8nY1hFkNUMYu42mM1YZu8rFo4vtOnMwns4ZdlIlkj9\n",
       "F1e6aX0sUjubwD9uAljXkAD0Kl7YqcZne3MsxYa/9OX5drFlc+VTwNRZ7j9AxlZyZPAHcLU0fOSS\n",
       "48GhoHNktRmUce+vHcCsxDj/3PYty7u87diiQtgrqX4v8PzHzN1Zef2SZcQGE3enj2Ot6Oq8tOp6\n",
       "PMhMuaf6VfPnZgAAAVRBnulFFTwr/wAJrG0Sg/DJQSChBvh5gzSE1KCH7QAsWUdYsuT0XgAIpZoP\n",
       "EE2OC3nza47XIZIt74Yo6U5C22DSZqwAxaL5rSCJmZegB7b3W6yFfq67I/Uo2t5qAAWd40stvJG1\n",
       "CMNe2OSEbQycQ16uvakFaM5o3kDsNYLyLy4qVlKE6/ZYkBsPEqzFrCgP3rsnnXyhUQO4BNkpivUv\n",
       "yS6KaGDQYyXR44U7NebiifG9FV1vlY2F3y2xYiMEfU29Y+fMPLO3gevIjPfTvIS1BYUns/PgBW62\n",
       "13GHGEINO/SIWOjG+Yq3NmUJwivu10uO44L1tZ+dU9pvRDU6syRe4fqDMlEpJXemwbKa2wKd2Dtw\n",
       "HIoel3qGW33hbbMbpy7PQVO3zIu6FQuQriIe3lRGkCDVKjnAjEQMXNui9nuKu76FzTEqHHTnpIWs\n",
       "q5UFYNhgQjWiqeFQAAABagGfCHRCfwAMinhnu8AIPONGg1hkornpuU0r1pMZm1tG87kYxtOywGzt\n",
       "FOZd6uiB3rTfaaP/ZUNDB3J7W+fLPV+sTXhDmkrERQbSdRiQsTVaOrcJz1NT9JQnIEZ4HW/Yufga\n",
       "q6cbWsSEiM66B+05iZ7G8AWYlUaTyRpxfvkvAVXXjSVW6SkaF6Qa3I90IZkKHMSKfez1msEMT9Ij\n",
       "8jcbTW83jw7JHjb0/+cy2n5KKflMPrOMh5R0YZYbU7sTeITVIV8VzqBaaxrqZ3Xp51XBVbTa8ePl\n",
       "fmkRa8nCKsnro+RMUQFVWlowYfmd/lwXR1rq9yJdWqMlDG7qAbNuuDryyI7nZKEajrDzWO4ot61K\n",
       "ZL4oEAOprkh7uGXkOBI8rjasQGh7UTSBNqfR/S0Lu7G72E1WNY+1S5EAO19XLxMntruGKZpZ1EnR\n",
       "hDl0RpLAz/2+1mDGU9uBJD+l4hM2dtp/zWPpVhZY5cLSR36BAAAAfQGfCmpCfwAMiqpWOf6NjSN0\n",
       "AqnH3hmSG7RQAf5VBCze9Jo4cyIB8xKlyCyeld7Yxg1eu1z9JZ+3fP1dO6j5PojxHH5adll83r/O\n",
       "vzLYvcfAGjb6pJ6YTVwaVLG7mCKj0a/q4/vVq0XP+uJIu11JHoW/vQ9WCSwTS95Ypsh8AAACSkGb\n",
       "D0moQWiZTAhf//6MsAAu7aEUgAffssqgFoS2ogSAIKSg24XbYIkMNMLStmQpG/nqjpFbkzMybd3u\n",
       "E7LRQ8NWEdVSWYGKtw1goDmb3uuVodtMisIBx02XAaeHtmMs0nQ/5cYMvj9ZNBcTFASSt+ZE9DaU\n",
       "z0jNxIJGkY5CzZJR9zNcABjYihV3GwJCAMBNaZMsj0uyd5ktdlmFO4jLfAkSlVPL9i3Jf9Rs2QUF\n",
       "ckW4QlCXF6QZ8O7bQzWERbyKYZWGrFcIZ9d9X1R3suuj52TtBvJztaO1pIroomnB7+/9MAg4BgZv\n",
       "Lk3EluziKnLIoufnD6ysBkRdH/ulghJ7D/Bs2O/f8egS+FFhayn+VNETJrJTDm3c9vi4BtmMQ3SK\n",
       "FJTD/qfr2c7/omZGNOKWPeqU3WX+NzqsxRsQ5Q/0GkZCUgj9EJjaYrm43XM2I0bU6k5bFGG4MJoJ\n",
       "W5r/JGwjK83FDdq2GHcEQb6mChtRfwSOtgvHhq5yPGnR+0KkNpTE04eHVe2cbsHHFR14mCOt7iYt\n",
       "ylKGL2ypfy/d2yY0cx96umok6+Vqh8ya+0a64g32m8/ga/QdFhkSFUwsFlRlShzBi6pceg2nHS7p\n",
       "2YOk7V7RESsuKEmUBq5Kt8od5FGTPyYH/86ll9//F+NYdz67ARM7RL5xYb9EJ+ROY6DU7sVrxYtd\n",
       "rC8epfoalqPkkPPf2Egba4QcE35Pp9JrmMyiOU0QhxQIjLoVMtwvZ///HCPEQ9cjgjwl5xpS79gL\n",
       "SXNrpRWRCTMr6/atvYAAAAFtQZ8tRREsK/8ACam6Gq9cHxs1aXnCQrqUBxQ7ycL7mJttf1Rp8GIF\n",
       "KgnuijK42Yx2JiIaRaPA/81PkZKvhepEjA1w4G2Bs9TQ9XnQQ9+iFsafIvnQy087n4X4AOavDRvV\n",
       "LV0uKx+/K8MNvm6QZpB9fR09z6o1xDQiGr4anWIoYRtZp4H/WOUWq662NoGQbs43K7ktomZAStp6\n",
       "AEBzm2oSWV7RtM4v/MDljgGurplVnjhSKAs+GijGoJ25lBllEPapBp6A/eShKFf7PPbQZFYg1UEw\n",
       "XH6hB1skwaxvtD5g7T7IrZENwdAO9WTwVJipH2zlxB5cDnqMsPBITMcujpoZYVoH1Cx7L6W4Wm/r\n",
       "gY3VSdOJ1nz6kpt0GnVaatCBLGVKZ5lAilLyC2R/oG/iuZRO+rOs2QX3v60lYHhaa64vAGw/Wr0r\n",
       "F0StjmNKtJsi6VsteEMBDpUadj2gWbjTHvMePXf0bFmNd+IqfLQMxsEAAAEvAZ9MdEJ/AAxoZXmE\n",
       "r8vWmm2lTgAEyOBztcTiFJ2oxCaD26ANqGtHt8RtbEoslbahf+8RSz7lUOwmYYk2SFpsPTpv5qbM\n",
       "Zl5E0YguQ3MHmkweh9L2aGYK/A4xySK6laG6UvYOaXFOLHK0fGhoZnalfOdSOq/F6P6LsG9di1HR\n",
       "dVY3hbS7FJgDB5vlywlNlfeilkZlY09I4vxUsaC7SSt5PlsEWHMUCs0Fi07i+pWDDko6qPLGC3/E\n",
       "DHvkK3LKBCtg0Ux9ht9knJnOAmODaCKF6L0hxJrQ+OOhiilTjQ2hWnNPNoLv+Rhte8j1TmyKXs9g\n",
       "lVWKhslyy2yMg2mPalEWNakcA74oNkF/XaXOvmu9ewkC3uktwa3pm2IoeyVD0HuwBJMcSGD6FgyQ\n",
       "mfc40RRxAAABSAGfTmpCfwAMdps4+znwwy3zIUIAO82daciq/9KWrGGVw8lnbcUYhx4YoXOqr5O8\n",
       "LnIm2WjT5i9VP9CWxwAs6Zw6aniQ1mg0kc/VvBRzlSpdnQknuXp0L42Xu5ShxeW30G0ev7d7O4hb\n",
       "L2zbgnQNbN/oTkiGhiuSJ3KgVmcHV+ZdQmfp9rop9IaJt39S9O9KwkYdjHpUs2o9z1CZJWaEWRwG\n",
       "6W+Dx50M3oUBGKJ3mY5MDAsT5dHRqwNHrCZQ62IYV/Eg6eLrQfF6e8XT1b3ZKH2IL+Kdr0Pnqb+U\n",
       "ahPnEuGdcowpzovfkdOsz1cgaTTYsuR/R31aptUVb5YX+9Lfl+RqokQysDp1DZjFHkKs2OMEK+wj\n",
       "FzW8j8X07oQvLHGWV0QR2hEl4iUVot4xwjvymiCUdI2AvI8rVwXGKkqeLwnF1LdVJv0EY/sAAAFO\n",
       "QZtQSahBbJlMCF///oywAC7hpiFUvbh9YGHQAOA+fwxCnDD+imnZQx2ndsE92kpIP5VSikX0vrpG\n",
       "V4KS8cvT8UJzANiruzA0FOexoc9QoErCwfLnUbd08YrpgT1R+X8ncHg66BPY8RWVfaXwQ+oTgjlg\n",
       "erTEveJIVJpTVUaOP8SruR7b8jAGx0VMPRP4SQzy1GzEqvfMKrsZdZxVuTKAf9+vk6XN/hVhNcXm\n",
       "KUT0x1y6ZKuszlrAAvLi0PnhCAS7QxfVWY7pFlJXBBhbGeg7MUU/NMhIv/YvmVRdPazPpIGl1Ngi\n",
       "t3OiZCVdYp6OhRSanggmzqyBS/NMJuZcLaIyOZvgUhvge2xyAD6qY5Hd7XjG3BhEHsb2MkdM/EaH\n",
       "POyTJpANJbiJ1dWbWmpVkaFjf3Q8u0ergo7umK9nkrT2wDgzmBEdgpDmvYuBKiKHUAAAATFBm3FJ\n",
       "4QpSZTAhf/6MsAAuzZdUdXZsAG0pcrIpegaqYZZGAYoSfmjqfcCJPETa8IcpPwfW5rWQmUkyaptH\n",
       "Qr5zNtg+iKTHXd6mHr/Qf50K102n+Woz+/wEnstKxvtF/KovWMpKekHf4J6ExeHg0GEPVKdvdcuZ\n",
       "8Kq7j/dU2dKluiTV9rxA6QyF9TRErVl51JWr5m3rMBOiKHq7HqWRFfEicxSe/0dldloOVqFTyqkW\n",
       "k4e8T1QRTdpTQp8fAwg2z8C56gS9qFf1ttP8zAcFSZOCF+BpxNCQ8ZTqQ+2qOYYuXiwMOGt3xUqB\n",
       "WEqsVlOxkJUmoCSbmJeul+jMgrfJmAF/22S06YdiPBhC5kvgW4avMThFIwWrkuP/aDeu+L9Wwn/+\n",
       "XL7t4tGkwFtW1i0qOgnY4AAAAbJBm5JJ4Q6JlMCGf/6eEAAubrzrr4sAAB1HuygsVXvEsFGRxvvU\n",
       "7EX5BpMl7wIT15nbZqbobHFRFKKpixnS+iqIH+qlqr7mKDoh4/6/pDmz4yNo3WRQdz5ojLl+J+57\n",
       "kj9V5sfnu3HDLollHYXJXnVGkq5H7COhW0jmFhYIHk4c9rm0b0c7mkI4gZtNXXQZ4DVw99f8oENl\n",
       "h3RE1ZCsodFLVRAH5JtHl+PXAxE08djT7ZIuy9m3YG6b4W/SMAsmiJm3pxx/CRysT5ThMdQEzm+U\n",
       "6llyuMmqKS6C9bBJXvBvDEhm5rGuhod+yD+zU6Gdr8PhyrrFcxGG+WWzgl1W710SxU9KiuuRmgkH\n",
       "juQvefxZFQntiM3pgpLrxVbpa64jsOKw2GHhnp2Pl1OoXQv9spg748R52ecEKbMZcA+EoNCbhTYT\n",
       "hzxd/uLDtF/aH0ywlQsnSLDUjAWRGUTwQnlAfeSh9OitPnaKu4a4rN99bbMlH3hCTXKi4upkohV9\n",
       "TaXR5M/vKq51rnvm8+zpbSVtREaGO17F19tf8I4EvyEDN7f5/H6+KdzkZ+Pu99+SNmaBE9hxgQAA\n",
       "AbhBm7NJ4Q8mUwIZ//6eEAAuqHtKCwAZcgD1Tr2PvfEqLd6IyAXFrw4StMsVjvg5MQk/0puX06HU\n",
       "/6v1Oz6TwduKdRrY/1wwFQ40aYRXLXwfJeKdQJOlgW1TXTj344x0eZlM5DE5fILrwcXX0WGt8x2x\n",
       "0YiE3/KDXdLPx4TXXlm1DrvmfrYMF1kx5TlCu9A1iw8usoFQgSatmsXgqV2opFG9uYxLiBDYgftH\n",
       "i8aOnaYSF9rIR2vGawWTCiPt4Zcjjx21RoQZBiH4csDg/5BClHwhXld2DFmn0ys7URReyMd/WCMG\n",
       "u8Dasd43MN1l91qzfimWCluEHuNmphpVA6og+ZXZOcIF1AW+TgtB3AQiiGHvt76eVrMCO/rGgNcF\n",
       "/od36Q4nrc+lV73WlFN/rsd12pKeVV89bPfJ/JB6VF/qtwVm7lY85f2tuVCd2PYAf/uiamNkouE7\n",
       "9RnZ3ycw17ls2GOqJud2rtkKt0qZMM6mvpNw910ejauKE+2jqxzZo/HkPRN0wZk+h+rzBe/jU7Fo\n",
       "SIh8z+9HuP4vbkk+6eeDhTVgVtxG4U1lTvqcNPLZF121t2nM+PelSg42oAAAAhRBm9RJ4Q8mUwIZ\n",
       "//6eEAAubwB3wq1fzAA0b1SSO78DHyYXnKYTS+rT0Pja18mXa2BOOgeusk0bGjpxXmlvOabfIDN3\n",
       "mczGNi3Ruqgx5g6JXAecdVwJLX2CfibOgDSYSys4Hq6j2UqWFu6ZD+LuXU9ioYYrZaMyaVNG86BK\n",
       "8S2fO/AAyNFSbWnF2RhTM2hdQaN4p6mC0Q7MZn8KkSZgy8t7spnR39gK2JKBGuY4bGZfrekJbJJ9\n",
       "yxiO6QpEvnWOHCy40E0H5hof1FztxFIXk3hXLMYHcOFoupxea3Tfy5AuwlrO9mJJC1ie3u3yYCKo\n",
       "VAJ2SD5ciADs5xyp72nZzrQqb7Y03QIpMvU9/5DV5fb+XwB1oR94eAg2uGBejbGINbFFOg66/+rv\n",
       "yGvX7wCnY0nwngGLmxZR7JsQHTcI6Y8LhfR2lalsxyu/YMoBweJTBeaOiGCxniQUfswmuz9ov9jl\n",
       "826EEc9JABJJRfbqUGFNKoPamX4IbLL2aYpn3CoBVRIdMFlyRLJplt4VpQWkVXJUb/BRyb8/f8gq\n",
       "SZ6ZvAoaO138+/kaQVcoPmGgrWAY4BXqJ+qrAA+oySf/qPAljYje5isTmKhGCUMPQ0XCRxLiC+o2\n",
       "65pJTrQJyljukZ8E7EWXSSbpNBXk/zTHl7+J0VYKFZny3WJb1F25h1ba9rp394BO1GWLO1U4IOhk\n",
       "M7O0WRnUBNngAAADEUGb9knhDyZTBRE8M//+nhAALnA8nThmCocAIU9dzitRu6PhMETi3KNJanLf\n",
       "WzVFDp33xLVy2tLoEnU7CEFTTfBoz97InY9Tl7Ky/BDB3qfXtTx8Ic9u/YwbzzL3eIHKvRQv25y3\n",
       "TRmVFe2HwpFDYyxqpnx5DX3Vxn6J8iKyMk3qc6CFPJ4Ysj8p7QpZJmWqQ1jfjjLpulGID50LuMuF\n",
       "LalyUncgf1x1tFLzwZQFZpl3OzI2yzXt2JxBs4nzhSQ5RoUE0k1Umg0JdM6oo6z6MwUQzGjwk5t4\n",
       "+2sAuUOKpD4K4ZAeZ4vFq40PTEF3UcuYxXueYUbreGKzM0HMQSW6pPc2Ct6AWONR+DT0NT2KLOMP\n",
       "c1E+qSfErJstH8MlI8TOIWhxiDp7oiRoBVzJ6J/uoRqhFzkgFH3++6xwzU/KbwZ/wV3Cf/wvfx6y\n",
       "qTmfWmxDAT9VQFP2g6G+/8NeT5CsPgUi7z3smZpofdGEDaMhWkbWJ2oKElsLkz0kpUHjfD9D1k/N\n",
       "YXCoRHbsV9W0lPd21LHkvHUKkr6xO4/m3ZZh80wJyhROl+AXW3hQzWvVFbsgPCKqrwIZCBAf2N4Y\n",
       "XhRbe497ZPPbIuZPX2J0hGDOHH+lVVEk7pfnaZp/tmtwAjq+k7KZDVI2VRUuMQ0pNBME5cMiix/E\n",
       "dsCNl96+RwC4O+R++5CPdNkVehB8CvDTmFs82H30saKwHH57At/sdt/U6SbTjiDYy5IoS8w9ba/D\n",
       "18N6WaAPk6b6X0tECvtM8Ng40xUELzf88sq0/dr9s5bEeAMUAUx94p2jBlN8odSD+tWY0NGaDXuk\n",
       "IvWXzzWGT4HwSzCdou4P9s2RSF768dlJm0ZAZpdI+iKYsOJ+Oz7ATlXp9lYn99Brd9i/ozYoE2FQ\n",
       "HiS+dE9MmCPkvEg6zIZTlVkjuvFHLDgg3bl6wAdTRLWK5cq2I/MvZhrNuV87a/K9v3LT5yChJpfO\n",
       "NQOkssvMHl3QwCntxIrh1GyKS7gXf06OAdvxi6IlkJsdzvKFkVQxaxJEv8pR9T/Vhrsechr6+QNB\n",
       "AAABaQGeFWpCfwAMgOKRIroocAIQwvFwdTwWs+rIOl94jaoQqSpwV8nB/JUYl94jaL3adyEfxMG1\n",
       "L2GtxvUWMzcf0EYtgbd+8LmZeIKUAXFJlVlxPIiXuFHlGbedE+sELkP5lmTljTaqxs/5+FHxqG/h\n",
       "dIPEE8S9GDirRyNu9BgAOXnlhnDdcnOAhFXcNcNVwQQTiXWQ8gwI/fmrwdmtj1Y/renqYVdx0PzA\n",
       "d4qd/ATgcdpF/6haKyy7p5xtBun9UpIFiRPT0HYFCM4t4OBLgO964csPIQaL2SJg4J+sMAXgss97\n",
       "KyzIT+Spr69HxjULKjxtyAsjtHRwail4lo35tSGNgtRD/HnR+izvXwnuCJv9L+9SSxbeSfCX3teN\n",
       "kVGyeh1uXiM1CFkmAtpJPm39PCOyswIzbYJQP9MAGpb+5wnTRReFBLsBt5fpLgGVgCpjO8NikKDv\n",
       "QbugX9Ju5t7xPk5Xs2g9FiDjiXqpgVQAAAJBQZoXSeEPJlMCGf/+nhAAU/DrkdUucZZbuQppDs2N\n",
       "jiLzFJjgYIrNnz46r+Htu0h217vf8DtiXgr8qeFYDPI5ft7VmfySNhBnHl9M1uqww4kFyX9maxoZ\n",
       "geWU8Zo60sZNEdy7F7r6CjS76q2pN4Oo3DxC2JCeehU6pW/sNKke8ozOWT1p1l1CkdwzO5xt8q2Y\n",
       "ItNKeciYT57svabMZviggODy0Js0QrEqoRlO0huOLb0l/dq7yLM2HQuYHFvY66RaGwikXLSmLm32\n",
       "FGbrVh+hGYNfkRKyyQUbZjPYUKd2iyFwfuX7Vt22NpOUz9RggI1UvTDY+s++buJGC/tWPF8dMewP\n",
       "U3lo0Ywkf46XOz2GsAn0d9XtUzsRK+6YCe1IfTp19Qdg8XR0C/BAWFnDuJgNR4yIpy/fkf73O2W5\n",
       "CxD9AmE1zxvEwQvyuQmcf6o8LQSWRkyoWjIdEVOUJKtcHrrfEbuS21Hv6FjUK5OusNdsmgoCCLor\n",
       "cGnphDIqP281TVX2hVX0CM55+hDZMnUh5+2u4my1II6M2sxp08X91bQEfjAkSmUxkQU5Qw5vWHfh\n",
       "8LApoE3zhhR3q24Yt+jHuwuyDUBCJo4UHOkVeSMqTH7F1EqTiArteJpbDFJQLeIGdetjYGNBLAXx\n",
       "s3QdNBaq27h/oHnkS3la/sSyzxi6ZIEbedFrBf/na+b6YQlplUf2mM5IcykqF8et6M7lwySPHLYO\n",
       "mLhvTEH+yF1y1NWWJHNPI01ovv0xreEle78aLs738VUWJwAAA+9BmjlJ4Q8mUwURPDP//p4QAVHf\n",
       "fwQcewANmV7OuT9nzedSSMW+kjdqUGKE4PyjKUbkSzuRF25A0A+gHQ+m7g/AwMdgnoFflprg49hF\n",
       "wpu/UvDukT4Ekue90XI2aJ6FM79KP7DYxSLzVYsXppPjnl4I07wErjjVn6+woAl4aH71oEpL68It\n",
       "to7XFNoBYXPaCrLpMrqB7FyS5vpGpA1vW+76CZOAHGmb5lHh+727HXir0x5XQLBnNr3GFhBjZ3o6\n",
       "viGycc0IlJACoUu9Z2u5Wf2EXEOY2xR/svCBfb6AZwcEo9UtrMaP/S/R/OG0ibeA3Wm/R//Dr9rg\n",
       "+cH69INLQrVun2kOkKqMsgp/Yi1KRpdHRhBpKrjqNBOPaWi+yOtnecZgI/sU5hsfHz9O/tsAYetW\n",
       "r9wDbE0oWFae0fzdyaAmBjIp+M31QmT8depJzu9CEqLh80MCjwroqkjdmAk7/kJhRiXmKiTh7a7I\n",
       "e9qFlzTtttQpeCJdJLPhYReIyJllpF1QK0jGhbdS3+lPEwhzfD3pKjBx+JWaHnFGXqV8ZOdqyjDA\n",
       "yExwFG8QkZdNArj5lGVgkm7KK2VwiVQeVnqRWSKQgO79y9/Z9/prvQUSz9atZkoTinnmyTo21pxr\n",
       "hlb097r/Ukk1QweoS3GObUaFNAHFvgOtRUUZGb/8Ai/dKGT65bvfx97dg/ldm61GXJJTzUS9Nh8+\n",
       "Akwayqrb87nwJOzSUTt/Y0otKWTPBXwIcTZRWUU8mu6nu8WgBhlCUtZamJmWT3gT1xiMybLKVAlM\n",
       "q5AA6BDCxIxj9+FA0AFZBzWGO9stuC6ByQZI+jLKvzTZCz00iFFCGNIfb5DEG7rpbZ++9qYPV/Ki\n",
       "M4k/eQgUGKKw5kJbX8pnctmG3lKFw/jSg8WwJ37cKVxzu8SijkFuJyPgYwlM7YNRCSye7uTmAUlv\n",
       "zo6uAZ7HbbC+xdmGVYsLNsVYGazZbg2MXml2QVl9g62aJUICmccwMa9IcZa4TekhpGiCfd1l4Q+q\n",
       "Z7Hzy1sZpY+1I33176bAEFh6DCbvnKDNQaYocK5fGmkPNI/yvReF1Rz81DrAVoenjabL8916HTwe\n",
       "g4HLHfeFl/bBBSEqfSRo/dAfjia22D3e2VpjVf+v4v9oszwRrY7u3c/pxaJcWV6YVp9cWysB+L1N\n",
       "oMoi+FcfrgnCeynR/f0EsBT4i1wISAhh2vVsAKbZjl+tFDNO6fwE2Z0L2ZDRzNk1589WNdA2MPEw\n",
       "vn1Cs483uUxHR+oC1npud1SVEIjoHFF43pawiCrCa8F3sqEKE/NDAgAnLf+nbzQkE52Z6KYCe+8Q\n",
       "nCxEOvgEFWvlYQq5coAdS5PfwQAAAmgBnlhqQn8AWu3Wn88l5WtxUgopgCJCr7tDaqw8LrH1g8JJ\n",
       "GAGqTvCvbVcLkC4JMyIiWxb46UUEfN+hcq8pEgSAzAIRbFKzwHwvjuArEeWVUje6qyIFi1iRgbVu\n",
       "Bv/SwoLhfJ//oea7a5jE4tVUiFqywB+OUuCp4xBVvEjFoMi2asByoxm2sg9Rb6oR0hR0prHQ1HQ3\n",
       "9emvpp7Nnqb4yJ87eGzdaXVx5gXWtFZooK0pFvfP/WQbG1TdAse9j6MZ67DRdqg6sUtzuJQOz0hF\n",
       "hhHoTcI8HduzPytBbQhNl4FKOtZg+G6fZ4dsYtWztsY74atlUoZK3ZpflF6h6bgsNC4ixeBtZ6aR\n",
       "8M9gluOwgreEtYd5yCjerFPX5Dwv6RMnNe0uuqzgCyEOMInKH2HX7uMCclUV7Kbbo3x6Atyledjw\n",
       "OSCKPWaPIx57ESTuyaosjjocPqQF6A+PWIyB9gydtDo7bqL5o9XcdX5PrFOoRq0/tGlyu3YraArt\n",
       "oPYmGo98m5zQrtJg/8B4XmZ+OV2GcsD72/bAFFctsegEgi0+VX1Yfu0ovZ8/J/a9SM0PGXzUZb8t\n",
       "HolraTDkncjvM2JcqnUEt/ILyfxAfzgKpujl6O2VKMkramEeSvNXvpFjFEpAH2yIgArntm52lWMe\n",
       "CnPp9jhprOfDBlb3ee4YaThZ9sVXMih1u/NujJUi1+X6wyAqI3dnB+3JPld0KcPZyEuvYsRBrEDg\n",
       "xRKEuLrSgpA8I0sryrTKssou1WDm+HCbxvbEAfJlXJp6H1lzirdQFY3bkSFpMGv4DsQ9fvG3yQyi\n",
       "n4QX7bCOZR/mriUEAAACSkGaXUnhDyZTAhP//fEAOO3XEAENVbTdjwmFmMKC+jXu1wMaQQ7KTcSd\n",
       "7P+u7iXZNC17UMb2TFFrhpD8smDPqIW+ngHuYCpkU1LJ339SsqvrASKOrno6vCGn//sjyBkoX7eF\n",
       "zQartq4g4LqaPUKI012csTdO0FBDOSPa9y570DzjX/O0FOyltTT0WKft9won+AvExF3D+3d1c7Uz\n",
       "iazzF/aHUzchNSFpWHAagAsFiUyWmC0YpsNipfEFwbCbMOCxjRYNOV6fi1OqbFpRP9O1557llKPj\n",
       "iuSOsstBqmcEiRzq9H4GTcJ/cNmomao0Hdl6nXcg/MPHIlcOAI36VW6SWypDuXxjNqbTIl+Ar2KH\n",
       "tqCzihwWFtu1tA5xcw3+w1R9sXNeMLnMIu+QjTi4xwenvEdF9AwJD72sNaAWRO94hF+VzKTKkHG6\n",
       "seaj0PrxEOHNnN/Re802HjV7k6OVesY35m7VOphcyfuqjERMpzBesqIbP+0exFssq+yS6cl5UO26\n",
       "B3EuJgIjGIpXrBQ/ZhbLPRK3WNn1kYQyi54eF24oHf3E6vEJFziUq/bzephU7wuXwxuZ0FFcyFxZ\n",
       "ssAlGRHgMQxBJyQabKTutJswH6mmbJ2UPsaxIHhxpJGBqboSduDDZdk0IF+qNZZiIBxPaW4ShDO5\n",
       "4GIwe8r/qrEu4XzfLhr/6U3PSVUkH0x4G0KF2emUMQWWqxCeffjmBTwjOC1kz+DUGR/IVbnEhJF7\n",
       "TOq2TsSmTLhTApKQQXBGp7ufIZi7qUY9e2B7QjnRDc0AAAPcQZ57RRE8K/8Cr1+Uv8u0ViAEJzm2\n",
       "1payHDAVNbgrIF0m/UwG+Eo7Jf8gZ1c2aZJ/A/suHAesdHO8w9B1SyaHL9dcpgmrUUS6CMbAJYT7\n",
       "OxjGsJd/y7jfRbOTpZUugn7l3vGTaUxd6rSttGb+NHwndiupggKLeC+ih+xfUcTNb/U75Iwm4FIj\n",
       "JLp+vMTzDC7gxDIRo0EChARd/sO79eXdvGaNKnbPDCUPdAxiHmA1KOiDi+2hyUur+bz3u8rHCGQI\n",
       "meHw+Wylo9c9GNqtkcCzMQpRxJrgCk2sfPVzmn3rWGz7PkS+Gp/nx852UAM59qRSPSFbecqxlmL3\n",
       "wzPu1HF4gadW0gFY8H26NJeYZ/M5CB8RV7Gcib7YMC5pHyweI5ZwsfhJ7tZPyhBF/hw+G8xunX7B\n",
       "q+HSuOOXwRnC4y/MsJLqKkmcJUq4g1sljG/ZKJtnidPcN5WT7x65J+RxW6w/tW4z2hq3gFPenCqP\n",
       "SvZz7wiq5ZNKS5KA9UxrUT2Fwv56P3o6Du53k55jQgKv782rzjzyYQ5W3CuC3enGObx3czt0DeL4\n",
       "XsPcGrhx+ySeQTnzxntEkiHqSb79rUDyWflnyT9IohMKJIBzQItZIkgK5BKPDDC3D8o/wTTa2L68\n",
       "wgWMWF2tyKGubaYWd6l4oUcAT3VlNOrp+o5lOVZKzOK9mzfeDp9EO7Uz1/P2giXRFyrmDx5Omxap\n",
       "o1BCbSEFQkpwEwKUeHUIZ3ESgUwgBFLRytkxZCFHHCTH6ULFlR50yLY/64mbp31oqIidYOEmu5zA\n",
       "7CfE+0qrxsjoZwPIxbv8uPSpvw/k/A5y9bB2k+o8KkwqHlHrhC1rICeQCvlrb5ZfkHzNA80B8268\n",
       "+uPcCImTJZ+btlG+Fv85EYV1GKDwnkeRQFqp9mNmPlGT1iefcySpDGpYsqBZpt+u9e2CFUvQ/itY\n",
       "iGrX0ZhjHY1Bs8Ocj+lie/iRnzpHrXvYRYujjdts0HFkxeZAmFbv89gla6OCD/07KmpTRIWVBrtk\n",
       "32Tz4DYji+WRVPI4wEcXpFbgoTLnl48AgFMEd4ee1Kzdll0cn1eno8ysU29TV5orhWsyK8jTJkxu\n",
       "yAhFNPbgLhG5GtDemeYOzvJ4hOnAZwLPScHu0NmSDETA6gdkESy7P4LhE7QgPS3yPo4M2uoyP/gG\n",
       "MIcfpc4oBFH4kBxe/zouo5a25Bn2TWmWV8dxGnpJjSTbk0eCS8mwNn7Q5p8NPVSWgtTh8NSIfb8Q\n",
       "lXL7zWwFiKn7EIIpp4iYd4eeZygYAZibbKtVHs9Oo7hRQIII+n1t9rdlffqyf+yVUCowaGvxtQAA\n",
       "A2wBnpp0Qn8Bc9PA6b8bcVc1psAC10pKt08xK4fe++URl6NV8c9lmjEaTHmrlE5dbs9wMt8UQ+i7\n",
       "K/d2No2X1RDIlUsWkAaSUor8C5wHvmb1rBU5JNq0DkrsSGXxXQh5QNbLw91IcKbHngV8NTl2X2Nx\n",
       "BClIqiyXIpLHmX09iNn5wdLZ0JZ6GFkrzTDb+24+j9O+jTVhawUojd31uBnKieO1xtDlbuzsHQAu\n",
       "FPgw4GAkcIF2SF92n6IPkt8V0O+1K1IBJ7kRRPzwpaeUAsq2SsZsSlyaAAmxhbnaJ4TlEVDNtvly\n",
       "3DYR6dALxjzZa+D+174P7bi4Qm3Ve4b32Nd8J+m9T00bllcWsYF8x974DAlRZlK+Dpt9Ue+9vV3x\n",
       "jRFzedwD3sA2d/jj6dHlNIB/7Ue7DjaQ5twzIjBY60/ZxT/5pQ2tPPrluWW+fCuvODl34F0qZ4Hv\n",
       "Th5+7MtIND8LzRK+XLwdZLwhn0At5zedDwqjy0e1+mJrdcbA0xFMLeoxOka5K99Q8LL90MLDgQ6g\n",
       "1fDvOheJXEBbUhWrwBhoWf9rztsw03Ax2QqhGDF0NprOSsQ5XNVZUoDLgqwP/JHn82y6ev76dBXq\n",
       "1V6FjXofyF/VS/oySZQam62pNpM178XyblwHMk6+KA8EAo02NogAkOVXEeTXB2SC1r7DbMPAyJe+\n",
       "jkOrSfyROo6AcrFoVxBUS+8e740dOvCux4klQR/w57ikKPPRAXNUfnatjI9+3o5Ovwx0FKqe2ZXl\n",
       "ROY8Azt9kmEEHszzFMpU5IZHpaY1YUymLWmoDGwG6mNT9+q5r6ntwiYJ/OwfxL0LyL8T3xicX5Uw\n",
       "ZbR7xQS1fWl2FmcTVS0evzmFY68yl60hMC12/vr6/MRo3OZoK6QhBBcPdmvDsjW/f0DbcNlz5Ie5\n",
       "LNLjUPwQG0IC0/kmpisakOud0c3s4LyDlgeVKSSqnDPAM56mEusBkbdphd3VmeVARHR6WX8GgRtP\n",
       "WqYP0K02N+Tuzh8PGHrYHa9bmtizOkr4sA3NcBuTviXTKr0lfWY3NCoCnAAPQPevecGFZPhHD++B\n",
       "+khpoIgALiA4vXLrdpYwUxQ8jQ7e2mft9IrHddFnbIlj1olhPUtFF0fvLlviYAJfHI/JoYAG0pbv\n",
       "DsETHyqB6jfiP26Wl4cE6ime5Qb5ZiEAAAMYAZ6cakJ/AZB10G9oQ2TtAARA+8G62kYGlE6KoSL0\n",
       "n+eK6I7kjhpDlkI+y7Thc6AvvSsam6kOgsoTlDarYJxhRzZbfYgZ1BZ2DNYIk5n5LA72MYLqpyvJ\n",
       "kU0XxY+l39XgpsVNIFSKP3Fa87KuYa7N0ZVkS/ZWV1v459k2+OHSm83uNmPn6mkIu7HmdhiBFjdk\n",
       "xFg966M/GeptH4pDQcVqRdG2XSKE3DaZKrj57LA4L278+quxYXJpuelVvIWF3gjr8B9kD2u0Rx/m\n",
       "ETw0eS6H9MXeBCL7SGvAWb5UYo1APcgSUZqoEWt7W+eKg9wO2rFIzU0eCPSpDgReuO5sprDtT3/j\n",
       "dAXHtrlb/1gTWU2F0z7uv7U4HF21id+PixcXI21LFj/ITs5PSRaaKRCbtBDoNa50cag8hNKFxSnb\n",
       "/Obvyq5c9Xi3b3fCt19nAKnRk1Zt1MsOaNiNW+xzyy60tISV9YbqVZR9KOAvcfde/y4xnCzXlPPu\n",
       "lnTVD/VtGsxOzjq0M4KE9UDXiz2J41mXWEfYcSiEQpesj2BpYHVcq+TetTfUdp0mB70Mp7zFHhVA\n",
       "+hPLfW6Wiv8Ui5SCXb456VbgBUeIAANGCRGboMF3lqij95pBLLobvDXheuSJF1Xb8cUe2BflSxFf\n",
       "bsGr7oLb3bwraZ0R4Mik5PvQUIP2B+3lPcayL9CBgmRnHL8TtKJkp/aQi8A3dlGoxT6oltB1B8GW\n",
       "LccwUa01zPNXSX+QeEX17lDK3wyLtj9VUcuc+358xEnhT3AvqiTwFHhkew2t6CzuFyw0plKUg3MT\n",
       "ztdIaZs4I0oZecRf1mqc01GsGzaJwV0wEK5OjxIa4WehLxVF2QwVfj1gdEv8S2C+yxEUX6U1UWNt\n",
       "+jWgu60IlNGCA9AtsBQ+KyN8DShZN4IB5FjaGw38mkijmAWdCCx6zZmuVb/F4JywjmnWh/8PJZTx\n",
       "paPwopCNFcpWnlwU2JcxB/OHIpnRx/hilk04QEUiGHt1E7ioLngi40K10+CRs3bmsFF9DzeXSCPx\n",
       "TGLdLC/W6yVkcSgw6vAIv+EzrMgRAAAEam1vb3YAAABsbXZoZAAAAAAAAAAAAAAAAAAAA+gAAAPo\n",
       "AAEAAAEAAAAAAAAAAAAAAAABAAAAAAAAAAAAAAAAAAAAAQAAAAAAAAAAAAAAAAAAQAAAAAAAAAAA\n",
       "AAAAAAAAAAAAAAAAAAAAAAAAAAAAAAIAAAOUdHJhawAAAFx0a2hkAAAAAwAAAAAAAAAAAAAAAQAA\n",
       "AAAAAAPoAAAAAAAAAAAAAAAAAAAAAAABAAAAAAAAAAAAAAAAAAAAAQAAAAAAAAAAAAAAAAAAQAAA\n",
       "AAGwAAABIAAAAAAAJGVkdHMAAAAcZWxzdAAAAAAAAAABAAAD6AAABAAAAQAAAAADDG1kaWEAAAAg\n",
       "bWRoZAAAAAAAAAAAAAAAAAAAPAAAADwAVcQAAAAAAC1oZGxyAAAAAAAAAAB2aWRlAAAAAAAAAAAA\n",
       "AAAAVmlkZW9IYW5kbGVyAAAAArdtaW5mAAAAFHZtaGQAAAABAAAAAAAAAAAAAAAkZGluZgAAABxk\n",
       "cmVmAAAAAAAAAAEAAAAMdXJsIAAAAAEAAAJ3c3RibAAAALdzdHNkAAAAAAAAAAEAAACnYXZjMQAA\n",
       "AAAAAAABAAAAAAAAAAAAAAAAAAAAAAGwASAASAAAAEgAAAAAAAAAAQAAAAAAAAAAAAAAAAAAAAAA\n",
       "AAAAAAAAAAAAAAAAAAAAABj//wAAADVhdmNDAWQAFf/hABhnZAAVrNlBsJaEAAADAAQAAAMA8DxY\n",
       "tlgBAAZo6+PLIsD9+PgAAAAAHHV1aWRraEDyXyRPxbo5pRvPAyPzAAAAAAAAABhzdHRzAAAAAAAA\n",
       "AAEAAAAeAAACAAAAABRzdHNzAAAAAAAAAAEAAAABAAAA0GN0dHMAAAAAAAAAGAAAAAIAAAQAAAAA\n",
       "AQAACAAAAAACAAACAAAAAAEAAAQAAAAAAQAABgAAAAABAAACAAAAAAEAAAoAAAAAAQAABAAAAAAB\n",
       "AAAAAAAAAAEAAAIAAAAAAQAACgAAAAABAAAEAAAAAAEAAAAAAAAAAQAAAgAAAAAFAAAEAAAAAAEA\n",
       "AAYAAAAAAQAAAgAAAAABAAAEAAAAAAEAAAYAAAAAAQAAAgAAAAABAAAKAAAAAAEAAAQAAAAAAQAA\n",
       "AAAAAAABAAACAAAAABxzdHNjAAAAAAAAAAEAAAABAAAAHgAAAAEAAACMc3RzegAAAAAAAAAAAAAA\n",
       "HgAAD9cAAATsAAADvwAAAmwAAALdAAADJgAAA94AAAJ0AAAEAgAAAVgAAAFuAAAAgQAAAk4AAAFx\n",
       "AAABMwAAAUwAAAFSAAABNQAAAbYAAAG8AAACGAAAAxUAAAFtAAACRQAAA/MAAAJsAAACTgAAA+AA\n",
       "AANwAAADHAAAABRzdGNvAAAAAAAAAAEAAAAwAAAAYnVkdGEAAABabWV0YQAAAAAAAAAhaGRscgAA\n",
       "AAAAAAAAbWRpcmFwcGwAAAAAAAAAAAAAAAAtaWxzdAAAACWpdG9vAAAAHWRhdGEAAAABAAAAAExh\n",
       "dmY1OC42NS4xMDE=\n",
       "\">\n",
       "  Your browser does not support the video tag.\n",
       "</video>"
      ],
      "text/plain": [
       "<IPython.core.display.HTML object>"
      ]
     },
     "execution_count": 46,
     "metadata": {},
     "output_type": "execute_result"
    }
   ],
   "source": [
    "from matplotlib import animation, rc\n",
    "from IPython.display import HTML\n",
    "HTML(points_output.anim.to_html5_video())"
   ]
  },
  {
   "cell_type": "code",
   "execution_count": null,
   "id": "threatened-pulse",
   "metadata": {},
   "outputs": [],
   "source": []
  }
 ],
 "metadata": {
  "colab": {
   "collapsed_sections": [],
   "name": "Copy of Wing Kinematics.ipynb",
   "provenance": []
  },
  "kernelspec": {
   "display_name": "Python 3",
   "language": "python",
   "name": "python3"
  },
  "language_info": {
   "codemirror_mode": {
    "name": "ipython",
    "version": 3
   },
   "file_extension": ".py",
   "mimetype": "text/x-python",
   "name": "python",
   "nbconvert_exporter": "python",
   "pygments_lexer": "ipython3",
   "version": "3.8.5"
  }
 },
 "nbformat": 4,
 "nbformat_minor": 5
}

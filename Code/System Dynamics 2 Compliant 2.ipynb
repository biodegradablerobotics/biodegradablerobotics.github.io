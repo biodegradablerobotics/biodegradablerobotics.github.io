{
 "cells": [
  {
   "cell_type": "markdown",
   "id": "impaired-block",
   "metadata": {},
   "source": [
    "## Setup"
   ]
  },
  {
   "cell_type": "code",
   "execution_count": 1,
   "id": "promising-preparation",
   "metadata": {
    "colab": {
     "base_uri": "https://localhost:8080/"
    },
    "id": "pi7Co6-jBLqJ",
    "outputId": "3e0b02e5-7b83-4a8a-fb4e-f100a21e47fb"
   },
   "outputs": [],
   "source": [
    "#pip install pynamics"
   ]
  },
  {
   "cell_type": "code",
   "execution_count": 2,
   "id": "dimensional-world",
   "metadata": {
    "id": "frequent-douglas"
   },
   "outputs": [],
   "source": [
    "%matplotlib inline\n",
    "import scipy.optimize\n",
    "import pynamics\n",
    "from pynamics.frame import Frame\n",
    "from pynamics.variable_types import Differentiable,Constant\n",
    "from pynamics.system import System\n",
    "from pynamics.body import Body\n",
    "from pynamics.dyadic import Dyadic\n",
    "from pynamics.output import Output,PointsOutput\n",
    "from pynamics.particle import Particle\n",
    "import pynamics.integration\n",
    "import numpy\n",
    "import sympy\n",
    "import matplotlib.pyplot as plt\n",
    "from matplotlib.patches import Arc\n",
    "plt.ion()\n",
    "from math import pi, sin, cos, tan, asin, acos, atan, degrees, radians, pi, sqrt"
   ]
  },
  {
   "cell_type": "markdown",
   "id": "attended-residence",
   "metadata": {},
   "source": [
    "## System"
   ]
  },
  {
   "cell_type": "code",
   "execution_count": 3,
   "id": "based-deficit",
   "metadata": {},
   "outputs": [],
   "source": [
    "# Create a pynamics system\n",
    "system = System()\n",
    "pynamics.set_system(__name__,system)"
   ]
  },
  {
   "cell_type": "code",
   "execution_count": 4,
   "id": "relative-vegetable",
   "metadata": {},
   "outputs": [],
   "source": [
    "# Length variables (numerical)\n",
    "lAa_num = 0.05\n",
    "lAb_num = 0.1\n",
    "lBa_num = 0.05\n",
    "lBb_num = 0.1\n",
    "lC_num = 0.165\n",
    "lD_num = 0.165\n",
    "lE_num = 0.045\n",
    "\n",
    "# Lengths\n",
    "lAa = Constant(lAa_num,'lAa',system)\n",
    "lAb = Constant(lAb_num,'lAb',system)\n",
    "lBa = Constant(lBa_num,'lBa',system)\n",
    "lBb = Constant(lBb_num,'lBb',system)\n",
    "lC = Constant(lC_num,'lC',system)\n",
    "lD = Constant(lD_num,'lD',system)\n",
    "lE = Constant(lE_num,'lE',system)"
   ]
  },
  {
   "cell_type": "code",
   "execution_count": 5,
   "id": "median-dispatch",
   "metadata": {},
   "outputs": [],
   "source": [
    "# Masses\n",
    "# r = 149kg/m3\n",
    "mAa = Constant(0.00447,'mAa',system) # 0.00447000 \n",
    "mAb = Constant(0.00894,'mAb',system) # 0.00894000 \n",
    "mBa = Constant(0.00626,'mBa',system) # 0.00625800\n",
    "mBb = Constant(0.00894,'mBb',system) # 0.00894000 \n",
    "mC = Constant(0.0148,'mC',system) # 0.01475100\n",
    "mD = Constant(0.0148,'mD',system) # 0.01475100\n",
    "\n",
    "# Joint preloads\n",
    "preload0 = Constant(0*pi/180,'preload0',system)\n",
    "preloadA = Constant(0*pi/180,'preloadA',system)\n",
    "preload1 = Constant(0*pi/180,'preload1',system)\n",
    "preloadB = Constant(0*pi/180,'preloadB',system)\n",
    "preload4 = Constant(0*pi/180,'preload4',system)\n",
    "preload3 = Constant(0*pi/180,'preload3',system)\n",
    "\n",
    "# Inertia\n",
    "Ixx_Aa = Constant(0.0000336,'Ixx_Aa',system) # 0.00003355\n",
    "Iyy_Aa = Constant(0.0000373,'Iyy_Aa',system) # 0.00003725\n",
    "Izz_Aa = Constant(0.0000038,'Izz_Aa',system) # 0.00000375\n",
    "Ixx_Ab = Constant(0.0000671,'Ixx_Ab',system) # 0.00006710\n",
    "Iyy_Ab = Constant(0.0000969,'Iyy_Ab',system) # 0.00009685\n",
    "Izz_Ab = Constant(0.0000299,'Izz_Ab',system) # 0.00002985\n",
    "\n",
    "Ixx_Ba = Constant(0.0000441,'Ixx_Ba',system) # 0.00004405\n",
    "Iyy_Ba = Constant(0.0000484,'Iyy_Ba',system) # 0.00004840\n",
    "Izz_Ba = Constant(0.0000045,'Izz_Ba',system) # 0.00000453\n",
    "Ixx_Bb = Constant(0.0000671,'Ixx_Bb',system) # 0.00006710\n",
    "Iyy_Bb = Constant(0.0000969,'Iyy_Bb',system) # 0.00009685\n",
    "Izz_Bb = Constant(0.0000299,'Izz_Bb',system) # 0.00002985\n",
    "\n",
    "Ixx_C = Constant(0.0001107,'Ixx_C',system) # 0.00011071\n",
    "Iyy_C = Constant(0.0002445,'Iyy_C',system) # 0.00024450\n",
    "Izz_C = Constant(0.000134,'Izz_C',system) # 0.00013394\n",
    "\n",
    "Ixx_D = Constant(0.0001107,'Ixx_D',system) # 0.00011071\n",
    "Iyy_D = Constant(0.0002445,'Iyy_D',system) # 0.00024450\n",
    "Izz_D = Constant(0.0001339,'Izz_D',system) # 0.00013394"
   ]
  },
  {
   "cell_type": "code",
   "execution_count": 6,
   "id": "automated-welsh",
   "metadata": {},
   "outputs": [],
   "source": [
    "# Create differentiable state variables\n",
    "qAa,qAa_d,qAa_dd = Differentiable('qAa',system)\n",
    "qAb,qAb_d,qAb_dd = Differentiable('qAb',system)\n",
    "\n",
    "qBa,qBa_d,qBa_dd = Differentiable('qBa',system)\n",
    "qBb,qBb_d,qBb_dd = Differentiable('qBb',system)\n",
    "\n",
    "qC,qC_d,qC_dd = Differentiable('qC',system)\n",
    "\n",
    "qD,qD_d,qD_dd = Differentiable('qD',system)"
   ]
  },
  {
   "cell_type": "code",
   "execution_count": 7,
   "id": "pressed-overview",
   "metadata": {},
   "outputs": [],
   "source": [
    "# initial values\n",
    "# qC = 11.97 creates fully extended, horizontal wing\n",
    "initialvalues = {}\n",
    "initialvalues[qAa]=45*pi/180\n",
    "initialvalues[qAa_d]=0*pi/180\n",
    "initialvalues[qAb]=0*pi/180\n",
    "initialvalues[qAb_d]=0*pi/180\n",
    "\n",
    "initialvalues[qBa]=0*pi/180\n",
    "initialvalues[qBa_d]=0*pi/180\n",
    "initialvalues[qBb]=0*pi/180\n",
    "initialvalues[qBb_d]=0*pi/180\n",
    "\n",
    "#initialvalues[qC]=14.65*pi/180\n",
    "initialvalues[qC]=(90-16.69)*pi/180\n",
    "initialvalues[qC_d]=0*pi/180\n",
    "\n",
    "initialvalues[qD]=-70.16*pi/180\n",
    "initialvalues[qD_d]=0*pi/180"
   ]
  },
  {
   "cell_type": "code",
   "execution_count": 8,
   "id": "valuable-candy",
   "metadata": {},
   "outputs": [],
   "source": [
    "# Retrieve state variables in the order they are stored in the system\n",
    "# Create a list of initial values ini0 in the order of the system’s state variables\n",
    "statevariables = system.get_state_variables()\n",
    "ini0 = [initialvalues[item] for item in statevariables]"
   ]
  },
  {
   "cell_type": "code",
   "execution_count": 9,
   "id": "round-rouge",
   "metadata": {},
   "outputs": [],
   "source": [
    "# Create frames\n",
    "N = Frame('N')\n",
    "Aa = Frame('Aa')\n",
    "Ab = Frame('Ab')\n",
    "\n",
    "Ba = Frame('Ba')\n",
    "Bb = Frame('Bb')\n",
    "\n",
    "C = Frame('C')\n",
    "D = Frame('D')"
   ]
  },
  {
   "cell_type": "code",
   "execution_count": 10,
   "id": "internal-lithuania",
   "metadata": {},
   "outputs": [],
   "source": [
    "# Declare N as the Newtonian (fixed) frame\n",
    "system.set_newtonian(N)"
   ]
  },
  {
   "cell_type": "code",
   "execution_count": 11,
   "id": "existing-affect",
   "metadata": {},
   "outputs": [],
   "source": [
    "# Rotate other frames about their local Z axes.\n",
    "# Not global q\n",
    "Aa.rotate_fixed_axis_directed(N,[0,0,1],qAa,system)\n",
    "Ab.rotate_fixed_axis_directed(Aa,[0,0,1],qAb,system)\n",
    "\n",
    "Ba.rotate_fixed_axis_directed(Ab,[0,0,1],qBa,system)\n",
    "Bb.rotate_fixed_axis_directed(Ba,[0,0,1],qBb,system)\n",
    "\n",
    "C.rotate_fixed_axis_directed(Bb,[0,0,1],qC,system)\n",
    "D.rotate_fixed_axis_directed(C,[0,0,1],qD,system)"
   ]
  },
  {
   "cell_type": "code",
   "execution_count": 12,
   "id": "closed-bottom",
   "metadata": {},
   "outputs": [],
   "source": [
    "# Define rigid body kinematics\n",
    "# position vectors\n",
    "p0 = 0*N.x #Normal\n",
    "pA = p0 + lAa*Aa.x #Normal\n",
    "p1 = pA + lAb*Ab.x #Link A\n",
    "pB = p1 + lBa*Ba.x #Link A\n",
    "p2A = pB + lBb*Bb.x #Link B - OUTPUT\n",
    "p4 = p0 + lE*N.y #Link E\n",
    "p3 = p4 + lC*C.x #Link C\n",
    "p2C = p3 + lD*D.x #Link D - OUTPUT"
   ]
  },
  {
   "cell_type": "code",
   "execution_count": 13,
   "id": "appropriate-evanescence",
   "metadata": {},
   "outputs": [],
   "source": [
    "# CoM vectors\n",
    "pAacom=p0 + lAa/2*Aa.x #Link Aa\n",
    "pAbcom=pA + lAb/2*Ab.x #Link Ab\n",
    "\n",
    "pBacom=p1 + 0.0207*Ba.x + 0.00314*Ba.y #Link Ba # 0.02071429x 0.00314286y\n",
    "pBbcom=pB + lBb*Bb.x #Link Bb\n",
    "\n",
    "pCcom=p4 + lC/2*C.x #Link Ca\n",
    "pDcom=p3 + lD/2*D.x #Link Da"
   ]
  },
  {
   "cell_type": "code",
   "execution_count": 14,
   "id": "accepted-brake",
   "metadata": {},
   "outputs": [],
   "source": [
    "# Angular Velocity\n",
    "wNAa = N.getw_(Aa)\n",
    "wAaAb = Aa.getw_(Ab)\n",
    "\n",
    "wAbBa = Ab.getw_(Ba)\n",
    "wBaBb = Ba.getw_(Bb)\n",
    "\n",
    "wNC = N.getw_(C)\n",
    "wCD = C.getw_(D)"
   ]
  },
  {
   "cell_type": "code",
   "execution_count": 15,
   "id": "incomplete-auction",
   "metadata": {},
   "outputs": [],
   "source": [
    "# Build inertia tensors\n",
    "IAa = Dyadic.build(Aa,Ixx_Aa,Iyy_Aa,Izz_Aa)\n",
    "IAb = Dyadic.build(Ab,Ixx_Ab,Iyy_Ab,Izz_Ab)\n",
    "\n",
    "IBa = Dyadic.build(Ba,Ixx_Ba,Iyy_Ba,Izz_Ba)\n",
    "IBb = Dyadic.build(Bb,Ixx_Bb,Iyy_Bb,Izz_Bb)\n",
    "\n",
    "IC = Dyadic.build(C,Ixx_C,Iyy_C,Izz_C)\n",
    "ID = Dyadic.build(D,Ixx_D,Iyy_D,Izz_D)\n",
    "\n",
    "BodyAa = Body('BodyAa',Aa,pAacom,mAa,IAa,system)\n",
    "BodyAb = Body('BodyAb',Ab,pAbcom,mAb,IAb,system)\n",
    "\n",
    "BodyBa = Body('BodyBa',Ba,pBacom,mBa,IBa,system)\n",
    "BodyBb = Body('BodyBb',Bb,pBbcom,mBb,IBb,system)\n",
    "\n",
    "BodyC = Body('BodyC',C,pCcom,mC,IC,system)\n",
    "BodyD = Body('BodyD',D,pDcom,mD,ID,system)\n",
    "#BodyC = Particle(pCcm,mC,'ParticleC',system)"
   ]
  },
  {
   "cell_type": "markdown",
   "id": "valid-facial",
   "metadata": {},
   "source": [
    "## Forces"
   ]
  },
  {
   "cell_type": "raw",
   "id": "packed-invasion",
   "metadata": {},
   "source": [
    "# Motor Torque\n",
    "t_switch = 0.3\n",
    "T1 = -0.1\n",
    "T2 = 0.2\n",
    "dT = T2-T1\n",
    "\n",
    "cond = system.t-t_switch\n",
    "cond_s = (cond+abs(cond))\n",
    "on = cond_s/(2*cond+1e-4)\n",
    "system.addforce((dT*on+T1)*N.z,wNAa)"
   ]
  },
  {
   "cell_type": "code",
   "execution_count": 16,
   "id": "caroline-marketplace",
   "metadata": {},
   "outputs": [],
   "source": [
    "# Spring Forces\n",
    "kbase = Constant(1e-4,'kbase',system)\n",
    "kjoint = Constant(1e-3,'kjoint',system)\n",
    "kbend = Constant(6,'kbend',system)\n",
    "klim = Constant(3,'klim',system)\n",
    "\n",
    "dK = kbase-klim"
   ]
  },
  {
   "cell_type": "code",
   "execution_count": 17,
   "id": "human-viewer",
   "metadata": {},
   "outputs": [
    {
     "data": {
      "text/plain": [
       "(<pynamics.force.Force at 0x1a44a573070>,\n",
       " <pynamics.spring.Spring at 0x1a44a573b50>)"
      ]
     },
     "execution_count": 17,
     "metadata": {},
     "output_type": "execute_result"
    }
   ],
   "source": [
    "system.add_spring_force1(kbase,(qAa-preload0)*N.z,wNAa) # qA\n",
    "system.add_spring_force1(kbend,(qAb-preloadA)*Aa.z,wAaAb)  # virtual A\n",
    "\n",
    "#system.add_spring_force1(dK*on+klim,(qBa-preload1)*Ab.z,wAbBa) # Limiter\n",
    "system.add_spring_force1(kbase,(qBa-preload1)*Ab.z,wAbBa) # Limiter Torque off\n",
    "\n",
    "system.add_spring_force1(kbend,(qBb-preloadB)*Ba.z,wBaBb) # virtual B\n",
    "\n",
    "system.add_spring_force1(kbase,(qC-preload4)*N.z,wNC) # qC\n",
    "system.add_spring_force1(kjoint,(qD-preload3)*C.z,wCD) # qD"
   ]
  },
  {
   "cell_type": "code",
   "execution_count": 18,
   "id": "guilty-allergy",
   "metadata": {},
   "outputs": [],
   "source": [
    "# Damping\n",
    "bbase = Constant(1e-2,'b',system)\n",
    "bjoint = Constant(1e-2,'b',system)"
   ]
  },
  {
   "cell_type": "code",
   "execution_count": 19,
   "id": "wooden-ukraine",
   "metadata": {},
   "outputs": [
    {
     "data": {
      "text/plain": [
       "<pynamics.force.Force at 0x1a44a3887f0>"
      ]
     },
     "execution_count": 19,
     "metadata": {},
     "output_type": "execute_result"
    }
   ],
   "source": [
    "system.addforce(-bbase*wNAa,wNAa) # qA\n",
    "system.addforce(-bjoint*wAbBa,wAbBa) # qB\n",
    "system.addforce(-bbase*wNC,wNC) # qC\n",
    "system.addforce(-bjoint*wCD,wCD) # qD"
   ]
  },
  {
   "cell_type": "code",
   "execution_count": 20,
   "id": "designed-match",
   "metadata": {},
   "outputs": [],
   "source": [
    "# Aerodynamic Forces\n",
    "rho = Constant(1.225,'rho',system) # air density\n",
    "w = Constant(0.15,'w',system) # width or chord length"
   ]
  },
  {
   "cell_type": "code",
   "execution_count": 21,
   "id": "fresh-cookie",
   "metadata": {},
   "outputs": [],
   "source": [
    "vAacom= pAacom.time_derivative(N,system)\n",
    "vAacom2= pAacom.dot(vAacom)\n",
    "vAbcom= pAbcom.time_derivative(N,system)\n",
    "vAbcom2= pAbcom.dot(vAbcom)\n",
    "\n",
    "vBacom= pBacom.time_derivative(N,system)\n",
    "vBacom2= pBacom.dot(vBacom)\n",
    "vBbcom= pBbcom.time_derivative(N,system)\n",
    "vBbcom2= pBbcom.dot(vBbcom)\n",
    "\n",
    "vCcom= pCcom.time_derivative(N,system)\n",
    "vCcom2= pCcom.dot(vCcom)\n",
    "vDcom= pDcom.time_derivative(N,system)\n",
    "vDcom2= pDcom.dot(vDcom)"
   ]
  },
  {
   "cell_type": "code",
   "execution_count": 22,
   "id": "interested-instruction",
   "metadata": {},
   "outputs": [],
   "source": [
    "vAadx = vAacom.dot(Aa.x)\n",
    "vAbdx = vAbcom.dot(Ab.x)\n",
    "vBadx = vBacom.dot(Ba.x)\n",
    "vBbdx = vBbcom.dot(Bb.x)\n",
    "vCdx = vCcom.dot(C.x)\n",
    "vDdx = vDcom.dot(D.x)\n",
    "\n",
    "vAady = vAacom.dot(-Aa.y)\n",
    "vAbdy = vAbcom.dot(-Ab.y)\n",
    "vBady = vBacom.dot(-Ba.y)\n",
    "vBbdy = vBbcom.dot(-Bb.y)\n",
    "vCdy = vCcom.dot(-C.y)\n",
    "vDdy = vDcom.dot(-D.y)"
   ]
  },
  {
   "cell_type": "code",
   "execution_count": 23,
   "id": "concerned-feeding",
   "metadata": {},
   "outputs": [],
   "source": [
    "tolv = 1e-10"
   ]
  },
  {
   "cell_type": "code",
   "execution_count": 24,
   "id": "authentic-yukon",
   "metadata": {},
   "outputs": [],
   "source": [
    "aoa_Aa = sympy.atan2(vAady+tolv,vAadx)\n",
    "aoa_Ab = sympy.atan2(vAbdy+tolv,vAbdx)\n",
    "aoa_Ba = sympy.atan2(vBady+tolv,vBadx)\n",
    "aoa_Bb = sympy.atan2(vBbdy+tolv,vBbdx)\n",
    "aoa_C = sympy.atan2(vCdy+tolv,vCdx)\n",
    "aoa_D = sympy.atan2(vDdy+tolv,vDdx)"
   ]
  },
  {
   "cell_type": "code",
   "execution_count": 25,
   "id": "bronze-steering",
   "metadata": {},
   "outputs": [
    {
     "data": {
      "text/plain": [
       "<pynamics.force.Force at 0x1a44a5c2a60>"
      ]
     },
     "execution_count": 25,
     "metadata": {},
     "output_type": "execute_result"
    }
   ],
   "source": [
    "aero_Aa = rho*vAacom2*sympy.sin(aoa_Aa)*w*lAa*Aa.y\n",
    "system.addforce(aero_Aa,vAacom)\n",
    "\n",
    "aero_Ab = rho*vAbcom2*sympy.sin(aoa_Ab)*w*lAb*Ab.y\n",
    "system.addforce(aero_Ab,vAbcom)\n",
    "\n",
    "aero_Ba = rho*vBacom2*sympy.sin(aoa_Ba)*w*lBa*Ba.y\n",
    "system.addforce(aero_Ba,vBacom)\n",
    "\n",
    "aero_Bb = rho*vBbcom2*sympy.sin(aoa_Bb)*w*lBb*Bb.y\n",
    "system.addforce(aero_Bb,vBbcom)\n",
    "\n",
    "aero_C = rho*vCcom2*sympy.sin(aoa_C)*w*lC*C.y\n",
    "system.addforce(aero_C,vCcom)\n",
    "\n",
    "aero_D = rho*vDcom2*sympy.sin(aoa_D)*w*lD*D.y\n",
    "system.addforce(aero_D,vDcom)"
   ]
  },
  {
   "cell_type": "code",
   "execution_count": 26,
   "id": "powerful-radical",
   "metadata": {},
   "outputs": [],
   "source": [
    "# Gravity\n",
    "g = Constant(9.81,'g',system)\n",
    "system.addforcegravity(-g*N.y)"
   ]
  },
  {
   "cell_type": "markdown",
   "id": "gross-return",
   "metadata": {},
   "source": [
    "## Constraints"
   ]
  },
  {
   "cell_type": "code",
   "execution_count": 27,
   "id": "assisted-painting",
   "metadata": {},
   "outputs": [],
   "source": [
    "# ptipup = 0.547*N.x+0.547*N.y"
   ]
  },
  {
   "cell_type": "code",
   "execution_count": 28,
   "id": "martial-module",
   "metadata": {},
   "outputs": [],
   "source": [
    "# Constraints\n",
    "eq_vector = p2A-p2C\n",
    "eq = []\n",
    "eq.append((eq_vector).dot(N.x))\n",
    "eq.append((eq_vector).dot(N.y))\n",
    "eq_d=[(system.derivative(item)) for item in eq]\n",
    "eq_dd=[(system.derivative(item)) for item in eq_d]\n",
    "\n",
    "eq2_vector = Ab.x-Ba.x\n",
    "eq2 = []\n",
    "eq2.append((eq2_vector).dot(N.x))\n",
    "eq2.append((eq2_vector).dot(N.y))\n",
    "eq2_d=[(system.derivative(item)) for item in eq2]\n",
    "eq2_dd=[(system.derivative(item)) for item in eq2_d]"
   ]
  },
  {
   "cell_type": "markdown",
   "id": "classified-leadership",
   "metadata": {},
   "source": [
    "## Solve for valid initial condition"
   ]
  },
  {
   "cell_type": "code",
   "execution_count": 29,
   "id": "prepared-andrews",
   "metadata": {},
   "outputs": [],
   "source": [
    "# Declare a list of points that will be used for plotting\n",
    "points = [p0, pA, p1, pB, p2A, p3, p4]"
   ]
  },
  {
   "cell_type": "code",
   "execution_count": 30,
   "id": "medical-equipment",
   "metadata": {},
   "outputs": [],
   "source": [
    "# Identify independent and dependent variables\n",
    "qi = [qAa, qC]\n",
    "qd = [qAb, qBa, qBb, qD]"
   ]
  },
  {
   "cell_type": "code",
   "execution_count": 31,
   "id": "flexible-science",
   "metadata": {},
   "outputs": [],
   "source": [
    "# Create a copy of symbolic constants dictionary and add the initial value of qi to it\n",
    "constants = system.constant_values.copy()\n",
    "defined = dict([(item,initialvalues[item]) for item in qi])\n",
    "constants.update(defined)"
   ]
  },
  {
   "cell_type": "code",
   "execution_count": 32,
   "id": "satisfactory-turtle",
   "metadata": {},
   "outputs": [],
   "source": [
    "# Substitute constants in equation\n",
    "eq = [item.subs(constants) for item in eq]\n",
    "eq2 = [item.subs(constants) for item in eq2]"
   ]
  },
  {
   "cell_type": "code",
   "execution_count": 33,
   "id": "forced-westminster",
   "metadata": {},
   "outputs": [],
   "source": [
    "# Convert to numpy array\n",
    "# Sum the error\n",
    "error = (numpy.array(eq)**2).sum() + (numpy.array(eq2)**2).sum()"
   ]
  },
  {
   "cell_type": "code",
   "execution_count": 34,
   "id": "occupational-worship",
   "metadata": {},
   "outputs": [],
   "source": [
    "# Convert to a function that scipy can use.\n",
    "# Sympy has a “labmdify” function that evaluates an expression, but scipy needs a slightly different format.\n",
    "f = sympy.lambdify(qd,error)\n",
    "\n",
    "def function(args):\n",
    "    return f(*args)"
   ]
  },
  {
   "cell_type": "code",
   "execution_count": 35,
   "id": "printable-stomach",
   "metadata": {},
   "outputs": [
    {
     "name": "stderr",
     "output_type": "stream",
     "text": [
      "2021-03-19 22:09:49,105 - pynamics.output - INFO - calculating outputs\n",
      "2021-03-19 22:09:49,107 - pynamics.output - INFO - done calculating outputs\n"
     ]
    },
    {
     "data": {
      "text/plain": [
       "array([[[ 0.        ,  0.        ],\n",
       "        [ 0.03535534,  0.03535534],\n",
       "        [ 0.10606602,  0.10606602],\n",
       "        [ 0.14142136,  0.14142136],\n",
       "        [ 0.21213203,  0.21213203],\n",
       "        [-0.07824991,  0.19026511],\n",
       "        [ 0.        ,  0.045     ]],\n",
       "\n",
       "       [[ 0.        ,  0.        ],\n",
       "        [ 0.03535534,  0.03535534],\n",
       "        [ 0.10369392,  0.10836109],\n",
       "        [ 0.13786317,  0.14486399],\n",
       "        [ 0.23496063,  0.12094575],\n",
       "        [ 0.08381403,  0.18712744],\n",
       "        [ 0.        ,  0.045     ]]])"
      ]
     },
     "execution_count": 35,
     "metadata": {},
     "output_type": "execute_result"
    }
   ],
   "source": [
    "# Take the derivative of the equations to linearize with regard to the velocity variables\n",
    "guess = [initialvalues[item] for item in qd]\n",
    "result = scipy.optimize.minimize(function,guess)\n",
    "if result.fun>1e-3:\n",
    "    raise(Exception(\"out of tolerance\"))\n",
    "ini = []\n",
    "for item in system.get_state_variables():\n",
    "    if item in qd:\n",
    "        ini.append(result.x[qd.index(item)])\n",
    "    else:\n",
    "        ini.append(initialvalues[item])\n",
    "points = PointsOutput(points, constant_values=system.constant_values)\n",
    "points.calc(numpy.array([ini0,ini]))\n",
    "#points.plot_time()"
   ]
  },
  {
   "cell_type": "code",
   "execution_count": 36,
   "id": "recent-leone",
   "metadata": {},
   "outputs": [
    {
     "data": {
      "text/plain": [
       "2.0881017314179564e-12"
      ]
     },
     "execution_count": 36,
     "metadata": {},
     "output_type": "execute_result"
    }
   ],
   "source": [
    "result.fun"
   ]
  },
  {
   "cell_type": "code",
   "execution_count": 37,
   "id": "external-balloon",
   "metadata": {},
   "outputs": [],
   "source": [
    "# Valid initial condition\n",
    "x = numpy.array([points.y[1][0][0], points.y[1][1][0], points.y[1][2][0], points.y[1][3][0], points.y[1][4][0], points.y[1][5][0], points.y[1][6][0], 0])\n",
    "y = numpy.array([points.y[1][0][1], points.y[1][1][1], points.y[1][2][1], points.y[1][3][1], points.y[1][4][1], points.y[1][5][1], points.y[1][6][1], 0])\n",
    "# prettyplot(x,y)"
   ]
  },
  {
   "cell_type": "markdown",
   "id": "framed-element",
   "metadata": {},
   "source": [
    "## Solution"
   ]
  },
  {
   "cell_type": "code",
   "execution_count": 38,
   "id": "lasting-injection",
   "metadata": {},
   "outputs": [
    {
     "name": "stderr",
     "output_type": "stream",
     "text": [
      "2021-03-19 22:09:49,144 - pynamics.system - INFO - getting dynamic equations\n"
     ]
    }
   ],
   "source": [
    "# F=ma\n",
    "f,ma = system.getdynamics()"
   ]
  },
  {
   "cell_type": "code",
   "execution_count": 39,
   "id": "attached-shame",
   "metadata": {},
   "outputs": [
    {
     "name": "stderr",
     "output_type": "stream",
     "text": [
      "2021-03-19 22:09:49,909 - pynamics.system - INFO - solving a = f/m and creating function\n",
      "2021-03-19 22:09:49,918 - pynamics.system - INFO - substituting constrained in Ma-f.\n",
      "2021-03-19 22:09:56,174 - pynamics.system - INFO - done solving a = f/m and creating function\n",
      "2021-03-19 22:09:56,175 - pynamics.system - INFO - calculating function for lambdas\n"
     ]
    }
   ],
   "source": [
    "# Acceleration\n",
    "func1,lambda1 = system.state_space_post_invert(f,ma,eq_dd,return_lambda = True)"
   ]
  },
  {
   "cell_type": "code",
   "execution_count": 40,
   "id": "suspected-scheduling",
   "metadata": {},
   "outputs": [],
   "source": [
    "# Integration Tolerance\n",
    "tol = 1e-6"
   ]
  },
  {
   "cell_type": "code",
   "execution_count": 41,
   "id": "technological-hormone",
   "metadata": {},
   "outputs": [],
   "source": [
    "# Time\n",
    "tinitial = 0\n",
    "#tfinal = 1\n",
    "tfinal = 4 # torque off\n",
    "fps = 30\n",
    "tstep = 1/fps\n",
    "t = numpy.r_[tinitial:tfinal:tstep]"
   ]
  },
  {
   "cell_type": "code",
   "execution_count": 42,
   "id": "separate-picture",
   "metadata": {},
   "outputs": [
    {
     "name": "stderr",
     "output_type": "stream",
     "text": [
      "2021-03-19 22:09:56,223 - pynamics.integration - INFO - beginning integration\n",
      "2021-03-19 22:09:56,224 - pynamics.system - INFO - integration at time 0000.00\n",
      "2021-03-19 22:10:09,420 - pynamics.system - INFO - integration at time 0000.08\n",
      "2021-03-19 22:10:23,481 - pynamics.system - INFO - integration at time 0003.91\n",
      "2021-03-19 22:10:23,508 - pynamics.integration - INFO - finished integration\n"
     ]
    }
   ],
   "source": [
    "# Integrate\n",
    "states=pynamics.integration.integrate(func1,ini,t,rtol=tol,atol=tol, args=({'constants':system.constant_values},))"
   ]
  },
  {
   "cell_type": "code",
   "execution_count": 43,
   "id": "increasing-hayes",
   "metadata": {},
   "outputs": [
    {
     "data": {
      "text/plain": [
       "<matplotlib.legend.Legend at 0x1a44ab90a60>"
      ]
     },
     "execution_count": 43,
     "metadata": {},
     "output_type": "execute_result"
    },
    {
     "data": {
      "image/png": "[encoded data removed]",
      "text/plain": [
       "<Figure size 432x288 with 1 Axes>"
      ]
     },
     "metadata": {
      "needs_background": "light"
     },
     "output_type": "display_data"
    }
   ],
   "source": [
    "# Outputs\n",
    "plt.figure()\n",
    "artists = plt.plot(t,states[:,:4])\n",
    "plt.legend(artists,['qAa','qAb','qBa','qBb','qC','qD'])"
   ]
  },
  {
   "cell_type": "code",
   "execution_count": 44,
   "id": "opposite-factor",
   "metadata": {},
   "outputs": [
    {
     "name": "stderr",
     "output_type": "stream",
     "text": [
      "2021-03-19 22:10:23,752 - pynamics.output - INFO - calculating outputs\n",
      "2021-03-19 22:10:23,775 - pynamics.output - INFO - done calculating outputs\n"
     ]
    },
    {
     "data": {
      "image/png": "[encoded data removed]",
      "text/plain": [
       "<Figure size 432x288 with 1 Axes>"
      ]
     },
     "metadata": {
      "needs_background": "light"
     },
     "output_type": "display_data"
    }
   ],
   "source": [
    "# Energy\n",
    "KE = system.get_KE()\n",
    "PE = system.getPEGravity(p0) - system.getPESprings()\n",
    "energy_output = Output([KE-PE],system)\n",
    "energy_output.calc(states)\n",
    "energy_output.plot_time()"
   ]
  },
  {
   "cell_type": "code",
   "execution_count": 45,
   "id": "metric-number",
   "metadata": {},
   "outputs": [
    {
     "name": "stderr",
     "output_type": "stream",
     "text": [
      "2021-03-19 22:10:23,911 - pynamics.output - INFO - calculating outputs\n",
      "2021-03-19 22:10:23,930 - pynamics.output - INFO - done calculating outputs\n"
     ]
    },
    {
     "data": {
      "image/png": "[encoded data removed]",
      "text/plain": [
       "<Figure size 432x288 with 1 Axes>"
      ]
     },
     "metadata": {
      "needs_background": "light"
     },
     "output_type": "display_data"
    }
   ],
   "source": [
    "# Motion\n",
    "points = [p0,pA,p1,pB,p2A,p3,p4]\n",
    "points_output = PointsOutput(points,system)\n",
    "y = points_output.calc(states)\n",
    "points_output.plot_time(20)"
   ]
  },
  {
   "cell_type": "code",
   "execution_count": 46,
   "id": "advisory-petersburg",
   "metadata": {},
   "outputs": [
    {
     "data": {
      "image/png": "[encoded data removed]",
      "text/plain": [
       "<Figure size 432x288 with 1 Axes>"
      ]
     },
     "metadata": {
      "needs_background": "light"
     },
     "output_type": "display_data"
    }
   ],
   "source": [
    "# Motion Animation\n",
    "points_output.animate(fps = fps,movie_name = 'render.mp4',lw=2,marker='o',color=(1,0,0,1),linestyle='-')"
   ]
  },
  {
   "cell_type": "code",
   "execution_count": 47,
   "id": "rolled-tribute",
   "metadata": {},
   "outputs": [
    {
     "data": {
      "text/html": [
       "<video width=\"432\" height=\"288\" controls autoplay loop>\n",
       "  <source type=\"video/mp4\" src=\"data:video/mp4;base64,AAAAIGZ0eXBNNFYgAAACAE00ViBpc29taXNvMmF2YzEAAAAIZnJlZQAAaZttZGF0AAACrgYF//+q\n",
       "3EXpvebZSLeWLNgg2SPu73gyNjQgLSBjb3JlIDE2MSByMzAzMyAwZDc1NGVjIC0gSC4yNjQvTVBF\n",
       "Ry00IEFWQyBjb2RlYyAtIENvcHlsZWZ0IDIwMDMtMjAyMCAtIGh0dHA6Ly93d3cudmlkZW9sYW4u\n",
       "b3JnL3gyNjQuaHRtbCAtIG9wdGlvbnM6IGNhYmFjPTEgcmVmPTMgZGVibG9jaz0xOjA6MCBhbmFs\n",
       "eXNlPTB4MzoweDExMyBtZT1oZXggc3VibWU9NyBwc3k9MSBwc3lfcmQ9MS4wMDowLjAwIG1peGVk\n",
       "X3JlZj0xIG1lX3JhbmdlPTE2IGNocm9tYV9tZT0xIHRyZWxsaXM9MSA4eDhkY3Q9MSBjcW09MCBk\n",
       "ZWFkem9uZT0yMSwxMSBmYXN0X3Bza2lwPTEgY2hyb21hX3FwX29mZnNldD0tMiB0aHJlYWRzPTkg\n",
       "bG9va2FoZWFkX3RocmVhZHM9MSBzbGljZWRfdGhyZWFkcz0wIG5yPTAgZGVjaW1hdGU9MSBpbnRl\n",
       "cmxhY2VkPTAgYmx1cmF5X2NvbXBhdD0wIGNvbnN0cmFpbmVkX2ludHJhPTAgYmZyYW1lcz0zIGJf\n",
       "cHlyYW1pZD0yIGJfYWRhcHQ9MSBiX2JpYXM9MCBkaXJlY3Q9MSB3ZWlnaHRiPTEgb3Blbl9nb3A9\n",
       "MCB3ZWlnaHRwPTIga2V5aW50PTI1MCBrZXlpbnRfbWluPTI1IHNjZW5lY3V0PTQwIGludHJhX3Jl\n",
       "ZnJlc2g9MCByY19sb29rYWhlYWQ9NDAgcmM9Y3JmIG1idHJlZT0xIGNyZj0yMy4wIHFjb21wPTAu\n",
       "NjAgcXBtaW49MCBxcG1heD02OSBxcHN0ZXA9NCBpcF9yYXRpbz0xLjQwIGFxPTE6MS4wMACAAAAJ\n",
       "amWIhAAz//727L4FNf2f0JcRLMXaSnA+KqSAgHc0wAAAAwAAeB0oXug4SqvQwAAbc4SfDSI/4gJX\n",
       "J7OF311DX45lU1cl74Z1K1wI3wOOiBK3LlpnCz3BWzmWkBup43VALL8TRW+6mVSV/xCPVoVx+HBR\n",
       "2ic2EPfwutZNKHzCjO86IySyCq9leVdqlekeypxM5BDbdYOrJrEdeAZhuqAultr7KfwQuBGqHL0/\n",
       "XmlLcbm/e/XRJTcpdFn5Zx4GhfGYkadGdue41eQjdINy4A3J3x++iyq4TTAm+0KnR4wP5V+DDimh\n",
       "poB/mnrv20w1jL/alDb0z3evE/IWPJhticyGnS4Ne0oRicA2xAqmlGcCd5qUTiH4unJ04qHdfzyA\n",
       "F9F62ddxev2PfqxLcWSU26ZqIiA3BHhzVM/Lr1/ZkbciacNBWRMjVjEumocTvTKTRery7vPsVQVj\n",
       "pWUDohg0EaB1lJWNrClGuEHjOegvrK5Dcx34E7H1yBmaRrL3UlTzjn8Taee8Q5COCTXGbrEpEBKB\n",
       "DcC+RgiHDk+fme7n1pOY14EiXviyKvzVXZRfqKsiqjV84aN6AXGedo1zyhsz6s450NYqi0vg27jB\n",
       "tNQW7cc/n1O2rkwPMnnSGitZ8zXnEuqcsbcLVzKHDmD04YgdeqoO9nPp27k8F3HLvwgPBhIawsz9\n",
       "RxsIbRxyBCQ5nFYFW+J4U5gRsXpTTbaVP22qTWOPnFzj3g0Al0d6MaeZjtr2tifhQzO9sYqo7vIm\n",
       "OF2BLrDjYkkk1rY2DjTTiw5psp4Cymm+MNWdTfAINVNzV2+/utSBNipXta4sKPShrapW32muGxBt\n",
       "008zCpbkNEIsixYGSFl6rjrHorQ/DxnE10JPQ71Gpx/OOIT6sBmMzp1HH8oe/Y1fPI5SFGnAy82m\n",
       "lazUERGZoNyLkktseWIp9KY3dUvhREaWyZ3Snta/IVcVmfwND7RHdHEy7DTtQGdB5N4bDfJYrO6d\n",
       "wgtX0MfN0F8Z8OvDvjIBk9H1idCw7L0uRTlVMIBgnKphaTVN0mHDWsahtlJ15vklu9H7WVBOGVUL\n",
       "rFSRQcuQdhWt7anP6ZfFvyLY1IwrvNu3RfRUPbeSxfiJ2aQNAtVXz8KSlERndFobSN29htghdalA\n",
       "ipt7QVHIUx6cuYlelVw3ieKWfR3mZVNGw/r7n3zxZTNKLo3LY3Bv3Qu9NX7oenWrEnps39ryCSqT\n",
       "LrMr5inY77R+dpynAHqd04xY0UdMDqz0lAmDtHY5A48J3Ms8Eno7pU9USTu71K86vc8GBWI0ns44\n",
       "85i3GdUFieD8Yq1GhBlRGa+62IywdbdCTSMvzEQ5tboabuxlSNzCEvzRXMHOYSLImLjipW3UK4gY\n",
       "yXaXAFwVEWRkW5C32JuzY7Tuu8bJjsb64P3Q8+alaCIsxyIK4BbskZqxhnZqGG1VNCT+fYPDJ+Pf\n",
       "jYiHgd91MNT19AotcNEgaga6opdm+4fwrCtO7pOl0U5XDEjAcPoddOZ5CybvhD+2qbcZlePmvzNX\n",
       "8L+/TjhbQ9esPlQvvQ8kpeTA5+P6arrsnTMr7/vja4cjdB2U1RcL0Eur6kFfknxXasi+yUeuiryK\n",
       "4gpXvgJk4HNUua/oQCO3JbMQT9rTJufwvCO32HxIb0gzo9pUjEuM++Dj7QDIF1UpmSnCTVe6zdYU\n",
       "TbENhVlO1CiZP05zh9fmVgGR5jnBx4DOzRzwbb9801WcC+Hy80qW7LU0wJmTODayWoFKLR+WDQwA\n",
       "4LbP/2nLJ2DWQPAR46v/3W7S05/n6WMrCvhWpQ/DBu09EWLEosEciv0APP3YC5Mc3OtsPQ6DsMsL\n",
       "7Ai7p4rZbQgScPCsSENGolCKa3SkDbuaXAmdi0SxE5fNMUPoTMOPo8ZTdhA1jQ0sPCi2lZMXASL5\n",
       "G95XZ/U3WRoS5TSKSFmfp80YuZOcpm/DPzyCCKLn2PVT2TBnGxZR7pRW6A30Nn5SKBxV/j8Thhtg\n",
       "mdDzIo4iWjHcH2D+LNoa0kergto1QZyO7jn9lMNFjFXD+s6+mLEbm85uwZI1ZeB963rM680jeJmn\n",
       "DTRnqXcY3/yV0+XlCaNgDjGivq96YWGXXs0I3Bx/2jrLgU4eQ+G+dZGyMjffkOB5sk+U/JYu7d5X\n",
       "Si77OhvGqfvUAkKOZP/AaoAVo+tzE8WdFwfvzLikwen/ifjfkJiPXcS6EtRc/TbtdImlm3Z2B9ze\n",
       "nwURvABkr1KwZ+CUGN9jlhjMNGBE6o0MyUJlJGqNJjjjn9iQg1e4zmFwg6fuptfC4BsTAuk4CD/9\n",
       "x6KcVIx3UkteW2/Z9s3WFGlc9EuRNCeU03+54GTWFZhpHOa+wfw/K1QmmdTqqBj48QLkCTnIUpAZ\n",
       "LTnRU3zrmtKKkpBbqNtAU7c4y+jca6rvH5Y9GzjsgQ2JAKR4V4SZiNhfcqEV5G6Jx9almAwd02sF\n",
       "NgAluUvs6Xn0VbyKj+D20msOwVCdZW0UpRID3JmrZSuSZaLrVAq/akBtKx/jPmy53EYVnhHhba3v\n",
       "7CFfdvV97Ff3NQO0pP1ASrYuRq99BGPlsyAW3uwj4jw10v8FQ8a7yGt6MAc0tN42SAVN0j9lX1me\n",
       "GrKF4Mj2eHdkAkcOeW5CuffzeA3ZBMMGRMf1R1vje5DoScNnxZoxawg7CshR6M9pF9Ppt6O3dBEI\n",
       "GSW5aovqvNAzK6lAhYcwM/ningg4ARzStnGWFLI393ewdQ8vA7oG1YHWmP57AQNvC65nJg/6G7le\n",
       "01RTWyTWU+xQ4DcN7HGkWU633XJcQhkC8UoiLm7b7tZnRQZTnFJbKC4X+LUspcQ0OFF1mwIRIJrW\n",
       "eMiduIJC2JIbgvLqP97y3+x4QpaZ0sNcDNFFtfqRh7r+O9KrLy+GER3JdAKrxItqQW8KOJK64pMz\n",
       "f92OX2bTgPlmd4xF9I4J1hvt7uDzfAJre1JJKq9GXtIDiwKFHqaoLL3cUl4ov85NGg85qolfgh4q\n",
       "W1GRorD9YbHgrkxXo+KHK9LJNK3K7dlfqTMHcPDs+D5XBnlZbayNJt5u9Gq1NLC7iQ0f4xgU/BLA\n",
       "g9VnkTQHdFNU2k9Vz3YhBbzNb6ihieEWMDBuCHid+ntuBmk1B4fTzZdYu0m/i5BFTEMyECKrvBzP\n",
       "wSf0gYGcxLbncd1AxyLyswntZgnv/21RKzjYFE/k0bv4d4bBFZla1LT5xzZeWOWt1YiBgOsOQLRW\n",
       "DiKi/oTCTCCkbRLAB8i28mEAAAP0QZoibEM//p4QBWw8M8cAGUVmAas41u6A6ZMh67EHmk8ADo/q\n",
       "ZozSrQSCPyGs/nsIxdwe7Ay8dYvpLgO+6ummIX2s+CxLhQ5BL0Q5jGLve8aOLVafCmpEAj+yRx/4\n",
       "LIATj5MFsXleRMHTojyJkr1lVJS7IPiO4MY3fk9tXKF19ZdOuv21TYWhD5jptuq0MjB55mIlT2BF\n",
       "4PyHAX7E/x84gdHY1dRCt3FS6Tmhw8fn0TOPpo6Y5gMhDdt3PBKPxTpOjR2z0C7rrigPIYcTmTEW\n",
       "u+X1NpnAA/nwq+3NF5CUs6v8gWXGRbhtwy7GKlG0745ENk4CnAYvwspGqForz+0IdxHu6ZufyZSk\n",
       "AuIQ61KC/DkG0WZhc0tdTb+J+8NNIDUbulj15RkAYGjNKcZIZ0lEcDoFPUejTFISWXk6PKjfvpIK\n",
       "ZlQZ9gz2JWxWMns9j+/2JoL+0oUeW4UKf762AWm5HFrjv5kaNGcSZ0FW4kOOb8zXLeCzFRpnaY5F\n",
       "UzbheMIMTgQTwl6eTXKPrrBLA1rlnr1wUiTY6XG8uhdVQHN8Tg4WJw21x/HeewhNe+jCXeFWKAGL\n",
       "uAfrHBvgoJPTqOQ0ta6lnZ+akfrFxPWlG218pK3Z55sD9pyMYwDDUaux3HkOx7vGRDG7htFkH+io\n",
       "6DzhkOpas9IotmmfyJfL38/3TazYw2ZMAeS+QRyWKGbiHVMybCq0MlsR8blP/nNcRem3RYX+P22d\n",
       "KLoWAMlJXx8cL6Rm6oZIIGdZlY8rsXRYpD6E+kM/ulG7fgAC2hVsASYDAFOeiDAcShazfYsmqIW/\n",
       "MZjX/8Cgw5W71hWHLV6wGLopiOe/u6zWyXWcKeTbhA967pPiTr45KInjUIiLnXIqe3Y/I85rQden\n",
       "oDtALE947ZTBYhxC4whT+USnH+NS48t1Ebk0n9C+O3BDG6HQenhQF4tz0hEL0QPdyfjcr6TtOAxg\n",
       "pXjJOG4sKZsa8f80sL5bDLOKbWAC+nda1BXIOMxl80G4ocQmq++OW8wGMPyg8ufgXdcyRpVeP2N1\n",
       "AGvRc0HWYZybpit8XCVQ+HWUiNnodEgjEary3lZjKAHcNGJM1ll202EqCtPwiDI1gDiNieugxDlc\n",
       "xCk5WjJ1PhxpOs/IiPX49stvX5L8Xsea9mvICV864wsey5m04k6SLJxzUQnh3qA374VyZbEnUpUK\n",
       "rk3medlnj0YC/WN/8iL9JcgDeimXKMvuNb1a0q18g0f//bnbiN4kLJghZ5WktyobrAGWfVd0Of//\n",
       "fvLmUpcWcO5TbBR0RbiGOdCL1Hqsfh64kGVGwC7CarXel+WLgalgEKz9uZFS03xh/n3wXosfPQOs\n",
       "RGAi5s0saAAAAJYBnkF5Cf8C2o/LaNvWIARBge0yKk3NxWbJc1ny6EqbICfmdw3ziuK0epJXk8FI\n",
       "4fzi65wV1s1qcJK74SxftRGiXTvc7F3EDsBNLSdQH/A+ewMjpVdoPvGrXKTmMCfG9pg7ejniBrU1\n",
       "z1l70YRWGLxUsR2qG7rPssdZzrV2U6jm2V+T/OgFV6mOFCjGC7ExT1KFFBZpTcEAAAFLQZpDPCGT\n",
       "KYQ3//6nhAFn3JI54+QF7DROYWXGx4AIlYhTEP5Z8vukUIufBD4QSxvGNcxgUcrDbpcfe45xFLNh\n",
       "7iSO43u1XiXAvEfqmWcxlP+jcMShha3yx88iEQwaIH2PvG99fCRA6W+nF/k1RwJRmt+wtnjh5AYd\n",
       "dXsN3JtB5f8WusLAPEU3igvkbuKwkGdmMHlvN5T9HLcOjVRdG75E046Op02ueOLJrAApwH3fkBBb\n",
       "8JhUfodkJMzLdSf92JztuVEs+ggFld/QRHZY5jSrTA6Tnvp5xX/oW95g/8ULrgYGwvSyaikyka+0\n",
       "Io4xAr/7HfR01mn7b538GnITgjBmCPKgOHIwLts+2e4zJivrSSCT3cGTJYBRs3MdIFGhenpCWF7k\n",
       "ZOYSb89oiaK42zVPy4MpnKL/aPmruvYYsVe/8niuF43vxjGL9g2JZQAAAp9BmmVJ4Q8mUwU8N//+\n",
       "p4QI9sqFnE/qQx3+EcyADRa1mETXHI/zrkAUkoGtkw/Uzcl5BArCp5jqFo37rLHS17IiD80XsH3g\n",
       "V0rey+aYvST00/F8ccLjm+Eso8nwEUtqGuYwfh9MWcVZgDk3OU+9FAnye7EaS7cRVaK0zSIZLdG9\n",
       "Bm7aU1/6Gt9hP1T6dBOMmbJDLGUVM8iUOhSvuQ4ovbp7wyFqYL64MtQoisdCeiP1ZF1JQKyKXUy0\n",
       "e3tr71qM2fEdWgwsP+oAUl9vNhbfmxBW0m/L3BBoeTo6AzkV3jR+COG3HcECQMZB+VWtzCDIPNnv\n",
       "ZZtDF3UVUJe+0ADPJ+lFbZZ0DQjOQs0ALMdlW4f4KoYu2+u1T8gxr1LplCz4SkSWYB392b6VqS8x\n",
       "uXY7KN46Rofns9s8FTmno6WaiONWQ3mi0Zn9izR8hJKvXt7nrjPWhif30zVTrrefgRZ7jshUyKpn\n",
       "Zy3yPRAq20+tZsj01U4umxWzMpu0xpfPoPCAuBxZpXMnvwkC6+unZQv/na09Q1S/8noaGwTyDzxb\n",
       "9Ya6+rmlA+kYcLpl6VGozsMz3R808CUAg07WWe/jgiU7WvFtirVX1uhGAqhZ//vNjsa0zHV4D1oh\n",
       "iZPfpbG6wdv8Q7PGjw9wx4obZBBIJUFJYS20HERZBqo+tSCYEIJk5IY7g71VmeAIhegmvlzxvdUq\n",
       "bAegw9fk1PoD3JdGjnjd1hkG0Ks7VDVrea4xhN92ct2v37NbqeWRAhaX1kFB+46DjyO8SHobHx6R\n",
       "ddJ9obVu4TbpMWps8A0j7RVHlicIyhL1kAGSr7UflP5atE0oyaFCXWjylnCo62obN6pE5s8UTZE5\n",
       "B7nDAD9KTNMN92IMTAyqGojl9KOwgq+haSyQZTMpoQAAAMoBnoRqQn8DADDvu7cJNEAZpABEAqHo\n",
       "7HfLAnhITp5KkMWmmPTyTidCWwzHCb/asG/2mpuC2INKkAdHApdzSpjwwsM5bs86Ry79nWMIoeJB\n",
       "6zb8+TCWSgGGdBBZs3m4+2aJiKXpMFxCNcWZfF+h0ILoExk9dLmZlNwfBYB8KY8gcmC7PkkNeFUO\n",
       "u/siBK0/7vstHTsgEJIkMOA6sYZ8vGrcng3dxF4LARu6mfcVct1UxlXv3NG2zdGDKKsMnhko3mqp\n",
       "k2yIlJiT79aBAAADs0GaiUnhDyZTAhn//p4QBUvg7pylWTto9IqmUQWZIboLhmAFKQsI4ADs/yhU\n",
       "7jM8MO9BiuxoQQrLllX43Hrqcv1Rh0wGAYD59mmlQcAH+Vrt/xfWjbSZpF3ZiFH/LIt9WoIkIa25\n",
       "/J9cAdFxvOoJlFelGHlFOxK3OInQ1ntYc+gPypFARdzFJA4jrPTrOX/PIoH4RJCn7t56xTQ3BbBb\n",
       "rchBheSBxChL1HNhcfkzvAWNTVHPAN+Api05/Qo4FZGkFD396MxaZbsLlRydJS76SUnk1srYWgvb\n",
       "aOu0Zb8WuV0JvCYqRVbxE6KNw1rgxG/ukHntB/A4cFyVyRN9tkUblZBHnLOEF2xq/tHHNWvvLXtB\n",
       "RCVs2OzYcbMGdvC1g6tPmB2Grtyqxqbmv5nvYGClQ6fuuyBph1fdNhydkXy1pOKAvSjykklQ5Du+\n",
       "4ZHIsTkV6vGaBgY/tE+7lN0NoefX91hz9kOAaDzgLGgdg3IefpBeKKF3/PWfuG570xCudLo9riSe\n",
       "U/A2M9GqTkBN1SYqiEMr5n9ls/y8clc40i+Uqs5TCgqfxbOPmRL2xsc2SNbB+kpB6AspAcPY6GQO\n",
       "qSgvZGtLzs9JoWRj8I0S0X6kInf4kFX5tCMNCKHYektxggbCHsrQzsZM/CM+pNhYq0c0beK2Q4AN\n",
       "2p3T81xDgQdDPWyzwZcjHGQPHiBYo4cFK9In6nvZs1xQdMSCQwGexIU/d5iFHCQQI7jZpKRTX3td\n",
       "pS/TT3P+KIa4JN0UQmPmJrDTKNnKRvMUcWfwyYkVKPUdcBCaMZ2Q5Bu6+6nC3tsLU3wR+xIVpEQG\n",
       "fyH0XV5rxxrYoDCxz70FjxYrOc7u5vI8pdJiivp1li7VBIfmcc8Hv40r6lAgrsejD40S9gJCmsyu\n",
       "eT2Ze5ychgrtQyFfIhC+IkJhy3/vjutqZzWoNmFTdmf58mD3sij9nZ0ugHpMdFt14CLmnlW+LPWI\n",
       "KTIOK3wqAmma6QxD3+WkxH5KBwhQqY3SJiYiL/qdF4o/8w0tdz82ZT2NDr3oJkXmxC3rESzdmcXe\n",
       "9AkNKoyO357QLtcgt46QDTvuVLi4yr1VH/vz9J8+WlLiITxjakc5LolQ1iZSsK6hfya8BHIN/Old\n",
       "fPeAWt665nrq0hN6v0yXGQRSat3zeZArlS6JdOfD4N/wWeyKLGthw+r/H/JeDD0BXqeQjrQ+y9lI\n",
       "EhMYY6/4/VQjMQBxZy27Ylqw65t1MJEqhXHRDkijMlUvWmwbO1lVHlse9HS5wL3hAAACn0Gep0UR\n",
       "PCv/ARaQnJeIRDk2RHqJl6yQESACH3k4rjcBQu2O/cbC6Sbzw0yw+twh66maNXfGEdfyQPSqidwv\n",
       "8kf/n8o/7zN+zCAo0ETK+8TQojHlrz39WbTGi7rY5QLVJz8swFAG+ZonDR89KTntO/gB1WWZtnsw\n",
       "MaCr60HAoHQK3vRawitaUaAsvN6qPozuRaCSnZ/wasRiSy0zW2sL4ba53kn4M2kouU7v8rUAGCed\n",
       "hTSiAgxwuwzGf1XCNZPyRXOTcnuXEdmBD8gZMJLR4A2viipOP5BSquo8pRbmViAiob4NZIbhoeSd\n",
       "0lm8eg1ZSwfbGT60o5/mqvsr4IhXNJmbFBtgn3N8YgaExf7f8czSOIlauKuZ6p/AvAExrWtUKNL2\n",
       "bdCrQPa+24xJ0EFnmALLJXdJkZr24UA4HB7q7xc6dbvYea1i68NR1dHHXqzt6qtC3Y9EFTfU98gb\n",
       "q3Iwlu4CRZbgyX+lgRSosDgmkV5HtWJfIAryoJXRO0Q6onVFsAMzQ2xmUfavUkxVV6V4CYMyYELd\n",
       "/B+COKByfsnnO1NdFzwM6BpZgkmCFfl1b/+9AU9myWnssz2s3JGqQIGLpqQ5eoUxBMmYM8A9HEMf\n",
       "soFE5HcLoLUvYfQsjATyOq+SOamQqhzMK9vOECOsSVAahDOV/R6bWRaKOOUBh2yf5bfdkKSqI5UT\n",
       "KBEBfjU2Kisu7Qr6DP3l+KazWbUatAYCa6kZjzwU8jMAgyAgmM/UqsuRsO+KJzSGgXmhSlJbXXRu\n",
       "NwIF0H06Jt+aRRrhqdst98rE5pGuUOsUPm1+dx+49SiX1IY8m8CGDIfmbx228JxQaRYhEmkSITVJ\n",
       "VBL9DNRtjJ6LQVN0wg2vh+Q2YK2eD+cYxC4eixOVQqKmfsIXXp0xAAABJgGexnRCfwFqRTvI3VnB\n",
       "kXp82XCXaSSY0gc8CVgATjUiJxUq2eU3Y2NQjMJxYsVzAAMZOLHpz8/yTklyQOlBmF2cx0M0Jtwn\n",
       "dAOVr8OdHluFbw7Mx8405sHkCdHdBb2JLAOtKPzDwP0DHI6c7MTn4EmNEWhGb+dg8K4YHZdtWZb1\n",
       "c1IFGpzDQzXOMzPEBInRzZ6xvwv0O08Fas3m8SaAGFqLxeKGPFXzIuxMOANU2f65V+KcZHQHLN15\n",
       "HEgm0zo8ClwDr6rwjEITv2MRfgQUwEQxc58gDL7dyoJQY4nxw9ALd1iNvtrmbGinYC38V9v4aQyk\n",
       "z2GFG8DWiC/N1Zx1jXzfeeSejV+Oh76wWaVtQ0rCH6hVFXQPhLsfXG1aSbj20qrZbZIfgAAAAPoB\n",
       "nshqQn8AtbJgbtJo+nxDc4eYijSglCzah4ATS4jlb57duMxYSJZg2jelSQbqRo+GA5GQQCWln+yz\n",
       "IVAmxGOy5ag/SSJfiDiVV5fFEWMCKYJoI+gVgr3fzEalXy1MVIaSQ/KnPkN9hV6Al8Ri5bPFw9Er\n",
       "j8ax6k3ONwRlUTor1HjFgPCwSrQIMiY1TshxNZy7ohkv8nR1vcR8zmHjiRrgZRj0J6qrEyRp6myR\n",
       "ArdH8pjV89Sl93m4vD18FG0RERdL2OmcSyqKXInVL6ZZihez8MaNy8o0vEJ47dwUCAxZ4C/39Wd4\n",
       "0zTaeWst8H8WHIiEzMihXlx2AvzQAAADAEGay0moQWiZTBTwz/6eEAFI936wbRmeN9s7K0ziOE+X\n",
       "BNVxTZTnEbXP2ByujJr2sDZgfsRmSrX9BXtV+WZNAhmINtDwRHIJzXEm8IduqW8xtmuXdKStSypU\n",
       "HWy1q6aOaQgMWVduwd5x+wdujdXW1S3P8CkAQvVIgkN+3COHbru4j+yxlYhEkWyH2umV9uMNEYI2\n",
       "KxLIQusX4qV+2YKo2ZezXXHfUOv6c3w2NL2kG5nOCQahbGAP/0zu5pyFGzzluxX8dIhmeFbHoB/V\n",
       "FqjoBNLc/PKHFAKhsabPBwagiuQpMJtLFx7dQjjEuRbFEeI/l54IhhtbXhTJhT5LJuTaRadJvQTW\n",
       "lTQU0z1W7qFMPXWIUsltQwHBsYPOklgYnH9nxZtyJrhgCKuS8NJW11uHlJbzwQd+ZDZLK8GjRjpD\n",
       "6K+Yl8AlPkVWE7HWWoNcER0fv32yicIQ0BC+nLrliD0yyZxS2hSG3OIU6Lgjs/v+lKYZ40jrguL5\n",
       "0+9jgraXU7zRstiVt4Q0sUGEEEZKNLRHCpDSKVpXwbx17qWLb8CBUjGYVOH4H8bcgElbZbT4e1LE\n",
       "pToi/AZweqOeH6pnkvYoNpd2vx8IQVWBZxzk6VbEkgJ0vCGzA86AMzG0d/NyI1L5E+KM8+7glFAK\n",
       "AbbZU4FPEM4HuOqI31Y4rJfX5obmMDE+kSVEZJ2V6q0NyYQ+Ccn4OlDlbsow028xClYBJtWIqRva\n",
       "WKNSprYUQjWdKtLUpYp+Ut9bTVP8wAvIFBOURMryEG08gGJCByo918fLk5GoHMg3ICXKViiZeBNZ\n",
       "lfPnn77s0Zng/iUSjXJ0x9xLa+W2yxNWJG3ynkBxWOJTwHynl15/Ob4eu3FnKskQfP1QOut7gUmW\n",
       "lshxYc2XQkrFj3IjEWx4Jbvm9MwlGT4ejB2+z8VoF6wKEMVvdqdbhz+mCsjKGJtzMH0zEjXEH1Mi\n",
       "TgVb+uhn39FVmtY0FZoDSh4eT7AIpe38/ByiMwTeR/xhuVPhv33mM5IGwOIeRF5g7Iy4+QAAAUUB\n",
       "nupqQn8AWeSKOu/Uci/y5QALWdz53AeUNzCMsmmzUBZ2s7K2Oz/NkxzbVx9D0msn4ap6iM1FbNWl\n",
       "jFJoVWw9GFgJb8fvT1Q9fJbPEWfI9U2d6VdMXkYpxxUckZ85pl96hfpbmm12x2BuSwwMbV77IQkW\n",
       "X6Zhyw/fFoRd1Zlc4drIkGEotAVwWsFamOZHeYDZl1A1hClsAu7TyIiKUPrCQRUqbWheOO/+TNG6\n",
       "53LfkMMI6Sf6fjt2KXvoQDgLOUSxbLCBSnUG8MbKa3S6xEdgD3/Wolfu/h4diwLe91Id4c8jQGnN\n",
       "dIFM8KR24uBmM48prlsT9Ou+WCPOSvHt94GJuDlihzYdmmstzIAsq2lRpelv3vcn/7h1///+uutF\n",
       "f1eHt7sq8c/WzeYUc/izpwpmcSYMXMgUZSymQkCWwo6jgp2aPT/PAAACKUGa7EnhClJlMCGf/p4Q\n",
       "AK17hHVTo9oq9e2YjJoAPHIOB9ickBMuVm2mLnpYgGlLvIpryuhWE+Bs0HYAtgqtJzXM1+i6yvf2\n",
       "Nx0Lf5R3Ftg6MJP9PkTAJNvGZ7SMPOJGQRE/ev6su94AzuToO8cl/9L1Fkuetvkxs0h5+92gffZT\n",
       "5yW6arlAsNGDL/KnOPprAgzar5kkvBqIJhEVw00tYinXF45JowXHFyaVtUhyLYpXGmfm7BI2U7g9\n",
       "FmPG2XJ/XrHWzkD42v1EBfLuCUFAUxvfLYAz/oxhtNj3A4nf4SUD5brP4nBgU+I5ylqEehmOtaP+\n",
       "U65LRTsQ7WWooE98Zyk9ZbxaUxUR6SLu3RZbgBchbem8t2D5HkiKrCgk25RGsfL3tjm6Ksao2ze8\n",
       "2mUfFE6cDDxCb4NMItJPHRhWjMyt3wbDwDm/7IR6uIEwgDzhkvxOprN0iNhgfi/i834NATU2FZ6y\n",
       "ycJXloQM+wGLi1t/pXB8qKrMMtzrzMkbh/jly7objtHdotDFH0InYP0spMRe7XKkRmV1laJwhG3E\n",
       "mlpC9RmjK1nwBxX/jrY7dCHLa/Gv7sMQ4toiCwual7UFO/lZrvbZGzxIuMJ9i20qvTmTlkqgOW4p\n",
       "EX+gA5j+hxY3RuGP09jij1qJOcTmH2xRzETzqGwh+BD0IckPZo2WVcZwa+UAJe+2k7AI7e3i0WWT\n",
       "MCG0PXLqJ8CF4ZNIOqhnQfF/TMfvzIlxEUAAAAIFQZsNSeEOiZTAhn/+nhAAtn9H3n+VL032enW8\n",
       "a/MDaafjh3LPSfKz6nhROYmCB+tYbVxkCBn7kg2p4sBCsJOyjkX+nS49lMjFoyUyQMW1nNrC8RGz\n",
       "sXLivqJCCVA0vS21XmksZG+bxTB22KKoaInJHmldo/VjeboEqU6CVhLL4h2Aco7uImGL/WS1mlqO\n",
       "pJ8WW6A2qv7eY2gBbIYOokIPN8OzWAIGIOpjhqrquB+6jYamjGKZk5GOs+b87T689yI7/knIy2wO\n",
       "T72bIUjzQ6wIZdKwoykWs0u+eOOvvL+WiP+0P9o9w8bDyF4HioMTcv/T+jfkVF/Q+nZQqs6adsKK\n",
       "7diUWjq7UfbZbIudsUmYkyjZ5WiasLPI2/oSuBI1z1O43/+cHUBt3qiP80HnkuCpqEGJxKc+qaPQ\n",
       "8hi00IU9O/SLsjktLZ5T19tJqtkK3iMx076s4aDUJRiVGR9zxscrk+m/NPvDq8MOyAEYXqI4I/uq\n",
       "U56Ftw9lB0nQwspS32XAAOofhn3XPzFoLWgrHGWBD9kk0MLG2VzTyzDciZsw5WYtpGnW2yOMx32M\n",
       "PBrm8I9OQr2IfBWWCxgiyXJuYJ5l8ZYSI43O5UkCUyttRT30hMaNr53Fdbj0EYbj9tZwGHIIqHF4\n",
       "NOVUgfRWZ6/RdvmrvQZYehR2v2bnfuCRJla3HPDr96HegQAAAwdBmzBJ4Q8mUwIZ//6eEABanWYD\n",
       "Ez3eAEtmk9fhy8qa5QPqZs1Gr1QhZKjxq8nNxHZPLrEJI5O05jEIgB+gFpHPcf3We2R3+qbQhF87\n",
       "7zsxgz/3jEud3w35NdvkNvoxqnV9i8XySMYhjuO4KMjGUvUlZvL5GtQh0/becHgPuMiN180Oi4/0\n",
       "AtUNdz60waIs5bXx5mHwK+mIrg+Lx7NskUIQo0JsyQ/Wl0z+Q6jr9uRoMaHHEogEqJ3IFn7K8s9W\n",
       "K5S7tKiCXd/0JA9LWPxrvFe/7eSzBSlf8mR6LSXOZpnisWVnrtxjXwAqjkw3c0zPfdJ47HNPrPfT\n",
       "Pz8HkC93woIVTpwe8Abe1Hrm14S3gu9w5pe+hreP7YYqIw0x0QnksFtrDTIvC2V009RaH5U1xDUf\n",
       "HI5CIMD+vZG+Sae9FqZBGJB5NuLTJHKuxAHI8E9DsUkITgjGscdreRUyukm4Kt0T6RYmSCRtA10O\n",
       "d1vc6TmESBddX7bUPMX+ne0ySI09pcLYYSTGRnMgDEa9fILpC7ETflwdYezypMn8bUYIIDX3gHI2\n",
       "Sx39lwG/YRJ8dXl00fRiEpCGSIF6cH++LgDF2TtFOckpsxaVvpsVGuaTq6GjtJlPN8MFImcepjCb\n",
       "7a2pvpVawvVHnafCoYtaheHUC5Efv4E5I8KZCTlnqz1qH4sI+/9qbFIrb5VhLuJHhJNLPfvaNL8Q\n",
       "2h3ndkk+DLtDhA5kwEsb0c2430aZmui6/TPxC12pQsi8CyWbTNr3dViOokfw+a/1YG7JF1br68Tv\n",
       "TPPS4h/6M1tpDbE/vZ3aKaq04/751OHE69tC27V++7Nzu8Yc+HtreS4MbQKcsOeUoTZtsD6UnZQP\n",
       "CW3BopXeXA56WNtyjaZd5lE+v1ub0ZlGeUagD+w64AUgQ2LZemVJaxiCQq+NrZ2nZDXH19TKRsFl\n",
       "BsrdQY6//ws65AbS5ECElFgcqFprfHPL12L6dwqZJp7wL/sMGwrGZEDwn8A8SvQk9PkisYCXhHwL\n",
       "edCEKCy+vzSxCMdQceKhAAACBEGfTkURPCv/ACSyQwnM9r7iy5B6ADaDFOIdrs3gNkhXDQsW6rKj\n",
       "ScQyV6P3lMsIutt83KVM2JK/K/sx3lHvuABCnHpLl821dfmej30OPaoMPNVCT/RI1iyrurPSsHBj\n",
       "cMF35R62OrH9pEBxFeYMiSoJ4APgCdvCEx6KImesMmg4f9bH/SsHy+6KgH2l268eTUuR/cW+uamD\n",
       "r/9TTBKlz9U3Mzz1JPMOk7TJEfsmaxw/CSNlTYtN9Ot6OQKxIcW/tPnIPIz7+Ct0nX7xyIe6yiX+\n",
       "6rEZGVBmm+/dfVUrNzsMOczcBj524jZjMUnIi6CHWOkqsQGSnb8tF/MbqPBHRwenkcC/zUwpfttn\n",
       "OpUrGlFhQ5IoX5pW/is98YKjgmWSTHKMSn5kzuSBS+p4Wkmg9dKCMbyktxFr4oup1g1TdzRNZz96\n",
       "k6SI4YSGvFc4CLVKsU8KD1eVUCCdd/Rcrl6FWRLTTB/441P8OcyGjZRdsmOhiJVjp3JOrED15pJ5\n",
       "Z/0TmbymHLZajY40Vuk0X2PL+O6j5bru+yb1NjmkNjZSwWE2qUFZLZj+glx855/EMiu7ZRvPhx3E\n",
       "FUkdv48KabXIik+vbpAuTHqoqSULinBgPHnffPsuya49c7FeR/t5JCiEc31iJgOkO77LMGdMAdnH\n",
       "6+/trLEGcZkO4ZdhqbO0Fj9rx0bQIQAAAXUBn29qQn8AGC61bWKkbcfp3A1IpQAQASpgPSW198so\n",
       "OxySEhl15mma7CNeoMRfhIsW02E8mg7dfo+gvPqbYnIqYLH5MErufZwVEyomTuDumOp+fRAtO4XG\n",
       "plZvuvf71v5qaNre8I/z9b5S5RnAtrXNjHLND5M0Q2+DQelZdoSMN3bUyZFN/jeBo6JCPymdndr9\n",
       "VTpxFDeFtkXdZxOiU352V15rmrPoDYSNY/iL9bcPMT9JO1juImYAiPW90cTtoRb7Zg+e3rGHrJoa\n",
       "p8Nkcef78JnIZXCM4BTnfstGIFABkY2e8NJhBRaWJw/QZ45XeGjgiKt6YWsUvBmqE1UBnWj94y8/\n",
       "A0tfK+B5rsFmoSMVK01Ct9P9NT+1O8vDyXxcM9taZe9Dlusc2y5voojQ1zDAi71IVSazaXR0+2IU\n",
       "vQ2kFi813EovtNg1+5GJSciXrEzamfxXWFOWQI3QZESLhanAWsDOzVAVtwc6qSR3BCcR/hUOxjMY\n",
       "AAACmkGbckmoQWiZTBTwv/6MsABbWaAdauQUABt4hb+VauB4cXucz3U5ZLvijwK5g8kLiia+50is\n",
       "aiDS4Lrwh/0iO3Vovc036s/DToYf0ge8Iy0BYwnRR2YzFEz374dZZHJL9wZcS01WwuZREHY3r4U4\n",
       "6v13y/uPksmTnO2dvIs1iF8cdXJf8uWFsukG9M/xLFH8GANC6hRzE7zZqzUjn/cL3ehekI0nBwKs\n",
       "G8GxVG6K4XQD96DnZdbOaZn0rlWXorkbH6F7pC68qAMrTOa1c9LtHTTtD+k8XHYDEOM011hTmdSn\n",
       "LWEl52MUL1+Tux5gGkMIHqV85kKWkvS2l/B54HIv1NsRAJXul5NSvBDNVLW+Lw8avXpJsznPSDIv\n",
       "FjfyRoJVupfvO3fBxPipGVFE0oZ8YJPpjfpmyW/+rt6ajUwyhLi40dIeqtd1CB2dH/uLaUnvqusd\n",
       "qXHJAttRQe0+JEk7YX2lNA0vjL/SOqyZEULQytq3ZsPRgzSupIDXuQmqznOI+okJOE/WmGri5lXO\n",
       "jNDVFTa47h9lugkbKcOgcBzctqJC1dMP4tfLyBZCdBDbameqrRAwXuVmsbHkl6tUrOE0N5pVzqb5\n",
       "Nkecxl9k4mGmv/S81DZ6AQ6MsmE+/8ohyc4b/p8lp1BTIXxphovlTPCsxRwMbX+Id7tShJXH/O0s\n",
       "7L+RwqBHr+Nm1W68iK0WQu7/bsCF94pgQ/D4DP0eewxcZj9fUGM7JbRt7XL6HcU1QHhiXNlEmOQW\n",
       "GwOt0t8LdYND1jI3S3irqH0+WBIUT0mg5Pvk9Gc3hvSQYRknNV3OP/uKpb9pFtt9I81JwXE09fpX\n",
       "uVQ1BFsncgsB/zwjRyqqJ06xye3mdB9RYc4iadr363Sj0qnfItwfk709gAAAAQ0Bn5FqQn8AGExN\n",
       "Zm761n7drTGPvXQKJogAhER0Baq2mMAtD4XzC8Dni7P7FXuGgA/R7FiD/IaT1zZNpfYCXKZrusN9\n",
       "bBhGtABrOp1yc7iiUv9T5omI5TT2L4vZIvHIqBUiWk5n35mzRKvlqD1rT5cf/7it+qcEXC29hdPM\n",
       "EArSEBmMLbp+Ci1AsvAIg+HDVIfPyl4rHW1L8iEiTT255oH+ZPieQgoHNBWxU5lp41GgSN/yLjgW\n",
       "Sbv16uaYMBJseszqwv1KCeYF7ZNy9a495aImtQuPA1ZNmQXQFxA7smUq87koe+fiyK8Ehuwbhu6w\n",
       "NZLdLiEc4/LcJuJ6+KDtS8FwU4M89k+KgXNFoY9xUQAAAepBm5NJ4QpSZTAhf/6MsABbWY9Uhiak\n",
       "AHGLD4Fn43Lw1EFeXN7ANBZDzYJ5MRYClE3No2m/cxvgPwkR9orce8ERFPYVtem/5WGvIhV+tejq\n",
       "xRz3LcpmwVkZBzYXKpT4LXgvo2QN3VOf2bbOzNYeLL4cUQE+khqK/kYkG5lqoYaqeqkvfGulkCbC\n",
       "6fokKlhauT7X9ok0alz2fzPJRdiZgnHbChLX0b6QFmjLVDDbACmufTNaVHh0YAkD5245I3uOZxYe\n",
       "c2JfFYz6lzawddqTIghtI2kejf9fuYNLN9e7gyF4l22ZYB5C559MykQH+mkSwKmuJbDsIgazfiD+\n",
       "3a8p91L/tYwmqJGjcrsf3JV6ufee5QBS+Oujd2WGPKIm2CYT/TZ6ld4IienKVPBvMU6YSIPqdspB\n",
       "mDs6UB/VSjtG1DVfuQMFszqQ/UiW64ebzg7DNS5SdG1f2Z7KkE9HQJHYkkYEKEEj+vfLgVidNo85\n",
       "i50eKQn6LKgrYEMyxL8BYLjArWNjITJOwOZDotk6j19cf5bmZISs5GdLhObiQES/McKI3E83/itL\n",
       "Fkns+JLrSuIQ9U9g67yF9xJe+nNM6t7Duq/wg2tgsbN79aZPXhoyL/lvNKuns91+3ZAPnQ6sCVl7\n",
       "if0OpOitQdALrFmQAAACFkGbtEnhDomUwIX//oywAFtZjoAHraSAEdq1XRLGR06CLIKwhlTCDkJX\n",
       "NXPKbT+av13C8wpaFh2SQNBOaWiQpE7SDg9Qde7LAbG1BneBzszSh+jz1qB9w6Yvw+8Vz71wGuj4\n",
       "GJj6L3uXk5igkYeltMlMNiafZChIO5eQReN2VeIMm2g5+0gZw4jm80oUfWToT7QiYk9upQ0sCnmH\n",
       "IPwp6BkquFRwaepQ3S5XBh3PG4xt5QpsfAWrxFW6fDtPcB65TzvPpM2l+tyI6BuDLiIx8SqKsSxE\n",
       "42Oz2Sy1XRn+OiieQonPrLTROQC3h/Egs5n84Lgpu9ge8zdvw2+rkpwAz1tbvMYoY9jsd/wKpuaa\n",
       "XogbPWjZM0N4sbwCQUgB7UTvoZbglQOCqrBZbaRil31smKmoZ4QHQ1TCzFR9npEas32HkDsqebG2\n",
       "1DmynVoo214c96HfaSLWf52sdexeUgNlSd1ocRkaXge+94dMB4xSCjoRl1Aq7O5pl/uOPfxVZqM/\n",
       "xc0KI9CEPT4FF1RgFWE3kEiGPBjW3+dQSldVhlnC2Qs8gbbvHcCFq7yZ7bslimbr3YBPHOv8rUx9\n",
       "ehjxj7KqehlyO39ujcWJezLDIXzQp0xMhiafCTow6EKFrTBn/FVMyT8L4VbxhowLlm///eh4P7Qy\n",
       "w8YUwXAKycqhnJuICD3O64Jrl9/Sv4PWV+AfBDcdnbyiYSQkygAAAg1Bm9VJ4Q8mUwIX//6MsABb\n",
       "WY6xqB6SAEcofjaJMG6w0S11vRkeau7tYpUms7hkId4be/IfUFbWaiac8Xoo8JV9BCLhY3rbtyGo\n",
       "8hQhVq3/9CPRiZXRb7l8deYDUCVZNaeV9iZqpM9QPBx53FfC2NO02PrZay+hDXCR6YGGsXW/RVOb\n",
       "IvioQ8YVIr6PRqnPzIIGgSWmM9wmuG04D9lbX4OewqPOmHdHSl3qNxpUiVBcyatXYpmmBZoyMdDy\n",
       "vR/WwnqKn2Vua9OL9OxIW99nXYM1BFahlukitW5WYNie+ltII0/Ak4jGzwDTJdSL5NQAc7sa+Zcj\n",
       "fqh5SedLZd0LZ9pnD0ueETeiniS0UENxA2qUQSAyBQiGFSwQ83GYQUWjkcFYr4JCiEFPOwyNQoGO\n",
       "wfarqzHqSiOSJxET1m1VrZGlqPTBTm+uFYTV7A0U6fkIy4zs2IKgWirtn0VqqvfcHW92nmYPLpXa\n",
       "SJYIfxjakRPWHsdrfsDbVaCJZ9EX2LlcuImue9SUZVjB/o+kQMkGHLPNK0/Ct9ajC2TKsYyXKepF\n",
       "9HfAHH2/tMy/kLlZKitBMqFtD5pj5/mIAiqyOkP9vlG0YiH22MIdnxKojY9LLI3xHz+4vnXc274L\n",
       "LmNU2M0oiopOhFQVpfHU2DtfgZDBJoai2BMf7yTwOXTTGOl5OstwKcM7GhPxAKOKg4OsnXEAAAIX\n",
       "QZv2SeEPJlMCF//+jLAAW1mOsWmEr/kAL7FdzxjhVZmLmmcnPjTLKeRsNmsUoNFfpUG/MBkarrsv\n",
       "yEpK3NIbO9rRAnDp3clS/Q9T2Hwu7g3upbARYIW/E1JgQR9BJDpaIGwGQ/EJXoYWeZQTVOHY6WAz\n",
       "rCuP3DOya7jnCcKtRkr2TBaK8YToMbvpYt272bqbQnNuFTr2sixUOEbmzMO03Qqcs380Ah5dzALb\n",
       "pa0Xuo+XOHG6SlhkCqL3Onyp6RM8IyRSvh7iQOqtgiatJXwdawIjJ2Z9xHxJGJkWb0SScDcgBZSB\n",
       "3HJS1FD2f4NgyCvIKRFTkEl9qG0Xh304HJbzRvVd8AsiXlrBO8pYa6FXzzixfIlSv+iv9oEjfYr4\n",
       "J/Fm+yZDwa3WmstNcN8Om5LDWHRDLoD3eIabEaNiUN9iESWNuSie+Cgj9dSFhndnGffvPC+P2yqP\n",
       "jinzOmMNsENaZazPCCYrY+pP3ro7CFM2e25EhG2cpGDNn/XkVGl3TxFNI3i1wT/OmjKlUOR4Om0N\n",
       "xutZ/8LZAQQ/9VgCUloq/mC2zpak5R+rEQAoMMLQQlMU+NCdHbDFeJ7zYdPPe0ATn2V5PDTwM2ZN\n",
       "M3iptv81bZRgsM0/Lyk5SX8HcDyWRxNhp/aC4R8svlLgI/DH2huS2+wTxlumC23ywhNBku7/hqRf\n",
       "XNGJIyH+iDo0/rCIRzf7a5gpGkGxxQAAAg5BmhdJ4Q8mUwIZ//6eEABanW4atgiyAroAio8WyyzK\n",
       "6mbbPRyi3O8i62G63gef1LLCBRBUZOv0XoCrab9dur4cXdm9fk7ORrTUwRkDQiICWEHRpj/OKzvy\n",
       "ee6szmOkKNbXRVZmfeES/rXRFJgz0e/y4kuHS6p2tGUZPfI9paL1Vmu5F6Oajbf1dced1+DKZEav\n",
       "XkZBn0umTctc+yNzNDDBJLWkyHsHz6I9YTbAor8pALg+ozx6UcYqqPMGKlbl/HFWCEXUdz/Y6FLA\n",
       "zrqn2FvARhQ/Uqpa5HLMBqYEAWGKsaQ5HjietgjusTTpXAEQXesIiaPYFtMDEUvkl0rT+oAsOBpd\n",
       "49N4KVeIbbRsN2paAb89G+XXqQDaOp2Rx6H8jMl5MS+xJveuJPlq0OAWBE2LaQvJutkzXGalVgX6\n",
       "Opu6w24Uh1tE4mPyawrhzvAyPRSlBrfHJ4vb8EgP94WhPucJ32wRWg5YWzxVERmHAE+HCfqAk9GS\n",
       "d+o5dABp72FstG0dAoxPLJMnmqbdDZFCyCesiLHT6/dVLEypsdQ6peC9Qb+h1U1nx6kB73YRNGGv\n",
       "K5divmCMjKvkSVI27Djah/yawG+HHr7XNAtPZUouYRjWo+lHP8vMBVt9ZSBm67gYWrQGwArpXRRZ\n",
       "ucp0nG5sc8olvP8TK7AFM8TIZRzqkukeZMP/8DX/y4lyD/mW+wKBAAAB4EGaOEnhDyZTAhn//p4Q\n",
       "AFsO9shoYAVh5M7OaK9TM6Wpy1/ZD9zLEYT1DFjC0N+TKKLmN8MsJfJJ3cYlgO+JzvPMEqgAXXmj\n",
       "RBTAvTuWudNhP5EjlYujawViAgYOaSKXSxp96NyBdPaVgCuF3pSVmNtW+cUkCoXdAqX1fVx/a39S\n",
       "6XzgbSl/qoVHMQS/ZHXCc/DY55++XgyCRLuKon7bUM9j+rRo4CaBR28src3D74MWqdXyjbWMoOyg\n",
       "mIx5zQVEQgNCO7+e/+WcbR91SbiRTOlMY7Gi05GM0CN4iuZZw8wvnlCLQL248K9H3f4Ams9IBQPl\n",
       "voiLJPJQHwEkV1nk9cLQ6CPdJTpehwCXB0pwMM/x0ur41cAAjqpk2vRbCjyIbtYPgM23QCy6XlkI\n",
       "8kscEgjo0rERt6ULM+kcotT/UnR872rt0/1Njk0fnkmiHZeA/2PtSig/nnPLO9eqpPl/AM951OMQ\n",
       "Ehglolj+JXrcqhHTTK/whQ7ejQcyQo/7U1FN/M/nUn+b8RjQB1mj3yTYS7EuMtn3cBMxbsoTA4XF\n",
       "XvGIlXQkZ1+91mseKCVtTXwnbJCYRT+uDJZGrB6PGpbBhwSuBoixePCXOAM1HnyzD1PZvqqwTbYf\n",
       "Z3n6r5CvuSpcqQAAAdRBmllJ4Q8mUwIZ//6eEABbDvaA/jADi69NeFaZRe7JMDPr37g1zpeqYAsH\n",
       "xTw0mxRvwYVW8OmoCMsK25fAgSq8Timx05nZaRGJaidw+Vi6uQ3MsQUTZiAvM6U6MJ5xM2wwRzPD\n",
       "AVgpD2IZqw+XyKUAVHdm/acJjlipYjZitrxIsLuystU9z1sqdmicR0mmYKJgFe99Hu0Ent1wyNzH\n",
       "ZrNtGNlrXTMQzQZ3hZ2dCb+qYZTwqnfozfqHcLCbMqIfSauf1rKaddvbcPh7N1/+X9j/vj9qQ/p+\n",
       "2oNWdb3CH2yo36yYEOPiEVBjOGIOVBG47cXPpgu7Obe66MuKfpShTT6c3vXUOOYRCBlmiA0Dbsts\n",
       "JCDn9twgJG7Mqt4fci5ZQh3HsGhKCgUaiVT7uNQZxJD5bSQfYB4MjL3itep1IbRkRILxR2f0Wmg0\n",
       "XLyVzQuefh/rS2HnkY43qyh0EfTfhNPSgc7YiME11OuSwJqOzkCXeRtjLZlfhJMS6hhPvg5/xUXH\n",
       "nJcPaZ57rv3nj7fcdQrSIzkxBLUlcfPfGnuL8PQjiRHGdpWzg5slwVDwmrvum2ZQE1jcrF65TTyf\n",
       "oAViIS49/VG589jaZXlDNuwXiFJ/1aEJhkAAAAHoQZp6SeEPJlMCGf/+nhAAWw72lHQcAOJqWQWF\n",
       "e/bcqfWoypDWSh9io7Xqmxpobe1Nm+w/pJdEknMuYIE4XljCcyyK3UVDJzy+IyMZmFy5SCgR5Q+D\n",
       "KTuIdmjm4JUa5tw7qErVAyzSK6Ud+bBWoCZtwqHTjd1Abpy19lBIZHwdo3z5bXrN01yPBxoxY1Dv\n",
       "3eNHqlJ2jzqpjD6/G5akDLZ4H1a4O1r7jKBWfLFjMOZ89k5QvGPkdN1VN+0HCGAxDZDNb0Q1r5Wy\n",
       "OMMuBOQujiIJmW7LfDGAcyrehGnRu0wYYaY1djxQp8tGmnpKF9Qa/ScV12e56HGSzsq2HdZCbypE\n",
       "r80d6CEzPr785IjpTy49su7TgCC79i0vC4jrNsEeCsV828jFgKa9OiUuzeaNxXD6pSAP/BNOq9UM\n",
       "JX7+U8XjEYcFANDtFrk/AD3P3/c27wqDNkSGFXJG80j22Y8XMV2y16lBQ1ZbINmycVoKwVHQz43t\n",
       "c1v0mJZqJ8go3/1VJKR/KkAfFqLkfcljOQ+zjRD2z0K4t525CAZAJ/BhzqIRR/rnCicgWyHY6jmT\n",
       "3NsS1AQHC2eJVK1oubkWyoXvw0vjFrwXwRx6v2D/s/kVvTYSsZuEzAtpyXXIjZ6Toe68nMLG2lod\n",
       "oKxizdkAAAI+QZqcSeEPJlMFETwz//6eEABanvVifkhUACgXnJ98Gle74hGg+gqvA5Q7XWiv7ptx\n",
       "ywevcghX3xdFmtlyi7Ek7HpebczDYbHKh0nxwB26Ola+LUsuXugxwVIU0Sa4aH45iSRnQd4agSUV\n",
       "M3zZwoa4Pqtwe983sG5UHrojDl3G+LTbIed7aNlwFKdbX39LuUkMhv7z3uU3fLQTvqQ7stpuyx0w\n",
       "jUMcN3qnv2uL/iT8+U0zNaOHn3+iw6q6zDpjUpqAQPvzJxtQtx5j2koNa6dYdBj5G02jo9jLhO17\n",
       "0OnfajIds3DGOcEZbKVj+2Kg8JQ/0K2oaY+cmoqRlA2c2wxpQfa2tXCe7vFY9rjpcYkS8zWONucI\n",
       "t8vJd4tuwzizTFTyRxQPj6I53OGU5GAIiDUwe9pKzZLwZly3RQOh3F/fXrgMjEv1wao7FgCP52mJ\n",
       "pEVMB0rujDLEG+DvN0g3joPRfE5o3/GcXkCrnZUfqmxUDfZKE4BgIONwKTHSnTAc4EPNfcRaaENw\n",
       "lhUjudS2nMPbs7Pa4SPbX2DpxCypYDhhXHyCoZBTfNFnlDLyymxfl7qNvzkeuszV1hCATyHc4kg/\n",
       "ev1Dn1etPLubkfr4nFRGwDijaDYOGpzjjEEPm1MIXDiqJ/2fxuAwOIEq+V977izI4lewAUHrQQdi\n",
       "KCHOScfibffG2lPE/4Jw8W+aUu/+2Y1+Rd3UvVWkzWE1ucva36WULyetd/cSWEp1uc0aGqzJkiqk\n",
       "j81g8EvTxiO/W9wWQgAAAIIBnrtqQn8ADE0JwAhCKcghxgs3B1X9tlLNDlBGdVyr/eHE/XaQmyJe\n",
       "qlhtSa6lHXB6nhLY26SAVH3TPypMqJyoTfT0Nafb2kGfChysDhdMgI7P1rbbrj5oFkt+qeXlD8Wc\n",
       "Dv3ysyzUq/83QPzV/WMMpgdt27FgJtVtaIvt3Sy0bI1nAAABoEGavknhDyZTBTwz//6eEABanvVm\n",
       "SSgED5wuUVQSJEyM58gqVWwnsyD2QE57JJ5gxcVOlsDWcpRIz/x0JFNMSAZcUVfELG9YrA8tFrXy\n",
       "v/k943apbRXHg7clH8Z9zQJrFJeU/D2vwZis7oDzNptmD2iAEgCpvV6SOSISZTgt4wn1EV8Uko1m\n",
       "Dr8UWPJ27/8YGERLFoihNtj1UVlkD7J4dNlDsZ9XQLUTPI9EsmQA16fY2XeXq408elpVCGQFZyT9\n",
       "1kb8vyShpoD5/Gtca9wIUSoEROycr9tbX1W3JoCLPMhOL1OwL4C3AY3KEMLUh1sZlqg26/vcTcEl\n",
       "NVJW7R3vZTH2EQ3DqLap3cBYz1ClNnexPsCqVxpRKgU5mCOH8DmXW5wkaF7KM4V5fL0nUoZ8fMkw\n",
       "dNfoXBzrtjAKqia9R/+E/2bOZZX6mp/tc3/os5tjhHwE+eIFvAS+2M3TI4rh6Bkmra3+AueyGSyk\n",
       "ZHXNQNMtZDWr16ptx/GWS1qlX0L8g/zAx95aNKx5cPUM/Nk7DGdVTDVE+nFvmSZ+5ydY9kmhAAAA\n",
       "lgGe3WpCfwAMcRqZQ3P4ljofmzX2AEP2xBOGZhArdKlIv3z/BVHxx405xJK24MkmWpJW2LEbVP1D\n",
       "7a22/9nx0/TfwJla3c6+QaAgYs/FDu2ghhMG0UWgaNb7lO8M7cu0CDGzCOPUTDcO7N0hRU/haWxh\n",
       "E89zXm5uFT5Is34ahY0H4ZeVNrkvjnxThg8O+TmVE+OGmfv5IAAAAatBmsBJ4Q8mUwU8M//+nhAA\n",
       "Wp1ra2SgD34oe38dNvBL1ptRqeC1Ki1y6qH+bEr+qUHSdvdKkaaaqJsCPl9iF1W/adt1PKt/WcX5\n",
       "80/UsOcX26ZMpbOzrRTYmmDPbisr+MzJRo0fyJ4fMwlXG5yMpfXmBbEsmfq8pxfuYRoOKV0C2Leo\n",
       "iaDomsOA082rqnLfT9bNIvv3QK7AbvC857SdVjHSaGeEiJDrO4K0Om4J2wF6Pdp6BNRBFjkxr4/S\n",
       "tzZFj/J9CA4aLMeLvqZmhyMn6KAhfdGT6DmEYHxpjZPoVWD11K3qSrb31POH9jFczBmZ3c36uwHm\n",
       "fcV6KQQFUD5jBEoWuzSAJskvH8gJhqF4p8Kvu91kFSfA70gKSQzQkpkCiSVopqhJs8aE1RUc6FZU\n",
       "kpmKE2s+G4bsh+xwNUj7uZ/Z665EvTaJ+V7kTUYPQ4ZC3Bu4x95seFbJxjSkYxxvT+DQSFc+JTzR\n",
       "WYspK7KABbwMzLSl8SrfWa9rKCOfnxedHT8aPcUSwj2emVplRmNV2Hsw3ZjJMaL0XOVDmkL6b/+D\n",
       "Bx0+uYEZXRaOtHfgAAAAVgGe/2pCfwAMcRqUofQgA/gv/GPto3qJ3jRqkcgpE9XdqZvjW/CGZLCo\n",
       "85GbFwyaN1cOA6Bvxq0Iw+D69ql348qQK/VCwkKOmwppLJM2WAT92wswUsNBAAAA2kGa4UnhDyZT\n",
       "Ahn//p4QAC1a0kgAXQVVY0HUtUxF0yV5eWLSHFiOtXX1ODsT6oU0Wsd2Xi2OKqIvOBUEibJBrkdf\n",
       "+a4LsfggIpPE0KZ8TnKZk3ip6zwpXx/A7APMxDPxJ+iIyVHwaXEujesm9C1LIyFV9GSsEF55nAfN\n",
       "G0Ko0OAfKt6g3DpU3eUVRW2lLeDdtnie3MRYrog/ObbyfdHVGBAe1ctCTtFwqPC03nAb25RAxvhj\n",
       "+MQwNpMRDr6y6aut/HpcnvNghxlStVQWrfBLM9ynU1F/3EgCDmxbAAABL0GbAknhDyZTAhn//p4Q\n",
       "AFqyrXAH+jU3es9rXrDbBSkyVtmbsj1khfLVyX6N7+bkZxt1giitMPr2x4sOHYxa3aD+gatwQSyr\n",
       "FnZTQa+5W+K8pZuXA55QanKJTUbBZWX9t2TzfSmR8PfHLYgowCd0Fa83SKKUcT7t6dRukdQtqheQ\n",
       "OjFi4s7vfwFXSd9hZ83Apw247sUonEp4a53VkQdMILyt2NZW3TgQ4fPLueu4eezmXiwkBupHXAmS\n",
       "sSdlElL7LOiaS/QbWQGRAph/XOzTlCagv8nISDYq/1CkVqVH36FTQdrFzJ1cl3LbIZlKhDXyIpbF\n",
       "/B9r4r66qzGWgnMwmZcoa9mcvPzVJMWF6drwvLQkPSCgMId+GeeBS3Tg0SG3E8CeFHXjb2/j6cxL\n",
       "jJm2wQAAAaRBmyRJ4Q8mUwURPDP//p4QAFqyrXAH+il/rUFMwIDlqlHVyy6MvwlRYEcO6w47ML2z\n",
       "7wmhaF1YiIDdiw6/kF7vn0ensd7U9dL+W9Vq4gwizPedQrvKzdOfIZrgOBxpVoxK7qRyyaySTH/j\n",
       "jDrOyxCsyB5VGkOYZrTjdJVQP1ytq4sE6+G4R6urSZZCV4pVd8/IoX7yHyg/5xx/+3mIeJxWXRZY\n",
       "0foprGL/lJFBlkxxcRElppkfc7Afer/940LCsIePzQfaVp3kWmfUrC/owvhWiKwmHDOAgj5FeLNK\n",
       "VMwSTiThXEpxP3GhpeRS4kBVZCNEBnwjy+uEf3vVfa0BTR6jc/jM9VA7/XAgm+/vK2H+gcTbaWh7\n",
       "cmTD4dUGoUR0Oy/o3LEpUse4TGbjU8RhMcM4Ud8AIKI38fpb7DxLl0jJJYV1H2B2sA1UmoW2YJyw\n",
       "sydIilihgy9gB9JoPRc4MrR0fGc7Ah6d7nS5gu4wdZGjoZ/xE/toSwde58vkIdgd77hyzlRGnPgq\n",
       "qUQI/cRGE1JoV5jqsq+RMmFzeS43nyDWAJ7fPKAAAABLAZ9DakJ/AAxxGpRtufc8NQhabUtQAbQx\n",
       "ubRc5q1hyEwdAwcNoEv37Fqs3ITmIkT6txdUkqdHVBmuufkz1WevS8d4Z1aA0S0PWzgRAAABS0Gb\n",
       "RUnhDyZTAhn//p4QAFqw64BEbMX3alq3evT7y0iNUJfZw03p6x9fFGx2A0HAT505s1PdMOHjfN5Y\n",
       "99wvMVJTSVJuXu9LannLi4aBwgk6IhBYbH+TorWj0gWbaYwZ4gtVSrQXV/0deJ03oGt6T025/Psz\n",
       "uW7QS0r3NIZlOxI7FdgUBG8z4hVkxdkrogjEbqIMdSxGgBnTM7fzEo47S3YQEHT14UwA0/z3tRhv\n",
       "/nuQgql/NnIHY3+fDtmyIo7jNWT8lefJKVnnikC70UKWN3jUZqxYt9q19oV2yvbx8vDmlbeRnU4c\n",
       "PTgyLvvyjOVa3DPNuftvAfgXEi41fSosLUAcoxfqXwe4X7tonEQvdntC0fge/3ZO7vLx0lmN/k5F\n",
       "uFBlBqrHQk+GCY5WU3HUd38BjzYVpPUSizeFaRxmo/Z1qVnKpnb8BNAF1CEAAAGeQZtnSeEPJlMF\n",
       "ETwz//6eEABasq1wCEMRakUqGHx6amPJ1RRbCGn5bFbaA1in1TCNzIaLmIpNRDHC8JX0xwKXUShp\n",
       "zxZivPT/4m07m3aBX1Uj0K1NvtMpYSMgSOxiXqKG6Ak46+SogosEQSkz3UHRf+LhITqSf2GbDX1D\n",
       "5k1jVP0MAhf0kvg9FU2eoNCB6gnXmQEY3HO2GDIEnlANCUrBxzK/rOW10mryRtulwKgPQT1mUOYc\n",
       "JD30NdIFlcefYgen39mD/bi80Yd7tK9j5YJ/WLPFg+8sCS/bnYTaK1UzbvlT1e84w42M2HG/6Dau\n",
       "dx1iXedyaY1bLJNNfb+ehwILrnqRGiSEqGJ7zh3Npj+6N9aRqleyIegLyVDr4Hxnz22shlhK/MQl\n",
       "peB9HPjIfhOtEpemdbsXxiDT4ut8CQoJF0JB43Ul72+YSsd4yUuTMd6dmOlwv/q+Xh77fvHXUxbX\n",
       "g9cgxEZIZf2N601Ggk6vIagM7Y9hco1s4GzUFcjtq77cFZruVxMU5amq0gJiUTauvDCDmszFvfbP\n",
       "/3bjvGrJAAAATAGfhmpCfwAMcRqUbbnvgkOpmJpSfXGuboAIffPsfPY/+VOFUcia1fNj4T5S9GEk\n",
       "Uvv2+QzID5nJGdazKLXQxq9PJY31L6BlJUI9zWEAAAEdQZuISeEPJlMCGf/+nhAAWrKtcAf8AyK5\n",
       "+e3EWvpeMCVYJ3eWpqSGBDhtR9wFiUFcI8+45T1E/kvUTr1ROMTp3Rk1hKSlhGVQAU9avv2iG8E5\n",
       "v9K++ItArfs9xq/3lkw45U7eyhfIpog/Rw/TeHJp+ZgNvjx60TYy+zHd1skYFqCMUW1vMqZTe6nF\n",
       "cX74Viysj/irNg252ycCDM3WnIVAHcZsCWb2A73aPjIR8/PdlsGe594BNRUYrbiDElNF2dTnRj1/\n",
       "PSzGlu9KqLOntNgckhXmDimL87S0H4Omm3vtIdl+V3JManpHF6rwtyi7ye3VBqEQlKwSNVA8dY/Z\n",
       "PvUs8NDRKIgcInmk1kdsSi36+QNa/6IRQSgUkLqOHJGQAAABXUGbqUnhDyZTAhn//p4QAC1azcAA\n",
       "ugqKodYJXvYK8mulLs1MivmI+QTUMK4L6UnAKuaAvpZgBqq9xYUtUGCK0ayYPcOJz+voBywpipG9\n",
       "40lPmPxfdOV4DnVIFpOqr2kPYcb2R6/jVXPCpT7TaICruNBWdupQzsHx8EWeIRh19OdpwNe0hNIs\n",
       "QT2ea2FTzj2d5Mef1U8ksHX+YEdCJnTqAgQofcFI1OXm0j1UJasfxCfjgdzzgHW490ynKY2pYj8H\n",
       "2t2tT4+sMh2KqkROx+ZUaNk5goS3Dm25QOTLbNwv7CwlEtH5l2HielH1GX4R2L+A5RtNXtHXSGXN\n",
       "0dQukfZFr3FEXU86tpSb8+/vReS69nz8dFMc8iKKloIzA645KH29mtuREVkmIy4jXUa0M5UlfaAg\n",
       "Ux4Vb6XGJRl5GHVa/krUrLSEq6jE25Fka0SqdsrTtkr2RjY5vNeRBVm47uIAAAEKQZvKSeEPJlMC\n",
       "G//+p4QAFz3sCgDmAnfPfaoLuDHRNZ/MfkpziTuXJOrrs8jfc3Xi3WsoOt6z8DyQ0vhFEDfnmKCO\n",
       "wlWKe1DMywcmfsMwVS0pDiVFUsGGRaiOLFZNuGaLg8VvzGxRXCzIBSQrqvqwE1UlzdGx4zTbjckW\n",
       "5Rc12JvANesxKfr14spWDYnjXbA+Syg1Uh2+rGCL3kj+8AW+WlnzSaLxkCO9mxhfeFwP4jugmtMm\n",
       "y5kr60FOV2I/FxTsk+VgaqiRo8Ntd4ZzsFo7AFoV7h9nDwd/kbXbObdWQpiKZtzxgfE8UR9A0E2n\n",
       "CD4MobuGjsRjpnJP5WFxZeytKnrJf1aOCc9qhFEAAAHwQZvtSeEPJlMCG//+p4QAFz3w6ADjEgOu\n",
       "xkpKF4BsXfRa8yJgua8oOBMVsyMVfbr/cq9dVVv0t5mIydOmVzGcJZbzD9Iry0D1aU30/5laEtcX\n",
       "sc/5U5fkYO3g6sGoW5QWwlQAj3QwrEJz0bVdpJRRL2DHj6pQtU1WEIBjdGjDRNZ76N/dTx9Bk/wq\n",
       "kIiGgAysrpa6LaDNWSEYKTkF6XSNrwrJ+/T6PC+tvc0U9RyfWLEnJWERTyvKLOVnvpzJY3TetcdS\n",
       "D9kFFwgdL8JZxnsL9dpHFc5Cy491Iun5FDPf2iAHUPkCuDi/W2d3ugKuYpi8YlDFbXFiud7r7XHp\n",
       "5J156KRz6j0SKOaJ1wF0T13qQ3bbI0IJHKx4gQRbkY6JGtoU+TO8JckKtcMH2tqAD7Xf2EimbSfA\n",
       "oiGFkCVdF4t5+OWsn6lFaWoOUIsXjk4JTMKp/Kpm4y/ASzO8ACE9I+XUSTt45PFJLF7HsERfVT6g\n",
       "WUdQqx35Xd8S5SCt+09OZNoXR/Sdsdjt8QRtBb1ektvgFtY54/SNnzqSMIYbI5DfxNYqlcXMpkZl\n",
       "uBkXcJtS+RToW4mzjoGlyDRwmaEbxyXrKQeULAa2+/yiT24cSaBMqr7FlEjiTubseCd9XpGWce59\n",
       "4hmq7W/gA+nlqrIT5cbEgAAAAEVBngtFETwr/wAJkvE77fpjsew+x2bc09x0ABOpui3yPLUf8gd9\n",
       "Bq0yLAY+9P5MpgsmTbn41PgW42USexnWkuGrktaUnUAAAAApAZ4sakJ/AAyTxoikWuQFeSCZR/B8\n",
       "AyCgBJ9TtvrePeSc1BKC7TwstbEAAAGjQZoxSahBaJlMCF///oywAFty7tgGcDPvwpdtXrrFXH+j\n",
       "6hSMPs0R3/agUrDhvxwYGjllJb74UWQ5TlHvru1YZo0/COqBiygTVM1BnXd5OlHcFhQlgm0WK/r2\n",
       "GTraB0K8U/47Q8m/AwoOgZ1TzPsbx8lJ6p5qfmg+xj05HACr1o6buo/3na2jvW3W0QXKFJgT97V/\n",
       "btf0qhBfoi5XAub61E4Gre6AFwv+gZ3A9EFCFAUuomwxF1bbmTsyP/mC2pG422SjfNPInQdEhbBL\n",
       "m2Gs9h+1/tvMsmtAxKRR5ZGwPq2xCCm9+RBEBfoT7RPTU6gFSc1+12bjgeG/HLZVmHke/194uGZP\n",
       "TYmJXVfs47GdIXYNCllJYEd+lR1lzJ3996E1lE5ZFerbkqkNu7YE86LlIEfel984WmWn35rZLTR4\n",
       "aA1Lwe+/KCRDqdzln0r2gnnaw5kq47nyS0D+QLnN3IH4+SwkPW46vywcUuvPGhBQRTZVSOO3/gEY\n",
       "FezNpWNQJoVy8mtVunTyrctfsu/c0ewvuf49DI8fJs15+Y9lMYUnn1RTzMMAAABLQZ5PRREsK/8A\n",
       "CbBoF3WAGxJXnUeFm5ACaeXJDt1WtfvOe/KRFpHHHyZHxyLyQua6SbU/grzq+pvn34UHraAqkjYb\n",
       "fMgCYw/8PJaBAAAAJwGebnRCfwAMj5yJRZIQ4jwAgXapsBlj+foWD+wlvTXYt3/IT8018AAAABoB\n",
       "nnBqQn8ADJPGbby6z68X7v2J68Bgm0AAMAAAAKlBmnJJqEFsmUwIZ//+nhAALVrHUgEsRp3dO32/\n",
       "WS0Nd3e/aNXAQDSlAqqI6lGmhUhuy2k5zBHGJy28/kU6w1xsve3DB/SYfBnw6vaVPTCV5Ws6dbDb\n",
       "HR+SvHzC83N67MEonq5uDED39kEqgZHEL5dpJtn4tZf4Ynm4ySLAn0UqUu5TYC/bf7A4hwPYjMTf\n",
       "iJEVcv9C6MGfibWczHs5ombZJ49WvugL6LfBAAAAoEGak0nhClJlMCGf/p4QAFqyrXAH+itZOCdh\n",
       "RKUxLfKqTcZTeiD9sWXuoUPMCRyBMiBEwgAK4Ew4ZxuxqycM5ZQI31RPum5TtzONRt4vFA16ofrF\n",
       "1PgiFqqthWt3zanHlCcCkOhNxRG6vt4pGUv9kd9YJwaRhbC+R8+HiwriOKREDb5HP/VEkmibxBFN\n",
       "6/t88dZXmWjveuXzgJkmN2I+7IAAAAC4QZq0SeEOiZTAhn/+nhAAWrK+OATVap0/fMBDp9hqFYRF\n",
       "s+Hleqz17mWonOtm5H0BVAFr7I7MMNeJuqlKmn3O7YDXRjn0hjK4e+K+9YYvQxsRNGxeAUG38u3q\n",
       "zSEzBGz6JbHbvCc9MtDNdZUncqfypJP6k/GvqUM6AZ0A7/Jvcpue+IUMwGcj6Pkf6s7PEPNLhON1\n",
       "04K5fUh48jpEWiZ6iome8PWvg39K5VcRLR9YETm0oeGvWYyFoAAAANpBmtZJ4Q8mUwURPDP//p4Q\n",
       "AFq1jqQCasTvKmJ65zlFXf4OZvzt8e1NtWekrCt1+I6ifzoaAM/nO387B1ZRJVXNZtg+qER0YH/d\n",
       "o+ogMaYCKo9Qn8cWo5D6xnxheSs/pq2FUQJyvF/dqcmMKVNG22nEu7ZnJxlE0jqXyks3VkkfztjA\n",
       "NWAzzQ6MWVWYLrPPxh672CWA1t5wIbMkTBf5Hbkqwf21Owi901DTaigK0y6QHRVaSMfGOg8uyaT6\n",
       "EsURGofJPjcdiQLFyZhKP9VQvp9B42qjvHokW3zmgQAAABoBnvVqQn8ADHEaki+NnzmEXNrCAEQL\n",
       "U2qJpwAAAKFBmvdJ4Q8mUwIZ//6eEABasOuARGxcERKwA/qBVR7rty6m5rKFeZGx2iUkHLHTfQt6\n",
       "82lcxcIeNp4YmjgtKL7F5d7ERpdpsjR9xu00PCxcyYHlOxbQscrTT+0jSfT+d++6Py/dYuBWvB13\n",
       "0KhNl7Gi3iXyZ8Xp6/G55M+arBAwJPNPDVJLWHVgr3QCkxWn6eX7lHK/Ub3wMxD3PCV5xOpWDQAA\n",
       "AXJBmxlJ4Q8mUwURPDf//qeEABc97AoA4ByT3PT2BvWzcvR153Oshu6T9fNRX/wJ5uB7e2ExOJ4N\n",
       "uiRer8eD8wVuIa0PqnRd5leE//jESQvkq0b1InC0TwXIitqwpyP3w9vsxuT9tMG3SpM93/615YwL\n",
       "JmKtQJ46ijeIfmeR1xgploBnxmRH2AmMUI9na+MpnO/dKtqXG+pLea+CW+BYNq79iwPR+rZhaI4x\n",
       "BaHZzmLV6WVcvtbdYRepJPH3AosJM5rParkSdiCDEKTLW5CGGB4CgtucwnhYUqrdMkAikcGl1W0h\n",
       "69JMfzI49yHTW4QBaXdMwAP5QbMaP6IXMWGjFQNDI9ML9jaYx9mY1EZqOzzzKQhSBZ0L2EQNzP2N\n",
       "WC/HrbL55T2wfXJHXWR3i6PUssn8R/qss+g6NaTqP3ndLnA6jsgCoHr/JVUH+TpNk3JH/r4vfjbv\n",
       "7W/rBvU8ACSmu/QSsemX1HvvlWQcECm/Bkzp+gGHAAAAKAGfOGpCfwAMcRqUsuUXU5bq0TYbABD6\n",
       "8q+2wP+Fn2s/VhzW8q8iPxIAAADxQZs7SeEPJlMFPDf//qeEABc98OgA4x5CKK/JaDwZnUxBEdo+\n",
       "RdNkmZt1akYr/GBLirLZtADXZI2ipPSc68J5nbM4YCV2ZtTYRXpM0qs3HeAPAofLtwA+S2hKPpyA\n",
       "kIg+3rLdz4BPWb00xIgW+vO2tOD/V7WWOMiWWPhkURFFb5CTdSsTrxECgbCCQYA+6mbLgIbRdbZ5\n",
       "arboTXhhzl33vtN2rCDTwmS16cndbGI98+T9SJnQ1+9u74W1b86jnD9w6nNv7vh0XotlSsOgABdG\n",
       "QuOVSqMyzw2b2lRNlHNMdf/qWKr60L74wk3TLC6/oJiP+QAAABQBn1pqQn8ADHEalLLlF1OXtAJd\n",
       "aAAAAUBBm15J4Q8mUwIb//6nhAAXPewKAOBNcxs7oy7O5BLKN76taIJJcH0sxslehjsEmcHOoMYT\n",
       "9q2zjaLD1niPMEx0VMjmQQHc9qfvemrA/RXoCQF1c+R8gDA07Yj1wSb2T5xVXAPicuzQvT06uTqm\n",
       "9tI0Fm8WF/dPiPEBA1YkK3vTz7xETW1BOOXnHy50LXeLjpLtU1KXvhlcjTwNw8kKWV6WsSvAiHjl\n",
       "zJZH85JyMQ82yziofJ7iojwYrN7hvHi9ShYCGX4WLGCheA2ZzazRbO/xL6N2PaVPhI663uUOLUiu\n",
       "jmx0JaWf5M+ZbgqnAZ0dirHnCDn+ttXTzENH+ZVjYS7QMygdcLHDWbArtpVbj/1U+7KsjDDVExlL\n",
       "PMqgDPJOPvFmHOpv1yAGhJ4mr0oWChfOVv+/AdXl5NNWRjZV8GlxMQAAACJBn3xFETwr/wAJkvE7\n",
       "7fvPhUzoczYg1PaLPAAlIxnjYsaRAAAAIwGfnWpCfwAMk8bG3PnJdPFTSEAJqB8ny8ehHpbwHdH8\n",
       "pVuAAAABLEGbgkmoQWiZTAhn//6eEABanXMa3Ft8N2AP9FcC/8/g0Sji6am17xz28VV0dbB3UDd2\n",
       "np4lf2PRLZIyXUNVHF/XddJr2MutRSS56Lex27MQoAGp2UN4ep4l/rikYa6pFxOsIJ21PaC1dI7A\n",
       "8SaV9p9j/m7LERPV7lPsXBw8suXOrYfqjQgoPwtLsyn+Sp0f65Dq8TYL6pcS9Q0CExiaQyHp0hwn\n",
       "2AxevQ5xpYYcdC7WaRSvF5QDcqBtLF4Dsgk8ofUNNmVh+dGjevrYPr5KdodGWTTog8xgmN5RO7CX\n",
       "3tIbu+7pmqwhyfIpA09F0xcxAHSZg9QU31PzMPDh8i6uWOSdntzvCZus56wfE1ZA4ZgajI2YSwwh\n",
       "MVHwozZMdUhvOjK315LLRfdwXQ35UAAAABZBn6BFESwr/wAJsGgXdKQlR9Op9heBAAAAEgGf33RC\n",
       "fwAMj5zGrK68Lj9soAAAABIBn8FqQn8ADJPGAa+rL+L4OpkAAABvQZvDSahBbJlMCG///qeEABc4\n",
       "Xfm+UoYZASuB/UgC/gn/Ps+FNyCKTOnwW12i579k9H3AWXeDTDbBceFbmgdEPjXyVUrJozmvmIFv\n",
       "36VkeCeM2uTYx8XgYyK3moSOQuisigVAeER9LzZO1XKV9ImwAAAAtkGb5EnhClJlMCG//qeEAAuf\n",
       "UD6AL/PJTE82Y7tmWTWGRvvHacwyH04R86koTDEOkwOHoHb4n/pw6lxgN5YbaI2/UCmWMLZdNwjx\n",
       "utlQWmfcQsl8Id1sCx/unSMtx2I1zwqCGGOrbZH1mDV0nmw52j+/TN1TLOguoxT1IUmJ1htv4ZNM\n",
       "VpfKqA8jOs1Uf+GSwBp6mS5QWDiwQy6ZHmj+DP7MQl9hATFYgmi43srhJp0n+BwAh2exAAAA3UGa\n",
       "CEnhDomUwIb//qeEABc4Xf2pfpeY8AXTqpRCxLK/92NYQWPt3DucIx/l9n9xuYqw8gOMctmt/ZDV\n",
       "dQK3NEFQqsz987/AQdg7Me83ML85x+lyf5g89orcKoRYVfoFQ6rZBYkTpbf9CqjUanfZ4eBDTbIP\n",
       "DE1KyncaSkh6Op8ZYar4SEIed29BvUqayXkz4kjG7BeEnm3SDYDen3PpIuQllbMuIEdXowKja8pH\n",
       "NNdrvEZlMX98KBVfsRzf0mE3IZEF5sCqxAN7iXjW7zkC3OR+9c2uTUbQFx3kLOxhAAAAF0GeJkUR\n",
       "PCv/AAmvrdOfJ/jyP/ayUZy5AAAAEAGeRXRCfwAMj5vNp8DsMgkAAAAQAZ5HakJ/AAyTxgHMC6YG\n",
       "UAAAALNBmkxJqEFomUwIb//+p4QAFziWnnT3RAHMsZ5agY6KFV3wzF7dLN0kDbXDACm4ZBkKJ1Hd\n",
       "ZrxE7yuGHCJMfhWe5cWqjKtcxId+s59uHUe8KPvXM7VoxMOOxvO7csEgRK41bIejBaD2NnsrCood\n",
       "It4Tl4UGUkvowfN7moyOqU2HAz9cu8tCTFg2psZAF1JJlb30tL9oPw2Ypb8DqyYtaPDrM7ox07sH\n",
       "StG6nUQIirP+UMReYAAAABdBnmpFESwr/wAJsGgXdSqlEeiul1JLgQAAABABnol0Qn8ADI+bzcwC\n",
       "0PnwAAAADQGei2pCfwAMk8ZQS8AAAACDQZqQSahBbJlMCG///qeEAAufTlUgC6UpUtTdK7aW0fQS\n",
       "g2ISC8GORJkmyGJj13bT/qm3Xwqs9KkdwnyK1EAtwcn2hXvqfJ2jQGOzP6z1ycuAAcato3kUw+dP\n",
       "CivTUiWZ1nxJdGbwddZCZG9i8cDUKhk5a7t4oOh9+Mu4egjLOeh+m4EAAAAVQZ6uRRUsK/8ACbBo\n",
       "F3UqpRHnpFMnAAAADQGezXRCfwAMj5xQS8EAAAAPAZ7PakJ/AAyTxgGvrTeMAAAAp0Ga1EmoQWyZ\n",
       "TAhv//6nhAAXOF39qX6J9EAOh5iDo1fBPruNZkEvkYYd+mZPNNMSaDlwvOczGPfUZvIVZExEL3A8\n",
       "KhXa+cp5Jn7bEAQE4YHyrakn+7+oFdO5bPWbhyPEKBSbo9oPce4976q+ZS0BfE1TrPyWepxqyhmN\n",
       "iC03UU+MMlTSmSMdOHqng4TC43iH1CWKJhGpluqsCh5cMn6U8Sp4ZngzmyFgAAAAGEGe8kUVLCv/\n",
       "AAmwaBd1KqUQ7Ew3PJwtgQAAABQBnxF0Qn8ADI+bzafD8on2zTTmnAAAAA8BnxNqQn8ADJPGxt0A\n",
       "X5AAAABqQZsYSahBbJlMCG///qeEAAufTuSALpNBc0sPsFVudKOOGF6yqASZghTB0RQA5QKLf7nB\n",
       "0A7zf7NgMe44/12VkTiccMqs1zdd0DCeYW3hrjDdCx/mBI+GVf72eig7hOlCQNjdvjml6UDTQQAA\n",
       "ABVBnzZFFSwr/wAJsGgXdSqlEQ5UFVMAAAARAZ9VdEJ/AAyPnMasx256RtEAAAAPAZ9XakJ/AAyT\n",
       "xgGvrTeNAAAAX0GbXEmoQWyZTAhv//6nhAALnvh0AHRRLHISaBCZXthLDxFo62+xUv12/G4JCrcR\n",
       "Oy83GcMPYy2JaufDkLPEfqAgSItpw9lxZpPeZbaDkf1psY7CkaO3RxwseU5zNde4AAAAFEGfekUV\n",
       "LCv/AAmwaBd1KqURCllBAAAADwGfmXRCfwAMj5vNp8bPGAAAAA8Bn5tqQn8ADJPGAa+tN40AAAAy\n",
       "QZuASahBbJlMCG///qeEAAXOF4AI5Z/NXAb9fXwBCI/DP1AenoZYEsSCexYSL4pAmKUAAAAUQZ++\n",
       "RRUsK/8ACbBoF3UqpREKWUAAAAAPAZ/ddEJ/AAyPm82nxs8YAAAADwGf32pCfwAMk8YBr603jQAA\n",
       "ADxBm8RJqEFsmUwIb//+p4QABc4XgSHDgAR7arKgxkiZt4j8ENCcPIg63uA+vlgz45POrt1V8wZU\n",
       "SfKqtfAAAAAUQZ/iRRUsK/8ACbBoF3UqpREKWUEAAAAPAZ4BdEJ/AAyPm82nxs8YAAAADwGeA2pC\n",
       "fwAMk8YBr603jQAAADNBmghJqEFsmUwIb//+p4QAC59O5IAbynf6FDLjUDwSHi+RkYD3Opye07E2\n",
       "5jQSNYES59kAAAAUQZ4mRRUsK/8ACbBoF3UqpREKWUEAAAAQAZ5FdEJ/AAyPm82nhgHsCQAAAA8B\n",
       "nkdqQn8ADJPGAa+tN4wAAAA2QZpMSahBbJlMCG///qeEAAvtqF0sqBpri6Ff3B74YAf4jmkXfM6M\n",
       "Y0xIVwaOSFAmv5fIPO2gAAAAE0GeakUVLCv/AAmsmt0FwRCFLKEAAAARAZ6JdEJ/AAyPm82nzMS+\n",
       "3xAAAAALAZ6LakJ/AAADAfMAAAAYQZqQSahBbJlMCGf//p4QAAFz12JW/SvTAAAAD0GerkUVLCv/\n",
       "AAkqrqcg4QAAAAsBns10Qn8AAAMB8wAAAAsBns9qQn8AAAMB8wAAABdBmtRJqEFsmUwIX//+jLAA\n",
       "AXbnEN3UgAAAAA9BnvJFFSwr/wAJKq6nIOEAAAALAZ8RdEJ/AAADAfMAAAALAZ8TakJ/AAADAfMA\n",
       "AAAUQZsXSahBbJlMCE///fEAAAMARcEAAAAPQZ81RRUsK/8ACSqupyDgAAAACwGfVmpCfwAAAwHz\n",
       "AAAIQm1vb3YAAABsbXZoZAAAAAAAAAAAAAAAAAAAA+gAAA+gAAEAAAEAAAAAAAAAAAAAAAABAAAA\n",
       "AAAAAAAAAAAAAAAAAQAAAAAAAAAAAAAAAAAAQAAAAAAAAAAAAAAAAAAAAAAAAAAAAAAAAAAAAAAA\n",
       "AAIAAAdsdHJhawAAAFx0a2hkAAAAAwAAAAAAAAAAAAAAAQAAAAAAAA+gAAAAAAAAAAAAAAAAAAAA\n",
       "AAABAAAAAAAAAAAAAAAAAAAAAQAAAAAAAAAAAAAAAAAAQAAAAAGwAAABIAAAAAAAJGVkdHMAAAAc\n",
       "ZWxzdAAAAAAAAAABAAAPoAAABAAAAQAAAAAG5G1kaWEAAAAgbWRoZAAAAAAAAAAAAAAAAAAAPAAA\n",
       "APAAVcQAAAAAAC1oZGxyAAAAAAAAAAB2aWRlAAAAAAAAAAAAAAAAVmlkZW9IYW5kbGVyAAAABo9t\n",
       "aW5mAAAAFHZtaGQAAAABAAAAAAAAAAAAAAAkZGluZgAAABxkcmVmAAAAAAAAAAEAAAAMdXJsIAAA\n",
       "AAEAAAZPc3RibAAAALdzdHNkAAAAAAAAAAEAAACnYXZjMQAAAAAAAAABAAAAAAAAAAAAAAAAAAAA\n",
       "AAGwASAASAAAAEgAAAAAAAAAAQAAAAAAAAAAAAAAAAAAAAAAAAAAAAAAAAAAAAAAAAAAABj//wAA\n",
       "ADVhdmNDAWQAFf/hABhnZAAVrNlBsJaEAAADAAQAAAMA8DxYtlgBAAZo6+PLIsD9+PgAAAAAHHV1\n",
       "aWRraEDyXyRPxbo5pRvPAyPzAAAAAAAAABhzdHRzAAAAAAAAAAEAAAB4AAACAAAAABRzdHNzAAAA\n",
       "AAAAAAEAAAABAAADQGN0dHMAAAAAAAAAZgAAAAEAAAQAAAAAAQAABgAAAAABAAACAAAAAAEAAAQA\n",
       "AAAAAQAABgAAAAABAAACAAAAAAEAAAoAAAAAAQAABAAAAAABAAAAAAAAAAEAAAIAAAAAAQAABgAA\n",
       "AAABAAACAAAAAAIAAAQAAAAAAQAACAAAAAACAAACAAAAAAEAAAYAAAAAAQAAAgAAAAAIAAAEAAAA\n",
       "AAEAAAYAAAAAAQAAAgAAAAABAAAGAAAAAAEAAAIAAAAAAQAABgAAAAABAAACAAAAAAIAAAQAAAAA\n",
       "AQAABgAAAAABAAACAAAAAAEAAAQAAAAAAQAABgAAAAABAAACAAAAAAMAAAQAAAAAAQAACAAAAAAC\n",
       "AAACAAAAAAEAAAoAAAAAAQAABAAAAAABAAAAAAAAAAEAAAIAAAAAAwAABAAAAAABAAAGAAAAAAEA\n",
       "AAIAAAAAAQAABAAAAAABAAAGAAAAAAEAAAIAAAAAAQAABgAAAAABAAACAAAAAAEAAAgAAAAAAgAA\n",
       "AgAAAAABAAAKAAAAAAEAAAQAAAAAAQAAAAAAAAABAAACAAAAAAIAAAQAAAAAAQAACgAAAAABAAAE\n",
       "AAAAAAEAAAAAAAAAAQAAAgAAAAABAAAKAAAAAAEAAAQAAAAAAQAAAAAAAAABAAACAAAAAAEAAAoA\n",
       "AAAAAQAABAAAAAABAAAAAAAAAAEAAAIAAAAAAQAACgAAAAABAAAEAAAAAAEAAAAAAAAAAQAAAgAA\n",
       "AAABAAAKAAAAAAEAAAQAAAAAAQAAAAAAAAABAAACAAAAAAEAAAoAAAAAAQAABAAAAAABAAAAAAAA\n",
       "AAEAAAIAAAAAAQAACgAAAAABAAAEAAAAAAEAAAAAAAAAAQAAAgAAAAABAAAKAAAAAAEAAAQAAAAA\n",
       "AQAAAAAAAAABAAACAAAAAAEAAAoAAAAAAQAABAAAAAABAAAAAAAAAAEAAAIAAAAAAQAACgAAAAAB\n",
       "AAAEAAAAAAEAAAAAAAAAAQAAAgAAAAABAAAKAAAAAAEAAAQAAAAAAQAAAAAAAAABAAACAAAAAAEA\n",
       "AAoAAAAAAQAABAAAAAABAAAAAAAAAAEAAAIAAAAAAQAACAAAAAACAAACAAAAABxzdHNjAAAAAAAA\n",
       "AAEAAAABAAAAeAAAAAEAAAH0c3RzegAAAAAAAAAAAAAAeAAADCAAAAP4AAAAmgAAAU8AAAKjAAAA\n",
       "zgAAA7cAAAKjAAABKgAAAP4AAAMEAAABSQAAAi0AAAIJAAADCwAAAggAAAF5AAACngAAAREAAAHu\n",
       "AAACGgAAAhEAAAIbAAACEgAAAeQAAAHYAAAB7AAAAkIAAACGAAABpAAAAJoAAAGvAAAAWgAAAN4A\n",
       "AAEzAAABqAAAAE8AAAFPAAABogAAAFAAAAEhAAABYQAAAQ4AAAH0AAAASQAAAC0AAAGnAAAATwAA\n",
       "ACsAAAAeAAAArQAAAKQAAAC8AAAA3gAAAB4AAAClAAABdgAAACwAAAD1AAAAGAAAAUQAAAAmAAAA\n",
       "JwAAATAAAAAaAAAAFgAAABYAAABzAAAAugAAAOEAAAAbAAAAFAAAABQAAAC3AAAAGwAAABQAAAAR\n",
       "AAAAhwAAABkAAAARAAAAEwAAAKsAAAAcAAAAGAAAABMAAABuAAAAGQAAABUAAAATAAAAYwAAABgA\n",
       "AAATAAAAEwAAADYAAAAYAAAAEwAAABMAAABAAAAAGAAAABMAAAATAAAANwAAABgAAAAUAAAAEwAA\n",
       "ADoAAAAXAAAAFQAAAA8AAAAcAAAAEwAAAA8AAAAPAAAAGwAAABMAAAAPAAAADwAAABgAAAATAAAA\n",
       "DwAAABRzdGNvAAAAAAAAAAEAAAAwAAAAYnVkdGEAAABabWV0YQAAAAAAAAAhaGRscgAAAAAAAAAA\n",
       "bWRpcmFwcGwAAAAAAAAAAAAAAAAtaWxzdAAAACWpdG9vAAAAHWRhdGEAAAABAAAAAExhdmY1OC42\n",
       "NS4xMDE=\n",
       "\">\n",
       "  Your browser does not support the video tag.\n",
       "</video>"
      ],
      "text/plain": [
       "<IPython.core.display.HTML object>"
      ]
     },
     "execution_count": 47,
     "metadata": {},
     "output_type": "execute_result"
    }
   ],
   "source": [
    "from matplotlib import animation, rc\n",
    "from IPython.display import HTML\n",
    "HTML(points_output.anim.to_html5_video())"
   ]
  },
  {
   "cell_type": "code",
   "execution_count": null,
   "id": "fourth-practice",
   "metadata": {},
   "outputs": [],
   "source": []
  }
 ],
 "metadata": {
  "colab": {
   "collapsed_sections": [],
   "name": "Copy of Wing Kinematics.ipynb",
   "provenance": []
  },
  "kernelspec": {
   "display_name": "Python 3",
   "language": "python",
   "name": "python3"
  },
  "language_info": {
   "codemirror_mode": {
    "name": "ipython",
    "version": 3
   },
   "file_extension": ".py",
   "mimetype": "text/x-python",
   "name": "python",
   "nbconvert_exporter": "python",
   "pygments_lexer": "ipython3",
   "version": "3.8.5"
  }
 },
 "nbformat": 4,
 "nbformat_minor": 5
}

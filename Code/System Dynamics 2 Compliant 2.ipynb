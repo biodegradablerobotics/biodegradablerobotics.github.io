{
 "cells": [
  {
   "cell_type": "markdown",
   "id": "extreme-valve",
   "metadata": {},
   "source": [
    "## Setup"
   ]
  },
  {
   "cell_type": "code",
   "execution_count": 1,
   "id": "demographic-crossing",
   "metadata": {
    "colab": {
     "base_uri": "https://localhost:8080/"
    },
    "id": "pi7Co6-jBLqJ",
    "outputId": "3e0b02e5-7b83-4a8a-fb4e-f100a21e47fb"
   },
   "outputs": [],
   "source": [
    "#pip install pynamics"
   ]
  },
  {
   "cell_type": "code",
   "execution_count": 2,
   "id": "focused-packaging",
   "metadata": {
    "id": "frequent-douglas"
   },
   "outputs": [],
   "source": [
    "%matplotlib inline\n",
    "import scipy.optimize\n",
    "import pynamics\n",
    "from pynamics.frame import Frame\n",
    "from pynamics.variable_types import Differentiable,Constant\n",
    "from pynamics.system import System\n",
    "from pynamics.body import Body\n",
    "from pynamics.dyadic import Dyadic\n",
    "from pynamics.output import Output,PointsOutput\n",
    "from pynamics.particle import Particle\n",
    "import pynamics.integration\n",
    "import numpy\n",
    "import sympy\n",
    "import matplotlib.pyplot as plt\n",
    "from matplotlib.patches import Arc\n",
    "plt.ion()\n",
    "from math import pi, sin, cos, tan, asin, acos, atan, degrees, radians, pi, sqrt"
   ]
  },
  {
   "cell_type": "markdown",
   "id": "developmental-respect",
   "metadata": {},
   "source": [
    "## System"
   ]
  },
  {
   "cell_type": "code",
   "execution_count": 3,
   "id": "excessive-concentration",
   "metadata": {},
   "outputs": [],
   "source": [
    "# Create a pynamics system\n",
    "system = System()\n",
    "pynamics.set_system(__name__,system)"
   ]
  },
  {
   "cell_type": "code",
   "execution_count": 4,
   "id": "visible-providence",
   "metadata": {},
   "outputs": [],
   "source": [
    "# Length variables (numerical)\n",
    "lAa_num = 0.05\n",
    "lAb_num = 0.1\n",
    "lBa_num = 0.05\n",
    "lBb_num = 0.1\n",
    "lC_num = 0.165\n",
    "lD_num = 0.165\n",
    "lE_num = 0.045\n",
    "\n",
    "# Lengths\n",
    "lAa = Constant(lAa_num,'lAa',system)\n",
    "lAb = Constant(lAb_num,'lAb',system)\n",
    "lBa = Constant(lBa_num,'lBa',system)\n",
    "lBb = Constant(lBb_num,'lBb',system)\n",
    "lC = Constant(lC_num,'lC',system)\n",
    "lD = Constant(lD_num,'lD',system)\n",
    "lE = Constant(lE_num,'lE',system)"
   ]
  },
  {
   "cell_type": "code",
   "execution_count": 5,
   "id": "olive-johnson",
   "metadata": {},
   "outputs": [],
   "source": [
    "# Masses\n",
    "# r = 149kg/m3\n",
    "mAa = Constant(0.00447,'mAa',system) # 0.00447000 \n",
    "mAb = Constant(0.00894,'mAb',system) # 0.00894000 \n",
    "mBa = Constant(0.00626,'mBa',system) # 0.00625800\n",
    "mBb = Constant(0.00894,'mBb',system) # 0.00894000 \n",
    "mC = Constant(0.0148,'mC',system) # 0.01475100\n",
    "mD = Constant(0.0148,'mD',system) # 0.01475100\n",
    "\n",
    "# Joint preloads\n",
    "preload0 = Constant(0*pi/180,'preload0',system)\n",
    "preloadA = Constant(0*pi/180,'preloadA',system)\n",
    "preload1 = Constant(0*pi/180,'preload1',system)\n",
    "preloadB = Constant(0*pi/180,'preloadB',system)\n",
    "preload4 = Constant(0*pi/180,'preload4',system)\n",
    "preload3 = Constant(0*pi/180,'preload3',system)\n",
    "\n",
    "# Inertia\n",
    "Ixx_Aa = Constant(0.0000336,'Ixx_Aa',system) # 0.00003355\n",
    "Iyy_Aa = Constant(0.0000373,'Iyy_Aa',system) # 0.00003725\n",
    "Izz_Aa = Constant(0.0000038,'Izz_Aa',system) # 0.00000375\n",
    "Ixx_Ab = Constant(0.0000671,'Ixx_Ab',system) # 0.00006710\n",
    "Iyy_Ab = Constant(0.0000969,'Iyy_Ab',system) # 0.00009685\n",
    "Izz_Ab = Constant(0.0000299,'Izz_Ab',system) # 0.00002985\n",
    "\n",
    "Ixx_Ba = Constant(0.0000441,'Ixx_Ba',system) # 0.00004405\n",
    "Iyy_Ba = Constant(0.0000484,'Iyy_Ba',system) # 0.00004840\n",
    "Izz_Ba = Constant(0.0000045,'Izz_Ba',system) # 0.00000453\n",
    "Ixx_Bb = Constant(0.0000671,'Ixx_Bb',system) # 0.00006710\n",
    "Iyy_Bb = Constant(0.0000969,'Iyy_Bb',system) # 0.00009685\n",
    "Izz_Bb = Constant(0.0000299,'Izz_Bb',system) # 0.00002985\n",
    "\n",
    "Ixx_C = Constant(0.0001107,'Ixx_C',system) # 0.00011071\n",
    "Iyy_C = Constant(0.0002445,'Iyy_C',system) # 0.00024450\n",
    "Izz_C = Constant(0.000134,'Izz_C',system) # 0.00013394\n",
    "\n",
    "Ixx_D = Constant(0.0001107,'Ixx_D',system) # 0.00011071\n",
    "Iyy_D = Constant(0.0002445,'Iyy_D',system) # 0.00024450\n",
    "Izz_D = Constant(0.0001339,'Izz_D',system) # 0.00013394"
   ]
  },
  {
   "cell_type": "code",
   "execution_count": 6,
   "id": "organizational-transport",
   "metadata": {},
   "outputs": [],
   "source": [
    "# Create differentiable state variables\n",
    "qAa,qAa_d,qAa_dd = Differentiable('qAa',system)\n",
    "qAb,qAb_d,qAb_dd = Differentiable('qAb',system)\n",
    "\n",
    "qBa,qBa_d,qBa_dd = Differentiable('qBa',system)\n",
    "qBb,qBb_d,qBb_dd = Differentiable('qBb',system)\n",
    "\n",
    "qC,qC_d,qC_dd = Differentiable('qC',system)\n",
    "\n",
    "qD,qD_d,qD_dd = Differentiable('qD',system)"
   ]
  },
  {
   "cell_type": "code",
   "execution_count": 7,
   "id": "mobile-spouse",
   "metadata": {},
   "outputs": [],
   "source": [
    "# initial values\n",
    "# qC = 11.97 creates fully extended, horizontal wing\n",
    "initialvalues = {}\n",
    "initialvalues[qAa]=45*pi/180\n",
    "initialvalues[qAa_d]=0*pi/180\n",
    "initialvalues[qAb]=0*pi/180\n",
    "initialvalues[qAb_d]=0*pi/180\n",
    "\n",
    "initialvalues[qBa]=0*pi/180\n",
    "initialvalues[qBa_d]=0*pi/180\n",
    "initialvalues[qBb]=0*pi/180\n",
    "initialvalues[qBb_d]=0*pi/180\n",
    "\n",
    "#initialvalues[qC]=14.65*pi/180\n",
    "initialvalues[qC]=(90-16.69)*pi/180\n",
    "initialvalues[qC_d]=0*pi/180\n",
    "\n",
    "initialvalues[qD]=-70.16*pi/180\n",
    "initialvalues[qD_d]=0*pi/180"
   ]
  },
  {
   "cell_type": "code",
   "execution_count": 8,
   "id": "large-consent",
   "metadata": {},
   "outputs": [],
   "source": [
    "# Retrieve state variables in the order they are stored in the system\n",
    "# Create a list of initial values ini0 in the order of the system’s state variables\n",
    "statevariables = system.get_state_variables()\n",
    "ini0 = [initialvalues[item] for item in statevariables]"
   ]
  },
  {
   "cell_type": "code",
   "execution_count": 9,
   "id": "hidden-reserve",
   "metadata": {},
   "outputs": [],
   "source": [
    "# Create frames\n",
    "N = Frame('N')\n",
    "Aa = Frame('Aa')\n",
    "Ab = Frame('Ab')\n",
    "\n",
    "Ba = Frame('Ba')\n",
    "Bb = Frame('Bb')\n",
    "\n",
    "C = Frame('C')\n",
    "D = Frame('D')"
   ]
  },
  {
   "cell_type": "code",
   "execution_count": 10,
   "id": "negative-algebra",
   "metadata": {},
   "outputs": [],
   "source": [
    "# Declare N as the Newtonian (fixed) frame\n",
    "system.set_newtonian(N)"
   ]
  },
  {
   "cell_type": "code",
   "execution_count": 11,
   "id": "sacred-cheat",
   "metadata": {},
   "outputs": [],
   "source": [
    "# Rotate other frames about their local Z axes.\n",
    "# Not global q\n",
    "Aa.rotate_fixed_axis_directed(N,[0,0,1],qAa,system)\n",
    "Ab.rotate_fixed_axis_directed(Aa,[0,0,1],qAb,system)\n",
    "\n",
    "Ba.rotate_fixed_axis_directed(Ab,[0,0,1],qBa,system)\n",
    "Bb.rotate_fixed_axis_directed(Ba,[0,0,1],qBb,system)\n",
    "\n",
    "C.rotate_fixed_axis_directed(Bb,[0,0,1],qC,system)\n",
    "D.rotate_fixed_axis_directed(C,[0,0,1],qD,system)"
   ]
  },
  {
   "cell_type": "code",
   "execution_count": 12,
   "id": "romantic-brake",
   "metadata": {},
   "outputs": [],
   "source": [
    "# Define rigid body kinematics\n",
    "# position vectors\n",
    "p0 = 0*N.x #Normal\n",
    "pA = p0 + lAa*Aa.x #Normal\n",
    "p1 = pA + lAb*Ab.x #Link A\n",
    "pB = p1 + lBa*Ba.x #Link A\n",
    "p2A = pB + lBb*Bb.x #Link B - OUTPUT\n",
    "p4 = p0 + lE*N.y #Link E\n",
    "p3 = p4 + lC*C.x #Link C\n",
    "p2C = p3 + lD*D.x #Link D - OUTPUT"
   ]
  },
  {
   "cell_type": "code",
   "execution_count": 13,
   "id": "short-cannon",
   "metadata": {},
   "outputs": [],
   "source": [
    "# CoM vectors\n",
    "pAacom=p0 + lAa/2*Aa.x #Link Aa\n",
    "pAbcom=pA + lAb/2*Ab.x #Link Ab\n",
    "\n",
    "pBacom=p1 + 0.0207*Ba.x + 0.00314*Ba.y #Link Ba # 0.02071429x 0.00314286y\n",
    "pBbcom=pB + lBb*Bb.x #Link Bb\n",
    "\n",
    "pCcom=p4 + lC/2*C.x #Link Ca\n",
    "pDcom=p3 + lD/2*D.x #Link Da"
   ]
  },
  {
   "cell_type": "code",
   "execution_count": 14,
   "id": "literary-volleyball",
   "metadata": {},
   "outputs": [],
   "source": [
    "# Angular Velocity\n",
    "wNAa = N.getw_(Aa)\n",
    "wAaAb = Aa.getw_(Ab)\n",
    "\n",
    "wAbBa = Ab.getw_(Ba)\n",
    "wBaBb = Ba.getw_(Bb)\n",
    "\n",
    "wNC = N.getw_(C)\n",
    "wCD = C.getw_(D)"
   ]
  },
  {
   "cell_type": "code",
   "execution_count": 15,
   "id": "affiliated-campaign",
   "metadata": {},
   "outputs": [],
   "source": [
    "# Build inertia tensors\n",
    "IAa = Dyadic.build(Aa,Ixx_Aa,Iyy_Aa,Izz_Aa)\n",
    "IAb = Dyadic.build(Ab,Ixx_Ab,Iyy_Ab,Izz_Ab)\n",
    "\n",
    "IBa = Dyadic.build(Ba,Ixx_Ba,Iyy_Ba,Izz_Ba)\n",
    "IBb = Dyadic.build(Bb,Ixx_Bb,Iyy_Bb,Izz_Bb)\n",
    "\n",
    "IC = Dyadic.build(C,Ixx_C,Iyy_C,Izz_C)\n",
    "ID = Dyadic.build(D,Ixx_D,Iyy_D,Izz_D)\n",
    "\n",
    "BodyAa = Body('BodyAa',Aa,pAacom,mAa,IAa,system)\n",
    "BodyAb = Body('BodyAb',Ab,pAbcom,mAb,IAb,system)\n",
    "\n",
    "BodyBa = Body('BodyBa',Ba,pBacom,mBa,IBa,system)\n",
    "BodyBb = Body('BodyBb',Bb,pBbcom,mBb,IBb,system)\n",
    "\n",
    "BodyC = Body('BodyC',C,pCcom,mC,IC,system)\n",
    "BodyD = Body('BodyD',D,pDcom,mD,ID,system)\n",
    "#BodyC = Particle(pCcm,mC,'ParticleC',system)"
   ]
  },
  {
   "cell_type": "markdown",
   "id": "latin-hardwood",
   "metadata": {},
   "source": [
    "## Forces"
   ]
  },
  {
   "cell_type": "code",
   "execution_count": 16,
   "id": "gorgeous-twins",
   "metadata": {},
   "outputs": [
    {
     "data": {
      "text/plain": [
       "<pynamics.force.Force at 0x21ecb6da2e0>"
      ]
     },
     "execution_count": 16,
     "metadata": {},
     "output_type": "execute_result"
    }
   ],
   "source": [
    "# Motor Torque\n",
    "t_switch = 0.4\n",
    "T1 = -0.2\n",
    "T2 = 0.4\n",
    "dT = T2-T1\n",
    "\n",
    "cond = system.t-t_switch\n",
    "cond_s = (cond+abs(cond))\n",
    "on = cond_s/(2*cond+1e-4)\n",
    "system.addforce((dT*on+T1)*N.z,wNAa)"
   ]
  },
  {
   "cell_type": "code",
   "execution_count": 17,
   "id": "heavy-target",
   "metadata": {},
   "outputs": [],
   "source": [
    "# Spring Forces\n",
    "kbase = Constant(1e-5,'kbase',system)\n",
    "kjoint = Constant(1e-4,'kjoint',system)\n",
    "kbend = Constant(6,'kbend',system)\n",
    "klim = Constant(3,'klim',system)\n",
    "\n",
    "dK = kbase-klim"
   ]
  },
  {
   "cell_type": "code",
   "execution_count": 18,
   "id": "advanced-style",
   "metadata": {},
   "outputs": [
    {
     "data": {
      "text/plain": [
       "(<pynamics.force.Force at 0x21ecb6ed5e0>,\n",
       " <pynamics.spring.Spring at 0x21ecb6ed550>)"
      ]
     },
     "execution_count": 18,
     "metadata": {},
     "output_type": "execute_result"
    }
   ],
   "source": [
    "system.add_spring_force1(kbase,(qAa-preload0)*N.z,wNAa) # qA\n",
    "system.add_spring_force1(kbend,(qAb-preloadA)*Aa.z,wAaAb)  # virtual A\n",
    "\n",
    "system.add_spring_force1(dK*on+klim,(qBa-preload1)*Ab.z,wAbBa) # Limiter\n",
    "system.add_spring_force1(kbend,(qBb-preloadB)*Ba.z,wBaBb) # virtual B\n",
    "\n",
    "system.add_spring_force1(kbase,(qC-preload4)*N.z,wNC) # qC\n",
    "system.add_spring_force1(kjoint,(qD-preload3)*C.z,wCD) # qD"
   ]
  },
  {
   "cell_type": "code",
   "execution_count": 19,
   "id": "american-engineer",
   "metadata": {},
   "outputs": [],
   "source": [
    "# Damping\n",
    "bbase = Constant(1e-2,'b',system)\n",
    "bjoint = Constant(1e-2,'b',system)"
   ]
  },
  {
   "cell_type": "code",
   "execution_count": 20,
   "id": "pleased-assist",
   "metadata": {},
   "outputs": [
    {
     "data": {
      "text/plain": [
       "<pynamics.force.Force at 0x21ecb6ed9d0>"
      ]
     },
     "execution_count": 20,
     "metadata": {},
     "output_type": "execute_result"
    }
   ],
   "source": [
    "system.addforce(-bbase*wNAa,wNAa) # qA\n",
    "system.addforce(-bjoint*wAbBa,wAbBa) # qB\n",
    "system.addforce(-bbase*wNC,wNC) # qC\n",
    "system.addforce(-bjoint*wCD,wCD) # qD"
   ]
  },
  {
   "cell_type": "code",
   "execution_count": 22,
   "id": "worse-concentrate",
   "metadata": {},
   "outputs": [],
   "source": [
    "# Aerodynamic Forces\n",
    "vAacom= pAacom.time_derivative(N,system)\n",
    "vAbcom= pAbcom.time_derivative(N,system)\n",
    "\n",
    "vBacom= pBacom.time_derivative(N,system)\n",
    "vBbcom= pBbcom.time_derivative(N,system)\n",
    "\n",
    "vCcom= pCcom.time_derivative(N,system)\n",
    "vDcom= pDcom.time_derivative(N,system)"
   ]
  },
  {
   "cell_type": "code",
   "execution_count": null,
   "id": "academic-rescue",
   "metadata": {},
   "outputs": [],
   "source": []
  },
  {
   "cell_type": "code",
   "execution_count": 25,
   "id": "entitled-receipt",
   "metadata": {},
   "outputs": [],
   "source": [
    "# Gravity\n",
    "g = Constant(9.81,'g',system)\n",
    "system.addforcegravity(-g*N.y)"
   ]
  },
  {
   "cell_type": "markdown",
   "id": "boolean-captain",
   "metadata": {},
   "source": [
    "## Constraints"
   ]
  },
  {
   "cell_type": "code",
   "execution_count": 27,
   "id": "separated-offer",
   "metadata": {},
   "outputs": [],
   "source": [
    "# ptipup = 0.547*N.x+0.547*N.y"
   ]
  },
  {
   "cell_type": "code",
   "execution_count": 28,
   "id": "quality-asthma",
   "metadata": {},
   "outputs": [],
   "source": [
    "# Constraints\n",
    "eq_vector = p2A-p2C\n",
    "eq = []\n",
    "eq.append((eq_vector).dot(N.x))\n",
    "eq.append((eq_vector).dot(N.y))\n",
    "eq_d=[(system.derivative(item)) for item in eq]\n",
    "eq_dd=[(system.derivative(item)) for item in eq_d]\n",
    "\n",
    "eq2_vector = Ab.x-Ba.x\n",
    "eq2 = []\n",
    "eq2.append((eq2_vector).dot(N.x))\n",
    "eq2.append((eq2_vector).dot(N.y))\n",
    "eq2_d=[(system.derivative(item)) for item in eq2]\n",
    "eq2_dd=[(system.derivative(item)) for item in eq2_d]"
   ]
  },
  {
   "cell_type": "markdown",
   "id": "cubic-albania",
   "metadata": {},
   "source": [
    "## Solve for valid initial condition"
   ]
  },
  {
   "cell_type": "code",
   "execution_count": 29,
   "id": "revolutionary-replacement",
   "metadata": {},
   "outputs": [],
   "source": [
    "# Declare a list of points that will be used for plotting\n",
    "points = [p0, pA, p1, pB, p2A, p3, p4]"
   ]
  },
  {
   "cell_type": "code",
   "execution_count": 30,
   "id": "absolute-richards",
   "metadata": {},
   "outputs": [],
   "source": [
    "# Identify independent and dependent variables\n",
    "qi = [qAa, qC]\n",
    "qd = [qAb, qBa, qBb, qD]"
   ]
  },
  {
   "cell_type": "code",
   "execution_count": 31,
   "id": "printable-ordinance",
   "metadata": {},
   "outputs": [],
   "source": [
    "# Create a copy of symbolic constants dictionary and add the initial value of qi to it\n",
    "constants = system.constant_values.copy()\n",
    "defined = dict([(item,initialvalues[item]) for item in qi])\n",
    "constants.update(defined)"
   ]
  },
  {
   "cell_type": "code",
   "execution_count": 32,
   "id": "discrete-correction",
   "metadata": {},
   "outputs": [],
   "source": [
    "# Substitute constants in equation\n",
    "eq = [item.subs(constants) for item in eq]\n",
    "eq2 = [item.subs(constants) for item in eq2]"
   ]
  },
  {
   "cell_type": "code",
   "execution_count": 33,
   "id": "suspected-naples",
   "metadata": {},
   "outputs": [],
   "source": [
    "# Convert to numpy array\n",
    "# Sum the error\n",
    "error = (numpy.array(eq)**2).sum() + (numpy.array(eq2)**2).sum()"
   ]
  },
  {
   "cell_type": "code",
   "execution_count": 34,
   "id": "convinced-rehabilitation",
   "metadata": {},
   "outputs": [],
   "source": [
    "# Convert to a function that scipy can use.\n",
    "# Sympy has a “labmdify” function that evaluates an expression, but scipy needs a slightly different format.\n",
    "f = sympy.lambdify(qd,error)\n",
    "\n",
    "def function(args):\n",
    "    return f(*args)"
   ]
  },
  {
   "cell_type": "code",
   "execution_count": 35,
   "id": "aquatic-justice",
   "metadata": {},
   "outputs": [
    {
     "name": "stderr",
     "output_type": "stream",
     "text": [
      "2021-03-19 21:16:35,278 - pynamics.output - INFO - calculating outputs\n",
      "2021-03-19 21:16:35,280 - pynamics.output - INFO - done calculating outputs\n"
     ]
    },
    {
     "data": {
      "text/plain": [
       "array([[[ 0.        ,  0.        ],\n",
       "        [ 0.03535534,  0.03535534],\n",
       "        [ 0.10606602,  0.10606602],\n",
       "        [ 0.14142136,  0.14142136],\n",
       "        [ 0.21213203,  0.21213203],\n",
       "        [-0.07824991,  0.19026511],\n",
       "        [ 0.        ,  0.045     ]],\n",
       "\n",
       "       [[ 0.        ,  0.        ],\n",
       "        [ 0.03535534,  0.03535534],\n",
       "        [ 0.10369392,  0.10836109],\n",
       "        [ 0.13786317,  0.14486399],\n",
       "        [ 0.23496063,  0.12094575],\n",
       "        [ 0.08381403,  0.18712744],\n",
       "        [ 0.        ,  0.045     ]]])"
      ]
     },
     "execution_count": 35,
     "metadata": {},
     "output_type": "execute_result"
    }
   ],
   "source": [
    "# Take the derivative of the equations to linearize with regard to the velocity variables\n",
    "guess = [initialvalues[item] for item in qd]\n",
    "result = scipy.optimize.minimize(function,guess)\n",
    "if result.fun>1e-3:\n",
    "    raise(Exception(\"out of tolerance\"))\n",
    "ini = []\n",
    "for item in system.get_state_variables():\n",
    "    if item in qd:\n",
    "        ini.append(result.x[qd.index(item)])\n",
    "    else:\n",
    "        ini.append(initialvalues[item])\n",
    "points = PointsOutput(points, constant_values=system.constant_values)\n",
    "points.calc(numpy.array([ini0,ini]))\n",
    "#points.plot_time()"
   ]
  },
  {
   "cell_type": "code",
   "execution_count": 36,
   "id": "backed-trigger",
   "metadata": {},
   "outputs": [
    {
     "data": {
      "text/plain": [
       "2.0881017314179564e-12"
      ]
     },
     "execution_count": 36,
     "metadata": {},
     "output_type": "execute_result"
    }
   ],
   "source": [
    "result.fun"
   ]
  },
  {
   "cell_type": "code",
   "execution_count": 37,
   "id": "surprising-people",
   "metadata": {},
   "outputs": [],
   "source": [
    "# Valid initial condition\n",
    "x = numpy.array([points.y[1][0][0], points.y[1][1][0], points.y[1][2][0], points.y[1][3][0], points.y[1][4][0], points.y[1][5][0], points.y[1][6][0], 0])\n",
    "y = numpy.array([points.y[1][0][1], points.y[1][1][1], points.y[1][2][1], points.y[1][3][1], points.y[1][4][1], points.y[1][5][1], points.y[1][6][1], 0])\n",
    "# prettyplot(x,y)"
   ]
  },
  {
   "cell_type": "markdown",
   "id": "taken-spring",
   "metadata": {},
   "source": [
    "## Solution"
   ]
  },
  {
   "cell_type": "code",
   "execution_count": 38,
   "id": "mediterranean-spelling",
   "metadata": {},
   "outputs": [
    {
     "name": "stderr",
     "output_type": "stream",
     "text": [
      "2021-03-19 21:16:35,317 - pynamics.system - INFO - getting dynamic equations\n"
     ]
    }
   ],
   "source": [
    "# F=ma\n",
    "f,ma = system.getdynamics()"
   ]
  },
  {
   "cell_type": "code",
   "execution_count": 39,
   "id": "laughing-timothy",
   "metadata": {},
   "outputs": [
    {
     "name": "stderr",
     "output_type": "stream",
     "text": [
      "2021-03-19 21:16:36,016 - pynamics.system - INFO - solving a = f/m and creating function\n",
      "2021-03-19 21:16:36,024 - pynamics.system - INFO - substituting constrained in Ma-f.\n",
      "2021-03-19 21:16:40,564 - pynamics.system - INFO - done solving a = f/m and creating function\n",
      "2021-03-19 21:16:40,565 - pynamics.system - INFO - calculating function for lambdas\n"
     ]
    }
   ],
   "source": [
    "# Acceleration\n",
    "func1,lambda1 = system.state_space_post_invert(f,ma,eq_dd,return_lambda = True)"
   ]
  },
  {
   "cell_type": "code",
   "execution_count": 40,
   "id": "selective-kinase",
   "metadata": {},
   "outputs": [],
   "source": [
    "# Integration Tolerance\n",
    "tol = 1e-9"
   ]
  },
  {
   "cell_type": "code",
   "execution_count": 41,
   "id": "beginning-violence",
   "metadata": {},
   "outputs": [],
   "source": [
    "# Time\n",
    "tinitial = 0\n",
    "tfinal = 1.5\n",
    "fps = 30\n",
    "tstep = 1/fps\n",
    "t = numpy.r_[tinitial:tfinal:tstep]"
   ]
  },
  {
   "cell_type": "code",
   "execution_count": 42,
   "id": "north-tribe",
   "metadata": {},
   "outputs": [
    {
     "name": "stderr",
     "output_type": "stream",
     "text": [
      "2021-03-19 21:16:40,611 - pynamics.integration - INFO - beginning integration\n",
      "2021-03-19 21:16:40,611 - pynamics.system - INFO - integration at time 0000.00\n",
      "2021-03-19 21:16:50,691 - pynamics.system - INFO - integration at time 0000.03\n",
      "2021-03-19 21:17:00,731 - pynamics.system - INFO - integration at time 0000.13\n",
      "2021-03-19 21:17:10,780 - pynamics.system - INFO - integration at time 0000.27\n",
      "2021-03-19 21:17:20,826 - pynamics.system - INFO - integration at time 0000.40\n",
      "2021-03-19 21:17:30,864 - pynamics.system - INFO - integration at time 0000.42\n",
      "C:\\Anaconda3\\lib\\site-packages\\scipy\\integrate\\odepack.py:247: ODEintWarning: Excess work done on this call (perhaps wrong Dfun type). Run with full_output = 1 to get quantitative information.\n",
      "  warnings.warn(warning_msg, ODEintWarning)\n",
      "2021-03-19 21:17:33,579 - pynamics.integration - INFO - finished integration\n"
     ]
    }
   ],
   "source": [
    "# Integrate\n",
    "states=pynamics.integration.integrate(func1,ini,t,rtol=tol,atol=tol, args=({'constants':system.constant_values},))"
   ]
  },
  {
   "cell_type": "code",
   "execution_count": 43,
   "id": "familiar-champion",
   "metadata": {},
   "outputs": [
    {
     "data": {
      "text/plain": [
       "<matplotlib.legend.Legend at 0x21eccfe8a30>"
      ]
     },
     "execution_count": 43,
     "metadata": {},
     "output_type": "execute_result"
    },
    {
     "data": {
      "image/png": "[encoded data removed]",
      "text/plain": [
       "<Figure size 432x288 with 1 Axes>"
      ]
     },
     "metadata": {
      "needs_background": "light"
     },
     "output_type": "display_data"
    }
   ],
   "source": [
    "# Outputs\n",
    "plt.figure()\n",
    "artists = plt.plot(t,states[:,:4])\n",
    "plt.legend(artists,['qAa','qAb','qBa','qBb','qC','qD'])"
   ]
  },
  {
   "cell_type": "raw",
   "id": "convinced-underground",
   "metadata": {},
   "source": [
    "# Energy\n",
    "KE = system.get_KE()\n",
    "PE = system.getPEGravity(p0) - system.getPESprings()\n",
    "energy_output = Output([KE-PE],system)\n",
    "energy_output.calc(states)\n",
    "energy_output.plot_time()"
   ]
  },
  {
   "cell_type": "code",
   "execution_count": 44,
   "id": "crazy-alaska",
   "metadata": {},
   "outputs": [
    {
     "name": "stderr",
     "output_type": "stream",
     "text": [
      "2021-03-19 21:17:33,777 - pynamics.output - INFO - calculating outputs\n",
      "2021-03-19 21:17:33,785 - pynamics.output - INFO - done calculating outputs\n"
     ]
    },
    {
     "data": {
      "image/png": "[encoded data removed]",
      "text/plain": [
       "<Figure size 432x288 with 1 Axes>"
      ]
     },
     "metadata": {
      "needs_background": "light"
     },
     "output_type": "display_data"
    }
   ],
   "source": [
    "# Motion\n",
    "points = [p0,pA,p1,pB,p2A,p3,p4]\n",
    "points_output = PointsOutput(points,system)\n",
    "y = points_output.calc(states)\n",
    "points_output.plot_time(20)"
   ]
  },
  {
   "cell_type": "code",
   "execution_count": 45,
   "id": "secure-nutrition",
   "metadata": {},
   "outputs": [
    {
     "data": {
      "image/png": "[encoded data removed]",
      "text/plain": [
       "<Figure size 432x288 with 1 Axes>"
      ]
     },
     "metadata": {
      "needs_background": "light"
     },
     "output_type": "display_data"
    }
   ],
   "source": [
    "# Motion Animation\n",
    "points_output.animate(fps = fps,movie_name = 'render.mp4',lw=2,marker='o',color=(1,0,0,1),linestyle='-')"
   ]
  },
  {
   "cell_type": "code",
   "execution_count": 46,
   "id": "federal-reference",
   "metadata": {},
   "outputs": [
    {
     "data": {
      "text/html": [
       "<video width=\"432\" height=\"288\" controls autoplay loop>\n",
       "  <source type=\"video/mp4\" src=\"data:video/mp4;base64,AAAAIGZ0eXBNNFYgAAACAE00ViBpc29taXNvMmF2YzEAAAAIZnJlZQAAcVhtZGF0AAACrgYF//+q\n",
       "3EXpvebZSLeWLNgg2SPu73gyNjQgLSBjb3JlIDE2MSByMzAzMyAwZDc1NGVjIC0gSC4yNjQvTVBF\n",
       "Ry00IEFWQyBjb2RlYyAtIENvcHlsZWZ0IDIwMDMtMjAyMCAtIGh0dHA6Ly93d3cudmlkZW9sYW4u\n",
       "b3JnL3gyNjQuaHRtbCAtIG9wdGlvbnM6IGNhYmFjPTEgcmVmPTMgZGVibG9jaz0xOjA6MCBhbmFs\n",
       "eXNlPTB4MzoweDExMyBtZT1oZXggc3VibWU9NyBwc3k9MSBwc3lfcmQ9MS4wMDowLjAwIG1peGVk\n",
       "X3JlZj0xIG1lX3JhbmdlPTE2IGNocm9tYV9tZT0xIHRyZWxsaXM9MSA4eDhkY3Q9MSBjcW09MCBk\n",
       "ZWFkem9uZT0yMSwxMSBmYXN0X3Bza2lwPTEgY2hyb21hX3FwX29mZnNldD0tMiB0aHJlYWRzPTkg\n",
       "bG9va2FoZWFkX3RocmVhZHM9MSBzbGljZWRfdGhyZWFkcz0wIG5yPTAgZGVjaW1hdGU9MSBpbnRl\n",
       "cmxhY2VkPTAgYmx1cmF5X2NvbXBhdD0wIGNvbnN0cmFpbmVkX2ludHJhPTAgYmZyYW1lcz0zIGJf\n",
       "cHlyYW1pZD0yIGJfYWRhcHQ9MSBiX2JpYXM9MCBkaXJlY3Q9MSB3ZWlnaHRiPTEgb3Blbl9nb3A9\n",
       "MCB3ZWlnaHRwPTIga2V5aW50PTI1MCBrZXlpbnRfbWluPTI1IHNjZW5lY3V0PTQwIGludHJhX3Jl\n",
       "ZnJlc2g9MCByY19sb29rYWhlYWQ9NDAgcmM9Y3JmIG1idHJlZT0xIGNyZj0yMy4wIHFjb21wPTAu\n",
       "NjAgcXBtaW49MCBxcG1heD02OSBxcHN0ZXA9NCBpcF9yYXRpbz0xLjQwIGFxPTE6MS4wMACAAAAL\n",
       "O2WIhAA3//728P4FNjuY0JcRzeidMx+/Fbi6NDe9zgAAAwAAN9zmRP7KkwbmwAAC4JhK8Osh/5gE\n",
       "RQO7T7yT8/D4mzf1qMZIxKAdcLz2ikXGg8u9dFGAYLwdLemJ9GtL5Hx2JlnZ8UqgTA2jtQz4wNvw\n",
       "rdo+bdH+w9NisBpMXMxEQItWyiK92yXKBT11FYGqpbomKqFx3XfsN+wGjROBpz8IBfeW11BOWuPh\n",
       "LjSlMY/mBL/eJp65SiVND7+6RopreGQJRe4yd6ds9yY3eAj1xWJiwCDaxf2UQhjZU+hCFEYsej4x\n",
       "o/P5U6907V9LxVy1NwNmtt0/kAd/9c/qYcwMDT7LA1vqm7x2IFmZ45762IzKu+3IHIvvYWwO9BX1\n",
       "zjw6Aqk/ToCh9KUxzCaoGBYuUP+G3u0PBsoTNdjDb6xq7nUewTh/s//j/+UJYnexOfEy4UvdKSrA\n",
       "FJGsE9E+sP3UF9W7ENF7qz0nl3MLcRfTeKos7sWXFCrj/5ihhpEwWN2yRWluWAQ7Bdyjxy/A3tmO\n",
       "5DdCjmLIvLWZrXTmT0nSR0snvkcrlV+qlsM9PVuhckUbiCpYg4zGSdmuoEhYDFzwMZ9ny362nB3v\n",
       "WBsZy4TPYHsocwrMpXPjvhZzAHIjITXX/8BHs6+5BnuVhRV1sUG+r67JgciajJSYdkxE1bvy1u2u\n",
       "zl2s8l09MGICgbUrqXQ+NjYEl6GN8Sp5T4nlilw3on9F06AxNjRFmXuAd3sYln9/zXxFJwLgZZPl\n",
       "n7F5ibzZWTYYy+H/XCSRDAVh2neR8VFhrJeuKAtNJMw5Y3sVrjgXwqD8Hy99Ql9Soeshm2WyOSjB\n",
       "vJgLaLM21eELp0RnbDjokzR4Mqo75N+S6yzMwlEwFtzOx8jrnTWd1Vnocy7d0bDQrHsl62cupE8S\n",
       "At19mNjxuJQK8IhpuCTX04q3Sxu8IUWnalId5gE+hY5h7rWoBxJl/2L0r0D+GRtRQvc5+q2630MF\n",
       "McVVg7Mo3FLYve8wxO2+OWNLLXIatUihelkEliBPAFSoeRPB7zQdRWHHsZzXoPwudrknmi/SwB0x\n",
       "BoVqwjlyTktwCqQOjBln75jhgecb+Ix/rvkXA+Pl4m0lKL0NAem6JnAtY2+3+c+y9B/J9A7T+mTE\n",
       "1pCUAqbXlPY8H+Dw9VDG+kK9vewQxodVBEa9Q5Wv0Q72yFNn7Ga4yEDdYTiS7FE7m+p5cNBL/lj+\n",
       "s4Ktc4dTPzPwdW4sfnT/Hem55MO3ojhIGnGm26cosDESQFkPTPitndzFXQKS1v3Tn8jBfFuvEn3k\n",
       "T3aGNLKjrmKCJdfsFBSGiP5UQ2jTgik/4gi3n2PGU/Ft0fP0D84bJiz0wVg2HGDKMrmhhuRNxLjI\n",
       "hHKZDpfd/R+RI99zUBVqK3yYhJWNzOsiPp2/6FFTygSQUiGU8D3pLuMmKLg+M916hd5efHfYb8nv\n",
       "J8ZfbxkmSBSPABLzjbRLFUgKkVskDLmqP1GGrpCvour2olwaVrfNJXjguCs9IAzJiIjNlnIKr+Zb\n",
       "Kp7XObz9qjV+QnomgsXnGKVrSX/9Udb6YSIWA+uQK+mGxnysXheBcc6Of84Mxvc6B5fZh7blOQ2E\n",
       "FI55GHhLWRYTRdPJjdHyE8PsqtpFG/zuJ6JDUhpK/cWD9Wx+3q9mT+3x7mXAApr02l8514vwCRtm\n",
       "cy+s8KRQkL0dNKtbcb8qmQLgoFmVn2lRe99/1/SHBtZUuPdLxipySHkO2W76qOs1K9Ca0HiK+fV1\n",
       "FLzJD2wYSIjAM1wusXD26K+5+2JL9TxBUgFAmrAU4jeUlVz9fKUBCX2iAGzQlJiomOhMqP2dNTfp\n",
       "xhTR8aCTqvZmYs4UBTexn9HmVz7GeIsnnVZxeuf1ERXQTBXDsUzo9cDyyBHUhma/8eS00mlfZmhE\n",
       "WjNaj3fEqkYuFlC/wQr99OT8WTgpM9Alo/EOQYgh3K1SHhYsQT0jveUxWZbiPQ6x50NaJIQWFRNs\n",
       "3PsYXEoak1xZCgSNRLpnPsXmmCYr7wIYgxcz2mrXckjhO7seyHOJfMIBykRqa/uOtHZwUt2rfmW8\n",
       "+8KwilabbEIYk/E6bYoNB6l/208NgMbLIkL1eKQfZSaUj+eJLhEC7/0V2wcySQcle5co8Uhw8O2n\n",
       "WQe+mIx0rHwL7NTIstTcSlPX1OhBAq/+dU6WWzskAYlU3x9+qbA5T94og3WY2XVhGUk4RzfnpmpC\n",
       "tIoKlpln80Q5R0hf/azfCmLQUh7UU+R4CTPvtc+t504DwclYMcmJDG63yiLCyEx+U3/+7Q6mVwD6\n",
       "On+E7SfGxZZYeFO2E77qPBiQ7vOE6HFAUeZb11m+pXEq3bwkLX/AUucBHfsKRi8ze3D6iCalxopN\n",
       "nX+xKVoUBZvzdePbOjmwf3ZEZkrf3tOMCNv04EqOHH7ppnoTw+In2GkjD03rTOrjAOYp6gDpQpDF\n",
       "udxoSYt9cgPIDKwMTqaKYuSz56PsYnmkf/vLZ0k9A7ZUJ1ZYTBmqYg5XcxtQdtSJ/XCurV3AEq7T\n",
       "JrmwxFNmP+drhLlPtOypGGVcEBvgvf7ipWXNaPV6CKI2IoEyhC+Iqzeo47zCvxXIvlNgqToJ74SL\n",
       "lbRrhYhHaAto0U96Os5iUNEWRhdyrEuRreEaVqOsnqVRLT/HEl158lH300L8ESfOFAHJIs5sxgjz\n",
       "HX9iLi9GVic+2LF1OcPwiNCWBqx7DnvEORn2TMgg4wsHyTwjStR1k5KnDKlp/iY+x3pXPduIAAIx\n",
       "qYGGqymniGMNuf4DB8YfD96DNw65Lc34Ryhqa/jUuJP2Vo2w7ajpSMM3PvEUr3EnY4IhZZNc451F\n",
       "PP9YznPfURGT9WJ81ZDSr5c2LEYvxqvmSaoHe9helpwnMwe2XAfe4rXaiOEhgbQi6nuBv39TRRmY\n",
       "oIbNjzWkWYYZoIaWI3SHW6xAwUOvXIoAeiESKWnYPsrV0pyLTm43dqDgmTgFH2hcrNvYv9tXfGPE\n",
       "+vBDrSP/2mlrZnMngHejloP1TOqYRyxTcQfoOXRcg3HsRKpEdY5gqmLisqUxyxYsJ5NTFe7l0eRn\n",
       "Y6gcEa+qQkVYW51A0rQ9iSnGDetwaRsGn/37ILhn3OVcMDYr+8y0/pw0M2SPf2MMv22d97NaPYHj\n",
       "+wkGFsiv1OJmeblpPuTsc3yL5XOq8znEj2lG3lyXpilOKpV/4VCX/K5LxXkyXmXIaFtAH/bb+D6k\n",
       "0nrXN+QPnD1JnDWmT+YCyaGVEItj3bGPByJEOV2JsIOmQyjW2Admt/aR1A9hOxuLFAs9PpR9+1f3\n",
       "r0sqA3+7eKu6+XKaeOqWFOV1/YS+47hJtB3GEYklppIk0eqe+EamUtqnuq/LiBh+INymTM0/ScV+\n",
       "PMahpPfV/EVdAxA4Peo612oR9Ce36Gu4t/Cuvh75/Cbz2xXyx53XleLUUMvYBwKx8CD836JOeziK\n",
       "XF10osdibdd0Jvy3JbLkMPBUWoNQaHYMM2GBbwLpHwPGkmsBzP/eUN7q2qD7TDa1EecijjoyqYWH\n",
       "XE9yCbQMKzXMk03bdkzMlCtzYD7lVRUv6+l9KndvYIO9g5bcya9nc9+i3PiYYsAXG0LGJac/lP5W\n",
       "dQzy3k9X/mDdm3Sf5N+ElDtD/qjG8y1n6kHuSEsXjeOOGD3ibLr07NeftheIJ7rhj9iy4eIWRD1c\n",
       "me16BN/YU4zRF1jxOFEwbaLJh1+6Dh2+yIS1Em/0Hhs3/6b08asM17FgUH/g42LOSOXFibyhJkNx\n",
       "ci2E+g2hMmY2dcmDoEx86AgB/wxOC5tgWho6sWbIfDgTVRVgIAqKkriCx91X/e79oxJ7uYxv1nug\n",
       "cCA+Z7ELFA0qVp+zyRGKBAACWOYmopvWgfMAAAPTQZokbEM//p4QAn3v43d9F4+hIrdLEaTYPKPw\n",
       "TOBQgED5wT43GXKENP9kEA5HIGZSFw7E7jUncmTWo1pW/CAcBkjeVIlTpkIHx5P3yO8rrkQQNTe1\n",
       "hTZiStsy56VPwPpZ88Z/yZ7x8B98mqNuY9vLnT/eBR7tH3GnwEGOAeTIrJvAzWagreHmKRz2JZDI\n",
       "efydJ4fQww9/lyZ1tSLgsR2+FcwNtx0w7CIVF5QEbspuVz5Spp5WzGDAoBCviUejaPU3jqI6QsCq\n",
       "hpIHnJbKuFIfEag4NyWKVKZhshk9Ck+I1xG3u9qwajK1P+69v0pnUD9QadNVl4mjtZ9j+r/53k3l\n",
       "1PyfjL4vB+UWZ2GDmNMloLRnWTgziJxrFuJ1SlMxEzPTSVGpPgpvy6dkkWwOjV1OwCUPNkmF0JqE\n",
       "227jNTgnWauGC/HaSYFi1xPfAp4cFLnL6HNF8UZ/w70HADFyU9FoE7K8J7TWs2WmH1RG/XTrKBWd\n",
       "cU2KRonyBww4Dap/EotoQcKeR9LMah0Jc+FJeTrrUhftlxFGUPJwYFaebKCMR2vvyvuPJzaSDeYR\n",
       "QTNKxQyWGWNq++bOaJ+maSHjrLgevDsqew1Jyk7oyxDkc9jlb+k8hnlNR5LcOP8eOYWE/Hq190eB\n",
       "GBn9eM/N66qeb+XTTCr8RC3gKCvOVIwBELQnCudNhHX7THbITDcuBIFHD0u/k9g9X1m/ROsxiDDV\n",
       "Pr01F9Lxdz2g+UjlWHz7n0DONw0SDcey6FeJPFvlY3LRmJX0uQzmDX9Ks5XwcXwqPuE3qhyuMt2K\n",
       "rlmY1FOOjU7FjfHZ41C58zDStoigp+WXma1DKUR/83Qk3UdwjAIcLGyo5B9/7K67HhY3eQcWPwuA\n",
       "8KyGgP0tysjBST8U46mAnuDicewxwGnAcmmVvhMF+dvKCRHt5Ft3grjdpofGEGu1Ku33OcmqduGA\n",
       "TfiBxlRH0k6eyoCfkpHNVmiDMpCOeMe5MM0+b4w2J1M3OmqOluMn1buhjcz9mZBJw8cEui1GsqsP\n",
       "TSw47PHAfby6zPoNIN/gVdAVxgmRDkV8tTNAOzGudZE1nGkm0je+IIyoXN2/CxOtLRbQqZ1hHkZQ\n",
       "jhAhjAHwAKJUxdN1EJSkWKHB/wwMZqVvkUBdMCJyFLBVxEzwMzBumbFSkKhrYT71vFMu37QVswrI\n",
       "dNwRfPiXVkp5Zj03FzfqiMFvC8AYvabRzZwCTiZoh1InWqRtlvjEBDLsGsqHoI/g9lOa174ghD3J\n",
       "OVhcHYTkfWuSQlTcFNnQTBJX+Gnv8DWnFb02kJwPK1q+BxBcKySB+QAAA5lBnkJ4hX8AgskNG9pu\n",
       "Edn2toATV5wlseYwW2mE1dF203aaTS8s2+Jd4PoTsl7jCwb0cHNKCjyC1Di01FPyojF3Gk19KBk+\n",
       "4SvVUxQ9fVBPYr/atsZxuVxUlgRWJNFbpHmx5TF4WY2bPFKTvJqF1+ZekKtOTMpBpJoo1aeFzpqs\n",
       "3BQHMYxYiUUFPFyWyyPvKZdlfACoKMgQkQf0i6iciYtPdpX0jjiHOsWNFE7G7n6EDbYlb1sLi6KL\n",
       "amKz5jOvLtCP8vUT9NnyphtwMBKnfrN52UJ3SfDCVwr42L3xzzCYfldSDFmb/IIP8R9aaJem9FJN\n",
       "q1o8v0cxgavmKawl5vr2qQse4DG5bPomIBJcFC+PmsK2N5X8+sIDnk8OdDtwoyI37ELIuU+sTQ54\n",
       "78WlfA87Fw5ZZ1oraYKHVI1S82uud+Ywj03Bg+kDTcAOmjXuES7X6oHtJjatKPqnH2UOswFuXSUg\n",
       "pFAdIs06afKmpQNYsklhQZu7fkkvBYEL91Xm9gzK2tjlWJW+yLXfsqBQWYgq23SRZzD5yF8cxDlD\n",
       "05VJd+ik6Azl6VA81OtWb20czy78XD6pI+Oi2ISMf7WLzi7nMO5sPcKinpZKtDW1x7O+CZyqHsWL\n",
       "ci5RYHAO4Ng5DNLLdbPPeLBSZUDe1J1P3kbdHLUXZtZxklKWIA8q0R5WrsN0gGDdNLp7V+Lors9I\n",
       "No3JxyUyCFj+2+7vvYcsavJVPPNYD+t8yungZnFiEf9sPHpD+kS4Q2FdsBADec2sSkiJX8TpVvAH\n",
       "DmPXJO8fVc1UoJQnqIdf97Jmp3dbRks2WNA6XlPtzkCp7SQ/LdlvXLUYOl8t2d9FXPZUI1agXmAQ\n",
       "P3khvuJX+bOb78ry50CvyCWWDyVWK8oSpZfRSurc0mPOZf07h9T9Ti+liwFP8YSJVsb8hnppa/5a\n",
       "Hzs2Vo48M+TDAwNCyxslplJ/XAaLokMUYfndrMH6BajrvTRKdCXDs10JBijWrO5oS1uobzemaDRa\n",
       "UWN4qPbhVMjp+6E3q1wnygGRnW9xlNYQTUBiWh/Bxo7vjmcfgJgZe/TMUVFzAhxaPmkVGHBISD1g\n",
       "QYUKubqiQ9Yvwv2F8x3oP26Bqgrl2oJfml8xxqY3xRp/NrviX45MjVbNn9qCsUw3lNM1Qg/Wgdki\n",
       "2Kn5ehOCQztqfubbHYIU1d95cMcbMh5K9fW/ekhY8bFoQqxRpSYZycQuwujj4EAfXMHsjnsAAAFC\n",
       "AZ5hdEJ/AKyjNLU+LOTptKvx0KkVCWlUTnpDNIPY2HTNJqAD+vYhzESsGcTZI0KyhSeY+CmAAXeo\n",
       "jCoyA5zTwi9V/5n0SNw3mYZs7ZQLOvsJNEuCH4d7gG2fyklaT1lPC3lYLgy3I6d0TRIeiY/R3Wec\n",
       "foLhL4QmAVO8zbfBmQVEZKKaggHWaQg1vX1XI8udCu7OreyVSe6VzFjEn/jtMKJ7eHXjD+oam71F\n",
       "iAqAXu/mBibwY24w7tYiJb06Gbto6OK5dzSgMvU/6nY9PC2hBvaWuizwY21YqGPJsKIKsh/8ZuSS\n",
       "Wo0P+alsx68Cx++lLl3I5vnuKEB2ZGb/1i+dt/PJ2b/j9EUg0abzgUH4CYlmXMG8eZbiF0nLUnjl\n",
       "9Qlzx1194Zofl9wYYbUtNndldGQW8rm8iyFAIYLgFAINhmzogAAAAjYBnmNqQn8AVlkwMLDqhEE/\n",
       "uF3QAt46Y9GnAEYWZSC4rsXSrUj6rWW9ujtjuDTrc0Ekx97rbYamdhqBVv4bCOemrcKx0d0ITsJS\n",
       "m+dqFBzNPbM1mzb8G0cUbuER9MRgE3uYvqDymIYLv4Zd9y//gm/7gP/NyBEj50+7hLxF8ARGnHJj\n",
       "hIn3/feOXi6IcMLUSMtvctvuywM/x6B1e6T+Tt5go9IEu3sfK16DDjFJJAnHZR0esH0cTsDh5o5S\n",
       "jATRQfMOiujeH4mhkmqpz/SK/pO4BM5aIS3jYDQUsa+VgopgnjlxWRIvU8D6XVo3cZIQb/ZMf5zn\n",
       "sS2G6WcQY4Ju7US2HrPvx8uX99bv9vmsckOFgxO7LpeZ405tKRoiKDty1r7XUTQL50jHUMu9DwGU\n",
       "FUwOAiAKrOZv+eHeC+XUE8Rm3s8b+G9SRUtTvAt9yqlxObDj+1YInAFD2RjebYBla1xhyjnnwVQU\n",
       "22TMCEwSEcKPy6yMHqnKCuSUybiSrNJ7FugWufKVciglvV5rC69M1uWGgXq5ENGt8Orf4rVXE86Q\n",
       "ZW9+reOmPZ4me4Qe5wppw9b4oGGpYgFBY4fiqZXRTFkhekHMtouYFDVNEP9ByiNYw5M8Y86ZWcKI\n",
       "pkazE27kaobi75a+0YpIGRADaPX84ucof/OXYFmLT8H3j0/QsGqImII4FAQVogjf9NlRY4s1VObz\n",
       "WbcU3Fpz9bOLf/huEbauCDdBIKwUzf040McpnsgRln5NqYcaUQAAApZBmmVJqEFomUwIZ//+nhAA\n",
       "VH3frBociKVrqqOMsNWwO9cAC6DFrY2CSKc7Bi0HVZmZCX4ke6wkSvsJa6vaRGzF2H5mGbwnr8tb\n",
       "9is2vNz5QyOQ93g+hVOFtXUzGe84hSfmyexu/yB4y/mrEA6SJftW+bsSWMNjvhXyXEQ8Ej6OYMBK\n",
       "y6RepnO2Wyx8yO5XM3vxGtG1KDLOPwEiVXPgwYeuj4PpSr1613omT4L6dsUQHY0naDZ+t3NpMxTR\n",
       "bk4bTQzUzugCCWgk+86CJUTmMkjwMpJI3KrpLDEyl9KYFMGUUkJHd3NvLFyftBTqg4n9JsCGIxBr\n",
       "o88430wNtDjoFrD+jFGK5EuJwLCZHscMqx+++ABSnDNDW8FBm4ZpoZ0+c6w/Fc37u/EJvdLfavvn\n",
       "blNWtyRINYXpvplZy1Up3gVff5Wmw7UJdEMm5BwglHa6S2BNnbmuSrSOhru0aukBEvP6ElNg2VRc\n",
       "PSUWTR1Orm/UtBP0yqIZrXLlrlZCVLR9oqdJbx3eM5CGc58c6Pe26Yo6bQ2IigrjgN4Ud6A9TaWg\n",
       "mcPPrrnVXT9IcfG+keKXEAlIeERHd5CINbqIqRs/gHCHK7of4SIR54c1dm8oDCSvkO0hkUirR8+k\n",
       "YmpzvATLY30m7bqbZBQpeJF8hXy7POs6a7xjPqUE6tCNECvRL6F4mvo9kOikeAiJithp3zninIS1\n",
       "qyrQwqcQb62UjF7kts81uIz8BhsKDb7t90VEqspdoUOAZNv3RVqrwZ9RVc/ubM/VTbj96dX+zakH\n",
       "bFLu5rIBRMl8j1IdjqBEbLpH9v/8QZTxNFRdgUHkIa9i0DLxR5nPcdoEcpK1rLDeLqpBICEKSZRS\n",
       "ExRE2kKsp7zXxa1kTjhnZoCLgQAAAxJBmoZJ4QpSZTAhv/6nhAAKxD9MbRUtU+AC6RgAAF17sLBk\n",
       "1zlBoX6dS//1EhLDI7DaLMVsmuNXPojTyd/gwuuQ8KX7iRpij5hYiIb3CmMQwTiJWXrcVgndgIm6\n",
       "lgtqi/FblWZw/zeB8/ojgLns06Y17kLF5jh8DBTIRANetQbBS0SARzAUZbIVJKKRDlvMKeRzlvPC\n",
       "X0xd62F21FkXon74avX6S9pQQqHSQw234tOXOYHIQhAIcVeMBobNpoK2TLJXO2J/DlQq/0jF5Dhy\n",
       "XTE4zFYeuVuo1qEONKanoi8G3z0O/zPlEof0T9d9uaLbosSzcjdWLMqWD77WSeaxextFEgJyyHT+\n",
       "B5WQ3HjU+UD2IHp5TgLcIZGyL7dgrr+PV9XGwMK69FbIKorCjcbV7MSxM8OqlCyIajXmCPBD4Zqo\n",
       "CAKSMJppl3bwhZuoKkJ+L0HOPmzJSBV+aT7RHUycJZGC9smOR0/IWzMblaLlhDN75rnhjR2Zqeyg\n",
       "gfrKP/2ce8KwP/arq01tEUjh27CtTIEO/h0G56nZmYFtcH7a6NfGDDQxrvAalZq2VGLHP0QVjXe9\n",
       "KklEYT2qxShFX3fSeZOoDnGYvLeVxoV7xkR/fewZUojrlUHcXVHPs9gyQyunmMPtWoFOh0xJafpv\n",
       "VqyvWyrkF++aZzZoEGlhNwpxZdLIr/5mU5MsM9I6t0BqOOSNoPjl6Qf5w3cDU0E13blLqoNjWfYt\n",
       "5A8vmRwwgiBvV1OK8AxyPovLpg8pnTiQB29NrSqR0Wo7Se99umK/UtxNn2Rcvm9NHXP1QTUhCnZ/\n",
       "d6KWjOeUr7Hbsgn/1w9ocJf0ToQAVvjj7zE4wj42oVxu57FrAnGasYCD8j0JOPZtT9PWAzgAirXk\n",
       "fZeqE6sKZ5odfmPuQ/nKCVYqFmdaaH8I1X2ytQP11xUGK57+FTaEAXBqjRkScx1V0Q22DKyUtFEI\n",
       "g5RREmDteVigHtwMvUYDKuYzUdhLBOzA0G6RAAQ1ZdLuj4vRWV/NiBfGLbmvni6Z/ovWq2BIgaPq\n",
       "l4NoqKcbFi+44rkAAANqQZqqSeEOiZTAhv/+p4QACsQuq7AUVcAJcotir6ViS4PcQC1gw5TRSumX\n",
       "Eq/mUAZTpjz9Rhr3Rfu+WQqeuIZEM5H53QoyxzAdj5KtrRinKtb4KMEXKLLdLspql5spLoiK4WyP\n",
       "zZ+npiVAccoLD3SiQtQ6xv3ItVz2mLYblO/tUbwsmGf/4YzDRSS/GT+wGwFrnEs4ihe2vGri3x2F\n",
       "ao5nVWu5ADp6aqmfN9+FD5GFaJbZ8xWgNl2cqv0F3pdnrzCvR+ZNkBhkTLUA9g4s7CbSHzLEWoBy\n",
       "G2+L3WY/5X7jlp/InR3MdASry38l2ufHDDe0aXE4MH/UrvGcxQHepUHx/pFX2pn+FLopG09TOr8B\n",
       "fyj3XLOZGuiC4lxavs+CEcn3XbMrWkRUigV7dN+dRpumQPfapy5rHANH5orWIlZ6ewnGRXbZy/Vx\n",
       "yGX5dtnQHbWXi07IzG6xFgzKaKDNuQCZuBWUaGjXPWoVhZkottIg3Yne4+X+8TCdV6wz4RHLLYfC\n",
       "Wz/Mg99g6VKodtesOLdn7ErfkbkCB38siHIe+IY/eNPsqKO0iXfDt3OsqgmG5cdMV4FW/usGqala\n",
       "5kiHsh6JTj7DlEFeud1+scGpqWUURdGzXPXDy8YNwMYx+mZr2vE/1x/IkHDEGxeHptCEoPAotbIQ\n",
       "9eorhzoA9aCIYargnkBfvYaYyZ9gaXhI3bKihRDK6/IwQDsQbA8EeEarP96hocfFxo8Du7xQJfHZ\n",
       "kY/fcsyDWdFoYaNevNUF8ulcPE/3TLFOakcqpgxsM5E9vXFgYliPBZdA7d6KmNv07pBL8Atw0Bc3\n",
       "g9YDkEiu1CxUo3frr9xHSSWcSiQ1myPO7SZ3WoEDnhqUdj02VlZyvkaQ/3YbDKVJc8DTkjiFUb3Y\n",
       "v6SOHbPlcy64Pb1McHMtVSJRBtSAUh++WDRiwvgbEPEF6gzP64D+dFBY0+CRKNPdU/E+gaCSOkDj\n",
       "ZyRU0HYqgBUYwlN2xnNygVIvoX8KnNXB6vGWslvi/P0vUvoogBwyxYS9oDekP2E9htcMQHo6Hr0Y\n",
       "PVurdzCAfYN4c/0d8T0CiYL1qlN6n9KpuH8W69trVBxTSvgPFwaujqRIlLOcUH37my1OauU60IJb\n",
       "hyl/JZ5XNpcOeD8E55dznfQy4JR0TWdc8kEkTg0Kj1gfmQAAAR5BnshFETwr/wA8Kjncniz5Gmkv\n",
       "NWMcOGUf4uQAhrkKj1BNL7/tBsGi+01Inf6lV2jVR2uddZA+25kvu6bFD4AX5OnOfmg+3zf7QuCX\n",
       "9mLZgtBQskCuN6bxJIzr0Fj4x1ejj2HmnKAKQM/snrMDxZrf6PvViNhKHQCpDZlEfq/jiA+QSHSX\n",
       "gNg9rfd67VPjMfCrgmCZisuqPGi2vMyotw+h2Td/I/qrT2LoBNq5Z5KNcvSIvIa6RXmQPc3fGDhi\n",
       "KCPftO8pp7O4iBx3WTaELOfe+fByIpuV37y97uGvZbJ0xTECT193nQKmDewW70isife01JPUQ3vW\n",
       "Bebrhq5jPlt31pApa8U539J1+5klSjYGS/Wx1eGHBu4w5J5kT1QoAAAAugGe53RCfwBPkZSZOQ1Y\n",
       "gAh5rqvy89ChXiRiXSqo9q4fff3RSYDvKlDEro0woIz64u9Qv3MHvELzG7q7kUmWSor1Rd1pFPS1\n",
       "3ZgSj3s07xIBU23N7yLLNubZFayeRnqMSI0ea7h5CzafZGG1Xr37x/uyGQxdXkVzp4Xpyhg0yMR+\n",
       "YbOBiD9McCfLd/j9Vg9lGJsQC/X6QntYWl1/jAHQN71LSUvN9IVh2mSMa/+AD4NY1SuCi3I0NFxF\n",
       "wAAAAKcBnulqQn8AT64CNOLDFFSJUW19fk97/fEr5BOhQgAP3T8wZXZswcpPtpL/mJwdaGK3rzOv\n",
       "ouVnlO72AM5f6dVLf8dBEAzM5SGZSrRTo50A3eCXVNIxtN2HNh9IeLcJ0QHSGCpcC8AcSnaRNB1L\n",
       "TZFnrFpHl8jQXYEZDRzi4yWWbFJ0u7f1haOOSfsOvuoT82n+m8nA5P3P4AepmwTnUuD22iuLIMlX\n",
       "cQAAAFRBmuxJqEFomUwU8N/+p4QABm7Y0SAIiWbQuzkwYd3CnSwpsa9K7Se7CkenygmYt35J5T2v\n",
       "X9WIhKO+D9O504KfbAN3zAB6dUoQqW9N0YIZsiS626YAAABBAZ8LakJ/AE+84TZ9U2lnxQGD132l\n",
       "hPtpkyMP4R1lTu7eO+sWeAEPl90vYNQE9S0ilcDH6X+CfFsBxri0dVIdKbMAAAQHQZsQSeEKUmUw\n",
       "IZ/+nhACs77ye1EsYKEAFqeo2uzj5wIVx2G442e4glPmfWXL5hZRyL68MM31dzbMhjrxoEoIV3Jh\n",
       "/MxMtM2K3IQGzj+MEYOJ0YOcP/CggquimL9sD0LK9ZUCzYOV+TDK+vxGp2hZiXW2nWQnwTp0mUeE\n",
       "V1Jt7Cr7bxz0G3NJgwjf85rXn8sPO7DRYLxXnVxm/d6yX0zERHXG6JTFQEAItptsS+M9XYyh1OJr\n",
       "uZXdedng4+QzlW5+2wfyp8LMj3vvgGLzls7G1WxGYXX1ecWmGqSQaAG0lLFPo1p9le87iIJtU5Em\n",
       "z+hw6LYdYgBLBrbMySnP1Nh/f0ir/SyHQw1WqGaWHOO4LCgGiir6XhYh7YSL/3qkulAf1ij0k7P7\n",
       "Iy6riYBLpaIM1wuhYOSczLfyjwrd/9EEkTMr6oYjH3IzXEotyHppdldIagt4CP1wgz44ugHPPXrD\n",
       "Nf4+8uF6fLeb4CXGl41clI9UE7YIxbDzP+Y9CfjDkMjJB6zqaBczK+zE7m1EMYHHQahXOq1f4evy\n",
       "gVi98cQcZP1Oa/1OyNIz6yhlmzo81NtmxTXtUFjDG3JJfo04ZgL7TvGu3qmnLvVLR2A7fhKBHojY\n",
       "YgDItPVLRN42K7rDyu6g3X9aAbMT7Knnd4G65YWCPX7pMtgb7bJVNgQqLOHrcb5I9pUNdeYf/JkT\n",
       "ebhvfJSbF9AmyTY8j9a0IWyO9RszqcLjrXfnB0a8iSI8a1bifk+M2YYjBqp7JaixRDM5lwULLAVF\n",
       "rwtnK+BmN3+982ZzkqHWJhoRndP3faQJPzX99y1uzsgnmg2cukZK0HRapHzNnwHm9ipiisfos7oD\n",
       "IKd1ymLY4RNSAkQTycuPTmrU/ehRy7NvpfE5/aS18SpMbfxtP/NXhoBFXlr3sqfteEVxQDd1ekX7\n",
       "XkUI+F8OflKWKKlyVpc9n9mNoOrinV/L5UnEmpsAmX5q4BtNNUYBSnY6o6IpBn3gZ9sg5VaClr/3\n",
       "3xxiwghE7Xgffqydg/w18XJ19MGU0qnOpzxeCYUQfdPlS7H14EmzY9/z0iuGPDM/wFHzvVYhnsGb\n",
       "FzllA/G2p5QtdTISTbRou4atgmxs7ELG7oOsD1myFbzEWCs0NY76yNnf3biZGrH3FPcQ/I7n+Bv8\n",
       "zl8s8OnrZq5MCD55d9ZDr1/Me7rzzY0UCnjVT4HmkNNgAHhuiM1mGhYQOUUz0UM7Qiv9tOe3jJbt\n",
       "uocm/2/la6JZXGc7C343zIkBZD2msHylnym2JoKlrluvrpdFoTHSXeRhwcgxzb56mTVVrRQV1E9N\n",
       "sJ7wyYExXxdXWeTqqZRQEBWnDSwqZJ+UH9uet5Z9DVvLdWk6fbw6sDsVIfw6qCLGmHQS22EAAANv\n",
       "QZ8uRTRMK/8Ajuu5r6NcEh7mABdR2umqbR9jX0ZxLOMc+nxnsFH7WLI4oUy/4Qj/nc0uw/WJ29OS\n",
       "Ujdn/hneXBj8Hr9q3RXjfYWuqFL8xGruZ/KnF2cae2sTuPHXJJ6i9s0gpYilxb8C3+3B0hcrGo77\n",
       "98l7qWfklP53IswN4BN/44Pr9lWZRahiG1Aa6HL0Y/2dK1qAWrmIhGuijV50pYHoCRaDG15DptWK\n",
       "2O5sJ2LumnGLR8BrEVgJfp24BePRkntTdIkaH/jAEwkesDeh9eeN4wZ6nlIRQqQ7jZdF4Ya1S5WT\n",
       "ufkKIqwOyGBTzlIQJzaIau5AK6LS0XFW9bY9rWcx/S4/HBZEkM64OHdJHHCBMCUkdyujhiJHTrZr\n",
       "KW/n5yi8vL1BzANWjrqyy/YRWwj9abHKE3Vhj1orql6id9sMI+C6s0R+uQ1cuRsc7MCNquKHbFH8\n",
       "vZjTnC6h6wgJEFQAK6+yqRyDbNIfSecmuET5zmVB9zRhBcqc+UMYfPPBg6F/FxPJ2M9V7YbhYciD\n",
       "iBPFbTh8SPDxfGV2Ca7fy9jNQ/YdaufYepJ3bWhnrzcf9EmFB0rHr6oleJa7yXa+pF+uIdB8zzX9\n",
       "gKk1E5rtLJeqTvvEMZeMNF22L4sPuKf+BcCIN3G4JcAYgclvVVAdWm9dx2fvd5dG4P9OqmkW6DFx\n",
       "dVy2j5FSajjXTxkHyipoOzOrlTjWPSvGAIGON1a1zuEKTxrugko3uz1wPqWPFHbQX6xKEEYw8zNo\n",
       "9xEzIVhnuWXzUsXu/KRpOmw2C5iZhDXfPMUaS0nSWpr+RVwcMp2e2QpRbuj98bw1RqmI15q+HPdC\n",
       "5wmMXffCBuNGTJLgaCa8GL9fWqRgVEiXuOwEkOGb/E+FX6MUE5x6yXzuE7cGV4fuanx8pl9HUfBD\n",
       "t8r4RT7ERLbRthgi86Jud5cU5MAGjneNr4972XW1jmpferjYGN3DqGCyWRRUl2LQeAMtUlY/QkNk\n",
       "zxzdGVKoHzyn/vaiVXgn3lxVZwbCJi6WoJO+fGjcYlfORX0ok6htAXMgyUmdce1GfwN3htGNXN+T\n",
       "zF2y2c/FYEIHqcfIJuFIcalwu1aRvvnbO+Lp5tWIy+w/btUxmkAxt3yMUAsYTWXLHUtSpppgo8TH\n",
       "dtLpf00jICeb6GUg0ZJK+xY1xKWpTQ2ZAAABgQGfTXRCfwCxaTy5V+hBrHHvnokgmKuI3hdf62/3\n",
       "MABl0vMk2ABD8AzL4nvyCVDh6+dxBX7pJ1ScRLuHRsG0HOlEgO+7vRiiDVN54bYUT+76lINk4j2y\n",
       "hOJ92yQE30ZiYWqs7i57crjUNqz22xbJYDFoLcKpVJY+IFSC9VQ6Wl+JOYdrgvC0BAw6eJiG7Ee0\n",
       "Kisfn2LOi9GXWwiEM0UASLXjFfMColnQUMMDx4VftFX9NNiHA2OkkcbL90NGReCU0iUshavHM5Rw\n",
       "4BEOrDGR4Sha5yxH50/old/Fv4G1ieqAU0b6bxX0UrIvufOKcMCeG5fIdT5xWNSW469xbuvM5U2N\n",
       "oDbFsP6pzjYdHgUn+DOifBEJidMrs2HfTRYiBok9HYPdh9phskfX37VpF4I0WMxIGM2AoQiaQJdN\n",
       "7qIoEX4H4mvKrYDTHjh9H6e9NRA/MV/cXtNfxTNe9QMmpcxjnyr2k63BtdaHSevGwBOVMsTva1/O\n",
       "hcMJoeU0wcK2XZyAekEAAAJUAZ9PakJ/ALpbrKoN6x0EUd+SzL7M6AuLi/FZwRpkjnCCIgAiDt+U\n",
       "iKOyg5I5ABYQFK12jJtVPDv7Nz3C0v4dc5uni4N2Az2tk+tbllk57spBPJNDCwqPZ1Vgd7jASIf7\n",
       "hGxqO5LflZ4SsF85K8iAKJYHmeRdlzMeJQXKuS9wWC6ydKrey7zsbCadHPiWEIUW6gwOXjWRQM12\n",
       "pmXN7m07XIHiMNu4Jv0uLCiX2JmolE4QcoRq/rPKOkUCIixZOkbBE2FE7lVISC3Yw5kflq6D92Vk\n",
       "4YfCibNkHLYUVC9vytsgpD6PjB8r6nC9DxM9RgTu0x45TC30U6gx8DSIg7LLT5uIJH/lF5OREaFy\n",
       "SVa3HqZHoKPTI6RK9NoME3iMFbGHUD6sWSh/sDTC8LQeS81K5SoTkpl6Lc0xO80y1ddGjngRyzr3\n",
       "FxBLCCJpVX5s9c0C4YZGff0ydpQc/hDyoKLxNQ05E30Tp6BWvysk+UeeLX6+cUUDsK0+0xWmYgYc\n",
       "bwFwF3USp72p8ACIKiulmdibnoekscQxxoPvMu+/nst2SUeEZ25OLpkIeHtiuZhnOyH2R3BcjUC0\n",
       "wgBprsV/5ySllUcyhpGZ7nCRduCj2Aa5R1yLW0Yd1qiBCbQG0KpCojnZOBljonH6XIMyYVq9IEsI\n",
       "+caoR449byFFasPCRwnuvsLONjNcZxG8xde6eGQx0WmyQBoS9dKiFhfJ7dxvnq1tJKzMP6KBtzCh\n",
       "McupGjK8rQWESUCzd+s7j/W4AK8iNnpeF9JBi0fvUjunQcN4TlvWwqgnO3oAAAD9QZtSSahBaJlM\n",
       "FPDP/p4QAq/qwRrEve9Evt0PLFVCxyD4EsaHGiu4VQhACD1JjwLnyTAU/q7nYTF80h7eVBeo1ZMq\n",
       "qzY8+g8G4+we2bb05grRVJI0vFjYy26ufhs2TgL+eGL47hsIVUf87N0nLfZ67miYRCJsTm5sFKtX\n",
       "BQXbzNluU5CGyTYJ+0tAQmsmKcbfQ+4EsRdxw1zV/KA/PGw7REFmthfhbFinXYFvqB8O8WEhpg//\n",
       "tPzQ7pHeNqIuM8Rkh7CBiAuQnwztOXTFvGpYzyWLx5Wj7EQ6Th+aRttAk2cimoGa2wHUx+OdgoCw\n",
       "vkJh4SA1/AwjiTcFWdypeAAAAlQBn3FqQn8AujJiBtCsBfL9dplcIARkcqZyvOCUIMNqVvM0WI+l\n",
       "mF0LRH2koV7OTyWhzYEhzqAblPRAmB90ljK6v/qqJ+m44X7MAJm4j1662T+oQCh+yvkyVqmQwB/W\n",
       "b3MjaeL4WHLBR/g6DBFtbWuqJeDnND9deAcRzhvOyTcWnaR1V9wmqtWNrfxEOW5PogG0lFflvi/8\n",
       "DzhiWEGy4/w875AXlAZvSKcIJPrcd9j9BseGChYkjbuHVZ1YX+8miYF1Lc79JgaaIXu15uoXwxai\n",
       "ox3/9w9pNb7lZEYO+RDnQ+tI26v5pGFsVOA8iHVM96DxcaXZgiv9+h1qOGipS46PaLX7fp9hbVSc\n",
       "t2i+lQEsSRUE6kPFoxu+ORXAYReXxWeYt9kcYtN+2ZAN2G2KCR9fqXP2pqIJ3MUZo8ESqFWkD4R1\n",
       "2PAqxEuVqvVn+m2wxSKgP6cXQ7sFsUQhPlYfnQLlJ5Na9aNwaEqb2cYSLulCP0wye5EeJFD2wQzT\n",
       "vTf3pc+Xdubv5bMmPbjBQlzziAtN779zL8GIpsNl48adgYGf1xpncug9um+HSqn3qz2+APRBnz9S\n",
       "BeVXDdD3zdsRuEojmWE/yxG7Jrx/aChnJgBf4wIv3hpZ4Wh5e7oTyAt+gEIlkT6a9l+I82yOe6tP\n",
       "9itfXOTgj7bj51I3ZG08ibuwKOy1lNua1R+iG25SGZB8aUi5sGRFRlLRV/WrK7yBXE5DNhL+4wlx\n",
       "RDEakVR40HUdcsw4kWVw7Kv12TTbzdQbJnvRyFoeQ2f75JvESeMPdP+wBP2oOQAABMBBm3NJ4QpS\n",
       "ZTAhv/6nhABLvkbDvkVwBW2ab8SfCl+Wue+ya2e+jzRBJ6s/+0ImUzyXN5FM5BYgmzhedsHmDa0c\n",
       "tNHutX5aWpKuSUfQHWJky2hNbCtYL7fMjpeId7F6bS1ojvcQB49/tLGAhw3E4ABCt/FElr3i2PXM\n",
       "aDf2PNHylCNO2FBa76sWT3pYqM09p1yiUa09G/RlTALfxcCmhQemXomIGgwJCOVIXfsw9ECoApBG\n",
       "1/a+VxIiPYCT8ADlkS8GVZ4XhO9yo2YmYDAjDQokA3ltpI2AXxaifdI3OuV6/ELMmQrLIrn9bzyv\n",
       "g8IjJaDHKDZvAZl4k46Ajr2njBJ8iTs8aCRJ/udgvvFntgVOuCViItBpTv9z9n44cblfjy6oCkwE\n",
       "wGZUyL53TAipP+O3G90sYC4Rbg1kXsTqKZcyNf1jnAxA5ud8welwAR8XiZ/XeR0letzMq6QbIeBa\n",
       "UBXa+8ld/lTXHH/+tgzibJ1qjfgVZaw/Q3p1ZRCpzcSfusBa0GRWBmlTi93e+/o7DKGcyROT+ZRG\n",
       "5Ltoo/bNrNfFkTcLxyNWreENI7h24NClo2mKVOcieO/67UZudQwxUxYiqXHisjm2UQjA2sCECMhV\n",
       "fjtkSFrYFsEkpMKo3W1+1AygXrZuPoTQLEzlFkv/tAcHTeCYvFIfP0HVk+apdxVMYQ04SHDlvZZN\n",
       "gVZAQtsgoXDaJVok86vQNo6hcJqQXUroZpU4NICi8n++6STLyikBaMuLeL3aJZSp8UH4bDNi9Tid\n",
       "GiNu8h91kiVo2EQinc3CsJiAJw3nP4tHolv397x4P6dpmKrW0q5Gral/o0Z2/yLO23R2eVs2vWmA\n",
       "9TPAQehOf5AHraOxsmebg46R1Gefu+fvRZbXG0TKk7GSZC7bq7ZtFL+yH6BVF88UQVL7Pa20uYbW\n",
       "qNJgYqwGKP5Hfim2uIfVvi5vTUNdWyBrB5xHGJjsp+qdBHPDBRwex29zg8r7m2uNNGhSmV+Cqt69\n",
       "uR2lfJ/Tp9mNNm0d4duHF7nTpDUbNIDaM7gppv2/IyLNF3t+3QATL7YOqCSz1xjXtHcE2f2qUj+I\n",
       "p5bdH2z2ret9UX1FgNmC79NcA93y1dVsJAjePWk4nTzhubfskDcVR6OAI4QFNlKABpcHysGcuUI0\n",
       "NKfMr/XwjIr+Na/jIYRSCAiJVBQ/KNzCDxmLioFJ6zQZpHYNGBD5zjiwxPG2+joJ+wRAop6dED4j\n",
       "m8wFOpkQwHTdir3eupUE5Wg0HXBJLvNuIRJOjCxBwX7OlvXgRj89fv/9tXcYaYUTNOBhmyobc5I+\n",
       "5u8aPxGuCO5mhQ0CTJB0fFEexdMW6db3z16GPjGFn9GoW9UIH/XF1eCZ6gv8EdOUj7ptPMKFUAAq\n",
       "6vD/O8yhPdTv+yK1lvGFTRHKKz9ZZXtghoRa8QglMxBMhnI2ilkSLFrrerUXlNNAPtJdSuqeMDM8\n",
       "IIgqlbyOkY2exWBbAmN/TpM9aDwKab3aPlrE0LudGVtPt9D68vWJoUOv/4UOMNqE+b0hi95oc+Iy\n",
       "9euCdpywCvu1lQ0c7LUErzJdj1LSY2jvpdbCae+ZdrozhsVJPZtRzkrqZmLuAhk/wkXEw/72e4Ah\n",
       "961KNy0y7rkDEK1HAAAB5kGbl0nhDomUwIZ//p4QAJt8VqBVhmfv84WgCPHf97v6AdLTABlXtkGt\n",
       "kzOBQ4RKXxMixtbr7I+rOMg8if2pQHuiOMjDbD2tqAVnr5OU4kOXOhRfEX1SFcKTj0Ci4qsrEYHi\n",
       "eaB50i+6NHR8e3P7rkRqQQnrmTjhmgvy3krGHpARJbYX7vmtH6GjDdH3vSWH0k25f4OXxOic4DqV\n",
       "tnICUmhKlXWHLpqi8L56FrDWGHprE1lOrlXue6S4GqB51b5tZj/lSnVW4SnQlhFHE/o3VFeU1m+M\n",
       "Mypn0bIhJdG1YQgmTz8ERSG+26LVfdnUD3t5JsEOan7MGjOu0TNhbeTqw75g3CFlgq1ihWJ1IZus\n",
       "WhJp5w1ZsA0qB35zjOF5NNfnmP2EnOU1n8lVGDw4aCRKrgnFNAdbM0CYaeWQYQRlUclb3oMRVHsj\n",
       "rzeRYc4h9w+86nWlrVwTwZyOnGd4MVqRHa0CUwOfSSxH5rpU/yCSF8N5UfWztcD11ckEik1AdWhf\n",
       "b506OhGC8ZqduywZq9m1vGPsMCJtT/YwRBmFHiX6vCEfMqRD5Jy5HqzXlEAGNqLD/QtNIR1Ywhxt\n",
       "/A+swcu4iGcwok2URHDAnZTyUAGolvbqeIQbK6DT5nqt8xLz8264qx3LoWaBMAAAAwZBn7VFETwr\n",
       "/wAfwKcBA+An4GZTzayMSDvu7w2Q5lw30nwMr/bA4cOiT1udx1BioXcB56g+ljrmd9YXbJ6fLcgT\n",
       "Ax1s8lzeP3CZl+hpbH9V2TaucplyxD2L+3lBa9gyIao1IywXx3fHCf8q6ImBQWUM8xO+tWB+nvJA\n",
       "l4Z3oWkVYQBw5wDd7NyrcqDexpeTA5/zb38tPW7ZXhCdd6GyOjK/IX0CJPvZ6gv8AJNyanP6W3vP\n",
       "crVZxokRsNCHRmrQNmzzkdfhXGU5nJNbmvyidK673vkmMpuz3HWgAziYw18boQH0qA94HXc6jf3d\n",
       "VrCG6kqcZNT1Yui4A8wJcCUsEJWJ5fzIowkgrnHcS1YdqdzIhEv64snMlrFdkGbh00kkrJyWm5Gh\n",
       "KxRbhwl9QnCyA7WXUVOsydrfSc0hOhWfghtDQ7RJRCLmbWj/9VBO/dE4cwivVCAu8WUhLvYtzdE3\n",
       "47sFQJO7NVzaW/lwrI/UtYxbLcpXYKbzyPbMwxe+rj7qzC6enZAbYnnmPTsStY2wDvwKKfcJ12lf\n",
       "6R/lAM+BQXZgTgGSCeZMz30UsDLxuuvnIPcOjkKQNiauC2NRTWqBLZHoHpBSxHpuO5hK1uOgzj77\n",
       "giic+S35pm8C6Bi0ch8qxQt4Yjmj7z6ECwm6aegYJIS8xWQs3lQojnBARmNJ6i0VDocbSPhUhJSv\n",
       "xv8Ujca46GPInPI9h2i9AC2dqZsqxksUlIPFwGdKk9yL70gQV4kLIeR8CTearTwrNW73hE4vKtxv\n",
       "YM9niG95g7O+F+J8/ML0cNvcRQ0Nz967Jwyc8OH8hvsbY65zEroqaxW+TLnQ4Pni0kP2FZBHclfb\n",
       "9k3lIN8i2QOdxyioNrNVNhVM+oGggrqmd0yKX1DOIofSvnCQ4wUOF5AX4FRlpZsT2fhKXInpjMQx\n",
       "LnMttQn8i1T9uk8yP5F98AQyyufvCwsi+9XqijZU/sgctgp1iAqeY9ZvmN1TLmLztbW1w6PhHVNg\n",
       "B+XwL92nUOdbLaIfpjK9oz8b1CmgIH8b3l8AAAJBAZ/UdEJ/AVl3OAB/PIhLkHCv242pWyH4rSt4\n",
       "Spg3cqVh2cb/gqjzCnQHV1PvTMdxxs/c1woAR0hbIUvk9ptcaeZjdBrqs0Sx9uU5RxMPAw7+Fc0/\n",
       "mFTDEReE3G0Tk2xxxrWxnmbjYaOpVGKVRzfK8jwMcXc23fDfPd9EKvADoBwSvsza/SGK6LnBy5v1\n",
       "0CQTIgbFI5TTubRIcl7FfFhYN2hXanVM4VbahrGG8hWJzVfXmnXJtD44rt6CtHfge0FXihscvfws\n",
       "5EUeEx3ACXydVw0TAvMaY/iqd++NJ5nb44/hXBBAhBswrdQtAcqu9oLS0OcODU//sEMmXtxORMlV\n",
       "0YMfO3cfmSxzyQ9Xi0/HZtli5XxZPC+y/AepNmiwTUvjOtaNYdrQJ5EciJ5KgR4pPQK9Bb0AUsen\n",
       "wTX+bTQGUCeXys2bhnpJK7sPhVmb+9CyC/PZiFNDQsfRZ8AYKui8Fa9sJT2fPmcwDNksOGM01+Pq\n",
       "hSdnQO+la4mNClwCIq51X440RBfA3JGkU++oroIVSQjq+eNwLd9p8Wcw1o4DQRS+6ZgzC7qCiHiS\n",
       "1cVQKy6VVE7QOF32x06ZZeSOzStrWQpHteabDP8ddi9aCMoz5ZCRQl4htMfHc46qd82wvuBJyo/J\n",
       "nJDLirZTDQtDkVaIBqFuvPXNAw5JDHYjHOLGRZzw1dq7PA/LGqy+PBbplu1ANXLaB1bLbIrirTCw\n",
       "9f8u3u0XhOQxAAStpCC4O5dlKtY/I5urBmaDKDvlccFY+TkZ8AAAAmIBn9ZqQn8BkbTcAJq7e6RD\n",
       "YdbhBUfuZULiJ+CvOVf+NH+IQkc16O2IkC19ycQhgxsxyMIfxzhyTrBZbWJab1FXgo+c66BR1Kbj\n",
       "RgKdQRK8m6FGuQ5audr3q8g7UPRsMvzZtX1EXOBlr/ICnVlS3wl3lY2yHam9vARKlGUjS95OFKOx\n",
       "6wmP+mnnMvvRCmeCKOjS7CyHUUX5YNExx5xOBdUzDKRzrFYuMiqI7llEKPgo0RZiwmashE97qdkl\n",
       "MeKgTZKxvOnuHb51hTizcFWGBK/cBSJFYN2ChFrLnCcH6/F8T04hHslrXoXChTtg6rfSXfyaG+MC\n",
       "JvFXD8njg+2aFG0uSXygC9IG/nihOVdTi7MMM86PV5sUMznLXQAh7wKkQyPrP4rswhiVXxXvioKk\n",
       "s42lv4oMQsPU1stht+ZRDmshHpp5jTMSs4dwrMvvTL5D7EBH318Y/aSvpu6OHXPDD2eBejcEzAzp\n",
       "SpWzqhJ562PpWKn/uMagj5nGygWmuYeXtS6mHXT2IvUAHK+eLgFPMR4nYmLa3oRnczZU1lKoCBAR\n",
       "d4dU/nOK/bdQ+CY0OQGRpDWWAG0eQ1BYWbij0E+sRPijFwvOktMRnkYrkjQNO5rmy+RMRIxWwTef\n",
       "o5GVTb2UvUIg3307suPn3CFhKVq+RPcLRZpokBocLoYrqxOifU+zCrmvsWEu5mG5YrchDRGiGrOx\n",
       "uP2dURAsifqiBBOM2ajMq3bAJ96Iy04Cbu6Ab7VUUuEz2QC1JOtxy0OLQ/NOCClOq4d4laLdPbn1\n",
       "KJX4zgGldNzWkKcOaPxQJEq16AVnSHpBAAABV0Gb2UmoQWiZTBTwz/6eEACXfFjFbon9GDNVEd07\n",
       "dZNlyj/aQ8AG7hCJhneg/ePdqiwn5NSyx8aLGv9WldLCIKe8qdLvgcRmfQWRwN1IFKKhzko01juk\n",
       "WxpEuWx6J9beaJX5fCJESBHjMK4kansAedbwey9WxS6Yl97L9nh/xkcAOQ8RLMFdhdOM0c8zeoRv\n",
       "waXzT+9qo1KePkgEOxH6v/6BOD3/OfF0H0TW55VUUjIIr1w/R46otG/2x7XcZvp3LD2XvDGiIgH9\n",
       "5eLL/yBcoTX3sKhFRBF+DeTu8mUwAf1jywFznA+Ob17iPK/a78vtjQ9RY8xeikBMBDbACMuKZqUf\n",
       "LXVbEE1ek61UIRR8cWXiLfNByKfmtKf9l3C5LRLR8YdYRJtA7om+UHmxLDSfqfapQHX0u0QYzP5W\n",
       "RySIDvLQMXwdSF9PwcYnYeKPH1DO1GaKWlEbcMEAAAFbAZ/4akJ/ACjs2LdywB3lKtnSY7ZM4AGe\n",
       "puWT0yfTsmU0uPWwHOt1UwvRGOiNZWsJ4niSB/xfjAgZmet2K3W2bkp7jbkEnUuPXr4PZnyYzLnS\n",
       "5rRTRL70x0UM57SXA2c5wjyH/CEVQ8x8CZiCv/Jj3XzLhIj5+HYQQnY3R0do83NYPw3n5/vnbqr+\n",
       "Zhn6+e/7rfRAYB4MFZhxbSVoJKhPHMvBeRYQ2/3DdFNlbMDXNLwSThdQh+KEzWvGcJ5DuKgCoaor\n",
       "AzCqHszffZdqmd2uhNd8O9xqr22nqHSZWBzg30MFUdWmbZ88zv83v1WCfW8fppiraxWvPgC8eg93\n",
       "YISwAfDREw4ZSovLnLIdIAeTagdD90aqFDxcrgZtxX4C83PwW6egPuBhJSEHBaTnJeV/x9GiffF3\n",
       "8IjrnadVo2ahZdxPoYWJ/OxdmI+35F1yh+sDVqtO+t1voousxYAAAAAYQZv8SeEKUmUwIZ/+nhAA\n",
       "CkfDcrKHI0YfAAACxkGeGkU0TCv/AI1KvggflXAB/PKtC4ANlrvcEVYGrkmK5GCIAt87pR10cxzP\n",
       "C+8T6R64flHieWH1SxRRY9QChBD4HhZdVAichwdniL5V+iRV3EIp2HJiWOby0NcrfHVqrzspWlGp\n",
       "9hrQG2xKwUgzr47NcpB8eWvC7Rw/kjv6t3i1FmEdDALsCn6jDWkCCLbhfQ9Ur6n2duJP3Zvyz15Y\n",
       "3mA4nx7528b1zgbZLJOx3F7fuqHc2gjdjCBg149SHHIispW13d5Z4QXO0H8pcaFzhXNNNAFaoDMT\n",
       "om4s0/bDtgRXd9jnpbYLZnIe3XspY2kSfpiA2c8Uct/YrInkjCrExpHUa86Eifa2EhtqvKvQx4DT\n",
       "IGdxSlv4tCbSvqVXgLd6DcoU/qUSVYbYHOXFlw/y2MsBJLaX5zLdhwwaKoW6C7w5+oSdbiPjAHDD\n",
       "nPmcgyOi6WGe/D4TnJL1MsK/nAe36sk2l45Hbw+LVCIeNsNH4C1m1Vq0u6kP1viRRAudIeQhx8w2\n",
       "sVntTZwyS9LFMfJG8xuJyAnSvJUa8SMLlZWmQ5N+sm18wgxeZ3GAdTD3XAo/qOuPvkwB/dF6NRdZ\n",
       "WDwb3PZlqXQqzPPC0tmzm2S3D+H8YW9hIwpQdwpMm/liqpjEFKLOhfwcboM/gCLn+aTxOJ68WXwG\n",
       "uuU/WLeLgsP0TfMjihWaFdJWIoM3akrzSLpibZDq5lqm+VjLkBFnNJHAUCyapp898bPzLgaO/22e\n",
       "yzqDBw1VKbItbV7rVUn6rsXrKt6Z9NJOaVuhG863LCvJScB/NYgQWowiSM/FSGkxOfpPBq0Nsev3\n",
       "Dr7cwRm3NIBwkb8ixCllUUwrmJnMYmfxxHVgHj1Hf/MpasH33kQY+APVo+VtooR0TXrP1wEDtp3N\n",
       "3E1kq6dyFIolmZAUkFl8szybmg+PLVEZgPenj8KWDlytu8tykqSAAAABGgGeO2pCfwC6MmBu3Ux+\n",
       "zI8vj+yME08o7ZyRABdRyaAUg2fCj/VsvKMwFdUsuH2Xj1TF/uJHsK4GNLLUPQ94Q8fxCpr14Lha\n",
       "79S6MP2NUOhcb1jDSH4NI4An0g47a78tZINd1VghCRTzLeYVgsmlho/LPIrOpW5etI8IIhk1vms6\n",
       "QNZapiKBb4RH5qg27VR/fVaLkIZhtFvZ3mJThusqQGTVUaUZEDG/scdDngidUrs5fLJOxwdxx747\n",
       "p1nkXBhTg37tJX18fTc90adU0cwiUu68GtK10ZhGpUvv5ENNhhIl1zJtnJgY/Zni9PepUMa4nDzX\n",
       "8YZB+jfwXaLAp/R9yxLI5wQ7UlAiKtmUTlbkfW92AYG24JmrbfuxoQAAAoRBmj1JqEFomUwIb//+\n",
       "p4QAXXf3zj4JvAAXzWiONBITRkw6hJI4jwu0rbI+QTM33ZsH1QFb89hNNlRAWzj3qXokAC59+PvT\n",
       "nxo1I0rscOlbI+Afe/qPWUjPPf6rnJvjPKU5F6fXB0k5oGo3VE1SVn6rpimffvwn6WQbmF4uYGIo\n",
       "anU2FFNUE8ZU9kbZz4oltMuQVddMgoEGzB6gFpzCiBzGrb5fbfeCNJoywSAd5XQzckCDSmv+Gjra\n",
       "MzDXninSHOGQwJ0rcqMd8lVwe6fL4U01vrAEp62B8EHNWh8T0jVcG9oigScl8dE60tYIzc+okw6p\n",
       "YIUEBzNK4TfjvMyCkl25baEyefInB9/Bus2hKT5FmYfbIJhocnSfUegH6C7eXNIMBpUAPwgI+Skt\n",
       "g0XEVVocL8FVvMnwULicuahbMTRHBHPJEfqlRb7DoGE7ej8GXpPHJFmWuuYWJXsHkHYxW3bF3GZm\n",
       "P3ITVpZgGQNGOuuV+g6OIo+uUK4munpbTjM6W1971/sq0F5TWIEqg4yb9KEFKV616eEG6g+ax0w/\n",
       "HKsBJEDszhZ0YpCtoj2FRgef1wq1+j6i2PZgscQrk/LS/tx/EifCfjr2hGBCjpFZV87jraxxB/83\n",
       "YAj4Pkh7c+Jseg1QUTz8DbK5JWwTgva+zNyEc1/p8AtXLF+oZlg4IN314aSoOe7U6IHEUUviucMZ\n",
       "qAecMfhioPVrng//5olNp/9sARAMmK2cKa1nF2n642AJmSvBX+e3F8H8H0AdHgjTbg7sfxYPUzN8\n",
       "8rJjX78n5SnWHYEA20d/kZOYAy2xydAwT4ipSOHHgMsWlsybhyFJJn2fRgw8OYjHIzI+x8B88plV\n",
       "9LmTewAAAEVBmkBJ4QpSZTAhn/6eEAFq9WTtWy7HXiheWb1BVjPKFTfdp7eu3Hwm7osVINyyj+AG\n",
       "ERSiFCuwhI2YuEjm328kWlvUU0AAAAKiQZ5+RTRMK/8ATYMmXbBNpmpkbRNjJ/NXwQQYuoAE7eVG\n",
       "TvbpZy9RFkjCOK2Z2KyjVf5AEujmOZ4X3ifVAp8s8xHUwkilUS1LsqeD8K9R8+pzkH98yYMGkgAT\n",
       "8tr3z8SBLeb77ULDchUZstNgo/kcDLLQeKTBw3AJ3+/SaQjR7EIcilIyoPODmNBD6n3kYkRIKrjo\n",
       "YecMlkJNsA4oRIV7YnMHQ10vZH9EWJo93auLqQ59OLxqquAZtGMkIoMquGNzVXrOzXODaOR0Si1F\n",
       "JwVM3WD6n6VJweisScHrYWjr7BjyyWqOZWWRkVdObzK+0WrC51KPnfXBwZOvZ1tssGN0PXTbiwQ+\n",
       "6Ot4lxXM0mm3vUrs1tQQgW8avgSGK8iIBqkwM6bGNNNG0TETnaUAzeJ04wkGBn6Jz75a54zbHjrO\n",
       "iYwyBATF+oewOHzPMmdygS3qqP76zt7VtqCO59zD8okcTZtDprVYOADZg2Hk2BgIdpRebqhwhaGE\n",
       "suB3HE3DAirtfT9J3H4UN35uv4yANWwaSXMbmejeBG8+aPyLGfGXHW2pFktTsaVmpaXgCk4wyB/D\n",
       "/Qh/ViyVF6gAUxU8zeb+lUh/48f8fMybQ4ssyUjrnmV4CxxFRVhmdi4WBOH/+OnAYT+DqFIyWDcg\n",
       "b7J1w3N9d+eLM8qBhOZZhGmQtiv6zbqTO6z/0m8bClJzWXRIeXfhNtQf5a1nZ2Gkz44f0SW3wJqK\n",
       "IJPSCrxcp6HhoquMJYEkhqsX1K2Ow8MlaaC3YOFUReuqSzzcdq43WzZWvpd+rm+ThSPlFogAkqCf\n",
       "5oAP9rRTFx6McUzP0lAId6N2uyZG1maopaUQNyZ7WxS8aZW14iG6xYlk8Kg+306PzL8u8kjpdldQ\n",
       "DIYoIxdS6b8fb9dcJWAAAAORAZ6fakJ/AGSeMA5eqsbsd1Z9h+eAEH5KeLyhGY0OJVIQjb/9tL/1\n",
       "ge3S3NIWjdXc6XXamezTo9PLwOtalWOuDFfzIOMeDoV2n0n/KU1CGcwMsr90G8O0RjTajuEA2NPu\n",
       "xOKs59ykDYQMjuw1vFugcilOej4h9hUs7ORUqAJqVgnbSOR8SEpI5s17d/yvsFIEheCVUkf/roJW\n",
       "vL6qbDE2kpbWyslRneLemBuqOEc7tXgY5/2STP8vGleYq791iBIKEh0nqYBw6J3MMt4TS4gIxYRf\n",
       "5ZF3PHLPItsV3NhxeOgAPpXn9484rK5il8QKchqFzMSV4vD5PFgjpSPcg4uDeQrPLgl+2MFzdgE1\n",
       "Z6Q+veegZrg3qa3P7b7DmpKasrJH5RGMG0/+AgTJv79DlkWE5w9hNASE0xokE1XBliOP4jG7HUCc\n",
       "+RHIHosWzrQNxclqkpJWrwbvA5UdQBOp2oaRGdzNGrXf1JRZu/1oGcutAZZXCu+vUVX4QzaIRgkp\n",
       "GsAlVntNbU6PNKRLdKwOdUi1L1sBotcpdhcUnH1RHPwhPlSCjta5m71zk7xMx5AA8c1D/+KTw43O\n",
       "YvtuNkiK1z94dJ/BhDgl/Cl2JEbHlPyh2ZE+p5TwC0LX0I1dirYg9LKXfq/0mfoHYIVZgAmNtVSd\n",
       "0g7EOWBlIMPHCc/Bvq5h4lTRTKeYS85bmvYPNQqdSNgk9NwzgKGs2ZEKGtffePg4cyASCcS8xNMn\n",
       "LcAW4FAxq2qhqJjb3pPju+VW87CaK6MIogJPhVYpFkrBYx+P9ZzzK+OBEBIRnpGPkw0xFDj0xERy\n",
       "MJTQJABC+yEgudvsxjc3U3gyVUKwSbk/CkxvPIhxzKQUcaVbCRm1eoCJfk0VcXQuTbPvDRQCfFYA\n",
       "pfzCMveUjR3W2kmRWpUbANUCw52c5QrKL8czXQAsa4eBp4Cta44vGK9YP87FSgmoDySyzXR/bZku\n",
       "vOO4HBFDjFy9YHv108t5C+VQadCCNlK6QY9fw7AnyjlkO9OsVx0gM+pLOAukKGwk2PmlCCWJSCn3\n",
       "oBmj86Fss8/YoUx55+6wPhiNToDQasNL1/qxP5lz67By+HNzJkMBz2Yp6b5vCnEtTmB5eVBYOvOJ\n",
       "4aPzO+rIvRnC5SYofOwn3i6WaU3VA5NYqPJIBzqiJE11db0WcGXExkSb9GHff7bNuGskqvXt5X4w\n",
       "ofVPTr4EymopUHM3vWmTYgkkkQAAABNBmoNJqEFomUwIZ//+nhAAAAdMAAAC4EGeoUURLCv/AE2D\n",
       "QO28pEPsrwXHt2AEy6aCCS6WV5iPnftstOReU0e5fEX0J2TQ3reWtcHLc9Lu20vKGORkFdyfn0Cz\n",
       "R7pdUYncOl9KVlwopy0sneHe8W+Vs11WonG7GN3MR4XDT8EoPu0UyxuFfiCkU6uJTyd7mn3NJymv\n",
       "avmMAaGN73+MazXAGP+D16O7Oeu2f7OwGpwk4tZkZAuHKX7JKMVt/g6/ycENVxBtsO4mRKym0ijc\n",
       "jtFDSWv0HG6gzmZynJU6TausjO1hjm5KV/Fdv/LLl04HOIAOW2v/MOjoph1l2zZe6YRYiPAkX599\n",
       "41zDlFZbwsS9HCfrNcpNGQm31NgueyQCQifgwBDGElKvdsZSgNrtsd149LTvLC0XjjPma5cqHQiT\n",
       "ncM10yIY+6Z01LAtYsalbopsKtqUzsKBpEtxEIcww4jhY/qv5aatbAgXhKU+3157bwhwUJNKHacv\n",
       "VAXIBUBHeLTYpA0wYPzWRYDzcjrV/8kZk3kc+HsV2ANr4O9SDwqSi4vhWpY4Ag9AWE4UWHnpf0qk\n",
       "qq9be91AppVz+IPWDYc51LBN58HeptUm8QCvP9GJDKp0xPIL+s2Y9afZXZ7zMj2CU1HgL0O+PMpu\n",
       "Gbt7wH6LBBkB0cZKqGtbYbxUpjyzRiGxsVOSc+2Ej0oFC6w4rzUK19FswLCf+KgGeN0YgNCc4ZYq\n",
       "2bI29n+ZKZKBRNo8yPQDQLbSQayLM6v+etp3cbEdb39LtJ/H0XSk7vuxhXfd9W7+8waAXIIM/t5a\n",
       "ZXyqZKww/6o4YitLDJa+7vEysJXqgo7aNTIR+ZAM+QS5jLFe6L/zx2qIjBwQgaRLP1hbkea22kY5\n",
       "hc4iyrYLGueebYnsNVS+lRr8q1pbrSVrHouzeGtrN/P+rPvLRTYsDTq7lahj72SqZACpjKRSWcEw\n",
       "LVxBou8SXGPIoYjYWhvsNwzaOGazFmD3H0FgisFUVtpBcq1NI8GQdMEAAAL6AZ7CakJ/AGSeWvlA\n",
       "KZg+ETe47SQyjMgAhvNxQQdqMuUJ8vSRFtKzDN+gAw/uH0CiN4T5NOTFmjKYl8+AdXrIvIvrdpxd\n",
       "2C/+AQO2ajTRY9lkQ/Sj5uw9XNYFCpAdjylxrZLM2wjFfGGk5p2I8LEMXdTkCXlWX3W/cXE9O1hu\n",
       "lVCu/0pwRxpLKkAlYUYG1jVuxSOBYw+jOmB8qdrMq8O+awDPisMSVwI7N8Ki7dfE/m1OVtiRK76z\n",
       "V1B+j8vPHYt2lQkluQ8JrLOWDpp9gtTmA1/OUnfnIaBiJ0Q/W2o2pRTIKgVZHJByviwRa6D7XtnX\n",
       "mRMSQTXG9gwCZCohGo2aTZT+EEN+ixa/L9cQnOxELXmTXLoF8LsY8Qfs7DQNCCIOybiWgsE0m4fK\n",
       "D3XFzeBqBiw4qD1bEalYIYjApe19OpeKrH3/mNlgcopn9htAx8jn+Qbt2Hpj3dNfuLGiOB5gcGk3\n",
       "iscizXGlr2zqEWgx/9s+x7D+ebtRiHPbRi85sIaagUy99/O7Ayzp13CP6+bpiDfy1XptrTeBDmh6\n",
       "jegiz8OBOJdRZrUCzfb3pOAyQvTsRHl38vPXH8e4Ol/QhvcI7sqLP/QCwspQX4nF61HA1w0xVws6\n",
       "yuI/JbWMAA+O0Kyt1dpInYcD7igTEBSyg/zg9gNfqj5mC63674dcKc6Zp6M11gvRk9i75E79bP69\n",
       "9T2GQqhKkLa5NU/+26iOQBbZMC//7PluAgG09c5OquYSONjcraTKjv8m/HkGtUwiyvJXWacOIpAD\n",
       "BFhlEPzfKYUv1FCWuWHUWQTmfJnviEO8w8J5MO48vGIHDKn9KXHSIxvIgjGV+M9gufBr1cmfDSXx\n",
       "PY8+S1z+BnQ0j99qMM+mjAggAEdJqj78o9L76kHqyFixlnh4f94ybHIdqYHuEVc7Pr71hcIcfgwu\n",
       "rYtsP/z98ppX4+itA1hTOjYoNF0/VRvlg/Yfnj/TmWx09PbpN2UGDqZIH3nXTVSj+vNJ0uSFw3+T\n",
       "c0bqZonn/VbAAAADHUGaxEmoQWyZTAhn//6eEAAxOM1+0ig2gAC667Z5mpylG8RAx7BJUEj9oJgj\n",
       "c/t7W5EQo22NMQaMiWmxsfYYNM6er5VLtgf7t77Bcz7+zzKq0PdlAF6xBEh8dYyLvQb+ZMoy0Ijl\n",
       "ezQYfp/X9k4J1c5mha63xRuRdHB+zj2XsbKHYQxiFmuPehBFWTrolCC/Iq9m9GO5xk61Tfl68zF9\n",
       "1AucyIX+0qSJLMxzTK8IbfadrNnPnYCw7ys5VwS6ugkrDEfAjLrvWvE0v8URTODP5bX/9X4Y5LlI\n",
       "ed9LxBJ1CQMnkFuLgf6krrLmbjkT9enGtlIXCvcE7T+1GjE0BxcTIDFD+2PVbGU1Y31SLew+NooR\n",
       "EoT41YJLGsUP6YZViBNiFmf0R3U0hqrKPsfNX9JvCzhppFn6tzcLR6GcHatlTvmOB0Znv1xMMlsA\n",
       "eZyxzK+uJYc0onIeygc1vEiHzA3Q5lZSqMsivuxY1WpccVKRR14JbKzOI8hInOdiS59tkmytfkbv\n",
       "w4Darg72udrAIHdZZc7pLuTMDC3gqcAur0McINJXNLyB1izfDqWWgq2xde7DSvI8jGfb2d5BOGjt\n",
       "FKs+0iO/BflB6GUv04dP+tlIqwU7f0lUEKbE2EBYpUrwpSdRVvdw5dPmsxS4F70dcngRI1gH4I/+\n",
       "k7ON5qFzMkqgaU1XVf0PszYGAkeVc6RsRXZCbqFEuBWnJtI3aE6RFifxo/xsul+vCGOyLlIJyg+W\n",
       "2cIS8dqjmsHSy+7pgtCRSwo2sh/D9aFaomc43V73NYLXWHpp47VLXjyulE7T3A6tW+kw5+kVLnTW\n",
       "JB1F5pmXxJsEva2mG1qMfe39plqEkJxz63AZyOnNeESp+PeAg3N3IdtbjAodKmfwZriS5ZsQOflL\n",
       "2t03I3ECPGZ/8URXcqSaCy/lGSPWm3BH06F98hom3I6ouHr/rua9xxbY6DJ7YOgI0uQO26CAyyNJ\n",
       "DtoMnScNquX9eQoMCACgutnhRQ1BcGL/xZQgIIiQzciVSe4qeYmeap7s/ji6ozTGQxewuP7hCgsK\n",
       "qcps/NWJkS+1ApR9AAACCkGa5knhClJlMFFSwz/+nhAAMPSsEanDQ5r1WzsZzACHoHnj8W0DmTxu\n",
       "WjsklYN6gWDTxYLRF70q2U9ZuLxDEca4pj3bC8OZVGKKuKg3rG0ZSRc2s9DDAae+N/9aSz1baRqL\n",
       "so++dwu9jgetcFrDn1DaLPQiFE89EdFOQBDtd6G1KoJ35Hr6VsIN0BC7rvuOLMU3uCpo3D5arEml\n",
       "MjXWeN+MzRlaZcEnfGZ6b/fc7EjhSCTuBjFsWufUVss0WUUmGBxgHtp1+MLF3oN8YsvPgJluk6Y1\n",
       "0HZ8BLYTKnC61ca62bGzmbeTFbL+8jpHThQLbZoWhbwCM3PM8TH+twPO+1tNxCCNegmjRdyGLnV8\n",
       "6hJR3KZUWsvUyV0rvn52ltE3zVtRjblUnWGJGHZCv8MIY5U0/dRuptpjPzidiuVK0ExgHoH4Jznj\n",
       "4+ChTfap1yjM7qrYGx8Ul5QqssVZIo44088z9LMai8N38w8AQPBj7WKbAB+SwI2aJ1c+TnzPcSmq\n",
       "GSCBuow6VY2DPAAe0S3ZiQcmD58JBgUJt/h0U0utGImuPwgxI1SuQFlJY11Gjg7taupRMksVh1GL\n",
       "fFeIoUNvgPnen1n6QUD/Px13dwnPbQobmu73FtaClw86eUsNwPjTYON5r8NwvxGHR7PHBgYRrRSw\n",
       "l7o3SsEEz8f5fLQKEzNM5lJhzj0lQcNcOQAAAvgBnwVqQn8As+tuDMT1uAE1eUqgEqFi99dzz5eE\n",
       "cHNgViZsDHrhPj9YXSITmOZ0NPXmWFNEdQQ02KOnKwu3VYLdjXLjsbzTbi17Fb6bSf0IUl4ULxb5\n",
       "L4hugT3uSmi2DQbKKvR4y7PTevTRtB/cvF0fplLx6qgWPFP+QpywobxxTMK2KITwkj4wBoCjm/0K\n",
       "VcIZ0rcjIVYISr24LTOYRql9pEM8nb9TjKNwG2oWN6vAWHhhlWto1Q8tcHP8GscwygwuwdG5m4Bp\n",
       "tNU1SHbyDJyxU+E/OLitr0lH6QeTy7qUjqGPJFE9V0rD8jdN4bENUptMXtDOblrPATuy6hMIqngI\n",
       "wiWua/KJfZ6QrhdikusjCJMY90pCVYINGyItN/nykmeFgxnN7qEuxYz4iADErxJcZNvLyIUVvgh5\n",
       "n+oUgrvirg13Gj045iWve5WxGlLb2ssTd4hpRfMsF2YkACqehnRXerUAs9EGuFD9KAlJeSCbUK+L\n",
       "MAEnpP9hu4dHmd86xoz/zQTM+F3cm2MBAbRhitiClfZrWiNB9y2RS7aiEDr2WacNWIt7rOudB2KW\n",
       "Ky2fWx5HmskugUava1IhBndq7YCHZ9mvOyzytJ5lLeuBVW+kPFDZG4voFdoFsKq7YFgPQ454mH3x\n",
       "qk+NLjapDXcc++e3gwIexBvqyTT2Syy6a2TAxWZAMEFaWvx/LHOHiyfYSUCMLTUzwgj1J4uuhm65\n",
       "F9orUN/pJiMAZ18Epaz160IFncFWSp7hdM9HlvtedELK9bYtTMHCB70WysSLKJ37V0tJCBqVa2mw\n",
       "+FcPiiA8I4ctlcw8JdwBaOs1edcuCyKXUAu49+KNgTl0jn/vaDUf314zgmu9K8sgCvqixJSvWn6x\n",
       "tTVgF2brtx8uWVX7t/mZv7i4kpRCpRt2PqkrffQrOBm1kP0QnTOjYSLhdTNqkYJqbUgGOjX6SLm0\n",
       "sS9uvVaoHHMIqBAjBFEZBu93wrB61HHmz1fKUrjXeBFUj/ixa2rUX9jDDztv/GxZAAABKUGbB0nh\n",
       "DomUwIZ//p4QACn5oPABzgRDPoqo8uglI3QBBoQizsYvge9CreqicLi9ohhQmvBRBa6Z7SRAPhX+\n",
       "WrHmLUPnAWiKH7jm7dexsUo8WV7hcSuTb6IsPldoCh802ubIHznnt3gg1z7sZpn04LgHMFfQNSof\n",
       "KusYKxph+98yLoEsdUg7R2R0no6do4DzMw35dNPwySh79PSGd38RG4xu+jOK1QXy028lXWyoXPDU\n",
       "70+am8SdcVINauCU4NQrdkrB+/5FWpficX/ZAuIc8kgPNIIXwufhxSsrIQEXXva/+L8/9/DAaLaX\n",
       "JV62igueCZP3jcYIm1+jmcCSgD1F/0+JipfvHQIo0laY5enXTscsbHD7znp9xWf/cXi/6uq7BwBy\n",
       "IxwDLPVfHwAAA7JBmylJ4Q8mUwUVPC///oywALxvj4JO0AAG0Ghi3u4YXmTBwOzTG1Dn+11d9UYZ\n",
       "dXdEK2nQYoEal83GcUULwmzxOAZ8qdMZlecXoVzlC5YKTz0TzuC/3TrdF/kvj5GaWTGtWRMtaWFG\n",
       "F47OFsJMIk//C79FDBlcGVl2seibgKQl5bFd6+0Ki3894uR2kLwrq+UL+76hUHKoanT13sNYDnfl\n",
       "Deda8EDrMLo5F3mhQQXjBQuX6LIGrNZbRrt7zJ3Mm1IgjXgknfDiEP//7TuuZLmXY0yjauFcm/wv\n",
       "A/Tha8idTG4SyHpY4jwmgPyOU3WJ6XMym369SjwPH2x7rMQR/Awnz7DRPkDgUL4FU1vIkLD/dKdl\n",
       "nP9G8Uqs7ah20tI78CdQQsX7ZS9esf/u/7YYOoMeiDjksKEhBN9IoaEWo/C6jV1cFoeHnElFt1u3\n",
       "ehHXjFSxUmyOm4cZWlAQHLfE9UEvPgSmTvWk8k4zILUL6KJaLVvEKWITs/enWHq/JLbmGtDIk2/7\n",
       "7IcnPKNqMP1OB/MdXkvXMcJTsmoq/zA91j9nMgyi4/NHaAH071J+m12qjDFeSv03Ph3qMqS4JUL3\n",
       "0Xm57Wf5GCmlofg4G0dM6JnFO9hUwZ3szlhLL4XGZJ1wotC/3BXcToQkI4Djh2pNnRn0SnO3poqB\n",
       "Fy7tc3Bh0rP+x0qlwRnZBAgZCfhOa/bLzgSLgdi/jcOnusbUDxzFMdrVwEDh7BAPK4zYQpiHlND6\n",
       "ANXe2QNCtPf8sVGnDDf2I0pTFWxTio097Tb7UvXvi6p910+qoOfACJG8rpWnx6IUAUdeNiR11Op/\n",
       "2oKDrKdh9EVLQdKtZXWxs3+bgc3Ky+7lwC5oqdk+9CGaW355MzVAMSFdgv7laAla080CzALXgfVG\n",
       "QxKAAJgd1lyElk3mqpf9Wd0oz8bc+rbcsm47QtBl66alM336lSd+oMR+v1RTv3qcOmumZMPScsh4\n",
       "c9u4tjbOLQ/d/ql0HBHolZvARcQtomZjoOQdT+RRXhs0hZtfwixpX4dSW2jQg/T2CmSs1O5ZItGz\n",
       "eLD/Tp2bT5WspvO9ny5xFzBq0P4NYJxWb9J8vfHCY+1usjFd30hEGeiIMdd6/OddaG2AcCdDl9GM\n",
       "zmcwuZNiVXP6Tv3AkTQutVx4jnoZ3cqRkCPR5rc6wdgF9ZuOpwOL/grvasiNp/wmAvH+W+wiv/AG\n",
       "Jryw3omSIEGGLG6HdHRIIf8qxSG8oZo+3BvsrcumnfasHwG5TJcafeIxgoxgAAAC/gGfSGpCfwBk\n",
       "hSdsx+YLuvED1D5uBm19gAWul3vkav6jN6hZq2ru4fpP+FkIzfLWPDPR0+ioAxYMI//2W35bpu/f\n",
       "Zad1/Mvdstx6iwt8dqTP/UnsZHGYwnWEwRuO23fFSS5yqvjP3LWzbDPaCx0Yp9FWhTiQfzhde9kB\n",
       "INlI/GVQU6GImHx2hKXHLahkv9vXz1bgXgk2Nm6eR8Pmyut7CwrSOF/OeN4ug/KF4yNmGerKiYpI\n",
       "1OLJ+pKLHUg39VNofZkT8F+366fu7TeP2cfr16Rq/sJq2AlZ2YbNBgb7C2CO878Gz4ZsDKNhPckF\n",
       "RjDldJs1aADPR/qrP1MKC8VOXGVMyUzZu26AyrVXXDSMV5Ab3/538FWqD2ONZJOjKoI8tbsF+YB3\n",
       "CL8wSkotDTAxfhoiKqDAS3Ytd+IgbQDgf+0BkiYEVwj6ipBfqrFw8C4SvPaLysnc+BTK4e4xSZbj\n",
       "FlVgSCEGSMdtpCuOEZFLS0C0fcEO4c2dxfXQu27izcYwlbqL4Y2zNxSFk4C/kYVSt+VNMq4O+htk\n",
       "3m6zIbttlhGxniC36FW1IHMiBTSjPlYyeyrijad5E0Os432HO9omR7ITgGN1GTHA0yJQnEtQ7K5M\n",
       "IDg6iBOnoyfDdEK13zqVH0OYaqLJvao/GEPcg+h/GvPEdbaLWEgquZ9KeDIA12jUr6tFu4EzbTtZ\n",
       "mqbsMUneDk1Vz4U4Q+96msiPVAUUAzqEDGcOjQX5z3QMkXVdITUZJu+GsBoaBTuUqBbPEpCvQa9j\n",
       "wCDLPiVXMP9vX4gSfOoH04s2z7Dcty4+XuDd1ALCq7yFoIRBL9kyUQ5moqDyKeIGbZmOaY8Pwqpn\n",
       "5qMJ+gsZ9CH60dFdEV8Xk9OsQEqm0Hm54m31WqB9lh7/4K9wkASHhJiQdN+i0Rb9/YXJIm7F0cqy\n",
       "I+qGbA2dzy10I/9VGUYy3off4twIC7xhpZvmJt9nS8Jyt1rL6qYA/V2DaB15Apj8biRMY5Mjte9r\n",
       "33CtSxANy6zuM8N6T8f2uoAAAAOGQZtKSeEPJlMCF//+jLAChb4+DiqgAB/PUM+qD5MtAPb8dHcn\n",
       "KyJcFy+HdulqaBXyaRy088V2pJsuPxZ1/qKXJOIZe3I7/L5Lm8qb5lXT94yPi7s9VcFAze5IhNzp\n",
       "S4Ipiw6v8GxPBXvjg8MiLeCEKcXocT6SK6+tUbVdDeQiM6Ln0BhyLCvxArGk+AsCOXVvOp2ZRuMq\n",
       "+U8dEpGmpLVieuO/LU1GyYpgkeSz5sDJK7+lGRpd07GGH8hnJbdzt7BFd0lGNZwqYz6nnaTofLQT\n",
       "mTEF+ZBybD/UEmaMbkfJ6zEmi6geUqfTut8wsIB8h2vLjL5ZltkHWmEda4E8Gtcd2gBGP1CQ8BS6\n",
       "vgLLIxheipTGv73TufZdjRWlkqAs1rS+ihwh6y9ldpsaZHNv7W/bWwXAQGqQuj7V2l+0Uai5PDZy\n",
       "fowmqiW1DKFyNmFIRP/hwkXLZHuaCzW/nLPqEzNdfOTUqR+8mU9z5skKLRA2E7MuEDcNo0GxGsd4\n",
       "ytm/tgZDyd+V4Kqy2HA4pVsFTIelFjPQ5NT+hZRiANUTIjXhNL8/p/Zu/ihEXje3pkbQh+T4krw/\n",
       "p7/r0wxBUwiq/oIw61cSY47mfm0kLDYewWRno7xVNAS6UBLdwuBhiUq1sC2L+ik7xU/MmLG+XKIa\n",
       "hGjTW2FoyobzxW8p6mhS0s6cSBqMJ4YjTOJVjcxGroMAi7jiyxTE1sWxIu0HN68CHWi1YdqqQdrk\n",
       "ZUR52eUhkDGN/9qr41sYKOU4AApXCN+WzfBmoT9msz+FYYcSirsf5PJr8qEoe1zEcvDz77eVQi4e\n",
       "kRFzzyKNN+ampjSrY3+Ns4DxREnuuu/N+VsDT4GXs8s2xj1C8xmFvLCPFp97vFb6xNphEf6Jdl0K\n",
       "LTUGrU4Gf9fsA1WMu5Z702H42TNp3dRsGtIAyNvsP28/FTIjRXSb2+iv3e4iGcBX1miZ7SDGRExM\n",
       "+Cd9m0pYMC2zq2SuMlhZWxMHmKk75blDHhjaxjy6JfpKcGEMnsmgQ1yweBKf6eWXlLgPp9JBtUA7\n",
       "6khHDxaGDM4uSq/HvbT03/mc4g0mfd1kt/sIjLSRGZt47PKJpqy41nN/Fudn9AMDjB3OmqFqyaej\n",
       "pwvYt9owUC9Vegf9Q0KGpYskbuDIGCXOGEUcGS/25tiE4uoZp7GuXi0iDTfBhXr6OC7A069sytZO\n",
       "9QGqcMJ0/Mw8AGEAAAM4QZtsSeEPJlMFETwn//3xABfOUxv6aUUp2duCQ75QAnbywPaNLBgz7V20\n",
       "sAIiGkXUflpdXpOgXnqtNF+r5PGTAs6FTVnlCxkXhSo8O6AIgDuEms3mMEOyz9D0KziwSlmJ9jgz\n",
       "yDoyziQUyhJHMjgW1WctxCcYcLXDarpmmdiUJTXPnuVTCaDeLlTgn3QFKoSntqE9QrTRA4WwTNfC\n",
       "u7BXj1Vdodw9qYolNaYu9Z4OW3O1+7psFttWcTC81RlCfq2FkXMbQ1mnqtfRjPaEMrASit/9hZWM\n",
       "D/aRHcY03Y1BPH6EnkeGnEpZbiODTqWz9l1TR97z6fi/usSjTiuiHzTxCEQXnog/lzfhJBpu05li\n",
       "D43ZfeCrRp976Z+UybsUkWGeE3FS20QFzrGHDs0MOD1wyKV1WIjhXjC+J/PJ0JK5hDT59ZuyW9hE\n",
       "Mk1cjqWU//wWsM52aq3T/YVQSyv9gHC7ABJw9cl8I5KK4y583E9bgQqNL2v3wxQBQlPyyezlZBgP\n",
       "FTlVunGj+eSvDyHbtHwkPP1E5owJfDrxfD2ZDb5UaCVmgMw2JZfAeM97VvviHWcX1rUeHuTeF7V6\n",
       "j5cSKba9lkRi1BL5gxLknK5gzLSm3W8Od5YHD5qmo9SOJ5XvwVa15v7ExtowrARxr8ZVbtWTnYx0\n",
       "hyftY82bVnhZr8M2S2Ef0ghZmeqG+SJ5rYZ0JOciKTWOOabyZE9Kwe0vdFcoeLjsZK4te7ilNAcV\n",
       "NQu2Aexj8JvBJNpV7B2UsZI+NWkls/ZrV4yDUaNYhU0rylSfdaQt59EE9rBHGTJXfrLC5j+RQ/pG\n",
       "LcWpWzCj5YTKfqD5pUxoSZY0nGZcbOUMC0e+K7cfiC/Q46vDERK71UBAGbz8WKK+OH8DvcR0PwP/\n",
       "vl/sXTNghOETbhaFIikkFRJK2bi439NdQ/gXy34lhVJ8+3XopdHfl84Nr1yIE5ie2fW7XalLbih2\n",
       "xolMGppuySq+QBLXY3ErN+ZaL86XQT7m4i7SeptS7AzhwU4oNNfhLX838VKG/jhYv05Gv6zN9GkW\n",
       "Iyn9o+1lGbOEiabc3tmrCNlG9kyXJlgGiVoammYEvFOAZG1OcWhyVroAAAJxAZ+LakJ/AKyyxgfC\n",
       "ffDNYBz+310cn4HrP9sHorgAlh5Dbp67a42BrOuaMq578DQ0PNY4JK5buVc3VT7R3gcHuA+7RakO\n",
       "0yR5C9XwAnIGtOQz/KH7TToPybL9jtxQMdhjfHpxbTxymsqMFHwM560R7cC8UakfxU//nXmXQ6yw\n",
       "XCNJ4vWfKTaENzTf6NI5ccIGKMC/oZnnu89PwpdGipVkwEzmCFqUVSDApJvvLmLAdYUWVudsZNa2\n",
       "1l6zPjMJkl5AIyjRUdMKC92oV8hhZSUeUGTcgYZ8FKpaMwp9GUHNnYng+/UzfSYSrps29ECtECfS\n",
       "qwRbvW2ClOv+gAuzLg70m8TGzQPUULgLM4JbXZKzNOmpdUbzl6CPRLG+y/5xA+DxIxioFe5yAwe5\n",
       "QOdqfDwolCWD++MGNO2zYTcAuf8HWpDRjGG1AHyN2T8EkMVAWHgPmZSYzs8ZxkRlpSSGSz5kbGoG\n",
       "PSWH+Jl9s0Vic9iTUgRABhnNOT1btBvVUQKFc8ZqYhTRCgUt2C7FNG09orDhSj0nCekqSIhq31T0\n",
       "UYYtV2+Fr7/TqUEE0s6kIh6fuKuqjGLEhyUFFx/VQwK53MGZt7n4rwZXDHglxvmlfQXGMvNg9KZ+\n",
       "xy2nCqXUyPkB4wQiTqYXWLCDU8uSXnJiAqz2zXl8v2v9joBSY5XYl7JKNelSWIGkFLJsBwKHSxbO\n",
       "YZj/GDLQ6hx7YMV/soBceri7GQ5LBDnIcYqKq/dvD6Attp5mYHlZyjoMuFwGYAPV63szJCBk3ZWR\n",
       "7ZyXAu3+iCF0sJCZPlSOtZRFoTtCQT9VKOMolMUTLgWFJcKj3k+xJA/U6AAABS5tb292AAAAbG12\n",
       "aGQAAAAAAAAAAAAAAAAAAAPoAAAF3AABAAABAAAAAAAAAAAAAAAAAQAAAAAAAAAAAAAAAAAAAAEA\n",
       "AAAAAAAAAAAAAAAAAEAAAAAAAAAAAAAAAAAAAAAAAAAAAAAAAAAAAAAAAAACAAAEWHRyYWsAAABc\n",
       "dGtoZAAAAAMAAAAAAAAAAAAAAAEAAAAAAAAF3AAAAAAAAAAAAAAAAAAAAAAAAQAAAAAAAAAAAAAA\n",
       "AAAAAAEAAAAAAAAAAAAAAAAAAEAAAAABsAAAASAAAAAAACRlZHRzAAAAHGVsc3QAAAAAAAAAAQAA\n",
       "BdwAAAQAAAEAAAAAA9BtZGlhAAAAIG1kaGQAAAAAAAAAAAAAAAAAADwAAABaAFXEAAAAAAAtaGRs\n",
       "cgAAAAAAAAAAdmlkZQAAAAAAAAAAAAAAAFZpZGVvSGFuZGxlcgAAAAN7bWluZgAAABR2bWhkAAAA\n",
       "AQAAAAAAAAAAAAAAJGRpbmYAAAAcZHJlZgAAAAAAAAABAAAADHVybCAAAAABAAADO3N0YmwAAAC3\n",
       "c3RzZAAAAAAAAAABAAAAp2F2YzEAAAAAAAAAAQAAAAAAAAAAAAAAAAAAAAABsAEgAEgAAABIAAAA\n",
       "AAAAAAEAAAAAAAAAAAAAAAAAAAAAAAAAAAAAAAAAAAAAAAAAAAAY//8AAAA1YXZjQwFkABX/4QAY\n",
       "Z2QAFazZQbCWhAAAAwAEAAADAPA8WLZYAQAGaOvjyyLA/fj4AAAAABx1dWlka2hA8l8kT8W6OaUb\n",
       "zwMj8wAAAAAAAAAYc3R0cwAAAAAAAAABAAAALQAAAgAAAAAUc3RzcwAAAAAAAAABAAAAAQAAAVhj\n",
       "dHRzAAAAAAAAACkAAAABAAAEAAAAAAEAAAoAAAAAAQAABAAAAAABAAAAAAAAAAEAAAIAAAAAAgAA\n",
       "BAAAAAABAAAKAAAAAAEAAAQAAAAAAQAAAAAAAAABAAACAAAAAAEAAAYAAAAAAQAAAgAAAAABAAAK\n",
       "AAAAAAEAAAQAAAAAAQAAAAAAAAABAAACAAAAAAEAAAYAAAAAAQAAAgAAAAABAAAEAAAAAAEAAAoA\n",
       "AAAAAQAABAAAAAABAAAAAAAAAAEAAAIAAAAAAQAABgAAAAABAAACAAAAAAEAAAgAAAAAAgAAAgAA\n",
       "AAABAAAEAAAAAAEAAAgAAAAAAgAAAgAAAAABAAAIAAAAAAIAAAIAAAAAAQAABAAAAAABAAAGAAAA\n",
       "AAEAAAIAAAAAAQAABAAAAAABAAAGAAAAAAEAAAIAAAAAAQAABAAAAAABAAAGAAAAAAEAAAIAAAAA\n",
       "HHN0c2MAAAAAAAAAAQAAAAEAAAAtAAAAAQAAAMhzdHN6AAAAAAAAAAAAAAAtAAAN8QAAA9cAAAOd\n",
       "AAABRgAAAjoAAAKaAAADFgAAA24AAAEiAAAAvgAAAKsAAABYAAAARQAABAsAAANzAAABhQAAAlgA\n",
       "AAEBAAACWAAABMQAAAHqAAADCgAAAkUAAAJmAAABWwAAAV8AAAAcAAACygAAAR4AAAKIAAAASQAA\n",
       "AqYAAAOVAAAAFwAAAuQAAAL+AAADIQAAAg4AAAL8AAABLQAAA7YAAAMCAAADigAAAzwAAAJ1AAAA\n",
       "FHN0Y28AAAAAAAAAAQAAADAAAABidWR0YQAAAFptZXRhAAAAAAAAACFoZGxyAAAAAAAAAABtZGly\n",
       "YXBwbAAAAAAAAAAAAAAAAC1pbHN0AAAAJal0b28AAAAdZGF0YQAAAAEAAAAATGF2ZjU4LjY1LjEw\n",
       "MQ==\n",
       "\">\n",
       "  Your browser does not support the video tag.\n",
       "</video>"
      ],
      "text/plain": [
       "<IPython.core.display.HTML object>"
      ]
     },
     "execution_count": 46,
     "metadata": {},
     "output_type": "execute_result"
    }
   ],
   "source": [
    "from matplotlib import animation, rc\n",
    "from IPython.display import HTML\n",
    "HTML(points_output.anim.to_html5_video())"
   ]
  },
  {
   "cell_type": "code",
   "execution_count": null,
   "id": "circular-casting",
   "metadata": {},
   "outputs": [],
   "source": []
  }
 ],
 "metadata": {
  "colab": {
   "collapsed_sections": [],
   "name": "Copy of Wing Kinematics.ipynb",
   "provenance": []
  },
  "kernelspec": {
   "display_name": "Python 3",
   "language": "python",
   "name": "python3"
  },
  "language_info": {
   "codemirror_mode": {
    "name": "ipython",
    "version": 3
   },
   "file_extension": ".py",
   "mimetype": "text/x-python",
   "name": "python",
   "nbconvert_exporter": "python",
   "pygments_lexer": "ipython3",
   "version": "3.8.5"
  }
 },
 "nbformat": 4,
 "nbformat_minor": 5
}

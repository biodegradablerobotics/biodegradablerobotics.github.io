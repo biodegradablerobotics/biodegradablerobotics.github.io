{
 "cells": [
  {
   "cell_type": "markdown",
   "metadata": {},
   "source": [
    "## Setup"
   ]
  },
  {
   "cell_type": "code",
   "execution_count": 1,
   "metadata": {
    "colab": {
     "base_uri": "https://localhost:8080/"
    },
    "id": "pi7Co6-jBLqJ",
    "outputId": "3e0b02e5-7b83-4a8a-fb4e-f100a21e47fb"
   },
   "outputs": [],
   "source": [
    "#pip install pynamics"
   ]
  },
  {
   "cell_type": "code",
   "execution_count": 2,
   "metadata": {
    "id": "frequent-douglas"
   },
   "outputs": [],
   "source": [
    "%matplotlib inline\n",
    "import scipy.optimize\n",
    "import pynamics\n",
    "from pynamics.frame import Frame\n",
    "from pynamics.variable_types import Differentiable,Constant\n",
    "from pynamics.system import System\n",
    "from pynamics.body import Body\n",
    "from pynamics.dyadic import Dyadic\n",
    "from pynamics.output import Output,PointsOutput\n",
    "from pynamics.particle import Particle\n",
    "import pynamics.integration\n",
    "import numpy\n",
    "import sympy\n",
    "import matplotlib.pyplot as plt\n",
    "from matplotlib.patches import Arc\n",
    "plt.ion()\n",
    "from math import pi, sin, cos, tan, asin, acos, atan, degrees, radians, pi, sqrt"
   ]
  },
  {
   "cell_type": "markdown",
   "metadata": {},
   "source": [
    "## System"
   ]
  },
  {
   "cell_type": "code",
   "execution_count": 3,
   "metadata": {},
   "outputs": [],
   "source": [
    "# Create a pynamics system\n",
    "system = System()\n",
    "pynamics.set_system(__name__,system)"
   ]
  },
  {
   "cell_type": "code",
   "execution_count": 4,
   "metadata": {},
   "outputs": [],
   "source": [
    "# Length variables (numerical)\n",
    "lAa_num = 0.05\n",
    "lAb_num = 0.1\n",
    "lBa_num = 0.05\n",
    "lBb_num = 0.1\n",
    "lC_num = 0.165\n",
    "lD_num = 0.165\n",
    "lE_num = 0.045\n",
    "\n",
    "# Lengths\n",
    "lAa = Constant(lAa_num,'lAa',system)\n",
    "lAb = Constant(lAb_num,'lAb',system)\n",
    "lBa = Constant(lBa_num,'lBa',system)\n",
    "lBb = Constant(lBb_num,'lBb',system)\n",
    "lC = Constant(lC_num,'lC',system)\n",
    "lD = Constant(lD_num,'lD',system)\n",
    "lE = Constant(lE_num,'lE',system)"
   ]
  },
  {
   "cell_type": "code",
   "execution_count": 5,
   "metadata": {},
   "outputs": [],
   "source": [
    "# Masses\n",
    "# r = 149kg/m3\n",
    "mAa = Constant(0.00447,'mAa',system) # 0.00447000 \n",
    "mAb = Constant(0.00894,'mAb',system) # 0.00894000 \n",
    "mBa = Constant(0.00626,'mBa',system) # 0.00625800\n",
    "mBb = Constant(0.00894,'mBb',system) # 0.00894000 \n",
    "mC = Constant(0.0148,'mC',system) # 0.01475100\n",
    "mD = Constant(0.0148,'mD',system) # 0.01475100\n",
    "\n",
    "# Joint preloads\n",
    "preload0 = Constant(0*pi/180,'preload0',system)\n",
    "preloadA = Constant(0*pi/180,'preloadA',system)\n",
    "preload1 = Constant(0*pi/180,'preload1',system)\n",
    "preloadB = Constant(0*pi/180,'preloadB',system)\n",
    "preload4 = Constant(0*pi/180,'preload4',system)\n",
    "preload3 = Constant(0*pi/180,'preload3',system)\n",
    "\n",
    "# Inertia\n",
    "Ixx_Aa = Constant(0.0000336,'Ixx_Aa',system) # 0.00003355\n",
    "Iyy_Aa = Constant(0.0000373,'Iyy_Aa',system) # 0.00003725\n",
    "Izz_Aa = Constant(0.0000038,'Izz_Aa',system) # 0.00000375\n",
    "Ixx_Ab = Constant(0.0000671,'Ixx_Ab',system) # 0.00006710\n",
    "Iyy_Ab = Constant(0.0000969,'Iyy_Ab',system) # 0.00009685\n",
    "Izz_Ab = Constant(0.0000299,'Izz_Ab',system) # 0.00002985\n",
    "\n",
    "Ixx_Ba = Constant(0.0000441,'Ixx_Ba',system) # 0.00004405\n",
    "Iyy_Ba = Constant(0.0000484,'Iyy_Ba',system) # 0.00004840\n",
    "Izz_Ba = Constant(0.0000045,'Izz_Ba',system) # 0.00000453\n",
    "Ixx_Bb = Constant(0.0000671,'Ixx_Bb',system) # 0.00006710\n",
    "Iyy_Bb = Constant(0.0000969,'Iyy_Bb',system) # 0.00009685\n",
    "Izz_Bb = Constant(0.0000299,'Izz_Bb',system) # 0.00002985\n",
    "\n",
    "Ixx_C = Constant(0.0001107,'Ixx_C',system) # 0.00011071\n",
    "Iyy_C = Constant(0.0002445,'Iyy_C',system) # 0.00024450\n",
    "Izz_C = Constant(0.000134,'Izz_C',system) # 0.00013394\n",
    "\n",
    "Ixx_D = Constant(0.0001107,'Ixx_D',system) # 0.00011071\n",
    "Iyy_D = Constant(0.0002445,'Iyy_D',system) # 0.00024450\n",
    "Izz_D = Constant(0.0001339,'Izz_D',system) # 0.00013394"
   ]
  },
  {
   "cell_type": "code",
   "execution_count": 6,
   "metadata": {},
   "outputs": [],
   "source": [
    "# Create differentiable state variables\n",
    "qAa,qAa_d,qAa_dd = Differentiable('qAa',system)\n",
    "qAb,qAb_d,qAb_dd = Differentiable('qAb',system)\n",
    "\n",
    "qBa,qBa_d,qBa_dd = Differentiable('qBa',system)\n",
    "qBb,qBb_d,qBb_dd = Differentiable('qBb',system)\n",
    "\n",
    "qC,qC_d,qC_dd = Differentiable('qC',system)\n",
    "\n",
    "qD,qD_d,qD_dd = Differentiable('qD',system)"
   ]
  },
  {
   "cell_type": "code",
   "execution_count": 7,
   "metadata": {},
   "outputs": [],
   "source": [
    "# initial values\n",
    "# qC = 11.97 creates fully extended, horizontal wing\n",
    "initialvalues = {}\n",
    "initialvalues[qAa]=45*pi/180\n",
    "initialvalues[qAa_d]=0*pi/180\n",
    "initialvalues[qAb]=0*pi/180\n",
    "initialvalues[qAb_d]=0*pi/180\n",
    "\n",
    "initialvalues[qBa]=0*pi/180\n",
    "initialvalues[qBa_d]=0*pi/180\n",
    "initialvalues[qBb]=0*pi/180\n",
    "initialvalues[qBb_d]=0*pi/180\n",
    "\n",
    "#initialvalues[qC]=14.65*pi/180\n",
    "initialvalues[qC]=(90-16.69)*pi/180\n",
    "initialvalues[qC_d]=0*pi/180\n",
    "\n",
    "initialvalues[qD]=-70.16*pi/180\n",
    "initialvalues[qD_d]=0*pi/180"
   ]
  },
  {
   "cell_type": "code",
   "execution_count": 8,
   "metadata": {},
   "outputs": [],
   "source": [
    "# Retrieve state variables in the order they are stored in the system\n",
    "# Create a list of initial values ini0 in the order of the system’s state variables\n",
    "statevariables = system.get_state_variables()\n",
    "ini0 = [initialvalues[item] for item in statevariables]"
   ]
  },
  {
   "cell_type": "code",
   "execution_count": 9,
   "metadata": {},
   "outputs": [],
   "source": [
    "# Create frames\n",
    "N = Frame('N')\n",
    "Aa = Frame('Aa')\n",
    "Ab = Frame('Ab')\n",
    "\n",
    "Ba = Frame('Ba')\n",
    "Bb = Frame('Bb')\n",
    "\n",
    "C = Frame('C')\n",
    "D = Frame('D')"
   ]
  },
  {
   "cell_type": "code",
   "execution_count": 10,
   "metadata": {},
   "outputs": [],
   "source": [
    "# Declare N as the Newtonian (fixed) frame\n",
    "system.set_newtonian(N)"
   ]
  },
  {
   "cell_type": "code",
   "execution_count": 11,
   "metadata": {},
   "outputs": [],
   "source": [
    "# Rotate other frames about their local Z axes.\n",
    "# Not global q\n",
    "Aa.rotate_fixed_axis_directed(N,[0,0,1],qAa,system)\n",
    "Ab.rotate_fixed_axis_directed(Aa,[0,0,1],qAb,system)\n",
    "\n",
    "Ba.rotate_fixed_axis_directed(Ab,[0,0,1],qBa,system)\n",
    "Bb.rotate_fixed_axis_directed(Ba,[0,0,1],qBb,system)\n",
    "\n",
    "C.rotate_fixed_axis_directed(Bb,[0,0,1],qC,system)\n",
    "D.rotate_fixed_axis_directed(C,[0,0,1],qD,system)"
   ]
  },
  {
   "cell_type": "code",
   "execution_count": 12,
   "metadata": {},
   "outputs": [],
   "source": [
    "# Define rigid body kinematics\n",
    "# position vectors\n",
    "p0 = 0*N.x #Normal\n",
    "pA = p0 + lAa*Aa.x #Normal\n",
    "p1 = pA + lAb*Ab.x #Link A\n",
    "pB = p1 + lBa*Ba.x #Link A\n",
    "p2A = pB + lBb*Bb.x #Link B - OUTPUT\n",
    "p4 = p0 + lE*N.y #Link E\n",
    "p3 = p4 + lC*C.x #Link C\n",
    "p2C = p3 + lD*D.x #Link D - OUTPUT"
   ]
  },
  {
   "cell_type": "code",
   "execution_count": 13,
   "metadata": {},
   "outputs": [],
   "source": [
    "# CoM vectors\n",
    "pAacom=p0 + lAa/2*Aa.x #Link Aa\n",
    "pAbcom=pA + lAb/2*Ab.x #Link Ab\n",
    "\n",
    "pBacom=p1 + 0.0207*Ba.x + 0.00314*Ba.y #Link Ba # 0.02071429x 0.00314286y\n",
    "pBbcom=pB + lBb*Bb.x #Link Bb\n",
    "\n",
    "pCcom=p4 + lC/2*C.x #Link Ca\n",
    "pDcom=p3 + lD/2*D.x #Link Da"
   ]
  },
  {
   "cell_type": "code",
   "execution_count": 14,
   "metadata": {},
   "outputs": [],
   "source": [
    "# Angular Velocity\n",
    "wNAa = N.getw_(Aa)\n",
    "wAaAb = Aa.getw_(Ab)\n",
    "\n",
    "wAbBa = Ab.getw_(Ba)\n",
    "wBaBb = Ba.getw_(Bb)\n",
    "\n",
    "wNC = N.getw_(C)\n",
    "wCD = C.getw_(D)"
   ]
  },
  {
   "cell_type": "code",
   "execution_count": 15,
   "metadata": {},
   "outputs": [],
   "source": [
    "# Build inertia tensors\n",
    "IAa = Dyadic.build(Aa,Ixx_Aa,Iyy_Aa,Izz_Aa)\n",
    "IAb = Dyadic.build(Ab,Ixx_Ab,Iyy_Ab,Izz_Ab)\n",
    "\n",
    "IBa = Dyadic.build(Ba,Ixx_Ba,Iyy_Ba,Izz_Ba)\n",
    "IBb = Dyadic.build(Bb,Ixx_Bb,Iyy_Bb,Izz_Bb)\n",
    "\n",
    "IC = Dyadic.build(C,Ixx_C,Iyy_C,Izz_C)\n",
    "ID = Dyadic.build(D,Ixx_D,Iyy_D,Izz_D)\n",
    "\n",
    "BodyAa = Body('BodyAa',Aa,pAacom,mAa,IAa,system)\n",
    "BodyAb = Body('BodyAb',Ab,pAbcom,mAb,IAb,system)\n",
    "\n",
    "BodyBa = Body('BodyBa',Ba,pBacom,mBa,IBa,system)\n",
    "BodyBb = Body('BodyBb',Bb,pBbcom,mBb,IBb,system)\n",
    "\n",
    "BodyC = Body('BodyC',C,pCcom,mC,IC,system)\n",
    "BodyD = Body('BodyD',D,pDcom,mD,ID,system)\n",
    "#BodyC = Particle(pCcm,mC,'ParticleC',system)"
   ]
  },
  {
   "cell_type": "markdown",
   "metadata": {},
   "source": [
    "## Forces"
   ]
  },
  {
   "cell_type": "code",
   "execution_count": 16,
   "metadata": {},
   "outputs": [
    {
     "data": {
      "text/plain": [
       "<pynamics.force.Force at 0x29591727a90>"
      ]
     },
     "execution_count": 16,
     "metadata": {},
     "output_type": "execute_result"
    }
   ],
   "source": [
    "# Motor Torque\n",
    "t_switch = 0.3\n",
    "T1 = -0.1\n",
    "T2 = 0.2\n",
    "dT = T2-T1\n",
    "\n",
    "cond = system.t-t_switch\n",
    "cond_s = (cond+abs(cond))\n",
    "on = cond_s/(2*cond+1e-4)\n",
    "system.addforce((dT*on+T1)*N.z,wNAa)"
   ]
  },
  {
   "cell_type": "code",
   "execution_count": 17,
   "metadata": {},
   "outputs": [],
   "source": [
    "# Spring Forces\n",
    "kbase = Constant(1e-4,'kbase',system)\n",
    "kjoint = Constant(1e-3,'kjoint',system)\n",
    "kbend = Constant(6,'kbend',system)\n",
    "klim = Constant(3,'klim',system)\n",
    "\n",
    "dK = kbase-klim"
   ]
  },
  {
   "cell_type": "code",
   "execution_count": 18,
   "metadata": {},
   "outputs": [
    {
     "data": {
      "text/plain": [
       "(<pynamics.force.Force at 0x29591736d30>,\n",
       " <pynamics.spring.Spring at 0x29591736ca0>)"
      ]
     },
     "execution_count": 18,
     "metadata": {},
     "output_type": "execute_result"
    }
   ],
   "source": [
    "system.add_spring_force1(kbase,(qAa-preload0)*N.z,wNAa) # qA\n",
    "system.add_spring_force1(kbend,(qAb-preloadA)*Aa.z,wAaAb)  # virtual A\n",
    "\n",
    "system.add_spring_force1(dK*on+klim,(qBa-preload1)*Ab.z,wAbBa) # Limiter\n",
    "#system.add_spring_force1(kbase,(qBa-preload1)*Ab.z,wAbBa) # Limiter Torque off\n",
    "\n",
    "system.add_spring_force1(kbend,(qBb-preloadB)*Ba.z,wBaBb) # virtual B\n",
    "\n",
    "system.add_spring_force1(kbase,(qC-preload4)*N.z,wNC) # qC\n",
    "system.add_spring_force1(kjoint,(qD-preload3)*C.z,wCD) # qD"
   ]
  },
  {
   "cell_type": "code",
   "execution_count": 19,
   "metadata": {},
   "outputs": [],
   "source": [
    "# Damping\n",
    "bbase = Constant(1e-2,'bbase',system)\n",
    "bjoint = Constant(1e-2,'bjoint',system)"
   ]
  },
  {
   "cell_type": "code",
   "execution_count": 20,
   "metadata": {},
   "outputs": [
    {
     "data": {
      "text/plain": [
       "<pynamics.force.Force at 0x2958d9c5370>"
      ]
     },
     "execution_count": 20,
     "metadata": {},
     "output_type": "execute_result"
    }
   ],
   "source": [
    "system.addforce(-bbase*wNAa,wNAa) # qA\n",
    "system.addforce(-bjoint*wAbBa,wAbBa) # qB\n",
    "system.addforce(-bbase*wNC,wNC) # qC\n",
    "system.addforce(-bjoint*wCD,wCD) # qD"
   ]
  },
  {
   "cell_type": "code",
   "execution_count": 21,
   "metadata": {},
   "outputs": [],
   "source": [
    "# Aerodynamic Forces\n",
    "rho = Constant(1.225,'rho',system) # air density\n",
    "w = Constant(0.15,'w',system) # width or chord length"
   ]
  },
  {
   "cell_type": "code",
   "execution_count": 22,
   "metadata": {},
   "outputs": [],
   "source": [
    "vAacom= pAacom.time_derivative(N,system)\n",
    "vAacom2= pAacom.dot(vAacom)\n",
    "vAbcom= pAbcom.time_derivative(N,system)\n",
    "vAbcom2= pAbcom.dot(vAbcom)\n",
    "\n",
    "vBacom= pBacom.time_derivative(N,system)\n",
    "vBacom2= pBacom.dot(vBacom)\n",
    "vBbcom= pBbcom.time_derivative(N,system)\n",
    "vBbcom2= pBbcom.dot(vBbcom)\n",
    "\n",
    "vCcom= pCcom.time_derivative(N,system)\n",
    "vCcom2= pCcom.dot(vCcom)\n",
    "vDcom= pDcom.time_derivative(N,system)\n",
    "vDcom2= pDcom.dot(vDcom)"
   ]
  },
  {
   "cell_type": "code",
   "execution_count": 23,
   "metadata": {},
   "outputs": [],
   "source": [
    "vAadx = vAacom.dot(Aa.x)\n",
    "vAbdx = vAbcom.dot(Ab.x)\n",
    "vBadx = vBacom.dot(Ba.x)\n",
    "vBbdx = vBbcom.dot(Bb.x)\n",
    "vCdx = vCcom.dot(C.x)\n",
    "vDdx = vDcom.dot(D.x)\n",
    "\n",
    "vAady = vAacom.dot(-Aa.y)\n",
    "vAbdy = vAbcom.dot(-Ab.y)\n",
    "vBady = vBacom.dot(-Ba.y)\n",
    "vBbdy = vBbcom.dot(-Bb.y)\n",
    "vCdy = vCcom.dot(-C.y)\n",
    "vDdy = vDcom.dot(-D.y)"
   ]
  },
  {
   "cell_type": "code",
   "execution_count": 24,
   "metadata": {},
   "outputs": [],
   "source": [
    "tolv = 1e-10"
   ]
  },
  {
   "cell_type": "code",
   "execution_count": 25,
   "metadata": {},
   "outputs": [],
   "source": [
    "aoa_Aa = sympy.atan2(vAady+tolv,vAadx)\n",
    "aoa_Ab = sympy.atan2(vAbdy+tolv,vAbdx)\n",
    "aoa_Ba = sympy.atan2(vBady+tolv,vBadx)\n",
    "aoa_Bb = sympy.atan2(vBbdy+tolv,vBbdx)\n",
    "aoa_C = sympy.atan2(vCdy+tolv,vCdx)\n",
    "aoa_D = sympy.atan2(vDdy+tolv,vDdx)"
   ]
  },
  {
   "cell_type": "code",
   "execution_count": 26,
   "metadata": {},
   "outputs": [
    {
     "data": {
      "text/plain": [
       "<pynamics.force.Force at 0x29591779cd0>"
      ]
     },
     "execution_count": 26,
     "metadata": {},
     "output_type": "execute_result"
    }
   ],
   "source": [
    "aero_Aa = rho*vAacom2*sympy.sin(aoa_Aa)*w*lAa*Aa.y\n",
    "system.addforce(aero_Aa,vAacom)\n",
    "\n",
    "aero_Ab = rho*vAbcom2*sympy.sin(aoa_Ab)*w*lAb*Ab.y\n",
    "system.addforce(aero_Ab,vAbcom)\n",
    "\n",
    "aero_Ba = rho*vBacom2*sympy.sin(aoa_Ba)*w*lBa*Ba.y\n",
    "system.addforce(aero_Ba,vBacom)\n",
    "\n",
    "aero_Bb = rho*vBbcom2*sympy.sin(aoa_Bb)*w*lBb*Bb.y\n",
    "system.addforce(aero_Bb,vBbcom)\n",
    "\n",
    "aero_C = rho*vCcom2*sympy.sin(aoa_C)*w*lC*C.y\n",
    "system.addforce(aero_C,vCcom)\n",
    "\n",
    "aero_D = rho*vDcom2*sympy.sin(aoa_D)*w*lD*D.y\n",
    "system.addforce(aero_D,vDcom)"
   ]
  },
  {
   "cell_type": "code",
   "execution_count": 27,
   "metadata": {},
   "outputs": [],
   "source": [
    "# Gravity\n",
    "g = Constant(9.81,'g',system)\n",
    "system.addforcegravity(-g*N.y)"
   ]
  },
  {
   "cell_type": "markdown",
   "metadata": {},
   "source": [
    "## Constraints"
   ]
  },
  {
   "cell_type": "code",
   "execution_count": 28,
   "metadata": {},
   "outputs": [],
   "source": [
    "# ptipup = 0.547*N.x+0.547*N.y"
   ]
  },
  {
   "cell_type": "code",
   "execution_count": 29,
   "metadata": {},
   "outputs": [],
   "source": [
    "# Constraints\n",
    "eq_vector = p2A-p2C\n",
    "eq = []\n",
    "eq.append((eq_vector).dot(N.x))\n",
    "eq.append((eq_vector).dot(N.y))\n",
    "eq_d=[(system.derivative(item)) for item in eq]\n",
    "eq_dd=[(system.derivative(item)) for item in eq_d]\n",
    "\n",
    "eq2_vector = Ab.x-Ba.x\n",
    "eq2 = []\n",
    "eq2.append((eq2_vector).dot(N.x))\n",
    "eq2.append((eq2_vector).dot(N.y))\n",
    "eq2_d=[(system.derivative(item)) for item in eq2]\n",
    "eq2_dd=[(system.derivative(item)) for item in eq2_d]"
   ]
  },
  {
   "cell_type": "markdown",
   "metadata": {},
   "source": [
    "## Solve for valid initial condition"
   ]
  },
  {
   "cell_type": "code",
   "execution_count": 30,
   "metadata": {},
   "outputs": [],
   "source": [
    "# Declare a list of points that will be used for plotting\n",
    "points = [p0, pA, p1, pB, p2A, p3, p4]"
   ]
  },
  {
   "cell_type": "code",
   "execution_count": 31,
   "metadata": {},
   "outputs": [],
   "source": [
    "# Identify independent and dependent variables\n",
    "qi = [qAa, qC]\n",
    "qd = [qAb, qBa, qBb, qD]"
   ]
  },
  {
   "cell_type": "code",
   "execution_count": 32,
   "metadata": {},
   "outputs": [],
   "source": [
    "# Create a copy of symbolic constants dictionary and add the initial value of qi to it\n",
    "constants = system.constant_values.copy()\n",
    "defined = dict([(item,initialvalues[item]) for item in qi])\n",
    "constants.update(defined)"
   ]
  },
  {
   "cell_type": "code",
   "execution_count": 33,
   "metadata": {},
   "outputs": [],
   "source": [
    "# Substitute constants in equation\n",
    "eq = [item.subs(constants) for item in eq]\n",
    "eq2 = [item.subs(constants) for item in eq2]"
   ]
  },
  {
   "cell_type": "code",
   "execution_count": 34,
   "metadata": {},
   "outputs": [],
   "source": [
    "# Convert to numpy array\n",
    "# Sum the error\n",
    "error = (numpy.array(eq)**2).sum() + (numpy.array(eq2)**2).sum()"
   ]
  },
  {
   "cell_type": "code",
   "execution_count": 35,
   "metadata": {},
   "outputs": [],
   "source": [
    "# Convert to a function that scipy can use.\n",
    "# Sympy has a “labmdify” function that evaluates an expression, but scipy needs a slightly different format.\n",
    "f = sympy.lambdify(qd,error)\n",
    "\n",
    "def function(args):\n",
    "    return f(*args)"
   ]
  },
  {
   "cell_type": "code",
   "execution_count": 36,
   "metadata": {},
   "outputs": [
    {
     "name": "stderr",
     "output_type": "stream",
     "text": [
      "2021-03-19 22:58:33,360 - pynamics.output - INFO - calculating outputs\n",
      "2021-03-19 22:58:33,362 - pynamics.output - INFO - done calculating outputs\n"
     ]
    },
    {
     "data": {
      "text/plain": [
       "array([[[ 0.        ,  0.        ],\n",
       "        [ 0.03535534,  0.03535534],\n",
       "        [ 0.10606602,  0.10606602],\n",
       "        [ 0.14142136,  0.14142136],\n",
       "        [ 0.21213203,  0.21213203],\n",
       "        [-0.07824991,  0.19026511],\n",
       "        [ 0.        ,  0.045     ]],\n",
       "\n",
       "       [[ 0.        ,  0.        ],\n",
       "        [ 0.03535534,  0.03535534],\n",
       "        [ 0.10369392,  0.10836109],\n",
       "        [ 0.13786317,  0.14486399],\n",
       "        [ 0.23496063,  0.12094575],\n",
       "        [ 0.08381403,  0.18712744],\n",
       "        [ 0.        ,  0.045     ]]])"
      ]
     },
     "execution_count": 36,
     "metadata": {},
     "output_type": "execute_result"
    }
   ],
   "source": [
    "# Take the derivative of the equations to linearize with regard to the velocity variables\n",
    "guess = [initialvalues[item] for item in qd]\n",
    "result = scipy.optimize.minimize(function,guess)\n",
    "if result.fun>1e-3:\n",
    "    raise(Exception(\"out of tolerance\"))\n",
    "ini = []\n",
    "for item in system.get_state_variables():\n",
    "    if item in qd:\n",
    "        ini.append(result.x[qd.index(item)])\n",
    "    else:\n",
    "        ini.append(initialvalues[item])\n",
    "points = PointsOutput(points, constant_values=system.constant_values)\n",
    "points.calc(numpy.array([ini0,ini]))\n",
    "#points.plot_time()"
   ]
  },
  {
   "cell_type": "code",
   "execution_count": 37,
   "metadata": {},
   "outputs": [
    {
     "data": {
      "text/plain": [
       "2.0881017314179564e-12"
      ]
     },
     "execution_count": 37,
     "metadata": {},
     "output_type": "execute_result"
    }
   ],
   "source": [
    "result.fun"
   ]
  },
  {
   "cell_type": "code",
   "execution_count": 38,
   "metadata": {},
   "outputs": [],
   "source": [
    "# Valid initial condition\n",
    "x = numpy.array([points.y[1][0][0], points.y[1][1][0], points.y[1][2][0], points.y[1][3][0], points.y[1][4][0], points.y[1][5][0], points.y[1][6][0], 0])\n",
    "y = numpy.array([points.y[1][0][1], points.y[1][1][1], points.y[1][2][1], points.y[1][3][1], points.y[1][4][1], points.y[1][5][1], points.y[1][6][1], 0])\n",
    "# prettyplot(x,y)"
   ]
  },
  {
   "cell_type": "markdown",
   "metadata": {},
   "source": [
    "## Solution"
   ]
  },
  {
   "cell_type": "code",
   "execution_count": 39,
   "metadata": {},
   "outputs": [
    {
     "name": "stderr",
     "output_type": "stream",
     "text": [
      "2021-03-19 22:58:33,402 - pynamics.system - INFO - getting dynamic equations\n"
     ]
    }
   ],
   "source": [
    "# F=ma\n",
    "f,ma = system.getdynamics()"
   ]
  },
  {
   "cell_type": "code",
   "execution_count": 40,
   "metadata": {},
   "outputs": [
    {
     "name": "stderr",
     "output_type": "stream",
     "text": [
      "2021-03-19 22:58:34,169 - pynamics.system - INFO - solving a = f/m and creating function\n",
      "2021-03-19 22:58:34,180 - pynamics.system - INFO - substituting constrained in Ma-f.\n",
      "2021-03-19 22:58:40,483 - pynamics.system - INFO - done solving a = f/m and creating function\n",
      "2021-03-19 22:58:40,484 - pynamics.system - INFO - calculating function for lambdas\n"
     ]
    }
   ],
   "source": [
    "# Acceleration\n",
    "func1,lambda1 = system.state_space_post_invert(f,ma,eq_dd,return_lambda = True)"
   ]
  },
  {
   "cell_type": "code",
   "execution_count": 41,
   "metadata": {},
   "outputs": [],
   "source": [
    "# Integration Tolerance\n",
    "tol = 1e-6"
   ]
  },
  {
   "cell_type": "code",
   "execution_count": 42,
   "metadata": {},
   "outputs": [],
   "source": [
    "# Time\n",
    "tinitial = 0\n",
    "tfinal = 1\n",
    "#tfinal = 4 # torque off\n",
    "fps = 30\n",
    "tstep = 1/fps\n",
    "t = numpy.r_[tinitial:tfinal:tstep]"
   ]
  },
  {
   "cell_type": "code",
   "execution_count": 43,
   "metadata": {},
   "outputs": [
    {
     "name": "stderr",
     "output_type": "stream",
     "text": [
      "2021-03-19 22:58:40,536 - pynamics.integration - INFO - beginning integration\n",
      "2021-03-19 22:58:40,537 - pynamics.system - INFO - integration at time 0000.00\n",
      "2021-03-19 22:58:53,756 - pynamics.system - INFO - integration at time 0000.20\n",
      "2021-03-19 22:59:06,869 - pynamics.system - INFO - integration at time 0000.37\n",
      "2021-03-19 22:59:13,331 - pynamics.integration - INFO - finished integration\n"
     ]
    }
   ],
   "source": [
    "# Integrate\n",
    "states=pynamics.integration.integrate(func1,ini,t,rtol=tol,atol=tol, args=({'constants':system.constant_values},))"
   ]
  },
  {
   "cell_type": "code",
   "execution_count": 44,
   "metadata": {},
   "outputs": [
    {
     "data": {
      "text/plain": [
       "<matplotlib.legend.Legend at 0x2959305a250>"
      ]
     },
     "execution_count": 44,
     "metadata": {},
     "output_type": "execute_result"
    },
    {
     "data": {
      "image/png": "[encoded data removed]",
      "text/plain": [
       "<Figure size 432x288 with 1 Axes>"
      ]
     },
     "metadata": {
      "needs_background": "light"
     },
     "output_type": "display_data"
    }
   ],
   "source": [
    "# Outputs\n",
    "plt.figure()\n",
    "artists = plt.plot(t,states[:,:4])\n",
    "plt.legend(artists,['qAa','qAb','qBa','qBb','qC','qD'])"
   ]
  },
  {
   "cell_type": "raw",
   "metadata": {},
   "source": [
    "# Energy\n",
    "KE = system.get_KE()\n",
    "PE = system.getPEGravity(p0) - system.getPESprings()\n",
    "energy_output = Output([KE-PE],system)\n",
    "energy_output.calc(states)\n",
    "energy_output.plot_time()"
   ]
  },
  {
   "cell_type": "code",
   "execution_count": 45,
   "metadata": {},
   "outputs": [
    {
     "name": "stderr",
     "output_type": "stream",
     "text": [
      "2021-03-19 22:59:13,525 - pynamics.output - INFO - calculating outputs\n",
      "2021-03-19 22:59:13,531 - pynamics.output - INFO - done calculating outputs\n"
     ]
    },
    {
     "data": {
      "image/png": "[encoded data removed]",
      "text/plain": [
       "<Figure size 432x288 with 1 Axes>"
      ]
     },
     "metadata": {
      "needs_background": "light"
     },
     "output_type": "display_data"
    }
   ],
   "source": [
    "# Motion\n",
    "points = [p0,pA,p1,pB,p2A,p3,p4]\n",
    "points_output = PointsOutput(points,system)\n",
    "y = points_output.calc(states)\n",
    "points_output.plot_time(20)"
   ]
  },
  {
   "cell_type": "code",
   "execution_count": 46,
   "metadata": {},
   "outputs": [
    {
     "data": {
      "image/png": "[encoded data removed]",
      "text/plain": [
       "<Figure size 432x288 with 1 Axes>"
      ]
     },
     "metadata": {
      "needs_background": "light"
     },
     "output_type": "display_data"
    }
   ],
   "source": [
    "# Motion Animation\n",
    "points_output.animate(fps = fps,movie_name = 'render.mp4',lw=2,marker='o',color=(1,0,0,1),linestyle='-')"
   ]
  },
  {
   "cell_type": "code",
   "execution_count": 47,
   "metadata": {},
   "outputs": [
    {
     "data": {
      "text/html": [
       "<video width=\"432\" height=\"288\" controls autoplay loop>\n",
       "  <source type=\"video/mp4\" src=\"data:video/mp4;base64,AAAAIGZ0eXBNNFYgAAACAE00ViBpc29taXNvMmF2YzEAAAAIZnJlZQAAWU9tZGF0AAACrgYF//+q\n",
       "3EXpvebZSLeWLNgg2SPu73gyNjQgLSBjb3JlIDE2MSByMzAzMyAwZDc1NGVjIC0gSC4yNjQvTVBF\n",
       "Ry00IEFWQyBjb2RlYyAtIENvcHlsZWZ0IDIwMDMtMjAyMCAtIGh0dHA6Ly93d3cudmlkZW9sYW4u\n",
       "b3JnL3gyNjQuaHRtbCAtIG9wdGlvbnM6IGNhYmFjPTEgcmVmPTMgZGVibG9jaz0xOjA6MCBhbmFs\n",
       "eXNlPTB4MzoweDExMyBtZT1oZXggc3VibWU9NyBwc3k9MSBwc3lfcmQ9MS4wMDowLjAwIG1peGVk\n",
       "X3JlZj0xIG1lX3JhbmdlPTE2IGNocm9tYV9tZT0xIHRyZWxsaXM9MSA4eDhkY3Q9MSBjcW09MCBk\n",
       "ZWFkem9uZT0yMSwxMSBmYXN0X3Bza2lwPTEgY2hyb21hX3FwX29mZnNldD0tMiB0aHJlYWRzPTkg\n",
       "bG9va2FoZWFkX3RocmVhZHM9MSBzbGljZWRfdGhyZWFkcz0wIG5yPTAgZGVjaW1hdGU9MSBpbnRl\n",
       "cmxhY2VkPTAgYmx1cmF5X2NvbXBhdD0wIGNvbnN0cmFpbmVkX2ludHJhPTAgYmZyYW1lcz0zIGJf\n",
       "cHlyYW1pZD0yIGJfYWRhcHQ9MSBiX2JpYXM9MCBkaXJlY3Q9MSB3ZWlnaHRiPTEgb3Blbl9nb3A9\n",
       "MCB3ZWlnaHRwPTIga2V5aW50PTI1MCBrZXlpbnRfbWluPTI1IHNjZW5lY3V0PTQwIGludHJhX3Jl\n",
       "ZnJlc2g9MCByY19sb29rYWhlYWQ9NDAgcmM9Y3JmIG1idHJlZT0xIGNyZj0yMy4wIHFjb21wPTAu\n",
       "NjAgcXBtaW49MCBxcG1heD02OSBxcHN0ZXA9NCBpcF9yYXRpbz0xLjQwIGFxPTE6MS4wMACAAAAN\n",
       "cmWIhAA3//728P4FNjuY0JcRzeidMx+/Fbi6NDe9zgAAAwAAN9zmRP7KkwbmwAAC4JjeFiVDIHZg\n",
       "BwAYBTUB9y+wHE6s4ca0zkDKbhbHGDYgsS+F3KCTI8LMrpPQF0w6TpeMW2evFERcLGLiECoLCjGG\n",
       "bRKWHQ0ueTpFK2zT3VrWwedUi/YdBqjtV/oBdHKECWLgfqohfzTMakvqJL3FztryYC9IcfIFa24K\n",
       "vdQuvCpN1914YbQ0aVqVyN0coKCbi4Qp9EjBYToLl78IL1X3cdoJtgQw608/rwOLAi/xyTbusfSh\n",
       "/TB1eoDmz+uaIu61/Zx4MN8Grc62mAEIp0qFvFl5GjvHWOiJfWx6WQDJc0WvYTj19e9PA58l32/O\n",
       "uwNpwWHkG/M56ipzopy+W7utqhBd5AN0R54J8izbC/R2wlSVAe+8rdkqQOczYv/mPf/wQp+2DFzu\n",
       "at5YGi+u3gHyl5+8ukNMnX2VhK9W+TFAmiarJYtoycXip+lm8uwx49Niof+Aa1WwIpw9z+staRmt\n",
       "Kk9Ycu0rv92Vu8t7BXiyDN5Hy2NXOaIUrV/mYiy7FG335SSxfi7RIPRI3TLRu2IEUYLQHpvVggmx\n",
       "07S/qkzhNXb+OWi/8RS4ZrSb5bXjaBzdzRjUJXGrivrFQhSYWUNnGeuCVY9FabQ/l/69AOCw/j7y\n",
       "ITS/qaXvrpJBblYkWHMx7zNUBfvhwyuUYTiuVyNtjarOytPzapbxdlCMsKpVyvdIZ0ts3ucfhSLc\n",
       "aORbSgWrLPo3wFu+uVTQoyPb6Nrp4BUjVZiMdnNro2W9M0u4+ZjkbMpb5X7RZbLotpPqimowPByk\n",
       "qOd6eEmRngDV9aHQukRrHjKGo0oFwSifCr8vqM9wD18VoIfBqM4fyb9otdOM98m8MK53tjC2rUAL\n",
       "KiDTshWBd6Ej+P7NOuX6tRFeOVvjYH+Ep49Q4P8QjqXHdlTEoTeZc+HF7YKmO+9XWDcly0NTnszt\n",
       "3T0ZTo6pwheP+gzzKeaOSxkjqi0R9HLsfMIm3a+56KjeZN6Dli/4EqgCtOoRjjx77cUWS7nZA+FL\n",
       "oynmE2UAiZQZsP8syXjDkCoeTQC9vZc3mleEb5JLRwS6lnfOZW2WtvUpOmYan37DzC7MENkz0Yq7\n",
       "C4bm6sut+DGOoAb/VyqDKFUkwS2mm5OD9WkVAkxYdsZMJXs9FscuwFE6hm3jidCAYJkspnduWneO\n",
       "ENo6SVYmGD2//WzfVq3SysVWfWITwJV5Y2W9JyQiLRj8ZNWm9Z8jtHzA03oTzro05BqmXh4IS5cw\n",
       "7P2Uj5RzKNXm00iUwzuBqN7I3O4H7B05o6FO3kkErIYmx4VVAbpFmLUWBQwPrU3HZt297r8UtLwL\n",
       "Ty5MC4um570GN/rcUH53tlh4tpibcZK7f/MoBtjG4kIlY//rAFt4D0uAm11Dg9XHhaBX1QBw0uRc\n",
       "vtlq0WRox+Dmy/VhcoiZof30GwC7WvgDt3jdAmZu7VPFycirrGENlomSdFTQOGJnVog04LxgSFTR\n",
       "90SA1g9gki7sIMy+ng3X8rtuGAllP6sv///vCDGXYX3wTJKrucodEH2spJMUeviHtygj+/NIeNMT\n",
       "/ksP4eLMLe3b1Ellrl6dW/Fc3g9TY1J1+yIOfhJOh/deQ2jJMq7Vb0o3KjPV90m3qJrUA50ODovY\n",
       "4ZTrE9J6IP3GOtrgRkDJWDOgDq1aGXsrEhP+HtgAaP6AsGPGKHYaR5pAmK8jvGNecbwnMwrFaGEX\n",
       "bdZmzPbucuktmvfGXRNBs+zV5u0mdVf+T2D8OcKFnXMyXy6u/t6FemwjVjyvTWXjSzfb7sdsn5Sa\n",
       "J7nSfMmBkqyir3ZvV0WieNqQ9lRgkImMpqLhIcfvTEbsrpWrwNf9m3mEPcEFcZLh3I6fVq6VwSXg\n",
       "gnUEuQuEEO1HDhKySyqrq7O0RyUyI5V3CrQ3pdYyo2Zqx66g6+stnzgrW6YcZnDlyBo0ZK8HqW1+\n",
       "9KahDS66oItayv7YFtyfjV0VgA4Rw8DgXn07o5GcL6Kc2HsmIwYWZDFSmd0KZictMadrEeaxnwC9\n",
       "ISqZH3KW9NxZU59CvNq1LnzDL+dnD6Vw1lchYI9268MEqV67Cx+WNXkvC+Q5W4/SymyEGl4aF/5J\n",
       "iK8ERcjE72E24kpV6BcB1OxWtp5QyzQ5A4596RanBuN2lQPeCFI/LU2zkwxT1S9Ts9jvrcaS7C/N\n",
       "UVUcjJFbEqLXnscHjdMNHlnuIoQbmBbBTkndghseFdT5axTmXJKSFckY/PZACEoIdr7GQn0uyRH0\n",
       "OHbljD0en/1N7B9oubyIdGm+7IzqHORBdCYsMue3ryQhUp4huiS5ho7XBfTyxS/bRW9u190/iXZT\n",
       "tr8mrzEBiWBiaap1MLf9CNPZKfYYDU1aEA2ZXKHFsssFoR4XJcjr4E/repn9EiYedZSHoz4V+Egm\n",
       "G129Mh2qh+biz0/82xaeORbYLNx/dc2uIIrI/V9OEA5OrPWQk62tMjGJ7nvM5KPrIdWeT0kwXen6\n",
       "tDXapax6ZiADHSy3hBTODtbWRo1CE2CkJXziNFbCqg8FFV4NEn9q90Fx4a0JeIDvn1PZpRlVZEYA\n",
       "lntvXa5a5cdPSr0FPe0pKjT6CVxYu8ANHhwwFqfltDGJHnRIYEWWGC7RdecOIJiWah43rhXdyiHw\n",
       "vEJ+fUbm8Sf/ToOt4GGKwP6Auyto6ZcgMXngQc8zMwm+MO2B03Z7umWzvetRPWQNid4sMSZ2DXTi\n",
       "ef2M3lPGLP3lbtuW+Pfz/ZJXUlZ1gHQjRsNRNDk4IcDTQouhnLQug1f2jyP6lfXrZ+4tIUs0oOmm\n",
       "PI36OgBct74CKQ4Iz4jD37007sfQjMr0w6MT6eghp91V0Fc+e19paLdXhs35D2CgkQLwZutr27S3\n",
       "dBM+XhJRJPMCYJvDTeQ4cTNGR0YyD67X5SMnYrak/RCz6JoE4CWW6FcmEAkRD/urfDCsTJmFIkaG\n",
       "vH2IaWbQ166Va+fXWw7XDMtOicLEXtPNWsMBCMB9TYHNZXcY3Qhrx2xICGQeTbwuOWiSKvwpydU0\n",
       "t/ZzCeUWFjDu65WsQxURIC0Ms1YEYCVcqq+rb9Zsf8ZyHPOIEVhBVUCpcsR3MZUkGTF7V2dF0Zos\n",
       "VaK8M/88fK3LtInAUOkiJ6Vwc54eewfYH27rProAzeXuXNzNx9/iSKjhzbOsoPw5cAkjIgFU5Ae+\n",
       "AVbQADkZJtdP4g8QQPfu7xO3ZlcksG7n08WaL2cU/AbajQjZPqsE7T+JATTUnecMb0CTGRRDvmal\n",
       "fc/oSLHjrHsFlAjWInObHHzdgrYbRR5T/zm3TBPeBpVWNeGIthnn2CydbZ+jeWY+gGcrODbDLcA+\n",
       "qPkkdOt0y3iWoFJQv3BQGYUJPAtxvZoxowq1vsuPWObGzZINt9v+sFcjnOl5aCpe2H6XnMoDGYxA\n",
       "v5NmbhIc5c/pFp2mIGQoqswxW9sBveaHjzoufAM1JA/URi8aiQegW/AwQyvdIVvwim4cxUDmd4fM\n",
       "aCvWj52U6LZfsD/bvqTtSKN3UoOGiQqWiH688sAVav7wxMQQLdTzAd7en3KkiUfchJsxTsoSS0C5\n",
       "BRIAeL/ahfm3rYngXMAT7EGpUEJ+fM/5FBSWGsmhm/SYzwi4m26pKZzM8CKHGJO6Gl5AIQYPnVw1\n",
       "J9/U9jcS9T2ff+LorvyuGPaVHX3G/tw237mHTbEwMV4AGahxp/nch4dk1myck/Pz9Oho3FwifciQ\n",
       "YA1ebgof2cFt/P96X5cvYFLmAisk+FNEXGAMOmILYfBRd0buBdStzIJ7wM4SILc+jX3tBpTViYm8\n",
       "jdtp+YZNEeglVIU1GgqYexor/unQFcnpNrHqPic37+6FNjlAKv1CJ8X8TPwaA7taOwM4Byqa4Kyz\n",
       "B4CqgCt776MyzR30/dkmsEhFzAUVlw/HuhogBa2ci3xGG+O3w2gqNiGOrXvsG2S92KqpZCA5CHPL\n",
       "QUG1ga9FHNhSpqdyf966uOW91+E8GOk4OxPVa+PhlyY/JE9iDYtyj4yNYF27Np5kxjwUgGXQO1gk\n",
       "PUq98FRQdX/JClaFnSgHrFs8Vj1BDlF260MlXIl6NzxApBYml4O4F8KhFlDykJP7xElIu7jvaNlF\n",
       "qWejk4G9/xn0dftrnMFc3InshBh9jny6SQ4McK/OfQgpw5o8xBLwqpoBHfCq+BVV8u8iXi+efFWt\n",
       "N53MCmI5CgWEnofp90SRmzFshRhWmo/+YEoM5xVsm+k7bFkzlpO+idS/7t/wEuUAfdg+y0W2BgMq\n",
       "iK6nENy39tR5sjzTvGGEe5+5aHbar4sM4woS5YAfsqui45jHfU+jjJ9a/3oiQ0ruAE5uuncRTODH\n",
       "v0BK73c6LcS5yr756BnzLJn0u31a+kX0JxU+lABiqpQzgAYJZijWmvXhBFS8eGQTiYfvyvLQLiZv\n",
       "9MB4H4dBy9dqv/JUabbHBOVqNx3ryRYval4jfpwGsR4hlWinGr+O3BNXrPmgv4gIwRbPqNHUuL4N\n",
       "nr75B9DqBgnEyhO3CnLJLdPXMQPsj6XBrLTs6W5B3kmUrnONITQPOpoEVNVrPXGEngXEFMMNz/ry\n",
       "qSH68fovG1mzyFM/7r5jaBXQEfpqScEAAATTQZokbEM//p4QBf7yuoA/hnb3i9BNyyK4RP5loykM\n",
       "89y+gsU70tP8DI6dBM00Ql1hq/uY+ZnCxxTuEgDtTfRCcKPfS2rU+bS+EP4bxc29YFDTas1v/iCL\n",
       "44ojWQKptRTdp1lTyjK5cTO4R5KmjtmYySJ0duOyr2JsfQEDN+4zYuCO0tK0slstmKuZ/W/rGQBJ\n",
       "ijp8alBMXvyh3t/Dg6xaJzEThno8Ew+XNYu4BebovJ2Ay+qjTgn9lpkUgv0XvR9cEbmqANRaqCAO\n",
       "FkVjkPMeWWWFRzBGhW3jN08afHWkS2kCjzAssM8O/iAYo6ZYcCoHrT5zZ0vP1FrCmul8fjEyTW0T\n",
       "05ofxYTkYtiup8I1/geIeSLgdCttqsCLL6s4SumETdj1NGi9WZWeeoqTsSQ7BBOzNM1BQ/XuyxVL\n",
       "8XBUAEVIaFIZLwJ9UiQ3MbXpdjgrXesggWhaI9mlR2fFoSMayP9aIOFgVUi6jwQh1C4+MHuEtnTR\n",
       "UXBzv2Ejx31dIsVVbeZuNIx+Hqr2x3ucLnAWrzMxsxSUStn8Y+W3sAnKkib+i7nGB6P/ZO8wN35l\n",
       "ns7wiLIOkxr38c2MhtNcCknwr9nHoStgia6fF8TXZIekPuAXUcBQCJ/fhADkV7D3bjmrdk+r3ptm\n",
       "vyXEKNFtkAWj42dcu+0/Yp+lRiVYFyAJN4A5hLazF+9lQlJc9zVjIK+zadyoJUU/HnSg2/iJljvB\n",
       "mmkWx4rSDq+pDtonPylarX3O0pU3drbtPI67vsJ0pZMFiegy56FKxB382Mkzc4YoQWPaATZarKCI\n",
       "WTDJPR+3Twhr1kbzVZZpaem5w4DIksbrl58ApysdbNv9veGcoqe7u0xEWgDC59pQinir0WTCGmfQ\n",
       "k+9eNepZ3jVrnzRv56WeOdW47Dg8QEvEcZ/t/mz7Cz8BiLtwiuZD5JatVXjGpxAK0qUmYiZN15ap\n",
       "AsZ/Yi0Qri+7VNKX4XZInQaX5BKKsbN0dzYtrtLEKwLIO+WroKtthNOtGK8zamYvmtmJANVVTv+V\n",
       "aTJ8SpND97Dc8VbXpucsZ3DD1RACetxvUUWwdIjNte72gXdLuCxGr5spUgi5LebfYrjGZTmkXlqk\n",
       "BGRQdE2k9dfGCeAdlRNv2qFrbvnUC3I788+ngjRLh/0jyWtQp+bei4RuerN8sKemCagaGs/gG33l\n",
       "7/h/4Mon2VbOg/KB4dzP6Ydoqu8dGBCKQ1I+S2AI/YsQX+kLU/MloR3t8qdORQlJ25TujbIs4a06\n",
       "+gwD6aep72OVWiCGP+GjNWba2jeRZ5vB0GTFi6ADu4+Py0nlJ7iFXKqPMiSKxUHGlu2BYfpIIYW+\n",
       "JUBFiNMbjXckBKzDz3aO3iy2r9bxbcW6Os5T2KSQy+7un9HoV7ZYFigjAFCUYtLT1q7VTzDO3i37\n",
       "OM21Vt8qbG5XnzIk5kjt9HbpqnEOlJheygh9Sm2fGx2lMrNEqP+bQFDyHTJqYirfC2VgKxzFtBmE\n",
       "u2ax3GqzXoIdsOf5H19qpxELErOCLbZuEENbYel/jmJU+cxnjaBwUHveaqFSPaiqP49he+Pfrzhv\n",
       "OFMfJJBOWr0miJ4ZrZ5KPFKdm6dLSdf19qJUYw09bsNwPCNXSvNKij0njQMh1Bv+13RTGbd1QVvW\n",
       "cofj6RzYXXwAAAQtQZ5CeIV/ASaQn4/D+phwLkxMdblR2gBZSK2MOJQND/6fnjittTpyMkaE1SkV\n",
       "+Dvn6rdtFLzGdi0Np6c26aq+xhwNQWyWM+enz3VezwgwhNAPu677l1cdhHJ3LylHJyUG/UpDd+uo\n",
       "w8xqHd+RuyH39UoLMGjTgEUIRLEKL7dOEdWV6iPsimJzJToOxHfqKqa6e/JC5JBeMEozEhFEGmmE\n",
       "1Mb9ksNWXoZtTRYOd3v+W7OVfX1t+S7EQ5BH+CdrLX1BgQNqf+IejrXcY7uBWRHGYPMRnz1xFMSc\n",
       "w5HWUrurZco3Fj0xqDQo1NwjA9l+HSFeVWyvJq739Msi6iuIPSNasBIGqrdyreQpRqmE2SmEJ520\n",
       "uFKMsciul2msKWGvIqKN3/T3o3ZFs01go1pZWQJiFiOVRUS/p9R5pGAA2Phsd57lla8LTyxKMKKc\n",
       "seiEn5ZjjHrAENSMZ1nYVxhBODJqR6G2ei5J5VJd4lDob1gwBh8aHnO5u+JQfygB3zLsbW3qedc+\n",
       "nTZghW/j+iE0T1PGlWG3Byr4R6tZQUmMrzU1il38oz08JRiV7ClSSc3YxB738V+IfTeb+HmEVUHj\n",
       "jo3RwTw6mmYMxmmTLCgX/DfGagi95x17ZaMKJrISgdPKnUqLtKHkHDqf22/8BrUsRh6wT5F1S0ul\n",
       "39TFFFCLrVObiPgNdUzuk7RlyNgZ0xZdWJCyI0NoYhs2xjZilqdBZ4tGMEiXKkSZ+xV9FI+hJFq0\n",
       "81SBzPanHMfDd5XlTkzdNtwPew2MSmLH8YnNdSDui6cwoeRwWMrDhYwgGF9yuv0e794fe35SO3vx\n",
       "kHvqUpQ7u1/jbHBgPBg858Q5MCfUN4ZQ16nDlH/Yn6yVAdnOKKKSq74M4qhltn8nQcynJ0ykw+IN\n",
       "ZSzpZXDLzprTXpwg5PYJWqr9297u3xRVuQP7ARc5EtUwcc4Q0FTSUYXuV5J1mbghNrrWesCvEU4t\n",
       "h247L42NodhxnXCLQWLMLXl4QWtR5PSIgFzAEu8H88QwJjusfVe1M340b3HI3cJsT/0egk9nvwW/\n",
       "6GaGpT4rO5bju4O0NKwXuxotLgMk+NDGFOI8vwUrivkKnnjADNWTcUbOzIZJoQaBAGreQcI1S5VV\n",
       "x1rbyO28gLRIhqhuhm3OR6OGHSRasxR2myBQzLBriL1cVIYMXXcy+Fz6MtvC+SV8OYD1Jhtnwy3J\n",
       "j3PCG2TMm743/BFhXpo6IGNMiTm9qUGwQqzQ6qzxf5M2gruQ4p01Fmna2BaAJEUjbOUAAdNAykaM\n",
       "6yzzYuSn9TLQPG6ybxQxUh5H3nrroIU7CkDE8i1f4dabsZo9Ekj3D6hHwDUTG6G0LzwaTgdS5+Sw\n",
       "U4Is+sUu54c1umJCS9tm4cshTIzf03j+T/tE9wUqWfwwkCPBBzZTU9HAKUXfw2TINYDOJaVPtQAA\n",
       "AVUBnmF0Qn8Be0WwaWLbv4ATUjkRMjAa4T9W5nIrX6dIP0nvg9CBN4X9YIpisgGwwzVnVt7ub9Kl\n",
       "B20RN+yaS1o+4+AtbOTjY63Sw1AacrgISWL0dwPqTxIfFFRRlXJX9x2u/9WGho0BjRwMhXM8BpvK\n",
       "mGH7M9vlo049ni/amAgWLl1FbMvPoTmJNgiQHVUNCnXpN1WzaJFiiHWVK7JsXUJmGU+IP/qmyhCT\n",
       "+1hDSHPaFElsezM0NjmtE2nJVQHv6Nf/uUMYyUsWAGndcA2UE6BfCezUwlfFleh0hErOgDWUgRS1\n",
       "qNCKup3k7ig7/mEaKY5Iy3HQ6qX1WJp8yjnYkNciaLdg7Ca113u/C2yj1XZZOoPE+M05TFGNEzDm\n",
       "faLSbYzBVU1c0mx5rcBWjWIOJf/BvWTwSP1N1JzeDf7nr09367g1wPjB+xQ9JqyKzRgNg2dJSIE6\n",
       "ugAAAi4BnmNqQn8AxDrYWTIKtb9S8gBLagsJYQLwET8WV6GMBF3eKdIaCK8j4WHhtmsW0btGTv7m\n",
       "3fg/8N3JBhV7+4eMLWBD984qX0RNq1r2fSwxIxnrZIuohrxbN38LC631gwtMX2rDkwynU5roV3Z3\n",
       "oF/f+LLoJCAq4DXCk6mMWXei/YxpQJ4xmVD/oeYlbmWChcqiucQDFnM79UyJoiKO3S0OdC0hMsR1\n",
       "ECOKLhqWKOU5G8y5rbPPjyNRYDcw/C/8Mwt12xEnz1CGdQ5Q4mUlwViX5qqnNfXZEzrIdK9vvINo\n",
       "MHukxcwluzzZp5GhnH+YAhBouveXJxw60ONelDE8G0fE7nwhDwy+Far5twgi/HfZ2tgm8rO7cpwQ\n",
       "sWaO4qh5c2EDXHPn7XHZ6WozBscyGFutkKDtyc9hkKF7523X9lmxNF5mk2jC7FgSoDJXFjOrFOfC\n",
       "BtI219VYnf+C+qrJDnng65MYfcKktLBjv7Y5n6bEFlccTkLh0x6qMsNBc66bFBzl28IjsHJPJkAC\n",
       "MGaEfE9eluXTFYyjvQRsoC/Y2bzfzSgJkIIcC1aKQocIe8SCdc9XMRiw7nmW+Jw3l4gYEUv7n7Ai\n",
       "L5bdCpVziurmr/K9h1/v4R8g9u7QOKdapN+if9HImmK0D+9SBKw/xhjuAj2vivHoQYUwcf4wPnah\n",
       "2/htfVnIgd1Uv7MHEe//qtXJWtyWvLq/Cmjlvi6ZV0nP5hLgdeVOrCMQICmUqwIznmEAAANfQZpm\n",
       "SahBaJlMFPDP/p4QAqHxgDL6y+OtcsVJiK92Mi3yElOBUM8QPS/zrZ9/AB/PM3YBrvYp0NyQd6qL\n",
       "My64d75zt0tflrPBRybhumI43z1IXQab+g43hmD+aKF6YoNQMr+5MYo/GBxGwquoG1ypLl7qsgoM\n",
       "4SAho5jS5wS6HtglIiLzWAzDGTfmRTF1if6+i+BClGAZVvkj7DD9Pql+dKzwvXRigzOpwUlZPrAf\n",
       "UJQ0+kD/YT+dzH9D/y2MKUFSlrBPSiY8nFzs0PgsXhoKqUNi0ALwI1GeIQ4pVjiVZ3zTRzC++/69\n",
       "faa1+770ZyvgIYCewEKFlZgfCYY5lRz4EXLax9GuUWeaEndYW+PDvIS9yVzX5R8y2FOZ2pVXXxJ8\n",
       "pthAn9EjjJDiPQPJPrGRP/o2Cpzl6/5Qs6syVQIJesaaX0zVeRXKH9+Y9a/yJZhy0bWYxTvxZJsG\n",
       "QlvnFbb4RG2zq3VjfBgyWr327f2K8BHYWSztJTnJwkrL6BkwwxbahPolHQF+0ap+zFgsbWybaepH\n",
       "sWb6RZEVngIFI/u/SaNVrg7wNkEP+qffHiEEbBNv0BfSJM9sH1EjaYUya079JV75ljwsQQ62tkyd\n",
       "LsU0WaNeixSnLUpzaWkZFLkIoojU5vdFUbNCtu9pKTRCN10rDxmcUSKw8H5BSrgxkHv17zS1El2h\n",
       "rQt3D7RWrH94rSCpdxJq2PaCyXoI99OpzBL5APJxHt4eFx8iIT78B9Sb+/JKG7Ap7eIwKT+r07J+\n",
       "lxXzhPU4raC3I+MewhSI6kXSwo9vqqDVi1sNzUv+3Qme9QtmImrx4zDKAlc0k6As40fCCFL7e3i/\n",
       "qvlt1jmyagXz8M52wTdliZVqxUGKsksthKpbvACT/3/kiePF7bkzs9k9/8OdJKp2WA0J8ePT81iu\n",
       "KExYs5xSLx4h+0fQqTgVF/bjOjiEp0wNVLFdwbZRUItUnDzJJS7EA0mDGKwkmLAm3OLM10wYjNEb\n",
       "BG4D3dIplSxqMRQlKzXJhJ33aXEBrRKff1Ms1Cfpvf4GtKAvfabsY1UeBzZyCsG7jMGUY2RMkrqg\n",
       "Y2y759kXfh6sR9FOYOWWS6rJLlAnGHcE6COlZqclYuLTSBM5b/KWY870ORBY2tVN1IAOKZxewsIb\n",
       "+6lQe4EAAAK/AZ6FakJ/ANhfHn2i/ks4uEI4DQCL0MbD1pAAlSPyKjX1PWZR6hDDDWpSQv8Iktty\n",
       "ZSauHRZQi/hM2eYKG6tpcUz84r6gcIfSlC+D0SyxtzElzJUVRZW3mIp8JEH8lMi7fuVlovhFaSFx\n",
       "Oh3oPuPHzsw0s86MZxaK63iItFJFhPCkKWucaRjHEqpT+JmlarNfpTi2+tnn3re2YKVhRWjh2Wsl\n",
       "r+7wX9Txe/ftky+1/jZIMk8rTgdLinZGZCD2t9kF2E0whaaG7FOa6XlTfFmMwgTEFsfoyzDABNJP\n",
       "qJK1h8BXTChWF4H9df7R+yJ4IFbNAPhYuO22BO1mTT8Xy7kDy+NeTTBEGefmuIzy4JNecQLSJLGX\n",
       "n9N1koqZL60jcVgbVejUg7utLczi2xXcpwJfB45eCvF8fNcaNEYczwalf2Xtov9Z2zNgJZMLisTH\n",
       "VjrwHbT/P3pyB2avsq1e3O9sGm53Q4vbAEtG1oquDwS8YMHPyb+ZZf6w18bdG++gB8LHE8230sCi\n",
       "+edFpaJL+fmE+RsZEgq5CqFAvdQA6kKl4RAMk3s4i2Ddx7XmplCKI0pTxqD5Da19V7tBMRL9OTDa\n",
       "mspjHzUO02AEAtZgKuhTx0lxPLa5Yxiw6pjRyRd7y79SzSmalGGCHq8aRi6xylh4sjoJXhWMUS0D\n",
       "otlWm1szxDuRhjCPE4BDFKkrN0lIUg18wxGbnQjIR2B/4/gJg8onqCCsenSfAZiXK4Rs24F2R0hz\n",
       "+kg5OlcyKGTmbzzBf8OwjQZZ4zbpga5rQFoqjGtnN8FiXrm25TivDEdbsvw1fU0dDy5qbQlC05e8\n",
       "NtDbP1Z4FwUNMxLQ8oqk4nWVs6E36Dm4N2qJiCgXCfrIdXU+22R55+86N+0AjCvophtqVYY057h+\n",
       "wjsVKOnhuiuk+ALEcYI0HFO3RgztzzUpkplBNwAAAzpBmodJ4QpSZTAhn/6eEABY/d+sGgjiAJRe\n",
       "fLy7+wAVJ5nZX6IusbmpRkfPUf1RuoK+FXmCQSfqG2UZO/aQAeMHu8JXJwO07cJz7eifyuG7/BFH\n",
       "1T93UPf5QJt6sD3Q92b5nWiSODd9nlK8zbw/Rzjq56zTyibbjBCegEqsB+9SWO9yFjRfHW08Jecs\n",
       "9lMERuZGi++Zy6SUj2Hs5zoyYSiWkXNuH/Y3ZG+YPHvhkNcGsZl4jnO3tExQn+LMXUexy+TISTsd\n",
       "eosF2HSaXa/b+2eDuIFyBaz8uDYrufHW12lzRO4nmuU7V8oPSGNyHM5afe22phzeiHcmlygYDAvg\n",
       "nB9am8MPRwMGnlCYkfz1Q75UDQqN4Eo0GFcjBs9mNLU4rfIj2Y2j1//Zxf1tY+YLF90nz+PiNdU0\n",
       "1AiTBCS7oRgZXj2RJvLeTqM9sAklYDhbQmOY/R8tUq/Qgwf2wvEniCTOXqqMMHEw/1f8VUFehbOz\n",
       "P+fZ4FgQ6llgjFW9XjgSLK0hoMGN72x+uRw9doGuraq1AESA0fO6GzjXmH+Cbu7vHvmVs7oenEI5\n",
       "Cdm2L60j+/y9JL3+Ecoc/ntkipopMYsmpOk8dhQY1/i+dZVLgTACDGncsQ0MXd6Kf8LPxzh8m5YO\n",
       "7x5xkX8elPfe/2C8FLxNq0uY1dgg/HCfLpWkS+stOvAvGZZEclPrEOrtq3h1c9hhwY6TlyFgZjvU\n",
       "XY0bVE0WDXUeB7THldjMEVAg6cxMXMQTHcGwmg9aDzsAgtQWi0/prGng0QcCla1ud7mhZjZIfSCh\n",
       "XEZeoaSRpwDKiaSJIGVB0TEEKPG1Knoow6omGsTkd1K+oJfZd+GP6aYFurGLkjQc1i1+URc8kV1c\n",
       "0K5NV2f8R0NWBjRPirP304676MU3fXUP0YUOjg4CPjgW87izlqPQ2GRFcrHhPpUxLYtAFCHMlGhz\n",
       "q9IeCxxcrt/MLtldYV4n8HZbYwdLEYdC5YrPLim6U1OeIRzI6/o7l+0OHv58s+GS+p8gRrCQpvpS\n",
       "vyfR+xAn2BE3l4xNmXC51y7hMDJ/lQWNtxxr32q5fsyi2puSJkV+kN2gjddIYUae+XPPBTKSFQyB\n",
       "qdtRAAADskGaqEnhDomUwIZ//p4QAC6OfBMLAAHaH3C1+DKphxPAIwNE7uXeFiUPdnxPzaTi+REb\n",
       "O4YCrIu7PKdDrNSteukrD8tRRM6qeMRO1CcZE9Ka+NFWYPfL557Jkh2XH9qBT+Gvt53c6dfy0J8L\n",
       "PMhqfaaCkqgECZgUrS9/sNisd1erttubu/3vhBS30jXbxbKt7gl3iyU+qTrFCVesWUp4l6IMH6+p\n",
       "c3Zi8WstyKMwMYg2/saPtB3ZPrExdtPttfUZ5lDb7HNd3fHHozQHEXyo2TrgwKWW4aFMFigSRlsQ\n",
       "Y/mocRTYh9b4Ds4fPRxy0O6ZGcXp4JZEwjkb7cRRtttdiV0HFx3WZtRHlI8GDwsyqs5b7qTyjXJn\n",
       "hycqcXOwvR9vwz0qlnr8S4bZBCfut0ozZewaTGo7PZQDFv/O3IeE42taJbLA1eE56sdhUOpxgn/W\n",
       "u7WYmciPCFKrafP0oXhIXE+Cbq4VtU2XPdHbiSCF9hEZU9oiXGSPNh0iAh2noXNe+OWOEjleLvnC\n",
       "RfZ4Qlkr7l6lWzr5kKbifQtXmLqqxFTB2O9XacRvk67MgjxkhCQBSvY/MYuXzGSPaZt8Vc0jIiSJ\n",
       "AJ45gavbnJitS51y4ee9vvfhPh+mEtCykM10BK5OjMlQ2jKcRkNkosFDjy2EeeE/v+iC+PS+FZxQ\n",
       "/qVpMN8KibjFgtr0MtvPtYwVKRudOUAFgINtXN3aAurLv5fqHD5SuDhUKmxWO2f3Egw3OElC2TuQ\n",
       "kOOeSKzViCK72eIvTwWAPkRyaGoXhzP20G673Jrsj6OJbtazMYDxn8taHnFChpXdC6zhKXWPVqN8\n",
       "GbreYk+19C9BwM8CkjLXvijstf1fXwuI1PBMtBaHFWxaB43XU9ZrWGpkOglFmPhxE5GeA3JTAiOG\n",
       "jdWumZ4anj8NCbkytvRMfB1TeR6vjY8XkabKlDodbXjcSMMGjwl/8hwKBexxW4c10VxJvuxPAIFO\n",
       "nK89K8zgil9FrBQKCP4skup5QbOgU176+Ye4T5r5dQawjpM7HUAeqIlgwgOBIihyU72nVfFe+Dqp\n",
       "msJu9D9AevB/3Z2j/sKl3/gpeCGT4FSwGVzLvXfiE5GeOXOFHcRAsVXNahBg5d/HKbBR5Q2HWNH+\n",
       "DjQ0ZxzAH/DgTtQtXMySOHAL/x+/NBRghQ1GrxW7/Y7w9ZqRNThSb63P/zhNyoNerr1eoEHCIioh\n",
       "F+dJ2wi3bUj0DeWq9P+5umluFL1py97ZchaMANiok4yjzjUiwp5IVIAAAAPFQZrJSeEPJlMCG//+\n",
       "p4QAC/cepqTjEADrvalSlkUia4POEwTm9pViz7V/RUycejvkg4OqvOBTb618Za3mfirYxKReOUhl\n",
       "okF6Gb3FeXNV/dG+61cpz1SmJK8zHw/RV0P+KU4osQF36acQxDcWqrFDMt9P9/hVErqKcY3CrLWE\n",
       "X7IKo2saPgIskNeh0fM8ZCNqnj5SnbiHjlNgbN1gx3n8p+5RUj6+lPiQ7zkG79W5vx6evw8fSCAs\n",
       "ZtA/jNoQJMtVM5vothlbIvufVkN1bDQ3WO/C4PPqMmBjNB7eCNVB+hJKEa/ALgmK5bV9sr2nt1Fg\n",
       "uTcTLv9rZwtwDeXrUHRgPCsRHcAZ1eotl3g+mKsCkr942tj7lj7iEeQdLpX8kZKN4XpM4Lrm9mpo\n",
       "C37y0eQSFNk30yTkULB/YQVHnNxoWWIdwBUfSz19NAYWaBJ/7IGONy+Qpmx/NccM2xO4nwJqmaJV\n",
       "Qehirwj/GM1V8pVG8PhNTmwBzYyIBsIAbSNRin6QGjpHQwkjMs/+xNevdo9dJTpZGh4Hi7EbRwf7\n",
       "PeZOuwTCuvjQ2ze8rn3Y1NFEC5hDFLwvr3jE+A+laO3O+2QynLUPEQ/oOSNK6MVI8/YElvVe39eI\n",
       "0Sava45/zgb7PN6nlSXuEYJPLEU4lXwjkk7rV8RM5oki1KNbmHQdlzuOeXSHD0KO1cjW5VmMd8hJ\n",
       "Syu6/Co/2erX7Fb1ooCIlqZ0q1uGCsa1z3tkd6Pb2pILGQF+qAVpeFaA1wvZBfnjjiK4sqr4G9f6\n",
       "ehsvnjRvco/y21PENWXrGUdRC03Q3M6RGLmQK1Msjr04ugpC+OLg3XpS+LEvjx2rYNx7CDQ0RUsU\n",
       "XNq+XV+EzrAMoGtTEYr+b+sN5sjXhiIX8A/OJGjtAHHPq+M4J67h1YjPqVrywORTdi4oB/GNwkCV\n",
       "eswmn7O5ngFwDPXzKI0nHO1p/J0i7+IsFUTCN9CDcRi3HD4Pk13UZ0GQejyGNzzmDXXr2tzNndu9\n",
       "4MKfYDEpypKGCzJrTPLUgbnnRfKSfZZ82XLydSyzn7vzTomsE5qoamkVaflSSn5tEdxF27TxbY7I\n",
       "lM9fzBtpX7WqJFsph1XPbMLsGpaNbwJEmQdAsI3ryf1YY0EtSc1BSXOZ95IJkHuPwjHEYhAp1taJ\n",
       "Lp8W4a9iHDWEJ213CYRXocvpg2hPQmM9fEjcKOLXbfWOd+1MUuuSvtivJxvkM7W9HlgCudT+6sUB\n",
       "AGyg+H9OC+w6L/e0+DuCtZffVwim1CReQ0xfunW+azxoB7vdH1noOboAAALKQZrtSeEPJlMCGf/+\n",
       "nhAALm6139a2YwAfuuf1zbxigCCfpZXcHAZMbJzuQgP2Jk8GHGD3Cr1a0ZAi3Q3jfWyc5VPL1rfq\n",
       "EnGV4NhgeoG3oqHi6nJ3dS0bKzYgrsxX5WDF7Z90OJpGfI2pvW0JFho1L487Y6VvL8W9fEunFXXZ\n",
       "XAjQLRGWZvSCfVCCg2hvKrAmAndN//c14WndNNi6Dxl3Ix5E+rv98/K9XXeYgXmi5q0U6Esu2RRI\n",
       "FyadjQAkBoe8XkJL6Be7yA7Rv1R5quYSmWhyJOb+voJeAcgmztkJuwyZs3nqVm1blNw/rja6IVZy\n",
       "BW7JX71hrv4TpQ90bCBi/QEtyLa2RHXrpX2tB4xSR+MQMnp8F49D6NkcfeQGtxwU7ZQU5z967Tix\n",
       "6tnfoPo78imCsUicnLfFRT1lk3YjznNF9/8hoDiZj//mNSy9sKAP1BJlC9uEpnnnmT1txk3D9U21\n",
       "UM3FjIn13rW5QQdoFgb/pskSQTI18twpVXsClw7HsTURzDssozeNsEZa2bE1/oQdFLbx8exqlvPs\n",
       "CTmbDu1xcux/HQBijpLeZQuy0Heh5nPzHWWh7zIF5Nc7FMNrS7UHJfTboJ/EjnTDyBQYRYQpIPx4\n",
       "IKdRI80LbFKTMGHrHNV4snjrCAp/YkP9z6CpjUpQwxHkR4kdNVlhWMNM1uUQ66dqUWV89tto6k11\n",
       "Bl+CBv0JFJLqch2CmrtFB6iDW8vHxOFCloltYctDjqkEpOIEtNRL1YouVXO4tJ8zkZdE4f2BUchp\n",
       "zcI0rXsRt24FCfmqyDXOKLOsYr+fAWCllGkhe19fc9GAGKMSG/wL/Tq1GMFJYzJGdclxt8TV8TZV\n",
       "ikVeFlpELH+X6mLFKfGJ0PIrYTLIF55eHSZgnLVR3Q84JeUfWAqVmpVL2OxDB4pGWS6M3NneHY89\n",
       "/WZr7TmzY9365wgCBCOf9EcXAAABi0GfC0URPCv/AAmOVLV5AgBbFwH8/CTJYvXxVyM06D/aIZYU\n",
       "2NSuU/ei8FtTPO0JFe1uE1E17ZalYLpmd9JvpV+aP5kxttcF1vTDfvPiLln0P74ms607gjyDXUIs\n",
       "9VwwU4aHB+ZNf4c2iVFntDznqD7sbFSYB2cuNquMY5zCfNu4iXb1xwFgVf7ZutTu0KNLDMlm+ut1\n",
       "gjBfylK3n2yBBEimeCwxxFDUVl5S3HuGmoBx97jbiTjwqdrbmk/+L4xIdFr2MkbKuepowQSvJQEt\n",
       "LP3sNvGf/gW5UbK/LnK5syqZmvCe5wZpQvPUBQzA3ttVt5IkRPCUt2VyEKS78kHZ3k+EDQWG/2SJ\n",
       "2bxiqT4on/YcKj1YqOzWttemRk91st7vbe0QtNjuvfiD4tvnoZ3leTuPeNkntBB1Ntko1e5b6rzw\n",
       "tMDd0GTuTCL0cRPYV62j8mwAJbTbzl7ArVLfVI0GeyhlzGqM7//8X/gHIITRvsz6G92V4SnqdfJA\n",
       "uqX/4F6345aySnYkHjEcmcqkAAABtAGfKnRCfwAMikb2hPDfVGI7HfmW4ey3AAA70xDj5Whdav9o\n",
       "TznOl5CZP7IoeztVvpHSEkm8OzIqzwngHkzxL0Lob+LUzWjWNdufaoP/wkucSD0zRyJ6OZlIsjCD\n",
       "q3d8qPZSgKgeLHdlpDK73XivbhZMNGAC71zzm1A6Q5z6p7aq24DlknwyJ8dKhoC0ihvoQ2scZMFY\n",
       "uQb4d7LfVSP8cjOXHtTrQoF0bgWwQWeoi2B7/wCTrCWPJ3uiLqXP5r6NPmHf+XKrLf5Bm94xtAHB\n",
       "WP7co69MZBeEl6sJNj/zpc05E04uWmShKG1mSyBfbSeRLsFmvKkL3T0JBb/cSimZy2NZr22jXwLC\n",
       "bMEbsqomTj4rb/MUg6ShdUmNOdBWV/BwAc0zIevlsKI5GgPsomm9i8dWgBARHVdtKT+inaIjxcaj\n",
       "zpHGvv4rCRmtl05XRrz6Dc0xGHC2cbfjoMZQL8uBId8LB42b6jik7v6dUJ4xA6jrwDq9LaDvpmAA\n",
       "Su8EIms0eEYAkC09swYuZMwKmJSotVbPsFV5VBv37rIPeCgGO0UCNpU0k20sJHyWAsDAVuLsub99\n",
       "aIAAAACmAZ8sakJ/AAyTxgC10wLAl/BIjCWILABmJPDUgAJ0wABbsMGZdLYTCBGTxbYnC0wjNERm\n",
       "/79P0Nes/a8kQ75u1RxuGBfgfFNJnbiB9jj2gYYKifcIIZ9dwYfe4nCry7eMwcHOJJbvdydAwlz7\n",
       "L+6mQOj/ykW5AqDsw5rb2vcACsb89vXZZdpQyX5TGgUKHnGEfblcAV99LJ2uZ9fA0XGQKtyoC4i6\n",
       "gQAAAcRBmy5JqEFomUwIZ//+nhAALqiCPDAA5tzE9Jtuf+GzAJ26/AuLxcei4O5argESxyKpVgwr\n",
       "UPCS9qIkGV66NZv6fSE8WpGH0gYCDDxnpcIjMcNogthkaF0DxFfghMDzQzrbaqnLAzh/K3Gi9XaS\n",
       "Q/xuX334Xm4HfZ0QZJIcGJfkIvA4x4yXwb5SgQnk4VUSOibkENijCwc1fOl1OB8R8qmM+fhlYXm/\n",
       "pURZMO1Rj55mRYYvTbmj1o0Rr9JBo6uZsbiJIW+NAVlhKtYYSc9SIzlvI6BWaASftSkVKwJNjEED\n",
       "7d6jHIcnJjgdVaizkBExU0RWF73cAcmJ28QaqMYrRLVNU/hGnUBRp/tsQoaZpIq76a5vBHliej9d\n",
       "v2+vUZArBVFQ+OEEXNP1vctZa5EPx1uVxNkRK5jSqPdnwXo/0Lmw/+YUh1yoEUjnUvA161pmkFpw\n",
       "vF7+QyDC3SxVLf/S7ch8y4G+1GwM0RsMNbFV0dq2yKI3bmyoIu0OyBBW5qUI+hvBb0MejAfKWQJ2\n",
       "miTzKyVfnAsFESjvSK+IYrnN4tpzrWt4jEXUYuEbVPqzG9XeogdIYNE+pSIKSi7ZA1c3UMYEy1RP\n",
       "oQAAA/lBm1FJ4QpSZTAhf/6MsAAuzyRpED9ZrgBAtZXhEnQQn7Xminr9lBPL3dZvHyUHixP9cGAd\n",
       "L3L4grmlVO8Cjq+WeMLwBtsGA9d4IZnCo3v6qqkXfWSFP9Yi6NVIR4V4pt+eaIZNFc4yKL8Txq0v\n",
       "2ShkGhtTMvTGp+5U/t97lbGIxAAkGh08NxRA1eV2sPDbDpi3SOO54Fma9+7pwAK2x7cfr6zmENem\n",
       "q7/IXh0/SY7wbvM2jfx5U8Nddx+dhLgXmFtmJR9F8zj7zPZNNOIrttFcuOo8hswxDcmVNSKJBtFF\n",
       "VRRdlg/b4oO9sZyWqPBwI4SbbBPa+vser8aKdlhjxjDYB2FmkoXZUY5tEsO2FAxD3aycIQPbVM1i\n",
       "qVlNdqcs3SaVlgiFf9jCAeWJzPwuKT+bMvWIncWQockP4nM1zlGT8JV2mg3sC/5rskHv/H/TfwC1\n",
       "+gYedUPSmh2mo6Rh5NVGv/1OeGVVpImSkq+KF4XRE3bDFu3Odvk4mVzpH7lCYDqNmbuodwtPEpDx\n",
       "MqyjBfnGok6hCSSoOTurVRTik6t6cgKzVwv6+Hrn2Ky/SYYXo407EYB9nnF4udYt6OY4faRxfcoE\n",
       "cJKjihs7XOnjbBCcmTYncUyTzGCafzxPlyTCz2aGAzf5WcMDr80v4/S3yFK8/6psY1s2Bj++dst7\n",
       "JMpGDIrDpT4MsjtQSHWG/rUjr08Gee13Btj1W0gIr0D0tujb1XPFK4AVqzB0KwhGUpZ+QCyZGhpF\n",
       "Wn6q3ipUir5snoxAefM8ZW3noriMmfCj7kHtkAqZYgZowsSkIc141cI39ZfQ7UagwA/82QdRo9t4\n",
       "qDsr6AwVJoqH4icqGyCGeaqJ5vyn8z1uiEtNPCtaCGLmDbZQxuhrqj8S+sZppzuHvKpPeRaCtLQP\n",
       "+p3BSmW7nSrs+MLOYzKIgDOCfnlhKQTtwggRatezNO9MtgU8U7cqRbq7LqNwb0CePFIXcGZptNvD\n",
       "oUFr3balWAcahMK3Mlaj+VCADsRz/aRX+3CLWmeNrzjqBW/oVwHsDv3rLo/CRwJsKHcct+XrLmQM\n",
       "ivMILmhpDU/j9TLLWwrrYC3wwF0Ps3/K8fS3YBb3VOPb3PJtsaJfFdOXhY/6nNJVRdSRY60x6BhS\n",
       "j7FfJ5doh/DdWUuUX4qG4KIyGzCcMTY/buQxY0n32bsCYdUqD3oIeYRtgmCtLW977kRiNfEIZQTQ\n",
       "rqyi6yHThM+CmI7G9uxPMaqfrsreXDcgj5zgfWe0YThWOdCqlNiPQk+MtPZAVBZF5FQB/JRDl3j/\n",
       "cZ5Qp5VdARSst0pTQ9q4wV1hkdg12jLGOS+/I+5WwqU+UvInVDVbAHXxNJ84su+O7IZt0e0AAAHK\n",
       "QZ9vRTRMK/8ACY1ixgjulWGUtFoAINmd5pBMuonZBJ7bCAUa8m1FEk8vWgRCbInbMfha5J40+q8p\n",
       "oymT82irwd8oNBL0HS3Kb1RAh5LeS6/LYu554y6wfJFD23uJUkw/THqGan0wgn/OqA65gV2S2ZMt\n",
       "krnolo6PGtFQ+vaY/BXCAnfONvgEsLbrc2d+RHtujdplezYnJpl+1+PvaZfydlSVtwk0BeNG7Cd8\n",
       "cjrtRT9g+tDPWNYZ4sOfIjYWIRMUkpfnyy9B9KXUD0bt4LR1bd+t72hHKuA6qkdnbY0u/dZQBfiF\n",
       "XiIhkTptPbGHoP2kbzuJhM65zfvIsLCmmoDNW/yiejmGSpzxpxABs8ymjP+4pS+f4lC1hp1/O5eO\n",
       "1bCqQcPLBHk9SAg3d+A6BIKCUbRf0RlPJjS4rQ6DAUDBDn+Xm9/CnMyuS96k60lM1HBD/d4CMkxe\n",
       "roVPe9MemwO+AbN/4vM4GDsR2LV+fjYiZ+WcR7jXJ8uurcQEHjXc91Z6ZYRikVaFIszVqvZNwVrv\n",
       "Neq0X4gx31In8SiEkbN2H/xQr3s9KfbeKAPg59Df/733MA4tYGmYi4eYSPUHJD7KF5TIfVE1ZP1C\n",
       "TQwAAAFKAZ+QakJ/AAxo2BTZh6P+AEHHxko7Ogytv8DfiKC9GxIFvhkUXBV0HOBggRTgTZs3n2Dv\n",
       "oPnIZnbBcPwX4AKy+MVxRqVkzWDxQ3yjsF8vXwi+cezYg4n9ZG+CS3cmuADFvS2o2fODdjRpGpGW\n",
       "Qw3o4B9HA7uEpM04j9nZ2La4V1otCBrkyBgT3DcMJq46J4Gudt/KwtdRSqjm2F9/MgnKdgJApSEJ\n",
       "0yXhsE+P8GXURqMtdJPaROXC/FttHiSV4UVTmO+14CckCGiPSNK16LZXngz/MhLzdeHwyQeG+Gh9\n",
       "/t8QV9396Wl63Ponvs/kdl9yc+vokNNUFsktUs9jYbP4RrNXksLmTlJNJ7m53HCOwWsBEFWfmyl/\n",
       "DzU3JR4JCHqOzD3Lgq3MqfmsXuQR/8bGKYP97BVYNkfWLknZBjyPrZcd3RExNJefPOTAAAACKkGb\n",
       "kkmoQWiZTAhf//6MsAAvCGrwFgARBrDApLsv0sH2mv2uYBOxtIW0KHHPfKaEc+rwc3AKyT3GId/N\n",
       "0Wk74oHiIxoKDqEHq+bpqQDviW7ZQL0xMPpGOXnSKBKf/XdEjtmfFrYyxB9CWqAp3l+9FGXwJUUr\n",
       "6rCY7uS6JRhf2NtOkcsLZ318GWTlYgwTcNGHBEOb7GrMOBFAUGlaLwRZQTffJFs4c9/4xWOP/zWg\n",
       "FLD7JfsF3eiQtR6SccgcEZEj7GEhYdVjNJd2/ldT4Wmdu/+HICsbks7iE5MitwpGSo3Sn1DgPD7E\n",
       "/fC4/mEsgKUCXidCR5QHJogdO+m8/y3r15gkiB+dNlkd1aqdFBmZD3jroHM8oEtXkO4qLVIzr9ba\n",
       "YfXVqaDFM9koOKTiUKaFtYPyoKHZygsyTGu/0g59mQPLYA6FzRn/fJcJOeypskWFy5dmEL3ZgQW/\n",
       "OekfqndZDjeNKONbMdfrUhpwU6NDAC5y9ilTN+xwqedL/otBynoNOm9Vzi9x2Y0LsBaCRzY+KF3F\n",
       "o4mIEQ9koQpAizgD1FPyMiKjfOZYG2ifjTOP6OH8jKHEOOoJcUAzLGVcPJvHWxIW2+FFhQDWD83D\n",
       "8RCo6gv2XUcsqIYYuqrR2kQOtJn3t7u3hrSFNeqcVlmks5TyVFgdqbp43dNTOxGPQ5S3Sb2GVpO4\n",
       "av6e/FdDyQtnK5ib5JJpNe0PRA9OxzQka8hLV3c7EMOPh0cMFPCBAAACFUGbs0nhClJlMCF//oyw\n",
       "AC7M1P01/XA4AQp6gtJyVY3RhEFZT8cf04h+3+5McQNOeKvT47cfz+im4ekJMsBwaPuW+SHP8AcB\n",
       "+HsB4hcIbYn4gKPWQFSQY4GnIVfN8dhH3oXGmmJNY+1865HO/gOezONUrSgZA8d9fD1WDTLLMkZa\n",
       "HLPvh4saS5sj3n0v3Dj6aaF4wwfryQXjklBOf59zTumR3RckeqZLmrAAG797xVR12w7THs0R1dr1\n",
       "SCzS88RCVON6LKD5xN7FRpooyAAGf6DBBeuW0Aek9FSdaq/6ChPZuSy4oI3gEJa5eUReBcNikSlK\n",
       "pglJwNnuCfyd5SmJXQCYxvL+/xn3x7QLV+0to/hJpD/BRdrwyDzrSPIJ3foF1z4V6N9wk7DNg08C\n",
       "29rnvy3JfczSb24CJSpqD90h3NwGaORFI8Fxp8QrMABxnqey/7QcEFA3+lNnWbqVjlAFWS56Q1tV\n",
       "QWAZJNG3nfC27i5HWloIiGQjhlzYPbbHjL8UX6b9tivm8r+o3G3o9b9lFzh4qWfqZ8mdYtaPH1jk\n",
       "zyjtsQq7Nsk8zax5TVf5sxjW/pTPUkydn/gdJUQZ0fW803X4T1cQvSb+LunDTFbuUs3B4yUxBmy2\n",
       "r3VjpezG/BxBwraFpdcTH+X+Fwy15fCweOlqQlv1f7A41Six2B+qqVCQkkJDQ8deFcJDWs0B1bfN\n",
       "Yd3K1/NAAAACIEGb1EnhDomUwIX//oywAFJwLUcc5k9mN3epS1IAQp6Vc4YytwGkTi8meyTuu0hJ\n",
       "5aM/UJP0q1Jz2NQAi4MRubOr0VyN+N0juEihguIoCdbgj1uAnwO3/vRQIizcpjJnxAlJS4ktahpX\n",
       "N8g5ix5SEh5Yx5hvwCb7Woe8AFt/7rP7BOPeoDun8Frsp21wd2uKIJWZ4EmNavXblgaoVPKnK+aL\n",
       "yyhdDZ4Q0+5zpNhADtub4sX2vqTmnNuz9a5Hocjpd7QX6855YDBm9oeZZv/O3SeAsEFT+X08C8hl\n",
       "xQ8UyYKO6QmYwppczbUOVrR7Wk8JLicgVbx6LMKPedj7CORaUotEBsbthfEUW7cD5ljLg1JHixZl\n",
       "q7hHFxXbKwhuokYQgQ4y6fXuT2oVS3sKtpTq14zouHRVIFGpC8YmDWlvFCO+uaVc4S7k827FMYje\n",
       "p+t1E1QLGO39+zTFRXkm6tn2bGlbgoq2ATxTO7tI4cw10CKBC2yz7zCECyuYfUs3Own5QJcCvffC\n",
       "iLP+V58QaD7I5e9PRapX/pyN3Ue6mZ67qTa7ypabxg8fBj/I/QaVFVKlwN+DYUuP9qlQlmArTSO0\n",
       "Hl3WxmqVnhQFhB9vTezd6UiUjELQxXyI23ZtSGX2RhVPOnsyF/4dBHd9HKZc+TkXTDhG+skuVyeT\n",
       "pNhaJu3h8uxsZmfSz/1Rgn54XMOnBI4crCGvQJlQ4eAAuvW0xhpycFYAAAJlQZv1SeEPJlMCF//+\n",
       "jLAAW3D9+Iv3eW+W1P2WiWrYJKAWd6J9oB3K8JelVEitVVM4B6itA8HkuH1fSWl645n5HE8AGtzp\n",
       "KVGcfXAC198v47rfT9z5P/z9eqxqNZLy5cEeaRLRmAYyA02y8kV5+e5zI1uW6Dgwgthsgktb/pSs\n",
       "KpqXol/9oSJollK/O+D9XcCoO4qaXYHnhM028pM6ea0ZptYKcZSQKU5IUKf69odRSrfh+1rX0nJY\n",
       "Xwxc+/Ab5yqWmQmRpDBBVluqJg0Medd1aQcoGV4lzX3Mr6MJUZUh+BW1X9spOk4a+TTORWdu4985\n",
       "JyW9iQs4O9RZRRfJX0GQT7faKfEnzE6bRgVF1naG7N2J2szX7X66niSnUtm2LEO2pg6UxsfIr2bT\n",
       "x9SwlvGvHkDRqcmRd+QOC7qr42RWILmbQLSd8EXS9NaaqAQk5yt7KK4fqQxZui9vMpthN15rpTTc\n",
       "wmO2c2c2YEiHV/lvarhRxjBD+Lp+W6tQIj7tiKg36ZX94ek7sYaXIp1WJ9xt9G1qfXbG82uZInkk\n",
       "MRMvCqb6zFO189F+oXIXVuJwhkl+qlKHbVeGI7KJTvGlKBHqPLnxbFoLpBsjsPEyFut+85TF0El3\n",
       "ZHKYiaiQljkxoCJBNpkhcGIjBWfEsOhmtq0m9dmwzEU58Ml2dHBLaELYoJhfn/rDDHdqEKfC0zjD\n",
       "usUed4m0fhGfphAUdpxfy31IC1aFu/rWuSkVPTu9PpOoNHs2RzfZZ6+Y4udI5kaWZhj5OF5o6xiZ\n",
       "xCZcuqN4XGkdRLfM9sYhqpvFRqOa2lCAurYssmhqYQAAAjRBmhZJ4Q8mUwIX//6MsACt47bEz6lC\n",
       "W9iPgcw87c5qb1lhxaZms0gJbm3z+TuvkoGAXrEkxkgra5hYFQZlsmOyuPmBLznBqmXuhVzCr+hr\n",
       "rBvv5m0yue62knMji3Qzs9g/z4SuqRzja5RoZLDpB4bJNQF96nhcvLcFMm4oqkjjChTYrNPnYs7k\n",
       "w739vmd+FabswXo1NqBQ9EigiwzcYTd/lLIf7WgCi1fi4CYCGTHHPVkFgfrc7jnJL/yo0gv2zFrs\n",
       "jlqcMyJWkn8iiQS5UzokaQcCVN+M1zsO8QoB9f+YSLAPgBkBMvfyqv6p+Y5REw1K14/h2pKpHgmM\n",
       "OPDBq7M0owuF2AOIPqsgcSE4eDhmGR4EcdST6KSbbvz8ApnP0vS2n5lPiRB23UHk7QGIXwR9QWTe\n",
       "EjSQOIZqupN96WC/Hel1LdZVPZHvpomVBAfrhf8Rh0q9ZDSjKa6DR7BZY6L4O+27x/7onrbvY42c\n",
       "KfNiWCnNA57dGehn1/ftkEaYcrFCCtT2P78VWDVN4Yc7CptcU00LmbncKl4QCX03ifQ04tLxoSZR\n",
       "zuYvAV6HZENt1FMbk9he2iTl3SJgFKB905WjF540vDSBBWtckdu5stiarZMEt1vZ18ccmaRv241h\n",
       "Ar57ldztz0e0+dJ/3pIgMsiXGIT5PL3f76MOEswbSQOmWMS6NrGx/7jg4TO6bl/tqNARBOtkO7UE\n",
       "E+E3LmN1EadaRKU/u/7zr2xbOlqI77G1qNraqWAAAAJNQZo3SeEPJlMCF//+jLABU2F1LIn7saEt\n",
       "Mh2gAueWFvd0Lc2ZBUhHiQg9cAR8DRCnsODYN73HyMEaF0VITGRNti/ll3Aal4Uq3cw4+z/IyXwq\n",
       "Axj9zZCdizuZ5xSCtjdS2dWhREsujcFVOvqh67XGtc6uNusBu70t15PlbjdwBstFR4fm9VgiJDI9\n",
       "AaRJO49ncK+0QH0vLF2L5XA105doZLWTCCRKovkVXTULn7N5MdMFumBiR4lc48WUpYwMTqYkdQEL\n",
       "amNdJDDPTdCIheWa4aEycgpg5OO3IqRayvhzWYL6k0+ZMwsA3CFu0SihWB31P4BrTzMJ7a16zT1e\n",
       "bRgfB0Erfc/CvyDeJYqwY0ju/k8h68pmSJwiqCrtSPtSy5N8xYpbYF/UBgC7QrZjP0VOzfY1t0C7\n",
       "PRNW6jQcgifX7UlmwMPyv/ltD1k1PkZgxB4oYZ3K7L120RCVLQRGPuX6klcGInPg0vrEeKQauVGX\n",
       "r3c4rhv3s0r5nJDaqeWrMRIbxStqdnc+r0SsJBJChg6afQWEFza1GFiYMDcRIZ3pIyrplHw9M/Pu\n",
       "re55iEJiUmBuSJAuG9P6888uDCo1x8l0gMUM0QWcQMxw/64x7qQUFsXdTig4IMo7OO29AzlfTBhZ\n",
       "2+Pd62G2PtqU9wO9cIfuwzJyO5EzxpLXtIX3Qv2zcA0B63TewIKzvdOd3h20zdXlmabLHoJBNIse\n",
       "7x2rd2MQnFeuuGP77Rj+HbLjJVWcy/S+g5R7UYctI1npdcI+XIv4ZNQQUfCOQ7FLbJnzQwAAAlNB\n",
       "mlhJ4Q8mUwIX//6MsAKlg9CPa7DooObI3964KZAA2o7exMaJwvEJbkad7f9RDmCxkABdvcHu84Sl\n",
       "xcKHWJOU5/d8D8HtSnDv2UEiXPKwicC0THuw1QlO5Y4wGdTlX0cgT9W94Gr6TorwwSzRyYtB+x5y\n",
       "dvLUXDFFaTcgnVgVE95mpZoy+xmteDHSPhlz2N5ettkwOAYcYXJz/nMerzLM35E0d1ADfo4Ql8OT\n",
       "kh3Sskm1JKqqYHMfIfhZGZtMprNGcCaKmkeY7mQtVRfkIjFa5pdfBcuj5HR4C2X9wBN1NP//B67A\n",
       "Sz2w0VCgGeBIfYVoQ8cfSzssdNOKXIS2DNOkOqQt1ccBghxUNGn9re8s5+Gm+7/BwVvAPIqrSOZU\n",
       "fwrrUgCR2v30vw58SVeMveL6Nvhd/lcC7fM785fsSe67ZnhNM9zPs9p7ynjpgeePXbqHxo7gTD5+\n",
       "nX7lXMD9o4aQvHfZse6Sc4+iifDUyqOi71Lmzldsfawnr7SmiMxaU2THGAQTxgnsCXFbK3NFEMqW\n",
       "aigqwmAC5hwykvctR/BLu0zdx/2kJCYnA1655/nnGQVqYFjK6QfEjVuEG5YPtDFXWldUyKfjknKi\n",
       "KIjdo1H4NGixii6985XOBRGUCZPDH0olVobnu2byFyE5KkHobJzNmOWSi+fK3tCPO7NLOIj8h6Q2\n",
       "2eIL7meEBfZjWDJvwB1+LcyIZZO16FXORDqLBd6hdnXeQssE0knGW8q4/BCHypeB2c/NiUXQ6SJU\n",
       "wTM/b0dWQ2zE3UQ4uHer9nkbhAzZ79+BAAACYEGaeUnhDyZTAhf//oywArifUoKzeDCz/wAHZGS3\n",
       "YXDKEBUXX2VmRSra6FRyTf08cbZpCaPj78tY7r5zQhLGVVZhn0wK0ABTNxcbvVCrNXItb1eobBZd\n",
       "DUEc5JYPftskdXpcbZ2H/CxIJoT0qpTuP3Kqdt0hUYNYoRUN4nfPpnvnwSt8bt2KF4lRokq5ZbLT\n",
       "1Qhj2KBwazxVOHknPrKICC9XwNDLMmymz8EuRnE5Iv0ECx1/NrKh2bHEAddBDCSyoziclOmjIAlj\n",
       "Ok9Ul8yGY3qnrEu3VhP9MWuT0DVXLxXnkRtTgf7eSRgW91ftk4XYuaOaQyA+irIcbd09KXEOxtW2\n",
       "f13FyZjUMmWRhedBCUtp0AXHwtmGElr333yzdL1QZHD3WuMuse1Kh0Q0s0tP4hgiAh4AuBD79I9X\n",
       "7E9D85D4L1nq0MpO8j2MwMNJqvGMPUXhJRSUEwL1fWV2rH1E7qF/Hb0W05jZtnIn71XWBZb6016v\n",
       "UF9fVvDTMPUHhIfNDPRlizeGDqFHfpZG9KtHXSEx77KmGvWyviTPMjZFRhbX7tCQokPJIxDBctMq\n",
       "3OKDCHs752fPdMMhCixX2Mr+q0P6A7oSe4CET5cdwa36xmqMky0VbVktukenaCSd84pzNu29qftE\n",
       "6k6ebvH1euMx3RtNP9Rc6idSRoPa6pAcs3bExvJHN7uzfBzwC/7PNUpyLibvN3B2DfP/kn8AIhiG\n",
       "KWCzgtkzc2k923FrT/FAMS7rwRRP23LutoLBP2Zu6SiOcXYG9kF03C3/Lv09Zi36DgKH9BU/hzBN\n",
       "CH1kdKSgyVegAAACdUGamknhDyZTAhf//oywBbAtgABO3oWFoehKXN9L7svKPXiVAkzc+mqkwRS4\n",
       "oWapVTGeLCmHfuZpxj0dYlYretTOIytXOSW2r1VesmtPxx/obSE3mspwov0tL42CikBpMmU1vFzx\n",
       "/c0YtpSYIOtrpVGTwksqrK7lNE/peYO13iSn0zbm6bAWmvd9gyctSmST1DxN/bBMBYQ+yynYLc3P\n",
       "BDYm4XfH4edwbBN0N/WUcMGhJyOOM8LSB7wNIlJyk3c1lpT3xsO+PO85w+DXezlNliEKPpANSDUj\n",
       "GG6Olz6zeFZGCrPH70EnqxWqSDgBqvNeiRLKfWpERa3qe+WYF3XBnLjGXqKx569i/UQzh+SmJNBh\n",
       "orqB0pC4hnUT0lgBevi2Oqlj9V6kOat4lUIWuw8uEjo00GFJUZ7K01o+XPMf/aCsFgX4wSfDJrr+\n",
       "OovVg+zA5xRshnvRwXXVxDH9Wk3wkscunCbMjO0vEGywp6gJsJI+Rl+x8vddiKcAEeDHIHMHknJ2\n",
       "lxQ/3XTt5XhpfYo3kV6wU7hSJUUNq2OQfHnei5nbU+Y3YUo7A/3KXsK5HYCERj0ALpHnBcXFriai\n",
       "NPUbCvRXFDCMgpFkNaW0Vk4/zRD1lfMZLX23JGGJM7+yjSSL3PnqPXfzQ9iHNvf4WLYCO2Ng97DT\n",
       "GrYOzWTHJ1EgbbZo+WB05Loc2LGgV8Eh/QsgFNFKJatLfSukOTx1HUmdW7XEN7L49QbiI26m6D15\n",
       "b+OEpSvYdOKDCUAz+Vu98bKPya6arO32F8o6DIEHswARgy+5RC350y9m33KdQDCuPk2uogSnx3da\n",
       "9OczA5Fx6DM/wax1cIYrAAACSkGavUnhDyZTAhP//fEAOO4G/ACEwR2bBQ8vufszceYgv2h3ekZr\n",
       "KVAl7C4/fHDuKRSOYV0jlBFy9lg1IMeAH3KZFE1HRiMgZkHPqPlhO7rK9y5wVJXxnYVolvK+mwuk\n",
       "TWM+wp3mp5DcVZdf6jimzJB3PsxQ3QVkhMx1do7Ri56SiAEG7Tgqa6VYJHG5/3cXCyHUomXCDQEm\n",
       "3czqnjpEAKT37gWpeF5dxP2b8w957wAf4oEvK5Bqu9H7b6+jYtLYitjEVdubJ0XxnJa4wRMj+XNZ\n",
       "tNYP+ozZvt2c5Lfamq7a0wfhEymhPYlQ9L9Fv23fBXSVNViyyslYJg8zWpvBJegSdL4DT8QIARzl\n",
       "Sqm2elqRx+gLZJWxuQ0BiTB4mR88tZfH6Fxsdm9gsJDdimTVPoN2uUZZcPoGmx1zchyc8jX3hUfA\n",
       "i8r37/vwupcrbPdclFVn0XGqHen7FX52NcKdZ1J8pjTDMbwrqnOT2fxplczkWMff/nD1UAr9AHFW\n",
       "lMD+RX2gEIcHQSWpupPaj+ueNza9yi9EU3KN9KMMXA4Q/3/jEmy5VvKlNTsTVAdljytgwQMoVGPl\n",
       "Cjna7rpWuQsN8X64uzJvewgItEL8LY2D60KX9IhC5BwTZz1ajhgVw5Fx+/JCK68iu8Oqv6kNfhpW\n",
       "78hOFg2Gk1FXrbkXyXgLffkXLUBs0Dd5VaIFLeLSsE4Nfc5aQjuQb6Avh/K+XNg6E2XEkO9Pxfo3\n",
       "aFXUMwWgba0tJ1Vjm9fkGgODXsQbuVauAC00y0idWZb6tmAAAAK6QZ7bRRE8K/8BNtd1vYADYsmx\n",
       "Q3ZPWTCS7FbFnsbWs4skYZ0icIQnxHGBdKv3Cd2yrruRB4QXalS+6N7igwYzr6zsNmpEIl8oHlek\n",
       "3+/7I+MI2T3HK861+McxKep1F1loYyyTekUTpg7NmAdPYmUsRhsfRwc02OKbVsb/6EtVaq9L5Di6\n",
       "xnK6Z+rhbX6SfbjmzlxNT4bXfaYKquCKDrWolt1fea8YflKzyxd+rQXhGrn5PH0qBJMMlkerlMdp\n",
       "dHGfAeI76L2hFm5zFY+VonuRilrnuqhS/Z0VVwSi2qTwEZiJUq9+jCNVggGGdBOtVSrAf7lPb+eJ\n",
       "bNy8PXzZMe2WrFnVnu1A1VVfYmvIZB5v6ND3iEgKppMk202lgfXtWu9HuhFTUrywEVTE2M5jCywI\n",
       "NA1/sYa/pYSLEKtSLmBi0Yr1fddervFDT8F57V5WFYXEwN2+CEwZ4u2TfLD2eZW8xYvy58j1ZJTJ\n",
       "7tHenDtK4F//xsGWp8E9Y7/A2blUwdGvDyQm3/sdugfk9Y7oALKNglvV34VcnuV6Ogqc9/ON9Nw5\n",
       "SV24ZRjjHfmHRGawparmK4/TIwn7UoMaiENGCWIU416IldcSre+I8RKAa5DGS5V1tQiugnPdCJ4a\n",
       "fWH47lVd7ZC6hvz4Qb064ZkffhNSxIX0/lY9hAUOAW36F05MMU+XJ1XkoYBjiGv9AcmRh81HrMTV\n",
       "+AXr4yhtn92p/LO8kavYHbivktqNauSN5Ys73zcqUDmqXb7lNIz2tkN0mWyzDFAAN3GLbc8InMOa\n",
       "PJgVDEgzdAAT9/kMczl0Rw+Ygt3L6Mp4M79ElMNgGmYQB76wuZPGZZfpbpGdytdVzUIh0qU9WlMG\n",
       "TWMReYuqpdTQR/ktzTfifT/ZNhRTnujj1GPUc7+aUjMbB4+WNGraUkIfMZHButKkXt9o2pUAAAJo\n",
       "AZ78akJ/AZCBj4AG1GdxfiTgHymSZAGQCLxnhWcdxTP1oK8JUzPmysF2b1B5sdj1qMF0+3nS+Tza\n",
       "JrGLqMAT3qEPyGOjMPkh8fSbw4eV/KGjcTx54ZJ801fUkMlNR9Z6bhwXeRekGoks8vpKssb9xq1k\n",
       "q+Z28v9z9fF9YGM04ps+FJgpOwoohGYL4T9JkV8McUaai8GzqaSsTRptzAQ8qDK8ineZMy9kNxj6\n",
       "u/jp4oLOE3+UgS7dDHKc3+pd5oGpTHdWuSZ88KollMDhgM5sdRAZlRC1ud/Iw8rEVrHaVvKpKEsb\n",
       "6wML8WMUvrLaOaS1KcMckeMnRX/gKcZN2eXBCkVNpNlP6h8u/zC35ExFmu91rbSGsDrpXrj0BjNZ\n",
       "tLfTMaSWqCllFHyXLSUoZgkjlId5C7edt5sCHMgjlKLdcobnmnzIJZMOZb00JnEtzQCC9+L17m2Y\n",
       "CCPXh67g/aHn3Fe/K+3kqudBzczm8LUeipE40eRlcXXPIGMgTsZXzk/cpEwMZFFuWfEWMDoq/Y2j\n",
       "XN5nXO7fa+jPjXpuzEuAovk12TJquMMX2IZo6NX8776btFB4K5YM7/GX9D+SUod+zHit4ETTzhzx\n",
       "DHrcXtZFOKBXONVcmYh9NzRYQ5FyV6tjp5IP+uC1Uj6pOi6rv3uvuWzOGu4hg/AgAGNgVp3WYl4p\n",
       "81jznZ8wbL/zNYaEhSLhLLrkzKdaFyLyQlr5n0CKg/+u5sOXzN7DlFWPZnaTrM4IWRCSCElSOgfp\n",
       "CUC1e1HHVGC3hPczS/SV+KzOHIsRF2KqvVWxzpXMRyi3iiGpYk7It50QB4jLwQAABDptb292AAAA\n",
       "bG12aGQAAAAAAAAAAAAAAAAAAAPoAAAD6AABAAABAAAAAAAAAAAAAAAAAQAAAAAAAAAAAAAAAAAA\n",
       "AAEAAAAAAAAAAAAAAAAAAEAAAAAAAAAAAAAAAAAAAAAAAAAAAAAAAAAAAAAAAAACAAADZHRyYWsA\n",
       "AABcdGtoZAAAAAMAAAAAAAAAAAAAAAEAAAAAAAAD6AAAAAAAAAAAAAAAAAAAAAAAAQAAAAAAAAAA\n",
       "AAAAAAAAAAEAAAAAAAAAAAAAAAAAAEAAAAABsAAAASAAAAAAACRlZHRzAAAAHGVsc3QAAAAAAAAA\n",
       "AQAAA+gAAAQAAAEAAAAAAtxtZGlhAAAAIG1kaGQAAAAAAAAAAAAAAAAAADwAAAA8AFXEAAAAAAAt\n",
       "aGRscgAAAAAAAAAAdmlkZQAAAAAAAAAAAAAAAFZpZGVvSGFuZGxlcgAAAAKHbWluZgAAABR2bWhk\n",
       "AAAAAQAAAAAAAAAAAAAAJGRpbmYAAAAcZHJlZgAAAAAAAAABAAAADHVybCAAAAABAAACR3N0YmwA\n",
       "AAC3c3RzZAAAAAAAAAABAAAAp2F2YzEAAAAAAAAAAQAAAAAAAAAAAAAAAAAAAAABsAEgAEgAAABI\n",
       "AAAAAAAAAAEAAAAAAAAAAAAAAAAAAAAAAAAAAAAAAAAAAAAAAAAAAAAY//8AAAA1YXZjQwFkABX/\n",
       "4QAYZ2QAFazZQbCWhAAAAwAEAAADAPA8WLZYAQAGaOvjyyLA/fj4AAAAABx1dWlka2hA8l8kT8W6\n",
       "OaUbzwMj8wAAAAAAAAAYc3R0cwAAAAAAAAABAAAAHgAAAgAAAAAUc3RzcwAAAAAAAAABAAAAAQAA\n",
       "AKBjdHRzAAAAAAAAABIAAAABAAAEAAAAAAEAAAoAAAAAAQAABAAAAAABAAAAAAAAAAEAAAIAAAAA\n",
       "AQAABgAAAAABAAACAAAAAAMAAAQAAAAAAQAACgAAAAABAAAEAAAAAAEAAAAAAAAAAQAAAgAAAAAB\n",
       "AAAEAAAAAAEAAAgAAAAAAgAAAgAAAAAJAAAEAAAAAAEAAAgAAAAAAgAAAgAAAAAcc3RzYwAAAAAA\n",
       "AAABAAAAAQAAAB4AAAABAAAAjHN0c3oAAAAAAAAAAAAAAB4AABAoAAAE1wAABDEAAAFZAAACMgAA\n",
       "A2MAAALDAAADPgAAA7YAAAPJAAACzgAAAY8AAAG4AAAAqgAAAcgAAAP9AAABzgAAAU4AAAIuAAAC\n",
       "GQAAAiQAAAJpAAACOAAAAlEAAAJXAAACZAAAAnkAAAJOAAACvgAAAmwAAAAUc3RjbwAAAAAAAAAB\n",
       "AAAAMAAAAGJ1ZHRhAAAAWm1ldGEAAAAAAAAAIWhkbHIAAAAAAAAAAG1kaXJhcHBsAAAAAAAAAAAA\n",
       "AAAALWlsc3QAAAAlqXRvbwAAAB1kYXRhAAAAAQAAAABMYXZmNTguNjUuMTAx\n",
       "\">\n",
       "  Your browser does not support the video tag.\n",
       "</video>"
      ],
      "text/plain": [
       "<IPython.core.display.HTML object>"
      ]
     },
     "execution_count": 47,
     "metadata": {},
     "output_type": "execute_result"
    }
   ],
   "source": [
    "from matplotlib import animation, rc\n",
    "from IPython.display import HTML\n",
    "HTML(points_output.anim.to_html5_video())"
   ]
  },
  {
   "cell_type": "code",
   "execution_count": null,
   "metadata": {},
   "outputs": [],
   "source": []
  }
 ],
 "metadata": {
  "colab": {
   "collapsed_sections": [],
   "name": "Copy of Wing Kinematics.ipynb",
   "provenance": []
  },
  "kernelspec": {
   "display_name": "Python 3",
   "language": "python",
   "name": "python3"
  },
  "language_info": {
   "codemirror_mode": {
    "name": "ipython",
    "version": 3
   },
   "file_extension": ".py",
   "mimetype": "text/x-python",
   "name": "python",
   "nbconvert_exporter": "python",
   "pygments_lexer": "ipython3",
   "version": "3.7.9"
  }
 },
 "nbformat": 4,
 "nbformat_minor": 5
}

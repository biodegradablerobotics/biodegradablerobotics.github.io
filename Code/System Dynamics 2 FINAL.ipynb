{
 "cells": [
  {
   "cell_type": "markdown",
   "id": "passing-sessions",
   "metadata": {},
   "source": [
    "## Setup"
   ]
  },
  {
   "cell_type": "code",
   "execution_count": 1,
   "id": "appreciated-logistics",
   "metadata": {
    "colab": {
     "base_uri": "https://localhost:8080/"
    },
    "id": "pi7Co6-jBLqJ",
    "outputId": "3e0b02e5-7b83-4a8a-fb4e-f100a21e47fb"
   },
   "outputs": [],
   "source": [
    "#pip install pynamics"
   ]
  },
  {
   "cell_type": "code",
   "execution_count": 2,
   "id": "initial-magnet",
   "metadata": {
    "id": "frequent-douglas"
   },
   "outputs": [],
   "source": [
    "%matplotlib inline\n",
    "import scipy.optimize\n",
    "import pynamics\n",
    "from pynamics.frame import Frame\n",
    "from pynamics.variable_types import Differentiable,Constant\n",
    "from pynamics.system import System\n",
    "from pynamics.body import Body\n",
    "from pynamics.dyadic import Dyadic\n",
    "from pynamics.output import Output,PointsOutput\n",
    "from pynamics.particle import Particle\n",
    "import pynamics.integration\n",
    "import numpy\n",
    "import sympy\n",
    "import matplotlib.pyplot as plt\n",
    "from matplotlib.patches import Arc\n",
    "plt.ion()\n",
    "from math import pi, sin, cos, tan, asin, acos, atan, degrees, radians, pi, sqrt"
   ]
  },
  {
   "cell_type": "markdown",
   "id": "careful-newsletter",
   "metadata": {},
   "source": [
    "## System"
   ]
  },
  {
   "cell_type": "code",
   "execution_count": 3,
   "id": "rotary-coffee",
   "metadata": {},
   "outputs": [],
   "source": [
    "# Create a pynamics system\n",
    "system = System()\n",
    "pynamics.set_system(__name__,system)"
   ]
  },
  {
   "cell_type": "code",
   "execution_count": 4,
   "id": "informal-blast",
   "metadata": {},
   "outputs": [],
   "source": [
    "# Length variables (numerical)\n",
    "lAa_num = 0.05\n",
    "lAb_num = 0.1\n",
    "lBa_num = 0.05\n",
    "lBb_num = 0.1\n",
    "lC_num = 0.165\n",
    "lD_num = 0.165\n",
    "lE_num = 0.045\n",
    "\n",
    "# Lengths\n",
    "lAa = Constant(lAa_num,'lAa',system)\n",
    "lAb = Constant(lAb_num,'lAb',system)\n",
    "lBa = Constant(lBa_num,'lBa',system)\n",
    "lBb = Constant(lBb_num,'lBb',system)\n",
    "lC = Constant(lC_num,'lC',system)\n",
    "lD = Constant(lD_num,'lD',system)\n",
    "lE = Constant(lE_num,'lE',system)"
   ]
  },
  {
   "cell_type": "code",
   "execution_count": 5,
   "id": "sexual-detective",
   "metadata": {},
   "outputs": [],
   "source": [
    "# Masses\n",
    "# r = 149kg/m3\n",
    "mAa = Constant(0.00447,'mAa',system) # 0.00447000 \n",
    "mAb = Constant(0.00894,'mAb',system) # 0.00894000 \n",
    "mBa = Constant(0.00626,'mBa',system) # 0.00625800\n",
    "mBb = Constant(0.00894,'mBb',system) # 0.00894000 \n",
    "mC = Constant(0.0148,'mC',system) # 0.01475100\n",
    "mD = Constant(0.0148,'mD',system) # 0.01475100\n",
    "\n",
    "# Joint preloads\n",
    "preload0 = Constant(0*pi/180,'preload0',system)\n",
    "preloadA = Constant(0*pi/180,'preloadA',system)\n",
    "preload1 = Constant(0*pi/180,'preload1',system)\n",
    "preloadB = Constant(0*pi/180,'preloadB',system)\n",
    "preload4 = Constant(0*pi/180,'preload4',system)\n",
    "preload3 = Constant(0*pi/180,'preload3',system)\n",
    "\n",
    "# Inertia\n",
    "Ixx_Aa = Constant(0.0000336,'Ixx_Aa',system) # 0.00003355\n",
    "Iyy_Aa = Constant(0.0000373,'Iyy_Aa',system) # 0.00003725\n",
    "Izz_Aa = Constant(0.0000038,'Izz_Aa',system) # 0.00000375\n",
    "Ixx_Ab = Constant(0.0000671,'Ixx_Ab',system) # 0.00006710\n",
    "Iyy_Ab = Constant(0.0000969,'Iyy_Ab',system) # 0.00009685\n",
    "Izz_Ab = Constant(0.0000299,'Izz_Ab',system) # 0.00002985\n",
    "\n",
    "Ixx_Ba = Constant(0.0000441,'Ixx_Ba',system) # 0.00004405\n",
    "Iyy_Ba = Constant(0.0000484,'Iyy_Ba',system) # 0.00004840\n",
    "Izz_Ba = Constant(0.0000045,'Izz_Ba',system) # 0.00000453\n",
    "Ixx_Bb = Constant(0.0000671,'Ixx_Bb',system) # 0.00006710\n",
    "Iyy_Bb = Constant(0.0000969,'Iyy_Bb',system) # 0.00009685\n",
    "Izz_Bb = Constant(0.0000299,'Izz_Bb',system) # 0.00002985\n",
    "\n",
    "Ixx_C = Constant(0.0001107,'Ixx_C',system) # 0.00011071\n",
    "Iyy_C = Constant(0.0002445,'Iyy_C',system) # 0.00024450\n",
    "Izz_C = Constant(0.000134,'Izz_C',system) # 0.00013394\n",
    "\n",
    "Ixx_D = Constant(0.0001107,'Ixx_D',system) # 0.00011071\n",
    "Iyy_D = Constant(0.0002445,'Iyy_D',system) # 0.00024450\n",
    "Izz_D = Constant(0.0001339,'Izz_D',system) # 0.00013394"
   ]
  },
  {
   "cell_type": "code",
   "execution_count": 6,
   "id": "intelligent-indian",
   "metadata": {},
   "outputs": [],
   "source": [
    "# Create differentiable state variables\n",
    "qAa,qAa_d,qAa_dd = Differentiable('qAa',system)\n",
    "qAb,qAb_d,qAb_dd = Differentiable('qAb',system)\n",
    "\n",
    "qBa,qBa_d,qBa_dd = Differentiable('qBa',system)\n",
    "qBb,qBb_d,qBb_dd = Differentiable('qBb',system)\n",
    "\n",
    "qC,qC_d,qC_dd = Differentiable('qC',system)\n",
    "\n",
    "qD,qD_d,qD_dd = Differentiable('qD',system)"
   ]
  },
  {
   "cell_type": "code",
   "execution_count": 7,
   "id": "modern-church",
   "metadata": {},
   "outputs": [],
   "source": [
    "# initial values\n",
    "# qC = 11.97 creates fully extended, horizontal wing\n",
    "initialvalues = {}\n",
    "initialvalues[qAa]=45*pi/180\n",
    "initialvalues[qAa_d]=0*pi/180\n",
    "initialvalues[qAb]=0*pi/180\n",
    "initialvalues[qAb_d]=0*pi/180\n",
    "\n",
    "initialvalues[qBa]=0*pi/180\n",
    "initialvalues[qBa_d]=0*pi/180\n",
    "initialvalues[qBb]=0*pi/180\n",
    "initialvalues[qBb_d]=0*pi/180\n",
    "\n",
    "#initialvalues[qC]=14.65*pi/180\n",
    "initialvalues[qC]=(90-16.69)*pi/180\n",
    "initialvalues[qC_d]=0*pi/180\n",
    "\n",
    "initialvalues[qD]=-70.16*pi/180\n",
    "initialvalues[qD_d]=0*pi/180"
   ]
  },
  {
   "cell_type": "code",
   "execution_count": 8,
   "id": "fabulous-steel",
   "metadata": {},
   "outputs": [],
   "source": [
    "# Retrieve state variables in the order they are stored in the system\n",
    "# Create a list of initial values ini0 in the order of the system’s state variables\n",
    "statevariables = system.get_state_variables()\n",
    "ini0 = [initialvalues[item] for item in statevariables]"
   ]
  },
  {
   "cell_type": "code",
   "execution_count": 9,
   "id": "coated-flush",
   "metadata": {},
   "outputs": [],
   "source": [
    "# Create frames\n",
    "N = Frame('N')\n",
    "Aa = Frame('Aa')\n",
    "Ab = Frame('Ab')\n",
    "\n",
    "Ba = Frame('Ba')\n",
    "Bb = Frame('Bb')\n",
    "\n",
    "C = Frame('C')\n",
    "D = Frame('D')"
   ]
  },
  {
   "cell_type": "code",
   "execution_count": 10,
   "id": "numeric-scale",
   "metadata": {},
   "outputs": [],
   "source": [
    "# Declare N as the Newtonian (fixed) frame\n",
    "system.set_newtonian(N)"
   ]
  },
  {
   "cell_type": "code",
   "execution_count": 11,
   "id": "amateur-spending",
   "metadata": {},
   "outputs": [],
   "source": [
    "# Rotate other frames about their local Z axes.\n",
    "# Not global q\n",
    "Aa.rotate_fixed_axis_directed(N,[0,0,1],qAa,system)\n",
    "Ab.rotate_fixed_axis_directed(Aa,[0,0,1],qAb,system)\n",
    "\n",
    "Ba.rotate_fixed_axis_directed(Ab,[0,0,1],qBa,system)\n",
    "Bb.rotate_fixed_axis_directed(Ba,[0,0,1],qBb,system)\n",
    "\n",
    "C.rotate_fixed_axis_directed(Bb,[0,0,1],qC,system)\n",
    "D.rotate_fixed_axis_directed(C,[0,0,1],qD,system)"
   ]
  },
  {
   "cell_type": "code",
   "execution_count": 12,
   "id": "digital-niagara",
   "metadata": {},
   "outputs": [],
   "source": [
    "# Define rigid body kinematics\n",
    "# position vectors\n",
    "p0 = 0*N.x #Normal\n",
    "pA = p0 + lAa*Aa.x #Normal\n",
    "p1 = pA + lAb*Ab.x #Link A\n",
    "pB = p1 + lBa*Ba.x #Link A\n",
    "p2A = pB + lBb*Bb.x #Link B - OUTPUT\n",
    "p4 = p0 + lE*N.y #Link E\n",
    "p3 = p4 + lC*C.x #Link C\n",
    "p2C = p3 + lD*D.x #Link D - OUTPUT"
   ]
  },
  {
   "cell_type": "code",
   "execution_count": 13,
   "id": "white-garlic",
   "metadata": {},
   "outputs": [],
   "source": [
    "# CoM vectors\n",
    "pAacom=p0 + lAa/2*Aa.x #Link Aa\n",
    "pAbcom=pA + lAb/2*Ab.x #Link Ab\n",
    "\n",
    "pBacom=p1 + 0.0207*Ba.x + 0.00314*Ba.y #Link Ba # 0.02071429x 0.00314286y\n",
    "pBbcom=pB + lBb*Bb.x #Link Bb\n",
    "\n",
    "pCcom=p4 + lC/2*C.x #Link Ca\n",
    "pDcom=p3 + lD/2*D.x #Link Da"
   ]
  },
  {
   "cell_type": "code",
   "execution_count": 14,
   "id": "clinical-lloyd",
   "metadata": {},
   "outputs": [],
   "source": [
    "# Angular Velocity\n",
    "wNAa = N.getw_(Aa)\n",
    "wAaAb = Aa.getw_(Ab)\n",
    "\n",
    "wAbBa = Ab.getw_(Ba)\n",
    "wBaBb = Ba.getw_(Bb)\n",
    "\n",
    "wNC = N.getw_(C)\n",
    "wCD = C.getw_(D)"
   ]
  },
  {
   "cell_type": "code",
   "execution_count": 15,
   "id": "blessed-insurance",
   "metadata": {},
   "outputs": [],
   "source": [
    "# Build inertia tensors\n",
    "IAa = Dyadic.build(Aa,Ixx_Aa,Iyy_Aa,Izz_Aa)\n",
    "IAb = Dyadic.build(Ab,Ixx_Ab,Iyy_Ab,Izz_Ab)\n",
    "\n",
    "IBa = Dyadic.build(Ba,Ixx_Ba,Iyy_Ba,Izz_Ba)\n",
    "IBb = Dyadic.build(Bb,Ixx_Bb,Iyy_Bb,Izz_Bb)\n",
    "\n",
    "IC = Dyadic.build(C,Ixx_C,Iyy_C,Izz_C)\n",
    "ID = Dyadic.build(D,Ixx_D,Iyy_D,Izz_D)\n",
    "\n",
    "BodyAa = Body('BodyAa',Aa,pAacom,mAa,IAa,system)\n",
    "BodyAb = Body('BodyAb',Ab,pAbcom,mAb,IAb,system)\n",
    "\n",
    "BodyBa = Body('BodyBa',Ba,pBacom,mBa,IBa,system)\n",
    "BodyBb = Body('BodyBb',Bb,pBbcom,mBb,IBb,system)\n",
    "\n",
    "BodyC = Body('BodyC',C,pCcom,mC,IC,system)\n",
    "BodyD = Body('BodyD',D,pDcom,mD,ID,system)\n",
    "#BodyC = Particle(pCcm,mC,'ParticleC',system)"
   ]
  },
  {
   "cell_type": "markdown",
   "id": "baking-quarterly",
   "metadata": {},
   "source": [
    "## Forces"
   ]
  },
  {
   "cell_type": "code",
   "execution_count": 16,
   "id": "smoking-genealogy",
   "metadata": {},
   "outputs": [
    {
     "data": {
      "text/plain": [
       "<pynamics.force.Force at 0x1e560f4c5b0>"
      ]
     },
     "execution_count": 16,
     "metadata": {},
     "output_type": "execute_result"
    }
   ],
   "source": [
    "# Motor Torque\n",
    "t_switch = 0.3\n",
    "T1 = -0.1\n",
    "T2 = 0.2\n",
    "dT = T2-T1\n",
    "\n",
    "cond = system.t-t_switch\n",
    "cond_s = (cond+abs(cond))\n",
    "on = cond_s/(2*cond+1e-4)\n",
    "system.addforce((dT*on+T1)*N.z,wNAa)"
   ]
  },
  {
   "cell_type": "code",
   "execution_count": 17,
   "id": "scientific-treasure",
   "metadata": {},
   "outputs": [],
   "source": [
    "# Spring Forces\n",
    "kbase = Constant(1e-4,'kbase',system)\n",
    "kjoint = Constant(1e-3,'kjoint',system)\n",
    "kbend = Constant(6,'kbend',system)\n",
    "klim = Constant(3,'klim',system)\n",
    "\n",
    "dK = kbase-klim"
   ]
  },
  {
   "cell_type": "code",
   "execution_count": 18,
   "id": "flying-halloween",
   "metadata": {},
   "outputs": [
    {
     "data": {
      "text/plain": [
       "(<pynamics.force.Force at 0x1e560f4fe20>,\n",
       " <pynamics.spring.Spring at 0x1e560f4f970>)"
      ]
     },
     "execution_count": 18,
     "metadata": {},
     "output_type": "execute_result"
    }
   ],
   "source": [
    "system.add_spring_force1(kbase,(qAa-preload0)*N.z,wNAa) # qA\n",
    "system.add_spring_force1(kbend,(qAb-preloadA)*Aa.z,wAaAb)  # virtual A\n",
    "\n",
    "system.add_spring_force1(dK*on+klim,(qBa-preload1)*Ab.z,wAbBa) # Limiter\n",
    "#system.add_spring_force1(kbase,(qBa-preload1)*Ab.z,wAbBa) # Limiter Torque off\n",
    "\n",
    "system.add_spring_force1(kbend,(qBb-preloadB)*Ba.z,wBaBb) # virtual B\n",
    "\n",
    "system.add_spring_force1(kbase,(qC-preload4)*N.z,wNC) # qC\n",
    "system.add_spring_force1(kjoint,(qD-preload3)*C.z,wCD) # qD"
   ]
  },
  {
   "cell_type": "code",
   "execution_count": 19,
   "id": "frequent-selection",
   "metadata": {},
   "outputs": [],
   "source": [
    "# Damping\n",
    "bbase = Constant(1e-2,'b',system)\n",
    "bjoint = Constant(1e-2,'b',system)"
   ]
  },
  {
   "cell_type": "code",
   "execution_count": 20,
   "id": "adaptive-story",
   "metadata": {},
   "outputs": [
    {
     "data": {
      "text/plain": [
       "<pynamics.force.Force at 0x1e560f5e490>"
      ]
     },
     "execution_count": 20,
     "metadata": {},
     "output_type": "execute_result"
    }
   ],
   "source": [
    "system.addforce(-bbase*wNAa,wNAa) # qA\n",
    "system.addforce(-bjoint*wAbBa,wAbBa) # qB\n",
    "system.addforce(-bbase*wNC,wNC) # qC\n",
    "system.addforce(-bjoint*wCD,wCD) # qD"
   ]
  },
  {
   "cell_type": "code",
   "execution_count": 21,
   "id": "flying-germany",
   "metadata": {},
   "outputs": [],
   "source": [
    "# Aerodynamic Forces\n",
    "rho = Constant(1.225,'rho',system) # air density\n",
    "w = Constant(0.15,'w',system) # width or chord length"
   ]
  },
  {
   "cell_type": "code",
   "execution_count": 22,
   "id": "vocational-attraction",
   "metadata": {},
   "outputs": [],
   "source": [
    "vAacom= pAacom.time_derivative(N,system)\n",
    "vAacom2= pAacom.dot(vAacom)\n",
    "vAbcom= pAbcom.time_derivative(N,system)\n",
    "vAbcom2= pAbcom.dot(vAbcom)\n",
    "\n",
    "vBacom= pBacom.time_derivative(N,system)\n",
    "vBacom2= pBacom.dot(vBacom)\n",
    "vBbcom= pBbcom.time_derivative(N,system)\n",
    "vBbcom2= pBbcom.dot(vBbcom)\n",
    "\n",
    "vCcom= pCcom.time_derivative(N,system)\n",
    "vCcom2= pCcom.dot(vCcom)\n",
    "vDcom= pDcom.time_derivative(N,system)\n",
    "vDcom2= pDcom.dot(vDcom)"
   ]
  },
  {
   "cell_type": "code",
   "execution_count": 23,
   "id": "demographic-thompson",
   "metadata": {},
   "outputs": [],
   "source": [
    "vAadx = vAacom.dot(Aa.x)\n",
    "vAbdx = vAbcom.dot(Ab.x)\n",
    "vBadx = vBacom.dot(Ba.x)\n",
    "vBbdx = vBbcom.dot(Bb.x)\n",
    "vCdx = vCcom.dot(C.x)\n",
    "vDdx = vDcom.dot(D.x)\n",
    "\n",
    "vAady = vAacom.dot(-Aa.y)\n",
    "vAbdy = vAbcom.dot(-Ab.y)\n",
    "vBady = vBacom.dot(-Ba.y)\n",
    "vBbdy = vBbcom.dot(-Bb.y)\n",
    "vCdy = vCcom.dot(-C.y)\n",
    "vDdy = vDcom.dot(-D.y)"
   ]
  },
  {
   "cell_type": "code",
   "execution_count": 24,
   "id": "assumed-montgomery",
   "metadata": {},
   "outputs": [],
   "source": [
    "tolv = 1e-10"
   ]
  },
  {
   "cell_type": "code",
   "execution_count": 25,
   "id": "different-precipitation",
   "metadata": {},
   "outputs": [],
   "source": [
    "aoa_Aa = sympy.atan2(vAady+tolv,vAadx)\n",
    "aoa_Ab = sympy.atan2(vAbdy+tolv,vAbdx)\n",
    "aoa_Ba = sympy.atan2(vBady+tolv,vBadx)\n",
    "aoa_Bb = sympy.atan2(vBbdy+tolv,vBbdx)\n",
    "aoa_C = sympy.atan2(vCdy+tolv,vCdx)\n",
    "aoa_D = sympy.atan2(vDdy+tolv,vDdx)"
   ]
  },
  {
   "cell_type": "code",
   "execution_count": 26,
   "id": "premier-monthly",
   "metadata": {},
   "outputs": [
    {
     "data": {
      "text/plain": [
       "<pynamics.force.Force at 0x1e560f99070>"
      ]
     },
     "execution_count": 26,
     "metadata": {},
     "output_type": "execute_result"
    }
   ],
   "source": [
    "aero_Aa = rho*vAacom2*sympy.sin(aoa_Aa)*w*lAa*Aa.y\n",
    "system.addforce(aero_Aa,vAacom)\n",
    "\n",
    "aero_Ab = rho*vAbcom2*sympy.sin(aoa_Ab)*w*lAb*Ab.y\n",
    "system.addforce(aero_Ab,vAbcom)\n",
    "\n",
    "aero_Ba = rho*vBacom2*sympy.sin(aoa_Ba)*w*lBa*Ba.y\n",
    "system.addforce(aero_Ba,vBacom)\n",
    "\n",
    "aero_Bb = rho*vBbcom2*sympy.sin(aoa_Bb)*w*lBb*Bb.y\n",
    "system.addforce(aero_Bb,vBbcom)\n",
    "\n",
    "aero_C = rho*vCcom2*sympy.sin(aoa_C)*w*lC*C.y\n",
    "system.addforce(aero_C,vCcom)\n",
    "\n",
    "aero_D = rho*vDcom2*sympy.sin(aoa_D)*w*lD*D.y\n",
    "system.addforce(aero_D,vDcom)"
   ]
  },
  {
   "cell_type": "code",
   "execution_count": 27,
   "id": "restricted-entry",
   "metadata": {},
   "outputs": [],
   "source": [
    "# Gravity\n",
    "g = Constant(9.81,'g',system)\n",
    "system.addforcegravity(-g*N.y)"
   ]
  },
  {
   "cell_type": "markdown",
   "id": "posted-absolute",
   "metadata": {},
   "source": [
    "## Constraints"
   ]
  },
  {
   "cell_type": "code",
   "execution_count": 28,
   "id": "discrete-ceiling",
   "metadata": {},
   "outputs": [],
   "source": [
    "# ptipup = 0.547*N.x+0.547*N.y"
   ]
  },
  {
   "cell_type": "code",
   "execution_count": 29,
   "id": "turned-athletics",
   "metadata": {},
   "outputs": [],
   "source": [
    "# Constraints\n",
    "eq_vector = p2A-p2C\n",
    "eq = []\n",
    "eq.append((eq_vector).dot(N.x))\n",
    "eq.append((eq_vector).dot(N.y))\n",
    "eq_d=[(system.derivative(item)) for item in eq]\n",
    "eq_dd=[(system.derivative(item)) for item in eq_d]\n",
    "\n",
    "eq2_vector = Ab.x-Ba.x\n",
    "eq2 = []\n",
    "eq2.append((eq2_vector).dot(N.x))\n",
    "eq2.append((eq2_vector).dot(N.y))\n",
    "eq2_d=[(system.derivative(item)) for item in eq2]\n",
    "eq2_dd=[(system.derivative(item)) for item in eq2_d]"
   ]
  },
  {
   "cell_type": "markdown",
   "id": "instructional-entrepreneur",
   "metadata": {},
   "source": [
    "## Solve for valid initial condition"
   ]
  },
  {
   "cell_type": "code",
   "execution_count": 30,
   "id": "ranking-bundle",
   "metadata": {},
   "outputs": [],
   "source": [
    "# Declare a list of points that will be used for plotting\n",
    "points = [p0, pA, p1, pB, p2A, p3, p4]"
   ]
  },
  {
   "cell_type": "code",
   "execution_count": 31,
   "id": "working-athens",
   "metadata": {},
   "outputs": [],
   "source": [
    "# Identify independent and dependent variables\n",
    "qi = [qAa, qC]\n",
    "qd = [qAb, qBa, qBb, qD]"
   ]
  },
  {
   "cell_type": "code",
   "execution_count": 32,
   "id": "upper-intelligence",
   "metadata": {},
   "outputs": [],
   "source": [
    "# Create a copy of symbolic constants dictionary and add the initial value of qi to it\n",
    "constants = system.constant_values.copy()\n",
    "defined = dict([(item,initialvalues[item]) for item in qi])\n",
    "constants.update(defined)"
   ]
  },
  {
   "cell_type": "code",
   "execution_count": 33,
   "id": "reported-toolbox",
   "metadata": {},
   "outputs": [],
   "source": [
    "# Substitute constants in equation\n",
    "eq = [item.subs(constants) for item in eq]\n",
    "eq2 = [item.subs(constants) for item in eq2]"
   ]
  },
  {
   "cell_type": "code",
   "execution_count": 34,
   "id": "documented-frank",
   "metadata": {},
   "outputs": [],
   "source": [
    "# Convert to numpy array\n",
    "# Sum the error\n",
    "error = (numpy.array(eq)**2).sum() + (numpy.array(eq2)**2).sum()"
   ]
  },
  {
   "cell_type": "code",
   "execution_count": 35,
   "id": "improved-computer",
   "metadata": {},
   "outputs": [],
   "source": [
    "# Convert to a function that scipy can use.\n",
    "# Sympy has a “labmdify” function that evaluates an expression, but scipy needs a slightly different format.\n",
    "f = sympy.lambdify(qd,error)\n",
    "\n",
    "def function(args):\n",
    "    return f(*args)"
   ]
  },
  {
   "cell_type": "code",
   "execution_count": 36,
   "id": "common-azerbaijan",
   "metadata": {},
   "outputs": [
    {
     "name": "stderr",
     "output_type": "stream",
     "text": [
      "2021-03-19 22:17:01,595 - pynamics.output - INFO - calculating outputs\n",
      "2021-03-19 22:17:01,597 - pynamics.output - INFO - done calculating outputs\n"
     ]
    },
    {
     "data": {
      "text/plain": [
       "array([[[ 0.        ,  0.        ],\n",
       "        [ 0.03535534,  0.03535534],\n",
       "        [ 0.10606602,  0.10606602],\n",
       "        [ 0.14142136,  0.14142136],\n",
       "        [ 0.21213203,  0.21213203],\n",
       "        [-0.07824991,  0.19026511],\n",
       "        [ 0.        ,  0.045     ]],\n",
       "\n",
       "       [[ 0.        ,  0.        ],\n",
       "        [ 0.03535534,  0.03535534],\n",
       "        [ 0.10369392,  0.10836109],\n",
       "        [ 0.13786317,  0.14486399],\n",
       "        [ 0.23496063,  0.12094575],\n",
       "        [ 0.08381403,  0.18712744],\n",
       "        [ 0.        ,  0.045     ]]])"
      ]
     },
     "execution_count": 36,
     "metadata": {},
     "output_type": "execute_result"
    }
   ],
   "source": [
    "# Take the derivative of the equations to linearize with regard to the velocity variables\n",
    "guess = [initialvalues[item] for item in qd]\n",
    "result = scipy.optimize.minimize(function,guess)\n",
    "if result.fun>1e-3:\n",
    "    raise(Exception(\"out of tolerance\"))\n",
    "ini = []\n",
    "for item in system.get_state_variables():\n",
    "    if item in qd:\n",
    "        ini.append(result.x[qd.index(item)])\n",
    "    else:\n",
    "        ini.append(initialvalues[item])\n",
    "points = PointsOutput(points, constant_values=system.constant_values)\n",
    "points.calc(numpy.array([ini0,ini]))\n",
    "#points.plot_time()"
   ]
  },
  {
   "cell_type": "code",
   "execution_count": 37,
   "id": "charming-edwards",
   "metadata": {},
   "outputs": [
    {
     "data": {
      "text/plain": [
       "2.0881017314179564e-12"
      ]
     },
     "execution_count": 37,
     "metadata": {},
     "output_type": "execute_result"
    }
   ],
   "source": [
    "result.fun"
   ]
  },
  {
   "cell_type": "code",
   "execution_count": 38,
   "id": "massive-bones",
   "metadata": {},
   "outputs": [],
   "source": [
    "# Valid initial condition\n",
    "x = numpy.array([points.y[1][0][0], points.y[1][1][0], points.y[1][2][0], points.y[1][3][0], points.y[1][4][0], points.y[1][5][0], points.y[1][6][0], 0])\n",
    "y = numpy.array([points.y[1][0][1], points.y[1][1][1], points.y[1][2][1], points.y[1][3][1], points.y[1][4][1], points.y[1][5][1], points.y[1][6][1], 0])\n",
    "# prettyplot(x,y)"
   ]
  },
  {
   "cell_type": "markdown",
   "id": "activated-anatomy",
   "metadata": {},
   "source": [
    "## Solution"
   ]
  },
  {
   "cell_type": "code",
   "execution_count": 39,
   "id": "solar-northwest",
   "metadata": {},
   "outputs": [
    {
     "name": "stderr",
     "output_type": "stream",
     "text": [
      "2021-03-19 22:17:01,639 - pynamics.system - INFO - getting dynamic equations\n"
     ]
    }
   ],
   "source": [
    "# F=ma\n",
    "f,ma = system.getdynamics()"
   ]
  },
  {
   "cell_type": "code",
   "execution_count": 40,
   "id": "hourly-local",
   "metadata": {},
   "outputs": [
    {
     "name": "stderr",
     "output_type": "stream",
     "text": [
      "2021-03-19 22:17:02,402 - pynamics.system - INFO - solving a = f/m and creating function\n",
      "2021-03-19 22:17:02,411 - pynamics.system - INFO - substituting constrained in Ma-f.\n",
      "2021-03-19 22:17:08,631 - pynamics.system - INFO - done solving a = f/m and creating function\n",
      "2021-03-19 22:17:08,632 - pynamics.system - INFO - calculating function for lambdas\n"
     ]
    }
   ],
   "source": [
    "# Acceleration\n",
    "func1,lambda1 = system.state_space_post_invert(f,ma,eq_dd,return_lambda = True)"
   ]
  },
  {
   "cell_type": "code",
   "execution_count": 41,
   "id": "killing-alarm",
   "metadata": {},
   "outputs": [],
   "source": [
    "# Integration Tolerance\n",
    "tol = 1e-6"
   ]
  },
  {
   "cell_type": "code",
   "execution_count": 42,
   "id": "automotive-spring",
   "metadata": {},
   "outputs": [],
   "source": [
    "# Time\n",
    "tinitial = 0\n",
    "tfinal = 1\n",
    "#tfinal = 4 # torque off\n",
    "fps = 30\n",
    "tstep = 1/fps\n",
    "t = numpy.r_[tinitial:tfinal:tstep]"
   ]
  },
  {
   "cell_type": "code",
   "execution_count": 43,
   "id": "miniature-thesis",
   "metadata": {},
   "outputs": [
    {
     "name": "stderr",
     "output_type": "stream",
     "text": [
      "2021-03-19 22:17:08,686 - pynamics.integration - INFO - beginning integration\n",
      "2021-03-19 22:17:08,686 - pynamics.system - INFO - integration at time 0000.00\n",
      "2021-03-19 22:17:21,811 - pynamics.system - INFO - integration at time 0000.22\n",
      "2021-03-19 22:17:35,029 - pynamics.system - INFO - integration at time 0000.39\n",
      "2021-03-19 22:17:40,209 - pynamics.integration - INFO - finished integration\n"
     ]
    }
   ],
   "source": [
    "# Integrate\n",
    "states=pynamics.integration.integrate(func1,ini,t,rtol=tol,atol=tol, args=({'constants':system.constant_values},))"
   ]
  },
  {
   "cell_type": "code",
   "execution_count": 44,
   "id": "dried-species",
   "metadata": {},
   "outputs": [
    {
     "data": {
      "text/plain": [
       "<matplotlib.legend.Legend at 0x1e561573760>"
      ]
     },
     "execution_count": 44,
     "metadata": {},
     "output_type": "execute_result"
    },
    {
     "data": {
      "image/png": "[encoded data removed]",
      "text/plain": [
       "<Figure size 432x288 with 1 Axes>"
      ]
     },
     "metadata": {
      "needs_background": "light"
     },
     "output_type": "display_data"
    }
   ],
   "source": [
    "# Outputs\n",
    "plt.figure()\n",
    "artists = plt.plot(t,states[:,:4])\n",
    "plt.legend(artists,['qAa','qAb','qBa','qBb','qC','qD'])"
   ]
  },
  {
   "cell_type": "raw",
   "id": "verbal-protest",
   "metadata": {},
   "source": [
    "# Energy\n",
    "KE = system.get_KE()\n",
    "PE = system.getPEGravity(p0) - system.getPESprings()\n",
    "energy_output = Output([KE-PE],system)\n",
    "energy_output.calc(states)\n",
    "energy_output.plot_time()"
   ]
  },
  {
   "cell_type": "code",
   "execution_count": 45,
   "id": "enclosed-columbus",
   "metadata": {},
   "outputs": [
    {
     "name": "stderr",
     "output_type": "stream",
     "text": [
      "2021-03-19 22:17:40,395 - pynamics.output - INFO - calculating outputs\n",
      "2021-03-19 22:17:40,401 - pynamics.output - INFO - done calculating outputs\n"
     ]
    },
    {
     "data": {
      "image/png": "[encoded data removed]",
      "text/plain": [
       "<Figure size 432x288 with 1 Axes>"
      ]
     },
     "metadata": {
      "needs_background": "light"
     },
     "output_type": "display_data"
    }
   ],
   "source": [
    "# Motion\n",
    "points = [p0,pA,p1,pB,p2A,p3,p4]\n",
    "points_output = PointsOutput(points,system)\n",
    "y = points_output.calc(states)\n",
    "points_output.plot_time(20)"
   ]
  },
  {
   "cell_type": "code",
   "execution_count": 46,
   "id": "sorted-nickname",
   "metadata": {},
   "outputs": [
    {
     "data": {
      "image/png": "[encoded data removed]",
      "text/plain": [
       "<Figure size 432x288 with 1 Axes>"
      ]
     },
     "metadata": {
      "needs_background": "light"
     },
     "output_type": "display_data"
    }
   ],
   "source": [
    "# Motion Animation\n",
    "points_output.animate(fps = fps,movie_name = 'render.mp4',lw=2,marker='o',color=(1,0,0,1),linestyle='-')"
   ]
  },
  {
   "cell_type": "code",
   "execution_count": 47,
   "id": "disciplinary-trick",
   "metadata": {},
   "outputs": [
    {
     "data": {
      "text/html": [
       "<video width=\"432\" height=\"288\" controls autoplay loop>\n",
       "  <source type=\"video/mp4\" src=\"data:video/mp4;base64,AAAAIGZ0eXBNNFYgAAACAE00ViBpc29taXNvMmF2YzEAAAAIZnJlZQAAW55tZGF0AAACrgYF//+q\n",
       "3EXpvebZSLeWLNgg2SPu73gyNjQgLSBjb3JlIDE2MSByMzAzMyAwZDc1NGVjIC0gSC4yNjQvTVBF\n",
       "Ry00IEFWQyBjb2RlYyAtIENvcHlsZWZ0IDIwMDMtMjAyMCAtIGh0dHA6Ly93d3cudmlkZW9sYW4u\n",
       "b3JnL3gyNjQuaHRtbCAtIG9wdGlvbnM6IGNhYmFjPTEgcmVmPTMgZGVibG9jaz0xOjA6MCBhbmFs\n",
       "eXNlPTB4MzoweDExMyBtZT1oZXggc3VibWU9NyBwc3k9MSBwc3lfcmQ9MS4wMDowLjAwIG1peGVk\n",
       "X3JlZj0xIG1lX3JhbmdlPTE2IGNocm9tYV9tZT0xIHRyZWxsaXM9MSA4eDhkY3Q9MSBjcW09MCBk\n",
       "ZWFkem9uZT0yMSwxMSBmYXN0X3Bza2lwPTEgY2hyb21hX3FwX29mZnNldD0tMiB0aHJlYWRzPTkg\n",
       "bG9va2FoZWFkX3RocmVhZHM9MSBzbGljZWRfdGhyZWFkcz0wIG5yPTAgZGVjaW1hdGU9MSBpbnRl\n",
       "cmxhY2VkPTAgYmx1cmF5X2NvbXBhdD0wIGNvbnN0cmFpbmVkX2ludHJhPTAgYmZyYW1lcz0zIGJf\n",
       "cHlyYW1pZD0yIGJfYWRhcHQ9MSBiX2JpYXM9MCBkaXJlY3Q9MSB3ZWlnaHRiPTEgb3Blbl9nb3A9\n",
       "MCB3ZWlnaHRwPTIga2V5aW50PTI1MCBrZXlpbnRfbWluPTI1IHNjZW5lY3V0PTQwIGludHJhX3Jl\n",
       "ZnJlc2g9MCByY19sb29rYWhlYWQ9NDAgcmM9Y3JmIG1idHJlZT0xIGNyZj0yMy4wIHFjb21wPTAu\n",
       "NjAgcXBtaW49MCBxcG1heD02OSBxcHN0ZXA9NCBpcF9yYXRpbz0xLjQwIGFxPTE6MS4wMACAAAAN\n",
       "X2WIhAA3//728P4FNjuY0JcRzeidMx+/Fbi6NDe9zgAAAwAAN9zmRP7KkwbmwAAC4JjeFiVDIHZg\n",
       "BwAYBTUB9y+wHE6s4ca0zkDKbhbHGDYgsS+F3KCTI8LMrpPQF0w6TpeMW2evFERcLGLiECoLCjGG\n",
       "bRKWHQ0ueTpFK2zT3VrWwedUi/YdBqjtV/oBdHKECWLgfqohfzTMakvqJL3FztryYC9IcfIFa24K\n",
       "vdQuvCpN1914YbQ0aVqVyN0coKCbi4Qp9EjBYToLl78IL1X3cdoJtgQw608/rwOLAi/xyTbusfSh\n",
       "/TB1eoDmz+uaIu61/Zx4MN8Grc62mAEIp0qFvFl5GjvHWOiJfWx6WQDJc0WvYTj19e9PA58l32/O\n",
       "uwNpwWHkG/M56ipzopy+W7utqhBd5AN0R54J8izbC/R2wlSVAe+8rdkqQOczYv/mPf/wQp+2DFzu\n",
       "at5YGi+u3gHyl5+8ukNMnX2VhK9W+TFAmiarJYtoycXip+lm8uwx49Niof+Aa1WwIpw9z+staRmt\n",
       "Kk9Ycu0rv92Vu8t7BXiyDN5Hy2NXOaIUrV/mYiy7FG335SSxfi7RIPRI3TLRu2IEUYLQHpvVggmx\n",
       "07S/qkzhNXb+OWi/8RS4ZrSb5bXjaBzdzRjUJXGrivrFQhSYWUNnGeuCVY9FabQ/l/69AOCw/j7y\n",
       "ITS/qaXvrpJBblYjenMx7zMi2Ai4hfsPDsW5pdgWXbVZ2Vp+bVLeLsoRlhVKuV7pDOltm9zj8KRb\n",
       "jRyLVnbRib9HUgt85yqaFGR7fRtdPAKkarMRjs5tdGy3pml3QSz1iYxFdoqV6XZdFtJ9UU1GB4OU\n",
       "vE0FDp+qU3QavrQ6F0iL/tLQ/lwJqevDHFfl9RnufevitBD4NRnFOTftFrpxnvk3hhVO9sYW1agB\n",
       "ZURedkKwLvQkfx/aR1y/VqIrxyt8bA/wlPHqHm/uRuuwb2VMShN5l0KcbbPZ5+Mnc2o9rejwCYXK\n",
       "A9iundHVOELx/0GeZTzRyWMkdUWiPo5dj5hE27X3PjX6QXzL8AUXrhUAVp1CMcePfbiiyXc6YP4p\n",
       "cY98sVLRuFrqVTcPc6sYcgVDyaAXt7Lm80rwjfJJaRqMjSRVullVHn8kidYCdbUOK9vaNh7V0HOn\n",
       "8TqW6oq7rnq/XqAG/1cqgyhVJMEtppuTg/VpFQF0GVEhP9z4ClnvsvQpQD+dXWVq2Bxew+MDg568\n",
       "WrnM+agEOwZlCX5x2CssQngSryxst6TkhEWjH4yatN6z+xjs1Byy/pSHEopjjPLlJXsOIf6+35VF\n",
       "DxDMM1O9t7chDuXoP2lgfCJF6ZYJPdJVgZ4cqA3SLV0JelnBkAwLWN/DrkQEeXgWnlyYFxdNz3oM\n",
       "b/W4oPzvbLDxbTE24yV2/+ZQDbGNxIRKx//WALbwHpcBNrqHB6uPC0CvqgDhpci5fbLVosjRj8HN\n",
       "l+rC5REzQ/voNgF2tfAHbvG6BMzd2qeLk5FXWMIbLRMk6KmgcMTOrRBpwXjAkK97uKNQDcS4iYTH\n",
       "kB+6U8ExoKqNf31DfCqle///bwgxkKzo5Lxhsar2hYPYX0b5Aa5Wwxgj3rFbrhCqeF+hadn6WaSU\n",
       "pa7fRqdy9Opr8B3IZeWeP91kQc/CSdD+68hvYvZV2q5UL3XCeC42o//7ro9B02o6rT4qMi/6FMSQ\n",
       "nfhsuCNDzKwZ0AdWrQy9lYkJ/w9sADR/QFgx4xRTDSLbgBjLe12Xm+FvCczCsVoYSHt1mbM9u5zT\n",
       "/mHImzy5Va7i0HRfEchcZSALIoHo+5H+thkfoMfzI6vTYRqx5XprLxpZvt92O2T8pNE9zpPmTAyV\n",
       "ZRV7wIji0TxtSHvn33CJjKmwamAI5lyUB5Cs/zau7zKRaHuC4uMlw7kdPq1dK4JLwQTqCXIXJCHa\n",
       "jhwliMnEu0Li/lWI4QYIRuCl5Ozb+ZrPX8uwW+66y2fOCtbphxmcOXIGjRsVaRy2vokbpT3B77z6\n",
       "3rMLsQxRsvsgv7pPK7Irg4sfIzgVBVD7V8cHszmU1HM1hPNBtdriyFKrgcnz+i0m4eimfOGxVq8c\n",
       "CXzlWpYpc/sLCtLtQH63tPVE0rQYdpOwsfkIKvE7NB6yMKrIhwIxqOEwKAemTeCIuRid7CbcSUq9\n",
       "AuA6nYrW08oZZocgcc+9ItTg3G7SoHvBCkflqbZyYYp6pep2ex31uNJdhfmqKqORkitiVFrz2ODx\n",
       "umGjyz3EUINzAtgpzkdQ1zeSNYnWz0wJOFpqd9GOw5jP7yaNEK2PmN3nHLL0cmwxLfVnkMtzvBsE\n",
       "HQdih+dpoKnfOqrizy25nWXovT/+rWTLUFrYwJ8NtJX9BQNYKQxEIDIqyoEexphG+SD2L7DJ4t96\n",
       "UFSa4wb1Uv1VRQs3z19YNMY2OAy+icLdNfmzbtqu9TP6JEiKyykPRnwY5euHzDt6dJtVD8cB/6As\n",
       "VC21k5r36jvAWXOxs9nRVXHD48R/bywTn4udawnYUTGOipL/1bLf5PRAVA13en6tDXapax6ZiADH\n",
       "Sy3hBTOdKbcr1vgyMG4rIC37DnANaKOijVGiT+1e6C48NaEvEB3z6ns0oyqsiMASz23rtctcuOnp\n",
       "V6CnvaUlRp9BK3o7OnjDHOLQOBNGAmfSs5zl43zZsOYRnRciMFodcggIJqY7Aahm3eQiZkzV17GY\n",
       "ncGkq3k7hrGhfHwXhXe/KID74u1bC72dmgZjijiRyB2reR4FikIju+9dXh5Ia4eo79jN5Txiz95W\n",
       "7blvj38/2SV1J2cAc6MVq6W2uQEH1rb1Pmy0WXwndSXmwSX162fuLSb09eD8cV6fobKUwqBtEnX0\n",
       "gcQISDnRIee/agN0kKvcAePgTcG+MoFb8g8M3ks6J+lxXqIZwWwTF51vbyy9b/hFU1Zgo8rIBOE3\n",
       "VnLg5uJmjI6MeXYYb9ztMw/9qT4yjW00zxRpO+5MIBIiH/dW+GFYmS1ysxb278KhryUg3rKM9CzP\n",
       "vYdA90BvC+ocAXyxF7Tza7Ioi965o+WGiEI2QVSAxonoIgLTE94u8bkJ6LUFAajdOuLgh0l9J8qZ\n",
       "dqMmIYqIkBaGWbHuQBKuVVfVt/3bW3GchzziBHd5zLQ/Egx7FpNYHNp2TxbxaLN8FWivDP/PH7Nd\n",
       "CyJwFDpJaelcHAsr+sH2B9u6z66ANTwsu8bGQz4cCEIsxLiVBq+XPrfg7w0fkQHvgFW0AEsmsbXT\n",
       "+IPEEB57u8Tt2ZXJLBv59PFmi9nFPv8smEfwWLeQq+PQvQW4q4gu3ipugTWo024ytaO+GMBSseOs\n",
       "ewWUCNYiZHwcjn2CthtFHcPZAPJVc94GlVY14UgiEvPsFk62z9G8X3ySIhWcEUGW4B9UfJI6dbtF\n",
       "hkweEvdgcKYt+baUtbjezhZL1gHE8oUyL7cUy6MSgf9YK5HOc8y0FS9sP0vOZQJtriBfybM3CQ5y\n",
       "6G7LTtMQMhRVf3SS5igozK23nDNptikRqAaTF41Eg9AuAlBUyvdIVvwim4cxPLmd4fMaCvWj54H0\n",
       "XZfsD/bvqTs7jcHUoOGiQqWV1YBEXvvJmC2f26LCmr7ZPuUDUo+zFBJinZQkloFyCiQJ1P+1C/Nv\n",
       "WxPAu0hpJlfnKJ64pZH3bv1jlcc2gIGISjyI05rmn7MU9dW+8DY33fNrPNvZ/Ug1J9/U9jdi9UO/\n",
       "RnForvyuDXYpEX3G/tw26LQmjeuVmK8ADNQ8086uQ8OyazZMIjX5+nQ0bi4QPDAJ8c4K4HnBbfzd\n",
       "qwLjcpRS5gIrNPhTRFxZrBphS2HwUXdfYgXUrcyCe8DOAfC3Po197QaU1ZmHe/nbafmGSw+JoVSF\n",
       "NRoKlkMaK/7p0BXJyTc96j4nN+/uhS4zKCr9QigH/Ez8GgO7WjsDNV8qmuCssweAqnzp+++jMs0d\n",
       "9S3ZJq6HjzSaXt8sqUEVPcdD0Gx3DrybgLLZAD8QdMtXDhBxMxlg9qWl2whzyUFBtYGvRRzYUqUn\n",
       "cn/eurjlvdfi2gf+qnbkasvj55cmPiRO4/fbco+MjWBduzaeZNY8FRAo0DtYJD0pbGeC2GmQG5HX\n",
       "V50oB6xbPUAI+sUdKzqyETp8lq6IHqWfNCiyTud+S7j7iLvESIuliHe0bKLUs+WxDr3/GfR1+2uc\n",
       "wVzcieyEGH2Oere6gDBf1pafQEzyPIcUfa3rNEDf/s2vikoXfm97oMugecShvrBbLEdgbRMcd7zX\n",
       "0M2YtkKMK01HnGCk3YfoGVeuT12n1gl7j77EPFp9WVy9mdo/iY2typEI41oHRqmIzQN4T06thhoz\n",
       "9oivOq7aWzivAd873hhvXISbX9tZuSQDDhoc4b8LzgBObrp3Q0sGlEBRhriAQg0sJiuejggseqBZ\n",
       "Ce48jS3sG+DwV3ArNLDkyY8PVzSKdDcfkCD9tYv1ZGcVQsDrVapNq+4CnuQmAOziQMCYUgE9J7p7\n",
       "CMVafsP1fbsCnGoNme3yv9oXV/KuzT3hpAyiNewCdrZahzkQfMqP4rLXceP8GruuqmCYEin1u5k3\n",
       "BKlw/PJ47GcbAOcoMsW1nhvbjllqFFApqUMiKX/p4FxBTDDc/684YP+vH6LxtZs8eXOsAAAL80QB\n",
       "ZoyBhwAABP1BmiRsQz/+nhAF/vK6gD+GdveL0E3LIrhE/mWjKQzz3L6CxTvS0/wMjp0E0Mhao1f3\n",
       "MfMzhY4p3CQBwebGwmUat6tq1Pm0vhD+G8XNvWBQ02vNb/4gi+OKUC6DU2opu06yp5RlcuJncI8l\n",
       "TR2rqMOPK13u3HZV7FuanUoeWMpxkBcUsnp/Y8CBTM1Z7bWMEc6o31sskPbYXYngP12psm7NvSgU\n",
       "n9llMgGRFuwa8YZOwOSm/Xk7uF5OMRQ9zPvBrEJ39Bxb/gtgtOZWjLIUCLbblfvFMe4PDY8NleNN\n",
       "U/Mk15iMqth2FDaYQZ3872FWZgKvQWkeqdpAcmsQZfqhJ/yLmvJgU/rNHhTqx/VdcsjeiLWGx1bd\n",
       "ZaSbBrhYGkjagsRRpMtontnCOUg8evGSLHDvPDEkSk3DRTbaslFJ/Sra9+EDLoNIQ+q+aChiJUzM\n",
       "eCffI0pBgaMhBvLiLca8a7Wx1cW42q4T2jKsKPfVdTOWfQHezYNsEp44xUJxRpB5lP6tbHlH/byx\n",
       "LqvbHypUm0nFXI3NyGpESfl+A9uXlVJM9/BwYnKdwGnyMqDfUxm4MtSTR4JUAXPoopgB91FUpc/9\n",
       "C3uRlQ0WVLNgEamwBzFDOM4goxFGZDdp+p/NI+xvO9QK72Hu3exgN3PBu/UDk26eZRRCHSXdewre\n",
       "Brr7ZpJ2jvnPXuelOSrk6jkLykdQesc9xw72dvKvnijYG1AG9OZin+c2w+jsRQ85gAzq1rRT6p/W\n",
       "QrL+DRw6FFOim1q/TpVemfaNZi845ALnoUrFR3hepx+2vzSvCbVc6XRoobXAh44NTO9bYL1X7NrA\n",
       "8KUqhwaRQD1Ee2XTpe6MXL5kNEihc5Qwf3cxmnwD6DtKEU8VeixL11Whr4TCr9TtVhecqEwJnBYQ\n",
       "lSLt4jQzsEB7McW/tfmz7C0IPR/aiEPbb61L//lC0c9qmxyYniktGre8ccXKsPDqkYjHMPdRIkWK\n",
       "s8alLfEPEWfso1mGkz1YHJFrD68wwvboB2y60Fuoel0lVem/NvbEJRREPxRCvtFMbAr0a19kfR7i\n",
       "K5xt3qCerNM4E0DyHWqBCNjeSJJq5hptaAOuSU0GuoyNCFZXKcsjhJIaCPydYK5y9yhaHq0V6Qo8\n",
       "Z1TNEFJoC/QzpQwdQC53aLYLkYxhk7ld68tv8Iz/r1C2Jlafrx6rUuToJDgZr5gkfp/9P+XSayzZ\n",
       "1fYmQjb5dbT4K8hAL0erTDl/eR9fDwMwRYWx2OlMmg4JVclFLowP2rPQRS41TulP6hLf/+mnqfFk\n",
       "UI98LJqS8o1P0H4Z6h9excuYPwhLYle+gOUPGkPWObAouCK1EJEdjIucB76OhSRsJtKuDrDMY/WC\n",
       "GbNyOYqyIweseB7l+GAY9QnI6hxNf/Cd/uWJ6VTHsbplsI0/URuNtaA5m5mqd3cZQLz8ASBjxe3w\n",
       "4iD2bBNO+3hyAJnpVmP7A6osemqHIbfytLugvq+vkG0LO+XWXI94VazYPes4vBdbS0TNEIW3sbgx\n",
       "MwEU+kDiHgjfSv+5bSpetkIu7BO6fGiSH/L2M+UYKfQ7xLA/V0paastVrFuFFCjWRvbebR4KL6e0\n",
       "wIUWis+9K0RNA8vwY9DMDn4ZP+bxGLs5MUZ8dufigF4AqY8iUJ3YsSQjRaafSyz6hU+hblUrMOID\n",
       "8OFK80xc10R2gkO31ftJXI7Bl9ko1Gm4xRMB8De4JAAABDNBnkJ4hX8BJpCfj8P6mHAuTEx1uVHa\n",
       "AFlIrYw4lA0P/p+eOK21OnIyRoTVKRX4O+fqt20UvMZ2LQ2npzbpqr7GHA1BbJYz56fPdV7PCDCE\n",
       "0A+7rvuXVx2EcncvKUcnJQb9SkN366jDzGod35G7Iff1SgswaNOARQhEsQovt04R1ZXqI+yKYnMl\n",
       "Og7Ed+oqprp78kLkkF4wSjMSEUQaaYTUxv2Sw1Zehm1NFg53e/5bs5V9fW35LsRDkEf4J2stfUGB\n",
       "A2p/4h6Otdxju4FZEcZg8xGfPXEUxJzDkdZSu6tlyjcWPTGoNCjU3CMD2X4dIV5VbK8mrvf0yyLq\n",
       "K4g9I1qwEgaqt3Kt5ClGqYTZKYQnnbS4UoyxyK6XaawpYa8ioo3f9PejdkWzTWCjWllZAmIWI5VF\n",
       "RL+n1HmkYuCEWKWk9yyteFp5YlGFFOWPRCFeS2popFAxBMG6sZ0s2W8eTUj0FAdFyvyqS7xJck3r\n",
       "CgDD4xdOhaybqEKkked8A9i/6K6eb7zhkE038f0Qmiep40qw24OVfCPVrKCkxleamsUu/lGendjR\n",
       "RD32LCDuRJlTHiR9JaIBEWiwyFCnv2HK54kW7KFOWcK9qfKgX/DfGagi95x17ZaMKJrISgdPKnUq\n",
       "LtKHkHDqf22+Il3duSktJoWFfx7mSRDmfMjVlQ2GT/JthCOF6j+DahwFKlNf5rNWvVCpjqdiAC1A\n",
       "LVOQowG+vxHCZSv0R4vDp3CjFnkBlBKQwyiu2D73dRKUsD2eFT3lu1TQXx+XeL7/81VfV836ZHWu\n",
       "Oa4x9jX9ugfmQbjhVD71otdnRSiR26k83Q2gT7FDIhO2t/7qwp0Beq9LbUpAw9dmS0Nyf1CC838/\n",
       "EAcF3SQCDwEJtr+VKlgsGFcxWE/NO8x56kYzyxjpHs1TDsTpTcGx3Hl+Fzy7+7W5GSL7F6K4VcQB\n",
       "TnhCAYCtjIIrIDqmQrVwcsi6Nk6ddNLvYN2Z+BVfe4VuOgViTjks8miZ/CxWUDnTDNd1FO9wOGVF\n",
       "9YZ54nZu+lDF0zvveqCLBAjQg7gEGK/odwAnGkE9m0HV2M/TFH2dt6vTVzsXf7TCxArnK3cIgZde\n",
       "18RLIRMZkJPiDGzKBvbNam7S+jxomX7QMqNQac5QZc/lQ9aH5BzWH7zx2O89DiIunc/+ilEGbmnE\n",
       "AoUYWfJoPa57+qQaUk4YX0nFGf3LAPoBukUYKpMyr7btr5wKVihq28CR5MO0Hwq5ZalrCjSudtfX\n",
       "r/a0sQha2DSX3DQZX01WF3WA7HUrfJG+z4/2mMHMh9mhOA8TLrAtOlQ88fZp1QoQCnp74jNlsO1S\n",
       "0uanGafOVzjEKFGAi+6cfy6752qVMwdCjVqwm8SP3B6RYPLHsZFOfeaZ6MwrbznjsbbXVat6MDdj\n",
       "JRm8q5OPylfe5VBOVosWcIkVkh7p4W5JxOuBAAABWwGeYXRCfwF7RbBpYtu/gBNSOREyMBrhP1bm\n",
       "citfp0g/SkxicWrqur6/WQDqeiyMBmo/R8IZ5qnintMzrPuwaPOuUCHKs8Rh3r+n1TIYeA1p1gh2\n",
       "K0qRbmBiABVG6j6cjPT93F4bUEPlr8MZWwG2gn2lFDo8vLL2cu5q5LVNFK8yl07E/r/9l2c0gtlf\n",
       "ZD7JidN0pOmhQDT6CX77TxzYT4VBVSN0chOTQMmrZoZCrKv3WcbtGjTkJazjHA5gH8EZYWyjrgmB\n",
       "SfbxemIyJXaL4dP+DNxcDqiuVsYOOASLn3yhCKqeOwYL5wt+c5nsTE0kE94L0lxtfJiptyZRlJsH\n",
       "adVlmHPd5JTZLeVY3NvIfI1RUYtVxjeTypSiW27qA3zoWNMCtiCDbEZE+QDkQy5tI/ksgdVK08mh\n",
       "0NO1YA22xYXo2EqERnl1ksIUN5adkcNlal7X5+rRtr3UTrSoAAACBAGeY2pCfwDEOthZMgq1v09w\n",
       "AP56hJalEC8BE/FlehiwokmRzei5mRNtM0koEISs7uto8xkbsowswkTLn9EfidxkWrIOAYlqehqb\n",
       "pDj2g7J7S6I4CnTRsDpxOjwgFB6lY+qN7+HBPmyiw0fyyfPcxrrxUptodEAoT3PtFpU+xQMMszF+\n",
       "67syA5k9pzGLFgBr74PMWTMOOhWtvPoecqiucnAwYaOXrcRXjREnkAdENkh7z/qCtVVcdyzCd9zM\n",
       "DvfEoB/W8QkXKQtnx4PHvgx7+azs/PtHYtSeF95pXX8OyUGAy57n+hv1VyRXHnT/ymopRu9dagB/\n",
       "bj/V4fnOB2KOHmZ/5jaV2Ss74zSR6GksIAmTLOkDmCEVjtHrtmi4o5LNWAycS5srr1e0qk+vLfR8\n",
       "wb9aPXZJeaq5qemXQvnIgxajizJZOsiV6mB8COHwNe967d7qve4Fc+QtIarnpRO5IHyhF6fFnd4l\n",
       "JZHUF7BB9OdH3AFtWtE65fSH40nD1TNurTLuuYmlt2rb3HtPgDOeIDjX1nSQuDHlgEf5IcNfM+iy\n",
       "J2NUjS1DWSiJCij2hjt6KUsWktstaUnsRrd1aQRuzboI/ITZlYCVHLnm1Z3UKWrGB/H/haSq2sz2\n",
       "0EBkcgxEnlEaas1Iwn56+orrKxOBqQqhP0b3fJEevCvAa07fo+K2bsJfgQAAA21BmmZJqEFomUwU\n",
       "8M/+nhABWvd+t9KM4le17JbDtYf1HKigxJiL19tkAJ2zr3n0cO2ODbrakqfr/Swhimx1kei+Cjk3\n",
       "Dc3W5DgV/GgJWuHHOeQfzRV6xdpUDDfzhd4UgWMOxgYHTT0O3SOPAL8xq2uwNLFeBZii+dUsNuP6\n",
       "4NQiIW3qv1MTKCXFSMg/c2mgATjCbX7ao6vpeBuJ3kW9SEj8Pvqr++gK1Ow+W9uvdzfce3PY61h7\n",
       "Lf2C2HrUeDwJtyzV0up1rPAI95yzXhrjlx247BnlOvC8FmvS0lNDZ2aHwonsFFVKGxaAF4IwdmzI\n",
       "ePAtCC5ybvFJzf/3kUuDsnB6+fgSl0JnMGVhNcfqflRR088m7LY305KzBybH1ULVbJU51/xjX5Je\n",
       "E0Rhpcdrq5qs/jFpKbsjgLdLwIx6J9hgbNd7gF/A3pk4pWeixidPh+qpEbNRZ5OaBENnzSg/LpAL\n",
       "z3YI46hHpeYTD+0lWcIUwK23YiBq+iapRAS0sFETNVIYsOMzkuvr88ekkP4SErmG+gNpXsLOIyBU\n",
       "aeDC+ZN8SzJ3JuK5XLF5UDLdbcCajGKY7waoCH/VSczLAqVeKd1yNyeP+58ymNC9DXOkHT3hAW94\n",
       "IfmOqusW2TJ0uxOy+h3ejWtJQHxSPw0Nr02dNuftIij5nmQhek0QKK0KlfFo5GhCFeKhAn9l1MFL\n",
       "vdSbvJKXQSY4NIuOI0tMKBNiqZkso87DQZ9WBbvZ161HiAF47/WFbXRi/Tv8w/hT30qtjnO576RB\n",
       "A/MMxeOIp6EY6sHceqTZ0aVF7qsnrUbSjoEWz4g3+drXfITl1wkhTbgv6X6FXSOuai+wvDrlcM2c\n",
       "ISxI3F/bEDovCU4n1mo3/mg7WUeUlTKBxOLWNe3cQZw3KGPgZVB0+hJy/5e3S0Gl5JCe0GmtelUD\n",
       "xFIucta4VgGTWs+DeO58wNYGub56SYVvJPol2S2JIevyJFLrz3slvKnztB2yl2ILpMGMVhJMUYnw\n",
       "kivB4/4YTWWFbMwHu6Rr7JoBOKhx9diXoGQ6ZG5R6YEJA885EGyQyfR90opyqC5IY1UePo4hRJnt\n",
       "rF8IZxNdx71vozHoC35HgnJbPzVRYL6FD84K4HydCQsoxjxEK9WpMVFoBLB+iYh279luglPC2qqP\n",
       "kTJPMQDby53Qi/+BAAAC8wGehWpCfwDYXx59nO1WEthjMpBBwFWO13sDpABdRzAqLyfgMvlOTPRe\n",
       "hE9E37ioJD5XJlJo9E4dtUqpuagYt3nzb96UlkjeaiuKe+R1qLGQozFL/xZKiqLK/4ulM9tXSUpk\n",
       "XaeJ19F7qHD2AFyDNV9n4CLDJUidJMr1q/uJsqWsGL4R0q4aUCUMcSuOUHPGsKNAjtgW310c/Mcm\n",
       "iVoscsOLHlPU/fpA29TArgDXbNcRgwCn69vU2pL/hZNA0su2s5cZvTiVPDKSH+0WXi1DPukl2xyp\n",
       "KmfxMJOv4widqH5R2MaZYrnVKBELn3C56qsB0b47vf78n+0MCiY+zQV8W8qysr+/RG5h/7tBz8DG\n",
       "Zsilohss3SCcAkBrZgBfuP0/Tn6lBpof0VmSzlIvJ/Kq9wvtmxvdkLx3XDp8KAWaSDobTCsxjA9I\n",
       "xj47eBNjPNHk3R3ibPJ4s9a1WlXi7GQL3ZS/8HmBmf2UQ9jRFJSxmxDEZydBDFuSZJqCjU9e3vcM\n",
       "TBodTWIEKkRPrgNdzDcyYqA0hM/Lk29QuZliWV1z9hw8LG4Pez8+irHlj6THsDsYbmvqo7SqJ8MP\n",
       "bUzq+SsbITfeRGtVIFebzugpdUOSSHePGVu+PumEUaGj8bm1rCbEmDfonGzvxTIyzUJFwfkzRXiq\n",
       "Ueehk0SZEme/DnwAdFBPlFDp6JzylnaNA4va0rdRFuT0i2dhCFplHCgVfXOk3IIoCON4UUvG90Nc\n",
       "4pemTFXQy6cEJIUuy/lqgi4q14HLav0H/ahvEdxMgpyzRivEBQ6oEJ0Sufaz/3TOSb907A3l7ydz\n",
       "PiaR+INihx/krQi4CkBJ/VGWW1Kv7g6cdktVLdbrc9D0JnXvCymPo70qEjar0kKI0GcI5HGbHoCx\n",
       "+yaHJICVoqcUbYAsNZRDHPjTZNz9AySnRbGQIIzJJSslMKRsdcuc3Yik/SJ8tyQtFDnZtwb5eRkR\n",
       "kC0sBzshfiT2tJMwApg4c2EPRoXkjFvoDaFZdhbBAAADg0Gah0nhClJlMCGf/p4QAFj936wN1XJ4\n",
       "2JG7+8ke84HQAVCzHkbXByx/mJGHMiNKfQzdZW0USm2t+Jar9HnyWOWh6QkdNB25ZqJHHfngq5kQ\n",
       "W0tPOHBmE4HOqPAY6jlelaJhAnamWOCz/Xy3yOjfQ/TcvL3Md5QjqIA8FAH71JY73KBaL462nhK3\n",
       "oIB9Nk1jcbHwN7/9o9i8wr6K3pROQddiH4wdNR+knKxfz+SyL/8M+LN6gNDm9mvE/5KENyrlL1GQ\n",
       "e16onaR54KqR5ffn6kzTpWlbN8h6O5PiNH4TaCqqsWfqqb5W75mO6PEQLl/1ys48hHtNKxWPOO+A\n",
       "KUkqhMztrwgnDFw5HX5oYjHznZbA5udxHurV82AyYI2bv39dx4FJFj50TZVnp9AKHNlj6Sbwaqjy\n",
       "ENN0chNWEyMMNoGB0JBBKD639cQPuCTJSo+iQ2glcrHKbIZiW0N65XGQCwsXRzinHDosyoAjAt+W\n",
       "438M5+FnXfMLqVyWXBylBkjlCW0pfgSRWHG4rxY2+Ur5H77M3VoQ+Kdl5ybWU5wvA8VwC/0HJhjG\n",
       "fx0EKD6jTkgXgUZrbdhXCzxjw4Ow95bnYLPTDaOVKW2dJ3ViG5/nX56/1Z9foVao+ZXnuN+tnCEa\n",
       "vmeEF2m817mNxU2WTZte9BfeIECS9eYtJ+t8VtRE+sJQaTWjkNQQ50ocBfhrl88VgI3KKb+6SZq9\n",
       "EsK4W/sQIsdQVMhDdh1eB0q07x1OU+XNOJMYDZr/gC9jU8VujGVm8N6YMo8jEwlRBw86uh7/upYe\n",
       "WgT/PZBn9HDMx5GYxCUJXAT57qCQNpl+Z9GQyZgUpVFbhUFwu17OjsHrBfEaLJbaw69g3+JgvMUl\n",
       "kYp5yZ6SYV62DNUuwIv/+/R4a5ZUZhW2z65U8EHogSqfO5WS1FZ/ooHoBZJPxxSmUn3Hrqm2BsBt\n",
       "av3NrXaJMJHpmoXzKZY6Y2l04kzOYd4ZOADopeQ7ChrjT2zlg8pCh42bgqhLLLfAfypcXSWRBPXN\n",
       "W8GTEe+FAAva1cGa9/IT3n/bqC/mFXuuHeLeG3aBQk0YMtvo/8JdLPgcCs9w7Z+Cduv/jEay60ri\n",
       "Ywv8X/zqRMhvy/C1mx1663Uxh93hiNwdbvUqvZ18BTAbMIGvbZ5kYXb8pY6lBoK+LzfATTz02+cp\n",
       "KGW24FJoGdhy0FTMcOzWpm/4/3/hAAAD0EGaqEnhDomUwIZ//p4QAC5uxfQaM76MAF8Y5Fly54ZA\n",
       "HicuzZIM73RACRFC2eaSF7KyY+s5MgA8MvpnAbdksR/w1rdUIN0avC/Sq77upnVtu/R8EKKXpiuZ\n",
       "TrPQl3VX7CD0l98fjsFrj4kbWUoKP5lP6rdk84aclovD70fEYwlpgjxsGLA3ZNNqf+pHrkGy8Bln\n",
       "QV0YT473qk0s0Yxc/D2OarGuHF3r29wiJyAnSkdurA2xYDUqfcEfQ+hc/jhgWzzJpBBjpGHByGPv\n",
       "Us+AB0rUTqmfq28Q/BS4QxWaoYFL1tWcGf+WgWi/USjg3KXfvgvGq/xRw9EYR5+AtQPzL3Ok8pHA\n",
       "PiK0XLSor6w7zGZBBiNVA8Q4aiQjhhgNNcC1iim4qnr1LDvVrAgxn+z6uk21RLlax0V33jMVmo9v\n",
       "lHReOUSuAdTqxLgCbtbuNF5wkuv0md3jniOVJhp8M/9/e7exoD7WuIrcZPkcx+etpHvL/SVtU0sz\n",
       "SwXVTXWy1evVrno/6y99/Hfisacx6eQFyRTvZx62YikEh90ZUCVP0R+ZqDhigvlmU+5JreNrXP61\n",
       "eLWEZeD2TsdBwLrCgosfgYrY9V1q+mB5+mQoj/ekYilj3KInI18XdttFqawAcq7dy+cvTb+yjlGN\n",
       "25Mi7Qmm740CQPeKTL5E02K7cASAHyHD2QK2jlTkpNxnkxFk/r5UNNQlO9lcmtelUQ+HpILu7GD8\n",
       "Y2OR+1H0+4PzTykD9MzrKbSd9OM88lXvwXHdaUCu8m9EBfWAKd9+rnzIr8gmUyrBu1Lx18E7lH13\n",
       "2ExAeqYabBNv742bNdtNTvQWDFWQycKFmqR3Qy7rWQWoxmtfApK3xbwiopixDtc6BILjval9tZMt\n",
       "4+SAOoyzYneURG9N85AQzynVgdQqJBDOgTmgS3vWZcQpTL3IxnZq2N0eGp44jBBBtyFQY7vAYMAs\n",
       "yH5Xs8yWfm8c0OUK54pg3iCf754QgL2OUzHfSOwMwrqEA6dwSGN518sJBeWTAlcM4f76UENR9G74\n",
       "8BFRn64KS6qASSKnpIQs0SucRhUamrzWBwK24zZUBVB50+ppqB/cjSM1RB+fmTc8L619YQj+E2QP\n",
       "JeA8gLd91dFjV+YHd0AFmUc1rRKGgCwIHt4+SV4DYEe4XxnHHdPctfdAl8BCd+mI8wF7l43QLG1l\n",
       "QFP7vnvDmF3I4+lJLOqJhuylEQK8r6t7HlVvGhyRgiH9MN1nLi9EbXCtoyMhVy+vYgKn8wtstYMt\n",
       "6yJ6q/A82Ta/ssCHqJ4WYO0d8cIhfXnWiCxHLL1hwb0AAAP5QZrJSeEPJlMCG//+p4QAC/CaQr75\n",
       "QAOu5UFIRUr8sHUtwejBLmah0sX8P+qSf6lxMENAKlqg2HVK9+d1/lQ0gWVUqRmMK/CYbYfTv+UQ\n",
       "GHGFmxkdGnHxP+He96r+FCt+2qBvg0MYI+/sTMFvVj9Dv9BHvnJMuUXBUymrXagOGihbLluwtxtb\n",
       "w/CuCdbuwhITrG7tuiKeemdO/xld2/HvkY1lmQCEdIS2Q+4IKWBaeOlvpYbqWjL5I+AjNULLlOGq\n",
       "uqPiLo0tO0JnyRNxIZL3uDlV63y57oOF0SsP5W3Oxeidi3prmPNr6pCDU3PC2KfS7O3FeVUpPZEU\n",
       "zqGUjWd/ArYl2J5ahXt4NI5JxknF9z/UvXIJ+mC7XkBNgnZj53sXKiKr5sXya7VU84fN7VRtRXem\n",
       "gaJlDirVSyzSMKzN8PPDQwzVuKSW3nEohhOzvIin4csbnlCbAL57kX/bOZbHqKa9Yd1wOn5b1bdV\n",
       "xxiOLWapJlQZe0oMbRgMrJ/CUIw2fzfr1ylDM3PPHUHORw704kgoSHwUt8uG6dpepy/HUeCXlsY/\n",
       "FITx3oNzfihbfYCPuUNcnhwlYnXGR1rk8E55jvmx5weVrBnYgF/85as5OnTzWBgrdpzXQkvxOvkm\n",
       "VS+I9Z6U+GWj2e4wY3jvqCEyq1l+IqbDZnAaqG1DqIEMQGl+lVqOTy13a8RPSnU6HKaWG4pdUvIl\n",
       "Imm5UgC453+oFPR8vLM/WUVSjkwBs9XPODMK2sDrNjHTq7+WqyQP3H9RtQezEOq6E+7BD7ZxLu3J\n",
       "kLOubzPU4i8aJ/QveEcpSsLHUVMzl2QM8lo4DWl0Pk3+J5sUFQ5AoTAobHlNfRdb0lAUqnPkPJwl\n",
       "6Evtznk+wUWXTI0TIoBjTvMp2V7W7wbIhqNJdb3HL624gn+j3cfeen+tr3ZQwwjzQh7n9XVSVIGu\n",
       "jMPz8ilSR8QdVftgH4JSA7iRgX4kJRgR+UcUE7/RcD6EYzPsy14+UczKAB+Pwi2Z88jPknSuDygc\n",
       "59r/8C4rCZ6vHl/WnkeJbaZ5jsqHWFrH082ctvGBVY2mN1QvVE+mp/iK197tzDbmKSC9nDyKhydm\n",
       "S2X0BXz6on9oWxFfbh2x+9DL97x1rBng3DX1/a37K+BEAAWyYA1SyaebCUaFNas2sN6TRImMgj8M\n",
       "xtfj5oO/qsnsFNDlrwiM+CzBz0O4uG23k6VzFv8yWX+8K84K4mIO2S62SM2BCb/biAB6AQTYhqeS\n",
       "gJvVR8TTa+AcVyXFHs3QzuSe3kn4OYlZVH5t2qb3XZmGQG6Ajneb8Pg4DtVEQQCa1c3PX8rDmZDU\n",
       "rmNp3m+VQtSPkeLlukwStEgnjujChVhuhp4wAAAC60Ga7UnhDyZTAhn//p4QAC5utd5WJdmAD7mg\n",
       "5KwcXW/JjIcYW60TfTVZqCwOqKNPbytuDn2SwKMr+zYvj+sx8u3f4btq0OuT21nr4w5gau3KCfty\n",
       "+I/dl+xPPsdb/2YGgwMtN5YPFE5LXmR7YxKCrSLoUgjs2eYUzzP+Qein9KRcLGsnjEznEBYP8dOj\n",
       "oL/bxCWs0bucD+dLHsm+h17da7uhHkp3Ri6IcyCnx2VNqGFlEPKtbyYKsR/arMUfRdhiQQrOvRr2\n",
       "OMJIXhbkSqV2wPffrIbVqMkMPW/Mg9QDtg/Ng3ckGggRgd0vHbaTyfN0ohH4KeHXbevriyl9mePo\n",
       "uAbp9GO45kErr0TSnXyPUiUKSg/NLDg7R0D5SXya2UZgSeSKl250chiZeECljD0VF8p9VVkqQYYH\n",
       "TnFMQtkHQ+wFWCQ7ZPsnMRSyM/A2re9Qew4+689kHfKfPtgDNnw7vzp66vfNTlbbn/hl3Ap9scjb\n",
       "H6QG+2IIzET9VHLnw5i8whh2l5ZIytsx1MXKAF7CZ80Vrjw4X//iDN9bBNZPiRaKt+qrChtyjtXz\n",
       "oxjyk+4e191DgYvwyYU8mIyzizNkl/ehl1ZMRqDq5PQVsinhzLEf2WUZauOlCaYGoq7R4D3mBgRz\n",
       "Zk5j8wPws58zo0etoIsiwcQ0zZkHEVUqGS7aR0YnWcgwPYkPQFYgDa7a4koNQXdn6rCUk5Vu6R5E\n",
       "eJsluINjMNL8m47TmVKDBMUtH5Os9f1uuSbF+zY2zs5EmL2u5MZCcajGqvbeH5tCRCwpV9IcNfbn\n",
       "mbBEE/2GxHs9VLzUB1pCUr6nhZiatlDnbpgC3r/r0u+v1sn1kYDiNCUO9m8WpppPJ0ufA8OzxHpO\n",
       "1iMJ/5AFlFc/ANtLUcZoEMGoTl8A4sDgTZwV2bnibU/zILgiH+W0pR/+Hb4TlpFeP+l+0LgrNm6u\n",
       "Ij3vZaB6Bi+uMkYokEcMfP7P8y1LhgdoUyk914ddBc0LscOm4QAAAZ1BnwtFETwr/wCJLJeoUgGQ\n",
       "soAXBMCGb4O+TwyI8OVu4WfMB2eJGPTyUZ+SXVMAdU9dJzEXzfgpzt2XIwTa9h1dNTUwjmHumVLm\n",
       "pRxhA9xQAipjy1ob5dmrTIVlLtSsfpAAcc2vrPwvO/YBQm2JiS+/4fniiYsF1sGr4KsJYEA0jug6\n",
       "TFZu4kbkhHoX+VHAYP4Hhxkn9920sG2o1SxgVc0v9LO7Gu2KumsvHw2cbSa6PT3ohHKNUqjd5WIf\n",
       "gbSI462h+meS2eOeJIrskWsTV8LpwwgKgdMzIMCnE46WN8vEMSPGj8LHD2B3w3VsFImZHzJATToM\n",
       "haei7Gic6qnGp3AtG+o4oornKAJwsmb5xAdINt1URJOWC+5906zoknljwCZt4TDyRq9PsHM/gQDu\n",
       "gJHyhjKtCB5kj1V7kncaUZ6O6YOd7Dg0hVcn1+JoGMx9APouG0au4LAdBI9+Pfy6wMjIajJ9ZEON\n",
       "5131JH1mBpiaEjpn///F+9TTYAfol+JI0D0SUsiRxh1VKBCFHtcgEdIyKRafUOAFc/hkud+5WAAA\n",
       "AbEBnyp0Qn8AtaMnC0v8FoRfMQSR/1WzEIdw5B5TPENzOKg658d5DcBvS3CACdYFJSmAZu13ukQ7\n",
       "cDU6vQzfgGccGMWOIl//Hzx6vRTW5fYprSjuLCpMobq0qnSK/DPnG+a2ovZiP8bBS1c0h3bhK20y\n",
       "NHszo/k2mKPjkbqzGhlMuyEopAhDxmF0A6qkHTwiPxQ25AHrFWJzqC8h8BesjyGgCejt5oPJb3um\n",
       "3kKLNvkucd9oASd1T+O0zpnvlhqAuaVD+sfbUlxRM04Y3wOsHf0U704zLwm8ubwVa1pyblTiXL4O\n",
       "7WgKpSfOzn+Pf/Ys3MhCdN3tn0VuxkOzputXyECpnK1CDfLfgS7bvO55LX6lV/nEf3Fp1z8ttSnP\n",
       "ef3QqtB8geHO2ua88WyD0BJBVZTWUJwELVE7Zugy9jNaGoSen23pmLP4tzm0w3aLxOs/Ez4Y7l4C\n",
       "NcucSaZO6XiS0WuuGgYIEOKvV1tBNt0cso2shlVKS2rVQDgHMtJLGQvT++q9FhC91QUv1oJ8BF7L\n",
       "oiVDjD1gij0veLPayEVC0juZhv9TfEjOErWj0szw6d+R+y9kAAAAtAGfLGpCfwC13AKac7Byejex\n",
       "ccYHuAvSIAP6zcXMICfvVz+woOceAAB5HyO3uhKgpoD1PSjCvAX9PO4X4PEXQKgU/Kb+FlpEE6Dc\n",
       "RDTBaQClr0vhP43EzsSZnx3BzBSOl74gMAFIIeKW1nNs9ycCJGDJ6fA++XSmkHgdzp4HaLCC/dLN\n",
       "7R4Aexh/lE9Ph7VsinS44r9e7ILWRVpC0USC19B4evaJQOVdwxJHNuGwr/fGm+5QmwAAAcNBmy5J\n",
       "qEFomUwIZ//+nhAALm65xFc+wAHNuYgTnUK79Mca71u9DmWItNzmWlXB7l/TASk9NDRppVHsGF0R\n",
       "hXdBtmt3iM69aWPmQYcRUxNSWzm7zQq6G0etHbuTZWrSBIUh8FoQC+Ihad0A3GRv3hPJzd/GGRb9\n",
       "iMa1DUBm2AFic5spJzUlBEjprQRjkHXEe/LcXLaVFkiN7q+hiW5USAarpdhsV1otZgLQTpTGzzde\n",
       "y8wEr2kRxA3WICy5X1zWdzWmmDvjQ89Bf7CXH3eG2OblnYcM2rLpk+m03n/0JwVajXVm6WO1dce7\n",
       "5HHl1TRIgzaF5WqNA3CrNKLkhERtC8e2UgjzYOmf+ZDE5N+H0XyJPf55VGL3z9gPRtmc//kutuD3\n",
       "ot4JT5lybcamfvBikzdfe2lI0JVQaUtsJaiClkeOAZdNg+IsM/HVf9Dc92nj+sKzxTIrynORMnfl\n",
       "R+e+WAfIxwyiR8kLKWNiDOsNCim/RWPHq1f43J0W4altIH4hDpVA5b3iPyPcIWsX6JyNgkf7EHXk\n",
       "THrPks+iwTBPtjNbmCaTL4y1hJmoHmt9JwhuWpC6oV63dJS7/rrLDPnFcGcF85+nAAAECEGbUUnh\n",
       "ClJlMCF//oywAC7M66h5msUIAM8xHkE11t9Rq5+Qex+b+Jo+KLosDlozGPhjQAVo7H0M4ukuetxu\n",
       "E5OwxjC0NClDfRbomt0enQMvqqqReYdLd9wmoN9VKK7a3hRD/wEd6RM631MH993zBns5H+T62Hsv\n",
       "vXyWnMstTUABbul/BZI6Hn7eDo/+zRVOgGIN/lQ365gygwfVFNaW/8KTKatTx8aY/dH+cQk8S9Vg\n",
       "bAH+eqK+8wrgxAWQd5j/nXJUmMOZGFNQBhCyezfH5JRjXSa2Fd+7MLBKZGH4CagWq/VFaCaGG8t2\n",
       "0B135vSJgSv6RHrmdf7HsnFQsHU1bJknKtxqFT/Xf9woHEAyiJ8aaXgm2tjkmDI+9ANOABSv8oxS\n",
       "NivBRVfESzFwmLA3IaonjjISHCFYDCGUbFAyFy9YnyjAaJl4jsmC59ZhxCZALdagueSDSY8V9lQN\n",
       "QsLOSWbkmHzG1znBsPc94fBIcljKkbtllfC8WFyiFemSPs+fB6RPAF0vMauOKf79GfJEEgVU9wcZ\n",
       "vtJTURkKuYcBrAemGEGKWa87wn+9Afz0Ip60OQlGLw+nSc0LUpbyKlTozbov41GMwhrjTy1Zq87B\n",
       "vSnRZTieUvMLkk4rEa/p1zTKVdEyQ3bHE/IdSTTFBtJFnUMPMbQ6J70Hkv8EeDMsYnCk3YIsJR5f\n",
       "VmuQ1I2qYbzTB+VzyI42Me0J7MngGhJ9LOYErySDScizN+BK0orgFj+NaPx5QBxaCEXcKInT4WQm\n",
       "JeSxfD68qKQ3i8/z0UcOdus4jxKYhvw4mj49mHEwUJsEza9eMvAen5NTeCksvhLomnVxHWbJb9bB\n",
       "IxNaEqRvGuhug6ijj/OwjboMgql3gcx2NCepy5BukJZ3LzgCbHqKWuFR7GrRheP7rNxOoRJ/1f3p\n",
       "qQZwVfZeRvS23enCjmrXZyIwR9JRBMVpzrqv7LvPnWMzfpHU64meRpGyY2MM8xio+EWzAbYouMcc\n",
       "eWFVufGuRmn9ywmDzgu8kfdKixTsiSNY6BfSMciAxNdkIHXHm9wd5qa8h1vdIIhhDm8CISTLVWLm\n",
       "+9NecrVtYeC0ZIGBwCPFP1bK8ljQm3lcNTtf4J5QmrErIEOWMtp+bkYBDrsj9nA+ESRcKVRdHnfM\n",
       "1y2N/4kMGgOwVzSIVzkSt2mAnTc1TX/K9eneWwbvQIVMAKc6ioA5gJf+//0exW5+xRGVl2pFJRVA\n",
       "3tykOXxxyvhK9B9S8/gr286dr6//+UTzwMHwyINmEx3lm0VBlHhdtQQLfhm2KqMQO5DCUJT2F2ES\n",
       "X6VHepBoDTAfYUGJvKClij7CZ1fp1eU2ejOqHPYJ6TbxesCvMG01haofnGHvdn4HZNtr3eOjcTLi\n",
       "JwAAAe9Bn29FNEwr/wCK+sbBr0Dha7KKXbjSACDZneh0kg1/kpeea+9dpFxeWowAnu9mNA6Yzjnl\n",
       "+WERsjJb/QmvAv6+Q0wRh8gFlDRfqsJPkUHEiRcfAtsyDl+Iib/rqDNrBB1Cp+MEkD5FfjDSXmaU\n",
       "o165g/fbbSMo0ZH1FntlyOKab71+n9/ULM36K1/lxLVSb2n/xdE+jNHsxArNYv4J08I1cOkVndzM\n",
       "xjHHpxT3ArSftVnAenTHInlfXocoXooDSnWo0HSi1ub0HT36Xd8Py1EbaGCTHxMhpMX6C+JY1D1H\n",
       "HC5rBTtkiyIWtg4895h4ubIdOxo49EuGDj71zquxtLinBimpJw5SgyYsMRpwSD+imRB1tfiW/kos\n",
       "jAFbYjVLBWoX/257LWu2gPRlaqiaE5B5qHKgylsXyAnyv48I+nBqefGYweHu0d4j+24wUWJ3BFNy\n",
       "0JERd6Ux9upVkrowACWbLZdfZmNd0RftNVsa64o8DjH1z1uTthbtNZxpqhpi1QoA72IF+kdn38YH\n",
       "0ID0ZNZ7pFRhUlNHmjxnlrhKhTQtIdVFaU6oZnTBdGO4xT6pv8e08AKozpgFb+sxz7igjyCztRfH\n",
       "7YkXh5/+XkkX//+XEeGkupZwK3l4k466UnDSgHIWEAfRMYixyU9Y7ZlsS/AAAAGNAZ+QakJ/ALXc\n",
       "ApZItrP3skboAGteWoMJKIyxolSmC7u3Jr/Gqe/FzADkRDUYXxXWEgTZWbv0m+6hlYScowf5rgNX\n",
       "4bYE1qwqt9tlVAZGT8aGnxRF1ZvoqV/zgPAo6Dj32RjfFBX+GSLP9ml0fthb8Admi+oO5baA3nod\n",
       "Zz1vLg2jTVpulQseo7FkQVtG0GUYQ1g9TgoxS5bfqYSwRbmbEvKCNLAJSrZnfcoElisqDnz3EzpL\n",
       "tLhw/BAK7iPp4UJTw7GRQyT/0+0Qli5vGpGc3kGZNB6Xvlw2eeii4+PtPidD47/rdXnfaf2zBF9O\n",
       "2GM6FKKQak/NK9pfL9Q/wtIXKXD3gNeN1fJByqC1XtT4S2JyxQG8xKWw7qWPUsvOs6jMFYcHXv7c\n",
       "4zRZ1eN6Op0LCLcPBtKRl3PF9HjpzXUi6WDaAsxDerJHYRvpWbjpFC9m/m4v70INGHsRXM0pG4YE\n",
       "3tzcTp3tLr9EFMADAIx8Zecwyv0kT7Vy2lUU0XvkkUAud6fcSuCzd82UmCmTSgAAAixBm5JJqEFo\n",
       "mUwIX//+jLAALszUIRti1AAQjrHFZO1CmqXLM8J2V7zaFJEnQRA9+OS2k+HrMT18d000wACSMryi\n",
       "+3BpRgVUWFZC+ZQ6WZc9EO80f7VbMmFe6y9U5Iw2Wto4Q1nfdrFxfHK0FtI+lcK6gC7M5w568iN4\n",
       "ie25Ga+ZgAcdrdEZ+dItXixDkcKMMhJGqHV+bS82RBhBdxIEVyhghF5JUF3PV7B3zZDOr2aFSMQW\n",
       "butEBnhmvFJLFHTZDmukxHusGw4ic51cZ4Z95ZD4Jh1UTNqP4PqsSLKSeloUOsNJqeDFzBDOnec6\n",
       "33PFEbNT7xyEh84due6KqD+5R8yvtixM2a/q5aUvECEISQY4fCOQI1OlVmRl8qdcLYgUeRqkYXtT\n",
       "4mpdLEBFYiVWrxIpyhb8K/3VPPYcrlAJZRm71/bA2/ZoB+aBWQkpXtn4rPHbG1GDP+wIUQz5cKuF\n",
       "fQZWb6ZSj5R2a/sKk/Qbi++ytYeo8NfRGC69p87WRKzdnDKr0vGhcYSXP5ybVqEUBaknvgA/H6x2\n",
       "3s9+6FLxLC1umvSzj1XaAb8f0nO7B17Em3nkiTG/I47w2UGdntUtkpqMxtRzyPFF2VYd9fu4dFuE\n",
       "wTXfA5B5KQAJWUv415dmndlyX3puzy5QzsenZI5m6ezJiUsBS++6OWPA6jhoZ1iUvBwhnx9PZ/Pm\n",
       "Ybd6iQkh+kcpRkM84T4wvklMisHhNk/nF4YJlAnsB/MpjfNBAAACNkGbs0nhClJlMCF//oywAC7M\n",
       "1P02hdBwAhMgVlutUV7Tq/nlX7WrKGrFmd6bLMh2JQ729DTHtgcM88/opvHD8fw4FC4huRNe6iqw\n",
       "MUp+r4bwXHCYmDJPndxV3VmT60wsvwBvchLaOwe8U+Y/sH3+6KCHUAOezMztqoHMgeO+vox/Gqyw\n",
       "IB579PjeMvw7I95z0t6YBgcEdopKv4kBv2vKqexd0yPTlnWcJ60GiDyo+n+33zIKAI4AIm0LvBiD\n",
       "nd91MfQF20jT75YbdToUKM32CBeRnPaPte6pkfAL51FQjMbRNbDPbEyWHLzwBLkdMGAeH6AYZtrV\n",
       "t3OgWeBJHr2BHVBVGWUMt7CuiFVvzVxl00EP9LocY+LrKI8V606x1Ghgar66etuVNlv8rGCX144Z\n",
       "EVpbnIBm7vE4ext+HknQMGe3k0aA8Tas8iG/+yQTL04T3i+6qc2FDP4SvpnowdRe2p8KkMM4/z+k\n",
       "LswCgv9MdzWw4cxPmv5FkOQvFFjZWljsV+uxeg9+VD/QhLJuz2tJ4i0y15UsN+ezGkv+SrrbTmGs\n",
       "8fvXQdqF0ddqKGCpQ5ZDiQIscn8UvCif9U1VylmqUzPFpaYuckYHma8t6VlM0WWk7SOoLyIa7Tqy\n",
       "SrG4k3zc2RUTRRGuzrNuicQy/GfDG01DwVkhhJvRNdbBQjhTFpksy2GiY4RmnM4OLxIh5zjtjFGO\n",
       "hcTrW6HrhjWshoTuLfIDzZiNeL5x5mbW2zytbY+cRA/BKrLwAAACJEGb1EnhDomUwIX//oywAFv5\n",
       "lzMQV49f0mTl8/QSO0w8GQABtR3heTSNpE3pRpUhWSg9msfLXflV0X39lyh1+TuxpwB2DcsoNOYj\n",
       "IgC0faV5uEXdtB2lhGcXQvyYcrvZK0chzWFEV8ek+12qqJB5YMIonh9jjScbsiN92Quppx567brI\n",
       "bb7OHDUsH1xYsmzU3bB/G/bdnTfX9hY8xiH3bz4n6GXi53oCy8dZ94b8iB0qINzdxnGwxvJThDVr\n",
       "DaGad2nzFZ7N4AT0+izggWPbt+e2utAswR7wH4BWsZT1BsnOZd0RzB4tlIUMCxjeAradXnEy92gw\n",
       "mgZ1w7XSnPFI9rxYUDJ+UZe//40Qb1lZSaC/qx9Qamc7GLtR1QtICar7G0By2lWCjIDuGtntKMNb\n",
       "e9kY7CY3m6vKkeo04DawtpuZy9FM7dOQqtRnhfJz7Cz3GJW7VXqg/8VN9PRGf7jtxukCfiekqSAU\n",
       "jonFgCNqbqsWGAJq3VaFO1A1k3ZEJnZ7Qy2EfuVQ6Qv+P5TYNz1wm9bjhf4L+RM1ozISFkbqO48l\n",
       "AWJxZOjyCg5QeVZshu+5ogSteyWKoX+zedNlxOBjlkNgNWcdVDWz6x7tF17KrDV1qBjBvIUT3odC\n",
       "fuIahU1nDp5PrBVm1U2iyB/Ot5NBW01I5DNmwK65wgjinci33dgSTp8rb30VFfQE+Eb6Lm0xPg2O\n",
       "jJDXe8IBeHZj5NJGDF/rrV+gAAACakGb9UnhDyZTAhf//oywAFtwejRQPhlXTvbuEABOo9g6XuDI\n",
       "zS+nAoeVgYtpwHBuKwPTA9OM6udXLBRQLhvWmTfk7kkts6c3sBfDccI2cSNcuZIiYttooUhJvqVt\n",
       "dNxybASS7TTjzFSod/QPQ9sF+6ASAxJjmj6pZz04pCZiaejNhD2K+ce94iJ7JUCwU/HcG8y8e1K6\n",
       "21JrYp2jkBpIqFwZRbaOB0cJkFi6wGwQ5bq0PXiw7hQ7Hx4xaU4tiXu2PfZtkuf9DpqzZID6SowL\n",
       "b6HU5p2nKKFEkHd6AZ18Tu7ykcj2jw5J/fhC3gTJXYl+iI5rLB5OVJblPzhQtpMLtlyZbgpRXMPR\n",
       "egqL4V1/xyu6fG8nGLzJ3hYkyvyZd3EJnSRYTvdUSrtplZQ2fs6spdhDo0O2OgABchZ1JlOpb4Ra\n",
       "7ac4hcJpCqnW4K2g8j/OKMx9dctCnZOVRwBnzqZsstvys/L6GULGMms8GyQJ7piuyty1CQ2DEInZ\n",
       "MUnV5wlG9kIES7JSoa2dIUnKGzqyDa1ih0FGfMCVsp7IYASNDMr0zhcLbnNap2i5pCYOiAA028ST\n",
       "y/VI4nlRpgYq/0TS1rvpcdgb1RoaMKLSlmom3gEdl9YlaWdMs3pvKVTg2H64DAt0s1WhMIx6TEvq\n",
       "IL98u9P3IjCPDeUSfRY1rgM5bR0wXXc1CC2e6A2h+/UXPN6KTOxUFks7Sr0CCsPqbC2wxbn3XUFf\n",
       "Ncta05Hw8ulTvYfDZrstFtXiEc2gLJhuive+2tgBEb0QLoZR8QzxWm0itKoH35zdlcA+f2HYb0st\n",
       "C0Ytzf3wUiVeqSndYQAAAlhBmhZJ4Q8mUwIX//6MsACu74+BrEhF+pQlvYj4HMPO3OagkQ8FLkjB\n",
       "pRI5XIyeocK9GhfA15KZuq4Mp/zew57ec+g8fFcrBu/04imXzwvw6G1OzCCyImp/AM21uFm7vmAX\n",
       "UU3f6gTekuoSLEAV/wJWq/W7NwWKE7hrBuP8qLYJbK1ajlDAlFDcKX90Nanwv+I4476KqK0Z3R7F\n",
       "pv5SMBMTAkmA2vBW4iEhXlKM1Oevq3ARat1IB4orWd/+kAhdHmXmpyvtQ+PRLqWQC/pTsDIypUjB\n",
       "s7fKmoxpwZp5FzwYKYo5EbPfZjsCmIOh2lnuwP2aN511fbzaohCQ8sgV1KibAug0KnYK4k7mJdoZ\n",
       "Cvv+qUBJO7PZyRCYz8rr4uuqzU6silt4SQ8QjldQFJGOG109ADuIncjg3D8ZMPc/lsTWYj4lmgi0\n",
       "DNnKUs0HLT8kQCTM5GBNs93YmPlSXKZJJmSZBMpTRgwDfZ8NjP4jKTyWTB+Hs2AYaTtoZRk0yDIo\n",
       "+vWDXGdcXNDsj9+q8m39Nu8h2FxJbSnfdBqiS8aB0bz7bAWAtVtUZLWG9KaGop/GECkZb5L78wo2\n",
       "B2XB75ojoD0vjye5DoqxLrOi7vgm8gZwgQPEeqCnJF6V2n+Q/pgp41TlY1LoZvt8+SKgJ9D7rgCG\n",
       "VquNyxIpsHZZetw9atRxk3OVKUFBQQVSivs+3TePwgTpCX1qDNomnWO9LpSIZIP6c0UgBXindWXB\n",
       "PD5I+RJlrUot4k8UmZ8RK0gzjd8rJyuF5yzvi87Cx2YwddUfjnX2JTbS9KRzP4AAAAIdQZo3SeEP\n",
       "JlMCF//+jLABU2F1LIn7q/4ie/OAC6gOnd/pyl21luy+FpjLmQals2cYpNWv50lbkpqnpUCfzhJN\n",
       "XMO+7NAAiMO2Kz5q7gHg6ZbK6sXz/pnVmW16ch1Bm8mdAnL9VGK6VTWTLBHCsVAPx00D2lbaJTiM\n",
       "t0VvNLAAJImv/xTlM3FieYTrCN68RKu6lWGkFUBVzYc+hRoK9eYqzeZToYcJ7EHVxeuQPCKRGfiX\n",
       "b/Kt+i0WHnGzcyEw/btn8A628YF2mA0HgrpVfZI4UD0lcN08UPtrqN9r/Ixk6Ujxv7BLw5farosp\n",
       "bCGa775QTF/zQrAFkSPyN8bAcUeqtl0TvHDvYrMyOD+inQm2fMI5kv3YrAShn2aJD2wubBUy/Rc0\n",
       "inkWVO9+pOWV3oGu7kXbgT5iUM5L/Ul5fhQWAqWlpVACYtEiO18wBeKNxy4LIISld8d28CBivoA+\n",
       "AlXrupseVirmc/P6birNfpMFmalJNBPqnd5+z96C5ke6LBmnNMKuHcF5iu2iGJLrpdQGKeDC+zNh\n",
       "vC6eMi0GgDIYmOrCp6fHQFhaOrVl9oipzOUn6JVqKEnnUg6WthcuEavlmI1lyHRJO/LJoa/I2CMK\n",
       "HoFAF5lI0sy/9Qu/IFvt1qybs35z6D4zuUFXD93TUw+exLWJTJOfFE00tn2iyFyV/G9ZNL5ViJj9\n",
       "BUZ+VSDoJ1ps+dkIU/YSc/WbUPsMcQAAAo5BmlhJ4Q8mUwIX//6MsAKojP2smztdh0UHNj94TzS3\n",
       "wARB32248cLuTi24TPrnckpmT9wym6U25FYifoVSSq+89bJFTDOHLxtq1DYMoYP4Naa26ydw7B6t\n",
       "hhzMzaVpfBaCvU3T5b5AZ2qXYYrrScmKwfSLx++E95pz0WHks9dLGQ4ZWyc5MIoRfswSDQ7HCH4G\n",
       "vyShAOuU6MEj9XNaA+da01xH8CENqjq/bikRpUg8TQknGHn/fbJ+cApJjwv+y6NktaFzfIMVCleD\n",
       "T9QbYAfLZpo9vt/Dog5yQ9HyTNTECKRwM0w11z/AqAbim/g0R7F/ZM9V9ycxsvAytuOp3dTdTtK0\n",
       "TmAIsSxRRaGW4vnF/k79ggHocDRk3RO9RodO9YgrhOkHH4B6lwzFUyfUA3r9kpPGErxG/H24QtIQ\n",
       "lWc44HWk34pmB7KZTbaPcOMzY0B/5U8C0+SQLpmfCl4w+QiGN2zRW7/ELQJrDM1RY7eGVxDZ2914\n",
       "YvjVhr7zdQKPFmqjB7p4diddXIPObZgMINR9IGZgi0RtVZuAXUJHXSbBt/e0B9hhVlZj7+JQeXno\n",
       "XqB54HyoL7UQokOw/fOxqR1UHUVsqcYcNThBAYxi/v/uCd55axf5ZfabFuQ1H3hpZCNIQqKCGZ+P\n",
       "CgJc0RjmBTVNli6o48wHUuwBZ/OYRCeYjjfp245BhIlICag4QYw8Gmey+XMo0AvherZpqELt0WkL\n",
       "fKGmw+eQcCKl0eFxDc7oB+HQWZg+LOAbLkBbLxm9YuKYcxlY7F3LRoiwtFgLUf/RosBzoItvPBKL\n",
       "JQFYL8heUweZLsQaXiB2TfGh9MIzP6vWOorq3fe6WvjLxKMX1k6CSjO4My+sb1RCnqhyGUEAAAJo\n",
       "QZp5SeEPJlMCF//+jLACuJ9SgrN4MLP/AAdgwPABchGoyCWc3TdWbo8YZ82TQWibe4pHZps2wEPF\n",
       "lewg5atrqnaMYwNrG39ZrZSh5LAh6JYyVzQR9x1savW1IXbXq/5o/vhSCLSKXXe53foXe8T9vUKk\n",
       "+WFctLi60U+wazOijI9LdSbE39uFvwlOJ3iJSkmIn/qvMSS+KWUggkPD5hLGHQxX5o3tBI4kn699\n",
       "Khcd577Akv34jGTwvujV2KqQBRuqAUnzCusdqofQw4gU+KHLfOccXzWp1KkTbOca5QTmccb6OyvP\n",
       "za4xHW4IY6AN0OGLjEia3QzwqgAm99IPBdFnj7Cgz39s6NQbsOiQjWKXeOu4y+KxULrQECpTdeGJ\n",
       "k5CujjDMSOTk2uZO0I0hNyXzpNGpK3e+4MaZkgmv0baElIEWCcpZgf1fl5nxMovPlvKkKuTqVUkv\n",
       "DCVhsoN6nLamqXcySkLAboxToC5ZG3tpHO7AADWbn2O1UjvAwxBHBsgisAz44M+RAGZeizxwKLKH\n",
       "rNoAkRXc7pavTBOWg1OGPcq5IHn8+6mkMZ24CLToSE0hO1f65hPNp/dUUO/dWFy/7gGzsgkZ5yzE\n",
       "jh8HHq/odP5uEN6X3+70G/xn17Y3Zomqk6GyeEQsAx/WICdqNXz7opqpG9cMoLOhDUa/pZXqI25C\n",
       "zyUuP1nxI2QejM3fZvDSY52Ai5M9/dKsfPfw2VPKmSiSq64Ofs1y2p8XBVC8N6PxODYZmtUMrlUX\n",
       "vY2Z+o0URmn2oRojAyaXZEoact7/9O56GichdT/z4pSLBIvW8ACV0LJb+bmoPAAAArtBmppJ4Q8m\n",
       "UwIX//6MsAWwLYAATt6FhaHoSlzfS+7Lyj14lQJM3PpqpMEUuKFmqVUxniwph37macY9MX/Wvvqx\n",
       "2CeZ2AYkXLIdIctHejPVg+okPr9C9q6UTHcuTNUxIDWpaKy1W8TLRX4sC4vWlMl21vOFAwdTm9HD\n",
       "34aU8ckAivdsixi923AKLVFJNQEeK+3pHYfmmBU50uwqqvbxRJ9RiTWIZdHvN9Avk0rw92wIe0Pk\n",
       "hvoQh7sFn8e6vQUR/LEY1DYd0ouFzEdbddB34mWmmT1I1KJeU57U3cAh/3kvvadgEBRMwMyX1AP1\n",
       "AqwJSDCOsXbijrDPVitUjiXBkYf+I0AWk5KGjYkoJODCVWlBKLsabeZyxAOXE/w/5FgIS8UgblLQ\n",
       "XHGqENo4ZNsLgkQrVSDbU1gq76hVxs+ihGXvDdyNy5vif1RKaKe0KdZl/YpfUOufJ1Xx8dctBwXd\n",
       "YZaXNXcrbVIPa5a/HcGShZGggtyO+9eIHtHyx2GOyYuo/b1WJjt23HYea7XNllEjdogwD9D7CSK7\n",
       "GOWuCokc5xdyL+0Pi5kYbHfwfY98JXoow25Vc/+uTJ4ENAljZqZ3ma79EZw88WOT58hx2yL+SD0H\n",
       "PGbo83HDz/i21kEdZSMgNq39dTOK+xIshdJUJH0Pdj3dJpOehMgDLtReXMiHqP+3PFS3q0nRN9WY\n",
       "4aQY7KqcLMoi1XI+/wi8nHLK7tc/t6NK/ah0SAYEy44M5Mv0Fpko2NvgFfoRc4esfQB8I4No4yRR\n",
       "lcS8ErfNji/6oQke24kTE/pBP0kA4SsBhrNu8Jj8NZQn6JIE95r6XAVlHC53TZIQ8gKzqCOeMfA9\n",
       "/kyNvjels9oZuHJQPAR7Q0jsVgtPthyn4irvn2SOGHwjxeOlBAXmSIUzeglN0z8bZGube5u60ccD\n",
       "yYsrpnHsfGEAAAJWQZq9SeEPJlMCE//98QA47gb8AITBHZsFDy+5+zNx5iC/aHd6RmspUCXsLj98\n",
       "cO4pFI5hXSOUEXL2WDUgx4AfcpkUTUdGIyBmQc+o+WE7usr3LnBUlfGdhWiW8r6bC6RNYz7Cnean\n",
       "kNxVl1/qOKbMkHc+zFDdBWSEzHV2jtGLnpKIAQbtOCprpVgkcbn/dxcLIdSiZcINASbdzOqeOkQA\n",
       "pPfuBal4Xl3E/ZvzD3nvAB/igS8rkGq70ftvr6Ni0tiK2MQkLns2RPGclrjBEyP5c1m01g/6jNm+\n",
       "3Zzkt9qartrTB+ETKaF52BkH4ZPQBYewXFoJtgFrpxYVkGmIRKvFACIJOl8Bp+IEAI5ypVTbPS1I\n",
       "4/QFsud2gWXDP97cHU16RPL9Z1zip45Raz7dCQTt/lNJvGacZ511Gx130URyyemvvCo8/DM+On/Z\n",
       "qHSCtjyQjVkcRORM2is+WjX52NcIMIWt48WOvT6VcoND4JkpTOSybvnMsfOHdkC32AObhA+sGupb\n",
       "oQCx6D1UciT2lvrnjc20ju7DU9CjexrOEpKEP7ncBJr/uSn6Rz9sbvoDcHGIalaK4x6tV3KzMBBB\n",
       "871erh7IwawIhBCFU3FFA21JUNkGYHZwrIYG++QgX0eL01n8rizNHQ+uhfZVf5o8xDASqkRTaTMA\n",
       "1VPC6xhvDNVuSzfDznLgir0Z8Ozp97tBPtuoHUzgLaMiGA0fjwGa981ZCEoButRUPa03ehOseoa+\n",
       "V6e9dlWoAQqnHmaBC8+r533flvcjwiIIj6VdqKBIcUx98Di/DjxdtAAAArZBnttFETwr/wE213W9\n",
       "gANiybFDdk9ZMJLsVsWextaziyRh5M8sJxYeXbCrrF6Jn0Bfpke7BSZUQoxxv7CaalQrmOT9Ksa5\n",
       "DCREIl8n9auSV97/1rQ1DsqQa9AXwtWzi9/BdJ1fnXeojSPiAtRnxS0+BLlV9OGpi+VJDlANFD9N\n",
       "QQ38S8xVvieYKEUQ+7k3hPnRHZztHWzGqgmrYBv1aFSuLMf53MOeTdQu0hCzUYfzBDYZGUlIz1tO\n",
       "lWbBdAvF0GqL7bWRyvXklcXM9KVendF03gR6sqQDSiTEH6FjXQUXRYKGxddXAXOl1OBISeE1d6QS\n",
       "saUlBiA6VM8UYTo7DUske1FpNo1tXPqPNpWyDYcxCNbu1pNJ9y/YlqtQ9iI5rseXvmrAcey85o8k\n",
       "m55nvIm3lNnkZG90vULUWey+7zueLnqqX3zHRuXIqG23YvjyujhsMk47LgaTF5HkhSz2/SQHJB9a\n",
       "YIsFinEdH+rnkAASQ2YXDywLaYO93G+xQ0h8nsGQTawjmOsG4AeuvBbwr0NZvUb8Q4c5OdWo6LuO\n",
       "rHYvXhY0jTNNvG+/DQdxWAgP97cbC5U6qgpbPnqrvw08kOmvwSHEaSfXtd9ywcL8gt8p0xO8PAop\n",
       "XvxqOxO2Sb1JctYbFKlqhbyEAq4kwY7u3iFz1pRKaJqb5gb8h2DMd3O3T5HxJBTpbtvBTBdUibNw\n",
       "68mcP0JIY3wPQ8HG0hAOyjSgHIFD4559/Ok14A8UYxiPFn6/G0R7PNOX9uQvD2p5o6nZinNl0KYO\n",
       "YZkpYVpKbcUKc3F10EBsHNZJt9ZHCe9TJU83PrDa5l4JAY+EpuoC4+J7FU+Xj0vQnSIwCOWSiLnM\n",
       "mIL5ET1uKLZpSfi4Jm5aF2ycgeHwq9FM6+JsJOLkZigEATrcRSLXT3j3TTEKwVsYtMtE3PvBAAAC\n",
       "fAGe/GpCfwGQgY+ABtRncX4k4B8pkmQBkAi8Z4VnHcUz9aCu88XQ7MQmn0THY+b6kx61GC6fbzpf\n",
       "LaZ5jajAE96hD8hjnkC4y92nPbxwCcx08wvwyT5bMJRi1vvOp5/Lqr3o+IxJD0XMjFJKsscPTX4h\n",
       "VuOLeqap88/zmgnQF5++urHB6+gn5hlv7qK8aFPLvOEfBoP2JlcVpZ358pKXhHrWJjVRq87Up3qW\n",
       "/SbNurDdpxsLcRd2JRpiO2UqvxoTwJlK14S035o+HTikqWwz8CiOI8A3661j/o63bpEM92ltOKmO\n",
       "46gsd8+2apgQ4T4b5uJiHVwxrfyg/E4vAPVcOsn0is+gIcJZh6hxo/Rc8KWz0qn4uPB2NoFjzRGg\n",
       "dkNZC2Wlim9m1ukwUSlE0+qymYHY4eVZg1A5wAKDFgh1j7iB2OkwSLmPXP3uvHK0SBcfX8lCKpJE\n",
       "YoVXdZkIGJDmtplYon+nyO14/c1POk5q2F15/RdpNNdm9n9T/VQxnz6EYAFTweAtfhv3wiwKk5Fm\n",
       "HRjiTaqkPwq3PPkVqyLm5X0pvwxIaQRsDvLRcIJkfkHIAI8JZBy4B3NGTJI3gxwaB9wz27GH41aI\n",
       "EnV5bl0ZP5XktbU/Lz3GPoTjd8EjwFVQVdI/Cmwg0JQlP6ss1hSj3aNwfdn7GB+Tzv5JCRo3/YRK\n",
       "iuq/OY8jdvgQjleGNpJsWkLOT0XuSTn0TXJjS9J1hA1jTUTv4QVfuWFb1z4RCyh9uIgflKmAwNat\n",
       "9DO5QVqxG3bodAbYBVhPdJaHRb8mHON2yD+I3NrufGUBYhy6bt0swHqMEEY3N0ixGBI5/PZHeAX1\n",
       "mWIfmAtJ9b52PQAABDptb292AAAAbG12aGQAAAAAAAAAAAAAAAAAAAPoAAAD6AABAAABAAAAAAAA\n",
       "AAAAAAAAAQAAAAAAAAAAAAAAAAAAAAEAAAAAAAAAAAAAAAAAAEAAAAAAAAAAAAAAAAAAAAAAAAAA\n",
       "AAAAAAAAAAAAAAACAAADZHRyYWsAAABcdGtoZAAAAAMAAAAAAAAAAAAAAAEAAAAAAAAD6AAAAAAA\n",
       "AAAAAAAAAAAAAAAAAQAAAAAAAAAAAAAAAAAAAAEAAAAAAAAAAAAAAAAAAEAAAAABsAAAASAAAAAA\n",
       "ACRlZHRzAAAAHGVsc3QAAAAAAAAAAQAAA+gAAAQAAAEAAAAAAtxtZGlhAAAAIG1kaGQAAAAAAAAA\n",
       "AAAAAAAAADwAAAA8AFXEAAAAAAAtaGRscgAAAAAAAAAAdmlkZQAAAAAAAAAAAAAAAFZpZGVvSGFu\n",
       "ZGxlcgAAAAKHbWluZgAAABR2bWhkAAAAAQAAAAAAAAAAAAAAJGRpbmYAAAAcZHJlZgAAAAAAAAAB\n",
       "AAAADHVybCAAAAABAAACR3N0YmwAAAC3c3RzZAAAAAAAAAABAAAAp2F2YzEAAAAAAAAAAQAAAAAA\n",
       "AAAAAAAAAAAAAAABsAEgAEgAAABIAAAAAAAAAAEAAAAAAAAAAAAAAAAAAAAAAAAAAAAAAAAAAAAA\n",
       "AAAAAAAY//8AAAA1YXZjQwFkABX/4QAYZ2QAFazZQbCWhAAAAwAEAAADAPA8WLZYAQAGaOvjyyLA\n",
       "/fj4AAAAABx1dWlka2hA8l8kT8W6OaUbzwMj8wAAAAAAAAAYc3R0cwAAAAAAAAABAAAAHgAAAgAA\n",
       "AAAUc3RzcwAAAAAAAAABAAAAAQAAAKBjdHRzAAAAAAAAABIAAAABAAAEAAAAAAEAAAoAAAAAAQAA\n",
       "BAAAAAABAAAAAAAAAAEAAAIAAAAAAQAABgAAAAABAAACAAAAAAMAAAQAAAAAAQAACgAAAAABAAAE\n",
       "AAAAAAEAAAAAAAAAAQAAAgAAAAABAAAEAAAAAAEAAAgAAAAAAgAAAgAAAAAJAAAEAAAAAAEAAAgA\n",
       "AAAAAgAAAgAAAAAcc3RzYwAAAAAAAAABAAAAAQAAAB4AAAABAAAAjHN0c3oAAAAAAAAAAAAAAB4A\n",
       "ABAVAAAFAQAABDcAAAFfAAACCAAAA3EAAAL3AAADhwAAA9QAAAP9AAAC7wAAAaEAAAG1AAAAuAAA\n",
       "AccAAAQMAAAB8wAAAZEAAAIwAAACOgAAAigAAAJuAAACXAAAAiEAAAKSAAACbAAAAr8AAAJaAAAC\n",
       "ugAAAoAAAAAUc3RjbwAAAAAAAAABAAAAMAAAAGJ1ZHRhAAAAWm1ldGEAAAAAAAAAIWhkbHIAAAAA\n",
       "AAAAAG1kaXJhcHBsAAAAAAAAAAAAAAAALWlsc3QAAAAlqXRvbwAAAB1kYXRhAAAAAQAAAABMYXZm\n",
       "NTguNjUuMTAx\n",
       "\">\n",
       "  Your browser does not support the video tag.\n",
       "</video>"
      ],
      "text/plain": [
       "<IPython.core.display.HTML object>"
      ]
     },
     "execution_count": 47,
     "metadata": {},
     "output_type": "execute_result"
    }
   ],
   "source": [
    "from matplotlib import animation, rc\n",
    "from IPython.display import HTML\n",
    "HTML(points_output.anim.to_html5_video())"
   ]
  },
  {
   "cell_type": "code",
   "execution_count": null,
   "id": "laughing-outreach",
   "metadata": {},
   "outputs": [],
   "source": []
  }
 ],
 "metadata": {
  "colab": {
   "collapsed_sections": [],
   "name": "Copy of Wing Kinematics.ipynb",
   "provenance": []
  },
  "kernelspec": {
   "display_name": "Python 3",
   "language": "python",
   "name": "python3"
  },
  "language_info": {
   "codemirror_mode": {
    "name": "ipython",
    "version": 3
   },
   "file_extension": ".py",
   "mimetype": "text/x-python",
   "name": "python",
   "nbconvert_exporter": "python",
   "pygments_lexer": "ipython3",
   "version": "3.8.5"
  }
 },
 "nbformat": 4,
 "nbformat_minor": 5
}

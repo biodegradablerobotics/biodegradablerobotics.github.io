{
 "cells": [
  {
   "cell_type": "markdown",
   "metadata": {},
   "source": [
    "## Setup"
   ]
  },
  {
   "cell_type": "code",
   "execution_count": 1,
   "metadata": {
    "colab": {
     "base_uri": "https://localhost:8080/"
    },
    "id": "pi7Co6-jBLqJ",
    "outputId": "3e0b02e5-7b83-4a8a-fb4e-f100a21e47fb"
   },
   "outputs": [],
   "source": [
    "#pip install pynamics"
   ]
  },
  {
   "cell_type": "code",
   "execution_count": 1,
   "metadata": {
    "id": "frequent-douglas"
   },
   "outputs": [],
   "source": [
    "%matplotlib inline\n",
    "import scipy.optimize\n",
    "import pynamics\n",
    "from pynamics.frame import Frame\n",
    "from pynamics.variable_types import Differentiable,Constant\n",
    "from pynamics.system import System\n",
    "from pynamics.body import Body\n",
    "from pynamics.dyadic import Dyadic\n",
    "from pynamics.output import Output,PointsOutput\n",
    "from pynamics.particle import Particle\n",
    "import pynamics.integration\n",
    "import numpy\n",
    "import sympy\n",
    "import matplotlib.pyplot as plt\n",
    "from matplotlib.patches import Arc\n",
    "plt.ion()\n",
    "from math import pi, sin, cos, tan, asin, acos, atan, degrees, radians, pi, sqrt"
   ]
  },
  {
   "cell_type": "markdown",
   "metadata": {},
   "source": [
    "## System"
   ]
  },
  {
   "cell_type": "code",
   "execution_count": 2,
   "metadata": {},
   "outputs": [],
   "source": [
    "# Create a pynamics system\n",
    "system = System()\n",
    "pynamics.set_system(__name__,system)"
   ]
  },
  {
   "cell_type": "code",
   "execution_count": 3,
   "metadata": {},
   "outputs": [],
   "source": [
    "# Length variables (numerical)\n",
    "lAa_num = 0.05\n",
    "lAb_num = 0.1\n",
    "lBa_num = 0.05\n",
    "lBb_num = 0.1\n",
    "lC_num = 0.165\n",
    "lD_num = 0.165\n",
    "lE_num = 0.045\n",
    "\n",
    "# Lengths\n",
    "lAa = Constant(lAa_num,'lAa',system)\n",
    "lAb = Constant(lAb_num,'lAb',system)\n",
    "lBa = Constant(lBa_num,'lBa',system)\n",
    "lBb = Constant(lBb_num,'lBb',system)\n",
    "lC = Constant(lC_num,'lC',system)\n",
    "lD = Constant(lD_num,'lD',system)\n",
    "lE = Constant(lE_num,'lE',system)"
   ]
  },
  {
   "cell_type": "code",
   "execution_count": 4,
   "metadata": {},
   "outputs": [],
   "source": [
    "# Masses\n",
    "# r = 149kg/m3\n",
    "mAa = Constant(0.00447,'mAa',system) # 0.00447000 \n",
    "mAb = Constant(0.00894,'mAb',system) # 0.00894000 \n",
    "mBa = Constant(0.00626,'mBa',system) # 0.00625800\n",
    "mBb = Constant(0.00894,'mBb',system) # 0.00894000 \n",
    "mC = Constant(0.0148,'mC',system) # 0.01475100\n",
    "mD = Constant(0.0148,'mD',system) # 0.01475100\n",
    "\n",
    "# Joint preloads\n",
    "preload0 = Constant(0*pi/180,'preload0',system)\n",
    "preloadA = Constant(0*pi/180,'preloadA',system)\n",
    "preload1 = Constant(0*pi/180,'preload1',system)\n",
    "preloadB = Constant(0*pi/180,'preloadB',system)\n",
    "preload4 = Constant(0*pi/180,'preload4',system)\n",
    "preload3 = Constant(0*pi/180,'preload3',system)\n",
    "\n",
    "# Inertia\n",
    "Ixx_Aa = Constant(0.0000336,'Ixx_Aa',system) # 0.00003355\n",
    "Iyy_Aa = Constant(0.0000373,'Iyy_Aa',system) # 0.00003725\n",
    "Izz_Aa = Constant(0.0000038,'Izz_Aa',system) # 0.00000375\n",
    "Ixx_Ab = Constant(0.0000671,'Ixx_Ab',system) # 0.00006710\n",
    "Iyy_Ab = Constant(0.0000969,'Iyy_Ab',system) # 0.00009685\n",
    "Izz_Ab = Constant(0.0000299,'Izz_Ab',system) # 0.00002985\n",
    "\n",
    "Ixx_Ba = Constant(0.0000441,'Ixx_Ba',system) # 0.00004405\n",
    "Iyy_Ba = Constant(0.0000484,'Iyy_Ba',system) # 0.00004840\n",
    "Izz_Ba = Constant(0.0000045,'Izz_Ba',system) # 0.00000453\n",
    "Ixx_Bb = Constant(0.0000671,'Ixx_Bb',system) # 0.00006710\n",
    "Iyy_Bb = Constant(0.0000969,'Iyy_Bb',system) # 0.00009685\n",
    "Izz_Bb = Constant(0.0000299,'Izz_Bb',system) # 0.00002985\n",
    "\n",
    "Ixx_C = Constant(0.0001107,'Ixx_C',system) # 0.00011071\n",
    "Iyy_C = Constant(0.0002445,'Iyy_C',system) # 0.00024450\n",
    "Izz_C = Constant(0.000134,'Izz_C',system) # 0.00013394\n",
    "\n",
    "Ixx_D = Constant(0.0001107,'Ixx_D',system) # 0.00011071\n",
    "Iyy_D = Constant(0.0002445,'Iyy_D',system) # 0.00024450\n",
    "Izz_D = Constant(0.0001339,'Izz_D',system) # 0.00013394"
   ]
  },
  {
   "cell_type": "code",
   "execution_count": 5,
   "metadata": {},
   "outputs": [],
   "source": [
    "# Create differentiable state variables\n",
    "qAa,qAa_d,qAa_dd = Differentiable('qAa',system)\n",
    "qAb,qAb_d,qAb_dd = Differentiable('qAb',system)\n",
    "\n",
    "qBa,qBa_d,qBa_dd = Differentiable('qBa',system)\n",
    "qBb,qBb_d,qBb_dd = Differentiable('qBb',system)\n",
    "\n",
    "qC,qC_d,qC_dd = Differentiable('qC',system)\n",
    "\n",
    "qD,qD_d,qD_dd = Differentiable('qD',system)"
   ]
  },
  {
   "cell_type": "code",
   "execution_count": 6,
   "metadata": {},
   "outputs": [],
   "source": [
    "# initial values\n",
    "# qC = 11.97 creates fully extended, horizontal wing\n",
    "initialvalues = {}\n",
    "initialvalues[qAa]=45*pi/180\n",
    "initialvalues[qAa_d]=0*pi/180\n",
    "initialvalues[qAb]=0*pi/180\n",
    "initialvalues[qAb_d]=0*pi/180\n",
    "\n",
    "initialvalues[qBa]=0*pi/180\n",
    "initialvalues[qBa_d]=0*pi/180\n",
    "initialvalues[qBb]=0*pi/180\n",
    "initialvalues[qBb_d]=0*pi/180\n",
    "\n",
    "#initialvalues[qC]=14.65*pi/180\n",
    "initialvalues[qC]=(90-16.69)*pi/180\n",
    "initialvalues[qC_d]=0*pi/180\n",
    "\n",
    "initialvalues[qD]=-70.16*pi/180\n",
    "initialvalues[qD_d]=0*pi/180"
   ]
  },
  {
   "cell_type": "code",
   "execution_count": 7,
   "metadata": {},
   "outputs": [],
   "source": [
    "# Retrieve state variables in the order they are stored in the system\n",
    "# Create a list of initial values ini0 in the order of the system’s state variables\n",
    "statevariables = system.get_state_variables()\n",
    "ini0 = [initialvalues[item] for item in statevariables]"
   ]
  },
  {
   "cell_type": "code",
   "execution_count": 8,
   "metadata": {},
   "outputs": [],
   "source": [
    "# Create frames\n",
    "N = Frame('N')\n",
    "Aa = Frame('Aa')\n",
    "Ab = Frame('Ab')\n",
    "\n",
    "Ba = Frame('Ba')\n",
    "Bb = Frame('Bb')\n",
    "\n",
    "C = Frame('C')\n",
    "D = Frame('D')"
   ]
  },
  {
   "cell_type": "code",
   "execution_count": 9,
   "metadata": {},
   "outputs": [],
   "source": [
    "# Declare N as the Newtonian (fixed) frame\n",
    "system.set_newtonian(N)"
   ]
  },
  {
   "cell_type": "code",
   "execution_count": 10,
   "metadata": {},
   "outputs": [],
   "source": [
    "# Rotate other frames about their local Z axes.\n",
    "# Not global q\n",
    "Aa.rotate_fixed_axis_directed(N,[0,0,1],qAa,system)\n",
    "Ab.rotate_fixed_axis_directed(Aa,[0,0,1],qAb,system)\n",
    "\n",
    "Ba.rotate_fixed_axis_directed(Ab,[0,0,1],qBa,system)\n",
    "Bb.rotate_fixed_axis_directed(Ba,[0,0,1],qBb,system)\n",
    "\n",
    "C.rotate_fixed_axis_directed(Bb,[0,0,1],qC,system)\n",
    "D.rotate_fixed_axis_directed(C,[0,0,1],qD,system)"
   ]
  },
  {
   "cell_type": "code",
   "execution_count": 11,
   "metadata": {},
   "outputs": [],
   "source": [
    "# Define rigid body kinematics\n",
    "# position vectors\n",
    "p0 = 0*N.x #Normal\n",
    "pA = p0 + lAa*Aa.x #Normal\n",
    "p1 = pA + lAb*Ab.x #Link A\n",
    "pB = p1 + lBa*Ba.x #Link A\n",
    "p2A = pB + lBb*Bb.x #Link B - OUTPUT\n",
    "p4 = p0 + lE*N.y #Link E\n",
    "p3 = p4 + lC*C.x #Link C\n",
    "p2C = p3 + lD*D.x #Link D - OUTPUT"
   ]
  },
  {
   "cell_type": "code",
   "execution_count": 12,
   "metadata": {},
   "outputs": [],
   "source": [
    "# CoM vectors\n",
    "pAacom=p0 + lAa/2*Aa.x #Link Aa\n",
    "pAbcom=pA + lAb/2*Ab.x #Link Ab\n",
    "\n",
    "pBacom=p1 + 0.0207*Ba.x + 0.00314*Ba.y #Link Ba # 0.02071429x 0.00314286y\n",
    "pBbcom=pB + lBb*Bb.x #Link Bb\n",
    "\n",
    "pCcom=p4 + lC/2*C.x #Link Ca\n",
    "pDcom=p3 + lD/2*D.x #Link Da"
   ]
  },
  {
   "cell_type": "code",
   "execution_count": 13,
   "metadata": {},
   "outputs": [],
   "source": [
    "# Angular Velocity\n",
    "wNAa = N.getw_(Aa)\n",
    "wAaAb = Aa.getw_(Ab)\n",
    "\n",
    "wAbBa = Ab.getw_(Ba)\n",
    "wBaBb = Ba.getw_(Bb)\n",
    "\n",
    "wNC = N.getw_(C)\n",
    "wCD = C.getw_(D)"
   ]
  },
  {
   "cell_type": "code",
   "execution_count": 14,
   "metadata": {},
   "outputs": [],
   "source": [
    "# Build inertia tensors\n",
    "IAa = Dyadic.build(Aa,Ixx_Aa,Iyy_Aa,Izz_Aa)\n",
    "IAb = Dyadic.build(Ab,Ixx_Ab,Iyy_Ab,Izz_Ab)\n",
    "\n",
    "IBa = Dyadic.build(Ba,Ixx_Ba,Iyy_Ba,Izz_Ba)\n",
    "IBb = Dyadic.build(Bb,Ixx_Bb,Iyy_Bb,Izz_Bb)\n",
    "\n",
    "IC = Dyadic.build(C,Ixx_C,Iyy_C,Izz_C)\n",
    "ID = Dyadic.build(D,Ixx_D,Iyy_D,Izz_D)\n",
    "\n",
    "BodyAa = Body('BodyAa',Aa,pAacom,mAa,IAa,system)\n",
    "BodyAb = Body('BodyAb',Ab,pAbcom,mAb,IAb,system)\n",
    "\n",
    "BodyBa = Body('BodyBa',Ba,pBacom,mBa,IBa,system)\n",
    "BodyBb = Body('BodyBb',Bb,pBbcom,mBb,IBb,system)\n",
    "\n",
    "BodyC = Body('BodyC',C,pCcom,mC,IC,system)\n",
    "BodyD = Body('BodyD',D,pDcom,mD,ID,system)\n",
    "#BodyC = Particle(pCcm,mC,'ParticleC',system)"
   ]
  },
  {
   "cell_type": "markdown",
   "metadata": {},
   "source": [
    "## Forces"
   ]
  },
  {
   "cell_type": "code",
   "execution_count": 15,
   "metadata": {},
   "outputs": [
    {
     "data": {
      "text/plain": [
       "<pynamics.force.Force at 0x1b17c5f5248>"
      ]
     },
     "execution_count": 15,
     "metadata": {},
     "output_type": "execute_result"
    }
   ],
   "source": [
    "# Motor Torque\n",
    "t_switch = 0.3\n",
    "T1 = -0.1\n",
    "T2 = 0.2\n",
    "dT = T2-T1\n",
    "\n",
    "cond = system.t-t_switch\n",
    "cond_s = (cond+abs(cond))\n",
    "on = cond_s/(2*cond+1e-4)\n",
    "system.addforce((dT*on+T1)*N.z,wNAa)"
   ]
  },
  {
   "cell_type": "code",
   "execution_count": 16,
   "metadata": {},
   "outputs": [],
   "source": [
    "# Spring Forces\n",
    "kbase = Constant(1e-4,'kbase',system)\n",
    "kjoint = Constant(1e-3,'kjoint',system)\n",
    "kbend = Constant(6,'kbend',system)\n",
    "klim = Constant(3,'klim',system)\n",
    "\n",
    "dK = kbase-klim"
   ]
  },
  {
   "cell_type": "code",
   "execution_count": 17,
   "metadata": {},
   "outputs": [
    {
     "data": {
      "text/plain": [
       "(<pynamics.force.Force at 0x1b17c86ffc8>,\n",
       " <pynamics.spring.Spring at 0x1b17c5bca48>)"
      ]
     },
     "execution_count": 17,
     "metadata": {},
     "output_type": "execute_result"
    }
   ],
   "source": [
    "system.add_spring_force1(kbase,(qAa-preload0)*N.z,wNAa) # qA\n",
    "system.add_spring_force1(kbend,(qAb-preloadA)*Aa.z,wAaAb)  # virtual A\n",
    "\n",
    "system.add_spring_force1(dK*on+klim,(qBa-preload1)*Ab.z,wAbBa) # Limiter\n",
    "#system.add_spring_force1(kbase,(qBa-preload1)*Ab.z,wAbBa) # Limiter Torque off\n",
    "\n",
    "system.add_spring_force1(kbend,(qBb-preloadB)*Ba.z,wBaBb) # virtual B\n",
    "\n",
    "system.add_spring_force1(kbase,(qC-preload4)*N.z,wNC) # qC\n",
    "system.add_spring_force1(kjoint,(qD-preload3)*C.z,wCD) # qD"
   ]
  },
  {
   "cell_type": "code",
   "execution_count": 18,
   "metadata": {},
   "outputs": [],
   "source": [
    "# Damping\n",
    "bbase = Constant(1e-2,'bbase',system)\n",
    "bjoint = Constant(1e-2,'bjoint',system)"
   ]
  },
  {
   "cell_type": "code",
   "execution_count": 19,
   "metadata": {},
   "outputs": [
    {
     "data": {
      "text/plain": [
       "<pynamics.force.Force at 0x1b17c8724c8>"
      ]
     },
     "execution_count": 19,
     "metadata": {},
     "output_type": "execute_result"
    }
   ],
   "source": [
    "system.addforce(-bbase*wNAa,wNAa) # qA\n",
    "system.addforce(-bjoint*wAbBa,wAbBa) # qB\n",
    "system.addforce(-bbase*wNC,wNC) # qC\n",
    "system.addforce(-bjoint*wCD,wCD) # qD"
   ]
  },
  {
   "cell_type": "code",
   "execution_count": 20,
   "metadata": {},
   "outputs": [],
   "source": [
    "# Aerodynamic Forces\n",
    "rho = Constant(1.225,'rho',system) # air density\n",
    "w = Constant(0.15,'w',system) # width or chord length"
   ]
  },
  {
   "cell_type": "code",
   "execution_count": 21,
   "metadata": {},
   "outputs": [],
   "source": [
    "vAacom= pAacom.time_derivative(N,system)\n",
    "vAacom2= pAacom.dot(vAacom)\n",
    "vAbcom= pAbcom.time_derivative(N,system)\n",
    "vAbcom2= pAbcom.dot(vAbcom)\n",
    "\n",
    "vBacom= pBacom.time_derivative(N,system)\n",
    "vBacom2= pBacom.dot(vBacom)\n",
    "vBbcom= pBbcom.time_derivative(N,system)\n",
    "vBbcom2= pBbcom.dot(vBbcom)\n",
    "\n",
    "vCcom= pCcom.time_derivative(N,system)\n",
    "vCcom2= pCcom.dot(vCcom)\n",
    "vDcom= pDcom.time_derivative(N,system)\n",
    "vDcom2= pDcom.dot(vDcom)"
   ]
  },
  {
   "cell_type": "code",
   "execution_count": 22,
   "metadata": {},
   "outputs": [],
   "source": [
    "vAadx = vAacom.dot(Aa.x)\n",
    "vAbdx = vAbcom.dot(Ab.x)\n",
    "vBadx = vBacom.dot(Ba.x)\n",
    "vBbdx = vBbcom.dot(Bb.x)\n",
    "vCdx = vCcom.dot(C.x)\n",
    "vDdx = vDcom.dot(D.x)\n",
    "\n",
    "vAady = vAacom.dot(-Aa.y)\n",
    "vAbdy = vAbcom.dot(-Ab.y)\n",
    "vBady = vBacom.dot(-Ba.y)\n",
    "vBbdy = vBbcom.dot(-Bb.y)\n",
    "vCdy = vCcom.dot(-C.y)\n",
    "vDdy = vDcom.dot(-D.y)"
   ]
  },
  {
   "cell_type": "code",
   "execution_count": 23,
   "metadata": {},
   "outputs": [],
   "source": [
    "tolv = 1e-10"
   ]
  },
  {
   "cell_type": "code",
   "execution_count": 24,
   "metadata": {},
   "outputs": [],
   "source": [
    "aoa_Aa = sympy.atan2(vAady+tolv,vAadx)\n",
    "aoa_Ab = sympy.atan2(vAbdy+tolv,vAbdx)\n",
    "aoa_Ba = sympy.atan2(vBady+tolv,vBadx)\n",
    "aoa_Bb = sympy.atan2(vBbdy+tolv,vBbdx)\n",
    "aoa_C = sympy.atan2(vCdy+tolv,vCdx)\n",
    "aoa_D = sympy.atan2(vDdy+tolv,vDdx)"
   ]
  },
  {
   "cell_type": "code",
   "execution_count": 25,
   "metadata": {},
   "outputs": [
    {
     "data": {
      "text/plain": [
       "<pynamics.force.Force at 0x1b17c8b3548>"
      ]
     },
     "execution_count": 25,
     "metadata": {},
     "output_type": "execute_result"
    }
   ],
   "source": [
    "aero_Aa = rho*vAacom2*sympy.sin(aoa_Aa)*w*lAa*Aa.y\n",
    "system.addforce(aero_Aa,vAacom)\n",
    "\n",
    "aero_Ab = rho*vAbcom2*sympy.sin(aoa_Ab)*w*lAb*Ab.y\n",
    "system.addforce(aero_Ab,vAbcom)\n",
    "\n",
    "aero_Ba = rho*vBacom2*sympy.sin(aoa_Ba)*w*lBa*Ba.y\n",
    "system.addforce(aero_Ba,vBacom)\n",
    "\n",
    "aero_Bb = rho*vBbcom2*sympy.sin(aoa_Bb)*w*lBb*Bb.y\n",
    "system.addforce(aero_Bb,vBbcom)\n",
    "\n",
    "aero_C = rho*vCcom2*sympy.sin(aoa_C)*w*lC*C.y\n",
    "system.addforce(aero_C,vCcom)\n",
    "\n",
    "aero_D = rho*vDcom2*sympy.sin(aoa_D)*w*lD*D.y\n",
    "system.addforce(aero_D,vDcom)"
   ]
  },
  {
   "cell_type": "code",
   "execution_count": 26,
   "metadata": {},
   "outputs": [],
   "source": [
    "# Gravity\n",
    "g = Constant(9.81,'g',system)\n",
    "system.addforcegravity(-g*N.y)"
   ]
  },
  {
   "cell_type": "markdown",
   "metadata": {},
   "source": [
    "## Constraints"
   ]
  },
  {
   "cell_type": "code",
   "execution_count": 27,
   "metadata": {},
   "outputs": [],
   "source": [
    "# ptipup = 0.547*N.x+0.547*N.y"
   ]
  },
  {
   "cell_type": "code",
   "execution_count": 28,
   "metadata": {},
   "outputs": [],
   "source": [
    "# Constraints\n",
    "eq_vector = p2A-p2C\n",
    "eq = []\n",
    "eq.append((eq_vector).dot(N.x))\n",
    "eq.append((eq_vector).dot(N.y))\n",
    "eq_d=[(system.derivative(item)) for item in eq]\n",
    "eq_dd=[(system.derivative(item)) for item in eq_d]\n",
    "\n",
    "eq2_vector = Ab.x-Ba.x\n",
    "eq2 = []\n",
    "eq2.append((eq2_vector).dot(N.x))\n",
    "eq2.append((eq2_vector).dot(N.y))\n",
    "eq2_d=[(system.derivative(item)) for item in eq2]\n",
    "eq2_dd=[(system.derivative(item)) for item in eq2_d]"
   ]
  },
  {
   "cell_type": "markdown",
   "metadata": {},
   "source": [
    "## Solve for valid initial condition"
   ]
  },
  {
   "cell_type": "code",
   "execution_count": 29,
   "metadata": {},
   "outputs": [],
   "source": [
    "# Declare a list of points that will be used for plotting\n",
    "points = [p0, pA, p1, pB, p2A, p3, p4]"
   ]
  },
  {
   "cell_type": "code",
   "execution_count": 30,
   "metadata": {},
   "outputs": [],
   "source": [
    "# Identify independent and dependent variables\n",
    "qi = [qAa, qC]\n",
    "qd = [qAb, qBa, qBb, qD]"
   ]
  },
  {
   "cell_type": "code",
   "execution_count": 31,
   "metadata": {},
   "outputs": [],
   "source": [
    "# Create a copy of symbolic constants dictionary and add the initial value of qi to it\n",
    "constants = system.constant_values.copy()\n",
    "defined = dict([(item,initialvalues[item]) for item in qi])\n",
    "constants.update(defined)"
   ]
  },
  {
   "cell_type": "code",
   "execution_count": 32,
   "metadata": {},
   "outputs": [],
   "source": [
    "# Substitute constants in equation\n",
    "eq = [item.subs(constants) for item in eq]\n",
    "eq2 = [item.subs(constants) for item in eq2]"
   ]
  },
  {
   "cell_type": "code",
   "execution_count": 33,
   "metadata": {},
   "outputs": [],
   "source": [
    "# Convert to numpy array\n",
    "# Sum the error\n",
    "error = (numpy.array(eq)**2).sum() + (numpy.array(eq2)**2).sum()"
   ]
  },
  {
   "cell_type": "code",
   "execution_count": 34,
   "metadata": {},
   "outputs": [],
   "source": [
    "# Convert to a function that scipy can use.\n",
    "# Sympy has a “labmdify” function that evaluates an expression, but scipy needs a slightly different format.\n",
    "f = sympy.lambdify(qd,error)\n",
    "\n",
    "def function(args):\n",
    "    return f(*args)"
   ]
  },
  {
   "cell_type": "code",
   "execution_count": 35,
   "metadata": {},
   "outputs": [
    {
     "name": "stderr",
     "output_type": "stream",
     "text": [
      "2021-04-11 20:50:37,362 - pynamics.output - INFO - calculating outputs\n",
      "2021-04-11 20:50:39,127 - pynamics.output - INFO - done calculating outputs\n"
     ]
    },
    {
     "data": {
      "text/plain": [
       "array([[[ 0.        ,  0.        ],\n",
       "        [ 0.03535534,  0.03535534],\n",
       "        [ 0.10606602,  0.10606602],\n",
       "        [ 0.14142136,  0.14142136],\n",
       "        [ 0.21213203,  0.21213203],\n",
       "        [-0.07824991,  0.19026511],\n",
       "        [ 0.        ,  0.045     ]],\n",
       "\n",
       "       [[ 0.        ,  0.        ],\n",
       "        [ 0.03535534,  0.03535534],\n",
       "        [ 0.10369392,  0.10836108],\n",
       "        [ 0.13786317,  0.14486399],\n",
       "        [ 0.23496063,  0.12094574],\n",
       "        [ 0.08381403,  0.18712744],\n",
       "        [ 0.        ,  0.045     ]]])"
      ]
     },
     "execution_count": 35,
     "metadata": {},
     "output_type": "execute_result"
    }
   ],
   "source": [
    "# Take the derivative of the equations to linearize with regard to the velocity variables\n",
    "guess = [initialvalues[item] for item in qd]\n",
    "result = scipy.optimize.minimize(function,guess)\n",
    "if result.fun>1e-3:\n",
    "    raise(Exception(\"out of tolerance\"))\n",
    "ini = []\n",
    "for item in system.get_state_variables():\n",
    "    if item in qd:\n",
    "        ini.append(result.x[qd.index(item)])\n",
    "    else:\n",
    "        ini.append(initialvalues[item])\n",
    "points = PointsOutput(points, constant_values=system.constant_values)\n",
    "points.calc(numpy.array([ini0,ini]))\n",
    "#points.plot_time()"
   ]
  },
  {
   "cell_type": "code",
   "execution_count": 36,
   "metadata": {},
   "outputs": [
    {
     "data": {
      "text/plain": [
       "2.0880914425530616e-12"
      ]
     },
     "execution_count": 36,
     "metadata": {},
     "output_type": "execute_result"
    }
   ],
   "source": [
    "result.fun"
   ]
  },
  {
   "cell_type": "code",
   "execution_count": 37,
   "metadata": {},
   "outputs": [],
   "source": [
    "# Valid initial condition\n",
    "x = numpy.array([points.y[1][0][0], points.y[1][1][0], points.y[1][2][0], points.y[1][3][0], points.y[1][4][0], points.y[1][5][0], points.y[1][6][0], 0])\n",
    "y = numpy.array([points.y[1][0][1], points.y[1][1][1], points.y[1][2][1], points.y[1][3][1], points.y[1][4][1], points.y[1][5][1], points.y[1][6][1], 0])\n",
    "# prettyplot(x,y)"
   ]
  },
  {
   "cell_type": "markdown",
   "metadata": {},
   "source": [
    "## Solution"
   ]
  },
  {
   "cell_type": "code",
   "execution_count": 38,
   "metadata": {},
   "outputs": [
    {
     "name": "stderr",
     "output_type": "stream",
     "text": [
      "2021-04-11 20:50:39,197 - pynamics.system - INFO - getting dynamic equations\n"
     ]
    }
   ],
   "source": [
    "# F=ma\n",
    "f,ma = system.getdynamics()"
   ]
  },
  {
   "cell_type": "code",
   "execution_count": 39,
   "metadata": {},
   "outputs": [
    {
     "name": "stderr",
     "output_type": "stream",
     "text": [
      "2021-04-11 20:50:41,684 - pynamics.system - INFO - solving a = f/m and creating function\n",
      "2021-04-11 20:50:41,723 - pynamics.system - INFO - substituting constrained in Ma-f.\n",
      "2021-04-11 20:51:03,777 - pynamics.system - INFO - done solving a = f/m and creating function\n",
      "2021-04-11 20:51:03,779 - pynamics.system - INFO - calculating function for lambdas\n"
     ]
    }
   ],
   "source": [
    "# Acceleration\n",
    "func1,lambda1 = system.state_space_post_invert(f,ma,eq_dd,return_lambda = True)"
   ]
  },
  {
   "cell_type": "code",
   "execution_count": 40,
   "metadata": {},
   "outputs": [],
   "source": [
    "# Integration Tolerance\n",
    "tol = 1e-6"
   ]
  },
  {
   "cell_type": "code",
   "execution_count": 41,
   "metadata": {},
   "outputs": [],
   "source": [
    "# Time\n",
    "tinitial = 0\n",
    "tfinal = 1\n",
    "#tfinal = 4 # torque off\n",
    "fps = 30\n",
    "tstep = 1/fps\n",
    "t = numpy.r_[tinitial:tfinal:tstep]"
   ]
  },
  {
   "cell_type": "code",
   "execution_count": 42,
   "metadata": {},
   "outputs": [
    {
     "name": "stderr",
     "output_type": "stream",
     "text": [
      "2021-04-11 20:51:03,862 - pynamics.integration - INFO - beginning integration\n",
      "2021-04-11 20:51:03,864 - pynamics.system - INFO - integration at time 0000.00\n",
      "2021-04-11 20:51:34,491 - pynamics.system - INFO - integration at time 0000.14\n",
      "2021-04-11 20:52:03,266 - pynamics.system - INFO - integration at time 0000.34\n",
      "2021-04-11 20:52:20,972 - pynamics.integration - INFO - finished integration\n"
     ]
    }
   ],
   "source": [
    "# Integrate\n",
    "states=pynamics.integration.integrate(func1,ini,t,rtol=tol,atol=tol, args=({'constants':system.constant_values},))"
   ]
  },
  {
   "cell_type": "code",
   "execution_count": 43,
   "metadata": {},
   "outputs": [
    {
     "data": {
      "text/plain": [
       "<matplotlib.legend.Legend at 0x1b17c6e42c8>"
      ]
     },
     "execution_count": 43,
     "metadata": {},
     "output_type": "execute_result"
    },
    {
     "data": {
      "image/png": "[encoded data removed]",
      "text/plain": [
       "<Figure size 432x288 with 1 Axes>"
      ]
     },
     "metadata": {
      "needs_background": "light"
     },
     "output_type": "display_data"
    }
   ],
   "source": [
    "# Outputs\n",
    "plt.figure()\n",
    "artists = plt.plot(t,states[:,:4])\n",
    "plt.legend(artists,['qAa','qAb','qBa','qBb','qC','qD'])"
   ]
  },
  {
   "cell_type": "raw",
   "metadata": {},
   "source": [
    "# Energy\n",
    "KE = system.get_KE()\n",
    "PE = system.getPEGravity(p0) - system.getPESprings()\n",
    "energy_output = Output([KE-PE],system)\n",
    "energy_output.calc(states)\n",
    "energy_output.plot_time()"
   ]
  },
  {
   "cell_type": "code",
   "execution_count": 44,
   "metadata": {},
   "outputs": [
    {
     "name": "stderr",
     "output_type": "stream",
     "text": [
      "2021-04-11 20:52:21,502 - pynamics.output - INFO - calculating outputs\n",
      "2021-04-11 20:52:21,514 - pynamics.output - INFO - done calculating outputs\n"
     ]
    },
    {
     "data": {
      "image/png": "[encoded data removed]",
      "text/plain": [
       "<Figure size 432x288 with 1 Axes>"
      ]
     },
     "metadata": {
      "needs_background": "light"
     },
     "output_type": "display_data"
    }
   ],
   "source": [
    "# Motion\n",
    "points = [p0,pA,p1,pB,p2A,p3,p4]\n",
    "points_output = PointsOutput(points,system)\n",
    "y = points_output.calc(states)\n",
    "points_output.plot_time(20)"
   ]
  },
  {
   "cell_type": "code",
   "execution_count": 45,
   "metadata": {},
   "outputs": [
    {
     "data": {
      "image/png": "[encoded data removed]",
      "text/plain": [
       "<Figure size 432x288 with 1 Axes>"
      ]
     },
     "metadata": {
      "needs_background": "light"
     },
     "output_type": "display_data"
    }
   ],
   "source": [
    "# Motion Animation\n",
    "points_output.animate(fps = fps,movie_name = 'render.mp4',lw=2,marker='o',color=(1,0,0,1),linestyle='-')"
   ]
  },
  {
   "cell_type": "code",
   "execution_count": 46,
   "metadata": {},
   "outputs": [
    {
     "data": {
      "text/html": [
       "<video width=\"432\" height=\"288\" controls autoplay loop>\n",
       "  <source type=\"video/mp4\" src=\"data:video/mp4;base64,AAAAIGZ0eXBNNFYgAAACAE00ViBpc29taXNvMmF2YzEAAAAIZnJlZQAAWoltZGF0AAACrgYF//+q\n",
       "3EXpvebZSLeWLNgg2SPu73gyNjQgLSBjb3JlIDE2MSByMzAzMyAwZDc1NGVjIC0gSC4yNjQvTVBF\n",
       "Ry00IEFWQyBjb2RlYyAtIENvcHlsZWZ0IDIwMDMtMjAyMCAtIGh0dHA6Ly93d3cudmlkZW9sYW4u\n",
       "b3JnL3gyNjQuaHRtbCAtIG9wdGlvbnM6IGNhYmFjPTEgcmVmPTMgZGVibG9jaz0xOjA6MCBhbmFs\n",
       "eXNlPTB4MzoweDExMyBtZT1oZXggc3VibWU9NyBwc3k9MSBwc3lfcmQ9MS4wMDowLjAwIG1peGVk\n",
       "X3JlZj0xIG1lX3JhbmdlPTE2IGNocm9tYV9tZT0xIHRyZWxsaXM9MSA4eDhkY3Q9MSBjcW09MCBk\n",
       "ZWFkem9uZT0yMSwxMSBmYXN0X3Bza2lwPTEgY2hyb21hX3FwX29mZnNldD0tMiB0aHJlYWRzPTkg\n",
       "bG9va2FoZWFkX3RocmVhZHM9MSBzbGljZWRfdGhyZWFkcz0wIG5yPTAgZGVjaW1hdGU9MSBpbnRl\n",
       "cmxhY2VkPTAgYmx1cmF5X2NvbXBhdD0wIGNvbnN0cmFpbmVkX2ludHJhPTAgYmZyYW1lcz0zIGJf\n",
       "cHlyYW1pZD0yIGJfYWRhcHQ9MSBiX2JpYXM9MCBkaXJlY3Q9MSB3ZWlnaHRiPTEgb3Blbl9nb3A9\n",
       "MCB3ZWlnaHRwPTIga2V5aW50PTI1MCBrZXlpbnRfbWluPTI1IHNjZW5lY3V0PTQwIGludHJhX3Jl\n",
       "ZnJlc2g9MCByY19sb29rYWhlYWQ9NDAgcmM9Y3JmIG1idHJlZT0xIGNyZj0yMy4wIHFjb21wPTAu\n",
       "NjAgcXBtaW49MCBxcG1heD02OSBxcHN0ZXA9NCBpcF9yYXRpbz0xLjQwIGFxPTE6MS4wMACAAAAN\n",
       "YWWIhAA3//728P4FNjuY0JcRzeidMx+/Fbi6NDe9zgAAAwAAN9zmRP7KkwbmwAAC4JjeFiVDIHZg\n",
       "BwAYBTUB9y+wHE6s4ca0zkDKbhbHGDYgsS+F3KCTI8LMrpPQF0w6TpeMW2evFERcLGLiECoLCjGG\n",
       "bRKWHQ0ueTpFK2zT3VrWwedUi/YdBqjtV/oBdHKECWLgfqohfzTMakvqJL3FztryYC9IcfIFa24K\n",
       "vdQuvCpN1914YbQ0aVqVyN0coKCbi4Qp9EjBYToLl78IL1X3cdoJtgQw608/rwOLAi/xyTbusfSh\n",
       "/TB1eoDmz+uaIu61/Zx4MN8Grc62mAEIp0qFvFl5GjvHWOiJfWx6WQDJc0WvYTj19e9PA58l32/O\n",
       "uwNpwWHkG/M56ipzopy+W7utqhBd5AN0R54J8izbC/R2wlSVAe+8rdkqQOczYv/mPf/wQp+2DFzu\n",
       "at5YGi+u3gHyl5+8ukNMnX2VhK9W+TFAmiarJYtoycXip+lm8uwx49Niof+Aa1WwIpw9z+staRmt\n",
       "Kk9Ycu0rv92Vu8t7BXiyDN5Hy2NXOaIUrV/mYiy7FG335SSxfi7RIPRI3TLRu2IEUYLQHpvVggmx\n",
       "07S/qkzhNXb+OWi/8RS4ZrSb5bXjaBzdzRjUJXGrivrFQhSYWUNnGeuCVY9FabQ/l/69AOCw/j7y\n",
       "ITS/qaXvrpJBblYjenMx7zMi2Ai4hfsPDsW5pdgWXbVZ2Vp+bVLeLsoRlhVKuV7pDOltm9zj8KRb\n",
       "jRyLVnbRib9HUgt85yqaFGR7fRtdPAKkarMRjs5tdGy3pml3QSz1iYxFdoqV6XZdFtJ9UU1GB4OU\n",
       "vE0FDp+qU3QavrQ6F0iL/tLQ/lwJqevDHFfl9RnufevitBD4NRnFOTftFrpxnvk3hhVO9sYW1agB\n",
       "ZURedkKwLvQkfx/aR1y/VqIrxyt8bA/wlPHqHm/uRuuwb2VMShN5l0KcbbPZ5+Mnc2o9rejwCYXK\n",
       "A9iundHVOELx/0GeZTzRyWMkdUWiPo5dj5hE27X3PjX6QXzL8AUXrhUAVp1CMcePfbiiyXc6YP4p\n",
       "cY98sVLRuFrqVTcPc6sYcgVDyaAXt7Lm80rwjfJJaRqMjSRVullVHn8kidYCdbUOK9vaNh7V0HOn\n",
       "8TqW6oq7rnq/XqAG/1cqgyhVJMEtppuTg/VpFQF0GVEhP9z4ClnvsvQpQD+dXWVq2Bxew+MDg568\n",
       "WrmUZvgEPIZlCX5x2CssQngSryxst6TkhEWjH4yatN6z+xjs1B0GL+lJqaAK8V13CF/jxciwXm9M\n",
       "wOLh6nNUSj/MVU0EuymYFmYHwiRemWCT3SVYGeHKgN0iz+zVQMu0xSqcDcdQRAR5eBaeXJgXF03P\n",
       "egxv9big/O9ssPFtMTbjJXb/5lANsY3EhErH/9YAtvAelwE2uocHq48LQK+qAOGlyLl9stWiyNGP\n",
       "wc2X6sLlETND++g2AXa18Adu8boEzN3ap4uTkVdYwhstEyToqaBwxM6tEGnBeMCQrE2cuRSRtMSQ\n",
       "5zYamxlo/gr03hx91vmMCS+//+AX8QmZ5ZzHMBDR5to0DClGIZxb/iGjhX900l76Gb36cDgss33U\n",
       "ElT7dxIMO70eMt3KSneQ2yq5Hc/CSdD+68ht9SZV2q5XnHj63uSVoo/l3KwsrZkc5b3pfHf8vEIA\n",
       "t3ATXAjQ8ysGdAHVq0MvZWJCf8PbAA0f0BYMeMUUw0i6p/qAoy5O73ON4TmYVitDCQ9uszZnt3Oa\n",
       "k1TTXdDMUyyBHe3I09RJvJlC/tlQKI98Z97XqR/t6FemwjVjyvTWXjSzfb7sdsn5SaJ7nSfMmBkq\n",
       "yir3gRHFonjakPfPYEAXSpteHWyCBFfrZjYDnmuw0cxTeIpwm6vfrOR0+rV0rgkvBBOoJcheEKLw\n",
       "WThK4fI2EzrZmo3whEfbV6+f5iEKNDTvWyj8lZieScz5wVrdMOMzhy5A0aNirSOW19EjdKe4Pfef\n",
       "W9Z/0a4isjHzA+mfXA4F59O6ORnAqCqH2r44L0eXjqpYW0N96jM9p8dVy1eaju+Ceg5+cuxsVavH\n",
       "Al85VqWKXP7CwrS7UB+t7T1RNLD0djFleElC5Y1eS8L5Dlbj7WKwde2o4TAoB6ZN4Ii5GJ3sJtxJ\n",
       "Sr0C4DqditbTyhlmhyBxz70i1ODcbtKge8EKR+WptnJhinql6nZ7HfW40l2F+aoqo5GSK2JUWvPY\n",
       "4PG6YaPLPcRQg3MC2CnPlEtVO27sWPa9CKEnRgZFn/IQjjiXHof2vsZCfS7JRTxR1oH6PggkLym9\n",
       "iQYPQm1/7LbXaZoox/7fl/Kb75tPRXi+toEf6TMdLWS2rRf1AGTlKe60c2oXIlqIzFfyimSUyOeK\n",
       "iFfQPnroIMzQtD+PxgTMA34FioFluzaDqfEXOozDzrCV3qZ/RIkRWWUh6M+DHL1w+YdvTpNqofle\n",
       "EJYX19zfkCL55OE0x55iF49+NvRMuC5hHZoMvFqs/ldn6vcRIXko+smxZ5PSTBd6fq0NdqlrHpmI\n",
       "AMdLLeEFM4CojujSbESEGE5kXEaK2FVB4KJ/OZ7SNtMFpOJHYONt4TElbZcjKqyIwBLPbeu1y1y4\n",
       "6elXoKe9pSVGn0ErhaZaev6dA5T66C+AgNgSbxeV6Omj8DyWQ1STA81DxvXCweueNheIT8+o3N5Q\n",
       "6jRBYoWVWXYH9AcnKNiu+QKh8QWc1LMwm+MC/Y2QIrUvjEvQyhb09B//ZUF4a4eo79jN5Txiz95W\n",
       "7blvj38/2SV1J3vQa6CjKmr6DP5W4U+UIA9eKLL4TupLzYJL69bP3FpClmlB00x5HLAmALqJZ8bZ\n",
       "bqgOX5UY1vXBOrq25qdX3XtmotHor46N0mZ6jtXNFvH61OgaGRKyrqHO/1wsxZyahRZu5RJPMB9/\n",
       "kDaeQ4cTNGR0Y4KBQCu0FJXhJggCJ3HjJIy/n6kSE+q5y8AV6t8MKxMmYUiRoa8fYhpaskFAE59t\n",
       "31uwVc8qwQ8aVCb85lfDHlobMVOA2g3b4SN2SzuypRRCQSTtktZxoY0EE4o8qPLMWAp7Pl1GEbvj\n",
       "CgnsEjxCMSpV2FNkFFCboStXDDtMy9P1oswFfXfJDUJICv1yyOy1GW2i6ycvSMa7QJL3b89nh+JV\n",
       "aC+qh0ktPSuDn5gMihnA+3dZ9dAF7y9y5uZuPv8SRRcObZ1lB+HLgEkdkAqnID3wCraAGO/0Nrp/\n",
       "EHiB/493eJ27Mrklb4s+nizRezin4BvqtvbYj1N8RKanJOKJlrQHdoWbLQyVpPc5KId8zUr7n9C4\n",
       "41EJggsoEavK+DY4+bsFbDaKAJRlnas4JzoDTTPw4TYiEvPsFlAjYLMYaq9IxHZTF13aNKgLFeRH\n",
       "4+D3/sCuWKfPRKLwm2lLW43tEHN9YBxPKFMi+3FMxsTMH/WCuRzmfMCK8yP+dK7A5HPF4JQD1BZz\n",
       "MpGh8n92NJzJVJGgMnHztjCsNjt638KBNJgVg04iuACYgUZAUyNSrxrjJaG22H7cnhHB4Rl/PEOS\n",
       "dexHsrwx68g/lUhYHNoj4s9D81k99bCAf0C3gpuOmZY1BSV9sn58+CmPwXjDpn0eF78pcgokM5XF\n",
       "vSeti27+zDiqtJMr85RPXFLJB8o1WOVxzaAgYhZ72jTmuafsxT13ICNE7oaXkAiDHlqDDUn39T2N\n",
       "xL1TH96Quiu/K55JK59UHM6VtauZ8yroxqMqYd2jHJpPtusjabGU+PlLxx06GjcXCC0YBXmdhaw8\n",
       "57bUhr0vy5ewKXMBFZ2klhAuPPXcKhcPnGicHJcC6lbmQT3gZy84YoA7guJbSmuKxdOrx39q+nS9\n",
       "PBKqQpqNBU2/C1T7dOgK5+ZV+h0mSUv390LU2cwVfqEULP4mfg0B3a0dgZx7yxt2IYWZIKqFU/xB\n",
       "6z7yDmvIZDkuiD2ltGvSlmQkI3ZOh6DY7h15NwLFogB+IOmWrhwhH4nis8lkIDkIZo7VhxGEk8pc\n",
       "2FltWkyBm3Vxy3uvwtgx0nB2J6rXyBYEwWwa4sP0jAKPjI1gXXs3VmTWRJxdAcvV1qlcwScBILYa\n",
       "YFsBC9SgCUD48er+VwWlONXFTTwjdO1dhOWl4O4F+q3Yc15CSQKc5CSpYh3tGyi1LIMEirBEWHDX\n",
       "JHeKg8qfYSzIQYfY55rTNoMF/Wlp9ATHLH5fy88KqaAR3wqH05oxgz83vdAdsv5YM7lRTEchQLCT\n",
       "0S/bCl6lTCB8bhWmo9IQ8m7D9AfDPGCBRWnO+fIhjXpWIK3GgcSf9epEgPoupjgSvYctqbWDY+JJ\n",
       "nU4CWww3TKUBc4Xk1r7PZgX7Q0BXOLEgf+EO09DdD8wjK1G/ggGh51LntrsistRYuu7vWAhTrEQx\n",
       "c9HBBEIrK3Zshr4cZqxVg9qwH1M57O5hBSe18IhutSvzk0xxfazNIv+3B33b+AyohBpimXZTYaI0\n",
       "jZU6dSb+KAVetmDdVNj41iPEMq0U41ib6x2G6VQ2DjMlYrhoGM9sta1cYbBa8F4++6mdQ21pREeV\n",
       "PInXkEI9H/PPxpBz50OArzINrPDenJCSRJN3S1NQ51Wod6WylmodGIiU6nnXvD6LxtZs8hxGi2w1\n",
       "eABTXF9BAAAE8EGaJGxDP/6eEAX+8rqAP4Z294vQTcsiuET+ZaMpDPPcvoLFO9LT/AyOnQTQyFqj\n",
       "V/cx8zOFjincJAHB5sbCZRq3q2rU+bS+EP4bxc29YFDTa81v/iCL44pQLoNTaim7TrKnlGVy4mdw\n",
       "jyVNHauow48rXe7cdlXsW5qdSh5YynGQFxSyen9jwIFMzVnttYwRzqjfWyyQ9thdieA/Xamybs29\n",
       "KBSf2WUyAZEW7Brxhk7A5Kb9eTu4Xk4xFD3M+8GsQnf0HFv+C2C05laMshQIttuV+8Ux7g8Njw2V\n",
       "401T8yTXmIyq2HYUNphBnfzvYVZmAq9BaR6p2kByaxBl+qEn/Iua8mBT+s0eFOrH9V1yyN6ItYbH\n",
       "Vt1lpJsGuFgaSNqCxFGky2ie2cI5SDx68ZIscO88MSRKTcNFNtqyUUn9Ktr34QMug0hD6r5oKGIl\n",
       "TMx4J98jSkGBoyEG8uItxrxrtbHVxbjarhPaMqwo99V1M5Z9Ad7Ng2wSnjjFQnFGkHmU/q1seUf9\n",
       "vLEuq9sfKlSbScVcjc3IakRJ+X4D25eVUkz38HBicp3AafIyoN9TGbgy1JNHglQBc+iimAH3UVSl\n",
       "z/0Le5GVDRZUs2ARqbAHMUM4ziCjEUmd+AGL70XTVaZgDkV7D3bvYwG7ngzby0UMEjZPohDpLuvY\n",
       "VvA119s0k7FNznr3PSnJVydRyF5SOoPWOe5wd7O3lXzxRsDagDenMxT/ObYfR2IoecwAZ1a1op+0\n",
       "Ea2HD/Bo4dCinRTa1fp0qvTPtGsxeccgFz0KVio7wvU4/bX5pXhNqudLo0UNrgQ8cGpnetsF6r9m\n",
       "1geFKZw5tooB6iPbLp0vdGLl8yGiRQucoYP7uYzVOdw0IpXbFPFXIAhyEePyHsP0bNDcy0oqYgGM\n",
       "hSTAQxZ3KnpbmWdggPZji39r82fYWQIxOfuhphZfB0cRYVqJtp0k/DMec0baVYeHVIxGOYe6iRIa\n",
       "wUaVD6AgqlpCyjWYaS5DmKj7Mc02wKW7FBR2CtDeH7G8FekzNqZjAOOkV/XaRuFU8Si0dyDofiId\n",
       "VPxP3qCjBqAQksLQAmmI+9Q3NqekiUxlSyW1VykBfw3LM2f5uQfMtmOrSyFbhdUHeqpvedD1c0Hq\n",
       "3JOZ9BMb2SVZcC2759Ykd4tHKsifZI5IlTG04csLJHy+Aak/JlUd6AKEGK/BfHFDwIP9P+jf0TJR\n",
       "0WSCC5bwqqOyRUoJJjCmNMRiUo7y3ebA3gcdWBvNOtumfalvj+60Qk+kHV11cFrulYppluKUmFcI\n",
       "yvas9+XxvqgNNWtm6V+v4GHqf39sgdHWu+SAnUscCukZOYbQvZ5oRds4pCLTdMDs9tNJuWx+2rnj\n",
       "SAnAb7yBLMfXlOtc/CTz6lwY29frSRRP6jLEfzDstHXnsIvN/G56SAnZKcEhS6WyE4V7PwasiTRS\n",
       "e4EdwVmDKhpki8CoqQVazr8ISxWmemBCb5dSzVCYSNu2Q7DMBNsZO9ms8JtHGaooSImlk5Z14JR4\n",
       "oyQuZ/PRXDduBAuGh/lx0F72nEPuLNb/JlhbshhmOGoclfOS/pPA6QWmiuPxABVsY4FePBVgQP4z\n",
       "C/ElhjwkwxFuS2aVcxHbJrhYt5Qg/pynxIsjvzXDRebladCo9v+xaGZDfhSdnAgBsBcANTdjhauR\n",
       "QODfWb437vH98oJpPhkz+VwbrNAAAAQuQZ5CeIV/ASaQn4/D+phwLkxMdblR2gBZSK2MOJQND/6f\n",
       "njittTpyMkaE1SkV+Dvn6rdtFLzGdi0Np6c26aq+xhwNQWyWM+enz3VezwgwhNAPu677l1cdhHJ3\n",
       "LylHJyUG/UpDd+uow8xqHd+RuyH39UoLMGjTgEUIRLEKL7dOEdWV6iPsimJzJToOxHfqKqa6e/JC\n",
       "5JBeMEozEhFEGmmE1Mb9ksNWXoZtTRYOd3v+W7OVfX1t+S7EQ5BH+CdrLX1BgQNqf+IejrXcY7uB\n",
       "WRHGYPMRnz1xFMScw5HWUrurZco3Fj0xqDQo1NwjA9l+HSFeVWyvJq739Msi6iuIPSNasBIGqrdy\n",
       "reQpRqmE2SmEJ520uFKMsciul2msKWGvIqKN3/T3o3ZFs01go1pZWQJiFiOVRUS/p9R5pGLghFil\n",
       "pPcsrXhaeWJRhRTlj0QcZAllHrUz5qgrq9pXGb6J8bD6ykSZBRrm/Kxl2P30y+UJ/QPjFw97Hybd\n",
       "I6SQgDBCpX/eZDS6eaAgmm8EXHI0IcYvefh3PTN5BLWt9HvB5BqFCMzp6RRb9Ah3j52LCDuRJlTH\n",
       "Yx9JafkUaxLAcVT37D3O9aLdlCrHuFe4vlKsowPkKkcASqzUOzevvKLxojBouUQFj+JCcQhm9iQc\n",
       "ohhFwwzpOkyBr8ebkkQ5lzI1ZUNhb/ybYQja+o/gLocBC7PefqfDAoHPWprZOlJfJdFYUWbwYDFH\n",
       "Br1WJMYvDpYexNGftlRb2UuHZaMyy6HE1VGMMKnvLeGmhazwqVrtPmCVQMgbGH9yom+udFkq5iO/\n",
       "NBP+cql6Yha4PdAfRwmmo6x09OIDUTYEBqwLFN9VODqBbHh9TMSdpuHJadqV7Jr0xhEsGcz3vC/s\n",
       "IwU8HcVgtboiTLE/NPex56kr9wVfVxATtkUVpcGNjvNxfYbum8ggNM6L4aQ3S4nNzTV1fSnve0L1\n",
       "CYN0V2ulbQPpqFuWhB4d0RyEPv99K7WQTwdV28li8IkDTIaCGJWRrb7sYuuWcmRh0Ya0Li5DIF1a\n",
       "6qUuvuc9xq3Nb1UaeQTYWxQPKFQ1XzSDfodEOE2factRxWTbKYuG+G2VxAlYOpWOy+7IFkpRzdVW\n",
       "NS3gi32TH9WDBOyNNbBblxyg8zwwCMc9MKCM1rrJY6ZNUgYf3kznPwdCqZo3avf0IsSzm2Efq8D9\n",
       "ZIpOvM8ml/XMg2+E0iq0wemjOnuXoBL9zoZk3WfB4lr/twRb5r25Pe8tbeQgYfAItoGqTJnUOAjP\n",
       "JbwOqWHefYpoc9ktpEUDxsBeOsDrXDoV/TlZI6XWCUerJ0wWTRcFsZSlAExb41IcV5UOxdNR58Tc\n",
       "dOjlurVxa6BPz9pqkuDnw+y6UI8vsGZ4kztvoKcuXXhdL+n3uBPSb1RGO2DEY2GMnooJsQr3GYU1\n",
       "iPRBwrNMkgD9KhsAAAFaAZ5hdEJ/AXtFsGli27+AE1I5ETIwGuE/VuZyK1+nSD9KTGJxauq6vr9Z\n",
       "AOp6LIwGaj9HwhnmqeKe0zOs+7Bo865QIcqzxGHev6fVMhh4DWnWCHYrSpFuYGIAFUbqPpyM9du7\n",
       "VtDGWhAUZU5HTPE6IgiOMOOWXs5dzVyWqaKV5lLp2J/X/7Ls5pBbJqdEdb/yEzpOmhQDT6CX77Tx\n",
       "zYT4VBVSN0chOTQMmrZoZCrKv3WcbtGRn/rcN6bY4SRV7vYQdz1wTApPt4vTEZErtF5j1idipWZJ\n",
       "wmV0JV9RDHisFdcGiqYDqulI4lXOY2qBfCdvWSvPrqOc+AgJc8QbVs8h0rnPp48razRCLC5oz/gl\n",
       "DUKB9uSY6/rrGWnPK1OnQTzQCfnPcYOuc36PEfRtHDRsnm1B1JBmsy2M01FBuUDJ6T/9rZt/XbB4\n",
       "EEgp3kczidE53wOlTmMJzNsiEAAAAecBnmNqQn8AxDrYWTIKtb9PcAD+eoSWpRAvARPxZXoYsKJJ\n",
       "kc3ouZkTbTNJKBUnDqUmD+f/TKMLMJEy5/RH4ncZFqyDgGJanoSm4w49F9T7PcIad75trg6cTo8I\n",
       "BQepWP9whnj8OS5OcNDvHCzpJ3WHrwXnOsXSAkTHhH5OYyZaJbJwe4lvqrPXAVYRBNXKornl8NG+\n",
       "IZvldi1v6gzDAu4AVGlbXdEEAFdUXFz24554VKxRP5CRGdrFgS3ltzLFasTHVrezHQOSql/Rt9mb\n",
       "M2EMY3OvaVfzNtqobDvsR7Rtst0o6ij/dsfZ3ekpCMOCSPP4Y/HkqVlPk2mOOskNXuguTAL6kYHg\n",
       "p9z1Eu5QrZMXS0X13p+Xj0qeu0CIDQr5a7JN3GDHPeZiE/03FX8QstbFiY3I37Z4nrkxvZ8W4/KB\n",
       "xEQ4Y0YrK+v1pS7QvkYZsJSk0OFGaldeLTd+3C363ESEUg6l29TH62XhLUgbb/HYL3DVaQx+/cVi\n",
       "7LG4dIgzlAWRvTnI8W07izmrZMhlHK9hOdlmZuMU7UPPbnCOXwtLzITIY8NfhB2Ayi0BpI2qR0G+\n",
       "U81Tc7sq4vZIN7uFIStipBKQ/Dmdr5NwdDAnk1XTU0RZjJubuPaht7Kp4oYJ9OCDqdM0Wvg3AAAD\n",
       "aUGaZkmoQWiZTBTwz/6eEAFa93630oziV7XslsO1h/UcqKDRqxO5ZVoDACdR99wx3x20BZ2gaJ4E\n",
       "OXQK0eDOhymenx24QAYn3dDg/bgmSWoQjFHcPw3ZN3xWaHR+PF6CCC18zbXuahg9YPW8suIuaLHe\n",
       "pQeATLCBXqt4ucJwwDWqNU4yAancPHxO6FtEIOLkqh3iSn9uJluyd42qMpUfl9see0BaXM26r2Bo\n",
       "68+9cM9dCVVIBTbcHEvab6nkqO+MAeL6g1TqUEGWEafdQdNbUFtlC1B/kj91jwwODltVQCPnq1D7\n",
       "9PBeCJTjsEGh0f8FfXf5fBPuZrAR6uUXwGhQYbuoFgfV6HL8LQhQSYH9nhl6WcNbTYMuy8jgOKJv\n",
       "Nn/u0Y5nKqAw/ejyQ66HGkOGAfod9M2lhPUPYDxspVQR8/vwtK1Yk9cPhc14HZj7rQEeE57/8GWO\n",
       "CSONx/4Ym3QS3KCSTAbxR/L4yWkwtmn30qhvnIweJnmmcvFgv5gpm5ZjdceqKYNgTnI+kFBKkZ3c\n",
       "ecsf5AxdjlhyRIgR3+85lopG/9KFVsqvj0QZOTimYC6AGr6i1P1CDkYFSDa1ObKoKpFhI+lGVX4Q\n",
       "mZvKFnd/EaNAiYnHZMnS7E6ymYl5dyd8JkkXTd/1A9DyQJlA7iavFt0c4X3uKv1qmcxQSC/unw9U\n",
       "kOtO/pWrgTmqRya+OdlqjcZ5KcE7K0Cx11EAhgG4SqVNKX5FzJPQMhHM8037NsmxvaYhh16QuWcZ\n",
       "1W5ntaiuMbCXqOWtBfFck+7qczOjnX+aIlvDXt9SC8rCgvDTAJ9Gw33VWMJtvZoGesIMMDVTdIS3\n",
       "c4cvR7WOTkzc2EjcOMHmXzNhjg/Q7kzdeTF0aK2hx258tLTaLZIpBKJTdn4+mOYzPY91sBwfQXjT\n",
       "ygDNGGxNv5L9p/XPg6lSKO/0ru8YpYOWOj5nno/zlp98RbktOIJUEWqegp//LoHkKYRu0hZJ9RG8\n",
       "Gh/9rT7LQd7vS5ukYBIEC+2vGZcBNaHd9TgU+/z8bx4wSIRnrkEV4XmrTkyS+L4G0cw/7MQOAbcn\n",
       "5Owybvms+8Vd14Hucw1J2kCPCulhYFJRH8vtJg9N7bWKqgASb1BXv42dmcn84wDbHHZzouagXGVH\n",
       "sIe0JWI8Jp4lFVIOmgkeU4xtUQAAAxsBnoVqQn8A2F8efZztVhLYYzKQQcBVjtd7A6QAXUcwKi8n\n",
       "4DL5Tkz0XoRPRN+4qCQ+VyZSaPROHbVKqbmoGLd582/elJZI3morinvkdaixkKMxS/8WSoqiyv+L\n",
       "pTPbV0lKZF2nidfRe6hw9gBcgzVfZ+AiwyVInSTK9av7ibKlrBi+EdKuGlAlDHErjlBzxrCjQI7Y\n",
       "Ft9dHPzHJolaLHLDix5T1P36WfA0ahWcnWNDP80JoCQ0N6pH/Z6yVbCQL5VPi0QiqfrDoEuJ7eJD\n",
       "zKnd8cCbYDil/zTLLKgiNS7mAtv2j9lBeZ+7sRQQhnPeG4KjPju8W7RakwMLPv3TZyxKzaeLxits\n",
       "Q+4aJcMAoZ4NOVsWiGystIJsiG+jH/MAE+6Cy9CXZ5JsC5MPm7Lih1rk8GVbaN/FMukGtT5XtxOr\n",
       "VWIaTrOQ2xgxTu6Rdc+2PV2jShdv5sGeHa1UW2mEvdiDKjFjTMRWqEaUk0QBG39J1gtqYuViONHk\n",
       "fSe0goSgcfjNLGEOyg0pyIYle8EKMGeLAxvykVuZIPZUm1ONSeTrX7ykMuioVJN/T4C8zObP6Hkf\n",
       "RsYbdzqo7SCx8LwqPu6jG1yD1C+FQpIbxKDyjO+qjJ3YGPIEBq+FNZMNQsQYWBDVQVo4CsvGoBir\n",
       "0xXa7jGZSpW0h1Pj9Z0rOQU7rb2WMV5WC+sBO9WC9HVAIMYLwLPFSBsYUoeHTkAe5Nh2+LJmLprj\n",
       "lUzHYaSOaegfZX7Qvu0ZG7jru2TQYRXUWO6CqTD0Y0K6Tg+UOJ0Tdi2IzQ0gDLa2cfwofT1ylWvI\n",
       "Khrj27KoSpKnnCwALLKeqm9RmMtO4goYN06iWkEvybCJWo7NWUpVj1yyqYpEdLz8hKpZC2Jd9tiu\n",
       "PNBowEk29C+FkXxPmumRISTrVfQCMfT1t2/aGDJjUhYV9B9Cd9ktM6tXIIXp2eHQjvfLIvCwAdxg\n",
       "QE1rqbtcZRAYD3tqWoNTGLfcMHUXGX4wALxAklASHlvF24iCxJk1sa9VTAgp6WLHERmb7wl5yV7X\n",
       "w4GV7uhqoGHPSX8Kq+EWeKQ5e4EAAAOtQZqHSeEKUmUwIZ/+nhAAWP3frA3VcnjYkrme2v8AGWZT\n",
       "MazcsXr/rg7Ehing8Sj5dQZPHPPmKdgDs3UvoD5ny7Vr9assOnx3tAi5+sSlFLswoXz0JYRRASoa\n",
       "ovkXP7dEw5fj05+SJG2zruDXHt8teqhEsPiEMfKR/6tSVWA/epLHe5QLRfHWyhKebBa/dm7Sk7wy\n",
       "aG2LD5HSda0nndSk/7OXJMn+xF/FAc7XqYqJlKGM9PK0sf9bCV8JSw+pO1HUdyh9Un3BQCe92T3M\n",
       "7MNOPFNRktiEt451DpoAkRO1DBI/auEbNBwfpYyaU8UcSn7D3vvu9yUnuNW/zvZjwbf6KEmTE+U2\n",
       "yHvSLBgqDuTHgImKWJWZS8E8M6ixljgp/7cgRDw6T65Z+BLoTiohpU9MmFkalJzCiXVJ8T8zAuCY\n",
       "kvUE95NgAJQwNHDN0vF5HJAxifpuaOWvv68V0WDIuiVqTM1XChJlxx5rJ96KcGmPDVqo7O1iIrK9\n",
       "0GUE/5yTkrjXyAm0WsbDjQKTm6QExQ6/ADYbbumhSnA5kEhX/QMZv8rl9VFANOLXjnSzPejIymkJ\n",
       "7LXIDmyBZorMrETzvZpnVuLvIWpintO17epTAGNdRoWVDA6WXCIV7KABCthw1l0f1vtXd8xzfOyp\n",
       "Eq/u+X8HcRlzKHe9qercp0QyyiW4uBJ5KpAkMqWC0oehze5OF2JyYWqUb58ISQTVyZjO7TwujAZm\n",
       "STLvFwC+lQlDhlsnvMTpN45oon4Zhyzaqms+zUd9vSvIXRSzffsugsaSV0jRDsf/tc6P+hou+jpO\n",
       "XIWBmyTOx5LsxGDQ6vVXVc7DMzKqEA+JLoTFSi8wy6Uw/Ex/8VVt8/QRI8+DwPMGXam5X8B0vu4a\n",
       "Oev2ok8sqUfp99RxMM9fq8tpf0O8rLlppPCGjLMOH3W22WNfaexjblSqH10uotU5Ly34ibHsDoPr\n",
       "7qo8+1Jmz4VM1I6oZzgn5Ds2JiFpykfKTm58l0YTYFa5uSdHPXddJ2rQ6zMK3Yy05uaE3f88iCtg\n",
       "cwDa7khLY5FRwZUZHxSRzzOHuGJh32E2FG3gIgfoS+qkg/rBt0jN/w4jJdvByx9QZoGBsCfreylw\n",
       "D64zv996NGdcvTYyLNjdibTufsrdVThXADe9H3TpLXtIUI3v/W21wZAL+VlDTXcajrGPSnpszahT\n",
       "C0aDxC1fFRGEFvSG1L2Nw5e0En88fABL+0WOONSighzznYR4gkFZtNkVdQgWVI6DdeX0GREAAAOx\n",
       "QZqoSeEOiZTAhn/+nhAALoyGjaSucAHOH23NZ2rgiaXhZQe0oKndiV9oBl3t4/uxCAGL4eGBUEma\n",
       "wjMXBjGa00M+734S1j8uHvOsDAKsb3aLWKUgK0bhIyu4aAm3dzp1fr2o7Kb0e/dFjNywgzpisE1b\n",
       "EOEIbfqybNKCp2uQnRW7yhMO9IZA+O96pOsNkn8RmRHSkyiH2DrSnY2URy0Q/Uom87PtPNTzOItH\n",
       "gxTh8sKTlvlFwbAqFeDhAg49KQsnH3ivaZvpuIIGTRM1HC//Nky5eytGdbyGHogeYXKSkXkrpl15\n",
       "LajzJylyGutXalpndnG0QZ0bNsex3FcTtENmVn+UGd3WkOPNhUCWobN/ZEdxNY0ZB5nVz62biZsx\n",
       "nLudrjII/cIFHdxS66kR9cdHZHiRyvWHYfGp2N5WcXgxcdR2qga9Z7+BQmI3qiLQ+7NaK12jdlZQ\n",
       "/ViVpmt1K4uck1BiRdzv5Wx6vpc6U6H/Eho20VZYewyWLX8WLisaxPaj6ay9CdiNIe3SuKtP7VbM\n",
       "u33HiTnwG224Qv3RC3bQJpkCp07rj3UQ24AIT/ozX6FAYBaIvprurhttseSPTAntHVwPZMmZt2Ie\n",
       "ycgBed4uxEOD9VRtW07rRqalgMTsLE7WyKEjtUed64PrXwnIbUbIimgmSNTgqGQQgT7uwq8L78/l\n",
       "d4pFU5hnHJLpiSPfeH3157RRWfPx4Bk4rgw1rABqKStkYUqzMsgPAWGf/l843F/xVr0dqmyBDR93\n",
       "C1sEu6RgB9abwyITqHseeGnpe4NNhq+MT/QnsetsqvVz04a9lcYzpOzRdt8UTS+quC6bUqP5xerE\n",
       "/ncXD2xEYgkrLXvv/xQ4sMUJFe5eusPFKWBRcgKP2xXX5DwC9+oWCtBRsOBCEM5jvoNTq2LTdabD\n",
       "PDU8f7tpcJ8xmi6+3NEDfd0aNojw1zz8UOCKUWsoG28O24iC3F7ScA9htTqYT35kvuEFdjziaa5n\n",
       "OFvyIK8WBeAfkmscQ2QV47KKryqXzBIZf6GSUs2k4HDHopov9ZHxpWI3slc4puE4JN/ktVzCE1/s\n",
       "Ux6kb6Pj1H7Mio+mnM1Zz0o0+TpKsSxLMXsGfeREtBViHiZwrTKlNtiHIosQBFnclAciKOFL6Ro5\n",
       "0w52h7lsSJhSYjJ/KexuQr52p6LKxXmmDHxxanDl9Px1rXtzM49zuyl32KrCIC0uUBgKVZ8pyxxW\n",
       "6Z1DBeRwt3PPVmI3FuKP2QV7wlWRGbO3dNst0gD1mXpAAAAD7kGayUnhDyZTAhv//qeEAAvwnPnS\n",
       "eUADqj+mlWo85zxj0QWGqdAa7NU/QAkGeJH7gB2Ev9PgNurEhBlitSKuU+dxhU/L4agy5OpxavXe\n",
       "4pUPuGMqGyd+espQ5ri4jStFYoKVy3Yg2dI83to+XDMS8G+pcIC9s1pdhnbxvLH+uyE1xHZbgkod\n",
       "Elu1Ues1GoocUb/cRO9vBPFHWBYNUA6XI8mrqED6XLQUwAB1Alurw1z2vAO6zlrA/z72czg9tceT\n",
       "8BxMQ3Gg6zTD6gd5AC35Vgw4fgBlVqrmAzuzm+hJy/t7ZEQ6A29M9bud+taLummgYWP/kYtYSLz3\n",
       "9vB+/i2/qVMZNUK61jgbBGgzdQ7W8Q0uU6WAFx2jVo8VF4MoHhRQJJSvLm+YkPFvikrr7eFE1TU2\n",
       "XOwL7sqGI+VksMiBZCzzVJG3oT80iWrQskO127QByZCG/lQf4CAHXTEWyuA8Xmncn7JG36NLd0mr\n",
       "JBcEErUJ/fvp+Gh6+jB2vXSaQA3/GaIFJxZDIbp+HRukQQPsgBIK6dMBFaMLO9tMmaBrawzT9hOP\n",
       "Q9MUQFIaHWBJfD0XsL902O8YPAblrbLHCq7szLlPWWMRgOlwUk8Mi2Oo2LHrj0BgcCX2lZUjUTdF\n",
       "AoUwbdVv5jz9sO4aSOr9a+wsMxdDqwYilsDXMGADQBWRaUymGwJtDoX5i5TFavwzURxPMJAMzfWb\n",
       "s/HMbcst/ZQOFFJctOkdnCMLTMKhZDEkxgeBVfCCGOWuEj+sUAFsuuPQzViuKfSJWlga1/sedhb3\n",
       "GX1ei8vS0LgsCF9445q6ZHAoWFjcLoeBGKx6yVNcm55UhShmy4A2wTGdAYBjRDgQ/JRtH8BmOIBp\n",
       "M1d3xbc88oGFoUMZbRdGOSdrTwUYM3furek2eFznYGyxxrgufulVzI9Z0QfyTb/37sNngUPMF7+a\n",
       "uWE75Ph5R+Ji1+eOElHSLKdYyf4PXV3Q/v8JmYORgvmikkoAwZJOkTr/O0VEk+7Y+Fa+fNyD2I5K\n",
       "8A+y0D9MNuMnETrSOGxiJ7Ug7Rwh/yZWfqcLCSF+B0f8W/ncdQfWTZISAUhPUyPJ62EJmd/oLGWX\n",
       "a4o4VsbiVwkKsY1YBUWkwK/01N2Jk/I4Vywfh3XVFsK1+xPqT6uh7xQKV0CFXhbYqQl2ciJrnB0g\n",
       "53iSbLXqs1DfWiHuQYtW9GpQSc84dW5HDkVybZQIPH1Gh76XIBodoQerPWO/efQ8bVqJ4TyfgnLM\n",
       "MCtWxEXzR8LVFIDLl9qPzCH7/xXSrkYSgE61d+5ULh1S1Pi7MhcaGoKy0P++24jS3u+3aji8LiB/\n",
       "3y20Pn/d6FCs86tFaimrMygAAAK8QZrtSeEPJlMCGf/+nhAALm689Dqiw8YAQYQcyZd070oEQhvI\n",
       "0R+nyoWhZvBfrGM8x3GQPQMAdlwTfcgV2VUCT72QYCtHtBrAVbtUuuVxx0AE3OG5b/k29CNeTDDx\n",
       "0cr0qvL2eLUWjMoy/Z+AO/tFrRDst7DvJBx+ENND0Ex8U17K5TV091sA7hce4UAtxk4CZu135TEG\n",
       "xX5E9bI7YewK5wiTMbizRSNTaEGjjVMa1mwMq73ma+yfyYXOA+5yjPHxLSy1p7ZU1hjEea8xPZ9f\n",
       "nRStqUwifB18ZLypx3g8bRd45xoLzd1oQ5he+UPOVGm7JHNhdX71hrxfDkTv9IvFg4ptvy/r8vPK\n",
       "c9NFbH/odojrkXcsarAZofESIjMNIrJe3YqbD8Ccc07GvRgX67/UojiZ03GlyUcE0v6G/NMMmn1u\n",
       "SwBzHdXaSlbet//+xCbCDMmj8xieWqtjPQGQlDwkEOSFKhHhFTtXBxg1W5gVc1gBr31f4su3ZN/N\n",
       "nydT/BhOjLVbKEUelcXeVkfIzhSTnZ+xYXkaSlvfIjlGs5Owg0UxcGgKF2EMeqEcnDP2JFEFm/F6\n",
       "4YDYpwMLNQHSZJF9zvNwrcmqidn583Gjj9BEW0qqebZgZBdBZH7KVMilkt4lxy5CnvtB02C1dDzv\n",
       "+ZfN/8GMOExJOnano8UmnGQRcfn+98mFAsuuWVItp2DLYdv+Kmn32M4k7IEQW22vTKFRT8+zRsfv\n",
       "b8ElM2ObLgIvHsCp33Jdyx27ShJJromQXUxAG2K3b6rUbVybcERfy1a3WXW65aSCyJJr+tIQRhkb\n",
       "QXuPuh30X7Po3D22sXyo3V9Ya8stjYWOxxlCcu5FT3EHMnn5lr53eQ1/mI2BhezaSm0OPi70cFDP\n",
       "zK3O+0VwXTG3+ABQhOVLprrBLtBPh8GC/mgom3hDPg8YAQOCgQAAAY5BnwtFETwr/wCJLJeoUziv\n",
       "RgBcPS3dsmG2rYwkvvNfT1IlNGZ3/QC8wAbD4+xhNJ3be4SMHOXhTMWLH8n/cGxvD6yjwyk7pfa6\n",
       "X+TNlJp05QpAcgpImSlafTscEvSDYoXN3h5piDeCPbahYCDHUhmtkt6zYJYjs4fzLH4VRdN8yPEM\n",
       "r4gOYWV66Tj1tsVaB/E6C/bNBQxBIrFvoa3PTIXj5tv9dszL+N2sbawFQHpo0AraDJz01tujwnc2\n",
       "gAP+hY0xVcbEUpTB1OGlW/3EorbKPvKcSSdNLlEnOjPzQpnhme+73BEgkxAaDIYzwByjM31JalTE\n",
       "5HKplwp1V730iriwwDByIdWyN9fZ1XXSKzDyRGK29vCwhrPuZh3QYROSNvYRzia6NvCZ1FzItAkX\n",
       "EdQJ7snB7TFzdOb6Afj2vpXu2uw3bDdFPOf6+sdFP8TVLSB78TQ4E/Z5UKTWWjwXbwun/gLruTF/\n",
       "/+GN+KLJMwl2yVgcchiJleh7K3UlxsulrSiH3w01KDh3Ro6IgI3WuwAAAYgBnyp0Qn8AtaMnC0v8\n",
       "FoRfNS6LhHD9FRbERJ2+d5Tm1XNqY61uBxo89vAA/crWdBFllaVaSGb1Vg23czr29EES//x890b6\n",
       "7JKnRI81V9vN/U+GpHXvpII2TrFeL/qFSNQVxvwnsj/RQnCPKECxkxg8gLx0QLk9r6FVhZlB2JXj\n",
       "YpwTBtuTXNWk8NUJclVSii0/0T7Q32W/CFfjwfkK5bZl0CNPA5uUWB/zZbo5PJfFGeQh384dPefB\n",
       "5+Mq9On8dOX+elOKWW9TnrObw9IHUZYoNo6V0omxu0aADkVr1bJtQoSUviqewfdpx3ecB8MA+8CL\n",
       "VrxH8sI/vi3Oaumq7lawipzEuAq4pedFGPMXt+Clne/8SvUOJyhsczrer3ra28kD9CZli693EVWa\n",
       "eZL9a6O82SY9zNDIXFJ8orTuK65lG0rNP5rvaShy3g2KAU1DZVyxbwu9OF0nur7gMxae0Zr6JTVv\n",
       "7fDeerJVnDemvS2RBjY+Koblm/wcF0MmFFID7mqEeD6cQxt7gQAAAKIBnyxqQn8AtdwCmnPoDWsV\n",
       "5ElHsYtWlRhBIh7vdyAFbDHJOV5QA+SQABw77XhT2lB+1OTqYkaSbs6q0YJjjzjUcM+4RMmdTN/2\n",
       "VpArvXQwOBYD1vj3phH+fzLhUQU8ciMSLhwAmlDK5weZadYHrrxzsBctPENEXBZBtEArE9z5gl5d\n",
       "Ml6GLfiSUHg50YRzF9EryZAToDeZGM7L1B43alg8FqcAAAHdQZsuSahBaJlMCGf//p4QAC5uucn+\n",
       "PMAHBuYgIPKKJthlbv1Ig/G8kp0CVbhzjshFztDh1+RdYa7NM+vTHF+37Vs584+ZXVsxNHEqeDuN\n",
       "NrSjEs+M5xsy8gu/DdTobs8v422m0C1zduus0BgLoViAthIojAAwRptS++sd3+ESnOcD4XDqgpHi\n",
       "KMJ0hPEmvc9xRPAc6mxqdnP6+HGVNN+H5/Q8Hjxi08SQz1hblLo9U72PclqwTgU/KL3ChVtaGalM\n",
       "H1YsKLVo72tIkxjXRK2Dkj8jsGDswHfI9RJPt8WfThguHAMULKUoQwS9D9qgZIY/+Edhe47yKOcd\n",
       "Av6it1nhEohMdkbCMgklVTF6G688tzYUpESypDnCz2xd4TadIWT+MKRqiCKRpyoBOe/d88eAJe6Y\n",
       "B+TofSCLrvYA6mEWMwIwePVmKCukJDmujf5y8cgMRVWn3G4YdsoYVH/mmRh8uJUkN9iQrhEDaeT8\n",
       "YgSbBOw2qH1V96vHVLb1FPDfd8kcHRtuBF8AHPz3ey1lTl6rboBGKQWn7hZOpJsAwQL+8aCFQXS8\n",
       "WIS3pkphhQnJlK8pQRPhD5t2NvVhGyQHN/RzbpeE0U8joRlPNLmaQHf1z7KQxTbs4XcUyKekIt6B\n",
       "AAAEDUGbUUnhClJlMCF//oywAC7NETiDl1UIAM8xC2NB/6isG+xXa85XkUfeg/Ag3DCxPnPfipv5\n",
       "E+n9jB1Uyvs+2rDsyvWhtqZqaQol+/4rkaL6qqkXmHAjqLPLbeZZUkbJJCMBLYi548nJjSHv+Sdy\n",
       "6vuQtZwII1/0u1wqayUUCA57MxO1C9QrMNjXT+pfgOH7urA3EDCoBDrWdhtlGTAB8gZIvn0ti14Y\n",
       "RLksxVG/Ulcakz2huOCBwOjov8M155Qiqcl6oT+kLLZSro7vc+xmLyX5h0ma2etzB0dYRkfark1e\n",
       "IYfL4S9kZTfq3pNGQz6fUeLqmGZZa/rMFb6VFN+13zX0FyV6Ry8tXQvD3Km8xu2TDweg71pya1SA\n",
       "Zz16p60L9Lens/oftbntRpOT8Hi8NcByrBkzOeg/p7+gozyn8Q3YEI1F3qbgVJ4xt0ow12Gu586K\n",
       "LcOCOi5oOMh7EP74U+F6R15YP8/FuGXDU6JNezYCh2LiSsae9B5m2zQ2XAk84dG3RKGArvZEHaZi\n",
       "xJH6PHV4PxxCkpGeA/MKtxVTlPwQJdkkmGiCDJAv/sOBOoqixxpvPoOdminFuxGl8bdthXA21PWX\n",
       "8IMNqW6yBv1Y/s+y+AH2RzWf6wWcggVuMctbyOeLdzkm4w9HN6aoxvjnY+rqPchYCJ+LGX/22MvB\n",
       "w9abaZQI0MvJMdFk40MdQ6lt6DjqAhysrsf0nuY7v2UyPZfV9kFncZBz2D3PS1y28sENeVDhFxGu\n",
       "oo+trwzI5lKNXVt2FPE3W5+g9wjHBuZ8G5Yb6FV6004xoaI0Z+FieCdPjDWKFxY+okiGuH+5XGQM\n",
       "S1Vx1GpSJDLM871CJXzKez/wFmEtm7IjfE1ftMK9VODMP423Nhk38TQpwXNZTpcEGe1VyzwmmrPO\n",
       "ghiz5fUZQRB3Oa/f6sZDyk28m19VsFKacKl8WiXYhVzLMaGKaOrzdGCm/tJAXVWfCJVd0jmtm7N1\n",
       "d4GmPe0930CiLb9ihNy5km0/kJB724MYjHtymGeG99KU6/bUQL+uhRqnn3O1xYjKzIjzUhRJJM/a\n",
       "2PGBAKLaa0SsoBiv7rVlbKNuejLomPBFaVSLeWyNh+DkqdIhI5zNoTSF9pOSBEKUU4m3bh6Fw6hV\n",
       "tBmcaM5CGorCdkLgEdxPBrZDsVQK7JhCaLGdVXNPR1yegexzBwchjNk33lo9DquHOrBvLeNVxdN+\n",
       "SHG692RWjPFAaAyy0ciABdZDpwmXyvqiwJKoTWNHGsMHyI8lBVfy75R58dAI2u9aUQQtzQ/9EJer\n",
       "R4DbqCqQY2T8DqZWbOWuw6hIoRUfb+YiHUox8lkz/bnmrWh5+G7dkH8z0c+UtCt0cO2RS32z3aGR\n",
       "k1EZi/lzQakkD/MdxfLtAAAB60Gfb0U0TCv/AIr6xsGvQODV/tL9VqYgBAMzvc7Az4IDgNvxf8IW\n",
       "zSTgYfAYegQDB7TFO9QLHweWIeXontth6gkPZKKCBwZ3eLyhviv3zLM8UNC909MGgZIpWmM75jfY\n",
       "TZ7Ianyyvi1UXQ9C+FzkUpF7+BX5fCfVc9iRfwxo10DYQnFcNpbJ+55uk9LQgiwrAaQ8kQn0D/Bv\n",
       "cu+Se4yDWcGbOun+ahnq9DNII2mf1vnoL++CPqOTsJjvJ14nXidRGs2fZcIzRq2eOFa4BFnwLLX3\n",
       "CWlt5I/06oshg+9jjmuoe7XevLYEJgObb4UdGk3zF+4rNJnzWbjW4++OVpYzdO8wLXFOOpP6AfME\n",
       "b+HXrv8954qcAlvZ1oflqIsBemM0AOc3hzeUEvK/OQa60PWU6dgO0G7NVliLEAPZmTBEcsD5dvUh\n",
       "bKv62MIGAZ+lH9VgXfQ9Ma5Pou1vcMqU74hBcd7hHZlOdPckaL/6JgK2TysW07ZROJDr9auIPbCR\n",
       "Qs6RaaF2pIKPaGvSexQF62fBZF9pB3WEYyk96+JR1R5WHiT/LVkBMsZZ7LMLZevXlxmwC2134elJ\n",
       "aV+Qd/GDItoJSpN5JN8SCodR8wxOcflWuY0NIm34ZkwtUF4NWsUQnbhKEYf2vdskvF7wlLQIAAAB\n",
       "LgGfkGpCfwC13AKWRaB2UkFJ+ABsVdEdfNVbuKiVrvOZKLDpggtCyqwk14tqNsOOYs8L/2L0lJ2t\n",
       "mROitStntdyZF5N+XfAoPXxq+h5HTEZtzGObL5GPPIBXK7JffE9IiHxrdn21BwbUhWnZVQmH/+83\n",
       "2qNAzQdIrCmi6aMy+wgOxEPwMWT4SagtfdEvslWsSHoeNLECEQH4xivpNaa/Gr7ZFYEOTt4Ih/rf\n",
       "9WJ4jV3Xf+tybrL5IkUfaa8vhgLvnD1UHYXlkbNd4rz9+GYEYLOKFjDYGfcdU2pAogNvFEG9aD1V\n",
       "1KzuXYqttFsHIBMfHJ7u7sByXFo9qGn8CVrRzb43QVgjQQl9L6gKLuF/uIDWfRHEoRytR75BLMwl\n",
       "9zsIsu1DO0+761x12QDCbvQgAAACSEGbkkmoQWiZTAhf//6MsAAuzMrsbq4uAEAuS02epTyh1sf0\n",
       "+wubKNa7XdPUuxHBSfELbankvuCxyosbFjF34iLZDI1g7W26cIgPgW55A7pEny1obbKoennU5/+7\n",
       "FV6IbWj+seAJcNOxcyV4Iv/X/GEY+U1Cke9vMTxME50dteMw2XvRl9ncNVRBRY2BOhRmJOpik8+u\n",
       "OhAk2Fmtjw/LyD+AFr7E2Drt7iEQ7FoQVrgjgD4dX+q0uf4C3hHXien2my9kdse3L8WoOrXbRvgp\n",
       "g/EiGDVVBK3prqp395BOem0+o9F0Ulm0QbuTQc6KRMqhfr4BFEQnNtT541lT+dZn2hdbfTlNRKVb\n",
       "bZFqXtvwu92ei3k/RG+YLdJVCFpQWkX63k8vuoqK+NavlXj3p4GePeco/f7Q2uchuvIfQCuxh6S2\n",
       "/dET2u+/fJLBcORcoFd+VBd8Vw1C04X6TW+S8utPZ8ggSM+YrEYRWK4r3lYxLITd+FBJiKiYtU5o\n",
       "hyKJZZ6IQ7xCTp/4VMmmARcgIOsdoNWZz7Ht9TDVqKXWFHRMygHDk5G9H5y8K0UH3W2Vfo6iZ28a\n",
       "QBZ5XOL4nCk35JyRAzrLHEZJqWakh3kBZVm81koPDz1RpsUvAO2DdO8BrRMDZb8nx6Z1l69Uzpse\n",
       "+5C17McqUEG25eRx7pNNSvMSv8RK/xCDQV98Cy7pB/J4da8qMg+N4ATO40svJD/W6c0njm14LzVH\n",
       "tRqeDrPsxyI4t+A35wG8fMbuCFvXVM3K69lnI9eIbK5xB1LPAAACFkGbs0nhClJlMCF//oywAC7N\n",
       "E59NgFQcAIU9SX/NcVY3SNHKB2cMzbY6ko07mo3mTFGk1m7AjoJvPPBoGH8Ynk/4HZdcay8npjyv\n",
       "G3ygaioWo13efxAUesgKki8ZEchV83Z1SJ4W8vEJyunzIWu2ntQA57MzO2qfCyB476+jIU5lPt+i\n",
       "8M6JZbHqhAqN5+9KiU/1GQtnLPPc2bWQnguv3HURhXkZNwjVzllDBJBMlZvOVK7Pl0tgXdNwIlvK\n",
       "vEhKgRdpVUMbAH4LWeZJJX3Y3WpTzmSj4HtBzH47FoNeSBkwPSnxd9JADm49SsoI4Wjm8AHICef8\n",
       "e8gQl0PfT8NDJIvMG9ZFA4q0+a9rmQaWe/mTbKC/yn3+QC5eu5y7lrMxwmBYx3o3tnDd5ETDkhst\n",
       "HNAjBy3mA0zGmFe+w5uLJgosta7CqwWgrcWbTb2+etmmQ5Q61IDihCSL4o7ErMwcIAmBRoNkztrI\n",
       "xh8rzspApTSIJ5Zq58bUUJLD6qId7vxQXNg7UGKt0cTuZuRJyBrvDTxNZezV6a+Gi0fU1CUHER2X\n",
       "bS+bl/MtScpJrWloJ4mPtBLY3goXjTo/U2KcwVerQNwYAyCYdUCLr0rXjeUbh9TlOiNx3KesKwLd\n",
       "BQ8+nwoxiWpzwWAoajZJLg0ba/kcjFkRQcxK0Lf1see3YejT/alrMoBPWp97TojH1fm8lB/JEa53\n",
       "UEgzgAAAAjpBm9RJ4Q6JlMCF//6MsABScC1HHOZPZc9yzwaW1ceAEQeii8mkaRe92i7q0uWBJwFR\n",
       "mnGj2+nc+EdSCfbtk3bVwj1U7vgdyes5LhsD5oTNBfbWlSivgsLOp1DMNsXA2e25iHEaSXqadkGW\n",
       "f89WHvvrPPdkRvuyLpkv5n6whvIaK2+2+tL5XNlNxo7dKmuvlpAfVqhsiKEWDWV1RjGPY3CHcnpY\n",
       "wRjNG/hG2tTvxqRfXex+HBIBYjm42h6Wp5ZR+nZ5Cztl3QsYzDhEpfyf15YExcipi711j3fyfS8D\n",
       "5mRKDN6Ib19snYHgeKp2QgCLlnoqKTtgyhrKL/r5WOP4J6TtvxpUNJfi+vjgpUenaeAO8/rwuJVr\n",
       "KL9VyxMVe9/xK7abLBctSTg1X1HqjQMBUw5gouxNj43KdJ8nTnUsYdcEr+Amm0hWWM77ZqhKs0st\n",
       "bfSIqYEReRqQfURsxfJqplS7lLIdRGAxOzX2UqYRTPyPhXDppTszt2XuVb+KUsLa3he9hmGmlPGX\n",
       "syDK/JwsumYDTkuDlel8OShlDKLj4hP36jnvfahF3QXCZQu6DYhPb+8VOwkEBd9Oi/WpxrRfFwGX\n",
       "ryrVje0t+a782AKCakKQfdrj1z6mBaEKjSkLuY6DKt0UWr+eR1Ocwz6TbDvRYfkCQ9SSVf1DHXgB\n",
       "wBVJ+KNgOURnSYUdxRuSHWXpDnFJxR//PvWTEiIPCGO7PpcBpk0pfNBzgJgtbS5DtzqJXKFNhi/Q\n",
       "LvXgvAwuy0AAAAJuQZv1SeEPJlMCF//+jLAAW3ZdA9QFMAxVqj/wAE6z+vzTe4FpgOJ8WYMP9cIp\n",
       "JY5q0KEHpDCTMCsvTKQ33hOeOd6q6zfkjm/U4uXZaO9G443RV62PfWvJiKaWK+ubwWVz9sratRbu\n",
       "rXvAH4SnxOWXphn8+aD+ZCl+8XLywe4Tkq2BYeEOf7Zde6bx8L+5HojsxFcijgNV22QfgjPvVRzq\n",
       "PiZbO9/p+cszV0M0wBbWAgT1UiNBVUbjDWo/TObT6o+wQfIdlPGCVIjuAbUiOu5lsLHku7pwwyz+\n",
       "Kl29X5vScGW+B665tHQyIQ4rjNuk/D7hS6tg8S0x/q4NZf1xaJnMlQ7nMAP/6G0R2TjcO3473DYB\n",
       "vcTigz3GRZELQT5LlDXtewLc1Dhrx25jp2Rs9uojU07JMEFMzZZ+B3Lva7aG9hDpPEaVdIzI20V5\n",
       "65BxWC1ZQLubtORvuRFSGM1gnhMnbFaDzR0vR3Gwi+fprpIxkY+/GZ5RunPtL48VJc7lj/6wEDwi\n",
       "DfLuGqYM+oPztJXLZUE1kW9wgdcJHtp5V5jz1AmvnhhOTp83wF/pH5w7sWlP+Tbz/K8tCo/ujcU8\n",
       "IEF6lCWTiOboadqp3fhK9x1uyUssJ65syTvoGE3XHxC0h7JHCjlvKFE5UHQKLMoSBBWuNAQAT4tW\n",
       "Pdng5THXQnmGeDr45g8sKVgtdymiEe2+td0zCj/oWIqtNGrBsxOIn+dfc7TObC/mlC/83quKmkZy\n",
       "zWjm7ZSFs+2Q+0Ml2kFFSbagsksrd+qeTL09AIYJNfYXSvA5vHdZYOtbWzVl/xwKc223R5lnZy7m\n",
       "UmyPWs6noQAAAjBBmhZJ4Q8mUwIX//6MsACu74+BrEhF+pQlvYj4HMPO3OagkQ8FLkjBpRI5XIye\n",
       "ocK9GhdlLYZQaIcPLvlqA+oPoPHxXKwbv9OIpl88L8SP8e7yK1xZXk15ODgaYZioR9VI/KpgTeku\n",
       "prI2Lt9U8Jc6mK7QmzXe6lQ8x97fvOO9q/x+rzrHelWu3IRm4c6LFygbvToI+73LmKexvcaAPRFM\n",
       "aU0hQvqw6RxAGuLzoc21KbDYDrSw1GYy5C/1JU05GO7BD1o5JzhnedOYCfWcgSdiYClHRP6bbvyM\n",
       "2Cf+Gd0gAdQqVYAVBcK6o1i6/iMlNFknuRFpIIKfE4k2mzzU1alCvH20h0oT2o45joXEZDsBoA59\n",
       "yb8VIn+CUEYeBYY6iqFcgNqHUt8eCiVqdanQLyCCzTP0ZNM+pX5zUaZQg6Ih9puS7byHuqk4s8h7\n",
       "H5rqFgXFISsbAFzGJ1Q9/Kz+145v8vL7navyA+HrWsYLmfMdf73a3fkgNGY4hraovdyf6HGk6WcS\n",
       "xa6GB41IseXQ5BCFr6BJSZRISQrFdD2tcjCy42/bM2S8xu5V37cPMCYT9KtKDsvvp0Scaj8KMn7w\n",
       "abJ/J0+iaSaRPJLh15rB45zFTmM7eV3zt4WFsrvBUUSQ3jtQEml4zyC0Ld0kRcRSDch9Rkmny/yU\n",
       "vFzM733SFzKkaa+aS6xMq2m2+HuVzaERAQ36rjJkrEuhojx9vBVAu+hjqKuDvDsCJ022ydt8yicD\n",
       "8wAAAkhBmjdJ4Q8mUwIX//6MsAFTYXUsifuxoXgyHaAC57RqKQwfHxQtPWsvhaYy3NVQwtEP4oDd\n",
       "dwdOiwfAS207/USe33LClW7mHH2f5IdVTvsP8KP7wY5KTYlSgftSFLnHgB/P7Xz4rvXLZE0HJIO7\n",
       "Ap9WgEajqmqeSAnjyOrI0UixxFIwHUxrGERkh8rKkqK0kQFuoytm5Xw4GlQ2TLuiA+Ho6+5lAoYj\n",
       "4Ag+EL5ZRy0Io898w8VniEAzQjzX6htWQdkRtd1ite9gNPVfGM8Fseroz2qElxzL6sz6hv6yoo0w\n",
       "n0oqHkRX2Yh1m/J6CfWWQgqdN0/33TyfhEpEfqm5a4Mpuf/B8eQ5wXsQUE1PCLsqEt5z7UIis6vx\n",
       "imrA8WmOUS9p0ir8+NwjBXe3MTTnP/R11GsC8KaubDljqJviBuXlIHRQJ5zLJEY8Vkd3wVj/ixPx\n",
       "FltaJgP2oln7yMtrTnxwUwWOngXRORCj8eyKMKBkSh5kzPR52XadExwQ2xtfzHOTSwTIq7XuL6qM\n",
       "d/g+pRLlnlQmHQcCW4IEw8/DPcu3Bvvepyrz8RlfQy6xzo10kRIZy98InFx9pFdcszipCA6DvXPN\n",
       "DDtGrE0zFsj59iw10JT7d3cNpFAmo+5bnn3B4BQLhlTWezmKrxS6Lc3yyIlInJR/U3UQYL2nJomN\n",
       "mLDQLxG9mHAHyTCWGq3C2vALa5Xo/M/MAa7bFBMaHqjzI3815BNfAgdnrjidDP2Qa+s4ZSqGWmpf\n",
       "pbhR33uC4kAAbFU6Wri5j0rNyQAAAllBmlhJ4Q8mUwIX//6MsAKojP2smztdh0UHNj+MTsE3wARB\n",
       "6FsVIDvNwgCDmJi9AiSzOHOqNCl59/1qPukL73tlbTmF0jG3/YvNa8MxHbHhgVlx15mcvV3a5v2T\n",
       "Jj0X2mjhD4vTBG+7jXzVWlFOhGwX+bO409rosL8RdthC5SK6Hbki3f3ZrLlaq2CR3NGA2YRkIzXc\n",
       "vw50dqQZsyvEktGqEdtuHJhcKkmlajRxQSdtFuDUAz/Z98r53ouyLT3L991WahDohYmZ/olgoPfP\n",
       "u9Grde1fd8VXJOqex9ma9076Ke88Uqbczm1mSDqd7sR0fRdKZkoSKnLBrmwq7AoAq67eZKeLexRt\n",
       "PgOuEAW3TuQgmiBWXmyQqyfIjRJVFU3orA/xtHvFnkMXtKe/9CxO2EAsDsbpiPWC4kCi2NDgbTum\n",
       "/1a6r0Pp1lxEjHiafzVfUPTN09kt6Azd27cPcjr6oyj6Cjw9Je5t/wdt2mCCiswJW5GN/dZ9vVvr\n",
       "lK04YL7aSAlAjwTZo0KZwnd3q6KiVo6NUB+b4AaFDAB6JOx3KPdxA9rp9vWvDSOsk3P3Pqp/Dihw\n",
       "Sf7vAh13XsjRt/TfYXwiUDRA2O5D0m2Ni1GuP/U7NHwafxNb68uu375hmA+Ew7wmQouzwuwIny6N\n",
       "Fqf2jvtm2SM5KRdksgh5w7VsVtFHiFba3e/1v4ybLxLzSTp2VhkZigCBuBh6I9HoGZpdWaP8UBI1\n",
       "5V5/+AjDtk1HhDnT2K+HM8yrszzR0Yw8e/L8sPPcIeJHxGcxNeAkvzgrR5Gll+RNV8A4gWFhAAAC\n",
       "Q0GaeUnhDyZTAhf//oywArifSjrbuDCz/wAHZq84Ml46ti81IATK59zy4z7+4js02bat8Wfomi+x\n",
       "8D+6QEPNn4u/jE9YhTZhkAr9b2jwVi1XrWcQX7hufOS+SUlIeZYgrzCSUSQB7cC/us2zK+ehSe2E\n",
       "wlMeUFH3rTPiugB8Yn74yzzjt+V2Poa0nU/5NIy3m5SdB3lDTDlh6svAyuVeWmE32ElId1/9kSkb\n",
       "E7eh9/EQQe01jbRI/RalBw0z88c7CPryKFC+uSGKmQ+NCAB7slarwuFhK1m9RtjRtol899qam8bf\n",
       "B1U21wdQjGniCIVMRS5P+hPHtlgjLDV5bah7DZ0/a5EHxYtFR6X64TAVqB9EM7Bl2an+KyeZ9kg1\n",
       "FTJLDqzREs4xx/iTJGsYljkRQ0cBOxupKBFMvt4i2Q6ZxaueC8UjMX3MPKfPOhcXiHdfpAUQouD/\n",
       "jWYwCZ4YbuSs33FafutgV8dVbo4ptiyL5B3uuRQZT5/H4Sen6+2FSD6Z8SZVhhqE231U+CekEj3r\n",
       "taus3lx8eXc6+Vf/MfaTl5+ZdBpxaw/f4KfXVeEcPheZzwku7YyA+4gYjgNlk6zpp/JYG+1/gDla\n",
       "/RgLm6JAYwtL3iFeRxsBCAc8rvXjUG0aRtvNk6MkENjtj1/Roh7LElNopUfGNk57QYi9sN0S8QVP\n",
       "x87kjfNJjikiRR9SWN6G3oXirkxHfZQQ7fp1hPdpUW29xasAF1Okp2RcVP04aUfLfN3iMLgmlf8d\n",
       "x/3WhbBW0tvMsAAAApJBmppJ4Q8mUwIX//6MsAWwLYAATt6FhaHoSlzfS+7Lyj14lQJM3PpqpMEU\n",
       "uKFmqVUxniwph37macY9HWdVBHq9cnGZvOSbfUK9yx/5UFzvzuhkWpXBkgDmDqZHaxC+NkGy2gR0\n",
       "XW8XHKhs3B5RJOlsRkCO7R5ghSVvGLp4TfL1dXY/rVpQHPfomKjL1VQN14LLpvwKsPMPgSrGhmbJ\n",
       "DTzRaQd7SjK4wiT/8n0TXGGTKKb67e6bA4Y0YDBplwN+Rc3Jn5VkeK9lXxfNg9E7OcP7TQGbYs9j\n",
       "APN4cyOGHjyFMferS2CDZblTnqxWqRhXWGNMoP7CJ9PUxepn6G7ItJnkOiIeQ3vsUunC/Cf0QfFT\n",
       "I2PRB+eTHo6NR0NmA+e5MsofbwdcrJa7R9XuD+2G6eST+OldaELBohyhE6FunZNLUlsrE6jyq2Fl\n",
       "q+/QbqFDDkjFRhCp1XlIm5ApFLbjN5Yxa4SjiJGOBtup0i1kVDoEGPqGDDmsSeflD3rw2f3aVN8a\n",
       "muO4mklKhBm+uvQz75u3LObDQlVkN6YPfA1UxG7lMiawLklUfvfeuH6ydLdt4b5B1c5Z1VSQfzH7\n",
       "/A3BxNYBshYKcmrX6bNeGie/fbwzbldjgkdRDueXlaBqasuCSbN0gro0HNRzrnAWRFx2J4g5IeiG\n",
       "WcNh3NEa0Cj7c6cCy+PAfUOEmhcWMe2/Eufk9hoLnPe60zOl+2S1EBgAP1iprbM6AczmS4FEnEQ+\n",
       "Cof9OF4PcgUX5sq7I86lzSOXhHTAvfrYoSI8oCmSl7zTPmK/o6Q8jY8Tnejk8u9YrmEjuimShbCW\n",
       "6DSZB84UIQ3Kk9sYe7KKKk8mk6kKMt0JSvUkS8u+PWJXXf04KhSl4nT1YE1hAAACS0GavUnhDyZT\n",
       "AhP//fEAOO4G/ACEwR2bBQ8vufszceYgv2h3ekZrKVAl7C4/fHDuKRSOYV0jlBFy9lg1IMeAH3KZ\n",
       "FE1HRiMgZkHPqPlhO7rK9y5wVJXxnQYDzgv02F0iaxn2FO81PIbirR2+0fMSv5v5jIbiAzLSQGpm\n",
       "aO1bo2sS+8G7Tk0a6UD/GeDUKkZCyHUT/Z+mEhYCMA7MYRboTaPDThoW+giifs35h7z5aZadQJ3C\n",
       "KOSANFIPKdDhg9tPiEZiZ/DXJqie6ynSlyBNvQ8PcH/UZs327Obd2NVekWrDtQiZSwfl/Pu/1yQL\n",
       "dVzDu0+T7XcXhiniIdbXfSlQy2boL4Gqs5BHOUlhGjSXJQNwgtUnZ320tulZZ6HddCcf6NO4VroN\n",
       "HGopCR5BO3+U0m8ZpxnnXUbHXfRRHLKOZfVFmYEzpfDf9lSBJ0fRIqNWRxE5EzaNEZkVa6se8nHD\n",
       "suqG4Vb5mGoQqih2rc9ssHSQB5/9t4cGRSYA5uED6wa6luhALHoPVJFugUj+0af7x5bimmgmaePy\n",
       "trAY4Q/udwEna4HSeAH73dfz5C5g3CwGXTJ3q1XcrMwEKHzvbjBnr0L7mqIdNzaadMCgzA9GVdw4\n",
       "eEoeMBnZ+e/OkFo6H10L7KsfMTip22OPGQI/T4H8ZqZU7IbCW1aqo1ZhEOqXeuXhuse2hy/D54/P\n",
       "jJ2F1Lrwj1RK8I0++OgaOvCcSgG6teDRH5kVTnwdaazR6zY8SMFQVhoEOh+s4kgcLn4FSivJs5lO\n",
       "RsJfflakHumUAAAC10Ge20URPCv/ATbXdb2AA2LJsUN2T1kwkuxWxZ7G1rOLJGHkzywnFh5XI1dd\n",
       "yIPCC7UqXVsUc1IH/eOc/zg/fyUl6oZpXLtGxN3YRL4kTOysosCq1oUGivzGfzE7OU/J1in8yPO3\n",
       "UcziFiBnnCP2XUAyt6yhsdSwKz6RkuJB8NWuBzSlF0FMqJ8Nk8i+X8nhORVvwMV7WLdXdSAnhtJQ\n",
       "WfJMkA1jTbMZ8BYcvTWw3PZWcbGwTIb8g/pz+W3jXc5J8NqUhDVCXv7Q+aEym+z78xj/WPlrrizr\n",
       "ObuSLe9qzsMaJXVmOdkdx80oC81gSh6aAm7wMu+s3zq8m8WyNayUP/yxoE097WwC/8wyojNsjra2\n",
       "Uacs6NLtJVv2vJhSarOrkgyEieuiA2zc8yoQuqLp5svSH+v5e6EwR+UqCSWGApZg3Pu/lJOsbgjy\n",
       "a8BN5oiVMIvzy0u5Z7U51Apvv7iDz1w2J62irJvTsgxgB9CyE4PbpL5UGXcQo/gnUIlriTPEQvVl\n",
       "RGE03DWUYrupCJ4A8nUoN/Tg2r0CAbYzhbs23k9Ma2D3XaJviEnci94UUWgc0Hkzc7P17AMRddwd\n",
       "9oMEm7qHTf5M45APasueZbeD9TBtmNX+Om5Ejr0oAWpTv8RrrDY6k3/FzYBIh9FqWscLkqcWZuQ5\n",
       "D3ng1UWECDSRkj8gka/5gx7/X6oGDdTzXhByO3KlahABDsaMQNYRsfioGznPNp70vBSMfFC3jEJy\n",
       "ZkQD0THIhBAAkPiwRMY2IuW4KeJW0mbqWsFP4rtGk0wm3v3wHAUPHwz7JVfjDoXpNqi/RReUN3Tm\n",
       "lewt06tA3e16/QOmZODhCzMd37d+ctVcIcmk9etxTqOP93y2Mn9AwtzvXls9d2CmD9t5Ot9WhMP/\n",
       "Tp/y0e5MiSMLICcfe7bXSU55VjEmaEJWDFhVjggekUxtOJQhbB5SJ6TEboZusflACOqRfEgwzoEA\n",
       "AAKCAZ78akJ/AZCBj4AG1GdxfiTgHymSZAGQCLxnhWcdxTP1oK7zxdGuqUCoEHKZb6kx61GC6fbz\n",
       "pfLaZ5juWAJ71CH5DHPIDfSSUiKaLCxz1oyL8Mk87FBBi1M2UWhIS5w4u+mUO1Rfyh0j1ZY4emvx\n",
       "CrccW9U0xhoxfiNjmJY+gsDeYpvAA2jqX138bJoH5LBufxT4t299r2nQ0WFuSAOvYo73UkjJDznj\n",
       "xDrojRBBuWyY1DTDf3uBsd3wYn/LrXk7hl7a2Rdx+Aj98/o+SBG3GsvMFC2oWt40qdMf2ep+zelz\n",
       "5Rj988K6VfBDkBgvJiGjRNfughigJTkA529hFczpixG10IGdgJP0YzCfIBRbQYkLxB8i35qhv43b\n",
       "be1VVa8oRwgPmleh/DINkYz5ak6dwEPUh40HAuvh5zlpyfcWhhUZ42aGOiyJtTWdr3Wl165HcGR4\n",
       "12y0uZMUV8nIWbH+id96XStl8FbCIoq0Kj+kDzDaMJxGjOo5P3sGAH9lhv5YoXBokll9ZkQY1wpT\n",
       "42FQeMlBR613mrtXMkUrjW5Th/N+Qlq37sVRBuUOZDk1dsY1zzTvU0X6mtYHbkyxSnQU8EXnGBqz\n",
       "96zVVhO3ULuB1mrVO7VhN6pz5ymN8/uwzD4x/VDk6i8Fm7+8yomYaycPEFvX+rLvdFJooAgNP7oe\n",
       "YPhqj8QM9+E2nF/pUhhwUsCpXR09wuvV/jPsCbzexZ9NeSDXCx4XXAShpq5IXWhze80TrYSB0/f8\n",
       "UmCvIBfN5SGDEgBRE8i2ZqurO6pQeA4U+WaXgiNCwqGGoY+LaP1fBNkylHTkgVrOdwjfoA4eJUKg\n",
       "Csn++GAIcmAngmbXweuDSbZNAAAEOm1vb3YAAABsbXZoZAAAAAAAAAAAAAAAAAAAA+gAAAPoAAEA\n",
       "AAEAAAAAAAAAAAAAAAABAAAAAAAAAAAAAAAAAAAAAQAAAAAAAAAAAAAAAAAAQAAAAAAAAAAAAAAA\n",
       "AAAAAAAAAAAAAAAAAAAAAAAAAAIAAANkdHJhawAAAFx0a2hkAAAAAwAAAAAAAAAAAAAAAQAAAAAA\n",
       "AAPoAAAAAAAAAAAAAAAAAAAAAAABAAAAAAAAAAAAAAAAAAAAAQAAAAAAAAAAAAAAAAAAQAAAAAGw\n",
       "AAABIAAAAAAAJGVkdHMAAAAcZWxzdAAAAAAAAAABAAAD6AAABAAAAQAAAAAC3G1kaWEAAAAgbWRo\n",
       "ZAAAAAAAAAAAAAAAAAAAPAAAADwAVcQAAAAAAC1oZGxyAAAAAAAAAAB2aWRlAAAAAAAAAAAAAAAA\n",
       "VmlkZW9IYW5kbGVyAAAAAodtaW5mAAAAFHZtaGQAAAABAAAAAAAAAAAAAAAkZGluZgAAABxkcmVm\n",
       "AAAAAAAAAAEAAAAMdXJsIAAAAAEAAAJHc3RibAAAALdzdHNkAAAAAAAAAAEAAACnYXZjMQAAAAAA\n",
       "AAABAAAAAAAAAAAAAAAAAAAAAAGwASAASAAAAEgAAAAAAAAAAQAAAAAAAAAAAAAAAAAAAAAAAAAA\n",
       "AAAAAAAAAAAAAAAAABj//wAAADVhdmNDAWQAFf/hABhnZAAVrNlBsJaEAAADAAQAAAMA8DxYtlgB\n",
       "AAZo6+PLIsD9+PgAAAAAHHV1aWRraEDyXyRPxbo5pRvPAyPzAAAAAAAAABhzdHRzAAAAAAAAAAEA\n",
       "AAAeAAACAAAAABRzdHNzAAAAAAAAAAEAAAABAAAAoGN0dHMAAAAAAAAAEgAAAAEAAAQAAAAAAQAA\n",
       "CgAAAAABAAAEAAAAAAEAAAAAAAAAAQAAAgAAAAABAAAGAAAAAAEAAAIAAAAAAwAABAAAAAABAAAK\n",
       "AAAAAAEAAAQAAAAAAQAAAAAAAAABAAACAAAAAAEAAAQAAAAAAQAACAAAAAACAAACAAAAAAkAAAQA\n",
       "AAAAAQAACAAAAAACAAACAAAAABxzdHNjAAAAAAAAAAEAAAABAAAAHgAAAAEAAACMc3RzegAAAAAA\n",
       "AAAAAAAAHgAAEBcAAAT0AAAEMgAAAV4AAAHrAAADbQAAAx8AAAOxAAADtQAAA/IAAALAAAABkgAA\n",
       "AYwAAACmAAAB4QAABBEAAAHvAAABMgAAAkwAAAIaAAACPgAAAnIAAAI0AAACTAAAAl0AAAJHAAAC\n",
       "lgAAAk8AAALbAAAChgAAABRzdGNvAAAAAAAAAAEAAAAwAAAAYnVkdGEAAABabWV0YQAAAAAAAAAh\n",
       "aGRscgAAAAAAAAAAbWRpcmFwcGwAAAAAAAAAAAAAAAAtaWxzdAAAACWpdG9vAAAAHWRhdGEAAAAB\n",
       "AAAAAExhdmY1OC42NS4xMDE=\n",
       "\">\n",
       "  Your browser does not support the video tag.\n",
       "</video>"
      ],
      "text/plain": [
       "<IPython.core.display.HTML object>"
      ]
     },
     "execution_count": 46,
     "metadata": {},
     "output_type": "execute_result"
    }
   ],
   "source": [
    "from matplotlib import animation, rc\n",
    "from IPython.display import HTML\n",
    "HTML(points_output.anim.to_html5_video())"
   ]
  },
  {
   "cell_type": "code",
   "execution_count": null,
   "metadata": {},
   "outputs": [],
   "source": []
  }
 ],
 "metadata": {
  "colab": {
   "collapsed_sections": [],
   "name": "Copy of Wing Kinematics.ipynb",
   "provenance": []
  },
  "kernelspec": {
   "display_name": "Python 3",
   "language": "python",
   "name": "python3"
  },
  "language_info": {
   "codemirror_mode": {
    "name": "ipython",
    "version": 3
   },
   "file_extension": ".py",
   "mimetype": "text/x-python",
   "name": "python",
   "nbconvert_exporter": "python",
   "pygments_lexer": "ipython3",
   "version": "3.7.9"
  }
 },
 "nbformat": 4,
 "nbformat_minor": 5
}

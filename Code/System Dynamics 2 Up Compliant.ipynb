{
 "cells": [
  {
   "cell_type": "markdown",
   "id": "exotic-southwest",
   "metadata": {
    "id": "suspected-amateur"
   },
   "source": [
    "# Upstroke\n",
    "\n",
    "Team 3"
   ]
  },
  {
   "cell_type": "markdown",
   "id": "industrial-upgrade",
   "metadata": {},
   "source": [
    "## Setup"
   ]
  },
  {
   "cell_type": "code",
   "execution_count": 1,
   "id": "african-destiny",
   "metadata": {
    "colab": {
     "base_uri": "https://localhost:8080/"
    },
    "id": "pi7Co6-jBLqJ",
    "outputId": "3e0b02e5-7b83-4a8a-fb4e-f100a21e47fb"
   },
   "outputs": [],
   "source": [
    "#pip install pynamics"
   ]
  },
  {
   "cell_type": "code",
   "execution_count": 2,
   "id": "unsigned-island",
   "metadata": {
    "id": "frequent-douglas"
   },
   "outputs": [],
   "source": [
    "%matplotlib inline\n",
    "import scipy.optimize\n",
    "import pynamics\n",
    "from pynamics.frame import Frame\n",
    "from pynamics.variable_types import Differentiable,Constant\n",
    "from pynamics.system import System\n",
    "from pynamics.body import Body\n",
    "from pynamics.dyadic import Dyadic\n",
    "from pynamics.output import Output,PointsOutput\n",
    "from pynamics.particle import Particle\n",
    "import pynamics.integration\n",
    "import numpy\n",
    "import sympy\n",
    "import matplotlib.pyplot as plt\n",
    "from matplotlib.patches import Arc\n",
    "plt.ion()\n",
    "from math import pi, sin, cos, tan, asin, acos, atan, degrees, radians, pi"
   ]
  },
  {
   "cell_type": "code",
   "execution_count": 3,
   "id": "cordless-girlfriend",
   "metadata": {},
   "outputs": [],
   "source": [
    "def prettyplot(x,y): # Function plots mechanism and generates labels\n",
    "    # Create Figure\n",
    "    Fig1 = plt.figure(figsize=[15,10])\n",
    "    ax = Fig1.add_axes([0.0, 0.0, 1.0, 1.0], aspect='equal')\n",
    "    #ax.patch.set_alpha(0.0)\n",
    "    \n",
    "    # plot links and joints\n",
    "    plt.plot(x[0:3],y[0:3],color='tab:blue')\n",
    "    plt.plot(x[2:5],y[2:5],color='tab:green')\n",
    "    plt.plot(x[4:],y[4:],color='k')\n",
    "    plt.scatter(x,y,color='k')\n",
    "    plt.axis('equal')\n",
    "    plt.xlim([-0.1,0.5])\n",
    "    \n",
    "    # label joints\n",
    "    for i in range(0, len(x)-1):\n",
    "        plt.text(x[i]-0.004, y[i]-0.004, \"p\"+str(i), verticalalignment='top', horizontalalignment='right', fontsize=14)\n",
    "    \n",
    "    # plot COMs\n",
    "    comx = [(x[0]+x[1])/2, (x[1]+x[2])/2, (x[4]+x[3])/2, (x[3]+x[2])/2, (x[4]+x[0])/2]\n",
    "    comy = [(y[0]+y[1])/2, (y[1]+y[2])/2, (y[4]+y[3])/2, (y[3]+y[2])/2, (y[4]+y[0])/2]\n",
    "    plt.scatter(comx,comy,color='k')\n",
    "    \n",
    "    # label COMs\n",
    "    linknames = ['A', 'B', 'C', 'D', 'E']\n",
    "    for i in range(0, len(comx)):\n",
    "        plt.text(comx[i]+0.004, comy[i], linknames[i], verticalalignment='bottom', horizontalalignment='left', weight='bold', fontsize=16)\n",
    "    \n",
    "    # label properties\n",
    "    propertynames = ['La', 'Lb', 'Lc', 'Ld', 'Le']\n",
    "    for i in range(0, len(comx)):\n",
    "        plt.text(comx[i]+0.016, comy[i], propertynames[i], verticalalignment='bottom', horizontalalignment='left', fontsize=14)\n",
    "    \n",
    "    \n",
    "    # plot frame axes\n",
    "    alen = 0.04    \n",
    "    plt.arrow(0, 0, alen, 0,head_width=0.008,width=0.0004,color='r')\n",
    "    plt.arrow(0, 0, 0, alen,head_width=0.008,width=0.0004,color='r')\n",
    "    vx = []\n",
    "    vy = []\n",
    "    for i in range(1, len(x)-2):\n",
    "        if i <= 2: \n",
    "            vecx = numpy.array([x[i]-x[i-1], y[i]-y[i-1]])\n",
    "            vecx = vecx/(vecx.dot(vecx)**0.5)\n",
    "            vecy = numpy.cross([0,0,1], vecx)[0:2]\n",
    "            plt.arrow(x[i], y[i], alen*vecx[0], alen*vecx[1],head_width=0.008,width=0.0004,color='b')\n",
    "            plt.arrow(x[i], y[i], alen*vecy[0], alen*vecy[1],head_width=0.008,width=0.0004,color='b')\n",
    "            vx.append(vecx)\n",
    "            vy.append(vecy)\n",
    "        if i >= 2:\n",
    "            vecx = numpy.array([x[i]-x[i+1], y[i]-y[i+1]])\n",
    "            vecx = vecx/(vecx.dot(vecx)**0.5)\n",
    "            vecy = numpy.cross([0,0,1], vecx)[0:2]\n",
    "            plt.arrow(x[i], y[i], alen*vecx[0], alen*vecx[1],head_width=0.008,width=0.0004,color='g')\n",
    "            plt.arrow(x[i], y[i], alen*vecy[0], alen*vecy[1],head_width=0.008,width=0.0004,color='g')\n",
    "            vx.append(vecx)\n",
    "            vy.append(vecy)\n",
    "\n",
    "    # label frames\n",
    "    lablen = 0.06\n",
    "\n",
    "    plt.text(x[0]+0.06, y[0], 'Nx', verticalalignment='center', horizontalalignment='center', color='r', fontsize=14)\n",
    "    plt.text(x[0], y[0]+0.06, 'Ny', verticalalignment='center', horizontalalignment='center', color='r', fontsize=14)\n",
    "    \n",
    "    plt.text(x[1]+lablen*vx[0][0], y[1]+lablen*vx[0][1], 'Ax', verticalalignment='center', horizontalalignment='center', color='b', fontsize=14)\n",
    "    plt.text(x[1]+lablen*vy[0][0], y[1]+lablen*vy[0][1], 'Ay', verticalalignment='center', horizontalalignment='center', color='b', fontsize=14)\n",
    "\n",
    "    plt.text(x[2]+lablen*vx[1][0], y[2]+lablen*vx[1][1], 'Bx', verticalalignment='center', horizontalalignment='center', color='b', fontsize=14)\n",
    "    plt.text(x[2]+lablen*vy[1][0], y[2]+lablen*vy[1][1], 'By', verticalalignment='center', horizontalalignment='center', color='b', fontsize=14)\n",
    "\n",
    "    plt.text(x[3]+lablen*vx[3][0], y[3]+lablen*vx[3][1], 'Cx', verticalalignment='center', horizontalalignment='center', color='g', fontsize=14)\n",
    "    plt.text(x[3]+lablen*vy[3][0], y[3]+lablen*vy[3][1], 'Cy', verticalalignment='center', horizontalalignment='center', color='g', fontsize=14)\n",
    "\n",
    "    plt.text(x[2]+lablen*vx[2][0], y[2]+lablen*vx[2][1], 'Dx', verticalalignment='center', horizontalalignment='center', color='g', fontsize=14)\n",
    "    plt.text(x[2]+lablen*vy[2][0], y[2]+lablen*vy[2][1], 'Dy', verticalalignment='center', horizontalalignment='center', color='g', fontsize=14)\n",
    "\n",
    "    # plot angles\n",
    "    Aang1 = 0\n",
    "    Aang2 = degrees(atan(vx[0][1]/vx[0][0]))\n",
    "    ax.add_patch(Arc((0, 0), 0.04, 0.04, theta1=min(Aang1, Aang2), theta2=max(Aang1, Aang2), edgecolor='k', linewidth=0.0006))\n",
    "\n",
    "    Bang1 = degrees(atan(vx[0][1]/vx[0][0]))\n",
    "    Bang2 = degrees(atan(vx[1][1]/vx[1][0]))\n",
    "    ax.add_patch(Arc((x[1], y[1]), 0.04, 0.04, theta1=min(Bang1, Bang2), theta2=max(Bang1, Bang2), edgecolor='k', linewidth=0.0006))\n",
    "\n",
    "    plt.plot([0,0.04],[0.04,0.04],color='k',linewidth=1)\n",
    "    Cang1 = 0\n",
    "    Cang2 = degrees(atan(vx[3][1]/vx[3][0]))\n",
    "    ax.add_patch(Arc((x[4], y[4]), 0.04, 0.04, theta1=min(Cang1, Cang2), theta2=max(Cang1, Cang2), edgecolor='k', linewidth=0.0006))\n",
    "\n",
    "    Dang1 = degrees(atan(vx[3][1]/vx[3][0]))\n",
    "    Dang2 = degrees(atan(vx[2][1]/vx[2][0]))\n",
    "    ax.add_patch(Arc((x[3], y[3]), 0.04, 0.04, theta1=min(Dang1, Dang2), theta2=max(Dang1, Dang2), edgecolor='k', linewidth=0.0006))\n",
    "\n",
    "    # label angles\n",
    "    plt.text(x[0]+0.032*cos(radians((Aang1+Aang2)/2)), y[0]+0.032*sin(radians((Aang1+Aang2)/2)), 'qA', verticalalignment='center', horizontalalignment='center', fontsize=14)\n",
    "    plt.text(x[1]+0.032*cos(radians((Bang1+Bang2)/2)), y[1]+0.032*sin(radians((Bang1+Bang2)/2)), 'qB', verticalalignment='center', horizontalalignment='center', fontsize=14)\n",
    "    plt.text(x[4]+0.032*cos(radians((Cang1+Cang2)/2)), y[4]+0.032*sin(radians((Cang1+Cang2)/2)), 'qC', verticalalignment='center', horizontalalignment='center', fontsize=14)\n",
    "    plt.text(x[3]+0.032*cos(radians((Dang1+Dang2)/2)), y[3]+0.032*sin(radians((Dang1+Dang2)/2)), 'qD', verticalalignment='center', horizontalalignment='center', fontsize=14)\n",
    "    \n",
    "    # Label inputs and outputs\n",
    "    plt.text(x[0]-0.004, y[0]-0.004, \"Motor A\", verticalalignment='bottom', horizontalalignment='right', fontsize=14, weight='bold')\n",
    "    plt.text(x[4]-0.004, y[4]-0.004, \"Motor C\", verticalalignment='bottom', horizontalalignment='right', fontsize=14, weight='bold')\n",
    "    plt.text(x[2]+0.004, y[2]+0.004, \"End Effector (x,y)\", verticalalignment='bottom', horizontalalignment='left', fontsize=14, weight='bold')"
   ]
  },
  {
   "cell_type": "markdown",
   "id": "fifth-official",
   "metadata": {},
   "source": [
    "## Procedure"
   ]
  },
  {
   "cell_type": "code",
   "execution_count": null,
   "id": "elect-albuquerque",
   "metadata": {},
   "outputs": [],
   "source": []
  },
  {
   "cell_type": "code",
   "execution_count": 4,
   "id": "destroyed-folder",
   "metadata": {},
   "outputs": [],
   "source": [
    "# Create a pynamics system\n",
    "system = System()\n",
    "pynamics.set_system(__name__,system)"
   ]
  },
  {
   "cell_type": "code",
   "execution_count": 5,
   "id": "viral-reliance",
   "metadata": {},
   "outputs": [],
   "source": [
    "# Length variables (numerical)\n",
    "lAa_num = 0.05\n",
    "lAb_num = 0.1\n",
    "lBa_num = 0.05\n",
    "lBb_num = 0.1\n",
    "lCa_num = 0.055\n",
    "lCb_num = 0.11\n",
    "lDa_num = 0.055\n",
    "lDb_num = 0.11\n",
    "lE_num = 0.045\n",
    "\n",
    "# Lengths\n",
    "lAa = Constant(lAa_num,'lAa',system)\n",
    "lAb = Constant(lAb_num,'lAb',system)\n",
    "lBa = Constant(lBa_num,'lBa',system)\n",
    "lBb = Constant(lBb_num,'lBb',system)\n",
    "lCa = Constant(lCa_num,'lCa',system)\n",
    "lCb = Constant(lCb_num,'lCb',system)\n",
    "lDa = Constant(lDa_num,'lDa',system)\n",
    "lDb = Constant(lDb_num,'lDb',system)\n",
    "lE = Constant(lE_num,'lE',system)"
   ]
  },
  {
   "cell_type": "code",
   "execution_count": 6,
   "id": "recovered-detail",
   "metadata": {},
   "outputs": [],
   "source": [
    "# Masses\n",
    "mAa = Constant(0.027,'mAa',system)\n",
    "mAb = Constant(0.027,'mAb',system)\n",
    "mBa = Constant(0.027,'mBa',system)\n",
    "mBb = Constant(0.027,'mBb',system)\n",
    "mCa = Constant(0.027,'mCa',system)\n",
    "mCb = Constant(0.027,'mCb',system)\n",
    "mDa = Constant(0.027,'mDa',system)\n",
    "mDb = Constant(0.027,'mDb',system)\n",
    "\n",
    "# Joint preloads\n",
    "preload0 = Constant(0*pi/180,'preload0',system)\n",
    "preloadA = Constant(0*pi/180,'preloadA',system)\n",
    "preload1 = Constant(0*pi/180,'preload1',system)\n",
    "preloadB = Constant(0*pi/180,'preloadB',system)\n",
    "preload4 = Constant(0*pi/180,'preload4',system)\n",
    "preloadC = Constant(0*pi/180,'preloadC',system)\n",
    "preload3 = Constant(0*pi/180,'preload3',system)\n",
    "preloadD = Constant(0*pi/180,'preloadD',system)\n",
    "\n",
    "# Inertia\n",
    "Ixx_Aa = Constant(0.000202,'Ixx_Aa',system) #0.00020264\n",
    "Iyy_Aa = Constant(0.000405,'Iyy_Aa',system) #(0.00040500\n",
    "Izz_Aa = Constant(0.000202,'Izz_Aa',system) #0.00020264\n",
    "Ixx_Ab = Constant(0.000202,'Ixx_Ab',system) #0.00020264\n",
    "Iyy_Ab = Constant(0.000405,'Iyy_Ab',system) #(0.00040500\n",
    "Izz_Ab = Constant(0.000202,'Izz_Ab',system) #0.00020264\n",
    "\n",
    "Ixx_Ba = Constant(0.000223,'Ixx_Ba',system) #0.00022378\n",
    "Iyy_Ba = Constant(0.000427,'Iyy_Ba',system) #0.00042744\n",
    "Izz_Ba = Constant(0.000204,'Izz_Ba',system) #0.00020422\n",
    "Ixx_Bb = Constant(0.000223,'Ixx_Bb',system) #0.00022378\n",
    "Iyy_Bb = Constant(0.000427,'Iyy_Bb',system) #0.00042744\n",
    "Izz_Bb = Constant(0.000204,'Izz_Bb',system) #0.00020422\n",
    "\n",
    "Ixx_Ca = Constant(0.000222,'Ixx_Ca',system) #0.00022291\n",
    "Iyy_Ca = Constant(0.000492,'Iyy_Ca',system) #0.00049228\n",
    "Izz_Ca = Constant(0.000269,'Izz_Ca',system) #0.00026969\n",
    "Ixx_Cb = Constant(0.000222,'Ixx_Cb',system) #0.00022291\n",
    "Iyy_Cb = Constant(0.000492,'Iyy_Cb',system) #0.00049228\n",
    "Izz_Cb = Constant(0.000269,'Izz_Cb',system) #0.00026969\n",
    "\n",
    "Ixx_Da = Constant(0.000222,'Ixx_Da',system) #0.00022291\n",
    "Iyy_Da = Constant(0.000492,'Iyy_Da',system) #0.00049228\n",
    "Izz_Da = Constant(0.000269,'Izz_Da',system) #0.00026969\n",
    "Ixx_Db = Constant(0.000222,'Ixx_Db',system) #0.00022291\n",
    "Iyy_Db = Constant(0.000492,'Iyy_Db',system) #0.00049228\n",
    "Izz_Db = Constant(0.000269,'Izz_Db',system) #0.00026969"
   ]
  },
  {
   "cell_type": "code",
   "execution_count": 7,
   "id": "veterinary-sharing",
   "metadata": {},
   "outputs": [],
   "source": [
    "# Create differentiable state variables\n",
    "qAa,qAa_d,qAa_dd = Differentiable('qAa',system)\n",
    "qAb,qAb_d,qAb_dd = Differentiable('qAb',system)\n",
    "\n",
    "qBa,qBa_d,qBa_dd = Differentiable('qBa',system)\n",
    "qBb,qBb_d,qBb_dd = Differentiable('qBb',system)\n",
    "\n",
    "qCa,qCa_d,qCa_dd = Differentiable('qCa',system)\n",
    "qCb,qCb_d,qCb_dd = Differentiable('qCb',system)\n",
    "\n",
    "qDa,qDa_d,qDa_dd = Differentiable('qDa',system)\n",
    "qDb,qDb_d,qDb_dd = Differentiable('qDb',system)"
   ]
  },
  {
   "cell_type": "code",
   "execution_count": 8,
   "id": "charitable-illness",
   "metadata": {},
   "outputs": [],
   "source": [
    "# initial values\n",
    "# qC = 11.97 creates fully extended, horizontal wing\n",
    "initialvalues = {}\n",
    "initialvalues[qAa]=-30*pi/180\n",
    "initialvalues[qAa_d]=0*pi/180\n",
    "initialvalues[qAb]=-30*pi/180\n",
    "initialvalues[qAb_d]=0*pi/180\n",
    "\n",
    "initialvalues[qBa]=0*pi/180\n",
    "initialvalues[qBa_d]=0*pi/180\n",
    "initialvalues[qBb]=0*pi/180\n",
    "initialvalues[qBb_d]=0*pi/180\n",
    "\n",
    "#initialvalues[qC]=14.65*pi/180\n",
    "initialvalues[qCa]=-26.75*pi/180\n",
    "initialvalues[qCa_d]=0*pi/180\n",
    "initialvalues[qCb]=-0*pi/180\n",
    "initialvalues[qCb_d]=0*pi/180\n",
    "\n",
    "initialvalues[qDa]=-20.28*pi/180\n",
    "initialvalues[qDa_d]=0*pi/180\n",
    "initialvalues[qDb]=-0*pi/180\n",
    "initialvalues[qDb_d]=0*pi/180"
   ]
  },
  {
   "cell_type": "code",
   "execution_count": 9,
   "id": "innovative-alfred",
   "metadata": {},
   "outputs": [],
   "source": [
    "# Retrieve state variables in the order they are stored in the system\n",
    "# Create a list of initial values ini0 in the order of the system’s state variables\n",
    "statevariables = system.get_state_variables()\n",
    "ini0 = [initialvalues[item] for item in statevariables]"
   ]
  },
  {
   "cell_type": "code",
   "execution_count": 10,
   "id": "eleven-error",
   "metadata": {},
   "outputs": [],
   "source": [
    "# Create frames\n",
    "N = Frame('N')\n",
    "Aa = Frame('Aa')\n",
    "Ab = Frame('Ab')\n",
    "\n",
    "Ba = Frame('Ba')\n",
    "Bb = Frame('Bb')\n",
    "\n",
    "Ca = Frame('Ca')\n",
    "Cb = Frame('Cb')\n",
    "\n",
    "Da = Frame('Da')\n",
    "Db = Frame('Db')"
   ]
  },
  {
   "cell_type": "code",
   "execution_count": 11,
   "id": "dietary-strengthening",
   "metadata": {},
   "outputs": [],
   "source": [
    "# Declare N as the Newtonian (fixed) frame\n",
    "system.set_newtonian(N)"
   ]
  },
  {
   "cell_type": "code",
   "execution_count": null,
   "id": "eligible-single",
   "metadata": {},
   "outputs": [],
   "source": []
  },
  {
   "cell_type": "code",
   "execution_count": null,
   "id": "available-problem",
   "metadata": {},
   "outputs": [],
   "source": []
  },
  {
   "cell_type": "code",
   "execution_count": null,
   "id": "addressed-packaging",
   "metadata": {},
   "outputs": [],
   "source": []
  },
  {
   "cell_type": "code",
   "execution_count": 12,
   "id": "medieval-plumbing",
   "metadata": {},
   "outputs": [],
   "source": [
    "# Rotate other frames about their local Z axes.\n",
    "# Not global q\n",
    "Aa.rotate_fixed_axis_directed(N,[0,0,1],qAa,system)\n",
    "Ab.rotate_fixed_axis_directed(Aa,[0,0,1],qAb,system)\n",
    "\n",
    "Ba.rotate_fixed_axis_directed(Ab,[0,0,1],qBa,system)\n",
    "Bb.rotate_fixed_axis_directed(Ba,[0,0,1],qBb,system)\n",
    "\n",
    "Ca.rotate_fixed_axis_directed(Bb,[0,0,1],qCa,system)\n",
    "Cb.rotate_fixed_axis_directed(Ca,[0,0,1],qCb,system)\n",
    "\n",
    "Da.rotate_fixed_axis_directed(Cb,[0,0,1],qDa,system)\n",
    "Db.rotate_fixed_axis_directed(Da,[0,0,1],qDb,system)"
   ]
  },
  {
   "cell_type": "code",
   "execution_count": 13,
   "id": "roman-germany",
   "metadata": {},
   "outputs": [],
   "source": [
    "# Define rigid body kinematics\n",
    "# position vectors\n",
    "p0 = 0*N.x #Normal\n",
    "pA = p0 + lAa*Aa.x #Normal\n",
    "p1 = pA + lAb*Ab.x #Link A\n",
    "pB = p1 + lBa*Ba.x #Link A\n",
    "p2A = pB + lBb*Bb.x #Link B - OUTPUT\n",
    "p4 = p0 + lE*N.y #Link E\n",
    "pC = p4 + lCa*Ca.x #Link E\n",
    "p3 = pC + lCb*Cb.x #Link C\n",
    "pD = p3 + lDa*Da.x #Link C\n",
    "p2C = pD + lDb*Db.x #Link D - OUTPUT"
   ]
  },
  {
   "cell_type": "code",
   "execution_count": 14,
   "id": "satellite-flexibility",
   "metadata": {},
   "outputs": [],
   "source": [
    "# CoM vectors\n",
    "pAacom=p0 + lAa/2*Aa.x #Link Aa\n",
    "pAbcom=pA + lAb/2*Ab.x #Link Ab\n",
    "\n",
    "pBacom=p1 + 0.02*Ba.x #Link Ba\n",
    "pBbcom=pB + lBb*Bb.x #Link Bb\n",
    "\n",
    "pCacom=p4 + lCa/2*Ca.x #Link Ca\n",
    "pCbcom=pC + lCb/2*Cb.x #Link Cb\n",
    "\n",
    "pDacom=p3 + lDa/2*Da.x #Link Da\n",
    "pDbcom=pD + lDb/2*Db.x #Link Db"
   ]
  },
  {
   "cell_type": "code",
   "execution_count": 15,
   "id": "abroad-tuesday",
   "metadata": {},
   "outputs": [],
   "source": [
    "# Angular Velocity\n",
    "wNAa = N.getw_(Aa)\n",
    "wAaAb = Aa.getw_(Ab)\n",
    "\n",
    "wAbBa = Ab.getw_(Ba)\n",
    "wBaBb = Ba.getw_(Bb)\n",
    "\n",
    "wNCa = N.getw_(Ca)\n",
    "wCaCb = Ca.getw_(Cb)\n",
    "\n",
    "wCbDa = Cb.getw_(Da)\n",
    "wDaDb = Da.getw_(Db)"
   ]
  },
  {
   "cell_type": "code",
   "execution_count": 16,
   "id": "animal-footage",
   "metadata": {},
   "outputs": [],
   "source": [
    "# Build inertia tensors\n",
    "IAa = Dyadic.build(Aa,Ixx_Aa,Iyy_Aa,Izz_Aa)\n",
    "IAb = Dyadic.build(Ab,Ixx_Ab,Iyy_Ab,Izz_Ab)\n",
    "\n",
    "IBa = Dyadic.build(Ba,Ixx_Ba,Iyy_Ba,Izz_Ba)\n",
    "IBb = Dyadic.build(Bb,Ixx_Bb,Iyy_Bb,Izz_Bb)\n",
    "\n",
    "ICa = Dyadic.build(Ca,Ixx_Ca,Iyy_Ca,Izz_Ca)\n",
    "ICb = Dyadic.build(Cb,Ixx_Cb,Iyy_Cb,Izz_Cb)\n",
    "\n",
    "IDa = Dyadic.build(Da,Ixx_Da,Iyy_Da,Izz_Da)\n",
    "IDb = Dyadic.build(Db,Ixx_Db,Iyy_Db,Izz_Db)\n",
    "\n",
    "BodyAa = Body('BodyAa',Aa,pAacom,mAa,IAa,system)\n",
    "BodyAb = Body('BodyAb',Ab,pAbcom,mAb,IAb,system)\n",
    "\n",
    "BodyBa = Body('BodyBa',Ba,pBacom,mBa,IBa,system)\n",
    "BodyBb = Body('BodyBb',Bb,pBbcom,mBb,IBb,system)\n",
    "\n",
    "BodyCa = Body('BodyCa',Ca,pCacom,mCa,ICa,system)\n",
    "BodyCb = Body('BodyCb',Cb,pCbcom,mCb,ICb,system)\n",
    "\n",
    "BodyDa = Body('BodyDa',Da,pDacom,mDa,IDa,system)\n",
    "BodyDb = Body('BodyDb',Db,pDbcom,mDb,IDb,system)\n",
    "#BodyC = Particle(pCcm,mC,'ParticleC',system)"
   ]
  },
  {
   "cell_type": "markdown",
   "id": "rough-sport",
   "metadata": {},
   "source": [
    "## Forces"
   ]
  },
  {
   "cell_type": "code",
   "execution_count": 17,
   "id": "bound-peoples",
   "metadata": {},
   "outputs": [],
   "source": [
    "b = Constant(1e0,'b',system)"
   ]
  },
  {
   "cell_type": "code",
   "execution_count": 18,
   "id": "united-lancaster",
   "metadata": {},
   "outputs": [
    {
     "data": {
      "text/plain": [
       "<pynamics.force.Force at 0x22d8428e490>"
      ]
     },
     "execution_count": 18,
     "metadata": {},
     "output_type": "execute_result"
    }
   ],
   "source": [
    "# Forces\n",
    "system.addforce(-b*wNAa,wNAa)\n",
    "system.addforce(-b*wAbBa,wAbBa)\n",
    "system.addforce(-b*wNCa,wNCa)\n",
    "system.addforce(-b*wCbDa,wCbDa)"
   ]
  },
  {
   "cell_type": "code",
   "execution_count": 19,
   "id": "surface-truck",
   "metadata": {},
   "outputs": [],
   "source": [
    "k = Constant(1e-3,'k',system)\n",
    "k15 = Constant(1e-3,'k15',system)\n",
    "k165 = Constant(1e-3,'k165',system)\n",
    "klim = Constant(1e-3,'klim',system)"
   ]
  },
  {
   "cell_type": "code",
   "execution_count": 20,
   "id": "contained-separation",
   "metadata": {},
   "outputs": [
    {
     "data": {
      "text/plain": [
       "(<pynamics.force.Force at 0x22d844535e0>,\n",
       " <pynamics.spring.Spring at 0x22d84453820>)"
      ]
     },
     "execution_count": 20,
     "metadata": {},
     "output_type": "execute_result"
    }
   ],
   "source": [
    "# Spring Forces\n",
    "# Not global q\n",
    "system.add_spring_force1(k,(qAa-preload0)*N.z,wNAa)\n",
    "system.add_spring_force1(k15,(qAb-preloadA)*Aa.z,wAaAb) \n",
    "\n",
    "system.add_spring_force1(k,(qBa-preload1)*Ab.z,wAbBa)\n",
    "system.add_spring_force1(k15,(qBb-preloadB)*Ba.z,wBaBb)\n",
    "\n",
    "system.add_spring_force1(k,(qCa-preload4)*N.z,wNCa)\n",
    "system.add_spring_force1(k165,(qCb-preloadC)*Ca.z,wCaCb)\n",
    "\n",
    "system.add_spring_force1(k,(qDa-preload3)*Cb.z,wCbDa)\n",
    "system.add_spring_force1(k165,(qDb-preloadD)*Da.z,wDaDb)"
   ]
  },
  {
   "cell_type": "code",
   "execution_count": 21,
   "id": "unlimited-belize",
   "metadata": {},
   "outputs": [],
   "source": [
    "# motor torque\n",
    "T =  Constant(0,'T',system)\n",
    "dT = Constant(0.1,'dT',system)"
   ]
  },
  {
   "cell_type": "code",
   "execution_count": 22,
   "id": "seven-formula",
   "metadata": {},
   "outputs": [
    {
     "data": {
      "text/plain": [
       "<pynamics.force.Force at 0x22d8449da90>"
      ]
     },
     "execution_count": 22,
     "metadata": {},
     "output_type": "execute_result"
    }
   ],
   "source": [
    "system.addforce(dT*N.z,wNAa)"
   ]
  },
  {
   "cell_type": "code",
   "execution_count": 23,
   "id": "disciplinary-bulletin",
   "metadata": {},
   "outputs": [],
   "source": [
    "# Add air resistance as a joint damper as a function of the angular velocities"
   ]
  },
  {
   "cell_type": "code",
   "execution_count": null,
   "id": "pregnant-plane",
   "metadata": {},
   "outputs": [],
   "source": []
  },
  {
   "cell_type": "code",
   "execution_count": null,
   "id": "developed-projector",
   "metadata": {},
   "outputs": [],
   "source": []
  },
  {
   "cell_type": "code",
   "execution_count": null,
   "id": "fuzzy-camel",
   "metadata": {},
   "outputs": [],
   "source": []
  },
  {
   "cell_type": "code",
   "execution_count": 24,
   "id": "fleet-staff",
   "metadata": {},
   "outputs": [],
   "source": [
    "# gravity\n",
    "g = Constant(9.81,'g',system)"
   ]
  },
  {
   "cell_type": "code",
   "execution_count": 25,
   "id": "consolidated-territory",
   "metadata": {},
   "outputs": [],
   "source": [
    "# Gravity\n",
    "system.addforcegravity(-g*N.y)"
   ]
  },
  {
   "cell_type": "markdown",
   "id": "strange-spelling",
   "metadata": {},
   "source": [
    "## Constraints"
   ]
  },
  {
   "cell_type": "code",
   "execution_count": 26,
   "id": "foreign-lebanon",
   "metadata": {},
   "outputs": [],
   "source": [
    "# Constraints\n",
    "eq_vector = p2A-p2C\n",
    "eq = []\n",
    "eq.append((eq_vector).dot(N.x))\n",
    "eq.append((eq_vector).dot(N.y))\n",
    "eq_d=[(system.derivative(item)) for item in eq]\n",
    "eq_dd=[(system.derivative(item)) for item in eq_d]\n",
    "\n",
    "eq2_vector = Ab.x-Ba.x\n",
    "eq2 = []\n",
    "eq2.append((eq2_vector).dot(N.x))\n",
    "eq2.append((eq2_vector).dot(N.y))\n",
    "eq2_d=[(system.derivative(item)) for item in eq2]\n",
    "eq2_dd=[(system.derivative(item)) for item in eq2_d]"
   ]
  },
  {
   "cell_type": "markdown",
   "id": "utility-capitol",
   "metadata": {},
   "source": [
    "## Solve for valid initial condition"
   ]
  },
  {
   "cell_type": "code",
   "execution_count": 27,
   "id": "conscious-storage",
   "metadata": {},
   "outputs": [],
   "source": [
    "# Declare a list of points that will be used for plotting\n",
    "points = [p0, pA, p1, pB, p2A, pD, p3, pC, p4]"
   ]
  },
  {
   "cell_type": "code",
   "execution_count": 28,
   "id": "liked-viking",
   "metadata": {},
   "outputs": [],
   "source": [
    "# Identify independent and dependent variables\n",
    "qi = [qAa, qCa]\n",
    "qd = [qAb, qBa, qBb, qCb, qDa, qDb]"
   ]
  },
  {
   "cell_type": "code",
   "execution_count": 29,
   "id": "packed-winner",
   "metadata": {},
   "outputs": [],
   "source": [
    "# Create a copy of symbolic constants dictionary and add the initial value of qi to it\n",
    "constants = system.constant_values.copy()\n",
    "defined = dict([(item,initialvalues[item]) for item in qi])\n",
    "constants.update(defined)"
   ]
  },
  {
   "cell_type": "code",
   "execution_count": 30,
   "id": "focal-europe",
   "metadata": {},
   "outputs": [],
   "source": [
    "# Substitute constants in equation\n",
    "eq = [item.subs(constants) for item in eq]\n",
    "eq2 = [item.subs(constants) for item in eq2]"
   ]
  },
  {
   "cell_type": "code",
   "execution_count": 31,
   "id": "electronic-exclusive",
   "metadata": {},
   "outputs": [],
   "source": [
    "# Convert to numpy array\n",
    "# Sum the error\n",
    "error = (numpy.array(eq)**2).sum() + (numpy.array(eq2)**2).sum()"
   ]
  },
  {
   "cell_type": "code",
   "execution_count": 32,
   "id": "protecting-traveler",
   "metadata": {},
   "outputs": [],
   "source": [
    "# Convert to a function that scipy can use.\n",
    "# Sympy has a “labmdify” function that evaluates an expression, but scipy needs a slightly different format.\n",
    "f = sympy.lambdify(qd,error)\n",
    "\n",
    "def function(args):\n",
    "    return f(*args)"
   ]
  },
  {
   "cell_type": "code",
   "execution_count": 33,
   "id": "complimentary-population",
   "metadata": {},
   "outputs": [
    {
     "name": "stderr",
     "output_type": "stream",
     "text": [
      "2021-03-18 21:51:04,159 - pynamics.output - INFO - calculating outputs\n",
      "2021-03-18 21:51:04,161 - pynamics.output - INFO - done calculating outputs\n"
     ]
    },
    {
     "data": {
      "text/plain": [
       "array([[[ 0.        ,  0.        ],\n",
       "        [ 0.04330127, -0.025     ],\n",
       "        [ 0.09330127, -0.11160254],\n",
       "        [ 0.11830127, -0.15490381],\n",
       "        [ 0.16830127, -0.24150635],\n",
       "        [-0.00675367, -0.17232296],\n",
       "        [ 0.00935431, -0.11973463],\n",
       "        [ 0.0031181 , -0.00991154],\n",
       "        [ 0.        ,  0.045     ]],\n",
       "\n",
       "       [[ 0.        ,  0.        ],\n",
       "        [ 0.04330127, -0.025     ],\n",
       "        [ 0.10312439, -0.10513236],\n",
       "        [ 0.13303596, -0.14519853],\n",
       "        [ 0.21490676, -0.20261954],\n",
       "        [ 0.13872281, -0.12328064],\n",
       "        [ 0.1056369 , -0.07934521],\n",
       "        [ 0.02599508, -0.00346912],\n",
       "        [ 0.        ,  0.045     ]]])"
      ]
     },
     "execution_count": 33,
     "metadata": {},
     "output_type": "execute_result"
    }
   ],
   "source": [
    "# Take the derivative of the equations to linearize with regard to the velocity variables\n",
    "guess = [initialvalues[item] for item in qd]\n",
    "result = scipy.optimize.minimize(function,guess)\n",
    "if result.fun>1e-3:\n",
    "    raise(Exception(\"out of tolerance\"))\n",
    "ini = []\n",
    "for item in system.get_state_variables():\n",
    "    if item in qd:\n",
    "        ini.append(result.x[qd.index(item)])\n",
    "    else:\n",
    "        ini.append(initialvalues[item])\n",
    "points = PointsOutput(points, constant_values=system.constant_values)\n",
    "points.calc(numpy.array([ini0,ini]))\n",
    "#points.plot_time()"
   ]
  },
  {
   "cell_type": "code",
   "execution_count": 34,
   "id": "informed-swimming",
   "metadata": {},
   "outputs": [],
   "source": [
    "# Valid initial condition\n",
    "x = numpy.array([points.y[1][0][0], points.y[1][1][0], points.y[1][2][0], points.y[1][3][0], points.y[1][4][0], points.y[1][5][0], points.y[1][6][0], points.y[1][7][0], points.y[1][8][0], 0])\n",
    "y = numpy.array([points.y[1][0][1], points.y[1][1][1], points.y[1][2][1], points.y[1][3][1], points.y[1][4][1], points.y[1][5][1], points.y[1][6][1], points.y[1][7][1], points.y[1][8][1], 0])\n",
    "# prettyplot(x,y)"
   ]
  },
  {
   "cell_type": "markdown",
   "id": "applicable-findings",
   "metadata": {},
   "source": [
    "## Solution"
   ]
  },
  {
   "cell_type": "code",
   "execution_count": 35,
   "id": "atomic-share",
   "metadata": {},
   "outputs": [
    {
     "name": "stderr",
     "output_type": "stream",
     "text": [
      "2021-03-18 21:51:04,190 - pynamics.system - INFO - getting dynamic equations\n"
     ]
    }
   ],
   "source": [
    "# F=ma\n",
    "f,ma = system.getdynamics()"
   ]
  },
  {
   "cell_type": "code",
   "execution_count": 36,
   "id": "transparent-qatar",
   "metadata": {},
   "outputs": [
    {
     "name": "stderr",
     "output_type": "stream",
     "text": [
      "2021-03-18 21:51:05,622 - pynamics.system - INFO - solving a = f/m and creating function\n",
      "2021-03-18 21:51:05,636 - pynamics.system - INFO - substituting constrained in Ma-f.\n",
      "2021-03-18 21:51:30,025 - pynamics.system - INFO - done solving a = f/m and creating function\n",
      "2021-03-18 21:51:30,026 - pynamics.system - INFO - calculating function for lambdas\n"
     ]
    }
   ],
   "source": [
    "# Acceleration\n",
    "func1,lambda1 = system.state_space_post_invert(f,ma,eq_dd,return_lambda = True)"
   ]
  },
  {
   "cell_type": "code",
   "execution_count": 37,
   "id": "fifty-update",
   "metadata": {},
   "outputs": [],
   "source": [
    "# Integration Tolerance\n",
    "tol = 1e-12"
   ]
  },
  {
   "cell_type": "code",
   "execution_count": 38,
   "id": "dimensional-count",
   "metadata": {},
   "outputs": [],
   "source": [
    "# Time\n",
    "tinitial = 0\n",
    "tfinal = 10\n",
    "fps = 30\n",
    "tstep = 1/fps\n",
    "t = numpy.r_[tinitial:tfinal:tstep]"
   ]
  },
  {
   "cell_type": "code",
   "execution_count": 39,
   "id": "still-travel",
   "metadata": {},
   "outputs": [
    {
     "name": "stderr",
     "output_type": "stream",
     "text": [
      "2021-03-18 21:51:30,076 - pynamics.integration - INFO - beginning integration\n",
      "2021-03-18 21:51:30,077 - pynamics.system - INFO - integration at time 0000.00\n",
      "2021-03-18 21:52:13,431 - pynamics.system - INFO - integration at time 0000.08\n",
      "2021-03-18 21:52:56,671 - pynamics.system - INFO - integration at time 0000.25\n",
      "2021-03-18 21:53:39,989 - pynamics.system - INFO - integration at time 0000.33\n",
      "2021-03-18 21:54:23,587 - pynamics.system - INFO - integration at time 0000.53\n",
      "2021-03-18 21:55:07,066 - pynamics.system - INFO - integration at time 0000.68\n",
      "2021-03-18 21:55:52,231 - pynamics.system - INFO - integration at time 0000.81\n",
      "2021-03-18 21:56:35,458 - pynamics.system - INFO - integration at time 0000.88\n",
      "2021-03-18 21:57:18,585 - pynamics.system - INFO - integration at time 0001.00\n",
      "2021-03-18 21:58:01,275 - pynamics.system - INFO - integration at time 0001.15\n",
      "2021-03-18 21:58:44,040 - pynamics.system - INFO - integration at time 0001.18\n",
      "C:\\Anaconda3\\lib\\site-packages\\scipy\\integrate\\odepack.py:247: ODEintWarning: Excess work done on this call (perhaps wrong Dfun type). Run with full_output = 1 to get quantitative information.\n",
      "  warnings.warn(warning_msg, ODEintWarning)\n",
      "2021-03-18 21:59:22,593 - pynamics.integration - INFO - finished integration\n"
     ]
    }
   ],
   "source": [
    "# Integrate\n",
    "states=pynamics.integration.integrate(func1,ini,t,rtol=tol,atol=tol, args=({'constants':system.constant_values},))"
   ]
  },
  {
   "cell_type": "code",
   "execution_count": 40,
   "id": "chief-pantyhose",
   "metadata": {},
   "outputs": [
    {
     "data": {
      "text/plain": [
       "<matplotlib.legend.Legend at 0x22d8577e6a0>"
      ]
     },
     "execution_count": 40,
     "metadata": {},
     "output_type": "execute_result"
    },
    {
     "data": {
      "image/png": "[encoded data removed]",
      "text/plain": [
       "<Figure size 432x288 with 1 Axes>"
      ]
     },
     "metadata": {
      "needs_background": "light"
     },
     "output_type": "display_data"
    }
   ],
   "source": [
    "# Outputs\n",
    "plt.figure()\n",
    "artists = plt.plot(t,states[:,:4])\n",
    "plt.legend(artists,['qAa','qAb','qBa','qBb','qCa','qCb','qDa','qDb'])"
   ]
  },
  {
   "cell_type": "raw",
   "id": "functional-plymouth",
   "metadata": {},
   "source": [
    "# Energy\n",
    "KE = system.get_KE()\n",
    "PE = system.getPEGravity(p0) - system.getPESprings()\n",
    "energy_output = Output([KE-PE],system)\n",
    "energy_output.calc(states)\n",
    "energy_output.plot_time()"
   ]
  },
  {
   "cell_type": "code",
   "execution_count": 41,
   "id": "tender-floating",
   "metadata": {},
   "outputs": [
    {
     "name": "stderr",
     "output_type": "stream",
     "text": [
      "2021-03-18 21:59:22,833 - pynamics.output - INFO - calculating outputs\n",
      "2021-03-18 21:59:22,986 - pynamics.output - INFO - done calculating outputs\n"
     ]
    },
    {
     "data": {
      "image/png": "[encoded data removed]",
      "text/plain": [
       "<Figure size 432x288 with 1 Axes>"
      ]
     },
     "metadata": {
      "needs_background": "light"
     },
     "output_type": "display_data"
    }
   ],
   "source": [
    "# Motion\n",
    "points = [p0,pA,p1,pB,p2A,pD,p3,pC,p4]\n",
    "points_output = PointsOutput(points,system)\n",
    "y = points_output.calc(states)\n",
    "points_output.plot_time(20)"
   ]
  },
  {
   "cell_type": "code",
   "execution_count": 42,
   "id": "bulgarian-inside",
   "metadata": {},
   "outputs": [
    {
     "ename": "ValueError",
     "evalue": "Axis limits cannot be NaN or Inf",
     "output_type": "error",
     "traceback": [
      "\u001b[1;31m--------------------------------------------------------------------------\u001b[0m",
      "\u001b[1;31mValueError\u001b[0m                               Traceback (most recent call last)",
      "\u001b[1;32m<ipython-input-42-17aad9683802>\u001b[0m in \u001b[0;36m<module>\u001b[1;34m\u001b[0m\n\u001b[0;32m      1\u001b[0m \u001b[1;31m# Motion Animation\u001b[0m\u001b[1;33m\u001b[0m\u001b[1;33m\u001b[0m\u001b[1;33m\u001b[0m\u001b[0m\n\u001b[1;32m----> 2\u001b[1;33m \u001b[0mpoints_output\u001b[0m\u001b[1;33m.\u001b[0m\u001b[0manimate\u001b[0m\u001b[1;33m(\u001b[0m\u001b[0mfps\u001b[0m \u001b[1;33m=\u001b[0m \u001b[0mfps\u001b[0m\u001b[1;33m,\u001b[0m\u001b[0mmovie_name\u001b[0m \u001b[1;33m=\u001b[0m \u001b[1;34m'render.mp4'\u001b[0m\u001b[1;33m,\u001b[0m\u001b[0mlw\u001b[0m\u001b[1;33m=\u001b[0m\u001b[1;36m2\u001b[0m\u001b[1;33m,\u001b[0m\u001b[0mmarker\u001b[0m\u001b[1;33m=\u001b[0m\u001b[1;34m'o'\u001b[0m\u001b[1;33m,\u001b[0m\u001b[0mcolor\u001b[0m\u001b[1;33m=\u001b[0m\u001b[1;33m(\u001b[0m\u001b[1;36m1\u001b[0m\u001b[1;33m,\u001b[0m\u001b[1;36m0\u001b[0m\u001b[1;33m,\u001b[0m\u001b[1;36m0\u001b[0m\u001b[1;33m,\u001b[0m\u001b[1;36m1\u001b[0m\u001b[1;33m)\u001b[0m\u001b[1;33m,\u001b[0m\u001b[0mlinestyle\u001b[0m\u001b[1;33m=\u001b[0m\u001b[1;34m'-'\u001b[0m\u001b[1;33m)\u001b[0m\u001b[1;33m\u001b[0m\u001b[1;33m\u001b[0m\u001b[0m\n\u001b[0m",
      "\u001b[1;32mC:\\Anaconda3\\lib\\site-packages\\pynamics\\output_points.py\u001b[0m in \u001b[0;36manimate\u001b[1;34m(self, fps, stepsize, movie_name, *args, **kwargs)\u001b[0m\n\u001b[0;32m     34\u001b[0m \u001b[1;31m#        ax.axis('equal')\u001b[0m\u001b[1;33m\u001b[0m\u001b[1;33m\u001b[0m\u001b[1;33m\u001b[0m\u001b[0m\n\u001b[0;32m     35\u001b[0m         \u001b[0mlimits\u001b[0m   \u001b[1;33m=\u001b[0m \u001b[1;33m[\u001b[0m\u001b[0my\u001b[0m\u001b[1;33m[\u001b[0m\u001b[1;33m:\u001b[0m\u001b[1;33m,\u001b[0m\u001b[1;33m:\u001b[0m\u001b[1;33m,\u001b[0m\u001b[1;36m0\u001b[0m\u001b[1;33m]\u001b[0m\u001b[1;33m.\u001b[0m\u001b[0mmin\u001b[0m\u001b[1;33m(\u001b[0m\u001b[1;33m)\u001b[0m\u001b[1;33m,\u001b[0m\u001b[0my\u001b[0m\u001b[1;33m[\u001b[0m\u001b[1;33m:\u001b[0m\u001b[1;33m,\u001b[0m\u001b[1;33m:\u001b[0m\u001b[1;33m,\u001b[0m\u001b[1;36m0\u001b[0m\u001b[1;33m]\u001b[0m\u001b[1;33m.\u001b[0m\u001b[0mmax\u001b[0m\u001b[1;33m(\u001b[0m\u001b[1;33m)\u001b[0m\u001b[1;33m,\u001b[0m\u001b[0my\u001b[0m\u001b[1;33m[\u001b[0m\u001b[1;33m:\u001b[0m\u001b[1;33m,\u001b[0m\u001b[1;33m:\u001b[0m\u001b[1;33m,\u001b[0m\u001b[1;36m1\u001b[0m\u001b[1;33m]\u001b[0m\u001b[1;33m.\u001b[0m\u001b[0mmin\u001b[0m\u001b[1;33m(\u001b[0m\u001b[1;33m)\u001b[0m\u001b[1;33m,\u001b[0m\u001b[0my\u001b[0m\u001b[1;33m[\u001b[0m\u001b[1;33m:\u001b[0m\u001b[1;33m,\u001b[0m\u001b[1;33m:\u001b[0m\u001b[1;33m,\u001b[0m\u001b[1;36m1\u001b[0m\u001b[1;33m]\u001b[0m\u001b[1;33m.\u001b[0m\u001b[0mmax\u001b[0m\u001b[1;33m(\u001b[0m\u001b[1;33m)\u001b[0m\u001b[1;33m]\u001b[0m\u001b[1;33m\u001b[0m\u001b[1;33m\u001b[0m\u001b[0m\n\u001b[1;32m---> 36\u001b[1;33m         \u001b[0max\u001b[0m\u001b[1;33m.\u001b[0m\u001b[0maxis\u001b[0m\u001b[1;33m(\u001b[0m\u001b[0mlimits\u001b[0m\u001b[1;33m)\u001b[0m\u001b[1;33m\u001b[0m\u001b[1;33m\u001b[0m\u001b[0m\n\u001b[0m\u001b[0;32m     37\u001b[0m \u001b[1;33m\u001b[0m\u001b[0m\n\u001b[0;32m     38\u001b[0m \u001b[1;31m#        y = self.y[::stepsize]\u001b[0m\u001b[1;33m\u001b[0m\u001b[1;33m\u001b[0m\u001b[1;33m\u001b[0m\u001b[0m\n",
      "\u001b[1;32mC:\\Anaconda3\\lib\\site-packages\\matplotlib\\axes\\_base.py\u001b[0m in \u001b[0;36maxis\u001b[1;34m(self, emit, *args, **kwargs)\u001b[0m\n\u001b[0;32m   1808\u001b[0m                      \u001b[1;32mif\u001b[0m \u001b[0mymin\u001b[0m \u001b[1;32mis\u001b[0m \u001b[1;32mNone\u001b[0m \u001b[1;32mand\u001b[0m \u001b[0mymax\u001b[0m \u001b[1;32mis\u001b[0m \u001b[1;32mNone\u001b[0m\u001b[1;33m\u001b[0m\u001b[1;33m\u001b[0m\u001b[0m\n\u001b[0;32m   1809\u001b[0m                      else False)\n\u001b[1;32m-> 1810\u001b[1;33m             \u001b[0mself\u001b[0m\u001b[1;33m.\u001b[0m\u001b[0mset_xlim\u001b[0m\u001b[1;33m(\u001b[0m\u001b[0mxmin\u001b[0m\u001b[1;33m,\u001b[0m \u001b[0mxmax\u001b[0m\u001b[1;33m,\u001b[0m \u001b[0memit\u001b[0m\u001b[1;33m=\u001b[0m\u001b[0memit\u001b[0m\u001b[1;33m,\u001b[0m \u001b[0mauto\u001b[0m\u001b[1;33m=\u001b[0m\u001b[0mxauto\u001b[0m\u001b[1;33m)\u001b[0m\u001b[1;33m\u001b[0m\u001b[1;33m\u001b[0m\u001b[0m\n\u001b[0m\u001b[0;32m   1811\u001b[0m             \u001b[0mself\u001b[0m\u001b[1;33m.\u001b[0m\u001b[0mset_ylim\u001b[0m\u001b[1;33m(\u001b[0m\u001b[0mymin\u001b[0m\u001b[1;33m,\u001b[0m \u001b[0mymax\u001b[0m\u001b[1;33m,\u001b[0m \u001b[0memit\u001b[0m\u001b[1;33m=\u001b[0m\u001b[0memit\u001b[0m\u001b[1;33m,\u001b[0m \u001b[0mauto\u001b[0m\u001b[1;33m=\u001b[0m\u001b[0myauto\u001b[0m\u001b[1;33m)\u001b[0m\u001b[1;33m\u001b[0m\u001b[1;33m\u001b[0m\u001b[0m\n\u001b[0;32m   1812\u001b[0m         \u001b[1;32mif\u001b[0m \u001b[0mkwargs\u001b[0m\u001b[1;33m:\u001b[0m\u001b[1;33m\u001b[0m\u001b[1;33m\u001b[0m\u001b[0m\n",
      "\u001b[1;32mC:\\Anaconda3\\lib\\site-packages\\matplotlib\\axes\\_base.py\u001b[0m in \u001b[0;36mset_xlim\u001b[1;34m(self, left, right, emit, auto, xmin, xmax)\u001b[0m\n\u001b[0;32m   3294\u001b[0m \u001b[1;33m\u001b[0m\u001b[0m\n\u001b[0;32m   3295\u001b[0m         \u001b[0mself\u001b[0m\u001b[1;33m.\u001b[0m\u001b[0m_process_unit_info\u001b[0m\u001b[1;33m(\u001b[0m\u001b[0mxdata\u001b[0m\u001b[1;33m=\u001b[0m\u001b[1;33m(\u001b[0m\u001b[0mleft\u001b[0m\u001b[1;33m,\u001b[0m \u001b[0mright\u001b[0m\u001b[1;33m)\u001b[0m\u001b[1;33m)\u001b[0m\u001b[1;33m\u001b[0m\u001b[1;33m\u001b[0m\u001b[0m\n\u001b[1;32m-> 3296\u001b[1;33m         \u001b[0mleft\u001b[0m \u001b[1;33m=\u001b[0m \u001b[0mself\u001b[0m\u001b[1;33m.\u001b[0m\u001b[0m_validate_converted_limits\u001b[0m\u001b[1;33m(\u001b[0m\u001b[0mleft\u001b[0m\u001b[1;33m,\u001b[0m \u001b[0mself\u001b[0m\u001b[1;33m.\u001b[0m\u001b[0mconvert_xunits\u001b[0m\u001b[1;33m)\u001b[0m\u001b[1;33m\u001b[0m\u001b[1;33m\u001b[0m\u001b[0m\n\u001b[0m\u001b[0;32m   3297\u001b[0m         \u001b[0mright\u001b[0m \u001b[1;33m=\u001b[0m \u001b[0mself\u001b[0m\u001b[1;33m.\u001b[0m\u001b[0m_validate_converted_limits\u001b[0m\u001b[1;33m(\u001b[0m\u001b[0mright\u001b[0m\u001b[1;33m,\u001b[0m \u001b[0mself\u001b[0m\u001b[1;33m.\u001b[0m\u001b[0mconvert_xunits\u001b[0m\u001b[1;33m)\u001b[0m\u001b[1;33m\u001b[0m\u001b[1;33m\u001b[0m\u001b[0m\n\u001b[0;32m   3298\u001b[0m \u001b[1;33m\u001b[0m\u001b[0m\n",
      "\u001b[1;32mC:\\Anaconda3\\lib\\site-packages\\matplotlib\\axes\\_base.py\u001b[0m in \u001b[0;36m_validate_converted_limits\u001b[1;34m(self, limit, convert)\u001b[0m\n\u001b[0;32m   3211\u001b[0m             if (isinstance(converted_limit, Real)\n\u001b[0;32m   3212\u001b[0m                     and not np.isfinite(converted_limit)):\n\u001b[1;32m-> 3213\u001b[1;33m                 \u001b[1;32mraise\u001b[0m \u001b[0mValueError\u001b[0m\u001b[1;33m(\u001b[0m\u001b[1;34m\"Axis limits cannot be NaN or Inf\"\u001b[0m\u001b[1;33m)\u001b[0m\u001b[1;33m\u001b[0m\u001b[1;33m\u001b[0m\u001b[0m\n\u001b[0m\u001b[0;32m   3214\u001b[0m             \u001b[1;32mreturn\u001b[0m \u001b[0mconverted_limit\u001b[0m\u001b[1;33m\u001b[0m\u001b[1;33m\u001b[0m\u001b[0m\n\u001b[0;32m   3215\u001b[0m \u001b[1;33m\u001b[0m\u001b[0m\n",
      "\u001b[1;31mValueError\u001b[0m: Axis limits cannot be NaN or Inf"
     ]
    },
    {
     "data": {
      "image/png": "[encoded data removed]",
      "text/plain": [
       "<Figure size 432x288 with 1 Axes>"
      ]
     },
     "metadata": {
      "needs_background": "light"
     },
     "output_type": "display_data"
    }
   ],
   "source": [
    "# Motion Animation\n",
    "points_output.animate(fps = fps,movie_name = 'render.mp4',lw=2,marker='o',color=(1,0,0,1),linestyle='-')"
   ]
  },
  {
   "cell_type": "code",
   "execution_count": null,
   "id": "synthetic-being",
   "metadata": {},
   "outputs": [],
   "source": [
    "from matplotlib import animation, rc\n",
    "from IPython.display import HTML\n",
    "HTML(points_output.anim.to_html5_video())"
   ]
  },
  {
   "cell_type": "code",
   "execution_count": null,
   "id": "written-mirror",
   "metadata": {},
   "outputs": [],
   "source": []
  }
 ],
 "metadata": {
  "colab": {
   "collapsed_sections": [],
   "name": "Copy of Wing Kinematics.ipynb",
   "provenance": []
  },
  "kernelspec": {
   "display_name": "Python 3",
   "language": "python",
   "name": "python3"
  },
  "language_info": {
   "codemirror_mode": {
    "name": "ipython",
    "version": 3
   },
   "file_extension": ".py",
   "mimetype": "text/x-python",
   "name": "python",
   "nbconvert_exporter": "python",
   "pygments_lexer": "ipython3",
   "version": "3.8.5"
  }
 },
 "nbformat": 4,
 "nbformat_minor": 5
}

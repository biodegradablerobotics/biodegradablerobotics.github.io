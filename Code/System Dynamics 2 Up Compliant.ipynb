{
 "cells": [
  {
   "cell_type": "markdown",
   "id": "pregnant-transfer",
   "metadata": {
    "id": "suspected-amateur"
   },
   "source": [
    "# Upstroke\n",
    "\n",
    "Team 3"
   ]
  },
  {
   "cell_type": "markdown",
   "id": "incorporated-bicycle",
   "metadata": {},
   "source": [
    "## Setup"
   ]
  },
  {
   "cell_type": "code",
   "execution_count": 1,
   "id": "overhead-heart",
   "metadata": {
    "colab": {
     "base_uri": "https://localhost:8080/"
    },
    "id": "pi7Co6-jBLqJ",
    "outputId": "3e0b02e5-7b83-4a8a-fb4e-f100a21e47fb"
   },
   "outputs": [],
   "source": [
    "#pip install pynamics"
   ]
  },
  {
   "cell_type": "code",
   "execution_count": 2,
   "id": "czech-weekend",
   "metadata": {
    "id": "frequent-douglas"
   },
   "outputs": [],
   "source": [
    "%matplotlib inline\n",
    "import scipy.optimize\n",
    "import pynamics\n",
    "from pynamics.frame import Frame\n",
    "from pynamics.variable_types import Differentiable,Constant\n",
    "from pynamics.system import System\n",
    "from pynamics.body import Body\n",
    "from pynamics.dyadic import Dyadic\n",
    "from pynamics.output import Output,PointsOutput\n",
    "from pynamics.particle import Particle\n",
    "import pynamics.integration\n",
    "import numpy\n",
    "import sympy\n",
    "import matplotlib.pyplot as plt\n",
    "from matplotlib.patches import Arc\n",
    "plt.ion()\n",
    "from math import pi, sin, cos, tan, asin, acos, atan, degrees, radians, pi"
   ]
  },
  {
   "cell_type": "code",
   "execution_count": 3,
   "id": "removed-tiger",
   "metadata": {},
   "outputs": [],
   "source": [
    "def prettyplot(x,y): # Function plots mechanism and generates labels\n",
    "    # Create Figure\n",
    "    Fig1 = plt.figure(figsize=[15,10])\n",
    "    ax = Fig1.add_axes([0.0, 0.0, 1.0, 1.0], aspect='equal')\n",
    "    #ax.patch.set_alpha(0.0)\n",
    "    \n",
    "    # plot links and joints\n",
    "    plt.plot(x[0:3],y[0:3],color='tab:blue')\n",
    "    plt.plot(x[2:5],y[2:5],color='tab:green')\n",
    "    plt.plot(x[4:],y[4:],color='k')\n",
    "    plt.scatter(x,y,color='k')\n",
    "    plt.axis('equal')\n",
    "    plt.xlim([-0.1,0.5])\n",
    "    \n",
    "    # label joints\n",
    "    for i in range(0, len(x)-1):\n",
    "        plt.text(x[i]-0.004, y[i]-0.004, \"p\"+str(i), verticalalignment='top', horizontalalignment='right', fontsize=14)\n",
    "    \n",
    "    # plot COMs\n",
    "    comx = [(x[0]+x[1])/2, (x[1]+x[2])/2, (x[4]+x[3])/2, (x[3]+x[2])/2, (x[4]+x[0])/2]\n",
    "    comy = [(y[0]+y[1])/2, (y[1]+y[2])/2, (y[4]+y[3])/2, (y[3]+y[2])/2, (y[4]+y[0])/2]\n",
    "    plt.scatter(comx,comy,color='k')\n",
    "    \n",
    "    # label COMs\n",
    "    linknames = ['A', 'B', 'C', 'D', 'E']\n",
    "    for i in range(0, len(comx)):\n",
    "        plt.text(comx[i]+0.004, comy[i], linknames[i], verticalalignment='bottom', horizontalalignment='left', weight='bold', fontsize=16)\n",
    "    \n",
    "    # label properties\n",
    "    propertynames = ['La', 'Lb', 'Lc', 'Ld', 'Le']\n",
    "    for i in range(0, len(comx)):\n",
    "        plt.text(comx[i]+0.016, comy[i], propertynames[i], verticalalignment='bottom', horizontalalignment='left', fontsize=14)\n",
    "    \n",
    "    \n",
    "    # plot frame axes\n",
    "    alen = 0.04    \n",
    "    plt.arrow(0, 0, alen, 0,head_width=0.008,width=0.0004,color='r')\n",
    "    plt.arrow(0, 0, 0, alen,head_width=0.008,width=0.0004,color='r')\n",
    "    vx = []\n",
    "    vy = []\n",
    "    for i in range(1, len(x)-2):\n",
    "        if i <= 2: \n",
    "            vecx = numpy.array([x[i]-x[i-1], y[i]-y[i-1]])\n",
    "            vecx = vecx/(vecx.dot(vecx)**0.5)\n",
    "            vecy = numpy.cross([0,0,1], vecx)[0:2]\n",
    "            plt.arrow(x[i], y[i], alen*vecx[0], alen*vecx[1],head_width=0.008,width=0.0004,color='b')\n",
    "            plt.arrow(x[i], y[i], alen*vecy[0], alen*vecy[1],head_width=0.008,width=0.0004,color='b')\n",
    "            vx.append(vecx)\n",
    "            vy.append(vecy)\n",
    "        if i >= 2:\n",
    "            vecx = numpy.array([x[i]-x[i+1], y[i]-y[i+1]])\n",
    "            vecx = vecx/(vecx.dot(vecx)**0.5)\n",
    "            vecy = numpy.cross([0,0,1], vecx)[0:2]\n",
    "            plt.arrow(x[i], y[i], alen*vecx[0], alen*vecx[1],head_width=0.008,width=0.0004,color='g')\n",
    "            plt.arrow(x[i], y[i], alen*vecy[0], alen*vecy[1],head_width=0.008,width=0.0004,color='g')\n",
    "            vx.append(vecx)\n",
    "            vy.append(vecy)\n",
    "\n",
    "    # label frames\n",
    "    lablen = 0.06\n",
    "\n",
    "    plt.text(x[0]+0.06, y[0], 'Nx', verticalalignment='center', horizontalalignment='center', color='r', fontsize=14)\n",
    "    plt.text(x[0], y[0]+0.06, 'Ny', verticalalignment='center', horizontalalignment='center', color='r', fontsize=14)\n",
    "    \n",
    "    plt.text(x[1]+lablen*vx[0][0], y[1]+lablen*vx[0][1], 'Ax', verticalalignment='center', horizontalalignment='center', color='b', fontsize=14)\n",
    "    plt.text(x[1]+lablen*vy[0][0], y[1]+lablen*vy[0][1], 'Ay', verticalalignment='center', horizontalalignment='center', color='b', fontsize=14)\n",
    "\n",
    "    plt.text(x[2]+lablen*vx[1][0], y[2]+lablen*vx[1][1], 'Bx', verticalalignment='center', horizontalalignment='center', color='b', fontsize=14)\n",
    "    plt.text(x[2]+lablen*vy[1][0], y[2]+lablen*vy[1][1], 'By', verticalalignment='center', horizontalalignment='center', color='b', fontsize=14)\n",
    "\n",
    "    plt.text(x[3]+lablen*vx[3][0], y[3]+lablen*vx[3][1], 'Cx', verticalalignment='center', horizontalalignment='center', color='g', fontsize=14)\n",
    "    plt.text(x[3]+lablen*vy[3][0], y[3]+lablen*vy[3][1], 'Cy', verticalalignment='center', horizontalalignment='center', color='g', fontsize=14)\n",
    "\n",
    "    plt.text(x[2]+lablen*vx[2][0], y[2]+lablen*vx[2][1], 'Dx', verticalalignment='center', horizontalalignment='center', color='g', fontsize=14)\n",
    "    plt.text(x[2]+lablen*vy[2][0], y[2]+lablen*vy[2][1], 'Dy', verticalalignment='center', horizontalalignment='center', color='g', fontsize=14)\n",
    "\n",
    "    # plot angles\n",
    "    Aang1 = 0\n",
    "    Aang2 = degrees(atan(vx[0][1]/vx[0][0]))\n",
    "    ax.add_patch(Arc((0, 0), 0.04, 0.04, theta1=min(Aang1, Aang2), theta2=max(Aang1, Aang2), edgecolor='k', linewidth=0.0006))\n",
    "\n",
    "    Bang1 = degrees(atan(vx[0][1]/vx[0][0]))\n",
    "    Bang2 = degrees(atan(vx[1][1]/vx[1][0]))\n",
    "    ax.add_patch(Arc((x[1], y[1]), 0.04, 0.04, theta1=min(Bang1, Bang2), theta2=max(Bang1, Bang2), edgecolor='k', linewidth=0.0006))\n",
    "\n",
    "    plt.plot([0,0.04],[0.04,0.04],color='k',linewidth=1)\n",
    "    Cang1 = 0\n",
    "    Cang2 = degrees(atan(vx[3][1]/vx[3][0]))\n",
    "    ax.add_patch(Arc((x[4], y[4]), 0.04, 0.04, theta1=min(Cang1, Cang2), theta2=max(Cang1, Cang2), edgecolor='k', linewidth=0.0006))\n",
    "\n",
    "    Dang1 = degrees(atan(vx[3][1]/vx[3][0]))\n",
    "    Dang2 = degrees(atan(vx[2][1]/vx[2][0]))\n",
    "    ax.add_patch(Arc((x[3], y[3]), 0.04, 0.04, theta1=min(Dang1, Dang2), theta2=max(Dang1, Dang2), edgecolor='k', linewidth=0.0006))\n",
    "\n",
    "    # label angles\n",
    "    plt.text(x[0]+0.032*cos(radians((Aang1+Aang2)/2)), y[0]+0.032*sin(radians((Aang1+Aang2)/2)), 'qA', verticalalignment='center', horizontalalignment='center', fontsize=14)\n",
    "    plt.text(x[1]+0.032*cos(radians((Bang1+Bang2)/2)), y[1]+0.032*sin(radians((Bang1+Bang2)/2)), 'qB', verticalalignment='center', horizontalalignment='center', fontsize=14)\n",
    "    plt.text(x[4]+0.032*cos(radians((Cang1+Cang2)/2)), y[4]+0.032*sin(radians((Cang1+Cang2)/2)), 'qC', verticalalignment='center', horizontalalignment='center', fontsize=14)\n",
    "    plt.text(x[3]+0.032*cos(radians((Dang1+Dang2)/2)), y[3]+0.032*sin(radians((Dang1+Dang2)/2)), 'qD', verticalalignment='center', horizontalalignment='center', fontsize=14)\n",
    "    \n",
    "    # Label inputs and outputs\n",
    "    plt.text(x[0]-0.004, y[0]-0.004, \"Motor A\", verticalalignment='bottom', horizontalalignment='right', fontsize=14, weight='bold')\n",
    "    plt.text(x[4]-0.004, y[4]-0.004, \"Motor C\", verticalalignment='bottom', horizontalalignment='right', fontsize=14, weight='bold')\n",
    "    plt.text(x[2]+0.004, y[2]+0.004, \"End Effector (x,y)\", verticalalignment='bottom', horizontalalignment='left', fontsize=14, weight='bold')"
   ]
  },
  {
   "cell_type": "markdown",
   "id": "younger-rescue",
   "metadata": {},
   "source": [
    "## Procedure"
   ]
  },
  {
   "cell_type": "code",
   "execution_count": null,
   "id": "deadly-degree",
   "metadata": {},
   "outputs": [],
   "source": []
  },
  {
   "cell_type": "code",
   "execution_count": 4,
   "id": "funky-carter",
   "metadata": {},
   "outputs": [],
   "source": [
    "# Create a pynamics system\n",
    "system = System()\n",
    "pynamics.set_system(__name__,system)"
   ]
  },
  {
   "cell_type": "code",
   "execution_count": 5,
   "id": "interested-layer",
   "metadata": {},
   "outputs": [],
   "source": [
    "# Length variables (numerical)\n",
    "lAa_num = 0.05\n",
    "lAb_num = 0.1\n",
    "lBa_num = 0.05\n",
    "lBb_num = 0.1\n",
    "lCa_num = 0.055\n",
    "lCb_num = 0.11\n",
    "lDa_num = 0.055\n",
    "lDb_num = 0.11\n",
    "lE_num = 0.045\n",
    "\n",
    "# Lengths\n",
    "lAa = Constant(lAa_num,'lAa',system)\n",
    "lAb = Constant(lAb_num,'lAb',system)\n",
    "lBa = Constant(lBa_num,'lBa',system)\n",
    "lBb = Constant(lBb_num,'lBb',system)\n",
    "lCa = Constant(lCa_num,'lCa',system)\n",
    "lCb = Constant(lCb_num,'lCb',system)\n",
    "lDa = Constant(lDa_num,'lDa',system)\n",
    "lDb = Constant(lDb_num,'lDb',system)\n",
    "lE = Constant(lE_num,'lE',system)"
   ]
  },
  {
   "cell_type": "code",
   "execution_count": 6,
   "id": "classified-wholesale",
   "metadata": {},
   "outputs": [],
   "source": [
    "# Masses\n",
    "mAa = Constant(0.027,'mAa',system)\n",
    "mAb = Constant(0.027,'mAb',system)\n",
    "mBa = Constant(0.027,'mBa',system)\n",
    "mBb = Constant(0.027,'mBb',system)\n",
    "mCa = Constant(0.027,'mCa',system)\n",
    "mCb = Constant(0.027,'mCb',system)\n",
    "mDa = Constant(0.027,'mDa',system)\n",
    "mDb = Constant(0.027,'mDb',system)\n",
    "\n",
    "# Joint preloads\n",
    "preload0 = Constant(0*pi/180,'preload0',system)\n",
    "preloadA = Constant(0*pi/180,'preloadA',system)\n",
    "preload1 = Constant(0*pi/180,'preload1',system)\n",
    "preloadB = Constant(0*pi/180,'preloadB',system)\n",
    "preload4 = Constant(0*pi/180,'preload4',system)\n",
    "preloadC = Constant(0*pi/180,'preloadC',system)\n",
    "preload3 = Constant(0*pi/180,'preload3',system)\n",
    "preloadD = Constant(0*pi/180,'preloadD',system)\n",
    "\n",
    "# Inertia\n",
    "Ixx_Aa = Constant(0.000202,'Ixx_A',system) #0.00020264\n",
    "Iyy_Aa = Constant(0.000405,'Iyy_A',system) #(0.00040500\n",
    "Izz_Aa = Constant(0.000202,'Izz_A',system) #0.00020264\n",
    "Ixx_Ab = Constant(0.000202,'Ixx_A',system) #0.00020264\n",
    "Iyy_Ab = Constant(0.000405,'Iyy_A',system) #(0.00040500\n",
    "Izz_Ab = Constant(0.000202,'Izz_A',system) #0.00020264\n",
    "\n",
    "Ixx_Ba = Constant(0.000223,'Ixx_B',system) #0.00022378\n",
    "Iyy_Ba = Constant(0.000427,'Iyy_B',system) #0.00042744\n",
    "Izz_Ba = Constant(0.000204,'Izz_B',system) #0.00020422\n",
    "Ixx_Bb = Constant(0.000223,'Ixx_B',system) #0.00022378\n",
    "Iyy_Bb = Constant(0.000427,'Iyy_B',system) #0.00042744\n",
    "Izz_Bb = Constant(0.000204,'Izz_B',system) #0.00020422\n",
    "\n",
    "Ixx_Ca = Constant(0.000222,'Ixx_C',system) #0.00022291\n",
    "Iyy_Ca = Constant(0.000492,'Iyy_C',system) #0.00049228\n",
    "Izz_Ca = Constant(0.000269,'Izz_C',system) #0.00026969\n",
    "Ixx_Cb = Constant(0.000222,'Ixx_C',system) #0.00022291\n",
    "Iyy_Cb = Constant(0.000492,'Iyy_C',system) #0.00049228\n",
    "Izz_Cb = Constant(0.000269,'Izz_C',system) #0.00026969\n",
    "\n",
    "Ixx_Da = Constant(0.000222,'Ixx_D',system) #0.00022291\n",
    "Iyy_Da = Constant(0.000492,'Iyy_D',system) #0.00049228\n",
    "Izz_Da = Constant(0.000269,'Izz_D',system) #0.00026969\n",
    "Ixx_Db = Constant(0.000222,'Ixx_D',system) #0.00022291\n",
    "Iyy_Db = Constant(0.000492,'Iyy_D',system) #0.00049228\n",
    "Izz_Db = Constant(0.000269,'Izz_D',system) #0.00026969"
   ]
  },
  {
   "cell_type": "code",
   "execution_count": 7,
   "id": "inside-prevention",
   "metadata": {},
   "outputs": [],
   "source": [
    "# Create differentiable state variables\n",
    "qAa,qAa_d,qAa_dd = Differentiable('qAa',system)\n",
    "qAb,qAb_d,qAb_dd = Differentiable('qAb',system)\n",
    "\n",
    "qBa,qBa_d,qBa_dd = Differentiable('qBa',system)\n",
    "qBb,qBb_d,qBb_dd = Differentiable('qBb',system)\n",
    "\n",
    "qCa,qCa_d,qCa_dd = Differentiable('qCa',system)\n",
    "qCb,qCb_d,qCb_dd = Differentiable('qCb',system)\n",
    "\n",
    "qDa,qDa_d,qDa_dd = Differentiable('qDa',system)\n",
    "qDb,qDb_d,qDb_dd = Differentiable('qDb',system)"
   ]
  },
  {
   "cell_type": "code",
   "execution_count": 8,
   "id": "infinite-alliance",
   "metadata": {},
   "outputs": [],
   "source": [
    "# initial values\n",
    "# qC = 11.97 creates fully extended, horizontal wing\n",
    "initialvalues = {}\n",
    "initialvalues[qAa]=-30*pi/180\n",
    "initialvalues[qAa_d]=0*pi/180\n",
    "initialvalues[qAb]=-30*pi/180\n",
    "initialvalues[qAb_d]=0*pi/180\n",
    "\n",
    "initialvalues[qBa]=0*pi/180\n",
    "initialvalues[qBa_d]=0*pi/180\n",
    "initialvalues[qBb]=0*pi/180\n",
    "initialvalues[qBb_d]=0*pi/180\n",
    "\n",
    "#initialvalues[qC]=14.65*pi/180\n",
    "initialvalues[qCa]=-26.75*pi/180\n",
    "initialvalues[qCa_d]=0*pi/180\n",
    "initialvalues[qCb]=-0*pi/180\n",
    "initialvalues[qCb_d]=0*pi/180\n",
    "\n",
    "initialvalues[qDa]=-20.28*pi/180\n",
    "initialvalues[qDa_d]=0*pi/180\n",
    "initialvalues[qDb]=-0*pi/180\n",
    "initialvalues[qDb_d]=0*pi/180"
   ]
  },
  {
   "cell_type": "code",
   "execution_count": 9,
   "id": "consolidated-underwear",
   "metadata": {},
   "outputs": [],
   "source": [
    "# Retrieve state variables in the order they are stored in the system\n",
    "# Create a list of initial values ini0 in the order of the system’s state variables\n",
    "statevariables = system.get_state_variables()\n",
    "ini0 = [initialvalues[item] for item in statevariables]"
   ]
  },
  {
   "cell_type": "code",
   "execution_count": 10,
   "id": "hispanic-spectrum",
   "metadata": {},
   "outputs": [],
   "source": [
    "# Create frames\n",
    "N = Frame('N')\n",
    "Aa = Frame('Aa')\n",
    "Ab = Frame('Ab')\n",
    "\n",
    "Ba = Frame('Ba')\n",
    "Bb = Frame('Bb')\n",
    "\n",
    "Ca = Frame('Ca')\n",
    "Cb = Frame('Cb')\n",
    "\n",
    "Da = Frame('Da')\n",
    "Db = Frame('Db')"
   ]
  },
  {
   "cell_type": "code",
   "execution_count": 11,
   "id": "southeast-surgery",
   "metadata": {},
   "outputs": [],
   "source": [
    "# Declare N as the Newtonian (fixed) frame\n",
    "system.set_newtonian(N)"
   ]
  },
  {
   "cell_type": "code",
   "execution_count": null,
   "id": "rotary-bosnia",
   "metadata": {},
   "outputs": [],
   "source": []
  },
  {
   "cell_type": "code",
   "execution_count": null,
   "id": "running-configuration",
   "metadata": {},
   "outputs": [],
   "source": []
  },
  {
   "cell_type": "code",
   "execution_count": null,
   "id": "freelance-comparison",
   "metadata": {},
   "outputs": [],
   "source": []
  },
  {
   "cell_type": "code",
   "execution_count": 12,
   "id": "second-affiliation",
   "metadata": {},
   "outputs": [],
   "source": [
    "# Rotate other frames about their local Z axes.\n",
    "# Not global q\n",
    "Aa.rotate_fixed_axis_directed(N,[0,0,1],qAa,system)\n",
    "Ab.rotate_fixed_axis_directed(Aa,[0,0,1],qAb,system)\n",
    "\n",
    "Ba.rotate_fixed_axis_directed(Ab,[0,0,1],qBa,system)\n",
    "Bb.rotate_fixed_axis_directed(Ba,[0,0,1],qBb,system)\n",
    "\n",
    "Ca.rotate_fixed_axis_directed(Bb,[0,0,1],qCa,system)\n",
    "Cb.rotate_fixed_axis_directed(Ca,[0,0,1],qCb,system)\n",
    "\n",
    "Da.rotate_fixed_axis_directed(Cb,[0,0,1],qDa,system)\n",
    "Db.rotate_fixed_axis_directed(Da,[0,0,1],qDb,system)"
   ]
  },
  {
   "cell_type": "code",
   "execution_count": 13,
   "id": "christian-split",
   "metadata": {},
   "outputs": [],
   "source": [
    "# Define rigid body kinematics\n",
    "# position vectors\n",
    "p0 = 0*N.x #Normal\n",
    "pA = p0 + lAa*Aa.x #Normal\n",
    "p1 = pA + lAb*Ab.x #Link A\n",
    "pB = p1 + lBa*Ba.x #Link A\n",
    "p2A = pB + lBb*Bb.x #Link B - OUTPUT\n",
    "p4 = p0 + lE*N.y #Link E\n",
    "pC = p4 + lCa*Ca.x #Link E\n",
    "p3 = pC + lCb*Cb.x #Link C\n",
    "pD = p3 + lDa*Da.x #Link C\n",
    "p2C = pD + lDb*Db.x #Link D - OUTPUT"
   ]
  },
  {
   "cell_type": "code",
   "execution_count": 14,
   "id": "therapeutic-change",
   "metadata": {},
   "outputs": [],
   "source": [
    "# CoM vectors\n",
    "pAacom=p0 + lAa/2*Aa.x #Link Aa\n",
    "pAbcom=pA + lAb/2*Ab.x #Link Ab\n",
    "\n",
    "pBacom=p1 + 0.02*Ba.x #Link Ba\n",
    "pBbcom=pB + lBb*Bb.x #Link Bb\n",
    "\n",
    "pCacom=p4 + lCa/2*Ca.x #Link Ca\n",
    "pCbcom=pC + lCb/2*Cb.x #Link Cb\n",
    "\n",
    "pDacom=p3 + lDa/2*Da.x #Link Da\n",
    "pDbcom=pD + lDb/2*Db.x #Link Db"
   ]
  },
  {
   "cell_type": "code",
   "execution_count": 15,
   "id": "adopted-export",
   "metadata": {},
   "outputs": [],
   "source": [
    "# Angular Velocity\n",
    "wNAa = N.getw_(Aa)\n",
    "wAaAb = Aa.getw_(Ab)\n",
    "\n",
    "wAbBa = Ab.getw_(Ba)\n",
    "wBaBb = Ba.getw_(Bb)\n",
    "\n",
    "wNCa = N.getw_(Ca)\n",
    "wCaCb = Ca.getw_(Cb)\n",
    "\n",
    "wCbDa = Cb.getw_(Da)\n",
    "wDaDb = Da.getw_(Db)"
   ]
  },
  {
   "cell_type": "code",
   "execution_count": 16,
   "id": "satisfactory-dispute",
   "metadata": {},
   "outputs": [],
   "source": [
    "# Build inertia tensors\n",
    "IAa = Dyadic.build(Aa,Ixx_Aa,Iyy_Aa,Izz_Aa)\n",
    "IAb = Dyadic.build(Ab,Ixx_Ab,Iyy_Ab,Izz_Ab)\n",
    "\n",
    "IBa = Dyadic.build(Ba,Ixx_Ba,Iyy_Ba,Izz_Ba)\n",
    "IBb = Dyadic.build(Bb,Ixx_Bb,Iyy_Bb,Izz_Bb)\n",
    "\n",
    "ICa = Dyadic.build(Ca,Ixx_Ca,Iyy_Ca,Izz_Ca)\n",
    "ICb = Dyadic.build(Cb,Ixx_Cb,Iyy_Cb,Izz_Cb)\n",
    "\n",
    "IDa = Dyadic.build(Da,Ixx_Da,Iyy_Da,Izz_Da)\n",
    "IDb = Dyadic.build(Db,Ixx_Db,Iyy_Db,Izz_Db)\n",
    "\n",
    "BodyAa = Body('BodyAa',Aa,pAacom,mAa,IAa,system)\n",
    "BodyAb = Body('BodyAb',Ab,pAbcom,mAb,IAb,system)\n",
    "\n",
    "BodyBa = Body('BodyBa',Ba,pBacom,mBa,IBa,system)\n",
    "BodyBb = Body('BodyBb',Bb,pBbcom,mBb,IBb,system)\n",
    "\n",
    "BodyCa = Body('BodyCa',Ca,pCacom,mCa,ICa,system)\n",
    "BodyCb = Body('BodyCb',Cb,pCbcom,mCb,ICb,system)\n",
    "\n",
    "BodyDa = Body('BodyDa',Da,pDacom,mDa,IDa,system)\n",
    "BodyDb = Body('BodyDb',Db,pDbcom,mDb,IDb,system)\n",
    "#BodyC = Particle(pCcm,mC,'ParticleC',system)"
   ]
  },
  {
   "cell_type": "markdown",
   "id": "mental-fortune",
   "metadata": {},
   "source": [
    "## Forces"
   ]
  },
  {
   "cell_type": "code",
   "execution_count": 17,
   "id": "emotional-berkeley",
   "metadata": {},
   "outputs": [],
   "source": [
    "b = Constant(1e0,'b',system)"
   ]
  },
  {
   "cell_type": "code",
   "execution_count": 18,
   "id": "institutional-insured",
   "metadata": {},
   "outputs": [
    {
     "data": {
      "text/plain": [
       "<pynamics.force.Force at 0x28197801d60>"
      ]
     },
     "execution_count": 18,
     "metadata": {},
     "output_type": "execute_result"
    }
   ],
   "source": [
    "# Forces\n",
    "system.addforce(-b*wNAa,wNAa)\n",
    "system.addforce(-b*wAbBa,wAbBa)\n",
    "system.addforce(-b*wNCa,wNCa)\n",
    "system.addforce(-b*wCbDa,wCbDa)"
   ]
  },
  {
   "cell_type": "code",
   "execution_count": 19,
   "id": "expressed-basement",
   "metadata": {},
   "outputs": [],
   "source": [
    "k = Constant(1e-3,'k',system)\n",
    "k15 = Constant(1e1,'k15',system)\n",
    "k165 = Constant(1e1,'k165',system)\n",
    "klim = Constant(1e1,'klim',system)"
   ]
  },
  {
   "cell_type": "code",
   "execution_count": 20,
   "id": "after-poison",
   "metadata": {},
   "outputs": [
    {
     "data": {
      "text/plain": [
       "(<pynamics.force.Force at 0x28197a4a3d0>,\n",
       " <pynamics.spring.Spring at 0x28197a4a370>)"
      ]
     },
     "execution_count": 20,
     "metadata": {},
     "output_type": "execute_result"
    }
   ],
   "source": [
    "# Spring Forces\n",
    "# Not global q\n",
    "system.add_spring_force1(k,(qAa-preload0)*N.z,wNAa)\n",
    "system.add_spring_force1(k15,(qAb-preloadA)*Aa.z,wAaAb) \n",
    "\n",
    "system.add_spring_force1(k,(qBa-preload1)*Ab.z,wAbBa)\n",
    "system.add_spring_force1(k15,(qBb-preloadB)*Ba.z,wBaBb)\n",
    "\n",
    "system.add_spring_force1(k,(qCa-preload4)*N.z,wNCa)\n",
    "system.add_spring_force1(k165,(qCb-preloadC)*Ca.z,wCaCb)\n",
    "\n",
    "system.add_spring_force1(k,(qDa-preload3)*Cb.z,wCbDa)\n",
    "system.add_spring_force1(k165,(qDb-preloadD)*Da.z,wDaDb)"
   ]
  },
  {
   "cell_type": "code",
   "execution_count": 21,
   "id": "extended-cologne",
   "metadata": {},
   "outputs": [],
   "source": [
    "# motor torque\n",
    "T =  Constant(0,'T',system)\n",
    "dT = Constant(1,'dT',system)"
   ]
  },
  {
   "cell_type": "code",
   "execution_count": 22,
   "id": "cognitive-envelope",
   "metadata": {},
   "outputs": [
    {
     "data": {
      "text/plain": [
       "<pynamics.force.Force at 0x28197a4af10>"
      ]
     },
     "execution_count": 22,
     "metadata": {},
     "output_type": "execute_result"
    }
   ],
   "source": [
    "system.addforce(dT*abs(system.t-5)/(system.t-5)*N.z,wNAa)"
   ]
  },
  {
   "cell_type": "code",
   "execution_count": 23,
   "id": "recognized-glance",
   "metadata": {},
   "outputs": [],
   "source": [
    "# Add air resistance as a joint damper as a function of the angular velocities"
   ]
  },
  {
   "cell_type": "code",
   "execution_count": null,
   "id": "heard-things",
   "metadata": {},
   "outputs": [],
   "source": []
  },
  {
   "cell_type": "code",
   "execution_count": null,
   "id": "environmental-rouge",
   "metadata": {},
   "outputs": [],
   "source": []
  },
  {
   "cell_type": "code",
   "execution_count": null,
   "id": "fiscal-citation",
   "metadata": {},
   "outputs": [],
   "source": []
  },
  {
   "cell_type": "code",
   "execution_count": 24,
   "id": "fifth-gateway",
   "metadata": {},
   "outputs": [],
   "source": [
    "# gravity\n",
    "g = Constant(9.81,'g',system)"
   ]
  },
  {
   "cell_type": "code",
   "execution_count": 25,
   "id": "hawaiian-rebate",
   "metadata": {},
   "outputs": [],
   "source": [
    "# Gravity\n",
    "system.addforcegravity(-g*N.y)"
   ]
  },
  {
   "cell_type": "markdown",
   "id": "selected-beach",
   "metadata": {},
   "source": [
    "## Constraints"
   ]
  },
  {
   "cell_type": "code",
   "execution_count": 26,
   "id": "brilliant-bhutan",
   "metadata": {},
   "outputs": [],
   "source": [
    "# Constraints\n",
    "eq_vector = p2A-p2C\n",
    "eq = []\n",
    "eq.append((eq_vector).dot(N.x))\n",
    "eq.append((eq_vector).dot(N.y))\n",
    "eq_d=[(system.derivative(item)) for item in eq]\n",
    "eq_dd=[(system.derivative(item)) for item in eq_d]\n",
    "\n",
    "eq2_vector = Ab.x-Ba.x\n",
    "eq2 = []\n",
    "eq2.append((eq2_vector).dot(N.x))\n",
    "eq2.append((eq2_vector).dot(N.y))\n",
    "eq2_d=[(system.derivative(item)) for item in eq2]\n",
    "eq2_dd=[(system.derivative(item)) for item in eq2_d]"
   ]
  },
  {
   "cell_type": "markdown",
   "id": "healthy-climate",
   "metadata": {},
   "source": [
    "## Solve for valid initial condition"
   ]
  },
  {
   "cell_type": "code",
   "execution_count": 27,
   "id": "inside-letters",
   "metadata": {},
   "outputs": [],
   "source": [
    "# Declare a list of points that will be used for plotting\n",
    "points = [p0, pA, p1, pB, p2A, pD, p3, pC, p4]"
   ]
  },
  {
   "cell_type": "code",
   "execution_count": 28,
   "id": "ancient-resort",
   "metadata": {},
   "outputs": [],
   "source": [
    "# Identify independent and dependent variables\n",
    "qi = [qAa, qCa]\n",
    "qd = [qAb, qBa, qBb, qCb, qDa, qDb]"
   ]
  },
  {
   "cell_type": "code",
   "execution_count": 29,
   "id": "handy-antibody",
   "metadata": {},
   "outputs": [],
   "source": [
    "# Create a copy of symbolic constants dictionary and add the initial value of qi to it\n",
    "constants = system.constant_values.copy()\n",
    "defined = dict([(item,initialvalues[item]) for item in qi])\n",
    "constants.update(defined)"
   ]
  },
  {
   "cell_type": "code",
   "execution_count": 30,
   "id": "protective-playing",
   "metadata": {},
   "outputs": [],
   "source": [
    "# Substitute constants in equation\n",
    "eq = [item.subs(constants) for item in eq]\n",
    "eq2 = [item.subs(constants) for item in eq2]"
   ]
  },
  {
   "cell_type": "code",
   "execution_count": 31,
   "id": "specified-dressing",
   "metadata": {},
   "outputs": [],
   "source": [
    "# Convert to numpy array\n",
    "# Sum the error\n",
    "error = (numpy.array(eq)**2).sum() + (numpy.array(eq2)**2).sum()"
   ]
  },
  {
   "cell_type": "code",
   "execution_count": 32,
   "id": "flexible-albuquerque",
   "metadata": {},
   "outputs": [],
   "source": [
    "# Convert to a function that scipy can use.\n",
    "# Sympy has a “labmdify” function that evaluates an expression, but scipy needs a slightly different format.\n",
    "f = sympy.lambdify(qd,error)\n",
    "\n",
    "def function(args):\n",
    "    return f(*args)"
   ]
  },
  {
   "cell_type": "code",
   "execution_count": 33,
   "id": "focused-width",
   "metadata": {},
   "outputs": [
    {
     "name": "stderr",
     "output_type": "stream",
     "text": [
      "2021-03-18 19:38:41,207 - pynamics.output - INFO - calculating outputs\n",
      "2021-03-18 19:38:41,209 - pynamics.output - INFO - done calculating outputs\n"
     ]
    },
    {
     "data": {
      "text/plain": [
       "array([[[ 0.        ,  0.        ],\n",
       "        [ 0.04330127, -0.025     ],\n",
       "        [ 0.09330127, -0.11160254],\n",
       "        [ 0.11830127, -0.15490381],\n",
       "        [ 0.16830127, -0.24150635],\n",
       "        [-0.00675367, -0.17232296],\n",
       "        [ 0.00935431, -0.11973463],\n",
       "        [ 0.0031181 , -0.00991154],\n",
       "        [ 0.        ,  0.045     ]],\n",
       "\n",
       "       [[ 0.        ,  0.        ],\n",
       "        [ 0.04330127, -0.025     ],\n",
       "        [ 0.10312439, -0.10513236],\n",
       "        [ 0.13303596, -0.14519853],\n",
       "        [ 0.21490676, -0.20261954],\n",
       "        [ 0.13872281, -0.12328064],\n",
       "        [ 0.1056369 , -0.07934521],\n",
       "        [ 0.02599508, -0.00346912],\n",
       "        [ 0.        ,  0.045     ]]])"
      ]
     },
     "execution_count": 33,
     "metadata": {},
     "output_type": "execute_result"
    }
   ],
   "source": [
    "# Take the derivative of the equations to linearize with regard to the velocity variables\n",
    "guess = [initialvalues[item] for item in qd]\n",
    "result = scipy.optimize.minimize(function,guess)\n",
    "if result.fun>1e-3:\n",
    "    raise(Exception(\"out of tolerance\"))\n",
    "ini = []\n",
    "for item in system.get_state_variables():\n",
    "    if item in qd:\n",
    "        ini.append(result.x[qd.index(item)])\n",
    "    else:\n",
    "        ini.append(initialvalues[item])\n",
    "points = PointsOutput(points, constant_values=system.constant_values)\n",
    "points.calc(numpy.array([ini0,ini]))\n",
    "#points.plot_time()"
   ]
  },
  {
   "cell_type": "code",
   "execution_count": 34,
   "id": "middle-discount",
   "metadata": {},
   "outputs": [],
   "source": [
    "# Valid initial condition\n",
    "x = numpy.array([points.y[1][0][0], points.y[1][1][0], points.y[1][2][0], points.y[1][3][0], points.y[1][4][0], points.y[1][5][0], points.y[1][6][0], points.y[1][7][0], points.y[1][8][0], 0])\n",
    "y = numpy.array([points.y[1][0][1], points.y[1][1][1], points.y[1][2][1], points.y[1][3][1], points.y[1][4][1], points.y[1][5][1], points.y[1][6][1], points.y[1][7][1], points.y[1][8][1], 0])\n",
    "# prettyplot(x,y)"
   ]
  },
  {
   "cell_type": "markdown",
   "id": "alleged-moore",
   "metadata": {},
   "source": [
    "## Solution"
   ]
  },
  {
   "cell_type": "code",
   "execution_count": 35,
   "id": "breeding-floor",
   "metadata": {},
   "outputs": [
    {
     "name": "stderr",
     "output_type": "stream",
     "text": [
      "2021-03-18 19:38:41,244 - pynamics.system - INFO - getting dynamic equations\n"
     ]
    }
   ],
   "source": [
    "# F=ma\n",
    "f,ma = system.getdynamics()"
   ]
  },
  {
   "cell_type": "code",
   "execution_count": 36,
   "id": "disabled-military",
   "metadata": {},
   "outputs": [
    {
     "name": "stderr",
     "output_type": "stream",
     "text": [
      "2021-03-18 19:38:42,583 - pynamics.system - INFO - solving a = f/m and creating function\n",
      "2021-03-18 19:38:42,598 - pynamics.system - INFO - substituting constrained in Ma-f.\n",
      "2021-03-18 19:39:05,685 - pynamics.system - INFO - done solving a = f/m and creating function\n",
      "2021-03-18 19:39:05,686 - pynamics.system - INFO - calculating function for lambdas\n"
     ]
    }
   ],
   "source": [
    "# Acceleration\n",
    "func1,lambda1 = system.state_space_post_invert(f,ma,eq_dd,return_lambda = True)"
   ]
  },
  {
   "cell_type": "code",
   "execution_count": 37,
   "id": "occasional-relief",
   "metadata": {},
   "outputs": [],
   "source": [
    "# Integration Tolerance\n",
    "tol = 1e-12"
   ]
  },
  {
   "cell_type": "code",
   "execution_count": 38,
   "id": "violent-answer",
   "metadata": {},
   "outputs": [],
   "source": [
    "# Time\n",
    "tinitial = 0\n",
    "tfinal = 10\n",
    "fps = 30\n",
    "tstep = 1/fps\n",
    "t = numpy.r_[tinitial:tfinal:tstep]"
   ]
  },
  {
   "cell_type": "code",
   "execution_count": 39,
   "id": "arbitrary-thread",
   "metadata": {},
   "outputs": [
    {
     "name": "stderr",
     "output_type": "stream",
     "text": [
      "2021-03-18 19:39:05,792 - pynamics.integration - INFO - beginning integration\n",
      "2021-03-18 19:39:05,792 - pynamics.system - INFO - integration at time 0000.00\n",
      "2021-03-18 19:39:47,609 - pynamics.system - INFO - integration at time 0000.01\n",
      "C:\\Anaconda3\\lib\\site-packages\\scipy\\integrate\\odepack.py:247: ODEintWarning: Excess work done on this call (perhaps wrong Dfun type). Run with full_output = 1 to get quantitative information.\n",
      "  warnings.warn(warning_msg, ODEintWarning)\n",
      "2021-03-18 19:39:56,458 - pynamics.integration - INFO - finished integration\n"
     ]
    }
   ],
   "source": [
    "# Integrate\n",
    "states=pynamics.integration.integrate(func1,ini,t,rtol=tol,atol=tol, args=({'constants':system.constant_values},))"
   ]
  },
  {
   "cell_type": "code",
   "execution_count": 40,
   "id": "distinguished-occupation",
   "metadata": {},
   "outputs": [
    {
     "data": {
      "text/plain": [
       "<matplotlib.legend.Legend at 0x28198d7ba60>"
      ]
     },
     "execution_count": 40,
     "metadata": {},
     "output_type": "execute_result"
    },
    {
     "data": {
      "image/png": "[encoded data removed]",
      "text/plain": [
       "<Figure size 432x288 with 1 Axes>"
      ]
     },
     "metadata": {
      "needs_background": "light"
     },
     "output_type": "display_data"
    }
   ],
   "source": [
    "# Outputs\n",
    "plt.figure()\n",
    "artists = plt.plot(t,states[:,:4])\n",
    "plt.legend(artists,['qAa','qAb','qBa','qBb','qCa','qCb','qDa','qDb'])"
   ]
  },
  {
   "cell_type": "raw",
   "id": "therapeutic-infrastructure",
   "metadata": {},
   "source": [
    "# Energy\n",
    "KE = system.get_KE()\n",
    "PE = system.getPEGravity(p0) - system.getPESprings()\n",
    "energy_output = Output([KE-PE],system)\n",
    "energy_output.calc(states)\n",
    "energy_output.plot_time()"
   ]
  },
  {
   "cell_type": "code",
   "execution_count": 41,
   "id": "swedish-feeding",
   "metadata": {},
   "outputs": [
    {
     "name": "stderr",
     "output_type": "stream",
     "text": [
      "2021-03-18 19:39:56,710 - pynamics.output - INFO - calculating outputs\n",
      "2021-03-18 19:39:56,864 - pynamics.output - INFO - done calculating outputs\n"
     ]
    },
    {
     "data": {
      "image/png": "[encoded data removed]",
      "text/plain": [
       "<Figure size 432x288 with 1 Axes>"
      ]
     },
     "metadata": {
      "needs_background": "light"
     },
     "output_type": "display_data"
    }
   ],
   "source": [
    "# Motion\n",
    "points = [p0,pA,p1,pB,p2A,pD,p3,pC,p4]\n",
    "points_output = PointsOutput(points,system)\n",
    "y = points_output.calc(states)\n",
    "points_output.plot_time(20)"
   ]
  },
  {
   "cell_type": "code",
   "execution_count": 42,
   "id": "subtle-hydrogen",
   "metadata": {},
   "outputs": [
    {
     "data": {
      "image/png": "[encoded data removed]",
      "text/plain": [
       "<Figure size 432x288 with 1 Axes>"
      ]
     },
     "metadata": {
      "needs_background": "light"
     },
     "output_type": "display_data"
    }
   ],
   "source": [
    "# Motion Animation\n",
    "points_output.animate(fps = fps,movie_name = 'render.mp4',lw=2,marker='o',color=(1,0,0,1),linestyle='-')"
   ]
  },
  {
   "cell_type": "code",
   "execution_count": 43,
   "id": "structured-direction",
   "metadata": {},
   "outputs": [
    {
     "data": {
      "text/html": [
       "<video width=\"432\" height=\"288\" controls autoplay loop>\n",
       "  <source type=\"video/mp4\" src=\"data:video/mp4;base64,AAAAIGZ0eXBNNFYgAAACAE00ViBpc29taXNvMmF2YzEAAAAIZnJlZQAATURtZGF0AAACrgYF//+q\n",
       "3EXpvebZSLeWLNgg2SPu73gyNjQgLSBjb3JlIDE2MSByMzAzMyAwZDc1NGVjIC0gSC4yNjQvTVBF\n",
       "Ry00IEFWQyBjb2RlYyAtIENvcHlsZWZ0IDIwMDMtMjAyMCAtIGh0dHA6Ly93d3cudmlkZW9sYW4u\n",
       "b3JnL3gyNjQuaHRtbCAtIG9wdGlvbnM6IGNhYmFjPTEgcmVmPTMgZGVibG9jaz0xOjA6MCBhbmFs\n",
       "eXNlPTB4MzoweDExMyBtZT1oZXggc3VibWU9NyBwc3k9MSBwc3lfcmQ9MS4wMDowLjAwIG1peGVk\n",
       "X3JlZj0xIG1lX3JhbmdlPTE2IGNocm9tYV9tZT0xIHRyZWxsaXM9MSA4eDhkY3Q9MSBjcW09MCBk\n",
       "ZWFkem9uZT0yMSwxMSBmYXN0X3Bza2lwPTEgY2hyb21hX3FwX29mZnNldD0tMiB0aHJlYWRzPTkg\n",
       "bG9va2FoZWFkX3RocmVhZHM9MSBzbGljZWRfdGhyZWFkcz0wIG5yPTAgZGVjaW1hdGU9MSBpbnRl\n",
       "cmxhY2VkPTAgYmx1cmF5X2NvbXBhdD0wIGNvbnN0cmFpbmVkX2ludHJhPTAgYmZyYW1lcz0zIGJf\n",
       "cHlyYW1pZD0yIGJfYWRhcHQ9MSBiX2JpYXM9MCBkaXJlY3Q9MSB3ZWlnaHRiPTEgb3Blbl9nb3A9\n",
       "MCB3ZWlnaHRwPTIga2V5aW50PTI1MCBrZXlpbnRfbWluPTI1IHNjZW5lY3V0PTQwIGludHJhX3Jl\n",
       "ZnJlc2g9MCByY19sb29rYWhlYWQ9NDAgcmM9Y3JmIG1idHJlZT0xIGNyZj0yMy4wIHFjb21wPTAu\n",
       "NjAgcXBtaW49MCBxcG1heD02OSBxcHN0ZXA9NCBpcF9yYXRpbz0xLjQwIGFxPTE6MS4wMACAAAAQ\n",
       "tWWIhAA3//728P4FNjuY0JcRzeidMx+/Fbi6NDe9zgAAAwAAN9zmRP7KkwbmwAAC4jCTf3jHLQAA\n",
       "r47aO2dgbcrNYw+g6vyvjhPA434H/3/tjWYVkKy0umLmz8whlt2ljbEZwc7JiED2ZUYYGd98L7jX\n",
       "jEVTeVx1PjemC3XP3e4gp7MaaQtCZMNP/U+aLmLarSIkE28vLXu79Jfh6Nfm/NBchLNg15BxJtT6\n",
       "1YElE4SsuSMfQW5U6CiuAZ5gTe7NCPBfeqGb/ucpbq+4H5aui/QMIj2U5h1PNS4shwjfdcsu4nyj\n",
       "oO9nyOAvl/FWRMDXjuGwORJra4iciF6cwvXPpj23YhXWwp9q6oAKrXC/NpwkFYC6mTk+A+Mc98JA\n",
       "4QMyRLovka8snkHjcuxrebC0G/4JwseAPs0SiWbQbY13a62/GGOBQV7jhrNeH7mTe3KBLZkGcNGF\n",
       "AUFHZ2Lc+5wsDANbmXmi8zf8DAMeNEMrGpTdy3uZozcSbUVb54X1AYh+3h1IaNagpEMPt7vm+HEO\n",
       "pL35jO7mrJdKkDOfSpypSyjDQ2FY6I3JvVecGNuHyFYurEQCSStbCeDYrM5ltuu/K97HpPUve1qL\n",
       "6fwbErVbFiY8tcjpgFaiRYf3+k2Y1cnI/rbXlTdVLLAT8ONhWviTgsvRh3WINg/A/5xleXbwga9t\n",
       "wK2/6KaJxca8iAohFbdVattuKlhzQIxnUiWJlZVqA7/G7uiBZkBEDVBYnCC86F2sqgvF+0LBGcpp\n",
       "PbvUU/WU8hPgss1Id0FbEN/01cSkVk/XiHLJFu5VBx3gp6j4uGgVO6xOi0VjQBJDjfEk65n0vmH1\n",
       "QBw6n0hMh7eBXx7Q7joxJVCmv6ypKmv3PxjhqrSx111JH93RFXKC8hG9XjNM7z0tzlUXt0lGcz8d\n",
       "SSSzJw+7ym0eSU5c98XERopoBJ7QzSylIimKGj1hwx93RTayXus3DApJoKUzTvrS6bxMEccPjk5q\n",
       "c7RZeoYDTQQxrRKOZF76ljpqy56rv/J4WG6nF8pqTOtSeDpUTNLXt2KNqCNHnYNKelKf/UzuUCHC\n",
       "iBODBzgs8/VTqg+aWCAV1ONg6qTCGTGJW+r9XckcEC87B8U9pXbmwM+ReLFjWrG8RVS8tGKdq9Pv\n",
       "nOcORYKvOdou7lvYhk6vDQe00naDuv5BvANoV/pPVPNJ8qbcIy9G5DCfgaIgalg+L0p8vzqe+/Ob\n",
       "+UmkeZn+s7s2KHROy5065FegS3Jm6khwHy7i//d5KTolDMBFjQftjjvUEUEupr6raD0rwcIkODx/\n",
       "dBfCoMS9kqWVs05gdWs0QUeSpGsd9WlUeENVbqNDIZHt642cEpJrq5P0oqk6H1ZwEC8w/T9ruQqW\n",
       "39mfqzySG40N9hYmyEGS8ELR3g7EcTzrYBsyKEBJTzFrtIJT0R7dljgaE3zolcR73RIrt5ZhEx2g\n",
       "9JMuyN5Pxufdpm/v+o9UqW9cJU5AvV9bublL9Uo83UxYvQZOkOq/GNsLR8vK/lyVSyoIOOIeEyRx\n",
       "oKv5TswVSL7wKO6BLKhtXnQ/9zKhsz4hKX281u1BW/bCR7mg1YKKF62MTE9ifx+EChHJ9W7kGguw\n",
       "8SqnHdoBjETH2+C1NdcF2y96WJ1EdlN4hnLrmyvxOR+lag9wfsECI0ngNTZpEc1pK4JUGC5dv75U\n",
       "MBeY6sI5GTYgpy3eB2NGbb8+CWtaHvoiOS7Mwc53QmzwucaiAPfFBppdfsRrqhqf92otwpsh6eS/\n",
       "XKajSuKD8aFLnMFhlz9zXtnEnvU9IGfduhYQoqZRt3yAKAdWWkJgN/ENigUA1RrwNXb1X+RZ3Nuf\n",
       "gn2DLr8+EsOh+Hke75jGQxPpQeB0vT1YCuFkG4U2fbrVzDofmr1gOiouN8sudLHvYAse+4hoxfJB\n",
       "cOUz7Vv+leHYQArwwSfyEzisZjz1ig8ZihGp0r2INBTd6BXFCpU6zOtxu+qm8DlCc87PHtW6B78M\n",
       "mxKIyEqzKs2o/f/+Erq/a+G287p1Wp9TDEoN+oeewNraU+PqGP+ny8vy92IkB/scgdmqVn2JXKCS\n",
       "kuxGgu6kvyJU8FJHFcW0puWZZlLeqFSaaBLjJjnQaOnO6ynZzG5AD55B3NhHa31AXKyg2AyO01PO\n",
       "VMFhLN0HIEu9jIN1WEr/wMtFmByxa3IEJg40FGLeslOwVRczIY0uoyKzYOwyGX2n5lefEg1n9TUz\n",
       "yxtO3VH+WxGbJvcl3X4AXxf6aj5ICp08sAWv1llEw8YIuUEaDrKNpHRA5kQKPwLTC9D7wbmd3AyZ\n",
       "PEYKE4hp51ytdigMGc4wKz3jY3HENaxITYHTn95jyRgozKiwPIZueglOQeKFBMlJ7YIU+xvQi1o1\n",
       "60CS8e/hhJ4tAK8KvZQW94SQMa8jaZKt/x7Gaa3CQvmWD/dg+IRqkT56AU+Yhk6Ya8XRpkRx47dS\n",
       "GFl9xtHMjZ/ZBSXFuo0YwW432DnzrWBg9dhn4rCLJ37gnkLAkAMxXFf+h4CjZNn61pDJrUgzmNn4\n",
       "GmGu4wqk5ojK3OSD3njX7VkkiDXRqESvMwnAXzEk3T6gqBcGOObBNrKrRmL+Nn7h3G4g0vMXnnhV\n",
       "ACRLTgjEcNAtTGRro91kyFohwGMX1S42V11w71gq7gM53WUVIdJlRBOptxWV2PkZwT22qlPKFQPG\n",
       "SuHUJ53Td22+LQV3XVwJKgpxjq1ii+XqRVtefq0KWbiyyHG1E0wtIYw3XJUqB9qFL+Emt+Asskwm\n",
       "pTYssG94IorS//P1smNkT0AOpzeStAPWPJbRP8YUDhtqdWflhmYpDhz7hXce11Oi7izXwiHiMWS9\n",
       "k8vWyaQfDqg/Vs6Ko8sQK1SEzgnc4SbptQxU6eLJA+A9+tWkIF9p34QCYF97Blh9uSfUxDqtPn5u\n",
       "fegrzU5jlmsK29VHXt98EStlRgd4HmRzfQ4LPbeVmJHU/RXKNY7QinX0WDuX9IZBw71k6T1HjrDz\n",
       "klNrZcXWs4OBWIGarciFgvrgv+vMdLGXT4tkbWxt2poMAylYrpFCKst+tPpEbQAzRoxLeSgmtJQL\n",
       "cZ2fvXpaNxuGGFDrfA+CFDcLrNsKilmfC8Z5f76J1sA1gBoyI6PLbACtvYvdhp+wqns9+LPKTKto\n",
       "SnrMz7EYFooSez8v40rqdtE5EyFUg529eY1Xh3ak0HCEirMOby0jr31/6Xuf8CcH7My647+RNY5t\n",
       "b3Mz4t5hZvl14eYVf9BPQ0oChEynbMC76o3AoEwRLI/AP7YSDgJFU09+nfAGH3xi0fQ3Ny4Hh16l\n",
       "fD8aDPQmESvzU85p1q/Xk37iruMAGm6/ZI8CM/dEyk3NlqU7e6qLsvYsui82AeDizQ5CbBE3jSdc\n",
       "xFJBIUvrspkE57ocAV2QzskwcOYNuBQ7RRKeiiwibF0Qt666eCV+3y/RvCW/PsdP/u1tigAA/P7m\n",
       "6lRolZCJWVW+21FDlMFiQY0mcyaQVJK51ij6PtxSzeqx5bQCqDMGnwtKCMQiUhfnLJ86smHpjErT\n",
       "qlUiUNDaTt8afeb+COhxva8OhEv6uKzZ96lQmlEYHdttUdOiZWdRfYhzYNQ6I788ilzeZ2qzXYXd\n",
       "IGjMcTNcJp6bwOzhiyxKOPuGt9bMNdQpiY4t6EJQxgjlQB/PES3mICTXdnhZZNWrH5Fd/cY16mVo\n",
       "c252zyqB8nuEutlI58TKgOXqK0RVaA2ljfpitQ9TFrevzLpOwXIB5KgJJP9T2phQquPAgOx+S4SO\n",
       "99gd89BlVGFFJRhCg0U9XeFvHK1rTq8Wz12ADVak7JSK28j8+0gKqnjcQAdiBA+npPGxJhMS6Cl0\n",
       "dfDmY24kymZFGhT1OS1IyyFE5DNKdKRa8yv1Dydnd7qK9DpCWF4GQafcq302uu/uXb6DTrgxZJz+\n",
       "81eEnPiSx70g+EHruofCz/JTLOOj/b08FrBsHXrdH88lIqd3+u+AiKiNmihHy6trIzisKzdCUxc4\n",
       "CH90nL3ysh94rYCXWaBMew6Acn9CDuX5xMEKg7mHG53PzqaET8683GEDI3u4le3PtMF5RRXSCkD9\n",
       "QF/dxiuU0bGQCH+dcyN3xwq0wliOh7dJwGBsvsxZzIfdqtg/E8pOmZy08Zyay57WEYSkzix1mwCF\n",
       "pFgcESTttyMwWYUYG8kDvyly6v7HMOVVMUDye2YeuvaLwvFbi058p4qJhsVSNZPzJWE+FYeEnDSz\n",
       "368P00RUxS18hyPOCXctY2cEfdc53Q31E6Fj7z+Md31mGJRP5lycQpWo1nCCIMAHavIGp7EJAYVn\n",
       "/IVIoMSOL4zFIXGL8wMDTOF0uZ4tEWQ80HqGt75gQZ5CEjhpKH7oUINZP+BKeQRvbbqRRB9TUHvF\n",
       "IvBD2b4I57P3/NeSuc8apN9PAzgd3PCqTEh52V1rgXfBIp0PZuOvOhWh72cqoo4OALZ6Hc5xi6uO\n",
       "y9fhpAsGmiLdHTmlqpFDG0IBfjWdm+xQxJlugkGu+zop2BkN+buTIFEi7T9lz2cBZCPNRW8smux5\n",
       "td7PMRHHWsvqILHYp81Q1QxBC1rPkh+fpwrjy5V3cAEnSdLdlASy8vB+syW20RZwEZTkfKoS4JHN\n",
       "QObUdBG72bbRgd16Zh/n/7L/34SKFlXBhcfMbnStEFO27U9r3xrlJ2M3M5FsXBpOxe6HQ9KTIOt4\n",
       "DJcVzkvR8ekgPDXCVs/D4xx1PQQCE5csm0cUwCRcSlVxcCLmpvnzoVNebWQKov2RSnv2viZxpT1M\n",
       "YFtfk8eqmNzlMLFbLmKIKZeqaq8hUbC2HujLGXL6JVcqo8FLdWXCz5Ft14CRSs6EciQe/LK1yB9c\n",
       "U5vdhVEwOe7ExQwBWP1wNTZwOCwPV2Qc39kc7V3FVeiJHX6UfcvZv+FMFlrHBinh6X08x134MT/N\n",
       "HmJFq6CoU/LQcrxHK/dtJ5MowKt1MUCYCes3IZLNjFfbkTIbcBFzQUIp6ArqL+8gqC3gGQKBGcTH\n",
       "8IauRuUi5nLST2CLEP3JWMzIwRiYfCpCOMMz694KIDtCIuZFGErnkIS28/QE7sFfBZwnTIYsu44c\n",
       "vGkHpy+QF8pj0emAzVwx45O3950Uqt+aqrRwD0yzNOHT/UMrFBnegN7+lv9F4tX86ALuOZVLhQ4y\n",
       "OvlvRlEU1Rw6a8MsMMt7imwv+Nv7CPUz3VYhMyRfBu8PEDtN6l7b/gjsI+gBSsnWPKHs1wXkC9MQ\n",
       "XWe0Y9g/6H/942zKzTlXmfRAV2ahxyV8HkmErTMYs4Cy6tKrQcsl78cgOtt3JXmZNCGKdCW3ZBo3\n",
       "3qHeHI9voY+nxMumYC1VtS4X6BE/zjD56cT81RCwzDl4GsFQ+WUZ4uSf4zpKyKCTEXwewizdJojB\n",
       "4n4t5n1Q7MIj2enHU+2xDJt00uo9nHsgU3NU8mUYFXMtTdcMTmwWmbuzdLxXj0yppOB2S5MiNSIi\n",
       "pifQXIUpDvZdvCnPAkOJOnkJQLuwFGB5QuCYCLRjAPYgSDl9y1KquaonzsqHP5WBA6mdLQ4Wh65C\n",
       "U+xYFwoq7wMek1p3u4baV+0zszzIEeDY4imCcKd+DdValjaRITZjjRlJLAHrTDisq8aRRlV1dJ4F\n",
       "NDuoOhsFuzMj2oGJHpAC682ULE7pqL/9IfVd+AGaH5uFg1HrseI68Ozg7ffTBTsdvrxri+/cqtzL\n",
       "u9R2Ti0wH2UWCxwbmWyEXn3SulL/1vKsxPdIc5Heh0+qaBp19wnHuTzcDNojQsBz0jxFgDbRqzgV\n",
       "ALOBAAAFUEGaJGxDf/6nhAHbGmgv4AndzS6kvqY8R3L1smqf5tv/qYu7rdXAcASP2cCGoSPnB5+v\n",
       "mVveNDkn9As0/jYWHWyWPKQ8ypeR88wP+DK6UvV1Gxp2NSVWV6Yso5PevKKH6LU2q6N4c/somx8b\n",
       "4O0Ycn1Tw2Q13SGz+Z87puCXe1Ww8a6QHBkPZ+82yLjUL37ICTDID3kYe5twMgva30s0fzKoA44E\n",
       "46lIjVfYVhRuslFdzPEEu8iEO+ojFYcbG0wF5EHGmebUvWwZNikL/N8IKGQEAAGJd6OmwAE84T5y\n",
       "jozurN96C/gN2sGnT7cmQTFozAnwveMGq4Bht8WEqWW4X/dLldBo+4cg5ad3zP/5Gztev2GVbaS1\n",
       "iMEafilOuedwJ7eDVv3DuoqVZ5YQDGbid6fkp13c2LkcdrR2B8brsx624I3iM9PX/jXCKOfK81ju\n",
       "EKrmPBCjFDTV6QvWGKmvr9f+DaFixDgMkYxXyTDalYe6mR/5ui4lNYrC2d3+lA7BMHur5+06y3+c\n",
       "qzqKA2EjgEp2u6uI38f6h22pBGxJNoHGtShP0j+PeunOPEBx8Vw1S2Nd1H2k7M4Ua+1iV5sHgCad\n",
       "SWTIbI9OC1vAjIAfut+T+7V0lK83tQAAxcif0/yfFfa2/ypg9sLRjId6djei3Q1hSLszR8zW0+aT\n",
       "xtzXi6JpdU7JMV9clmvPCAqecR1yskiF51IA1mah56eO72EuJX+5n9XkZcr++ZZJm4LH0/77QJg8\n",
       "ZhSH1D1JaXMdZPYLkV/2v2J0TWZMo13SYTMLSDobStKPDdkHbas9zmlj7VjQll4rmKtdnmSnCxYZ\n",
       "ZBr4lhvXB6VJMm7nYUXDKtN8EGyEY8f8+pI42/f8a7layMvw4Ivc/Nn2DY4CUwBh8QBOLu0r2y1i\n",
       "N7n5hyqCfrBt+rTsmtySvx1rC/YQ2EfYVI+YSWLWyxCY1ulJPp2LqJsv3CM3TlhjHidoG8nFAtXY\n",
       "W8hiW0ByKgQkwlHqybCdZPw8baYbKuHFmvQhcqQymCS4TK7Py1mE+t20/16dGEZ1p4aLQdKOL56j\n",
       "0NviAP49iyq7ciHmGzlFCpkGrz6J8+Hu10eG0B3PCfLIQoxI3gp+zGw/kLZqFaS+e/gbQHTp/Bzb\n",
       "8IQqqVWRaw7hIVHXvjfVyWetCfSppiNc2xFvUn0bwdudbSSb1PnzjI/J2K2pj0NGGb71ATpbhuHS\n",
       "+F4qZnrujf9b3lFXmb7+STw0+2Yo+Bwc174gpec8zRj5CQ3ckp3Mmp8FeHcHe/MnNLrdxobqfCQm\n",
       "WOgPxhR1wvCMVIG46PREMvHT69JSFksPzbztcFwKxuvU98AY7eL1w6EwwIoVBNTU3T5HrB8mSEbv\n",
       "Eb3hFXaOc0Lb+5C7JlHoRbelGIbi84Rplg6JtZ0lLOW11RMC9Ad7vM7m8zM8MbNUVJZ9z0PMwVmj\n",
       "LROSC8JN9IOXZ6JAz5+0DunqhNYMHn802cNCcwfAQ6/7S8XtOAl5IxnlAk76pPeNsuZuwMZIkRHt\n",
       "aztTPhYTngTjfTCc4M6My5FQl1Jtv7mxy8IVG3eXwWuey0nzKvtZ8A1rePRa+Q8g7Ime9VXi/cTx\n",
       "2ZrddDA75E+dI2+kskgJUAOwSfEwrEVy1LhAsste6F7FG/G5AWFNheLRGM9dJA3lScjbdPrup2An\n",
       "AHQLhg9KdCV8Y0f/F2MrsZtiobb4J8Dsj8+vtjkqrk9futrXJQYPE0hFVZkX/nBs/BKZ5iP6Sq37\n",
       "DW5SOVrgF0sJA2n/bk6CWlbfxyhPnhDXSI1vk/QCtS/p5MFKuG/W9AlnDKGF87d5NTDoiYuMqtQA\n",
       "AABvQZ5CeIV/AVponI/R2rhjr3uVorH9XrdQeWAAAAMAKTYbv+AJwBirNtjWvbuPYoGpkmDGi6je\n",
       "1XgOdIPOrUR+7o0CZlpeB6+7yk1ouDNcm+H0gZgG8bwAlG4hwowMasH2K6QblNXow9Xt6+Y2Xych\n",
       "AAAD0wGeYXRCfwG17CDdgAA2ozzbx9hClsUU5xQlt6KMFnspR3JV0zhkA/hQTk5JxUOaiIlWMZYM\n",
       "O6lMXED/RdTSDaOyojtYi+ZLLFOQrZTbXC9fqVDSm+Z8bTnEg6X+wSUehWVWATAMe+ALjAAVZFEa\n",
       "8NcjlO6Vg59hfdUUOhK8572lpyIqI7UbZf/FzGHNlwOt6z+CUZnuSc0L95/zVLEzhmkfgaDZlbgj\n",
       "1rdYZ1X5EFMhB4/jiOo8Z22jcET0zZtzNmt9PMcOHTfjiLs6Yi5IxOJls+CnpEKo0c8pv2q40pKW\n",
       "0YFmmht7dAI/W1DbMlq0CRqMtsc/zDrMkJbMG8VCRmgt841CEWdztrOYXzH5lMi+EXDi9KIKNazX\n",
       "i58yW+6n5T3LbUrwSVLh1oafSY04aMFqZjsEll1/pCEHEuBfrKwBj4DGLLTMCoaIcYL/BPWgEP6T\n",
       "iN6auEfp9PgQoNHqr3ahVtJHKC5NYziGJ6rutpXPm1606XGvt9FyVVkydUOAauViVm35bgG9pEob\n",
       "JWDlNGCJ9857yIJvdiftYpmbc+9Ufz22d20Uhgsj0MKQNUmJ1+IA6PdZoKJ9zBM/Dt0Xn7PQFuWS\n",
       "bT/n6Y4d2bLinvqrm1jO3qX+Tt659RGoGX1bA92OtmKqsrFT2ki7bPYUYoQnL1hvisbKXzR0WRH1\n",
       "sBBDiHNwNsJ2BrT2i2zgaeNZW3W2FhS5Yv++AD4YxdA7x/awzO6rttCeqtTIFzev16cuxqgndZU+\n",
       "7GGaMC0esTDqotIXXNPahpj/IDFVmU0G4J3Zhv1uZfAlX7yyLyjWhK6OQL0or2Y9xoTc2fJyHI7g\n",
       "Hf8gDAoWQ6BkYHLqZFVtUVTDMcHPY8DlmkgaAML4MHCoiSFb3A9sMO/8MYZa9GEdsWuAqpvUhDZ1\n",
       "Vy+RslPYvrIYGoN69oEC7pqWtufcPCL1PDa2jYq5A4vAv0H3v5VGCV379xlVsR67NlFddxjG2A0R\n",
       "lAA3S/EpVcMRJALO3E7qL1riqKpEhEAMxQkPRzLseF2V6U0p5rKh9PLn7egJAa/k7YmlRb8gh3O/\n",
       "2qm0Xh+KRHpwZayE0fUxekOs8moym1lRyrIpOJiNK2QiIMxxd01d8vw+lQc1DgKP29FBTQzHsN6N\n",
       "u3/Wi8Bb74Dc9BKSTvGhC0IXI4zf5W+tceD1CzxGZ/XeifgeH8Sp/cysxVL3Wew8c9f7wcW8yS3M\n",
       "bPabBm3Vw53DoIA4Y92pZgce0w7tpAFSRV9pv/C0uAWmCJc5zr2Lz7XEhq7PVX52ZmiuQ4q1URaE\n",
       "HdjdLBobadjtoGf8QagAAAApAZ5jakJ/AUa4PwepU13wDR1FV0WH50k4GZ3ABfFtzmUJS1/aLqhV\n",
       "pYEAAABfQZpoSahBaJlMCG///qeEAaDiC6QCYnf5X57xxr0d/Et6fJRy7v6Ku9eSv8OIXk884BL0\n",
       "odrrjg7lzJ/NU0svqiYS2yGo8R2a2aAlymtQsi95+OsrNT5960DoGv/i4akAAAApQZ6GRREsK/8B\n",
       "+a/UYMuq/26CokwIL7o1PcSqNoAXwSATsGGM1SasEssAAAAfAZ6ldEJ/AUZGlR+GYZh9c+QiVVlk\n",
       "BOC+bWppkQlNQQAAABcBnqdqQn8AN083fB9SCeX8uck6Yx2QcAAAAB5BmqxJqEFsmUwIb//+p4QA\n",
       "M27AW6aPUQWbIt9qV0MAAAAgQZ7KRRUsK/8CvsyLlTA/UGSTVf+i3qgcTOZ+/pmQsYEAAAAXAZ7p\n",
       "dEJ/ADc+jzd7Emq9+XOVpRKHWkAAAAAVAZ7rakJ/ADdPN3wfUgnl/JrtChIyAAAAF0Ga8EmoQWyZ\n",
       "TAhv//6nhAAADN2oXbpBAAAAHUGfDkUVLCv/As+TIMXdW1l4jSvFpZgG4OYkvY65AAAAFQGfLXRC\n",
       "fwA3Po83exJqvfk12dAlfQAAABUBny9qQn8AN083fB9SCeX8mu0KEjIAAAAXQZs0SahBbJlMCG//\n",
       "/qeEAAAM3ahdukAAAAAdQZ9SRRUsK/8Cz5Mgxd1bWXiNK8WlmAbg5iS9jrkAAAAVAZ9xdEJ/ADc+\n",
       "jzd7Emq9+TXZ0CV8AAAAFQGfc2pCfwA3Tzd8H1IJ5fya7QoSMgAAABdBm3hJqEFsmUwIb//+p4QA\n",
       "AAzdqF26QQAAAB1Bn5ZFFSwr/wLPkyDF3VtZeI0rxaWYBuDmJL2OuAAAABUBn7V0Qn8ANz6PN3sS\n",
       "ar35NdnQJX0AAAAVAZ+3akJ/ADdPN3wfUgnl/JrtChIzAAAAF0GbvEmoQWyZTAhv//6nhAAADN2o\n",
       "XbpAAAAAHUGf2kUVLCv/As+TIMXdW1l4jSvFpZgG4OYkvY65AAAAFQGf+XRCfwA3Po83exJqvfk1\n",
       "2dAlfAAAABUBn/tqQn8AN083fB9SCeX8mu0KEjMAAAAXQZvgSahBbJlMCG///qeEAAAM3ahdukEA\n",
       "AAAdQZ4eRRUsK/8Cz5Mgxd1bWXiNK8WlmAbg5iS9jrgAAAAVAZ49dEJ/ADc+jzd7Emq9+TXZ0CV8\n",
       "AAAAFQGeP2pCfwA3Tzd8H1IJ5fya7QoSMwAAABdBmiRJqEFsmUwIb//+p4QAAAzdqF26QAAAAB1B\n",
       "nkJFFSwr/wLPkyDF3VtZeI0rxaWYBuDmJL2OuQAAABUBnmF0Qn8ANz6PN3sSar35NdnQJXwAAAAV\n",
       "AZ5jakJ/ADdPN3wfUgnl/JrtChIzAAAAF0GaaEmoQWyZTAhv//6nhAAADN2oXbpBAAAAHUGehkUV\n",
       "LCv/As+TIMXdW1l4jSvFpZgG4OYkvY65AAAAFQGepXRCfwA3Po83exJqvfk12dAlfQAAABUBnqdq\n",
       "Qn8AN083fB9SCeX8mu0KEjIAAAAXQZqsSahBbJlMCG///qeEAAAM3ahdukAAAAAdQZ7KRRUsK/8C\n",
       "z5Mgxd1bWXiNK8WlmAbg5iS9jrkAAAAVAZ7pdEJ/ADc+jzd7Emq9+TXZ0CV8AAAAFQGe62pCfwA3\n",
       "Tzd8H1IJ5fya7QoSMgAAABdBmvBJqEFsmUwIb//+p4QAAAzdqF26QQAAAB1Bnw5FFSwr/wLPkyDF\n",
       "3VtZeI0rxaWYBuDmJL2OuQAAABUBny10Qn8ANz6PN3sSar35NdnQJX0AAAAVAZ8vakJ/ADdPN3wf\n",
       "Ugnl/JrtChIyAAAAF0GbNEmoQWyZTAhv//6nhAAADN2oXbpAAAAAHUGfUkUVLCv/As+TIMXdW1l4\n",
       "jSvFpZgG4OYkvY65AAAAFQGfcXRCfwA3Po83exJqvfk12dAlfAAAABUBn3NqQn8AN083fB9SCeX8\n",
       "mu0KEjIAAAAXQZt4SahBbJlMCG///qeEAAAM3ahdukEAAAAdQZ+WRRUsK/8Cz5Mgxd1bWXiNK8Wl\n",
       "mAbg5iS9jrgAAAAVAZ+1dEJ/ADc+jzd7Emq9+TXZ0CV9AAAAFQGft2pCfwA3Tzd8H1IJ5fya7QoS\n",
       "MwAAABdBm7xJqEFsmUwIb//+p4QAAAzdqF26QAAAAB1Bn9pFFSwr/wLPkyDF3VtZeI0rxaWYBuDm\n",
       "JL2OuQAAABUBn/l0Qn8ANz6PN3sSar35NdnQJXwAAAAVAZ/7akJ/ADdPN3wfUgnl/JrtChIzAAAA\n",
       "F0Gb4EmoQWyZTAhv//6nhAAADN2oXbpBAAAAHUGeHkUVLCv/As+TIMXdW1l4jSvFpZgG4OYkvY64\n",
       "AAAAFQGePXRCfwA3Po83exJqvfk12dAlfAAAABUBnj9qQn8AN083fB9SCeX8mu0KEjMAAAAXQZok\n",
       "SahBbJlMCG///qeEAAAM3ahdukAAAAAdQZ5CRRUsK/8Cz5Mgxd1bWXiNK8WlmAbg5iS9jrkAAAAV\n",
       "AZ5hdEJ/ADc+jzd7Emq9+TXZ0CV8AAAAFQGeY2pCfwA3Tzd8H1IJ5fya7QoSMwAAABdBmmhJqEFs\n",
       "mUwIb//+p4QAAAzdqF26QQAAAB1BnoZFFSwr/wLPkyDF3VtZeI0rxaWYBuDmJL2OuQAAABUBnqV0\n",
       "Qn8ANz6PN3sSar35NdnQJX0AAAAVAZ6nakJ/ADdPN3wfUgnl/JrtChIyAAAAF0GarEmoQWyZTAhv\n",
       "//6nhAAADN2oXbpAAAAAHUGeykUVLCv/As+TIMXdW1l4jSvFpZgG4OYkvY65AAAAFQGe6XRCfwA3\n",
       "Po83exJqvfk12dAlfAAAABUBnutqQn8AN083fB9SCeX8mu0KEjIAAAAXQZrwSahBbJlMCG///qeE\n",
       "AAAM3ahdukEAAAAdQZ8ORRUsK/8Cz5Mgxd1bWXiNK8WlmAbg5iS9jrkAAAAVAZ8tdEJ/ADc+jzd7\n",
       "Emq9+TXZ0CV9AAAAFQGfL2pCfwA3Tzd8H1IJ5fya7QoSMgAAABdBmzRJqEFsmUwIb//+p4QAAAzd\n",
       "qF26QAAAAB1Bn1JFFSwr/wLPkyDF3VtZeI0rxaWYBuDmJL2OuQAAABUBn3F0Qn8ANz6PN3sSar35\n",
       "NdnQJXwAAAAVAZ9zakJ/ADdPN3wfUgnl/JrtChIyAAAAF0GbeEmoQWyZTAhv//6nhAAADN2oXbpB\n",
       "AAAAHUGflkUVLCv/As+TIMXdW1l4jSvFpZgG4OYkvY64AAAAFQGftXRCfwA3Po83exJqvfk12dAl\n",
       "fQAAABUBn7dqQn8AN083fB9SCeX8mu0KEjMAAAAXQZu8SahBbJlMCG///qeEAAAM3ahdukAAAAAd\n",
       "QZ/aRRUsK/8Cz5Mgxd1bWXiNK8WlmAbg5iS9jrkAAAAVAZ/5dEJ/ADc+jzd7Emq9+TXZ0CV8AAAA\n",
       "FQGf+2pCfwA3Tzd8H1IJ5fya7QoSMwAAABdBm+BJqEFsmUwIb//+p4QAAAzdqF26QQAAAB1Bnh5F\n",
       "FSwr/wLPkyDF3VtZeI0rxaWYBuDmJL2OuAAAABUBnj10Qn8ANz6PN3sSar35NdnQJXwAAAAVAZ4/\n",
       "akJ/ADdPN3wfUgnl/JrtChIzAAAAF0GaJEmoQWyZTAhv//6nhAAADN2oXbpAAAAAHUGeQkUVLCv/\n",
       "As+TIMXdW1l4jSvFpZgG4OYkvY65AAAAFQGeYXRCfwA3Po83exJqvfk12dAlfAAAABUBnmNqQn8A\n",
       "N083fB9SCeX8mu0KEjMAAAAXQZpoSahBbJlMCG///qeEAAAM3ahdukEAAAAdQZ6GRRUsK/8Cz5Mg\n",
       "xd1bWXiNK8WlmAbg5iS9jrkAAAAVAZ6ldEJ/ADc+jzd7Emq9+TXZ0CV9AAAAFQGep2pCfwA3Tzd8\n",
       "H1IJ5fya7QoSMgAAABdBmqxJqEFsmUwIb//+p4QAAAzdqF26QAAAAB1BnspFFSwr/wLPkyDF3VtZ\n",
       "eI0rxaWYBuDmJL2OuQAAABUBnul0Qn8ANz6PN3sSar35NdnQJXwAAAAVAZ7rakJ/ADdPN3wfUgnl\n",
       "/JrtChIyAAAAF0Ga8EmoQWyZTAhv//6nhAAADN2oXbpBAAAAHUGfDkUVLCv/As+TIMXdW1l4jSvF\n",
       "pZgG4OYkvY65AAAAFQGfLXRCfwA3Po83exJqvfk12dAlfQAAABUBny9qQn8AN083fB9SCeX8mu0K\n",
       "EjIAAAAXQZs0SahBbJlMCG///qeEAAAM3ahdukAAAAAdQZ9SRRUsK/8Cz5Mgxd1bWXiNK8WlmAbg\n",
       "5iS9jrkAAAAVAZ9xdEJ/ADc+jzd7Emq9+TXZ0CV8AAAAFQGfc2pCfwA3Tzd8H1IJ5fya7QoSMgAA\n",
       "ABdBm3hJqEFsmUwIb//+p4QAAAzdqF26QQAAAB1Bn5ZFFSwr/wLPkyDF3VtZeI0rxaWYBuDmJL2O\n",
       "uAAAABUBn7V0Qn8ANz6PN3sSar35NdnQJX0AAAAVAZ+3akJ/ADdPN3wfUgnl/JrtChIzAAAAF0Gb\n",
       "vEmoQWyZTAhv//6nhAAADN2oXbpAAAAAHUGf2kUVLCv/As+TIMXdW1l4jSvFpZgG4OYkvY65AAAA\n",
       "FQGf+XRCfwA3Po83exJqvfk12dAlfAAAABUBn/tqQn8AN083fB9SCeX8mu0KEjMAAAAXQZvgSahB\n",
       "bJlMCG///qeEAAAM3ahdukEAAAAdQZ4eRRUsK/8Cz5Mgxd1bWXiNK8WlmAbg5iS9jrgAAAAVAZ49\n",
       "dEJ/ADc+jzd7Emq9+TXZ0CV8AAAAFQGeP2pCfwA3Tzd8H1IJ5fya7QoSMwAAABdBmiRJqEFsmUwI\n",
       "b//+p4QAAAzdqF26QAAAAB1BnkJFFSwr/wLPkyDF3VtZeI0rxaWYBuDmJL2OuQAAABUBnmF0Qn8A\n",
       "Nz6PN3sSar35NdnQJXwAAAAVAZ5jakJ/ADdPN3wfUgnl/JrtChIzAAAAF0GaaEmoQWyZTAhv//6n\n",
       "hAAADN2oXbpBAAAAHUGehkUVLCv/As+TIMXdW1l4jSvFpZgG4OYkvY65AAAAFQGepXRCfwA3Po83\n",
       "exJqvfk12dAlfQAAABUBnqdqQn8AN083fB9SCeX8mu0KEjIAAAAXQZqsSahBbJlMCG///qeEAAAM\n",
       "3ahdukAAAAAdQZ7KRRUsK/8Cz5Mgxd1bWXiNK8WlmAbg5iS9jrkAAAAVAZ7pdEJ/ADc+jzd7Emq9\n",
       "+TXZ0CV8AAAAFQGe62pCfwA3Tzd8H1IJ5fya7QoSMgAAABdBmvBJqEFsmUwIb//+p4QAAAzdqF26\n",
       "QQAAAB1Bnw5FFSwr/wLPkyDF3VtZeI0rxaWYBuDmJL2OuQAAABUBny10Qn8ANz6PN3sSar35NdnQ\n",
       "JX0AAAAVAZ8vakJ/ADdPN3wfUgnl/JrtChIyAAAAF0GbNEmoQWyZTAhv//6nhAAADN2oXbpAAAAA\n",
       "HUGfUkUVLCv/As+TIMXdW1l4jSvFpZgG4OYkvY65AAAAFQGfcXRCfwA3Po83exJqvfk12dAlfAAA\n",
       "ABUBn3NqQn8AN083fB9SCeX8mu0KEjIAAAAXQZt4SahBbJlMCG///qeEAAAM3ahdukEAAAAdQZ+W\n",
       "RRUsK/8Cz5Mgxd1bWXiNK8WlmAbg5iS9jrgAAAAVAZ+1dEJ/ADc+jzd7Emq9+TXZ0CV9AAAAFQGf\n",
       "t2pCfwA3Tzd8H1IJ5fya7QoSMwAAABdBm7xJqEFsmUwIb//+p4QAAAzdqF26QAAAAB1Bn9pFFSwr\n",
       "/wLPkyDF3VtZeI0rxaWYBuDmJL2OuQAAABUBn/l0Qn8ANz6PN3sSar35NdnQJXwAAAAVAZ/7akJ/\n",
       "ADdPN3wfUgnl/JrtChIzAAAAF0Gb4EmoQWyZTAhv//6nhAAADN2oXbpBAAAAHUGeHkUVLCv/As+T\n",
       "IMXdW1l4jSvFpZgG4OYkvY64AAAAFQGePXRCfwA3Po83exJqvfk12dAlfAAAABUBnj9qQn8AN083\n",
       "fB9SCeX8mu0KEjMAAAAXQZokSahBbJlMCG///qeEAAAM3ahdukAAAAAdQZ5CRRUsK/8Cz5Mgxd1b\n",
       "WXiNK8WlmAbg5iS9jrkAAAAVAZ5hdEJ/ADc+jzd7Emq9+TXZ0CV8AAAAFQGeY2pCfwA3Tzd8H1IJ\n",
       "5fya7QoSMwAAABdBmmhJqEFsmUwIb//+p4QAAAzdqF26QQAAAB1BnoZFFSwr/wLPkyDF3VtZeI0r\n",
       "xaWYBuDmJL2OuQAAABUBnqV0Qn8ANz6PN3sSar35NdnQJX0AAAAVAZ6nakJ/ADdPN3wfUgnl/Jrt\n",
       "ChIyAAAAF0GarEmoQWyZTAhv//6nhAAADN2oXbpAAAAAHUGeykUVLCv/As+TIMXdW1l4jSvFpZgG\n",
       "4OYkvY65AAAAFQGe6XRCfwA3Po83exJqvfk12dAlfAAAABUBnutqQn8AN083fB9SCeX8mu0KEjIA\n",
       "AAAXQZrwSahBbJlMCG///qeEAAAM3ahdukEAAAAdQZ8ORRUsK/8Cz5Mgxd1bWXiNK8WlmAbg5iS9\n",
       "jrkAAAAVAZ8tdEJ/ADc+jzd7Emq9+TXZ0CV9AAAAFQGfL2pCfwA3Tzd8H1IJ5fya7QoSMgAAABdB\n",
       "mzRJqEFsmUwIb//+p4QAAAzdqF26QAAAAB1Bn1JFFSwr/wLPkyDF3VtZeI0rxaWYBuDmJL2OuQAA\n",
       "ABUBn3F0Qn8ANz6PN3sSar35NdnQJXwAAAAVAZ9zakJ/ADdPN3wfUgnl/JrtChIyAAAAF0GbeEmo\n",
       "QWyZTAhv//6nhAAADN2oXbpBAAAAHUGflkUVLCv/As+TIMXdW1l4jSvFpZgG4OYkvY64AAAAFQGf\n",
       "tXRCfwA3Po83exJqvfk12dAlfQAAABUBn7dqQn8AN083fB9SCeX8mu0KEjMAAAAXQZu8SahBbJlM\n",
       "CG///qeEAAAM3ahdukAAAAAdQZ/aRRUsK/8Cz5Mgxd1bWXiNK8WlmAbg5iS9jrkAAAAVAZ/5dEJ/\n",
       "ADc+jzd7Emq9+TXZ0CV8AAAAFQGf+2pCfwA3Tzd8H1IJ5fya7QoSMwAAABdBm+BJqEFsmUwIb//+\n",
       "p4QAAAzdqF26QQAAAB1Bnh5FFSwr/wLPkyDF3VtZeI0rxaWYBuDmJL2OuAAAABUBnj10Qn8ANz6P\n",
       "N3sSar35NdnQJXwAAAAVAZ4/akJ/ADdPN3wfUgnl/JrtChIzAAAAF0GaJEmoQWyZTAhv//6nhAAA\n",
       "DN2oXbpAAAAAHUGeQkUVLCv/As+TIMXdW1l4jSvFpZgG4OYkvY65AAAAFQGeYXRCfwA3Po83exJq\n",
       "vfk12dAlfAAAABUBnmNqQn8AN083fB9SCeX8mu0KEjMAAAAXQZpoSahBbJlMCG///qeEAAAM3ahd\n",
       "ukEAAAAdQZ6GRRUsK/8Cz5Mgxd1bWXiNK8WlmAbg5iS9jrkAAAAVAZ6ldEJ/ADc+jzd7Emq9+TXZ\n",
       "0CV9AAAAFQGep2pCfwA3Tzd8H1IJ5fya7QoSMgAAABdBmqxJqEFsmUwIb//+p4QAAAzdqF26QAAA\n",
       "AB1BnspFFSwr/wLPkyDF3VtZeI0rxaWYBuDmJL2OuQAAABUBnul0Qn8ANz6PN3sSar35NdnQJXwA\n",
       "AAAVAZ7rakJ/ADdPN3wfUgnl/JrtChIyAAAAF0Ga8EmoQWyZTAhv//6nhAAADN2oXbpBAAAAHUGf\n",
       "DkUVLCv/As+TIMXdW1l4jSvFpZgG4OYkvY65AAAAFQGfLXRCfwA3Po83exJqvfk12dAlfQAAABUB\n",
       "ny9qQn8AN083fB9SCeX8mu0KEjIAAAAXQZs0SahBbJlMCG///qeEAAAM3ahdukAAAAAdQZ9SRRUs\n",
       "K/8Cz5Mgxd1bWXiNK8WlmAbg5iS9jrkAAAAVAZ9xdEJ/ADc+jzd7Emq9+TXZ0CV8AAAAFQGfc2pC\n",
       "fwA3Tzd8H1IJ5fya7QoSMgAAABdBm3hJqEFsmUwIb//+p4QAAAzdqF26QQAAAB1Bn5ZFFSwr/wLP\n",
       "kyDF3VtZeI0rxaWYBuDmJL2OuAAAABUBn7V0Qn8ANz6PN3sSar35NdnQJX0AAAAVAZ+3akJ/ADdP\n",
       "N3wfUgnl/JrtChIzAAAAF0GbvEmoQWyZTAhv//6nhAAADN2oXbpAAAAAHUGf2kUVLCv/As+TIMXd\n",
       "W1l4jSvFpZgG4OYkvY65AAAAFQGf+XRCfwA3Po83exJqvfk12dAlfAAAABUBn/tqQn8AN083fB9S\n",
       "CeX8mu0KEjMAAAAXQZvgSahBbJlMCG///qeEAAAM3ahdukEAAAAdQZ4eRRUsK/8Cz5Mgxd1bWXiN\n",
       "K8WlmAbg5iS9jrgAAAAVAZ49dEJ/ADc+jzd7Emq9+TXZ0CV8AAAAFQGeP2pCfwA3Tzd8H1IJ5fya\n",
       "7QoSMwAAABdBmiRJqEFsmUwIb//+p4QAAAzdqF26QAAAAB1BnkJFFSwr/wLPkyDF3VtZeI0rxaWY\n",
       "BuDmJL2OuQAAABUBnmF0Qn8ANz6PN3sSar35NdnQJXwAAAAVAZ5jakJ/ADdPN3wfUgnl/JrtChIz\n",
       "AAAAF0GaaEmoQWyZTAhv//6nhAAADN2oXbpBAAAAHUGehkUVLCv/As+TIMXdW1l4jSvFpZgG4OYk\n",
       "vY65AAAAFQGepXRCfwA3Po83exJqvfk12dAlfQAAABUBnqdqQn8AN083fB9SCeX8mu0KEjIAAAAX\n",
       "QZqsSahBbJlMCG///qeEAAAM3ahdukAAAAAdQZ7KRRUsK/8Cz5Mgxd1bWXiNK8WlmAbg5iS9jrkA\n",
       "AAAVAZ7pdEJ/ADc+jzd7Emq9+TXZ0CV8AAAAFQGe62pCfwA3Tzd8H1IJ5fya7QoSMgAAABdBmvBJ\n",
       "qEFsmUwIb//+p4QAAAzdqF26QQAAAB1Bnw5FFSwr/wLPkyDF3VtZeI0rxaWYBuDmJL2OuQAAABUB\n",
       "ny10Qn8ANz6PN3sSar35NdnQJX0AAAAVAZ8vakJ/ADdPN3wfUgnl/JrtChIyAAAAF0GbNEmoQWyZ\n",
       "TAhv//6nhAAADN2oXbpAAAAAHUGfUkUVLCv/As+TIMXdW1l4jSvFpZgG4OYkvY65AAAAFQGfcXRC\n",
       "fwA3Po83exJqvfk12dAlfAAAABUBn3NqQn8AN083fB9SCeX8mu0KEjIAAAAXQZt4SahBbJlMCG//\n",
       "/qeEAAAM3ahdukEAAAAdQZ+WRRUsK/8Cz5Mgxd1bWXiNK8WlmAbg5iS9jrgAAAAVAZ+1dEJ/ADc+\n",
       "jzd7Emq9+TXZ0CV9AAAAFQGft2pCfwA3Tzd8H1IJ5fya7QoSMwAAABZBm7lJqEFsmUwIT//98QAF\n",
       "Y5S/AI2AAAAPXGWIggAEP/73gb8yy18iuslx+ed9LKzPPOQ8cl2JrrjQAAADAAzdiJ7g8K10PRXg\n",
       "ACA1eMJS4eWIAEdprnnXu663tt7IfPiIiREDO91UDqTrzNoi4cR0xT2/37Mmmnx1epeEfcA+HNta\n",
       "roEZoNmG/TSJ1k7pvOFdx8ANPAj91W+20yMhLovcQDx75PUChgDHIXmUfRsa/rGlOePuoffb1HM/\n",
       "29vf5q2B6H+wQ5+hWhHnhCZy7VQEQFj8sfVv33DDQT+AquSiMm9XWT4eA/uoLUtmHFbnmaqiTbxi\n",
       "PEe1mOrbraUSj4pVB0cn94ZW9KZDaqCp+HJ1JRglvEqI6ajLXBGvoXnskepl5wN+yVc908a1Pr8E\n",
       "7Q3TPfU+jz2Z83sBN1s0+/TqVljaUp4xuTBMLbpNDy0k4Um0x4Xw1LnxC2UpW38JSmjpBTSWhm2P\n",
       "16uhhQs7wLr2cSj8wfvP9QnFEHcfIr0QdVCX4BJr08nWF71Rm1KPs3o3MpXBMdQuug8iomO2B812\n",
       "P60T1ZD1qeUxdHDnEg8FoIxeD9ifYR9lYXKh8r+Z1kLpAXEgBMyX5jwEXQt7OikNRLwluWCwFPHe\n",
       "OqhNKo/stPX1EmCv1nJamFrKINmY6DBKiUfs1pZWBTFS++Gse61ij7WFw9Zvq2iJ45NDQqn6YkrU\n",
       "E0MfBMHDvZGAq+EvMbLsqSFhBc72PGim2J50XlGoE4W66iGZGD9NPcgrdF0vqWF9rukLhkm5ACp8\n",
       "oAdJ0GsHkhHQQcKBdldLWMekcAWCHLQWi9gbWhQeTjOgYkWZ9C8FdQXVF0kTREOniWYkbT+ISo0X\n",
       "Su/tneakbrBPi3uVqz8tXvNekMe/MD793NYN62s3J4zYid81/2T5kSV96ND93cSoTb3eFuLciTGt\n",
       "EFy+Cu2SwVR40epIQT1QX8GNAu3Z7oDiNotnFeN5Bay7ud3GB/sfdswrWE0o7fA1X7vJY1ne5T7u\n",
       "FbIXavqJTvWVlIrjWy8ZKCY6n/OxPYq5HdL+8pQdohRnO+tfHuakuHe5HDITLGZDqr/6FO/QRhFp\n",
       "V/el+bYJ57CIf9KzSjQKXbJrwsRE564EMDMXnJbNQ/GP7Cda+Lk8XwjuQIRWcotXx5WKCD0xYGdJ\n",
       "qBXo+YkCkF5u6dWMKEo5+KFsD2P8VeFwgAMYQX7pAmFL5Bh9r32KyF1vzPIyJx9LdeaNd3L8aB2E\n",
       "0qvOYWKv4RmZROnxVBTwAIuDHvyozryh7hTsk+SziMngIy9N/31aPNAhvOxsvCudLo1kmENR6e+f\n",
       "izfb/Y3W0jVuFu0fTT0TPET9o+hiCt0oalcEB6+L7LmBWvzY7zjBiQA5/pRtfNV0zhKEHIqE2ZyI\n",
       "ZQHgue92Jb5S3IMv/gZERjenqO/88HD24M33BFxfz6wLNKpDJBt2HZ3PV6M3i6UpXazmmK9s0axY\n",
       "Ugr60hvpkeu1lhiKAiiuvL4ibs5A68OzHi4bGVEqAhiuCo/fzssAQA6FzEaN3qyL5s1eVS5dALdq\n",
       "GbtKO6eqLSCCDS6Cm9PkCDQ/gJOsCqAK7grvrQNz/Ya7lnxZVSlqkHQzPM04kxPdSBlmuXC+cpBR\n",
       "qne76Fwuc6882nrUVqMD5IGLqfEXCLycC0/VFixzSkrBB7G+EqcAu9q34tW8D9ODCis1e/QOrJ22\n",
       "S3QuYl2/PNxfNmr0CnLbo9oTluCSfIT5pryKxvHIdvoPBaAwtPQC9eYpLl71nqb636iqeSK82C1q\n",
       "oxAvO/j+uTUA+UBTMXW7UMhsJ8SBI0i5US5cYPIOpL1G3XtkOjO7t6ui6mJhVkfIFo+j+VvcuHIA\n",
       "Pcux4yomG2kwoQjkNqUOH6niRd2Oyw6Gz95LHM35BaQK5OWe7ECCnriPN1t/WZdZuEJFc+FHOZZ+\n",
       "0lfUAas1GfBSy45FXETVOxkNcTxbieNxuWkSdBIpsza1io6K6eCh+f6f7yCBtfvmKgthg7iTnejT\n",
       "kLBCEBw3kDPj5ABD0hWHzFn0EdfHyeSYbmhQiOObL+fGL12lhq4WMFpeCW7zCRSLyQP8TjJn3aSA\n",
       "CDhsXWxOUaRPrAFLltCUYxySVONZ1gYi7Yv1bfDaGMAAp6wxr9pPLzVROKOgDUq54WM+4L8XaTQw\n",
       "GDX/nMEZ12/VAOVfS//vLke9EN1zhGnLhYDFcs9s92tvkttC7AIpwyEx+Weg6d0VexfuGxRbMe20\n",
       "RH3VnzYMFoh/6ET/U1xPLyw22QE8oXIWLnNWhfuUIQCv5H/yOC3Peie2C+xYt5SeixAzmhl0qjqF\n",
       "Q3ldnPwQjhxXMXoSidRoCo3K9SVLVh1YtLqr06Wh2x+z0qpXwdombeCgXpmqWa0IwcnAun4cEwqx\n",
       "yy4QQ/WczGWjLtDjBbL4SCFRW2w0jOYhcXAlNDe7/OZArq+XI1SUEhVP8J5uM6C3+UTx6UAAAUwu\n",
       "Eoi5XVtkvaP27i42Vwswjc3C0CQgttHq+PEcmnFTkfv8PqSqT5Lum2KEEhBIBGm45DpKs1QsK0wH\n",
       "qzryWpw8kLqdZmly6r71gnk49Uzv5ynis2tSVShsEDycP73bt/DgprOobypAhPT3QFXhX+1M2iXq\n",
       "d8jkFP3e1Ix+1p4wM4XS6IsZmB5lGQPMVP4lKD3J/0sGYnEaAl9NwmvQBMfX9iNEKbMR79NNQI/V\n",
       "5k1C02Ov684c3I6nrTwDVn0n20MA/v817GooicXiO/Rz/6hjZqzlTZF6uXltpmh49s+LPyjOH2bI\n",
       "Q1SaF7mIg/wKrEmzyV8ARSPofcO4jWGpdFy+gnPCJ1l1zcQFp7pLsUxwgozCkVJ97yI1G03tb9h3\n",
       "8Iice76oKnLcTeeGIeU+xnfLedP8bn+pP+ylxbIjYcsN1axBoJb+ULQudkvCR5Gs2aRNvdZqDOzf\n",
       "h0hLr+mMQN5UBbWXkbwvJ8CIQxK6QMDH0OOjoT47DlOABrN6InrA5gEJ5RLapiokThBThWDYFXmu\n",
       "h2HIVjb1luVhyc4sA5sssKpVLfg3G1DXoG2xwr9RCdV1aDLgMmgdzJIWIApAYFX7K03tUL+PwTDa\n",
       "nZGB7bcAOW/rLB+pQCSxOQsFRc2dsItQc8Xtfrjl0LLdjTalGkl3K+1454qB/Boi4J1yH3pJByeZ\n",
       "b0iZ5ItEEEsQlCvk9SOO9mY0ONEkUv4NAmTQAalcxnYn1R8musFQITie6a3j5xM0zX1fynVZGN6u\n",
       "p0/+fJA7HYEyCicRPAjqDC1fgHdn6t1RD89UmXV3imfSo0zqKRfdYbYKCEP33xPWzBpuJqRp/CiG\n",
       "J5Wgr3/F5ZzzA+S3aY3yVxTyxlK+pQG8I9U8WqQ82RCMx6ORqybomzCL/cYYwduPnwLnC7hzjtvY\n",
       "ykNOJ6U5Ju6HgrWYopSeXcQPemj5+r3fTY451kI6XU14n1kE61E8NEZtedjbrIVX5tOmoEEVgsm2\n",
       "9t/oxP96Us62UrZWF280+cjiJkRDwfO4ivrBXFbOAHXJTF7uGcvV0iuPT64htjVa32/SzckL8wXg\n",
       "LcT+BPfCRC+nSI4NKO+ql4C3E/gT3wkKR8f4IwNKntBeAtxP4E98JEKac08SdZdjVNSLVpVQzZAA\n",
       "tdYCXDnrVTqrtaHbdggEZaPcAZm48XprVBezd9jtqXXMCFZ/++sUd2VCcA8C21bklzcqOTaB5dFc\n",
       "K+qcguELmvV62FiMqbt8Lcpxzfgvq/0s3iqJv5T3zkkaPXduHJNpcoG7wXmyt3OaFN+TQgGSqx+b\n",
       "nKuTJGibpMdyX+x57h4RIWQ4xrXULqFvA3/ZfcxRXd4v2ZBOl2A7o0xkamgpwS7SFsBzUr3HMZrT\n",
       "UFzFalr5RChUqHs8Zhfy/PXesovLNP08c8f+d5k03dZzQBk6xTr92tM9AfAaIYMPGGwYy9Rgdb4T\n",
       "jSWDZvKfX4Y5tl+4Vzge8CMJM6dqTo+rjE1j3xlIm7d8QvaDtllmgKblebtOlSg0rH8TWjYJEd0L\n",
       "iBgmqzZJrWGKwx545ohyxR3SOgbckzS+3/mL6wtkZ29Z1GbN/VkvX/6tBUb3wijKiXtDleKZeuB8\n",
       "GmuR3msmBjNYqog2SkwQ8sLYlvyzJE3bnlva2HzhKlCLoYYHaaEGkZ/9OfzYFooioS8s/kfID4/s\n",
       "jF2XbGLafqYYqcOAOp3fP2dzjNVSMeoRIkGoT49u06liGoWDpqLmUicAj8+dFlTQzAO0YxKXoWqN\n",
       "gz0Up2CwfTH/MGdAgdSGCG2ANEU/VssCZfTDpg6B4FmA+2d7l4I5LBg2UiwH55roTX4BTJYCyVVU\n",
       "n1zlJxYVCvJvlWjf0CYOcdxvntmyhQFPhRpGEosVVpNAghHHtMsAR3Dlv9FlEN+Ze+k52NqvkA7Z\n",
       "nyVIkMjLJHvnG7tQaWQm8lVDFxBJ9SCVg0409aPHsbFh84qfF+JrZzHkCVxXZxT7TRK8DKfMfGz5\n",
       "OGqVXFUwp+mLD0elQ7c3QBvdhv8v3JHvvi3haYBLerskJcRZyEcnvoo58uzZpO8xw06X/9ts6ubV\n",
       "yDxYjfcVU5mZtHarNUkjVX22cEdQIeZ7Cma9zH8vdusrvt/q6yv9AFXTik5x9ltDeAhlmJ3haaEq\n",
       "su8Z2QD0BVksmfyQoL+Tf4eieTERKsLO3x4yIblRybQFr/PFNeuQXCFz5ihBlp+4Sf++rfzTHvm2\n",
       "vSZZ7YuE8BQLNmoR7Jal7iYKD45kdY4AYgj90Jz3zdjf0qHZjvj2lELokrB84bLdeAc4GCATUFba\n",
       "N8IzGM+1ex98HP+ARz3N3zaslFSBei6y4szc4aZ0AtI1J6Z2WmC28V9hN+KecTXADy9UgyGPZvpR\n",
       "JuCXpZGalLT+YUqcUxMx2GGFbWuKSSD6v9p9saqPggV+u9JxmXcUhH6GL7wIPP/WT7Qkqpu3y/W4\n",
       "YeI5RcrXfEQjWB6034CrOB/vXvVhruwZD8P1XJ78VhufC1x/d6HqOCn5FgeNO8ekw6BrOqGGhrhO\n",
       "sSp/TRWvphPUzcOwVnmmtMr1uh8pWnsOHDDIq4F+5eAQC+rn0/39SP8b4lHbGEmhMj1/RXJCiW1s\n",
       "LhWZ3sF4znHdy8/oVq6RG4ZyszXCGPIvEFj1VGb/5s4JOgjr+jIKrCNuPYIcQtaqBMpgzSh54nkb\n",
       "az+crQnmw1kmOmMYqdJBesgG89lFTrsUUMPrhsV2dO4J4YwJCmji7a/NMOJBBBctUptY0UQzPXul\n",
       "LsvifPg4TgdJRIdexcs2/S9nI+sPS0czilSiLx3Mm8Yc651k1ZnVxSs9IVdm2N5DcFz++KUAAAMA\n",
       "CQACtJu5rv2BAAABJkGaJGxDf/6nhACSrt0gGUkaZeKI3Fdf3MKYNz5hh2b/db3vXx0l78D/7SdJ\n",
       "H61LECEY4PJqkGumddNq1ERFVAPSDoeh1zppffiRCmHJEv9+jzIzY5M3Jh5c1SJZenM/7f8zb1bR\n",
       "8u6bq9F/3D9i0vh6Q+n7ljsjuhdjppFEsUThj6X5unCDfwLC0S2HKqPi5Ry3W8b11f5TyqyjAuHk\n",
       "rkgySoVKnsYg8Kagxjq8ZvfJ9Sq0hTGaZE1p9FnxWmgHDdwrEXlDxtT4jJS50ANgisrpVIDt3KC4\n",
       "Q1UHJO5iip6IuEFAJ/TuqM/Knl/Um0yyLCi619GZunKNkyMBYnQ7ytI9A1cUqCvqx7FcWYlw4rUC\n",
       "yuYhzPDNmNo347yydqX2DGHaEFbNCAAAAEFBnkJ4hX8AWtq/9YmvEJNKMfCb8lWS2GUa1owKB05S\n",
       "KBUGkYwKGHDTAATFyjfvoZD3SetXDWZ01Hh+7L0lYVUgIQAAACwBnmF0Qn8Ac/YLsRBDPI4+H7zZ\n",
       "GNkjDLlF7+kwlUo2Rx9LMUeCR3CsbNdccQAAACQBnmNqQn8AOg8BTgCQXo86y7G2t4MGNlBDVDR9\n",
       "KIbRVN984B0AAAA+QZpoSahBaJlMCG///qeEADX2oXUDI1bxeArpdcmjV7XLh8AR/DiXrTLAG+4S\n",
       "bFTTD7DardMCmf7LPyy3UGAAAAAqQZ6GRREsK/8ALXyTNIAkCI1arl0B6Kjpw/jS1dS6ks+OUAEx\n",
       "co379eKLAAAAHAGepXRCfwA5+vpIIPnCcn3AyYWyZ5si9AK1iYgAAAAUAZ6nakJ/ADoPGUFQon2D\n",
       "NWZzCEMAAAAmQZqsSahBbJlMCG///qeEAAAJqoHn/H8BUBvZjwBShj/muFqbqIAAAAAYQZ7KRRUs\n",
       "K/8ALXyZjkVZfsMJg87tadlBAAAAFAGe6XRCfwA5+zFyKo9RicZw0XfpAAAAEQGe62pCfwA6DxlB\n",
       "LdOYx3bhAAAAF0Ga8EmoQWyZTAhv//6nhAAACKqD3faBAAAAE0GfDkUVLCv/AC18mY4+GqXxfnYA\n",
       "AAARAZ8tdEJ/ADn7MXHws7B0rEAAAAAPAZ8vakJ/ADoPGUC/OiLhAAAAFEGbNEmoQWyZTAhv//6n\n",
       "hAAAAwHdAAAAEUGfUkUVLCv/AC18mY4n3cQuAAAADwGfcXRCfwA5+zFxPglFwQAAAA8Bn3NqQn8A\n",
       "Og8ZQL86IuEAAAAUQZt4SahBbJlMCG///qeEAAADAd0AAAARQZ+WRRUsK/8ALXyZjifdxC4AAAAP\n",
       "AZ+1dEJ/ADn7MXE+CUXAAAAADwGft2pCfwA6DxlAvzoi4QAAABRBm7xJqEFsmUwIb//+p4QAAAMB\n",
       "3QAAABFBn9pFFSwr/wAtfJmOJ93ELgAAAA8Bn/l0Qn8AOfsxcT4JRcEAAAAPAZ/7akJ/ADoPGUC/\n",
       "OiLgAAAAFEGb4EmoQWyZTAhv//6nhAAAAwHdAAAAEUGeHkUVLCv/AC18mY4n3cQvAAAADwGePXRC\n",
       "fwA5+zFxPglFwAAAAA8Bnj9qQn8AOg8ZQL86IuEAAAAUQZokSahBbJlMCG///qeEAAADAd0AAAAR\n",
       "QZ5CRRUsK/8ALXyZjifdxC8AAAAPAZ5hdEJ/ADn7MXE+CUXBAAAADwGeY2pCfwA6DxlAvzoi4AAA\n",
       "ABRBmmhJqEFsmUwIb//+p4QAAAMB3QAAABFBnoZFFSwr/wAtfJmOJ93ELwAAAA8BnqV0Qn8AOfsx\n",
       "cT4JRcAAAAAPAZ6nakJ/ADoPGUC/OiLhAAAAE0GarEmoQWyZTAhn//6eEAAAB0wAAAARQZ7KRRUs\n",
       "K/8ALXyZjifdxC8AAAAPAZ7pdEJ/ADn7MXE+CUXBAAAADwGe62pCfwA6DxlAvzoi4QAAABNBmvBJ\n",
       "qEFsmUwIV//+OEAAABxxAAAAEUGfDkUVLCv/AC18mY4n3cQuAAAADwGfLXRCfwA5+zFxPglFwAAA\n",
       "AA8Bny9qQn8AOg8ZQL86IuEAAAAUQZsxSahBbJlMCE///fEAAAMARcAAABE+bW9vdgAAAGxtdmhk\n",
       "AAAAAAAAAAAAAAAAAAAD6AAAJxAAAQAAAQAAAAAAAAAAAAAAAAEAAAAAAAAAAAAAAAAAAAABAAAA\n",
       "AAAAAAAAAAAAAABAAAAAAAAAAAAAAAAAAAAAAAAAAAAAAAAAAAAAAAAAAgAAEGh0cmFrAAAAXHRr\n",
       "aGQAAAADAAAAAAAAAAAAAAABAAAAAAAAJxAAAAAAAAAAAAAAAAAAAAAAAAEAAAAAAAAAAAAAAAAA\n",
       "AAABAAAAAAAAAAAAAAAAAABAAAAAAbAAAAEgAAAAAAAkZWR0cwAAABxlbHN0AAAAAAAAAAEAACcQ\n",
       "AAAEAAABAAAAAA/gbWRpYQAAACBtZGhkAAAAAAAAAAAAAAAAAAA8AAACWABVxAAAAAAALWhkbHIA\n",
       "AAAAAAAAAHZpZGUAAAAAAAAAAAAAAABWaWRlb0hhbmRsZXIAAAAPi21pbmYAAAAUdm1oZAAAAAEA\n",
       "AAAAAAAAAAAAACRkaW5mAAAAHGRyZWYAAAAAAAAAAQAAAAx1cmwgAAAAAQAAD0tzdGJsAAAAt3N0\n",
       "c2QAAAAAAAAAAQAAAKdhdmMxAAAAAAAAAAEAAAAAAAAAAAAAAAAAAAAAAbABIABIAAAASAAAAAAA\n",
       "AAABAAAAAAAAAAAAAAAAAAAAAAAAAAAAAAAAAAAAAAAAAAAAGP//AAAANWF2Y0MBZAAV/+EAGGdk\n",
       "ABWs2UGwloQAAAMABAAAAwDwPFi2WAEABmjr48siwP34+AAAAAAcdXVpZGtoQPJfJE/FujmlG88D\n",
       "I/MAAAAAAAAAGHN0dHMAAAAAAAAAAQAAASwAAAIAAAAAGHN0c3MAAAAAAAAAAgAAAAEAAAD7AAAJ\n",
       "aGN0dHMAAAAAAAABKwAAAAEAAAQAAAAAAQAACgAAAAABAAAEAAAAAAEAAAAAAAAAAQAAAgAAAAAB\n",
       "AAAKAAAAAAEAAAQAAAAAAQAAAAAAAAABAAACAAAAAAEAAAoAAAAAAQAABAAAAAABAAAAAAAAAAEA\n",
       "AAIAAAAAAQAACgAAAAABAAAEAAAAAAEAAAAAAAAAAQAAAgAAAAABAAAKAAAAAAEAAAQAAAAAAQAA\n",
       "AAAAAAABAAACAAAAAAEAAAoAAAAAAQAABAAAAAABAAAAAAAAAAEAAAIAAAAAAQAACgAAAAABAAAE\n",
       "AAAAAAEAAAAAAAAAAQAAAgAAAAABAAAKAAAAAAEAAAQAAAAAAQAAAAAAAAABAAACAAAAAAEAAAoA\n",
       "AAAAAQAABAAAAAABAAAAAAAAAAEAAAIAAAAAAQAACgAAAAABAAAEAAAAAAEAAAAAAAAAAQAAAgAA\n",
       "AAABAAAKAAAAAAEAAAQAAAAAAQAAAAAAAAABAAACAAAAAAEAAAoAAAAAAQAABAAAAAABAAAAAAAA\n",
       "AAEAAAIAAAAAAQAACgAAAAABAAAEAAAAAAEAAAAAAAAAAQAAAgAAAAABAAAKAAAAAAEAAAQAAAAA\n",
       "AQAAAAAAAAABAAACAAAAAAEAAAoAAAAAAQAABAAAAAABAAAAAAAAAAEAAAIAAAAAAQAACgAAAAAB\n",
       "AAAEAAAAAAEAAAAAAAAAAQAAAgAAAAABAAAKAAAAAAEAAAQAAAAAAQAAAAAAAAABAAACAAAAAAEA\n",
       "AAoAAAAAAQAABAAAAAABAAAAAAAAAAEAAAIAAAAAAQAACgAAAAABAAAEAAAAAAEAAAAAAAAAAQAA\n",
       "AgAAAAABAAAKAAAAAAEAAAQAAAAAAQAAAAAAAAABAAACAAAAAAEAAAoAAAAAAQAABAAAAAABAAAA\n",
       "AAAAAAEAAAIAAAAAAQAACgAAAAABAAAEAAAAAAEAAAAAAAAAAQAAAgAAAAABAAAKAAAAAAEAAAQA\n",
       "AAAAAQAAAAAAAAABAAACAAAAAAEAAAoAAAAAAQAABAAAAAABAAAAAAAAAAEAAAIAAAAAAQAACgAA\n",
       "AAABAAAEAAAAAAEAAAAAAAAAAQAAAgAAAAABAAAKAAAAAAEAAAQAAAAAAQAAAAAAAAABAAACAAAA\n",
       "AAEAAAoAAAAAAQAABAAAAAABAAAAAAAAAAEAAAIAAAAAAQAACgAAAAABAAAEAAAAAAEAAAAAAAAA\n",
       "AQAAAgAAAAABAAAKAAAAAAEAAAQAAAAAAQAAAAAAAAABAAACAAAAAAEAAAoAAAAAAQAABAAAAAAB\n",
       "AAAAAAAAAAEAAAIAAAAAAQAACgAAAAABAAAEAAAAAAEAAAAAAAAAAQAAAgAAAAABAAAKAAAAAAEA\n",
       "AAQAAAAAAQAAAAAAAAABAAACAAAAAAEAAAoAAAAAAQAABAAAAAABAAAAAAAAAAEAAAIAAAAAAQAA\n",
       "CgAAAAABAAAEAAAAAAEAAAAAAAAAAQAAAgAAAAABAAAKAAAAAAEAAAQAAAAAAQAAAAAAAAABAAAC\n",
       "AAAAAAEAAAoAAAAAAQAABAAAAAABAAAAAAAAAAEAAAIAAAAAAQAACgAAAAABAAAEAAAAAAEAAAAA\n",
       "AAAAAQAAAgAAAAABAAAKAAAAAAEAAAQAAAAAAQAAAAAAAAABAAACAAAAAAEAAAoAAAAAAQAABAAA\n",
       "AAABAAAAAAAAAAEAAAIAAAAAAQAACgAAAAABAAAEAAAAAAEAAAAAAAAAAQAAAgAAAAABAAAKAAAA\n",
       "AAEAAAQAAAAAAQAAAAAAAAABAAACAAAAAAEAAAoAAAAAAQAABAAAAAABAAAAAAAAAAEAAAIAAAAA\n",
       "AQAACgAAAAABAAAEAAAAAAEAAAAAAAAAAQAAAgAAAAABAAAKAAAAAAEAAAQAAAAAAQAAAAAAAAAB\n",
       "AAACAAAAAAEAAAoAAAAAAQAABAAAAAABAAAAAAAAAAEAAAIAAAAAAQAACgAAAAABAAAEAAAAAAEA\n",
       "AAAAAAAAAQAAAgAAAAABAAAKAAAAAAEAAAQAAAAAAQAAAAAAAAABAAACAAAAAAEAAAoAAAAAAQAA\n",
       "BAAAAAABAAAAAAAAAAEAAAIAAAAAAQAACgAAAAABAAAEAAAAAAEAAAAAAAAAAQAAAgAAAAABAAAK\n",
       "AAAAAAEAAAQAAAAAAQAAAAAAAAABAAACAAAAAAEAAAoAAAAAAQAABAAAAAABAAAAAAAAAAEAAAIA\n",
       "AAAAAQAACgAAAAABAAAEAAAAAAEAAAAAAAAAAQAAAgAAAAABAAAKAAAAAAEAAAQAAAAAAQAAAAAA\n",
       "AAABAAACAAAAAAEAAAoAAAAAAQAABAAAAAABAAAAAAAAAAEAAAIAAAAAAQAACgAAAAABAAAEAAAA\n",
       "AAEAAAAAAAAAAQAAAgAAAAABAAAKAAAAAAEAAAQAAAAAAQAAAAAAAAABAAACAAAAAAEAAAoAAAAA\n",
       "AQAABAAAAAABAAAAAAAAAAEAAAIAAAAAAQAACgAAAAABAAAEAAAAAAEAAAAAAAAAAQAAAgAAAAAB\n",
       "AAAKAAAAAAEAAAQAAAAAAQAAAAAAAAABAAACAAAAAAEAAAoAAAAAAQAABAAAAAABAAAAAAAAAAEA\n",
       "AAIAAAAAAQAACgAAAAABAAAEAAAAAAEAAAAAAAAAAQAAAgAAAAABAAAKAAAAAAEAAAQAAAAAAQAA\n",
       "AAAAAAABAAACAAAAAAIAAAQAAAAAAQAACgAAAAABAAAEAAAAAAEAAAAAAAAAAQAAAgAAAAABAAAK\n",
       "AAAAAAEAAAQAAAAAAQAAAAAAAAABAAACAAAAAAEAAAoAAAAAAQAABAAAAAABAAAAAAAAAAEAAAIA\n",
       "AAAAAQAACgAAAAABAAAEAAAAAAEAAAAAAAAAAQAAAgAAAAABAAAKAAAAAAEAAAQAAAAAAQAAAAAA\n",
       "AAABAAACAAAAAAEAAAoAAAAAAQAABAAAAAABAAAAAAAAAAEAAAIAAAAAAQAACgAAAAABAAAEAAAA\n",
       "AAEAAAAAAAAAAQAAAgAAAAABAAAKAAAAAAEAAAQAAAAAAQAAAAAAAAABAAACAAAAAAEAAAoAAAAA\n",
       "AQAABAAAAAABAAAAAAAAAAEAAAIAAAAAAQAACgAAAAABAAAEAAAAAAEAAAAAAAAAAQAAAgAAAAAB\n",
       "AAAKAAAAAAEAAAQAAAAAAQAAAAAAAAABAAACAAAAAAEAAAoAAAAAAQAABAAAAAABAAAAAAAAAAEA\n",
       "AAIAAAAAAQAABAAAAAAcc3RzYwAAAAAAAAABAAAAAQAAASwAAAABAAAExHN0c3oAAAAAAAAAAAAA\n",
       "ASwAABNrAAAFVAAAAHMAAAPXAAAALQAAAGMAAAAtAAAAIwAAABsAAAAiAAAAJAAAABsAAAAZAAAA\n",
       "GwAAACEAAAAZAAAAGQAAABsAAAAhAAAAGQAAABkAAAAbAAAAIQAAABkAAAAZAAAAGwAAACEAAAAZ\n",
       "AAAAGQAAABsAAAAhAAAAGQAAABkAAAAbAAAAIQAAABkAAAAZAAAAGwAAACEAAAAZAAAAGQAAABsA\n",
       "AAAhAAAAGQAAABkAAAAbAAAAIQAAABkAAAAZAAAAGwAAACEAAAAZAAAAGQAAABsAAAAhAAAAGQAA\n",
       "ABkAAAAbAAAAIQAAABkAAAAZAAAAGwAAACEAAAAZAAAAGQAAABsAAAAhAAAAGQAAABkAAAAbAAAA\n",
       "IQAAABkAAAAZAAAAGwAAACEAAAAZAAAAGQAAABsAAAAhAAAAGQAAABkAAAAbAAAAIQAAABkAAAAZ\n",
       "AAAAGwAAACEAAAAZAAAAGQAAABsAAAAhAAAAGQAAABkAAAAbAAAAIQAAABkAAAAZAAAAGwAAACEA\n",
       "AAAZAAAAGQAAABsAAAAhAAAAGQAAABkAAAAbAAAAIQAAABkAAAAZAAAAGwAAACEAAAAZAAAAGQAA\n",
       "ABsAAAAhAAAAGQAAABkAAAAbAAAAIQAAABkAAAAZAAAAGwAAACEAAAAZAAAAGQAAABsAAAAhAAAA\n",
       "GQAAABkAAAAbAAAAIQAAABkAAAAZAAAAGwAAACEAAAAZAAAAGQAAABsAAAAhAAAAGQAAABkAAAAb\n",
       "AAAAIQAAABkAAAAZAAAAGwAAACEAAAAZAAAAGQAAABsAAAAhAAAAGQAAABkAAAAbAAAAIQAAABkA\n",
       "AAAZAAAAGwAAACEAAAAZAAAAGQAAABsAAAAhAAAAGQAAABkAAAAbAAAAIQAAABkAAAAZAAAAGwAA\n",
       "ACEAAAAZAAAAGQAAABsAAAAhAAAAGQAAABkAAAAbAAAAIQAAABkAAAAZAAAAGwAAACEAAAAZAAAA\n",
       "GQAAABsAAAAhAAAAGQAAABkAAAAbAAAAIQAAABkAAAAZAAAAGwAAACEAAAAZAAAAGQAAABsAAAAh\n",
       "AAAAGQAAABkAAAAbAAAAIQAAABkAAAAZAAAAGwAAACEAAAAZAAAAGQAAABsAAAAhAAAAGQAAABkA\n",
       "AAAbAAAAIQAAABkAAAAZAAAAGwAAACEAAAAZAAAAGQAAABsAAAAhAAAAGQAAABkAAAAbAAAAIQAA\n",
       "ABkAAAAZAAAAGwAAACEAAAAZAAAAGQAAABsAAAAhAAAAGQAAABkAAAAbAAAAIQAAABkAAAAZAAAA\n",
       "GwAAACEAAAAZAAAAGQAAABsAAAAhAAAAGQAAABkAAAAaAAAPYAAAASoAAABFAAAAMAAAACgAAABC\n",
       "AAAALgAAACAAAAAYAAAAKgAAABwAAAAYAAAAFQAAABsAAAAXAAAAFQAAABMAAAAYAAAAFQAAABMA\n",
       "AAATAAAAGAAAABUAAAATAAAAEwAAABgAAAAVAAAAEwAAABMAAAAYAAAAFQAAABMAAAATAAAAGAAA\n",
       "ABUAAAATAAAAEwAAABgAAAAVAAAAEwAAABMAAAAXAAAAFQAAABMAAAATAAAAFwAAABUAAAATAAAA\n",
       "EwAAABgAAAAUc3RjbwAAAAAAAAABAAAAMAAAAGJ1ZHRhAAAAWm1ldGEAAAAAAAAAIWhkbHIAAAAA\n",
       "AAAAAG1kaXJhcHBsAAAAAAAAAAAAAAAALWlsc3QAAAAlqXRvbwAAAB1kYXRhAAAAAQAAAABMYXZm\n",
       "NTguNjUuMTAx\n",
       "\">\n",
       "  Your browser does not support the video tag.\n",
       "</video>"
      ],
      "text/plain": [
       "<IPython.core.display.HTML object>"
      ]
     },
     "execution_count": 43,
     "metadata": {},
     "output_type": "execute_result"
    }
   ],
   "source": [
    "from matplotlib import animation, rc\n",
    "from IPython.display import HTML\n",
    "HTML(points_output.anim.to_html5_video())"
   ]
  },
  {
   "cell_type": "code",
   "execution_count": null,
   "id": "contrary-bailey",
   "metadata": {},
   "outputs": [],
   "source": []
  }
 ],
 "metadata": {
  "colab": {
   "collapsed_sections": [],
   "name": "Copy of Wing Kinematics.ipynb",
   "provenance": []
  },
  "kernelspec": {
   "display_name": "Python 3",
   "language": "python",
   "name": "python3"
  },
  "language_info": {
   "codemirror_mode": {
    "name": "ipython",
    "version": 3
   },
   "file_extension": ".py",
   "mimetype": "text/x-python",
   "name": "python",
   "nbconvert_exporter": "python",
   "pygments_lexer": "ipython3",
   "version": "3.8.5"
  }
 },
 "nbformat": 4,
 "nbformat_minor": 5
}

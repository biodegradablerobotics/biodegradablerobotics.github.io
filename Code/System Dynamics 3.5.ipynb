{
 "cells": [
  {
   "cell_type": "markdown",
<<<<<<< Updated upstream
=======
   "id": "incoming-trial",
>>>>>>> Stashed changes
   "metadata": {},
   "source": [
    "1A. Explain, in words, how your team will evaluate the success of your robot’s design. This could be by measuring the forces produced by your design, the speed at which it walks, its thrust:weight ratio, the height it can jump, etc. Explain, in words, how you will measure performance in simulation. How will you measure performance in experiments?"
   ]
  },
  {
   "cell_type": "markdown",
<<<<<<< Updated upstream
=======
   "id": "electric-exemption",
>>>>>>> Stashed changes
   "metadata": {},
   "source": [
    "The wing’s main objective is to produce positive thrust over the course of a full upstroke and downstroke. However, since we will not be able to isolate the aerodynamic forces from inertial forces and measure the thrust of our prototype, we will mount the wing to a cart, and measure the displacement of the wing after a full cycle. The primary dependent variable is the timing and flapping frequency of the wing. The time that the motor reverses its torque directly affects the aerodynamics of the wing and how much the wing is able to extend and tuck during the downstroke and upstroke. To compare different gait timings, we will divide the displacement by the cycle period and compare the average velocity of each case. The case with the highest average velocity will be our optimal design."
   ]
  },
  {
   "cell_type": "markdown",
<<<<<<< Updated upstream
=======
   "id": "matched-walter",
>>>>>>> Stashed changes
   "metadata": {},
   "source": [
    "1B. Are experimental vs. simulation metrics similar or vastly different? If different, how will you equate A with B?"
   ]
  },
  {
   "cell_type": "markdown",
<<<<<<< Updated upstream
=======
   "id": "opposite-wisconsin",
>>>>>>> Stashed changes
   "metadata": {},
   "source": [
    "By designing our hardware experiment in a measurable way and designing our simulation to emulate the hardware design, our experiment and simulation results should be very similar. In both cases, we will be able to directly control the gait timings and directly measure the displacement of the wing base."
   ]
  },
  {
   "cell_type": "markdown",
<<<<<<< Updated upstream
=======
   "id": "characteristic-crowd",
>>>>>>> Stashed changes
   "metadata": {},
   "source": [
    "1C. Do you have more than one performance metric you must use as for design goals? If so, either identify the most important one or explain how you will balance two competing criteria. For example, if you need a robot to jump high AND far, which is more important, or how do you establish a relationship between these two possibly competing goals?"
   ]
  },
  {
   "cell_type": "markdown",
<<<<<<< Updated upstream
=======
   "id": "magnetic-separation",
>>>>>>> Stashed changes
   "metadata": {},
   "source": [
    "The wing is one component of a much larger bird robot. The robot as a whole will have more performance metrics, but our scope is reduced to consider only the design of the wing, and the wing’s primary performance metric is the thrust output. The thrust output is most easily measured using a cart mount and recording the average velocity. There are no competing performance metrics."
   ]
  },
  {
   "cell_type": "markdown",
<<<<<<< Updated upstream
=======
   "id": "fiscal-emerald",
>>>>>>> Stashed changes
   "metadata": {},
   "source": [
    "1D. Explain, in math, the measurable performance metric(s) by which your team can estimate performance."
   ]
  },
  {
   "cell_type": "markdown",
<<<<<<< Updated upstream
=======
   "id": "portuguese-intermediate",
>>>>>>> Stashed changes
   "metadata": {},
   "source": [
    "As stated above, the wing will be mounted to a cart that allows the wing to roll freely as it applies thrust along the direction of travel. The wing will flap through a full gait cycle. Multiple trials with varying periods of upstroke and downstroke will be performed. For each trial, the displacement after the cart has come to rest will be measured. Dividing this displacement by the total time elapsed gives the average velocity of the trail. A greater average velocity is achieved by a greater acceleration, and a greater acceleration is achieved by a greater force, therefore the trial with the most positive average velocity will be the most optimal thrust-producing case.\n"
   ]
  },
  {
   "cell_type": "markdown",
<<<<<<< Updated upstream
=======
   "id": "blessed-interim",
>>>>>>> Stashed changes
   "metadata": {},
   "source": [
    "1E. Write, in code, a function that will evaluate the performance of your current system (as simulated in System Dynamics II)."
   ]
  },
  {
   "cell_type": "markdown",
<<<<<<< Updated upstream
=======
   "id": "responsible-leader",
>>>>>>> Stashed changes
   "metadata": {},
   "source": [
    "Code Below. "
   ]
  },
  {
   "cell_type": "markdown",
<<<<<<< Updated upstream
=======
   "id": "finished-lesbian",
>>>>>>> Stashed changes
   "metadata": {},
   "source": [
    "2A. Brainstorm and describe your team’s design constraints. Constraints are aspects of your design that are “bounded” by some physical limit (eg, the size of robot you can cut on a given laser cutter, the range of motion of a typical foldable hinge joint)."
   ]
  },
  {
   "cell_type": "markdown",
<<<<<<< Updated upstream
=======
   "id": "advised-transcript",
>>>>>>> Stashed changes
   "metadata": {},
   "source": [
    "The independent variable of our experiment is the gait timings. This affects the flapping speed and flapping range of motion. The biggest constraint to the range of motion is the singularities that cause the geometry to invert. The wing must maintain a double concave 2-bar mechanism shape to achieve the tuck and extend motion through its stroke."
   ]
  },
  {
   "cell_type": "markdown",
<<<<<<< Updated upstream
=======
   "id": "southeast-selection",
>>>>>>> Stashed changes
   "metadata": {},
   "source": [
    "2B. Explain, in words, how you will track violation of design constraints. For example, let’s say your optimization routine suggests a design that cannot be made in a single sheet of paper. Will you"
   ]
  },
  {
   "cell_type": "markdown",
<<<<<<< Updated upstream
=======
   "id": "structured-foundation",
>>>>>>> Stashed changes
   "metadata": {},
   "source": [
    "The primary violation of our design constraints is a motor command that compromises the geometry of the wing. For example, if one of the strokes is too long, the motor can rotate around too far and invert the wing. Our code will not run through an optimizer. Instead, trials will be run manually, and violations of the constraints will be detected manually by inspection for each trial."
   ]
  },
  {
   "cell_type": "markdown",
<<<<<<< Updated upstream
=======
   "id": "burning-kernel",
>>>>>>> Stashed changes
   "metadata": {},
   "source": [
    "## Setup"
   ]
  },
  {
   "cell_type": "code",
   "execution_count": 1,
<<<<<<< Updated upstream
=======
   "id": "statewide-gender",
>>>>>>> Stashed changes
   "metadata": {
    "colab": {
     "base_uri": "https://localhost:8080/"
    },
    "id": "pi7Co6-jBLqJ",
    "outputId": "3e0b02e5-7b83-4a8a-fb4e-f100a21e47fb"
   },
   "outputs": [],
   "source": [
    "#pip install pynamics"
   ]
  },
  {
   "cell_type": "code",
   "execution_count": 2,
<<<<<<< Updated upstream
=======
   "id": "unsigned-brief",
>>>>>>> Stashed changes
   "metadata": {
    "id": "frequent-douglas"
   },
   "outputs": [],
   "source": [
    "%matplotlib inline\n",
    "import scipy.optimize\n",
    "import pynamics\n",
    "from pynamics.frame import Frame\n",
    "from pynamics.variable_types import Differentiable,Constant\n",
    "from pynamics.system import System\n",
    "from pynamics.body import Body\n",
    "from pynamics.dyadic import Dyadic\n",
    "from pynamics.output import Output,PointsOutput\n",
    "from pynamics.particle import Particle\n",
    "import pynamics.integration\n",
    "import numpy\n",
    "import sympy\n",
    "import matplotlib.pyplot as plt\n",
    "from matplotlib.patches import Arc\n",
    "plt.ion()\n",
    "from math import pi, sin, cos, tan, asin, acos, atan, degrees, radians, pi, sqrt"
   ]
  },
  {
   "cell_type": "markdown",
<<<<<<< Updated upstream
=======
   "id": "editorial-tobago",
>>>>>>> Stashed changes
   "metadata": {},
   "source": [
    "## System"
   ]
  },
  {
   "cell_type": "code",
   "execution_count": 3,
<<<<<<< Updated upstream
=======
   "id": "marked-volunteer",
>>>>>>> Stashed changes
   "metadata": {},
   "outputs": [],
   "source": [
    "# Create a pynamics system\n",
    "system = System()\n",
    "pynamics.set_system(__name__,system)"
   ]
  },
  {
   "cell_type": "code",
   "execution_count": 4,
<<<<<<< Updated upstream
=======
   "id": "optimum-tooth",
>>>>>>> Stashed changes
   "metadata": {},
   "outputs": [],
   "source": [
    "# Length variables (numerical)\n",
    "lAa_num = 0.05\n",
    "lAb_num = 0.1\n",
    "lBa_num = 0.05\n",
    "lBb_num = 0.1\n",
    "lC_num = 0.165\n",
    "lD_num = 0.165\n",
    "lE_num = 0.045\n",
    "\n",
    "# Lengths\n",
    "lAa = Constant(lAa_num,'lAa',system)\n",
    "lAb = Constant(lAb_num,'lAb',system)\n",
    "lBa = Constant(lBa_num,'lBa',system)\n",
    "lBb = Constant(lBb_num,'lBb',system)\n",
    "lC = Constant(lC_num,'lC',system)\n",
    "lD = Constant(lD_num,'lD',system)\n",
    "lE = Constant(lE_num,'lE',system)"
   ]
  },
  {
   "cell_type": "code",
   "execution_count": 5,
<<<<<<< Updated upstream
=======
   "id": "statewide-aggregate",
>>>>>>> Stashed changes
   "metadata": {},
   "outputs": [],
   "source": [
    "# Masses\n",
    "# r = 149kg/m3\n",
    "mAa = Constant(0.00447,'mAa',system) # 0.00447000 \n",
    "mAb = Constant(0.00894,'mAb',system) # 0.00894000 \n",
    "mBa = Constant(0.00626,'mBa',system) # 0.00625800\n",
    "mBb = Constant(0.00894,'mBb',system) # 0.00894000 \n",
    "mC = Constant(0.0148,'mC',system) # 0.01475100\n",
    "mD = Constant(0.0148,'mD',system) # 0.01475100\n",
    "\n",
    "# Joint preloads\n",
    "preload0 = Constant(0*pi/180,'preload0',system)\n",
    "preloadA = Constant(0*pi/180,'preloadA',system)\n",
    "preload1 = Constant(0*pi/180,'preload1',system)\n",
    "preloadB = Constant(0*pi/180,'preloadB',system)\n",
    "preload4 = Constant(0*pi/180,'preload4',system)\n",
    "preload3 = Constant(0*pi/180,'preload3',system)\n",
    "\n",
    "# Inertia\n",
    "Ixx_Aa = Constant(0.0000336,'Ixx_Aa',system) # 0.00003355\n",
    "Iyy_Aa = Constant(0.0000373,'Iyy_Aa',system) # 0.00003725\n",
    "Izz_Aa = Constant(0.0000038,'Izz_Aa',system) # 0.00000375\n",
    "Ixx_Ab = Constant(0.0000671,'Ixx_Ab',system) # 0.00006710\n",
    "Iyy_Ab = Constant(0.0000969,'Iyy_Ab',system) # 0.00009685\n",
    "Izz_Ab = Constant(0.0000299,'Izz_Ab',system) # 0.00002985\n",
    "\n",
    "Ixx_Ba = Constant(0.0000441,'Ixx_Ba',system) # 0.00004405\n",
    "Iyy_Ba = Constant(0.0000484,'Iyy_Ba',system) # 0.00004840\n",
    "Izz_Ba = Constant(0.0000045,'Izz_Ba',system) # 0.00000453\n",
    "Ixx_Bb = Constant(0.0000671,'Ixx_Bb',system) # 0.00006710\n",
    "Iyy_Bb = Constant(0.0000969,'Iyy_Bb',system) # 0.00009685\n",
    "Izz_Bb = Constant(0.0000299,'Izz_Bb',system) # 0.00002985\n",
    "\n",
    "Ixx_C = Constant(0.0001107,'Ixx_C',system) # 0.00011071\n",
    "Iyy_C = Constant(0.0002445,'Iyy_C',system) # 0.00024450\n",
    "Izz_C = Constant(0.000134,'Izz_C',system) # 0.00013394\n",
    "\n",
    "Ixx_D = Constant(0.0001107,'Ixx_D',system) # 0.00011071\n",
    "Iyy_D = Constant(0.0002445,'Iyy_D',system) # 0.00024450\n",
    "Izz_D = Constant(0.0001339,'Izz_D',system) # 0.00013394"
   ]
  },
  {
   "cell_type": "code",
   "execution_count": 6,
<<<<<<< Updated upstream
=======
   "id": "worst-cemetery",
>>>>>>> Stashed changes
   "metadata": {},
   "outputs": [],
   "source": [
    "# Create differentiable state variables\n",
    "qx,qx_d,qx_dd = Differentiable('qx',system)\n",
    "\n",
    "qAa,qAa_d,qAa_dd = Differentiable('qAa',system)\n",
    "qAb,qAb_d,qAb_dd = Differentiable('qAb',system)\n",
    "\n",
    "qBa,qBa_d,qBa_dd = Differentiable('qBa',system)\n",
    "qBb,qBb_d,qBb_dd = Differentiable('qBb',system)\n",
    "\n",
    "qC,qC_d,qC_dd = Differentiable('qC',system)\n",
    "\n",
    "qD,qD_d,qD_dd = Differentiable('qD',system)"
   ]
  },
  {
   "cell_type": "code",
   "execution_count": 7,
<<<<<<< Updated upstream
=======
   "id": "norman-classics",
>>>>>>> Stashed changes
   "metadata": {},
   "outputs": [],
   "source": [
    "# initial values\n",
    "# qC = 11.97 creates fully extended, horizontal wing\n",
    "initialvalues = {}\n",
    "initialvalues[qx]=0\n",
    "initialvalues[qx_d]=0\n",
    "\n",
    "initialvalues[qAa]=-45*pi/180\n",
    "initialvalues[qAa_d]=0*pi/180\n",
    "initialvalues[qAb]=0*pi/180\n",
    "initialvalues[qAb_d]=0*pi/180\n",
    "\n",
    "initialvalues[qBa]=0*pi/180\n",
    "initialvalues[qBa_d]=0*pi/180\n",
    "initialvalues[qBb]=0*pi/180\n",
    "initialvalues[qBb_d]=0*pi/180\n",
    "\n",
    "#initialvalues[qC]=14.65*pi/180\n",
    "initialvalues[qC]=(-16.69)*pi/180\n",
    "initialvalues[qC_d]=0*pi/180\n",
    "\n",
    "initialvalues[qD]=-70.16*pi/180\n",
    "initialvalues[qD_d]=0*pi/180"
   ]
  },
  {
   "cell_type": "code",
   "execution_count": 8,
<<<<<<< Updated upstream
=======
   "id": "adverse-gross",
>>>>>>> Stashed changes
   "metadata": {},
   "outputs": [],
   "source": [
    "# Retrieve state variables in the order they are stored in the system\n",
    "# Create a list of initial values ini0 in the order of the system’s state variables\n",
    "statevariables = system.get_state_variables()\n",
    "ini0 = [initialvalues[item] for item in statevariables]"
   ]
  },
  {
   "cell_type": "code",
   "execution_count": 9,
<<<<<<< Updated upstream
=======
   "id": "different-quest",
>>>>>>> Stashed changes
   "metadata": {},
   "outputs": [],
   "source": [
    "# Create frames\n",
    "N = Frame('N')\n",
    "Aa = Frame('Aa')\n",
    "Ab = Frame('Ab')\n",
    "\n",
    "Ba = Frame('Ba')\n",
    "Bb = Frame('Bb')\n",
    "\n",
    "C = Frame('C')\n",
    "D = Frame('D')"
   ]
  },
  {
   "cell_type": "code",
   "execution_count": 10,
<<<<<<< Updated upstream
=======
   "id": "personalized-verification",
>>>>>>> Stashed changes
   "metadata": {},
   "outputs": [],
   "source": [
    "# Declare N as the Newtonian (fixed) frame\n",
    "system.set_newtonian(N)"
   ]
  },
  {
   "cell_type": "code",
   "execution_count": 11,
<<<<<<< Updated upstream
=======
   "id": "chief-guatemala",
>>>>>>> Stashed changes
   "metadata": {},
   "outputs": [],
   "source": [
    "# Rotate other frames about their local Z axes.\n",
    "# Not global q\n",
    "Aa.rotate_fixed_axis_directed(N,[0,0,1],qAa,system)\n",
    "Ab.rotate_fixed_axis_directed(Aa,[0,0,1],qAb,system)\n",
    "\n",
    "Ba.rotate_fixed_axis_directed(Ab,[0,0,1],qBa,system)\n",
    "Bb.rotate_fixed_axis_directed(Ba,[0,0,1],qBb,system)\n",
    "\n",
    "C.rotate_fixed_axis_directed(Bb,[0,0,1],qC,system)\n",
    "D.rotate_fixed_axis_directed(C,[0,0,1],qD,system)"
   ]
  },
  {
   "cell_type": "code",
   "execution_count": 12,
<<<<<<< Updated upstream
=======
   "id": "governmental-research",
>>>>>>> Stashed changes
   "metadata": {},
   "outputs": [],
   "source": [
    "# Define rigid body kinematics\n",
    "# position vectors\n",
    "p0 = qx*N.x #Normal\n",
    "pA = p0 + lAa*Aa.x #Normal\n",
    "p1 = pA + lAb*Ab.x #Link A\n",
    "pB = p1 + lBa*Ba.x #Link A\n",
    "p2A = pB + lBb*Bb.x #Link B - OUTPUT\n",
    "p4 = p0 + lE*N.x #Link E\n",
    "p3 = p4 + lC*C.x #Link C\n",
    "p2C = p3 + lD*D.x #Link D - OUTPUT"
   ]
  },
  {
   "cell_type": "code",
   "execution_count": 13,
<<<<<<< Updated upstream
=======
   "id": "toxic-nerve",
>>>>>>> Stashed changes
   "metadata": {},
   "outputs": [],
   "source": [
    "# CoM vectors\n",
    "pAacom=p0 + lAa/2*Aa.x #Link Aa\n",
    "pAbcom=pA + lAb/2*Ab.x #Link Ab\n",
    "\n",
    "pBacom=p1 + 0.0207*Ba.x + 0.00314*Ba.y #Link Ba # 0.02071429x 0.00314286y\n",
    "pBbcom=pB + lBb*Bb.x #Link Bb\n",
    "\n",
    "pCcom=p4 + lC/2*C.x #Link Ca\n",
    "pDcom=p3 + lD/2*D.x #Link Da"
   ]
  },
  {
   "cell_type": "code",
   "execution_count": 14,
<<<<<<< Updated upstream
=======
   "id": "revised-switch",
>>>>>>> Stashed changes
   "metadata": {},
   "outputs": [],
   "source": [
    "# Angular Velocity\n",
    "wNAa = N.getw_(Aa)\n",
    "wAaAb = Aa.getw_(Ab)\n",
    "\n",
    "wAbBa = Ab.getw_(Ba)\n",
    "wBaBb = Ba.getw_(Bb)\n",
    "\n",
    "wNC = N.getw_(C)\n",
    "wCD = C.getw_(D)"
   ]
  },
  {
   "cell_type": "code",
   "execution_count": 15,
<<<<<<< Updated upstream
=======
   "id": "nuclear-prototype",
>>>>>>> Stashed changes
   "metadata": {},
   "outputs": [],
   "source": [
    "# Build inertia tensors\n",
    "IAa = Dyadic.build(Aa,Ixx_Aa,Iyy_Aa,Izz_Aa)\n",
    "IAb = Dyadic.build(Ab,Ixx_Ab,Iyy_Ab,Izz_Ab)\n",
    "\n",
    "IBa = Dyadic.build(Ba,Ixx_Ba,Iyy_Ba,Izz_Ba)\n",
    "IBb = Dyadic.build(Bb,Ixx_Bb,Iyy_Bb,Izz_Bb)\n",
    "\n",
    "IC = Dyadic.build(C,Ixx_C,Iyy_C,Izz_C)\n",
    "ID = Dyadic.build(D,Ixx_D,Iyy_D,Izz_D)\n",
    "\n",
    "BodyAa = Body('BodyAa',Aa,pAacom,mAa,IAa,system)\n",
    "BodyAb = Body('BodyAb',Ab,pAbcom,mAb,IAb,system)\n",
    "\n",
    "BodyBa = Body('BodyBa',Ba,pBacom,mBa,IBa,system)\n",
    "BodyBb = Body('BodyBb',Bb,pBbcom,mBb,IBb,system)\n",
    "\n",
    "BodyC = Body('BodyC',C,pCcom,mC,IC,system)\n",
    "BodyD = Body('BodyD',D,pDcom,mD,ID,system)\n",
    "#BodyC = Particle(pCcm,mC,'ParticleC',system)"
   ]
  },
  {
   "cell_type": "markdown",
<<<<<<< Updated upstream
=======
   "id": "wooden-beatles",
>>>>>>> Stashed changes
   "metadata": {},
   "source": [
    "## Forces"
   ]
  },
  {
   "cell_type": "code",
   "execution_count": 16,
<<<<<<< Updated upstream
=======
   "id": "bearing-crystal",
>>>>>>> Stashed changes
   "metadata": {},
   "outputs": [
    {
     "data": {
      "text/plain": [
       "<pynamics.force.Force at 0x1f576d16e20>"
      ]
     },
     "execution_count": 16,
     "metadata": {},
     "output_type": "execute_result"
    }
   ],
   "source": [
    "# Motor Torque\n",
    "t_switch = 0.3\n",
    "T1 = -0.1\n",
    "T2 = 0.2\n",
    "dT = T2-T1\n",
    "\n",
    "cond = system.t-t_switch\n",
    "cond_s = (cond+abs(cond))\n",
    "on = cond_s/(2*cond+1e-4)\n",
    "system.addforce((dT*on+T1)*N.z,wNAa)"
   ]
  },
  {
   "cell_type": "code",
   "execution_count": 17,
<<<<<<< Updated upstream
=======
   "id": "sitting-excitement",
>>>>>>> Stashed changes
   "metadata": {},
   "outputs": [],
   "source": [
    "# Spring Forces\n",
    "kbase = Constant(2.24,'kbase',system)\n",
    "kjoint = Constant(2.24,'kjoint',system)\n",
    "kbend = Constant(6,'kbend',system)\n",
    "klim = Constant(3,'klim',system)\n",
    "\n",
    "dK = kbase-klim"
   ]
  },
  {
   "cell_type": "code",
   "execution_count": 18,
<<<<<<< Updated upstream
=======
   "id": "medium-fairy",
>>>>>>> Stashed changes
   "metadata": {},
   "outputs": [
    {
     "data": {
      "text/plain": [
       "(<pynamics.force.Force at 0x1f576d3c5b0>,\n",
       " <pynamics.spring.Spring at 0x1f576d3c520>)"
      ]
     },
     "execution_count": 18,
     "metadata": {},
     "output_type": "execute_result"
    }
   ],
   "source": [
    "system.add_spring_force1(kbase,(qAa-preload0)*N.z,wNAa) # qA\n",
    "system.add_spring_force1(kbend,(qAb-preloadA)*Aa.z,wAaAb)  # virtual A\n",
    "\n",
    "system.add_spring_force1(dK*on+klim,(qBa-preload1)*Ab.z,wAbBa) # Limiter\n",
    "#system.add_spring_force1(kbase,(qBa-preload1)*Ab.z,wAbBa) # Limiter Torque off\n",
    "\n",
    "system.add_spring_force1(kbend,(qBb-preloadB)*Ba.z,wBaBb) # virtual B\n",
    "\n",
    "system.add_spring_force1(kbase,(qC-preload4)*N.z,wNC) # qC\n",
    "system.add_spring_force1(kjoint,(qD-preload3)*C.z,wCD) # qD"
   ]
  },
  {
   "cell_type": "code",
   "execution_count": 19,
<<<<<<< Updated upstream
=======
   "id": "pacific-resolution",
>>>>>>> Stashed changes
   "metadata": {},
   "outputs": [],
   "source": [
    "# Damping\n",
    "bbase = Constant(1.78,'bbase',system)\n",
    "bjoint = Constant(1.78,'bjoint',system)"
   ]
  },
  {
   "cell_type": "code",
   "execution_count": 20,
<<<<<<< Updated upstream
=======
   "id": "distant-morocco",
>>>>>>> Stashed changes
   "metadata": {},
   "outputs": [
    {
     "data": {
      "text/plain": [
       "<pynamics.force.Force at 0x1f576d3c940>"
      ]
     },
     "execution_count": 20,
     "metadata": {},
     "output_type": "execute_result"
    }
   ],
   "source": [
    "system.addforce(-bbase*wNAa,wNAa) # qA\n",
    "system.addforce(-bjoint*wAbBa,wAbBa) # qB\n",
    "system.addforce(-bbase*wNC,wNC) # qC\n",
    "system.addforce(-bjoint*wCD,wCD) # qD"
   ]
  },
  {
   "cell_type": "code",
   "execution_count": 21,
<<<<<<< Updated upstream
=======
   "id": "contrary-outline",
>>>>>>> Stashed changes
   "metadata": {},
   "outputs": [],
   "source": [
    "# Aerodynamic Forces\n",
    "rho = Constant(1.225,'rho',system) # air density\n",
    "w = Constant(0.15,'w',system) # width or chord length"
   ]
  },
  {
   "cell_type": "code",
   "execution_count": 22,
<<<<<<< Updated upstream
=======
   "id": "indoor-fireplace",
>>>>>>> Stashed changes
   "metadata": {},
   "outputs": [],
   "source": [
    "tolv = 1e-6"
   ]
  },
  {
   "cell_type": "code",
   "execution_count": 23,
<<<<<<< Updated upstream
=======
   "id": "inside-poster",
>>>>>>> Stashed changes
   "metadata": {},
   "outputs": [],
   "source": [
    "# velocity of com\n",
    "vAacom= pAacom.time_derivative(N,system)\n",
    "vAacom2= pAacom.dot(vAacom)\n",
    "vAbcom= pAbcom.time_derivative(N,system)\n",
    "vAbcom2= pAbcom.dot(vAbcom)\n",
    "\n",
    "vBacom= pBacom.time_derivative(N,system)\n",
    "vBacom2= pBacom.dot(vBacom)\n",
    "vBbcom= pBbcom.time_derivative(N,system)\n",
    "vBbcom2= pBbcom.dot(vBbcom)\n",
    "\n",
    "vCcom= pCcom.time_derivative(N,system)\n",
    "vCcom2= pCcom.dot(vCcom) \n",
    "vDcom= pDcom.time_derivative(N,system)\n",
<<<<<<< Updated upstream
    "vDcom2= pDcom.dot(vDcom) + tolv"
   ]
  },
  {
   "cell_type": "code",
   "execution_count": 24,
   "metadata": {},
   "outputs": [
    {
     "data": {
      "text/plain": [
       "  lAa⋅qAa_d⋅qx⋅sin(qAa)   lAa⋅qx_d⋅cos(qAa)                   \n",
       "- ───────────────────── + ───────────────── + qx⋅qx_d + 1.0e-6\n",
       "            2                     2                           "
      ]
     },
     "execution_count": 24,
     "metadata": {},
     "output_type": "execute_result"
    }
   ],
   "source": [
    "vAacom2"
=======
    "vDcom2= pDcom.dot(vDcom)"
>>>>>>> Stashed changes
   ]
  },
  {
   "cell_type": "raw",
<<<<<<< Updated upstream
=======
   "id": "prescription-contamination",
>>>>>>> Stashed changes
   "metadata": {},
   "source": [
    "# velocity x components\n",
    "vAadx = vAacom.dot(Aa.x)\n",
    "vAbdx = vAbcom.dot(Ab.x)\n",
    "vBadx = vBacom.dot(Ba.x)\n",
    "vBbdx = vBbcom.dot(Bb.x)\n",
    "vCdx = vCcom.dot(C.x)\n",
    "vDdx = vDcom.dot(D.x)\n",
    "# velocity y components\n",
    "vAady = vAacom.dot(-Aa.y)\n",
    "vAbdy = vAbcom.dot(-Ab.y)\n",
    "vBady = vBacom.dot(-Ba.y)\n",
    "vBbdy = vBbcom.dot(-Bb.y)\n",
    "vCdy = vCcom.dot(-C.y)\n",
    "vDdy = vDcom.dot(-D.y)"
   ]
  },
  {
   "cell_type": "raw",
   "id": "proud-drive",
   "metadata": {},
   "source": [
    "aero_Aa = rho*(vAacom2**.5)*w*lAa*vAacom\n",
    "aero_Aa1 = -aero_Aa\n",
    "aero_Aa2 = 0*aero_Aa\n",
    "daero_Aa = aero_Aa2-aero_Aa1\n",
    "system.addforce((daero_Aa*on+aero_Aa1),vAacom)\n",
    "\n",
    "aero_Ab = rho*(vAbcom2**.5)*w*lAb*vAbcom\n",
    "aero_Ab1 = -aero_Ab\n",
    "aero_Ab2 = 0*aero_Ab\n",
    "daero_Ab = aero_Ab2-aero_Ab1\n",
    "system.addforce((daero_Ab*on+aero_Ab1),vAbcom)\n",
    "\n",
    "aero_Ba = rho*(vBacom2**.5)*w*lBa*vBacom\n",
    "aero_Ba1 = -aero_Ba\n",
    "aero_Ba2 = 0*aero_Ba\n",
    "daero_Ba = aero_Ba2-aero_Ba1\n",
    "system.addforce((daero_Ba*on+aero_Ba1),vBacom)\n",
    "\n",
    "aero_Bb = rho*(vBbcom2**.5)*w*lBb*vBbcom\n",
    "aero_Bb1 = -aero_Bb\n",
    "aero_Bb2 = 0*aero_Bb\n",
    "daero_Bb = aero_Bb2-aero_Bb1\n",
    "system.addforce((daero_Bb*on+aero_Bb1),vBbcom)\n",
    "\n",
    "aero_C = rho*(vCcom2**.5)*w*lC*vCcom\n",
    "aero_C1 = 0*aero_C\n",
    "aero_C2 = -aero_C\n",
    "daero_C = aero_C2-aero_C1\n",
    "system.addforce((daero_C*on+aero_C1),vCcom)\n",
    "\n",
    "aero_D = rho*(vDcom2**.5)*w*lD*vDcom\n",
    "aero_D1 = 0*aero_D\n",
    "aero_D2 = -aero_D\n",
    "daero_D = aero_D2-aero_D1\n",
    "system.addforce((daero_D*on+aero_D1),vDcom)"
   ]
  },
  {
   "cell_type": "code",
   "execution_count": 25,
<<<<<<< Updated upstream
=======
   "id": "parallel-mixer",
>>>>>>> Stashed changes
   "metadata": {},
   "outputs": [
    {
     "data": {
      "text/plain": [
       "<pynamics.force.Force at 0x1f576fd00d0>"
      ]
     },
     "execution_count": 25,
     "metadata": {},
     "output_type": "execute_result"
    }
   ],
   "source": [
    "aero_Aa = rho*abs(vAacom2)*w*lAa*vAacom\n",
    "aero_Aa1 = -aero_Aa\n",
    "aero_Aa2 = 0*aero_Aa\n",
    "daero_Aa = aero_Aa2-aero_Aa1\n",
    "system.addforce((daero_Aa*on+aero_Aa1),vAacom)\n",
    "\n",
    "aero_Ab = rho*abs(vAbcom2)*w*lAb*vAbcom\n",
    "aero_Ab1 = -aero_Ab\n",
    "aero_Ab2 = 0*aero_Ab\n",
    "daero_Ab = aero_Ab2-aero_Ab1\n",
    "system.addforce((daero_Ab*on+aero_Ab1),vAbcom)\n",
    "\n",
    "aero_Ba = rho*abs(vBacom2)*w*lBa*vBacom\n",
    "aero_Ba1 = -aero_Ba\n",
    "aero_Ba2 = 0*aero_Ba\n",
    "daero_Ba = aero_Ba2-aero_Ba1\n",
    "system.addforce((daero_Ba*on+aero_Ba1),vBacom)\n",
    "\n",
    "aero_Bb = rho*abs(vBbcom2)*w*lBb*vBbcom\n",
    "aero_Bb1 = -aero_Bb\n",
    "aero_Bb2 = 0*aero_Bb\n",
    "daero_Bb = aero_Bb2-aero_Bb1\n",
    "system.addforce((daero_Bb*on+aero_Bb1),vBbcom)\n",
    "\n",
    "aero_C = rho*abs(vCcom2)*w*lC*vCcom\n",
    "aero_C1 = 0*aero_C\n",
    "aero_C2 = -aero_C\n",
    "daero_C = aero_C2-aero_C1\n",
    "system.addforce((daero_C*on+aero_C1),vCcom)\n",
    "\n",
    "aero_D = rho*abs(vDcom2)*w*lD*vDcom\n",
    "aero_D1 = 0*aero_D\n",
    "aero_D2 = -aero_D\n",
    "daero_D = aero_D2-aero_D1\n",
    "system.addforce((daero_D*on+aero_D1),vDcom)"
   ]
  },
  {
   "cell_type": "raw",
<<<<<<< Updated upstream
=======
   "id": "international-pointer",
>>>>>>> Stashed changes
   "metadata": {},
   "source": [
    "nvAacom = 1/(vAacom2**.5)*vAacom\n",
    "aero_Aa = rho*vAacom2*w*lAa*nvAacom\n",
    "aero_Aa1 = -aero_Aa\n",
    "aero_Aa2 = 0*aero_Aa\n",
    "daero_Aa = aero_Aa2-aero_Aa1\n",
    "system.addforce((daero_Aa*on+aero_Aa1),vAacom)\n",
    "\n",
    "nvAbcom = 1/(vAbcom2**.5)*vAbcom\n",
    "aero_Ab = rho*vAbcom2*w*lAb*nvAbcom\n",
    "aero_Ab1 = -aero_Ab\n",
    "aero_Ab2 = 0*aero_Ab\n",
    "daero_Ab = aero_Ab2-aero_Ab1\n",
    "system.addforce((daero_Ab*on+aero_Ab1),vAbcom)\n",
    "\n",
    "nvBacom = 1/(vBacom2**.5)*vBacom\n",
    "aero_Ba = rho*vBacom2*w*lBa*nvBacom\n",
    "aero_Ba1 = -aero_Ba\n",
    "aero_Ba2 = 0*aero_Ba\n",
    "daero_Ba = aero_Ba2-aero_Ba1\n",
    "system.addforce((daero_Ba*on+aero_Ba1),vBacom)\n",
    "\n",
    "nvBbcom = 1/(vBbcom2**.5)*vBbcom\n",
    "aero_Bb = rho*vBbcom2*w*lBb*nvBbcom\n",
    "aero_Bb1 = -aero_Bb\n",
    "aero_Bb2 = 0*aero_Bb\n",
    "daero_Bb = aero_Bb2-aero_Bb1\n",
    "system.addforce((daero_Bb*on+aero_Bb1),vBbcom)\n",
    "\n",
    "nvCcom = 1/(vCcom2**.5)*vCcom\n",
    "aero_C = rho*vCcom2*w*lC*nvCcom\n",
    "aero_C1 = 0*aero_C\n",
    "aero_C2 = -aero_C\n",
    "daero_C = aero_C2-aero_C1\n",
    "system.addforce((daero_C*on+aero_C1),vCcom)\n",
    "\n",
    "nvDcom = 1/(vDcom2**.5)*vDcom\n",
    "aero_D = rho*vBbcom2*w*lD*nvDcom\n",
    "aero_D1 = 0*aero_D\n",
    "aero_D2 = -aero_D\n",
    "daero_D = aero_D2-aero_D1\n",
    "system.addforce((daero_D*on+aero_D1),vDcom)"
   ]
  },
  {
   "cell_type": "raw",
<<<<<<< Updated upstream
=======
   "id": "faced-graphic",
>>>>>>> Stashed changes
   "metadata": {},
   "source": [
    "aoa_Aa = sympy.atan2(vAady+tolv,vAadx)\n",
    "aoa_Ab = sympy.atan2(vAbdy+tolv,vAbdx)\n",
    "aoa_Ba = sympy.atan2(vBady+tolv,vBadx)\n",
    "aoa_Bb = sympy.atan2(vBbdy+tolv,vBbdx)\n",
    "aoa_C = sympy.atan2(vCdy+tolv,vCdx)\n",
    "aoa_D = sympy.atan2(vDdy+tolv,vDdx)"
   ]
  },
  {
   "cell_type": "raw",
<<<<<<< Updated upstream
=======
   "id": "serial-ability",
>>>>>>> Stashed changes
   "metadata": {},
   "source": [
    "aero_Aa = rho*vAacom2*sympy.sin(aoa_Aa)*w*lAa*Aa.y\n",
    "daero_Aa = 0-aero_Aa\n",
    "system.addforce((daero_Aa*on+aero_Aa),vAacom)\n",
    "#system.addforce(aero_Aa,vAacom)\n",
    "\n",
    "aero_Ab = rho*vAbcom2*sympy.sin(aoa_Ab)*w*lAb*Ab.y\n",
    "daero_Ab = 0-aero_Ab\n",
    "system.addforce((daero_Ab*on+aero_Ab),vAbcom)\n",
    "#system.addforce(aero_Ab,vAbcom)\n",
    "\n",
    "aero_Ba = rho*vBacom2*sympy.sin(aoa_Ba)*w*lBa*Ba.y\n",
    "daero_Ba = 0-aero_Ba\n",
    "system.addforce((daero_Ba*on+aero_Ba),vBacom)\n",
    "#system.addforce(aero_Ba,vBacom)\n",
    "\n",
    "aero_Bb = rho*vBbcom2*sympy.sin(aoa_Bb)*w*lBb*Bb.y\n",
    "daero_Bb = 0-aero_Bb\n",
    "system.addforce((daero_Bb*on+aero_Bb),vBbcom)\n",
    "#system.addforce(aero_Bb,vBbcom)\n",
    "\n",
    "aero_C = 0\n",
    "daero_C = rho*vCcom2*sympy.sin(aoa_C)*w*lC*C.y\n",
    "system.addforce((daero_C*on+aero_C),vCcom)\n",
    "#system.addforce(aero_C,vCcom)\n",
    "\n",
    "aero_D = 0\n",
    "daero_D = rho*vDcom2*sympy.sin(aoa_D)*w*lD*D.y\n",
    "system.addforce((daero_D*on+aero_D),vDcom)\n",
    "#system.addforce(aero_D,vDcom)"
   ]
  },
  {
   "cell_type": "raw",
<<<<<<< Updated upstream
=======
   "id": "optional-corner",
>>>>>>> Stashed changes
   "metadata": {},
   "source": [
    "# Gravity\n",
    "g = Constant(9.81,'g',system)\n",
    "system.addforcegravity(-g*N.y)"
   ]
  },
  {
   "cell_type": "markdown",
<<<<<<< Updated upstream
=======
   "id": "critical-tennessee",
>>>>>>> Stashed changes
   "metadata": {},
   "source": [
    "## Constraints"
   ]
  },
  {
   "cell_type": "code",
   "execution_count": 26,
<<<<<<< Updated upstream
=======
   "id": "supposed-bracelet",
>>>>>>> Stashed changes
   "metadata": {},
   "outputs": [],
   "source": [
    "# ptipup = 0.547*N.x+0.547*N.y"
   ]
  },
  {
   "cell_type": "code",
   "execution_count": 27,
<<<<<<< Updated upstream
=======
   "id": "vanilla-alfred",
>>>>>>> Stashed changes
   "metadata": {},
   "outputs": [],
   "source": [
    "# Constraints\n",
    "eq_vector = p2A-p2C\n",
    "eq = []\n",
    "eq.append((eq_vector).dot(N.x))\n",
    "eq.append((eq_vector).dot(N.y))\n",
    "eq_d=[(system.derivative(item)) for item in eq]\n",
    "eq_dd=[(system.derivative(item)) for item in eq_d]\n",
    "\n",
    "eq2_vector = Ab.x-Ba.x\n",
    "eq2 = []\n",
    "eq2.append((eq2_vector).dot(N.x))\n",
    "eq2.append((eq2_vector).dot(N.y))\n",
    "eq2_d=[(system.derivative(item)) for item in eq2]\n",
    "eq2_dd=[(system.derivative(item)) for item in eq2_d]"
   ]
  },
  {
   "cell_type": "markdown",
<<<<<<< Updated upstream
=======
   "id": "explicit-latitude",
>>>>>>> Stashed changes
   "metadata": {},
   "source": [
    "## Solve for valid initial condition"
   ]
  },
  {
   "cell_type": "code",
   "execution_count": 28,
<<<<<<< Updated upstream
=======
   "id": "beneficial-recipe",
>>>>>>> Stashed changes
   "metadata": {},
   "outputs": [],
   "source": [
    "# Declare a list of points that will be used for plotting\n",
    "points = [p0, pA, p1, pB, p2A, p3, p4]"
   ]
  },
  {
   "cell_type": "code",
   "execution_count": 29,
<<<<<<< Updated upstream
=======
   "id": "embedded-grain",
>>>>>>> Stashed changes
   "metadata": {},
   "outputs": [],
   "source": [
    "# Identify independent and dependent variables\n",
    "qi = [qAa, qC]\n",
    "qd = [qx, qAb, qBa, qBb, qD]"
   ]
  },
  {
   "cell_type": "code",
   "execution_count": 30,
<<<<<<< Updated upstream
=======
   "id": "flexible-internship",
>>>>>>> Stashed changes
   "metadata": {},
   "outputs": [],
   "source": [
    "# Create a copy of symbolic constants dictionary and add the initial value of qi to it\n",
    "constants = system.constant_values.copy()\n",
    "defined = dict([(item,initialvalues[item]) for item in qi])\n",
    "constants.update(defined)"
   ]
  },
  {
   "cell_type": "code",
   "execution_count": 31,
<<<<<<< Updated upstream
=======
   "id": "august-secretariat",
>>>>>>> Stashed changes
   "metadata": {},
   "outputs": [],
   "source": [
    "# Substitute constants in equation\n",
    "eq = [item.subs(constants) for item in eq]\n",
    "eq2 = [item.subs(constants) for item in eq2]"
   ]
  },
  {
   "cell_type": "code",
   "execution_count": 32,
<<<<<<< Updated upstream
=======
   "id": "false-debate",
>>>>>>> Stashed changes
   "metadata": {},
   "outputs": [],
   "source": [
    "# Convert to numpy array\n",
    "# Sum the error\n",
    "error = (numpy.array(eq)**2).sum() + (numpy.array(eq2)**2).sum()"
   ]
  },
  {
   "cell_type": "code",
   "execution_count": 33,
<<<<<<< Updated upstream
=======
   "id": "optional-recovery",
>>>>>>> Stashed changes
   "metadata": {},
   "outputs": [],
   "source": [
    "# Convert to a function that scipy can use.\n",
    "# Sympy has a “labmdify” function that evaluates an expression, but scipy needs a slightly different format.\n",
    "f = sympy.lambdify(qd,error)\n",
    "\n",
    "def function(args):\n",
    "    return f(*args)"
   ]
  },
  {
   "cell_type": "code",
   "execution_count": 34,
<<<<<<< Updated upstream
=======
   "id": "uniform-gnome",
>>>>>>> Stashed changes
   "metadata": {},
   "outputs": [
    {
     "name": "stderr",
     "output_type": "stream",
     "text": [
      "2021-04-18 19:59:43,999 - pynamics.output - INFO - calculating outputs\n",
      "2021-04-18 19:59:44,002 - pynamics.output - INFO - done calculating outputs\n"
     ]
    },
    {
     "data": {
      "text/plain": [
       "array([[[ 0.        ,  0.        ],\n",
       "        [ 0.03535534, -0.03535534],\n",
       "        [ 0.10606602, -0.10606602],\n",
       "        [ 0.14142136, -0.14142136],\n",
       "        [ 0.21213203, -0.21213203],\n",
       "        [ 0.12324991, -0.14526511],\n",
       "        [ 0.045     ,  0.        ]],\n",
       "\n",
       "       [[ 0.        ,  0.        ],\n",
       "        [ 0.03535534, -0.03535534],\n",
       "        [ 0.02616107,  0.06422109],\n",
       "        [ 0.02156393,  0.11400931],\n",
       "        [ 0.00140551,  0.01606219],\n",
       "        [-0.03327428, -0.14525198],\n",
       "        [ 0.045     ,  0.        ]]])"
      ]
     },
     "execution_count": 34,
     "metadata": {},
     "output_type": "execute_result"
    }
   ],
   "source": [
    "# Take the derivative of the equations to linearize with regard to the velocity variables\n",
    "guess = [initialvalues[item] for item in qd]\n",
    "result = scipy.optimize.minimize(function,guess)\n",
    "if result.fun>1e-3:\n",
    "    raise(Exception(\"out of tolerance\"))\n",
    "ini = []\n",
    "for item in system.get_state_variables():\n",
    "    if item in qd:\n",
    "        ini.append(result.x[qd.index(item)])\n",
    "    else:\n",
    "        ini.append(initialvalues[item])\n",
    "points = PointsOutput(points, constant_values=system.constant_values)\n",
    "points.calc(numpy.array([ini0,ini]))\n",
    "#points.plot_time()"
   ]
  },
  {
   "cell_type": "code",
   "execution_count": 35,
<<<<<<< Updated upstream
=======
   "id": "smart-washer",
>>>>>>> Stashed changes
   "metadata": {},
   "outputs": [
    {
     "data": {
      "text/plain": [
       "1.0549780852160665e-13"
      ]
     },
     "execution_count": 35,
     "metadata": {},
     "output_type": "execute_result"
    }
   ],
   "source": [
    "result.fun"
   ]
  },
  {
   "cell_type": "code",
   "execution_count": 36,
<<<<<<< Updated upstream
=======
   "id": "quarterly-twins",
>>>>>>> Stashed changes
   "metadata": {},
   "outputs": [],
   "source": [
    "# Valid initial condition\n",
    "x = numpy.array([points.y[1][0][0], points.y[1][1][0], points.y[1][2][0], points.y[1][3][0], points.y[1][4][0], points.y[1][5][0], points.y[1][6][0], 0])\n",
    "y = numpy.array([points.y[1][0][1], points.y[1][1][1], points.y[1][2][1], points.y[1][3][1], points.y[1][4][1], points.y[1][5][1], points.y[1][6][1], 0])\n",
    "# prettyplot(x,y)"
   ]
  },
  {
   "cell_type": "markdown",
<<<<<<< Updated upstream
=======
   "id": "difficult-stanley",
>>>>>>> Stashed changes
   "metadata": {},
   "source": [
    "## Solution"
   ]
  },
  {
   "cell_type": "code",
   "execution_count": 37,
<<<<<<< Updated upstream
=======
   "id": "powerful-flash",
>>>>>>> Stashed changes
   "metadata": {},
   "outputs": [
    {
     "name": "stderr",
     "output_type": "stream",
     "text": [
      "2021-04-18 19:59:44,048 - pynamics.system - INFO - getting dynamic equations\n"
     ]
    }
   ],
   "source": [
    "# F=ma\n",
    "f,ma = system.getdynamics()"
   ]
  },
  {
   "cell_type": "code",
   "execution_count": 38,
<<<<<<< Updated upstream
=======
   "id": "absolute-coupon",
>>>>>>> Stashed changes
   "metadata": {},
   "outputs": [
    {
     "name": "stderr",
     "output_type": "stream",
     "text": [
      "2021-04-18 19:59:44,893 - pynamics.system - INFO - solving a = f/m and creating function\n",
      "2021-04-18 19:59:44,908 - pynamics.system - INFO - substituting constrained in Ma-f.\n",
      "2021-04-18 20:00:13,240 - pynamics.system - INFO - done solving a = f/m and creating function\n",
      "2021-04-18 20:00:13,240 - pynamics.system - INFO - calculating function for lambdas\n"
     ]
    }
   ],
   "source": [
    "# Acceleration\n",
    "func1,lambda1 = system.state_space_post_invert(f,ma,eq_dd,return_lambda = True)"
   ]
  },
  {
   "cell_type": "code",
   "execution_count": 39,
<<<<<<< Updated upstream
=======
   "id": "falling-motorcycle",
>>>>>>> Stashed changes
   "metadata": {},
   "outputs": [],
   "source": [
    "# Integration Tolerance\n",
    "tol = 1e-4"
   ]
  },
  {
   "cell_type": "code",
   "execution_count": 40,
<<<<<<< Updated upstream
=======
   "id": "intelligent-cathedral",
>>>>>>> Stashed changes
   "metadata": {},
   "outputs": [],
   "source": [
    "# Time\n",
    "tinitial = 0\n",
    "tfinal = 1\n",
    "#tfinal = 4 # torque off\n",
    "fps = 30\n",
    "tstep = 1/fps\n",
    "t = numpy.r_[tinitial:tfinal:tstep]"
   ]
  },
  {
   "cell_type": "code",
   "execution_count": 41,
<<<<<<< Updated upstream
=======
   "id": "hidden-cause",
>>>>>>> Stashed changes
   "metadata": {},
   "outputs": [
    {
     "name": "stderr",
     "output_type": "stream",
     "text": [
      "2021-04-18 20:00:13,285 - pynamics.integration - INFO - beginning integration\n",
      "2021-04-18 20:00:13,286 - pynamics.system - INFO - integration at time 0000.00\n",
      "2021-04-18 20:01:05,470 - pynamics.system - INFO - integration at time 0000.12\n",
      "2021-04-18 20:01:57,814 - pynamics.system - INFO - integration at time 0000.48\n",
      "2021-04-18 20:02:06,237 - pynamics.integration - INFO - finished integration\n"
     ]
    }
   ],
   "source": [
    "# Integrate\n",
    "states=pynamics.integration.integrate(func1,ini,t,rtol=tol,atol=tol, args=({'constants':system.constant_values},))"
   ]
  },
  {
   "cell_type": "code",
<<<<<<< Updated upstream
   "execution_count": null,
=======
   "execution_count": 42,
   "id": "recorded-eleven",
>>>>>>> Stashed changes
   "metadata": {},
   "outputs": [
    {
     "data": {
      "text/plain": [
       "<matplotlib.legend.Legend at 0x1f57892adc0>"
      ]
     },
     "execution_count": 42,
     "metadata": {},
     "output_type": "execute_result"
    },
    {
     "data": {
      "image/png": "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\n",
      "text/plain": [
       "<Figure size 432x288 with 1 Axes>"
      ]
     },
     "metadata": {
      "needs_background": "light"
     },
     "output_type": "display_data"
    }
   ],
   "source": [
    "# Outputs\n",
    "plt.figure()\n",
    "artists = plt.plot(t,states[:,:4])\n",
    "plt.legend(artists,['qAa','qAb','qBa','qBb','qC','qD'])"
   ]
  },
  {
   "cell_type": "raw",
<<<<<<< Updated upstream
=======
   "id": "increasing-representation",
>>>>>>> Stashed changes
   "metadata": {},
   "source": [
    "# Energy\n",
    "KE = system.get_KE()\n",
    "PE = system.getPEGravity(p0) - system.getPESprings()\n",
    "energy_output = Output([KE-PE],system)\n",
    "energy_output.calc(states)\n",
    "energy_output.plot_time()"
   ]
  },
  {
   "cell_type": "code",
<<<<<<< Updated upstream
   "execution_count": null,
=======
   "execution_count": 43,
   "id": "compressed-powder",
>>>>>>> Stashed changes
   "metadata": {},
   "outputs": [
    {
     "name": "stderr",
     "output_type": "stream",
     "text": [
      "2021-04-18 20:02:06,438 - pynamics.output - INFO - calculating outputs\n",
      "2021-04-18 20:02:06,444 - pynamics.output - INFO - done calculating outputs\n"
     ]
    },
    {
     "data": {
      "image/png": "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\n",
      "text/plain": [
       "<Figure size 432x288 with 1 Axes>"
      ]
     },
     "metadata": {
      "needs_background": "light"
     },
     "output_type": "display_data"
    }
   ],
   "source": [
    "# Motion\n",
    "points = [p0,pA,p1,pB,p2A,p3,p4]\n",
    "points_output = PointsOutput(points,system)\n",
    "y = points_output.calc(states)\n",
    "points_output.plot_time(20)"
   ]
  },
  {
   "cell_type": "code",
<<<<<<< Updated upstream
   "execution_count": null,
=======
   "execution_count": 44,
   "id": "front-portrait",
>>>>>>> Stashed changes
   "metadata": {},
   "outputs": [
    {
     "data": {
      "image/png": "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\n",
      "text/plain": [
       "<Figure size 432x288 with 1 Axes>"
      ]
     },
     "metadata": {
      "needs_background": "light"
     },
     "output_type": "display_data"
    }
   ],
   "source": [
    "# Motion Animation\n",
    "points_output.animate(fps = fps,movie_name = 'render.mp4',lw=2,marker='o',color=(1,0,0,1),linestyle='-')"
   ]
  },
  {
   "cell_type": "code",
<<<<<<< Updated upstream
   "execution_count": null,
=======
   "execution_count": 45,
   "id": "french-tracker",
>>>>>>> Stashed changes
   "metadata": {},
   "outputs": [
    {
     "data": {
      "text/html": [
       "<video width=\"432\" height=\"288\" controls autoplay loop>\n",
       "  <source type=\"video/mp4\" src=\"data:video/mp4;base64,AAAAIGZ0eXBNNFYgAAACAE00ViBpc29taXNvMmF2YzEAAAAIZnJlZQAAMk1tZGF0AAACrgYF//+q\n",
       "3EXpvebZSLeWLNgg2SPu73gyNjQgLSBjb3JlIDE2MSByMzAzMyAwZDc1NGVjIC0gSC4yNjQvTVBF\n",
       "Ry00IEFWQyBjb2RlYyAtIENvcHlsZWZ0IDIwMDMtMjAyMCAtIGh0dHA6Ly93d3cudmlkZW9sYW4u\n",
       "b3JnL3gyNjQuaHRtbCAtIG9wdGlvbnM6IGNhYmFjPTEgcmVmPTMgZGVibG9jaz0xOjA6MCBhbmFs\n",
       "eXNlPTB4MzoweDExMyBtZT1oZXggc3VibWU9NyBwc3k9MSBwc3lfcmQ9MS4wMDowLjAwIG1peGVk\n",
       "X3JlZj0xIG1lX3JhbmdlPTE2IGNocm9tYV9tZT0xIHRyZWxsaXM9MSA4eDhkY3Q9MSBjcW09MCBk\n",
       "ZWFkem9uZT0yMSwxMSBmYXN0X3Bza2lwPTEgY2hyb21hX3FwX29mZnNldD0tMiB0aHJlYWRzPTkg\n",
       "bG9va2FoZWFkX3RocmVhZHM9MSBzbGljZWRfdGhyZWFkcz0wIG5yPTAgZGVjaW1hdGU9MSBpbnRl\n",
       "cmxhY2VkPTAgYmx1cmF5X2NvbXBhdD0wIGNvbnN0cmFpbmVkX2ludHJhPTAgYmZyYW1lcz0zIGJf\n",
       "cHlyYW1pZD0yIGJfYWRhcHQ9MSBiX2JpYXM9MCBkaXJlY3Q9MSB3ZWlnaHRiPTEgb3Blbl9nb3A9\n",
       "MCB3ZWlnaHRwPTIga2V5aW50PTI1MCBrZXlpbnRfbWluPTI1IHNjZW5lY3V0PTQwIGludHJhX3Jl\n",
       "ZnJlc2g9MCByY19sb29rYWhlYWQ9NDAgcmM9Y3JmIG1idHJlZT0xIGNyZj0yMy4wIHFjb21wPTAu\n",
       "NjAgcXBtaW49MCBxcG1heD02OSBxcHN0ZXA9NCBpcF9yYXRpbz0xLjQwIGFxPTE6MS4wMACAAAAN\n",
       "A2WIhAA3//728P4FNjuY0JcRzeidMx+/Fbi6NDe9zgAAAwAAN9zmRP7KkwbmwAAC4DBVsM7O2mIA\n",
       "iNiYA7SZjLjbhUialSrXP7oX2LYTeFgdN2T8pS6Fnj5AcZ2waD7qxWNH0hj4N7Ll5Utw7usw6PAL\n",
       "T258hTWbP9YkV9F8V1doV6P0nCgR+a6N4Fl8VmWPsVs+pIO6QC7bOQAHnHwvQ8YyCkqhkqAmQIUs\n",
       "clxXz2tBtiiSusBsQrzl/R3f0m/MTDMn59JS1Il86Y6hHAOqaXfT5zUL7YRPpvIgoauGDZ1zcA2o\n",
       "FSIsc128spHKf0XJI3I1c/j7rmPr24/l8F5fnPkSLW0uxp+7M5HnnKKbcmZH85PTq/zrhS+JdCxX\n",
       "aSjpRmKgOn4GSaTEt7AXYjotD+v9yF+KmwDeWUfiTCvfT/+9oAl8BqP/Nc09e1RcdJ3TpreJnxtP\n",
       "7Jl+9vhqU9GTlnewO5FNT9V6fqi98FjmkM/fksH+IytxqA1VvBdmcsMYLUyQ7pjvyD6jo+szk5au\n",
       "HNd/c9FtuB5xEoxgUNJJSHRhHTU9xsQWkl/9xJO31A9vH0iq3nybw4Rs9Ae13RNJnAGLf/5tahaR\n",
       "TtnKd1AjE2oAVwKp0YgdLnCZocQscFpnvzTz3zTwdYwF5HqSeAdEOQCbikWGNmJ5HvEVohEnDzel\n",
       "MjCuoeGYdZMkrj34rpeetzjoong6NEtaPJBOFFpLXqK9+E6SiaeGFLSqT+MN9I5eZtaAIjGcSgrk\n",
       "psh6+XTk9RDxLsPgUeZ6fC4bdPO3Q8yx0SL7Z18R/LI1x9j/m3v4qMHkcQDg6K0RH2j/y0BfHT+K\n",
       "BFe3rOBXU3jayRPi3wb3MT8nWPGTIS9GE1dmKUM8yNyHEGPuqFuinWJT03qNsKOoPUWWAEGmHHKT\n",
       "nsD/2VteliedVH4VTe207hliksLITM71mJb1wbF02tFWZYqKq1zMhTPz38QXPeC9tq91L9SUmUsU\n",
       "m7vh56Spha1r18TM3Trj2+jNmlcMLwxeLhNIATFFkz9Z904CfeXVGCh8JQQct1aSETFA1VuInAxo\n",
       "wlXdu7QF6xiIaVeAHjsESZvwyG2QnUTDnlAAXqWZNXbXHhpv3JxClN8P961NYs6zKYDLdGGIMO7L\n",
       "mpYnPGxBrBGUKW/6VC7JF80KzocYzlrk//5uumCtgqRyjnEuFzSbVrpC2W0/YDEHTdHhSHoK6LBu\n",
       "reQxZBJbFgKVFuZ6SY6FrJWd98/Q03YZDVyfWMYsGbbpCTxc3hEHpGKKTdnP3zgpYAKnL5LHUSDm\n",
       "B2M4vlruigQkGyAPy2t1fWONhVNm6hbtYVOw0iiwyxtfnJcmnD4ToExi1fyYLw5MAxmbOHxh6NBD\n",
       "z4TrVGQNl7Og4E+cAxvFgNZ0535P3dLROvzqu4wVJbe+f3isdzn8aoR68FEer5GV13fgClhpOzds\n",
       "bpC+BfJxEYUOYoZwwEk/dd7Q9g7/wn3HzHAO8HmXSZwWOaFfh6RuZ/BQrDLbhHZUW6RQqEbgxipz\n",
       "9liWSQY0c0vWSVlOl317EFTbEknKjt3hW7SpGM5TIP84XsyTdnAn4X7NzLKP68G+POeTHT/6mWqT\n",
       "5pgwaZRIdCsGWXsAIzB2fEhGzeiC3vRE4s2LIIzDnAitSplpM0IIMEBvDbMiKVpTvj4fYUgzVYGV\n",
       "oDG7Q+VlF+pU3SZtiloGjaaEA08yNifk6E8GHcRnxKPa7J46SWVq65f5EDRhi2Ibkhw1h6F8meTo\n",
       "oWmTEbAHQolAqkZ/g/6nVeO+ycuQp4okzaQm3Cs/87FmgTywrX4BAdSg81M3mq6dIonN3rmBFt+t\n",
       "4ONbQBHg4KckRgpO6r1raq9MbGX/lVM24Z2Zm3RdG+XvCltA/Ea5mEmqAWA6teYnuHkNv12IGJXc\n",
       "7RxLpFLKcCjaKyErdPqKBYsJRJbc1XDUqMtMfiKjaQMHlQbFwCHPR7wQLj9TeBNkhFpRnfMe8ht0\n",
       "5jAfDjdktkvnRttYKwCu4/Z62tkfHERujHGcRHHZzZQ8yRs8qajgxK+hAZf1/zOJ3JkAO+m1Jmrw\n",
       "R2abqhfXek/GysCchei8SnWGoRbJvkLbkK9XIf9fOaNqMqJLicoFAjYFCVwVaHYAGSCsdNtpZQxB\n",
       "mNkzbjmJlgs3xk60dAjH83/P3jeFQNOWeuyEbCA6FdUSGhadwi7gSKxBz0uKJ7n4PJdmrVQmzbWP\n",
       "3L/aneZmOrD5S5TlZ7rOxYhl4TOTzAZNg4d+OwDmEFFRbztBGdoPa+73IVjtmoqaduQF6Dc9N5IC\n",
       "aPiU1iLHh/hsq9mrtMwU13eY7mvsqqiB/3WmWKAtVfsvqAnGh4xQ2rAuSRCki77uUSR0lDprUyxV\n",
       "PS0oZZli1mCED00fLcW/43S23osGLIfTIClmS7FE8Ccn/OQSAZNGM5nQI3gGbfW03plANL+pscey\n",
       "Bo8IFwxedFhAokv+isHCkAUvYp5KDMJbdQSt4QT91pfIAGVIjnqSd2UZRLvTPcMCyLQDJq13t9Xj\n",
       "QkWbJPl75Ky2KOR9Rmg4ACypV+0yJyeEwHjrRmb4J6dYdHpYBnXGq3kE31AZcvaF98tWuLCH6IRK\n",
       "erMDPsWE/ehqW1xOux/iHLF5Im7O5P7CpnWAIXYWLgB0VH4khwiUGc+076Ho0AJt1SpeXk7ffrUG\n",
       "X1p1gesAhYW4Htgr30VS4prBFIi9Ujyk1E+NSIb0HDPgZoWuVfROBTqdP3KsXf8MLWuTe0TphF4T\n",
       "CFiUUw3I0Bho+awHdq/FZZa7PijKt5l5hjJNlt35ETURZxWsI7nqC9reP6iHhwBZXL4TPVpp09dn\n",
       "j927VbKZVhTeQ3LgMeVg7RbPAaFEnkeE7xn0qj5FBU7Jo5sDyCF1xpyehfAVvZyrjEdxTDSSyU/n\n",
       "8xYl0XH2hO6nlCJcd6rRqm5WjKjPyjRoz4OoM+hhgP2fUc1eN/k0QcrVNQfA8ttavGCEhqGvn3tV\n",
       "2EzjGYhE8ZhCMRqHUVtkTkdXVW3yJhBzT8G0D/Nqw63iyMKV5tU3Ys5w+mzNSx87Ra9yKvKnqGJi\n",
       "6XsW2ywmQR82XWFXXCXtJ8ArpBR6vxQzz7HJ4DcAKJ7oQXHawpt1PCVt57C2ZAKHPVBCPyviMg1r\n",
       "df5P2Da8LMQ6Ya08X4lx32NYmS6KoYEJv+6HNIy4Nr1DT8vbh4vQCtSMnau2Tzq4m4L+sOl1mSV8\n",
       "FWofXsyVNQaocn32Vz0MrCrgMSoOr8sHkDESPhNEDkmDwPLcexyQbUDeSCX3lda/LrHdphvK+KuU\n",
       "7ixLq8ywYYz6uowrV2fghtKAf8n2XCKgNlwN7GNGe0XdkoEzH93JpIhnjN177sVhXDKhB/uJ4PIo\n",
       "cSYNTHnrycHjeevG6hCcOLI1Z05kz+B313+Lsl89YUDyvzuorL5PrRMC+KAOLBy3+TFbqvtgUQny\n",
       "K95vpNSnN+YZbth3E0W7on7VQ3JZSMyAdogqobmwwqjwKPMMo3ZVtZNueUwtvWwr0LgBYI6XYjya\n",
       "46ynxhFwZWNvCyalR1tVM/wicVNfvZ3mfrsWPvvkvvF6hW+0abj01BsvEAbpHc/rrYmQ7GjBllZ5\n",
       "YP6XXykpUqkv9uMMKGLBca8KZUAOAAsqVftSVO+2qnwWsgoE7Thc/2Pqc1EVPGpIAlWz8u3JosO3\n",
       "N/fWqDUcES+XDZpJZpeqriYgL1yXeCav//lX14iEsP7zRy1ELZlcQ+NkynT07au6sYbGOix4pAAA\n",
       "EbScErhgWdpUFvdV/jaFkjj+8E9YLB4qMJyVc8oR76phHLEgaxKn5dFyDcexEqkTETZPyqUVmgs7\n",
       "la3Uc8Wm/kysTK3uDQQke7yDOWg/CoekY2sqlHz56Mh6YummeBnwE/yagKh1NQDeoLFR7siQi5AL\n",
       "b9CUhlzJYyLJkDArZaG/z6X4hLyk4z2cOZM9zDoql/+CW2hZrvmBu070kiCqQOpsJ5eoxGnH1Jnb\n",
       "zxTn9BQIJg+rdISagiZk8lIGpjazdjmqnPg5nzvmWgIrNbc3wufAPbImeK33cJNIEbVs/UjjLfta\n",
       "b6PGaiMqnApR4EKVwXQ+VSoH0zVlSn4QmS80It/NkVVkQIqQB5qAF21UF4IKMIroAeUWk2HnW4UG\n",
       "dKvGYtgEFpP+7ASoEete1llL5h1VuvSEFaLZqVoqEnXtBIZOP4VixXfuwGYJpm2AkqfIAxN/dbgb\n",
       "61cLkqUAGuoSMltZPHWQooMIo6r8+tKi+fHmy/aD0rDR05hV2QX2ZidamxDiSRsS3YIF/bH3PXlC\n",
       "AVWqhZ4jAEfgb0w0UFnnh3I/JGgL2zf1jqbWtFSRJ3HdVrfbSonREmlNtkBMmA49kgKB+qktTLha\n",
       "lTlhfxJVOECDkrn3pN5cYpGj/X+hZYoMSyO72Y93oggYp8gA0u3iCgVSdO0dBvtKrG3kbdRgyckk\n",
       "A1imvCwuc/a7Dq/dALVenPwAAHWguEYfFvEAAAbDQZokbEM//p4QH7xYmDQ5WcTkWgEm07qVJ4Bg\n",
       "RfNP2q6nF/ed8YfZ2FriLBeO9Ay6Pj/IUB48/G0VD8uXf2RxwTT0nZTzxzn5u7nQC5mbAzhqT48k\n",
       "Wzbda6X/II4vTErsCFr82ABWTOkBxOGYEGRxjm/m13DGyWZHXTF0S6rt45+ywv7+n2KWJ0AFYB+y\n",
       "wk5SREqIls89QFJlLVxiXAcMux8icOveRGv0YLOJNQdrKcmNwEAfhgau4Write6RnQmhpwi/h80g\n",
       "Xcl9uZEC8uGmcnPRvMl1SCO4D7UA9VdyKYkT7LxGHq/PfTgTyPYTkYvWGQzWKNXBZdOoP6OrJya9\n",
       "QLp/p/nOGm/K/qGBm0uez4528ClCA/NDdKiXC1Ad5oU6Z0ZSoFmK+APgCGYDNKN6OIp4t7KW/js7\n",
       "ybD0YT4dtS0FqxOAVauggA2PpiTeyjhyTf0ju4IFNeeZG1HTdFapTxZHZ4LhHqUVYEvZkZz5QOGw\n",
       "Bb82/YeYMRtvvllXPj8kFMgf8L4enlKxNGq8Ve9A4d9jiwOIgudlD0cgZRif7s1+jjaFmmroh0PV\n",
       "KRn6PjzDtmiMeqMqSLfS3GOk2HjvLiLxY4gs+UulG4tZKy4A/JyRdnPwocDXCSGDaoDC0t9ZDJJf\n",
       "smlifPAD/3P/98L1c/X4mAnA0WIwcG/kPCz5G2awoQPnTCMl2yPCuSdzfuQB20jPKCZBo0EtwLmo\n",
       "8mSrpDc1N644BWfnavSfwvmbRuXS/tYW13+lfu4YmJ3l47ADIfxgIKi3kRq8QqQTAO25k2wBMpWY\n",
       "MIMfXItfbPqESYkVkP9OXCe1AYjx0u9i7CKxoz2T4x2onEDZ0oRpzkODMARUAPHNRj2FqH55wDvL\n",
       "xbaZ1d5qooOWso2Orvlp2yIyAwf3kPbECQYrZ009wbJQdWRYiGFRY+CeGFSluDsL/ru/na3ZrkkB\n",
       "eCgggXBvcFl7tdZzgYC9I8/sRBKeJhhgB6QAqDh3TFAN0XYg/GEZ3/olHT81Wxc2MG6ifsktOfbp\n",
       "QhorfENHwqzcRW0z7bNvMZdB1ecx5hwsT8+lEAPAg36aJb4S03FnmP/9mjTkGrWWj22i2OvlU2MS\n",
       "XrRFhvcz2e7bos1Wiq9Zukx30FKr4yZ9BrEN/gAwCQb9GSxEvEv37Hi1/+XRzAks8fj1Y3NES2pT\n",
       "fSC78CIxE4bkmFSgXfOwAxLwTgRA+ftbjtN7gNQY3ntCgB5jRGdtU/qML/LZ5Xf79iw0qgz2FBbm\n",
       "PZBHXdyZ+LtMr/8hPyg3MOpogTFAXLhI8bm4WgUqarcq3X8Py27Kt6Ddj3W7QyEPnp3noVmWsbbm\n",
       "Eu1ihieorVcLgQ5SEVYdgi0q6dj9WJ/No5sQL6yNUUPQwWPaCCDMTf9dR5mKg1mwN19oYFdUkm2X\n",
       "6zJavdyzal1tlMwwCBs7R+PulP26gzLD0qOlZsG+y4ITDiN63PsfoH0qdVOmBPchhocVgHw0Tue1\n",
       "XLRE4mhZoTW42X4KGVJcSQG03nB9eLMq3jTzrUI4P0FOg0otc+ZleFcnkEFFZX84j5QmHrAPYkyt\n",
       "ZdFTbOo3W+i2WuhBUZdffT4IPiiPgKsf11T8ka5tpKRqnk/TQpNcDyMBPuiMhRrLLG+zjjydxbZS\n",
       "dlF3tC9UujgACUiZmcaUHZuoZkVF07vZHhfpuMVJnR56y7xkEV5gTgJYQnWHcCKU5GO+6DRJ+IdX\n",
       "BX6xhdxpX/pbljO4wzKhYRnH4MzfCm/cd4he9UBtauEENu9tHhlxdZEnYr0JhYVAIoxl1ehX5/Mh\n",
       "kFPwqzXCIJ6R62Osag5URcF8UJLTb3qcnoCppLxiE/hxzMsaShaF0qHR0DiH+8NS33Pk4l7pwYib\n",
       "+Nx9XAkBh51pITKf7FmxYBf6TciXnnB3OyExtCtHiwjGAbKJgNb61Gkm7MxHTjIGx8HGyB6b2zv1\n",
       "cfXiSPdB2SUmGwF4HXksg4kaDH+ZvogIjGMmFnyNG1hbPdcSUm0gejk2SAwyMbtgIF4nO+6ZMPiJ\n",
       "DlRQj6Kfjh5GcIDhGEk1GPr/gajxTOmXPNQpSPUdoYAAF5oL8mFJec7qF7u/tOf/1P+mLX//9i83\n",
       "lLfSdJnrcAcpbUoeem0xdwjmJAy2sak8Je8twiV0K7zC9gsDr/euDCu7K/d2I4KU32m4gUAneVTR\n",
       "bWaOEe2S269csV9gq4UWwkctQ/9Iix6eUyYPW2FvtvRuGIwn1+DQJL9NRiT1+MixtKLknjfZ7bIu\n",
       "N3yAIrKM3/kRlOVxN2NM0XfcsASr7hPd/umNjktPtAt0XP8lpT5ad8pC07fDDYrWBvPAAAADP0Ge\n",
       "QniFfwEmj8DmD+Y2ye11z2WlLGdzCLcb2GwvoBYSXR1s9xZgdARxfLyEk6TPw19a4epMK8g9vsvL\n",
       "o6rwDPh/fPVpfRuaV7eYqm8nrYzU7erv0sR/74Vas7npxgMq3IvRrhfE2/3o6ggCNilEzvAZdfMc\n",
       "ozQZ9gvVYyorPgsHzkL+g5ciaDwmGJz9kZgIhEexgP5PPWu6rY4XAvfk/8S/MkrDGijOp7PASoi7\n",
       "fqWk7CajD28WBogoTYLFPZynfxzaDxEJBlIDamzyMBUq0wnI07trO2LeX0gkwyabfXVq7q0GmquS\n",
       "IirK5p124tLy52yaMBeBxbG2T9UucI94M30GUkAfP2sIi/FgoLZ0iBnSCd01zAjsnsrMqlzV4BtA\n",
       "82WdTZjs/WygHjULHeoQgY1lD27FN4Ui40mpImnQv+n0WtmZ4ZgTpCkOHYmeLjtcUyvDRWLV8/yS\n",
       "ADhhGT0FhJj31fJVFh1YuUvSWRmI2pVZRauszOyxFAkpvRwM7C8it9fp6t4fAHlJAahzKjbYNYNa\n",
       "qj97+1ZP00XZCw5EEVYCaXvY/0JeO7UucX0WIBUV5NrGyh7H1cDor4mUT/k77/ndqMTIYw4i7Yk7\n",
       "dFRIc/KSris9QYbhGolqHgNMn+qXYePh2fwvJtNCX5vH4W95dzorIpjBUTRscSj/MDb8zuEr4djD\n",
       "FoGCFnXLu96sVkjU/f8L+cfQRsQQJGnNSHUIYEfN4zk/bxE8RPHv/a9FeN/+FeZoqT1g8NFKwqTd\n",
       "RSqYLrUFRWW99mSOmELM3j3o8H4BAoZ3ayBFAoXH8pQ65mpRia+F21y9BI5ayFtml/HhJAiyo2e+\n",
       "seiKcWAtTHx7BWLNpZ5RMnPQscoy85H/xrLcPQqrQrAyFqiKGoHTfHjbd4NY3nd2V4TAHYJJ9qzz\n",
       "nB8KJ//pPDBGFSQ6gkEZPpUuCxWQreaiQREMVh3K6gQYAJzAUeT+OzLCBds4ns2vd2+XSNWLypH1\n",
       "WwDmPXsjHPIHWp5+d18m+f92q44j3F309KaumcTUJKqNyxEL/5Jla9MnbkJu/Zc25bdr9lIPJZCF\n",
       "OFTpvf4IcGWwvLCOA2RBZjDQlUjqAFPMuaLvtdGryQAABAcBnmF0Qn8BfEU7xn7P+y3HKEexoATV\n",
       "5btVnkrrftDLLszrg0GFoiOq5lFB7E8jj4aNIl4Yz3d/M0yy1IWY6W+vbzA5YCTnHt/wQaoPk3L2\n",
       "tGZhY+tVEkj+KbbTNboUrwExwbdJDw4QK7x2hgEMbJsktQTvGS7VRbE16oWDZjCOA6kxa1Zv15hK\n",
       "sorCeSvupHMKBCkLbS0ToXEJuIsy/KvypePRKQWOzUM0vDSy7Dm+d523AdFi4xn+reXU+bSdLn4f\n",
       "Y3qsZRhUjXeaAhg7i7aAwaLdYPXWy5Gbr0UfGnQ3yWhOdnyHR4VemJBSTC56VxnSfiWIPj8h+7rS\n",
       "qLpZIYJ6L5ExlKC6aEGuGUgf7GRGk0kLCcwhKOo877M+JRDIgJVqrVlMmSRSFUpvwc+p/6Zfoiqh\n",
       "LA2Py72F9SF4Wmgwtf0sGC8AZhCow3QbPbZXef/fn13JSJ+UncKPd4OO7PvImaXBOUvRiYlqjEqa\n",
       "UDmGmh1lhTJgMYJ4kWzPbf2CNhOrbetvrrnSlDjnTSTsQsV7Xxb2GxGE4dGkZcbSnbChdQFjZo/o\n",
       "+Atc9rltDRUSUbn+9/nxKZDl2+aMTZh8r8c3dwuR6ptx3xwK+bNGXLlmWPVhGjVdS+xkrmt+sVA9\n",
       "q0K0L5JyIRqh4XYh7KeS5vmIkxjHb3A3uKBCWRzx3oAxxFBGfNaPCxAUh7lXFEHnMXOCPgNcPyLF\n",
       "hgu7pxn4KCvsv8pmm5wQzTAwkg4lEzU3a9CZ16fU8BajHQVc4i/jn89U3p4aiiVR5uCKUIRUtYbr\n",
       "0QS+Qbrcrq2x34Fq/xV6MhsN84WkU1g7zmbGtbctp9iUyQOOXSmTtWYa6Ig91DHSt2QWdnsDAB4b\n",
       "/zWvzOxAGYUpZv78I+9jXuSZ++kMQKUaTKeoYbxMRBpH6sJKsYKrG9/3IyM0XoCgn5F4H6j2wDxf\n",
       "C38IBO+UobMz27M52vHkhQq617KhuLBW7fGtUC2EJFOcjk2vRd7XWQhjDz5AOentPuPFpt5j3niE\n",
       "19SPgVKD8YfX7daawxofFW8MFzJUmXqoQg7FkUkLdi1/iXTnVk8Yws6XTuQ2mhVAu6+gCZ2lj5Gc\n",
       "TypDxQvLQBAoYaWTIqP9NWUlU52gJSTr9zBNKId1plhoAeR5BesLNbmVuCMWdFDGTn1OAz28UPUI\n",
       "BaiRV3dUtOOFuHuEKJX4jjAorMfD5ZTivJvOoR/h1MehdSDAWkbYohlXnuV6VKEPQ8mL5cjAQCK+\n",
       "0j0ZSktnnU3R1L3+1siyP2U/evQYSf6naeeplgHFciCD7cZbx9gVBTk56kh3Szuycm08OYNWwpWz\n",
       "QNaceakBznCdcMHLpegD1JmGEN+94/QVPbEFstrfKvh5FoDSoQ2fSAAAAyoBnmNqQn8BWLghW4Sp\n",
       "+wjnnfJ7u+sM1LoHPyo8AJrHIG218jHSMXHAOyTcdnHwCZk90aUv+PW+nFAzuuGiCujMqWkD/Lui\n",
       "Bum+vkkhVurdJh1SLoJK1SzWQCvx3RJnxCXnzNW3G0OZPlq6R+QGn2kbOpB9kQPmGFnX3+thtZDi\n",
       "799Wp7YPePE1Ot/YmcIAjsTjc0YVnN460FnGYucnJqwvSspXvRuD9hWwUtmF4uHUOaU6iZ/wi+Sl\n",
       "b4VfKGrrX81GxcFj2FPqKNVGP7SINoLJNGw6/wfnCiYOrImhktNWpqcg++7bX/l0NUTAOqHN2LUu\n",
       "zZP13ORHS9N2MM7ZKnabYqBT6AFCx8GKNHDXzdB2/S/vFd/QSNMnjD9vcyRaPhw3dPa+t6vq2fjP\n",
       "oPYOFXRBZsbaQTuUmu2QkTUTUPghe7eUjZB/X+RImc3EuH8PvFunrB2MgejOq5QegxRbbDlVbXyj\n",
       "6/3+aU41MKL0/8eDjfbq8ARcfAyTZYtZXtqbF/3iV2EeASjlZVTsGGJRTXt1Z0kHglSetZtSLWss\n",
       "/WKV6Yo++cz1OZB1x9uYD4/K/Gz3fOtygcYTxOzpy25vd5Wpw64WK6XMhoWncmgRHzRuysv3IteO\n",
       "8nINVTsN8kknPczFyf6fOCRSmUodilOH1C/aZaEtrmMxY4Ou9z1SUoq+IgO7dWa9EIC3xUCRXeov\n",
       "0NGXu/YzUoEcleKpkd73IbNqmvAB8kzME62zxcqpEgLa4EKqGzOJw//ZyVoYcpfITI7DnYLFo2aZ\n",
       "56YPAChyFykoupyPbegdHwkttj7JfhIWs3ICcItaz5iVffW3I2j8ONimrP8p1xEowS17oOVSBTKF\n",
       "FcuUnZatrGPslBIr0fuGgI4AAX/cxSdX9FnLuu7tQ1E2y4OXgoIj9qtvsJGvC74PVMuE+RE6dekJ\n",
       "Klq/TQATnuHsuwenwr9x+EL+tdm6mDIdbeYaKtBSth1MimDJKXu4WOa0X0GlWoPyQQ0KhM8VX2N6\n",
       "dWzgYdNfwjzmWcs2rxNbYp+mAmzkuBRiaLa8JnCRvrBXxoBKQ/C2yG3yNy0VNl0Myo/NNAXWop0A\n",
       "AALBQZplSahBaJlMCGf//p4QI9sd+iBQ2IvxqTlxC7Uc1ahAYBtqQ0MSJJZRwIQijF41u8E9Ff5G\n",
       "9FZDpdrDP7Jk8qxbBftS/980oBpocoQWHbpwFSo1fQEFnHfyZU4GSvgIbWuZPVYEIGRrc/tu/E+6\n",
       "gJ90J5Qm7BAWm5wpMoIwHbPNl2TpVGGzjfD4xMNThq7uXoBxsRtwAto8uKwLntEiqj1ZUGe91Kh9\n",
       "Srj8HJtCQ1FxrFBQrqUl+A6Xwm9h29Q7wYnd/hz1lEHUBZvyMllsdppupNg2COE7YBwRTQvmAuAV\n",
       "7OjPawXPtm7uTZ5LY35D47V8YWsPxfZOHa//JyWMBeaUQYy6z0kD/RtwnGGmgIa0XAEqDdbQLibM\n",
       "vBPuBwVJ61aR6u3nC8QFUjZRurVAmIxGRA2bT1nM996KhsTnwwkP9SbP2QK4IIGAmAdc6AkwPyQS\n",
       "wBEbIMqUz8gUxR1b3iuq8igfsa+cC0NFBEPM/Gmt0RFqwiLGuZmRH+hqac6CmQO79rJB8q7auWL0\n",
       "Zr4981xkNQSB/N1hKN0NXew8tiOLjIp83bqhJh5GapTjx//5qTHoMw0dS/BE/pJfrWTgglUmCSbK\n",
       "BTO/dcINO7MLNoewLCyvKLirJqjvo3KkYpJlZ387Q34HWrs5lMo/9MJUKPa9pdPoFKS8Zp0k494K\n",
       "rCYMLxxivKXYS+Tx6ZEAXXuNszOZ6oB/3HJ99Jsf9ZSD0s/MeyT3C/nHqW6AYnyQ5TxK1KtJHeKV\n",
       "75NsnrOlEnAh+5IqwuoHT7wJYMmviBi9UNGC9KwD/LFOmIrnntpjQdw+rpxUeEheYNBB437vIb89\n",
       "0ZZ3PjG6KCOImXGnL1aUw9vW1aeCizrhMIdf72ODLksIk5N3VP1yEmyJACDR3eeX2ObEHWV2q5Kw\n",
       "IasoF/0juEvhHVnBWUnjdYRNtWx35YEpAAACMUGahknhClJlMCG//qeEACw4wB1ulcFfs9yOeso9\n",
       "AsYe23JpjP5+HgaL2CjZmi4AzS0DG+zSL3lwqtOwZCHfTrKQYAi2YHcAxiIW/qqjrtckUbLC3bCL\n",
       "smba4gXO90WVdqSFPgsdhyYedIVo+9ENy6V3RWHNgfUGhMKwsCFogPZ2nhNRb91C0gh56YPp9Xxm\n",
       "XIr79GYniaRIjLRQgFA6xiSg6s5ljDDY01SugX92uQ3+wg1sucFCQwO9n6EV5sUeVXdvnlF0i5jX\n",
       "RkpV9cDOT28fWqUf5QVpipatk0fgwaLagF8wVifJ5K4rkQx23m0+1MzeXs3Cjbv8n4iRQK8Zzi8N\n",
       "TAGtFzBSwyP75X10zTxiaiNjFQNr41PZJBPIB3hk/XN95tsIUzfKkBXeZ6exIAZVIG7Y3kKLsxJv\n",
       "z1+w9yp/rw2bMzrxyEBupZjewfYSY7MpJUrKeSf3683St0DIi3HhdU4ebzL2l3Ju3q59KqBQAPWg\n",
       "KSt4Kb0MrMxoEPcSCMLlr1tOFRWq2ZZ2usTaJXgJXEyCJZ+RemgEy3xlNP2gdVhJPS+kkTRLRnHA\n",
       "u+AiN/AvK80PAqMr2t/mSzdgGBBPJVWyNJNyFL30GIvzmYm8wEwHtg8JSuM3qlvMn2WRkieomH8R\n",
       "UcW7V5yTN63BoU7fUDxOSxIcpMCuETL9vaX/0EzUTLCXrAj8Mvnm9/VmPn5l/bjA0Fdw9F7ZVmho\n",
       "zTMEqoKyD6PjtxsK1SvNayqFzwAAAg1BmqdJ4Q6JlMCG//6nhAAsOR1fAGV/OYTYavDEwodQhnkt\n",
       "vyrfIx9oSHYRwxwXspYhNHoqEFJXSgVpGAddtmbOLifkQJHa/3FNeBxC9/eN4Qu9xAGaR2Hklubb\n",
       "tJwUdYf2+RSfL8Z2T1TbeyUJTFUjtmYsORVwNfSasLbUkprGaYoj4LCBk2h4O7FG6sgA6bF/x0L9\n",
       "+zuQNj3Vxrj2C++jaIjaP+Xf8BOGMvSJr9hytAnbwrtFxHMb4X6Yk/oGGsAzn1SPE49fOAEVt8Fn\n",
       "j7++GVZ1I4XPzH3mKLbObF31goC8tt0aF9jGmQ0O3dm673PVjWO4obtayWLIrZ1+jjsXZeSQGeh+\n",
       "XECLFXPa7gvNyAfPk3VViG3hqpdmn8IN7eQUwot2TeC1//0worGUIw+XK9j+oT3dtf5+PgP+w7dI\n",
       "vyO4+Jve6jxFXCsH7mmmYt9k+A3G2cib1oGVTYbT+lXqVR1fF1qd2vDOU5UUtmWPU+B+ffDHRZZa\n",
       "c/um2XUWyepMrmj00emlvTp4Sz4RSi/BTkztYyqZIGM0bAFVy7HwVhpEHMVuEFpm0bFfzPDmPeHw\n",
       "c7xjHK5U9MXANcB3cr8PEvjprHu3RdnuxrKMyaGrmJe3Ik4hJtJez7rklm7U3ONv//zTRnHJXVl7\n",
       "7vSfYesN7InTTH3dMd7nkwkGKs2sIrqo0TZeW/6ZGh6yQaEAAAH8QZrLSeEPJlMCG//+p4QALDjA\n",
       "RO4NWxrQ3DJBkADfMo5A36HFWa7b8HzDHbwPbLYpwhY/yRUylnuMSk7FS51ZRvMPcmrt42ChOg9Q\n",
       "S7CzU0eSDRInC8/mqy9W7sbCbKfjzQ/uBEUDlY5SFXWNBylXp535QfvZGvkXXi2jxbiIYKmgv99E\n",
       "Y+Fa87Nd+XtNxyewacXXJEIzDJoAno7knVv/l+5shAkSJUVFSzS0HMvecOhJ3vvfRo6HqIc9LQju\n",
       "QuoFcwzedxo+jGU0h64HdYTYdS1aE4bnf8tpgNTi9v6qJKDbC0hZ1fiPeRah5BcxKED2EkHQgREt\n",
       "cbZ85zrHXWo0k9fT0ZcY8GDiH7mIWZL3QvsZtrZ4ID+xjIpBaTN5AimjMrVj/lavj83PlEvFoKec\n",
       "c8ne0k8EJyx7wHIL0BDR1yuc9KeWSfrOMN2xRk2GRS/zZsQeVnDawXLfpw1NstGZD+pEOBRHkfgX\n",
       "c3kQSCA4KvY2pj7hEvpe53NZf8lK1GjfiSaBc4FOckc14vgXS078y5f6ZmQvifdcF0uCSPpB4w7t\n",
       "daFBPRVDYrZY10WssdNGfwbzsbDyiYyPWpBS/PEkoz3FrHUmqXDHfpk0VHRO9UtLq8W++1+idvXv\n",
       "gmrXQ6YMCNpQx8mF2MclCfVKuFuz7xAxCaraSvb+2kP8pAAAAIJBnulFETwr/wAjue8oABWtYiLG\n",
       "Fa7BmOVpAlu404szZQvLPNQveRnNmKHJ0vYQ+pLkd2vtoWVtdYMPmCu5C8QheR2U5VGLpvPKLkpL\n",
       "4XpGjRU9spUS+b4PRzKk8gt/yuoMxYE/tH5uu6CaM24EYY7yBiUDeKb6eRMujCcRJRzpD3ZqAAAA\n",
       "dAGfCHRCfwAuiLJ97ECgBGDu3PP6UIAanYynGhF0aBCaDF3Irg1PJ0Po1m7e+DvMqitNdT7uwAFq\n",
       "9zooXApnS/7XslN3z77T9TYxkOlwawC5a2ADxoarPmyoQCJTMkhpjC0pxZLAaaIBtjvw51RDi2uX\n",
       "79P9AAAALAGfCmpCfwAujMwr7epguTkWxK8Bsgqn/c8bD8WZy0DDRLm2R/TU2WxvbmTgAAABXEGb\n",
       "D0moQWiZTAhv//6nhAAsQBIJ+jBwBfyuxNgBWfIwJGfDRZZcfs+CYlfUCt07eiY0KwCiUgGx7sey\n",
       "eVQsJoO2klYlQxIDx5y5Yn5lvA9KJG7HCbuRdAcZ4ihxGgR5n+RGsKBTynZ5+VfGCG6xCALKuXIE\n",
       "mn4qi6UblFU2qRPihdFUa2nxM73z3V+Q2kH//6hL5DPnF+p9hodvX4MMeeu9uYZliT0IUZGEvNHm\n",
       "NzTBJ2sqFLGkKhLbJdfkNzs41NEhIQuLNyEaDlxgsUU8m0kGBg5HKa+MyTQJo96nj+/e+o7oLsTE\n",
       "YeaXBsrPtQuJzhP113/K4fA9Bun27TbBt1bDce7jaQbfa0op68MPmcTt0EBGDyf2Jgtcah5ICnfo\n",
       "EFiPCQv4Eu67PjDsTzyJUKURGernTCPvq3xTuB0qgcmgoU1MWlBv6IqT5rr446qyyGD5kfAMi2Jk\n",
       "fCZMfAAAAExBny1FESwr/wAjshOSz8XOp0fSb4iRACRuwz51Ld6F2awdRm1gp3prJQflgsSOv/GY\n",
       "8/XrsopEfRVPVk8Kb11tSZYZ32H62OCFefZ3AAAAJwGfTHRCfwAumk8uFQXy9zp3b4QRZ9+8KODJ\n",
       "dvQM6zbnfmW09v7osQAAAB8Bn05qQn8AFruBxI3H0jaFCkjvsN89zxhUB5d/UuIVAAABXUGbU0mo\n",
       "QWyZTAhv//6nhAAWGaID2kPe5cALWojUXwGGCutIqzkCzvUDUh606pA/UFm0XyJXbJ4OdyJ1bj68\n",
       "6mRWB7476yGtdMOnLCJ2rWDCPYq8hWiJ8nomkXRSn9VdqQwheruGPSqEm9ElVadli0wpZD42QPcj\n",
       "fF88N8EYf0d/jWuJvaftttiJQDAMRKZe1inj6ZnZs2fgZXwfLFQp7s59sG1QEUNHH2x+zGSZdc5T\n",
       "Q9kW3bIk1hs66xzIY+fjCLzDAbMxDvEbN1jvImwr/gUTIZPbAXgOzOuIX0dzZv7FktRwI3gIOXuT\n",
       "6zDlrC8UdMhYhSGNKiDWFXnEJivZEuNHBVB8SDm7JEvsx9MvkSxBlkuIFc/OV6d1VLnO3ZY1/9r8\n",
       "ntvVFtaxA5/5Gq/OtV01DTUJe9scR0e4B87/yyjEXULkrVpMpVnRFGDg8HkT++YZS0NTYGXntDW0\n",
       "pqEAAAA2QZ9xRRUsK/8AENS/8XGDnBCA01ACaZu+hbMZKqYUIa7L3rXe+VU4Mq15eP7ysccPO3bc\n",
       "rqWAAAAAFQGfkHRCfwAFwmGlXvbhTJxr/PmWuQAAAB4Bn5JqQn8AC6MmJJa5FkLa6zOs2wCPsIu0\n",
       "K7n52KAAAAEkQZuXSahBbJlMCGf//p4QAKxZvVwA+UOIvtj1fC+LFsyLOLS+W+BN+Vr3XVaKtL8T\n",
       "JVpXz8qy7CeNhwyHDT2Pe6mlyAgePjC4dq7UpbTQEoo9iMX05u4eDkDMDW90HahZ/vwAziQjM97Q\n",
       "ZaQXoPPkAa+A+LNSa2VIcQ5gN0xf6Emv9rhkhtDl3vQnooVbw46/9pgg+KGKMaXinOKKT4f6FRRj\n",
       "rjq5iF6gik3Vk/OiyD48zHX7BXq6PDRdAt8u71rs0FqQJ8hoJ0n/gZSaISWrXv7Y84st4G3JmwmC\n",
       "0Y+I0P5nA9hfZayg8Fc1O+WodtrkAPNT0W4LjR344/0cN7d19c+GN/zifERRU+59cry5TvyYCNS6\n",
       "5M37aFs4I7DU2F91Wp2qQAAAADlBn7VFFSwr/wAjshOS0FZjhqAD0JgRzohCp7gu4hMzfT9MJPZb\n",
       "w8v7w98RZBGpDf5Jmc4/Jx4vBGkAAAAiAZ/UdEJ/AC6aOcMmeh81gRMOg6KQALKCKiI2uduM5JD5\n",
       "QgAAAA8Bn9ZqQn8AAujNNs7g66EAAACcQZvbSahBbJlMCF///oywAFcPd/KAB7tF09Wlisima5mw\n",
       "6EseeKxUPDFBBVmPdmGR9WvUC1jqfAzS5gIvZisf7U7/+lCO4uKRgh3E/H6U4/L55m7iXU0dF/iB\n",
       "OAyQ1Yprm+WqiNUvhzH8b4zsgigcbIPP/ZGR3DMvj/U1vOJh4Z+/+67Vz0d6g2tLd1qJXMkrxTq4\n",
       "djniyypuMiOBAAAAGEGf+UUVLCv/AARpX9hLCS2c0iFHCdbCoAAAABEBnhh0Qn8AFi8RlhUnI3OS\n",
       "2QAAABcBnhpqQn8ABdLgZp0Y/tOJrAok1UzbgAAAAIdBmh1JqEFsmUwUTCf//fEABkTFhlYgnsOA\n",
       "WEAJ208SMD0CHlR2mHdHJfAQXmhQz4fYe5/eiTJGdCc1E0cjYc4tMpnuzMUYz5bwe6hftcQzWpSy\n",
       "5cKGvGBeuu84ex6RnIQwCRC1634TYSN4ES58ZLITjgf+VIGXkzDkyaB655N46DhVS9tflFkAAAAj\n",
       "AZ48akJ/AC1260JUfrUiBdYqzZ8Wed+QwEJvOmcAX+OZlJEAAASKbW9vdgAAAGxtdmhkAAAAAAAA\n",
       "AAAAAAAAAAAD6AAAA+gAAQAAAQAAAAAAAAAAAAAAAAEAAAAAAAAAAAAAAAAAAAABAAAAAAAAAAAA\n",
       "AAAAAABAAAAAAAAAAAAAAAAAAAAAAAAAAAAAAAAAAAAAAAAAAgAAA7R0cmFrAAAAXHRraGQAAAAD\n",
       "AAAAAAAAAAAAAAABAAAAAAAAA+gAAAAAAAAAAAAAAAAAAAAAAAEAAAAAAAAAAAAAAAAAAAABAAAA\n",
       "AAAAAAAAAAAAAABAAAAAAbAAAAEgAAAAAAAkZWR0cwAAABxlbHN0AAAAAAAAAAEAAAPoAAAEAAAB\n",
       "AAAAAAMsbWRpYQAAACBtZGhkAAAAAAAAAAAAAAAAAAA8AAAAPABVxAAAAAAALWhkbHIAAAAAAAAA\n",
       "AHZpZGUAAAAAAAAAAAAAAABWaWRlb0hhbmRsZXIAAAAC121pbmYAAAAUdm1oZAAAAAEAAAAAAAAA\n",
       "AAAAACRkaW5mAAAAHGRyZWYAAAAAAAAAAQAAAAx1cmwgAAAAAQAAApdzdGJsAAAAt3N0c2QAAAAA\n",
       "AAAAAQAAAKdhdmMxAAAAAAAAAAEAAAAAAAAAAAAAAAAAAAAAAbABIABIAAAASAAAAAAAAAABAAAA\n",
       "AAAAAAAAAAAAAAAAAAAAAAAAAAAAAAAAAAAAAAAAGP//AAAANWF2Y0MBZAAV/+EAGGdkABWs2UGw\n",
       "loQAAAMABAAAAwDwPFi2WAEABmjr48siwP34+AAAAAAcdXVpZGtoQPJfJE/FujmlG88DI/MAAAAA\n",
       "AAAAGHN0dHMAAAAAAAAAAQAAAB4AAAIAAAAAFHN0c3MAAAAAAAAAAQAAAAEAAADwY3R0cwAAAAAA\n",
       "AAAcAAAAAQAABAAAAAABAAAKAAAAAAEAAAQAAAAAAQAAAAAAAAABAAACAAAAAAMAAAQAAAAAAQAA\n",
       "CgAAAAABAAAEAAAAAAEAAAAAAAAAAQAAAgAAAAABAAAKAAAAAAEAAAQAAAAAAQAAAAAAAAABAAAC\n",
       "AAAAAAEAAAoAAAAAAQAABAAAAAABAAAAAAAAAAEAAAIAAAAAAQAACgAAAAABAAAEAAAAAAEAAAAA\n",
       "AAAAAQAAAgAAAAABAAAKAAAAAAEAAAQAAAAAAQAAAAAAAAABAAACAAAAAAEAAAYAAAAAAQAAAgAA\n",
       "AAAcc3RzYwAAAAAAAAABAAAAAQAAAB4AAAABAAAAjHN0c3oAAAAAAAAAAAAAAB4AAA+5AAAGxwAA\n",
       "A0MAAAQLAAADLgAAAsUAAAI1AAACEQAAAgAAAACGAAAAeAAAADAAAAFgAAAAUAAAACsAAAAjAAAB\n",
       "YQAAADoAAAAZAAAAIgAAASgAAAA9AAAAJgAAABMAAACgAAAAHAAAABUAAAAbAAAAiwAAACcAAAAU\n",
       "c3RjbwAAAAAAAAABAAAAMAAAAGJ1ZHRhAAAAWm1ldGEAAAAAAAAAIWhkbHIAAAAAAAAAAG1kaXJh\n",
       "cHBsAAAAAAAAAAAAAAAALWlsc3QAAAAlqXRvbwAAAB1kYXRhAAAAAQAAAABMYXZmNTguNjUuMTAx\n",
       "\">\n",
       "  Your browser does not support the video tag.\n",
       "</video>"
      ],
      "text/plain": [
       "<IPython.core.display.HTML object>"
      ]
     },
     "execution_count": 45,
     "metadata": {},
     "output_type": "execute_result"
    }
   ],
   "source": [
    "from matplotlib import animation, rc\n",
    "from IPython.display import HTML\n",
    "HTML(points_output.anim.to_html5_video())"
   ]
  },
  {
   "cell_type": "code",
   "execution_count": null,
<<<<<<< Updated upstream
=======
   "id": "fuzzy-green",
>>>>>>> Stashed changes
   "metadata": {},
   "outputs": [],
   "source": []
  }
 ],
 "metadata": {
  "colab": {
   "collapsed_sections": [],
   "name": "Copy of Wing Kinematics.ipynb",
   "provenance": []
  },
  "kernelspec": {
   "display_name": "Python 3",
   "language": "python",
   "name": "python3"
  },
  "language_info": {
   "codemirror_mode": {
    "name": "ipython",
    "version": 3
   },
   "file_extension": ".py",
   "mimetype": "text/x-python",
   "name": "python",
   "nbconvert_exporter": "python",
   "pygments_lexer": "ipython3",
   "version": "3.7.9"
  }
 },
 "nbformat": 4,
 "nbformat_minor": 5
}

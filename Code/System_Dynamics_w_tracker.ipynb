{
 "cells": [
  {
   "cell_type": "markdown",
   "metadata": {
    "id": "suspected-amateur"
   },
   "source": [
    "# Downstroke\n",
    "\n",
    "Team 3"
   ]
  },
  {
   "cell_type": "markdown",
   "metadata": {},
   "source": [
    "## Setup"
   ]
  },
  {
   "cell_type": "code",
   "execution_count": 1,
   "metadata": {
    "colab": {
     "base_uri": "https://localhost:8080/"
    },
    "id": "pi7Co6-jBLqJ",
    "outputId": "3e0b02e5-7b83-4a8a-fb4e-f100a21e47fb"
   },
   "outputs": [
    {
     "name": "stdout",
     "output_type": "stream",
     "text": [
      "Requirement already satisfied: pynamics in c:\\users\\geomu\\anaconda3\\lib\\site-packages (0.0.7)\n",
      "Requirement already satisfied: matplotlib in c:\\users\\geomu\\anaconda3\\lib\\site-packages (from pynamics) (3.3.2)\n",
      "Requirement already satisfied: scipy in c:\\users\\geomu\\anaconda3\\lib\\site-packages (from pynamics) (1.6.0)\n",
      "Requirement already satisfied: sympy in c:\\users\\geomu\\anaconda3\\lib\\site-packages (from pynamics) (1.7.1)\n",
      "Requirement already satisfied: numpy in c:\\users\\geomu\\anaconda3\\lib\\site-packages (from pynamics) (1.19.5)\n",
      "Requirement already satisfied: kiwisolver>=1.0.1 in c:\\users\\geomu\\anaconda3\\lib\\site-packages (from matplotlib->pynamics) (1.3.0)\n",
      "Requirement already satisfied: pillow>=6.2.0 in c:\\users\\geomu\\anaconda3\\lib\\site-packages (from matplotlib->pynamics) (8.1.0)\n",
      "Requirement already satisfied: python-dateutil>=2.1 in c:\\users\\geomu\\anaconda3\\lib\\site-packages (from matplotlib->pynamics) (2.8.1)\n",
      "Requirement already satisfied: certifi>=2020.06.20 in c:\\users\\geomu\\anaconda3\\lib\\site-packages (from matplotlib->pynamics) (2020.12.5)\n",
      "Requirement already satisfied: cycler>=0.10 in c:\\users\\geomu\\anaconda3\\lib\\site-packages (from matplotlib->pynamics) (0.10.0)\n",
      "Requirement already satisfied: pyparsing!=2.0.4,!=2.1.2,!=2.1.6,>=2.0.3 in c:\\users\\geomu\\anaconda3\\lib\\site-packages (from matplotlib->pynamics) (2.4.7)\n",
      "Requirement already satisfied: six in c:\\users\\geomu\\anaconda3\\lib\\site-packages (from cycler>=0.10->matplotlib->pynamics) (1.15.0)\n",
      "Requirement already satisfied: mpmath>=0.19 in c:\\users\\geomu\\anaconda3\\lib\\site-packages (from sympy->pynamics) (1.1.0)\n",
      "Note: you may need to restart the kernel to use updated packages.\n"
     ]
    }
   ],
   "source": [
    "pip install pynamics"
   ]
  },
  {
   "cell_type": "code",
   "execution_count": 2,
   "metadata": {
    "id": "frequent-douglas"
   },
   "outputs": [],
   "source": [
    "%matplotlib inline\n",
    "import scipy.optimize\n",
    "import pynamics\n",
    "from pynamics.frame import Frame\n",
    "from pynamics.variable_types import Differentiable,Constant\n",
    "from pynamics.system import System\n",
    "from pynamics.body import Body\n",
    "from pynamics.dyadic import Dyadic\n",
    "from pynamics.output import Output,PointsOutput\n",
    "from pynamics.particle import Particle\n",
    "import pynamics.integration\n",
    "import numpy\n",
    "import sympy\n",
    "import matplotlib.pyplot as plt\n",
    "from matplotlib.patches import Arc\n",
    "plt.ion()\n",
    "from math import pi, sin, cos, tan, asin, acos, atan, degrees, radians, pi"
   ]
  },
  {
   "cell_type": "code",
   "execution_count": 3,
   "metadata": {},
   "outputs": [],
   "source": [
    "def prettyplot(x,y): # Function plots mechanism and generates labels\n",
    "    # Create Figure\n",
    "    Fig1 = plt.figure(figsize=[15,10])\n",
    "    ax = Fig1.add_axes([0.0, 0.0, 1.0, 1.0], aspect='equal')\n",
    "    #ax.patch.set_alpha(0.0)\n",
    "    \n",
    "    # plot links and joints\n",
    "    plt.plot(x[0:3],y[0:3],color='tab:blue')\n",
    "    plt.plot(x[2:5],y[2:5],color='tab:green')\n",
    "    plt.plot(x[4:],y[4:],color='k')\n",
    "    plt.scatter(x,y,color='k')\n",
    "    plt.axis('equal')\n",
    "    plt.xlim([-0.1,0.5])\n",
    "    \n",
    "    # label joints\n",
    "    for i in range(0, len(x)-1):\n",
    "        plt.text(x[i]-0.004, y[i]-0.004, \"p\"+str(i), verticalalignment='top', horizontalalignment='right', fontsize=14)\n",
    "    \n",
    "    # plot COMs\n",
    "    comx = [(x[0]+x[1])/2, (x[1]+x[2])/2, (x[4]+x[3])/2, (x[3]+x[2])/2, (x[4]+x[0])/2]\n",
    "    comy = [(y[0]+y[1])/2, (y[1]+y[2])/2, (y[4]+y[3])/2, (y[3]+y[2])/2, (y[4]+y[0])/2]\n",
    "    plt.scatter(comx,comy,color='k')\n",
    "    \n",
    "    # label COMs\n",
    "    linknames = ['A', 'B', 'C', 'D', 'E']\n",
    "    for i in range(0, len(comx)):\n",
    "        plt.text(comx[i]+0.004, comy[i], linknames[i], verticalalignment='bottom', horizontalalignment='left', weight='bold', fontsize=16)\n",
    "    \n",
    "    # label properties\n",
    "    propertynames = ['La', 'Lb', 'Lc', 'Ld', 'Le']\n",
    "    for i in range(0, len(comx)):\n",
    "        plt.text(comx[i]+0.016, comy[i], propertynames[i], verticalalignment='bottom', horizontalalignment='left', fontsize=14)\n",
    "    \n",
    "    \n",
    "    # plot frame axes\n",
    "    alen = 0.04    \n",
    "    plt.arrow(0, 0, alen, 0,head_width=0.008,width=0.0004,color='r')\n",
    "    plt.arrow(0, 0, 0, alen,head_width=0.008,width=0.0004,color='r')\n",
    "    vx = []\n",
    "    vy = []\n",
    "    for i in range(1, len(x)-2):\n",
    "        if i <= 2: \n",
    "            vecx = numpy.array([x[i]-x[i-1], y[i]-y[i-1]])\n",
    "            vecx = vecx/(vecx.dot(vecx)**0.5)\n",
    "            vecy = numpy.cross([0,0,1], vecx)[0:2]\n",
    "            plt.arrow(x[i], y[i], alen*vecx[0], alen*vecx[1],head_width=0.008,width=0.0004,color='b')\n",
    "            plt.arrow(x[i], y[i], alen*vecy[0], alen*vecy[1],head_width=0.008,width=0.0004,color='b')\n",
    "            vx.append(vecx)\n",
    "            vy.append(vecy)\n",
    "        if i >= 2:\n",
    "            vecx = numpy.array([x[i]-x[i+1], y[i]-y[i+1]])\n",
    "            vecx = vecx/(vecx.dot(vecx)**0.5)\n",
    "            vecy = numpy.cross([0,0,1], vecx)[0:2]\n",
    "            plt.arrow(x[i], y[i], alen*vecx[0], alen*vecx[1],head_width=0.008,width=0.0004,color='g')\n",
    "            plt.arrow(x[i], y[i], alen*vecy[0], alen*vecy[1],head_width=0.008,width=0.0004,color='g')\n",
    "            vx.append(vecx)\n",
    "            vy.append(vecy)\n",
    "\n",
    "    # label frames\n",
    "    lablen = 0.06\n",
    "\n",
    "    plt.text(x[0]+0.06, y[0], 'Nx', verticalalignment='center', horizontalalignment='center', color='r', fontsize=14)\n",
    "    plt.text(x[0], y[0]+0.06, 'Ny', verticalalignment='center', horizontalalignment='center', color='r', fontsize=14)\n",
    "    \n",
    "    plt.text(x[1]+lablen*vx[0][0], y[1]+lablen*vx[0][1], 'Ax', verticalalignment='center', horizontalalignment='center', color='b', fontsize=14)\n",
    "    plt.text(x[1]+lablen*vy[0][0], y[1]+lablen*vy[0][1], 'Ay', verticalalignment='center', horizontalalignment='center', color='b', fontsize=14)\n",
    "\n",
    "    plt.text(x[2]+lablen*vx[1][0], y[2]+lablen*vx[1][1], 'Bx', verticalalignment='center', horizontalalignment='center', color='b', fontsize=14)\n",
    "    plt.text(x[2]+lablen*vy[1][0], y[2]+lablen*vy[1][1], 'By', verticalalignment='center', horizontalalignment='center', color='b', fontsize=14)\n",
    "\n",
    "    plt.text(x[3]+lablen*vx[3][0], y[3]+lablen*vx[3][1], 'Cx', verticalalignment='center', horizontalalignment='center', color='g', fontsize=14)\n",
    "    plt.text(x[3]+lablen*vy[3][0], y[3]+lablen*vy[3][1], 'Cy', verticalalignment='center', horizontalalignment='center', color='g', fontsize=14)\n",
    "\n",
    "    plt.text(x[2]+lablen*vx[2][0], y[2]+lablen*vx[2][1], 'Dx', verticalalignment='center', horizontalalignment='center', color='g', fontsize=14)\n",
    "    plt.text(x[2]+lablen*vy[2][0], y[2]+lablen*vy[2][1], 'Dy', verticalalignment='center', horizontalalignment='center', color='g', fontsize=14)\n",
    "\n",
    "    # plot angles\n",
    "    Aang1 = 0\n",
    "    Aang2 = degrees(atan(vx[0][1]/vx[0][0]))\n",
    "    ax.add_patch(Arc((0, 0), 0.04, 0.04, theta1=min(Aang1, Aang2), theta2=max(Aang1, Aang2), edgecolor='k', linewidth=0.0006))\n",
    "\n",
    "    Bang1 = degrees(atan(vx[0][1]/vx[0][0]))\n",
    "    Bang2 = degrees(atan(vx[1][1]/vx[1][0]))\n",
    "    ax.add_patch(Arc((x[1], y[1]), 0.04, 0.04, theta1=min(Bang1, Bang2), theta2=max(Bang1, Bang2), edgecolor='k', linewidth=0.0006))\n",
    "\n",
    "    plt.plot([0,0.04],[0.04,0.04],color='k',linewidth=1)\n",
    "    Cang1 = 0\n",
    "    Cang2 = degrees(atan(vx[3][1]/vx[3][0]))\n",
    "    ax.add_patch(Arc((x[4], y[4]), 0.04, 0.04, theta1=min(Cang1, Cang2), theta2=max(Cang1, Cang2), edgecolor='k', linewidth=0.0006))\n",
    "\n",
    "    Dang1 = degrees(atan(vx[3][1]/vx[3][0]))\n",
    "    Dang2 = degrees(atan(vx[2][1]/vx[2][0]))\n",
    "    ax.add_patch(Arc((x[3], y[3]), 0.04, 0.04, theta1=min(Dang1, Dang2), theta2=max(Dang1, Dang2), edgecolor='k', linewidth=0.0006))\n",
    "\n",
    "    # label angles\n",
    "    plt.text(x[0]+0.032*cos(radians((Aang1+Aang2)/2)), y[0]+0.032*sin(radians((Aang1+Aang2)/2)), 'qA', verticalalignment='center', horizontalalignment='center', fontsize=14)\n",
    "    plt.text(x[1]+0.032*cos(radians((Bang1+Bang2)/2)), y[1]+0.032*sin(radians((Bang1+Bang2)/2)), 'qB', verticalalignment='center', horizontalalignment='center', fontsize=14)\n",
    "    plt.text(x[4]+0.032*cos(radians((Cang1+Cang2)/2)), y[4]+0.032*sin(radians((Cang1+Cang2)/2)), 'qC', verticalalignment='center', horizontalalignment='center', fontsize=14)\n",
    "    plt.text(x[3]+0.032*cos(radians((Dang1+Dang2)/2)), y[3]+0.032*sin(radians((Dang1+Dang2)/2)), 'qD', verticalalignment='center', horizontalalignment='center', fontsize=14)\n",
    "    \n",
    "    # Label inputs and outputs\n",
    "    plt.text(x[0]-0.004, y[0]-0.004, \"Motor A\", verticalalignment='bottom', horizontalalignment='right', fontsize=14, weight='bold')\n",
    "    plt.text(x[4]-0.004, y[4]-0.004, \"Motor C\", verticalalignment='bottom', horizontalalignment='right', fontsize=14, weight='bold')\n",
    "    plt.text(x[2]+0.004, y[2]+0.004, \"End Effector (x,y)\", verticalalignment='bottom', horizontalalignment='left', fontsize=14, weight='bold')"
   ]
  },
  {
   "cell_type": "markdown",
   "metadata": {},
   "source": [
    "## Procedure"
   ]
  },
  {
   "cell_type": "code",
   "execution_count": 39,
   "metadata": {},
   "outputs": [],
   "source": [
    "import logging\n",
    "import pynamics.integration\n",
    "import pynamics.system\n",
    "import numpy.random\n",
    "import scipy.interpolate\n",
    "import scipy.optimize\n",
    "import pandas as pd\n",
    "#import cma"
   ]
  },
  {
   "cell_type": "code",
   "execution_count": 5,
   "metadata": {},
   "outputs": [],
   "source": [
    "# Create a pynamics system\n",
    "system = System()\n",
    "pynamics.set_system(__name__,system)"
   ]
  },
  {
   "cell_type": "code",
   "execution_count": 6,
   "metadata": {},
   "outputs": [],
   "source": [
    "# Length variables (numerical)\n",
    "lA_num = 0.15\n",
    "lB_num = 0.15\n",
    "lC_num = 0.165\n",
    "lD_num = 0.165\n",
    "lE_num = 0.045\n",
    "\n",
    "# Lengths\n",
    "lA = Constant(lA_num,'lA',system)\n",
    "lB = Constant(lB_num,'lB',system)\n",
    "lC = Constant(lC_num,'lC',system)\n",
    "lD = Constant(lD_num,'lD',system)\n",
    "lE = Constant(lE_num,'lE',system)"
   ]
  },
  {
   "cell_type": "code",
   "execution_count": 7,
   "metadata": {},
   "outputs": [],
   "source": [
    "# Masses\n",
    "mA = Constant(0.027,'mA',system)\n",
    "mB = Constant(0.0306,'mB',system)\n",
    "mC = Constant(0.0297,'mC',system)\n",
    "mD = Constant(0.0297,'mD',system)\n",
    "\n",
    "# Joint preloads\n",
    "preload1 = Constant(0*pi/180,'preload1',system)\n",
    "preload2 = Constant(0*pi/180,'preload2',system)\n",
    "preload3 = Constant(0*pi/180,'preload3',system)\n",
    "preload4 = Constant(0*pi/180,'preload4',system)\n",
    "\n",
    "# Inertia\n",
    "Ixx_A = Constant(0.000202,'Ixx_A',system) #0.00020264\n",
    "Iyy_A = Constant(0.000405,'Iyy_A',system) #(0.00040500\n",
    "Izz_A = Constant(0.000202,'Izz_A',system) #0.00020264\n",
    "Ixx_B = Constant(0.000223,'Ixx_B',system) #0.00022378\n",
    "Iyy_B = Constant(0.000427,'Iyy_B',system) #0.00042744\n",
    "Izz_B = Constant(0.000204,'Izz_B',system) #0.00020422\n",
    "Ixx_C = Constant(0.000222,'Ixx_C',system) #0.00022291\n",
    "Iyy_C = Constant(0.000492,'Iyy_C',system) #0.00049228\n",
    "Izz_C = Constant(0.000269,'Izz_C',system) #0.00026969\n",
    "Ixx_D = Constant(0.000222,'Ixx_D',system) #0.00022291\n",
    "Iyy_D = Constant(0.000492,'Iyy_D',system) #0.00049228\n",
    "Izz_D = Constant(0.000269,'Izz_D',system) #0.00026969"
   ]
  },
  {
   "cell_type": "code",
   "execution_count": 8,
   "metadata": {},
   "outputs": [],
   "source": [
    "# Create differentiable state variables\n",
    "qA,qA_d,qA_dd = Differentiable('qA',system)\n",
    "qB,qB_d,qB_dd = Differentiable('qB',system)\n",
    "qC,qC_d,qC_dd = Differentiable('qC',system)\n",
    "qD,qD_d,qD_dd = Differentiable('qD',system)"
   ]
  },
  {
   "cell_type": "code",
   "execution_count": 9,
   "metadata": {},
   "outputs": [],
   "source": [
    "# initial values\n",
    "# qC = 11.97 creates fully extended, horizontal wing\n",
    "initialvalues = {}\n",
    "initialvalues[qA]=45*pi/180\n",
    "initialvalues[qA_d]=0*pi/180\n",
    "initialvalues[qB]=0*pi/180\n",
    "initialvalues[qB_d]=0*pi/180\n",
    "\n",
    "#initialvalues[qC]=14.65*pi/180\n",
    "initialvalues[qC]=(90-16.69)*pi/180\n",
    "initialvalues[qC_d]=0*pi/180\n",
    "initialvalues[qD]=-70.16*pi/180\n",
    "initialvalues[qD_d]=0*pi/180"
   ]
  },
  {
   "cell_type": "code",
   "execution_count": 10,
   "metadata": {},
   "outputs": [],
   "source": [
    "# Retrieve state variables in the order they are stored in the system\n",
    "# Create a list of initial values ini0 in the order of the system’s state variables\n",
    "statevariables = system.get_state_variables()\n",
    "ini0 = [initialvalues[item] for item in statevariables]"
   ]
  },
  {
   "cell_type": "code",
   "execution_count": 11,
   "metadata": {},
   "outputs": [],
   "source": [
    "# Create frames\n",
    "N = Frame('N')\n",
    "A = Frame('A')\n",
    "B = Frame('B')\n",
    "C = Frame('C')\n",
    "D = Frame('D')"
   ]
  },
  {
   "cell_type": "code",
   "execution_count": 12,
   "metadata": {},
   "outputs": [],
   "source": [
    "# Declare N as the Newtonian (fixed) frame\n",
    "system.set_newtonian(N)"
   ]
  },
  {
   "cell_type": "code",
   "execution_count": 13,
   "metadata": {},
   "outputs": [],
   "source": [
    "# Rotate other frames about their local Z axes.\n",
    "# Not global q\n",
    "A.rotate_fixed_axis_directed(N,[0,0,1],qA,system)\n",
    "B.rotate_fixed_axis_directed(A,[0,0,1],qB,system)\n",
    "C.rotate_fixed_axis_directed(N,[0,0,1],qC,system)\n",
    "D.rotate_fixed_axis_directed(C,[0,0,1],qD,system)"
   ]
  },
  {
   "cell_type": "code",
   "execution_count": 14,
   "metadata": {},
   "outputs": [],
   "source": [
    "# Define rigid body kinematics\n",
    "# position vectors\n",
    "p0 = 0*N.y #Normal\n",
    "p1 = p0 + lA*-A.y #Link A\n",
    "p2A = p1 + lB*-B.y #Link B - OUTPUT\n",
    "p4 = p0 + lE*N.x #Link E\n",
    "p3 = p4 + lC*-C.y #Link C\n",
    "p2C = p3 + lD*-D.y #Link D - OUTPUT"
   ]
  },
  {
   "cell_type": "code",
   "execution_count": 15,
   "metadata": {},
   "outputs": [],
   "source": [
    "# CoM vectors\n",
    "pAcom=p0 + lA/2*A.x #Link A\n",
    "pBcom=p1 + 0.06735294*B.x #Link B\n",
    "pCcom=p4 + lC/2*C.x #Link C\n",
    "pDcom=p3 + lD/2*D.x #Link D"
   ]
  },
  {
   "cell_type": "code",
   "execution_count": 16,
   "metadata": {},
   "outputs": [],
   "source": [
    "# Angular Velocity\n",
    "wNA = N.getw_(A)\n",
    "wAB = A.getw_(B)\n",
    "wNC = N.getw_(C)\n",
    "wCD = C.getw_(D)"
   ]
  },
  {
   "cell_type": "code",
   "execution_count": 17,
   "metadata": {},
   "outputs": [],
   "source": [
    "# Build inertia tensors\n",
    "IA = Dyadic.build(A,Ixx_A,Iyy_A,Izz_A)\n",
    "IB = Dyadic.build(B,Ixx_B,Iyy_B,Izz_B)\n",
    "IC = Dyadic.build(C,Ixx_C,Iyy_C,Izz_C)\n",
    "ID = Dyadic.build(D,Ixx_D,Iyy_D,Izz_D)\n",
    "\n",
    "BodyA = Body('BodyA',A,pAcom,mA,IA,system)\n",
    "BodyB = Body('BodyB',B,pBcom,mB,IB,system)\n",
    "BodyC = Body('BodyC',C,pCcom,mC,IC,system)\n",
    "BodyD = Body('BodyD',D,pDcom,mD,ID,system)\n",
    "#BodyC = Particle(pCcm,mC,'ParticleC',system)"
   ]
  },
  {
   "cell_type": "markdown",
   "metadata": {},
   "source": [
    "## Forces"
   ]
  },
  {
   "cell_type": "code",
   "execution_count": 18,
   "metadata": {},
   "outputs": [],
   "source": [
    "b = Constant(1e1,'b',system)"
   ]
  },
  {
   "cell_type": "code",
   "execution_count": 19,
   "metadata": {},
   "outputs": [
    {
     "data": {
      "text/plain": [
       "<pynamics.force.Force at 0x1d444efd908>"
      ]
     },
     "execution_count": 19,
     "metadata": {},
     "output_type": "execute_result"
    }
   ],
   "source": [
    "# Forces\n",
    "system.addforce(-b*wNA,wNA)\n",
    "system.addforce(-b*wAB,wAB)\n",
    "system.addforce(-b*wNC,wNC)\n",
    "system.addforce(-b*wCD,wCD)"
   ]
  },
  {
   "cell_type": "code",
   "execution_count": 20,
   "metadata": {},
   "outputs": [],
   "source": [
    "k = Constant(1e1,'k',system)\n",
    "kB = Constant(1e1,'kB',system)"
   ]
  },
  {
   "cell_type": "code",
   "execution_count": 21,
   "metadata": {},
   "outputs": [
    {
     "data": {
      "text/plain": [
       "(<pynamics.force.Force at 0x1d44519e188>,\n",
       " <pynamics.spring.Spring at 0x1d44519e408>)"
      ]
     },
     "execution_count": 21,
     "metadata": {},
     "output_type": "execute_result"
    }
   ],
   "source": [
    "# Spring Forces\n",
    "# Not global q\n",
    "system.add_spring_force1(k,(qA-preload1)*N.z,wNA) \n",
    "system.add_spring_force1(kB,(qB-preload2)*A.z,wAB)\n",
    "system.add_spring_force1(k,(qC-preload3)*N.z,wNC)\n",
    "system.add_spring_force1(k,(qD-preload4)*C.z,wCD)"
   ]
  },
  {
   "cell_type": "code",
   "execution_count": 22,
   "metadata": {},
   "outputs": [],
   "source": [
    "# motor torque\n",
    "#T =  Constant(-1,'T',system)"
   ]
  },
  {
   "cell_type": "code",
   "execution_count": 23,
   "metadata": {},
   "outputs": [],
   "source": [
    "#system.addforce(T*N.z,wNA)"
   ]
  },
  {
   "cell_type": "code",
   "execution_count": 24,
   "metadata": {},
   "outputs": [],
   "source": [
    "# Add air resistance as a joint damper as a function of the angular velocities"
   ]
  },
  {
   "cell_type": "code",
   "execution_count": null,
   "metadata": {},
   "outputs": [],
   "source": []
  },
  {
   "cell_type": "code",
   "execution_count": null,
   "metadata": {},
   "outputs": [],
   "source": []
  },
  {
   "cell_type": "code",
   "execution_count": null,
   "metadata": {},
   "outputs": [],
   "source": []
  },
  {
   "cell_type": "code",
   "execution_count": 25,
   "metadata": {},
   "outputs": [],
   "source": [
    "# gravity\n",
    "g = Constant(9.81,'g',system)"
   ]
  },
  {
   "cell_type": "code",
   "execution_count": 26,
   "metadata": {},
   "outputs": [],
   "source": [
    "# Gravity\n",
    "system.addforcegravity(-g*N.y)"
   ]
  },
  {
   "cell_type": "markdown",
   "metadata": {},
   "source": [
    "## Constraints"
   ]
  },
  {
   "cell_type": "code",
   "execution_count": 27,
   "metadata": {},
   "outputs": [],
   "source": [
    "# Constraints\n",
    "eq_vector = p2A-p2C\n",
    "eq = []\n",
    "eq.append((eq_vector).dot(N.x))\n",
    "eq.append((eq_vector).dot(N.y))\n",
    "eq_d=[(system.derivative(item)) for item in eq]\n",
    "eq_dd=[(system.derivative(item)) for item in eq_d]\n",
    "\n",
    "#eq2_vector = A.x-B.x\n",
    "#eq2 = []\n",
    "#eq2.append((eq2_vector).dot(N.x))\n",
    "#eq2.append((eq2_vector).dot(N.y))\n",
    "#eq2_d=[(system.derivative(item)) for item in eq2]\n",
    "#eq2_dd=[(system.derivative(item)) for item in eq2_d]"
   ]
  },
  {
   "cell_type": "code",
   "execution_count": 28,
   "metadata": {},
   "outputs": [
    {
     "name": "stderr",
     "output_type": "stream",
     "text": [
      "2021-03-15 15:44:13,910 - pynamics.system - INFO - getting dynamic equations\n"
     ]
    }
   ],
   "source": [
    "f,ma=system.getdynamics()"
   ]
  },
  {
   "cell_type": "markdown",
   "metadata": {},
   "source": [
    "## Modifications"
   ]
  },
  {
   "cell_type": "code",
   "execution_count": 29,
   "metadata": {},
   "outputs": [],
   "source": [
    "unknown_constants = [b,k]"
   ]
  },
  {
   "cell_type": "code",
   "execution_count": 30,
   "metadata": {},
   "outputs": [],
   "source": [
    "known_constants = list(set(system.constant_values.keys())-set(unknown_constants))\n",
    "known_constants = dict([(key,system.constant_values[key]) for key in known_constants])"
   ]
  },
  {
   "cell_type": "code",
   "execution_count": 31,
   "metadata": {},
   "outputs": [
    {
     "name": "stderr",
     "output_type": "stream",
     "text": [
      "2021-03-15 15:45:17,893 - pynamics.system - INFO - solving a = f/m and creating function\n",
      "2021-03-15 15:45:20,518 - pynamics.system - INFO - substituting constrained in Ma-f.\n",
      "2021-03-15 15:45:22,090 - pynamics.system - INFO - done solving a = f/m and creating function\n",
      "2021-03-15 15:45:22,093 - pynamics.system - INFO - calculating function for lambdas\n"
     ]
    }
   ],
   "source": [
    "func1,lambda1 = system.state_space_post_invert(f,ma,eq_dd,return_lambda = True,constants = known_constants)"
   ]
  },
  {
   "cell_type": "code",
   "execution_count": 33,
   "metadata": {},
   "outputs": [],
   "source": [
    "def run_sim(args):\n",
    "    constants = dict([(key,value) for key,value in zip(unknown_constants,args)])\n",
    "    states=pynamics.integration.integrate(func1,ini,t,rtol=tol,atol=tol,hmin=tol, args=({'constants':constants},))\n",
    "    return states"
   ]
  },
  {
   "cell_type": "code",
   "execution_count": 34,
   "metadata": {},
   "outputs": [],
   "source": [
    "points = [p1,p2A,p3]"
   ]
  },
  {
   "cell_type": "markdown",
   "metadata": {},
   "source": [
    "## Loading Data"
   ]
  },
  {
   "cell_type": "code",
   "execution_count": 49,
   "metadata": {},
   "outputs": [],
   "source": [
    "\n",
    "df=pd.read_csv(r'E:\\OneDrive - Arizona State University\\Spring 2021\\EGR 557 Foldable Robotics\\TrackerVideos\\WingTip_2.txt', sep=',')\n",
    "df1=pd.read_csv(r'E:\\OneDrive - Arizona State University\\Spring 2021\\EGR 557 Foldable Robotics\\TrackerVideos\\BotJoint_2.txt', sep=',')\n",
    "df2=pd.read_csv(r'E:\\OneDrive - Arizona State University\\Spring 2021\\EGR 557 Foldable Robotics\\TrackerVideos\\TopJoint_2.txt', sep=',')\n",
    "x = df.x.to_numpy()\n",
    "y = df.y.to_numpy()\n",
    "t = df.t.to_numpy()\n",
    "x2 = df1.x.to_numpy()\n",
    "y2 = df1.y.to_numpy()\n",
    "t2 = df1.t.to_numpy()\n",
    "x3 = df2.x.to_numpy()\n",
    "y3 = df2.y.to_numpy()\n",
    "t3 = df2.t.to_numpy()\n",
    "xy = numpy.array([x,y]).T\n"
   ]
  },
  {
   "cell_type": "code",
   "execution_count": 50,
   "metadata": {},
   "outputs": [],
   "source": [
    "f = scipy.interpolate.interp1d(t,xy.T,fill_value='extrapolate')\n",
    "ft = f(t).T"
   ]
  },
  {
   "cell_type": "code",
   "execution_count": 44,
   "metadata": {},
   "outputs": [
    {
     "data": {
      "text/plain": [
       "[<matplotlib.lines.Line2D at 0x1d447164848>,\n",
       " <matplotlib.lines.Line2D at 0x1d44715dd08>]"
      ]
     },
     "execution_count": 44,
     "metadata": {},
     "output_type": "execute_result"
    },
    {
     "data": {
      "image/png": "[encoded data removed]",
      "text/plain": [
       "<Figure size 432x288 with 1 Axes>"
      ]
     },
     "metadata": {
      "needs_background": "light"
     },
     "output_type": "display_data"
    }
   ],
   "source": [
    "plt.figure()\n",
    "plt.plot(t,ft)"
   ]
  },
  {
   "cell_type": "code",
   "execution_count": null,
   "metadata": {},
   "outputs": [],
   "source": []
  },
  {
   "cell_type": "code",
   "execution_count": null,
   "metadata": {},
   "outputs": [],
   "source": []
  },
  {
   "cell_type": "code",
   "execution_count": null,
   "metadata": {},
   "outputs": [],
   "source": []
  },
  {
   "cell_type": "markdown",
   "metadata": {},
   "source": [
    "## Solve for valid initial condition"
   ]
  },
  {
   "cell_type": "code",
   "execution_count": 51,
   "metadata": {},
   "outputs": [],
   "source": [
    "# Declare a list of points that will be used for plotting\n",
    "points = [p0, p1, p2A, p3, p4]"
   ]
  },
  {
   "cell_type": "code",
   "execution_count": 52,
   "metadata": {},
   "outputs": [],
   "source": [
    "# Identify independent and dependent variables\n",
    "qi = [qA, qC]\n",
    "qd = [qB, qD]"
   ]
  },
  {
   "cell_type": "code",
   "execution_count": 53,
   "metadata": {},
   "outputs": [],
   "source": [
    "# Create a copy of symbolic constants dictionary and add the initial value of qi to it\n",
    "constants = system.constant_values.copy()\n",
    "defined = dict([(item,initialvalues[item]) for item in qi])\n",
    "constants.update(defined)"
   ]
  },
  {
   "cell_type": "code",
   "execution_count": 54,
   "metadata": {},
   "outputs": [
    {
     "ename": "NameError",
     "evalue": "name 'eq2' is not defined",
     "output_type": "error",
     "traceback": [
      "\u001b[1;31m---------------------------------------------------------------------------\u001b[0m",
      "\u001b[1;31mNameError\u001b[0m                                 Traceback (most recent call last)",
      "\u001b[1;32m<ipython-input-54-e69571e6452d>\u001b[0m in \u001b[0;36m<module>\u001b[1;34m\u001b[0m\n\u001b[0;32m      1\u001b[0m \u001b[1;31m# Substitute constants in equation\u001b[0m\u001b[1;33m\u001b[0m\u001b[1;33m\u001b[0m\u001b[1;33m\u001b[0m\u001b[0m\n\u001b[0;32m      2\u001b[0m \u001b[0meq\u001b[0m \u001b[1;33m=\u001b[0m \u001b[1;33m[\u001b[0m\u001b[0mitem\u001b[0m\u001b[1;33m.\u001b[0m\u001b[0msubs\u001b[0m\u001b[1;33m(\u001b[0m\u001b[0mconstants\u001b[0m\u001b[1;33m)\u001b[0m \u001b[1;32mfor\u001b[0m \u001b[0mitem\u001b[0m \u001b[1;32min\u001b[0m \u001b[0meq\u001b[0m\u001b[1;33m]\u001b[0m\u001b[1;33m\u001b[0m\u001b[1;33m\u001b[0m\u001b[0m\n\u001b[1;32m----> 3\u001b[1;33m \u001b[0meq2\u001b[0m \u001b[1;33m=\u001b[0m \u001b[1;33m[\u001b[0m\u001b[0mitem\u001b[0m\u001b[1;33m.\u001b[0m\u001b[0msubs\u001b[0m\u001b[1;33m(\u001b[0m\u001b[0mconstants\u001b[0m\u001b[1;33m)\u001b[0m \u001b[1;32mfor\u001b[0m \u001b[0mitem\u001b[0m \u001b[1;32min\u001b[0m \u001b[0meq2\u001b[0m\u001b[1;33m]\u001b[0m\u001b[1;33m\u001b[0m\u001b[1;33m\u001b[0m\u001b[0m\n\u001b[0m",
      "\u001b[1;31mNameError\u001b[0m: name 'eq2' is not defined"
     ]
    }
   ],
   "source": [
    "# Substitute constants in equation\n",
    "eq = [item.subs(constants) for item in eq]\n",
    "eq2 = [item.subs(constants) for item in eq2]"
   ]
  },
  {
   "cell_type": "code",
   "execution_count": 55,
   "metadata": {},
   "outputs": [
    {
     "ename": "NameError",
     "evalue": "name 'eq2' is not defined",
     "output_type": "error",
     "traceback": [
      "\u001b[1;31m---------------------------------------------------------------------------\u001b[0m",
      "\u001b[1;31mNameError\u001b[0m                                 Traceback (most recent call last)",
      "\u001b[1;32m<ipython-input-55-344d52e7ffc1>\u001b[0m in \u001b[0;36m<module>\u001b[1;34m\u001b[0m\n\u001b[0;32m      1\u001b[0m \u001b[1;31m# Convert to numpy array\u001b[0m\u001b[1;33m\u001b[0m\u001b[1;33m\u001b[0m\u001b[1;33m\u001b[0m\u001b[0m\n\u001b[0;32m      2\u001b[0m \u001b[1;31m# Sum the error\u001b[0m\u001b[1;33m\u001b[0m\u001b[1;33m\u001b[0m\u001b[1;33m\u001b[0m\u001b[0m\n\u001b[1;32m----> 3\u001b[1;33m \u001b[0merror\u001b[0m \u001b[1;33m=\u001b[0m \u001b[1;33m(\u001b[0m\u001b[0mnumpy\u001b[0m\u001b[1;33m.\u001b[0m\u001b[0marray\u001b[0m\u001b[1;33m(\u001b[0m\u001b[0meq\u001b[0m\u001b[1;33m)\u001b[0m\u001b[1;33m**\u001b[0m\u001b[1;36m2\u001b[0m\u001b[1;33m)\u001b[0m\u001b[1;33m.\u001b[0m\u001b[0msum\u001b[0m\u001b[1;33m(\u001b[0m\u001b[1;33m)\u001b[0m \u001b[1;33m+\u001b[0m \u001b[1;33m(\u001b[0m\u001b[0mnumpy\u001b[0m\u001b[1;33m.\u001b[0m\u001b[0marray\u001b[0m\u001b[1;33m(\u001b[0m\u001b[0meq2\u001b[0m\u001b[1;33m)\u001b[0m\u001b[1;33m**\u001b[0m\u001b[1;36m2\u001b[0m\u001b[1;33m)\u001b[0m\u001b[1;33m.\u001b[0m\u001b[0msum\u001b[0m\u001b[1;33m(\u001b[0m\u001b[1;33m)\u001b[0m\u001b[1;33m\u001b[0m\u001b[1;33m\u001b[0m\u001b[0m\n\u001b[0m",
      "\u001b[1;31mNameError\u001b[0m: name 'eq2' is not defined"
     ]
    }
   ],
   "source": [
    "# Convert to numpy array\n",
    "# Sum the error\n",
    "error = (numpy.array(eq)**2).sum() + (numpy.array(eq2)**2).sum()"
   ]
  },
  {
   "cell_type": "code",
   "execution_count": null,
   "metadata": {},
   "outputs": [],
   "source": [
    "# Convert to a function that scipy can use.\n",
    "# Sympy has a “labmdify” function that evaluates an expression, but scipy needs a slightly different format.\n",
    "f = sympy.lambdify(qd,error)\n",
    "\n",
    "def function(args):\n",
    "    return f(*args)"
   ]
  },
  {
   "cell_type": "code",
   "execution_count": null,
   "metadata": {},
   "outputs": [],
   "source": [
    "# Take the derivative of the equations to linearize with regard to the velocity variables\n",
    "guess = [initialvalues[item] for item in qd]\n",
    "result = scipy.optimize.minimize(function,guess)\n",
    "if result.fun>1e-3:\n",
    "    raise(Exception(\"out of tolerance\"))\n",
    "ini = []\n",
    "for item in system.get_state_variables():\n",
    "    if item in qd:\n",
    "        ini.append(result.x[qd.index(item)])\n",
    "    else:\n",
    "        ini.append(initialvalues[item])\n",
    "points = PointsOutput(points, constant_values=system.constant_values)\n",
    "points.calc(numpy.array([ini0,ini]))\n",
    "#points.plot_time()"
   ]
  },
  {
   "cell_type": "code",
   "execution_count": null,
   "metadata": {},
   "outputs": [],
   "source": [
    "# Valid initial condition\n",
    "x = numpy.array([points.y[1][0][0], points.y[1][1][0], points.y[1][2][0], points.y[1][3][0], points.y[1][4][0],0])\n",
    "y = numpy.array([points.y[1][0][1], points.y[1][1][1], points.y[1][2][1], points.y[1][3][1], points.y[1][4][1],0])\n",
    "prettyplot(x,y)"
   ]
  },
  {
   "cell_type": "markdown",
   "metadata": {},
   "source": [
    "## Solution"
   ]
  },
  {
   "cell_type": "code",
   "execution_count": null,
   "metadata": {},
   "outputs": [],
   "source": [
    "# F=ma\n",
    "f,ma = system.getdynamics()"
   ]
  },
  {
   "cell_type": "code",
   "execution_count": null,
   "metadata": {},
   "outputs": [],
   "source": [
    "# Acceleration\n",
    "func1,lambda1 = system.state_space_post_invert(f,ma,eq_dd,return_lambda = True)"
   ]
  },
  {
   "cell_type": "code",
   "execution_count": null,
   "metadata": {},
   "outputs": [],
   "source": [
    "# Integration Tolerance\n",
    "tol = 1e-12"
   ]
  },
  {
   "cell_type": "code",
   "execution_count": null,
   "metadata": {},
   "outputs": [],
   "source": [
    "# Time\n",
    "tinitial = 0\n",
    "tfinal = 20\n",
    "fps = 30\n",
    "tstep = 1/fps\n",
    "t = numpy.r_[tinitial:tfinal:tstep]"
   ]
  },
  {
   "cell_type": "code",
   "execution_count": null,
   "metadata": {},
   "outputs": [],
   "source": [
    "# Integrate\n",
    "states=pynamics.integration.integrate(func1,ini,t,rtol=tol,atol=tol, args=({'constants':system.constant_values},))"
   ]
  },
  {
   "cell_type": "code",
   "execution_count": null,
   "metadata": {},
   "outputs": [],
   "source": [
    "# Outputs\n",
    "plt.figure()\n",
    "artists = plt.plot(t,states[:,:4])\n",
    "plt.legend(artists,['qA','qB','qC','qD'])"
   ]
  },
  {
   "cell_type": "code",
   "execution_count": null,
   "metadata": {},
   "outputs": [],
   "source": [
    "# Energy\n",
    "KE = system.get_KE()\n",
    "PE = system.getPEGravity(p0) - system.getPESprings()\n",
    "energy_output = Output([KE-PE],system)\n",
    "energy_output.calc(states)\n",
    "energy_output.plot_time()"
   ]
  },
  {
   "cell_type": "code",
   "execution_count": null,
   "metadata": {},
   "outputs": [],
   "source": [
    "# Motion\n",
    "points = [p0,p1,p2A,p3,p4]\n",
    "points_output = PointsOutput(points,system)\n",
    "y = points_output.calc(states)\n",
    "points_output.plot_time(20)"
   ]
  },
  {
   "cell_type": "code",
   "execution_count": null,
   "metadata": {},
   "outputs": [],
   "source": [
    "# Motion Animation\n",
    "points_output.animate(fps = fps,movie_name = 'render.mp4',lw=2,marker='o',color=(1,0,0,1),linestyle='-')"
   ]
  },
  {
   "cell_type": "code",
   "execution_count": null,
   "metadata": {},
   "outputs": [],
   "source": [
    "from matplotlib import animation, rc\n",
    "from IPython.display import HTML\n",
    "HTML(points_output.anim.to_html5_video())"
   ]
  },
  {
   "cell_type": "code",
   "execution_count": null,
   "metadata": {},
   "outputs": [],
   "source": []
  }
 ],
 "metadata": {
  "colab": {
   "collapsed_sections": [],
   "name": "Copy of Wing Kinematics.ipynb",
   "provenance": []
  },
  "kernelspec": {
   "display_name": "Python 3",
   "language": "python",
   "name": "python3"
  },
  "language_info": {
   "codemirror_mode": {
    "name": "ipython",
    "version": 3
   },
   "file_extension": ".py",
   "mimetype": "text/x-python",
   "name": "python",
   "nbconvert_exporter": "python",
   "pygments_lexer": "ipython3",
   "version": "3.7.9"
  }
 },
 "nbformat": 4,
 "nbformat_minor": 5
}

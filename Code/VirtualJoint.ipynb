{
 "cells": [
  {
   "cell_type": "code",
   "execution_count": 1,
   "id": "rational-surrey",
   "metadata": {},
   "outputs": [],
   "source": [
    "import sympy"
   ]
  },
  {
   "cell_type": "code",
   "execution_count": 2,
   "id": "sunrise-netscape",
   "metadata": {},
   "outputs": [],
   "source": [
    "q = sympy.Symbol('q')\n",
    "d = sympy.Symbol('d')\n",
    "L = sympy.Symbol('L')\n",
    "P = sympy.Symbol('P')\n",
    "h = sympy.Symbol('h')\n",
    "b = sympy.Symbol('b')\n",
    "E = sympy.Symbol('E')\n",
    "x = sympy.Symbol('x')"
   ]
  },
  {
   "cell_type": "code",
   "execution_count": 3,
   "id": "smooth-guide",
   "metadata": {},
   "outputs": [],
   "source": [
    "subs = {}\n",
    "#subs[k]=1000\n",
    "subs[P]=.1\n",
    "subs[L]=.1\n",
    "subs[b]=.01\n",
    "subs[h]=.01\n",
    "subs[E]=1e7\n",
    "subs[x]=.5"
   ]
  },
  {
   "cell_type": "code",
   "execution_count": 4,
   "id": "japanese-composition",
   "metadata": {},
   "outputs": [],
   "source": [
    "I = b*h**3/12"
   ]
  },
  {
   "cell_type": "code",
   "execution_count": 5,
   "id": "hairy-thumb",
   "metadata": {},
   "outputs": [
    {
     "data": {
      "text/latex": [
       "$\\displaystyle 0.004$"
      ],
      "text/plain": [
       "0.00400000000000000"
      ]
     },
     "execution_count": 5,
     "metadata": {},
     "output_type": "execute_result"
    }
   ],
   "source": [
    "d1 = P*L**3/3/E/I\n",
    "d1.subs(subs)"
   ]
  },
  {
   "cell_type": "code",
   "execution_count": 6,
   "id": "hungry-colony",
   "metadata": {},
   "outputs": [],
   "source": [
    "q1 = P*L**2/2/E/I"
   ]
  },
  {
   "cell_type": "code",
   "execution_count": 7,
   "id": "british-timeline",
   "metadata": {},
   "outputs": [
    {
     "data": {
      "text/latex": [
       "$\\displaystyle 0.06$"
      ],
      "text/plain": [
       "0.0600000000000000"
      ]
     },
     "execution_count": 7,
     "metadata": {},
     "output_type": "execute_result"
    }
   ],
   "source": [
    "q1.subs(subs)"
   ]
  },
  {
   "cell_type": "code",
   "execution_count": 8,
   "id": "colonial-canon",
   "metadata": {},
   "outputs": [
    {
     "data": {
      "text/latex": [
       "$\\displaystyle 0.0624332120451467$"
      ],
      "text/plain": [
       "0.0624332120451467"
      ]
     },
     "execution_count": 8,
     "metadata": {},
     "output_type": "execute_result"
    }
   ],
   "source": [
    "k1 = P*L*(1-x)/(sympy.asin(P*L**2/(3*E*I*(1-x))))\n",
    "k1.subs(subs)"
   ]
  },
  {
   "cell_type": "code",
   "execution_count": 9,
   "id": "several-compensation",
   "metadata": {},
   "outputs": [
    {
     "data": {
      "text/latex": [
       "$\\displaystyle 0.004$"
      ],
      "text/plain": [
       "0.00400000000000000"
      ]
     },
     "execution_count": 9,
     "metadata": {},
     "output_type": "execute_result"
    }
   ],
   "source": [
    "d2 = L*(1-x)*sympy.sin(P*L*(1-x)/k1)\n",
    "d2.subs(subs)"
   ]
  },
  {
   "cell_type": "code",
   "execution_count": 10,
   "id": "outer-dallas",
   "metadata": {},
   "outputs": [],
   "source": [
    "q2 = P*L*(1-x)/k1"
   ]
  },
  {
   "cell_type": "code",
   "execution_count": 11,
   "id": "headed-choir",
   "metadata": {},
   "outputs": [
    {
     "data": {
      "text/latex": [
       "$\\displaystyle 0.080085580033659$"
      ],
      "text/plain": [
       "0.0800855800336590"
      ]
     },
     "execution_count": 11,
     "metadata": {},
     "output_type": "execute_result"
    }
   ],
   "source": [
    "q2.subs(subs)"
   ]
  },
  {
   "cell_type": "code",
   "execution_count": 12,
   "id": "naked-stage",
   "metadata": {},
   "outputs": [],
   "source": [
    "k2 = 2*E*I*(1-x)/(L)"
   ]
  },
  {
   "cell_type": "code",
   "execution_count": 13,
   "id": "technical-impression",
   "metadata": {},
   "outputs": [],
   "source": [
    "q3 = P*L*(1-x)/k2"
   ]
  },
  {
   "cell_type": "code",
   "execution_count": 14,
   "id": "champion-coordinator",
   "metadata": {},
   "outputs": [
    {
     "data": {
      "text/latex": [
       "$\\displaystyle 0.06$"
      ],
      "text/plain": [
       "0.0600000000000000"
      ]
     },
     "execution_count": 14,
     "metadata": {},
     "output_type": "execute_result"
    }
   ],
   "source": [
    "q3.subs(subs)"
   ]
  },
  {
   "cell_type": "code",
   "execution_count": 15,
   "id": "protective-festival",
   "metadata": {},
   "outputs": [],
   "source": [
    "d3 = L*(1-x)*sympy.sin(P*L*(1-x)/k2)"
   ]
  },
  {
   "cell_type": "code",
   "execution_count": 16,
   "id": "senior-semester",
   "metadata": {},
   "outputs": [
    {
     "data": {
      "text/latex": [
       "$\\displaystyle 0.004$"
      ],
      "text/plain": [
       "0.00400000000000000"
      ]
     },
     "execution_count": 16,
     "metadata": {},
     "output_type": "execute_result"
    }
   ],
   "source": [
    "d1.subs(subs)"
   ]
  },
  {
   "cell_type": "code",
   "execution_count": 17,
   "id": "apart-damage",
   "metadata": {},
   "outputs": [
    {
     "data": {
      "text/latex": [
       "$\\displaystyle 0.00299820032397223$"
      ],
      "text/plain": [
       "0.00299820032397223"
      ]
     },
     "execution_count": 17,
     "metadata": {},
     "output_type": "execute_result"
    }
   ],
   "source": [
    "d3.subs(subs)"
   ]
  },
  {
   "cell_type": "code",
   "execution_count": 18,
   "id": "referenced-extent",
   "metadata": {},
   "outputs": [],
   "source": [
    "del subs[x]"
   ]
  },
  {
   "cell_type": "code",
   "execution_count": 19,
   "id": "peripheral-series",
   "metadata": {},
   "outputs": [
    {
     "data": {
      "text/latex": [
       "$\\displaystyle \\left[\\begin{matrix}0\\\\0.06 - \\operatorname{asin}{\\left(\\frac{0.04}{1 - x} \\right)}\\end{matrix}\\right]$"
      ],
      "text/plain": [
       "Matrix([\n",
       "[                        0],\n",
       "[0.06 - asin(0.04/(1 - x))]])"
      ]
     },
     "execution_count": 19,
     "metadata": {},
     "output_type": "execute_result"
    }
   ],
   "source": [
    "error = []\n",
    "error.append(d1-d2)\n",
    "error.append(q1-q2)\n",
    "error= sympy.Matrix(error)\n",
    "error = error.subs(subs)\n",
    "error"
   ]
  },
  {
   "cell_type": "code",
   "execution_count": 20,
   "id": "preceding-paris",
   "metadata": {},
   "outputs": [],
   "source": [
    "import scipy.optimize"
   ]
  },
  {
   "cell_type": "code",
   "execution_count": 21,
   "id": "balanced-services",
   "metadata": {},
   "outputs": [],
   "source": [
    "f = sympy.lambdify((x),error)"
   ]
  },
  {
   "cell_type": "code",
   "execution_count": 22,
   "id": "downtown-engineer",
   "metadata": {},
   "outputs": [],
   "source": [
    "def f2(args):\n",
    "    a = f(*args)\n",
    "    b = (a**2).sum()\n",
    "    return b"
   ]
  },
  {
   "cell_type": "code",
   "execution_count": 23,
   "id": "raising-fight",
   "metadata": {},
   "outputs": [
    {
     "data": {
      "text/plain": [
       "      fun: 2.0974856866229214e-09\n",
       " hess_inv: array([[65.11062045]])\n",
       "      jac: array([-8.23593665e-06])\n",
       "  message: 'Optimization terminated successfully.'\n",
       "     nfev: 14\n",
       "      nit: 4\n",
       "     njev: 7\n",
       "   status: 0\n",
       "  success: True\n",
       "        x: array([0.33242421])"
      ]
     },
     "execution_count": 23,
     "metadata": {},
     "output_type": "execute_result"
    }
   ],
   "source": [
    "sol = scipy.optimize.minimize(f2,[.25])\n",
    "sol"
   ]
  },
  {
   "cell_type": "code",
   "execution_count": 24,
   "id": "alpha-wound",
   "metadata": {},
   "outputs": [],
   "source": [
    "subs[x]=sol.x[0]"
   ]
  },
  {
   "cell_type": "code",
   "execution_count": 25,
   "id": "careful-machine",
   "metadata": {},
   "outputs": [
    {
     "data": {
      "text/latex": [
       "$\\displaystyle 0.004$"
      ],
      "text/plain": [
       "0.00400000000000000"
      ]
     },
     "execution_count": 25,
     "metadata": {},
     "output_type": "execute_result"
    }
   ],
   "source": [
    "d2.subs(subs)"
   ]
  },
  {
   "cell_type": "code",
   "execution_count": 26,
   "id": "saved-assembly",
   "metadata": {},
   "outputs": [
    {
     "data": {
      "text/latex": [
       "$\\displaystyle 0.0599542016846748$"
      ],
      "text/plain": [
       "0.0599542016846748"
      ]
     },
     "execution_count": 26,
     "metadata": {},
     "output_type": "execute_result"
    }
   ],
   "source": [
    "q2.subs(subs)"
   ]
  },
  {
   "cell_type": "code",
   "execution_count": null,
   "id": "capable-dance",
   "metadata": {},
   "outputs": [],
   "source": []
  }
 ],
 "metadata": {
  "kernelspec": {
   "display_name": "Python 3",
   "language": "python",
   "name": "python3"
  },
  "language_info": {
   "codemirror_mode": {
    "name": "ipython",
    "version": 3
   },
   "file_extension": ".py",
   "mimetype": "text/x-python",
   "name": "python",
   "nbconvert_exporter": "python",
   "pygments_lexer": "ipython3",
   "version": "3.8.5"
  }
 },
 "nbformat": 4,
 "nbformat_minor": 5
}

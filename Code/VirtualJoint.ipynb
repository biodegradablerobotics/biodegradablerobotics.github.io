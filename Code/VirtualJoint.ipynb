{
 "cells": [
  {
   "cell_type": "code",
   "execution_count": 1,
   "id": "stretch-values",
   "metadata": {},
   "outputs": [],
   "source": [
    "import sympy"
   ]
  },
  {
   "cell_type": "code",
   "execution_count": 2,
   "id": "coated-mailing",
   "metadata": {},
   "outputs": [],
   "source": [
    "q = sympy.Symbol('q')\n",
    "d = sympy.Symbol('d')\n",
    "L = sympy.Symbol('L')\n",
    "P = sympy.Symbol('P')\n",
    "h = sympy.Symbol('h')\n",
    "b = sympy.Symbol('b')\n",
    "x = sympy.Symbol('x')\n",
    "E = sympy.Symbol('E')"
   ]
  },
  {
   "cell_type": "code",
   "execution_count": 3,
   "id": "regional-topic",
   "metadata": {},
   "outputs": [],
   "source": [
    "subs = {}\n",
    "#subs[k]=1000\n",
    "subs[P]=1\n",
    "subs[x]=.5\n",
    "subs[b]=.15\n",
    "subs[h]=.004"
   ]
  },
  {
   "cell_type": "code",
   "execution_count": 4,
   "id": "recreational-clause",
   "metadata": {},
   "outputs": [],
   "source": [
    "# LINKS A and B\n",
    "#subs[L]=.15\n",
    "# LINKS C and D\n",
    "#subs[L]=.165\n",
    "# AB ANGLE LIMITER\n",
    "subs[L]=.3"
   ]
  },
  {
   "cell_type": "code",
   "execution_count": 5,
   "id": "comprehensive-empire",
   "metadata": {},
   "outputs": [],
   "source": [
    "# FROM HARDWARE TESTING\n",
    "subs[E]=844.45e6"
   ]
  },
  {
   "cell_type": "markdown",
   "id": "cutting-august",
   "metadata": {},
   "source": [
    "# Approximating a cantilever with a single revolute joint"
   ]
  },
  {
   "cell_type": "markdown",
   "id": "optional-facility",
   "metadata": {},
   "source": [
    "Cross sectional moment of inertia for a rectangle"
   ]
  },
  {
   "cell_type": "code",
   "execution_count": 6,
   "id": "solved-halifax",
   "metadata": {},
   "outputs": [],
   "source": [
    "I = b*h**3/12"
   ]
  },
  {
   "cell_type": "code",
   "execution_count": 7,
   "id": "ultimate-ability",
   "metadata": {},
   "outputs": [
    {
     "data": {
      "text/latex": [
       "$\\displaystyle 0.0133222807744686$"
      ],
      "text/plain": [
       "0.0133222807744686"
      ]
     },
     "execution_count": 7,
     "metadata": {},
     "output_type": "execute_result"
    }
   ],
   "source": [
    "d1 = P*L**3/3/E/I\n",
    "d1.subs(subs)"
   ]
  },
  {
   "cell_type": "code",
   "execution_count": 8,
   "id": "restricted-authority",
   "metadata": {},
   "outputs": [],
   "source": [
    "q1 = P*L**2/2/E/I"
   ]
  },
  {
   "cell_type": "code",
   "execution_count": 9,
   "id": "recreational-lending",
   "metadata": {},
   "outputs": [
    {
     "data": {
      "text/latex": [
       "$\\displaystyle 0.0666114038723429$"
      ],
      "text/plain": [
       "0.0666114038723429"
      ]
     },
     "execution_count": 9,
     "metadata": {},
     "output_type": "execute_result"
    }
   ],
   "source": [
    "q1.subs(subs)"
   ]
  },
  {
   "cell_type": "markdown",
   "id": "natural-vietnam",
   "metadata": {},
   "source": [
    "# 2-Link Approximation: Matching Displacement"
   ]
  },
  {
   "cell_type": "code",
   "execution_count": 10,
   "id": "relevant-piece",
   "metadata": {},
   "outputs": [
    {
     "data": {
      "text/latex": [
       "$\\displaystyle 1.68667463715925$"
      ],
      "text/plain": [
       "1.68667463715925"
      ]
     },
     "execution_count": 10,
     "metadata": {},
     "output_type": "execute_result"
    }
   ],
   "source": [
    "k1 = P*L*(1-x)/(sympy.asin(P*L**2/(3*E*I*(1-x))))\n",
    "k1.subs(subs)"
   ]
  },
  {
   "cell_type": "markdown",
   "id": "completed-punch",
   "metadata": {},
   "source": [
    "The displacement matches"
   ]
  },
  {
   "cell_type": "code",
   "execution_count": 11,
   "id": "stock-canberra",
   "metadata": {},
   "outputs": [
    {
     "data": {
      "text/latex": [
       "$\\displaystyle 0.0133222807744686$"
      ],
      "text/plain": [
       "0.0133222807744686"
      ]
     },
     "execution_count": 11,
     "metadata": {},
     "output_type": "execute_result"
    }
   ],
   "source": [
    "d2 = L*(1-x)*sympy.sin(P*L*(1-x)/k1)\n",
    "d2.subs(subs)"
   ]
  },
  {
   "cell_type": "markdown",
   "id": "arabic-pastor",
   "metadata": {},
   "source": [
    "But the orientation does not"
   ]
  },
  {
   "cell_type": "code",
   "execution_count": 12,
   "id": "smooth-olympus",
   "metadata": {},
   "outputs": [],
   "source": [
    "q2 = P*L*(1-x)/k1"
   ]
  },
  {
   "cell_type": "code",
   "execution_count": 13,
   "id": "modified-italian",
   "metadata": {},
   "outputs": [
    {
     "data": {
      "text/latex": [
       "$\\displaystyle 0.0889323860662511$"
      ],
      "text/plain": [
       "0.0889323860662511"
      ]
     },
     "execution_count": 13,
     "metadata": {},
     "output_type": "execute_result"
    }
   ],
   "source": [
    "q2.subs(subs)"
   ]
  },
  {
   "cell_type": "markdown",
   "id": "completed-indian",
   "metadata": {},
   "source": [
    "# Matching Theta"
   ]
  },
  {
   "cell_type": "code",
   "execution_count": 14,
   "id": "impressed-stick",
   "metadata": {},
   "outputs": [],
   "source": [
    "k2 = 2*E*I*(1-x)/(L)"
   ]
  },
  {
   "cell_type": "markdown",
   "id": "humanitarian-dialogue",
   "metadata": {},
   "source": [
    "Now orientation matches"
   ]
  },
  {
   "cell_type": "code",
   "execution_count": 15,
   "id": "chemical-verse",
   "metadata": {},
   "outputs": [],
   "source": [
    "q3 = P*L*(1-x)/k2"
   ]
  },
  {
   "cell_type": "code",
   "execution_count": 16,
   "id": "wrong-floor",
   "metadata": {},
   "outputs": [
    {
     "data": {
      "text/latex": [
       "$\\displaystyle 0.0666114038723429$"
      ],
      "text/plain": [
       "0.0666114038723429"
      ]
     },
     "execution_count": 16,
     "metadata": {},
     "output_type": "execute_result"
    }
   ],
   "source": [
    "q3.subs(subs)"
   ]
  },
  {
   "cell_type": "markdown",
   "id": "automotive-diving",
   "metadata": {},
   "source": [
    "But displacement does not"
   ]
  },
  {
   "cell_type": "code",
   "execution_count": 17,
   "id": "prostate-poison",
   "metadata": {},
   "outputs": [],
   "source": [
    "d3 = L*(1-x)*sympy.sin(P*L*(1-x)/k2)"
   ]
  },
  {
   "cell_type": "code",
   "execution_count": 18,
   "id": "adolescent-albania",
   "metadata": {},
   "outputs": [
    {
     "data": {
      "text/latex": [
       "$\\displaystyle 0.0133222807744686$"
      ],
      "text/plain": [
       "0.0133222807744686"
      ]
     },
     "execution_count": 18,
     "metadata": {},
     "output_type": "execute_result"
    }
   ],
   "source": [
    "d1.subs(subs)"
   ]
  },
  {
   "cell_type": "code",
   "execution_count": 19,
   "id": "egyptian-marble",
   "metadata": {},
   "outputs": [
    {
     "data": {
      "text/latex": [
       "$\\displaystyle 0.00998432321821591$"
      ],
      "text/plain": [
       "0.00998432321821591"
      ]
     },
     "execution_count": 19,
     "metadata": {},
     "output_type": "execute_result"
    }
   ],
   "source": [
    "d3.subs(subs)"
   ]
  },
  {
   "cell_type": "markdown",
   "id": "sustainable-synthesis",
   "metadata": {},
   "source": [
    "# Matching Both"
   ]
  },
  {
   "cell_type": "code",
   "execution_count": 20,
   "id": "miniature-essence",
   "metadata": {},
   "outputs": [],
   "source": [
    "del subs[x]"
   ]
  },
  {
   "cell_type": "code",
   "execution_count": 21,
   "id": "duplicate-carrier",
   "metadata": {},
   "outputs": [
    {
     "data": {
      "text/latex": [
       "$\\displaystyle \\left[\\begin{matrix}0\\\\0.0666114038723429 - \\operatorname{asin}{\\left(\\frac{0.044407602581562}{1 - x} \\right)}\\end{matrix}\\right]$"
      ],
      "text/plain": [
       "Matrix([\n",
       "[                                                   0],\n",
       "[0.0666114038723429 - asin(0.044407602581562/(1 - x))]])"
      ]
     },
     "execution_count": 21,
     "metadata": {},
     "output_type": "execute_result"
    }
   ],
   "source": [
    "error = []\n",
    "error.append(d1-d2)\n",
    "error.append(q1-q2)\n",
    "error= sympy.Matrix(error)\n",
    "error = error.subs(subs)\n",
    "error"
   ]
  },
  {
   "cell_type": "code",
   "execution_count": 22,
   "id": "silver-answer",
   "metadata": {},
   "outputs": [],
   "source": [
    "import scipy.optimize"
   ]
  },
  {
   "cell_type": "code",
   "execution_count": 23,
   "id": "native-spare",
   "metadata": {},
   "outputs": [],
   "source": [
    "f = sympy.lambdify((x),error)"
   ]
  },
  {
   "cell_type": "code",
   "execution_count": 24,
   "id": "blind-march",
   "metadata": {},
   "outputs": [],
   "source": [
    "def f2(args):\n",
    "    a = f(*args)\n",
    "    b = (a**2).sum()\n",
    "    return b"
   ]
  },
  {
   "cell_type": "code",
   "execution_count": 25,
   "id": "gross-sailing",
   "metadata": {},
   "outputs": [
    {
     "data": {
      "text/plain": [
       "      fun: 2.247344038984892e-09\n",
       " hess_inv: array([[64.87248289]])\n",
       "      jac: array([9.49405297e-06])\n",
       "  message: 'Optimization terminated successfully.'\n",
       "     nfev: 12\n",
       "      nit: 3\n",
       "     njev: 6\n",
       "   status: 0\n",
       "  success: True\n",
       "        x: array([0.33331384])"
      ]
     },
     "execution_count": 25,
     "metadata": {},
     "output_type": "execute_result"
    }
   ],
   "source": [
    "sol = scipy.optimize.minimize(f2,[.25])\n",
    "sol"
   ]
  },
  {
   "cell_type": "markdown",
   "id": "confused-flexibility",
   "metadata": {},
   "source": [
    "Now add x back to the list of substitutions"
   ]
  },
  {
   "cell_type": "code",
   "execution_count": 26,
   "id": "stretch-basics",
   "metadata": {},
   "outputs": [],
   "source": [
    "subs[x]=sol.x[0]"
   ]
  },
  {
   "cell_type": "markdown",
   "id": "rapid-florence",
   "metadata": {},
   "source": [
    "So a virtual joint at x correctly approximates displacement and orientation."
   ]
  },
  {
   "cell_type": "code",
   "execution_count": 27,
   "id": "aware-pavilion",
   "metadata": {},
   "outputs": [
    {
     "data": {
      "text/latex": [
       "$\\displaystyle 0.0133222807744686$"
      ],
      "text/plain": [
       "0.0133222807744686"
      ]
     },
     "execution_count": 27,
     "metadata": {},
     "output_type": "execute_result"
    }
   ],
   "source": [
    "d2.subs(subs)"
   ]
  },
  {
   "cell_type": "code",
   "execution_count": 28,
   "id": "talented-spelling",
   "metadata": {},
   "outputs": [
    {
     "data": {
      "text/latex": [
       "$\\displaystyle 0.0666588100326913$"
      ],
      "text/plain": [
       "0.0666588100326913"
      ]
     },
     "execution_count": 28,
     "metadata": {},
     "output_type": "execute_result"
    }
   ],
   "source": [
    "q2.subs(subs)"
   ]
  },
  {
   "cell_type": "markdown",
   "id": "brilliant-shipping",
   "metadata": {},
   "source": [
    "# Results"
   ]
  },
  {
   "cell_type": "code",
   "execution_count": 29,
   "id": "paperback-disorder",
   "metadata": {},
   "outputs": [
    {
     "data": {
      "text/latex": [
       "$\\displaystyle 0.333313835278206$"
      ],
      "text/plain": [
       "0.333313835278206"
      ]
     },
     "execution_count": 29,
     "metadata": {},
     "output_type": "execute_result"
    }
   ],
   "source": [
    "x.subs(subs)"
   ]
  },
  {
   "cell_type": "code",
   "execution_count": 30,
   "id": "deadly-accountability",
   "metadata": {},
   "outputs": [
    {
     "data": {
      "text/latex": [
       "$\\displaystyle 3.00044134178888$"
      ],
      "text/plain": [
       "3.00044134178888"
      ]
     },
     "execution_count": 30,
     "metadata": {},
     "output_type": "execute_result"
    }
   ],
   "source": [
    "k1.subs(subs)"
   ]
  },
  {
   "cell_type": "code",
   "execution_count": 31,
   "id": "educational-diabetes",
   "metadata": {},
   "outputs": [
    {
     "data": {
      "text/latex": [
       "$\\displaystyle 3.0025767029297$"
      ],
      "text/plain": [
       "3.00257670292970"
      ]
     },
     "execution_count": 31,
     "metadata": {},
     "output_type": "execute_result"
    }
   ],
   "source": [
    "k2.subs(subs)"
   ]
  },
  {
   "cell_type": "markdown",
   "id": "alternate-uncle",
   "metadata": {},
   "source": [
    "AB: L1 = 0.5 \n",
    "    \n",
    "    L2 = 0.1\n",
    "    \n",
    "    K = 6\n",
    "\n",
    "CD: L1 = 0.55 \n",
    "    \n",
    "    L2 = 0.11\n",
    "    \n",
    "    K = 5.5\n",
    "    \n",
    "Angle Limiter (x=0.5): k = 3"
   ]
  }
 ],
 "metadata": {
  "kernelspec": {
   "display_name": "Python 3",
   "language": "python",
   "name": "python3"
  },
  "language_info": {
   "codemirror_mode": {
    "name": "ipython",
    "version": 3
   },
   "file_extension": ".py",
   "mimetype": "text/x-python",
   "name": "python",
   "nbconvert_exporter": "python",
   "pygments_lexer": "ipython3",
   "version": "3.8.5"
  }
 },
 "nbformat": 4,
 "nbformat_minor": 5
}

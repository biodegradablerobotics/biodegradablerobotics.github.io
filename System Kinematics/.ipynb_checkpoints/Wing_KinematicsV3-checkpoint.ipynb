{
 "cells": [
  {
   "cell_type": "markdown",
   "id": "directed-petroleum",
   "metadata": {
    "id": "suspected-amateur"
   },
   "source": [
    "# Wing Kinematics"
   ]
  },
  {
   "cell_type": "code",
   "execution_count": 1,
   "id": "executed-circus",
   "metadata": {
    "colab": {
     "base_uri": "https://localhost:8080/"
    },
    "id": "pi7Co6-jBLqJ",
    "outputId": "3e0b02e5-7b83-4a8a-fb4e-f100a21e47fb"
   },
   "outputs": [],
   "source": [
    "#pip install pynamics"
   ]
  },
  {
   "cell_type": "code",
   "execution_count": 2,
   "id": "superior-government",
   "metadata": {
    "id": "frequent-douglas"
   },
   "outputs": [],
   "source": [
    "%matplotlib inline\n",
    "import scipy.optimize\n",
    "import pynamics\n",
    "from pynamics.frame import Frame\n",
    "from pynamics.variable_types import Differentiable,Constant\n",
    "from pynamics.system import System\n",
    "from pynamics.body import Body\n",
    "from pynamics.dyadic import Dyadic\n",
    "from pynamics.output import Output,PointsOutput\n",
    "from pynamics.particle import Particle\n",
    "import pynamics.integration\n",
    "import numpy\n",
    "import sympy\n",
    "import matplotlib.pyplot as plt\n",
    "from matplotlib.patches import Arc\n",
    "plt.ion()\n",
    "from math import pi, sin, cos, tan, asin, acos, atan, degrees, radians"
   ]
  },
  {
   "cell_type": "code",
   "execution_count": 3,
   "id": "precious-drive",
   "metadata": {},
   "outputs": [],
   "source": [
    "def prettyplot(x,y): # Function plots mechanism and generates labels\n",
    "    # Create Figure\n",
    "    Fig1 = plt.figure(figsize=[15,15])\n",
    "    ax = Fig1.add_axes([0.0, 0.0, 1.0, 1.0], aspect='equal')\n",
    "    \n",
    "    # plot links and joints\n",
    "    plt.plot(x[0:3],y[0:3],color='tab:blue')\n",
    "    plt.plot(x[2:5],y[2:5],color='tab:green')\n",
    "    plt.plot(x[4:],y[4:],color='k')\n",
    "    plt.scatter(x,y,color='k')\n",
    "    plt.axis('equal')\n",
    "    plt.xlim([-10,120])\n",
    "    \n",
    "    # label joints\n",
    "    for i in range(0, len(x)-1):\n",
    "        plt.text(x[i]-1, y[i]-1, \"p\"+str(i), verticalalignment='top', horizontalalignment='right', fontsize=14)\n",
    "    \n",
    "    # plot COMs\n",
    "    comx = [(x[0]+x[1])/2, (x[1]+x[2])/2, (x[4]+x[3])/2, (x[3]+x[2])/2, (x[4]+x[0])/2]\n",
    "    comy = [(y[0]+y[1])/2, (y[1]+y[2])/2, (y[4]+y[3])/2, (y[3]+y[2])/2, (y[4]+y[0])/2]\n",
    "    plt.scatter(comx,comy,color='k')\n",
    "    \n",
    "    # label COMs\n",
    "    linknames = ['A', 'B', 'C', 'D', 'E']\n",
    "    for i in range(0, len(comx)):\n",
    "        plt.text(comx[i]+1, comy[i], linknames[i], verticalalignment='bottom', horizontalalignment='left', weight='bold', fontsize=16)\n",
    "    \n",
    "    # label properties\n",
    "    propertynames = ['La', 'Lb', 'Lc', 'Ld', 'Le']\n",
    "    for i in range(0, len(comx)):\n",
    "        plt.text(comx[i]+4, comy[i], propertynames[i], verticalalignment='bottom', horizontalalignment='left', fontsize=14)\n",
    "    \n",
    "    \n",
    "    # plot frame axes\n",
    "    alen = 10    \n",
    "    plt.arrow(0, 0, alen, 0,head_width=2,width=0.1,color='r')\n",
    "    plt.arrow(0, 0, 0, alen,head_width=2,width=0.1,color='r')\n",
    "    vx = []\n",
    "    vy = []\n",
    "    for i in range(1, len(x)-2):\n",
    "        if i <= 2: \n",
    "            vecx = numpy.array([x[i]-x[i-1], y[i]-y[i-1]])\n",
    "            vecx = vecx/(vecx.dot(vecx)**0.5)\n",
    "            vecy = numpy.cross([0,0,1], vecx)[0:2]\n",
    "            plt.arrow(x[i], y[i], alen*vecx[0], alen*vecx[1],head_width=2,width=0.1,color='b')\n",
    "            plt.arrow(x[i], y[i], alen*vecy[0], alen*vecy[1],head_width=2,width=0.1,color='b')\n",
    "            vx.append(vecx)\n",
    "            vy.append(vecy)\n",
    "        if i >= 2:\n",
    "            vecx = numpy.array([x[i]-x[i+1], y[i]-y[i+1]])\n",
    "            vecx = vecx/(vecx.dot(vecx)**0.5)\n",
    "            vecy = numpy.cross([0,0,1], vecx)[0:2]\n",
    "            plt.arrow(x[i], y[i], alen*vecx[0], alen*vecx[1],head_width=2,width=0.1,color='g')\n",
    "            plt.arrow(x[i], y[i], alen*vecy[0], alen*vecy[1],head_width=2,width=0.1,color='g')\n",
    "            vx.append(vecx)\n",
    "            vy.append(vecy)\n",
    "\n",
    "    # label frames\n",
    "    lablen = 15\n",
    "\n",
    "    plt.text(x[0]+15, y[0], 'Nx', verticalalignment='center', horizontalalignment='center', color='r', fontsize=14)\n",
    "    plt.text(x[0], y[0]+15, 'Ny', verticalalignment='center', horizontalalignment='center', color='r', fontsize=14)\n",
    "    \n",
    "    plt.text(x[1]+lablen*vx[0][0], y[1]+lablen*vx[0][1], 'Ax', verticalalignment='center', horizontalalignment='center', color='b', fontsize=14)\n",
    "    plt.text(x[1]+lablen*vy[0][0], y[1]+lablen*vy[0][1], 'Ay', verticalalignment='center', horizontalalignment='center', color='b', fontsize=14)\n",
    "\n",
    "    plt.text(x[2]+lablen*vx[1][0], y[2]+lablen*vx[1][1], 'Bx', verticalalignment='center', horizontalalignment='center', color='b', fontsize=14)\n",
    "    plt.text(x[2]+lablen*vy[1][0], y[2]+lablen*vy[1][1], 'By', verticalalignment='center', horizontalalignment='center', color='b', fontsize=14)\n",
    "\n",
    "    plt.text(x[3]+lablen*vx[3][0], y[3]+lablen*vx[3][1], 'Cx', verticalalignment='center', horizontalalignment='center', color='g', fontsize=14)\n",
    "    plt.text(x[3]+lablen*vy[3][0], y[3]+lablen*vy[3][1], 'Cy', verticalalignment='center', horizontalalignment='center', color='g', fontsize=14)\n",
    "\n",
    "    plt.text(x[2]+lablen*vx[2][0], y[2]+lablen*vx[2][1], 'Dx', verticalalignment='center', horizontalalignment='center', color='g', fontsize=14)\n",
    "    plt.text(x[2]+lablen*vy[2][0], y[2]+lablen*vy[2][1], 'Dy', verticalalignment='center', horizontalalignment='center', color='g', fontsize=14)\n",
    "\n",
    "    # plot angles\n",
    "    Aang1 = 0\n",
    "    Aang2 = degrees(atan(vx[0][1]/vx[0][0]))\n",
    "    ax.add_patch(Arc((0, 0), 10, 10, theta1=min(Aang1, Aang2), theta2=max(Aang1, Aang2), edgecolor='k', linewidth=1.5, label='q1'))\n",
    "\n",
    "    Bang1 = degrees(atan(vx[0][1]/vx[0][0]))\n",
    "    Bang2 = degrees(atan(vx[1][1]/vx[1][0]))\n",
    "    ax.add_patch(Arc((x[1], y[1]), 10, 10, theta1=min(Bang1, Bang2), theta2=max(Bang1, Bang2), edgecolor='k', linewidth=1.5))\n",
    "\n",
    "    plt.plot([0,10],[10,10],color='k',linewidth=1)\n",
    "    Cang1 = 0\n",
    "    Cang2 = degrees(atan(vx[3][1]/vx[3][0]))\n",
    "    ax.add_patch(Arc((x[4], y[4]), 10, 10, theta1=min(Cang1, Cang2), theta2=max(Cang1, Cang2), edgecolor='k', linewidth=1.5))\n",
    "\n",
    "    Dang1 = degrees(atan(vx[3][1]/vx[3][0]))\n",
    "    Dang2 = degrees(atan(vx[2][1]/vx[2][0]))\n",
    "    ax.add_patch(Arc((x[3], y[3]), 10, 10, theta1=min(Dang1, Dang2), theta2=max(Dang1, Dang2), edgecolor='k', linewidth=1.5))\n",
    "\n",
    "    # label angles\n",
    "    plt.text(x[0]+8*cos(radians((Aang1+Aang2)/2)), y[0]+8*sin(radians((Aang1+Aang2)/2)), 'qA', verticalalignment='center', horizontalalignment='center', fontsize=14)\n",
    "    plt.text(x[1]+8*cos(radians((Bang1+Bang2)/2)), y[1]+8*sin(radians((Bang1+Bang2)/2)), 'qB', verticalalignment='center', horizontalalignment='center', fontsize=14)\n",
    "    plt.text(x[4]+8*cos(radians((Cang1+Cang2)/2)), y[4]+8*sin(radians((Cang1+Cang2)/2)), 'qC', verticalalignment='center', horizontalalignment='center', fontsize=14)\n",
    "    plt.text(x[3]+8*cos(radians((Dang1+Dang2)/2)), y[3]+8*sin(radians((Dang1+Dang2)/2)), 'qD', verticalalignment='center', horizontalalignment='center', fontsize=14)"
   ]
  },
  {
   "cell_type": "markdown",
   "id": "piano-marsh",
   "metadata": {
    "id": "powered-overhead"
   },
   "source": [
    "## 1. Create a figure\n",
    "Create a figure (either in python, in a vector-based drawing program like inkscape or illustrator, or as a solidworks rendering) of your system kinematics. Annotate the image to include:\n",
    "\n",
    "- Names for each rotational reference frame. You will need one for each rigid body (that moves independently), as well as one for the Newtonian reference frame (N). Use the convention of a capital letter (A,B,C,…)\n",
    "- Labeled joint locations\n",
    "- A set of orthonormal basis vectors for each fram. It is best practice to align one of the basis vectors with each rigid link.\n",
    "- variable names for each state variable \n",
    "- geometric constants such as link lengths\n",
    "\n",
    "Save this figure for reuse later. You will need to add mass and inertial information as well as system stiffness information, so make sure you do your work in a way that permits reusing and modifying the figure."
   ]
  },
  {
   "cell_type": "code",
   "execution_count": 4,
   "id": "freelance-pontiac",
   "metadata": {},
   "outputs": [
    {
     "data": {
      "image/png": "[encoded data removed]",
      "text/plain": [
       "<Figure size 1080x1080 with 1 Axes>"
      ]
     },
     "metadata": {
      "needs_background": "light"
     },
     "output_type": "display_data"
    }
   ],
   "source": [
    "# Kinematics Demo Position\n",
    "x = numpy.array([0, 47.5, 95, 47.05, 0, 0])\n",
    "y = numpy.array([0, 15.61, 0, 26.93, 10, 0])\n",
    "prettyplot(x,y)"
   ]
  },
  {
   "cell_type": "markdown",
   "id": "exclusive-aging",
   "metadata": {
    "id": "under-india"
   },
   "source": [
    "## 2. Make the device in paper or cardboard. \n",
    "You need an up-to-date model if it has changed from your individual assignments. The paper model should dimensionally match your code."
   ]
  },
  {
   "cell_type": "markdown",
   "id": "suitable-offer",
   "metadata": {
    "id": "gentle-denmark"
   },
   "source": [
    "![](https://github.com/biodegradablerobotics/biodegradablerobotics.github.io/blob/main/System%20Kinematics/paper%20wing%20reduce.jpeg?raw=1)"
   ]
  },
  {
   "cell_type": "markdown",
   "id": "written-canadian",
   "metadata": {
    "id": "frozen-chair"
   },
   "source": [
    "## 3. Develop a Kinematic Model\n",
    "\n",
    "Using a pynamics-based script, develop a kinematic model for your device. Following the triple pendulum example,\n",
    "\n",
    "1. Import packages\n",
    "\n",
    "2. Define variables and constants (you may want to add, remove, or rename variables to match your figure)\n",
    "    \n",
    "3. Declare frames (you may need to add frames or rename them)\n",
    "\n",
    "4. Define frame rotations (you may want to switch the axis about which frames rotate)\n",
    "\n",
    "5. Compose kinematics (this depends entirely on the geometry of your system)\n",
    "\n",
    "6. Take time-derivatives of position vectors\n",
    "\n",
    "7. Assemble into a Jacobian that maps input velocities to output velocities."
   ]
  },
  {
   "cell_type": "code",
   "execution_count": 5,
   "id": "individual-glance",
   "metadata": {},
   "outputs": [],
   "source": [
    "# Create a pynamics system\n",
    "system = System()\n",
    "pynamics.set_system(__name__,system)"
   ]
  },
  {
   "cell_type": "code",
   "execution_count": 6,
   "id": "assisted-pressure",
   "metadata": {},
   "outputs": [],
   "source": [
    "# Declare constants\n",
    "lA_num = 0.05\n",
    "lB_num = 0.05\n",
    "lC_num = 0.055\n",
    "lD_num = 0.05\n",
    "lE_num = 0.01\n",
    "\n",
    "lA = Constant(lA_num,'lA',system)\n",
    "lB = Constant(lB_num,'lB',system)\n",
    "lC = Constant(lC_num,'lC',system)\n",
    "lD = Constant(lD_num,'lD',system)\n",
    "lE = Constant(lE_num,'lE',system)"
   ]
  },
  {
   "cell_type": "code",
   "execution_count": 7,
   "id": "invalid-given",
   "metadata": {},
   "outputs": [],
   "source": [
    "# Create differentiable state variables\n",
    "qA,qA_d,qA_dd = Differentiable('qA',system)\n",
    "qB,qB_d,qB_dd = Differentiable('qB',system)\n",
    "qC,qC_d,qC_dd = Differentiable('qC',system)\n",
    "qD,qD_d,qD_dd = Differentiable('qD',system)"
   ]
  },
  {
   "cell_type": "code",
   "execution_count": 8,
   "id": "negative-tours",
   "metadata": {},
   "outputs": [],
   "source": [
    "# initial values\n",
    "# qC = 11.97 creates fully extended, horizontal wing\n",
    "initialvalues = {}\n",
    "initialvalues[qA]=0*pi/180\n",
    "initialvalues[qA_d]=0*pi/180\n",
    "initialvalues[qB]=0*pi/180\n",
    "initialvalues[qB_d]=0*pi/180\n",
    "\n",
    "initialvalues[qC]=11.97*pi/180\n",
    "initialvalues[qC_d]=0*pi/180\n",
    "initialvalues[qD]=0*pi/180\n",
    "initialvalues[qD_d]=0*pi/180"
   ]
  },
  {
   "cell_type": "code",
   "execution_count": 9,
   "id": "auburn-intensity",
   "metadata": {},
   "outputs": [],
   "source": [
    "# Retrieve state variables in the order they are stored in the system\n",
    "# Create a list of initial values ini0 in the order of the system’s state variables\n",
    "statevariables = system.get_state_variables()\n",
    "ini0 = [initialvalues[item] for item in statevariables]"
   ]
  },
  {
   "cell_type": "code",
   "execution_count": 10,
   "id": "affiliated-pressing",
   "metadata": {},
   "outputs": [],
   "source": [
    "# Create frames\n",
    "N = Frame('N')\n",
    "A = Frame('A')\n",
    "B = Frame('B')\n",
    "C = Frame('C')\n",
    "D = Frame('D')"
   ]
  },
  {
   "cell_type": "code",
   "execution_count": 11,
   "id": "welsh-saudi",
   "metadata": {},
   "outputs": [],
   "source": [
    "# Declare N as the Newtonian (fixed) frame\n",
    "system.set_newtonian(N)"
   ]
  },
  {
   "cell_type": "code",
   "execution_count": 12,
   "id": "outstanding-trade",
   "metadata": {},
   "outputs": [],
   "source": [
    "# Rotate other frames about their local Z axes.\n",
    "A.rotate_fixed_axis_directed(N,[0,0,1],qA,system)\n",
    "B.rotate_fixed_axis_directed(A,[0,0,1],qB,system)\n",
    "C.rotate_fixed_axis_directed(N,[0,0,1],qC,system)\n",
    "D.rotate_fixed_axis_directed(C,[0,0,1],qD,system)"
   ]
  },
  {
   "cell_type": "code",
   "execution_count": 13,
   "id": "acting-moisture",
   "metadata": {},
   "outputs": [],
   "source": [
    "# Define rigid body kinematics\n",
    "# position vectors\n",
    "p0 = 0*N.x #Normal\n",
    "p1 = p0 + lA*A.x #Link A\n",
    "p2A = p1 + lB*B.x #Link B - OUTPUT\n",
    "p4 = p0 + lE*N.y #Link E\n",
    "p3 = p4 + lC*C.x #Link C\n",
    "p2C = p3 + lD*D.x #Link D - OUTPUT"
   ]
  },
  {
   "cell_type": "code",
   "execution_count": 14,
   "id": "stylish-accident",
   "metadata": {},
   "outputs": [],
   "source": [
    "# Declare a list of points that will be used for plotting\n",
    "points = [p0, p1, p2A, p3, p4]"
   ]
  },
  {
   "cell_type": "code",
   "execution_count": 15,
   "id": "embedded-bidder",
   "metadata": {},
   "outputs": [],
   "source": [
    "# Constraints\n",
    "eq_vector = p2A-p2C\n",
    "eq = []\n",
    "eq.append((eq_vector).dot(N.x))\n",
    "eq.append((eq_vector).dot(N.y))\n",
    "eq_d=[(system.derivative(item)) for item in eq]"
   ]
  },
  {
   "cell_type": "code",
   "execution_count": 16,
   "id": "informative-daily",
   "metadata": {},
   "outputs": [],
   "source": [
    "# Turn constraint equations into a vector\n",
    "eq_d_sym = sympy.Matrix(eq_d)"
   ]
  },
  {
   "cell_type": "code",
   "execution_count": 17,
   "id": "surprised-driver",
   "metadata": {},
   "outputs": [],
   "source": [
    "# Turn qi and qd into sympy vectors\n",
    "qi_sym = sympy.Matrix([qA_d, qC_d])\n",
    "qd_sym = sympy.Matrix([qB_d, qD_d])"
   ]
  },
  {
   "cell_type": "code",
   "execution_count": 18,
   "id": "logical-basement",
   "metadata": {},
   "outputs": [],
   "source": [
    "# Take partial derivative of constraints with respect to independent and dependent variables\n",
    "AA = eq_d_sym.jacobian(qi_sym)\n",
    "BB = eq_d_sym.jacobian(qd_sym)"
   ]
  },
  {
   "cell_type": "code",
   "execution_count": 19,
   "id": "turned-miller",
   "metadata": {},
   "outputs": [
    {
     "data": {
      "text/plain": [
       "⎡lA⋅sin(-qA + qC + qD)                                       ⎤\n",
       "⎢────────────────────── - lB                                 ⎥\n",
       "⎢sin(qA + qB - qC - qD)                 -lC⋅sin(qD)          ⎥\n",
       "⎢───────────────────────────     ─────────────────────────   ⎥\n",
       "⎢             lB                 lB⋅sin(qA + qB - qC - qD)   ⎥\n",
       "⎢                                                            ⎥\n",
       "⎢                              ⎛ lC⋅sin(qA + qB - qC)      ⎞ ⎥\n",
       "⎢                             -⎜────────────────────── + lD⎟ ⎥\n",
       "⎢         lA⋅sin(qB)           ⎝sin(qA + qB - qC - qD)     ⎠ ⎥\n",
       "⎢ ─────────────────────────   ───────────────────────────────⎥\n",
       "⎣ lD⋅sin(qA + qB - qC - qD)                  lD              ⎦"
      ]
     },
     "execution_count": 19,
     "metadata": {},
     "output_type": "execute_result"
    }
   ],
   "source": [
    "# Solve for internal input/output Jacobian\n",
    "Jin = -BB.inv()*AA\n",
    "Jin.simplify()\n",
    "Jin"
   ]
  },
  {
   "cell_type": "code",
   "execution_count": 20,
   "id": "thorough-argentina",
   "metadata": {},
   "outputs": [
    {
     "data": {
      "text/plain": [
       "⎡                                   ⎛lA⋅sin(-qA + qC + qD)      ⎞⎤\n",
       "⎢                              qA_d⋅⎜────────────────────── - lB⎟⎥\n",
       "⎢       lC⋅qC_d⋅sin(qD)             ⎝sin(qA + qB - qC - qD)     ⎠⎥\n",
       "⎢- ───────────────────────── + ──────────────────────────────────⎥\n",
       "⎢  lB⋅sin(qA + qB - qC - qD)                   lB                ⎥\n",
       "⎢                                                                ⎥\n",
       "⎢                                  ⎛ lC⋅sin(qA + qB - qC)      ⎞ ⎥\n",
       "⎢                             qC_d⋅⎜────────────────────── + lD⎟ ⎥\n",
       "⎢      lA⋅qA_d⋅sin(qB)             ⎝sin(qA + qB - qC - qD)     ⎠ ⎥\n",
       "⎢ ───────────────────────── - ────────────────────────────────── ⎥\n",
       "⎣ lD⋅sin(qA + qB - qC - qD)                   lD                 ⎦"
      ]
     },
     "execution_count": 20,
     "metadata": {},
     "output_type": "execute_result"
    }
   ],
   "source": [
    "# Solving for the dependent variables \n",
    "qd2_sym = Jin*qi_sym\n",
    "qd2_sym"
   ]
  },
  {
   "cell_type": "code",
   "execution_count": 21,
   "id": "olympic-bread",
   "metadata": {},
   "outputs": [
    {
     "data": {
      "text/plain": [
       "⎧                                         ⎛lA⋅sin(-qA + qC + qD)      ⎞       \n",
       "⎪                                    qA_d⋅⎜────────────────────── - lB⎟       \n",
       "⎨             lC⋅qC_d⋅sin(qD)             ⎝sin(qA + qB - qC - qD)     ⎠       \n",
       "⎪qB_d: - ───────────────────────── + ──────────────────────────────────, qD_d:\n",
       "⎩        lB⋅sin(qA + qB - qC - qD)                   lB                       \n",
       "\n",
       "                                  ⎛ lC⋅sin(qA + qB - qC)      ⎞⎫\n",
       "                             qC_d⋅⎜────────────────────── + lD⎟⎪\n",
       "      lA⋅qA_d⋅sin(qB)             ⎝sin(qA + qB - qC - qD)     ⎠⎬\n",
       " ───────────────────────── - ──────────────────────────────────⎪\n",
       " lD⋅sin(qA + qB - qC - qD)                   lD                ⎭"
      ]
     },
     "execution_count": 21,
     "metadata": {},
     "output_type": "execute_result"
    }
   ],
   "source": [
    "# Substitution dictionary to replace all occurrances of qB_d and qD_d\n",
    "subs_sym = dict([(ii,jj) for ii,jj in zip(qd_sym,qd2_sym)])\n",
    "subs_sym"
   ]
  },
  {
   "cell_type": "code",
   "execution_count": 22,
   "id": "bronze-movement",
   "metadata": {},
   "outputs": [
    {
     "data": {
      "text/plain": [
       "lA*A.x + lB*B.x"
      ]
     },
     "execution_count": 22,
     "metadata": {},
     "output_type": "execute_result"
    }
   ],
   "source": [
    "# End effector position\n",
    "pend = p2A\n",
    "pend"
   ]
  },
  {
   "cell_type": "code",
   "execution_count": 23,
   "id": "chinese-employee",
   "metadata": {},
   "outputs": [
    {
     "data": {
      "text/plain": [
       "lA*qA_d*A.y + lB*B.y*(qA_d - lC*qC_d*sin(qD)/(lB*sin(qA + qB - qC - qD)) + qA_d*(lA*sin(-qA + qC + qD)/sin(qA + qB - qC - qD) - lB)/lB)"
      ]
     },
     "execution_count": 23,
     "metadata": {},
     "output_type": "execute_result"
    }
   ],
   "source": [
    "# End effector velocity\n",
    "vend = pend.time_derivative()\n",
    "vend = vend.subs(subs_sym)\n",
    "vend"
   ]
  },
  {
   "cell_type": "code",
   "execution_count": 24,
   "id": "composite-method",
   "metadata": {},
   "outputs": [],
   "source": [
    "# Turn end effector velocity equations into a vector\n",
    "vend_sym = sympy.Matrix([vend.dot(N.x), vend.dot(N.y)])"
   ]
  },
  {
   "cell_type": "code",
   "execution_count": 25,
   "id": "diverse-pizza",
   "metadata": {},
   "outputs": [
    {
     "data": {
      "text/plain": [
       "⎡-lA⋅sin(qB)⋅sin(qC + qD)    lC⋅sin(qD)⋅sin(qA + qB) ⎤\n",
       "⎢─────────────────────────   ─────────────────────── ⎥\n",
       "⎢  sin(qA + qB - qC - qD)     sin(qA + qB - qC - qD) ⎥\n",
       "⎢                                                    ⎥\n",
       "⎢ lA⋅sin(qB)⋅cos(qC + qD)   -lC⋅sin(qD)⋅cos(qA + qB) ⎥\n",
       "⎢ ───────────────────────   ─────────────────────────⎥\n",
       "⎣  sin(qA + qB - qC - qD)     sin(qA + qB - qC - qD) ⎦"
      ]
     },
     "execution_count": 25,
     "metadata": {},
     "output_type": "execute_result"
    }
   ],
   "source": [
    "# Take partial derivative of end effector velocities with respect to independent variables\n",
    "J = vend_sym.jacobian(qi_sym)\n",
    "J.simplify()\n",
    "J"
   ]
  },
  {
   "cell_type": "markdown",
   "id": "silent-routine",
   "metadata": {
    "id": "declared-wisdom"
   },
   "source": [
    "## 4. Solve for an Initial Condition\n",
    "   Select or Solve for a valid initial condition that represents the system in the middle of a typical gait, when it is both moving and when forces are being applied to it (or to the world by it)\n",
    "\n",
    "   Despite the fact that you will be using a symbolic representation, you still need to solve for a valid initial condition if your device is a “parallel mechanism.” This may be done using a nonlinear solver such as scipy.optimize.minimize"
   ]
  },
  {
   "cell_type": "code",
   "execution_count": 26,
   "id": "collectible-structure",
   "metadata": {},
   "outputs": [],
   "source": [
    "# Identify independent and dependent variables\n",
    "qi = [qA, qC]\n",
    "qd = [qB, qD]"
   ]
  },
  {
   "cell_type": "code",
   "execution_count": 27,
   "id": "acute-shade",
   "metadata": {},
   "outputs": [],
   "source": [
    "# Create a copy of symbolic constants dictionary and add the initial value of qi to it\n",
    "constants = system.constant_values.copy()\n",
    "defined = dict([(item,initialvalues[item]) for item in qi])\n",
    "constants.update(defined)"
   ]
  },
  {
   "cell_type": "code",
   "execution_count": 28,
   "id": "interested-forth",
   "metadata": {},
   "outputs": [],
   "source": [
    "# Substitute constants in equation\n",
    "eq = [item.subs(constants) for item in eq]"
   ]
  },
  {
   "cell_type": "code",
   "execution_count": 29,
   "id": "offensive-pregnancy",
   "metadata": {},
   "outputs": [],
   "source": [
    "# Convert to numpy array\n",
    "# Sum the error\n",
    "error = (numpy.array(eq)**2).sum()"
   ]
  },
  {
   "cell_type": "code",
   "execution_count": 30,
   "id": "duplicate-hello",
   "metadata": {},
   "outputs": [],
   "source": [
    "# Convert to a function that scipy can use.\n",
    "# Sympy has a “labmdify” function that evaluates an expression, but scipy needs a slightly different format.\n",
    "f = sympy.lambdify(qd,error)\n",
    "\n",
    "def function(args):\n",
    "    return f(*args)"
   ]
  },
  {
   "cell_type": "code",
   "execution_count": 31,
   "id": "canadian-mason",
   "metadata": {},
   "outputs": [
    {
     "name": "stderr",
     "output_type": "stream",
     "text": [
      "2021-02-19 20:15:38,543 - pynamics.output - INFO - calculating outputs\n",
      "2021-02-19 20:15:38,545 - pynamics.output - INFO - done calculating outputs\n"
     ]
    },
    {
     "data": {
      "text/plain": [
       "array([[[0.        , 0.        ],\n",
       "        [0.05      , 0.        ],\n",
       "        [0.1       , 0.        ],\n",
       "        [0.0538041 , 0.02140697],\n",
       "        [0.        , 0.01      ]],\n",
       "\n",
       "       [[0.        , 0.        ],\n",
       "        [0.05      , 0.        ],\n",
       "        [0.09995767, 0.0020569 ],\n",
       "        [0.0538041 , 0.02140697],\n",
       "        [0.        , 0.01      ]]])"
      ]
     },
     "execution_count": 31,
     "metadata": {},
     "output_type": "execute_result"
    }
   ],
   "source": [
    "# Take the derivative of the equations to linearize with regard to the velocity variables\n",
    "guess = [initialvalues[item] for item in qd]\n",
    "result = scipy.optimize.minimize(function,guess)\n",
    "if result.fun>1e-3:\n",
    "    raise(Exception(\"out of tolerance\"))\n",
    "ini = []\n",
    "for item in system.get_state_variables():\n",
    "    if item in qd:\n",
    "        ini.append(result.x[qd.index(item)])\n",
    "    else:\n",
    "        ini.append(initialvalues[item])\n",
    "points = PointsOutput(points, constant_values=system.constant_values)\n",
    "points.calc(numpy.array([ini0,ini]))\n",
    "#points.plot_time()"
   ]
  },
  {
   "cell_type": "markdown",
   "id": "finished-mouse",
   "metadata": {
    "id": "amazing-bicycle"
   },
   "source": [
    "## 5. Plot the system in this position"
   ]
  },
  {
   "cell_type": "code",
   "execution_count": 32,
   "id": "inner-shelter",
   "metadata": {},
   "outputs": [
    {
     "data": {
      "image/png": "[encoded data removed]",
      "text/plain": [
       "<Figure size 1080x1080 with 1 Axes>"
      ]
     },
     "metadata": {
      "needs_background": "light"
     },
     "output_type": "display_data"
    }
   ],
   "source": [
    "# Valid initial condition\n",
    "x = numpy.array([points.y[1][0][0], points.y[1][1][0], points.y[1][2][0], points.y[1][3][0], points.y[1][4][0],0])*1000\n",
    "y = numpy.array([points.y[1][0][1], points.y[1][1][1], points.y[1][2][1], points.y[1][3][1], points.y[1][4][1],0])*1000\n",
    "prettyplot(x,y)"
   ]
  },
  {
   "cell_type": "markdown",
   "id": "accessory-disclosure",
   "metadata": {
    "id": "compliant-abortion"
   },
   "source": [
    "## 6. Define Force Vectors\n",
    "From your biomechanics-based specifications, define one or more force vector estimates (one for each end effector) that the system should be expected to experience. Consider including, based on your research\n",
    "\n",
    "1. the force of gravity exerted by the mass of a “payload” or the main body of the robot.\n",
    "\n",
    "2. the acceleration the system experiences during a typical gait\n",
    "    \n",
    "3. ground reaction forces measured from biomechanics studies."
   ]
  },
  {
   "cell_type": "code",
   "execution_count": 33,
   "id": "exceptional-paraguay",
   "metadata": {},
   "outputs": [
    {
     "data": {
      "text/plain": [
       "array([[  0.   ],\n",
       "       [-11.772]])"
      ]
     },
     "execution_count": 33,
     "metadata": {},
     "output_type": "execute_result"
    }
   ],
   "source": [
    "# End effector force\n",
    "Fend_num = numpy.array([0, -2.4*9.81/2]).reshape([2,1])\n",
    "Fend_num"
   ]
  },
  {
   "cell_type": "code",
   "execution_count": 34,
   "id": "alert-commerce",
   "metadata": {},
   "outputs": [
    {
     "data": {
      "text/plain": [
       "array([[  0],\n",
       "       [-10]])"
      ]
     },
     "execution_count": 34,
     "metadata": {},
     "output_type": "execute_result"
    }
   ],
   "source": [
    "# End effector velocity\n",
    "vend_num = numpy.array([0, -10]).reshape([2,1])\n",
    "vend_num"
   ]
  },
  {
   "cell_type": "markdown",
   "id": "opposite-photography",
   "metadata": {
    "id": "controlled-subsection"
   },
   "source": [
    "## 7. Calculate Input Forces\n",
    "\n",
    "Calculate the force or torque required at the input to satisfy the end-effector force requirements"
   ]
  },
  {
   "cell_type": "code",
   "execution_count": 35,
   "id": "returning-arbor",
   "metadata": {
    "id": "neutral-comedy"
   },
   "outputs": [
    {
     "data": {
      "text/plain": [
       "⎡-11.772⋅lA⋅sin(qB)⋅cos(qC + qD) ⎤\n",
       "⎢────────────────────────────────⎥\n",
       "⎢     sin(qA + qB - qC - qD)     ⎥\n",
       "⎢                                ⎥\n",
       "⎢ 11.772⋅lC⋅sin(qD)⋅cos(qA + qB) ⎥\n",
       "⎢ ────────────────────────────── ⎥\n",
       "⎣     sin(qA + qB - qC - qD)     ⎦"
      ]
     },
     "execution_count": 35,
     "metadata": {},
     "output_type": "execute_result"
    }
   ],
   "source": [
    "# Input force symbolic\n",
    "Fin = sympy.Matrix(J.transpose()*Fend_num)\n",
    "Fin"
   ]
  },
  {
   "cell_type": "code",
   "execution_count": 36,
   "id": "precise-buyer",
   "metadata": {},
   "outputs": [
    {
     "data": {
      "text/plain": [
       "⎡-0.0525983520885805⎤\n",
       "⎢                   ⎥\n",
       "⎣-0.868230438139323 ⎦"
      ]
     },
     "execution_count": 36,
     "metadata": {},
     "output_type": "execute_result"
    }
   ],
   "source": [
    "# Input force numeric\n",
    "Fin_num = Fin.subs([(qA, ini[0]),(qB, ini[1]),(qC, ini[2]),(qD, ini[3]),(lA, lA_num),(lB, lB_num),(lC, lC_num),(lD, lD_num)])\n",
    "Fin_num"
   ]
  },
  {
   "cell_type": "markdown",
   "id": "frank-virtue",
   "metadata": {
    "id": "explicit-graham"
   },
   "source": [
    "## 8. Estimate End-Effector Velocity\n",
    "\n",
    "Estimate the velocity of the end-effector in this configuration. Using the Jacobian, calculate the speed required by the input(s) to achieve that output motion.\n",
    "\n",
    "This may not be directly solvable based on your device kinematics; an iterative guess-and-check approach is ok."
   ]
  },
  {
   "cell_type": "code",
   "execution_count": 37,
   "id": "actual-serve",
   "metadata": {},
   "outputs": [
    {
     "data": {
      "text/plain": [
       "⎡                   10⋅sin(qA + qB)⋅sin(qA + qB - qC - qD)                   ⎤\n",
       "⎢────────────────────────────────────────────────────────────────────────────⎥\n",
       "⎢-lA⋅sin(qB)⋅sin(qA + qB)⋅cos(qC + qD) + lA⋅sin(qB)⋅sin(qC + qD)⋅cos(qA + qB)⎥\n",
       "⎢                                                                            ⎥\n",
       "⎢                   10⋅sin(qC + qD)⋅sin(qA + qB - qC - qD)                   ⎥\n",
       "⎢────────────────────────────────────────────────────────────────────────────⎥\n",
       "⎣-lC⋅sin(qD)⋅sin(qA + qB)⋅cos(qC + qD) + lC⋅sin(qD)⋅sin(qC + qD)⋅cos(qA + qB)⎦"
      ]
     },
     "execution_count": 37,
     "metadata": {},
     "output_type": "execute_result"
    }
   ],
   "source": [
    "# Input velocity symbolic\n",
    "vin = sympy.Matrix(J.inv()*vend_num)\n",
    "vin"
   ]
  },
  {
   "cell_type": "code",
   "execution_count": 38,
   "id": "becoming-study",
   "metadata": {},
   "outputs": [
    {
     "data": {
      "text/plain": [
       "⎡     -200.0      ⎤\n",
       "⎢                 ⎥\n",
       "⎣-123.469904846945⎦"
      ]
     },
     "execution_count": 38,
     "metadata": {},
     "output_type": "execute_result"
    }
   ],
   "source": [
    "# Input velocity numeric\n",
    "vin_num = vin.subs([(qA, ini[0]),(qB, ini[1]),(qC, ini[2]),(qD, ini[3]),(lA, lA_num),(lB, lB_num),(lC, lC_num),(lD, lD_num)])\n",
    "vin_num"
   ]
  },
  {
   "cell_type": "markdown",
   "id": "eight-monte",
   "metadata": {
    "id": "nuclear-outside"
   },
   "source": [
    "## 9. Compute Required Power\n",
    "\n",
    "Finally, using the two estimates about force and speed at the input, compute the required power in this configuration."
   ]
  },
  {
   "cell_type": "code",
   "execution_count": 39,
   "id": "crude-roads",
   "metadata": {
    "id": "nervous-thunder"
   },
   "outputs": [
    {
     "data": {
      "text/plain": [
       "⎡               -117.72⋅lA⋅sin(qB)⋅sin(qA + qB)⋅cos(qC + qD)                 ⎤\n",
       "⎢────────────────────────────────────────────────────────────────────────────⎥\n",
       "⎢-lA⋅sin(qB)⋅sin(qA + qB)⋅cos(qC + qD) + lA⋅sin(qB)⋅sin(qC + qD)⋅cos(qA + qB)⎥\n",
       "⎢                                                                            ⎥\n",
       "⎢                117.72⋅lC⋅sin(qD)⋅sin(qC + qD)⋅cos(qA + qB)                 ⎥\n",
       "⎢────────────────────────────────────────────────────────────────────────────⎥\n",
       "⎣-lC⋅sin(qD)⋅sin(qA + qB)⋅cos(qC + qD) + lC⋅sin(qD)⋅sin(qC + qD)⋅cos(qA + qB)⎦"
      ]
     },
     "execution_count": 39,
     "metadata": {},
     "output_type": "execute_result"
    }
   ],
   "source": [
    "# Input power symbolic\n",
    "Pin = sympy.Matrix([[Fin[0]*vin[0]],[Fin[1]*vin[1]]])\n",
    "Pin"
   ]
  },
  {
   "cell_type": "code",
   "execution_count": 40,
   "id": "polar-minutes",
   "metadata": {},
   "outputs": [
    {
     "data": {
      "text/plain": [
       "⎡10.5196704177161⎤\n",
       "⎢                ⎥\n",
       "⎣107.200329582284⎦"
      ]
     },
     "execution_count": 40,
     "metadata": {},
     "output_type": "execute_result"
    }
   ],
   "source": [
    "# Input power numeric\n",
    "Pin_num = Pin.subs([(qA, ini[0]),(qB, ini[1]),(qC, ini[2]),(qD, ini[3]),(lA, lA_num),(lB, lB_num),(lC, lC_num),(lD, lD_num)])\n",
    "Pin_num"
   ]
  },
  {
   "cell_type": "markdown",
   "id": "instrumental-summit",
   "metadata": {},
   "source": [
    "# Discussion"
   ]
  },
  {
   "cell_type": "markdown",
   "id": "freelance-individual",
   "metadata": {},
   "source": [
    "1. How many degrees of freedom does your device have? How many motors? If the answer is not the same, what determines the state of the remaining degrees of freedom? How did you arrive at that number?"
   ]
  },
  {
   "cell_type": "markdown",
   "id": "imposed-commissioner",
   "metadata": {},
   "source": [
    "..."
   ]
  },
  {
   "cell_type": "markdown",
   "id": "federal-parks",
   "metadata": {},
   "source": [
    "2. If your mechanism has more than one degree of freedom, please describe how those multiple degrees of freedom will work togehter to create a locomotory gait or useful motion. What is your plan for synchonizing, especially if passive energy storage?"
   ]
  },
  {
   "cell_type": "markdown",
   "id": "equipped-credits",
   "metadata": {},
   "source": [
    "..."
   ]
  },
  {
   "cell_type": "markdown",
   "id": "competent-universe",
   "metadata": {},
   "source": [
    "3. How did you estimate your expected end-effector forces"
   ]
  },
  {
   "cell_type": "markdown",
   "id": "adolescent-version",
   "metadata": {
    "id": "advance-telephone"
   },
   "source": [
    "Migratory bird: Canada Goose https://en.wikipedia.org/wiki/Canada_goose\n",
    "\n",
    "min mass: 2.4kg\n",
    "\n",
    "min wing span: 127cm\n",
    "\n",
    "min wing chord: 39cm\n",
    "\n",
    "half weight = 2.4x9.81/2"
   ]
  },
  {
   "cell_type": "markdown",
   "id": "continuous-horror",
   "metadata": {},
   "source": [
    "..."
   ]
  },
  {
   "cell_type": "markdown",
   "id": "armed-rover",
   "metadata": {},
   "source": [
    "4. How did you estimate your expected end-effector speeds"
   ]
  },
  {
   "cell_type": "markdown",
   "id": "hundred-albany",
   "metadata": {},
   "source": [
    "..."
   ]
  },
  {
   "cell_type": "markdown",
   "id": "earned-visitor",
   "metadata": {},
   "source": [
    "# References"
   ]
  },
  {
   "cell_type": "markdown",
   "id": "funky-decimal",
   "metadata": {},
   "source": []
  }
 ],
 "metadata": {
  "colab": {
   "collapsed_sections": [],
   "name": "Copy of Wing Kinematics.ipynb",
   "provenance": []
  },
  "kernelspec": {
   "display_name": "Python 3",
   "language": "python",
   "name": "python3"
  },
  "language_info": {
   "codemirror_mode": {
    "name": "ipython",
    "version": 3
   },
   "file_extension": ".py",
   "mimetype": "text/x-python",
   "name": "python",
   "nbconvert_exporter": "python",
   "pygments_lexer": "ipython3",
   "version": "3.8.5"
  }
 },
 "nbformat": 4,
 "nbformat_minor": 5
}

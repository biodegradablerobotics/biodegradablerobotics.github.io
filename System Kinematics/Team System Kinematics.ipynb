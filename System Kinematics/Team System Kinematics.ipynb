{
 "cells": [
  {
   "cell_type": "code",
   "execution_count": 1,
   "metadata": {},
   "outputs": [],
   "source": [
    "%matplotlib inline\n",
    "import numpy \n",
    "import matplotlib.pyplot as plt\n",
    "import scipy.optimize\n",
    "import math"
   ]
  },
  {
   "cell_type": "code",
   "execution_count": 2,
   "metadata": {},
   "outputs": [],
   "source": [
    "def length(v1):\n",
    "    '''\n",
    "    finds the length of a vector\n",
    "    \n",
    "    :param v1: the vector\n",
    "    :type v1: tuple or list of floats\n",
    "    :rtype: float\n",
    "    '''\n",
    "    v1 = numpy.array(v1).flatten()\n",
    "    l = (v1.dot(v1))**.5\n",
    "    return l\n",
    "\n",
    "def inner_angle(v1,v2):\n",
    "    '''\n",
    "    finds the interior angle between two vectors\n",
    "    \n",
    "    :param v1: the first vector\n",
    "    :type v1: tuple or list of floats\n",
    "    :param v2: the second vector\n",
    "    :type v2: tuple or list of floats\n",
    "    :rtype: float\n",
    "    '''\n",
    "    v1 = numpy.array(v1).flatten()\n",
    "    l1 = length(v1)\n",
    "    v2 = numpy.array(v2).flatten()\n",
    "    l2 = length(v2)\n",
    "    cost = numpy.dot(v1,v2)/l1/l2\n",
    "    t = math.acos(cost)\n",
    "    return t\n",
    "\n",
    "def total_angle(v1,v2,v3=None):\n",
    "    '''\n",
    "    finds the interior angle between two vectors\n",
    "    \n",
    "    :param v1: the first vector\n",
    "    :type v1: tuple or list of floats\n",
    "    :param v2: the second vector\n",
    "    :type v2: tuple or list of floats\n",
    "    :rtype: float\n",
    "    '''\n",
    "\n",
    "    v1 = numpy.array(v1).flatten()\n",
    "    if len(v1)==2:\n",
    "        v1 = numpy.r_[v1,0]\n",
    "        v3 = numpy.array([0,0,1])\n",
    "\n",
    "        v2 = numpy.array(v2).flatten()\n",
    "    if len(v2)==2:\n",
    "        v2 = numpy.r_[v2,0]\n",
    "        v3 = numpy.array([0,0,1])\n",
    "\n",
    "    costheta = numpy.dot(v1,v2)\n",
    "    sintheta  = numpy.cross(v1,v2)\n",
    "    l_sintheta = length(sintheta)\n",
    "    neg = sintheta.dot(v3)\n",
    "    if neg<0:\n",
    "        neg = -1\n",
    "    else:\n",
    "        neg=1\n",
    "    theta = math.atan2(neg*l_sintheta,costheta)\n",
    "    return theta  \n",
    "\n",
    "def angle_between_planes(v1,v2,v3):\n",
    "    '''measures the angle between planes.  \n",
    "    v1 and v2 are two vectors which define one plane\n",
    "    v2 and v3 define the third plane.'''\n",
    "    \n",
    "    n1 = numpy.cross(v1,v2)\n",
    "    n2 = numpy.cross(v2,v3)\n",
    "    return total_angle(n1,n2,v2)"
   ]
  },
  {
   "cell_type": "code",
   "execution_count": 38,
   "metadata": {},
   "outputs": [],
   "source": [
    "p0_ini = 0,0\n",
    "p1_ini = -3,-1\n",
    "p2_ini = 0,-1\n",
    "p3_ini = -4,-7\n",
    "p6_ini = (numpy.array(p2_ini)+numpy.array(p3_ini))/2\n",
    "p4_ini = (numpy.array(p2_ini)+numpy.array(p6_ini))/2\n",
    "p5_ini = (numpy.array(p1_ini)+numpy.array(p4_ini))/2\n",
    "p_ini = numpy.array([p0_ini,p1_ini,p2_ini,p3_ini,p4_ini,p5_ini])\n",
    "point_text = ['p0','p1','p2','p3','p4','p5']\n",
    "vector_text = ['v0','v1','v2','v3','v4','v5']\n",
    "vector_order = []\n",
    "vector_order.append((0,1))\n",
    "vector_order.append((2,3))\n",
    "vector_order.append((0,2))\n",
    "vector_order.append((1,4))\n",
    "vector_order.append((3,5))\n",
    "#vector_order.append((2,5))\n",
    "vector_order = numpy.array(vector_order)\n",
    "v_ini = p_ini[vector_order[:,1]]-p_ini[vector_order[:,0]]\n",
    "text_offset = .25,.25\n",
    "text_location = (p_ini[vector_order[:,1]]+p_ini[vector_order[:,0]])/2 +numpy.array(text_offset)\n"
   ]
  },
  {
   "cell_type": "code",
   "execution_count": 39,
   "metadata": {},
   "outputs": [
    {
     "data": {
      "text/plain": [
       "array([-1. , -2.5])"
      ]
     },
     "execution_count": 39,
     "metadata": {},
     "output_type": "execute_result"
    }
   ],
   "source": [
    "p4_ini"
   ]
  },
  {
   "cell_type": "code",
   "execution_count": 40,
   "metadata": {},
   "outputs": [
    {
     "data": {
      "text/plain": [
       "array([[ 0.  ,  0.  ],\n",
       "       [-3.  , -1.  ],\n",
       "       [ 0.  , -1.  ],\n",
       "       [-4.  , -7.  ],\n",
       "       [-1.  , -2.5 ],\n",
       "       [-2.  , -1.75]])"
      ]
     },
     "execution_count": 40,
     "metadata": {},
     "output_type": "execute_result"
    }
   ],
   "source": [
    "p_ini"
   ]
  },
  {
   "cell_type": "code",
   "execution_count": 41,
   "metadata": {},
   "outputs": [
    {
     "data": {
      "image/png": "[encoded data removed]",
      "text/plain": [
       "<Figure size 432x288 with 1 Axes>"
      ]
     },
     "metadata": {
      "needs_background": "light"
     },
     "output_type": "display_data"
    }
   ],
   "source": [
    "def plot_mechanism(point_location,text_location=None):\n",
    "    for item in vector_order:\n",
    "        plt.plot(*(point_location[item,:3].T),'ko-')\n",
    "\n",
    "    if text_location is not None:\n",
    "        for item,text in zip(point_location,point_text):\n",
    "            ax.text(x=item[0],y=item[1],s=text)\n",
    "\n",
    "        for item,text in zip(text_location,vector_text):\n",
    "            ax.text(x=item[0],y=item[1],s=text)\n",
    "            \n",
    "fig = plt.figure();\n",
    "ax = fig.add_subplot(111)\n",
    "plot_mechanism(p_ini,text_location)\n",
    "plt.show()"
   ]
  },
  {
   "cell_type": "code",
   "execution_count": null,
   "metadata": {},
   "outputs": [],
   "source": [
    "def gen_function(q1,dl1,dl2,dl3,dl4,dl5,dl6):\n",
    "    def calc_fourbar(arguments):\n",
    "        # break arguments variable into 8 discrete variables, 2 for each planar point in the four-bar linkage\n",
    "        x0,y0,x1,y1,x2,y2,x3,y3,x4,y4, = arguments\n",
    "        \n",
    "        #Create five points: p1, p2, p3, p4\n",
    "        p0 = numpy.array([x0,y0])\n",
    "        p1 = numpy.array([x1,y1])\n",
    "        p2 = numpy.array([x2,y2])\n",
    "        p3 = numpy.array([x3,y3])\n",
    "        p4 = numpy.array([x4,y4])\n",
    "        #p5 = numpy.array([x5,y5])\n",
    "\n",
    "        #create new point array using inputs of function\n",
    "        p = numpy.array([p0,p1,p2,p3,p4])\n",
    "        \n",
    "        #inputv = p[5]-p[2]\n",
    "        #create new vector array using vector ordering defined above\n",
    "        v = p[vector_order[:,1]]-p[vector_order[:,0]]\n",
    "        \n",
    "        #create new length vector\n",
    "        l = [length(item) for item in v]\n",
    "\n",
    "        # Define the x and y axis unit vectors\n",
    "        x_axis = numpy.array([1,0])\n",
    "        y_axis = numpy.array([0,1])\n",
    "\n",
    "        # define the error variable for holding all mechanism error calcs\n",
    "        error = []\n",
    "\n",
    "        # Compute the error in the structure as the absolute, cumulative \n",
    "        # difference between the link lengths and their desired lengths\n",
    "        error.append([l[0]-dl1])\n",
    "        error.append([l[1]-dl2])\n",
    "        error.append([l[2]-dl3])\n",
    "        error.append([l[3]-dl4])\n",
    "        error.append([l[4]-dl5])\n",
    "        error.append([l[5]-dl6])\n",
    "        \n",
    "        # add the desired input angle q1 minus the actual angle as another error component to be solved\n",
    "        error.append([length(inputv)-q1])\n",
    "        \n",
    "        # add two more constraints defining p1 as fixed at (0,0)\n",
    "        \n",
    "        # add two more constraints defining p1 as fixed at (6,0)\n",
    "        \n",
    "        \n",
    "        \n",
    "        #define constraint of p0 and p4\n",
    "       \n",
    "        \n",
    "        # define v4 to be parrallel to v1\n",
    "        #error.append([inner_angle(v[0],x_axis)-0])\n",
    "        #error.append([inner_angle(v[3],v[0])-0])\n",
    "        \n",
    "\n",
    "        # turn the error list into a vector\n",
    "        error1 =numpy.array(error)\n",
    "        \n",
    "        # return the square root of the sum of squared errors.  The length function that we wrote earlier does that.\n",
    "        return length(error1)\n",
    "    \n",
    "    return calc_fourbar"
   ]
  }
 ],
 "metadata": {
  "kernelspec": {
   "display_name": "Python 3",
   "language": "python",
   "name": "python3"
  },
  "language_info": {
   "codemirror_mode": {
    "name": "ipython",
    "version": 3
   },
   "file_extension": ".py",
   "mimetype": "text/x-python",
   "name": "python",
   "nbconvert_exporter": "python",
   "pygments_lexer": "ipython3",
   "version": "3.7.9"
  }
 },
 "nbformat": 4,
 "nbformat_minor": 4
}

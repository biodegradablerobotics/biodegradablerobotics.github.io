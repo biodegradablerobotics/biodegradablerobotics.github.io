{
 "cells": [
  {
   "cell_type": "markdown",
   "id": "combined-jenny",
   "metadata": {},
   "source": [
    "1. Create a figure (either in python, in a vector-based drawing program like inkscape or illustrator, or as a solidworks rendering) of your system kinematics. Annotate the image to include:\n",
    "\n",
    "    - Names for each rotational reference frame. You will need one for each rigid body (that moves independently), as well as one for the Newtonian reference frame (N). Use the convention of a capital letter (A,B,C,…)\n",
    "    - Labeled joint locations\n",
    "    - A set of orthonormal basis vectors for each fram. It is best practice to align one of the basis vectors with each rigid link.\n",
    "    - variable names for each state variable \n",
    "    - geometric constants such as link lengths\n",
    "\n",
    "    Save this figure for reuse later. You will need to add mass and inertial information as well as system stiffness information, so make sure you do your work in a way that permits reusing and modifying the figure."
   ]
  },
  {
   "cell_type": "code",
   "execution_count": 2,
   "id": "traditional-twist",
   "metadata": {},
   "outputs": [],
   "source": [
    "%matplotlib inline\n",
    "import matplotlib.pyplot as plt\n",
    "import scipy.optimize\n",
    "import numpy"
   ]
  },
  {
   "cell_type": "code",
   "execution_count": 48,
   "id": "secret-equipment",
   "metadata": {},
   "outputs": [
    {
     "data": {
      "image/png": "[encoded data removed]",
      "text/plain": [
       "<Figure size 432x288 with 1 Axes>"
      ]
     },
     "metadata": {
      "needs_background": "light"
     },
     "output_type": "display_data"
    }
   ],
   "source": [
    "x = [0, 49.26, 98.52, 48.38, 0, 0]\n",
    "y = [0, 8.57, 0, 22.61, 10, 0]\n",
    "plt.plot(x,y)\n",
    "plt.axis('equal')\n",
    "for i in range(0, len(x)-1):\n",
    "    plt.text(x[i], y[i], \"p\"+str(i))\n",
    "\n",
    "alen = 10    \n",
    "plt.arrow(0, 0, alen, 0,head_width=2,width=0.1,color='r')\n",
    "plt.arrow(0, 0, 0, alen,head_width=2,width=0.1,color='r')\n",
    "vx = []\n",
    "vy = []\n",
    "for i in range(1, len(x)-1):\n",
    "    vecx = numpy.array([x[i]-x[i-1], y[i]-y[i-1]])\n",
    "    vecx = vecx/(vecx.dot(vecx)**0.5)\n",
    "    vecy = numpy.cross([0,0,1], vecx)[0:2]\n",
    "    plt.arrow(x[i], y[i], alen*vecx[0], alen*vecx[1],head_width=2,width=0.1,color='r')\n",
    "    plt.arrow(x[i], y[i], alen*vecy[0], alen*vecy[1],head_width=2,width=0.1,color='r')\n",
    "    vx.append(vecx)\n",
    "    vy.append(vecy)"
   ]
  },
  {
   "cell_type": "code",
   "execution_count": null,
   "id": "statutory-monaco",
   "metadata": {},
   "outputs": [],
   "source": []
  },
  {
   "cell_type": "code",
   "execution_count": null,
   "id": "referenced-health",
   "metadata": {},
   "outputs": [],
   "source": []
  }
 ],
 "metadata": {
  "kernelspec": {
   "display_name": "Python 3",
   "language": "python",
   "name": "python3"
  },
  "language_info": {
   "codemirror_mode": {
    "name": "ipython",
    "version": 3
   },
   "file_extension": ".py",
   "mimetype": "text/x-python",
   "name": "python",
   "nbconvert_exporter": "python",
   "pygments_lexer": "ipython3",
   "version": "3.8.5"
  }
 },
 "nbformat": 4,
 "nbformat_minor": 5
}

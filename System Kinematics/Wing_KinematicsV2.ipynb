{
  "nbformat": 4,
  "nbformat_minor": 5,
  "metadata": {
    "kernelspec": {
      "display_name": "Python 3",
      "language": "python",
      "name": "python3"
    },
    "language_info": {
      "codemirror_mode": {
        "name": "ipython",
        "version": 3
      },
      "file_extension": ".py",
      "mimetype": "text/x-python",
      "name": "python",
      "nbconvert_exporter": "python",
      "pygments_lexer": "ipython3",
      "version": "3.8.5"
    },
    "colab": {
      "name": "Copy of Wing Kinematics.ipynb",
      "provenance": [],
      "collapsed_sections": []
    }
  },
  "cells": [
    {
      "cell_type": "markdown",
      "metadata": {
        "id": "suspected-amateur"
      },
      "source": [
        "## Wing Kinematics"
      ],
      "id": "suspected-amateur"
    },
    {
      "cell_type": "markdown",
      "metadata": {
        "id": "powered-overhead"
      },
      "source": [
        "1. Create a figure (either in python, in a vector-based drawing program like inkscape or illustrator, or as a solidworks rendering) of your system kinematics. Annotate the image to include:\n",
        "\n",
        "    - Names for each rotational reference frame. You will need one for each rigid body (that moves independently), as well as one for the Newtonian reference frame (N). Use the convention of a capital letter (A,B,C,…)\n",
        "    - Labeled joint locations\n",
        "    - A set of orthonormal basis vectors for each fram. It is best practice to align one of the basis vectors with each rigid link.\n",
        "    - variable names for each state variable \n",
        "    - geometric constants such as link lengths\n",
        "\n",
        "    Save this figure for reuse later. You will need to add mass and inertial information as well as system stiffness information, so make sure you do your work in a way that permits reusing and modifying the figure."
      ],
      "id": "powered-overhead"
    },
    {
      "cell_type": "code",
      "metadata": {
        "colab": {
          "base_uri": "https://localhost:8080/"
        },
        "id": "pi7Co6-jBLqJ",
        "outputId": "3e0b02e5-7b83-4a8a-fb4e-f100a21e47fb"
      },
      "source": [
        "pip install pynamics"
      ],
      "id": "pi7Co6-jBLqJ",
      "execution_count": null,
      "outputs": [
        {
          "output_type": "stream",
          "text": [
            "Collecting pynamics\n",
            "\u001b[?25l  Downloading https://files.pythonhosted.org/packages/4e/ef/c2d877610893cf7ed50c369ae5889bc119cb3c796ee678f3025fb4f2f8d6/pynamics-0.0.8-py2.py3-none-any.whl (87kB)\n",
            "\r\u001b[K     |███▊                            | 10kB 16.6MB/s eta 0:00:01\r\u001b[K     |███████▌                        | 20kB 20.1MB/s eta 0:00:01\r\u001b[K     |███████████▎                    | 30kB 15.2MB/s eta 0:00:01\r\u001b[K     |███████████████                 | 40kB 10.3MB/s eta 0:00:01\r\u001b[K     |██████████████████▉             | 51kB 9.5MB/s eta 0:00:01\r\u001b[K     |██████████████████████▌         | 61kB 9.5MB/s eta 0:00:01\r\u001b[K     |██████████████████████████▎     | 71kB 9.2MB/s eta 0:00:01\r\u001b[K     |██████████████████████████████  | 81kB 8.4MB/s eta 0:00:01\r\u001b[K     |████████████████████████████████| 92kB 5.0MB/s \n",
            "\u001b[?25hRequirement already satisfied: matplotlib in /usr/local/lib/python3.6/dist-packages (from pynamics) (3.2.2)\n",
            "Requirement already satisfied: sympy in /usr/local/lib/python3.6/dist-packages (from pynamics) (1.1.1)\n",
            "Requirement already satisfied: numpy in /usr/local/lib/python3.6/dist-packages (from pynamics) (1.19.5)\n",
            "Requirement already satisfied: scipy in /usr/local/lib/python3.6/dist-packages (from pynamics) (1.4.1)\n",
            "Requirement already satisfied: cycler>=0.10 in /usr/local/lib/python3.6/dist-packages (from matplotlib->pynamics) (0.10.0)\n",
            "Requirement already satisfied: kiwisolver>=1.0.1 in /usr/local/lib/python3.6/dist-packages (from matplotlib->pynamics) (1.3.1)\n",
            "Requirement already satisfied: pyparsing!=2.0.4,!=2.1.2,!=2.1.6,>=2.0.1 in /usr/local/lib/python3.6/dist-packages (from matplotlib->pynamics) (2.4.7)\n",
            "Requirement already satisfied: python-dateutil>=2.1 in /usr/local/lib/python3.6/dist-packages (from matplotlib->pynamics) (2.8.1)\n",
            "Requirement already satisfied: mpmath>=0.19 in /usr/local/lib/python3.6/dist-packages (from sympy->pynamics) (1.1.0)\n",
            "Requirement already satisfied: six in /usr/local/lib/python3.6/dist-packages (from cycler>=0.10->matplotlib->pynamics) (1.15.0)\n",
            "Installing collected packages: pynamics\n",
            "Successfully installed pynamics-0.0.8\n"
          ],
          "name": "stdout"
        }
      ]
    },
    {
      "cell_type": "code",
      "metadata": {
        "id": "frequent-douglas"
      },
      "source": [
        "%matplotlib inline\n",
        "import scipy.optimize\n",
        "import pynamics\n",
        "from pynamics.frame import Frame\n",
        "from pynamics.variable_types import Differentiable,Constant\n",
        "from pynamics.system import System\n",
        "from pynamics.body import Body\n",
        "from pynamics.dyadic import Dyadic\n",
        "from pynamics.output import Output,PointsOutput\n",
        "from pynamics.particle import Particle\n",
        "import pynamics.integration\n",
        "import numpy\n",
        "import matplotlib.pyplot as plt\n",
        "plt.ion()\n",
        "from math import pi"
      ],
      "id": "frequent-douglas",
      "execution_count": null,
      "outputs": []
    },
    {
      "cell_type": "code",
      "metadata": {
        "id": "russian-encyclopedia"
      },
      "source": [
        "system = System()\n",
        "pynamics.set_system(__name__,system)"
      ],
      "id": "russian-encyclopedia",
      "execution_count": null,
      "outputs": []
    },
    {
      "cell_type": "code",
      "metadata": {
        "id": "conditional-fields",
        "colab": {
          "base_uri": "https://localhost:8080/",
          "height": 610
        },
        "outputId": "9def6683-370f-4d8e-d1d6-04bf880997b5"
      },
      "source": [
        "# plot links and joints\n",
        "x = numpy.array([0, 49.26, 98.52, 48.38, 0, 0])\n",
        "y = numpy.array([0, 8.57, 0, 22.61, 10, 0])\n",
        "plt.figure(figsize=[10,10])\n",
        "plt.plot(x[0:3],y[0:3],color='tab:blue')\n",
        "plt.plot(x[2:5],y[2:5],color='tab:green')\n",
        "plt.plot(x[4:],y[4:],color='k')\n",
        "plt.scatter(x,y,color='k')\n",
        "plt.axis('equal')\n",
        "plt.xlim([-10,120])\n",
        "\n",
        "# label joints\n",
        "for i in range(0, len(x)-1):\n",
        "      plt.text(x[i]-1, y[i]-1, \"p\"+str(i), verticalalignment='top', horizontalalignment='right')\n",
        "\n",
        "# plot COMs\n",
        "comx = [(x[0]+x[1])/2, (x[1]+x[2])/2, (x[4]+x[3])/2, (x[3]+x[2])/2, (x[4]+x[0])/2]\n",
        "comy = [(y[0]+y[1])/2, (y[1]+y[2])/2, (y[4]+y[3])/2, (y[3]+y[2])/2, (y[4]+y[0])/2]\n",
        "plt.scatter(comx,comy,color='k')\n",
        "\n",
        "# label COMs\n",
        "linknames = ['A, la', 'B, lb', 'C, lc', 'D, ld', 'E, le']\n",
        "for i in range(0, len(comx)):\n",
        "    plt.text(comx[i]+1, comy[i], linknames[i], verticalalignment='bottom', horizontalalignment='left', weight='bold', fontsize=16)\n",
        "\n",
        "\n",
        "# plot frame axes\n",
        "alen = 10    \n",
        "plt.arrow(0, 0, alen, 0,head_width=2,width=0.1,color='r')\n",
        "plt.arrow(0, 0, 0, alen,head_width=2,width=0.1,color='r')\n",
        "vx = []\n",
        "vy = []\n",
        "for i in range(1, len(x)-2):\n",
        "    if i <= 2: \n",
        "      vecx = numpy.array([x[i]-x[i-1], y[i]-y[i-1]])\n",
        "      vecx = vecx/(vecx.dot(vecx)**0.5)\n",
        "      vecy = numpy.cross([0,0,1], vecx)[0:2]\n",
        "      plt.arrow(x[i], y[i], alen*vecx[0], alen*vecx[1],head_width=2,width=0.1,color='b')\n",
        "      plt.arrow(x[i], y[i], alen*vecy[0], alen*vecy[1],head_width=2,width=0.1,color='b')\n",
        "      vx.append(vecx)\n",
        "      vy.append(vecy)\n",
        "    if i >= 2:\n",
        "      vecx = numpy.array([x[i]-x[i+1], y[i]-y[i+1]])\n",
        "      vecx = vecx/(vecx.dot(vecx)**0.5)\n",
        "      vecy = numpy.cross([0,0,1], vecx)[0:2]\n",
        "      plt.arrow(x[i], y[i], alen*vecx[0], alen*vecx[1],head_width=2,width=0.1,color='g')\n",
        "      plt.arrow(x[i], y[i], alen*vecy[0], alen*vecy[1],head_width=2,width=0.1,color='g')\n",
        "      vx.append(vecx)\n",
        "      vy.append(vecy)\n",
        "\n",
        "# label frames\n",
        "plt.text(x[0]+10, y[0]+1, 'Nx', verticalalignment='bottom', horizontalalignment='left', color='k', fontsize=12)\n",
        "plt.text(x[0]+1, y[0]+10, 'Ny', verticalalignment='bottom', horizontalalignment='left', color='k', fontsize=12)\n",
        "    \n",
        "plt.text(x[1]+alen*vx[0][0], y[1]+alen*vx[0][1]+1, 'Ax', verticalalignment='bottom', horizontalalignment='left', color='b', fontsize=12)\n",
        "plt.text(x[1]+alen*vy[0][0]+1, y[1]+alen*vy[0][1], 'Ay', verticalalignment='bottom', horizontalalignment='left', color='b', fontsize=12)\n",
        "\n",
        "plt.text(x[2]+alen*vx[1][0], y[2]+alen*vx[1][1]+1, 'Bx', verticalalignment='bottom', horizontalalignment='left', color='b', fontsize=12)\n",
        "plt.text(x[2]+alen*vy[1][0]+1, y[2]+alen*vy[1][1], 'By', verticalalignment='bottom', horizontalalignment='left', color='b', fontsize=12)\n",
        "\n",
        "plt.text(x[3]+alen*vx[3][0], y[3]+alen*vx[3][1]+1, 'Cx', verticalalignment='bottom', horizontalalignment='left', color='g', fontsize=12)\n",
        "plt.text(x[3]+alen*vy[3][0]+1, y[3]+alen*vy[3][1], 'Cy', verticalalignment='bottom', horizontalalignment='left', color='g', fontsize=12)\n",
        "\n",
        "plt.text(x[2]+alen*vx[2][0], y[2]+alen*vx[2][1]+1, 'Dx', verticalalignment='bottom', horizontalalignment='left', color='g', fontsize=12)\n",
        "plt.text(x[2]+alen*vy[2][0]+1, y[2]+alen*vy[2][1], 'Dy', verticalalignment='bottom', horizontalalignment='left', color='g', fontsize=12)"
      ],
      "id": "conditional-fields",
      "execution_count": null,
      "outputs": [
        {
          "output_type": "execute_result",
          "data": {
            "text/plain": [
              "Text(103.63075166232687, 9.116014522294094, 'Dy')"
            ]
          },
          "metadata": {
            "tags": []
          },
          "execution_count": 40
        },
        {
          "output_type": "display_data",
          "data": {
            "image/png": "[encoded data removed]",
            "text/plain": [
              "<Figure size 720x720 with 1 Axes>"
            ]
          },
          "metadata": {
            "tags": [],
            "needs_background": "light"
          }
        }
      ]
    },
    {
      "cell_type": "markdown",
      "metadata": {
        "id": "under-india"
      },
      "source": [
        "2. Make the device in paper or cardboard. You need an up-to-date model if it has changed from your individual assignments. The paper model should dimensionally match your code."
      ],
      "id": "under-india"
    },
    {
      "cell_type": "markdown",
      "metadata": {
        "id": "gentle-denmark"
      },
      "source": [
        "![](https://github.com/biodegradablerobotics/biodegradablerobotics.github.io/blob/main/System%20Kinematics/paper%20wing%20reduce.jpeg?raw=1)"
      ],
      "id": "gentle-denmark"
    },
    {
      "cell_type": "markdown",
      "metadata": {
        "id": "frozen-chair"
      },
      "source": [
        "3. Using a pynamics-based script, develop a kinematic model for your device. Following the triple pendulum example,\n",
        "\n",
        "    1. Import packages\n",
        "\n",
        "    2. Define variables and constants (you may want to add, remove, or rename variables to match your figure)\n",
        "    \n",
        "    3. Declare frames (you may need to add frames or rename them)\n",
        "\n",
        "    4. Define frame rotations (you may want to switch the axis about which frames rotate)\n",
        "\n",
        "    5. Compose kinematics (this depends entirely on the geometry of your system)\n",
        "\n",
        "    6. Take time-derivatives of position vectors\n",
        "\n",
        "    7. Assemble into a Jacobian that maps input velocities to output velocities."
      ],
      "id": "frozen-chair"
    },
    {
      "cell_type": "code",
      "metadata": {
        "id": "seeing-regulation"
      },
      "source": [
        "\r\n",
        "lA = Constant(1,'lA',system)\r\n",
        "lB = Constant(1,'lB',system)\r\n",
        "lC = Constant(1,'lC',system)\r\n",
        "lD = Constant(1,'lD',system)\r\n",
        "lE = Constant(1,'lE',system)\r\n",
        "\r\n",
        "mA = Constant(1,'mA',system)\r\n",
        "mB = Constant(1,'mB',system)\r\n",
        "mC = Constant(1,'mC',system)\r\n",
        "mD = Constant(1,'mD',system)\r\n",
        "mE = Constant(1,'mE',system)\r\n",
        "\r\n",
        "\r\n",
        "g = Constant(9.81,'g',system)\r\n",
        "# b = Constant(1e1,'b',system)\r\n",
        "# k = Constant(1e1,'k',system)\r\n",
        "\r\n",
        "# preload1 = Constant(0*pi/180,'preload1',system)\r\n",
        "# preload2 = Constant(0*pi/180,'preload2',system)\r\n",
        "# preload3 = Constant(0*pi/180,'preload3',system)\r\n",
        "\r\n",
        "Ixx_A = Constant(1,'Ixx_A',system)\r\n",
        "Iyy_A = Constant(1,'Iyy_A',system)\r\n",
        "Izz_A = Constant(1,'Izz_A',system)\r\n",
        "Ixx_B = Constant(1,'Ixx_B',system)\r\n",
        "Iyy_B = Constant(1,'Iyy_B',system)\r\n",
        "Izz_B = Constant(1,'Izz_B',system)\r\n",
        "Ixx_C = Constant(1,'Ixx_C',system)\r\n",
        "Iyy_C = Constant(1,'Iyy_C',system)\r\n",
        "Izz_C = Constant(1,'Izz_C',system)\r\n",
        "Ixx_D = Constant(1,'Ixx_D',system)\r\n",
        "Iyy_D = Constant(1,'Iyy_D',system)\r\n",
        "Izz_D = Constant(1,'Izz_D',system)\r\n",
        "Ixx_E = Constant(1,'Ixx_E',system)\r\n",
        "Iyy_E = Constant(1,'Iyy_E',system)\r\n",
        "Izz_E = Constant(1,'Izz_E',system)\r\n",
        "\r\n",
        "\r\n",
        "\r\n",
        "qA,qA_d,qA_dd = Differentiable('qA',system)\r\n",
        "qB,qB_d,qB_dd = Differentiable('qB',system)\r\n",
        "qC,qC_d,qC_dd = Differentiable('qC',system)\r\n",
        "qD,qD_d,qD_dd = Differentiable('qD',system)\r\n",
        "qE,qE_d,qE_dd = Differentiable('qE',system)\r\n",
        "\r\n",
        "\r\n"
      ],
      "id": "seeing-regulation",
      "execution_count": null,
      "outputs": []
    },
    {
      "cell_type": "code",
      "metadata": {
        "id": "interesting-salvation"
      },
      "source": [
        "tol = 1e-12\r\n",
        "\r\n",
        "tinitial = 0\r\n",
        "tfinal = 10\r\n",
        "fps = 30\r\n",
        "tstep = 1/fps\r\n",
        "t = numpy.r_[tinitial:tfinal:tstep]\r\n",
        "\r\n",
        "\r\n",
        "initialvalues = {}\r\n",
        "initialvalues[qA]=0*pi/180\r\n",
        "initialvalues[qA_d]=0*pi/180\r\n",
        "initialvalues[qB]=0*pi/180\r\n",
        "initialvalues[qB_d]=0*pi/180\r\n",
        "initialvalues[qC]=0*pi/180\r\n",
        "initialvalues[qC_d]=0*pi/180\r\n",
        "initialvalues[qD]=0*pi/180\r\n",
        "initialvalues[qD_d]=0*pi/180\r\n",
        "initialvalues[qE]=0*pi/180\r\n",
        "initialvalues[qE_d]=0*pi/180\r\n",
        "\r\n",
        "statevariables = system.get_state_variables()\r\n",
        "ini = [initialvalues[item] for item in statevariables]"
      ],
      "id": "interesting-salvation",
      "execution_count": null,
      "outputs": []
    },
    {
      "cell_type": "code",
      "metadata": {
        "id": "beginning-middle"
      },
      "source": [
        "N = Frame('N')\n",
        "A = Frame('A')\n",
        "B = Frame('B')\n",
        "C = Frame('C')\n",
        "D = Frame('D')\n",
        "E = Frame('E')"
      ],
      "id": "beginning-middle",
      "execution_count": null,
      "outputs": []
    },
    {
      "cell_type": "code",
      "metadata": {
        "id": "under-equality"
      },
      "source": [
        "system.set_newtonian(N)"
      ],
      "id": "under-equality",
      "execution_count": null,
      "outputs": []
    },
    {
      "cell_type": "code",
      "metadata": {
        "id": "industrial-receiver"
      },
      "source": [
        "#if not global_q:\n",
        "A.rotate_fixed_axis_directed(N,[0,0,1],qA,system)\n",
        "B.rotate_fixed_axis_directed(A,[0,0,1],qB,system)\n",
        "C.rotate_fixed_axis_directed(B,[0,0,1],qC,system)\n",
        "D.rotate_fixed_axis_directed(C,[0,0,1],qD,system)\n",
        "E.rotate_fixed_axis_directed(D,[0,0,1],qE,system)\n",
        "#else:\n",
        "    #A.rotate_fixed_axis_directed(N,[0,0,1],qA,system)\n",
        "    #B.rotate_fixed_axis_directed(N,[0,0,1],qB,system)\n",
        "    #C.rotate_fixed_axis_directed(N,[0,0,1],qC,system)\n",
        "    #D.rotate_fixed_axis_directed(N,[0,0,1],qD,system)\n",
        "    #E.rotate_fixed_axis_directed(N,[0,0,1],qE,system)"
      ],
      "id": "industrial-receiver",
      "execution_count": null,
      "outputs": []
    },
    {
      "cell_type": "code",
      "metadata": {
        "id": "sacred-rhythm"
      },
      "source": [
        "pN0 = 0*N.x\r\n",
        "p01 = pN0 + lA*A.x\r\n",
        "p12 = p01 + lB*B.x\r\n",
        "p04 = pN0 + lE*E.x\r\n",
        "p43 = p04 + lC*C.x\r\n",
        "p32 = p43 + lD*D.x\r\n",
        "pAcm=pN0+lA/2*A.x\r\n",
        "pBcm=p01+lB/2*B.x\r\n",
        "pCcm=p12+lC/2*C.x"
      ],
      "id": "sacred-rhythm",
      "execution_count": null,
      "outputs": []
    },
    {
      "cell_type": "code",
      "metadata": {
        "id": "second-habitat",
        "colab": {
          "base_uri": "https://localhost:8080/",
          "height": 136
        },
        "outputId": "9f079e4a-67d8-4d0c-f67f-5edf613a6c42"
      },
      "source": [
        "Hi friends"
      ],
      "id": "second-habitat",
      "execution_count": null,
      "outputs": [
        {
          "output_type": "error",
          "ename": "SyntaxError",
          "evalue": "ignored",
          "traceback": [
            "\u001b[0;36m  File \u001b[0;32m\"<ipython-input-37-efe4bc324c07>\"\u001b[0;36m, line \u001b[0;32m1\u001b[0m\n\u001b[0;31m    Hi friends\u001b[0m\n\u001b[0m             ^\u001b[0m\n\u001b[0;31mSyntaxError\u001b[0m\u001b[0;31m:\u001b[0m invalid syntax\n"
          ]
        }
      ]
    },
    {
      "cell_type": "code",
      "metadata": {
        "id": "emerging-confusion"
      },
      "source": [
        "Herro"
      ],
      "id": "emerging-confusion",
      "execution_count": null,
      "outputs": []
    },
    {
      "cell_type": "code",
      "metadata": {
        "id": "induced-scientist"
      },
      "source": [
        ""
      ],
      "id": "induced-scientist",
      "execution_count": null,
      "outputs": []
    },
    {
      "cell_type": "code",
      "metadata": {
        "id": "living-breed"
      },
      "source": [
        ""
      ],
      "id": "living-breed",
      "execution_count": null,
      "outputs": []
    },
    {
      "cell_type": "code",
      "metadata": {
        "id": "retained-missile"
      },
      "source": [
        ""
      ],
      "id": "retained-missile",
      "execution_count": null,
      "outputs": []
    },
    {
      "cell_type": "markdown",
      "metadata": {
        "id": "declared-wisdom"
      },
      "source": [
        "4. Select or Solve for a valid initial condition that represents the system in the middle of a typical gait, when it is both moving and when forces are being applied to it (or to the world by it)\n",
        "\n",
        "    Despite the fact that you will be using a symbolic representation, you still need to solve for a valid initial condition if your device is a “parallel mechanism.” This may be done using a nonlinear solver such as scipy.optimize.minimize"
      ],
      "id": "declared-wisdom"
    },
    {
      "cell_type": "code",
      "metadata": {
        "id": "closing-determination"
      },
      "source": [
        "dL1 = 50\n",
        "dL2 = 50\n",
        "dL3 = 55\n",
        "dL4 = 50\n",
        "dL5 = 10\n",
        "dp0 = 0,0\n",
        "\n",
        "dex = 90\n",
        "dey = 0"
      ],
      "id": "closing-determination",
      "execution_count": null,
      "outputs": []
    },
    {
      "cell_type": "code",
      "metadata": {
        "id": "thrown-plenty"
      },
      "source": [
        "def obj_fun(variables):\n",
        "\n",
        "    x0,y0,x1,y1,x2,y2,x3,y3,x4,y4 = variables\n",
        "    p0 = numpy.array([x0,y0])\n",
        "    p1 = numpy.array([x1,y1])\n",
        "    p2 = numpy.array([x2,y2])\n",
        "    p3 = numpy.array([x3,y3])\n",
        "    p4 = numpy.array([x4,y4])\n",
        "    \n",
        "    v0 = p0 - dp0\n",
        "    v1 = p1 - p0\n",
        "    v2 = p2 - p1\n",
        "    v3 = p3 - p2\n",
        "    v4 = p4 - p3\n",
        "    v5 = p0 - p4\n",
        "    \n",
        "    L0 = (v0.dot(v0))**.5\n",
        "    L1 = (v1.dot(v1))**.5\n",
        "    L2 = (v2.dot(v2))**.5\n",
        "    L3 = (v3.dot(v3))**.5\n",
        "    L4 = (v4.dot(v4))**.5\n",
        "    L5 = (v5.dot(v5))**.5\n",
        "    \n",
        "    error = []\n",
        "    error.append(L1-dL1)\n",
        "    error.append(L2-dL2)\n",
        "    error.append(L3-dL3)\n",
        "    error.append(L4-dL4)\n",
        "    error.append(L5-dL5)\n",
        "    error.append(L0)\n",
        "    error.append(x4)\n",
        "    \n",
        "    # end effector\n",
        "    error.append(x2-dex)\n",
        "    error.append(y2-dey)\n",
        "   \n",
        "    error = numpy.array(error)\n",
        "    error = (error.dot(error))**.5\n",
        "    return error"
      ],
      "id": "thrown-plenty",
      "execution_count": null,
      "outputs": []
    },
    {
      "cell_type": "code",
      "metadata": {
        "id": "senior-biology",
        "outputId": "402b4729-1cb5-405a-95a6-28fed6dfcf7a"
      },
      "source": [
        "ini = [0, 0, 50, 8, 100, 0, 50, 22, 0, 10]\n",
        "result = scipy.optimize.minimize(obj_fun,ini)\n",
        "print(result.fun)"
      ],
      "id": "senior-biology",
      "execution_count": null,
      "outputs": [
        {
          "output_type": "stream",
          "text": [
            "5.535714777585825e-08\n"
          ],
          "name": "stdout"
        }
      ]
    },
    {
      "cell_type": "markdown",
      "metadata": {
        "id": "amazing-bicycle"
      },
      "source": [
        "5. Plot the system in this position."
      ],
      "id": "amazing-bicycle"
    },
    {
      "cell_type": "code",
      "metadata": {
        "id": "smaller-alarm",
        "outputId": "0fe94b25-4390-4e07-b3f3-f60c463bb8e8"
      },
      "source": [
        "# plot\n",
        "p = result.x.reshape((5,2))\n",
        "plot_lines = numpy.concatenate((p,p[0:1]),0)\n",
        "plt.plot(*(plot_lines.T))\n",
        "plt.axis('equal')\n",
        "for ii,item in enumerate(p):\n",
        "    plt.text(item[0],item[1],'p'+str(ii))"
      ],
      "id": "smaller-alarm",
      "execution_count": null,
      "outputs": [
        {
          "output_type": "display_data",
          "data": {
            "image/png": "[encoded data removed]",
            "text/plain": [
              "<Figure size 432x288 with 1 Axes>"
            ]
          },
          "metadata": {
            "tags": [],
            "needs_background": "light"
          }
        }
      ]
    },
    {
      "cell_type": "markdown",
      "metadata": {
        "id": "compliant-abortion"
      },
      "source": [
        "6. From your biomechanics-based specifications, define one or more force vector estimates (one for each end effector) that the system should be expected to experience. Consider including, based on your research\n",
        "\n",
        "    1. the force of gravity exerted by the mass of a “payload” or the main body of the robot.\n",
        "\n",
        "    2. the acceleration the system experiences during a typical gait\n",
        "    \n",
        "    3. ground reaction forces measured from biomechanics studies."
      ],
      "id": "compliant-abortion"
    },
    {
      "cell_type": "code",
      "metadata": {
        "id": "advance-telephone"
      },
      "source": [
        ""
      ],
      "id": "advance-telephone",
      "execution_count": null,
      "outputs": []
    },
    {
      "cell_type": "markdown",
      "metadata": {
        "id": "controlled-subsection"
      },
      "source": [
        "7. Calculate the force or torque required at the input to satisfy the end-effector force requirements"
      ],
      "id": "controlled-subsection"
    },
    {
      "cell_type": "code",
      "metadata": {
        "id": "neutral-comedy"
      },
      "source": [
        ""
      ],
      "id": "neutral-comedy",
      "execution_count": null,
      "outputs": []
    },
    {
      "cell_type": "markdown",
      "metadata": {
        "id": "explicit-graham"
      },
      "source": [
        "8. Estimate the velocity of the end-effector in this configuration. Using the Jacobian, calculate the speed required by the input(s) to achieve that output motion.\n",
        "\n",
        "    This may not be directly solvable based on your device kinematics; an iterative guess-and-check approach is ok."
      ],
      "id": "explicit-graham"
    },
    {
      "cell_type": "code",
      "metadata": {
        "id": "relevant-dutch"
      },
      "source": [
        ""
      ],
      "id": "relevant-dutch",
      "execution_count": null,
      "outputs": []
    },
    {
      "cell_type": "markdown",
      "metadata": {
        "id": "nuclear-outside"
      },
      "source": [
        "9. Finally, using the two estimates about force and speed at the input, compute the required power in this configuration."
      ],
      "id": "nuclear-outside"
    },
    {
      "cell_type": "code",
      "metadata": {
        "id": "nervous-thunder"
      },
      "source": [
        ""
      ],
      "id": "nervous-thunder",
      "execution_count": null,
      "outputs": []
    }
  ]
}